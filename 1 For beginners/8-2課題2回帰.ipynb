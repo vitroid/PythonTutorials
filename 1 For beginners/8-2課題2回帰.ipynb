{
  "nbformat": 4,
  "nbformat_minor": 0,
  "metadata": {
    "kernelspec": {
      "display_name": "Python 3",
      "language": "python",
      "name": "python3"
    },
    "language_info": {
      "codemirror_mode": {
        "name": "ipython",
        "version": 3
      },
      "file_extension": ".py",
      "mimetype": "text/x-python",
      "name": "python",
      "nbconvert_exporter": "python",
      "pygments_lexer": "ipython3",
      "version": "3.6.0"
    },
    "colab": {
      "name": "8-2課題2回帰.ipynb",
      "provenance": [],
      "include_colab_link": true
    }
  },
  "cells": [
    {
      "cell_type": "markdown",
      "metadata": {
        "id": "view-in-github",
        "colab_type": "text"
      },
      "source": [
        "<a href=\"https://colab.research.google.com/github/vitroid/PythonTutorials/blob/2020b3/1%20For%20beginners/8-2%E8%AA%B2%E9%A1%8C2%E5%9B%9E%E5%B8%B0.ipynb\" target=\"_parent\"><img src=\"https://colab.research.google.com/assets/colab-badge.svg\" alt=\"Open In Colab\"/></a>"
      ]
    },
    {
      "cell_type": "markdown",
      "metadata": {
        "id": "-WWzR8r0Mfw8",
        "colab_type": "text"
      },
      "source": [
        "条件をいろいろ変えながら、実験を行い、測定すると、条件にあわせて測定値が変動します。このような、条件(=入力)と測定結果(=出力)の間にもし直線的な相関が見付けられれば、すべての条件で実験を行わなくても、結果が予想できるようになります。グラフ用紙に、実験条件を横軸に、実験結果を縦軸にとって、入力と出力の対応をプロットすると、散布図が得られますが、散布図が直線的に広がっているなら、直線で近似するのはまあ妥当と考えられるでしょう。\n",
        "\n",
        "この時、直線はどのように引けば一番もっともらしいと言えるでしょうか。\n",
        "\n",
        "ここでも、線の引き方にはいろいろ選択肢がありますが、ここでは、一番計算が簡単になるようなケースだけを説明します。まず、横軸にとる実験条件の数値$x_i$の測定精度は、縦軸の実験値$y_i$の測定精度に比べて十分に高いこと、そして、実験条件$x_i$の値によらず、実験値$y_i$ は同じ程度にばらついていることを仮定します。そして、仮に直線$y = a x + b$を引いた時に、 $x_i$ での直線上の点$y_i’ = a x_i + b$と、実際の実験値$y_i$の違いが一番小さくなるように、直線の傾き$a$と切片$b$を選ぶのです。\n",
        "\n",
        "実験データの点の分布と、仮に引いた直線とのずれの大きさを次の量$E$ではかることにします。\n",
        "$$E=\\sum_{i=1}^{N}(y'_i-y_i)^2$$\n",
        "二乗をつけてあるのは、直線に対して実験値が上にある場合も下にある場合もあり、ずれが大きいほど、より大きな値にあるようにしたいからです。(もちろん、ほかの関数を使うこともできますが、あとの計算が少し面倒になります。)\n",
        "\n",
        "$E$ が極小値をとるような $a$ と $b$ は、$E$を $a$ と $b$ で偏微分することで求められます。\n",
        "$$\\frac{\\partial E}{\\partial a}=0$$\n",
        "$$\\frac{\\partial E}{\\partial b}=0$$\n",
        "偏微分を実行する前に、$E$を展開しておきます。\n",
        "$$E=\\sum_{i=1}^{N}(y'_i-y_i)^2$$\n",
        "$$=\\sum_{i=1}^{N}(ax_i+b-y_i)^2$$\n",
        "$$=\\sum_{i=1}^{N}(a^2x_i^2+b^2+y_i^2+2abx_i-2by_i-2ax_iy_i)$$\n",
        "$$=a^2\\sum_{i=1}^{N}x_i^2+Nb^2+\\sum_{i=1}^{N}y_i^2+2ab\\sum_{i=1}^{N}x_i-2b\\sum_{i=1}^{N}y_i-2a\\sum_{i=1}^{N}x_iy_i$$\n",
        "面倒なので、$x_i$ の二乗和$\\sum_{i=1}^{N}x_i^2$を、$[x^2]$などと書くことにすると、\n",
        "$$E=a^2[x^2]+Nb^2+[y^2]+2ab[x]-2b[y]-2a[xy]$$\n",
        "と書けます。ここまで展開しておけば、aとbで偏微分するのは簡単です。\n",
        "$$\\frac{\\partial E}{\\partial a}=2a[x^2]+2b[x]-2[xy]=0$$\n",
        "$$\\frac{\\partial E}{\\partial b}=2Nb+2a[x]-2[y]=0$$\n",
        "\n",
        "**課題のまえの準備:これらの連立方程式を解いて、aとbを求めて下さい。(手作業)**\n",
        "\n"
      ]
    },
    {
      "cell_type": "markdown",
      "metadata": {
        "id": "gzI7Z8PmNWvQ",
        "colab_type": "text"
      },
      "source": [
        "つまり、直線の切片$b$と傾き$a$は、次の5つの量を計算すれば、簡単に決まります。\n",
        "\n",
        "1. 実験条件 $x_i$ の総和 $[x]$\n",
        "2. 実験条件 $x_i$ の二乗の総和 $[x^2]$\n",
        "3. 実験値 $y_i$ の総和 $[y]$\n",
        "4. 実験条件 $x_i$ と実験値 $y_i$ の積の総和 $[xy]$\n",
        "5. 実験値の個数 $N$\n",
        "\n",
        "このように、ちらばったデータを、直線で近似することを線形回帰(linear regression)と呼びます。直線ではなく二次曲線や、その他一般的な曲線で回帰する場合も、手続きは全く同じです。ただ、回帰する関数の変数が多くなると、未知パラメータが増え、偏微分の式の項数が増えるので、連立方程式を解くのが多少難しくなります。\n",
        "\n",
        "直線で回帰する場合でも、その直線の傾きがあらかじめわかっている場合には、$a$ は定数になりますから、解くべき微分方程式は1つだけになります。切片があらかじめわかっている場合にも同様です。例えば、一定量の気体の、いくつかの温度での、圧力の実測値のデータを得て、それをもとに気体の分子数を逆算する問題を考えます。シャルルの法則によれば、圧力は絶対温度に比例するはずですから、横軸に絶対温度、縦軸に圧力をとれば、回帰直線は原点(切片0)を通らなければなりません。$b = 0$を代入した上で、$E$を直線の傾き $a$ で偏微分すると、\n",
        "$$\\frac{\\partial E}{\\partial a}=2a[x^2]-2[xy]=0$$\n",
        "という簡単な式が1つだけ得られます。つまり、直線の傾きは $a = [xy] / [x^2]$ で求められます。そして、傾きから、アボガドロの法則により分子数が求まります。\n",
        "\n",
        "このように、どんな関数で回帰すべきなのか(一般直線でいいのか、原点を通る直線なのか、あるいは二次曲線や指数関数のほうがいいのか)、その場合に、$a$ や $b$ といったパラメータが、回帰で推定しなければいけない量なのか、あらかじめ固定されている量なのかをよく考えてから計算をするようにしましょう。そうでないと、意味不明の統計量が得られることになります。\n"
      ]
    },
    {
      "cell_type": "markdown",
      "metadata": {
        "id": "mquoOGlaMpip",
        "colab_type": "text"
      },
      "source": [
        "## プログラム課題2\n",
        "\n",
        "1. 実験条件と実験値の対が書かれたサンプルデータ`sample3short.txt`を読みこんで、上の5つの量を計算するプログラムを作ってください。 \n",
        "2. 上の量を使ってサンプルデータを直線 $y = a x + b$ で近似した場合のaとbを求め表示して下さい。\n",
        "3. 原点を通る直線 $y = c x$ で近似する場合の $c$ も求めるように書き加えて下さい。($a = -3.32$、$b = 1.98$、 $c = -2.76$程度になるはず)\n",
        "4. `sample3short.txt`での計算がうまくいったら、`sample3.txt`で同じように計算して$a$, $b$, $c$を求めて下さい。\n",
        "5. 余力があれば、`sample3.txt`のグラフと回帰直線(原点を通らない場合と通る場合)のグラフを重ねてプロットして下さい。\n",
        "\n",
        "### 提出するもの\n",
        "\n",
        "`sample3.txt`を読みこみ$a$, $b$, $c$が表示されるプログラムと説明\n",
        "\n",
        "### 提出方法\n",
        "\n",
        "プログラム課題1と同じです。"
      ]
    },
    {
      "cell_type": "code",
      "metadata": {
        "id": "QPvPpLNfMfxI",
        "colab_type": "code",
        "colab": {}
      },
      "source": [
        "from google.colab import drive\n",
        "drive.mount('/content/drive')"
      ],
      "execution_count": 0,
      "outputs": []
    },
    {
      "cell_type": "code",
      "metadata": {
        "id": "4a9nTW4cdr2f",
        "colab_type": "code",
        "colab": {}
      },
      "source": [
        "# Google Drive内のsample3short.txtを読みこみます。\n",
        "file = open(\"drive/My Drive/sample3short.txt\")\n",
        "lines = file.readlines()\n",
        "# 読んだ内容を確認\n",
        "print(lines)\n",
        "\n",
        "# つづきを書いて下さい。"
      ],
      "execution_count": 0,
      "outputs": []
    },
    {
      "cell_type": "markdown",
      "metadata": {
        "id": "cO_HMyfDd2Oq",
        "colab_type": "text"
      },
      "source": [
        "**結果**\n",
        "\n",
        "計算結果をここに書いて下さい。\n",
        "\n",
        "sample3long.txt\n",
        "* a \n",
        "* b \n",
        "* c "
      ]
    }
  ]
}
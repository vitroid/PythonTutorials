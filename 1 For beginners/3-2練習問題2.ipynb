{
  "nbformat": 4,
  "nbformat_minor": 0,
  "metadata": {
    "kernelspec": {
      "display_name": "Python 3",
      "language": "python",
      "name": "python3"
    },
    "language_info": {
      "codemirror_mode": {
        "name": "ipython",
        "version": 3
      },
      "file_extension": ".py",
      "mimetype": "text/x-python",
      "name": "python",
      "nbconvert_exporter": "python",
      "pygments_lexer": "ipython3",
      "version": "3.6.0"
    },
    "colab": {
      "name": "3-2練習問題2.ipynb",
      "provenance": [],
      "include_colab_link": true
    }
  },
  "cells": [
    {
      "cell_type": "markdown",
      "metadata": {
        "id": "view-in-github",
        "colab_type": "text"
      },
      "source": [
        "<a href=\"https://colab.research.google.com/github/vitroid/PythonTutorials/blob/2020b3/1%20For%20beginners/3-2%E7%B7%B4%E7%BF%92%E5%95%8F%E9%A1%8C2.ipynb\" target=\"_parent\"><img src=\"https://colab.research.google.com/assets/colab-badge.svg\" alt=\"Open In Colab\"/></a>"
      ]
    },
    {
      "cell_type": "markdown",
      "metadata": {
        "id": "aZxo97UPH96k",
        "colab_type": "text"
      },
      "source": [
        "# 練習問題2\n",
        "ある数字が素数かどうかを判定するには、その数字よりも小さいすべての数字で順番に割ってみればよいのですが、例えば100以下の素数をすべて求めなさい、と言われた時に、いちいち割り算をしていたのでは大変な手間がかかります。古代ギリシャのエラトステネスは、素数をたくさん見付けだす便利な方法を思いつきました。まずは、この方法を紙と鉛筆で試してみましょう。\n",
        "\n",
        "1. まず、2から100までの数字をノートに並べる。\n",
        "2. 2の倍数(4、6、8、…)に×を書く。ただし、2には×をつけない。これで、3から100までの数字のうち、偶数にすべて×がついた。\n",
        "3. 次に、3の倍数(6、9、12、…)に×を書く。ただし3には×をつけない。\n",
        "4. 以後、小さい順に×のついていない数字を見付けては、その倍数(それ自身は除く)に×を書いていくと、×のついていない数字が素数となる。\n",
        "\n",
        "この手順をPythonで書いてみましょう。ノートに書いた2から100までの数字の代わりに、要素数101のリストprimeを作ります。(ただし、0番目と1番目の要素は使いません。)\n",
        "primeの要素はあらかじめ全部0にしておきます。"
      ]
    },
    {
      "cell_type": "code",
      "metadata": {
        "id": "n4WSIbReH961",
        "colab_type": "code",
        "colab": {}
      },
      "source": [
        "prime=[0] * 101"
      ],
      "execution_count": 0,
      "outputs": []
    },
    {
      "cell_type": "markdown",
      "metadata": {
        "id": "JzhzsI8NH99S",
        "colab_type": "text"
      },
      "source": [
        "まず、2の倍数を消しさる手続きをプログラムします。2の倍数に×を書く代わりに、リストprimeの2の倍数番目の要素に1を入れます。3引数のrange関数が便利に使えます。"
      ]
    },
    {
      "cell_type": "code",
      "metadata": {
        "id": "bIHWa1a1H99V",
        "colab_type": "code",
        "colab": {}
      },
      "source": [
        "n=2\n",
        "for i in range(n*2, 101, n):\n",
        "    prime[i] = 1"
      ],
      "execution_count": 0,
      "outputs": []
    },
    {
      "cell_type": "markdown",
      "metadata": {
        "id": "3JxT2m1yH9-k",
        "colab_type": "text"
      },
      "source": [
        "range()の中身がややこしいですが、n=2なので、iは4から1つとばしで100まで変化します。どんな風に動いているのかが気になるなら、print文を書き足して途中の数字を覗いてみて下さい。"
      ]
    },
    {
      "cell_type": "code",
      "metadata": {
        "id": "ivxna5PLH9-s",
        "colab_type": "code",
        "colab": {}
      },
      "source": [
        "n=2\n",
        "for i in range(n*2, 101, n):\n",
        "    print(i)\n",
        "    prime[i] = 1"
      ],
      "execution_count": 0,
      "outputs": []
    },
    {
      "cell_type": "markdown",
      "metadata": {
        "id": "v8UktARFH9--",
        "colab_type": "text"
      },
      "source": [
        "これで、配列の偶数番目の要素(2を除く)は全部1になりました。 次に、3の倍数について、上と同様の処理を行います。\n",
        "\n",
        "同じように4、5、6、....の倍数について同じ処理を繰り返します。最終的に配列primeの100個の要素のうち、値が0の要素が素数となります。(nを増やしながら繰り返す部分は自分で考えてみて下さい。)\n",
        "\n",
        "最後に、次のようにして素数だけを表示します。"
      ]
    },
    {
      "cell_type": "code",
      "metadata": {
        "id": "AaMQ72isH9_B",
        "colab_type": "code",
        "colab": {}
      },
      "source": [
        "for i in range(2, 101):\n",
        "    if prime[i] ==0:\n",
        "        print(i)"
      ],
      "execution_count": 0,
      "outputs": []
    },
    {
      "cell_type": "markdown",
      "metadata": {
        "id": "xpH623QiH9_q",
        "colab_type": "text"
      },
      "source": [
        "これを全部書きならべると、次のようになります。"
      ]
    },
    {
      "cell_type": "code",
      "metadata": {
        "id": "P0DfF0G6H9_q",
        "colab_type": "code",
        "colab": {}
      },
      "source": [
        "prime=[0] * 101\n",
        "\n",
        "n=2\n",
        "for i in range(n*2, 101, n):\n",
        "    prime[i] = 1\n",
        "\n",
        "n=3\n",
        "for i in range(n*2, 101, n):\n",
        "    prime[i] = 1\n",
        "\n",
        "n=4\n",
        "for i in range(n*2, 101, n):\n",
        "    prime[i] = 1\n",
        "\n",
        "n=5\n",
        "for i in range(n*2, 101, n):\n",
        "    prime[i] = 1\n",
        "\n",
        "n=6\n",
        "for i in range(n*2, 101, n):\n",
        "    prime[i] = 1\n",
        "\n",
        "n=7\n",
        "for i in range(n*2, 101, n):\n",
        "    prime[i] = 1\n",
        "\n",
        "n=8\n",
        "for i in range(n*2, 101, n):\n",
        "    prime[i] = 1\n",
        "\n",
        "n=9\n",
        "for i in range(n*2, 101, n):\n",
        "    prime[i] = 1\n",
        "\n",
        "for i in range(2, 101):\n",
        "    if prime[i] ==0:\n",
        "        print(i)"
      ],
      "execution_count": 0,
      "outputs": []
    },
    {
      "cell_type": "markdown",
      "metadata": {
        "id": "vak1HDi1H-A5",
        "colab_type": "text"
      },
      "source": [
        "でも、まだこの中で、繰り返しにできそうな部分がありますよね? もっと短く書けないでしょうか。"
      ]
    },
    {
      "cell_type": "markdown",
      "metadata": {
        "id": "WTehe6W0H-BS",
        "colab_type": "text"
      },
      "source": [
        "ヒント：プログラムが思った通りに動いているかどうかを確認するために、\n",
        "\n",
        "* まず20までの素数を求めるプログラムを作ってみる。\n",
        "* 各ステップで、primeをプリントし、思った通りに1と0が入っているかを随時チェックする。\n",
        "\n",
        "といったことを心掛けると、プログラムの誤動作を防げます。"
      ]
    },
    {
      "cell_type": "code",
      "metadata": {
        "id": "oh9vCgxDH-BW",
        "colab_type": "code",
        "colab": {}
      },
      "source": [
        ""
      ],
      "execution_count": 0,
      "outputs": []
    }
  ]
}
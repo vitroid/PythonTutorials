{
  "nbformat": 4,
  "nbformat_minor": 0,
  "metadata": {
    "kernelspec": {
      "display_name": "Python 3",
      "language": "python",
      "name": "python3"
    },
    "language_info": {
      "codemirror_mode": {
        "name": "ipython",
        "version": 3
      },
      "file_extension": ".py",
      "mimetype": "text/x-python",
      "name": "python",
      "nbconvert_exporter": "python",
      "pygments_lexer": "ipython3",
      "version": "3.6.0"
    },
    "colab": {
      "name": "2-5練習問題1.ipynb",
      "provenance": [],
      "include_colab_link": true
    }
  },
  "cells": [
    {
      "cell_type": "markdown",
      "metadata": {
        "id": "view-in-github",
        "colab_type": "text"
      },
      "source": [
        "<a href=\"https://colab.research.google.com/github/vitroid/PythonTutorials/blob/2021/1%20For%20beginners/2-5%E7%B7%B4%E7%BF%92%E5%95%8F%E9%A1%8C1.ipynb\" target=\"_parent\"><img src=\"https://colab.research.google.com/assets/colab-badge.svg\" alt=\"Open In Colab\"/></a>"
      ]
    },
    {
      "cell_type": "markdown",
      "metadata": {
        "id": "ltQl9c3y437h"
      },
      "source": [
        "# Practice 1\n",
        "iを1から100まで、jを1から100まで変えながら、x=i\\*i+j\\*jを計算し、i, jそれぞれの組み合わせについて、xが平方数であればi,j,xを表示するようなプログラムを作って下さい。平方数とは、整数の二乗であるような数のことです。\n",
        "\n",
        "ある数字xが平方数かどうかを判定するには、次のような計算をします。 \n",
        "\n",
        "* まず、xの平方根を求めるには数学関数`sqrt()`を使うので、あらかじめmathモジュールをプログラム先頭で読みこんでおきます。(`sqrt(x)`の代わりに`x**0.5`でも平方根を計算できます)"
      ]
    },
    {
      "cell_type": "code",
      "metadata": {
        "id": "pWfHkzL-437j"
      },
      "source": [
        "from math import *"
      ],
      "execution_count": null,
      "outputs": []
    },
    {
      "cell_type": "markdown",
      "metadata": {
        "id": "nuHBFfe3437v"
      },
      "source": [
        "* 次に、xの平方根を変数yに入れます。"
      ]
    },
    {
      "cell_type": "code",
      "metadata": {
        "id": "zcGx4ZDg437x"
      },
      "source": [
        "y = sqrt(x)"
      ],
      "execution_count": null,
      "outputs": []
    },
    {
      "cell_type": "markdown",
      "metadata": {
        "id": "FnYCS2U5438N"
      },
      "source": [
        "* xが平方数であれば、yの小数点以下は0のはず。小数点以下を切り捨てる関数int(y)を使い、yとint(y)が等しいかどうかを調べれば、xが平方数かどうかがわかります。この部分だけをpythonで書くと、次のようになります。\n",
        "    ```python\n",
        "if y == int(y):\n",
        "    print(i,j,x)\n",
        "```"
      ]
    },
    {
      "cell_type": "markdown",
      "metadata": {
        "id": "VfMjx2tx438R"
      },
      "source": [
        "この処理を、iを1から100まで、jも1から100まで変化させながら繰り返せばよいのです。九九の表のプログラムが参考になるでしょう。ただ、はじめから10000回の計算を行うと失敗する可能性が高いので、まずはi、jともに1から10まで繰りかえすことにします。\n",
        "\n",
        "日本語で書くなら、\n",
        "```python\n",
        "from math import *\n",
        "iを1から10まで変化させながら、:\n",
        "    jを1から10まで変化させながら、:\n",
        "        xにi*i+j*jの値を入れなさい。\n",
        "        yにxの平方根を入れなさい。\n",
        "        もし y が int(y)  に等しい なら:\n",
        "            iとjとxの値を表示しなさい。\n",
        "```\n",
        "となります。これを、ここまでで出てきたPythonの構文を使って書いてみて下さい。\n"
      ]
    },
    {
      "cell_type": "code",
      "metadata": {
        "id": "6mNv7TVU438g"
      },
      "source": [
        ""
      ],
      "execution_count": null,
      "outputs": []
    }
  ]
}
{
 "cells": [
  {
   "cell_type": "markdown",
   "metadata": {},
   "source": [
    "# 練習問題1\n",
    "iを1から100まで、jを1から100まで変えながら、x=i\\*i+j\\*jを計算し、i, jそれぞれの組み合わせについて、xが平方数であればi,j,xを表示するようなプログラムを作って下さい。平方数とは、整数の二乗であるような数のことです。\n",
    "\n",
    "ある数字xが平方数かどうかを判定するには、次のような計算をします。 \n",
    "\n",
    "* まず、xの平方根を求めるには数学関数sqrt()を使うので、あらかじめmathモジュールをプログラム先頭で読みこんでおきます。"
   ]
  },
  {
   "cell_type": "code",
   "execution_count": null,
   "metadata": {
    "collapsed": true
   },
   "outputs": [],
   "source": [
    "from math import *"
   ]
  },
  {
   "cell_type": "markdown",
   "metadata": {},
   "source": [
    "* 次に、xの平方根を変数yに入れます。"
   ]
  },
  {
   "cell_type": "code",
   "execution_count": null,
   "metadata": {
    "collapsed": true
   },
   "outputs": [],
   "source": [
    "y = sqrt(x)"
   ]
  },
  {
   "cell_type": "markdown",
   "metadata": {},
   "source": [
    "* xが平方数であれば、yの小数点以下は0のはず。小数点以下を切り捨てる関数int(y)を使い、yとint(y)が等しいかどうかを調べれば、xが平方数かどうかがわかります。この部分だけをpythonで書くと、次のようになります。"
   ]
  },
  {
   "cell_type": "raw",
   "metadata": {
    "collapsed": true
   },
   "source": [
    "if y == int(y):\n",
    "    print(i,j,x)"
   ]
  },
  {
   "cell_type": "markdown",
   "metadata": {},
   "source": [
    "この処理を、iを1から100まで、jも1から100まで変化させながら繰り返せばよいのです。九九の表のプログラムが参考になるでしょう。ただ、はじめから10000回の計算を行うと失敗する可能性が高いので、まずはi、jともに1から10まで繰りかえすことにします。\n",
    "\n",
    "日本語で書くなら、"
   ]
  },
  {
   "cell_type": "code",
   "execution_count": null,
   "metadata": {
    "collapsed": true
   },
   "outputs": [],
   "source": [
    "from math import *\n",
    "iを1から10まで変化させながら、:\n",
    "    jを1から10まで変化させながら、:\n",
    "        xにi*i+j*jの値を入れなさい。\n",
    "        yにxの平方根を入れなさい。\n",
    "        もし y が int(y)  に等しい なら:\n",
    "            iとjとxの値を表示しなさい。"
   ]
  },
  {
   "cell_type": "markdown",
   "metadata": {},
   "source": [
    "となります。これを、ここまでで出てきたPythonの構文を使って書いてみて下さい。わからなければ遠慮なく松本かTAに聞いて下さい。"
   ]
  },
  {
   "cell_type": "code",
   "execution_count": null,
   "metadata": {
    "collapsed": true
   },
   "outputs": [],
   "source": []
  }
 ],
 "metadata": {
  "kernelspec": {
   "display_name": "Python 3",
   "language": "python",
   "name": "python3"
  },
  "language_info": {
   "codemirror_mode": {
    "name": "ipython",
    "version": 3
   },
   "file_extension": ".py",
   "mimetype": "text/x-python",
   "name": "python",
   "nbconvert_exporter": "python",
   "pygments_lexer": "ipython3",
   "version": "3.6.0"
  }
 },
 "nbformat": 4,
 "nbformat_minor": 0
}

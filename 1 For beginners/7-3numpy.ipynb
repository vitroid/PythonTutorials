{
  "nbformat": 4,
  "nbformat_minor": 0,
  "metadata": {
    "kernelspec": {
      "display_name": "Python 3",
      "language": "python",
      "name": "python3"
    },
    "language_info": {
      "codemirror_mode": {
        "name": "ipython",
        "version": 3
      },
      "file_extension": ".py",
      "mimetype": "text/x-python",
      "name": "python",
      "nbconvert_exporter": "python",
      "pygments_lexer": "ipython3",
      "version": "3.7.3"
    },
    "colab": {
      "name": "050numpy.ipynb",
      "provenance": [],
      "toc_visible": true,
      "include_colab_link": true
    }
  },
  "cells": [
    {
      "cell_type": "markdown",
      "metadata": {
        "id": "view-in-github",
        "colab_type": "text"
      },
      "source": [
        "<a href=\"https://colab.research.google.com/github/vitroid/PythonTutorials/blob/2021/1%20For%20beginners/7-3numpy.ipynb\" target=\"_parent\"><img src=\"https://colab.research.google.com/assets/colab-badge.svg\" alt=\"Open In Colab\"/></a>"
      ]
    },
    {
      "cell_type": "markdown",
      "metadata": {
        "id": "9hltD5LNWDOP"
      },
      "source": [
        "<!-- Advancedの050numpyの簡略版 -->\n",
        "\n",
        "# numpyを使う Use numpy\n",
        "Numpyは行列計算を含む、高度な数値計算を高速に行うライブラリで、これを使うと、行列計算の関数は自作する必要がまったくなくなります。(とはいえ、スキルを上げるためには、自分で書けたほうが良いです)\n",
        "Pythonの実用的なライブラリ(画像処理、機械学習、統計など)のほとんどはnumpyをつかって作られています。もしnumpyがなかったなら、Pythonがここまで普及することもなかったと思います。\n"
      ]
    },
    {
      "cell_type": "markdown",
      "metadata": {
        "id": "vKiQWS9QWDOS"
      },
      "source": [
        "### ベクトル Vector\n",
        "numpyには、arrayと呼ばれる、リストに似たデータ形式があります。違うのは、arrayには同じ種類のデータしか入れられない点です。実際のところ、実数のlistは簡単にarrayに変換できます。\n"
      ]
    },
    {
      "cell_type": "code",
      "metadata": {
        "id": "fwNKoE0uWDOU"
      },
      "source": [
        "import numpy as np\n",
        "\n",
        "L = [1.0,2.0,3.0]\n",
        "vector = np.array(L)\n",
        "vector"
      ],
      "execution_count": null,
      "outputs": []
    },
    {
      "cell_type": "markdown",
      "metadata": {
        "id": "Wq5dqRQLWYyR"
      },
      "source": [
        "データが混在していると?"
      ]
    },
    {
      "cell_type": "code",
      "metadata": {
        "id": "pdzffJAyWbkK"
      },
      "source": [
        "D = [1.0, 12, \"A\"]\n",
        "vector2 = np.array(D)\n",
        "vector2"
      ],
      "execution_count": null,
      "outputs": []
    },
    {
      "cell_type": "markdown",
      "metadata": {
        "id": "Jmg-2DP2WvEp"
      },
      "source": [
        "全部文字列にされてしまいました。"
      ]
    },
    {
      "cell_type": "markdown",
      "metadata": {
        "id": "qohQs1teWDOk"
      },
      "source": [
        "要素が0や1ばかりのarrayを作る便利な関数があります。\n"
      ]
    },
    {
      "cell_type": "code",
      "metadata": {
        "id": "F2L3MO5vWDOn"
      },
      "source": [
        "zero = np.zeros(10)\n",
        "one = np.ones(10)\n",
        "zero,one"
      ],
      "execution_count": null,
      "outputs": []
    },
    {
      "cell_type": "markdown",
      "metadata": {
        "id": "42qnHwttWDOy"
      },
      "source": [
        "arrayの一部分をとりだす方法は、listと同じです。\n"
      ]
    },
    {
      "cell_type": "code",
      "metadata": {
        "id": "YuhkQJF7WDOz"
      },
      "source": [
        "vector[1],vector[1:3]"
      ],
      "execution_count": null,
      "outputs": []
    },
    {
      "cell_type": "markdown",
      "metadata": {
        "id": "gzYrjG9PWDO3"
      },
      "source": [
        "しかし、演算子を使う時に、大きな違いがあります。list同士を足し算すると、長いリストになるのに対し、array同士を足すと、ベクトルの加算を行ってくれます。\n"
      ]
    },
    {
      "cell_type": "code",
      "metadata": {
        "scrolled": true,
        "id": "O_q6kuSYWDO4"
      },
      "source": [
        "L1 = [1.,2.,3.]\n",
        "L2 = [4.,5.,6.]\n",
        "print(L1+L2)"
      ],
      "execution_count": null,
      "outputs": []
    },
    {
      "cell_type": "code",
      "metadata": {
        "id": "57rRPOENWDO-"
      },
      "source": [
        "v1 = np.array(L1)\n",
        "v2 = np.array(L2)\n",
        "print(v1+v2,v2-v1,v2/v1,v2*v1)"
      ],
      "execution_count": null,
      "outputs": []
    },
    {
      "cell_type": "markdown",
      "metadata": {
        "id": "WUddU9MoWDPB"
      },
      "source": [
        "ベクトルに定数を掛けることも可能です。\n"
      ]
    },
    {
      "cell_type": "code",
      "metadata": {
        "id": "8yKHlpSkWDPC"
      },
      "source": [
        "v1*10"
      ],
      "execution_count": null,
      "outputs": []
    },
    {
      "cell_type": "markdown",
      "metadata": {
        "id": "y4kB7liGWDPF"
      },
      "source": [
        "numpyにあらかじめ準備されている各種関数(ufunc)を使うと、arrayのすべての要素に一気に関数を作用させることができます。"
      ]
    },
    {
      "cell_type": "code",
      "metadata": {
        "id": "e8-Vk7jiWDPF"
      },
      "source": [
        "np.sin(v1)"
      ],
      "execution_count": null,
      "outputs": []
    },
    {
      "cell_type": "markdown",
      "metadata": {
        "id": "p-IIpOjaWDPI"
      },
      "source": [
        "ちなみに、arrayの代わりに数値のリストを与えても問題ありません。"
      ]
    },
    {
      "cell_type": "code",
      "metadata": {
        "id": "_gqzLubqWDPI"
      },
      "source": [
        "np.sin(L1)"
      ],
      "execution_count": null,
      "outputs": []
    },
    {
      "cell_type": "markdown",
      "metadata": {
        "id": "ThZs3QzNYxwB"
      },
      "source": [
        "よくやる使い方は、等差数列を作るlinspaceやarangeとufuncを組みあわせて、グラフを描くという方法です。\n"
      ]
    },
    {
      "cell_type": "code",
      "metadata": {
        "id": "VahWrdlxZLQg"
      },
      "source": [
        "# arangeはrangeに似ていますが、範囲と間隔に実数が使えます。\n",
        "?np.arange"
      ],
      "execution_count": null,
      "outputs": []
    },
    {
      "cell_type": "code",
      "metadata": {
        "id": "7nWuF9R3Ze7f"
      },
      "source": [
        "# 1以上3未満で0.5間隔の等差数列を生成する。\n",
        "np.arange(1.0, 3.0, 0.5)"
      ],
      "execution_count": null,
      "outputs": []
    },
    {
      "cell_type": "code",
      "metadata": {
        "id": "oz5EZmPSZGW5"
      },
      "source": [
        "# こちらは間隔ではなくデータ点の数を指定します。\n",
        "?np.linspace"
      ],
      "execution_count": null,
      "outputs": []
    },
    {
      "cell_type": "code",
      "metadata": {
        "id": "j3etRlrDZtTY"
      },
      "source": [
        "# 1から10の間で等間隔に10点とる。\n",
        "np.linspace(1.0, 10.0, num=10)"
      ],
      "execution_count": null,
      "outputs": []
    },
    {
      "cell_type": "code",
      "metadata": {
        "id": "lc7kiaQ1Z__k"
      },
      "source": [
        "# xの値は0から10PIまで1000点\n",
        "x = np.linspace(0, np.pi*10, 1000)\n",
        "# yの値はsin(x)\n",
        "y = np.exp(-x/100)*np.sin(x)\n",
        "\n",
        "import pylab\n",
        "\n",
        "pylab.plot(x,y)"
      ],
      "execution_count": null,
      "outputs": []
    },
    {
      "cell_type": "markdown",
      "metadata": {
        "id": "pqkh8U9sWDPM"
      },
      "source": [
        "ベクトル同士のかけ算をすると、どうなるでしょうか。\n"
      ]
    },
    {
      "cell_type": "code",
      "metadata": {
        "scrolled": true,
        "id": "m6LAQXylWDPM"
      },
      "source": [
        "v1*v2"
      ],
      "execution_count": null,
      "outputs": []
    },
    {
      "cell_type": "markdown",
      "metadata": {
        "id": "HAakza4uWDPP"
      },
      "source": [
        "要素同士がかけあわされたarrayになりました。この要素を足しあわせれば、2つのベクトルの内積(dot product)が得られます。\n"
      ]
    },
    {
      "cell_type": "code",
      "metadata": {
        "scrolled": true,
        "id": "bgoXhZDLWDPP"
      },
      "source": [
        "np.sum(v1*v2)"
      ],
      "execution_count": null,
      "outputs": []
    },
    {
      "cell_type": "markdown",
      "metadata": {
        "id": "QnV5QenqWDPS"
      },
      "source": [
        "ですが、これだと一見して何を計算しようとしているのかわかりにくいので、@演算子を使いましょう。\n"
      ]
    },
    {
      "cell_type": "code",
      "metadata": {
        "id": "dl34g-xFWDPW"
      },
      "source": [
        "v1@v2"
      ],
      "execution_count": null,
      "outputs": []
    },
    {
      "cell_type": "markdown",
      "metadata": {
        "id": "5OYmKjryWDPZ"
      },
      "source": [
        "外積(cross product)はcross関数で計算できます。(外積って何だったか覚えていますか?)\n"
      ]
    },
    {
      "cell_type": "code",
      "metadata": {
        "id": "rsUxtUj1WDPZ"
      },
      "source": [
        "np.cross(v1,v2)"
      ],
      "execution_count": null,
      "outputs": []
    },
    {
      "cell_type": "markdown",
      "metadata": {
        "id": "nVplGWyuWDPe"
      },
      "source": [
        "関数の意味や引数の使い方がわからなくなったら、関数名の前に?を付けてヘルプを表示できます。"
      ]
    },
    {
      "cell_type": "code",
      "metadata": {
        "id": "AnCqFLJDWDPe"
      },
      "source": [
        "?np.cross"
      ],
      "execution_count": null,
      "outputs": []
    },
    {
      "cell_type": "markdown",
      "metadata": {
        "id": "McUyTswEWDPj"
      },
      "source": [
        "これで、ベクトルの基本的な計算はすべてできることがわかりました。\n"
      ]
    },
    {
      "cell_type": "markdown",
      "metadata": {
        "id": "Eiweoxs_WDPj"
      },
      "source": [
        "ちなみに、文字列データからarrayを作る簡単な方法があります。三連ダブルクオーテーションは、改行を含む長い文字列を定義したい時に使います。\n"
      ]
    },
    {
      "cell_type": "code",
      "metadata": {
        "scrolled": true,
        "id": "PyjXHYIXWDPk"
      },
      "source": [
        "s = \"\"\"\n",
        "1  2\n",
        "3   4\n",
        "5    6\n",
        "\"\"\"\n",
        "v = np.fromstring(s, sep=\" \")\n",
        "v"
      ],
      "execution_count": null,
      "outputs": []
    },
    {
      "cell_type": "markdown",
      "metadata": {
        "id": "PcoZTW4NWDPt"
      },
      "source": [
        "`fromstring()`は改行も空白と同一視し、一列のarrayに変換してしまいます。\n",
        "これを、3行2列の行列(後述)にしたい場合は、`reshape`関数を使います。`reshape`はその名の通り、1次元(あるいは多次元)のarrayの形を変形して多次元arrayにしてくれます。\n"
      ]
    },
    {
      "cell_type": "code",
      "metadata": {
        "id": "Ix3ddAHxWDPu"
      },
      "source": [
        "w=v.reshape((3,2))\n",
        "w"
      ],
      "execution_count": null,
      "outputs": []
    },
    {
      "cell_type": "markdown",
      "metadata": {
        "id": "0lVg1ix2WDPx"
      },
      "source": [
        "`.shape`(これは関数ではありません)を次のように使うことで、その行列のshapeを知ることができます。このことからもわかるように、listとは違い、多次元のarrayでは、各行の長さはすべて等しくなければなりません。(listの場合は、`[[1,2],[3,4,5]]`のような長さの違う要素でも構いません。)\n"
      ]
    },
    {
      "cell_type": "code",
      "metadata": {
        "id": "PNG2q83dWDPy"
      },
      "source": [
        "w.shape"
      ],
      "execution_count": null,
      "outputs": []
    },
    {
      "cell_type": "markdown",
      "metadata": {
        "id": "PrlxruPNWDP5"
      },
      "source": [
        "もうすこし、arrayの操作を練習してみましょう。\n"
      ]
    },
    {
      "cell_type": "code",
      "metadata": {
        "id": "VieWb6L8WDP5"
      },
      "source": [
        "v=np.array([1.,2.,3.,4.,5.])"
      ],
      "execution_count": null,
      "outputs": []
    },
    {
      "cell_type": "markdown",
      "metadata": {
        "id": "LeGPXkSfWDP8"
      },
      "source": [
        "1番目から3個の要素をとりだす方法はリストの場合と同じです。\n"
      ]
    },
    {
      "cell_type": "code",
      "metadata": {
        "id": "bslQRNKuWDP9"
      },
      "source": [
        "v[1:1+3]"
      ],
      "execution_count": null,
      "outputs": []
    },
    {
      "cell_type": "markdown",
      "metadata": {
        "id": "whDLOa39WDQA"
      },
      "source": [
        ":を使った記法では、v[start:end]のほかに、v[start:end:interval]という書き方があります。\n",
        "startが0の場合には省略できます。endが最後の要素の場合にも省略できます。\n",
        "例えば、0番目から最後の要素まで、1つとばしで選ぶ場合は、v[0:5:2]あるいはv[::2]と書きます。\n"
      ]
    },
    {
      "cell_type": "code",
      "metadata": {
        "scrolled": true,
        "id": "oBaPZo03WDQB"
      },
      "source": [
        "v[::2]"
      ],
      "execution_count": null,
      "outputs": []
    },
    {
      "cell_type": "markdown",
      "metadata": {
        "id": "FJNX0HAuWDQD"
      },
      "source": [
        "v[:]はvの全要素という意味で、vと同じ意味になります。\n"
      ]
    },
    {
      "cell_type": "code",
      "metadata": {
        "scrolled": true,
        "id": "MPt09nhIWDQE"
      },
      "source": [
        "v[:]+10"
      ],
      "execution_count": null,
      "outputs": []
    },
    {
      "cell_type": "code",
      "metadata": {
        "id": "LmUxxIDuWDQG"
      },
      "source": [
        "v+10"
      ],
      "execution_count": null,
      "outputs": []
    },
    {
      "cell_type": "markdown",
      "metadata": {
        "id": "sdVnJ7ToWDQI"
      },
      "source": [
        "例えば、ベクトルの要素の順番を逆にするにはどうしたらいいでしょうか?\n",
        "リストの場合には、そのための特別な命令reverse()がありますが、numpyではそんなものがなくても簡単に逆順にできます。\n"
      ]
    },
    {
      "cell_type": "code",
      "metadata": {
        "scrolled": true,
        "id": "R7ymzF3FWDQJ"
      },
      "source": [
        "v[::-1]"
      ],
      "execution_count": null,
      "outputs": []
    },
    {
      "cell_type": "markdown",
      "metadata": {
        "id": "tLDDSXnDWDQM"
      },
      "source": [
        "ほかにもいろんな書き方を試してみて下さい。\n"
      ]
    },
    {
      "cell_type": "code",
      "metadata": {
        "id": "bG11V7EiWDQN"
      },
      "source": [
        "v[::-2]"
      ],
      "execution_count": null,
      "outputs": []
    },
    {
      "cell_type": "code",
      "metadata": {
        "id": "Vv5yWd8lWDQP"
      },
      "source": [
        "v[-1:-3:-1]"
      ],
      "execution_count": null,
      "outputs": []
    },
    {
      "cell_type": "code",
      "metadata": {
        "scrolled": true,
        "id": "u7ClmnauWDQR"
      },
      "source": [
        "v[1::2]"
      ],
      "execution_count": null,
      "outputs": []
    },
    {
      "cell_type": "markdown",
      "metadata": {
        "id": "IdLEOMaFWDQj"
      },
      "source": [
        "### 行列 Matrix\n",
        "次に行列に挑戦します。2次元のリストをarrayに変換すると、行列として扱われます。\n"
      ]
    },
    {
      "cell_type": "code",
      "metadata": {
        "scrolled": true,
        "id": "BR6Jy40yWDQj"
      },
      "source": [
        "LX = [[1,2,3],\n",
        "      [4,5,6],\n",
        "      [7,8,9]]\n",
        "LX"
      ],
      "execution_count": null,
      "outputs": []
    },
    {
      "cell_type": "code",
      "metadata": {
        "id": "WA8OJRvhWDQl"
      },
      "source": [
        "NX = np.array(LX)\n",
        "NX"
      ],
      "execution_count": null,
      "outputs": []
    },
    {
      "cell_type": "markdown",
      "metadata": {
        "id": "k60k2eg6WDQr"
      },
      "source": [
        "0ベクトルと同じように、0行列も簡単に作れます。\n"
      ]
    },
    {
      "cell_type": "code",
      "metadata": {
        "id": "-IZNruIlWDQr"
      },
      "source": [
        "np.zeros((3,3))"
      ],
      "execution_count": null,
      "outputs": []
    },
    {
      "cell_type": "markdown",
      "metadata": {
        "id": "7oFt_4CGWDQ7"
      },
      "source": [
        "単位行列もよく使います。\n"
      ]
    },
    {
      "cell_type": "code",
      "metadata": {
        "id": "0qw6XlBKWDQ7"
      },
      "source": [
        "np.identity(3)"
      ],
      "execution_count": null,
      "outputs": []
    },
    {
      "cell_type": "markdown",
      "metadata": {
        "id": "YX4lAN8MWDQ9"
      },
      "source": [
        "行列(あるいは多次元のarray)の要素を指定する時は、リストの場合よりも直感的な表記ができます。\n"
      ]
    },
    {
      "cell_type": "code",
      "metadata": {
        "id": "h3kCVQanWDQ9"
      },
      "source": [
        "print(NX[1])\n",
        "print(NX[1,1])"
      ],
      "execution_count": null,
      "outputs": []
    },
    {
      "cell_type": "markdown",
      "metadata": {
        "id": "xLI293TLWDRA"
      },
      "source": [
        "また、多次元arrayを切り出す場合には、\":\"(コロン)を使った独特の記法が使えます。"
      ]
    },
    {
      "cell_type": "code",
      "metadata": {
        "scrolled": true,
        "id": "XjnCbA-gWDRA"
      },
      "source": [
        "print(NX[1:3,1:3])\n",
        "print(NX[0:2,2])"
      ],
      "execution_count": null,
      "outputs": []
    },
    {
      "cell_type": "markdown",
      "metadata": {
        "id": "WC1YHcxWWDRD"
      },
      "source": [
        "行列NXにベクトルを掛けてみます。\n"
      ]
    },
    {
      "cell_type": "code",
      "metadata": {
        "id": "u_s2BRdNWDRE"
      },
      "source": [
        "v = np.array([10,100,1000])\n",
        "NX*v"
      ],
      "execution_count": null,
      "outputs": []
    },
    {
      "cell_type": "markdown",
      "metadata": {
        "id": "Arb5pLMLWDRG"
      },
      "source": [
        "これは妙な計算になってしまいました。では、@演算子なら?\n"
      ]
    },
    {
      "cell_type": "code",
      "metadata": {
        "id": "u74tCM6IWDRG"
      },
      "source": [
        "NX @ v"
      ],
      "execution_count": null,
      "outputs": []
    },
    {
      "cell_type": "markdown",
      "metadata": {
        "id": "NOGvCFUrWDRH"
      },
      "source": [
        "vと答の両方が縦ベクトルだと思えば、ちゃんと行列とベクトルのかけ算になっていることはわかると思います。\n"
      ]
    },
    {
      "cell_type": "markdown",
      "metadata": {
        "id": "HEvFdimXWDRI"
      },
      "source": [
        "では、行列のかけ算を試してみましょう。\n"
      ]
    },
    {
      "cell_type": "code",
      "metadata": {
        "id": "jcpZu6mdWDRI"
      },
      "source": [
        "A = np.array([[1,1],\n",
        "              [2,2]])\n",
        "B = np.array([[3,4],\n",
        "              [3,4]])\n",
        "print(A @ B)\n",
        "print(B @ A)"
      ],
      "execution_count": null,
      "outputs": []
    },
    {
      "cell_type": "markdown",
      "metadata": {
        "id": "U2Fht_ovWDRM"
      },
      "source": [
        "ちゃんと順序通りのかけ算ができることがわかりました。\n",
        "\n",
        "行列を2乗すると?\n"
      ]
    },
    {
      "cell_type": "code",
      "metadata": {
        "id": "uUyhmiPgWDRM"
      },
      "source": [
        "A**2"
      ],
      "execution_count": null,
      "outputs": []
    },
    {
      "cell_type": "markdown",
      "metadata": {
        "id": "_u9LBLmiWDRO"
      },
      "source": [
        "だめでした。ベクトル同士を\"\\*\"した時と同じように、要素ごとのかけ算になってしまいました。やはり、次のように書かないといけないようです。\n"
      ]
    },
    {
      "cell_type": "code",
      "metadata": {
        "id": "eFVt0qzOWDRP"
      },
      "source": [
        "A@A"
      ],
      "execution_count": null,
      "outputs": []
    },
    {
      "cell_type": "markdown",
      "metadata": {
        "id": "jKPSMOQbWDRR"
      },
      "source": [
        "内積演算子`@`はかけ算に似ていますが、`A@A`を`A@@2`とは書けないみたいです。"
      ]
    },
    {
      "cell_type": "markdown",
      "metadata": {
        "id": "DQclqOEdWDRR"
      },
      "source": [
        "転置行列はtranspose関数か、または簡単に.Tで作れます。\n"
      ]
    },
    {
      "cell_type": "code",
      "metadata": {
        "id": "K5slSG3kWDRS"
      },
      "source": [
        "np.transpose(A)"
      ],
      "execution_count": null,
      "outputs": []
    },
    {
      "cell_type": "code",
      "metadata": {
        "id": "-P3_NRvHWDRT"
      },
      "source": [
        "A.T"
      ],
      "execution_count": null,
      "outputs": []
    },
    {
      "cell_type": "markdown",
      "metadata": {
        "id": "8-EXvu07WDRW"
      },
      "source": [
        "行列式、逆行列も簡単です。numpyの拡張ライブラリlinalg(Linear Algebra)の中に、いろんな関数が準備されています。"
      ]
    },
    {
      "cell_type": "code",
      "metadata": {
        "id": "6tvejVJlWDRX"
      },
      "source": [
        "A = np.array([[1,1],[1,2]])\n",
        "B = np.linalg.inv(A) # Aの逆行列\n",
        "d = np.linalg.det(A) # Aの行列式\n",
        "print(B)\n",
        "print(A @ B)\n",
        "print(B @ A)\n",
        "print(d)"
      ],
      "execution_count": null,
      "outputs": []
    },
    {
      "cell_type": "markdown",
      "metadata": {
        "id": "VYXumdp_WDR2"
      },
      "source": [
        "ほかにも、numpyの機能はたくさんありすぎて、全部を紹介することはできません。必要に応じてその都度説明していきます。"
      ]
    },
    {
      "cell_type": "markdown",
      "metadata": {
        "id": "9nwinookWDR3"
      },
      "source": [
        "### 応用例1: 覆面算\n",
        "次の覆面算を解いてみましょう。ただし、H=0とします。\n",
        "\n",
        "Let's solve the following simultaneous equations.\n",
        "\n",
        "* O+N+E = 1\n",
        "* T+W+O = 2\n",
        "* T+H+R+E+E = 3\n",
        "* F+O+U+R = 4\n",
        "* F+I+V+E = 5\n",
        "* S+I+X = 6\n",
        "* S+E+V+E+N = 7\n",
        "* E+I+G+H+T = 8\n",
        "* N+I+N+E = 9\n",
        "* T+E+N = 10\n",
        "* ....\n",
        "\n",
        "これは、一見複雑に見えますが、たんなる連立方程式の求解です。全部まとめて解くのは難しいので、この中で同じ変数が適度にまず、でてくる変数を並べると、\n",
        "\n",
        "It seems quite wierd, but it is just a normal simultaenous equation, so you can solve it with linear algebra. \n",
        "\n",
        "* 1.だけだと(O,N,E)\n",
        "* 2までだと(O,N,E,T,W)\n",
        "* 3までだと(O,N,E,T,W,R)\n",
        "* 4までだと(ONETWRFU)\n",
        "* 5までだと(ONETWRFUIV)\n",
        "* 7までだと(ONETWRFUIVSX)\n",
        "* 10までだと(ONETWRFUIVSXG)\n",
        "* 14までだと(ONETWRFUIVSXGL)\n",
        "\n",
        "で、14まで並べれば、変数の個数と方程式の個数が等しくなり、解けるかもしれないことがわかります。\n",
        "\n",
        "連立方程式を解くことは、逆行列を求めることにほかなりません。"
      ]
    },
    {
      "cell_type": "code",
      "metadata": {
        "scrolled": true,
        "id": "2IcKJAtVWDR3"
      },
      "source": [
        "#              O N E T W R F U I V S X G L\n",
        "A = np.array([[1,1,1,0,0,0,0,0,0,0,0,0,0,0],   #ONE\n",
        "              [1,0,0,1,1,0,0,0,0,0,0,0,0,0],   #TWO\n",
        "              [0,0,2,1,0,1,0,0,0,0,0,0,0,0],   #THREE\n",
        "              [1,0,0,0,0,1,1,1,0,0,0,0,0,0],   #FOUR\n",
        "              [0,0,1,0,0,0,1,0,1,1,0,0,0,0],   #FIVE\n",
        "              [0,0,0,0,0,0,0,0,1,0,1,1,0,0],   #SIX\n",
        "              [0,1,2,0,0,0,0,0,0,1,1,0,0,0],   #SEVEN\n",
        "              [0,0,1,1,0,0,0,0,1,0,0,0,1,0],   #EIGHT\n",
        "              [0,2,1,0,0,0,0,0,1,0,0,0,0,0],   #NINE\n",
        "              [0,1,1,1,0,0,0,0,0,0,0,0,0,0],   #TEN\n",
        "              [0,1,3,0,0,0,0,0,0,1,0,0,0,1],   #ELEVEN\n",
        "              [0,0,2,1,1,0,0,0,0,1,0,0,0,1],   #TWELVE\n",
        "              [0,1,2,2,0,1,0,0,1,0,0,0,0,0],   #THIRTEEN\n",
        "              [1,1,2,1,0,1,1,1,0,0,0,0,0,0]])  #FOURTEEN\n",
        "V = np.array([1,2,3,4,5,6,7,8,9,10,11,12,13,14])\n",
        "print(np.linalg.det(A))"
      ],
      "execution_count": null,
      "outputs": []
    },
    {
      "cell_type": "markdown",
      "metadata": {
        "id": "yoLj1dwAWDR4"
      },
      "source": [
        "残念ながら、Aが特異行列らしく、逆行列が作れません。そこで、いろいろ試行錯誤した結果、#TWOの行を削り、代わりに#FIFTEENを追加すると、Aが特異行列でなくなることがわかりました。"
      ]
    },
    {
      "cell_type": "code",
      "metadata": {
        "id": "t7P49DhuWDR5"
      },
      "source": [
        "#              O N E T W R F U I V S X G L\n",
        "A = np.array([[1,1,1,0,0,0,0,0,0,0,0,0,0,0],   #ONE\n",
        "#             [1,0,0,1,1,0,0,0,0,0,0,0,0,0],   #TWO\n",
        "              [0,0,2,1,0,1,0,0,0,0,0,0,0,0],   #THREE\n",
        "              [1,0,0,0,0,1,1,1,0,0,0,0,0,0],   #FOUR\n",
        "              [0,0,1,0,0,0,1,0,1,1,0,0,0,0],   #FIVE\n",
        "              [0,0,0,0,0,0,0,0,1,0,1,1,0,0],   #SIX\n",
        "              [0,1,2,0,0,0,0,0,0,1,1,0,0,0],   #SEVEN\n",
        "              [0,0,1,1,0,0,0,0,1,0,0,0,1,0],   #EIGHT\n",
        "              [0,2,1,0,0,0,0,0,1,0,0,0,0,0],   #NINE\n",
        "              [0,1,1,1,0,0,0,0,0,0,0,0,0,0],   #TEN\n",
        "              [0,1,3,0,0,0,0,0,0,1,0,0,0,1],   #ELEVEN\n",
        "              [0,0,2,1,1,0,0,0,0,1,0,0,0,1],   #TWELVE\n",
        "              [0,1,2,2,0,1,0,0,1,0,0,0,0,0],   #THIRTEEN\n",
        "              [1,1,2,1,0,1,1,1,0,0,0,0,0,0],   #FOURTEEN\n",
        "              [0,1,2,1,0,0,2,0,1,0,0,0,0,0]])  #FIFTEEN\n",
        "numbers = np.array([1,3,4,5,6,7,8,9,10,11,12,13,14,15])\n",
        "\n",
        "np.linalg.det(A)"
      ],
      "execution_count": null,
      "outputs": []
    },
    {
      "cell_type": "markdown",
      "metadata": {
        "id": "IdYa3JAOWDR6"
      },
      "source": [
        "逆行列を使うと、それぞれの記号の値が直ちに一意に求まります。(多少の誤差は生じます)"
      ]
    },
    {
      "cell_type": "code",
      "metadata": {
        "id": "P0w2GmTfWDR6"
      },
      "source": [
        "O,N,E,T,W,R,F,U,I,V,S,X,G,L = np.dot(np.linalg.inv(A),numbers)\n",
        "O,N,E,T,W,R,F,U,I,V,S,X,G,L"
      ],
      "execution_count": null,
      "outputs": []
    },
    {
      "cell_type": "code",
      "metadata": {
        "id": "Sdby-9E4WDR7"
      },
      "source": [
        "H=0\n",
        "print(O+N+E)\n",
        "print(T+W+O)\n",
        "print(T+H+R+E+E)\n",
        "print(F+O+U+R)\n",
        "print(F+I+V+E)\n",
        "print(S+I+X)\n",
        "print(S+E+V+E+N)\n",
        "print(E+I+G+H+T)\n",
        "print(N+I+N+E)\n",
        "print(T+E+N)\n",
        "Z=6\n",
        "print(Z+E+R+O)\n"
      ],
      "execution_count": null,
      "outputs": []
    },
    {
      "cell_type": "markdown",
      "metadata": {
        "id": "JVpJD-stWDR8"
      },
      "source": [
        "確かにO+N+E=1になることがわかります。また、計算では省いたT+W+Oもちゃんと2になることがわかります。さらに、Zを適当に定めれば、Z+E+R+O=0も満たせます。"
      ]
    },
    {
      "cell_type": "markdown",
      "metadata": {
        "id": "QAHR1c_kWDSG"
      },
      "source": [
        "## 応用例2: 画像の編集\n",
        "\n",
        "画像データは、巨大な行列とみなすこともできます。次の例では、白黒の画像ファイル(8ビットグレースケール、0が黒、255が白)をnumpyを使って操作します。\n"
      ]
    },
    {
      "cell_type": "code",
      "metadata": {
        "id": "GCu4aHOPhzJu"
      },
      "source": [
        "# ファイルから画像をnumpy arrayとして読みこむためのライブラリ\n",
        "from skimage import io\n",
        "# Google Colab上で画像を表示するためのライブラリ\n",
        "from IPython.display import display\n",
        "\n",
        "def Show(a):\n",
        "    \"\"\"\n",
        "    2次元array aを画像として表示する。\n",
        "    \"\"\"\n",
        "    from PIL import Image # 画像操作ライブラリ\n",
        "    img = Image.fromarray(a)\n",
        "    display(img)\n",
        "\n",
        "あ = io.imread('https://github.com/vitroid/PythonTutorials/blob/master/2%20Advanced/%E3%81%82.png?raw=true')\n",
        "print(あ.shape)\n",
        "Show(あ)"
      ],
      "execution_count": null,
      "outputs": []
    },
    {
      "cell_type": "markdown",
      "metadata": {
        "id": "H_9eDEd2dp7f"
      },
      "source": [
        "### 画像の縮小\n",
        "\n",
        "画像データは、100x100の巨大なarrayです。これを、行、列ともに1つおきに抽出することで、縮小します。"
      ]
    },
    {
      "cell_type": "code",
      "metadata": {
        "id": "ElC00XmydouE"
      },
      "source": [
        "# 縦方向に1つおき、横方向には2つおきにデータをとりだして、小さい行列smallに入れる。\n",
        "small = あ[::2, ::3]\n",
        "Show(small)"
      ],
      "execution_count": null,
      "outputs": []
    },
    {
      "cell_type": "markdown",
      "metadata": {
        "id": "iWf_fOXIefXG"
      },
      "source": [
        "### 左右反転\n",
        "\n",
        "縮小するのと同じ要領で、データ順を逆にすると、左右を反転できます。"
      ]
    },
    {
      "cell_type": "code",
      "metadata": {
        "id": "vxHLfvuvemaC"
      },
      "source": [
        "turn = あ[:, ::-1]\n",
        "Show(turn)"
      ],
      "execution_count": null,
      "outputs": []
    },
    {
      "cell_type": "markdown",
      "metadata": {
        "id": "4hI1fOs8esrr"
      },
      "source": [
        "### 階調の反転\n",
        "\n",
        "画像データは0が黒、255が白です。画像を反転したい時には、これらを逆にします。"
      ]
    },
    {
      "cell_type": "code",
      "metadata": {
        "id": "uq3sFgpMe3Yf"
      },
      "source": [
        "inverted = 255 - あ\n",
        "Show(inverted)"
      ],
      "execution_count": null,
      "outputs": []
    },
    {
      "cell_type": "markdown",
      "metadata": {
        "id": "YV3hBshofAJk"
      },
      "source": [
        "下半分だけ反転するには、こんな風に書きます。"
      ]
    },
    {
      "cell_type": "code",
      "metadata": {
        "id": "AJ54vWE4fFHO"
      },
      "source": [
        "inv2 = あ.copy() #まずcopyを作る\n",
        "# 50行目以降を、「あ」の反転におきかえる。\n",
        "inv2[50:] = 255 - あ[50:]\n",
        "Show(inv2)"
      ],
      "execution_count": null,
      "outputs": []
    },
    {
      "cell_type": "markdown",
      "metadata": {
        "id": "hl4Z_nSTfgJ-"
      },
      "source": [
        "もし、numpyの便利な機能がなかったなら、このような画像処理をするためには、長々とプログラムを書く必要があるでしょう。"
      ]
    },
    {
      "cell_type": "markdown",
      "metadata": {
        "id": "yMIKO2-MWDSI"
      },
      "source": [
        "## 今日の課題\n",
        "\n",
        "画像「あ」に対して、以下のいずれかの処理を行うプログラムを書いて下さい。\n",
        "\n",
        "1. 右半分だけ色を反転する。\n",
        "3. 上下を反転する。\n",
        "4. 対角線に関して反転する。(右上と左下がいれかわる)\n",
        "5. 時計回りに90度回転する。\n",
        "6. 横に40ピクセルずらす。(numpy.roll()を使います)\n",
        "7. 背景(白)をグレーにする。\n"
      ]
    },
    {
      "cell_type": "code",
      "metadata": {
        "id": "3by-tCYgtA0V"
      },
      "source": [
        ""
      ],
      "execution_count": null,
      "outputs": []
    }
  ]
}
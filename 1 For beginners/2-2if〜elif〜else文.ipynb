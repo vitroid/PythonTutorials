{
  "nbformat": 4,
  "nbformat_minor": 0,
  "metadata": {
    "kernelspec": {
      "display_name": "Python 3",
      "language": "python",
      "name": "python3"
    },
    "language_info": {
      "codemirror_mode": {
        "name": "ipython",
        "version": 3
      },
      "file_extension": ".py",
      "mimetype": "text/x-python",
      "name": "python",
      "nbconvert_exporter": "python",
      "pygments_lexer": "ipython3",
      "version": "3.6.0"
    },
    "colab": {
      "name": "2-2if〜elif〜else文.ipynb",
      "provenance": [],
      "include_colab_link": true
    }
  },
  "cells": [
    {
      "cell_type": "markdown",
      "metadata": {
        "id": "view-in-github",
        "colab_type": "text"
      },
      "source": [
        "<a href=\"https://colab.research.google.com/github/vitroid/PythonTutorials/blob/master/1%20For%20beginners/2-2if%E3%80%9Celif%E3%80%9Celse%E6%96%87.ipynb\" target=\"_parent\"><img src=\"https://colab.research.google.com/assets/colab-badge.svg\" alt=\"Open In Colab\"/></a>"
      ]
    },
    {
      "cell_type": "markdown",
      "metadata": {
        "id": "1gAm2yANSGE0"
      },
      "source": [
        "[▶️ 解説 (Stream動画)](https://web.microsoftstream.com/video/acec7463-8df4-4ef1-8fe8-f21b47dc4fae)"
      ]
    },
    {
      "cell_type": "markdown",
      "metadata": {
        "id": "R7wZneVo3bH-"
      },
      "source": [
        "# if〜elif〜else文\n",
        "if文は、条件によって別の処理をさせたい場合に使います。例えば、2次方程式の係数から解を求める場合、判別式Dの値によって、答の出し方が違うので、次のようにif文を使って、条件ごとに式を使いわけます。"
      ]
    },
    {
      "cell_type": "code",
      "metadata": {
        "id": "sWzD7XIT3bIB"
      },
      "source": [
        "from math import *\n",
        "\n",
        "# 二次方程式の係数a,b,cを入力させる。\n",
        "a=eval(input(\"a:\"))\n",
        "b=eval(input(\"b:\"))\n",
        "c=eval(input(\"c:\"))\n",
        "\n",
        "# 判別式\n",
        "D=b**2-4*a*c\n",
        "\n",
        "# 条件分け\n",
        "if D > 0:\n",
        "    print(\"Two solutions.\")\n",
        "    print((-b+sqrt(D))/(2*a), (-b-sqrt(D))/(2*a))\n",
        "elif D == 0:\n",
        "    print(\"Single solution.\")\n",
        "    print(-b/(2*a))\n",
        "else:\n",
        "    print(\"No solution.\")"
      ],
      "execution_count": null,
      "outputs": []
    },
    {
      "cell_type": "markdown",
      "metadata": {
        "id": "5LHiG4533bIQ"
      },
      "source": [
        "elifはelse ifを略したものです。eval(input())についてはあとで説明します。\n",
        "\n",
        "if文の文型は次のようになります。"
      ]
    },
    {
      "cell_type": "markdown",
      "metadata": {
        "id": "AwhTlNUEa7yL"
      },
      "source": [
        "```python\n",
        "if 条件1:            #条件1が満たされたら次のブロックを実行する。\n",
        "____実行したい内容1\n",
        "____実行したい内容2\n",
        "____....\n",
        "elif 条件2:         #条件1が満たされず、かつ条件2が満たされたら(省略可)\n",
        "____実行したい内容1\n",
        "____実行したい内容2\n",
        "____....\n",
        "elif 条件3:          #条件1、2が満たされず、条件3が満たされたら(省略可)\n",
        "____実行したい内容1\n",
        "____実行したい内容2\n",
        "____....\n",
        "else:              #どの条件も満たされないなら(省略可)\n",
        "____実行したい内容1\n",
        "____実行したい内容2\n",
        "____....\n",
        "```"
      ]
    },
    {
      "cell_type": "markdown",
      "metadata": {
        "id": "xsOQOb333bIW"
      },
      "source": [
        "* \\_\\_\\_\\_は空白(通常は4文字)を表し、インデントと呼びます。 \n",
        "* tabキー(キーボードの左上のほうにある)を使うと、いい具合にインデントを入れてくれます。\n",
        "* 同じ深さのインデントをもつ行の集まりをブロックと呼びます。\n",
        "* `elif`はなくても構いませんし、いくつあっても構いません。\n",
        "* `else`は一番最後に置きますが、これもなくても構いません。\n",
        "* `条件`に書ける「条件式」については後述します。\n",
        "\n",
        "ブロックの中身が1行もないとエラーになります。"
      ]
    },
    {
      "cell_type": "code",
      "metadata": {
        "id": "4d-HOPYx3bIb"
      },
      "source": [
        "if a>0:      #ifブロックの中身がないのでエラー\n",
        "else:\n",
        "    print(\"a is not positive\")"
      ],
      "execution_count": null,
      "outputs": []
    },
    {
      "cell_type": "markdown",
      "metadata": {
        "id": "nOvL-gUt3bIk"
      },
      "source": [
        "ブロックの中で何もすることがない場合には、passと書いて下さい。"
      ]
    },
    {
      "cell_type": "code",
      "metadata": {
        "id": "Dgdd1pD-3bIl"
      },
      "source": [
        "if a>0:\n",
        "    pass\n",
        "else:\n",
        "    print(\"a is not positive\")"
      ],
      "execution_count": null,
      "outputs": []
    },
    {
      "cell_type": "markdown",
      "metadata": {
        "id": "BIt1wNbn3bIr"
      },
      "source": [
        "もし、if 文の中で、さらにifを使って処理を場合分けしたい場合は、ブロックの中にif文を書き、インデントを増やします。"
      ]
    },
    {
      "cell_type": "markdown",
      "metadata": {
        "id": "U6teTM5LbDe0"
      },
      "source": [
        "```python\n",
        "if 条件1:\n",
        "____条件1がなりたつ時に実行する内容1\n",
        "____条件1がなりたつ時に実行する内容2\n",
        "____if 条件2:\n",
        "________条件1と2がなりたつ時に実行する内容1\n",
        "________条件1と2がなりたつ時に実行する内容2\n",
        "________....\n",
        "________....\n",
        "____else:\n",
        "________条件1がなりたち2がなりたたない時に実行する内容1\n",
        "________条件1がなりたち2がなりたたない時に実行する内容2\n",
        "________....\n",
        "else:\n",
        "____条件1がなりたたない時に実行する内容1\n",
        "____条件1がなりたたない時に実行する内容2\n",
        "____....\n",
        "```"
      ]
    },
    {
      "cell_type": "markdown",
      "metadata": {
        "id": "UMi6IvBA3bIu"
      },
      "source": [
        "\n",
        "さて はじめのプログラムに戻りましょう。pythonは、プログラムを上から実行していきます。まず、a, b, cに初期値が入り、次に判別式Dが計算されます。"
      ]
    },
    {
      "cell_type": "code",
      "metadata": {
        "id": "4cN78n8I3bIv"
      },
      "source": [
        "from math import *\n",
        "a=eval(input(\"a:\"))\n",
        "b=eval(input(\"b:\"))\n",
        "c=eval(input(\"c:\"))\n",
        "D=b**2-4*a*c\n",
        "if D > 0:                           #もしDの値が0よりも大きい場合には、次の2行が実行される。\n",
        "    print(\"Two solutions.\")\n",
        "    print((-b+sqrt(D))/(2*a), (-b-sqrt(D))/(2*a))\n",
        "elif D == 0:                        #もしDの値が0に等しい場合には、次の2行が実行される。\n",
        "    print(\"Single solution.\")\n",
        "    print(-b/(2*a))\n",
        "else:                               #それ以外(D<0)の場合。\n",
        "    print(\"No solution.\")"
      ],
      "execution_count": null,
      "outputs": []
    },
    {
      "cell_type": "markdown",
      "metadata": {
        "id": "FZCRdEfk3bI1"
      },
      "source": [
        "ifやelifの行のあとの行の頭に、スペース(空白文字)が4文字入っていることに注意して下さい。pythonでは、行のはじめにある空白(インデント)がとても重要な意味を持ちます。if D>0という条件が満たされた場合に実行されるのは、if文の直後で、先頭に空白がある2行だけです。このような行のまとまりをそれぞれブロックと呼びます。\n",
        "\n",
        "空白は4文字でなくても2文字でも8文字でも構いませんが、同じブロック内では空白の個数はそろえて下さい。次のような書きかたは読みにくいし、実際エラーになります。"
      ]
    },
    {
      "cell_type": "code",
      "metadata": {
        "id": "9Sh2HKQN3bI2"
      },
      "source": [
        "if D > 0:\n",
        "print(\"Two solutions.\")      #ifの直後のブロックなのでインデントすべきなのにインデントがない。\n",
        "  print (-b+sqrt(D))/(2*a), (-b-sqrt(D))/(2*a)\n",
        "elif D == 0:\n",
        " print(\"Single solution.\")\n",
        "   print(-b/(2*a))           #同じブロック内なのに、行頭の空白の数が違う\n",
        "else:\n",
        "    print(\"No solution.\")"
      ],
      "execution_count": null,
      "outputs": []
    },
    {
      "cell_type": "markdown",
      "metadata": {
        "id": "Ortg6Qn93bI9"
      },
      "source": [
        "Pythonの一般的な規則として、制御構文には必ず行末にコロン\":\"があり、コロンがある場合、次の行はインデントする必要があります。\n",
        "\n",
        "ifと “:” (コロン)の間に書かれる式は、条件式と呼ばれます。条件式には、数値の大小関係のほか、文字列が一致するかどうか、リストに特定の要素が含まれているかどうか、などさまざまな条件を書くことができます。例をいくつか下に示します。"
      ]
    },
    {
      "cell_type": "markdown",
      "metadata": {
        "id": "4j6vmEx5ce5R"
      },
      "source": [
        "```python\n",
        "if a > 10:              #aが10より大きいなら\n",
        "if 0 <= a <10:          #aが0以上10未満なら\n",
        "if a==0:                #aが0に等しいなら\n",
        "if a!=0:                #aが0に等しくないなら\n",
        "if not a==0:            #aが0に等しくないなら\n",
        "if a==2 and b==4:       #aが2に等しく、かつbが4に等しいなら\n",
        "if a==3 or a==4:        #aが3に等しいか、またはaが4に等しいなら\n",
        "if “a” in string:       #文字列stringに、文字”a”が含まれているなら\n",
        "if b in [2,3,5,7,11]:   #リストに変数bの値が含まれているなら\n",
        "```"
      ]
    },
    {
      "cell_type": "markdown",
      "source": [
        "Pythonには、数値や文字列やリスト以外の変数の型として、論理値(TrueかFalse)があります。条件式は論理値を返す数式の一種です。"
      ],
      "metadata": {
        "id": "Dw5JYWXeoNY5"
      }
    },
    {
      "cell_type": "code",
      "source": [
        "a = 1\n",
        "a > 10"
      ],
      "metadata": {
        "id": "acvb8L_8n1-H",
        "outputId": "157832c8-6b18-4922-ce58-d5a3924693e1",
        "colab": {
          "base_uri": "https://localhost:8080/"
        }
      },
      "execution_count": 3,
      "outputs": [
        {
          "output_type": "execute_result",
          "data": {
            "text/plain": [
              "False"
            ]
          },
          "metadata": {},
          "execution_count": 3
        }
      ]
    },
    {
      "cell_type": "code",
      "source": [
        "not a > 10"
      ],
      "metadata": {
        "id": "qoLNMgqpn_29",
        "outputId": "dd03ccd3-dd3a-4014-c133-94fa87cedd0c",
        "colab": {
          "base_uri": "https://localhost:8080/"
        }
      },
      "execution_count": 4,
      "outputs": [
        {
          "output_type": "execute_result",
          "data": {
            "text/plain": [
              "True"
            ]
          },
          "metadata": {},
          "execution_count": 4
        }
      ]
    },
    {
      "cell_type": "code",
      "source": [
        "\"b\" in \"abcde\""
      ],
      "metadata": {
        "id": "3cruhY_KoCtk",
        "outputId": "71aa96a2-c588-45ac-96f6-febacb2e9a6c",
        "colab": {
          "base_uri": "https://localhost:8080/"
        }
      },
      "execution_count": 6,
      "outputs": [
        {
          "output_type": "execute_result",
          "data": {
            "text/plain": [
              "True"
            ]
          },
          "metadata": {},
          "execution_count": 6
        }
      ]
    },
    {
      "cell_type": "code",
      "source": [
        "0 < a < 2"
      ],
      "metadata": {
        "id": "fGrmxqhdoHXP",
        "outputId": "91e19c34-ee6d-42c0-8b08-0552d0f0e676",
        "colab": {
          "base_uri": "https://localhost:8080/"
        }
      },
      "execution_count": 7,
      "outputs": [
        {
          "output_type": "execute_result",
          "data": {
            "text/plain": [
              "True"
            ]
          },
          "metadata": {},
          "execution_count": 7
        }
      ]
    },
    {
      "cell_type": "markdown",
      "metadata": {
        "id": "JmzIufHZ3bJO"
      },
      "source": [
        "条件式は論理式とも言います。論理式も式の一種なので、数式と同じように括弧で評価順序を変更できます。少しいりくんだ論理式の例を示します。"
      ]
    },
    {
      "cell_type": "markdown",
      "metadata": {
        "id": "IEZMWgpecobc"
      },
      "source": [
        "```python\n",
        "if ( (x < 0) or (x in [2,3,5,7,11]) ) and (y == 2011): \n",
        "```"
      ]
    },
    {
      "cell_type": "markdown",
      "metadata": {
        "id": "sesnZyUW3bJW"
      },
      "source": [
        "if文を使った、もう少しややこしい例として、うるう年(leap year)かどうかを判断するプログラムを書いてみましょう。ある年`x`がうるう年かどうかは、次の3段階の条件で判断できます。\n",
        "\n",
        "1. `x`が4で割り切れる場合はうるう年とする。\n",
        "1. ただし、1.のうち、`x`が100で割り切れる場合はうるう年ではない。\n",
        "1. ただし、2.のうち、`x`が400で割り切れる場合はうるう年とする。\n",
        "\n",
        "与えられたxが、うるう年なら “leap year”、そうでなければ “common year” (平年) と表示するプログラムは、if文を多重に使って次のように書けます。"
      ]
    },
    {
      "cell_type": "code",
      "metadata": {
        "id": "VnPsGX2e3bJW"
      },
      "source": [
        "x = eval(input(\"input the year:\"))\n",
        "if x % 4 == 0:\n",
        "    print(\"Could be a leap year....\")\n",
        "    if x % 100 == 0:\n",
        "        print(\"Hmmm, may be a common year........\")\n",
        "        if x % 400 == 0:\n",
        "            print(\"{0} is indeed a leap year.\".format(x))\n",
        "        else:\n",
        "            print(\"{0} is a common year.\".format(x))\n",
        "    else:\n",
        "        print(\"Actually a leap year.\")\n",
        "else:\n",
        "    print(\"Common year.\")"
      ],
      "execution_count": null,
      "outputs": []
    },
    {
      "cell_type": "markdown",
      "metadata": {
        "id": "vVuy_AKo3bJZ"
      },
      "source": [
        "他人の書いたプログラムを読む場合には、インデント数が同じブロックを四角で囲んだり、蛍光ペンで塗りわけるなどして、プログラムの流れを視覚化しましょう。 "
      ]
    },
    {
      "cell_type": "markdown",
      "metadata": {
        "id": "8RJAYytf3bJa"
      },
      "source": [
        "### Exercise 1\n",
        "\n",
        "入力された数値xが偶数か奇数かで，違うふるまいをするプログラムを書いて下さい．"
      ]
    },
    {
      "cell_type": "markdown",
      "metadata": {
        "id": "_N1sA0-9ZOOM"
      },
      "source": [
        "### Exercise 2\n",
        "\n",
        "うるう年の判定を、もっとシンプルにして下さい。\n",
        "\n",
        "|    |                 |400の倍数|400の倍数ではない|\n",
        "|----|-----------------|-----|------|\n",
        "|4の倍数|100の倍数       |   L  |   N   |\n",
        "|4の倍数|100の倍数ではない |  -   |  L    |\n",
        "|4の倍数ではない|100の倍数  |  -   | -   |\n",
        "|4の倍数ではない|100の倍数ではない |  N   | N   |"
      ]
    }
  ]
}
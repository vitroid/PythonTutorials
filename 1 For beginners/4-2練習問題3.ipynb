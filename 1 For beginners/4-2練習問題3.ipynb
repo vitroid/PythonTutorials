{
  "nbformat": 4,
  "nbformat_minor": 0,
  "metadata": {
    "kernelspec": {
      "display_name": "Python 3",
      "language": "python",
      "name": "python3"
    },
    "language_info": {
      "codemirror_mode": {
        "name": "ipython",
        "version": 3
      },
      "file_extension": ".py",
      "mimetype": "text/x-python",
      "name": "python",
      "nbconvert_exporter": "python",
      "pygments_lexer": "ipython3",
      "version": "3.6.0"
    },
    "colab": {
      "name": "4-2練習問題3.ipynb",
      "provenance": [],
      "include_colab_link": true
    }
  },
  "cells": [
    {
      "cell_type": "markdown",
      "metadata": {
        "id": "view-in-github",
        "colab_type": "text"
      },
      "source": [
        "<a href=\"https://colab.research.google.com/github/vitroid/PythonTutorials/blob/2020b3/1%20For%20beginners/4-2%E7%B7%B4%E7%BF%92%E5%95%8F%E9%A1%8C3.ipynb\" target=\"_parent\"><img src=\"https://colab.research.google.com/assets/colab-badge.svg\" alt=\"Open In Colab\"/></a>"
      ]
    },
    {
      "cell_type": "markdown",
      "metadata": {
        "id": "HCQBbvE7IFWJ",
        "colab_type": "text"
      },
      "source": [
        "# 練習問題3\n",
        "次のような関数を作ってみましょう。意図したように動くかどうか、いろんなパラメータを渡してテストして下さい。\n",
        "\n",
        "1. 整数xを与えられると、その逆数1/xを返す関数inv(x)\n",
        "2. 整数xを与えられると、その階乗x!を返す関数kaijou(x)\n",
        "3. アルファベット文字列sを与えられると、その中の母音aiueoの個数を返す関数boin(s)\n",
        "4. 整数xを与えられると、西暦x年がうるう年ならtrueを、さもなければfalseを返す関数uruu(x)\n",
        "5. 2つのリストa,bを与えられると、それらを3次元ベクトルとみなして、その内積を返すinner(a,b)\n",
        "6. 自転車のホイールの直径(通常はインチで表される)dと前輪と後輪のギアの歯数xとyが与えられると、ひと漕ぎで何m進むかを計算する関数progress(d,x,y)\n",
        "\n",
        "1の作例"
      ]
    },
    {
      "cell_type": "code",
      "metadata": {
        "id": "RmEdnhnmIFWR",
        "colab_type": "code",
        "colab": {}
      },
      "source": [
        "def inv(x):\n",
        "    return 1/x\n",
        "\n",
        "inv(6)"
      ],
      "execution_count": 0,
      "outputs": []
    },
    {
      "cell_type": "code",
      "metadata": {
        "id": "yBoEjE7uIFW0",
        "colab_type": "code",
        "colab": {}
      },
      "source": [
        ""
      ],
      "execution_count": 0,
      "outputs": []
    }
  ]
}
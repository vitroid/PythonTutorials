{
 "cells": [
  {
   "cell_type": "markdown",
   "metadata": {},
   "source": [
    "# 練習問題3\n",
    "次のような関数を作ってみましょう。意図したように動くかどうか、いろんなパラメータを渡してテストして下さい。\n",
    "\n",
    "1. 整数xを与えられると、その逆数1/xを返す関数inv(x)\n",
    "2. 整数xを与えられると、その階乗x!を返す関数kaijou(x)\n",
    "3. アルファベット文字列sを与えられると、その中の母音aiueoの個数を返す関数boin(s)\n",
    "4. 整数xを与えられると、西暦x年がうるう年ならtrueを、さもなければfalseを返す関数uruu(x)\n",
    "5. 2つのリストa,bを与えられると、それらを3次元ベクトルとみなして、その内積を返すinner(a,b)\n",
    "6. 自転車のホイールの直径(通常はインチで表される)dと前輪と後輪のギアの歯数xとyが与えられると、ひと漕ぎで何m進むかを計算する関数progress(d,x,y)\n",
    "\n",
    "1の作例"
   ]
  },
  {
   "cell_type": "code",
   "execution_count": null,
   "metadata": {
    "collapsed": false
   },
   "outputs": [],
   "source": [
    "def inv(x):\n",
    "    return 1/x\n",
    "\n",
    "inv(6)"
   ]
  },
  {
   "cell_type": "code",
   "execution_count": null,
   "metadata": {
    "collapsed": true
   },
   "outputs": [],
   "source": []
  }
 ],
 "metadata": {
  "kernelspec": {
   "display_name": "Python 3",
   "language": "python",
   "name": "python3"
  },
  "language_info": {
   "codemirror_mode": {
    "name": "ipython",
    "version": 3
   },
   "file_extension": ".py",
   "mimetype": "text/x-python",
   "name": "python",
   "nbconvert_exporter": "python",
   "pygments_lexer": "ipython3",
   "version": "3.6.0"
  }
 },
 "nbformat": 4,
 "nbformat_minor": 0
}

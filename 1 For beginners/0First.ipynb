{
  "nbformat": 4,
  "nbformat_minor": 0,
  "metadata": {
    "kernelspec": {
      "display_name": "Python 3",
      "language": "python",
      "name": "python3"
    },
    "language_info": {
      "codemirror_mode": {
        "name": "ipython",
        "version": 3
      },
      "file_extension": ".py",
      "mimetype": "text/x-python",
      "name": "python",
      "nbconvert_exporter": "python",
      "pygments_lexer": "ipython3",
      "version": "3.6.5"
    },
    "colab": {
      "name": "0First.ipynb",
      "provenance": [],
      "include_colab_link": true
    }
  },
  "cells": [
    {
      "cell_type": "markdown",
      "metadata": {
        "id": "view-in-github",
        "colab_type": "text"
      },
      "source": [
        "<a href=\"https://colab.research.google.com/github/vitroid/PythonTutorials/blob/master/1%20For%20beginners/0First.ipynb\" target=\"_parent\"><img src=\"https://colab.research.google.com/assets/colab-badge.svg\" alt=\"Open In Colab\"/></a>"
      ]
    },
    {
      "cell_type": "markdown",
      "metadata": {
        "id": "_0akt7jQ5_6H"
      },
      "source": [
        "[▶️ 解説 (Stream動画)](https://okautest-my.sharepoint.com/:v:/g/personal/p5319vza_okayama-u_ac_jp/EQfm2HqHJtZbc3d5kP8qQZ0Bcpg68sxEulYExXp5aShqgQ)"
      ]
    },
    {
      "cell_type": "markdown",
      "metadata": {
        "id": "NKMoGQfFvHhx"
      },
      "source": [
        "## はじめに\n",
        "\n",
        "今のパソコンは、毎秒1億回以上の計算をする能力がある計算機ですが、自動運転する方法を知らなければ、コンピューターではなく人間の作業の速さで、コンピュータの計算能力が決まってしまいます。もし、プログラミングができれば、あなたが寝ている間も、風呂に入っている間も、遊びにいってる間にも、コンピューターはあなたに指示された仕事を超高速で黙々とやってくれます。\n",
        "\n",
        "Pythonは、コンピューターに自動的に仕事をさせるための、プログラミング言語のひとつです。ほかにもプログラミング言語はいろいろあります。昔からよく聞く名前はBASIC, Fortran, Cなど、最近の言語だとC++、Java、Ruby、Perl、Javascriptt、Swift、C#といった名前も聞いたことがある人もいると思います。生協の本屋さんに行けば、いろんな言語の教科書がならんでいます。\n",
        "\n",
        "コンピュータ言語の場合、(英語とフランス語と中国語と韓国語を覚えるのに比べたら)発音は覚えなくていいし語彙は少ないし、ひとつ言語を覚えれば、ほかの言語を覚えるのはそれほど難しくはありません。そういう意味では、どの言語から入門しても構わないといえます。ただし、言語学者でないなら、絶滅危惧種の言語や、特定メーカーしかサポートしていない方言をわざわざ選ぶ必要もないでしょう。\n",
        "\n",
        "Python言語は、誕生から30年以上たち、最新の言語とは言えませんが、今でも進化を続けており、第一線で活躍している言語です。Python では、とてもコンパクトで読みやすいプログラムを書くことができます。 Python で書かれたプログラムは、同じ機能を提供する C 言語や C++ 言語のプログラムよりもはるかに短く、読みやすくなります 。ライブラリと呼ばれる、すぐに利用できるプログラムの部品が大量に提供されているので、高度な機能を、短いプログラムで作りあげることができます。例えば、米アップル社の2019年以降の株価をインターネットから入手しプロットするプログラムは、ライブラリを使えば実質1行で書けます。(下のプログラム枠の`[ ]`を押してみて下さい)"
      ]
    },
    {
      "cell_type": "code",
      "metadata": {
        "id": "tVDchV4GvHh2"
      },
      "source": [
        "# Taken from https://www.quora.com/Using-Python-whats-the-best-way-to-get-stock-data\n",
        "# Install yfinance package.\n",
        "!pip install yfinance\n",
        "import yfinance as yf\n",
        "\n",
        "# Get the data for the stock Apple by specifying the stock ticker, start date, and end date\n",
        "yf.download('AAPL','2019-01-01','2021-06-06').Close.plot()"
      ],
      "execution_count": null,
      "outputs": []
    },
    {
      "cell_type": "markdown",
      "metadata": {
        "id": "9MJPNzpdvHiS"
      },
      "source": [
        "アップルの代わりにマイクロソフトの株価を調べたいなら、AAPLをMSFTに書きかえて再度実行して下さい。\n",
        "\n",
        "最近では、データサイエンスや人工知能や画像処理の研究者が好んでPythonを使うようになり、常に人気のある(そして最も稼げる)プログラム言語ランキングの上位に位置しています。何かプログラム言語を学んだことがある人なら、Pythonをほとんど違和感なく使えるはずです。そして、しばらく慣れてくると、ほかの言語に比べていかにシンプルに書け、読みやすいかが感じられるようになるでしょう。初めて学ぶ人も、ぜひこの機会にさわってみて、雰囲気を味わって下さい。\n",
        "\n"
      ]
    },
    {
      "cell_type": "markdown",
      "metadata": {
        "id": "WFIoV901ld46"
      },
      "source": [
        "## 目標\n",
        "\n",
        "Python言語の基礎を学び、Pythonで自作したプログラムによる、データ処理を体験します。\n",
        "\n",
        "Pythonの基本的な使い方からはじめ、プログラムの書き方、走らせかた、データの取り扱い方、キーボードやファイルからデータを読みこんで処理する方法の基礎を学びます。\n",
        "\n",
        "これまでコンピューターでプログラムを全く書いたことがなくても大丈夫です。まずは手を動かして、自分が書いたプログラムがどんな風に動くかを、たくさんの例で体感して下さい。プログラムを書き間違えても、パソコンが壊れることは絶対にありませんから、思う存分試行錯誤しましょう (ただし、書きかけのプログラムを消してしまうことはよくあります。まめに保存するよう心掛けましょう)。\n",
        "\n"
      ]
    },
    {
      "cell_type": "markdown",
      "metadata": {
        "id": "v-GbGVS3oaU0"
      },
      "source": [
        "\n",
        "## Python開発環境\n",
        "\n",
        "今回は、[Google Colab](https://colab.research.google.com) というPython開発環境を利用します。通常、プログラムを書いたり走らせたりする「プログラム開発」のためには、開発するために必要なソフトウェア(開発環境)を自分の手許のコンピュータにまずインストールする必要があります。しかし、Google Colabを使えば、ソフトウェアがあらかじめインストールされたコンピュータをGoogleが自社クラウド上に準備してくれて、ユーザーはどんなブラウザからでもプログラム開発ができます。(しかも無料!)\n"
      ]
    },
    {
      "cell_type": "markdown",
      "metadata": {
        "id": "6ldcqWvqodNk"
      },
      "source": [
        "## 実験(演習)の進め方\n",
        "\n",
        "Colabの教材のページをひらくたびに、画面上のほうにある「Copy to Drive」あるいは「ドライブにコピー」を押して下さい。教材がみなさんのGoogle Driveに保存されます。\n",
        "\n",
        "どのページにも、サンプルプログラムがたくさん書いてあります。内容がすぐにわからなくても、とりあえず全部 ▶︎ を押して実行してみて下さい。また、自由に書きかえて下さい。書きかえても、他の誰かに影響を及ぼす心配はありません。\n",
        "\n",
        "Google Driveを使ったことがない人は、スマホまたはパソコン用の[Google Driveアプリ](https://www.google.com/drive/download/) (パーソナル)をインストールして下さい。Google Driveにコピーが保存されたことを確認できるはずです。\n",
        "\n",
        "> Google Driveは、Googleのクラウドを介して、複数のパソコン上のファイルを共有するサービスです。今回は、Cloud上で動作するGoogle Colabと、自分のパソコンの間でファイルを共有するためにも使用します。\n",
        "\n",
        "<!-- 2021年は、大学の端末室が使えません。自宅やネカフェで好きな時間に実習して下さい。-->"
      ]
    },
    {
      "cell_type": "markdown",
      "metadata": {
        "id": "jmn9a4BIVxRs"
      },
      "source": [
        "## 質問\n",
        "\n",
        "思ったようにプログラムが動かない場合、とりうる手段はいろいろあります。\n",
        "\n",
        "1. 自分で考える。\n",
        "2. ググる。\n",
        "3. 友達に聞く。\n",
        "4. TAに聞く。\n",
        "5. 教員に聞く。\n",
        "\n",
        "対面講義の場合は、3、4、5あたりがてっとり早いです。\n",
        "\n",
        "オンライン参加の場合は、この画面右上のほうにある「![chain](https://i.gyazo.com/bc4dab04100c17c54e279eb08ad2b18e.png) Share」「共有」を押し、担当教員のメールアドレス( vitroid@gmail.com )あるいはTAを指定して共有して下さい。教員からコメントや修正を加えます。(実験時間中は気づかない場合があります。)\n",
        "\n",
        "何でどう困っているかを書いてもらえると、より適切なアドバイスができます。"
      ]
    },
    {
      "cell_type": "markdown",
      "metadata": {
        "id": "ZXQn_lULof0N"
      },
      "source": [
        "## コース\n",
        "\n",
        "### [はじめに](https://colab.research.google.com/github/vitroid/PythonTutorials/blob/master/1%20For%20beginners/0First.ipynb)\n",
        "\n",
        "  * [1-1数字](https://colab.research.google.com/github/vitroid/PythonTutorials/blob/master/1%20For%20beginners/1-1数字.ipynb)\n",
        "  * [1-2文字列](https://colab.research.google.com/github/vitroid/PythonTutorials/blob/master/1%20For%20beginners/1-2文字列.ipynb)\n",
        "  * [1-3ListAndTuple](https://colab.research.google.com/github/vitroid/PythonTutorials/blob/master/1%20For%20beginners/1-3ListAndTuple.ipynb)\n",
        "  * [1-4変数](https://colab.research.google.com/github/vitroid/PythonTutorials/blob/master/1%20For%20beginners/1-4変数.ipynb)\n",
        "  * [1-5LetsMakeErrors](https://colab.research.google.com/github/vitroid/PythonTutorials/blob/master/1%20For%20beginners/1-5LetsMakeErrors.ipynb)\n",
        "\n",
        "\n"
      ]
    },
    {
      "cell_type": "markdown",
      "metadata": {
        "id": "tEjQqEJ7RiJu"
      },
      "source": [
        "### 制御構造\n",
        "\n",
        "条件によって違う処理をする、繰り返す  \n",
        "\n",
        "  * [制御構造](https://colab.research.google.com/github/vitroid/PythonTutorials/blob/master/1%20For%20beginners/2-1制御構造.ipynb)\n",
        "  * [2-2if〜elif〜else文](https://colab.research.google.com/github/vitroid/PythonTutorials/blob/master/1%20For%20beginners/2-2if〜elif〜else文.ipynb)\n",
        "  * [2-3for文](https://colab.research.google.com/github/vitroid/PythonTutorials/blob/master/1%20For%20beginners/2-3for文.ipynb)\n",
        "  * [2-4while文](https://colab.research.google.com/github/vitroid/PythonTutorials/blob/master/1%20For%20beginners/2-4while文.ipynb)\n",
        "  * [2-5課題1](https://colab.research.google.com/github/vitroid/PythonTutorials/blob/master/1%20For%20beginners/2-5練習問題1.ipynb)\n",
        "  * [3-2課題2](https://colab.research.google.com/github/vitroid/PythonTutorials/blob/master/1%20For%20beginners/3-2練習問題2.ipynb)\n",
        "\n"
      ]
    },
    {
      "cell_type": "markdown",
      "metadata": {
        "id": "hxyYDAm9R04L"
      },
      "source": [
        "### 関数\n",
        "\n",
        "  * [4-1関数を作る](https://colab.research.google.com/github/vitroid/PythonTutorials/blob/master/1%20For%20beginners/4-1関数を作る.ipynb)\n",
        "  * [4-2課題3](https://colab.research.google.com/github/vitroid/PythonTutorials/blob/master/1%20For%20beginners/4-2練習問題3.ipynb)\n",
        "  * [4-3課題4](https://colab.research.google.com/github/vitroid/PythonTutorials/blob/master/1%20For%20beginners/4-3練習問題4.ipynb)\n",
        "\n"
      ]
    },
    {
      "cell_type": "markdown",
      "metadata": {
        "id": "gfAYWxw4UD6w"
      },
      "source": [
        "### 数値計算\n",
        "* [numpy](https://colab.research.google.com/github/vitroid/PythonTutorials/blob/master/2%20Advanced/050numpy.ipynb)\n",
        "\n",
        "今後、機械学習などを活用するためにも、ここまでは目を通して下さい。\n",
        "\n",
        "----"
      ]
    },
    {
      "cell_type": "markdown",
      "metadata": {
        "id": "r-990qBxSSqu"
      },
      "source": [
        "### さらに高度な機能\n",
        "\n",
        "([大学院向け教材](https://colab.research.google.com/github/vitroid/PythonTutorials/blob/master/2%20Advanced/011Intro2.ipynb)より抜粋)\n",
        "\n",
        "* [020リスト](https://colab.research.google.com/github/vitroid/PythonTutorials/blob/master/2%20Advanced/020リストの使い方.ipynb)\n",
        "* [辞書型](https://colab.research.google.com/github/vitroid/PythonTutorials/blob/master/2%20Advanced/021%E8%BE%9E%E6%9B%B8.ipynb)\n",
        "* [集合型](https://colab.research.google.com/github/vitroid/PythonTutorials/blob/master/2%20Advanced/022%E9%9B%86%E5%90%88.ipynb)\n",
        "* [順列と組み合わせ](https://colab.research.google.com/github/vitroid/PythonTutorials/blob/master/2%20Advanced/030%E9%A0%86%E5%88%97%E3%81%A8%E7%B5%84%E3%81%BF%E5%90%88%E3%82%8F%E3%81%9B.ipynb)\n",
        "\n",
        "(まだ書きたすかもしれません)"
      ]
    },
    {
      "cell_type": "markdown",
      "metadata": {
        "id": "jMFuxRjMQ1oH"
      },
      "source": [
        "## 課題\n",
        "\n",
        "それぞれのチュートリアルの末尾に「課題」または「宿題」と書かれている問題があります。そのうち、「これはうまくかけた!」「これは力作」というものを選んで3つを提出して下さい。まったくオリジナルのプログラムを書いて出してもらうのでも構いません。(要は、Pythonをどれぐらい書けるようになったかを見せて下さい。) 細かくわかれている問題については、それぞれを別の問題としてカウントします。\n",
        "\n",
        "必ず自力で書いて下さい。難しい課題ほど高配点とします。3つ以上提出した場合は、点の高い3つを採点対象とします。\n",
        "\n",
        "提出方法は、質問する場合と同じです。この画面右上のほうにある「![chain](https://i.gyazo.com/bc4dab04100c17c54e279eb08ad2b18e.png) Share」「共有」を押し、担当教員のメールアドレス( vitroid@gmail.com )を指定して共有して下さい。\n",
        "\n",
        "提出されたプログラムが動かない場合は受理しません。コメントを書いて差し戻しますので、修正した上で再提出して下さい。\n"
      ]
    },
    {
      "cell_type": "markdown",
      "metadata": {
        "id": "wlnc63kGR9rQ"
      },
      "source": [
        "<!-- ### プロット\n",
        "\n",
        "  * [6-1Plotting](https://colab.research.google.com/github/vitroid/PythonTutorials/blob/master/1%20For%20beginners/6-1Plotting.ipynb)\n",
        " -->\n"
      ]
    },
    {
      "cell_type": "markdown",
      "metadata": {
        "id": "QrRYDBO9R4Oo"
      },
      "source": [
        "<!--\n",
        "ファイル入出力は、田中さんの課題のほうで必要になったら説明する\n",
        "\n",
        "### [入出力](https://colab.research.google.com/github/vitroid/PythonTutorials/blob/master/1%20For%20beginners/5-1入出力.ipynb)\n",
        "\n",
        "  * [5-2対話入力](https://colab.research.google.com/github/vitroid/PythonTutorials/blob/master/1%20For%20beginners/5-2対話入力.ipynb)\n",
        "  * [5-5GoogleDriveの利用](https://colab.research.google.com/github/vitroid/PythonTutorials/blob/master/1%20For%20beginners/5-5GoogleDriveOnColab.ipynb)\n",
        "  * [5-3ファイル入力](https://colab.research.google.com/github/vitroid/PythonTutorials/blob/master/1%20For%20beginners/5-3ファイル入力.ipynb)\n",
        "  * ( [5-4ファイル出力](https://colab.research.google.com/github/vitroid/PythonTutorials/blob/master/1%20For%20beginners/5-4ファイル出力.ipynb) )今回は省略します。  -->\n",
        "\n"
      ]
    },
    {
      "cell_type": "markdown",
      "metadata": {
        "id": "VZqtRal6oiMb"
      },
      "source": [
        "<!-- ## 2、3日目\n",
        "\n",
        "  * [8-1課題1精度と誤差と有効数字](https://colab.research.google.com/github/vitroid/PythonTutorials/blob/master/1%20For%20beginners/8-1課題1精度と誤差と有効数字.ipynb)\n",
        "  * [8-2課題2回帰](https://colab.research.google.com/github/vitroid/PythonTutorials/blob/master/1%20For%20beginners/8-2課題2回帰.ipynb)\n",
        "  * [8-3課題3自由課題](https://colab.research.google.com/github/vitroid/PythonTutorials/blob/master/1%20For%20beginners/8-3課題3自由課題.ipynb)  -->"
      ]
    },
    {
      "cell_type": "code",
      "metadata": {
        "id": "NbXi4JSKvHiT"
      },
      "source": [],
      "execution_count": null,
      "outputs": []
    }
  ]
}
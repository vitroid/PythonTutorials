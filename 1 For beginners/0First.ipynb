{
  "nbformat": 4,
  "nbformat_minor": 0,
  "metadata": {
    "kernelspec": {
      "display_name": "Python 3",
      "language": "python",
      "name": "python3"
    },
    "language_info": {
      "codemirror_mode": {
        "name": "ipython",
        "version": 3
      },
      "file_extension": ".py",
      "mimetype": "text/x-python",
      "name": "python",
      "nbconvert_exporter": "python",
      "pygments_lexer": "ipython3",
      "version": "3.6.5"
    },
    "colab": {
      "name": "0First.ipynb",
      "provenance": [],
      "toc_visible": true,
      "include_colab_link": true
    }
  },
  "cells": [
    {
      "cell_type": "markdown",
      "metadata": {
        "id": "view-in-github",
        "colab_type": "text"
      },
      "source": [
        "<a href=\"https://colab.research.google.com/github/vitroid/PythonTutorials/blob/2020b3/1%20For%20beginners/0First.ipynb\" target=\"_parent\"><img src=\"https://colab.research.google.com/assets/colab-badge.svg\" alt=\"Open In Colab\"/></a>"
      ]
    },
    {
      "cell_type": "markdown",
      "metadata": {
        "id": "NKMoGQfFvHhx",
        "colab_type": "text"
      },
      "source": [
        "## はじめに\n",
        "\n",
        "Excelを使いこなせば、データ処理もグラフを描くのもばっちり? 本当にそうでしょうか? 数百個のデータならExcel で手作業しても処理できるでしょう。1万個でもなんとかなります。でも、もしあなたの実験装置が100万個の極上のデータを出力したら? Excelではそんな大きなデータは扱えません。今のパソコンは、毎秒1億回以上の計算をする能力がある計算機ですが、自動運転する方法を知らなければ、コンピューターではなく人間の作業の速さで、コンピュータの計算能力が決まってしまいます。もし、プログラミングができれば、あなたが寝ている間も、風呂に入っている間も、遊びにいってる間にも、コンピューターはあなたに指示された仕事を超高速で黙々とやってくれます。\n",
        "\n",
        "Pythonは、コンピューターに自動的に仕事をさせるための、プログラミング言語のひとつです。ほかにもプログラミング言語はいろいろあります。昔からよく聞く名前はBASIC, Fortran, Cなど、最近の言語だとC++、Java、Ruby、Perl、Javascriptt、Swift、C#といった名前も聞いたことがある人もいると思います。生協の本屋さんに行けば、いろんな言語の教科書がならんでいます。\n",
        "\n",
        "コンピュータ言語の場合、(英語とフランス語と中国語と韓国語を覚えるのに比べたら)発音は覚えなくていいし語彙は少ないし、ひとつ言語を覚えれば、ほかの言語を覚えるのはそれほど難しくはありません。そういう意味では、どの言語から入門しても構わないといえます。ただし、言語学者でないなら、絶滅危惧種の言語や、特定メーカーしかサポートしていない方言をわざわざ選ぶ必要もないでしょう。\n",
        "\n",
        "Pythonはほとんどのパソコン用OSに標準で搭載されています。唯一Windows には搭載されていませんが、今日の講義で使うWinPythonを使えば、Python 言語をUSBメモリに入れて持ちあるくことができます。今日の講義で書いたプログラムはうちにもって帰って家のパソコンでも動かしてみて下さい。\n",
        "\n",
        "Python言語は、誕生から30年以上たち、最新の言語とは言えませんが、今でも進化を続けており、第一線で活躍している言語です。Python では、とてもコンパクトで読みやすいプログラムを書くことができます。 Python で書かれたプログラムは、同じ機能を提供する C 言語や C++ 言語のプログラムよりもはるかに短く、読みやすくなります 。ライブラリと呼ばれる、すぐに利用できるプログラムの部品が大量に提供されているので、高度な機能を、短いプログラムで作りあげることができます。例えば、米アップル社の2019年以降の株価をインターネットから入手しプロットするプログラムは、ライブラリを使えば実質2行で書けます。(下のプログラム枠の ▶︎ を押してみて下さい)"
      ]
    },
    {
      "cell_type": "code",
      "metadata": {
        "id": "tVDchV4GvHh2",
        "colab_type": "code",
        "colab": {}
      },
      "source": [
        "# Taken from https://www.quora.com/Using-Python-whats-the-best-way-to-get-stock-data\n",
        "# Install yfinance package.\n",
        "!pip install yfinance\n",
        "import yfinance as yf  \n",
        "import matplotlib.pyplot as plt\n",
        " \n",
        "# Get the data for the stock Apple by specifying the stock ticker, start date, and end date\n",
        "yf.download('AAPL','2019-01-01','2020-05-12').Close.plot()\n",
        "plt.show()"
      ],
      "execution_count": 0,
      "outputs": []
    },
    {
      "cell_type": "markdown",
      "metadata": {
        "id": "9MJPNzpdvHiS",
        "colab_type": "text"
      },
      "source": [
        "最近では、データサイエンスや人工知能や画像処理の研究者が好んでPythonを使うようになり、常に人気のある(そして最も稼げる)プログラム言語ランキングの上位に位置しています。何かプログラム言語を学んだことがある人なら、Pythonをほとんど違和感なく使えるはずです。そして、しばらく慣れてくると、ほかの言語に比べていかにシンプルに書け、読みやすいかが感じられるようになるでしょう。初めて学ぶ人も、ぜひこの機会にさわってみて、雰囲気を味わって下さい。\n",
        "\n",
        "初日は、Pythonの初歩を、ブラウザ上で演習します。\n"
      ]
    },
    {
      "cell_type": "markdown",
      "metadata": {
        "id": "WFIoV901ld46",
        "colab_type": "text"
      },
      "source": [
        "## 目標 \n",
        "\n",
        "Python言語の基礎を学び、Pythonで自作したプログラムによる、データ処理を体験します。 \n",
        "\n",
        "初日はPythonの基本的な使い方からはじめ、プログラムの書き方、走らせかた、データの取り扱い方、キーボードやファイルからデータを読みこんで処理する方法の基礎を学びます。 \n",
        "\n",
        "2日目には、実験データの精度と誤差の扱い方、および直線回帰(最小二乗法)の基礎を学び、それらのデータ処理を行うプログラムを実際に作成します。 \n",
        "\n",
        "これまでコンピューターでプログラムを全く書いたことがなくても大丈夫です。まずは手を動かして、自分が書いたプログラムがどんな風に動くかを、たくさんの例で体感して下さい。プログラムを書き間違えても、パソコンが壊れることは絶対にありませんから、思う存分試行錯誤しましょう (ただし、書きかけのプログラムを消してしまうことはよくあります。まめに保存するよう心掛けましょう)。 \n",
        "\n"
      ]
    },
    {
      "cell_type": "markdown",
      "metadata": {
        "id": "v-GbGVS3oaU0",
        "colab_type": "text"
      },
      "source": [
        "\n",
        "## Python開発環境 \n",
        "\n",
        "今回は、[Google Colab](https://colab.research.google.com) というPython開発環境を利用します。通常、プログラムを書いたり走らせたりする「プログラム開発」のためには、自分の手許のコンピュータにまずソフトウェアをインストールする必要があります。しかし、Google Colabを使えば、ソフトウェアがあらかじめインストールされたコンピュータをGoogleが自社クラウド上に準備してくれて、ユーザーはどんなブラウザからでもプログラム開発ができます。(原理的にはスマホからも使えるはず。しかも無料!) \n",
        "\n"
      ]
    },
    {
      "cell_type": "markdown",
      "metadata": {
        "id": "6ldcqWvqodNk",
        "colab_type": "text"
      },
      "source": [
        "## 実験(演習)の進め方\n",
        "\n",
        "どのページにも、サンプルプログラムがたくさん書いてあります。内容がすぐにわからなくても、とりあえず全部 ▶︎ を押して実行してみて下さい。また、自由に書きかえて下さい。書きかえても、他の誰かに影響を及ぼす心配はありません。変更したページは、この画面左上のほうにある「Copy to Drive」あるいは「ドライブにコピー」を押せばGoogle Driveに保存されます。\n",
        "\n",
        "Google Driveを使ったことがない人は、スマホまたはパソコン用の[Google Driveアプリ](https://www.google.com/drive/download/) (パーソナル)をインストールして下さい。Google Driveにコピーが保存されたことを確認できるはずです。\n",
        "\n",
        "> Google Driveは、Googleのクラウドを介して、複数のパソコン上のファイルを共有するサービスです。今回は、Cloud上で動作するGoogle Colabと、自分のパソコンの間でファイルを共有するためにも使用します。\n",
        "\n",
        "2020年は、大学の端末室が使えません。自宅やネカフェで好きな時間に実習して下さい。なお、学生実験の時間中は、[Moodleのチャット機能](https://moodle.el.okayama-u.ac.jp/message/index.php)で質問をうけつけます。(画面で説明が必要になった場合はZoomを使います) \n",
        "\n",
        " "
      ]
    },
    {
      "cell_type": "markdown",
      "metadata": {
        "id": "ZXQn_lULof0N",
        "colab_type": "text"
      },
      "source": [
        "## 初日 \n",
        "\n",
        "* [はじめに](https://colab.research.google.com/github/vitroid/PythonTutorials/blob/2020b3/1%20For%20beginners/0First.ipynb) このページ\n",
        "\n",
        "  * [1-1数字](https://colab.research.google.com/github/vitroid/PythonTutorials/blob/2020b3/1%20For%20beginners/1-1数字.ipynb)\n",
        "  * [1-2文字列](https://colab.research.google.com/github/vitroid/PythonTutorials/blob/2020b3/1%20For%20beginners/1-2文字列.ipynb)\n",
        "  * [1-3ListAndTuple](https://colab.research.google.com/github/vitroid/PythonTutorials/blob/2020b3/1%20For%20beginners/1-3ListAndTuple.ipynb)\n",
        "  * [1-4変数](https://colab.research.google.com/github/vitroid/PythonTutorials/blob/2020b3/1%20For%20beginners/1-4変数.ipynb)\n",
        "  * [1-5LetsMakeErrors](https://colab.research.google.com/github/vitroid/PythonTutorials/blob/2020b3/1%20For%20beginners/1-5LetsMakeErrors.ipynb)\n",
        "\n",
        "* [制御構造](https://colab.research.google.com/github/vitroid/PythonTutorials/blob/2020b3/1%20For%20beginners/2-1制御構造.ipynb) 条件によって違う処理をする、繰り返す  \n",
        "\n",
        "  * [2-2if〜elif〜else文](https://colab.research.google.com/github/vitroid/PythonTutorials/blob/2020b3/1%20For%20beginners/2-2if〜elif〜else文.ipynb)\n",
        "  * [2-3for文](https://colab.research.google.com/github/vitroid/PythonTutorials/blob/2020b3/1%20For%20beginners/2-3for文.ipynb)\n",
        "  * [2-4while文](https://colab.research.google.com/github/vitroid/PythonTutorials/blob/2020b3/1%20For%20beginners/2-4while文.ipynb)\n",
        "  * [2-5練習問題1](https://colab.research.google.com/github/vitroid/PythonTutorials/blob/2020b3/1%20For%20beginners/2-5練習問題1.ipynb)\n",
        "\n",
        "* データタイプ \n",
        "\n",
        "  * [020リスト](https://colab.research.google.com/github/vitroid/PythonTutorials/blob/2020b3/2%20Advanced/020リストの使い方.ipynb)\n",
        "  * [3-2練習問題2](https://colab.research.google.com/github/vitroid/PythonTutorials/blob/2020b3/1%20For%20beginners/3-2練習問題2.ipynb)\n",
        "\n",
        "* 関数 \n",
        "\n",
        "  * [4-1関数を作る](https://colab.research.google.com/github/vitroid/PythonTutorials/blob/2020b3/1%20For%20beginners/4-1関数を作る.ipynb) \n",
        "  * [4-2練習問題3](https://colab.research.google.com/github/vitroid/PythonTutorials/blob/2020b3/1%20For%20beginners/4-2練習問題3.ipynb)\n",
        "  * [4-3練習問題4](https://colab.research.google.com/github/vitroid/PythonTutorials/blob/2020b3/1%20For%20beginners/4-3練習問題4.ipynb) \n",
        "\n",
        "* [入出力](https://colab.research.google.com/github/vitroid/PythonTutorials/blob/2020b3/1%20For%20beginners/5-1入出力.ipynb)\n",
        "\n",
        "  * [5-2対話入力](https://colab.research.google.com/github/vitroid/PythonTutorials/blob/2020b3/1%20For%20beginners/5-2対話入力.ipynb)\n",
        "  * [5-5GoogleDriveの利用](https://colab.research.google.com/github/vitroid/PythonTutorials/blob/2020b3/1%20For%20beginners/5-5GoogleDriveOnColab.ipynb)\n",
        "  * [5-3ファイル入力](https://colab.research.google.com/github/vitroid/PythonTutorials/blob/2020b3/1%20For%20beginners/5-3ファイル入力.ipynb) \n",
        "  * ( [5-4ファイル出力](https://colab.research.google.com/github/vitroid/PythonTutorials/blob/2020b3/1%20For%20beginners/5-4ファイル出力.ipynb) )今回は省略します。 \n",
        "\n",
        "* プロット \n",
        "\n",
        "  * [6-1Plotting](https://colab.research.google.com/github/vitroid/PythonTutorials/blob/2020b3/1%20For%20beginners/6-1Plotting.ipynb) \n",
        "\n",
        "* おまけ \n",
        "\n",
        "  * [7-1そのほかの機能](https://colab.research.google.com/github/vitroid/PythonTutorials/blob/2020b3/1%20For%20beginners/7-1そのほかの機能.ipynb) \n",
        "  * [7-2そのほかの機能2](https://colab.research.google.com/github/vitroid/PythonTutorials/blob/2020b3/1%20For%20beginners/7-2そのほかの機能2.ipynb) \n",
        "\n"
      ]
    },
    {
      "cell_type": "markdown",
      "metadata": {
        "id": "VZqtRal6oiMb",
        "colab_type": "text"
      },
      "source": [
        "## 2、3日目 \n",
        "\n",
        "  * [8-1課題1精度と誤差と有効数字](https://colab.research.google.com/github/vitroid/PythonTutorials/blob/2020b3/1%20For%20beginners/8-1課題1精度と誤差と有効数字.ipynb)\n",
        "  * [8-2課題2回帰](https://colab.research.google.com/github/vitroid/PythonTutorials/blob/2020b3/1%20For%20beginners/8-2課題2回帰.ipynb) \n",
        "  * [8-3課題3自由課題](https://colab.research.google.com/github/vitroid/PythonTutorials/blob/2020b3/1%20For%20beginners/8-3課題3自由課題.ipynb) "
      ]
    },
    {
      "cell_type": "code",
      "metadata": {
        "id": "NbXi4JSKvHiT",
        "colab_type": "code",
        "colab": {}
      },
      "source": [
        ""
      ],
      "execution_count": 0,
      "outputs": []
    }
  ]
}
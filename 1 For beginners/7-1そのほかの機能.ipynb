{
  "nbformat": 4,
  "nbformat_minor": 0,
  "metadata": {
    "kernelspec": {
      "display_name": "Python 3",
      "language": "python",
      "name": "python3"
    },
    "language_info": {
      "codemirror_mode": {
        "name": "ipython",
        "version": 3
      },
      "file_extension": ".py",
      "mimetype": "text/x-python",
      "name": "python",
      "nbconvert_exporter": "python",
      "pygments_lexer": "ipython3",
      "version": "3.6.0"
    },
    "colab": {
      "name": "7-1そのほかの機能.ipynb",
      "provenance": [],
      "include_colab_link": true
    }
  },
  "cells": [
    {
      "cell_type": "markdown",
      "metadata": {
        "id": "view-in-github",
        "colab_type": "text"
      },
      "source": [
        "<a href=\"https://colab.research.google.com/github/vitroid/PythonTutorials/blob/2020b3/1%20For%20beginners/7-1%E3%81%9D%E3%81%AE%E3%81%BB%E3%81%8B%E3%81%AE%E6%A9%9F%E8%83%BD.ipynb\" target=\"_parent\"><img src=\"https://colab.research.google.com/assets/colab-badge.svg\" alt=\"Open In Colab\"/></a>"
      ]
    },
    {
      "cell_type": "markdown",
      "metadata": {
        "id": "_Z0e8aHuGiIQ",
        "colab_type": "text"
      },
      "source": [
        "# そのほか\n",
        "この演習で扱ったのは、Pythonの機能のほんの一部です。私自身もほとんどの機能は把握していませんが、付属のドキュメントからいくつか面白そうな機能を試してみました。\n",
        "## sympy\n",
        "sympyライブラリを使うと、数値計算ではなく式変形を行えます。→日本語解説　http://turbare.net/transl/scipy-lecture-notes/advanced/sympy.html"
      ]
    },
    {
      "cell_type": "code",
      "metadata": {
        "id": "kNYGs8-9GiIX",
        "colab_type": "code",
        "colab": {}
      },
      "source": [
        "# sympy \n",
        "from sympy import *\n",
        "a=Symbol('a')     #通常の変数（数値）のかわりに、記号をわりあてている。\n",
        "b=Symbol('b')\n",
        "e=(a+b)**5\n",
        "print (e)               #式\n",
        "print (e.expand())      #式の展開"
      ],
      "execution_count": 0,
      "outputs": []
    },
    {
      "cell_type": "markdown",
      "metadata": {
        "id": "-Hpf0ShsGiIq",
        "colab_type": "text"
      },
      "source": [
        "$$\\frac{\\partial e(a,b)}{\\partial a}$$"
      ]
    },
    {
      "cell_type": "code",
      "metadata": {
        "id": "BF35oJMMGiIv",
        "colab_type": "code",
        "colab": {}
      },
      "source": [
        "e.diff(a)               #式の微分"
      ],
      "execution_count": 0,
      "outputs": []
    },
    {
      "cell_type": "code",
      "metadata": {
        "id": "Hs_ANEjNGiJH",
        "colab_type": "code",
        "colab": {}
      },
      "source": [
        "x=Symbol('x')\n",
        "y=Symbol('y')\n",
        "r = (x**2+y**2)**0.5\n",
        "r.diff(x)               #式の微分"
      ],
      "execution_count": 0,
      "outputs": []
    },
    {
      "cell_type": "markdown",
      "metadata": {
        "id": "xVA6811aGiJS",
        "colab_type": "text"
      },
      "source": [
        "$$\\int e(a){\\rm d}a$$"
      ]
    },
    {
      "cell_type": "code",
      "metadata": {
        "id": "xuSdvekeGiJS",
        "colab_type": "code",
        "colab": {}
      },
      "source": [
        "e.integrate(a)          #式の積分"
      ],
      "execution_count": 0,
      "outputs": []
    },
    {
      "cell_type": "markdown",
      "metadata": {
        "id": "DhxjT1DbGiJo",
        "colab_type": "text"
      },
      "source": [
        "多項式の解を求める。"
      ]
    },
    {
      "cell_type": "code",
      "metadata": {
        "id": "dZUeDJpwGiJp",
        "colab_type": "code",
        "colab": {}
      },
      "source": [
        "e=2*a**2 + 3*a*b + b**2\n",
        "solve(e,a)"
      ],
      "execution_count": 0,
      "outputs": []
    },
    {
      "cell_type": "markdown",
      "metadata": {
        "id": "q-nUOFzAGiJt",
        "colab_type": "text"
      },
      "source": [
        "連立方程式の解を求める。\n",
        "\n",
        "$(A a + B b = E, C a + D b = F)$を同時に解いて$(a,b)$を求める。(実際には逆行列を求めるだけ)"
      ]
    },
    {
      "cell_type": "code",
      "metadata": {
        "id": "2fXcBWVEGiJu",
        "colab_type": "code",
        "colab": {}
      },
      "source": [
        "A = Symbol('A')\n",
        "B = Symbol('B')\n",
        "C = Symbol('C')\n",
        "D = Symbol('D')\n",
        "E = Symbol('E')\n",
        "F = Symbol('F')\n",
        "#M = Matrix([[A,B],[C,D]])\n",
        "#S = Matrix([[E],[F]])\n",
        "#simplify(M**-1*S)\n",
        "solve([A*a+B*b-E,C*a+D*b-F],[a,b])"
      ],
      "execution_count": 0,
      "outputs": []
    },
    {
      "cell_type": "markdown",
      "metadata": {
        "id": "ChAKtoAgGiJ5",
        "colab_type": "text"
      },
      "source": [
        "行列の計算"
      ]
    },
    {
      "cell_type": "code",
      "metadata": {
        "id": "ERbCS4TTGiJ5",
        "colab_type": "code",
        "colab": {}
      },
      "source": [
        "m = Matrix([[a,b],[b,a]])\n",
        "m"
      ],
      "execution_count": 0,
      "outputs": []
    },
    {
      "cell_type": "code",
      "metadata": {
        "id": "4sJtm_E8GiJ8",
        "colab_type": "code",
        "colab": {}
      },
      "source": [
        "m**3"
      ],
      "execution_count": 0,
      "outputs": []
    },
    {
      "cell_type": "code",
      "metadata": {
        "id": "TzsHopV6GiKI",
        "colab_type": "code",
        "colab": {}
      },
      "source": [
        "pi.evalf(1000)           #円周率1000桁"
      ],
      "execution_count": 0,
      "outputs": []
    },
    {
      "cell_type": "code",
      "metadata": {
        "id": "nVA4wTrFGiKL",
        "colab_type": "code",
        "colab": {}
      },
      "source": [
        "series(sin(x),x,n=12) # マクローリン展開"
      ],
      "execution_count": 0,
      "outputs": []
    },
    {
      "cell_type": "markdown",
      "metadata": {
        "id": "mXd90VFMGiKO",
        "colab_type": "text"
      },
      "source": [
        "## 音声波形の合成\n",
        "以下の例では、220 Hzと224 Hzの音波をサイン関数で作り、それらの合成波形をスピーカーで鳴らしています。振動数はレバーで変更できます。"
      ]
    },
    {
      "cell_type": "code",
      "metadata": {
        "id": "OKY3Dne5GiKP",
        "colab_type": "code",
        "colab": {}
      },
      "source": [
        "import matplotlib.pyplot as plt\n",
        "import numpy as np\n",
        "from ipywidgets import widgets, interact  \n",
        "import notebook\n",
        "from IPython.display import Audio, display\n",
        "\n",
        "def beat_freq(f1=220.0, f2=224.0):\n",
        "    max_time = 3\n",
        "    rate = 8000\n",
        "    times = np.linspace(0,max_time,rate*max_time)\n",
        "    signal = np.sin(2*np.pi*f1*times) + np.sin(2*np.pi*f2*times)\n",
        "    print(f1, f2, abs(f1-f2))\n",
        "    display(Audio(data=signal, rate=rate))\n",
        "    return signal\n",
        "\n",
        "interact(beat_freq, f1=(200.0,300.0), f2=(200.0,300.0))"
      ],
      "execution_count": 0,
      "outputs": []
    },
    {
      "cell_type": "markdown",
      "metadata": {
        "collapsed": true,
        "id": "_he3DrWuGiKR",
        "colab_type": "text"
      },
      "source": [
        "## 画像処理\n",
        "scikit-imageを使って簡単な画像処理ができます。(もうひとつの有名な画像処理ライブラリOpenCVはWinPythonやAnacondaには含まれていません。)→Scikit-imageのWebページ http://scikit-image.org"
      ]
    },
    {
      "cell_type": "code",
      "metadata": {
        "id": "zbRFYX_kGiKR",
        "colab_type": "code",
        "colab": {}
      },
      "source": [
        "from skimage import data, io, filters\n",
        "\n",
        "image = data.coins() # or any NumPy array!\n",
        "edges = filters.sobel(image) # 輪郭抽出\n",
        "io.imshow(image)\n",
        "io.show()\n",
        "io.imshow(edges)\n",
        "io.show()"
      ],
      "execution_count": 0,
      "outputs": []
    }
  ]
}
{
 "cells": [
  {
   "cell_type": "markdown",
   "metadata": {},
   "source": [
    "#そのほか\n",
    "この演習で扱ったのは、WinPythonの機能のほんの一部です。私自身もほとんどの機能は把握していませんが、付属のドキュメントからいくつか面白そうな機能を試してみました。\n",
    "##sympy\n",
    "sympyライブラリを使うと、数値計算ではなく式変形を行えます。→日本語解説　http://turbare.net/transl/scipy-lecture-notes/advanced/sympy.html"
   ]
  },
  {
   "cell_type": "code",
   "execution_count": null,
   "metadata": {
    "collapsed": false
   },
   "outputs": [],
   "source": [
    "# sympy \n",
    "import sympy\n",
    "a=sympy.Symbol('a')     #通常の変数（数値）のかわりに、記号をわりあてている。\n",
    "b=sympy.Symbol('b')\n",
    "e=(a+b)**5\n",
    "print (e)               #式\n",
    "print (e.expand())      #式の展開"
   ]
  },
  {
   "cell_type": "code",
   "execution_count": null,
   "metadata": {
    "collapsed": false
   },
   "outputs": [],
   "source": [
    "e.diff(a)               #式の微分"
   ]
  },
  {
   "cell_type": "code",
   "execution_count": null,
   "metadata": {
    "collapsed": false
   },
   "outputs": [],
   "source": [
    "e.integrate(a)          #式の積分"
   ]
  },
  {
   "cell_type": "markdown",
   "metadata": {},
   "source": [
    "多項式の解を求める。"
   ]
  },
  {
   "cell_type": "code",
   "execution_count": null,
   "metadata": {
    "collapsed": false
   },
   "outputs": [],
   "source": [
    "e=2*a**2+3*a*b+b**2\n",
    "sympy.solve(e,a)"
   ]
  },
  {
   "cell_type": "markdown",
   "metadata": {},
   "source": [
    "##音声波形の合成\n",
    "以下の例では、220 Hzと224 Hzの音波をサイン関数で作り、それらの合成波形をスピーカーで鳴らしています。"
   ]
  },
  {
   "cell_type": "code",
   "execution_count": null,
   "metadata": {
    "collapsed": false
   },
   "outputs": [],
   "source": [
    "# scikit image an Notebook interactivity\n",
    "# Import matplotlib (plotting), skimage (image processing) and interact (user interfaces)\n",
    "# This enables their use in the Notebook.\n",
    "%matplotlib inline\n",
    "import matplotlib.pyplot as plt\n",
    "import numpy as np\n",
    "from IPython.html.widgets import interactive\n",
    "from IPython.display import Audio, display\n",
    "def beat_freq(f1=220.0, f2=224.0):\n",
    "    max_time = 3\n",
    "    rate = 8000\n",
    "    times = np.linspace(0,max_time,rate*max_time)\n",
    "    signal = np.sin(2*np.pi*f1*times) + np.sin(2*np.pi*f2*times)\n",
    "    print(f1, f2, abs(f1-f2))\n",
    "    display(Audio(data=signal, rate=rate))\n",
    "    return signal\n",
    "v = interactive(beat_freq, f1=(200.0,300.0), f2=(200.0,300.0))\n",
    "display(v)"
   ]
  },
  {
   "cell_type": "code",
   "execution_count": null,
   "metadata": {
    "collapsed": true
   },
   "outputs": [],
   "source": []
  }
 ],
 "metadata": {
  "kernelspec": {
   "display_name": "Python 3",
   "language": "python",
   "name": "python3"
  },
  "language_info": {
   "codemirror_mode": {
    "name": "ipython",
    "version": 3
   },
   "file_extension": ".py",
   "mimetype": "text/x-python",
   "name": "python",
   "nbconvert_exporter": "python",
   "pygments_lexer": "ipython3",
   "version": "3.4.2"
  }
 },
 "nbformat": 4,
 "nbformat_minor": 0
}

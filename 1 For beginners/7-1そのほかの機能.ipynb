{
 "cells": [
  {
   "cell_type": "markdown",
   "metadata": {},
   "source": [
    "#そのほか\n",
    "この演習で扱ったのは、WinPythonの機能のほんの一部です。私自身もほとんどの機能は把握していませんが、付属のドキュメントからいくつか面白そうな機能を試してみました。\n",
    "##sympy\n",
    "sympyライブラリを使うと、数値計算ではなく式変形を行えます。→日本語解説　http://turbare.net/transl/scipy-lecture-notes/advanced/sympy.html"
   ]
  },
  {
   "cell_type": "code",
   "execution_count": null,
   "metadata": {
    "collapsed": false
   },
   "outputs": [],
   "source": [
    "# sympy \n",
    "from sympy import *\n",
    "a=Symbol('a')     #通常の変数（数値）のかわりに、記号をわりあてている。\n",
    "b=Symbol('b')\n",
    "e=(a+b)**5\n",
    "print (e)               #式\n",
    "print (e.expand())      #式の展開"
   ]
  },
  {
   "cell_type": "markdown",
   "metadata": {},
   "source": [
    "$$\\frac{\\partial e(a,b)}{\\partial a}$$"
   ]
  },
  {
   "cell_type": "code",
   "execution_count": null,
   "metadata": {
    "collapsed": false
   },
   "outputs": [],
   "source": [
    "e.diff(a)               #式の微分"
   ]
  },
  {
   "cell_type": "code",
   "execution_count": null,
   "metadata": {
    "collapsed": false
   },
   "outputs": [],
   "source": [
    "x=Symbol('x')\n",
    "y=Symbol('y')\n",
    "r = (x**2+y**2)**0.5\n",
    "r.diff(x)               #式の微分"
   ]
  },
  {
   "cell_type": "markdown",
   "metadata": {},
   "source": [
    "$$\\int e(a){\\rm d}a$$"
   ]
  },
  {
   "cell_type": "code",
   "execution_count": null,
   "metadata": {
    "collapsed": false
   },
   "outputs": [],
   "source": [
    "e.integrate(a)          #式の積分"
   ]
  },
  {
   "cell_type": "markdown",
   "metadata": {},
   "source": [
    "多項式の解を求める。"
   ]
  },
  {
   "cell_type": "code",
   "execution_count": null,
   "metadata": {
    "collapsed": false
   },
   "outputs": [],
   "source": [
    "e=2*a**2 + 3*a*b + b**2\n",
    "solve(e,a)"
   ]
  },
  {
   "cell_type": "markdown",
   "metadata": {},
   "source": [
    "連立方程式の解を求める。\n",
    "\n",
    "$(A a + B b = E, C a + D b = F)$を同時に解いて$(a,b)$を求める。(実際には逆行列を求めるだけ)"
   ]
  },
  {
   "cell_type": "code",
   "execution_count": null,
   "metadata": {
    "collapsed": false
   },
   "outputs": [],
   "source": [
    "A = Symbol('A')\n",
    "B = Symbol('B')\n",
    "C = Symbol('C')\n",
    "D = Symbol('D')\n",
    "E = Symbol('E')\n",
    "F = Symbol('F')\n",
    "#M = Matrix([[A,B],[C,D]])\n",
    "#S = Matrix([[E],[F]])\n",
    "#simplify(M**-1*S)\n",
    "solve([A*a+B*b-E,C*a+D*b-F],[a,b])"
   ]
  },
  {
   "cell_type": "markdown",
   "metadata": {},
   "source": [
    "行列の計算"
   ]
  },
  {
   "cell_type": "code",
   "execution_count": null,
   "metadata": {
    "collapsed": false
   },
   "outputs": [],
   "source": [
    "m = Matrix([[a,b],[b,a]])\n",
    "m"
   ]
  },
  {
   "cell_type": "code",
   "execution_count": null,
   "metadata": {
    "collapsed": false
   },
   "outputs": [],
   "source": [
    "m**3"
   ]
  },
  {
   "cell_type": "code",
   "execution_count": null,
   "metadata": {
    "collapsed": false
   },
   "outputs": [],
   "source": [
    "pi.evalf(1000)           #円周率1000桁"
   ]
  },
  {
   "cell_type": "code",
   "execution_count": null,
   "metadata": {
    "collapsed": false
   },
   "outputs": [],
   "source": [
    "series(sin(x),x,n=12)"
   ]
  },
  {
   "cell_type": "markdown",
   "metadata": {},
   "source": [
    "##音声波形の合成\n",
    "以下の例では、220 Hzと224 Hzの音波をサイン関数で作り、それらの合成波形をスピーカーで鳴らしています。振動数はレバーで変更できます。"
   ]
  },
  {
   "cell_type": "code",
   "execution_count": null,
   "metadata": {
    "collapsed": false
   },
   "outputs": [],
   "source": [
    "# scikit image an Notebook interactivity\n",
    "# Import matplotlib (plotting), skimage (image processing) and interact (user interfaces)\n",
    "# This enables their use in the Notebook.\n",
    "%matplotlib inline\n",
    "import matplotlib.pyplot as plt\n",
    "import numpy as np\n",
    "from IPython.html.widgets import interactive\n",
    "from IPython.display import Audio, display\n",
    "def beat_freq(f1=220.0, f2=224.0):\n",
    "    max_time = 3\n",
    "    rate = 8000\n",
    "    times = np.linspace(0,max_time,rate*max_time)\n",
    "    signal = np.sin(2*np.pi*f1*times) + np.sin(2*np.pi*f2*times)\n",
    "    print(f1, f2, abs(f1-f2))\n",
    "    display(Audio(data=signal, rate=rate))\n",
    "    return signal\n",
    "v = interactive(beat_freq, f1=(200.0,300.0), f2=(200.0,300.0))\n",
    "display(v)"
   ]
  },
  {
   "cell_type": "markdown",
   "metadata": {
    "collapsed": true
   },
   "source": [
    "##画像処理\n",
    "scikit-imageを使って簡単な画像処理ができます。(もうひとつの有名な画像処理ライブラリOpenCVはWinPythonには含まれていません。)→Scikit-imageのWebページ http://scikit-image.org"
   ]
  },
  {
   "cell_type": "code",
   "execution_count": null,
   "metadata": {
    "collapsed": false
   },
   "outputs": [],
   "source": [
    "%matplotlib inline\n",
    "from skimage import data, io, filter\n",
    "\n",
    "image = data.coins() # or any NumPy array!\n",
    "edges = filter.sobel(image)\n",
    "io.imshow(image)\n",
    "io.show()\n",
    "io.imshow(edges)\n",
    "io.show()"
   ]
  },
  {
   "cell_type": "markdown",
   "metadata": {
    "collapsed": true
   },
   "source": [
    "##覚え書き\n",
    "Offlineでは、IPython Notebookが固まる。MathJaxという、(おそらくTeX数式をNotebook上でつかう)機能がネットアクセスするためらしい。以下の方法でConsoleから直接ローカルにMathJaxを入れれば動くようだ。(WinPythonでは不明)\n",
    "\n",
    "IPython notebookでは、MathJaxのおかげで、TeXの形式で数式が書ける。これはけっこう便利。\n",
    "$$f(x)=f(0)+\\frac{f'(0)}{1!}x+\\frac{f''(0)}{2!}x^2+\\frac{f'''(0)}{3!}x^3+\\frac{f''''(0)}{4!}x^4+O(x^5)$$"
   ]
  },
  {
   "cell_type": "code",
   "execution_count": null,
   "metadata": {
    "collapsed": true
   },
   "outputs": [],
   "source": [
    "vitroid-tangerine:IPython Notebooks matto$ ipython3\n",
    "In [1]: from IPython.external import mathjax; mathjax.install_mathjax()\n"
   ]
  }
 ],
 "metadata": {
  "kernelspec": {
   "display_name": "Python 3",
   "language": "python",
   "name": "python3"
  },
  "language_info": {
   "codemirror_mode": {
    "name": "ipython",
    "version": 3
   },
   "file_extension": ".py",
   "mimetype": "text/x-python",
   "name": "python",
   "nbconvert_exporter": "python",
   "pygments_lexer": "ipython3",
   "version": "3.4.2"
  }
 },
 "nbformat": 4,
 "nbformat_minor": 0
}

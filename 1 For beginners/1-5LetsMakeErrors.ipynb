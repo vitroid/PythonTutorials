{
  "nbformat": 4,
  "nbformat_minor": 0,
  "metadata": {
    "kernelspec": {
      "display_name": "Python 3",
      "language": "python",
      "name": "python3"
    },
    "language_info": {
      "codemirror_mode": {
        "name": "ipython",
        "version": 3
      },
      "file_extension": ".py",
      "mimetype": "text/x-python",
      "name": "python",
      "nbconvert_exporter": "python",
      "pygments_lexer": "ipython3",
      "version": "3.6.0"
    },
    "colab": {
      "name": "1-5LetsMakeErrors.ipynb",
      "provenance": [],
      "include_colab_link": true
    }
  },
  "cells": [
    {
      "cell_type": "markdown",
      "metadata": {
        "id": "view-in-github",
        "colab_type": "text"
      },
      "source": [
        "<a href=\"https://colab.research.google.com/github/vitroid/PythonTutorials/blob/2020b3/1%20For%20beginners/1-5LetsMakeErrors.ipynb\" target=\"_parent\"><img src=\"https://colab.research.google.com/assets/colab-badge.svg\" alt=\"Open In Colab\"/></a>"
      ]
    },
    {
      "cell_type": "markdown",
      "metadata": {
        "id": "PS2NQv5Rx1QZ",
        "colab_type": "text"
      },
      "source": [
        "# エラーを出そう、エラーを読もう\n",
        "\n",
        "こうしてお手本通りにPythonプログラムを書いてもらうと、みなさんだいたい順調に進んで、どんどんプログラムが上手くなった気になってくるのですが、初心者がよくはまりこんで、進めなくなってしまう落し穴があります。\n",
        "\n",
        "例えば、ある学生さんは、aに10を入れ、bに5を入れ、それらを足したものをcに入れるプログラムを自分で作ってみようと思い、次のように書きました。"
      ]
    },
    {
      "cell_type": "code",
      "metadata": {
        "id": "GP6u7WQIx1Qi",
        "colab_type": "code",
        "colab": {}
      },
      "source": [
        "a+b=c\n",
        "a=10\n",
        "b=5"
      ],
      "execution_count": 0,
      "outputs": []
    },
    {
      "cell_type": "markdown",
      "metadata": {
        "id": "wJL82LCFx1Qw",
        "colab_type": "text"
      },
      "source": [
        "ノートに書くのならこれでも意味は通じるかもしれませんが、Pythonのプログラムとしてこれを実行すると、エラーになります。なぜかわかりますか?"
      ]
    },
    {
      "cell_type": "code",
      "metadata": {
        "id": "YL-RJNntx1Q2",
        "colab_type": "code",
        "colab": {}
      },
      "source": [
        "a+b=c\n",
        "a=10\n",
        "b=5"
      ],
      "execution_count": 0,
      "outputs": []
    },
    {
      "cell_type": "markdown",
      "metadata": {
        "id": "gsGWZQdmx1Q_",
        "colab_type": "text"
      },
      "source": [
        "エラーは英語で書かれるので、読まない人も多いようなのですが、たいていの間違いのヒントがエラーに書かれています。ただし、エラーだけ見ても、本当の間違いには気付かない可能性があります。\n",
        "\n",
        "プログラムをはじめたばかりの人がよく陥るケースとして、エラーを恐れるあまり、プログラムを書きかえられない、あるいは何をかきかえてもエラーが何度もでることで叱られているような気になり、うちひしがれて、やりたくなくなってしまう、ということがあります。\n",
        "\n",
        "ですが、Pythonはエラーをたくさん出すとだんだん機嫌が悪くなったりすることはありません。叱ることもありません。最初の行から順にプログラムを読んで実行し、間違っているところで「間違ってるよ」と言うだけです。間違っているよ、と言われたら、Pythonと同じように、上から順番にプログラムを読み進めて、エラーの出たところで立ち止まり、エラーメッセージをじっくり読んで、何が言いたいのかを考えてみて下さい。\n",
        "\n",
        "上の例の場合、最初の行でエラーが出ています。ここまでで説明したように、Pythonの\"=\"は「等しい」という意味ではなく、右辺の式を計算し、左辺の変数に入れる、という意味です。書いた人は、「aとbの和がcに等しいんだぞ。だからcはいくつかわかるよね」という意図で書いたのかもしれませんが、Pythonはこの式を「右辺のcを計算し、それを左辺のa+bに入れよ」と読んでしまいます。一切空気は読んでくれません。\n",
        "\n",
        "Pythonにやってほしいのは、そうではなくて「a+bを計算し、それをcに入れよ」のはずです。ですから、1行目は次のように書くべきです。"
      ]
    },
    {
      "cell_type": "code",
      "metadata": {
        "id": "VjZzwv5ax1RE",
        "colab_type": "code",
        "colab": {}
      },
      "source": [
        "c=a+b"
      ],
      "execution_count": 0,
      "outputs": []
    },
    {
      "cell_type": "markdown",
      "metadata": {
        "id": "orMAb8yIx1RJ",
        "colab_type": "text"
      },
      "source": [
        "実行してみると、こんどはエラーが変わりました。こんどはなんとなく意味がわかります.\n",
        "```\n",
        "NameError: 名前「a」は定義されていない。\n",
        "```\n",
        "いや、aは10なんだけど、と思うでしょうが、Pythonはプログラムをいつも上から順に読むので、aが10である、ということは、c=a+bの計算をするよりも前(つまり上)で伝えておかなければなりません。\n",
        "\n",
        "そこで、上にa=10を書きくわえてみます。"
      ]
    },
    {
      "cell_type": "code",
      "metadata": {
        "id": "S2bgg_Lnx1RK",
        "colab_type": "code",
        "colab": {}
      },
      "source": [
        "a=10\n",
        "c=a+b"
      ],
      "execution_count": 0,
      "outputs": []
    },
    {
      "cell_type": "markdown",
      "metadata": {
        "id": "i0pXQYO6x1RS",
        "colab_type": "text"
      },
      "source": [
        "エラーは2行目を指していますね。ということは1行目は無事エラーなしで実行されたということです。そして、2行目でまたもや名前「b」が定義されてない、と言っています。\n",
        "\n",
        "そこで、bもaとおなじく前のほうで定義しておきます。"
      ]
    },
    {
      "cell_type": "code",
      "metadata": {
        "id": "JRcg4WFjx1RT",
        "colab_type": "code",
        "colab": {}
      },
      "source": [
        "b=5\n",
        "a=10\n",
        "c=a+b"
      ],
      "execution_count": 0,
      "outputs": []
    },
    {
      "cell_type": "markdown",
      "metadata": {
        "id": "dpL7lT8tx1RY",
        "colab_type": "text"
      },
      "source": [
        "エラーがでなくなったのはいいのですが、何が起こったのでしょうか? 何も表示がないと不安になりますね。cを計算したあとで、cの値を表示すれば、ちゃんと計算してくれたかどうかがわかります。"
      ]
    },
    {
      "cell_type": "code",
      "metadata": {
        "id": "Aqu9N2Nmx1RZ",
        "colab_type": "code",
        "colab": {}
      },
      "source": [
        "b=5\n",
        "a=10\n",
        "c=a+b\n",
        "print c"
      ],
      "execution_count": 0,
      "outputs": []
    },
    {
      "cell_type": "markdown",
      "metadata": {
        "id": "6tz86hkDx1Re",
        "colab_type": "text"
      },
      "source": [
        "またエラーを出してしまいました。こんどはSyntaxError(文法エラー)と言っています。'print'を呼ぶ時に括弧がない、と言っていますが何のことでしょうか。たぶんprint cではなくprint(c)と書けよ、と言っているのでしょう。素直に括弧を書きたします。"
      ]
    },
    {
      "cell_type": "code",
      "metadata": {
        "id": "5U7wk2wex1Re",
        "colab_type": "code",
        "colab": {}
      },
      "source": [
        "b=5\n",
        "a=10\n",
        "c=a+b\n",
        "print(c)"
      ],
      "execution_count": 0,
      "outputs": []
    },
    {
      "cell_type": "markdown",
      "metadata": {
        "id": "1mQ_5TcOx1Rj",
        "colab_type": "text"
      },
      "source": [
        "めでたく15と表示されました。\n",
        "\n",
        "まとめると、\n",
        "1. エラーは気にせずどんどん出して構わない。\n",
        "2. エラーメッセージには、エラーのヒントが書かれているが、原因はそこではないかもしれない。\n",
        "3. 上からプログラムが実行されるので、エラーが出た時は、エラーが出た位置より上の行を、上から順に読んで、なぜエラーになったのかを考える。\n",
        "4. いきなり長いプログラムを書くのではなく、短いプログラムを、何度も走らせてエラーの出方を見ながら、少しずつ長いプログラムにしていくと理解が捗る。\n",
        "\n",
        "あと、わからなくなったらさっさと他人に聞くと早く解決します。先生やTAや隣席の人に遠慮なく聞いて下さい。\n",
        "\n"
      ]
    },
    {
      "cell_type": "code",
      "metadata": {
        "id": "NZMSUVl0x1Rk",
        "colab_type": "code",
        "colab": {}
      },
      "source": [
        ""
      ],
      "execution_count": 0,
      "outputs": []
    }
  ]
}
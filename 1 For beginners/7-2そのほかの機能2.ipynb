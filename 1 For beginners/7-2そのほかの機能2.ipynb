{
  "nbformat": 4,
  "nbformat_minor": 0,
  "metadata": {
    "kernelspec": {
      "display_name": "Python 3",
      "language": "python",
      "name": "python3"
    },
    "language_info": {
      "codemirror_mode": {
        "name": "ipython",
        "version": 3
      },
      "file_extension": ".py",
      "mimetype": "text/x-python",
      "name": "python",
      "nbconvert_exporter": "python",
      "pygments_lexer": "ipython3",
      "version": "3.6.0"
    },
    "colab": {
      "name": "7-2そのほかの機能2.ipynb",
      "provenance": [],
      "include_colab_link": true
    }
  },
  "cells": [
    {
      "cell_type": "markdown",
      "metadata": {
        "id": "view-in-github",
        "colab_type": "text"
      },
      "source": [
        "<a href=\"https://colab.research.google.com/github/vitroid/PythonTutorials/blob/2020b3/1%20For%20beginners/7-2%E3%81%9D%E3%81%AE%E3%81%BB%E3%81%8B%E3%81%AE%E6%A9%9F%E8%83%BD2.ipynb\" target=\"_parent\"><img src=\"https://colab.research.google.com/assets/colab-badge.svg\" alt=\"Open In Colab\"/></a>"
      ]
    },
    {
      "cell_type": "markdown",
      "metadata": {
        "id": "tKgel_b2EUIO",
        "colab_type": "text"
      },
      "source": [
        "## 分数計算\n",
        "fractionsモジュールを使うと，分数計算ができます．"
      ]
    },
    {
      "cell_type": "code",
      "metadata": {
        "id": "_mud2yfcEUIR",
        "colab_type": "code",
        "colab": {}
      },
      "source": [
        "from fractions import *\n",
        "a=Fraction(5,3)\n",
        "print (a**2)"
      ],
      "execution_count": 0,
      "outputs": []
    },
    {
      "cell_type": "code",
      "metadata": {
        "id": "CL72cCiJEUIp",
        "colab_type": "code",
        "colab": {}
      },
      "source": [
        "PI = Fraction('3.141592653589')   #文字列から分数を生成することもできます．\n",
        "print(PI)"
      ],
      "execution_count": 0,
      "outputs": []
    },
    {
      "cell_type": "code",
      "metadata": {
        "id": "MjLjJVUUEUI2",
        "colab_type": "code",
        "colab": {}
      },
      "source": [
        "PI*0.3                     #有理数に実数をかけると実数に戻ってしまいますが"
      ],
      "execution_count": 0,
      "outputs": []
    },
    {
      "cell_type": "code",
      "metadata": {
        "id": "oUQIIZw_EUJC",
        "colab_type": "code",
        "colab": {}
      },
      "source": [
        "PI/3                       #有理数を整数でわると答は有理数のままです"
      ],
      "execution_count": 0,
      "outputs": []
    },
    {
      "cell_type": "code",
      "metadata": {
        "id": "WCuwHr98EUJL",
        "colab_type": "code",
        "colab": {},
        "outputId": "6b854ed6-fe16-46b7-f637-2f2a8843b835"
      },
      "source": [
        "from fractions import *\n",
        "from math import pi   #こちらはmathモジュールに定義されている実数の円周率\n",
        "print(pi)\n",
        "B = Fraction(pi).limit_denominator(10000)  #円周率を，分母が10000以下の有理数で近似します．\n",
        "print(B)"
      ],
      "execution_count": 0,
      "outputs": [
        {
          "output_type": "stream",
          "text": [
            "3.141592653589793\n",
            "355/113\n"
          ],
          "name": "stdout"
        }
      ]
    },
    {
      "cell_type": "code",
      "metadata": {
        "id": "mSNZ9nb_EUJS",
        "colab_type": "code",
        "colab": {}
      },
      "source": [
        "C=float(B)   #有理数を実数に戻します．\n",
        "print(C)"
      ],
      "execution_count": 0,
      "outputs": []
    }
  ]
}
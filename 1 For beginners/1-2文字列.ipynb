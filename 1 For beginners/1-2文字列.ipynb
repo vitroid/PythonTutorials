{
  "nbformat": 4,
  "nbformat_minor": 0,
  "metadata": {
    "kernelspec": {
      "display_name": "Python 3",
      "language": "python",
      "name": "python3"
    },
    "language_info": {
      "codemirror_mode": {
        "name": "ipython",
        "version": 3
      },
      "file_extension": ".py",
      "mimetype": "text/x-python",
      "name": "python",
      "nbconvert_exporter": "python",
      "pygments_lexer": "ipython3",
      "version": "3.7.2"
    },
    "colab": {
      "name": "1-2文字列.ipynb",
      "provenance": [],
      "include_colab_link": true
    }
  },
  "cells": [
    {
      "cell_type": "markdown",
      "metadata": {
        "id": "view-in-github",
        "colab_type": "text"
      },
      "source": [
        "<a href=\"https://colab.research.google.com/github/vitroid/PythonTutorials/blob/2021/1%20For%20beginners/1-2%E6%96%87%E5%AD%97%E5%88%97.ipynb\" target=\"_parent\"><img src=\"https://colab.research.google.com/assets/colab-badge.svg\" alt=\"Open In Colab\"/></a>"
      ]
    },
    {
      "cell_type": "markdown",
      "metadata": {
        "id": "CYK5YQa2A-1e"
      },
      "source": [
        "[▶️ 解説 (Stream動画)](https://web.microsoftstream.com/video/a00ce950-2dcc-4165-b8eb-cc1e8f103634)"
      ]
    },
    {
      "cell_type": "markdown",
      "metadata": {
        "id": "41IXScWvw64K"
      },
      "source": [
        "# 文字列\n",
        "文字列はダブルクオーテーションマーク(\") かクオーテーションマーク(')で括ります。文字列同士を足し合わせると、長い文字列ができます。"
      ]
    },
    {
      "cell_type": "code",
      "metadata": {
        "id": "1LPtZQD_w64U"
      },
      "source": [
        "\"Hello\"+\" \"+\"world\""
      ],
      "execution_count": null,
      "outputs": []
    },
    {
      "cell_type": "markdown",
      "metadata": {
        "id": "NuKqq7EDw65r"
      },
      "source": [
        "文字列も、数字と同じく変数に入れることができます。"
      ]
    },
    {
      "cell_type": "code",
      "metadata": {
        "id": "npl1S4Qyw658"
      },
      "source": [
        "h=\"hello\"\n",
        "w=\"world\"\n",
        "w+\" \"+h"
      ],
      "execution_count": null,
      "outputs": []
    },
    {
      "cell_type": "markdown",
      "metadata": {
        "id": "y8Vn-mTzw66P"
      },
      "source": [
        "文字列を整数倍すると、文字列の繰り返しができます。長い文字列を作りたい場合に便利。"
      ]
    },
    {
      "cell_type": "code",
      "metadata": {
        "id": "rOV6oQb5w66R"
      },
      "source": [
        "h=\"help! \"\n",
        "h*10"
      ],
      "execution_count": null,
      "outputs": []
    },
    {
      "cell_type": "markdown",
      "metadata": {
        "id": "0ZzBorynw66k"
      },
      "source": [
        "数字と違い、文字列\\*文字列や文字列/文字列のような計算は定義されていないのでエラーになります。\n",
        "sin(x)やcos(x)が数値xの関数であるのと同じように、文字列xに対する関数もいくつかあります。例えば、len(x)関数は、文字列xの長さを返す関数です。"
      ]
    },
    {
      "cell_type": "code",
      "metadata": {
        "id": "8APsn8N_w66n"
      },
      "source": [
        "k=\"kurashiki\"\n",
        "len(k)"
      ],
      "execution_count": null,
      "outputs": []
    },
    {
      "cell_type": "markdown",
      "metadata": {
        "id": "DWNPEChJw664"
      },
      "source": [
        "文字列の一部分をとりだすこともできます。例えば、文字列Kuraの5番目の文字だけを取りだしたい時は、Kura[4]と書きます。(Pythonでは最初の文字は0番目と数えることに注意)また、(先頭を0文字目として)1文字目から6文字目を取りだす場合はKura[1:7]と書きます。(Pythonではa以上b未満の区間を[a:b]と書きます)"
      ]
    },
    {
      "cell_type": "code",
      "metadata": {
        "id": "HIiwnqiXw668"
      },
      "source": [
        "Kura=\"kurashiki\"\n",
        "Kura[4]"
      ],
      "execution_count": null,
      "outputs": []
    },
    {
      "cell_type": "code",
      "metadata": {
        "id": "7U0VHEn_w67S"
      },
      "source": [
        "Oka=\"okayama\"\n",
        "Kura[1:7]+Oka[5:7]"
      ],
      "execution_count": null,
      "outputs": []
    },
    {
      "cell_type": "markdown",
      "metadata": {
        "id": "JhMVaPxTw67k"
      },
      "source": [
        "Kura[1:7]は、文字列変数kの1文字目〜6文字目までを指し、Oka[5:7]は5文字目〜6文字目を指します。Kura[1:6]+Oka[5:6]ではないことに注意すること。\n",
        "日本語文字列も使えます。"
      ]
    },
    {
      "cell_type": "code",
      "metadata": {
        "id": "ijiQmFl2w67o"
      },
      "source": [
        "x=\"日本語abc\"\n",
        "len(x)"
      ],
      "execution_count": null,
      "outputs": []
    },
    {
      "cell_type": "markdown",
      "metadata": {
        "id": "2Q7e015ww673"
      },
      "source": [
        "文字列の中に数字を埋めこんだりするのはけっこう面倒です．\n",
        "\n",
        "次の命令はエラーになります．文字列と数字をつなごうとしているからです．"
      ]
    },
    {
      "cell_type": "code",
      "metadata": {
        "id": "RTVvuWK3w675"
      },
      "source": [
        "x = 10 + 20\n",
        "z = \"答えは\"+x+\"です．\""
      ],
      "execution_count": null,
      "outputs": []
    },
    {
      "cell_type": "markdown",
      "metadata": {
        "id": "FvnPaTpBMRQa"
      },
      "source": [
        "数値を`str()`で文字列に変換してからつなげば問題ありません。"
      ]
    },
    {
      "cell_type": "code",
      "metadata": {
        "id": "qMPSvKMQMXOU"
      },
      "source": [
        "x = 10 + 20\n",
        "z = \"答えは\"+ str(x) +\"です．\"\n",
        "z"
      ],
      "execution_count": null,
      "outputs": []
    },
    {
      "cell_type": "markdown",
      "metadata": {
        "id": "wuPvL0Ggw68D"
      },
      "source": [
        "こんな時に便利なのがformat命令です．formatを使うと，文字列の中に文字列や数字を埋めこむことができます．formatの使い方はすこしくせがあります．"
      ]
    },
    {
      "cell_type": "code",
      "metadata": {
        "id": "byrkRDstw68G"
      },
      "source": [
        "x = 10\n",
        "y = 20\n",
        "\n",
        "z = \"{0}×{1}の答は{2}です\".format(x,y,x*y)   \n",
        "#formatの括弧の中に並べた3つの要素x, y, x*yの値が，その前のダブルクオーテーション\"\"のなかの文字列の{0}[1}{2}にそれぞれ埋めこまれる．\n",
        "z"
      ],
      "execution_count": null,
      "outputs": []
    },
    {
      "cell_type": "markdown",
      "metadata": {
        "id": "XkaVqIaZ42zB"
      },
      "source": [
        "### Exercise\n",
        "\n",
        "文字列\"うら\"と\"にわ\"と\"とりがいる\"を連結して、「うらにわにわにわにわにわにわにわとりがいる」を作って下さい。"
      ]
    },
    {
      "cell_type": "code",
      "metadata": {
        "id": "Wb5cj7M-w68R"
      },
      "source": [
        "a = \"うら\"\n",
        "b = \"にわ\"\n",
        "c = \"とりがいる\"\n",
        "\n",
        "# write here\n"
      ],
      "execution_count": null,
      "outputs": []
    },
    {
      "cell_type": "markdown",
      "metadata": {
        "id": "b79xzUfOMs_c"
      },
      "source": [
        ""
      ]
    }
  ]
}
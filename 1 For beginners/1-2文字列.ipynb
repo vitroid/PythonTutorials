{
 "cells": [
  {
   "cell_type": "markdown",
   "metadata": {},
   "source": [
    "# 文字列\n",
    "文字列はクオーテーションマークで括ります。文字列同士を足し合わせると、長い文字列ができます。"
   ]
  },
  {
   "cell_type": "code",
   "execution_count": null,
   "metadata": {
    "collapsed": false
   },
   "outputs": [],
   "source": [
    "\"Hello\"+\" \"+\"world\""
   ]
  },
  {
   "cell_type": "markdown",
   "metadata": {},
   "source": [
    "文字列も、数字と同じく変数に入れることができます。"
   ]
  },
  {
   "cell_type": "code",
   "execution_count": null,
   "metadata": {
    "collapsed": false
   },
   "outputs": [],
   "source": [
    "h=\"hello\"\n",
    "w=\"world\"\n",
    "w+\" \"+h"
   ]
  },
  {
   "cell_type": "markdown",
   "metadata": {},
   "source": [
    "文字列を整数倍すると、文字列の繰り返しができます。長い文字列を作りたい場合に便利。"
   ]
  },
  {
   "cell_type": "code",
   "execution_count": null,
   "metadata": {
    "collapsed": false
   },
   "outputs": [],
   "source": [
    "h=\"help! \"\n",
    "h*10"
   ]
  },
  {
   "cell_type": "markdown",
   "metadata": {},
   "source": [
    "数字と違い、文字列\\*文字列や文字列/文字列のような計算は定義されていないのでエラーになります。\n",
    "sin(x)やcos(x)が数値xの関数であるのと同じように、文字列xに対する関数もいくつかあります。例えば、len(x)関数は、文字列xの長さを返す関数です。"
   ]
  },
  {
   "cell_type": "code",
   "execution_count": null,
   "metadata": {
    "collapsed": false
   },
   "outputs": [],
   "source": [
    "k=\"kurashiki\"\n",
    "len(k)"
   ]
  },
  {
   "cell_type": "markdown",
   "metadata": {},
   "source": [
    "文字列の一部分をとりだすこともできます。例えば、文字列Kuraの5番目の文字だけを取りだしたい時は、Kura[4]と書きます。(Pythonでは最初の文字は0番目と数えることに注意)また、(先頭を0文字目として)1文字目から6文字目を取りだす場合はKura[1:7]と書きます。(Pythonではa以上b未満の区間を[a:b]と書きます)"
   ]
  },
  {
   "cell_type": "code",
   "execution_count": null,
   "metadata": {
    "collapsed": false
   },
   "outputs": [],
   "source": [
    "Kura=\"kurashiki\"\n",
    "Kura[4]"
   ]
  },
  {
   "cell_type": "code",
   "execution_count": null,
   "metadata": {
    "collapsed": false
   },
   "outputs": [],
   "source": [
    "Oka=\"okayama\"\n",
    "Kura[1:7]+Oka[5:7]"
   ]
  },
  {
   "cell_type": "markdown",
   "metadata": {},
   "source": [
    "Kura[1:7]は、文字列変数kの1文字目〜6文字目までを指し、Oka[5:7]は5文字目〜6文字目を指します。Kura[1:6]+Oka[5:6]ではないことに注意すること。\n",
    "日本語文字列も使えます。"
   ]
  },
  {
   "cell_type": "code",
   "execution_count": null,
   "metadata": {
    "collapsed": false
   },
   "outputs": [],
   "source": [
    "x=\"日本語abc\"\n",
    "len(x)"
   ]
  },
  {
   "cell_type": "code",
   "execution_count": null,
   "metadata": {
    "collapsed": true
   },
   "outputs": [],
   "source": []
  }
 ],
 "metadata": {
  "kernelspec": {
   "display_name": "Python 3",
   "language": "python",
   "name": "python3"
  },
  "language_info": {
   "codemirror_mode": {
    "name": "ipython",
    "version": 3
   },
   "file_extension": ".py",
   "mimetype": "text/x-python",
   "name": "python",
   "nbconvert_exporter": "python",
   "pygments_lexer": "ipython3",
   "version": "3.5.1"
  }
 },
 "nbformat": 4,
 "nbformat_minor": 0
}

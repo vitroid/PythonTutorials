{
  "cells": [
    {
      "cell_type": "markdown",
      "metadata": {
        "colab_type": "text",
        "id": "view-in-github"
      },
      "source": [
        "<a href=\"https://colab.research.google.com/github/vitroid/PythonTutorials/blob/2020b3/1%20For%20beginners/5-5GoogleDriveOnColab.ipynb\" target=\"_parent\"><img src=\"https://colab.research.google.com/assets/colab-badge.svg\" alt=\"Open In Colab\"/></a>"
      ]
    },
    {
      "cell_type": "markdown",
      "metadata": {
        "colab_type": "text",
        "id": "NKMoGQfFvHhx"
      },
      "source": [
        "# Google DriveとColabの連携\n",
        "\n",
        "(2022加筆)このあたりは、手順がかなり変わっている可能性あり。\n",
        "\n",
        "Google colabを使うと、計算はすべてGoogleの所有するクラウド上のコンピュータで行われるので、自分の手持ちのパソコンやスマホの性能に関係なく、高度な計算を高速に行えます。(GPUやNeural Engineを搭載した、数十万円クラスの計算サーバを使っているそうです)\n",
        "\n",
        "クラウド上で処理を行うデメリットは、手許にあるデータファイルを解析することができないことです。そこで、同じくGoogleが提供するファイル共有サービスである、Google Drive(今はGoogle Oneという名前になった?)を使って、手許のファイルを自動的にCloudにアップロードする設定を行います。\n",
        "\n",
        "\n",
        "## Google Driveの準備\n",
        "\n",
        "岡山大学の学生なら、GMailのアカウントを持っているので、Google Driveを使う権利をすでに有していると思われます。また、すでに自分でGoogle Driveを使っている人はこの節は読みとばして構いません。\n",
        "\n",
        "* 自分のパソコンから作業する場合は、[Google Driveアプリ](https://www.google.com/drive/download/)をインストールしておくと大変便利です。ホームディレクトリの中の`Google Drive/`フォルダーに投入したファイルは、クラウドを経由してほかのデバイスに自動的に同期されます。\n",
        "* [スマホ用のアプリ](https://www.google.com/drive/download/)もあります。これはクラウドにコピーされたファイルを見るためのアプリです。\n",
        "* 大学の演習室のコンピュータにはGoogle Driveをインストールできないと思われますので、その場合は[ブラウザからGoogle Driveにアクセス](https://drive.google.com/drive/my-drive)して下さい。\n",
        "\n",
        "途中、Googleアカウントでの認証があると思います。\n",
        "\n",
        "### 1. サンプルファイルを手に入れる\n",
        "\n",
        "右クリックでリンク先のファイルをダウンロードして下さい。\n",
        "\n",
        "* [data.txt](https://raw.githubusercontent.com/vitroid/PythonTutorials/2020b3/1%20For%20beginners/data.txt)\n",
        "* [sample1.txt](https://raw.githubusercontent.com/vitroid/PythonTutorials/2020b3/1%20For%20beginners/sample1.txt)\n",
        "* [sample2short.txt](https://raw.githubusercontent.com/vitroid/PythonTutorials/2020b3/1%20For%20beginners/sample2short.txt)\n",
        "* [sample2.txt](https://raw.githubusercontent.com/vitroid/PythonTutorials/2020b3/1%20For%20beginners/sample2.txt)\n",
        "* [sample3short.txt](https://raw.githubusercontent.com/vitroid/PythonTutorials/2020b3/1%20For%20beginners/sample3short.txt)\n",
        "* [sample3.txt](https://raw.githubusercontent.com/vitroid/PythonTutorials/2020b3/1%20For%20beginners/sample3.txt)\n",
        "\n",
        "#### 2.1 自分のパソコンにGoogle Driveアプリが入っている場合\n",
        "\n",
        "ダウンロードしたファイルを`Google Drive/`フォルダーに入れて下さい。\n",
        "\n",
        "* [実演動画](https://web.microsoftstream.com/video/d730551e-97f0-4a55-a709-73478165bf5b): ただファイルを投入するだけです。\n",
        "\n",
        "#### 2.2 ブラウザを使ってGoogle Driveにファイルを入れる場合\n",
        "\n",
        "[ブラウザからGoogle Driveにアクセス](https://drive.google.com/drive/my-drive)して、自分のGoogle Driveにアップロードして下さい。\n",
        "\n",
        "* [実演動画](https://web.microsoftstream.com/video/ac2e55fd-850f-4095-9405-651c87c113af): 画面下半分がブラウザ画面です。\n",
        "\n",
        "## Google Colabでの設定\n",
        "\n",
        "1. Google Colabの画面(この画面)の左端の、フォルダーアイコン![](https://i.gyazo.com/7bd821e06a4fb77707552eb666b79443.png)を押して、ファイルブラウザを表示します。クラウド上にあるファイルはここに表示されます。通常は`sample_data`だけが入っています。\n",
        "2. ![](https://i.gyazo.com/82a8857e7c213a6cf164579606082f64.png)Mount Drive を押します。\n",
        "3. 以下のようなサンプルコードが自動的に挿入されます。\n",
        "```python\n",
        "from google.colab import drive\n",
        "drive.mount('/content/drive')\n",
        "```\n",
        "これを実行すると、以下のような表示が出ます。\n",
        "```\n",
        "Go to this URL in a browser: https://...\n",
        "Enter your authorization code:\n",
        "```\n",
        "表示されたリンクをクリックして、表示された長い認証コードをコピーし、長方形の枠内にペーストして下さい。\n"
      ]
    },
    {
      "cell_type": "code",
      "execution_count": null,
      "metadata": {
        "colab": {},
        "colab_type": "code",
        "id": "7IXq4PaY9Xmj"
      },
      "outputs": [],
      "source": [
        "from google.colab import drive\n",
        "drive.mount('/content/drive')"
      ]
    },
    {
      "cell_type": "markdown",
      "metadata": {
        "colab_type": "text",
        "id": "dDK3JWwe-QXj"
      },
      "source": [
        "4. 左のファイルブラウザに、`drive`という名前のフォルダーが表示されます。Google Drive内のファイルは、そのフォルダーの中の`My Drive`の中にみつかります。前節の説明でGoogle Driveに入れた`data.txt`などのファイルがあることを確認して下さい。\n",
        "\n",
        "5. (著者確認) このページ上で認証すれば、別のページでもDriveがマウントされているのか。\n"
      ]
    },
    {
      "cell_type": "code",
      "execution_count": null,
      "metadata": {
        "colab": {},
        "colab_type": "code",
        "id": "zFq6HnvJ-Cpy"
      },
      "outputs": [],
      "source": []
    }
  ],
  "metadata": {
    "colab": {
      "include_colab_link": true,
      "name": "5-5GoogleDriveOnColab.ipynb",
      "provenance": [],
      "toc_visible": true
    },
    "kernelspec": {
      "display_name": "Python 3",
      "language": "python",
      "name": "python3"
    },
    "language_info": {
      "codemirror_mode": {
        "name": "ipython",
        "version": 3
      },
      "file_extension": ".py",
      "mimetype": "text/x-python",
      "name": "python",
      "nbconvert_exporter": "python",
      "pygments_lexer": "ipython3",
      "version": "3.6.5"
    }
  },
  "nbformat": 4,
  "nbformat_minor": 0
}

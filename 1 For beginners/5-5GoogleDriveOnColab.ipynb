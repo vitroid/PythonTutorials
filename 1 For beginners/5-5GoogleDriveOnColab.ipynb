{
  "nbformat": 4,
  "nbformat_minor": 0,
  "metadata": {
    "kernelspec": {
      "display_name": "Python 3",
      "language": "python",
      "name": "python3"
    },
    "language_info": {
      "codemirror_mode": {
        "name": "ipython",
        "version": 3
      },
      "file_extension": ".py",
      "mimetype": "text/x-python",
      "name": "python",
      "nbconvert_exporter": "python",
      "pygments_lexer": "ipython3",
      "version": "3.6.5"
    },
    "colab": {
      "name": "0First.ipynb",
      "provenance": [],
      "toc_visible": true,
      "include_colab_link": true
    }
  },
  "cells": [
    {
      "cell_type": "markdown",
      "metadata": {
        "id": "view-in-github",
        "colab_type": "text"
      },
      "source": [
        "<a href=\"https://colab.research.google.com/github/vitroid/PythonTutorials/blob/2020b3/1%20For%20beginners/5-5GoogleDriveOnColab.ipynb\" target=\"_parent\"><img src=\"https://colab.research.google.com/assets/colab-badge.svg\" alt=\"Open In Colab\"/></a>"
      ]
    },
    {
      "cell_type": "markdown",
      "metadata": {
        "id": "NKMoGQfFvHhx",
        "colab_type": "text"
      },
      "source": [
        "# Google Drive\n",
        "\n",
        "\n",
        "## Google Driveの準備\n",
        "\n",
        "岡山大学の学生なら、GMailのアカウントを持っているので、Google Driveを使う権利をすでに有していると思われます。また、すでに自分でGoogle Driveを使っている人はこの節は読みとばして構いません。\n",
        "\n",
        "* 自分のパソコンから作業する場合は、[Google Driveアプリ](https://www.google.com/drive/download/)をインストールしておくと大変便利です。\n",
        "* [スマホ用のアプリ](https://www.google.com/drive/download/)もあります。\n",
        "* 大学の演習室のコンピュータにはGoogle Driveをインストールできないと思われますので、その場合は[ブラウザからGoogle Driveにアクセス](https://drive.google.com/drive/my-drive)して下さい。\n",
        "\n",
        "途中、Googleアカウントでの認証があると思います。\n",
        "\n",
        "## Google Colabでの設定\n",
        "\n",
        "1. Google Colabの画面(この画面)の左端の、フォルダーアイコン![](https://i.gyazo.com/7bd821e06a4fb77707552eb666b79443.png)を押して、ファイルメニューを表示します。クラウド上にあるファイルはここに表示されます。通常は`sample_data`だけが入っています。\n",
        "2. ![](https://i.gyazo.com/82a8857e7c213a6cf164579606082f64.png)Mount Drive を押します。"
      ]
    },
    {
      "cell_type": "code",
      "metadata": {
        "id": "tVDchV4GvHh2",
        "colab_type": "code",
        "colab": {}
      },
      "source": [
        "# Taken from https://www.quora.com/Using-Python-whats-the-best-way-to-get-stock-data\n",
        "# Install yfinance package.\n",
        "!pip install yfinance\n",
        "import yfinance as yf  \n",
        "import matplotlib.pyplot as plt\n",
        " \n",
        "# Get the data for the stock Apple by specifying the stock ticker, start date, and end date\n",
        "yf.download('AAPL','2019-01-01','2020-05-12').Close.plot()\n",
        "plt.show()"
      ],
      "execution_count": 0,
      "outputs": []
    },
    {
      "cell_type": "markdown",
      "metadata": {
        "id": "9MJPNzpdvHiS",
        "colab_type": "text"
      },
      "source": [
        "最近では、データサイエンスや人工知能や画像処理の研究者が好んでPythonを使うようになり、常に人気のある(そして最も稼げる)プログラム言語ランキングの上位に位置しています。何かプログラム言語を学んだことがある人なら、Pythonをほとんど違和感なく使えるはずです。そして、しばらく慣れてくると、ほかの言語に比べていかにシンプルに書け、読みやすいかが感じられるようになるでしょう。初めて学ぶ人も、ぜひこの機会にさわってみて、雰囲気を味わって下さい。\n",
        "\n",
        "初日は、Pythonの初歩を、ブラウザ上で演習します。テキストは予め配布したファイルに含まれています。"
      ]
    },
    {
      "cell_type": "code",
      "metadata": {
        "id": "NbXi4JSKvHiT",
        "colab_type": "code",
        "colab": {}
      },
      "source": [
        ""
      ],
      "execution_count": 0,
      "outputs": []
    }
  ]
}
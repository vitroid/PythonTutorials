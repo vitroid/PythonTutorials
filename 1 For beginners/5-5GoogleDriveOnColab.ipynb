{
  "nbformat": 4,
  "nbformat_minor": 0,
  "metadata": {
    "kernelspec": {
      "display_name": "Python 3",
      "language": "python",
      "name": "python3"
    },
    "language_info": {
      "codemirror_mode": {
        "name": "ipython",
        "version": 3
      },
      "file_extension": ".py",
      "mimetype": "text/x-python",
      "name": "python",
      "nbconvert_exporter": "python",
      "pygments_lexer": "ipython3",
      "version": "3.6.5"
    },
    "colab": {
      "name": "0First.ipynb",
      "provenance": [],
      "toc_visible": true,
      "include_colab_link": true
    }
  },
  "cells": [
    {
      "cell_type": "markdown",
      "metadata": {
        "id": "view-in-github",
        "colab_type": "text"
      },
      "source": [
        "<a href=\"https://colab.research.google.com/github/vitroid/PythonTutorials/blob/2020b3/1%20For%20beginners/5-5GoogleDriveOnColab.ipynb\" target=\"_parent\"><img src=\"https://colab.research.google.com/assets/colab-badge.svg\" alt=\"Open In Colab\"/></a>"
      ]
    },
    {
      "cell_type": "markdown",
      "metadata": {
        "id": "NKMoGQfFvHhx",
        "colab_type": "text"
      },
      "source": [
        "# Google DriveとColabの連携\n",
        "\n",
        "Google colabを使うと、計算はすべてGoogleの所有するクラウド上のコンピュータで行われるので、自分の手持ちのパソコンやスマホの性能に関係なく、高度な計算を高速に行えます。(GPUやNeural Engineを搭載した、数十万円クラスの計算サーバを使っているそうです)\n",
        "\n",
        "クラウド上で処理を行うデメリットは、手許にあるデータファイルを解析することができないことです。そこで、同じくGoogleが提供するファイル共有サービスである、Google Drive(今はGoogle Oneという名前になった?)を使って、手許のファイルを自動的にCloudにアップロードする設定を行います。\n",
        "\n",
        "\n",
        "## Google Driveの準備\n",
        "\n",
        "岡山大学の学生なら、GMailのアカウントを持っているので、Google Driveを使う権利をすでに有していると思われます。また、すでに自分でGoogle Driveを使っている人はこの節は読みとばして構いません。\n",
        "\n",
        "* 自分のパソコンから作業する場合は、[Google Driveアプリ](https://www.google.com/drive/download/)をインストールしておくと大変便利です。\n",
        "* [スマホ用のアプリ](https://www.google.com/drive/download/)もあります。\n",
        "* 大学の演習室のコンピュータにはGoogle Driveをインストールできないと思われますので、その場合は[ブラウザからGoogle Driveにアクセス](https://drive.google.com/drive/my-drive)して下さい。\n",
        "\n",
        "途中、Googleアカウントでの認証があると思います。\n",
        "\n",
        "## Google Colabでの設定\n",
        "\n",
        "1. Google Colabの画面(この画面)の左端の、フォルダーアイコン![](https://i.gyazo.com/7bd821e06a4fb77707552eb666b79443.png)を押して、ファイルブラウザを表示します。クラウド上にあるファイルはここに表示されます。通常は`sample_data`だけが入っています。\n",
        "2. ![](https://i.gyazo.com/82a8857e7c213a6cf164579606082f64.png)Mount Drive を押します。\n",
        "3. 以下のようなサンプルコードが自動的に挿入されます。\n",
        "```python\n",
        "from google.colab import drive\n",
        "drive.mount('/content/drive')\n",
        "```\n",
        "これを実行すると、以下のような表示が出ます。\n",
        "```\n",
        "Go to this URL in a browser: https://...\n",
        "Enter your authorization code:\n",
        "```\n",
        "表示されたリンクをクリックして、表示された長い認証コードをコピーし、長方形の枠内にペーストして下さい。\n"
      ]
    },
    {
      "cell_type": "code",
      "metadata": {
        "id": "7IXq4PaY9Xmj",
        "colab_type": "code",
        "colab": {
          "base_uri": "https://localhost:8080/",
          "height": 120
        },
        "outputId": "c9a823e1-e710-41dc-838a-277e8a6d610d"
      },
      "source": [
        "from google.colab import drive\n",
        "drive.mount('/content/drive')"
      ],
      "execution_count": 1,
      "outputs": [
        {
          "output_type": "stream",
          "text": [
            "Go to this URL in a browser: https://accounts.google.com/o/oauth2/auth?client_id=947318989803-6bn6qk8qdgf4n4g3pfee6491hc0brc4i.apps.googleusercontent.com&redirect_uri=urn%3aietf%3awg%3aoauth%3a2.0%3aoob&response_type=code&scope=email%20https%3a%2f%2fwww.googleapis.com%2fauth%2fdocs.test%20https%3a%2f%2fwww.googleapis.com%2fauth%2fdrive%20https%3a%2f%2fwww.googleapis.com%2fauth%2fdrive.photos.readonly%20https%3a%2f%2fwww.googleapis.com%2fauth%2fpeopleapi.readonly\n",
            "\n",
            "Enter your authorization code:\n",
            "··········\n",
            "Mounted at /content/drive\n"
          ],
          "name": "stdout"
        }
      ]
    },
    {
      "cell_type": "markdown",
      "metadata": {
        "id": "dDK3JWwe-QXj",
        "colab_type": "text"
      },
      "source": [
        "4. 左のファイルブラウザに、`drive`という名前のフォルダーが表示されます。Google Drive内のファイルは、そのフォルダーの中の`My Drive`の中にみつかります。\n",
        "5. 手許のGoogle Driveの内容がクラウド上に反映されるか、試してみます。\n",
        "  1. リンク[百人一首.txt](http://raw.githubusercontent.com/vitroid/PythonTutorials/2020m0/2%20Advanced/百人一首.txt)を右クリックしてダウンロードして下さい。\n",
        "  2. ダウンロードしたファイルを、Google Driveに入れて下さい。(ブラウザからGoogle Driveにアクセスする場合は、Google Driveの画面の左上の\"+ New\"を押し、File Uploadを選んでアップロードして下さい。)\n",
        "  3. しばらくすると、Colabのファイルブラウザのdrive/My Driveの中にそのファイルが出現するはずです。"
      ]
    }
  ]
}
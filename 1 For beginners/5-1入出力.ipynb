{
 "cells": [
  {
   "cell_type": "markdown",
   "metadata": {},
   "source": [
    "# 入出力\n",
    "プログラムの中に直接数値を書きこむのではなく、プログラムを動かしながら、必要な値を随時指定できると、「プログラムを書く」作業と「プログラムを使用する」作業を分離できます。一旦書きあげたプログラムに手を加えないで、いろんなデータを処理させることができるようになるので、便利です。\n",
    "\n",
    "また、実験データをプログラムで処理する場合、あらかじめファイルに書かれたデータを読みこんで計算を行ったり、計算結果をファイルに書きだしたりできると便利です。そこで、ファイルの読み書きの方法について説明します。 "
   ]
  },
  {
   "cell_type": "code",
   "execution_count": null,
   "metadata": {
    "collapsed": true
   },
   "outputs": [],
   "source": []
  }
 ],
 "metadata": {
  "kernelspec": {
   "display_name": "Python 3",
   "language": "python",
   "name": "python3"
  },
  "language_info": {
   "codemirror_mode": {
    "name": "ipython",
    "version": 3
   },
   "file_extension": ".py",
   "mimetype": "text/x-python",
   "name": "python",
   "nbconvert_exporter": "python",
   "pygments_lexer": "ipython3",
   "version": "3.4.4"
  }
 },
 "nbformat": 4,
 "nbformat_minor": 0
}

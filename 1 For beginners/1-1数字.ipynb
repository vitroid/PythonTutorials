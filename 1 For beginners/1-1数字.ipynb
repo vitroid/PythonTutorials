{
  "nbformat": 4,
  "nbformat_minor": 0,
  "metadata": {
    "kernelspec": {
      "display_name": "Python 3",
      "language": "python",
      "name": "python3"
    },
    "language_info": {
      "codemirror_mode": {
        "name": "ipython",
        "version": 3
      },
      "file_extension": ".py",
      "mimetype": "text/x-python",
      "name": "python",
      "nbconvert_exporter": "python",
      "pygments_lexer": "ipython3",
      "version": "3.7.2"
    },
    "colab": {
      "name": "1-1数字.ipynb",
      "provenance": [],
      "include_colab_link": true
    }
  },
  "cells": [
    {
      "cell_type": "markdown",
      "metadata": {
        "id": "view-in-github",
        "colab_type": "text"
      },
      "source": [
        "<a href=\"https://colab.research.google.com/github/vitroid/PythonTutorials/blob/2021/1%20For%20beginners/1-1%E6%95%B0%E5%AD%97.ipynb\" target=\"_parent\"><img src=\"https://colab.research.google.com/assets/colab-badge.svg\" alt=\"Open In Colab\"/></a>"
      ]
    },
    {
      "cell_type": "markdown",
      "metadata": {
        "id": "N7iXOyIb9x7D"
      },
      "source": [
        "[▶️ 解説 (Stream動画)](https://web.microsoftstream.com/video/c62c43ca-d247-4b64-8bfd-80c0bbbc39cf)"
      ]
    },
    {
      "cell_type": "markdown",
      "metadata": {
        "id": "RFsWmynM7rCv"
      },
      "source": [
        "### 数字\n",
        "Pythonでは整数と実数を区別して扱います。小数点がない数字は整数、小数点がある数字は実数です。整数同士で計算すると、答も整数になります。実数を混ぜて計算すると答も実数になります。\n",
        "\n",
        "1. 左端に`[ ]`と書いてある行をマウスでクリックすると、数式を編集できます。\n",
        "1. Shiftを押しながらEnter(Return)を押すか、左の▶︎を押すと結果が表示されます。\n",
        "1. 「GoogleがAuthorしてないから安全じゃないかもよ」と言ってきますが気にせずそのまま実行(Run Anyway)して下さい。"
      ]
    },
    {
      "cell_type": "code",
      "metadata": {
        "id": "K86bv9OF7rDN"
      },
      "source": [
        "2+3"
      ],
      "execution_count": null,
      "outputs": []
    },
    {
      "cell_type": "code",
      "metadata": {
        "id": "iZXcdRGb7rEz"
      },
      "source": [
        "2.2+3"
      ],
      "execution_count": null,
      "outputs": []
    },
    {
      "cell_type": "markdown",
      "metadata": {
        "id": "5kdbCgj27rJB"
      },
      "source": [
        "* 四則演算の演算子 + – \\* / のほかに、% (割り算の余り)、\\** (べき乗)が使える。\n",
        "* 整数と実数を混在させて計算すると、答は実数になることに注意して下さい。\n",
        "* 割り算の場合は、整数を整数で割ると実数になります。\n",
        "* 整数の解(小数以下切りすて)が必要な場合は//と書きます。"
      ]
    },
    {
      "cell_type": "code",
      "metadata": {
        "id": "ufYgCXUT7rJd"
      },
      "source": [
        "50/7"
      ],
      "execution_count": null,
      "outputs": []
    },
    {
      "cell_type": "code",
      "metadata": {
        "id": "xahvedVd7rJ3"
      },
      "source": [
        "50//7"
      ],
      "execution_count": null,
      "outputs": []
    },
    {
      "cell_type": "code",
      "metadata": {
        "id": "nPjkvbeR7rND"
      },
      "source": [
        "50%7"
      ],
      "execution_count": null,
      "outputs": []
    },
    {
      "cell_type": "code",
      "metadata": {
        "id": "DpE6v4247rNZ"
      },
      "source": [
        "8**300"
      ],
      "execution_count": null,
      "outputs": []
    },
    {
      "cell_type": "code",
      "metadata": {
        "id": "L5n0ShqO7rOb"
      },
      "source": [
        "50%3.3"
      ],
      "execution_count": null,
      "outputs": []
    },
    {
      "cell_type": "markdown",
      "metadata": {
        "id": "p5jYkz3-I0WL"
      },
      "source": [
        "> ▶︎の輪っかがぐるぐるまわっていつまでたっても計算が終わらない場合は、▶︎をダブルクリックすると計算を強制終了できます。(上のRuntimeメニューの\"Interrupt Execution\"でも止められます)"
      ]
    },
    {
      "cell_type": "markdown",
      "metadata": {
        "id": "oeW8lTgI7rOn"
      },
      "source": [
        "計算の優先順位は、(+, –) < (/, \\*, %) < (**)。同じ順位の演算子は前から順番に計算されます。優先順位を変える場合は丸カッコを使います。"
      ]
    },
    {
      "cell_type": "code",
      "metadata": {
        "id": "lNT1gg-y7rOp"
      },
      "source": [
        "1+2**3-4*5%6"
      ],
      "execution_count": null,
      "outputs": []
    },
    {
      "cell_type": "code",
      "metadata": {
        "id": "G9sfCGhQ7rPR"
      },
      "source": [
        "(1+2)**3-4*(5%6) "
      ],
      "execution_count": null,
      "outputs": []
    },
    {
      "cell_type": "markdown",
      "metadata": {
        "id": "yQF88T-p8yAT"
      },
      "source": [
        "`6.022e23`は 6.022 × 10<sup>23</sup>を意味します。 \n"
      ]
    },
    {
      "cell_type": "code",
      "metadata": {
        "id": "H4tMgqoI7_-v"
      },
      "source": [
        "6.022e23*1.381e-23"
      ],
      "execution_count": null,
      "outputs": []
    },
    {
      "cell_type": "markdown",
      "metadata": {
        "id": "yf-a-TsP7rP1"
      },
      "source": [
        "整数だと、どんな大きな数でも最後の一桁まできちんと計算されますが、実数の場合は有効数字17桁程度で丸められます。(表示される桁数はもっと少ないのですが、内部では17桁の精度を保持しています)\n",
        "\n"
      ]
    },
    {
      "cell_type": "code",
      "metadata": {
        "id": "ToxKa2jO7rP2"
      },
      "source": [
        "3**1000 "
      ],
      "execution_count": null,
      "outputs": []
    },
    {
      "cell_type": "code",
      "metadata": {
        "id": "dJ7rYEXc7rQL"
      },
      "source": [
        "3.0**100"
      ],
      "execution_count": null,
      "outputs": []
    },
    {
      "cell_type": "markdown",
      "metadata": {
        "id": "3MTfzY1S8sRX"
      },
      "source": [
        "数値の桁数が多い時には、読みやすいように_で区切ってもかまいません。"
      ]
    },
    {
      "cell_type": "code",
      "metadata": {
        "id": "yqJ2bfe4894F"
      },
      "source": [
        "3.141_592_653_589_793"
      ],
      "execution_count": null,
      "outputs": []
    },
    {
      "cell_type": "markdown",
      "metadata": {
        "id": "XwXCBdUl7rQg"
      },
      "source": [
        "複素数も使えます。5 + 3i は “5+3j” と表記します。虚数iは “1j” と書きます。"
      ]
    },
    {
      "cell_type": "code",
      "metadata": {
        "id": "9fQSx5P57rQh"
      },
      "source": [
        "(5+3j)*1j"
      ],
      "execution_count": null,
      "outputs": []
    },
    {
      "cell_type": "markdown",
      "metadata": {
        "id": "83XEESgs7rQ6"
      },
      "source": [
        "あらかじめ、数値計算ライブラリmathを読みこんでおくと、いろんな数学関数が使えるようになります。(→mathで使える関数)"
      ]
    },
    {
      "cell_type": "code",
      "metadata": {
        "id": "5VTUOTDb7rQ6"
      },
      "source": [
        "# mathライブラリをimportして、ライブラリで定義された関数を全部使えるようにします。\n",
        "from math import *\n",
        "\n",
        "# sin, cos, tan, exp, log, abs(絶対値), などたくさんの数学関数が含まれています。このページの一番下で、一覧できます。\n",
        "sin(0.5)*cos(0.5)*exp(0.5)*log(0.5)"
      ],
      "execution_count": null,
      "outputs": []
    },
    {
      "cell_type": "markdown",
      "metadata": {
        "id": "88NdlWFQ7rRT"
      },
      "source": [
        "mathの代わりにcmathを読むこめば、複素関数が使えます。 "
      ]
    },
    {
      "cell_type": "code",
      "metadata": {
        "id": "23PcF37f7rRU"
      },
      "source": [
        "from cmath import *\n",
        "sin(0.5j)*cos(0.5j)*exp(0.5j)*log(0.5j)"
      ],
      "execution_count": null,
      "outputs": []
    },
    {
      "cell_type": "markdown",
      "metadata": {
        "id": "ErqH1NWr7rRa"
      },
      "source": [
        "変数をつかうと、計算結果を再利用することができます。変数名にはアルファベットと数字と “\\_”(アンダースコア)が使えます。ただし、アルファベットの大文字と小文字は区別され、数字からはじまる変数名は使えません。変数についてはあとでもう一度説明します。"
      ]
    },
    {
      "cell_type": "code",
      "metadata": {
        "id": "UnWGsCBM7rRf"
      },
      "source": [
        "from math import * \n",
        "sain=sin(0.5)\n",
        "kosain=cos(0.5)\n",
        "sain+kosain"
      ],
      "execution_count": null,
      "outputs": []
    },
    {
      "cell_type": "markdown",
      "metadata": {
        "id": "IWRAqz9u7rRu"
      },
      "source": [
        "なお、三角関数の角度はラジアンで指定します。30度の正弦を計算したい場合は、"
      ]
    },
    {
      "cell_type": "code",
      "metadata": {
        "id": "GOf3v4T37rRu"
      },
      "source": [
        "sin(30.0*pi/180)"
      ],
      "execution_count": null,
      "outputs": []
    },
    {
      "cell_type": "markdown",
      "metadata": {
        "id": "JhVxotGQ7rSB"
      },
      "source": [
        "という風に入力するか、数学関数radiansを使って、以下のように計算して下さい。"
      ]
    },
    {
      "cell_type": "code",
      "metadata": {
        "id": "1jf8ZHx5_QFD"
      },
      "source": [
        "sin(radians(30))"
      ],
      "execution_count": null,
      "outputs": []
    },
    {
      "cell_type": "markdown",
      "metadata": {
        "id": "KwjS1yEmKHXI"
      },
      "source": [
        "ここまでくれば、関数電卓の代わりにPythonを便利に使えます!\n",
        "\n",
        "\n",
        "---\n",
        "\n",
        "\n",
        "なお、Google Colabでは、同じウィンドウの中では、変数やライブラリは持続します。例えば、ある枠でmathライブラリをインポートすれば、そのあとは別の枠の中でもmathライブラリの関数が利用できます。(一つ上の枠では、math関数をインポートすることなく、sin関数を使用しています)\n",
        "\n",
        "変数や関数をはじめの状態に戻したい場合は、上のメニュー「ランタイム」から「リセット」して下さい。通信が不安定になるなどして、強制的にランタイムがリセットされた場合にも、変数がはじめの状態に戻ります。\n",
        "\n",
        "一方、ブラウザのウィンドウごとに、Googleのクラウド上の別のコンピュータが割りあてられています。このページでライブラリを読みこんでも、別のウィンドウでの作業には反映されません。"
      ]
    },
    {
      "cell_type": "markdown",
      "metadata": {
        "id": "PU0wIpVl_cHU"
      },
      "source": [
        "### Exercise 1\n",
        "連分数$$1+{1\\over 1+{1\\over 1+{1\\over 1}}}$$をPythonで計算して下さい。"
      ]
    },
    {
      "cell_type": "code",
      "metadata": {
        "id": "PUENvMzW_eTN"
      },
      "source": [
        ""
      ],
      "execution_count": null,
      "outputs": []
    },
    {
      "cell_type": "markdown",
      "metadata": {
        "id": "fbNzd2PZ_9FY"
      },
      "source": [
        "### Exercise 2\n",
        "\n",
        "5の平方根を、何通りかの方法で計算して下さい。画面左上の `+ Code`ボタンを押すと、プログラムを書き込む枠を増やせます。"
      ]
    },
    {
      "cell_type": "code",
      "metadata": {
        "id": "U2CsndfO_9dW"
      },
      "source": [
        "5**0.5"
      ],
      "execution_count": null,
      "outputs": []
    },
    {
      "cell_type": "markdown",
      "metadata": {
        "id": "RIVty9S57rSE"
      },
      "source": [
        "### Exercise 3\n",
        "下の枠に自由に数式を入れて計算してみて下さい。"
      ]
    },
    {
      "cell_type": "code",
      "metadata": {
        "id": "OlLYa1zC7rSE"
      },
      "source": [
        ""
      ],
      "execution_count": null,
      "outputs": []
    },
    {
      "cell_type": "markdown",
      "metadata": {
        "id": "85C0O0p99zNE"
      },
      "source": [
        "## 付録\n",
        "### mathライブラリで使える数学関数の一覧"
      ]
    },
    {
      "cell_type": "code",
      "metadata": {
        "id": "s92q0VTi9gdP",
        "cellView": "form"
      },
      "source": [
        "lib = \"cmath\" #@param [\"math\", \"cmath\"]\n",
        "if lib == \"math\":\n",
        "    import math\n",
        "    # __dir__関数はモジュールに含まれる変数名・関数名のリストを返す。\n",
        "    funcs = math.__dir__()\n",
        "elif lib == \"cmath\":\n",
        "    import cmath\n",
        "    # __dir__関数はモジュールに含まれる変数名・関数名のリストを返す。\n",
        "    funcs = cmath.__dir__()\n",
        "\n",
        "for func in funcs:\n",
        "    # 1文字目がアンダースコアでないなら\n",
        "    if func[0] != \"_\":\n",
        "        print(func)"
      ],
      "execution_count": null,
      "outputs": []
    },
    {
      "cell_type": "markdown",
      "metadata": {
        "id": "dHsehdno-Hzg"
      },
      "source": [
        "sin関数のドキュメントを見る方法"
      ]
    },
    {
      "cell_type": "code",
      "metadata": {
        "id": "AUrtEPZs9htM"
      },
      "source": [
        "import math\n",
        "?math.sin"
      ],
      "execution_count": null,
      "outputs": []
    }
  ]
}
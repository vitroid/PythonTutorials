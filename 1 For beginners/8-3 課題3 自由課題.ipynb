{
 "cells": [
  {
   "cell_type": "markdown",
   "metadata": {},
   "source": [
    "##プログラム課題3\n",
    "練習プログラムなどをもとに、自分で改造して、自由にプログラムを作成してください。自分なりの一工夫をしてください。複数提出しても構いません。\n",
    "###提出するもの\n",
    "プログラムと説明(IPython notebookファイル)、プログラムの特長、工夫した点など。(「がんばりました」とか「特にありません」以外を希望)"
   ]
  }
 ],
 "metadata": {
  "kernelspec": {
   "display_name": "Python 3",
   "language": "python",
   "name": "python3"
  },
  "language_info": {
   "codemirror_mode": {
    "name": "ipython",
    "version": 3
   },
   "file_extension": ".py",
   "mimetype": "text/x-python",
   "name": "python",
   "nbconvert_exporter": "python",
   "pygments_lexer": "ipython3",
   "version": "3.4.2"
  }
 },
 "nbformat": 4,
 "nbformat_minor": 0
}

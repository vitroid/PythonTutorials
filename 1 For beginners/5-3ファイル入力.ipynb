{
  "nbformat": 4,
  "nbformat_minor": 0,
  "metadata": {
    "kernelspec": {
      "display_name": "Python 3",
      "language": "python",
      "name": "python3"
    },
    "language_info": {
      "codemirror_mode": {
        "name": "ipython",
        "version": 3
      },
      "file_extension": ".py",
      "mimetype": "text/x-python",
      "name": "python",
      "nbconvert_exporter": "python",
      "pygments_lexer": "ipython3",
      "version": "3.5.1"
    },
    "colab": {
      "name": "5-3ファイル入力.ipynb",
      "provenance": [],
      "toc_visible": true,
      "include_colab_link": true
    }
  },
  "cells": [
    {
      "cell_type": "markdown",
      "metadata": {
        "id": "view-in-github",
        "colab_type": "text"
      },
      "source": [
        "<a href=\"https://colab.research.google.com/github/vitroid/PythonTutorials/blob/2020b3/1%20For%20beginners/5-3%E3%83%95%E3%82%A1%E3%82%A4%E3%83%AB%E5%85%A5%E5%8A%9B.ipynb\" target=\"_parent\"><img src=\"https://colab.research.google.com/assets/colab-badge.svg\" alt=\"Open In Colab\"/></a>"
      ]
    },
    {
      "cell_type": "markdown",
      "metadata": {
        "id": "_h5tKwY60Wwd",
        "colab_type": "text"
      },
      "source": [
        "# 外部ファイルの読み込み\n",
        "データの個数が増えてくると、手で間違いなく打ちこむのは大変な作業になるので、ファイルに一旦書きこんだデータを読みこめると便利です。\n",
        "\n",
        "ファイルといってもいろんなファイルがありますよね。パソコンの中には、ワープロで書いた文章、音楽、写真、映画、などなどいろんなファイルがありますが、一番簡単にあつかえるのは、テキストファイルと呼ばれる、最もシンプルな形式のファイルです。テキストファイルには、文字と、改行文字だけが含まれていて、文字の色、大きさ、書体などといった装飾的な情報は一切入っていません。そっけないぐらいシンプルな分、取り扱いも簡単です。実験データはたいていテキストファイル形式になっていますから、ここではテキストファイルの読み込み方だけを説明します。音楽や写真を読みこむ場合には、また別の方法を学ぶ必要があります。なお、pythonのプログラム自体もテキストファイルです。\n",
        "\n",
        "## はじめに: Google Driveの準備\n",
        "\n",
        "あらかじめ、Google Driveをマウントして、Colabから読み書きできるようにしておきます。"
      ]
    },
    {
      "cell_type": "code",
      "metadata": {
        "id": "T0s6bYOY_Ihu",
        "colab_type": "code",
        "colab": {}
      },
      "source": [
        "from google.colab import drive\n",
        "drive.mount('/content/drive')"
      ],
      "execution_count": 0,
      "outputs": []
    },
    {
      "cell_type": "markdown",
      "metadata": {
        "id": "KbsBsBfc_GJE",
        "colab_type": "text"
      },
      "source": [
        "## テキストファイルの読みこみ\n",
        "\n",
        "テキストファイルを読みこむ、定型的なプログラムは次の通りです。"
      ]
    },
    {
      "cell_type": "code",
      "metadata": {
        "id": "qlFlNbBQ0Wwm",
        "colab_type": "code",
        "colab": {}
      },
      "source": [
        "file = open(\"drive/My Drive/data.txt\") # My Driveのなかのdata.txtを「開く」\n",
        "lines = file.readlines()    # ファイルからすべての行を，文字列のリストとして読みこむ\n",
        "print(lines)"
      ],
      "execution_count": 0,
      "outputs": []
    },
    {
      "cell_type": "markdown",
      "metadata": {
        "id": "H8oqyiqIAHmA",
        "colab_type": "text"
      },
      "source": [
        "ファイルの内容が、行ごとに分割され、リストになっていることが見てとれます。"
      ]
    },
    {
      "cell_type": "markdown",
      "metadata": {
        "id": "kREWfu9q0WxP",
        "colab_type": "text"
      },
      "source": [
        "### data.txtの内容\n",
        "\n",
        "```text\n",
        "1.000\n",
        "2.000\n",
        "3.000\n",
        "4.000\n",
        "5.000\n",
        "6.000\n",
        "7.000\n",
        "8.000\n",
        "```"
      ]
    },
    {
      "cell_type": "markdown",
      "metadata": {
        "id": "YRmROEloAqyS",
        "colab_type": "text"
      },
      "source": [
        "`data.txt`を読みこみ、書かれている数字を二乗して表示するプログラムを書いてみます。"
      ]
    },
    {
      "cell_type": "code",
      "metadata": {
        "id": "t4ZuuaPA0Wxg",
        "colab_type": "code",
        "colab": {}
      },
      "source": [
        "file = open(\"drive/My Drive/data.txt\")\n",
        "lines = file.readlines()\n",
        "for line in lines:\n",
        "    print(line**2)       # lineは文字列なので、これはエラー!"
      ],
      "execution_count": 0,
      "outputs": []
    },
    {
      "cell_type": "markdown",
      "metadata": {
        "id": "Acp5KC5d0Wxo",
        "colab_type": "text"
      },
      "source": [
        "### 書きなおしたプログラム"
      ]
    },
    {
      "cell_type": "code",
      "metadata": {
        "id": "faurlWtT0Wxp",
        "colab_type": "code",
        "colab": {}
      },
      "source": [
        "file = open(\"drive/My Drive/data.txt\")\n",
        "lines = file.readlines()\n",
        "for line in lines:\n",
        "    x = float(line)   # lineは文字列、xはそれをfloat(実数)に変換したもの\n",
        "    print(x**2)       # xの二乗を表示。"
      ],
      "execution_count": 0,
      "outputs": []
    },
    {
      "cell_type": "markdown",
      "metadata": {
        "id": "oaknJLt20Wxs",
        "colab_type": "text"
      },
      "source": [
        "## もう少し複雑なデータの読みこみ\n",
        "\n",
        "例えば次のような3列の数字が書かれたテキストファイル sample1.txt を読みこんで、各行の和と、各列の和を同時に計算するプログラムを書いてみましょう。"
      ]
    },
    {
      "cell_type": "markdown",
      "metadata": {
        "id": "NNrQCby10Wxs",
        "colab_type": "text"
      },
      "source": [
        "### サンプルデータファイル sample1.txt の内容\n",
        "\n",
        "```plain\n",
        "1.000  1.000  1.000\n",
        "2.000  1.000  2.000\n",
        "3.000  2.000  4.000\n",
        "4.000  3.000  8.000\n",
        "5.000  5.000  16.000\n",
        "6.000  8.000  32.000\n",
        "7.000  13.000  64.000\n",
        "8.000  21.000  128.000\n",
        "```"
      ]
    },
    {
      "cell_type": "markdown",
      "metadata": {
        "id": "fxCkiqAb0Wxt",
        "colab_type": "text"
      },
      "source": [
        "まずは、pythonがこのファイルをどんな風に読むかを見てみましょう。"
      ]
    },
    {
      "cell_type": "code",
      "metadata": {
        "id": "GFH4Yiwk0Wxu",
        "colab_type": "code",
        "colab": {}
      },
      "source": [
        "file = open(\"drive/My Drive/sample1.txt\")\n",
        "lines = file.readlines()\n",
        "print(lines)"
      ],
      "execution_count": 0,
      "outputs": []
    },
    {
      "cell_type": "markdown",
      "metadata": {
        "id": "-rUdHrLPCTGo",
        "colab_type": "text"
      },
      "source": [
        "各行をひとつながりの文字列として読みこんでいることがわかります。\n",
        "\n",
        "あとの処理のために、1行ずつプリントするように変更します。(ついでに、行番号を表示します)"
      ]
    },
    {
      "cell_type": "code",
      "metadata": {
        "id": "gTPDYtU1Cjp5",
        "colab_type": "code",
        "colab": {}
      },
      "source": [
        "file = open(\"drive/My Drive/sample1.txt\")\n",
        "lines = file.readlines()\n",
        "num = 1\n",
        "# 繰り返し。lineには、linesの要素が前から順番に入る。\n",
        "for line in lines:\n",
        "    # 行番号numと、行の内容lineを表示\n",
        "    print(num,line)\n",
        "    # 行番号を1増やす\n",
        "    num += 1"
      ],
      "execution_count": 0,
      "outputs": []
    },
    {
      "cell_type": "markdown",
      "metadata": {
        "id": "gDZc67CN0Wxw",
        "colab_type": "text"
      },
      "source": [
        "split命令を使うと、1つの文字列を空白のところで分割し、改行文字をとりのぞいてリストにしてくれます。"
      ]
    },
    {
      "cell_type": "code",
      "metadata": {
        "id": "9v3lpXoJ0Wxw",
        "colab_type": "code",
        "colab": {}
      },
      "source": [
        "file = open(\"drive/My Drive/sample1.txt\")\n",
        "lines = file.readlines()\n",
        "for line in lines:\n",
        "    # lineを、さらに空白の位置で分割してリストにします。\n",
        "    columns = line.split()\n",
        "    print(columns)"
      ],
      "execution_count": 0,
      "outputs": []
    },
    {
      "cell_type": "markdown",
      "metadata": {
        "id": "1_YQEJl50Wx0",
        "colab_type": "text"
      },
      "source": [
        "splitを使うと、lineがカラムごとにきりはなされて、3つの値を含むリストになりました。しかし、見てわかる通り、読みこんだ内容は文字列とみなされているため、次のようにして3つのカラムの和を計算しようとすると、文字列同士をつないでしまいます。"
      ]
    },
    {
      "cell_type": "code",
      "metadata": {
        "id": "5ZfnuA-H0Wx2",
        "colab_type": "code",
        "colab": {}
      },
      "source": [
        "file = open(\"drive/My Drive/sample1.txt\")\n",
        "lines = file.readlines()\n",
        "for line in lines:\n",
        "    columns = line.split()\n",
        "    print(columns)\n",
        "    print(columns[0] + columns[1] + columns[2])"
      ],
      "execution_count": 0,
      "outputs": []
    },
    {
      "cell_type": "markdown",
      "metadata": {
        "id": "aXSa2jTj0Wx7",
        "colab_type": "text"
      },
      "source": [
        "そこで、文字列を実数に読みかえるfloat()関数を使います。"
      ]
    },
    {
      "cell_type": "code",
      "metadata": {
        "id": "gTR4fMbG0Wx8",
        "colab_type": "code",
        "colab": {}
      },
      "source": [
        "file = open(\"drive/My Drive/sample1.txt\")\n",
        "lines = file.readlines()\n",
        "for line in lines:\n",
        "    columns = line.split()\n",
        "    print(float(columns[0]),float(columns[1]),float(columns[2]))"
      ],
      "execution_count": 0,
      "outputs": []
    },
    {
      "cell_type": "markdown",
      "metadata": {
        "id": "zjN0Y7fa0Wx-",
        "colab_type": "text"
      },
      "source": [
        "あとは、行と列の合計を計算するように、ちょっと書き加えます。行の合計はその場で計算できますが、列の合計は変数に加算していく必要があるので、新しい変数を追加します。"
      ]
    },
    {
      "cell_type": "code",
      "metadata": {
        "id": "57I4zEuZ0Wx_",
        "colab_type": "code",
        "colab": {}
      },
      "source": [
        "file = open(\"drive/My Drive/sample1.txt\")\n",
        "lines = file.readlines()\n",
        "sum0 = 0      #カラム(列)ごとの合計値を入れる変数を準備しておく。\n",
        "sum1 = 0\n",
        "sum2 = 0\n",
        "for line in lines:\n",
        "    columns = line.split()     #行をカラムごとに分割\n",
        "    col0 = float(columns[0])   #各カラムの値を数値になおす\n",
        "    col1 = float(columns[1])\n",
        "    col2 = float(columns[2])\n",
        "    sum0 += col0        \n",
        "    sum1 += col1\n",
        "    sum2 += col2\n",
        "    total = col0+col1+col2\n",
        "    print(col0, col1, col2, \"|\", total)\n",
        "\n",
        "print(\"------------------\")\n",
        "print(sum0,sum1,sum2)"
      ],
      "execution_count": 0,
      "outputs": []
    },
    {
      "cell_type": "markdown",
      "metadata": {
        "id": "emqnhQY50WyF",
        "colab_type": "text"
      },
      "source": [
        "いかがでしょうか? プログラムの動きが読めましたか?"
      ]
    },
    {
      "cell_type": "markdown",
      "metadata": {
        "id": "AE7vh0zc0WyF",
        "colab_type": "text"
      },
      "source": [
        "### 練習\n",
        "\n",
        "上のプログラムから余分なものを省いて、最初のカラムの値の平均値だけを表示するプログラムを作って下さい。(36/8=4.5になるはず)"
      ]
    },
    {
      "cell_type": "code",
      "metadata": {
        "id": "s0nv3WS-0WyG",
        "colab_type": "code",
        "colab": {}
      },
      "source": [
        ""
      ],
      "execution_count": 0,
      "outputs": []
    }
  ]
}
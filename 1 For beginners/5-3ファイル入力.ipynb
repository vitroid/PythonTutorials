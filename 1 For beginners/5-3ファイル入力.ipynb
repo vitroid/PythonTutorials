{
 "cells": [
  {
   "cell_type": "markdown",
   "metadata": {},
   "source": [
    "# 外部ファイルの読み込み\n",
    "データの個数が増えてくると、手で間違いなく打ちこむのは大変な作業になるので、ファイルに一旦書きこんだデータを読みこめると便利です。\n",
    "\n",
    "ファイルといってもいろんなファイルがありますよね。パソコンの中には、ワープロで書いた文章、音楽、写真、映画、などなどいろんなファイルがありますが、一番簡単にあつかえるのは、テキストファイルと呼ばれる、最もシンプルな形式のファイルです。テキストファイルには、文字と、改行文字だけが含まれていて、文字の色、大きさ、書体などといった装飾的な情報は一切入っていません。そっけないぐらいシンプルな分、取り扱いも簡単です。実験データはたいていテキストファイル形式になっていますから、ここではテキストファイルの読み込み方だけを説明します。音楽や写真を読みこむ場合には、また別の方法を学ぶ必要があります。なお、pythonのプログラム自体もテキストファイルです。\n",
    "\n",
    "テキストファイルを読みこむ、定型的なプログラムは次の通りです。\n",
    "(2015コメント 一旦リストに入れたほうが、作業がわかりやすいかもしれない)"
   ]
  },
  {
   "cell_type": "code",
   "execution_count": null,
   "metadata": {
    "collapsed": true
   },
   "outputs": [],
   "source": [
    "file = open(ファイルの名前)\n",
    "for line in file:\n",
    "    変数lineにファイルの1行が順番に読みこまれるので、\n",
    "    lineに対して処理を行う。"
   ]
  },
  {
   "cell_type": "markdown",
   "metadata": {},
   "source": [
    "たとえば、pythonのプログラム “sample.py” を読みこんで、行番号と行の長さをつけて表示するプログラムは、これを変形して、"
   ]
  },
  {
   "cell_type": "code",
   "execution_count": null,
   "metadata": {
    "collapsed": false
   },
   "outputs": [],
   "source": [
    "file = open(\"sample.py\")\n",
    "linenum=1\n",
    "for line in file:                 # ファイルの最後まで、一行ずつ読んでlineに入れる\n",
    "    print(linenum,len(line),line)  # 行番号と、lineの長さと、lineを表示する。\n",
    "    linenum = linenum + 1         # linenumを1増やす。"
   ]
  },
  {
   "cell_type": "markdown",
   "metadata": {},
   "source": [
    "ファイルから読みこんだ各行の最後には改行文字が含まれていますが、printするとさらに改行するので2回ずつ改行されます。\n",
    "\n",
    "注意しなければいけないことは、ファイルに数字が書いてあっても、pythonはそれを文字列として読みこんでしまうということです。例えば、ファイル “data.txt”に書かれた数字を二乗して表示するプログラムは、こんな風に書くとエラーになってしまいます。"
   ]
  },
  {
   "cell_type": "markdown",
   "metadata": {},
   "source": [
    "### data.txtの内容"
   ]
  },
  {
   "cell_type": "code",
   "execution_count": null,
   "metadata": {
    "collapsed": true
   },
   "outputs": [],
   "source": [
    "1.000\n",
    "2.000\n",
    "3.000\n",
    "4.000\n",
    "5.000\n",
    "6.000\n",
    "7.000\n",
    "8.000"
   ]
  },
  {
   "cell_type": "code",
   "execution_count": null,
   "metadata": {
    "collapsed": false
   },
   "outputs": [],
   "source": [
    "file = open(\"data.txt\")\n",
    "for line in file:\n",
    "    print(line**2)       # lineは文字列なので、これはエラー!"
   ]
  },
  {
   "cell_type": "markdown",
   "metadata": {},
   "source": [
    "また、通常、1行にいくつもデータが並んで書かれている場合が多いですが、こういうデータも、それぞれの行をひとつながりの文字列として読みこんでしまいます。ですから、きちんと数値として読みこむためには、一旦文字列として読みこんだ行を、数字に読み換える必要があります。"
   ]
  },
  {
   "cell_type": "markdown",
   "metadata": {},
   "source": [
    "### 書きなおしたプログラム"
   ]
  },
  {
   "cell_type": "code",
   "execution_count": null,
   "metadata": {
    "collapsed": false
   },
   "outputs": [],
   "source": [
    "file = open(\"data.txt\")\n",
    "for line in file:\n",
    "    x = float(line)\n",
    "    print(x**2, end=\":\")       # xは実数。改行の代わりにコロンを出力"
   ]
  },
  {
   "cell_type": "markdown",
   "metadata": {},
   "source": [
    "例えば次のような3列の数字が書かれたテキストファイル sample1.txt を読みこんで、各行の和と、各列の和を同時に計算するプログラムを書いてみましょう。"
   ]
  },
  {
   "cell_type": "markdown",
   "metadata": {},
   "source": [
    "### サンプルデータファイル sample1.txt の内容"
   ]
  },
  {
   "cell_type": "raw",
   "metadata": {},
   "source": [
    "1.000  1.000  1.000\n",
    "2.000  1.000  2.000\n",
    "3.000  2.000  4.000\n",
    "4.000  3.000  8.000\n",
    "5.000  5.000  16.000\n",
    "6.000  8.000  32.000\n",
    "7.000  13.000  64.000\n",
    "8.000  21.000  128.000"
   ]
  },
  {
   "cell_type": "markdown",
   "metadata": {},
   "source": [
    "まずは、pythonがこのファイルをどんな風に読むかを見てみるために、1行ずつ読みこんで、行の長さと内容をprintするプログラムを書いてみます。"
   ]
  },
  {
   "cell_type": "code",
   "execution_count": null,
   "metadata": {
    "collapsed": false
   },
   "outputs": [],
   "source": [
    "file = open(\"sample1.txt\")\n",
    "for line in file:\n",
    "    print(len(line),line,end=\"\")"
   ]
  },
  {
   "cell_type": "markdown",
   "metadata": {},
   "source": [
    "すると、確かに各行をひとつながりの文字列として読みこんでいることがわかります。(print文の中でend=\"\"としたので、2度改行しなくなります。)\n",
    "\n",
    "split命令を使うと、文字列を空白のところで分割し、改行文字をとりのぞいてリストにしてくれます。"
   ]
  },
  {
   "cell_type": "code",
   "execution_count": null,
   "metadata": {
    "collapsed": false
   },
   "outputs": [],
   "source": [
    "file = open(\"sample1.txt\")\n",
    "for line in file:\n",
    "    columns = line.split()\n",
    "    print(columns)"
   ]
  },
  {
   "cell_type": "markdown",
   "metadata": {},
   "source": [
    "splitを使うと、lineがカラムごとにきりはなされて、3つの値を含むリストになりました。しかし、見てわかる通り、読みこんだ内容は文字列とみなされているため、次のようにして3つのカラムの和を計算しようとすると、文字列同士をつないでしまいます。"
   ]
  },
  {
   "cell_type": "code",
   "execution_count": null,
   "metadata": {
    "collapsed": false
   },
   "outputs": [],
   "source": [
    "file = open(\"sample1.txt\")\n",
    "for line in file:\n",
    "    columns = line.split()\n",
    "    print(columns)\n",
    "    print(columns[0] + columns[1] + columns[2])"
   ]
  },
  {
   "cell_type": "markdown",
   "metadata": {},
   "source": [
    "そこで、文字列を実数に読みかえるfloat()関数を使います。"
   ]
  },
  {
   "cell_type": "code",
   "execution_count": null,
   "metadata": {
    "collapsed": false
   },
   "outputs": [],
   "source": [
    "file = open(\"sample1.txt\")\n",
    "for line in file:\n",
    "    columns = line.split()\n",
    "    print(float(columns[0]),float(columns[1]),float(columns[2]))"
   ]
  },
  {
   "cell_type": "markdown",
   "metadata": {},
   "source": [
    "あとは、行と列の合計を計算するように、ちょっと書き加えます。行の合計はその場で計算できますが、列の合計は変数に加算していく必要があるので、新しい変数を追加します。"
   ]
  },
  {
   "cell_type": "code",
   "execution_count": null,
   "metadata": {
    "collapsed": false
   },
   "outputs": [],
   "source": [
    "file = open(\"sample1.txt\")\n",
    "sum0 = 0      #カラム(列)ごとの合計値を入れる変数を準備しておく。\n",
    "sum1 = 0\n",
    "sum2 = 0\n",
    "for line in file:\n",
    "    columns = line.split()     #行をカラムごとに分割\n",
    "    col0 = float(columns[0])   #各カラムの値を数値になおす\n",
    "    col1 = float(columns[1])\n",
    "    col2 = float(columns[2])\n",
    "    sum0 += col0        \n",
    "    sum1 += col1\n",
    "    sum2 += col2\n",
    "    print(col0+col1+col2)\n",
    "    print(sum0,sum1,sum2)"
   ]
  },
  {
   "cell_type": "markdown",
   "metadata": {},
   "source": [
    "いかがでしょうか? プログラムの動きが読めましたか?"
   ]
  },
  {
   "cell_type": "markdown",
   "metadata": {},
   "source": [
    "### 練習\n",
    "上のプログラムから余分なものを省いて、最初のカラムの値の平均値だけを表示するプログラムを作って下さい。"
   ]
  },
  {
   "cell_type": "code",
   "execution_count": null,
   "metadata": {
    "collapsed": true
   },
   "outputs": [],
   "source": []
  }
 ],
 "metadata": {
  "kernelspec": {
   "display_name": "Python 3",
   "language": "python",
   "name": "python3"
  },
  "language_info": {
   "codemirror_mode": {
    "name": "ipython",
    "version": 3
   },
   "file_extension": ".py",
   "mimetype": "text/x-python",
   "name": "python",
   "nbconvert_exporter": "python",
   "pygments_lexer": "ipython3",
   "version": "3.5.1"
  }
 },
 "nbformat": 4,
 "nbformat_minor": 0
}

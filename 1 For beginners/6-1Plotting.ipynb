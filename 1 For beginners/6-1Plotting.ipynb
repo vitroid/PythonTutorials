{
  "nbformat": 4,
  "nbformat_minor": 0,
  "metadata": {
    "kernelspec": {
      "display_name": "Python 3",
      "language": "python",
      "name": "python3"
    },
    "language_info": {
      "codemirror_mode": {
        "name": "ipython",
        "version": 3
      },
      "file_extension": ".py",
      "mimetype": "text/x-python",
      "name": "python",
      "nbconvert_exporter": "python",
      "pygments_lexer": "ipython3",
      "version": "3.6.0"
    },
    "colab": {
      "name": "6-1Plotting.ipynb",
      "provenance": [],
      "toc_visible": true,
      "include_colab_link": true
    }
  },
  "cells": [
    {
      "cell_type": "markdown",
      "metadata": {
        "id": "view-in-github",
        "colab_type": "text"
      },
      "source": [
        "<a href=\"https://colab.research.google.com/github/vitroid/PythonTutorials/blob/2020b3/1%20For%20beginners/6-1Plotting.ipynb\" target=\"_parent\"><img src=\"https://colab.research.google.com/assets/colab-badge.svg\" alt=\"Open In Colab\"/></a>"
      ]
    },
    {
      "cell_type": "markdown",
      "metadata": {
        "id": "UB9Wb-OIEcMa",
        "colab_type": "text"
      },
      "source": [
        "Google Colabにはグラフを描く機能があります。とりあえず、以下の例を読んでください。"
      ]
    },
    {
      "cell_type": "code",
      "metadata": {
        "id": "SBoYhyk_FXLp",
        "colab_type": "code",
        "colab": {}
      },
      "source": [
        "from google.colab import drive\n",
        "drive.mount('/content/drive')"
      ],
      "execution_count": 0,
      "outputs": []
    },
    {
      "cell_type": "code",
      "metadata": {
        "id": "ZhLMpkt8EcMd",
        "colab_type": "code",
        "colab": {}
      },
      "source": [
        "file = open(\"drive/My Drive/sample1.txt\")\n",
        "lines = file.readlines()\n",
        "xs = []\n",
        "ys = []\n",
        "for line in lines:\n",
        "    columns = line.split()      #行をカラムに分割\n",
        "    x = float(columns[0])       #最初のカラムの文字列を実数にしてxに代入\n",
        "    y = float(columns[1])       #2盤目のカラムはyに代入\n",
        "    xs.append(x)                #リストxsの末尾にxを追加\n",
        "    ys.append(y)                #リストysの末尾にyを追加\n",
        "print(xs)\n",
        "print(ys)\n",
        "print(sum(xs),len(xs))\n",
        "print(sum(ys),len(ys))"
      ],
      "execution_count": 0,
      "outputs": []
    },
    {
      "cell_type": "code",
      "metadata": {
        "id": "_JyDxvg2EcMu",
        "colab_type": "code",
        "colab": {}
      },
      "source": [
        ""
      ],
      "execution_count": 0,
      "outputs": []
    },
    {
      "cell_type": "code",
      "metadata": {
        "id": "cRYfNx1uEcM3",
        "colab_type": "code",
        "colab": {}
      },
      "source": [
        "import pylab\n",
        "file = open(\"drive/My Drive/sample1.txt\")\n",
        "lines = file.readlines()\n",
        "xs = []\n",
        "ys = []\n",
        "for line in lines:\n",
        "    columns = line.split()      #行をカラムに分割\n",
        "    x = float(columns[0])       #最初のカラムの文字列を実数にしてxに代入\n",
        "    y = float(columns[1])       #2盤目のカラムはyに代入\n",
        "    xs.append(x)                #リストxsの末尾にxを追加\n",
        "    ys.append(y)                #リストysの末尾にyを追加\n",
        "print(xs)\n",
        "print(ys)\n",
        "pylab.plot(xs,ys)"
      ],
      "execution_count": 0,
      "outputs": []
    },
    {
      "cell_type": "code",
      "metadata": {
        "id": "MG3qVZlMEcM_",
        "colab_type": "code",
        "colab": {}
      },
      "source": [
        ""
      ],
      "execution_count": 0,
      "outputs": []
    },
    {
      "cell_type": "markdown",
      "metadata": {
        "id": "sh8oPYo6EcNO",
        "colab_type": "text"
      },
      "source": [
        "x軸の系列のリストと、y軸の系列のリストを作り、pylab.plotという関数に渡せば、線を引いてくれるようです。\n",
        "\n",
        "最小二乗法で直線フィッティングする前に、まずグラフを見て、本当に直線でフィットしてよいデータなのかを考える必要があります。このグラフを見る限り、sample1.txtは直線フィッティングに向いていないようです。\n",
        "\n",
        "# 練習問題\n",
        "\n",
        "ついでに3カラム目のデータも重ねて描いてみましょう。\n",
        "（zsの内容を読み込む部分は、下のプログラムに自分で書き足して下さい。）"
      ]
    },
    {
      "cell_type": "code",
      "metadata": {
        "id": "XHkMySeiEcNP",
        "colab_type": "code",
        "colab": {}
      },
      "source": [
        "import pylab\n",
        "file = open(\"drive/My Drive/sample1.txt\")\n",
        "lines = file.readlines()\n",
        "xs = []\n",
        "ys = []\n",
        "for line in lines:\n",
        "    columns = line.split()      #行をカラムに分割\n",
        "    x = float(columns[0])       #最初のカラムの文字列を実数にしてxに代入\n",
        "    y = float(columns[1])       #2盤目のカラムはyに代入\n",
        "    xs.append(x)                #リストxsの末尾にxを追加\n",
        "    ys.append(y)                #リストysの末尾にyを追加\n",
        "print(xs)\n",
        "print(ys)\n",
        "pylab.plot(xs,ys)"
      ],
      "execution_count": 0,
      "outputs": []
    },
    {
      "cell_type": "markdown",
      "metadata": {
        "id": "bNtU5HzQEcNc",
        "colab_type": "text"
      },
      "source": [
        "リストさえ作れば、グラフを描いてくれることはわかりました。"
      ]
    },
    {
      "cell_type": "code",
      "metadata": {
        "id": "rZq1-0H_EcNd",
        "colab_type": "code",
        "colab": {}
      },
      "source": [
        ""
      ],
      "execution_count": 0,
      "outputs": []
    }
  ]
}
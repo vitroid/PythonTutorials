{
  "nbformat": 4,
  "nbformat_minor": 0,
  "metadata": {
    "kernelspec": {
      "display_name": "Python 3",
      "language": "python",
      "name": "python3"
    },
    "language_info": {
      "codemirror_mode": {
        "name": "ipython",
        "version": 3
      },
      "file_extension": ".py",
      "mimetype": "text/x-python",
      "name": "python",
      "nbconvert_exporter": "python",
      "pygments_lexer": "ipython3",
      "version": "3.7.2"
    },
    "colab": {
      "name": "4-3練習問題4.ipynb",
      "provenance": [],
      "include_colab_link": true
    }
  },
  "cells": [
    {
      "cell_type": "markdown",
      "metadata": {
        "id": "view-in-github",
        "colab_type": "text"
      },
      "source": [
        "<a href=\"https://colab.research.google.com/github/vitroid/PythonTutorials/blob/2021/1%20For%20beginners/4-3%E7%B7%B4%E7%BF%92%E5%95%8F%E9%A1%8C4.ipynb\" target=\"_parent\"><img src=\"https://colab.research.google.com/assets/colab-badge.svg\" alt=\"Open In Colab\"/></a>"
      ]
    },
    {
      "cell_type": "markdown",
      "metadata": {
        "id": "GIQfTH0J9nMD"
      },
      "source": [
        "# Practice 4\n",
        "## 4-1 円周率の計算\n",
        "円周率を小数点以下5桁まで求めるプログラムをPythonで書いて下さい。もちろん、arctan(tanの逆関数)等の関数を使うと簡単に円周率の数値が得られますが、それではつまらないので、条件をつけます。\n",
        "\n",
        "1. 四則演算とべき乗(平方根も可)のみを使用する。\n",
        "2. 乱数を使ってもよい。\n",
        "3. 収束的な計算方法を用いること。つまり、繰り返し回数を増やせば精度が高くなるような計算方法を使うこと。\n",
        "\n",
        "円周率をもとめる級数や数式については、インターネットで探して下さい。"
      ]
    },
    {
      "cell_type": "code",
      "metadata": {
        "id": "7PcZxbqZ9nML"
      },
      "source": [
        ""
      ],
      "execution_count": null,
      "outputs": []
    },
    {
      "cell_type": "markdown",
      "metadata": {
        "id": "i_uRgKW_9nM0"
      },
      "source": [
        "## 4-2 ローマ数字\n",
        "数字(1以上100未満)をキーボードから入力し、ローマ数字の文字列を表示するプログラムを考えて下さい。ローマ数字の素片はI(=1)、V(=5)、X(=10)、L(=50)、C(=100)、D(=500)、M(=1000)からなっていて、大きい素片の右側に小さい素片を書くと加算、左側だと減算を表します。例えば12=10+2なのでXII、49は50-10+10-1なのでXLIXと書きます。ただし、減算できるのは一度に一個だけです。8=IIXのような表記は誤りです。一方、999=IMのように、とても大きな数字から小さな数字を引くことも禁じられています。つまり、1990=M CM XCのように、桁ごとに引き算は完結していなければいけません。\n",
        "\n",
        "* 初級: if文で条件分けする。\n",
        "* 中級: リストを使う。\n",
        "* 上級: 4行以内で書く。\n",
        "* 師範: 1行。"
      ]
    },
    {
      "cell_type": "code",
      "metadata": {
        "id": "XLSd1QYl-pA4"
      },
      "source": [
        ""
      ],
      "execution_count": null,
      "outputs": []
    },
    {
      "cell_type": "code",
      "metadata": {
        "id": "tjnvY8Kf9nM7"
      },
      "source": [
        "# 師範の解はこの下に\n",
        "\n",
        "\n",
        "\n",
        "\n",
        "\n",
        "\n",
        "\n",
        "\n",
        "\n",
        "\n",
        "\n",
        "\n",
        "\n",
        "\n",
        "\n",
        "\n",
        "\n",
        "\n",
        "\n",
        "\n",
        "\n",
        "\n",
        "\n",
        "\n",
        "\n",
        "\n",
        "\n",
        "\n",
        "\n",
        "\n",
        "\n",
        "\n",
        "\n",
        "\n",
        "[[\"\",\"X\",\"XX\",\"XXX\",\"XL\",\"L\",\"LX\",\"LXX\",\"LXXX\",\"XC\"][x//10]+[\"\",\"I\",\"II\",\"III\",\"IV\",\"V\",\"VI\",\"VII\",\"VIII\",\"IX\"][x%10] for x in [int(input(\"Number\"))]]"
      ],
      "execution_count": null,
      "outputs": []
    }
  ]
}
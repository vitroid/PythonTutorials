{
  "nbformat": 4,
  "nbformat_minor": 0,
  "metadata": {
    "kernelspec": {
      "display_name": "Python 3",
      "language": "python",
      "name": "python3"
    },
    "language_info": {
      "codemirror_mode": {
        "name": "ipython",
        "version": 3
      },
      "file_extension": ".py",
      "mimetype": "text/x-python",
      "name": "python",
      "nbconvert_exporter": "python",
      "pygments_lexer": "ipython3",
      "version": "3.6.0"
    },
    "colab": {
      "name": "8-3課題3自由課題.ipynb",
      "provenance": [],
      "include_colab_link": true
    }
  },
  "cells": [
    {
      "cell_type": "markdown",
      "metadata": {
        "id": "view-in-github",
        "colab_type": "text"
      },
      "source": [
        "<a href=\"https://colab.research.google.com/github/vitroid/PythonTutorials/blob/2020b3/1%20For%20beginners/8-3%E8%AA%B2%E9%A1%8C3%E8%87%AA%E7%94%B1%E8%AA%B2%E9%A1%8C.ipynb\" target=\"_parent\"><img src=\"https://colab.research.google.com/assets/colab-badge.svg\" alt=\"Open In Colab\"/></a>"
      ]
    },
    {
      "cell_type": "markdown",
      "metadata": {
        "id": "OSoTi0aYMJy-",
        "colab_type": "text"
      },
      "source": [
        "## プログラム課題3\n",
        "\n",
        "練習プログラムなどをもとに、自分で改造して、自由にプログラムを作成してください。自分なりの一工夫をしてください。複数提出しても構いません。\n",
        "\n",
        "### 提出するもの\n",
        "\n",
        "プログラムと使用方法、プログラムの特長、工夫した点など。(「がんばりました」とか「特にありません」以外を希望)\n",
        "\n",
        "### 提出方法\n",
        "\n",
        "ほかの課題と同じです。"
      ]
    },
    {
      "cell_type": "code",
      "metadata": {
        "id": "FIOQoyVbMJzB",
        "colab_type": "code",
        "colab": {}
      },
      "source": [
        ""
      ],
      "execution_count": 0,
      "outputs": []
    }
  ]
}
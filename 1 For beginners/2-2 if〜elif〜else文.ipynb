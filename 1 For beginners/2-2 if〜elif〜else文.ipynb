{
 "cells": [
  {
   "cell_type": "markdown",
   "metadata": {},
   "source": [
    "# if〜elif〜else文\n",
    "if文は、条件によって別の処理をさせたい場合に使います。例えば、2次方程式の係数から解を求める場合、判別式Dの値によって、答の出し方が違うので、次のようにif文を使って、条件ごとに式を使いわけます。"
   ]
  },
  {
   "cell_type": "code",
   "execution_count": null,
   "metadata": {
    "collapsed": true
   },
   "outputs": [],
   "source": [
    "from math import *\n",
    "a=eval(input(\"a:\"))\n",
    "b=eval(input(\"b:\"))\n",
    "c=eval(input(\"c:\"))\n",
    "D=b**2-4*a*c\n",
    "if D > 0:\n",
    "    print(\"Two solutions.\")\n",
    "    print((-b+sqrt(D))/(2*a), (-b-sqrt(D))/(2*a))\n",
    "elif D == 0:\n",
    "    print(\"Single solution.\")\n",
    "    print(-b/(2*a))\n",
    "else:\n",
    "    print(\"No solution.\")"
   ]
  },
  {
   "cell_type": "markdown",
   "metadata": {},
   "source": [
    "elifはelse ifを略したものです。eval(input())についてはあとで説明します。\n",
    "\n",
    "if文の文型は次のようになります。"
   ]
  },
  {
   "cell_type": "raw",
   "metadata": {},
   "source": [
    "if 条件1:            #条件1が満たされたら赤字のブロックを繰り返し実行する。\n",
    "____実行したい内容1\n",
    "____実行したい内容2\n",
    "____....\n",
    "elif 条件2:         #条件1が満たされず、かつ条件2が満たされたら\n",
    "____実行したい内容1\n",
    "____実行したい内容2\n",
    "____....\n",
    "elif 条件:          #条件1、2が満たされず、条件3が満たされたら\n",
    "____実行したい内容1\n",
    "____実行したい内容2\n",
    "____....\n",
    "else:              #どの条件も満たされないなら\n",
    "____実行したい内容1\n",
    "____実行したい内容2\n",
    "____...."
   ]
  },
  {
   "cell_type": "markdown",
   "metadata": {},
   "source": [
    "\\_\\_\\_\\_は空白(通常は4文字)を表し、インデントと呼びます。 同じインデントをもつ行の集まりをブロックと呼びます。 elifはなくても構いませんし、いくつあっても構いません。elseは一番最後に置きますが、これもなくても構いません。条件1に書ける「条件式」については後述します。\n",
    "\n",
    "ブロックの中身が1行もないとエラーになります。"
   ]
  },
  {
   "cell_type": "code",
   "execution_count": null,
   "metadata": {
    "collapsed": true
   },
   "outputs": [],
   "source": [
    "if a>0:      #ifブロックの中身がないのでエラー\n",
    "else:\n",
    "    print \"a is not positive\""
   ]
  },
  {
   "cell_type": "markdown",
   "metadata": {},
   "source": [
    "ブロックの中で何もすることがない場合には、passと書いて下さい。"
   ]
  },
  {
   "cell_type": "code",
   "execution_count": null,
   "metadata": {
    "collapsed": true
   },
   "outputs": [],
   "source": [
    "if a>0:\n",
    "    pass\n",
    "else:\n",
    "    print(\"a is not positive\")"
   ]
  },
  {
   "cell_type": "markdown",
   "metadata": {},
   "source": [
    "もし、if 文の中で、さらにifを使って処理を場合分けしたい場合は、ブロックの中にif文を書き、インデントを増やします。"
   ]
  },
  {
   "cell_type": "raw",
   "metadata": {},
   "source": [
    "if 条件1:\n",
    "____条件1がなりたつ時に実行する内容1\n",
    "____条件1がなりたつ時に実行する内容2\n",
    "____if 条件2:\n",
    "________条件1と2がなりたつ時に実行する内容1\n",
    "________条件1と2がなりたつ時に実行する内容2\n",
    "________....\n",
    "________....\n",
    "____else:\n",
    "________条件1がなりたち2がなりたたない時に実行する内容1\n",
    "________条件1がなりたち2がなりたたない時に実行する内容2\n",
    "________....\n",
    "else:\n",
    "____条件1がなりたたない時に実行する内容1\n",
    "____条件1がなりたたない時に実行する内容2\n",
    "____...."
   ]
  },
  {
   "cell_type": "markdown",
   "metadata": {},
   "source": [
    "さて はじめのプログラムに戻りましょう。pythonは、プログラムを上から実行していきます。まず、a, b, cに初期値が入り、次に判別式Dが計算されます。"
   ]
  },
  {
   "cell_type": "code",
   "execution_count": null,
   "metadata": {
    "collapsed": true
   },
   "outputs": [],
   "source": [
    "from math import *\n",
    "a=eval(input(\"a:\"))\n",
    "b=eval(input(\"b:\"))\n",
    "c=eval(input(\"c:\"))\n",
    "D=b**2-4*a*c\n",
    "if D > 0:                           #もしDの値が0よりも大きい場合には、次の2行が実行される。\n",
    "    print(\"Two solutions.\")\n",
    "    print((-b+sqrt(D))/(2*a), (-b-sqrt(D))/(2*a))\n",
    "elif D == 0:                        #もしDの値が0に等しい場合には、次の2行が実行される。\n",
    "    print(\"Single solution.\")\n",
    "    print(-b/(2*a))\n",
    "else:                               #それ以外(D<0)の場合。\n",
    "    print(\"No solution.\")"
   ]
  },
  {
   "cell_type": "markdown",
   "metadata": {},
   "source": [
    "ifやelifの行のあとの行の頭に、スペース(空白文字)が4文字入っていることに注意して下さい。pythonでは、行のはじめにある空白(インデント)がとても重要な意味を持ちます。if D>0という条件が満たされた場合に実行されるのは、if文の直後で、先頭に空白がある行だけです。このような行のまとまり(赤文字の部分、青文字の部分、緑文字の部分)をそれぞれブロックと呼びます。\n",
    "\n",
    "先頭の空白は4文字でなくても2文字でも8文字でも構いませんが、同じブロック内では空白の個数はそろえて下さい。次のような書きかたは読みにくいし、実際エラーになります。"
   ]
  },
  {
   "cell_type": "code",
   "execution_count": null,
   "metadata": {
    "collapsed": true
   },
   "outputs": [],
   "source": [
    "if D > 0:\n",
    "print(\"Two solutions.\")      #インデントすべきなのにインデントがない。\n",
    "  print (-b+sqrt(D))/(2*a), (-b-sqrt(D))/(2*a)\n",
    "elif D == 0:\n",
    " print(\"Single solution.\")\n",
    "   print(-b/(2*a))           #同じブロック内なのに、行頭の空白の数が違う\n",
    "else:\n",
    "    print(\"No solution.\")"
   ]
  },
  {
   "cell_type": "markdown",
   "metadata": {},
   "source": [
    "Pythonの一般的な規則として、制御構文には必ず行末にコロン\":\"があり、コロンがある場合、次の行はインデントする必要があります。\n",
    "\n",
    "ifと “:” (コロン)の間に書かれる式は、条件式と呼ばれます。条件式には、数値の大小関係のほか、文字列が一致するかどうか、リストに特定の要素が含まれているかどうか、などさまざまな条件を書くことができます。例をいくつか下に示します。"
   ]
  },
  {
   "cell_type": "code",
   "execution_count": null,
   "metadata": {
    "collapsed": true
   },
   "outputs": [],
   "source": [
    "if a > 10:              #aが10より大きいなら\n",
    "if 0 <= a <10:          #aが0以上10未満なら\n",
    "if a==0:                #aが0に等しいなら\n",
    "if a!=0:                #aが0に等しくないなら\n",
    "if not a==0:            #aが0に等しくないなら\n",
    "if a==2 and b==4:       #aが2に等しく、かつbが4に等しいなら\n",
    "if a==3 or a==4:        #aが3に等しいか、またはaが4に等しいなら\n",
    "if “a” in string:       #文字列stringに、文字”a”が含まれているなら\n",
    "if b in [2,3,5,7,11]:   #リストに変数bの値が含まれているなら"
   ]
  },
  {
   "cell_type": "markdown",
   "metadata": {},
   "source": [
    "条件式は論理式とも言います。論理式も式の一種なので、数式と同じように括弧で評価順序を変更できます。少しいりくんだ論理式の例を示します。"
   ]
  },
  {
   "cell_type": "code",
   "execution_count": null,
   "metadata": {
    "collapsed": true
   },
   "outputs": [],
   "source": [
    "if ( (x < 0) or (x in [2,3,5,7,11]) ) and (y == 2011): "
   ]
  },
  {
   "cell_type": "markdown",
   "metadata": {},
   "source": [
    "if文を使った、もう少しややこしい例として、うるう年(leap year)かどうかを判断するプログラムを書いてみましょう。ある年xがうるう年かどうかは、次の3段階の条件で判断できます。\n",
    "\n",
    "1. が4で割り切れる場合はうるう年とする。\n",
    "1. ただし、1.のうち、xが100で割り切れる場合はうるう年ではない。\n",
    "1. ただし、2.のうち、xが400で割り切れる場合はうるう年とする。\n",
    "\n",
    "与えられたxが、うるう年なら “leap year”、そうでなければ “common year” (平年) と表示するプログラムは、if文を多重に使って次のように書けます。"
   ]
  },
  {
   "cell_type": "code",
   "execution_count": null,
   "metadata": {
    "collapsed": true
   },
   "outputs": [],
   "source": [
    "x = eval(input(\"input the year:\"))\n",
    "if x % 4 == 0:\n",
    "    print(\"Could be a leap year....\")\n",
    "    if x % 100 == 0:\n",
    "        print(\"Hmmm, may be a common year........\")\n",
    "        if x % 400 == 0:\n",
    "            print(\"{0} is indeed a leap year.\".format(x))\n",
    "        else:\n",
    "            print(\"{0} is a common year.\".format(x))\n",
    "    else:\n",
    "        print(\"Actually a leap year.\")\n",
    "else:\n",
    "    print(\"Common year.\")"
   ]
  },
  {
   "cell_type": "markdown",
   "metadata": {},
   "source": [
    "他人の書いたプログラムを読む場合には、インデント数が同じブロックを四角で囲んだり、蛍光ペンで塗りわけるなどして、プログラムの流れを視覚化しましょう。 "
   ]
  },
  {
   "cell_type": "markdown",
   "metadata": {},
   "source": [
    "### 練習問題\n",
    "入力された数値xが偶数か奇数かで，違うふるまいをするプログラムを書いてみて下さい．"
   ]
  },
  {
   "cell_type": "code",
   "execution_count": null,
   "metadata": {
    "collapsed": true
   },
   "outputs": [],
   "source": []
  }
 ],
 "metadata": {
  "kernelspec": {
   "display_name": "Python 3",
   "language": "python",
   "name": "python3"
  },
  "language_info": {
   "codemirror_mode": {
    "name": "ipython",
    "version": 3
   },
   "file_extension": ".py",
   "mimetype": "text/x-python",
   "name": "python",
   "nbconvert_exporter": "python",
   "pygments_lexer": "ipython3",
   "version": "3.4.4"
  },
  "widgets": {
   "state": {},
   "version": "1.1.1"
  }
 },
 "nbformat": 4,
 "nbformat_minor": 1
}

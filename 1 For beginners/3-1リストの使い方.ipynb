{
 "cells": [
  {
   "cell_type": "markdown",
   "metadata": {},
   "source": [
    "# リストの使い方\n",
    "リストは、いくつかのデータを順番にならべたものです。データは数値でも文字列でも構いません。数値を変数に入れるのと同じように、リストを変数に入れることもできます。"
   ]
  },
  {
   "cell_type": "code",
   "execution_count": null,
   "metadata": {
    "collapsed": false
   },
   "outputs": [],
   "source": [
    "a=10\n",
    "x=[a,9,\"WORD\"]\n",
    "print(x)"
   ]
  },
  {
   "cell_type": "markdown",
   "metadata": {},
   "source": [
    "リストの要素には、左から順番に0、1、2、3…と番号がついています。(0から始まることに注意) 文字列の場合と同じように、リストxの2番目の要素はx[2]と書きます。また、要素番号に負の数を指定すると右から数えます。上のリストxの場合、x[2]とx[-1]は同じものを指します。"
   ]
  },
  {
   "cell_type": "code",
   "execution_count": null,
   "metadata": {
    "collapsed": false
   },
   "outputs": [],
   "source": [
    "print(x[2],x[-1])"
   ]
  },
  {
   "cell_type": "markdown",
   "metadata": {},
   "source": [
    "リストの要素が3個しかないのに、10番目の要素を表示させようとするとエラーになります。"
   ]
  },
  {
   "cell_type": "code",
   "execution_count": null,
   "metadata": {
    "collapsed": false
   },
   "outputs": [],
   "source": [
    "print(x[10])"
   ]
  },
  {
   "cell_type": "markdown",
   "metadata": {},
   "source": [
    "リストは足し算やかけ算ができます。2つのリストを足しあわせると、長いリストになります。また、リストに整数を掛けると、リストを繰り返しつないだものができます。"
   ]
  },
  {
   "cell_type": "code",
   "execution_count": null,
   "metadata": {
    "collapsed": false
   },
   "outputs": [],
   "source": [
    "x=[1,2,3]\n",
    "y=[4,5,6]\n",
    "z=x+y\n",
    "w=z*3\n",
    "print(z,w)"
   ]
  },
  {
   "cell_type": "markdown",
   "metadata": {},
   "source": [
    "長さが100で、要素が全部0のリストを作りたい場合は、 要素が1個だけのリストを100倍します。"
   ]
  },
  {
   "cell_type": "code",
   "execution_count": null,
   "metadata": {
    "collapsed": true
   },
   "outputs": [],
   "source": [
    "x=[0]*100"
   ]
  },
  {
   "cell_type": "markdown",
   "metadata": {},
   "source": [
    "また、リストに一つだけ要素を追加したい時は、次のように書く。"
   ]
  },
  {
   "cell_type": "code",
   "execution_count": null,
   "metadata": {
    "collapsed": false
   },
   "outputs": [],
   "source": [
    "x=[1,2,3]\n",
    "x=x+[4]            #リスト同士の足し算\n",
    "print(x)"
   ]
  },
  {
   "cell_type": "markdown",
   "metadata": {},
   "source": [
    "長いリストの一部分だけ取りだすこともできる。リストxの2番目から3番目までの部分リストをとりだす場合は、次のように書きます。(「2以上4未満」と覚える)"
   ]
  },
  {
   "cell_type": "code",
   "execution_count": null,
   "metadata": {
    "collapsed": false
   },
   "outputs": [],
   "source": [
    "x=[0,1,2,3,4,5,6,7,8]\n",
    "y=x[2:4]\n",
    "print(y)"
   ]
  },
  {
   "cell_type": "markdown",
   "metadata": {},
   "source": [
    "関数len()を使うと、リストの要素の個数を返します。"
   ]
  },
  {
   "cell_type": "code",
   "execution_count": null,
   "metadata": {
    "collapsed": false
   },
   "outputs": [],
   "source": [
    "L = len(x)\n",
    "print(L)"
   ]
  },
  {
   "cell_type": "markdown",
   "metadata": {},
   "source": [
    "リストの要素を全部数字にすると、ベクトルとして使えます。次の例では、ベクトルxとyの各要素の和を要素とする新しいベクトルzを定義しています。"
   ]
  },
  {
   "cell_type": "code",
   "execution_count": null,
   "metadata": {
    "collapsed": false
   },
   "outputs": [],
   "source": [
    "x=[1,2,3]\n",
    "y=[4,5,6]\n",
    "z=[x[0]+y[0], x[1]+y[1], x[2]+y[2]]\n",
    "z"
   ]
  },
  {
   "cell_type": "markdown",
   "metadata": {},
   "source": [
    "リストの中にリストを入れることもできます。要素3つのリスト(3次元のベクトル)3つをさらにリストに入れたものは、3×3行列とみなせます。"
   ]
  },
  {
   "cell_type": "code",
   "execution_count": null,
   "metadata": {
    "collapsed": false
   },
   "outputs": [],
   "source": [
    "w=[[1,0,0],[0,2,0],[0,0,3]]\n",
    "w"
   ]
  },
  {
   "cell_type": "markdown",
   "metadata": {},
   "source": [
    "この場合、w\\[1]はwの1番目の要素、つまり[0,2,0]を指します。wの1番目の要素の、さらに2番目の要素はw[1][2]と書きます。"
   ]
  },
  {
   "cell_type": "code",
   "execution_count": null,
   "metadata": {
    "collapsed": false
   },
   "outputs": [],
   "source": [
    "w[1][2]"
   ]
  },
  {
   "cell_type": "markdown",
   "metadata": {},
   "source": [
    "要素が0個のリストは次のように書きます。"
   ]
  },
  {
   "cell_type": "code",
   "execution_count": null,
   "metadata": {
    "collapsed": true
   },
   "outputs": [],
   "source": [
    "x=[]"
   ]
  },
  {
   "cell_type": "markdown",
   "metadata": {},
   "source": [
    "繰り返し構文をリストと組みあわせることで、非常に大きなリストを作ることもできます。また、画像や音声といった、大きなサイズのデータをプログラムで操作する場合には、それらを音量データの羅列、画素データの羅列とみなせば、リストに入れることができます。このように、リストは単にベクトルや行列として使えるだけでなく、大きなデータを自在に取り扱うための強力なツールです。\n",
    "\n",
    "その他に、リストではこんなことができます。"
   ]
  },
  {
   "cell_type": "code",
   "execution_count": null,
   "metadata": {
    "collapsed": false
   },
   "outputs": [],
   "source": [
    "x=[3,1,4,1,5,9]\n",
    "x.index(9)"
   ]
  },
  {
   "cell_type": "code",
   "execution_count": null,
   "metadata": {
    "collapsed": false
   },
   "outputs": [],
   "source": [
    "x.remove(9)\n",
    "x"
   ]
  },
  {
   "cell_type": "code",
   "execution_count": null,
   "metadata": {
    "collapsed": false
   },
   "outputs": [],
   "source": [
    "x.reverse()\n",
    "x"
   ]
  },
  {
   "cell_type": "markdown",
   "metadata": {},
   "source": [
    "なお、このうち、removeとreverseはタプルでは使えません。タプルはリストに似ていると言いましたが、リストとは違い、<u>一旦内容を設定すると、一部分を変更することができない</u>のですが、これらの命令は、xの内容を一部または全部書き換えてしまうからです。"
   ]
  },
  {
   "cell_type": "code",
   "execution_count": null,
   "metadata": {
    "collapsed": true
   },
   "outputs": [],
   "source": []
  }
 ],
 "metadata": {
  "kernelspec": {
   "display_name": "Python 3",
   "language": "python",
   "name": "python3"
  },
  "language_info": {
   "codemirror_mode": {
    "name": "ipython",
    "version": 3
   },
   "file_extension": ".py",
   "mimetype": "text/x-python",
   "name": "python",
   "nbconvert_exporter": "python",
   "pygments_lexer": "ipython3",
   "version": "3.5.1"
  }
 },
 "nbformat": 4,
 "nbformat_minor": 0
}

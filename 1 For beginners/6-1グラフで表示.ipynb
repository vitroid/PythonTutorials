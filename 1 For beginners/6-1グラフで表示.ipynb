{
 "cells": [
  {
   "cell_type": "markdown",
   "metadata": {},
   "source": [
    "WinPythonにはグラフを描く機能があります。とりあえず、以下の例を読んでください。"
   ]
  },
  {
   "cell_type": "code",
   "execution_count": null,
   "metadata": {
    "collapsed": false
   },
   "outputs": [],
   "source": [
    "%matplotlib inline\n",
    "\n",
    "import pylab\n",
    "file = open(\"sample1.txt\")\n",
    "xs = []\n",
    "ys = []\n",
    "for line in file:\n",
    "    columns = line.split()      #行をカラムに分割\n",
    "    x = float(columns[0])       #最初のカラムの文字列を実数にしてxに代入\n",
    "    y = float(columns[1])       #2盤目のカラムはyに代入\n",
    "    xs.append(x)                #リストxsの末尾にxを追加\n",
    "    ys.append(y)                #リストysの末尾にyを追加\n",
    "print(xs)\n",
    "print(ys)\n",
    "pylab.plot(xs,ys)"
   ]
  },
  {
   "cell_type": "markdown",
   "metadata": {},
   "source": [
    "%から始まる行はおまじないです。この行がないと、グラフは別のウィンドウに表示されます。\n",
    "\n",
    "x軸の系列のリストと、y軸の系列のリストを作り、pylab.plotという関数に渡せば、線を引いてくれるようです。\n",
    "\n",
    "最小二乗法で直線フィッティングする前に、まずグラフを見て、本当に直線でフィットしてよいデータなのかを考える必要があります。このグラフを見る限り、sample1.txtは直線フィッティングに向いていないようです。\n",
    "\n",
    "#練習問題\n",
    "ついでに3カラム目のデータも重ねて描いてみましょう。\n",
    "（zsの内容を読み込む部分は自分で書いてみてください。）"
   ]
  },
  {
   "cell_type": "code",
   "execution_count": null,
   "metadata": {
    "collapsed": false
   },
   "outputs": [],
   "source": [
    "%matplotlib inline\n",
    "\n",
    "import pylab\n",
    "file = open(\"sample1.txt\")\n",
    "xs = []\n",
    "ys = []\n",
    "for line in file:\n",
    "    columns = line.split()      #行をカラムに分割\n",
    "    x = float(columns[0])       #最初のカラムの文字列を実数にしてxに代入\n",
    "    y = float(columns[1])       #2盤目のカラムはyに代入\n",
    "    xs.append(x)                #リストxsの末尾にxを追加\n",
    "    ys.append(y)                #リストysの末尾にyを追加\n",
    "print(xs)\n",
    "print(ys)\n",
    "pylab.plot(xs,ys)\n",
    "pylab.plot(xs,zs)"
   ]
  },
  {
   "cell_type": "markdown",
   "metadata": {},
   "source": [
    "リストさえ作れば、グラフを描いてくれることはわかりました。"
   ]
  },
  {
   "cell_type": "code",
   "execution_count": null,
   "metadata": {
    "collapsed": true
   },
   "outputs": [],
   "source": []
  }
 ],
 "metadata": {
  "kernelspec": {
   "display_name": "Python 3",
   "language": "python",
   "name": "python3"
  },
  "language_info": {
   "codemirror_mode": {
    "name": "ipython",
    "version": 3
   },
   "file_extension": ".py",
   "mimetype": "text/x-python",
   "name": "python",
   "nbconvert_exporter": "python",
   "pygments_lexer": "ipython3",
   "version": "3.4.2"
  }
 },
 "nbformat": 4,
 "nbformat_minor": 0
}

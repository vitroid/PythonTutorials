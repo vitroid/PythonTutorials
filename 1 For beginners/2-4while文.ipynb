{
  "nbformat": 4,
  "nbformat_minor": 0,
  "metadata": {
    "kernelspec": {
      "display_name": "Python 3",
      "language": "python",
      "name": "python3"
    },
    "language_info": {
      "codemirror_mode": {
        "name": "ipython",
        "version": 3
      },
      "file_extension": ".py",
      "mimetype": "text/x-python",
      "name": "python",
      "nbconvert_exporter": "python",
      "pygments_lexer": "ipython3",
      "version": "3.6.0"
    },
    "colab": {
      "name": "2-4while文.ipynb",
      "provenance": [],
      "include_colab_link": true
    }
  },
  "cells": [
    {
      "cell_type": "markdown",
      "metadata": {
        "id": "view-in-github",
        "colab_type": "text"
      },
      "source": [
        "<a href=\"https://colab.research.google.com/github/vitroid/PythonTutorials/blob/2020b3/1%20For%20beginners/2-4while%E6%96%87.ipynb\" target=\"_parent\"><img src=\"https://colab.research.google.com/assets/colab-badge.svg\" alt=\"Open In Colab\"/></a>"
      ]
    },
    {
      "cell_type": "markdown",
      "metadata": {
        "id": "qu2mA5WeH4J4",
        "colab_type": "text"
      },
      "source": [
        "# while文\n",
        "繰り返し処理をおこなうもう一つの方法として、while文があります。while文は「何回繰り返されるか、あらかじめ予想できない繰り返し」の場合に使われます。while文の文型は次のようになります。\n",
        "\n",
        "```python\n",
        "while 条件:            #条件が満たされている間は、ブロックを繰り返し実行する。\n",
        "    実行したい内容1\n",
        "    実行したい内容2\n",
        "    実行したい内容3\n",
        "    ....\n",
        "```"
      ]
    },
    {
      "cell_type": "markdown",
      "metadata": {
        "id": "ABdn3_2nH4Mh",
        "colab_type": "text"
      },
      "source": [
        "例えば、総和が1000を越えるまで、n<sup>4</sup>をn=1から順に足しあわせるプログラムは、次のように書きます。"
      ]
    },
    {
      "cell_type": "code",
      "metadata": {
        "id": "YII7LZoqH4Mn",
        "colab_type": "code",
        "colab": {}
      },
      "source": [
        "sum = 0\n",
        "n = 1\n",
        "while sum <= 1000:\n",
        "    sum += n**4\n",
        "    n += 1\n",
        "print(n,sum)"
      ],
      "execution_count": 0,
      "outputs": []
    },
    {
      "cell_type": "markdown",
      "metadata": {
        "id": "aHXZ9F1uH4Os",
        "colab_type": "text"
      },
      "source": [
        "for文の場合とは違い、while文を使う場合には、繰り返しを続ける条件を書きあやまると、いつまでたっても止まらない、いわゆる無限ループ状態におちいってしまいます。止まらなくなったら、■を押して下さい。"
      ]
    },
    {
      "cell_type": "markdown",
      "metadata": {
        "id": "colq7un3H4Ov",
        "colab_type": "text"
      },
      "source": [
        "## インデント記法\n",
        "すでにCやJavaなどの言語を学んだことのある人から見ると、Pythonのインデント記法はなんとなく気持ち悪い気がするかもしれません。筆者も、Pythonのプログラムをはじめて見た時には、なんとも落ちつかない気分になりました。しかし、慣れてくると、逆にほかの言語がやたらと無駄が多いように見えてくるのです。\n",
        "\n",
        "例えばC言語の場合、ifブロックは\n",
        "```c\n",
        "if ( x > 10 ){\n",
        "    printf( \"%d\", x );\n",
        "}\n",
        "```\n",
        "のように “{“ “}”でくくりますので、改行やインデントは、単にプログラムを見易くするためのものにすぎません。極端な話、\n",
        "```c\n",
        "if(x>10){printf( \"%d\", x );}\n",
        "```\n",
        "と書いても、\n",
        "```c\n",
        "if ( x\n",
        "> 10 )\n",
        "\n",
        "    {\n",
        "printf( \"%d\",\n",
        "x )\n",
        "; }\n",
        "```\n",
        "と書いても問題ありません。\n",
        "\n",
        "しかし、現実的には、人間が読んでも間違わないように、プログラムには適切に改行やインデントを入れてきれいに整形しながら書くことが強く推奨されています。あなたが書いたプログラムを、他の人(明日の自分、昨日の自分もまた他人です)が読んだ時に、意味がすぐにつかめることが大切だからです。\n",
        "\n",
        "Pythonの場合、改行とインデントの使い方が文法として決まっており、見栄えの悪いプログラムや、癖のある書き方をしにくいようになっています。Pythonで行儀良くプログラムを書く練習をしておけば、ほかの言語を学ぶ時にも無駄にはならないでしょう。\n",
        "\n",
        "上のCのプログラムをPythonで書くとこんな感じです。\n"
      ]
    },
    {
      "cell_type": "code",
      "metadata": {
        "id": "hQf_QlTkH4SY",
        "colab_type": "code",
        "colab": {}
      },
      "source": [
        "if x > 10:\n",
        "    print(x)"
      ],
      "execution_count": 0,
      "outputs": []
    },
    {
      "cell_type": "markdown",
      "metadata": {
        "id": "g8DzNJ32H4Se",
        "colab_type": "text"
      },
      "source": [
        "シンプルですね。\n",
        "\n",
        "インデント記法の欠点は、他人が作ったプログラムをcut & pasteして自分のプログラムにとりいれる時に、インデントをうまくあわせないと、意図しない誤動作を招くことがあることです。"
      ]
    },
    {
      "cell_type": "code",
      "metadata": {
        "id": "v_Ve6JezH4Sf",
        "colab_type": "code",
        "colab": {}
      },
      "source": [
        ""
      ],
      "execution_count": 0,
      "outputs": []
    }
  ]
}
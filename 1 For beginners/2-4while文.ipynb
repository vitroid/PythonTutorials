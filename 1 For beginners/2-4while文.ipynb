{
 "cells": [
  {
   "cell_type": "markdown",
   "metadata": {},
   "source": [
    "# while文\n",
    "繰り返し処理をおこなうもう一つの方法として、while文があります。while文は「何回繰り返されるか、あらかじめ予想できない繰り返し」の場合に使われます。while文の文型は次のようになります。"
   ]
  },
  {
   "cell_type": "code",
   "execution_count": null,
   "metadata": {
    "collapsed": true
   },
   "outputs": [],
   "source": [
    "while 条件:            #条件が満たされている間は、赤字のブロックを繰り返し実行する。\n",
    "    実行したい内容1\n",
    "    実行したい内容2\n",
    "    実行したい内容3\n",
    "    ...."
   ]
  },
  {
   "cell_type": "markdown",
   "metadata": {},
   "source": [
    "例えば、総和が1000を越えるまで、n<sup>4</sup>をn=1から順に足しあわせるプログラムは、次のように書きます。"
   ]
  },
  {
   "cell_type": "code",
   "execution_count": null,
   "metadata": {
    "collapsed": false
   },
   "outputs": [],
   "source": [
    "sum = 0\n",
    "n = 1\n",
    "while sum <= 1000:\n",
    "    sum += n**4\n",
    "    n += 1\n",
    "print(n,sum)"
   ]
  },
  {
   "cell_type": "markdown",
   "metadata": {},
   "source": [
    "for文の場合とは違い、while文を使う場合には、繰り返しを続ける条件を書きあやまると、いつまでたっても止まらない、いわゆる無限ループ状態におちいってしまいます。"
   ]
  },
  {
   "cell_type": "markdown",
   "metadata": {},
   "source": [
    "## インデント記法\n",
    "すでにCやJavaなどの言語を学んだことのある人から見ると、Pythonのインデント記法はなんとなく気持ち悪い気がするかもしれません。筆者も、Pythonのプログラムをはじめて見た時には、なんとも落ちつかない気分になりました。しかし、慣れてくると、逆にほかの言語がやたらと無駄が多いように見えてくるのです。\n",
    "\n",
    "例えばC言語の場合、ifブロックは"
   ]
  },
  {
   "cell_type": "code",
   "execution_count": null,
   "metadata": {
    "collapsed": true
   },
   "outputs": [],
   "source": [
    "if ( x > 10 ){\n",
    "    printf( \"%d\", x );\n",
    "}"
   ]
  },
  {
   "cell_type": "markdown",
   "metadata": {},
   "source": [
    "のように “{“ “}”でくくりますので、改行やインデントは、単にプログラムを見易くするためのものにすぎません。極端な話、"
   ]
  },
  {
   "cell_type": "code",
   "execution_count": null,
   "metadata": {
    "collapsed": true
   },
   "outputs": [],
   "source": [
    "if(x>10){printf( \"%d\", x );}"
   ]
  },
  {
   "cell_type": "markdown",
   "metadata": {},
   "source": [
    "と書いても、"
   ]
  },
  {
   "cell_type": "code",
   "execution_count": null,
   "metadata": {
    "collapsed": true
   },
   "outputs": [],
   "source": [
    "if ( x\n",
    "> 10 )\n",
    "\n",
    "    {\n",
    "printf( \"%d\",\n",
    "x )\n",
    "; }"
   ]
  },
  {
   "cell_type": "markdown",
   "metadata": {},
   "source": [
    "と書いても問題ありません。\n",
    "\n",
    "しかし、現実的には、人間が読んでも間違わないように、プログラムには適切に改行やインデントを入れてきれいに整形しながら書くことが強く推奨されています。あなたが書いたプログラムを、他の人(明日の自分、昨日の自分もまた他人です)が読んだ時に、意味がすぐにつかめることが大切だからです。\n",
    "\n",
    "Pythonの場合、改行とインデントの使い方が文法として決まっており、見栄えの悪いプログラムや、癖のある書き方をしにくいようになっています。Pythonで行儀良くプログラムを書く練習をしておけば、ほかの言語を学ぶ時にも無駄にはならないでしょう。\n",
    "\n",
    "上のCのプログラムをPythonで書くとこんな感じです。"
   ]
  },
  {
   "cell_type": "code",
   "execution_count": null,
   "metadata": {
    "collapsed": true
   },
   "outputs": [],
   "source": [
    "if x > 10:\n",
    "    print(x)"
   ]
  },
  {
   "cell_type": "markdown",
   "metadata": {},
   "source": [
    "シンプルですね。\n",
    "\n",
    "インデント記法の欠点は、他人が作ったプログラムをcut & pasteして自分のプログラムにとりいれる時に、インデントをうまくあわせないと、意図しない誤動作を招くことがあることです。"
   ]
  },
  {
   "cell_type": "code",
   "execution_count": null,
   "metadata": {
    "collapsed": true
   },
   "outputs": [],
   "source": []
  }
 ],
 "metadata": {
  "kernelspec": {
   "display_name": "Python 3",
   "language": "python",
   "name": "python3"
  },
  "language_info": {
   "codemirror_mode": {
    "name": "ipython",
    "version": 3
   },
   "file_extension": ".py",
   "mimetype": "text/x-python",
   "name": "python",
   "nbconvert_exporter": "python",
   "pygments_lexer": "ipython3",
   "version": "3.6.0"
  }
 },
 "nbformat": 4,
 "nbformat_minor": 0
}

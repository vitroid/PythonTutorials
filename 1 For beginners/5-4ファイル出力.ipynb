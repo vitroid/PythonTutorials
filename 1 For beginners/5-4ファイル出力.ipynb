{
 "cells": [
  {
   "cell_type": "markdown",
   "metadata": {},
   "source": [
    "#ファイルの書き出し\n",
    "ファイルにデータを書き出すプログラムのひながたは、ファイルから読みこむ場合とよく似ています。異なるのは、読みこむ時には、繰り返し(for)の回数は、ファイルに含まれるデータの行数で決まりましたが、書きだす場合には、あなたが回数を指定しなければいけないという点です。\n",
    "\n",
    "例えば、テキストファイル “output.txt” (すでに同じファイルがないかよく確認して下さいね。もし同じ名前の大事なファイルがあっても、確認なしに上書きされてしまいます!!)に、”hello!”を10回書きだすプログラムは、次のようになります。(\"w\"は\"write\"を意味します。)"
   ]
  },
  {
   "cell_type": "code",
   "execution_count": null,
   "metadata": {
    "collapsed": true
   },
   "outputs": [],
   "source": [
    "file = open(\"output1.txt\", \"w\")\n",
    "for i in range(10):\n",
    "    file.write(\"hello!\\n\")"
   ]
  },
  {
   "cell_type": "markdown",
   "metadata": {},
   "source": [
    "妙な文字が出てきました。 “\\n”は、自動的に改行文字に置きかえられます。これを付けないと、"
   ]
  },
  {
   "cell_type": "code",
   "execution_count": null,
   "metadata": {
    "collapsed": true
   },
   "outputs": [],
   "source": [
    "hello!hello!hello!hello!hello!hello!hello!hello!hello!hello!"
   ]
  },
  {
   "cell_type": "markdown",
   "metadata": {},
   "source": [
    "のように改行なしにファイルに書き込まれることになります。\n",
    "\n",
    "数字をファイルに書き出す場合には、読みこむ場合とは逆に、数値をあらかじめ文字列に直してやる必要があります。例えば、1から10までの数字と、その二乗をファイルに書き出すプログラムは、数字を文字列に直す便利な関数format()を使って、次のように書けます。"
   ]
  },
  {
   "cell_type": "code",
   "execution_count": null,
   "metadata": {
    "collapsed": false
   },
   "outputs": [],
   "source": [
    "file = open(\"output2.txt\", \"w\")\n",
    "for i in range(10):\n",
    "    line = \"Square of {0} is {1}.\\n\".format(i,i**2)\n",
    "    print(line, end=\"\")\n",
    "    file.write(line)"
   ]
  },
  {
   "cell_type": "markdown",
   "metadata": {},
   "source": [
    "format()関数は、その左側にある文字列(この場合“Square of {0} is {1}.\\n”)をひながたにして、その文字列に含まれる{0}や{1}を、関数の引数に与えた数字(この場合iとi\\**2)におきかえてくれます。そうして整形できた文字列lineをファイルに書けば良いのです。"
   ]
  },
  {
   "cell_type": "code",
   "execution_count": null,
   "metadata": {
    "collapsed": true
   },
   "outputs": [],
   "source": []
  }
 ],
 "metadata": {
  "kernelspec": {
   "display_name": "Python 3",
   "language": "python",
   "name": "python3"
  },
  "language_info": {
   "codemirror_mode": {
    "name": "ipython",
    "version": 3
   },
   "file_extension": ".py",
   "mimetype": "text/x-python",
   "name": "python",
   "nbconvert_exporter": "python",
   "pygments_lexer": "ipython3",
   "version": "3.4.2"
  }
 },
 "nbformat": 4,
 "nbformat_minor": 0
}

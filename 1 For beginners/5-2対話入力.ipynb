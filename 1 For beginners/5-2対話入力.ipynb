{
  "nbformat": 4,
  "nbformat_minor": 0,
  "metadata": {
    "kernelspec": {
      "display_name": "Python 3",
      "language": "python",
      "name": "python3"
    },
    "language_info": {
      "codemirror_mode": {
        "name": "ipython",
        "version": 3
      },
      "file_extension": ".py",
      "mimetype": "text/x-python",
      "name": "python",
      "nbconvert_exporter": "python",
      "pygments_lexer": "ipython3",
      "version": "3.6.0"
    },
    "colab": {
      "name": "5-2対話入力.ipynb",
      "provenance": [],
      "toc_visible": true,
      "include_colab_link": true
    }
  },
  "cells": [
    {
      "cell_type": "markdown",
      "metadata": {
        "id": "view-in-github",
        "colab_type": "text"
      },
      "source": [
        "<a href=\"https://colab.research.google.com/github/vitroid/PythonTutorials/blob/2021/1%20For%20beginners/5-2%E5%AF%BE%E8%A9%B1%E5%85%A5%E5%8A%9B.ipynb\" target=\"_parent\"><img src=\"https://colab.research.google.com/assets/colab-badge.svg\" alt=\"Open In Colab\"/></a>"
      ]
    },
    {
      "cell_type": "markdown",
      "metadata": {
        "id": "GZSp5CZEmkd_"
      },
      "source": [
        "# キーボードからの読み込み\n",
        "input()関数を使うと、プログラムを実行しはじめてから，キーボードから打ち込んだ数値をプログラム内で利用できます。次の、xの10乗を表示するプログラム"
      ]
    },
    {
      "cell_type": "code",
      "metadata": {
        "id": "CK4Gu0EamkeG"
      },
      "source": [
        "x=99\n",
        "print(x**10)"
      ],
      "execution_count": null,
      "outputs": []
    },
    {
      "cell_type": "markdown",
      "metadata": {
        "id": "Hw3sqblzmkeZ"
      },
      "source": [
        "では、xの値はプログラムの中に直接書かれているので、別の数字の10乗を計算する場合にはプログラムの書き換えが必要ですが、input関数をつかって"
      ]
    },
    {
      "cell_type": "code",
      "metadata": {
        "id": "ckWE2lhcmkec"
      },
      "source": [
        "x=eval(input(\"Set x:\"))\n",
        "print(x**10)"
      ],
      "execution_count": null,
      "outputs": []
    },
    {
      "cell_type": "markdown",
      "metadata": {
        "id": "hlcsyWJ4mker"
      },
      "source": [
        "としておけば、実行するたびに`x`の値の入力が求められ、入力に応じた結果が得られます。(`eval(s)`は、文字列`s`をPythonの式とみなして処理する関数です。上の例では、`2+3`と入力すると、`x`は5になり、5の10乗が計算されます。)\n",
        "\n",
        "`x`に文字列をそのまま入力してもらいたい場合は`eval()`を外して下さい。"
      ]
    },
    {
      "cell_type": "code",
      "metadata": {
        "id": "q5ysC4Glmke0"
      },
      "source": [
        "x=input(\"Say hello:\")\n",
        "print(\"You said: \" + x)"
      ],
      "execution_count": null,
      "outputs": []
    },
    {
      "cell_type": "markdown",
      "metadata": {
        "id": "yQt2AB9un44v"
      },
      "source": [
        "Google Colab特有のFormsという機能を使うと、パラメータの入力をスマートにできます。(詳細は https://colab.research.google.com/notebooks/forms.ipynb )"
      ]
    },
    {
      "cell_type": "code",
      "metadata": {
        "id": "-pzXwxWHn3ch"
      },
      "source": [
        "#@title Formによる数値の入力\n",
        "# #@paramと書かれている行はformとして扱われる。\n",
        "# 右側の鉛筆ボタンを押すと、入力スタイルを変更できます。\n",
        "x=5    #@param\n",
        "y = 15 #@param {type:\"slider\", min:0, max:100, step:1}\n",
        "\n",
        "print(x**10+y**10)"
      ],
      "execution_count": null,
      "outputs": []
    },
    {
      "cell_type": "markdown",
      "metadata": {
        "id": "Ho7HlBOYpt_k"
      },
      "source": [
        ""
      ]
    },
    {
      "cell_type": "code",
      "metadata": {
        "id": "8XDasGZImkfH"
      },
      "source": [
        ""
      ],
      "execution_count": null,
      "outputs": []
    }
  ]
}
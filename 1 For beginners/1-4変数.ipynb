{
  "nbformat": 4,
  "nbformat_minor": 0,
  "metadata": {
    "kernelspec": {
      "display_name": "Python 3",
      "language": "python",
      "name": "python3"
    },
    "language_info": {
      "codemirror_mode": {
        "name": "ipython",
        "version": 3
      },
      "file_extension": ".py",
      "mimetype": "text/x-python",
      "name": "python",
      "nbconvert_exporter": "python",
      "pygments_lexer": "ipython3",
      "version": "3.6.0"
    },
    "colab": {
      "name": "1-4変数.ipynb",
      "provenance": [],
      "include_colab_link": true
    }
  },
  "cells": [
    {
      "cell_type": "markdown",
      "metadata": {
        "id": "view-in-github",
        "colab_type": "text"
      },
      "source": [
        "<a href=\"https://colab.research.google.com/github/vitroid/PythonTutorials/blob/master/1%20For%20beginners/1-4%E5%A4%89%E6%95%B0.ipynb\" target=\"_parent\"><img src=\"https://colab.research.google.com/assets/colab-badge.svg\" alt=\"Open In Colab\"/></a>"
      ]
    },
    {
      "cell_type": "markdown",
      "metadata": {
        "id": "1Fq1Xgu_GGOQ"
      },
      "source": [
        "[▶️ 解説 (Stream動画)](https://okautest-my.sharepoint.com/:v:/g/personal/p5319vza_okayama-u_ac_jp/EcW95jGRELhQOVcQ3k4XqA0BNEP1pv5nGJkIQkAp98-Jzg)"
      ]
    },
    {
      "cell_type": "markdown",
      "metadata": {
        "id": "QH76fUesHw28"
      },
      "source": [
        "# 変数\n",
        "```python\n",
        "変数名=値\n",
        "```\n",
        "のように、`=`の左側に変数名、右側に値を指定すると、変数に値を「入れる」ことができます。\n",
        "\n",
        "変数には、整数でも実数でも文字列でもリストでも、何でも入れることができます。ただし、まだ何も入れていない変数を使おうとするとエラーになります。\n",
        "\n",
        "変数の名前には、アルファベット、数字、“\\_”(アンダースコア)が使えます。ただし1文字目に数字は使えません。大文字と小文字は別の文字とみなされて区別されるので、読み違いやすい文字( “l” と “I” と “1”、 “o”と“O”と“0”など)を多用すると、思わぬエラーのもとになります。"
      ]
    },
    {
      "cell_type": "code",
      "metadata": {
        "id": "qlYl80vtHw3L"
      },
      "source": [
        "one=1.0\n",
        "One=\"I\"\n",
        "one,One"
      ],
      "execution_count": null,
      "outputs": []
    },
    {
      "cell_type": "markdown",
      "metadata": {
        "id": "0qnhJhVxHw5Q"
      },
      "source": [
        "“=” という文字は、数学で使う “=” とは別の意味をもっています。 Pythonの“=”は、「右辺を計算した結果を左辺の変数に入れる」という意味をもっています。例えば、"
      ]
    },
    {
      "cell_type": "code",
      "metadata": {
        "id": "2JhAXhApHw5V"
      },
      "source": [
        "a=10+5"
      ],
      "execution_count": null,
      "outputs": []
    },
    {
      "cell_type": "markdown",
      "metadata": {
        "id": "fsD7ggg2Hw6C"
      },
      "source": [
        "は、「aは15と等しい」あるいは「aは10と5を足したものに等価である」という<u>意味ではなく</u>、「変数aに右辺の計算結果である数値15を入れる」あるいは「変数aの値を15に変更する」という意味です。だから、"
      ]
    },
    {
      "cell_type": "code",
      "metadata": {
        "id": "c2MeaxU7Hw6V"
      },
      "source": [
        "a=10\n",
        "a=a+1\n",
        "a=a*3\n",
        "a"
      ],
      "execution_count": null,
      "outputs": []
    },
    {
      "cell_type": "markdown",
      "metadata": {
        "id": "XOabfo8tHw60"
      },
      "source": [
        "は、「まず10をaに入れる」「aに1を加えた結果を、再びaに入れる」「aに3をかけた結果を，再びaに入れる」という意味ですから、最終的な変数aの値は33になります。一方、"
      ]
    },
    {
      "cell_type": "code",
      "metadata": {
        "id": "OqKSGonMHw63"
      },
      "source": [
        "10=a"
      ],
      "execution_count": null,
      "outputs": []
    },
    {
      "cell_type": "markdown",
      "metadata": {
        "id": "riaxQ0zKHw7P"
      },
      "source": [
        "は「aを10に入れる」が意味不明だとしてエラーになります。\n",
        "\n",
        "なお、特別な略記法として、aに10を足す、bに5を掛ける、を以下のように書きます。"
      ]
    },
    {
      "cell_type": "code",
      "metadata": {
        "id": "0FA4fb5FHw7Q"
      },
      "source": [
        "a = 1\n",
        "b = 1\n",
        "a += 10\n",
        "b *= 5\n",
        "a,b"
      ],
      "execution_count": null,
      "outputs": []
    },
    {
      "cell_type": "markdown",
      "metadata": {
        "id": "z7JY4PYPHw7W"
      },
      "source": [
        "(C言語流のa++や++aという書き方は、Pythonでは使えません。)\n",
        "\n",
        "Pythonでは、複数の変数に、同時に値をセットすることができます。例えば、"
      ]
    },
    {
      "cell_type": "code",
      "metadata": {
        "id": "mG_SGtKxHw7X"
      },
      "source": [
        "x,y = 10, 15"
      ],
      "execution_count": null,
      "outputs": []
    },
    {
      "cell_type": "markdown",
      "metadata": {
        "id": "JLCeZjwsHw7z"
      },
      "source": [
        "と書くと、xに10、yに15がセットされます。右辺をリストにして、"
      ]
    },
    {
      "cell_type": "code",
      "metadata": {
        "id": "vd6Fv2RZHw70"
      },
      "source": [
        "a = [10,15]\n",
        "x,y = a"
      ],
      "execution_count": null,
      "outputs": []
    },
    {
      "cell_type": "markdown",
      "metadata": {
        "id": "H4vgTRCuHw77"
      },
      "source": [
        "としても同じことができます。この書き方を応用すると、2つの変数の値を入れかえるのは、とても簡単です。"
      ]
    },
    {
      "cell_type": "code",
      "metadata": {
        "id": "peXWz_XfHw78"
      },
      "source": [
        "you = \"M\"\n",
        "me = \"F\"\n",
        "print(you,me)\n",
        "you, me = me, you\n",
        "print(you,me)"
      ],
      "execution_count": null,
      "outputs": []
    },
    {
      "cell_type": "markdown",
      "metadata": {
        "collapsed": true,
        "id": "NgUOyLIYHw8B"
      },
      "source": [
        "実は変数名にアルファベット以外の文字を使うこともできます。漢字を混在させるときは、___全角の空白文字「　」を混ぜこまないように___十分気をつけてください。"
      ]
    },
    {
      "cell_type": "code",
      "metadata": {
        "id": "w8LK0o0QHw8N"
      },
      "source": [
        "い=1\n",
        "ろ=6\n",
        "は=8\n",
        "に=2\n",
        "print(い+ろ+は+に)\n",
        "南=\"south\"\n",
        "西=\"west\"\n",
        "print(南+西)"
      ],
      "execution_count": null,
      "outputs": []
    },
    {
      "cell_type": "markdown",
      "metadata": {
        "id": "Mu5L0SadHw8S"
      },
      "source": [
        "変数名以外の記号や数字は、全角にはできません。"
      ]
    },
    {
      "cell_type": "code",
      "metadata": {
        "id": "0P63lAJKHw8S"
      },
      "source": [
        "Ａ＝０ # error! 等号が全角文字"
      ],
      "execution_count": null,
      "outputs": []
    },
    {
      "cell_type": "code",
      "metadata": {
        "id": "04W4IlN7Hw8W"
      },
      "source": [
        "Ａ=０ # error! ゼロが全角文字"
      ],
      "execution_count": null,
      "outputs": []
    },
    {
      "cell_type": "markdown",
      "metadata": {
        "id": "ZfHVOUfeHw9F"
      },
      "source": [
        "また、全角英数字は半角英数字と同一視されます。"
      ]
    },
    {
      "cell_type": "code",
      "metadata": {
        "id": "QxZ2ZaSfHw9K"
      },
      "source": [
        "Ａ=99 #全角のAに値を入れる。\n",
        "A     #半角のAの値は同じ。"
      ],
      "execution_count": null,
      "outputs": []
    },
    {
      "cell_type": "markdown",
      "metadata": {
        "id": "7SwR1QKAHw9u"
      },
      "source": [
        "全角文字と半角文字が混在すると、一見正しいのにエラーがでて、しかもどこを指しているのかがよくわからない、ということになりがちですので、十分気をつけて下さい。（特に、（特に、Windowsの英数字は全角と半角が見分けにくい傾向があります。）慣れるまでは全角文字は使わない方が無難でしょう。"
      ]
    },
    {
      "cell_type": "markdown",
      "source": [
        "### Exercise\n",
        "\n",
        "以下を実行すると、yとzはいくつになるか、考えてみてください。\n",
        "```\n",
        "x = 1\n",
        "y = 2\n",
        "z = 4\n",
        "x = y\n",
        "y = z\n",
        "z = x\n",
        "print(y,z)\n",
        "```\n",
        "\n",
        "下の枠にそのままコピペして、答を見て下さい。\n",
        "\n",
        "思っていたのと違う答だった場合は、なぜ違うのかをよく考えて下さい。"
      ],
      "metadata": {
        "id": "5g1h7qy69tgB"
      }
    },
    {
      "cell_type": "code",
      "source": [],
      "metadata": {
        "id": "f-pYdmGn-AUX"
      },
      "execution_count": null,
      "outputs": []
    }
  ]
}
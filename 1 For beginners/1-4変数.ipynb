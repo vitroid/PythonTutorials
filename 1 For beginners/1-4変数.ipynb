{
 "cells": [
  {
   "cell_type": "markdown",
   "metadata": {},
   "source": [
    "# 変数\n",
    "変数には、整数でも実数でも文字列でもリストでも、何でも入れることができます。ただし、まだ何も入れていない変数を使おうとするとエラーになります。\n",
    "変数の名前には、アルファベット、数字、“\\_”(アンダースコア)が使えます。大文字と小文字は別の文字とみなされて区別されるので、読み違いやすい文字( “l” と “I” と “1”、 “o”と“O”と“0”など)を多用すると、思わぬエラーのもとになります。"
   ]
  },
  {
   "cell_type": "code",
   "execution_count": null,
   "metadata": {
    "collapsed": false
   },
   "outputs": [],
   "source": [
    "one=1.0\n",
    "One=\"I\"\n",
    "one,One"
   ]
  },
  {
   "cell_type": "markdown",
   "metadata": {},
   "source": [
    "“=” という文字は、数学で使う “=” とは別の意味をもっています。 Pythonの“=”は、「右辺を計算した結果を左辺の変数に入れる」という意味をもっています。例えば、"
   ]
  },
  {
   "cell_type": "code",
   "execution_count": null,
   "metadata": {
    "collapsed": true
   },
   "outputs": [],
   "source": [
    "a=10+5"
   ]
  },
  {
   "cell_type": "markdown",
   "metadata": {},
   "source": [
    "は、「aは15と等しい」あるいは「aは10と5を足したものに等価である」という<u>意味ではなく</u>、「変数aに右辺の計算結果である数値15を入れる」あるいは「変数aの値を15に変更する」という意味です。だから、"
   ]
  },
  {
   "cell_type": "code",
   "execution_count": null,
   "metadata": {
    "collapsed": false
   },
   "outputs": [],
   "source": [
    "a=10\n",
    "a=a+1\n",
    "a=a*3\n",
    "a"
   ]
  },
  {
   "cell_type": "markdown",
   "metadata": {},
   "source": [
    "は、「まず10をaに入れる」「aに1を加えた結果を、再びaに入れる」「aに3をかけた結果を，再びaに入れる」という意味ですから、最終的な変数aの値は33になります。一方、"
   ]
  },
  {
   "cell_type": "code",
   "execution_count": null,
   "metadata": {
    "collapsed": false
   },
   "outputs": [],
   "source": [
    "10=a"
   ]
  },
  {
   "cell_type": "markdown",
   "metadata": {},
   "source": [
    "は「aを10に入れる」が意味不明だとしてエラーになります。\n",
    "\n",
    "なお、特別な略記法として、a = a + 10や、b = b * 5を"
   ]
  },
  {
   "cell_type": "code",
   "execution_count": null,
   "metadata": {
    "collapsed": false
   },
   "outputs": [],
   "source": [
    "a = 1\n",
    "b = 1\n",
    "a += 10\n",
    "b *= 5\n",
    "a,b"
   ]
  },
  {
   "cell_type": "markdown",
   "metadata": {},
   "source": [
    "のように書くことができます。C言語流のa++や++aという書き方は、Pythonでは使えません。\n",
    "\n",
    "Pythonでは、複数の変数に、同時に値をセットすることができます。例えば、"
   ]
  },
  {
   "cell_type": "code",
   "execution_count": null,
   "metadata": {
    "collapsed": true
   },
   "outputs": [],
   "source": [
    "x,y = 10, 15"
   ]
  },
  {
   "cell_type": "markdown",
   "metadata": {},
   "source": [
    "と書くと、xに10、yに15がセットされます。右辺をリストにして、"
   ]
  },
  {
   "cell_type": "code",
   "execution_count": null,
   "metadata": {
    "collapsed": true
   },
   "outputs": [],
   "source": [
    "a = [10,15]\n",
    "x,y = a"
   ]
  },
  {
   "cell_type": "markdown",
   "metadata": {},
   "source": [
    "としても同じことができます。この書き方を応用すると、2つの変数の値を入れかえるのは、とても簡単です。"
   ]
  },
  {
   "cell_type": "code",
   "execution_count": null,
   "metadata": {
    "collapsed": false
   },
   "outputs": [],
   "source": [
    "you = \"M\"\n",
    "me = \"F\"\n",
    "print(you,me)\n",
    "you, me = me, you\n",
    "print(you,me)"
   ]
  },
  {
   "cell_type": "markdown",
   "metadata": {
    "collapsed": true
   },
   "source": [
    "実は変数名に漢字を使うこともできます。漢字を混在させるときは、全角の空白文字「　」を混ぜこまないように十分気をつけてください。"
   ]
  },
  {
   "cell_type": "code",
   "execution_count": null,
   "metadata": {
    "collapsed": false
   },
   "outputs": [],
   "source": [
    "い=1\n",
    "ろ=6\n",
    "は=8\n",
    "に=2\n",
    "print(い+ろ+は+に)\n",
    "南=\"south\"\n",
    "西=\"west\"\n",
    "print(南+西)"
   ]
  },
  {
   "cell_type": "markdown",
   "metadata": {},
   "source": [
    "変数名以外の記号や数字は、全角にはできません。"
   ]
  },
  {
   "cell_type": "code",
   "execution_count": null,
   "metadata": {
    "collapsed": false
   },
   "outputs": [],
   "source": [
    "Ａ＝０ # error! 等号が全角文字"
   ]
  },
  {
   "cell_type": "code",
   "execution_count": null,
   "metadata": {
    "collapsed": false
   },
   "outputs": [],
   "source": [
    "Ａ=０ # error! ゼロが全角文字"
   ]
  },
  {
   "cell_type": "markdown",
   "metadata": {},
   "source": [
    "また、全角英数字は半角英数字と同一視されます。"
   ]
  },
  {
   "cell_type": "code",
   "execution_count": null,
   "metadata": {
    "collapsed": false
   },
   "outputs": [],
   "source": [
    "Ａ=99 #全角のAに値を入れる。\n",
    "A     #半角のAの値は同じ。"
   ]
  },
  {
   "cell_type": "markdown",
   "metadata": {},
   "source": [
    "全角文字と半角文字が混在すると、一見正しいのにエラーがでて、しかもどこを指しているのかがよくわからない、ということになりがちですので、十分気をつけて下さい。"
   ]
  },
  {
   "cell_type": "code",
   "execution_count": null,
   "metadata": {
    "collapsed": true
   },
   "outputs": [],
   "source": []
  }
 ],
 "metadata": {
  "kernelspec": {
   "display_name": "Python 3",
   "language": "python",
   "name": "python3"
  },
  "language_info": {
   "codemirror_mode": {
    "name": "ipython",
    "version": 3
   },
   "file_extension": ".py",
   "mimetype": "text/x-python",
   "name": "python",
   "nbconvert_exporter": "python",
   "pygments_lexer": "ipython3",
   "version": "3.6.0"
  }
 },
 "nbformat": 4,
 "nbformat_minor": 0
}

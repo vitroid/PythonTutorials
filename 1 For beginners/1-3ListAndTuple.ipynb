{
  "nbformat": 4,
  "nbformat_minor": 0,
  "metadata": {
    "kernelspec": {
      "display_name": "Python 3",
      "language": "python",
      "name": "python3"
    },
    "language_info": {
      "codemirror_mode": {
        "name": "ipython",
        "version": 3
      },
      "file_extension": ".py",
      "mimetype": "text/x-python",
      "name": "python",
      "nbconvert_exporter": "python",
      "pygments_lexer": "ipython3",
      "version": "3.6.0"
    },
    "colab": {
      "name": "1-3ListAndTuple.ipynb",
      "provenance": [],
      "include_colab_link": true
    }
  },
  "cells": [
    {
      "cell_type": "markdown",
      "metadata": {
        "id": "view-in-github",
        "colab_type": "text"
      },
      "source": [
        "<a href=\"https://colab.research.google.com/github/vitroid/PythonTutorials/blob/2021/1%20For%20beginners/1-3ListAndTuple.ipynb\" target=\"_parent\"><img src=\"https://colab.research.google.com/assets/colab-badge.svg\" alt=\"Open In Colab\"/></a>"
      ]
    },
    {
      "cell_type": "markdown",
      "metadata": {
        "id": "dG_aK1r_HvY_"
      },
      "source": [
        "# リストとタプル\n",
        "数字や文字列を、いくつか束ねたものを、リストと呼びます。リストを使えば、ベクトルや行列を表現することができます。例えば、3つの数字3、1、4を並べたリストは、角括弧とカンマを使ってこんな風に作ります。"
      ]
    },
    {
      "cell_type": "code",
      "metadata": {
        "id": "MbFpYPCgHvZQ"
      },
      "source": [
        "x=[3,1,4]\n",
        "x"
      ],
      "execution_count": null,
      "outputs": []
    },
    {
      "cell_type": "markdown",
      "metadata": {
        "id": "7450eo0sQDeX"
      },
      "source": [
        "文字列やリストのように、データを順番にならべてひとまとめにしたものを、Pythonではシーケンスと呼びます。シーケンスを連結したり、分割したりする方法はほとんど共通です。"
      ]
    },
    {
      "cell_type": "markdown",
      "metadata": {
        "id": "6-M2pb2VHvZn"
      },
      "source": [
        "リストでは、文字列とほぼ同じ演算操作ができます。"
      ]
    },
    {
      "cell_type": "markdown",
      "metadata": {
        "id": "pM6abvu7NbRo"
      },
      "source": [
        "2つのリストを連結する。"
      ]
    },
    {
      "cell_type": "code",
      "metadata": {
        "id": "ku5vWlCjHvZs"
      },
      "source": [
        "x=[3,1,4]\n",
        "y=[1,5,9]\n",
        "x+y"
      ],
      "execution_count": null,
      "outputs": []
    },
    {
      "cell_type": "markdown",
      "metadata": {
        "id": "stwYVNTZNfA_"
      },
      "source": [
        "リストを3倍すると、長いリストができる。"
      ]
    },
    {
      "cell_type": "code",
      "metadata": {
        "id": "aijEgWaXHvaK"
      },
      "source": [
        "z=x*3\n",
        "z"
      ],
      "execution_count": null,
      "outputs": []
    },
    {
      "cell_type": "markdown",
      "metadata": {
        "id": "w-iefwP5Nj2T"
      },
      "source": [
        "部分リストをとりだす。"
      ]
    },
    {
      "cell_type": "code",
      "metadata": {
        "id": "FLdAwY_AHvae"
      },
      "source": [
        "z[1:5]"
      ],
      "execution_count": null,
      "outputs": []
    },
    {
      "cell_type": "markdown",
      "metadata": {
        "id": "Mhd5qpTBNmIZ"
      },
      "source": [
        "要素を1つだけとりだす。"
      ]
    },
    {
      "cell_type": "code",
      "metadata": {
        "id": "t3zuPrPNHvaz"
      },
      "source": [
        "z[0]"
      ],
      "execution_count": null,
      "outputs": []
    },
    {
      "cell_type": "markdown",
      "metadata": {
        "id": "rUL94SnvHva5"
      },
      "source": [
        "リストには、数字だけでなく文字列も入れられるし、リストの中にリストを入れることすらできます。"
      ]
    },
    {
      "cell_type": "code",
      "metadata": {
        "id": "0bTh9pcaHva6"
      },
      "source": [
        "x=[3.14, 100, \"abcde\", [9,8,7]]\n",
        "x[0]"
      ],
      "execution_count": null,
      "outputs": []
    },
    {
      "cell_type": "markdown",
      "metadata": {
        "id": "QncozxyUNw7s"
      },
      "source": [
        "3番目の要素をとりだすと、それは`[9,8,7]`というリストです。"
      ]
    },
    {
      "cell_type": "code",
      "metadata": {
        "id": "JyicDvB0HvbN"
      },
      "source": [
        "x[3]"
      ],
      "execution_count": null,
      "outputs": []
    },
    {
      "cell_type": "markdown",
      "metadata": {
        "id": "p6j9m_DXN4QN"
      },
      "source": [
        "その中の、1番目の要素は?"
      ]
    },
    {
      "cell_type": "code",
      "metadata": {
        "id": "dxs1ZlUFHvbS"
      },
      "source": [
        "x[3][1]"
      ],
      "execution_count": null,
      "outputs": []
    },
    {
      "cell_type": "markdown",
      "metadata": {
        "id": "bsJFc5p9Hvbq"
      },
      "source": [
        "リストを使えば、何万ものデータを簡単に操作できるようになります。実際に使う方法については、のちほど詳しく説明することにします。"
      ]
    },
    {
      "cell_type": "markdown",
      "metadata": {
        "id": "IOtq01H2Hvbr"
      },
      "source": [
        "タプルは耳慣れない言葉ですが、ほぼリストと同じものと思って下さい。タプルを定義する時には、角括弧の代わりに丸括弧を使う点以外は、リストそっくりです。リストと同じように、要素をとりだすことができます。"
      ]
    },
    {
      "cell_type": "code",
      "metadata": {
        "id": "5cBYrzRlHvbt"
      },
      "source": [
        "x=(3.14, 100, \"abcde\", [9,8,7])\n",
        "x[0]"
      ],
      "execution_count": null,
      "outputs": []
    },
    {
      "cell_type": "code",
      "metadata": {
        "id": "fZCTdZS0Hvbx"
      },
      "source": [
        "x[3]"
      ],
      "execution_count": null,
      "outputs": []
    },
    {
      "cell_type": "code",
      "metadata": {
        "id": "BZ240AVqHvb4"
      },
      "source": [
        "x[3][1]"
      ],
      "execution_count": null,
      "outputs": []
    },
    {
      "cell_type": "code",
      "metadata": {
        "id": "waAa4vp-HvcL"
      },
      "source": [
        "x[1:3]"
      ],
      "execution_count": null,
      "outputs": []
    },
    {
      "cell_type": "markdown",
      "metadata": {
        "id": "Z0p1SyC_HvcT"
      },
      "source": [
        "タプルはリストと違い、最初に入れた値を書きかえることができません。実際に比べてみましょう。"
      ]
    },
    {
      "cell_type": "code",
      "metadata": {
        "id": "aE43ngV5HvcT"
      },
      "source": [
        "x=[3.14, 100, \"abcde\", [9,8,7]]\n",
        "# 2番目の要素を書き換える。\n",
        "x[2] = \"modified\"\n",
        "x"
      ],
      "execution_count": null,
      "outputs": []
    },
    {
      "cell_type": "code",
      "metadata": {
        "id": "Vtvz5LPeHvca"
      },
      "source": [
        "x=(3.14, 100, \"abcde\", [9,8,7])\n",
        "# 2番目の要素を書き換える。タプルだとエラーになる。\n",
        "x[2] = \"modified\"\n",
        "x"
      ],
      "execution_count": null,
      "outputs": []
    },
    {
      "cell_type": "markdown",
      "metadata": {
        "id": "7BsRrruyHvch"
      },
      "source": [
        "タプルなんて不便なだけじゃないか、と思うかもしれませんが、タプルならではの使い方もあります。必要になったところであらためて説明します。"
      ]
    },
    {
      "cell_type": "markdown",
      "metadata": {
        "id": "KLLv_r06Q6Yq"
      },
      "source": [
        "## Exercise\n",
        "リストx=[3.14, 100, \"abcde\", [9,8,7]]に対して、次の処理をするコードを書いて下さい。\n",
        " 1.  xから、文字列\"de\"をとりだして、変数yに入れる。\n",
        " 2. xのなかの7を70に書きかえる。"
      ]
    },
    {
      "cell_type": "code",
      "metadata": {
        "id": "-RisDY8AQ5VX",
        "outputId": "7d9fc590-83db-4234-d77f-28c4c994afdf",
        "colab": {
          "base_uri": "https://localhost:8080/"
        }
      },
      "source": [
        "x=(3.14, 100, \"abcde\", [9,8,7])\n",
        "\n",
        "#1.\n",
        "y = x[1]      #ここを書きかえる\n",
        "print(y)"
      ],
      "execution_count": 1,
      "outputs": [
        {
          "output_type": "stream",
          "text": [
            "100\n"
          ],
          "name": "stdout"
        }
      ]
    },
    {
      "cell_type": "code",
      "metadata": {
        "id": "SQKos7RSSgkt"
      },
      "source": [
        ""
      ],
      "execution_count": null,
      "outputs": []
    }
  ]
}
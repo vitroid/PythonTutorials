{
  "nbformat": 4,
  "nbformat_minor": 0,
  "metadata": {
    "kernelspec": {
      "display_name": "Python 3",
      "language": "python",
      "name": "python3"
    },
    "language_info": {
      "codemirror_mode": {
        "name": "ipython",
        "version": 3
      },
      "file_extension": ".py",
      "mimetype": "text/x-python",
      "name": "python",
      "nbconvert_exporter": "python",
      "pygments_lexer": "ipython3",
      "version": "3.6.0"
    },
    "colab": {
      "name": "1-3ListAndTuple.ipynb",
      "provenance": [],
      "include_colab_link": true
    }
  },
  "cells": [
    {
      "cell_type": "markdown",
      "metadata": {
        "id": "view-in-github",
        "colab_type": "text"
      },
      "source": [
        "<a href=\"https://colab.research.google.com/github/vitroid/PythonTutorials/blob/2020b3/1%20For%20beginners/1-3ListAndTuple.ipynb\" target=\"_parent\"><img src=\"https://colab.research.google.com/assets/colab-badge.svg\" alt=\"Open In Colab\"/></a>"
      ]
    },
    {
      "cell_type": "markdown",
      "metadata": {
        "id": "dG_aK1r_HvY_",
        "colab_type": "text"
      },
      "source": [
        "# リストとタプル\n",
        "数字や文字列を、いくつか束ねたものを、リストと呼びます。リストを使えば、ベクトルや行列を表現することができます。例えば、3つの数字3、1、4を並べたリストは、角括弧とカンマを使ってこんな風に作ります。"
      ]
    },
    {
      "cell_type": "code",
      "metadata": {
        "id": "MbFpYPCgHvZQ",
        "colab_type": "code",
        "colab": {}
      },
      "source": [
        "x=[3,1,4]\n",
        "x"
      ],
      "execution_count": 0,
      "outputs": []
    },
    {
      "cell_type": "markdown",
      "metadata": {
        "id": "6-M2pb2VHvZn",
        "colab_type": "text"
      },
      "source": [
        "リストは、文字列とほぼ同じ演算操作ができます。"
      ]
    },
    {
      "cell_type": "markdown",
      "metadata": {
        "id": "pM6abvu7NbRo",
        "colab_type": "text"
      },
      "source": [
        "2つのリストを連結する。"
      ]
    },
    {
      "cell_type": "code",
      "metadata": {
        "id": "ku5vWlCjHvZs",
        "colab_type": "code",
        "colab": {}
      },
      "source": [
        "x=[3,1,4]\n",
        "y=[1,5,9]\n",
        "x+y"
      ],
      "execution_count": 0,
      "outputs": []
    },
    {
      "cell_type": "markdown",
      "metadata": {
        "id": "stwYVNTZNfA_",
        "colab_type": "text"
      },
      "source": [
        "リストを3倍すると、長いリストができる。"
      ]
    },
    {
      "cell_type": "code",
      "metadata": {
        "id": "aijEgWaXHvaK",
        "colab_type": "code",
        "colab": {}
      },
      "source": [
        "z=x*3\n",
        "z"
      ],
      "execution_count": 0,
      "outputs": []
    },
    {
      "cell_type": "markdown",
      "metadata": {
        "id": "w-iefwP5Nj2T",
        "colab_type": "text"
      },
      "source": [
        "部分リストをとりだす。"
      ]
    },
    {
      "cell_type": "code",
      "metadata": {
        "id": "FLdAwY_AHvae",
        "colab_type": "code",
        "colab": {}
      },
      "source": [
        "z[1:5]"
      ],
      "execution_count": 0,
      "outputs": []
    },
    {
      "cell_type": "markdown",
      "metadata": {
        "id": "Mhd5qpTBNmIZ",
        "colab_type": "text"
      },
      "source": [
        "要素を1つだけとりだす。"
      ]
    },
    {
      "cell_type": "code",
      "metadata": {
        "id": "t3zuPrPNHvaz",
        "colab_type": "code",
        "colab": {}
      },
      "source": [
        "z[0]"
      ],
      "execution_count": 0,
      "outputs": []
    },
    {
      "cell_type": "markdown",
      "metadata": {
        "id": "rUL94SnvHva5",
        "colab_type": "text"
      },
      "source": [
        "リストには、数字だけでなく文字列も入れられるし、リストの中にリストを入れることすらできます。"
      ]
    },
    {
      "cell_type": "code",
      "metadata": {
        "id": "0bTh9pcaHva6",
        "colab_type": "code",
        "colab": {}
      },
      "source": [
        "x=[3.14, 100, \"abcde\", [9,8,7]]\n",
        "x[0]"
      ],
      "execution_count": 0,
      "outputs": []
    },
    {
      "cell_type": "markdown",
      "metadata": {
        "id": "QncozxyUNw7s",
        "colab_type": "text"
      },
      "source": [
        "3番目の要素をとりだすと、それは`[9,8,7]`というリストです。"
      ]
    },
    {
      "cell_type": "code",
      "metadata": {
        "id": "JyicDvB0HvbN",
        "colab_type": "code",
        "colab": {}
      },
      "source": [
        "x[3]"
      ],
      "execution_count": 0,
      "outputs": []
    },
    {
      "cell_type": "markdown",
      "metadata": {
        "id": "p6j9m_DXN4QN",
        "colab_type": "text"
      },
      "source": [
        "その中の、1番目の要素は?"
      ]
    },
    {
      "cell_type": "code",
      "metadata": {
        "id": "dxs1ZlUFHvbS",
        "colab_type": "code",
        "colab": {}
      },
      "source": [
        "x[3][1]"
      ],
      "execution_count": 0,
      "outputs": []
    },
    {
      "cell_type": "markdown",
      "metadata": {
        "id": "bsJFc5p9Hvbq",
        "colab_type": "text"
      },
      "source": [
        "リストを使えば、何万ものデータを簡単に操作できるようになります。実際に使う方法については、のちほど詳しく説明することにします。"
      ]
    },
    {
      "cell_type": "markdown",
      "metadata": {
        "id": "IOtq01H2Hvbr",
        "colab_type": "text"
      },
      "source": [
        "タプルは耳慣れない言葉ですが、ほぼリストと同じものと思って下さい。タプルを定義する時には、角括弧の代わりに丸括弧を使う点以外は、リストそっくりです。リストと同じように、要素をとりだすことができます。"
      ]
    },
    {
      "cell_type": "code",
      "metadata": {
        "id": "5cBYrzRlHvbt",
        "colab_type": "code",
        "colab": {}
      },
      "source": [
        "x=(3.14, 100, \"abcde\", [9,8,7])\n",
        "x[0]"
      ],
      "execution_count": 0,
      "outputs": []
    },
    {
      "cell_type": "code",
      "metadata": {
        "id": "fZCTdZS0Hvbx",
        "colab_type": "code",
        "colab": {}
      },
      "source": [
        "x[3]"
      ],
      "execution_count": 0,
      "outputs": []
    },
    {
      "cell_type": "code",
      "metadata": {
        "id": "BZ240AVqHvb4",
        "colab_type": "code",
        "colab": {}
      },
      "source": [
        "x[3][1]"
      ],
      "execution_count": 0,
      "outputs": []
    },
    {
      "cell_type": "code",
      "metadata": {
        "id": "waAa4vp-HvcL",
        "colab_type": "code",
        "colab": {}
      },
      "source": [
        "x[1:3]"
      ],
      "execution_count": 0,
      "outputs": []
    },
    {
      "cell_type": "markdown",
      "metadata": {
        "id": "Z0p1SyC_HvcT",
        "colab_type": "text"
      },
      "source": [
        "タプルはリストと違い、最初に入れた値を書きかえることができません。実際に比べてみましょう。"
      ]
    },
    {
      "cell_type": "code",
      "metadata": {
        "id": "aE43ngV5HvcT",
        "colab_type": "code",
        "colab": {}
      },
      "source": [
        "x=[3.14, 100, \"abcde\", [9,8,7]]\n",
        "# 2番目の要素を書き換える。\n",
        "x[2] = \"modified\"\n",
        "x"
      ],
      "execution_count": 0,
      "outputs": []
    },
    {
      "cell_type": "code",
      "metadata": {
        "id": "Vtvz5LPeHvca",
        "colab_type": "code",
        "colab": {}
      },
      "source": [
        "x=(3.14, 100, \"abcde\", [9,8,7])\n",
        "# 2番目の要素を書き換える。タプルだとエラーになる。\n",
        "x[2] = \"modified\"\n",
        "x"
      ],
      "execution_count": 0,
      "outputs": []
    },
    {
      "cell_type": "markdown",
      "metadata": {
        "id": "7BsRrruyHvch",
        "colab_type": "text"
      },
      "source": [
        "タプルなんて不便なだけじゃないか、と思うかもしれませんが、タプルならではの使い方もあります。必要になったところであらためて説明します。"
      ]
    }
  ]
}
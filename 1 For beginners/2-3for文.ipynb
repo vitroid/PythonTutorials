{
  "nbformat": 4,
  "nbformat_minor": 0,
  "metadata": {
    "kernelspec": {
      "display_name": "Python 3",
      "language": "python",
      "name": "python3"
    },
    "language_info": {
      "codemirror_mode": {
        "name": "ipython",
        "version": 3
      },
      "file_extension": ".py",
      "mimetype": "text/x-python",
      "name": "python",
      "nbconvert_exporter": "python",
      "pygments_lexer": "ipython3",
      "version": "3.6.0"
    },
    "colab": {
      "name": "2-3for文.ipynb",
      "provenance": [],
      "include_colab_link": true
    }
  },
  "cells": [
    {
      "cell_type": "markdown",
      "metadata": {
        "id": "view-in-github",
        "colab_type": "text"
      },
      "source": [
        "<a href=\"https://colab.research.google.com/github/vitroid/PythonTutorials/blob/2021/1%20For%20beginners/2-3for%E6%96%87.ipynb\" target=\"_parent\"><img src=\"https://colab.research.google.com/assets/colab-badge.svg\" alt=\"Open In Colab\"/></a>"
      ]
    },
    {
      "cell_type": "markdown",
      "metadata": {
        "id": "bpB4sgN5VFPT"
      },
      "source": [
        "[▶️ 解説 (Stream動画)](https://web.microsoftstream.com/video/e0f21904-d76b-4e25-9f76-a11a4547bc18)"
      ]
    },
    {
      "cell_type": "markdown",
      "metadata": {
        "id": "OaHs4yXt4djd"
      },
      "source": [
        "# for文\n",
        "ひとまとまりの処理（ブロック）を繰り返し実行する場合にはfor文を使います。\n",
        "\n",
        "for文の文型は次のようになります。(\"____\"はスペース4つを表しています）\n",
        "\n",
        "```python\n",
        "for 変数名 in 変数に入れたい値のリスト(またはタプル):\n",
        "____実行したい内容1\n",
        "____実行したい内容2\n",
        "____実行したい内容3\n",
        "____....\n",
        "```\n"
      ]
    },
    {
      "cell_type": "markdown",
      "metadata": {
        "id": "hCx4foqA4dji"
      },
      "source": [
        "iの値を(3,1,4,1,5,9,2)の順に変化させながら、その値を表示するプログラムは、"
      ]
    },
    {
      "cell_type": "code",
      "metadata": {
        "id": "LSP9rpIt4djl"
      },
      "source": [
        "for i in (3,1,4,1,5,9,2):\n",
        "    print(i)"
      ],
      "execution_count": null,
      "outputs": []
    },
    {
      "cell_type": "markdown",
      "metadata": {
        "id": "xnVewCFs4dj0"
      },
      "source": [
        "となります。同様に、いくつかの文字列の長さを表示するプログラムは、"
      ]
    },
    {
      "cell_type": "code",
      "metadata": {
        "id": "HMamvXL74dj2"
      },
      "source": [
        "a = ['cat', 'window', 'defenestrate']\n",
        "for x in a:\n",
        "    print(x, len(x))"
      ],
      "execution_count": null,
      "outputs": []
    },
    {
      "cell_type": "markdown",
      "metadata": {
        "id": "wISlA-qX4dj-"
      },
      "source": [
        "と書けます。はじめの例ではタプルを、2番目の例ではリストを使いましたが、違いはありません。また、2番目の例では、リストを一旦変数aに入れ、それをfor文で使いました。\n",
        "\n",
        "続き番号のリストを作る便利な関数range()を使うと、何度も繰り返して処理する場合に便利です。\n",
        "\n",
        "range関数は1個〜3個の引数をとり、数字のリストを返します。基本は引数2個の場合で、range(3,10)は3以上10未満の整数のリスト [3, 4, 5, 6, 7, 8, 9]を返します。\n",
        "\n",
        "また、0からはじまるリストを作る場合は1つめの引数を省略して、range(0,10)の代わりにrange(10)と書くことができます。\n",
        "\n",
        "3つめの引数を付けると、数字の間隔を指定できます。range(3,10,2)はリスト[3, 5, 7, 9]を返します。"
      ]
    },
    {
      "cell_type": "markdown",
      "metadata": {
        "id": "-l88bgbd4dj_"
      },
      "source": [
        "このrange()をfor文と組みあわせて、例えば、1から100までの数字を表示するプログラムは、次のように書けます。"
      ]
    },
    {
      "cell_type": "code",
      "metadata": {
        "id": "FV5dCrVK4dkA"
      },
      "source": [
        "for i in range(1,101):\n",
        "    print(i)"
      ],
      "execution_count": null,
      "outputs": []
    },
    {
      "cell_type": "markdown",
      "metadata": {
        "id": "0xXN1Kr14dkH"
      },
      "source": [
        "上のプログラムでは、媒介変数iが1から100まで1ずつ増えながら、ブロック内（赤字の部分）が100回順番に実行されます。iがrange()の2番目の数字を超えたら繰り返しが終わります。iを2から97まで5ずつ増やしながら、iを表示するプログラムは、同様に、"
      ]
    },
    {
      "cell_type": "code",
      "metadata": {
        "id": "OdWGgNge4dkI"
      },
      "source": [
        "for i in range(2,98,5):\n",
        "    print(i)"
      ],
      "execution_count": null,
      "outputs": []
    },
    {
      "cell_type": "markdown",
      "metadata": {
        "id": "4CUBP7R74dkM"
      },
      "source": [
        "となります。range()に3番目の数字5が与えられた場合には、iは5ずつ増えます。3番目の数字に負の数を指定すれば、逆順に表示することもできます。"
      ]
    },
    {
      "cell_type": "code",
      "metadata": {
        "id": "VkiJN33_4dkN"
      },
      "source": [
        "for i in range(97,1,-5):\n",
        "    print(i)"
      ],
      "execution_count": null,
      "outputs": []
    },
    {
      "cell_type": "markdown",
      "metadata": {
        "id": "rzmmvaGN4dkR"
      },
      "source": [
        "1から1000までの数字の積を計算するのも、for文を使えば簡単です。"
      ]
    },
    {
      "cell_type": "code",
      "metadata": {
        "id": "7oCqJVL84dkR"
      },
      "source": [
        "x = 1\n",
        "for i in range(1,1001):\n",
        "    x = x * i\n",
        "print(x)"
      ],
      "execution_count": null,
      "outputs": []
    },
    {
      "cell_type": "markdown",
      "metadata": {
        "id": "iq5jO6zl4dkW"
      },
      "source": [
        "Pythonは、整数なら桁数に制限なく計算ができるので、答えは驚くほど長い数字になります。\n",
        "上のプログラムを、次のように書き換えるとどうなるでしょうか。"
      ]
    },
    {
      "cell_type": "code",
      "metadata": {
        "id": "JhO75R4z4dkW"
      },
      "source": [
        "x = 1\n",
        "for i in range(1,1001):\n",
        "    x = x * i\n",
        "    print(x)"
      ],
      "execution_count": null,
      "outputs": []
    },
    {
      "cell_type": "markdown",
      "metadata": {
        "id": "yXymk9ZL4dkb"
      },
      "source": [
        "こちらの場合は、print文がインデントされているので、forブロックの中に含まれ、かけ算を1回行うたびに、途中経過が表示されることになります。このように、<u>インデントの入れ方でプログラムの動きが違う</u>ことに注意して下さい。\n",
        "\n",
        "if文の場合と同じように、forブロックの中にさらにfor文やif文を入れることもできます。例えば、iを1から9まで変えつつ、さらにjも1から9まで変えて、それらの積を表示する、九九の表作成プログラムは次のように書けます。"
      ]
    },
    {
      "cell_type": "code",
      "metadata": {
        "id": "4r5FbZ9T4dkc"
      },
      "source": [
        "for i in range(1,4):\n",
        "    print(\"i is\",i)\n",
        "    for j in range(1,4):\n",
        "        print(\"j is\",j)\n",
        "        k = i*j\n",
        "        print(i, \"*\", j, \"=\", k)\n",
        "        #あるいは \n",
        "        #print(u\"{0}×{1}={2}\".format(i,j,k))"
      ],
      "execution_count": null,
      "outputs": []
    },
    {
      "cell_type": "markdown",
      "metadata": {
        "id": "01EwgfFs4dkf"
      },
      "source": [
        "(プログラムの動きがわかりやすいよう、九九ではなく三三にとどめています。適宜書き換えて九九だけを表示するようにして下さい。)"
      ]
    },
    {
      "cell_type": "markdown",
      "metadata": {
        "id": "R48fPk-F4dkf"
      },
      "source": [
        "## Exercise \n",
        "下の九九のプログラムを改造し、iが1から5までの範囲で、jが1から5までの範囲でで、i<sup>2</sup>+j<sup>2</sup>を表示するプログラムを作って下さい。"
      ]
    },
    {
      "cell_type": "code",
      "metadata": {
        "id": "zV-5vaFG4dkg"
      },
      "source": [
        "for i in range(1,4):\n",
        "    print(\"i is\",i)\n",
        "    for j in range(1,4):\n",
        "        print(\"j is\",j)\n",
        "        k = i*j\n",
        "        print(i, \"*\", j, \"=\", k)\n"
      ],
      "execution_count": null,
      "outputs": []
    },
    {
      "cell_type": "code",
      "metadata": {
        "id": "bhPnFAyy4dki"
      },
      "source": [
        ""
      ],
      "execution_count": null,
      "outputs": []
    }
  ]
}
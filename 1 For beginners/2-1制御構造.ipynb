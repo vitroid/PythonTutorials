{
  "nbformat": 4,
  "nbformat_minor": 0,
  "metadata": {
    "kernelspec": {
      "display_name": "Python 3",
      "language": "python",
      "name": "python3"
    },
    "language_info": {
      "codemirror_mode": {
        "name": "ipython",
        "version": 3
      },
      "file_extension": ".py",
      "mimetype": "text/x-python",
      "name": "python",
      "nbconvert_exporter": "python",
      "pygments_lexer": "ipython3",
      "version": "3.6.0"
    },
    "colab": {
      "name": "2-1制御構造.ipynb",
      "provenance": [],
      "include_colab_link": true
    }
  },
  "cells": [
    {
      "cell_type": "markdown",
      "metadata": {
        "id": "view-in-github",
        "colab_type": "text"
      },
      "source": [
        "<a href=\"https://colab.research.google.com/github/vitroid/PythonTutorials/blob/master/1%20For%20beginners/2-1%E5%88%B6%E5%BE%A1%E6%A7%8B%E9%80%A0.ipynb\" target=\"_parent\"><img src=\"https://colab.research.google.com/assets/colab-badge.svg\" alt=\"Open In Colab\"/></a>"
      ]
    },
    {
      "cell_type": "markdown",
      "metadata": {
        "id": "-aRleaFYLnb4"
      },
      "source": [
        "[▶️ 解説 (Stream動画)](https://web.microsoftstream.com/video/26db21f4-ce1d-43b3-96d3-09a32c8b2f04)"
      ]
    },
    {
      "cell_type": "markdown",
      "metadata": {
        "id": "V_YDlJ8oymQ8"
      },
      "source": [
        "# 制御構造\n",
        "すでにうすうす気付いていると思いますが、Colab Notebook(つまりこの画面)では、1つの枠の中に複数の式を並べておけば、Shift+Enterで一括して計算できます。しかし、その場合でも、例えば10000回の計算をしようと思うと、10000行を書く必要があります。そこで、より複雑な作業を自動的にプログラムにさせる仕掛けとして、制御構造があります。\n",
        "\n",
        "Pythonの制御構造は大きくわけて2種類、条件分岐(if〜elif〜else文)と繰り返し(for文、while文)があります。\n",
        "\n",
        "条件分岐は、その名の通り、条件によって異なる処理を行いたい場合に使います。一時的に分岐しても、そのあとまた合流するので、川の流れのようにプログラムが上から下に順番に処理されることには変わりありません。\n",
        "\n",
        "それに対し、繰り返しは、プログラムの一部分(ブロック)が何度も実行されます。繰り返しを続ける条件を指定しておき、それが成り立たなくなったら繰り返しは中断されます。\n",
        "\n",
        "> ![制御構造](https://cdn-xtech.nikkei.com/atcl/nxt/cpbook/18/00034/00007/zu01.png?__scale=w:500,h:246&_sh=0850790db0)\n",
        ">\n",
        "> [プログラミングは怖くない、Pythonで学ぶ「分岐」「繰り返し」\n",
        "大森 敏行 日経 xTECH／日経NETWORK](https://xtech.nikkei.com/atcl/nxt/cpbook/18/00034/00007/)より引用。\n",
        "\n",
        "他のプログラミング言語に比べると制御構造の種類はとても少ないのが特徴です。(例えばC言語のswitch文や、Perlのunlessやdo while文に相当する制御構造がない) 少ないのは不便というわけではなく、むしろ覚えることが少なくて済み、誰が書いても同じようなプログラムになるため読みやすくなると、Python言語の設計者たちは考えています。\n",
        "\n",
        "自動的に繰り返してくれる機能は、便利である一方、プログラムを誤ると処理が止まらなくなる(「暴走」と言います)可能性もあります。例えば、次のプログラムは繰り返しを終わる条件を書いていないので暴走します。"
      ]
    },
    {
      "cell_type": "code",
      "metadata": {
        "id": "rUL6i0rbymRA"
      },
      "source": [
        "a = 0\n",
        "while True:\n",
        "    a += 1"
      ],
      "execution_count": null,
      "outputs": []
    },
    {
      "cell_type": "markdown",
      "metadata": {
        "id": "07S4j4rgymRZ"
      },
      "source": [
        "上のプログラムの場合、たちの悪いことに何も表示しないので、暴走しているのかどうかがよくわかりませんが、ぐるぐる回る円が、計算実行中であることを示しています。**強制的に計算を止めるには、プログラムのすぐ左にある[■]ボタンを押して下さい。**それでも止まらない場合は■ボタンをダブルクリックして下さい。\n",
        "\n",
        "暴走すると言っても、コンピュータが床を走りまわったり、暴れてものを壊したりするわけではありません。ただ、暴走しているプログラムを放置したままほかの作業をすると、だんだんコンピュータの処理が遅くなりますので、気付いたら止めてやって下さい。"
      ]
    }
  ]
}
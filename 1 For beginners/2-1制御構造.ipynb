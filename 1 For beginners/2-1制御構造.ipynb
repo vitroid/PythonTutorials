{
 "cells": [
  {
   "cell_type": "markdown",
   "metadata": {},
   "source": [
    "# 制御構造\n",
    "すでにうすうす気付いていると思いますが、IPython Notebookでは、1つの枠の中に複数の式を並べておけば、Shift+Enterで一括して計算できます。しかし、その場合でも、例えば10000回の計算をしようと思うと、10000行を書く必要があります。そこで、より複雑な作業を自動的にプログラムにさせる仕掛けとして、制御構造があります。\n",
    "\n",
    "Pythonの制御構造は大きくわけて2種類、条件分岐(if〜elif〜else文)と繰り返し(for文、while文)があります。他のプログラミング言語に比べると制御構造の種類はとても少ないのが特徴です。(例えばC言語のswitch文や、Perlのunlessやdo while文に相当する制御構造がない) 少ないのは不便というわけではなく、むしろ覚える必要のあることが少なくて済み、誰が書いても同じようなプログラムになるため読みやすくなると、Python言語の設計者たちは考えています。\n",
    "\n",
    "自動的に繰り返してくれる機能は、便利である一方、プログラムを誤ると処理が止まらなくなる(「暴走」と言います)可能性もあります。例えば、次のプログラムは繰り返しを終わる条件を書いていないので暴走します。"
   ]
  },
  {
   "cell_type": "code",
   "execution_count": null,
   "metadata": {
    "collapsed": false
   },
   "outputs": [],
   "source": [
    "a = 0\n",
    "while True:\n",
    "    a += 1"
   ]
  },
  {
   "cell_type": "markdown",
   "metadata": {},
   "source": [
    "上のプログラムの場合、たちの悪いことに何も表示しないので、暴走しているのかどうかがよくわかりませんが、<tt>In [\\*]</tt>という表示が、計算実行中であることを示しています。強制的に計算を止めるには、■ボタンを押して下さい。\n",
    "\n",
    "暴走すると言っても、コンピュータが走りまわったり、何かものを壊したりするわけではありません。ただ、暴走しているプログラムを放置したままほかの作業をすると、だんだんコンピュータの処理が遅くなりますので、気付いたら止めてやって下さい。"
   ]
  },
  {
   "cell_type": "code",
   "execution_count": null,
   "metadata": {
    "collapsed": true
   },
   "outputs": [],
   "source": []
  }
 ],
 "metadata": {
  "kernelspec": {
   "display_name": "Python 3",
   "language": "python",
   "name": "python3"
  },
  "language_info": {
   "codemirror_mode": {
    "name": "ipython",
    "version": 3
   },
   "file_extension": ".py",
   "mimetype": "text/x-python",
   "name": "python",
   "nbconvert_exporter": "python",
   "pygments_lexer": "ipython3",
   "version": "3.6.0"
  }
 },
 "nbformat": 4,
 "nbformat_minor": 0
}

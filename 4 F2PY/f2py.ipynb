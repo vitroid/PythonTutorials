{
 "cells": [
  {
   "cell_type": "markdown",
   "metadata": {},
   "source": [
    "# f2pyを使う\n",
    "\n",
    "f2pyはfortranのプログラムをpythonから呼びだすためのツールです。両方使えると、互いの弱点を補うことができます。\n",
    "\n",
    "Anacondaにはnumpyが標準で含まれており、numpyはf2pyをインストールしてくれる、ということなのですが、Windowsの場合、fortranが標準で使えるようになっているとは思えません。一応、その方法を書いてあるページをリンクしておきます。\n",
    "\n",
    "* http://qiita.com/tenomoto/items/57f46652ecef1ee03c10\n",
    "\n",
    "実際には、fortranを自分の端末ではなく計算サーバ上で使う場合のほうが多いでしょうから、自分の端末で以下の作業ができるようにする必要はないと思います。\n",
    "\n",
    "F2py is a utility to use the fortran code from Python.  They are complementary in speed and easiness of programming.\n",
    "\n",
    "Anaconda contains numpy and numpy accompanies f2py.  However, I cannot believe that Anaconda on Windows enables the use of fortran automatically.\n",
    "\n",
    "In actual use, you would use the fortran on the workstations, so you need not make effort to let them work on your own PC."
   ]
  },
  {
   "cell_type": "markdown",
   "metadata": {},
   "source": [
    "Pythonの弱点はスピードです。\n",
    "\n",
    "The weak point of Python language is its speed.\n",
    "\n",
    "例えば、1から100000000までの平方根の総和の計算をさせてみると、10秒以上かかります。\n",
    "\n",
    "For example, it takes more than 10 seconds to calculate the sum of square roots of the numbers from 1 to 100000000."
   ]
  },
  {
   "cell_type": "code",
   "execution_count": 2,
   "metadata": {
    "collapsed": false
   },
   "outputs": [
    {
     "name": "stdout",
     "output_type": "stream",
     "text": [
      "666666671666.567\n",
      "12.242816925048828 elapsed time\n"
     ]
    }
   ],
   "source": [
    "import time\n",
    "\n",
    "def sqrt_sum(n):\n",
    "    sum = 0.0\n",
    "    for i in range(n+1):\n",
    "        sum += i**0.5\n",
    "    return sum\n",
    "\n",
    "now = time.time()\n",
    "print(sqrt_sum(100000000))\n",
    "print(time.time()-now, \"elapsed time\")\n"
   ]
  },
  {
   "cell_type": "markdown",
   "metadata": {},
   "source": [
    "同じ計算を、以下のようにFortranで書けば、1秒ほどで終わります。\n",
    "\n",
    "The same calculation requires only one second by fortran.\n",
    "\n",
    "(**NOTE**: the following code is written in fortran. Put it in separate file named `test1.f90`)"
   ]
  },
  {
   "cell_type": "code",
   "execution_count": null,
   "metadata": {
    "collapsed": true
   },
   "outputs": [],
   "source": [
    "subroutine sqrt_sum(n, sum)\n",
    "  implicit none\n",
    "\n",
    "  integer, intent(IN) :: n\n",
    "  real(kind=8), intent(OUT) :: sum\n",
    "\n",
    "  integer :: i\n",
    "\n",
    "  sum = 0.0\n",
    "  do i=1,n\n",
    "    sum = sum + i**0.5\n",
    "  end do\n",
    "end subroutine sqrt_sum\n",
    "\n",
    "program main\n",
    "  real(kind=8) :: sum\n",
    "  call sqrt_sum(100000000, sum)\n",
    "  print *, sum\n",
    "end program main"
   ]
  },
  {
   "cell_type": "markdown",
   "metadata": {},
   "source": [
    "そこで、単純だけど時間のかかる計算の部分だけをfortranにまかせ、ほかのこまごました処理は全部Pythonでできれば幸せになれます。\n",
    "\n",
    "Therefore, it would be happy if we can write the simple but heavy calculation in fortran and combine it with Python to do other things."
   ]
  },
  {
   "cell_type": "markdown",
   "metadata": {},
   "source": [
    "上のfortranプログラムの名前をtest1.f90とします。これをpythonから呼びだせるようにするには、f2pyコマンドを使います。\n",
    "\n",
    "The program above, say `test1.f90` is converted to a module for Python by the following command:\n",
    "\n",
    "```\n",
    "% f2py -c test1.f90 -m test1_mod\n",
    "```\n",
    "\n",
    "test1_modはPythonから呼びだす時のモジュール名です。これをPythonから呼びだすのはとても簡単です。\n",
    "\n",
    "Here `test1_mod` is the module name when it is imported to Python.  It is very easy to use."
   ]
  },
  {
   "cell_type": "code",
   "execution_count": 3,
   "metadata": {
    "collapsed": false
   },
   "outputs": [
    {
     "name": "stdout",
     "output_type": "stream",
     "text": [
      "666666671663.059\n",
      "1.4525971412658691 elapsed time\n"
     ]
    }
   ],
   "source": [
    "import time\n",
    "import test1_mod\n",
    "\n",
    "now = time.time()\n",
    "print(test1_mod.sqrt_sum(100000000))\n",
    "print(time.time()-now, \"elapsed time\")"
   ]
  },
  {
   "cell_type": "markdown",
   "metadata": {},
   "source": [
    "なんか簡単すぎて拍子抜けします。fortranではfunction(返り値がある)ではなくsubroutineとして定義したのですが、f2pyがsqrt_sumの引数を(intent指示をもとに)解釈し、pythonらしく使えるようにしてくれたようです。つまり、f2pyはただ単にfortranをPythonから呼べるようにするだけではなく、それぞれのプログラミングスタイルの橋渡しもしてくれるようです。\n",
    "\n",
    "It just works without any trouble.  In fortran, we defined a subroutine instead of a function, but f2py assumed that is a function with the return value `sum`.  In other words, f2py also converts the programming style.\n",
    "\n",
    "f2pyがどのようにinterfaceを作ってくれたのかは、`__doc__`を参照して下さい。\n",
    "\n",
    "You can check the interface of the module by pringing the `__doc__` variable of the module."
   ]
  },
  {
   "cell_type": "code",
   "execution_count": 30,
   "metadata": {
    "collapsed": false
   },
   "outputs": [
    {
     "name": "stdout",
     "output_type": "stream",
     "text": [
      "This module 'test1_mod' is auto-generated with f2py (version:2).\n",
      "Functions:\n",
      "  sum = sqrt_sum(n)\n",
      ".\n"
     ]
    }
   ],
   "source": [
    "print(test1_mod.__doc__)"
   ]
  },
  {
   "cell_type": "markdown",
   "metadata": {},
   "source": [
    "確かに、sqrt_sumは2引数のsubroutineとして定義されているが、実質的にはfunctionであると理解していることがわかります。\n",
    "\n",
    "Actually, `sqrt_sum` is regarded as a function with single argument and single return value.\n",
    "\n",
    "試しに、2つの値を返すsubroutineを作ってみます。fortranでは複数の値を返すfunctionは作れないので、subroutineにするしかありませんが、pythonは複数の値を返すことができます。なので、2つの言語では、だいぶ書き方が違ってきます。\n",
    "\n",
    "As another test, let's make a subroutine that returns two values at a time.  In fortran, it is impossible to make a function that returns multiple values.  In Python, on the other hand, it is easy to return two values from a function.\n",
    "\n",
    "(**NOTE**: the following code is written in fortran. Put it in separate file named `test2.f90`)"
   ]
  },
  {
   "cell_type": "code",
   "execution_count": null,
   "metadata": {
    "collapsed": true
   },
   "outputs": [],
   "source": [
    "subroutine division(a,b,c,d)\n",
    "  implicit none\n",
    "\n",
    "  integer, intent(IN) :: a,b\n",
    "  integer, intent(OUT) :: c,d\n",
    "\n",
    "  c = a / b\n",
    "  d = mod(a,b)\n",
    "end subroutine division\n",
    "\n",
    "program main\n",
    "  integer :: c,d\n",
    "  call division(10,7,c,d)\n",
    "  print *, c,d\n",
    "end program main"
   ]
  },
  {
   "cell_type": "markdown",
   "metadata": {},
   "source": [
    "上のプログラムをtest2.f90という名前で保存し、f2pyでモジュールを作成します。\n",
    "\n",
    "Save the program above in a file named `test2.f90` and make the module for Python by f2py command.\n",
    "\n",
    "```\n",
    "% f2py -c test2.f90 -m test2_mod\n",
    "```"
   ]
  },
  {
   "cell_type": "markdown",
   "metadata": {},
   "source": [
    "サブルーチンdivisionがどのように解釈されたか見てみましょう。\n",
    "\n",
    "Let's see how the division subroutine is converted to a Python function."
   ]
  },
  {
   "cell_type": "code",
   "execution_count": 31,
   "metadata": {
    "collapsed": false
   },
   "outputs": [
    {
     "name": "stdout",
     "output_type": "stream",
     "text": [
      "This module 'test2_mod' is auto-generated with f2py (version:2).\n",
      "Functions:\n",
      "  c,d = division(a,b)\n",
      ".\n"
     ]
    }
   ],
   "source": [
    "import test2_mod\n",
    "print(test2_mod.__doc__)"
   ]
  },
  {
   "cell_type": "markdown",
   "metadata": {},
   "source": [
    "4つの引数のうち2つは返り値と認識され、Pythonらしい形に変換されたことがわかります。実際に動くかどうか確かめましょう。\n",
    "\n",
    "Two arguments out of four of the fortan subroutines are recognized as the return value, and in fact the function returns two values."
   ]
  },
  {
   "cell_type": "code",
   "execution_count": 6,
   "metadata": {
    "collapsed": false
   },
   "outputs": [
    {
     "data": {
      "text/plain": [
       "(1, 3)"
      ]
     },
     "execution_count": 6,
     "metadata": {},
     "output_type": "execute_result"
    }
   ],
   "source": [
    "test2_mod.division(10,7)"
   ]
  },
  {
   "cell_type": "markdown",
   "metadata": {},
   "source": [
    "商は1、余りが3と正しく計算できています。\n",
    "\n",
    "The quotient is 1 and remainder is 3.\n",
    "\n",
    "もっと大量のデータを扱う場合には、numpy arrayを渡して計算させたくなります。もちろん、numpy自体も高速なので、たいていのことはnumpyだけで片付きますが、numpyでできない処理がでてきた場合、Pythonとのあまりの速度差に不満を感じることになります。\n",
    "\n",
    "例えば、動径分布関数の計算をnumpyの機能だけでなんとかしようとすると、かなりの無駄が生じますが、Pythonだけで記述するとかなり遅くなります。こういう場合には、中核部分だけをfortranにまかせるのが最適です。\n",
    "\n",
    "まず、単純立方格子を生成します。(これも多重ループで時間がかかりますね。numpyで簡潔に書く方法があると思います)"
   ]
  },
  {
   "cell_type": "code",
   "execution_count": 10,
   "metadata": {
    "collapsed": false
   },
   "outputs": [
    {
     "data": {
      "text/plain": [
       "array([[ 0.,  0.,  0.],\n",
       "       [ 0.,  0.,  1.],\n",
       "       [ 0.,  1.,  0.],\n",
       "       [ 0.,  1.,  1.],\n",
       "       [ 1.,  0.,  0.],\n",
       "       [ 1.,  0.,  1.],\n",
       "       [ 1.,  1.,  0.],\n",
       "       [ 1.,  1.,  1.]])"
      ]
     },
     "execution_count": 10,
     "metadata": {},
     "output_type": "execute_result"
    }
   ],
   "source": [
    "import numpy\n",
    "\n",
    "def lattice(n):\n",
    "    pos = numpy.zeros((n**3,3))\n",
    "    i = 0\n",
    "    for x in range(n):\n",
    "        for y in range(n):\n",
    "            for z in range(n):\n",
    "                p = numpy.array([x,y,z])\n",
    "                pos[i,:] = p\n",
    "                i += 1\n",
    "    return pos\n",
    "\n",
    "lattice(2)                "
   ]
  },
  {
   "cell_type": "markdown",
   "metadata": {},
   "source": [
    "動径分布関数の本質は、2体間距離の分布関数(ヒストグラム)です。なので、距離分布関数を、Pythonで書きます。\n",
    "\n",
    "distribは、LxLxLの立方体セル(周期境界条件)の中の原子の座標posを読みこみ、距離dmaxまでの分布関数を、単位距離あたりndiv分割した目盛で作成します。"
   ]
  },
  {
   "cell_type": "code",
   "execution_count": 20,
   "metadata": {
    "collapsed": false
   },
   "outputs": [
    {
     "name": "stdout",
     "output_type": "stream",
     "text": [
      "[      0.       0.       0.       0.       0.       0.       0.       0.\n",
      "       0.       0.   24000.       0.       0.       0.   48000.       0.\n",
      "       0.   32000.       0.       0.   24000.       0.   96000.       0.\n",
      "   96000.       0.       0.       0.   48000.       0.  120000.   96000.\n",
      "       0.   96000.   32000.       0.   96000.  192000.       0.       0.\n",
      "   24000.  192000.  144000.   96000.   96000.  192000.   96000.       0.\n",
      "   96000.       0.]\n",
      "325.95744609832764\n"
     ]
    }
   ],
   "source": [
    "import itertools\n",
    "import time\n",
    "\n",
    "def distrib(pos, L, dmax=5, ndiv=10):\n",
    "    d = numpy.zeros(dmax*ndiv)\n",
    "    # combination of two elements in pos\n",
    "    for p1,p2 in itertools.combinations(pos,2):\n",
    "        # relative vector\n",
    "        dp = p1-p2\n",
    "        \n",
    "        # treatment for the periodic boundary condition\n",
    "        dp -= numpy.floor( dp / L + 0.5 ) * L\n",
    "        \n",
    "        # distance\n",
    "        r = numpy.dot(dp, dp)**0.5\n",
    "\n",
    "        # make it an integer\n",
    "        ir = int(r*ndiv)\n",
    "        \n",
    "        # Accumulate if the distance is within the range\n",
    "        if ir < dmax*ndiv:\n",
    "            d[ir] += 1\n",
    "    return d\n",
    "\n",
    "now = time.time()\n",
    "N = 20\n",
    "print(distrib(lattice(N), N))\n",
    "print(time.time() - now)"
   ]
  },
  {
   "cell_type": "markdown",
   "metadata": {},
   "source": [
    "これを動径分布関数に変換するには、いくつかの規格化を行う必要がありますが、ここでは説明しません。\n",
    "\n",
    "たった8000点の計算でもうんざりするぐらい時間がかかります。そこで、distribをfortranで書いてみることにしましょう。\n",
    "\n",
    "(**NOTE**: the following code is written in fortran. Put it in separate file named `test3.f90`)"
   ]
  },
  {
   "cell_type": "code",
   "execution_count": null,
   "metadata": {
    "collapsed": true
   },
   "outputs": [],
   "source": [
    "subroutine lattice(L, pos)\n",
    "  implicit none\n",
    "\n",
    "  integer, intent(IN)       :: L\n",
    "  real(kind=8), intent(OUT) :: pos(L*L*L,3)\n",
    "\n",
    "  integer :: n,i,j,k\n",
    "\n",
    "  n = 0\n",
    "  do i=1,L\n",
    "     do j=1,L\n",
    "        do k=1,L\n",
    "           n = n + 1\n",
    "           pos(n,1) = i\n",
    "           pos(n,2) = j\n",
    "           pos(n,3) = k\n",
    "        end do\n",
    "     end do\n",
    "  end do\n",
    "end subroutine lattice\n",
    "\n",
    "\n",
    "subroutine distrib(N, pos, L, dmax, ndiv, d)\n",
    "  implicit none\n",
    "\n",
    "  integer, intent(IN)      :: N\n",
    "  real(kind=8), intent(IN) :: pos(N,3)\n",
    "  real(kind=8), intent(IN) :: L\n",
    "  integer, intent(IN)      :: ndiv, dmax\n",
    "  real(kind=8), intent(OUT) :: d(dmax*ndiv)\n",
    "  \n",
    "  integer      :: i, j, ir\n",
    "  real(kind=8) :: p1(3), p2(3), dp(3), r\n",
    "  \n",
    "  do i=1,N\n",
    "     p1(:) = pos(i,:)\n",
    "     do j=i+1, N\n",
    "        p2(:) = pos(j,:)\n",
    "        dp(:) = p1(:) - p2(:)\n",
    "        dp(:) = dp(:) - dnint(dp(:) / L)*L\n",
    "        r = (dp(1)**2 + dp(2)**2 + dp(3)**2) ** 0.5\n",
    "        ir = int(r*ndiv)\n",
    "        if ( ir < dmax*ndiv ) then\n",
    "           d(ir+1) = d(ir+1) + 1\n",
    "        end if\n",
    "     end do\n",
    "  end do\n",
    "end subroutine distrib\n",
    "\n",
    "\n",
    "program main\n",
    "  implicit none\n",
    "\n",
    "  integer, parameter :: L=20\n",
    "  real(kind=8) :: pos(L**3, 3)\n",
    "  integer :: i\n",
    "  real(kind=8) :: LL, d(50)\n",
    "\n",
    "  LL = L\n",
    "  call lattice(L, pos)\n",
    "  call distrib(L**3, pos, LL, 5, 10, d)\n",
    "  do i=1,50\n",
    "     print *, i-1,d(i)\n",
    "  end do\n",
    "end program main\n"
   ]
  },
  {
   "cell_type": "markdown",
   "metadata": {},
   "source": [
    "このまま実行すると、おおよそ200倍ぐらい速く実行されることがわかります。\n",
    "\n",
    "```\n",
    "% gfortran -O test3.f90 -o test3\n",
    "% time ./test3\n",
    "\n",
    "real\t0m1.711s\n",
    "user\t0m1.701s\n",
    "sys\t0m0.006s\n",
    "```\n",
    "\n",
    "そこで、このプログラムをf2pyで加工して、pythonモジュールにしてしまいましょう。\n",
    "\n",
    "```\n",
    "% f2py -c test3.f90 -m test3_mod\n",
    "```\n",
    "\n",
    "できたモジュールを読みこみ、`__doc__`を表示させて、どんな風に解釈されたかを見てみます。"
   ]
  },
  {
   "cell_type": "code",
   "execution_count": 21,
   "metadata": {
    "collapsed": false
   },
   "outputs": [
    {
     "name": "stdout",
     "output_type": "stream",
     "text": [
      "This module 'test3_mod' is auto-generated with f2py (version:2).\n",
      "Functions:\n",
      "  pos = lattice(l)\n",
      "  d = distrib(pos,l,dmax,ndiv,n=shape(pos,0))\n",
      ".\n"
     ]
    }
   ],
   "source": [
    "import test3_mod\n",
    "print(test3_mod.__doc__)"
   ]
  },
  {
   "cell_type": "markdown",
   "metadata": {},
   "source": [
    "なかなかいいかんじです。では、このinterfaceを信じて、まずはlatticeをpythonで呼びだしてみることにしましょう。"
   ]
  },
  {
   "cell_type": "code",
   "execution_count": 27,
   "metadata": {
    "collapsed": false
   },
   "outputs": [
    {
     "data": {
      "text/plain": [
       "array([[  1.,   1.,   1.],\n",
       "       [  1.,   1.,   2.],\n",
       "       [  1.,   1.,   3.],\n",
       "       ..., \n",
       "       [ 20.,  20.,  18.],\n",
       "       [ 20.,  20.,  19.],\n",
       "       [ 20.,  20.,  20.]])"
      ]
     },
     "execution_count": 27,
     "metadata": {},
     "output_type": "execute_result"
    }
   ],
   "source": [
    "import test3_mod\n",
    "\n",
    "L = 20\n",
    "pos = test3_mod.lattice(L)\n",
    "pos"
   ]
  },
  {
   "cell_type": "markdown",
   "metadata": {},
   "source": [
    "なんと、結果はnumpy arrayで返ってきています。これはいいですね。では、さらにdistribを呼んで分布関数を計算させてみます。"
   ]
  },
  {
   "cell_type": "markdown",
   "metadata": {},
   "source": [
    "distribの5番目の引数nは、fortranの中ではpos配列の大きさを指示していたのですが、f2pyしたあとは指示しなくても勝手によきにはからってくれるようです。"
   ]
  },
  {
   "cell_type": "code",
   "execution_count": 28,
   "metadata": {
    "collapsed": false
   },
   "outputs": [
    {
     "data": {
      "text/plain": [
       "array([      0.,       0.,       0.,       0.,       0.,       0.,\n",
       "             0.,       0.,       0.,       0.,   24000.,       0.,\n",
       "             0.,       0.,   48000.,       0.,       0.,   32000.,\n",
       "             0.,       0.,   24000.,       0.,   96000.,       0.,\n",
       "         96000.,       0.,       0.,       0.,   48000.,       0.,\n",
       "        120000.,   96000.,       0.,   96000.,   32000.,       0.,\n",
       "         96000.,  192000.,       0.,       0.,   24000.,  192000.,\n",
       "        144000.,   96000.,   96000.,  192000.,   96000.,       0.,\n",
       "         96000.,       0.])"
      ]
     },
     "execution_count": 28,
     "metadata": {},
     "output_type": "execute_result"
    }
   ],
   "source": [
    "d = test3_mod.distrib(pos,L,5,10)\n",
    "d"
   ]
  },
  {
   "cell_type": "markdown",
   "metadata": {},
   "source": [
    "はやっ! 試しに時間をはかってみます。"
   ]
  },
  {
   "cell_type": "code",
   "execution_count": 29,
   "metadata": {
    "collapsed": false
   },
   "outputs": [
    {
     "name": "stdout",
     "output_type": "stream",
     "text": [
      "1.5317890644073486\n"
     ]
    }
   ],
   "source": [
    "now = time.time()\n",
    "d = test3_mod.distrib(pos,L,5,10)\n",
    "print(time.time() - now)"
   ]
  },
  {
   "cell_type": "markdown",
   "metadata": {},
   "source": [
    "fortranのみで書いた場合とほぼ同じ時間で処理がおわりました。\n",
    "\n",
    "Pythonは文字列を処理したり、複雑な構造のデータを扱ったり、こみいったアルゴリズムを記述するのに向いています。また、ライブラリも非常に充実していて、開発にかかる時間も非常に短くてすみます。\n",
    "\n",
    "一方で、単純だけど膨大な数値データの処理にはあまり向いていません。numpyはその一部を高速に処理してくれますが、すべてのアルゴリズムがnumpyに向いているわけではありません。\n",
    "\n",
    "f2pyを使うと、Pythonの弱点を補ってくれます。\n",
    "\n",
    "ですから、ここでデモしたように、はじめPythonでまず書いておいて、その中で一番処理に時間がかかる部分で、fortranで書けそうな部分をfortranで書きなおし、f2pyで合体させて使う、というやりかたはとても効率的だと思います。"
   ]
  },
  {
   "cell_type": "code",
   "execution_count": null,
   "metadata": {
    "collapsed": true
   },
   "outputs": [],
   "source": []
  }
 ],
 "metadata": {
  "kernelspec": {
   "display_name": "Python 3",
   "language": "python",
   "name": "python3"
  },
  "language_info": {
   "codemirror_mode": {
    "name": "ipython",
    "version": 3
   },
   "file_extension": ".py",
   "mimetype": "text/x-python",
   "name": "python",
   "nbconvert_exporter": "python",
   "pygments_lexer": "ipython3",
   "version": "3.6.0"
  }
 },
 "nbformat": 4,
 "nbformat_minor": 2
}

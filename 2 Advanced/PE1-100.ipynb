{
 "cells": [
  {
   "cell_type": "code",
   "execution_count": null,
   "metadata": {
    "collapsed": false
   },
   "outputs": [],
   "source": [
    "#016\n",
    "sum([int(x) for x in str(2**1000)])"
   ]
  },
  {
   "cell_type": "code",
   "execution_count": null,
   "metadata": {
    "collapsed": false
   },
   "outputs": [],
   "source": [
    "#015\n",
    "def fact(x):\n",
    "    if x<=1:\n",
    "        return x\n",
    "    else:\n",
    "        return fact(x-1)*x\n",
    "print(fact(40)//fact(20)**2)"
   ]
  },
  {
   "cell_type": "code",
   "execution_count": null,
   "metadata": {
    "collapsed": false
   },
   "outputs": [],
   "source": [
    "#071\n",
    "import fractions\n",
    "N = 1000000\n",
    "m = 1\n",
    "num = set()\n",
    "v0 = fractions.Fraction(3,7)\n",
    "for i in range(N,0,-1):\n",
    "    j = i*3//7\n",
    "    v1 = fractions.Fraction(j,i)\n",
    "    if v1 != v0:\n",
    "        if v0 - v1 < m:\n",
    "            m = v0-v1\n",
    "            mv = v1\n",
    "print(mv)\n"
   ]
  },
  {
   "cell_type": "code",
   "execution_count": null,
   "metadata": {
    "collapsed": false
   },
   "outputs": [],
   "source": [
    "#077\n",
    "\n",
    "def primes(x):\n",
    "    sieve = [True for i in range(x)]\n",
    "    for i in range(2,x):\n",
    "        if sieve[i]:\n",
    "            for j in range(2*i,x,i):\n",
    "                sieve[j] = False\n",
    "    p = []\n",
    "    for i in range(2,x):\n",
    "        if sieve[i]:\n",
    "            p.append(i)\n",
    "    return p\n",
    "\n",
    "numsumcache = dict()\n",
    "\n",
    "\n",
    "def numsum(x,maxp):\n",
    "    if (x,maxp) in numsumcache:\n",
    "        return numsumcache[(x,maxp)]\n",
    "    count = 0\n",
    "    for i in p:\n",
    "        if i <= maxp:\n",
    "            if i<x:\n",
    "                count += numsum(x-i,min(i,maxp))\n",
    "            elif i==x:\n",
    "                #print(x,maxp,seq+[i])\n",
    "                count += 1\n",
    "    numsumcache[(x,maxp)] = count\n",
    "    return count\n",
    "\n",
    "p = primes(5000)\n",
    "i = 2\n",
    "while numsum(i,i) < 5100:\n",
    "    print(i,numsum(i,i))\n",
    "    i+=1"
   ]
  },
  {
   "cell_type": "code",
   "execution_count": null,
   "metadata": {
    "collapsed": false
   },
   "outputs": [],
   "source": [
    "#056\n",
    "m = 0\n",
    "for a in range(100):\n",
    "    for b in range(100):\n",
    "        d = [int(c) for c in str(a**b)]\n",
    "        e = sum(d)\n",
    "        if m < e:\n",
    "            m=e\n",
    "            ma = a\n",
    "            mb = b\n",
    "print(ma,mb,m)"
   ]
  },
  {
   "cell_type": "code",
   "execution_count": null,
   "metadata": {
    "collapsed": false
   },
   "outputs": [],
   "source": [
    "#095\n",
    "#divisors\n",
    "import itertools\n",
    "import time\n",
    "\n",
    "divcache = dict()\n",
    "divcache[1] = set([1])\n",
    "p = set()\n",
    "\n",
    "def divisors(x):\n",
    "    if x in divcache:\n",
    "        return divcache[x]\n",
    "    sqx = int(x**0.5)+1\n",
    "    for pn in range(2,sqx):\n",
    "        if x % pn == 0:\n",
    "            s = set()\n",
    "            for j in divisors(x//pn):\n",
    "                for k in divisors(pn):\n",
    "                    s.add(j*k)\n",
    "            divcache[x] = s\n",
    "            return s\n",
    "    #print(\"{0} is a prime number.\".format(x),p)\n",
    "    p.add(x)\n",
    "    divcache[x] = set([1,x])\n",
    "    return (1,x)\n",
    "\n",
    "#make divisors list\n",
    "#1000: 0.007 sec  \n",
    "#10000: 0.092 sec\n",
    "#100000: 1.370 sec\n",
    "#1000000: 24.719 sec\n",
    "\n",
    "now = time.time()\n",
    "N = 1000000\n",
    "for i in range(1,N+1):\n",
    "    divisors(i)\n",
    "print(\"{0:.3f} sec\".format(time.time() - now))\n",
    "\n",
    "chain = dict()\n",
    "#make admissible chain\n",
    "for i in range(1,N+1):\n",
    "    s = sum(divisors(i)) - i\n",
    "    chain[i] = s\n",
    "\n",
    "inspected = set([0])\n",
    "for i in range(1,N+1):\n",
    "    if i in inspected:\n",
    "        continue\n",
    "    n = i\n",
    "    path = dict()\n",
    "    while n not in (0,1):\n",
    "        if n in inspected:\n",
    "            if n in path:\n",
    "                #extract the loop\n",
    "                cycle = []\n",
    "                while n not in cycle:\n",
    "                    cycle.append(n)\n",
    "                    n = chain[n]\n",
    "                print(cycle,len(cycle))\n",
    "            break\n",
    "        inspected.add(n)\n",
    "        path[n] = chain[n]\n",
    "        n = chain[n]\n",
    "        if n > N:\n",
    "            break\n"
   ]
  },
  {
   "cell_type": "code",
   "execution_count": null,
   "metadata": {
    "collapsed": true
   },
   "outputs": [],
   "source": []
  },
  {
   "cell_type": "code",
   "execution_count": null,
   "metadata": {
    "collapsed": true
   },
   "outputs": [],
   "source": []
  }
 ],
 "metadata": {
  "kernelspec": {
   "display_name": "Python 3",
   "language": "python",
   "name": "python3"
  },
  "language_info": {
   "codemirror_mode": {
    "name": "ipython",
    "version": 3
   },
   "file_extension": ".py",
   "mimetype": "text/x-python",
   "name": "python",
   "nbconvert_exporter": "python",
   "pygments_lexer": "ipython3",
   "version": "3.4.2"
  }
 },
 "nbformat": 4,
 "nbformat_minor": 0
}

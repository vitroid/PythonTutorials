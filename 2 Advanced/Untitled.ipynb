{
 "cells": [
  {
   "cell_type": "markdown",
   "metadata": {},
   "source": [
    "# 多角形近似による円周率計算\n",
    "和算では多角形近似から円周率を求めていたのだと思っていたが，もっと高度な漸化式を知っていたらしい．建部は江戸中期にすでに41桁の円周率を求めていた．\n",
    "\n",
    "ここでは，Pythonの通常の実数で計算するで，小数点以下7桁程度しか求められない．"
   ]
  },
  {
   "cell_type": "code",
   "execution_count": null,
   "metadata": {
    "collapsed": false
   },
   "outputs": [],
   "source": [
    "#多角形近似による円周率計算\n",
    "#あらかじめ目標の桁数を決めておく．\n",
    "#整数演算で多倍長計算したいが，その場合，√も自力で計算する必要がある．\n",
    "#とりあえずは，実証計算のため，実数でいく，\n",
    "\n",
    "D = 6     #must be even integer\n",
    "\n",
    "N = 4  #square\n",
    "S = 1.0   #sine 90\n",
    "C = 0.0   #cosine 90\n",
    "\n",
    "while True:\n",
    "    S2 = (1-C)/2\n",
    "    C2 = 1 - S2\n",
    "    S,C = S2**0.5, C2**0.5\n",
    "    T = S/C\n",
    "    #外接円の面積\n",
    "    SO = N*T\n",
    "    SI = N*C*S\n",
    "    PI = (SO+SI)/2\n",
    "    print(\"{0}角形\".format(N),PI)\n",
    "    if SO-SI < 10.0**(-D):\n",
    "        break\n",
    "    N *= 2\n",
    "\n"
   ]
  },
  {
   "cell_type": "code",
   "execution_count": null,
   "metadata": {
    "collapsed": false
   },
   "outputs": [],
   "source": [
    "F = m*a\n",
    "integrate(F*v,(t,0,1/ω/4))"
   ]
  },
  {
   "cell_type": "code",
   "execution_count": null,
   "metadata": {
    "collapsed": false
   },
   "outputs": [],
   "source": [
    "N(0.5*m*(0.8*pi)**2)*ω*3"
   ]
  },
  {
   "cell_type": "code",
   "execution_count": null,
   "metadata": {
    "collapsed": true
   },
   "outputs": [],
   "source": []
  }
 ],
 "metadata": {
  "kernelspec": {
   "display_name": "Python 3",
   "language": "python",
   "name": "python3"
  },
  "language_info": {
   "codemirror_mode": {
    "name": "ipython",
    "version": 3
   },
   "file_extension": ".py",
   "mimetype": "text/x-python",
   "name": "python",
   "nbconvert_exporter": "python",
   "pygments_lexer": "ipython3",
   "version": "3.5.1"
  }
 },
 "nbformat": 4,
 "nbformat_minor": 0
}

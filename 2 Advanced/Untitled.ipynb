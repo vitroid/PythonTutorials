{
 "cells": [
  {
   "cell_type": "markdown",
   "metadata": {},
   "source": [
    "# 多角形近似による円周率計算\n",
    "和算では多角形近似から円周率を求めていたのだと思っていたが，もっと高度な漸化式を知っていたらしい．建部は江戸中期にすでに41桁の円周率を求めていた．\n",
    "\n",
    "ここでは，Pythonの通常の実数で計算するので，小数点以下7桁程度しか求められない．"
   ]
  },
  {
   "cell_type": "code",
   "execution_count": 1,
   "metadata": {
    "collapsed": false
   },
   "outputs": [
    {
     "name": "stdout",
     "output_type": "stream",
     "text": [
      "4角形 3.0\n",
      "8角形 3.071067811865475\n",
      "16角形 3.1220326684976234\n",
      "32角形 3.1365850298436557\n",
      "64角形 3.140333437895908\n",
      "128角形 3.141277393448589\n",
      "256角形 3.1415138100507143\n",
      "512角形 3.141572940924533\n",
      "1024角形 3.1415877253147513\n",
      "2048角形 3.14159142150681\n",
      "4096角形 3.1415923456112127\n",
      "8192角形 3.141592576545013\n"
     ]
    }
   ],
   "source": [
    "#多角形近似による円周率計算\n",
    "#あらかじめ目標の桁数を決めておく．\n",
    "#整数演算で多倍長計算したいが，その場合，√も自力で計算する必要がある．\n",
    "#とりあえずは，実証計算のため，実数でいく，\n",
    "\n",
    "D = 6     #must be even integer\n",
    "\n",
    "N = 4  #square\n",
    "S = 1.0   #sine 90\n",
    "C = 0.0   #cosine 90\n",
    "\n",
    "while True:\n",
    "    S2 = (1-C)/2\n",
    "    C2 = 1 - S2\n",
    "    S,C = S2**0.5, C2**0.5\n",
    "    T = S/C\n",
    "    #外接円の面積\n",
    "    SO = N*T\n",
    "    SI = N*C*S\n",
    "    PI = (SO+SI)/2\n",
    "    print(\"{0}角形\".format(N),PI)\n",
    "    if SO-SI < 10.0**(-D):\n",
    "        break\n",
    "    N *= 2\n",
    "\n"
   ]
  },
  {
   "cell_type": "code",
   "execution_count": null,
   "metadata": {
    "collapsed": false
   },
   "outputs": [],
   "source": [
    "F = m*a\n",
    "integrate(F*v,(t,0,1/ω/4))"
   ]
  },
  {
   "cell_type": "code",
   "execution_count": null,
   "metadata": {
    "collapsed": false
   },
   "outputs": [],
   "source": [
    "N(0.5*m*(0.8*pi)**2)*ω*3"
   ]
  },
  {
   "cell_type": "code",
   "execution_count": null,
   "metadata": {
    "collapsed": true
   },
   "outputs": [],
   "source": []
  }
 ],
 "metadata": {
  "kernelspec": {
   "display_name": "Python 3",
   "language": "python",
   "name": "python3"
  },
  "language_info": {
   "codemirror_mode": {
    "name": "ipython",
    "version": 3
   },
   "file_extension": ".py",
   "mimetype": "text/x-python",
   "name": "python",
   "nbconvert_exporter": "python",
   "pygments_lexer": "ipython3",
   "version": "3.6.0"
  }
 },
 "nbformat": 4,
 "nbformat_minor": 0
}

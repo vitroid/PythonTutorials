{
  "cells": [
    {
      "cell_type": "markdown",
      "metadata": {
        "id": "view-in-github",
        "colab_type": "text"
      },
      "source": [
        "<a href=\"https://colab.research.google.com/github/vitroid/PythonTutorials/blob/master/2%20Advanced/011Intro2.ipynb\" target=\"_parent\"><img src=\"https://colab.research.google.com/assets/colab-badge.svg\" alt=\"Open In Colab\"/></a>"
      ]
    },
    {
      "cell_type": "markdown",
      "metadata": {
        "id": "8Wz41zKjzmL0"
      },
      "source": [
        "![QR code to this page](https://github.com/vitroid/PythonTutorials/blob/master/2%20Advanced/chart.png?raw=1)\n",
        "\n",
        "* VitroidPlumb\n",
        "* kokuyo-origo-salt\n"
      ]
    },
    {
      "cell_type": "markdown",
      "metadata": {
        "id": "W86NbJjmwpIP"
      },
      "source": [
        "## 第一回 Google Colabの紹介\n",
        "\n",
        "いまやPythonの使い道は多岐に渡っていて、すべてを把握するのは不可能です。正直言って、「できないことがない」ような気もします。例えば、Excelのファイルにアクセスし、一部を書換えるとか、wordに自動で作文を書くようなことすらも簡単にできてしまいます。\n",
        "\n",
        "この講義では、これらを横断的に使うための、基盤となる知識と、特に化学で使いそうな機能を紹介しようと考えています。\n",
        "\n",
        "## 1. Introduction to Google Colab\n",
        "\n",
        "Nowadays, there are so many different ways to use Python that it is impossible to keep track of them all. To be honest, it seems like there is nothing that can't be done. For example, you can easily access an Excel file and rewrite parts of it, or even automatically write an essay in word.\n",
        "\n",
        "In this lecture, I intend to introduce the basic knowledge and the functions that you might use across these, especially in chemistry.\n",
        "\n"
      ]
    },
    {
      "cell_type": "markdown",
      "metadata": {
        "id": "XOEDRZ4tKZTV"
      },
      "source": [
        "\n",
        "\n",
        "### なぜPython?\n",
        "\n",
        "コンピュータ言語は、Python以外にも無数にあります。また、Pythonよりも高速に処理できる言語もたくさんあります。例えば、理論化学系の研究室であれば、Fortranを使う機会があると思いますが、Fortranに比べればPythonは100倍ぐらい遅い言語です。\n",
        "\n",
        "ただし、処理が速ければ、早く仕事(我々の場合でいえばデータ解析)が終わるというわけではありません。数値ばかりがたくさんならんだデータを扱っている限り、Fortranは速いのですが、文字列や、ネットワークや、数式などを扱おうとすると、とたんにとてつもない苦難に見舞われます。Pythonであれば、扱えるデータの幅がひろがります。「なんでも」「そこそこの速さで」「短いプログラムで」処理できる言語として、Pythonを使うメリットがあります。\n",
        "\n",
        "機械学習の分野では、(とくに近年になって)新しいアルゴリズムはまずPythonでライブラリが提供される、ということが多くなっています。Pythonを学んでおけば、常に最新のアルゴリズムを利用できるということです。\n",
        "\n",
        "Pythonには、大量のデータを簡潔なプログラムで高速に扱うnumpyという仕組みが提供されています。実際には、画像処理(OpenCV)も機械学習も統計処理も、ほとんどの計算関連の機能はnumpyを使って構築されています。numpyを知れば、ほかの言語ではありえない簡潔さで、データ処理を行えます。\n",
        "\n",
        "簡潔にコードが書けると、バグを減らすことができます。例えば、numpyなら、行列$A$の転置とベクトル$x$をかけて$y$を足す計算は、以下のように表記します。\n",
        "\n",
        "```python\n",
        "v = A.T @ x + y\n",
        "```\n",
        "\n",
        "ちなみに、もしnumpyを知らなかったら、こんなコードを書くことになるでしょう。\n",
        "```python\n",
        "for i in range(len(x)):\n",
        "  s = 0\n",
        "  for j in range(len(x)):\n",
        "    s += A[j][i]*x[j]\n",
        "  v[i] = s + y[i]\n",
        "```\n",
        "\n",
        "Pythonにもいろいろ弱点があります。最大の弱点は、「便利すぎること」かもしれません。Pythonでプログラムを書いていると、簡単なデータ構造(辞書や集合)から機械学習に至るまで、なんでもライブラリがあるので、自分で書く必要がありません。そのため、ほかの言語で書かざるをえなくなった時に、途方に暮れてしまうのです。例えばPythonでは遅いプログラムを速くするために、Fortranに移植しようとすると、あまりの不便さに目がくらみます。足りない機能を補い、読みにくいコードをデバッグするのに時間を費すぐらいなら、多少遅くてもPythonでいいや、という気持ちになってしまいます。\n",
        "\n",
        "\n",
        "### Why Python?\n",
        "\n",
        "There are countless other computer languages besides Python. There are also many languages that are faster than Python. For example, if you are in a theoretical chemistry laboratory, you may have an opportunity to use Fortran, but a crude Python code is about 100 times slower than Fortran.\n",
        "\n",
        "However, faster processing does not necessarily mean faster work (in our case, data analysis). Fortran is fast as long as you are dealing with a lot of numerical data, but when you try to deal with strings, networks, or mathematical expressions, you will immediately encounter tremendous difficulties. Python offers a much wider range of data types than Fortran. The advantage of using Python is that it is a language that can handle \"anything,\" \"reasonably fast,\" and \"in short programs\".\n",
        "\n",
        "In the field of machine learning, new algorithms (especially in recent years) are often first provided in a library in Python, so learning Python means that you will always have access to the latest algorithms.\n",
        "\n",
        "Python provides a system called `numpy` that can handle large amounts of data in a fast, concise program. In fact, most computation-related functions, such as image processing (OpenCV), machine learning, and statistical processing, are built using `numpy`. `numpy` allows you to process data with a simplicity not possible in any other language.\n",
        "\n",
        "Concise code reduces bugs. For example, in `numpy`, transposing a matrix $A$ and multiplying a vector $x$ and adding $y$ are written as follows.\n",
        "\n",
        "```python\n",
        "v = A.T @ x + y\n",
        "```\n",
        "\n",
        "By the way, if you don't know numpy, you would write code like this\n",
        "```python\n",
        "for i in range(len(x)):\n",
        "  s = 0\n",
        "  for j in range(len(x)):\n",
        "    s += A[j][i]*x[j]\n",
        "  v[i] = s + y[i]\n",
        "```\n",
        "\n",
        "A `numpy` code is far readable.\n",
        "\n",
        "Python has many weaknesses. Perhaps the biggest weakness is that it is too convenient: when you write programs in Python, you don't have to write them yourself because there are libraries for everything from simple data structures (dictionaries and sets) to machine learning. So when you are forced to write in another language, you are at a loss. For example, if you try to port a slow Python program to Fortran to make it faster, you will be stunned at how inconvenient it is. The feeling is that if you have to spend time compensating for missing features and debugging illegible code, you'd rather use Python, even if it's a little slower.\n",
        "\n",
        "\n"
      ]
    },
    {
      "cell_type": "markdown",
      "metadata": {
        "id": "v53b72Omw2xQ"
      },
      "source": [
        "\n",
        "### なぜGoogle Colab?\n",
        "\n",
        "Google Colaboratory (以下colab)とは、Google社が提供している、Cloud上でPythonを実行するしくみです。Cloudへのアクセスには通常のブラウザを使いますので、Browserが利用できるコンピュータやスマホやタブレットからでも、Pythonプログラムを書き、走らせることができます。\n",
        "\n",
        "<!-- 2019年までは、この講義では各自のパソコン上でプログラムを走らせていました。しかし、OSのバージョン、CPUの性能、メモリの量など、さまざまな条件が異なり、ひとによって著しく処理速度が違っていました。Colabを使うと、プログラムはクラウド上で実行されるので、どんなパソコンでもほぼ同じことが同じ時間でできますし、手許のコンピュータの処理が重くなることもありません。 -->\n",
        "\n",
        "パソコン上のPython実行環境とは違い、Colabにはあらかじめ膨大な数のライブラリがインストールされているので、Colabに接続すると直ちに高度なデータ処理ができます。グラフを描画するmatplotlibやpyplot、数値データを扱うnumpyやscipy、さらには機械学習のライブラリなどもインストール不要で使えます。\n",
        "\n",
        "Colabの弱点は、すべての処理がクラウド上で行われるため、手許の端末の全機能を利用できないことです。例えば、音声や画像をマイクやスピーカーからとりこんでリアルタイムで処理する、といった芸当はできません。\n",
        "\n",
        "<!-- (2022追記) VSCodeとpipenvを組みあわせると、ローカル環境だけでもかなり便利に使えることがわかってきました。今年はColabに頼らない方法も平行して説明します。 -->\n",
        "\n",
        "### Why Google Colab?\n",
        "\n",
        "Google Colaboratory (hereafter referred to as \"colab\") is a system provided by Google to run Python programs in the Cloud, using a regular browser to access the Cloud, so you can write and run Python programs from any Browser-enabled computer, smartphone, or tablet.\n",
        "\n",
        "Unlike the Python runtime environment on a PC, Colab comes with a huge number of libraries pre-installed, so you can do advanced data processing as soon as you connect to Colab. You can use matplotlib and pyplot for plotting graphs, numpy and scipy for handling numerical data, and even machine learning libraries without installation.\n",
        "\n",
        "The weakness of Colab is that all processing is done in the cloud, so you cannot use all the functions of the device at hand. For example, it is not possible to capture audio and images from microphones and speakers and process them in real time.\n"
      ]
    },
    {
      "cell_type": "markdown",
      "metadata": {
        "id": "npc76EV286i6"
      },
      "source": [
        "### 初回の目標\n",
        "\n",
        "初回は、まずGoogle Colabに慣れるところからはじめます。\n",
        "\n",
        "注意: 3年生の化学実験で扱った程度のPythonの知識があることを前提としています。忘れかけている人は、[教材](https://colab.research.google.com/github/vitroid/PythonTutorials/blob/master/1%20For%20beginners/0First.ipynb)をみなおす、入門書で練習する、YouTubeで解説を見るなど準備をしておいて下さい。\n",
        "\n",
        "1. https://colab.research.google.com/ にアクセスして下さい。\n",
        "2. ファイル選択画面が表示されます。ファイルリスト一番上の「Colaboratoryへようこそ」を選んで下さい。\n",
        "3. Colaboratoryとは何かの簡単な説明と、使用例が表示されます。Colaboratoryの特徴は\n",
        "   1. Pythonを実行するのに必要なすべてのものが準備されている。(最新のAI開発まで!)\n",
        "   2. 手許のコンピュータではなく、Googleのクラウド上にある高性能計算機で処理される。(最初の処理だけすこし時間がかかります)\n",
        "   3. 無料\n",
        "4. ページの下のほうにある、「Colaboratoryの概要」をひらいて、ざっと読んで基本的な操作を試して下さい。(DeepLをインストールしておくと、英語を読むのが格段に楽になります)\n",
        "5. その下の、「markdownのガイド」もざっと読んでおいて下さい。markdownというのは、ただのプレーンテキストに少し記号を書き加えるだけで、文書を整形表示する書き方のことです。colaboratoryのノートブックの中に文章を書く時に使います。\n",
        "\n",
        "以後、各回の内容を示します。\n",
        "\n",
        "* リンク先のcolabのページに移動し、文章を読み、サンプルのpythonコードを実行したり書換えたりしてみて下さい。\n",
        "* 最初の編集時には「Warning: This notebook was not authored by Google.」と表示されるかもしれませんが、気にせず実行(Run anyway)してください。\n",
        "* 編集したファイルをセーブすると、あなたのGoogle Driveに保存されます。GitHub上の原本には影響を与えません。\n",
        "* 昨年の講義で作った資料がまだそのままになっている部分がたくさんあります。これからアップデートする予定です。\n",
        "\n",
        "\n",
        "Let's get along with Google Colab.\n",
        "\n",
        "Note: __A minimal knowledge on Python language is required.__\n",
        "\n",
        "1. go to https://colab.research.google.com/ \n",
        "2. A file selection screen will appear. Select \"Welcome to Colaboratory\" at the top of the file list. \n",
        "3. You will see a brief description of what Colaboratory is and an example of its use.\n",
        "   1. Everything you need to run Python is provided (even the latest AI development).\n",
        "   2. The processing is not done on your own computer, but on Google's high performance computers in the cloud (only the initial processing is a bit more complicated). (Only the first process takes a little longer).\n",
        "   3. Free of charge\n",
        "4. please open the \"About Collaboratory\" section at the bottom of the page, read it briefly, and try out the basic operations. (If you have installed DeepL, reading English will be much easier. )\n",
        "5. please also skim over the \"markdown guide\" below. markdown is a way of writing formatted documents by simply adding a few symbols to plain text.\n",
        "\n",
        "Hereafter, the contents of each installment are shown.\n",
        "\n",
        "* Go to the colab page linked to, read the text, and run or rewrite the sample python code.\n",
        "* You may see \"Warning: This notebook was not authored by Google.\" when you first edit the file, but don't worry, just run it (Run anyway).\n",
        "* Saving the edited file will save it to your Google Drive, and will not affect the original on GitHub.\n",
        "\n",
        "\n",
        "<!-- #### ローカル環境を利用する場合\n",
        "\n",
        "すでに行ったことのある処理は飛ばして下さい。\n",
        "\n",
        "* [操作ビデオ (Stream, 学内限定)](https://web.microsoftstream.com/video/7992c39c-4cc4-4686-bd0a-4995c227c3bf)\n",
        "\n",
        "* Google Chromeをインストールします。 https://www.google.co.jp/chrome\n",
        "* (Windows)\n",
        "  * Pythonをインストールします。 https://www.python.jp/install/windows/index.html\n",
        "  * gitをインストールします。 https://gitforwindows.org/\n",
        "* (MacOS) \n",
        "  * HomeBrewをインストールします。 https://brew.sh\n",
        "  * Pythonをインストールします。\n",
        "    `brew install python`\n",
        "* VSCodeをインストールします。 https://code.visualstudio.com/download\n",
        "* VSCodeを実行し、File→New Windowでウィンドウを開きます。\n",
        "* Clone Git Repositoryを押します。\n",
        "* 次のURLを入力します。 https://github.com/vitroid/PythonTutorials.git\n",
        "* 保存先を聞いてくるので、てきとうなフォルダーを指示します。\n",
        "* しばらく時間がかかったあと、とってきたファイルを開くかどうか聞いてくるので開きます。\n",
        "* Terminal→New TerminalでVSCode内のターミナルをひらきます。\n",
        "* `pip3 install pipenv`を入力し、returnを押します。もしエラーになる場合は、Python自体がインストールされていない可能性があります。\n",
        "* `pipenv shell`を入力し、returnを押します。(これで、必要なモジュールがインストールされると思いたい)\n",
        "\n",
        "2022年度は、主にColab上で演習していく予定ですが、ローカルでないとできないデモもありますので、両方使えるように準備して下さい。 -->\n",
        "\n",
        "## Reference\n",
        "\n",
        "* [github:vitroid/PythonTutorials](https://github.com/vitroid/PythonTutorials/tree/master/2%20Advanced)"
      ]
    },
    {
      "cell_type": "markdown",
      "metadata": {
        "id": "vo9txMoHrxR2"
      },
      "source": [
        "## 2. Pythonの基礎 / 2. Python Basics\n",
        "\n",
        "これらはPython固有の機能ではなく、ほかの近代的な言語でも搭載されている基本的な機能です。Python独特の世界に踏みこむ前に、まず知っておいて下さい。\n",
        "\n",
        "* Colabで実行する場合: リンクをクリックして下さい。表示されたページで、「Copy to Drive」を押し、コピーを作成してから編集して下さい。\n",
        "<!-- * ローカルで実行する場合(VSCode): EXPLORERの中から、適切なファイルを選んで*複製してから*開いて下さい。(複製は、Cmd+C Cmd+V。原本は、あとで更新される可能性があります。) -->\n",
        "\n",
        "These are not Python-specific features, but basic features that other modern languages also have, and you should know them first before you venture into the unique world of Python.\n",
        "\n",
        "* To run in Colab: click on the link. On the page that appears, click on \"Copy to Drive\" to make a copy and then edit it.\n",
        "<!-- To run locally (VSCode): Select the appropriate file in EXPLORER, *duplicate* it, and *open* it. (To duplicate, Cmd+C Cmd+V. The original may be updated later.) -->\n",
        "\n",
        "* List リスト https://colab.research.google.com/github/vitroid/PythonTutorials/blob/master/2%20Advanced/020リストの使い方.ipynb\n",
        "* Dict 辞書 https://colab.research.google.com/github/vitroid/PythonTutorials/blob/master/2%20Advanced/021辞書.ipynb\n",
        "---\n",
        "### Pending to 3\n",
        "\n",
        "* Set 集合 https://colab.research.google.com/github/vitroid/PythonTutorials/blob/master/2%20Advanced/022集合.ipynb\n",
        "* Function 関数 https://colab.research.google.com/github/vitroid/PythonTutorials/blob/master/2%20Advanced/026関数.ipynb\n",
        "----"
      ]
    },
    {
      "cell_type": "markdown",
      "metadata": {
        "id": "iRPilesRTeuS"
      },
      "source": [
        "## 3. numpyの基本 / 3. Numpy\n",
        "\n",
        "numpy(ナンパイと読むそうです)は、多次元配列を扱う外部ライブラリで、科学技術計算をPythonで行う場合に必須です。機械学習や画像処理などの多数のライブラリの中核部分がnumpyを利用する前提で作られており、現在のPythonの興隆はnumpyのおかげといっても過言ではないでしょう。\n",
        "\n",
        "Numpy is an external library for handling multidimensional arrays. It is essential when performing scientific and technical calculations in Python. The core of many libraries for machine learning, image processing, etc. are built on the premise of using numpy, and it is no exaggeration to say that the current rise of Python is due to numpy.\n",
        "\n",
        "* 050numpy https://colab.research.google.com/github/vitroid/PythonTutorials/blob/master/2%20Advanced/050numpy.ipynb\n",
        "* Fancy Indexing https://github.com/jakevdp/PythonDataScienceHandbook/blob/master/notebooks/02.07-Fancy-Indexing.ipynb (Python Data Science Handbook)\n",
        "* Fancy Indexing https://github.com/vitroid/PythonDataScienceHandbook/blob/ja/notebooks/02.07-Fancy-Indexing.ipynb (Pythonデータサイエンスハンドブック, 機械翻訳)\n",
        "----"
      ]
    },
    {
      "cell_type": "markdown",
      "metadata": {
        "id": "WH4bNPxZU68n"
      },
      "source": [
        "## 4. 信号処理、あるいは一次元データの処理 / 4. Signal processing\n",
        "\n",
        "numpyの応用事例としての、音響解析。\n",
        "\n",
        "Audio processing as an application of Numpy.\n",
        "\n",
        "* 070Audio_rev2 https://colab.research.google.com/github/vitroid/PythonTutorials/blob/master/2%20Advanced/070Audio_rev2.ipynb\n",
        "----"
      ]
    },
    {
      "cell_type": "markdown",
      "metadata": {
        "id": "HijjFLVYTu3m"
      },
      "source": [
        "## 5. プロット / 5. Plotting\n",
        "\n",
        "自分の考えをほかの人に伝えるのにも、自分自身が理解するためにも、可視化はとても有効です。\n",
        "\n",
        "Visualization is very useful for communicating your ideas to others and for your own understanding.\n",
        "\n",
        "* 060MatPlotLib https://colab.research.google.com/github/vitroid/PythonTutorials/blob/master/2%20Advanced/060MatPlotLib.ipynb\n",
        "----"
      ]
    },
    {
      "cell_type": "markdown",
      "metadata": {
        "id": "jHR7v2oUV3OW"
      },
      "source": [
        "## 6. グラフ理論 / 6. Graphs\n",
        "\n",
        "化学はいろんなネットワークを扱う学問です。化学反応ネットワーク、有機分子骨格、結晶構造、クラスター、信号ネットワーク、あるいは実験操作の自動化や多人数での共同研究のスケジュール調整までがネットワークであらわせますが、化学の講義で習うことはほとんどありません。グラフ理論はネットワークのつながりを扱う扱う数学です。ここではグラフ理論そのものについてはあまり深いりしませんが、グラフ理論の入門書はだいたいどれもパズル本のようで面白く、数式も少ないので読みやすいので、一冊読んでおくといつか役に立つと思います。\n",
        "\n",
        "Chemistry is the study of networks. Chemical reaction networks, organic molecular skeletons, crystal structures, clusters, signal networks, automation of experimental procedures, and even the scheduling of multi-person collaborative research can be represented by networks, but these are rarely taught in chemistry courses. Graph theory is the mathematics that deals with network connections. I will not go into too much depth about graph theory itself here, but I think that reading an introductory book on graph theory will be useful someday, because it is usually interesting, like a puzzle book, and easy to read because it contains few mathematical formulas.\n",
        "\n",
        "* 090Graph https://colab.research.google.com/github/vitroid/PythonTutorials/blob/master/2%20Advanced/090Graph.ipynb\n",
        "----"
      ]
    },
    {
      "cell_type": "markdown",
      "metadata": {
        "id": "MDY4tL3ZzmL5"
      },
      "source": [
        "## 7. 分子シミュレーション関連 / 7. Molecular simulations\n",
        "\n",
        "前半の最終回は、分子シミュレーションに特有のいくつかの計算手法をとりあげます。分子シミュレーションに携っていない人にはあまり役に立たないかもしれません。\n",
        "\n",
        "In the last part of this course, we will cover some computational methods specific to molecular simulation. They may not be of much use to those who are not involved in molecular simulation.\n",
        "\n",
        "* 055MolSym https://colab.research.google.com/github/vitroid/PythonTutorials/blob/master/2%20Advanced/055MolSym.ipynb\n",
        "----"
      ]
    },
    {
      "cell_type": "markdown",
      "metadata": {
        "id": "lEmuP_MmXCaW"
      },
      "source": [
        "## 8. 記号演算 / 8. Symbolic Algebra\n",
        "\n",
        "Sympy(シンパイと読むそうです)はPythonで数式処理を行うライブラリです。数式処理とは、数式を数値になおさないままで展開していくことを指します。複雑な式を微積分したり、因数分解したり、解析解を求めるのを助けてくれます。Sympyはnumpyとは直接関係がありません。\n",
        "\n",
        "* 080sympy https://colab.research.google.com/github/vitroid/PythonTutorials/blob/master/2%20Advanced/080sympy.ipynb\n",
        "----"
      ]
    },
    {
      "cell_type": "markdown",
      "metadata": {
        "id": "P4LGa4D_Wg18"
      },
      "source": [
        "<hr />\n",
        "\n",
        "前半は、データサイエンスの基礎という名目で、3年生でも受講できるようになるかもしれないので、特に基本的な内容を集めます。"
      ]
    },
    {
      "cell_type": "markdown",
      "metadata": {
        "id": "tj8ZSw2s86i9"
      },
      "source": [
        "## 第九回 ボロノイ\n",
        "\n",
        "情報と幾何学の関係について考えます。\n",
        "\n",
        "* 065Voronoi https://colab.research.google.com/github/vitroid/PythonTutorials/blob/master/2%20Advanced/065Voronoi.ipynb\n",
        "----"
      ]
    },
    {
      "cell_type": "markdown",
      "metadata": {
        "id": "u70ijltEZVE0"
      },
      "source": [
        "## 第十回 機械学習1\n",
        "\n",
        "いよいよ機械学習に入りますが、宿題を準備するのがかなり困難になってきました。(何か試そうにも、大量のサンプルデータが必要になるため)\n",
        "\n",
        "何か思いつけば宿題を出しますが、宿題がなければ、ひととおり自分で実行してみるだけで構いません。いろいろ計算過程での変数の値を表示したり、パラメータを調節したりして、結果がどう変わるかを試してみてください。また、質問や疑問があればこれまでと同じようにGoogle Driveで共有してもらえれば、応答します。\n",
        "\n",
        "* 300機械学習 https://colab.research.google.com/github/vitroid/PythonTutorials/blob/master/2%20Advanced/300機械学習.ipynb\n",
        "* 教師あり学習\n",
        "  * 回帰\n",
        "    * 310LinearRegression (最小二乗法) https://colab.research.google.com/github/vitroid/PythonTutorials/blob/master/2%20Advanced/310LinearRegression.ipynb\n",
        "    * 312MDS (多次元尺度法) https://colab.research.google.com/github/vitroid/PythonTutorials/blob/master/2%20Advanced/312MDS.ipynb (宿題あり)\n",
        "\n",
        "----"
      ]
    },
    {
      "cell_type": "markdown",
      "metadata": {
        "id": "hbe1Vu22Qpl4"
      },
      "source": [
        "## 第11回 機械学習2\n",
        "\n",
        "![](https://i.gyazo.com/b2b978bca0ac945ca603825cf2cb2ec1.jpg)\n",
        "\n",
        "人間なら、4という文字を見れば4と読める。おなじことを機械にさせたい。画像の4を、ラベルとしての\"4\"につなげる「関数」$f(A)$を作りたい。それもできるだけ簡単に。\n",
        "\n",
        "* 教師あり学習\n",
        "  * クラス分類\n",
        "    * 320RandomForest (決定木、ランダムフォレスト) https://colab.research.google.com/github/vitroid/PythonTutorials/blob/master/2%20Advanced/320RandomForest.ipynb (宿題未定)\n",
        "    * 322NeuralNet (ニューラルネットワーク) https://colab.research.google.com/github/vitroid/PythonTutorials/blob/master/2%20Advanced/322NeuralNet.ipynb (宿題未定)\n",
        "\n",
        "今週は降参です。練習課題はありません。ディープニューラルネットワークに関する記事は、いまちまたにたくさんありますので、その中から、自分の研究テーマとつながりそうな記事を一つ選んで、要約し、具体的にどんな風に使えそうかをレポートしてもらえないでしょうか。(論文でなくても、日本語でも構いませんが、技術的な詳細がわかるものが良いです)\n",
        "----"
      ]
    },
    {
      "cell_type": "markdown",
      "metadata": {
        "id": "hGzY_JN1QqhH"
      },
      "source": [
        "## 第12回 機械学習3\n",
        "\n",
        "今回も練習問題はありません。こんなことが、このぐらいのプログラムを書けばできる、というのを、以下のページで体験して下さい。\n",
        "\n",
        "* 教師なし学習\n",
        "  * 330Clustering (k-meansを用いた写真の減色) https://colab.research.google.com/github/vitroid/PythonTutorials/blob/master/2%20Advanced/330Clustering.ipynb (宿題未定)\n",
        "  * 332GaussianMixture (ガウス混合モデル) https://colab.research.google.com/github/vitroid/PythonTutorials/blob/master/2%20Advanced/332GaussianMixture.ipynb\n",
        "  * 342ICA (独立成分分析) https://colab.research.google.com/github/vitroid/PythonTutorials/blob/master/2%20Advanced/342ICA.ipynb (宿題未定)\n",
        "  * 340IsoMap (IsoMapによる文字分類) https://colab.research.google.com/github/vitroid/PythonTutorials/blob/master/2%20Advanced/340IsoMap.ipynb (宿題未定)\n",
        "\n",
        "機械学習の手法は多岐に渡っています。Pythonの機械学習ライブラリであるScikit-learnのページ: https://scikit-learn.org/stable/ には、こんな図が掲載されています。\n",
        "\n",
        "![Choosing the right estimator](https://scikit-learn.org/stable/_static/ml_map.png)\n",
        "\n",
        "自分の研究のデータを念頭にこのチャートをたどって、どんな風に使えるのかを考えてみて下さい。\n",
        "\n",
        "<!-- 今年度の複雑系化学はここで終わります。試験などは実施しません。先回のレポートが最後の提出物となります。ここまでの課題で、未提出のものにもとりくんで下さい。 -->\n",
        "----\n"
      ]
    },
    {
      "cell_type": "markdown",
      "metadata": {
        "id": "xSWfthwDQrZi"
      },
      "source": [
        "## 第13回 機械学習4\n",
        "* 情報圧縮\n",
        "  * 次元削減\n",
        "  * 多様体学習\n",
        "  * 主成分分析\n",
        "\n",
        "----\n"
      ]
    },
    {
      "cell_type": "markdown",
      "metadata": {
        "id": "eGYB4ZhiRNpd"
      },
      "source": [
        "## 第三回 ライブラリの利用\n",
        "\n",
        "### 標準ライブラリ\n",
        "* 030順列と組みあわせ https://colab.research.google.com/github/vitroid/PythonTutorials/blob/master/2%20Advanced/030順列と組み合わせ.ipynb\n",
        "\n",
        "### 外部ライブラリ(Colab)\n",
        "\n",
        "* 外部ライブラリだが、Colabにはあらかじめインストールされているライブラリのリスト: https://colab.research.google.com/github/vitroid/PythonTutorials/blob/master/2%20Advanced/900colab_modulelist.ipynb\n",
        "* 外部ライブラリのcolabへのインストール方法は、必要に応じて説明します。\n",
        "\n",
        "### 外部ライブラリ(Local)\n",
        "\n",
        "* 必要な外部ライブラリはpipenvコマンドを通じてインストールします。\n",
        "* 外部ライブラリのインストール方法は、必要に応じて説明します。\n",
        "\n",
        "### ファイル入出力\n",
        "\n",
        "* 5-5GoogleDriveOnColab https://colab.research.google.com/github/vitroid/PythonTutorials/blob/master/1%20For%20beginners/5-5GoogleDriveOnColab.ipynb Google colabはGoogleのクラウド上で計算処理をするので、てもとにあるファイルを利用するにはすこし手間がかかります。そこで、同じくGoogleのクラウドサービスである、Google Driveを利用し、てもとのファイルとクラウド上のファイルを自動的に同期させて使ってみます。\n",
        "* 024ファイル入出力 https://colab.research.google.com/github/vitroid/PythonTutorials/blob/master/2%20Advanced/024ファイル入出力.ipynb\n",
        "\n",
        "### 前回の解答例\n",
        "* 030順列と組み合わせ https://colab.research.google.com/github/vitroid/PythonTutorials/blob/master/2%20Advanced/解答例/030順列組み合わせ.ipynb\n"
      ]
    },
    {
      "cell_type": "markdown",
      "metadata": {
        "id": "BvehW3y1W_Ib"
      },
      "source": [
        "## ~~第七回 ローカル開発環境の準備(再び)~~\n",
        "\n",
        "WindowsにAnacondaをインストールして、自分のパソコンの上でPythonを利用できるようにします。\n",
        "\n",
        "Macの場合は、VScodeを利用する予定です。\n",
        "\n",
        "### Apple M1の場合\n",
        "\n",
        "1. Macユーザなら何はともあれhomebrewをインストール。\n",
        "https://brew.sh/index_ja\n",
        "2. あとは全部コマンドラインで。\n",
        "```\n",
        "brew install python3\n",
        "brew install visual-studio-code\n",
        "pip install numpy jupyterlab\n",
        "pip install opencv-python opencv-contrib-python \n",
        "jupyter lab build\n",
        "```\n",
        "\n",
        "### Intel MacおよびWindows (Anaconda)\n",
        "\n",
        "1. Anacondaをインストール https://www.anaconda.com\n",
        "2. Anaconda Navigatorで左メニューのEnvironmentsを押し、baseの右側の三角を押してTerminalをひらく。\n",
        "![](https://i.gyazo.com/6fe8b1a2a1fc47c1e459ae7e831b7efb.png)\n",
        "3. 以下のコマンドを入力。\n",
        "```\n",
        "pip install opencv-python opencv-contrib-python\n",
        "``` \n",
        "\n",
        "### 試す!\n",
        "\n",
        "https://colab.research.google.com/github/vitroid/PythonTutorials/blob/master/2%20Advanced/120opencv-Anaconda.ipynb\n",
        "を開きます。これはColabでは実行できない(カメラから画像をとりこむ)ので、File→Download→Download .ipynbから手許にコードをダウンロードして下さい。\n",
        "----"
      ]
    }
  ],
  "metadata": {
    "colab": {
      "name": "010Intro.ipynb",
      "provenance": [],
      "include_colab_link": true
    },
    "kernelspec": {
      "display_name": "Python 3",
      "language": "python",
      "name": "python3"
    },
    "language_info": {
      "codemirror_mode": {
        "name": "ipython",
        "version": 3
      },
      "file_extension": ".py",
      "mimetype": "text/x-python",
      "name": "python",
      "nbconvert_exporter": "python",
      "pygments_lexer": "ipython3",
      "version": "3.7.3"
    }
  },
  "nbformat": 4,
  "nbformat_minor": 0
}
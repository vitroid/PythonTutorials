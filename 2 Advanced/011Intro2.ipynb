{
  "nbformat": 4,
  "nbformat_minor": 0,
  "metadata": {
    "kernelspec": {
      "display_name": "Python 3",
      "language": "python",
      "name": "python3"
    },
    "language_info": {
      "codemirror_mode": {
        "name": "ipython",
        "version": 3
      },
      "file_extension": ".py",
      "mimetype": "text/x-python",
      "name": "python",
      "nbconvert_exporter": "python",
      "pygments_lexer": "ipython3",
      "version": "3.7.3"
    },
    "colab": {
      "name": "010Intro.ipynb",
      "provenance": [],
      "include_colab_link": true
    }
  },
  "cells": [
    {
      "cell_type": "markdown",
      "metadata": {
        "id": "view-in-github",
        "colab_type": "text"
      },
      "source": [
        "<a href=\"https://colab.research.google.com/github/vitroid/PythonTutorials/blob/2021/2%20Advanced/011Intro2.ipynb\" target=\"_parent\"><img src=\"https://colab.research.google.com/assets/colab-badge.svg\" alt=\"Open In Colab\"/></a>"
      ]
    },
    {
      "cell_type": "markdown",
      "metadata": {
        "id": "XOEDRZ4tKZTV"
      },
      "source": [
        "## 第一回 Google Colabの紹介\n",
        "\n",
        "いまやPythonの使い道は多岐に渡っていて、すべてを把握するのは不可能です。正直言って、「できないことがない」ような気もします。例えば、Excelのファイルにアクセスし、一部を書換えるとか、wordに自動で作文を書くようなことすらも簡単にできてしまいます。\n",
        "\n",
        "この講義では、これらを横断的に使うための、基盤となる知識と、特に化学で使いそうな機能を紹介しようと考えています。\n",
        "\n",
        "### なぜPython?\n",
        "\n",
        "コンピュータ言語は、Python以外にも無数にあります。また、Pythonよりも高速に処理できる言語もたくさんあります。例えば、理論化学系の研究室であれば、Fortranを使う機会があると思いますが、Fortranに比べればPythonは100倍ぐらい遅い言語です。\n",
        "\n",
        "ただし、処理が速ければ、早く仕事(我々の場合でいえばデータ解析)が終わるというわけではありません。数値ばかりがたくさんならんだデータを扱っている限り、Fortranは速いのですが、文字列や、ネットワークや、数式などを扱おうとすると、とたんにとてつもない苦難に見舞われます。Pythonであれば、扱えるデータの幅がひろがります。「なんでも」「そこそこの速さで」「短いプログラムで」処理できる言語として、Pythonを使うメリットがあります。\n",
        "\n",
        "機械学習の分野では、(とくに近年になって)新しいアルゴリズムはまずPythonでライブラリが提供される、ということが多くなっています。Pythonを学んでおけば、常に最新のアルゴリズムを利用できるということです。\n",
        "\n",
        "Pythonには、大量のデータを簡潔なプログラムで高速に扱うnumpyという仕組みが提供されています。実際には、画像処理(OpenCV)も機械学習も統計処理も、ほとんどの計算関連の機能はnumpyを使って構築されています。numpyを知れば、ほかの言語ではありえない簡潔さで、データ処理を行えます。\n",
        "\n",
        "簡潔にコードが書けると、バグを減らすことができます。例えば、numpyなら、行列$A$の転置とベクトル$x$をかけて$y$を足す計算は、以下のように表記します。\n",
        "\n",
        "```python\n",
        "v = A.T @ x + y\n",
        "```\n",
        "\n",
        "Pythonにもいろいろ弱点があります。最大の弱点は、「便利すぎること」かもしれません。Pythonでプログラムを書いていると、簡単なデータ構造(辞書や集合)から機械学習に至るまで、なんでもライブラリがあるので、自分で書く必要がありません。そのため、ほかの言語で書かざるをえなくなった時に、途方に暮れてしまうのです。例えばPythonでは遅いプログラムを速くするために、Fortranに移植しようとすると、あまりの不便さに目がくらみます。足りない機能を補い、読みにくいコードをデバッグするのに時間を費すぐらいなら、多少遅くてもPythonでいいや、という気持ちになってしまいます。\n",
        "\n",
        "### なぜGoogle Colab?\n",
        "\n",
        "Google Colaboratory (以下colab)とは、Google社が提供している、Cloud上でPythonを実行するしくみです。Cloudへのアクセスには通常のブラウザを使いますので、Browserが利用できるコンピュータやスマホやタブレットからでも、Pythonプログラムを書き、走らせることができます。\n",
        "\n",
        "2019年までは、この講義では各自のパソコン上でプログラムを走らせていました。しかし、OSのバージョン、CPUの性能、メモリの量など、さまざまな条件が異なり、ひとによって著しく処理速度が違っていました。Colabを使うと、プログラムはクラウド上で実行されるので、どんなパソコンでもほぼ同じことが同じ時間でできますし、手許のコンピュータの処理が重くなることもありません。\n",
        "\n",
        "パソコン上のPython実行環境とは違い、Colabにはあらかじめ膨大な数のライブラリがインストールされているので、Colabに接続すると直ちに高度なデータ処理ができます。グラフを描画するmatplotlibやpyplot、数値データを扱うnumpyやscipy、さらには機械学習のライブラリなどもインストール不要で使えます。\n",
        "\n",
        "### 初回の目標\n",
        "\n",
        "初回は、まずGoogle Colabに慣れるところからはじめます。\n",
        "\n",
        "1. https://colab.research.google.com/ にアクセスして下さい。\n",
        "2. ファイル選択画面が表示されます。ファイルリスト一番上の「Colaboratoryへようこそ」を選んで下さい。\n",
        "3. Colaboratoryとは何かの簡単な説明と、使用例が表示されます。Colaboratoryの特徴は\n",
        "  1. Pythonを実行するのに必要なすべてのものが準備されている。(最新のAI開発まで!)\n",
        "  2. 手許のコンピュータではなく、Googleのクラウド上にある高性能計算機で処理される。(最初の処理だけすこし時間がかかります)\n",
        "  3. 無料\n",
        "4. ページの下のほうにある、「Colaboratoryの概要」をひらいて、ざっと読んで基本的な操作を試して下さい。(DeepLをインストールしておくと、英語を読むのが格段に楽になります)\n",
        "5. その下の、「markdownのガイド」もざっと読んでおいて下さい。markdownというのは、ただのプレーンテキストに少し記号を書き加えるだけで、文書を整形表示する書き方のことです。colaboratoryのノートブックの中に文章を書く時に使います。\n",
        "\n",
        "以後、各回の内容を示します。\n",
        "\n",
        "* リンク先のcolabのページに移動し、文章を読み、サンプルのpythonコードを実行したり書換えたりしてみて下さい。\n",
        "* 最初の編集時には「Warning: This notebook was not authored by Google.」と表示されるかもしれませんが、気にせず実行(Run anyway)してください。\n",
        "* 編集したファイルをセーブすると、あなたのGoogle Driveに保存されます。GitHub上の原本には影響を与えません。\n",
        "* 昨年の講義で作った資料がまだそのままになっている部分がたくさんあります。これからアップデートする予定です。\n",
        "\n",
        "\n",
        "## Reference\n",
        "\n",
        "* [github:vitroid/PythonTutorials](https://github.com/vitroid/PythonTutorials/tree/2021/2%20Advanced)"
      ]
    },
    {
      "cell_type": "markdown",
      "metadata": {
        "id": "vo9txMoHrxR2"
      },
      "source": [
        "## 第二回 Pythonの基礎\n",
        "\n",
        "これらはPython固有の機能ではなく、ほかの近代的な言語でも搭載されている基本的な機能です。Python独特の世界に踏みこむ前に、まず知っておいて下さい。\n",
        "\n",
        "* [020リストの使い方](https://colab.research.google.com/github/vitroid/PythonTutorials/blob/2021/2%20Advanced/020リストの使い方.ipynb)\n",
        "* [辞書](https://colab.research.google.com/github/vitroid/PythonTutorials/blob/2021/2%20Advanced/021辞書.ipynb)\n",
        "* [集合](https://colab.research.google.com/github/vitroid/PythonTutorials/blob/2021/2%20Advanced/022集合.ipynb)\n",
        "* [関数](https://colab.research.google.com/github/vitroid/PythonTutorials/blob/2021/2%20Advanced/026関数.ipynb)\n"
      ]
    },
    {
      "cell_type": "markdown",
      "metadata": {
        "id": "eGYB4ZhiRNpd"
      },
      "source": [
        "## 第三回 ライブラリの利用\n",
        "\n",
        "### 標準ライブラリ\n",
        "* [順列と組みあわせ](https://colab.research.google.com/github/vitroid/PythonTutorials/blob/2021/2%20Advanced/030順列と組み合わせ.ipynb)\n",
        "\n",
        "### 外部ライブラリ\n",
        "\n",
        "* 外部ライブラリだが、Colabにはあらかじめインストールされているライブラリの[リスト](https://colab.research.google.com/github/vitroid/PythonTutorials/blob/2021/2%20Advanced/900colab_modulelist.ipynb)\n",
        "* 外部ライブラリのcolabへのインストール方法は、必要に応じて説明します。\n",
        "\n",
        "### ファイル入出力\n",
        "\n",
        "* [Google Drive](https://colab.research.google.com/github/vitroid/PythonTutorials/blob/2020b3/1%20For%20beginners/5-5GoogleDriveOnColab.ipynb) Google colabはGoogleのクラウド上で計算処理をするので、てもとにあるファイルを利用するにはすこし手間がかかります。そこで、同じくGoogleのクラウドサービスである、Google Driveを利用し、てもとのファイルとクラウド上のファイルを自動的に同期させて使ってみます。\n",
        "* [ファイル入出力](https://colab.research.google.com/github/vitroid/PythonTutorials/blob/2021/2%20Advanced/024ファイル入出力.ipynb)\n",
        "\n",
        "### 前回の解答例\n",
        "* [順列と組み合わせ](https://colab.research.google.com/github/vitroid/PythonTutorials/blob/2021/2%20Advanced/解答例/030順列組み合わせ.ipynb)\n"
      ]
    },
    {
      "cell_type": "markdown",
      "metadata": {
        "id": "iRPilesRTeuS"
      },
      "source": [
        "## 第四回 numpyの基本\n",
        "\n",
        "numpy(ナンパイと読むそうです)は、多次元配列を扱う外部ライブラリで、科学技術計算をPythonで行う場合に必須です。機械学習や画像処理などの多数のライブラリの中核部分がnumpyを利用する前提で作られており、現在のPythonの興隆はnumpyのおかげといっても過言ではないでしょう。\n",
        "\n",
        "* [050numpy](https://colab.research.google.com/github/vitroid/PythonTutorials/blob/2021/2%20Advanced/050numpy.ipynb)\n"
      ]
    },
    {
      "cell_type": "markdown",
      "metadata": {
        "id": "HijjFLVYTu3m"
      },
      "source": [
        "## 第五回 プロット\n",
        "\n",
        "自分の考えをほかの人に伝えるのにも、自分自身が理解するためにも、可視化はとても有効です。\n",
        "\n",
        "* [Plotting](https://colab.research.google.com/github/vitroid/PythonTutorials/blob/2021/2%20Advanced/060MatPlotLib.ipynb)"
      ]
    },
    {
      "cell_type": "markdown",
      "metadata": {
        "id": "WH4bNPxZU68n"
      },
      "source": [
        "## 第六回 信号処理\n",
        "\n",
        "numpyの応用事例としての、音響解析。\n",
        "\n",
        "* [070Audio](https://colab.research.google.com/github/vitroid/PythonTutorials/blob/2021/2%20Advanced/070Audio_rev2.ipynb)"
      ]
    },
    {
      "cell_type": "markdown",
      "metadata": {
        "id": "jHR7v2oUV3OW"
      },
      "source": [
        "## 第七回 グラフ理論\n",
        "\n",
        "化学はいろんなネットワークを扱う学問です。化学反応ネットワーク、有機分子骨格、結晶構造、クラスター、信号ネットワーク、あるいは実験操作の自動化や多人数での共同研究のスケジュール調整までがネットワークであらわせますが、化学の講義で習うことはほとんどありません。グラフ理論はネットワークのつながりを扱う扱う数学です。ここではグラフ理論そのものについてはあまり深いりしませんが、グラフ理論の入門書はだいたいどれもパズル本のようで面白く、数式も少ないので読みやすいので、一冊読んでおくといつか役に立つと思います。\n",
        "\n",
        "* [グラフ理論](https://colab.research.google.com/github/vitroid/PythonTutorials/blob/2021/2%20Advanced/090Graph.ipynb)"
      ]
    },
    {
      "cell_type": "markdown",
      "metadata": {
        "id": "lEmuP_MmXCaW"
      },
      "source": [
        "## 第八回 記号演算\n",
        "\n",
        "Sympy(シンパイと読むそうです)はPythonで数式処理を行うライブラリです。数式処理とは、数式を数値になおさないままで展開していくことを指します。複雑な式を微積分したり、因数分解したり、解析解を求めるのを助けてくれます。Sympyはnumpyとは直接関係がありません。\n",
        "\n",
        "* [Sympy](https://colab.research.google.com/github/vitroid/PythonTutorials/blob/2021/2%20Advanced/080sympy.ipynb)"
      ]
    },
    {
      "cell_type": "markdown",
      "metadata": {
        "id": "u70ijltEZVE0"
      },
      "source": [
        "## 第九回 機械学習1\n",
        "\n",
        "いよいよ機械学習に入りますが、宿題を準備するのがかなり困難になってきました。(何か試そうにも、大量のサンプルデータが必要になるため)\n",
        "\n",
        "何か思いつけば宿題を出しますが、宿題がなければ、ひととおり自分で実行してみるだけで構いません。いろいろ計算過程での変数の値を表示したり、パラメータを調節したりして、結果がどう変わるかを試してみてください。また、質問や疑問があればこれまでと同じようにGoogle Driveで共有してもらえれば、応答します。\n",
        "\n",
        "* [機械学習](https://colab.research.google.com/github/vitroid/PythonTutorials/blob/2021/2%20Advanced/300機械学習.ipynb)\n",
        "* 教師あり学習\n",
        "  * 回帰\n",
        "    * [最小二乗法](https://colab.research.google.com/github/vitroid/PythonTutorials/blob/2021/2%20Advanced/310LinearRegression.ipynb)\n",
        "    * [多次元尺度法](https://colab.research.google.com/github/vitroid/PythonTutorials/blob/2021/2%20Advanced/312MDS.ipynb#scrollTo=FhWK69CNsI0I) (宿題あり)"
      ]
    },
    {
      "cell_type": "markdown",
      "metadata": {
        "id": "hbe1Vu22Qpl4"
      },
      "source": [
        "## 第10回 機械学習2\n",
        "\n",
        "![](https://i.gyazo.com/b2b978bca0ac945ca603825cf2cb2ec1.jpg)\n",
        "\n",
        "人間なら、4という文字を見れば4と読める。おなじことを機械にさせたい。画像の4を、ラベルとしての\"4\"につなげる「関数」$f(A)$を作りたい。それもできるだけ簡単に。\n",
        "\n",
        "* 教師あり学習\n",
        "  * クラス分類\n",
        "    * [決定木、ランダムフォレスト](https://colab.research.google.com/github/vitroid/PythonTutorials/blob/2021/2%20Advanced/320RandomForest.ipynb#scrollTo=pj1AJtX2pYlr) (宿題未定)\n",
        "    * [ニューラルネットワーク](https://colab.research.google.com/github/vitroid/PythonTutorials/blob/2021/2%20Advanced/322NeuralNet.ipynb) (宿題未定)\n",
        "\n",
        "今週は降参です。練習課題はありません。ディープニューラルネットワークに関する記事は、いまちまたにたくさんありますので、その中から、自分の研究テーマとつながりそうな記事を一つ選んで、要約し、具体的にどんな風に使えそうかをレポートしてもらえないでしょうか。(論文でなくても、日本語でも構いませんが、技術的な詳細がわかるものが良いです)"
      ]
    },
    {
      "cell_type": "markdown",
      "metadata": {
        "id": "hGzY_JN1QqhH"
      },
      "source": [
        "## 第11回 機械学習3\n",
        "\n",
        "今回も練習問題はありません。こんなことが、このぐらいのプログラムを書けばできる、というのを、以下のページで体験して下さい。\n",
        "\n",
        "* 教師なし学習\n",
        "  * [k-meansを用いた写真の減色](https://colab.research.google.com/github/vitroid/PythonTutorials/blob/2021/2%20Advanced/330Clustering.ipynb) (宿題未定)\n",
        "  * [ガウス混合モデル](https://colab.research.google.com/github/vitroid/PythonTutorials/blob/2021/2%20Advanced/332GaussianMixture.ipynb)\n",
        "  * [独立成分分析](https://colab.research.google.com/github/vitroid/PythonTutorials/blob/2021/2%20Advanced/342ICA.ipynb) (宿題未定)\n",
        "  * [IsoMapによる文字分類](https://colab.research.google.com/github/vitroid/PythonTutorials/blob/2021/2%20Advanced/340IsoMap.ipynb) (宿題未定)\n",
        "\n",
        "機械学習の手法は多岐に渡っています。Pythonの機械学習ライブラリである[Scikit-learnのページ](https://scikit-learn.org/stable/)には、こんな図が掲載されています。\n",
        "\n",
        "![Choosing the right estimator](https://scikit-learn.org/stable/_static/ml_map.png)\n",
        "\n",
        "自分の研究のデータを念頭にこのチャートをたどって、どんな風に使えるのかを考えてみて下さい。\n",
        "\n",
        "今年度の複雑系化学はここで終わります。試験などは実施しません。先回のレポートが最後の提出物となります。ここまでの課題で、未提出のものにもとりくんで下さい。\n"
      ]
    },
    {
      "cell_type": "markdown",
      "metadata": {
        "id": "xSWfthwDQrZi"
      },
      "source": [
        "## 第12回 機械学習4\n",
        "* 情報圧縮\n",
        "  * 次元削減\n",
        "  * 多様体学習\n",
        "  * 主成分分析\n"
      ]
    },
    {
      "cell_type": "markdown",
      "metadata": {
        "id": "4HePhdrybFSW"
      },
      "source": [
        "\n",
        "\n",
        "---\n",
        "以下、古いコンテンツです。\n",
        "\n",
        "## 番外\n",
        "\n",
        "* [OpenCV](https://colab.research.google.com/github/vitroid/PythonTutorials/blob/2020m0/2%20Advanced/120opencv.ipynb) OpenCVはcolabと相性が悪い(動画の処理が難しい)ので、今回はあきらめます。"
      ]
    },
    {
      "cell_type": "markdown",
      "metadata": {
        "id": "jmACXRkBrxR7"
      },
      "source": [
        "### Fortran77"
      ]
    },
    {
      "cell_type": "markdown",
      "metadata": {
        "id": "52RmX6zZrxSC"
      },
      "source": [
        "```fortran\n",
        "      real*8 function factorial(n)\n",
        "      integer n\n",
        "      integer i\n",
        "      real*8 result\n",
        "      result = 1.0d0\n",
        "      do 10 i=1,n\n",
        "        result = result * i\n",
        "   10 end do\n",
        "      factorial = result\n",
        "      end\n",
        "\n",
        "      program main     \n",
        "      real*8 x\n",
        "      real*8 factorial\n",
        "      x = factorial(100)\n",
        "      write(6,*) x\n",
        "      end\n",
        "```"
      ]
    },
    {
      "cell_type": "markdown",
      "metadata": {
        "id": "2l6NFGvurxSQ"
      },
      "source": [
        "### fortran90以降"
      ]
    },
    {
      "cell_type": "markdown",
      "metadata": {
        "id": "mnKRHjCzrxSW"
      },
      "source": [
        "```fortran\n",
        "real(kind=8) function factorial(n)\n",
        "  integer, intent(in) :: n\n",
        "  integer ::i\n",
        "  real(kind=8) :: result\n",
        "  result = 1.0d0\n",
        "  do i=1,n\n",
        "    result = result * i\n",
        "  end do\n",
        "  factorial = result\n",
        "end function factorial\n",
        "\n",
        "program main     \n",
        "  real(kind=8) :: x\n",
        "  real(kind=8) :: factorial\n",
        "  x = factorial(100)\n",
        "  write(6,*) x\n",
        "end program main\n",
        "```"
      ]
    },
    {
      "cell_type": "markdown",
      "metadata": {
        "id": "3o6vJTQ1rxSZ"
      },
      "source": [
        "### C言語、C++"
      ]
    },
    {
      "cell_type": "markdown",
      "metadata": {
        "id": "6tDf6kuDrxSb"
      },
      "source": [
        "```c\n",
        "double factorial(int n)\n",
        "{\n",
        "  int i;\n",
        "  double result = 1.0;\n",
        "  for(i=1; i<=n; i++){\n",
        "    result *= i;\n",
        "  }\n",
        "  return result;\n",
        "}\n",
        "\n",
        "int main(int argc, char *argv[]){\n",
        "  double x;\n",
        "  x = factorial(100);\n",
        "  printf(“%lf\\n”, x);\n",
        "}\n",
        "```"
      ]
    },
    {
      "cell_type": "markdown",
      "metadata": {
        "id": "OOlp484IrxSg"
      },
      "source": [
        "### C言語、再帰を使った定義"
      ]
    },
    {
      "cell_type": "markdown",
      "metadata": {
        "id": "qeEtTRR9rxSi"
      },
      "source": [
        "```c\n",
        "double factorial(int n)\n",
        "{\n",
        "  if (n == 0)\n",
        "    return 1;\n",
        "  return (double)n * factorial(n-1);\n",
        "}\n",
        "\n",
        "int main(int argc, char *argv[]){\n",
        "  double x;\n",
        "  x = factorial(100);\n",
        "  printf(“%lf\\n”, x);\n",
        "}\n",
        "```"
      ]
    },
    {
      "cell_type": "markdown",
      "metadata": {
        "id": "a2onJLgxrxSj"
      },
      "source": [
        "### LISP\n",
        "短いけど、かなり読みにくい。"
      ]
    },
    {
      "cell_type": "markdown",
      "metadata": {
        "id": "47h-dMI0rxSk"
      },
      "source": [
        "```lisp\n",
        "(define (factorial n)\n",
        "  (cond ((= n 0) 1)\n",
        "        (t (* n (factorial (- n 1))))))\n",
        "\n",
        "(factorial 100)\n",
        "```"
      ]
    },
    {
      "cell_type": "markdown",
      "metadata": {
        "id": "NrW-QWKNrxSm"
      },
      "source": [
        "### Python\n",
        "pythonのパラグラフはこの画面上で実行できます。▶︎を押してみて下さい。(初回だけ、クラウドへの接続と初期化の時間がかかります)"
      ]
    },
    {
      "cell_type": "code",
      "metadata": {
        "id": "nPNayeGorxSo"
      },
      "source": [
        "def factorial(n):\n",
        "    result = 1\n",
        "    for i in range(1,n+1):\n",
        "        result *= i\n",
        "    return result\n",
        "\n",
        "print(factorial(100))"
      ],
      "execution_count": null,
      "outputs": []
    },
    {
      "cell_type": "markdown",
      "metadata": {
        "id": "xz_Q6-5TrxTc"
      },
      "source": [
        "### Python, 再帰による定義"
      ]
    },
    {
      "cell_type": "code",
      "metadata": {
        "id": "54fP_6NyrxTd"
      },
      "source": [
        "def factorial(n):\n",
        "    if n == 0: return 1\n",
        "    return n*factorial(n-1)\n",
        "\n",
        "print(factorial(100))"
      ],
      "execution_count": null,
      "outputs": []
    },
    {
      "cell_type": "markdown",
      "metadata": {
        "id": "l1VZw8xzrxTm"
      },
      "source": [
        "### Python+Sympy"
      ]
    },
    {
      "cell_type": "code",
      "metadata": {
        "id": "hKSeisu1rxTn"
      },
      "source": [
        "import sympy\n",
        "print(sympy.factorial(100))"
      ],
      "execution_count": null,
      "outputs": []
    },
    {
      "cell_type": "markdown",
      "metadata": {
        "id": "EfFBXcKLrxT7"
      },
      "source": [
        "## Pythonとよく比較されるスクリプト言語との比較\n",
        "ここまで書いて、言語を比較できるサイトを見付けた: http://rosettacode.org/wiki/Factorial\n",
        "\n",
        "### Perl"
      ]
    },
    {
      "cell_type": "markdown",
      "metadata": {
        "id": "rNteUuPPrxT9"
      },
      "source": [
        "```perl\n",
        "sub factorial\n",
        "{\n",
        "  my $n = shift;\n",
        "  my $result = 1;\n",
        "  for (my $i = 1; $i <= $n; ++$i)\n",
        "  {\n",
        "    $result *= $i;\n",
        "  };\n",
        "  $result;\n",
        "}\n",
        "\n",
        "print factorial(100), “\\n”;\n",
        "```"
      ]
    },
    {
      "cell_type": "markdown",
      "metadata": {
        "id": "IF0Y5vYTrxT-"
      },
      "source": [
        "### Ruby"
      ]
    },
    {
      "cell_type": "markdown",
      "metadata": {
        "id": "5L1enzsTrxUA"
      },
      "source": [
        "```ruby\n",
        "def factorial(n)\n",
        "  (2 .. n - 1).each {|i| n *= i}\n",
        "  n\n",
        "end\n",
        "\n",
        "puts factorial(100) #??\n",
        "```"
      ]
    },
    {
      "cell_type": "markdown",
      "metadata": {
        "id": "-cXw_0IzrxUB"
      },
      "source": [
        "なお、pythonとRubyは多倍長整数が使えるので、答は\n",
        "\n",
        "```\n",
        "93326215443944152681699238856266700490715968264381621468592963895217599993229915608941463976156518286253697920827223758251185210916864000000000000000000000000\n",
        "```\n",
        "\n",
        "となる。\n",
        "\n",
        "同じことを書くのに、言語によって必要な行数がかなり違う。また、言語特有の謎の風習(“\\n”とかargcとか(6,\\*)とかreal\\*8とか|i|とか$iとか)はいちいちユーザーを困惑させる。C言語系の言語では”;”と”{}”がプログラムを読みにくくする。C言語はこれらの記号のおかげで、プログラムを改行せずに書くことができるのだが、実際誰もそんなことをしない(読みにくくなる)ので、これらの記号は無駄である。"
      ]
    },
    {
      "cell_type": "markdown",
      "metadata": {
        "jupyter": {
          "outputs_hidden": true
        },
        "id": "I48uGir1rxUG"
      },
      "source": [
        "```c\n",
        "double factorial(int n){int i;double \n",
        "                        result = 1.0;for(i=1 i<=n; i++){result *= i;}return\n",
        "result;}int\n",
        "main(int argc, char *argv[]){\n",
        "    double x;x = \n",
        "    factorial(100); \n",
        "                                        printf(“%lf\\n”, x);}\n",
        "```"
      ]
    },
    {
      "cell_type": "markdown",
      "metadata": {
        "id": "vRVvwBzSrxUG"
      },
      "source": [
        "Pythonistaに言わせれば、C言語のプログラムはこれで何も問題ない。(もちろんこれでも動く)"
      ]
    },
    {
      "cell_type": "code",
      "metadata": {
        "id": "xNTIqwLIrxUL"
      },
      "source": [
        ""
      ],
      "execution_count": null,
      "outputs": []
    }
  ]
}
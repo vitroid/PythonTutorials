{
  "nbformat": 4,
  "nbformat_minor": 0,
  "metadata": {
    "kernelspec": {
      "display_name": "Python 3",
      "language": "python",
      "name": "python3"
    },
    "language_info": {
      "codemirror_mode": {
        "name": "ipython",
        "version": 3
      },
      "file_extension": ".py",
      "mimetype": "text/x-python",
      "name": "python",
      "nbconvert_exporter": "python",
      "pygments_lexer": "ipython3",
      "version": "3.7.3"
    },
    "colab": {
      "name": "010Intro.ipynb",
      "provenance": [],
      "toc_visible": true,
      "include_colab_link": true
    }
  },
  "cells": [
    {
      "cell_type": "markdown",
      "metadata": {
        "id": "view-in-github",
        "colab_type": "text"
      },
      "source": [
        "<a href=\"https://colab.research.google.com/github/vitroid/PythonTutorials/blob/2020m0/2%20Advanced/011Intro2.ipynb\" target=\"_parent\"><img src=\"https://colab.research.google.com/assets/colab-badge.svg\" alt=\"Open In Colab\"/></a>"
      ]
    },
    {
      "cell_type": "markdown",
      "metadata": {
        "id": "XOEDRZ4tKZTV",
        "colab_type": "text"
      },
      "source": [
        "いまやPythonの使い道は多岐に渡っていて、すべてを把握するのは不可能です。正直言って、「できないことがない」ような気もします。例えば、Excelのファイルにアクセスし、一部を書換えるとか、wordに自動で作文を書くようなことすらも簡単にできてしまいます。\n",
        "\n",
        "この講義では、これらを横断的に使うための、基盤となる知識と、特に化学で使いそうな機能を紹介しようと考えています。\n",
        "\n",
        "受講者の研究でこんなことがしたいけど、Pythonが使えるのかな? と思っているなら、ぜひこのあとのアンケートに書いて下さい。\n",
        "\n",
        "1. https://colab.research.google.com/ にアクセスして下さい。\n",
        "2. ファイル選択画面が表示されます。ファイルリスト一番上の「Colaboratoryへようこそ」を選んで下さい。\n",
        "3. Colaboratoryとは何かの簡単な説明と、使用例が表示されます。Colaboratoryの特徴は\n",
        "  1. Pythonを実行するのに必要なすべてのものが準備されている。(最新のAI開発まで!)\n",
        "  2. 手許のコンピュータではなく、Googleのクラウド上にある高性能計算機で処理される。(最初の処理だけすこし時間がかかります)\n",
        "  3. 無料\n",
        "4. ページの下のほうにある、「Colaboratoryの概要」をひらいて、ざっと読んで基本的な操作を試して下さい。(DeepLをインストールしておくと、英語を読むのが格段に楽になります)\n",
        "5. その下の、「markdownのガイド」もざっと読んでおいて下さい。markdownというのは、ただのプレーンテキストに少し記号を書き加えるだけで、文書を整形表示する書き方のことです。colaboratoryのノートブックの中に文章を書く時に使います。\n",
        "\n",
        "以後、各回の内容を示します。\n",
        "* リンク先のcolabのページに移動し、文章を読み、サンプルのpythonコードを実行したり書換えたりしてみて下さい。\n",
        "* 最初の編集時には「Warning: This notebook was not authored by Google.」と表示されるかもしれませんが、気にせず実行(Run anyway)してください。\n",
        "* 編集したファイルをセーブすると、Google Driveに保存されます。GitHub上の原本には影響を与えません。\n",
        "\n",
        "## Reference\n",
        "\n",
        "* [github:vitroid/PythonTutorials](https://github.com/vitroid/PythonTutorials/tree/2020m0/2%20Advanced)"
      ]
    },
    {
      "cell_type": "markdown",
      "metadata": {
        "id": "vo9txMoHrxR2",
        "colab_type": "text"
      },
      "source": [
        "## 第二回 Pythonの基礎\n",
        "\n",
        "これらはPython固有の機能ではなく、ほかの近代的な言語でも搭載されている基本的な機能です。Python独特の世界に踏みこむ前に、まず知っておいて下さい。\n",
        "\n",
        "* [020リストの使い方](https://colab.research.google.com/github/vitroid/PythonTutorials/blob/2020m0/2%20Advanced/020リストの使い方.ipynb)\n",
        "* [辞書](https://colab.research.google.com/github/vitroid/PythonTutorials/blob/2020m0/2%20Advanced/021辞書.ipynb)\n",
        "* [集合](https://colab.research.google.com/github/vitroid/PythonTutorials/blob/2020m0/2%20Advanced/022集合.ipynb)\n",
        "* [関数](https://colab.research.google.com/github/vitroid/PythonTutorials/blob/2020m0/2%20Advanced/026関数.ipynb)\n"
      ]
    },
    {
      "cell_type": "markdown",
      "metadata": {
        "id": "eGYB4ZhiRNpd",
        "colab_type": "text"
      },
      "source": [
        "## 第三回 ライブラリの利用\n",
        "\n",
        "### 標準ライブラリ\n",
        "* [順列と組みあわせ](https://colab.research.google.com/github/vitroid/PythonTutorials/blob/2020m0/2%20Advanced/030順列と組み合わせ.ipynb)\n",
        "\n",
        "### 外部ライブラリ\n",
        "\n",
        "* 外部ライブラリだが、Colabにはあらかじめインストールされているライブラリの[リスト](https://colab.research.google.com/github/vitroid/PythonTutorials/blob/2020m0/2%20Advanced/900colab_modulelist.ipynb)\n",
        "* 外部ライブラリのcolabへのインストール方法は、必要に応じて説明します。\n",
        "\n",
        "### ファイル入出力\n",
        "\n",
        "* [Google Drive](https://colab.research.google.com/github/vitroid/PythonTutorials/blob/2020b3/1%20For%20beginners/5-5GoogleDriveOnColab.ipynb) Google colabはGoogleのクラウド上で計算処理をするので、てもとにあるファイルを利用するにはすこし手間がかかります。そこで、同じくGoogleのクラウドサービスである、Google Driveを利用し、てもとのファイルとクラウド上のファイルを自動的に同期させて使ってみます。\n",
        "* [ファイル入出力](https://colab.research.google.com/github/vitroid/PythonTutorials/blob/2020m0/2%20Advanced/024ファイル入出力.ipynb)\n",
        "\n",
        "### 前回の解答例\n",
        "* [順列と組み合わせ](https://colab.research.google.com/github/vitroid/PythonTutorials/blob/2020m0/2%20Advanced/解答例/030順列組み合わせ.ipynb)\n"
      ]
    },
    {
      "cell_type": "markdown",
      "metadata": {
        "id": "iRPilesRTeuS",
        "colab_type": "text"
      },
      "source": [
        "## 第四回 numpyの基本\n",
        "\n",
        "numpy(ナンパイと読むそうです)は、多次元配列を扱う外部ライブラリで、科学技術計算をPythonで行う場合に必須です。機械学習や画像処理などの多数のライブラリの中核部分がnumpyを利用する前提で作られており、現在のPythonの興隆はnumpyのおかげといっても過言ではないでしょう。\n",
        "\n",
        "* [050numpy](https://colab.research.google.com/github/vitroid/PythonTutorials/blob/2020m0/2%20Advanced/050numpy.ipynb)\n"
      ]
    },
    {
      "cell_type": "markdown",
      "metadata": {
        "id": "HijjFLVYTu3m",
        "colab_type": "text"
      },
      "source": [
        "## 第五回 プロット\n",
        "\n",
        "自分の考えをほかの人に伝えるのにも、自分自身が理解するためにも、可視化はとても有効です。\n",
        "\n",
        "* [Plotting](https://colab.research.google.com/github/vitroid/PythonTutorials/blob/2020m0/2%20Advanced/060MatPlotLib.ipynb)"
      ]
    },
    {
      "cell_type": "markdown",
      "metadata": {
        "id": "WH4bNPxZU68n",
        "colab_type": "text"
      },
      "source": [
        "## 第六回 信号処理\n",
        "\n",
        "numpyの応用事例としての、音響解析。\n",
        "\n",
        "* [070Audio](https://colab.research.google.com/github/vitroid/PythonTutorials/blob/2020m0/2%20Advanced/070Audio_rev2.ipynb)"
      ]
    },
    {
      "cell_type": "markdown",
      "metadata": {
        "id": "jHR7v2oUV3OW",
        "colab_type": "text"
      },
      "source": [
        "## 第七回 グラフ理論\n",
        "\n",
        "化学はいろんなネットワークを扱う学問です。化学反応ネットワーク、有機分子骨格、結晶構造、クラスター、信号ネットワーク、あるいは実験操作の自動化や多人数での共同研究のスケジュール調整までがネットワークであらわせますが、化学の講義で習うことはほとんどありません。グラフ理論はネットワークのつながりを扱う扱う数学です。ここではグラフ理論そのものについてはあまり深いりしませんが、グラフ理論の入門書はだいたいどれもパズル本のようで面白く、数式も少ないので読みやすいので、一冊読んでおくといつか役に立つと思います。\n",
        "\n",
        "* [グラフ理論](https://colab.research.google.com/github/vitroid/PythonTutorials/blob/2020m0/2%20Advanced/090Graph.ipynb)"
      ]
    },
    {
      "cell_type": "markdown",
      "metadata": {
        "id": "lEmuP_MmXCaW",
        "colab_type": "text"
      },
      "source": [
        "## 第八回 記号演算\n",
        "\n",
        "Sympy(シンパイと読むそうです)はPythonで数式処理を行うライブラリです。数式処理とは、数式を数値になおさないままで展開していくことを指します。複雑な式を微積分したり、因数分解したり、解析解を求めるのを助けてくれます。Sympyはnumpyとは直接関係がありません。\n",
        "\n",
        "* [Sympy](https://colab.research.google.com/github/vitroid/PythonTutorials/blob/2020m0/2%20Advanced/080sympy.ipynb)"
      ]
    },
    {
      "cell_type": "markdown",
      "metadata": {
        "id": "u70ijltEZVE0",
        "colab_type": "text"
      },
      "source": [
        "## 第九回 機械学習1\n",
        "\n",
        "いよいよ機械学習に入りますが、宿題を準備するのがかなり困難になってきました。(何か試そうにも、大量のサンプルデータが必要になるため)\n",
        "\n",
        "何か思いつけば宿題を出しますが、宿題がなければ、ひととおり自分で実行してみるだけで構いません。いろいろ計算過程での変数の値を表示したり、パラメータを調節したりして、結果がどう変わるかを試してみてください。また、質問や疑問があればこれまでと同じようにGoogle Driveで共有してもらえれば、応答します。\n",
        "\n",
        "* [機械学習](https://colab.research.google.com/github/vitroid/PythonTutorials/blob/2020m0/2%20Advanced/300機械学習.ipynb)\n",
        "* 教師あり学習\n",
        "  * 回帰\n",
        "    * [最小二乗法](https://colab.research.google.com/github/vitroid/PythonTutorials/blob/2020m0/2%20Advanced/310LinearRegression.ipynb)\n",
        "    * [多次元尺度法](https://colab.research.google.com/github/vitroid/PythonTutorials/blob/2020m0/2%20Advanced/312MDS.ipynb#scrollTo=FhWK69CNsI0I) (宿題あり)"
      ]
    },
    {
      "cell_type": "markdown",
      "metadata": {
        "id": "hbe1Vu22Qpl4",
        "colab_type": "text"
      },
      "source": [
        "## 第10回 機械学習2\n",
        "\n",
        "![](https://i.gyazo.com/b2b978bca0ac945ca603825cf2cb2ec1.jpg)\n",
        "\n",
        "人間なら、4という文字を見れば4と読める。おなじことを機械にさせたい。画像の4を、ラベルとしての\"4\"につなげる「関数」$f(A)$を作りたい。それもできるだけ簡単に。\n",
        "\n",
        "* 教師あり学習\n",
        "  * クラス分類\n",
        "    * [決定木、ランダムフォレスト](https://colab.research.google.com/github/vitroid/PythonTutorials/blob/2020m0/2%20Advanced/320RandomForest.ipynb#scrollTo=pj1AJtX2pYlr) (宿題未定)\n",
        "    * [ニューラルネットワーク](https://colab.research.google.com/github/vitroid/PythonTutorials/blob/2020m0/2%20Advanced/322NeuralNet.ipynb) (宿題未定)\n",
        "\n",
        "今週は降参です。練習課題はありません。ディープニューラルネットワークに関する記事は、いまちまたにたくさんありますので、その中から、自分の研究テーマとつながりそうな記事を一つ選んで、要約し、具体的にどんな風に使えそうかをレポートしてもらえないでしょうか。(論文でなくても、日本語でも構いませんが、技術的な詳細がわかるものが良いです)"
      ]
    },
    {
      "cell_type": "markdown",
      "metadata": {
        "id": "hGzY_JN1QqhH",
        "colab_type": "text"
      },
      "source": [
        "## 第11回 機械学習3\n",
        "\n",
        "今回も練習問題はありません。こんなことが、このぐらいのプログラムを書けばできる、というのを、以下のページで体験して下さい。\n",
        "\n",
        "* 教師なし学習\n",
        "  * [k-meansを用いた写真の減色](https://colab.research.google.com/github/vitroid/PythonTutorials/blob/2020m0/2%20Advanced/330Clustering.ipynb) (宿題未定)\n",
        "  * [ガウス混合モデル](https://colab.research.google.com/github/vitroid/PythonTutorials/blob/2020m0/2%20Advanced/332GaussianMixture.ipynb)\n",
        "  * [独立成分分析](https://colab.research.google.com/github/vitroid/PythonTutorials/blob/2020m0/2%20Advanced/342ICA.ipynb) (宿題未定)\n",
        "  * [IsoMapによる文字分類](https://colab.research.google.com/github/vitroid/PythonTutorials/blob/2020m0/2%20Advanced/340IsoMap.ipynb) (宿題未定)\n",
        "\n",
        "機械学習の手法は多岐に渡っています。Pythonの機械学習ライブラリである[Scikit-learnのページ](https://scikit-learn.org/stable/)には、こんな図が掲載されています。\n",
        "\n",
        "![Choosing the right estimator](https://scikit-learn.org/stable/_static/ml_map.png)\n",
        "\n",
        "自分の研究のデータを念頭にこのチャートをたどって、どんな風に使えるのかを考えてみて下さい。\n",
        "\n",
        "今年度の複雑系化学はここで終わります。試験などは実施しません。先回のレポートが最後の提出物となります。ここまでの課題で、未提出のものにもとりくんで下さい。\n"
      ]
    },
    {
      "cell_type": "markdown",
      "metadata": {
        "id": "xSWfthwDQrZi",
        "colab_type": "text"
      },
      "source": [
        "## 第12回 機械学習4\n",
        "* 情報圧縮\n",
        "  * 次元削減\n",
        "  * 多様体学習\n",
        "  * 主成分分析\n"
      ]
    },
    {
      "cell_type": "markdown",
      "metadata": {
        "id": "4HePhdrybFSW",
        "colab_type": "text"
      },
      "source": [
        "\n",
        "\n",
        "---\n",
        "以下、古いコンテンツです。\n",
        "\n",
        "## 番外\n",
        "\n",
        "* [OpenCV](https://colab.research.google.com/github/vitroid/PythonTutorials/blob/2020m0/2%20Advanced/120opencv.ipynb) OpenCVはcolabと相性が悪い(動画の処理が難しい)ので、今回はあきらめます。"
      ]
    },
    {
      "cell_type": "markdown",
      "metadata": {
        "id": "jmACXRkBrxR7",
        "colab_type": "text"
      },
      "source": [
        "### Fortran77"
      ]
    },
    {
      "cell_type": "markdown",
      "metadata": {
        "id": "52RmX6zZrxSC",
        "colab_type": "text"
      },
      "source": [
        "```fortran\n",
        "      real*8 function factorial(n)\n",
        "      integer n\n",
        "      integer i\n",
        "      real*8 result\n",
        "      result = 1.0d0\n",
        "      do 10 i=1,n\n",
        "        result = result * i\n",
        "   10 end do\n",
        "      factorial = result\n",
        "      end\n",
        "\n",
        "      program main     \n",
        "      real*8 x\n",
        "      real*8 factorial\n",
        "      x = factorial(100)\n",
        "      write(6,*) x\n",
        "      end\n",
        "```"
      ]
    },
    {
      "cell_type": "markdown",
      "metadata": {
        "id": "2l6NFGvurxSQ",
        "colab_type": "text"
      },
      "source": [
        "### fortran90以降"
      ]
    },
    {
      "cell_type": "markdown",
      "metadata": {
        "id": "mnKRHjCzrxSW",
        "colab_type": "text"
      },
      "source": [
        "```fortran\n",
        "real(kind=8) function factorial(n)\n",
        "  integer, intent(in) :: n\n",
        "  integer ::i\n",
        "  real(kind=8) :: result\n",
        "  result = 1.0d0\n",
        "  do i=1,n\n",
        "    result = result * i\n",
        "  end do\n",
        "  factorial = result\n",
        "end function factorial\n",
        "\n",
        "program main     \n",
        "  real(kind=8) :: x\n",
        "  real(kind=8) :: factorial\n",
        "  x = factorial(100)\n",
        "  write(6,*) x\n",
        "end program main\n",
        "```"
      ]
    },
    {
      "cell_type": "markdown",
      "metadata": {
        "id": "3o6vJTQ1rxSZ",
        "colab_type": "text"
      },
      "source": [
        "### C言語、C++"
      ]
    },
    {
      "cell_type": "markdown",
      "metadata": {
        "id": "6tDf6kuDrxSb",
        "colab_type": "text"
      },
      "source": [
        "```c\n",
        "double factorial(int n)\n",
        "{\n",
        "  int i;\n",
        "  double result = 1.0;\n",
        "  for(i=1; i<=n; i++){\n",
        "    result *= i;\n",
        "  }\n",
        "  return result;\n",
        "}\n",
        "\n",
        "int main(int argc, char *argv[]){\n",
        "  double x;\n",
        "  x = factorial(100);\n",
        "  printf(“%lf\\n”, x);\n",
        "}\n",
        "```"
      ]
    },
    {
      "cell_type": "markdown",
      "metadata": {
        "id": "OOlp484IrxSg",
        "colab_type": "text"
      },
      "source": [
        "### C言語、再帰を使った定義"
      ]
    },
    {
      "cell_type": "markdown",
      "metadata": {
        "id": "qeEtTRR9rxSi",
        "colab_type": "text"
      },
      "source": [
        "```c\n",
        "double factorial(int n)\n",
        "{\n",
        "  if (n == 0)\n",
        "    return 1;\n",
        "  return (double)n * factorial(n-1);\n",
        "}\n",
        "\n",
        "int main(int argc, char *argv[]){\n",
        "  double x;\n",
        "  x = factorial(100);\n",
        "  printf(“%lf\\n”, x);\n",
        "}\n",
        "```"
      ]
    },
    {
      "cell_type": "markdown",
      "metadata": {
        "id": "a2onJLgxrxSj",
        "colab_type": "text"
      },
      "source": [
        "### LISP\n",
        "短いけど、かなり読みにくい。"
      ]
    },
    {
      "cell_type": "markdown",
      "metadata": {
        "id": "47h-dMI0rxSk",
        "colab_type": "text"
      },
      "source": [
        "```lisp\n",
        "(define (factorial n)\n",
        "  (cond ((= n 0) 1)\n",
        "        (t (* n (factorial (- n 1))))))\n",
        "\n",
        "(factorial 100)\n",
        "```"
      ]
    },
    {
      "cell_type": "markdown",
      "metadata": {
        "id": "NrW-QWKNrxSm",
        "colab_type": "text"
      },
      "source": [
        "### Python\n",
        "pythonのパラグラフはこの画面上で実行できます。▶︎を押してみて下さい。(初回だけ、クラウドへの接続と初期化の時間がかかります)"
      ]
    },
    {
      "cell_type": "code",
      "metadata": {
        "id": "nPNayeGorxSo",
        "colab_type": "code",
        "colab": {}
      },
      "source": [
        "def factorial(n):\n",
        "    result = 1\n",
        "    for i in range(1,n+1):\n",
        "        result *= i\n",
        "    return result\n",
        "\n",
        "print(factorial(100))"
      ],
      "execution_count": null,
      "outputs": []
    },
    {
      "cell_type": "markdown",
      "metadata": {
        "id": "xz_Q6-5TrxTc",
        "colab_type": "text"
      },
      "source": [
        "### Python, 再帰による定義"
      ]
    },
    {
      "cell_type": "code",
      "metadata": {
        "id": "54fP_6NyrxTd",
        "colab_type": "code",
        "colab": {}
      },
      "source": [
        "def factorial(n):\n",
        "    if n == 0: return 1\n",
        "    return n*factorial(n-1)\n",
        "\n",
        "print(factorial(100))"
      ],
      "execution_count": null,
      "outputs": []
    },
    {
      "cell_type": "markdown",
      "metadata": {
        "id": "l1VZw8xzrxTm",
        "colab_type": "text"
      },
      "source": [
        "### Python+Sympy"
      ]
    },
    {
      "cell_type": "code",
      "metadata": {
        "id": "hKSeisu1rxTn",
        "colab_type": "code",
        "colab": {}
      },
      "source": [
        "import sympy\n",
        "print(sympy.factorial(100))"
      ],
      "execution_count": null,
      "outputs": []
    },
    {
      "cell_type": "markdown",
      "metadata": {
        "id": "EfFBXcKLrxT7",
        "colab_type": "text"
      },
      "source": [
        "## Pythonとよく比較されるスクリプト言語との比較\n",
        "ここまで書いて、言語を比較できるサイトを見付けた: http://rosettacode.org/wiki/Factorial\n",
        "\n",
        "### Perl"
      ]
    },
    {
      "cell_type": "markdown",
      "metadata": {
        "id": "rNteUuPPrxT9",
        "colab_type": "text"
      },
      "source": [
        "```perl\n",
        "sub factorial\n",
        "{\n",
        "  my $n = shift;\n",
        "  my $result = 1;\n",
        "  for (my $i = 1; $i <= $n; ++$i)\n",
        "  {\n",
        "    $result *= $i;\n",
        "  };\n",
        "  $result;\n",
        "}\n",
        "\n",
        "print factorial(100), “\\n”;\n",
        "```"
      ]
    },
    {
      "cell_type": "markdown",
      "metadata": {
        "id": "IF0Y5vYTrxT-",
        "colab_type": "text"
      },
      "source": [
        "### Ruby"
      ]
    },
    {
      "cell_type": "markdown",
      "metadata": {
        "id": "5L1enzsTrxUA",
        "colab_type": "text"
      },
      "source": [
        "```ruby\n",
        "def factorial(n)\n",
        "  (2 .. n - 1).each {|i| n *= i}\n",
        "  n\n",
        "end\n",
        "\n",
        "puts factorial(100) #??\n",
        "```"
      ]
    },
    {
      "cell_type": "markdown",
      "metadata": {
        "id": "-cXw_0IzrxUB",
        "colab_type": "text"
      },
      "source": [
        "なお、pythonとRubyは多倍長整数が使えるので、答は\n",
        "\n",
        "```\n",
        "93326215443944152681699238856266700490715968264381621468592963895217599993229915608941463976156518286253697920827223758251185210916864000000000000000000000000\n",
        "```\n",
        "\n",
        "となる。\n",
        "\n",
        "同じことを書くのに、言語によって必要な行数がかなり違う。また、言語特有の謎の風習(“\\n”とかargcとか(6,\\*)とかreal\\*8とか|i|とか$iとか)はいちいちユーザーを困惑させる。C言語系の言語では”;”と”{}”がプログラムを読みにくくする。C言語はこれらの記号のおかげで、プログラムを改行せずに書くことができるのだが、実際誰もそんなことをしない(読みにくくなる)ので、これらの記号は無駄である。"
      ]
    },
    {
      "cell_type": "markdown",
      "metadata": {
        "jupyter": {
          "outputs_hidden": true
        },
        "id": "I48uGir1rxUG",
        "colab_type": "text"
      },
      "source": [
        "```c\n",
        "double factorial(int n){int i;double \n",
        "                        result = 1.0;for(i=1 i<=n; i++){result *= i;}return\n",
        "result;}int\n",
        "main(int argc, char *argv[]){\n",
        "    double x;x = \n",
        "    factorial(100); \n",
        "                                        printf(“%lf\\n”, x);}\n",
        "```"
      ]
    },
    {
      "cell_type": "markdown",
      "metadata": {
        "id": "vRVvwBzSrxUG",
        "colab_type": "text"
      },
      "source": [
        "Pythonistaに言わせれば、C言語のプログラムはこれで何も問題ない。(もちろんこれでも動く)"
      ]
    },
    {
      "cell_type": "markdown",
      "metadata": {
        "jupyter": {
          "outputs_hidden": true
        },
        "id": "WFmLisourxUH",
        "colab_type": "text"
      },
      "source": [
        "```c\n",
        "double factorial(int n)                             {\n",
        "    int i                                           ;\n",
        "    double result = 1.0                             ;\n",
        "    for(i=1; i<=n; i++)                             {\n",
        "        result *= i                                 ;}\n",
        "    return result                                   ;}\n",
        "\n",
        "int main(int argc, char *argv[])                    {\n",
        "    double x                                        ;\n",
        "    x = factorial(100)                              ;\n",
        "    printf(“%lf\\n”, x)                              ;}\n",
        "```"
      ]
    },
    {
      "cell_type": "markdown",
      "metadata": {
        "id": "VGw7qEo8rxUI",
        "colab_type": "text"
      },
      "source": [
        "## 書き方の多様性が小さい\n",
        "おなじことをするのに、書く方法がいろいろあることは、プログラマー自身にとっては便利な面もある一方、他人のコードを読む場合には苦労させられる。プログラムはできるだけ一見して誰でも理解できる形が望ましい。\n",
        "\n",
        "例えばPerl言語では条件分岐にifとunlessとswitchがあり、繰り返し構文にはforとwhileとforeachとuntilとdo whileがあるが、Pythonには前者はifのみ、後者はforとwhileしかない。\n",
        "\n",
        "for構文は、あらかじめ繰り返し回数がわかっている場合に用い、while構文は繰り返しの途中で中断するかどうかを随時判断する。\n",
        "\n",
        "## あらかじめ準備されている変数の型が多い\n",
        "\n",
        "Fortran77には4つの型しかなかった。(論理型、整数型、実数型、文字列型)その後の多くの言語では、変数の型を自分で定義できるものの、高速に動作するように、型を安全に定義するのは多少の知識とノウハウが必要である。Pythonでは、上記4つの型はもとより、プログラムでよく使う新しい型(集合、辞書、複素数、多倍長整数など)があらかじめ定義されている。\n",
        "\n",
        "## メモリ管理が楽\n",
        "\n",
        "古典的な言語(Fortran, C, C++)では、可変長の配列を使う場合にはメモリの確保と開放を明示的に行わなければならない。開放すべきメモリを開放しなかった場合、そのメモリはプログラムが終了するまで占有されたままになり、いわゆるメモリリーク(不必要にメモリを占有しつづけることによってプログラムが遅くなったり、メモリを食いつくしプログラムが異常終了する)が生じる。やっかいなのは、プログラムの一部分を見ただけでは、その変数が開放を必要とする変数かどうかがわからないことである。動的に確保されるメモリであっても、スタック変数の場合は開放が要らないなど、メモリの利用方法を熟知していないと、安全なプログラムが書けない。\n",
        "\n",
        "PythonやPerlなどのスクリプト言語では、メモリ管理はユーザーの仕事ではない。メモリは必要に応じて自動的に確保され、使われなくなったメモリは自動的に開放される。ユーザーはアルゴリズムの開発に専念できる。\n",
        "\n",
        "以上のPython言語の特徴のため、Pythonのプログラムは非常に簡潔になり、プログラマーはアルゴリズムの本質的な部分だけに意識を集中できる。"
      ]
    },
    {
      "cell_type": "markdown",
      "metadata": {
        "id": "OQUPOkPcrxUJ",
        "colab_type": "text"
      },
      "source": [
        "## Pythonのおさらい\n",
        "最初にプログラミングを経験する言語として、Pythonは非常な人気を集めつつある。そのおかげで、オンライン教材の種類がふえ、さらに入門を容易にしている。Pythonを一度書いたことがある人も、よりしっかりと理解するために、これらの教材を一度試してみてほしい。\n",
        "\n",
        "https://www.datacamp.com/home のLEARN: Introduction to PythonのChapter 1: Basicsを試してみて下さい。"
      ]
    },
    {
      "cell_type": "code",
      "metadata": {
        "id": "xNTIqwLIrxUL",
        "colab_type": "code",
        "colab": {}
      },
      "source": [
        ""
      ],
      "execution_count": null,
      "outputs": []
    }
  ]
}
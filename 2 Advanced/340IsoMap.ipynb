{
  "nbformat": 4,
  "nbformat_minor": 0,
  "metadata": {
    "kernelspec": {
      "display_name": "Python 3",
      "language": "python",
      "name": "python3"
    },
    "language_info": {
      "codemirror_mode": {
        "name": "ipython",
        "version": 3
      },
      "file_extension": ".py",
      "mimetype": "text/x-python",
      "name": "python",
      "nbconvert_exporter": "python",
      "pygments_lexer": "ipython3",
      "version": "3.7.3"
    },
    "colab": {
      "name": "340IsoMap.ipynb",
      "provenance": [],
      "include_colab_link": true
    }
  },
  "cells": [
    {
      "cell_type": "markdown",
      "metadata": {
        "id": "view-in-github",
        "colab_type": "text"
      },
      "source": [
        "<a href=\"https://colab.research.google.com/github/vitroid/PythonTutorials/blob/master/2%20Advanced/340IsoMap.ipynb\" target=\"_parent\"><img src=\"https://colab.research.google.com/assets/colab-badge.svg\" alt=\"Open In Colab\"/></a>"
      ]
    },
    {
      "cell_type": "markdown",
      "metadata": {
        "id": "UmkFxVebC7M4"
      },
      "source": [
        "## 機械学習の例\n",
        "### 教師なし学習の例\n",
        "0〜4の5種類の文字を、ヒントなしに機械的に分類させる。それぞれの手書き文字の画像は、8x8=64ピクセルの濃淡でできているので、64次元のベクトルとみなせる。これを、多様体学習と呼ばれる手法を用い、2次元に落としこむ。コンピュータはこのデータが5種類の数字でできていることは知らない。64次元空間で近い点(似た画像)は、2次元空間でも近くなるように、射影される。(実際の計算時間は瞬時)"
      ]
    },
    {
      "cell_type": "code",
      "metadata": {
        "scrolled": true,
        "id": "UPQO_udWC7M6"
      },
      "source": [
        "import matplotlib.pyplot as plt\n",
        "from sklearn.datasets import load_digits\n",
        "\n",
        "# 画像データの読みこみ\n",
        "digits = load_digits(n_class=5)\n",
        "\n",
        "# 画像データの表示\n",
        "fig, ax = plt.subplots(8, 8, figsize=(6, 6))\n",
        "for i, axi in enumerate(ax.flat):\n",
        "    axi.imshow(digits.images[i], cmap='binary')\n",
        "    axi.set(xticks=[], yticks=[])"
      ],
      "execution_count": null,
      "outputs": []
    },
    {
      "cell_type": "code",
      "source": [
        "# データの構造を見ておく。\n",
        "digits, digits.images.shape"
      ],
      "metadata": {
        "id": "GlbOx5v-RbRQ"
      },
      "execution_count": null,
      "outputs": []
    },
    {
      "cell_type": "markdown",
      "source": [
        "プログラムをざっと見てわかるように、パラメータとして、何種類の文字が含まれているかは教えていないし、個々の文字の正解(教師データ)も与えていない。しかし、IsoMapは自発的に文字の類似性を「発見」し、クラスターに分ける。"
      ],
      "metadata": {
        "id": "51XRUuMDY0Cc"
      }
    },
    {
      "cell_type": "code",
      "metadata": {
        "id": "NCRlRvdwC7ND"
      },
      "source": [
        "# IsoMap (多様体学習の一手法； 次元を削減し、データの構造を明らかにする)\n",
        "from sklearn.manifold import Isomap\n",
        "iso = Isomap(n_components=2)\n",
        "projection = iso.fit_transform(digits.data)\n",
        "\n",
        "# 結果の描画\n",
        "plt.scatter(projection[:, 0], projection[:, 1], lw=0.1,\n",
        "           c='black')"
      ],
      "execution_count": null,
      "outputs": []
    },
    {
      "cell_type": "markdown",
      "metadata": {
        "id": "0kRuaWkaC7NK"
      },
      "source": [
        "それぞれの画像がどの数字を示しているかという情報もデータに含まれているが、コンピュータはそれを使わずにマッピングを行った。"
      ]
    },
    {
      "cell_type": "markdown",
      "metadata": {
        "id": "F_jXy9QAC7NL"
      },
      "source": [
        "\n",
        "どこに境界線を引くべきかは、Kmeansを使えば決められるだろう。ただし、その場合、5つのグループしか見付けられないかもしれない。\n",
        "\n",
        "上の結果に対し、文字の種類ごとに異なる色を彩色してやると、6種類の文字が異なる島に分かれている=識別されていることがわかる。\n",
        "\n"
      ]
    },
    {
      "cell_type": "code",
      "metadata": {
        "id": "QIwwDV-bC7NM"
      },
      "source": [
        "# 文字の種類ごとに異なる色を付けて描画\n",
        "plt.scatter(projection[:, 0], projection[:, 1], lw=0.1,\n",
        "           c=digits.target, cmap=plt.cm.get_cmap('jet', 5))\n",
        "plt.colorbar(ticks=range(5), label='digit value')\n",
        "plt.clim(-0.5, 4.5)"
      ],
      "execution_count": null,
      "outputs": []
    },
    {
      "cell_type": "markdown",
      "source": [
        "試しに、以前NNの学習に利用した、28x28の文字データでもやってみよう。"
      ],
      "metadata": {
        "id": "4aaLAEUeQBD0"
      }
    },
    {
      "cell_type": "code",
      "source": [
        "import matplotlib.pyplot as plt\n",
        "# from sklearn.datasets import load_digits\n",
        "from keras.datasets import mnist\n",
        "\n",
        "# the data, shuffled and split between train and test sets\n",
        "(x_train, y_train), (x_test, y_test) = mnist.load_data()\n",
        "\n",
        "# 画像データの表示\n",
        "fig, ax = plt.subplots(8, 8, figsize=(6, 6))\n",
        "for i, axi in enumerate(ax.flat):\n",
        "    axi.imshow(x_train[i], cmap='binary')\n",
        "    axi.set(xticks=[], yticks=[])"
      ],
      "metadata": {
        "id": "I_wfY2HrQMIZ"
      },
      "execution_count": null,
      "outputs": []
    },
    {
      "cell_type": "code",
      "source": [
        "# データの構造は?\n",
        "x_train.shape"
      ],
      "metadata": {
        "id": "qrpMw7HHRm9b"
      },
      "execution_count": null,
      "outputs": []
    },
    {
      "cell_type": "markdown",
      "source": [
        "データセットが大きすぎるので、5000個だけ使う。"
      ],
      "metadata": {
        "id": "2K_yHJ-2WTS9"
      }
    },
    {
      "cell_type": "code",
      "source": [
        "# 5000個の576次元ベクトル\n",
        "vectors = x_train.reshape(-1, 28*28)[:5000]\n",
        "# 5000個の答 (文字)\n",
        "answers = y_train[:5000]"
      ],
      "metadata": {
        "id": "lgRU2okuWbKl"
      },
      "execution_count": null,
      "outputs": []
    },
    {
      "cell_type": "code",
      "source": [
        "# IsoMap (多様体学習の一手法； 次元を削減し、データの構造を明らかにする)\n",
        "from sklearn.manifold import Isomap\n",
        "\n",
        "# 2次元では重なってよくわからないので3次元にする。\n",
        "iso = Isomap(n_components=3)\n",
        "projection = iso.fit_transform(vectors)\n"
      ],
      "metadata": {
        "id": "G0XMmuFFRKJL"
      },
      "execution_count": null,
      "outputs": []
    },
    {
      "cell_type": "markdown",
      "source": [
        "pyplotで3次元散布図にし、それに本来の文字の分類を色としてのせる。"
      ],
      "metadata": {
        "id": "UuJTVzFnW_NH"
      }
    },
    {
      "cell_type": "code",
      "source": [
        "import plotly.graph_objs as go\n",
        "import plotly.express as px\n",
        "\n",
        "trace=dict(type='scatter3d',\n",
        "           x= projection[:,0],\n",
        "           y= projection[:,1],\n",
        "           z= projection[:,2],\n",
        "           mode='markers',\n",
        "           marker=dict(color=answers,\n",
        "                       colorscale='rainbow',\n",
        "                       size=3)\n",
        "          )\n",
        "fig = go.Figure(data=trace)\n",
        "fig.update_layout(scene = dict(\n",
        "                    xaxis_title='R',\n",
        "                    yaxis_title='G',\n",
        "                    zaxis_title='B'))\n",
        "fig.show()"
      ],
      "metadata": {
        "id": "Lzbj-bCAS3KR"
      },
      "execution_count": null,
      "outputs": []
    },
    {
      "cell_type": "markdown",
      "source": [
        "さすがに、画像が大きくなってくると、3次元への射影でも十分に分離できなくなってくる。"
      ],
      "metadata": {
        "id": "ekr7NOgWYgh_"
      }
    },
    {
      "cell_type": "markdown",
      "metadata": {
        "id": "qMnZxeMtC7NR"
      },
      "source": [
        "ひとたびこのようなテリトリーの地図が得られると、未知の手書き文字を同じようにこの地図にのせることで、それがどの文字に一番近いかを「認識」できるようになる。\n",
        "\n",
        "この例では、教師データは与えず、検証にしか利用していない。先験的な知識なしに、プログラムが文字をその形だけで分類できることを示している。\n",
        "\n",
        "コンピュータにいろんな国の言葉を聞かせ、それがどの言語かを教えてやれば、言語の特徴を学習して、それがどの言語かを言いあてることができるようになる。(教師あり学習)\n",
        "\n",
        "それに対し、コンピュータに何も教えないで、ただ類似性だけで分類させる(教師なし学習)ことができれば、ある言語が別の言語と近いか遠いかを見分けられるようになるかもしれない。例えば、名古屋弁と岡山弁は実は似ていた、といった新しい発見をもたらすかもしれない。人間のまねをさせるだけなら教師あり学習が有用だが、分析を行う人にとっては教師なし学習のほうが魅力的に見える。"
      ]
    },
    {
      "cell_type": "markdown",
      "metadata": {
        "id": "m7xcLpsiC7NS"
      },
      "source": [
        "## 参考資料\n",
        "\n",
        "* Pythonデータサイエンスハンドブック\n",
        "* パターン認識と機械学習"
      ]
    }
  ]
}
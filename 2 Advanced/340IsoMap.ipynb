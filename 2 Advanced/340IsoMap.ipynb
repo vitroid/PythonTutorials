{
 "cells": [
  {
   "cell_type": "markdown",
   "metadata": {},
   "source": [
    "## 機械学習の例\n",
    "### 教師なし学習の例\n",
    "それぞれの手書き文字の画像は、8x8=64ピクセルの濃淡でできているので、64次元のベクトルとみなせる。これを、多様体学習と呼ばれる手法を用い、2次元に落としこむ。コンピュータはこのデータが6種類の数字でできていることは知らない。64次元空間で近い点(似た画像)は、2次元空間でも近くなるように、射影される。(実際の計算時間は瞬時)\n",
    "\n",
    "やっている内容はMDSとほぼ同じ。"
   ]
  },
  {
   "cell_type": "code",
   "execution_count": null,
   "metadata": {
    "scrolled": true
   },
   "outputs": [],
   "source": [
    "%%time\n",
    "%matplotlib inline\n",
    "\n",
    "import matplotlib.pyplot as plt\n",
    "from sklearn.datasets import load_digits\n",
    "\n",
    "# 画像データの読みこみ\n",
    "digits = load_digits(n_class=6)\n",
    "\n",
    "# 画像データの表示\n",
    "fig, ax = plt.subplots(8, 8, figsize=(6, 6))\n",
    "for i, axi in enumerate(ax.flat):\n",
    "    axi.imshow(digits.images[i], cmap='binary')\n",
    "    axi.set(xticks=[], yticks=[])"
   ]
  },
  {
   "cell_type": "code",
   "execution_count": null,
   "metadata": {},
   "outputs": [],
   "source": [
    "%%time\n",
    "\n",
    "# IsoMap (多様体学習の一手法； 次元を削減し、データの構造を明らかにする)\n",
    "from sklearn.manifold import Isomap\n",
    "iso = Isomap(n_components=2)\n",
    "projection = iso.fit_transform(digits.data)\n",
    "\n",
    "# 結果の描画\n",
    "plt.scatter(projection[:, 0], projection[:, 1], lw=0.1,\n",
    "           c='black')"
   ]
  },
  {
   "cell_type": "markdown",
   "metadata": {},
   "source": [
    "それぞれの画像がどの数字を示しているかという情報もデータに含まれているが、コンピュータはそれを使わずに2次元にマッピングを行った。\n",
    "\n",
    "いくつかのクラスターができているのが見える。似た形は2次元空間でも近くになるように射影されるはずなので、それぞれのクラスターは異なる文字に対応する可能性が高い。"
   ]
  },
  {
   "cell_type": "markdown",
   "metadata": {},
   "source": [
    "そこで、文字の種類ごとに異なる色を彩色してやる。(教師データの適用)\n",
    "\n",
    "すると、6種類の文字が異なる島に分かれている=識別されていることがわかる。この例では、先験的な知識なしに、プログラムが文字をその形だけで分類できることを示している。"
   ]
  },
  {
   "cell_type": "code",
   "execution_count": null,
   "metadata": {},
   "outputs": [],
   "source": [
    "# 文字の種類ごとに異なる色を付けて描画\n",
    "plt.scatter(projection[:, 0], projection[:, 1], lw=0.1,\n",
    "           c=digits.target, cmap=plt.cm.get_cmap('jet', 6))\n",
    "plt.colorbar(ticks=range(6), label='digit value')\n",
    "plt.clim(-0.5, 5.5)"
   ]
  },
  {
   "cell_type": "markdown",
   "metadata": {},
   "source": [
    "ひとたびこのようなテリトリーの地図が得られると、未知の手書き文字を同じようにこの地図にのせることで、それがどの文字に一番近いかを「認識」できるようになる。\n",
    "\n",
    "うまくいきすぎている気がするので、Neural Networkの回で用いた28x28ピクセルの文字データでも同じようにやってみよう。"
   ]
  },
  {
   "cell_type": "code",
   "execution_count": null,
   "metadata": {},
   "outputs": [],
   "source": [
    "%%time\n",
    "from keras.datasets import mnist\n",
    "\n",
    "# the data, shuffled and split between train and test sets\n",
    "(x_train, y_train), (x_test, y_test) = mnist.load_data()\n",
    "x_train.shape"
   ]
  },
  {
   "cell_type": "markdown",
   "metadata": {},
   "source": [
    "x_trainには60000枚、x_testには10000枚の画像が含まれる。\n",
    "\n",
    "かなり時間がかかるので、x_testを採用する。\n",
    "\n",
    "教師データy_test(文字の読み)は使わず、x_test(画像データ)だけを使い、IsoMapで2次元射影する。"
   ]
  },
  {
   "cell_type": "code",
   "execution_count": null,
   "metadata": {},
   "outputs": [],
   "source": [
    "%%time\n",
    "# IsoMap (多様体学習の一手法； 次元を削減し、データの構造を明らかにする)\n",
    "from sklearn.manifold import Isomap\n",
    "iso = Isomap(n_components=2)\n",
    "projection = iso.fit_transform(x_test.reshape([10000,28*28]))"
   ]
  },
  {
   "cell_type": "code",
   "execution_count": null,
   "metadata": {},
   "outputs": [],
   "source": [
    "%matplotlib inline\n",
    "\n",
    "import matplotlib.pyplot as plt\n",
    "\n",
    "# 結果の描画\n",
    "plt.plot(projection[:, 0], projection[:, 1], 'k.')"
   ]
  },
  {
   "cell_type": "code",
   "execution_count": null,
   "metadata": {},
   "outputs": [],
   "source": [
    "# 文字の種類ごとに異なる色を付けて描画\n",
    "plt.scatter(projection[:, 0], projection[:, 1], lw=0.1,\n",
    "           c=y_test, cmap=plt.cm.get_cmap('jet', 10))\n",
    "plt.colorbar(ticks=range(10), label='digit value')\n",
    "plt.clim(-0.5, 9.5)"
   ]
  },
  {
   "cell_type": "markdown",
   "metadata": {},
   "source": [
    "がんばっているのはわかるけど、分離は悪いようです。3次元に射影すればもう少し分離できるのかもしれません。"
   ]
  },
  {
   "cell_type": "markdown",
   "metadata": {},
   "source": [
    "### 何に使える?\n",
    "\n",
    "雑多な画像データがたくさん与えられた時に、それを(予備知識なく)おおざっぱに分類することができる。膨大なデータのなかに隠された「構造」を見付けだせる。"
   ]
  },
  {
   "cell_type": "markdown",
   "metadata": {},
   "source": [
    "## 参考資料\n",
    "\n",
    "* Pythonデータサイエンスハンドブック\n",
    "* パターン認識と機械学習"
   ]
  }
 ],
 "metadata": {
  "kernelspec": {
   "display_name": "Python 3",
   "language": "python",
   "name": "python3"
  },
  "language_info": {
   "codemirror_mode": {
    "name": "ipython",
    "version": 3
   },
   "file_extension": ".py",
   "mimetype": "text/x-python",
   "name": "python",
   "nbconvert_exporter": "python",
   "pygments_lexer": "ipython3",
   "version": "3.6.5"
  }
 },
 "nbformat": 4,
 "nbformat_minor": 2
}

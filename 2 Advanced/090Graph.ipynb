{
  "nbformat": 4,
  "nbformat_minor": 0,
  "metadata": {
    "kernelspec": {
      "display_name": "Python 3",
      "language": "python",
      "name": "python3"
    },
    "language_info": {
      "codemirror_mode": {
        "name": "ipython",
        "version": 3
      },
      "file_extension": ".py",
      "mimetype": "text/x-python",
      "name": "python",
      "nbconvert_exporter": "python",
      "pygments_lexer": "ipython3",
      "version": "3.6.5"
    },
    "colab": {
      "name": "090Graph.ipynb",
      "provenance": [],
      "toc_visible": true,
      "include_colab_link": true
    }
  },
  "cells": [
    {
      "cell_type": "markdown",
      "metadata": {
        "id": "view-in-github",
        "colab_type": "text"
      },
      "source": [
        "<a href=\"https://colab.research.google.com/github/vitroid/PythonTutorials/blob/master/2%20Advanced/090Graph.ipynb\" target=\"_parent\"><img src=\"https://colab.research.google.com/assets/colab-badge.svg\" alt=\"Open In Colab\"/></a>"
      ]
    },
    {
      "cell_type": "markdown",
      "metadata": {
        "id": "SWJV0re2RCXa"
      },
      "source": [
        "# グラフ理論\n",
        "\n",
        "2つの構造の近さや同一性は、幾何学的な形で(=座標で)直接比較するよりも、つながり方(=ネットワークトポロジー)で表現したほうがわかりやすい場合がある。化学の分子式はつながり方の表現方法であり、ネットワークでの表現に向いている。\n",
        "\n",
        "また、幾何学情報が実数の情報であるのに対し、ネットワークの情報は整数である。整数であれば、同一か否かの判定が容易で、誤差を生じない。また計算機のアーキテクチャにも非常によくなじむ。\n",
        "\n",
        "グラフ理論はEulerによる一筆描きの考察から生まれたと言われている。\n",
        "\n",
        "The similarity or identity of two structures is sometimes easier to understand when expressed in terms of the way they are connected (=network topology) rather than by directly comparing them geometrically. Molecular formulas in chemistry express the way atoms are connected by chemical bonds, and are suited for expression in networks.\n",
        "\n",
        "Also, geometric information is real number information, whereas network information is digital (discrete). It is easy to determine whether they are identical or not, and no error occurs. It also fits very well into the architecture of computers.\n",
        "\n",
        "It is said that graph theory was born from Euler's consideration of a single stroke.\n",
        "\n",
        "![](https://upload.wikimedia.org/wikipedia/commons/5/5d/Konigsberg_bridges.png)\n",
        "![](https://upload.wikimedia.org/wikipedia/commons/thumb/9/91/7_bridges.svg/200px-7_bridges.svg.png)\n",
        "![](https://upload.wikimedia.org/wikipedia/commons/thumb/9/96/Königsberg_graph.svg/200px-Königsberg_graph.svg.png)\n",
        "\n",
        "> Königsbergの7つの橋の問題「このプレーゲル川に架かっている7つの橋を2度通らずに、全て渡って、元の所に帰ってくることができるか。ただし、どこから出発してもよい。」(Wikipedia: Seven Bridges of Königsberg)\n",
        "\n",
        "この問題は、橋の位置や川の流れ方といった、空間情報(幾何情報)がなくても、陸地と陸地の間の隣接関係(トポロジー情報)だけで答えをみつけることができる。\n",
        "\n",
        "『「つながり方」に着目して抽象化された「点(頂点)とそれをむすぶ線(辺)」の概念がグラフであり、グラフが持つ様々な性質を探求するのがグラフ理論である。』(Wikipedia: グラフ理論)\n",
        "\n",
        "ひと筆書き、あみだくじなど、グラフの性質(トポロジー)を使った遊びは多数ある。"
      ]
    },
    {
      "cell_type": "markdown",
      "metadata": {
        "id": "LSzEpmOZRCXi"
      },
      "source": [
        "## グラフ理論の基礎\n",
        "\n",
        "辺$e$は必ず2つの頂点を結ぶ。以下 $e(i,j)$ あるいは $e(i\\rightarrow j)$ と表記する。一方、1つの頂点$v$には0本以上の辺が連結する。1つの頂点に連結する辺の本数を、頂点の**次数**と呼び$d(v)$で表わす。有向グラフの場合には、**入次数**と**出次数**の区別がある。次数0の頂点を**孤立点**と呼ぶ。\n",
        "\n",
        "1つの頂点につながる辺は互いに**隣接**しているという。1つの辺の両端の頂点は互いに**隣接**していると言う(?)\n",
        "\n",
        "辺には矢印を描く場合と描かない場合がある。辺が矢印である(辺が方向性を持つ、有向辺)グラフを有向グラフ、すべての辺が矢印でない(無向辺)グラフを**無向グラフ**と呼ぶ。有向グラフは双六を想像すると良い。それぞれのコマから進める方向は決まっていて、逆行は許されない。通常、ひとつのグラフで有向辺と無向辺を混在して使うことはない。また、無向グラフの辺$e(i,j)$を2本の有向辺$e(i\\rightarrow j)$と$e(j\\rightarrow i)$に置きかえて、等価な有向グラフを作ることができる。 道路は一方通行があるので、有向グラフで表現される。日本の鉄道路線はほぼ無向グラフで表わせるが、わずかに例外がある。\n",
        "\n",
        "それぞれの辺に**重み**(コスト)を付与することがある。重みが付いているグラフを**重み付きグラフ**と呼ぶ。重み付きグラフは、反応流束を計算したり、物資の輸送容量を計算する場合に多用する。頂点にも重みを与えることがある。\n",
        "\n",
        "頂点iから頂点jまで 隣接する辺をつたって (有向グラフの場合は辺の向きに沿って) たどりつける場合、その頂点と辺の系列を**歩道**,walkと呼ぶ。\n",
        "そのうち、すべての辺が異なるものを **路** , trailと呼ぶ。\n",
        "さらに、すべての頂点が異なるものを **パス** ,path、\n",
        "始点と終点が同じ頂点であるパスを **循環** cycle( **巡回路** 、**環路** )と呼ぶ。\n",
        "\n",
        "\n",
        "2頂点間の最短経路における辺数を**距離** distanceと呼ぶ。 グラフの最大頂点間距離を**直径** diameterと呼ぶ。\n",
        "\n",
        "頂点 $i$ と $i$ をつなぐ(つまり出発点に戻ってくる)辺を**ループ** *loop*と呼ぶ。\n",
        "\n",
        "頂点 $i$ から $j$ への辺が複数ある場合、それらを**多重辺**と呼ぶ。\n",
        "\n",
        "ループも多重辺も持たないグラフを**単純グラフ**と呼ぶ。\n",
        "\n",
        "無向グラフが**連結**であるとは、グラフの任意の2つの頂点の間をつなぐ経路が存在することを言う。非連結なグラフは孤立した2つ以上の連結なグラフの集まりである。(有向グラフの場合には、連結であっても、任意の頂点から頂点に行けるとは限らない)\n",
        "\n",
        "どの頂点も次数が同じグラフのことを**正則グラフ**と呼ぶ。また、すべての異なる頂点対の間に辺がある正則グラフのことを**完全グラフ**と呼ぶ。立方体グラフは3-正則グラフ(すべての頂点が次数3のグラフ)、四面体グラフは完全グラフ$K_4$である。\n",
        "\n",
        "頂点のうち $n$ 個を白、残りの $m$ 個を黒で塗りわけた時に、白同士、黒同士を結ぶ辺を持たないグラフを**二部グラフ**と呼ぶ。すべての白と黒の組みあわせの間に辺を持つグラフを**完全二部グラフ** $K_{n,m}$と呼ぶ。\n",
        "\n",
        "\n",
        "The edge $e$ always connects two vertices. It is denoted $e(i,j)$ or $e(i\\rightarrow j)$. The number of edges connected to a vertex $v$ is called the **degree** of the vertex and is denoted by $d(v)$. For directed graphs, there is a distinction between **in-degree** and **out-degree**. A vertex of degree 0 is called an **isolated vertex**.\n",
        "\n",
        "Edges leading to one vertex are said to be **adjacent** to each other; vertices at both ends of one edge are said to be **adjacent** to each other (?).\n",
        "\n",
        "An edge may or may not have an arrow drawn on it. A graph whose edges have arrows (directed edges) is called a directed graph or a *digraph*; a graph whose edges do not all have arrows (undirected edges) is called an **undirected graph**. The direction of progression from each frame is fixed, and no retrogression is allowed. Usually, directed edges and undirected edges are not mixed in a single graph. We can also replace the edge $e(i,j)$ of an undirected graph with two directed edges $e(i\\rightarrow j)$ and $e(j\\rightarrow i)$ to make an equivalent digraph. Roads are represented as directed graphs because they have one-way traffic. Japanese railroad lines are almost always represented as undirected graphs, with a few exceptions.\n",
        "\n",
        "Each edge may be assigned a **weight** (cost). A graph with weights is called a **weighted graph**. Weighted graphs are often used to calculate reaction fluxes or to calculate the transport capacity of goods. Sometimes weights are given to vertices as well.\n",
        "\n",
        "If we trace from vertex i to vertex j along adjacent edges (or along the direction of the edges in the case of a directed graph), the sequence of vertices and edges is called a **walk**.\n",
        "If all of them have different edges, they are called **trail**.\n",
        "Furthermore, a **path** is one in which all vertices are different,\n",
        "A path whose starting and ending vertices are the same is called a **cycle**.\n",
        "\n",
        "The number of edges in the shortest path between two vertices is called **distance**. The maximum distance between vertices of a graph is called **diameter**.\n",
        "\n",
        "The edge connecting vertices $i$ and $i$ (i.e., returning to the starting point) is called a **loop**.\n",
        "\n",
        "If there is more than one edge from vertex $i$ to $j$, they are called **multiple edges**.\n",
        "\n",
        "A graph with neither loops nor multiple edges is called a **simple graph**.\n",
        "\n",
        "An undirected graph is **connected** if there exists a path connecting any two vertices of the graph. A disconnected graph is a collection of two or more isolated connected graphs. (In the case of directed graphs, it is not necessarily possible to go from any vertex to any vertex, even if they are connected.)\n",
        "\n",
        "A graph in which every vertex has the same degree is called a **regular graph**. Also, a regular graph with edges between every distinct vertex pair is called a **complete graph**. A cube graph is a 3-regular graph (all vertices have degree 3) and a tetrahedral graph is a complete graph $K_4$.\n",
        "\n",
        "\n",
        "![K3,3](https://upload.wikimedia.org/wikipedia/commons/thumb/1/11/Complete_bipartite_graph_K3%2C3.svg/200px-Complete_bipartite_graph_K3%2C3.svg.png)\n",
        "![K5](https://upload.wikimedia.org/wikipedia/commons/thumb/6/6a/Complete_Graph_K5_with_labels.svg/200px-Complete_Graph_K5_with_labels.svg.png)\n",
        "![Cube graph](https://upload.wikimedia.org/wikipedia/commons/thumb/8/84/Graph_isomorphism_b.svg/200px-Graph_isomorphism_b.svg.png)\n",
        "![Tetrahedral graph K4](https://upload.wikimedia.org/wikipedia/commons/1/1f/Graphe_complet_K4.png)\n",
        "\n",
        "> 典型的なグラフの例: 左から完全2部グラフ$K_{3,3}$、完全グラフ$K_5$, 立方体グラフ、四面体グラフ$K_4$。なお、グラフを平面に描く時には、辺を自由に曲げても構わない。\n",
        "\n",
        "> Examples of typical graphs: from left to right: complete bipartite graph $K_{3,3}$, complete graph $K_5$, cube graph, tetrahedral graph $K_4$. Note that when the graph is drawn on a plane, the edges may be bent freely.\n",
        "\n",
        "\n",
        "**部分グラフ**：グラフ$G$から、頂点と辺を抜きだして作ったグラフ\n",
        "\n",
        "**真部分グラフ**: 部分グラフのうち、$G$そのもの以外。\n",
        "\n",
        "**n連結グラフ**: $n$個の頂点をうまく選んで取り除くと分割されてしまう($n$頂点切断)ようなグラフ。\n",
        "\n",
        "2つのグラフ$G$と$G’$が同じ個数の頂点を持ち、同一の辺のつながりかたをしている(グラフ$G$の頂点のラベルを書き換えることで、グラフ$G’$に完全に重ねることができる)時、それらは**同型** *isomorphic*であるという。\n",
        "\n",
        "**Subgraph**: A graph $G$ with vertices and edges taken from $G$.\n",
        "\n",
        "**true subgraph**: a subgraph other than $G$ itself.\n",
        "\n",
        "**n-connected graph**: a graph such that it is partitioned ($n$-vertex truncation) if $n$ vertices are well chosen and removed.\n",
        "\n",
        "When two graphs $G$ and $G'$ have the same number of vertices and the same edge connection (they can be completely superimposed on a graph $G'$ by rewriting the vertex labels of the graph $G$), they are **isomorphic**.\n",
        "\n",
        "\n",
        "![](https://upload.wikimedia.org/wikipedia/commons/thumb/9/9a/Graph_isomorphism_a.svg/200px-Graph_isomorphism_a.svg.png)\n",
        "![](https://upload.wikimedia.org/wikipedia/commons/thumb/8/84/Graph_isomorphism_b.svg/200px-Graph_isomorphism_b.svg.png)\n",
        "\n",
        "> 同型グラフの例。 An example of graph isomorphism."
      ]
    },
    {
      "cell_type": "markdown",
      "metadata": {
        "id": "kM48yUTJRCXn"
      },
      "source": [
        "## NetworkX\n",
        "\n",
        "ネットワークをPythonで扱うのは、他の言語を使う場合に比べてかなり容易だが、グラフ理論のライブラリNetworkXを利用すると、さらに簡単になる。(ほかにSage http://doc.sagemath.org/html/en/index.html というのもあるらしい)\n",
        "\n",
        "Working with networks in Python is considerably easier than with other languages, but it is even easier with NetworkX, a graph theory library. (An alternative is Sage http://doc.sagemath.org/html/en/index.html)\n",
        "\n",
        "NetworkXで、以下のグラフを扱ってみよう。\n",
        "\n",
        "Let's try to make the following graphs with NetworkX.\n",
        "\n",
        "![](https://upload.wikimedia.org/wikipedia/commons/thumb/8/84/Graph_isomorphism_b.svg/200px-Graph_isomorphism_b.svg.png)\n",
        "\n",
        "`Graph()`は無向グラフを生成する。\n",
        "\n",
        "`Graph()` prepares an undirected graph."
      ]
    },
    {
      "cell_type": "code",
      "metadata": {
        "id": "XeyfMkRlRCXr"
      },
      "source": [
        "import networkx as nx\n",
        "\n",
        "g = nx.Graph([[1,2],[2,3],[3,4],[4,1],[1,5],[5,6],[6,2],[6,7],[7,3],[7,8],[8,4],[8,5]])\n",
        "nx.draw_networkx(g, with_labels=True)"
      ],
      "execution_count": null,
      "outputs": []
    },
    {
      "cell_type": "markdown",
      "metadata": {
        "id": "us3-xbI7RCYS"
      },
      "source": [
        "もう一方のグラフも作ってみよう。\n",
        "\n",
        "Another graph.\n",
        "\n",
        "![](https://upload.wikimedia.org/wikipedia/commons/thumb/9/9a/Graph_isomorphism_a.svg/200px-Graph_isomorphism_a.svg.png)"
      ]
    },
    {
      "cell_type": "code",
      "metadata": {
        "id": "7uNZW-BZRCYW"
      },
      "source": [
        "import networkx as nx\n",
        "\n",
        "h = nx.Graph([[\"a\",\"g\"],[\"b\",\"h\"],[\"c\",\"i\"],[\"d\",\"j\"],[\"a\",\"h\"],[\"a\",\"i\"],\n",
        "              [\"b\",\"g\"],[\"b\",\"j\"],[\"c\",\"g\"],[\"c\",\"j\"],[\"d\",\"h\"],[\"d\",\"i\"]])\n",
        "nx.draw_networkx(h, with_labels=True)"
      ],
      "execution_count": null,
      "outputs": []
    },
    {
      "cell_type": "markdown",
      "metadata": {
        "id": "YqpkMrW7RCYt"
      },
      "source": [
        "これらは同型グラフですよね?\n",
        "\n",
        "Are they isomorphic?"
      ]
    },
    {
      "cell_type": "code",
      "metadata": {
        "id": "XOJilaUvRCYy"
      },
      "source": [
        "nx.is_isomorphic(g,h)"
      ],
      "execution_count": null,
      "outputs": []
    },
    {
      "cell_type": "markdown",
      "metadata": {
        "id": "VzYx5hMBRCZO"
      },
      "source": [
        "同型性をチェックするプログラムは自分で書けないこともないが、かなり面倒で、慎重なチェックが必要なので、NetworkXを使ったほうが良い。なお、厳密な同型性チェックに要する時間は、頂点の数の指数に比例するため、グラフが大きくなるとかなり難しくなる。NetworkXには、近似的かつ高速に同型性をチェックするいくつかのアルゴリズムもある。\n",
        "\n",
        "It is not impossible to write your own program to check isomorphisms, but it is quite tedious and requires careful checking, so it is better to use NetworkX. NetworkX also has several algorithms for approximate and fast isomorphism checking."
      ]
    },
    {
      "cell_type": "markdown",
      "metadata": {
        "id": "__SgBeCdRCZR"
      },
      "source": [
        "## 平面性 / Planarity\n",
        "平面グラフとは、平面上に描いた時に、辺が交わらないようにできるグラフのこと。\n",
        "\n",
        "A planar graph is a graph that, when drawn on a plane, can be made so that the edges do not intersect.\n",
        "\n",
        "上のグラフは一見すると辺が交わりまくっているが、下のように変形することで交わりなく平面に描けるので、これらは平面グラフと言える。\n",
        "\n",
        "At first glance, the graphs above have intersecting edges, but by transforming them as shown below, they can be drawn in a plane without intersections, so these graphs can be said to be planar.\n",
        "\n",
        "![](https://upload.wikimedia.org/wikipedia/commons/thumb/9/9a/Graph_isomorphism_a.svg/200px-Graph_isomorphism_a.svg.png)\n",
        "\n",
        "\n",
        "![](https://upload.wikimedia.org/wikipedia/commons/thumb/8/84/Graph_isomorphism_b.svg/200px-Graph_isomorphism_b.svg.png)\n",
        "\n",
        "\n",
        "一般に、正多面体グラフはすべて平面的である。フラーレンも、ひとつのリングを大きくひろげれば平面に射影できる。ちなみに、化学物質の命名法は、立体分子は平面化したあとで環を数えることになっている(らしい)ので、例えば立方体分子cubaneの正式名はPentacyclo[4.2.0.0<sup>2,5</sup>.0<sup>3,8</sup>.0<sup>4,7</sup>]octaneとなり、5個の環を持つオクタンと呼ぶ。\n",
        "\n",
        "In general, all regular polyhedral graphs are planar. Fullerenes can also be projected onto a plane if one ring is greatly expanded. In the nomenclature of chemical substances, three-dimensional molecules are supposed to count rings after planarization, so for example, cubane, a cubic molecule, is officially called Pentacyclo[4.2.0.0<sup>2,5</sup>.0<sup>3,8</sup>.0<sup>4,7</sup>]octane, which has five rings.\n",
        "\n",
        "平面グラフに関しては、非常に重要な定理がある。\n",
        "\n",
        "Here is a very important theorem on the planarity.\n",
        "\n",
        "### Kuratowskiの定理 / Kuratowski's theorem\n",
        "グラフGが平面的グラフであるための必要十分条件は、Gが$K_5$と$K_{3,3}$のどちらの細分も含まないことである。\n",
        "\n",
        "Kuratowski's Theorem states that a graph is planar if and only if it contains no subdivision of $K_5$ or $K_{3,3}$.\n",
        "\n",
        "![K_5](https://upload.wikimedia.org/wikipedia/commons/thumb/2/2d/4-simplex_graph.svg/231px-4-simplex_graph.svg.png)\n",
        "\n",
        "$K_5$\n",
        "\n",
        "![K_3,3](https://upload.wikimedia.org/wikipedia/commons/thumb/1/11/Complete_bipartite_graph_K3%2C3.svg/317px-Complete_bipartite_graph_K3%2C3.svg.png)\n",
        "\n",
        "$K_{3,3}$\n",
        "\n",
        "与えられたグラフが平面的かどうかを自力で判定するのはかなり大変だが、もちろんNetworkXには判定関数がある。\n",
        "\n",
        "It is quite difficult to determine whether a given graph is planar or not, but of course NetworkX has a function."
      ]
    },
    {
      "cell_type": "code",
      "metadata": {
        "id": "cUYGgxapRCZT"
      },
      "source": [
        "nx.algorithms.planarity.check_planarity(g)"
      ],
      "execution_count": null,
      "outputs": []
    },
    {
      "cell_type": "markdown",
      "metadata": {
        "id": "lU7zT3keRCZd"
      },
      "source": [
        "### 距離 / Distance\n",
        "\n",
        "立方体グラフは整いすぎて面白くないので、もう少し複雑なグラフを準備してみる。ここでは、球を格子に切ったようなグラフを作る。\n",
        "\n",
        "We prepare a carve a sphere from a 3-D grid graph to make a spheric graph."
      ]
    },
    {
      "cell_type": "code",
      "source": [
        "import numpy as np\n",
        "\n",
        "vertices = np.mgrid[-2:3, -2:3, -2:3].astype(float)\n",
        "# make them coordinates\n",
        "vertices = vertices.reshape(3,-1).T\n",
        "\n",
        "# Collect the vertices which is within 2.1 from the origin.\n",
        "vertices = vertices[np.linalg.norm(vertices, axis=1) < 2.1]\n",
        "vertices"
      ],
      "metadata": {
        "id": "ajKDiHDNIPOA"
      },
      "execution_count": null,
      "outputs": []
    },
    {
      "cell_type": "code",
      "metadata": {
        "id": "Su5OhVZKRCZp"
      },
      "source": [
        "import networkx as nx\n",
        "\n",
        "G = nx.Graph()\n",
        "N = len(vertices)\n",
        "for i in range(N):\n",
        "    for j in range(i):\n",
        "        v1 = vertices[i]\n",
        "        v2 = vertices[j]\n",
        "        d = v1-v2\n",
        "        L = d@d  # 内積\n",
        "        # 隣接しているなら内積は1\n",
        "        if L == 1:\n",
        "            G.add_edge(i,j)\n",
        "\n",
        "nx.draw_networkx(G, with_labels=True)"
      ],
      "execution_count": null,
      "outputs": []
    },
    {
      "cell_type": "markdown",
      "metadata": {
        "id": "2SvwNrW8RCav"
      },
      "source": [
        "グラフ`h`の頂点10と頂点32の最短経路は"
      ]
    },
    {
      "cell_type": "code",
      "metadata": {
        "id": "-pcMnAw4RCa7"
      },
      "source": [
        "nx.shortest_path(G,10,32)"
      ],
      "execution_count": null,
      "outputs": []
    },
    {
      "cell_type": "code",
      "metadata": {
        "id": "qTtF9tZ0RCb2"
      },
      "source": [
        "nx.shortest_path_length(G,10,32)"
      ],
      "execution_count": null,
      "outputs": []
    },
    {
      "cell_type": "code",
      "metadata": {
        "id": "q1rXNwszRCcL"
      },
      "source": [
        "nx.has_path(G,10,32)"
      ],
      "execution_count": null,
      "outputs": []
    },
    {
      "cell_type": "markdown",
      "metadata": {
        "id": "Wp_pMuHNRCcV"
      },
      "source": [
        "直径とは、グラフのなかの最長路の長さのこと。"
      ]
    },
    {
      "cell_type": "code",
      "metadata": {
        "id": "vwCYvTtPRCcW"
      },
      "source": [
        "nx.diameter(G)"
      ],
      "execution_count": null,
      "outputs": []
    },
    {
      "cell_type": "markdown",
      "metadata": {
        "id": "OtrUHTArRCce"
      },
      "source": [
        "ほかにも、半径や中心や離心率や周といった指標もある。\n",
        "\n",
        "Other indices include radius, center, eccentricity, and circumference."
      ]
    },
    {
      "cell_type": "markdown",
      "metadata": {
        "id": "5nBDEZuoRCcf"
      },
      "source": [
        "ある頂点vの離心率とは、vからほかの頂点までの最大距離のこと。\n",
        "\n",
        "The eccentricity of a vertex v is the maximum distance from v to any other vertex."
      ]
    },
    {
      "cell_type": "code",
      "metadata": {
        "id": "Rubgqh37RCcg"
      },
      "source": [
        "nx.eccentricity(G, 1)"
      ],
      "execution_count": null,
      "outputs": []
    },
    {
      "cell_type": "markdown",
      "metadata": {
        "id": "yDOPuJ1BRCck"
      },
      "source": [
        "半径とは、グラフの離心率の最小値。\n",
        "\n",
        "Radius is the minimum value of the graph's eccentricity."
      ]
    },
    {
      "cell_type": "code",
      "metadata": {
        "id": "BZcIh8CMRCcl"
      },
      "source": [
        "nx.radius(G)"
      ],
      "execution_count": null,
      "outputs": []
    },
    {
      "cell_type": "markdown",
      "metadata": {
        "id": "kPIZPAWIRCcp"
      },
      "source": [
        "中心とは、離心率が半径に一致するような頂点のこと。(一点とは限らない)\n",
        "\n",
        "The center is the vertex such that the eccentricity matches the radius. (Not necessarily a single point.)\n"
      ]
    },
    {
      "cell_type": "code",
      "metadata": {
        "id": "J1RyTDAORCcp"
      },
      "source": [
        "nx.center(G)"
      ],
      "execution_count": null,
      "outputs": []
    },
    {
      "cell_type": "code",
      "metadata": {
        "id": "GHAAs7EIRCcx"
      },
      "source": [
        "vertices[16]"
      ],
      "execution_count": null,
      "outputs": []
    },
    {
      "cell_type": "markdown",
      "metadata": {
        "id": "k1NM1t0VRCc8"
      },
      "source": [
        "確かに中心だ。\n",
        "\n",
        "Certainment."
      ]
    },
    {
      "cell_type": "markdown",
      "source": [
        "> ルービックキューブのとりうる面の状態(43252003274489856000通り、4325京通り)それぞれをグラフの頂点とし、一回の操作でたどりつける状態を辺で結んだグラフを考える。任意の状態から、完全状態(すべての面がそろった状態)に戻すのに最低何回操作する必要があるか、という問題は、このグラフの半径を求める問題である。Googleは2010年に半径が20であることを証明した。 https://www.cube20.org\n",
        "\n",
        "> Consider a graph with each of the possible states of the faces of the Rubik's cube (43252003274489856000 possible states) as a vertex of the graph, and the states that can be reached with a single operation connected by an edge. The least number of operations required to return from an arbitrary state to a perfect state (all surfaces aligned) is equivalent to find the radius of this graph.  \n",
        "Google proved in 2010 that the radius is 20. https://www.cube20.org\n"
      ],
      "metadata": {
        "id": "SRkgBWXmMiQP"
      }
    },
    {
      "cell_type": "markdown",
      "metadata": {
        "id": "iKVpQbkCRCc9"
      },
      "source": [
        "もっと複雑なグラフを考える。例えば、20個の頂点の間に、ランダムに辺を30本つないだグラフ。\n",
        "\n",
        "Consider a more complex graph. For example, a graph with 30 random edges connected between 20 vertices."
      ]
    },
    {
      "cell_type": "code",
      "metadata": {
        "id": "6JmwjXjIRCc-"
      },
      "source": [
        "import random\n",
        "import itertools as it\n",
        "\n",
        "H = nx.Graph()\n",
        "nodes = range(20)\n",
        "\n",
        "for node in nodes:\n",
        "    H.add_node(node)\n",
        "\n",
        "pairs = [pair for pair in it.combinations(nodes, 2)]\n",
        "\n",
        "for j,k in random.sample(pairs, 30):\n",
        "    H.add_edge(j,k)\n",
        "\n",
        "nx.draw_networkx(H, with_labels=True)"
      ],
      "execution_count": null,
      "outputs": []
    },
    {
      "cell_type": "markdown",
      "metadata": {
        "id": "C9izafQyRCdC"
      },
      "source": [
        "辺の数が少ないと、ひとつながりのグラフにならない場合もある。つながったグラフそれぞれを成分(component)と呼ぶ。連結なグラフとは、成分が1つしかないグラフのことである。\n",
        "\n",
        "If the number of edges is small, the graph may not be connected. Each connected clusters are called a component. A connected graph is a graph with single component."
      ]
    },
    {
      "cell_type": "code",
      "metadata": {
        "id": "vyCppb9fRCdD"
      },
      "source": [
        "nx.is_connected(H)"
      ],
      "execution_count": null,
      "outputs": []
    },
    {
      "cell_type": "markdown",
      "metadata": {
        "id": "efJkl0ERRCdN"
      },
      "source": [
        "それぞれの成分に含まれる頂点は?\n",
        "\n",
        "Member nodes in each component."
      ]
    },
    {
      "cell_type": "code",
      "metadata": {
        "id": "b_OgZWsURCdP"
      },
      "source": [
        "for x in nx.connected_components(H):\n",
        "    print(x)"
      ],
      "execution_count": null,
      "outputs": []
    },
    {
      "cell_type": "markdown",
      "metadata": {
        "id": "ClkVmikRRCdV"
      },
      "source": [
        "それぞれの成分に対して、簡単な分析をしてみよう。\n",
        "\n",
        "Let's analyze them."
      ]
    },
    {
      "cell_type": "code",
      "metadata": {
        "id": "AeMOHERBRCdW"
      },
      "source": [
        "from matplotlib import pyplot as plt\n",
        "\n",
        "for members in nx.connected_components(H):\n",
        "    subg = H.subgraph(members)\n",
        "    nx.draw_networkx(subg, with_labels=True)\n",
        "    plt.show()\n",
        "\n",
        "    # check_planarity returns two values. We need the first one only.\n",
        "    isplanar, e = nx.algorithms.planarity.check_planarity(subg)\n",
        "    if isplanar:\n",
        "        print(\"A planar graph.\")\n",
        "    else:\n",
        "        print(\"A non-planar graph.\")\n",
        "    print(\"Diameter\", nx.diameter(subg))"
      ],
      "execution_count": null,
      "outputs": []
    },
    {
      "cell_type": "markdown",
      "metadata": {
        "id": "r8u-f1qnRCdb"
      },
      "source": [
        "## Exercise 1\n",
        "\n",
        "JRの路線は、(今のところ)連結で、JRのどの駅へも、JRの列車だけで行ける。\n",
        "\n",
        "しかし、私鉄は連結でないところも多い。例えば、名鉄には瀬戸線のように、名鉄本線と全くつながっていない支線がある。\n",
        "\n",
        "日本最大の私鉄である近鉄もまた、歴史的経緯によりとても複雑な路線を持つ。近鉄の路線を、グラフ理論を使ってざっと分析してみよう。(http://travelstation.tokyo/station/kinki/kintetsu/)\n",
        "\n",
        "近鉄の駅名は`kintetsu.txt`に以下のような形で入っている。連続している駅名は、隣接していることを意味し、空行は隣接していないことを意味する。\n",
        "\n",
        "JR (Japan Rail) lines are (so far) consolidated, and any JR station can be reached by JR trains only.\n",
        "\n",
        "However, many private railways are not connected. For example, Meitetsu has branch lines, such as the Seto Line, that are not connected to the Meitetsu Main Line at all.\n",
        "\n",
        "Kintetsu, Japan's largest private railway company, also has very complicated lines due to its historical background. Let's take a quick analysis of Kintetsu's lines using graph theory. (http://travelstation.tokyo/station/kinki/kintetsu/)\n",
        "\n",
        "Kintetsu station names are contained in `kintetsu.txt` as follows. Consecutive station names mean that they are adjacent, and empty lines mean that they are not adjacent."
      ]
    },
    {
      "cell_type": "raw",
      "metadata": {
        "id": "sPeIOEOQRCde"
      },
      "source": [
        "```\n",
        "道明寺\n",
        "柏原南口\n",
        "柏原\n",
        "\n",
        "古市\n",
        "喜志\n",
        "富田林\n",
        "富田林西口\n",
        "川西\n",
        "滝谷不動\n",
        "汐ノ宮\n",
        "河内長野\n",
        "\n",
        "尺土\n",
        "近鉄新庄\n",
        "忍海\n",
        "近鉄御所\n",
        "```\n"
      ]
    },
    {
      "cell_type": "markdown",
      "metadata": {
        "id": "BSHqDf_vRCdf"
      },
      "source": [
        "とりあえず読んでみる。\n",
        "\n",
        "Read it anyway."
      ]
    },
    {
      "cell_type": "code",
      "metadata": {
        "id": "FpMa1Br4RCdg"
      },
      "source": [
        "# ファイルをcolabにとりこむ。\n",
        "! wget https://raw.githubusercontent.com/vitroid/PythonTutorials/2020m0/2%20Advanced/kintetsu.txt\n",
        "\n",
        "file = open(\"kintetsu.txt\")\n",
        "\n",
        "stations = [station for station in file.readlines()]\n",
        "stations"
      ],
      "execution_count": null,
      "outputs": []
    },
    {
      "cell_type": "markdown",
      "metadata": {
        "id": "pupY6fktRCdk"
      },
      "source": [
        "行末の最後の文字(`\\n`)を除きたいので、`strip()`関数を追加する。\n",
        "\n",
        "Add a strip() function to remove the newline characters."
      ]
    },
    {
      "cell_type": "code",
      "metadata": {
        "id": "c3MaiIg9RCdl"
      },
      "source": [
        "file = open(\"kintetsu.txt\")\n",
        "stations = [station.strip() for station in file.readlines()]\n",
        "stations"
      ],
      "execution_count": null,
      "outputs": []
    },
    {
      "cell_type": "markdown",
      "metadata": {
        "id": "fVXK0-qNRCdo"
      },
      "source": [
        "隣りあう駅をedgeでつなぐ。\n",
        "\n",
        "Connect the adjacent stations by an edge.\n",
        "\n"
      ]
    },
    {
      "cell_type": "code",
      "source": [
        "# Add feature to show Japanese characters in a plot\n",
        "!pip install japanize-matplotlib\n"
      ],
      "metadata": {
        "id": "uIAWhNPM-E5t"
      },
      "execution_count": null,
      "outputs": []
    },
    {
      "cell_type": "code",
      "metadata": {
        "id": "7s1RKunZRCdq"
      },
      "source": [
        "import networkx as nx\n",
        "from   matplotlib import pyplot as plt\n",
        "import japanize_matplotlib\n",
        "japanize_matplotlib.japanize()\n",
        "\n",
        "K = nx.Graph()\n",
        "for i in range(len(stations)-1):\n",
        "    # adjacent pairs of stations in the list.\n",
        "    s1, s2 = stations[i:i+2]\n",
        "    if s1 != \"\" and s2 != \"\":\n",
        "        K.add_edge(s1, s2)\n",
        "\n",
        "\n",
        "# prepare plot\n",
        "fig = plt.figure(figsize=(10,10), dpi=150)\n",
        "plt.title('Kintetsu', fontsize=10)\n",
        "plt.axes().set_aspect('equal', 'datalim')\n",
        "# Set up for a graph with Japanese labels\n",
        "nx.draw_networkx(K, \n",
        "                 node_color='#ccf', \n",
        "                 node_size=20, \n",
        "                 with_labels=True, \n",
        "                 font_size=5, \n",
        "                 font_family='IPAexGothic')\n",
        "fig.savefig(\"kintetsu.pdf\")"
      ],
      "execution_count": null,
      "outputs": []
    },
    {
      "cell_type": "markdown",
      "metadata": {
        "id": "cLlLc0xiRCdt"
      },
      "source": [
        "さっきのコードをそのまま使って、分析。\n",
        "\n",
        "Reuse the code to analyze it."
      ]
    },
    {
      "cell_type": "code",
      "metadata": {
        "id": "p6QC64uRRCdu"
      },
      "source": [
        "for members in nx.connected_components(K):\n",
        "    subg = K.subgraph(members)\n",
        "    plt.figure(3,figsize=(10,10), dpi=150) \n",
        "    # Set up for a graph with Japanese labels\n",
        "    nx.draw_networkx(subg, \n",
        "                    node_color='#ccf', \n",
        "                    node_size=20, \n",
        "                    with_labels=True, \n",
        "                    font_size=5, \n",
        "                    font_family='IPAexGothic')\n",
        "    plt.show()\n",
        "\n",
        "    # check_planarity returns two values. We need the first one only.\n",
        "    isplanar, e = nx.algorithms.planarity.check_planarity(subg)\n",
        "    if isplanar:\n",
        "        print(\"A planar graph.\")\n",
        "    else:\n",
        "        print(\"A non-planar graph.\")\n",
        "    print(\"Diameter\", nx.diameter(subg))"
      ],
      "execution_count": null,
      "outputs": []
    },
    {
      "cell_type": "markdown",
      "metadata": {
        "id": "gdcoXi99RCdy"
      },
      "source": [
        "3つの成分があり、主成分の直径(一番遠い駅の間)は68駅離れているようです。どのグラフも平面グラフです。(平面グラフでない路線図を持つ鉄道は日本にあるでしょうか?)\n",
        "\n",
        "生駒山上へ行く路線はロープウェイのようですね。\n",
        "\n",
        "There are three components, and the diameter of the main component appears to be 68 stations away. All graphs are planar. (Is there any railroad company in Japan that has a route map that is not a planar graph?)\n",
        "\n",
        "The shortest linear line seems to be a ropeway to Mt. Ikoma.\n",
        "\n",
        "68駅離れているのはどの駅とどの駅でしょうね?\n",
        "\n",
        "Which pair of stations are 68 steps away?"
      ]
    },
    {
      "cell_type": "markdown",
      "metadata": {
        "id": "t34kpesWOMWm"
      },
      "source": [
        "## Exercise 2\n",
        "\n",
        "オクタンには、直鎖のn-オクタンのほかに、多数の異性体があります。立体異性は別として、枝分かれ方の違うすべての異性体を列挙すると、いくつあるでしょうか。\n",
        "\n",
        "これを考えるには、まずメタンの異性体からはじめます。メタンには異性体はありません(それ自身を数えて、異性体の数は1とします)。\n",
        "\n",
        "ではエタンは? エタンも自明ですね、プロパンも自明です。そして、ブタンになってはじめて、イソブタンが異性体として出現します。プロパンに、新たに炭素を追加する時に、どこに付けるかで構造が違ってきます。\n",
        "\n",
        "その先も同様です。ペンタンの異性体は、ブタン(とその異性体)のどこに炭素を追加するかで、いろんな構造になります。\n",
        "\n",
        "この手順をNetworkXを使ってプログラム化してみましょう。\n",
        "\n",
        "Octane has numerous isomers in addition to the linear n-octane. Aside from stereoisomerism, how many isomers can we list for all the different ways of branching?\n",
        "\n",
        "To answer this question, let us start with the isomers of methane. Methane has no isomers other than itself (counting itself, the number of isomers is 1).\n",
        "\n",
        "Ethane and propane also has single isomer. And isobutane is the smallest isomer in the alkane family. When you add a new carbon to propane, the structure differs depending on where you attach it.\n",
        "\n",
        "The same is true beyond that. The pentane isomer can have many different structures depending on where you add the carbon to butane (and its isomers).\n",
        "\n",
        "Let's program this procedure using NetworkX.\n"
      ]
    },
    {
      "cell_type": "markdown",
      "metadata": {
        "id": "bmTkX10ZPb2u"
      },
      "source": [
        "ひとまず水素は無視し、炭素の鎖だけをグラフで表すことにします。\n",
        "\n",
        "First of all, we only consider the carbon chain and ignore the hydrogens."
      ]
    },
    {
      "cell_type": "code",
      "metadata": {
        "id": "vjIzB6CvPmOl"
      },
      "source": [
        "import networkx as nx\n",
        "\n",
        "ethane = nx.Graph()\n",
        "ethane.add_edge(0,1)\n",
        "nx.draw_networkx(ethane, with_labels=True, font_size=10)\n"
      ],
      "execution_count": null,
      "outputs": []
    },
    {
      "cell_type": "markdown",
      "metadata": {
        "id": "6wFhp_BXP7tm"
      },
      "source": [
        "与えられたグラフに、節点を一つ追加したグラフを生成する関数を作ります。エタンの場合には、0番の節点に追加するのか、1番かの2択ですが、結果は同じ形(位相同形)のグラフになります。でも ひとまずこの関数はそんなことを気にせず、全部別ものとして返すことにします。\n",
        "\n",
        "Create a function that generates a graph with one additional node added to the given graph. In the case of ethane, we have two choices: add to node 0 or 1, but the result will be a graph of the same shape (isomorphism). But for the moment, this function doesn't care about that and returns them all as separate graphs."
      ]
    },
    {
      "cell_type": "code",
      "metadata": {
        "id": "ZQALk0uFQkXz"
      },
      "source": [
        "from matplotlib import pyplot as plt\n",
        "\n",
        "def add_node(g):\n",
        "    # Number of nodes == the label for the next vertex\n",
        "    N = len(g)\n",
        "    # An empty list for new candidate graphs\n",
        "    newgraphs = []\n",
        "    # for each node in g,\n",
        "    for node in g:\n",
        "        # make a copy of g not to destroy g\n",
        "        newg = g.copy()\n",
        "        # Add an edge to newg\n",
        "        newg.add_edge(node, N)\n",
        "        # and store\n",
        "        newgraphs.append(newg)\n",
        "    # return all candidate graphs\n",
        "    return newgraphs"
      ],
      "execution_count": null,
      "outputs": []
    },
    {
      "cell_type": "code",
      "metadata": {
        "id": "BoPjsdMlRcFl"
      },
      "source": [
        "propanes = add_node(ethane)\n",
        "\n",
        "# each graph in propanes\n",
        "for p in propanes:\n",
        "    # draw it\n",
        "    nx.draw_networkx(p, with_labels=True, font_size=10)\n",
        "    plt.show()\n"
      ],
      "execution_count": null,
      "outputs": []
    },
    {
      "cell_type": "markdown",
      "metadata": {
        "id": "Xy0i1SxIRlL0"
      },
      "source": [
        "ブタンに進む前に、明らかに同じ形のグラフは排除しておきましょう。NetworkXに手頃な関数があるとよかったのですが、ないようなので、自作します。\n",
        "\n",
        "与えられたグラフのリストのうち、同形なものを除いていく関数です。\n",
        "\n",
        "Before proceeding to Butane, let's eliminate graphs that are  isomorphic; I wish NetworkX had an affordable function, but it doesn't seem to exist, so I'll make my own.\n",
        "\n",
        "This is a function that eliminates isomorphic graphs from a given list of graphs."
      ]
    },
    {
      "cell_type": "code",
      "metadata": {
        "id": "ODEzGqYySF0k"
      },
      "source": [
        "def anisomorphics(graphs):\n",
        "    '''\n",
        "    Make a set of anisomorphic graphs.\n",
        "    '''\n",
        "    # \n",
        "    aniso = []\n",
        "    # for each graph in graphs,\n",
        "    for g in graphs:\n",
        "        for memb in aniso:\n",
        "            if nx.is_isomorphic(g, memb):\n",
        "                break\n",
        "        # This \"else\" block is executed when the for loop ends without interruption.\n",
        "        else:\n",
        "            aniso.append(g)\n",
        "    return aniso"
      ],
      "execution_count": null,
      "outputs": []
    },
    {
      "cell_type": "code",
      "metadata": {
        "id": "gCxyCP0iSlnT"
      },
      "source": [
        "A = anisomorphics(propanes)\n",
        "for p in A:\n",
        "    nx.draw_networkx(p, with_labels=True, font_size=10)\n",
        "    plt.show()\n"
      ],
      "execution_count": null,
      "outputs": []
    },
    {
      "cell_type": "markdown",
      "metadata": {
        "id": "Vhll8g2jSyaS"
      },
      "source": [
        "1個になりました。では、次はブタンです。でも、その前に。\n",
        "\n",
        "上で定義した、add_node関数は、引数に1つのグラフしか与えることができませんでした。でも、butaneの次のペンタンを作る場合は、butaneに複数の構造があるので、n-butaneとisobutaneそれぞれに対して、add_nodeして新しいpentane構造を作る必要があります。そこで、次のような関数を作ります。\n",
        "\n",
        "Only one isomer for propane. Good. But wait.\n",
        "\n",
        "The add_node function, defined above, could only give one graph as an argument. But if we want to create the next pentane after butane, we need to create a new pentane structure by add_node for each of n-butane and isobutane, since butane has multiple structures. So we create the following function."
      ]
    },
    {
      "cell_type": "code",
      "metadata": {
        "id": "aEf-3f5lToQQ"
      },
      "source": [
        "def add_node_to_graphs(graphs):\n",
        "    \"\"\"\n",
        "    Add a node to given set of graphs.\n",
        "\n",
        "    Returns all possible graphs.\n",
        "    \"\"\"\n",
        "    newgraphs = []\n",
        "    for g in graphs:\n",
        "        # add_node returns multiple graphs as a list\n",
        "        # They are concatenated to newgraphs.\n",
        "        newgraphs += add_node(g)\n",
        "    return newgraphs"
      ],
      "execution_count": null,
      "outputs": []
    },
    {
      "cell_type": "markdown",
      "metadata": {
        "id": "CuH8hsd1T3GW"
      },
      "source": [
        "これで万全です。では、propanesからbutanesを作ってみましょう。"
      ]
    },
    {
      "cell_type": "code",
      "metadata": {
        "id": "TZ3_7HhyT2YI"
      },
      "source": [
        "butanes = anisomorphics( add_node_to_graphs( propanes ) )\n",
        "for b in butanes:\n",
        "    nx.draw_networkx(b, with_labels=True, font_size=10)\n",
        "    plt.show()\n"
      ],
      "execution_count": null,
      "outputs": []
    },
    {
      "cell_type": "code",
      "metadata": {
        "id": "tzpr95psS4dn"
      },
      "source": [
        "pentanes = anisomorphics( add_node_to_graphs( butanes ) )\n",
        "hexanes = anisomorphics( add_node_to_graphs( pentanes ) )\n",
        "heptanes = anisomorphics( add_node_to_graphs( hexanes ) )\n",
        "octanes = anisomorphics( add_node_to_graphs( heptanes ) )\n",
        "\n",
        "for o in octanes:\n",
        "    nx.draw_networkx(o, with_labels=True, font_size=10)\n",
        "    plt.show()\n"
      ],
      "execution_count": null,
      "outputs": []
    },
    {
      "cell_type": "markdown",
      "metadata": {
        "id": "PEllRUOhUpQ-"
      },
      "source": [
        "できた! と思ったけど、なんか変なのがいますね。5級炭素とか6級炭素は、さすがにありえないので、生じないようにする必要があります。\n",
        "\n",
        "さて、どこに手を加えればいいでしょうか。\n",
        "\n",
        "ある頂点に連結している辺の数のことを、頂点の次数(degree)と呼び、NetworkXではdegree()関数で調べることができます。次数が4の節点に、さらに炭素をくっつけようとするのを阻止しましょう。\n",
        "\n",
        "Done! ... but there is something strange.... some carbons have 5th or 6th edges, which are indeed impossible, so we need to make sure it does not occur.\n",
        "\n",
        "Now, where should we make the changes?\n",
        "\n",
        "The number of edges connected to a vertex is called the degree of the vertex, which can be found in NetworkX with the `degree()` function. Let's stop trying to attach more carbon to a node with degree 4."
      ]
    },
    {
      "cell_type": "code",
      "metadata": {
        "id": "fnPglD-3VNoZ"
      },
      "source": [
        "def add_node(g):\n",
        "    \"\"\"\n",
        "    A new add_node function that does not try to add an edge to\n",
        "    a vertex whose degree is 4.\n",
        "    \"\"\"\n",
        "    N = len(g)\n",
        "    newgraphs = []\n",
        "    for node in g:\n",
        "        newg = g.copy()\n",
        "        # add this condition\n",
        "        if newg.degree(node) < 4:\n",
        "            newg.add_edge(node, N)\n",
        "            newgraphs.append(newg)\n",
        "    return newgraphs\n"
      ],
      "execution_count": null,
      "outputs": []
    },
    {
      "cell_type": "markdown",
      "metadata": {
        "id": "T-m1Ps34WTlk"
      },
      "source": [
        "そして再度実行。"
      ]
    },
    {
      "cell_type": "code",
      "metadata": {
        "id": "CriidqcuWRC0"
      },
      "source": [
        "pentanes = anisomorphics( add_node_to_graphs( butanes ) )\n",
        "hexanes = anisomorphics( add_node_to_graphs( pentanes ) )\n",
        "heptanes = anisomorphics( add_node_to_graphs( hexanes ) )\n",
        "octanes = anisomorphics( add_node_to_graphs( heptanes ) )\n",
        "\n",
        "for o in octanes:\n",
        "    nx.draw_networkx(o, with_labels=True, font_size=10)\n",
        "    plt.show()\n",
        "len(octanes)"
      ],
      "execution_count": null,
      "outputs": []
    },
    {
      "cell_type": "markdown",
      "metadata": {
        "id": "U4IqlyyMWi3N"
      },
      "source": [
        "オクタンの異性体の数は? \"octane isomers number\"で[検索](https://www.google.com/search?q=octane%20isomers%20number)してみて下さい。\n",
        "\n",
        "What is the number of isomers of octane? [Google it](https://www.google.com/search?q=octane%20isomers%20number)."
      ]
    },
    {
      "cell_type": "markdown",
      "metadata": {
        "id": "WEZ_6EGnRCdz"
      },
      "source": [
        "## Practice\n",
        "\n",
        "正多面体グラフは、上ででてきた立方体グラフ以外に4つあります。この4つを作成し、上と同じように表示・分析して下さい。\n",
        "\n",
        "* 平面グラフかどうか\n",
        "* 直径\n",
        "* 正則グラフかどうか (すべての頂点の次数が同じかどうか)\n",
        "\n",
        "There are four regular polyhedron graphs in addition to the cube graph above. Create these four and display and analyze them in the same way as above.\n",
        "\n",
        "* Planarity\n",
        "* Diameter\n",
        "* Regularity (whether all vertices have the same degree or not)\n",
        "\n",
        "(Note: NetworkX has functions to generate regular polyhedron graphs, but you can also build them by yourself.)\n"
      ]
    },
    {
      "cell_type": "code",
      "source": [],
      "metadata": {
        "id": "pnFtH5b0qJuw"
      },
      "execution_count": null,
      "outputs": []
    }
  ]
}
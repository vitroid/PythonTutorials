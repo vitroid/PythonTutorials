{
  "cells": [
    {
      "cell_type": "markdown",
      "metadata": {
        "colab_type": "text",
        "id": "view-in-github"
      },
      "source": [
        "<a href=\"https://colab.research.google.com/github/vitroid/PythonTutorials/blob/master/2%20Advanced/022%E9%9B%86%E5%90%88.ipynb\" target=\"_parent\"><img src=\"https://colab.research.google.com/assets/colab-badge.svg\" alt=\"Open In Colab\"/></a>"
      ]
    },
    {
      "attachments": {},
      "cell_type": "markdown",
      "metadata": {
        "id": "w0xXDzUdhBUM"
      },
      "source": [
        "# 集合 Set\n",
        "集合はリストと同じく複数のデータを集めたものですが、集合には順序がなく、同じデータを複数含みません。\n",
        "\n",
        "A set, like a list, is a collection of multiple data, but sets are unordered and do not contain multiple instances of the same data."
      ]
    },
    {
      "cell_type": "code",
      "execution_count": null,
      "metadata": {
        "id": "L2N0Cc9fhBUQ"
      },
      "outputs": [],
      "source": [
        "s = set([3,1,4,1,5,9,2,6,5,3,5,8,9,7,9,3,2])\n",
        "s"
      ]
    },
    {
      "attachments": {},
      "cell_type": "markdown",
      "metadata": {
        "id": "PhIRrEpVhBUm"
      },
      "source": [
        "集合に1つ要素を追加するにはaddを使います。\n",
        "\n",
        "`add` adds an item to the set."
      ]
    },
    {
      "cell_type": "code",
      "execution_count": null,
      "metadata": {
        "id": "iePKxdZ7hBU1"
      },
      "outputs": [],
      "source": [
        "s.add(10)\n",
        "s"
      ]
    },
    {
      "attachments": {},
      "cell_type": "markdown",
      "metadata": {
        "id": "7mtn7DzLhBVD"
      },
      "source": [
        "集合の演算を試してみましょう。\n",
        "\n",
        "Here are operators for sets."
      ]
    },
    {
      "cell_type": "code",
      "execution_count": null,
      "metadata": {
        "id": "nTQ5rfxOhBVF"
      },
      "outputs": [],
      "source": [
        "a = set([2,4,6,8,10,12,14,16,18,20])\n",
        "b = set([3,6,9,12,15,18])\n",
        "a | b                           #a or b; union 和集合"
      ]
    },
    {
      "cell_type": "code",
      "execution_count": null,
      "metadata": {
        "id": "zmztPhK3hBVL"
      },
      "outputs": [],
      "source": [
        "a & b                           #a and b; intersection 交差"
      ]
    },
    {
      "cell_type": "code",
      "execution_count": null,
      "metadata": {
        "id": "US2GquCdhBVc"
      },
      "outputs": [],
      "source": [
        "a - b                           #difference 差集合"
      ]
    },
    {
      "cell_type": "code",
      "execution_count": null,
      "metadata": {
        "id": "v_LKIRc7hBVi"
      },
      "outputs": [],
      "source": [
        "b - a                           #difference 差集合"
      ]
    },
    {
      "cell_type": "code",
      "execution_count": null,
      "metadata": {
        "id": "AVkn1B74hBVq"
      },
      "outputs": [],
      "source": [
        "a ^ b                           #exclusion 排他"
      ]
    },
    {
      "cell_type": "code",
      "execution_count": null,
      "metadata": {
        "id": "x71adm3MhBVv"
      },
      "outputs": [],
      "source": [
        "((a^b) | (a&b)) - (a|b)"
      ]
    },
    {
      "attachments": {},
      "cell_type": "markdown",
      "metadata": {
        "id": "9uZXE_vkhBVz"
      },
      "source": [
        "かけ算や足し算演算子は何に使えるのでしょうか。マニュアルを読む限り、+と\\*は使えないようです。\n",
        "\n",
        "According to the Python manual, the operators \"*\" and \"+\" are not available for sets."
      ]
    },
    {
      "cell_type": "code",
      "execution_count": null,
      "metadata": {
        "id": "5QJauz76hBVz"
      },
      "outputs": [],
      "source": [
        "s+11"
      ]
    },
    {
      "attachments": {},
      "cell_type": "markdown",
      "metadata": {
        "id": "luBSJ4lDhBV5"
      },
      "source": [
        "ある要素が集合に含まれるかどうかは、in演算子で調べます。\n",
        "\n",
        "`in` operator is useful to test the existence of a member."
      ]
    },
    {
      "cell_type": "code",
      "execution_count": null,
      "metadata": {
        "id": "6JE7jACahBV6"
      },
      "outputs": [],
      "source": [
        "if 2 in a:\n",
        "    print(\"yes\")"
      ]
    },
    {
      "attachments": {},
      "cell_type": "markdown",
      "metadata": {
        "id": "2JD4V6bEhBV9"
      },
      "source": [
        "集合には数字だけでなく文字列も入れられます。\n",
        "\n",
        "A set can also contain strings.\n",
        "\n",
        "集合の要素を使ったループができます。\n",
        "\n",
        "An example of the iteration over members of a set."
      ]
    },
    {
      "cell_type": "code",
      "execution_count": null,
      "metadata": {
        "id": "pXUpJuq6hBV-"
      },
      "outputs": [],
      "source": [
        "for e in a:\n",
        "    print(e,e*e)"
      ]
    },
    {
      "attachments": {},
      "cell_type": "markdown",
      "metadata": {
        "id": "Ohr_n6DzhBWB"
      },
      "source": [
        "リスト内包記法で集合aの要素をそれぞれ2乗したリストを作り、それを集合にします。\n",
        "\n",
        "The list comprehension creates a list of elements of set a, each of which is squared, and makes it a set."
      ]
    },
    {
      "cell_type": "code",
      "execution_count": null,
      "metadata": {
        "id": "-kIuEmmXhBWC"
      },
      "outputs": [],
      "source": [
        "L = [e*e for e in a]\n",
        "a2 = set(L)\n",
        "a2"
      ]
    },
    {
      "attachments": {},
      "cell_type": "markdown",
      "metadata": {},
      "source": [
        "集合をリストに変換するには`list`関数を使います。はじめにも書いたように、集合型ではデータの順序は維持されないので、リストに変換すると並び順はランダムになります。\n",
        "\n",
        "To convert a set to a list, use the `list` function. As mentioned in the first frame, the order of data is not preserved in a set type, so when converted to a list, the order becomes random."
      ]
    },
    {
      "cell_type": "code",
      "execution_count": null,
      "metadata": {},
      "outputs": [],
      "source": [
        "L = list(a2)\n",
        "L"
      ]
    },
    {
      "cell_type": "code",
      "execution_count": null,
      "metadata": {
        "id": "veyvSb9zhBWX"
      },
      "outputs": [],
      "source": [
        "a = set([i for i in range(0,100,2)]) # even numbers\n",
        "b = set([i for i in range(0,100,3)]) # multiple of three\n",
        "print(a|b) # even numbers or mult of three\n",
        "print(a-b) # even numbers but not mult of three\n",
        "print(a&b) # mult of 6"
      ]
    },
    {
      "attachments": {},
      "cell_type": "markdown",
      "metadata": {
        "id": "Fd-YTyvbhBWe"
      },
      "source": [
        "## 練習問題 Exercise\n",
        "### Exercise 1\n",
        "100未満の整数の集合`n1`, 100未満の偶数の集合`n2`, 100未満の3の倍数の集合`n3`, 100未満の5の倍数の集合`n5`などを作り、集合演算で素数の集合を作って下さい。(素数に1を含んでも構いません)\n",
        "\n",
        "Create a set `n1` of integers less than 100, a set `n2` of even numbers less than 100, a set `n3` of multiples of 3 less than 100, a set `n5` of multiples of 5 less than 100, etc., and use set operations to create a set of prime numbers. (Prime numbers may include 1)."
      ]
    },
    {
      "cell_type": "code",
      "execution_count": null,
      "metadata": {
        "id": "l39EI6RUhBWe"
      },
      "outputs": [],
      "source": [
        "n1=set([x for x in range(100)])\n",
        "n1"
      ]
    },
    {
      "attachments": {},
      "cell_type": "markdown",
      "metadata": {
        "id": "u2CN1MBchBWi"
      },
      "source": [
        "### Exercise 2\n",
        "てきとうな文字列を入力させ、その文字列の中で使われたアルファベット(A〜Z、a〜z)と使われなかったアルファベットをそれぞれ表示するプログラムを作って下さい。\n",
        "\n",
        "Create a program that prompts the user to enter a string and displays the letters of the alphabet (A to Z, a to z) used in the string and the letters not used in the string."
      ]
    },
    {
      "cell_type": "code",
      "execution_count": null,
      "metadata": {
        "id": "XfoaSxDihBWj"
      },
      "outputs": [],
      "source": [
        "# すべてのアルファベット文字の集合\n",
        "alphabet = set(\"ABCDEFGHIJKLMNOPQRSTUVWXYZabcdefghijklmnopqrstuvwxyz\")\n",
        "alphabet"
      ]
    },
    {
      "cell_type": "code",
      "execution_count": null,
      "metadata": {
        "id": "nFMhhFwPWFfv"
      },
      "outputs": [],
      "source": [
        "s = input(\"Input a string:\")"
      ]
    }
  ],
  "metadata": {
    "colab": {
      "include_colab_link": true,
      "name": "022集合.ipynb",
      "provenance": []
    },
    "kernelspec": {
      "display_name": "Python 3",
      "language": "python",
      "name": "python3"
    },
    "language_info": {
      "codemirror_mode": {
        "name": "ipython",
        "version": 3
      },
      "file_extension": ".py",
      "mimetype": "text/x-python",
      "name": "python",
      "nbconvert_exporter": "python",
      "pygments_lexer": "ipython3",
      "version": "3.11.2"
    }
  },
  "nbformat": 4,
  "nbformat_minor": 0
}

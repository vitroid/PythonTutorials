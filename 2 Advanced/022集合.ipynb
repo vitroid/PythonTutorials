{
 "cells": [
  {
   "cell_type": "markdown",
   "metadata": {},
   "source": [
    "# 集合\n",
    "集合はリストと同じく複数のデータを集めたものですが、集合には順序がなく、同じデータを複数含みません。"
   ]
  },
  {
   "cell_type": "code",
   "execution_count": null,
   "metadata": {
    "collapsed": false
   },
   "outputs": [],
   "source": [
    "s = set([3,1,4,1,5,9,2,6,5,3,5,8,9,7,9,3,2])\n",
    "s"
   ]
  },
  {
   "cell_type": "markdown",
   "metadata": {},
   "source": [
    "集合に1つ要素を追加するにはaddを使います。"
   ]
  },
  {
   "cell_type": "code",
   "execution_count": null,
   "metadata": {
    "collapsed": false
   },
   "outputs": [],
   "source": [
    "s.add(10)\n",
    "s"
   ]
  },
  {
   "cell_type": "markdown",
   "metadata": {},
   "source": [
    "集合の演算を試してみましょう。"
   ]
  },
  {
   "cell_type": "code",
   "execution_count": null,
   "metadata": {
    "collapsed": false
   },
   "outputs": [],
   "source": [
    "a = set([2,4,6,8,10,12,14,16,18,20])\n",
    "b = set([3,6,9,12,15,18])\n",
    "a | b                           #a or b   和集合"
   ]
  },
  {
   "cell_type": "code",
   "execution_count": null,
   "metadata": {
    "collapsed": false
   },
   "outputs": [],
   "source": [
    "a & b                           #a and b  交差"
   ]
  },
  {
   "cell_type": "code",
   "execution_count": null,
   "metadata": {
    "collapsed": false
   },
   "outputs": [],
   "source": [
    "a - b                           #差集合"
   ]
  },
  {
   "cell_type": "code",
   "execution_count": null,
   "metadata": {
    "collapsed": false
   },
   "outputs": [],
   "source": [
    "b - a                           #差集合"
   ]
  },
  {
   "cell_type": "code",
   "execution_count": null,
   "metadata": {
    "collapsed": false
   },
   "outputs": [],
   "source": [
    "a ^ b                           #排他"
   ]
  },
  {
   "cell_type": "code",
   "execution_count": null,
   "metadata": {
    "collapsed": false
   },
   "outputs": [],
   "source": [
    "((a^b) | (a&b)) - (a|b)"
   ]
  },
  {
   "cell_type": "markdown",
   "metadata": {},
   "source": [
    "かけ算や足し算演算子は何に使えるのでしょうか。マニュアルを読む限り、+と\\*は使えないようです。"
   ]
  },
  {
   "cell_type": "code",
   "execution_count": null,
   "metadata": {
    "collapsed": false
   },
   "outputs": [],
   "source": [
    "s+11"
   ]
  },
  {
   "cell_type": "markdown",
   "metadata": {},
   "source": [
    "ある要素が集合に含まれるかどうかは、in演算子で調べます。"
   ]
  },
  {
   "cell_type": "code",
   "execution_count": null,
   "metadata": {
    "collapsed": false
   },
   "outputs": [],
   "source": [
    "if 2 in a:\n",
    "    print(\"yes\")"
   ]
  },
  {
   "cell_type": "markdown",
   "metadata": {},
   "source": [
    "集合には文字列も入れられますが、辞書と同じように、定数しか入れられません。(実のところ、辞書と集合はほとんど同じものです。集合は、値を指定できない辞書です)\n",
    "\n",
    "集合のそれぞれの要素を二乗してみます。"
   ]
  },
  {
   "cell_type": "code",
   "execution_count": null,
   "metadata": {
    "collapsed": false
   },
   "outputs": [],
   "source": [
    "for e in a:\n",
    "    print(e,e*e)"
   ]
  },
  {
   "cell_type": "markdown",
   "metadata": {},
   "source": [
    "集合aの要素をそれぞれ2乗したものを要素とする、新しい集合を作ります。"
   ]
  },
  {
   "cell_type": "code",
   "execution_count": null,
   "metadata": {
    "collapsed": false
   },
   "outputs": [],
   "source": [
    "L = [e*e for e in a]\n",
    "a2 = set(L)\n",
    "a2"
   ]
  },
  {
   "cell_type": "markdown",
   "metadata": {},
   "source": [
    "集合aの要素をキーとし、2乗したものを値とする、新しい辞書を作ります。"
   ]
  },
  {
   "cell_type": "code",
   "execution_count": null,
   "metadata": {
    "collapsed": false
   },
   "outputs": [],
   "source": [
    "d = dict()\n",
    "for e in a:\n",
    "    d[e] = e*e\n",
    "print(d)"
   ]
  },
  {
   "cell_type": "markdown",
   "metadata": {},
   "source": [
    "集合は、実際には値を指定できない辞書と同じものです。ですから、集合と同じ機能を、辞書で実現することもできます。また、がんばればリストでも同じことはできます。\n",
    "\n",
    "例えば、辞書をつかって、3の倍数の集合のようなものを作るには、次のようなコードが書けるでしょう。"
   ]
  },
  {
   "cell_type": "markdown",
   "metadata": {},
   "source": [
    "a = dict()\n",
    "for i in range(0,100,3):\n",
    "    a[i] = 1\n",
    "for i in sorted(a):\n",
    "    print(i)"
   ]
  },
  {
   "cell_type": "markdown",
   "metadata": {},
   "source": [
    "リストで実現するなら、"
   ]
  },
  {
   "cell_type": "code",
   "execution_count": null,
   "metadata": {
    "collapsed": false
   },
   "outputs": [],
   "source": [
    "a = []\n",
    "for i in range(0,100,3):\n",
    "    a.append(i)\n",
    "for i in a:\n",
    "    print(i)"
   ]
  },
  {
   "cell_type": "markdown",
   "metadata": {},
   "source": [
    "実際、FortranやC言語のような古い言語には辞書も集合もないので、リスト(配列)で集合を表現するしかありません。\n",
    "\n",
    "でも、これらの「なんちゃって集合」で、和集合や差集合の機能を実現しようとすると、いちいち自分で関数定義をしなければいけないので、そこにバグを仕込んでしまう可能性が高まるうえ、読みにくく複雑でしかも遅いプログラムになってしまいます。\n",
    "\n",
    "試しに集合演算をリストだけで書いてみることにしましょう。"
   ]
  },
  {
   "cell_type": "code",
   "execution_count": null,
   "metadata": {
    "collapsed": false
   },
   "outputs": [],
   "source": [
    "def union(a,b):\n",
    "    c = []\n",
    "    for i in a:\n",
    "        if i not in c:\n",
    "            c.append(i)\n",
    "    for i in b:\n",
    "        if i not in c:\n",
    "            c.append(i)\n",
    "    return c\n",
    "\n",
    "\n",
    "def diff(a,b):\n",
    "    c = []\n",
    "    for i in a:\n",
    "        if i not in b:\n",
    "            c.append(i)\n",
    "    return c\n",
    "\n",
    "\n",
    "def intersection(a,b):\n",
    "    c = []\n",
    "    for i in a:\n",
    "        if i in b:\n",
    "            c.append(i)\n",
    "    return c\n",
    "\n",
    "\n",
    "a = [i for i in range(0,100,2)]\n",
    "b = [i for i in range(0,100,3)]\n",
    "print(union(a,b))\n",
    "print(diff(a,b))\n",
    "print(intersection(a,b))"
   ]
  },
  {
   "cell_type": "markdown",
   "metadata": {},
   "source": [
    "集合を使うなら、関数定義は不要で、演算子だけで表現できます。"
   ]
  },
  {
   "cell_type": "code",
   "execution_count": null,
   "metadata": {
    "collapsed": false
   },
   "outputs": [],
   "source": [
    "a = set([i for i in range(0,100,2)])\n",
    "b = set([i for i in range(0,100,3)])\n",
    "print(a|b)\n",
    "print(a-b)\n",
    "print(a&b)"
   ]
  },
  {
   "cell_type": "markdown",
   "metadata": {},
   "source": [
    "## 練習問題\n",
    "### 問題1\n",
    "100未満の整数の集合n1, 100未満の偶数の集合n2, 100未満の3の倍数の集合n3, 100未満の5の倍数の集合n5などを作り、集合演算で素数の集合を作って下さい。(素数に1を含んでも構いません)"
   ]
  },
  {
   "cell_type": "code",
   "execution_count": null,
   "metadata": {
    "collapsed": true
   },
   "outputs": [],
   "source": [
    "n1=set([x for x in range(100)])\n",
    "n1"
   ]
  },
  {
   "cell_type": "markdown",
   "metadata": {},
   "source": [
    "### 問題2\n",
    "てきとうな文字列を入力させ、その文字列の中で使われたアルファベット(A〜Z、a〜z)と使われなかったアルファベットをそれぞれ表示するプログラムを作って下さい。"
   ]
  },
  {
   "cell_type": "code",
   "execution_count": null,
   "metadata": {
    "collapsed": true
   },
   "outputs": [],
   "source": []
  }
 ],
 "metadata": {
  "kernelspec": {
   "display_name": "Python 3",
   "language": "python",
   "name": "python3"
  },
  "language_info": {
   "codemirror_mode": {
    "name": "ipython",
    "version": 3
   },
   "file_extension": ".py",
   "mimetype": "text/x-python",
   "name": "python",
   "nbconvert_exporter": "python",
   "pygments_lexer": "ipython3",
   "version": "3.6.5"
  }
 },
 "nbformat": 4,
 "nbformat_minor": 2
}

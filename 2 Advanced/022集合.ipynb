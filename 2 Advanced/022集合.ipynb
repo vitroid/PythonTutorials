{
  "cells": [
    {
      "cell_type": "markdown",
      "metadata": {
        "id": "view-in-github",
        "colab_type": "text"
      },
      "source": [
        "<a href=\"https://colab.research.google.com/github/vitroid/PythonTutorials/blob/master/2%20Advanced/022%E9%9B%86%E5%90%88.ipynb\" target=\"_parent\"><img src=\"https://colab.research.google.com/assets/colab-badge.svg\" alt=\"Open In Colab\"/></a>"
      ]
    },
    {
      "cell_type": "markdown",
      "metadata": {
        "id": "w0xXDzUdhBUM"
      },
      "source": [
        "# 集合 Set\n",
        "集合はリストと同じく複数のデータを集めたものですが、集合には順序がなく、同じデータを複数含みません。\n",
        "\n",
        "A set, like a list, is a collection of multiple data, but sets are unordered and do not contain multiple instances of the same data."
      ]
    },
    {
      "cell_type": "code",
      "execution_count": null,
      "metadata": {
        "id": "L2N0Cc9fhBUQ"
      },
      "outputs": [],
      "source": [
        "s = set([3,1,4,1,5,9,2,6,5,3,5,8,9,7,9,3,2])\n",
        "s"
      ]
    },
    {
      "cell_type": "markdown",
      "source": [
        "Pythonの文字列は文字のリストとみなすことができますので、こんな風にして文字列から文字の集合を作ることもできます。"
      ],
      "metadata": {
        "id": "XVTLJGuCedwB"
      }
    },
    {
      "cell_type": "code",
      "source": [
        "t = set(\"A set, like a list, is a collection of multiple data, but sets are unordered and do not contain multiple instances of the same data.\")\n",
        "t"
      ],
      "metadata": {
        "id": "OT9wEpl7enjJ"
      },
      "execution_count": null,
      "outputs": []
    },
    {
      "cell_type": "markdown",
      "source": [
        "こういう書き方もできます。"
      ],
      "metadata": {
        "id": "XMVTSNVkhtxP"
      }
    },
    {
      "cell_type": "code",
      "source": [
        "s = {3,1,4,1,5,9,2,6,5,3,5,8,9,7,9,3,2}\n",
        "s\n"
      ],
      "metadata": {
        "id": "4w_mJNPnhthH"
      },
      "execution_count": null,
      "outputs": []
    },
    {
      "cell_type": "markdown",
      "source": [
        "空の集合を作りたいときは、`set()`と書きます。`{}`でもよさそうに思えますが、これは空の辞書を作るので誤解をまねきます。"
      ],
      "metadata": {
        "id": "GJhDQIWEhaEd"
      }
    },
    {
      "cell_type": "code",
      "source": [
        "a = set()\n",
        "b = {}\n",
        "type(a), type(b)"
      ],
      "metadata": {
        "id": "QDqgKP_hhfM_"
      },
      "execution_count": null,
      "outputs": []
    },
    {
      "cell_type": "markdown",
      "source": [
        "文字列を与える場合もちょっと挙動が違うので注意が必要ですね。集合を作る時は、set()を利用したほうが安全そうです。"
      ],
      "metadata": {
        "id": "rd0W_aV2jHTh"
      }
    },
    {
      "cell_type": "code",
      "source": [
        "# 前者は文字のリストが与えられたとみなされるが、後者は文字列が集合の1要素だとみなされる。\n",
        "\n",
        "set(\"abc\"), {\"abc\"}"
      ],
      "metadata": {
        "id": "nkpBNJW2jL2n"
      },
      "execution_count": null,
      "outputs": []
    },
    {
      "cell_type": "markdown",
      "metadata": {
        "id": "PhIRrEpVhBUm"
      },
      "source": [
        "集合に1つ要素を追加するにはaddを使います。\n",
        "\n",
        "`add` adds an item to the set."
      ]
    },
    {
      "cell_type": "code",
      "execution_count": null,
      "metadata": {
        "id": "iePKxdZ7hBU1"
      },
      "outputs": [],
      "source": [
        "s.add(10)\n",
        "s"
      ]
    },
    {
      "cell_type": "markdown",
      "metadata": {
        "id": "7mtn7DzLhBVD"
      },
      "source": [
        "集合の演算を試してみましょう。\n",
        "\n",
        "Here are operators for sets."
      ]
    },
    {
      "cell_type": "code",
      "execution_count": null,
      "metadata": {
        "id": "nTQ5rfxOhBVF"
      },
      "outputs": [],
      "source": [
        "a = {2,4,6,8,10,12,14,16,18,20}\n",
        "b = set([3,6,9,12,15,18])       # こちらの書き方を推奨\n",
        "a | b                           # a or b; union 和集合"
      ]
    },
    {
      "cell_type": "code",
      "execution_count": null,
      "metadata": {
        "id": "zmztPhK3hBVL"
      },
      "outputs": [],
      "source": [
        "a & b                           # a and b; intersection 交差"
      ]
    },
    {
      "cell_type": "code",
      "execution_count": null,
      "metadata": {
        "id": "US2GquCdhBVc"
      },
      "outputs": [],
      "source": [
        "a - b                           # difference 差集合"
      ]
    },
    {
      "cell_type": "code",
      "execution_count": null,
      "metadata": {
        "id": "v_LKIRc7hBVi"
      },
      "outputs": [],
      "source": [
        "b - a                           # difference 差集合"
      ]
    },
    {
      "cell_type": "code",
      "execution_count": null,
      "metadata": {
        "id": "AVkn1B74hBVq"
      },
      "outputs": [],
      "source": [
        "a ^ b                           # exclusion 排他"
      ]
    },
    {
      "cell_type": "code",
      "execution_count": null,
      "metadata": {
        "id": "x71adm3MhBVv"
      },
      "outputs": [],
      "source": [
        "((a^b) | (a&b)) - (a|b)"
      ]
    },
    {
      "cell_type": "markdown",
      "source": [
        "すべてのアルファベットのうち、ある文章に使われて**いない**文字を知りたいなら、こんな感じで書けます。\n",
        "\n",
        "If you want to know which of alphabets are **not used** in a given sentence:"
      ],
      "metadata": {
        "id": "lkSCgYI6e3rb"
      }
    },
    {
      "cell_type": "code",
      "source": [
        "set(\"abcdefghijklmnopqrstuvwxyz\") - set(\"If you want to know which of alphabets are not used in a given sentence:\".lower())"
      ],
      "metadata": {
        "id": "bzwU5h83fAte"
      },
      "execution_count": null,
      "outputs": []
    },
    {
      "cell_type": "markdown",
      "source": [
        "もしリストしか知らないと、同じことをどう書くでしょうか。AIに書いてもらいます。"
      ],
      "metadata": {
        "id": "1BVDsAMsf270"
      }
    },
    {
      "cell_type": "code",
      "source": [
        "# prompt: 与えられた文字列に使われていないアルファベットを列挙する関数を、set()やdict()を使わずに書いて。\n",
        "\n",
        "def unused_alphabets(string):\n",
        "  alphabets = \"abcdefghijklmnopqrstuvwxyz\"\n",
        "  string_lower = string.lower()\n",
        "  for letter in alphabets:\n",
        "    if letter not in string_lower:\n",
        "      print(letter, end=\" \")\n",
        "  print()\n",
        "\n",
        "unused_alphabets(\"If you want to know which of alphabets are not used in a given sentence:\")\n"
      ],
      "metadata": {
        "id": "t0SRtMwqgCmU"
      },
      "execution_count": null,
      "outputs": []
    },
    {
      "cell_type": "markdown",
      "source": [
        "集合は、値のない辞書と思ってほぼ間違いありません。新しいPythonでは、集合演算の演算子`|`を辞書にも使えるようになりました。"
      ],
      "metadata": {
        "id": "IJSm5oFRgvNQ"
      }
    },
    {
      "cell_type": "code",
      "source": [
        "d1 = {\"a\":1, \"b\":2}\n",
        "d2 = dict(c=3,d=4)\n",
        "d1 | d2"
      ],
      "metadata": {
        "id": "ZdzrNOTkiVQC"
      },
      "execution_count": null,
      "outputs": []
    },
    {
      "cell_type": "markdown",
      "metadata": {
        "id": "9uZXE_vkhBVz"
      },
      "source": [
        "かけ算や足し算演算子は何に使えるのでしょうか。マニュアルを読む限り、+と\\*は使えないようです。\n",
        "\n",
        "According to the Python manual, the operators \"*\" and \"+\" are not available for sets."
      ]
    },
    {
      "cell_type": "code",
      "execution_count": null,
      "metadata": {
        "id": "5QJauz76hBVz"
      },
      "outputs": [],
      "source": [
        "s+11"
      ]
    },
    {
      "cell_type": "markdown",
      "metadata": {
        "id": "luBSJ4lDhBV5"
      },
      "source": [
        "ある要素が集合に含まれるかどうかは、in演算子で調べます。\n",
        "\n",
        "`in` operator is useful to test the existence of a member."
      ]
    },
    {
      "cell_type": "code",
      "execution_count": null,
      "metadata": {
        "id": "6JE7jACahBV6"
      },
      "outputs": [],
      "source": [
        "if 2 in a:\n",
        "    print(\"yes\")"
      ]
    },
    {
      "cell_type": "markdown",
      "metadata": {
        "id": "2JD4V6bEhBV9"
      },
      "source": [
        "集合には数字だけでなく文字列も入れられます。\n",
        "\n",
        "A set can also contain strings.\n",
        "\n",
        "集合の要素を使ったループができます。\n",
        "\n",
        "An example of the iteration over members of a set."
      ]
    },
    {
      "cell_type": "code",
      "execution_count": null,
      "metadata": {
        "id": "pXUpJuq6hBV-"
      },
      "outputs": [],
      "source": [
        "for e in a:\n",
        "    print(e,e*e)"
      ]
    },
    {
      "cell_type": "markdown",
      "metadata": {
        "id": "Ohr_n6DzhBWB"
      },
      "source": [
        "リスト内包記法で集合aの要素をそれぞれ2乗したリストを作り、それを集合にします。\n",
        "\n",
        "The list comprehension creates a list of elements of set a, each of which is squared, and makes it a set."
      ]
    },
    {
      "cell_type": "code",
      "execution_count": null,
      "metadata": {
        "id": "-kIuEmmXhBWC"
      },
      "outputs": [],
      "source": [
        "L = [e*e for e in a]\n",
        "a2 = set(L)\n",
        "a2"
      ]
    },
    {
      "cell_type": "markdown",
      "metadata": {
        "id": "PbxjLLrCeSnt"
      },
      "source": [
        "集合をリストに変換するには`list`関数を使います。はじめにも書いたように、集合型ではデータの順序は維持されないので、リストに変換すると並び順はランダムになります。\n",
        "\n",
        "To convert a set to a list, use the `list` function. As mentioned in the first frame, the order of data is not preserved in a set type, so when converted to a list, the order becomes random."
      ]
    },
    {
      "cell_type": "code",
      "execution_count": null,
      "metadata": {
        "id": "Lye5qv3zeSnt"
      },
      "outputs": [],
      "source": [
        "L = list(a2)\n",
        "L"
      ]
    },
    {
      "cell_type": "code",
      "execution_count": null,
      "metadata": {
        "id": "veyvSb9zhBWX"
      },
      "outputs": [],
      "source": [
        "a = set([i for i in range(0,100,2)]) # even numbers\n",
        "b = set([i for i in range(0,100,3)]) # multiple of three\n",
        "print(a|b) # even numbers or mult of three\n",
        "print(a-b) # even numbers but not mult of three\n",
        "print(a&b) # mult of 6"
      ]
    },
    {
      "cell_type": "markdown",
      "source": [
        "辞書や集合と、リストの大きな違いは、検索の速さです。\n",
        "\n",
        "リストの中を検索するためには、先頭から順番に調べる必要があり、index命令を使ったとしてもそれなりの時間がかかります。たくさんのデータの中から検索する必要がある場合には、辞書や集合のほうが極めて高速になります。\n",
        "\n",
        "次の例では、1000万個の整数乱数のなかに、特定の数値が含まれるかどうかを調べます。"
      ],
      "metadata": {
        "id": "ErLoDSvDmIuT"
      }
    },
    {
      "cell_type": "code",
      "source": [
        "import numpy as np\n",
        "\n",
        "numbers = list(np.random.randint(10000000, size=[10000000]))\n",
        "numset = set(numbers)\n",
        "numbers"
      ],
      "metadata": {
        "id": "XCrO5KiSnhZK"
      },
      "execution_count": null,
      "outputs": []
    },
    {
      "cell_type": "code",
      "source": [
        "# 10000000個の乱数の中に0〜9が含まれているかどうかを知りたい。\n",
        "# リストを使う場合。\n",
        "%%time\n",
        "for i in range(10):\n",
        "    print(i, i in numbers)\n"
      ],
      "metadata": {
        "id": "uXnGvzeooEXN"
      },
      "execution_count": null,
      "outputs": []
    },
    {
      "cell_type": "code",
      "source": [
        "# 10000000個の乱数の中に0〜9が含まれているかどうかを知りたい。\n",
        "# 集合を使う場合。\n",
        "%%time\n",
        "for i in range(10):\n",
        "    print(i, i in numset)\n"
      ],
      "metadata": {
        "id": "buSypPOeohbQ"
      },
      "execution_count": null,
      "outputs": []
    },
    {
      "cell_type": "markdown",
      "metadata": {
        "id": "Fd-YTyvbhBWe"
      },
      "source": [
        "## 練習問題 Exercise\n",
        "### Exercise 1\n",
        "100未満の整数の集合`n1`, 100未満の偶数の集合`n2`, 100未満の3の倍数の集合`n3`, 100未満の5の倍数の集合`n5`などを作り、集合演算で素数の集合を作って下さい。(素数に1を含んでも構いません)\n",
        "\n",
        "Create a set `n1` of integers less than 100, a set `n2` of even numbers less than 100, a set `n3` of multiples of 3 less than 100, a set `n5` of multiples of 5 less than 100, etc., and use set operations to create a set of prime numbers. (Prime numbers may include 1)."
      ]
    },
    {
      "cell_type": "code",
      "execution_count": null,
      "metadata": {
        "id": "l39EI6RUhBWe"
      },
      "outputs": [],
      "source": [
        "n1=set([x for x in range(100)])\n",
        "n1"
      ]
    },
    {
      "cell_type": "markdown",
      "metadata": {
        "id": "u2CN1MBchBWi"
      },
      "source": [
        "### Exercise 2\n",
        "てきとうな文字列を入力させ、その文字列の中で使われたアルファベット(A〜Z、a〜z)と使われなかったアルファベットをそれぞれ表示するプログラムを作って下さい。\n",
        "\n",
        "Create a program that prompts the user to enter a string and displays the letters of the alphabet (A to Z, a to z) used in the string and the letters not used in the string."
      ]
    },
    {
      "cell_type": "code",
      "execution_count": null,
      "metadata": {
        "id": "XfoaSxDihBWj"
      },
      "outputs": [],
      "source": [
        "# すべてのアルファベット文字の集合\n",
        "alphabet = set(\"ABCDEFGHIJKLMNOPQRSTUVWXYZabcdefghijklmnopqrstuvwxyz\")\n",
        "alphabet"
      ]
    },
    {
      "cell_type": "code",
      "execution_count": null,
      "metadata": {
        "id": "nFMhhFwPWFfv"
      },
      "outputs": [],
      "source": [
        "s = input(\"Input a string:\")"
      ]
    }
  ],
  "metadata": {
    "colab": {
      "name": "022集合.ipynb",
      "provenance": [],
      "include_colab_link": true
    },
    "kernelspec": {
      "display_name": "Python 3",
      "language": "python",
      "name": "python3"
    },
    "language_info": {
      "codemirror_mode": {
        "name": "ipython",
        "version": 3
      },
      "file_extension": ".py",
      "mimetype": "text/x-python",
      "name": "python",
      "nbconvert_exporter": "python",
      "pygments_lexer": "ipython3",
      "version": "3.11.2"
    }
  },
  "nbformat": 4,
  "nbformat_minor": 0
}
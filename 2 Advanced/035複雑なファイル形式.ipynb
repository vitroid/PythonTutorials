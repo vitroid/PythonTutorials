{
  "cells": [
    {
      "cell_type": "markdown",
      "metadata": {
        "colab_type": "text",
        "id": "view-in-github"
      },
      "source": [
        "<a href=\"https://colab.research.google.com/github/vitroid/PythonTutorials/blob/2021m1/035%E8%A4%87%E9%9B%91%E3%81%AA%E3%83%95%E3%82%A1%E3%82%A4%E3%83%AB%E5%BD%A2%E5%BC%8F.ipynb\" target=\"_parent\"><img src=\"https://colab.research.google.com/assets/colab-badge.svg\" alt=\"Open In Colab\"/></a>"
      ]
    },
    {
      "cell_type": "markdown",
      "metadata": {
        "id": "IfP-6XJ4Ry0k"
      },
      "source": [
        "Microsoft Wordのdocxファイルを操作してみます。\n",
        "\n",
        "まず、外部ライブラリをインストールします。インストールは、Colabを開いたあと一度だけ実施します。(こんなのどうやって見付けるんだ、と思うかもしれませんが、「word docx python」でGoogle検索しているだけです。)"
      ]
    },
    {
      "cell_type": "code",
      "execution_count": null,
      "metadata": {
        "id": "CEwzXJj4kqUh"
      },
      "outputs": [],
      "source": [
        "# https://gammasoft.jp/support/how-to-use-python-docx-for-word-file/\n",
        "\n",
        "# Google Colabの場合のみ。(Localにはインストール済み?)\n",
        "!pip install python-docx"
      ]
    },
    {
      "cell_type": "markdown",
      "metadata": {},
      "source": [
        "ウェブページの解説に従って、サンプルファイルを読んでみます。 http://www.jsgi.org/doc/Layout_Sample.docx\n",
        "\n",
        "doc変数には、docファイルの内容全体が含まれていますが、たぶん複雑なデータ構造なので、そのままprint()で表示したりすることはできません。"
      ]
    },
    {
      "cell_type": "code",
      "execution_count": null,
      "metadata": {
        "id": "EXDzVfn7k9qu"
      },
      "outputs": [],
      "source": [
        "import docx\n",
        "doc = docx.Document(\"Layout_Sample.docx\")\n"
      ]
    },
    {
      "cell_type": "markdown",
      "metadata": {
        "id": "f8pwkbxbSXcv"
      },
      "source": [
        "そのままセーブすると、コピーが作れます。"
      ]
    },
    {
      "cell_type": "code",
      "execution_count": null,
      "metadata": {
        "id": "L8Nem454SaQR"
      },
      "outputs": [],
      "source": [
        "doc.save(\"Sample2.docx\")"
      ]
    },
    {
      "cell_type": "markdown",
      "metadata": {
        "id": "t2IVkEZNSfHe"
      },
      "source": [
        "文書は段落に分割されているようです。リストdoc.pragraphsには、それぞれの段落の内容が含まれていて、段落の.text属性に、素の文章が入っています。"
      ]
    },
    {
      "cell_type": "code",
      "execution_count": null,
      "metadata": {
        "id": "Lzc3uo2ooCDb"
      },
      "outputs": [],
      "source": [
        "for para in doc.paragraphs:\n",
        "    print(para.text)"
      ]
    },
    {
      "cell_type": "markdown",
      "metadata": {
        "id": "ZXdwjya9SwG7"
      },
      "source": [
        "段落の切れ目がどうなっているのかよくわからないので、行番号を付けてみます。enumerateを使います。"
      ]
    },
    {
      "cell_type": "code",
      "execution_count": null,
      "metadata": {
        "id": "p4LBgmp8oQvw"
      },
      "outputs": [],
      "source": [
        "for i, para in enumerate(doc.paragraphs):\n",
        "    print(i, para.text)"
      ]
    },
    {
      "cell_type": "markdown",
      "metadata": {
        "id": "4gtm4o4VTA58"
      },
      "source": [
        "Google Translateで翻訳してみましょう。\n",
        "\n",
        "これも外部ライブラリを見付けてきました。"
      ]
    },
    {
      "cell_type": "code",
      "execution_count": null,
      "metadata": {
        "id": "sFgKnRKfoXQK"
      },
      "outputs": [],
      "source": [
        "# https://pypi.org/project/googletrans/\n",
        "\n",
        "# Google Colabのみ。\n",
        "\n",
        "!pip install googletrans==3.1.0a0"
      ]
    },
    {
      "cell_type": "markdown",
      "metadata": {
        "id": "kAjtyNvVTIV5"
      },
      "source": [
        "基本的な使い方はこんな感じです。Translatorクラスをインポートし、translatorオブジェクトを生成し、それを使って文章を翻訳します。"
      ]
    },
    {
      "cell_type": "code",
      "execution_count": null,
      "metadata": {
        "id": "P8OouTlyo4T1"
      },
      "outputs": [],
      "source": [
        "from googletrans import Translator\n",
        "translator = Translator()\n",
        "translator.translate(\"Happy New Year!\", dest='ja').text"
      ]
    },
    {
      "cell_type": "markdown",
      "metadata": {
        "id": "KGazNuhgTakl"
      },
      "source": [
        "ドイツ語でも大丈夫。"
      ]
    },
    {
      "cell_type": "code",
      "execution_count": null,
      "metadata": {
        "id": "TULMjAavTaLN"
      },
      "outputs": [],
      "source": [
        "from googletrans import Translator\n",
        "translator = Translator()\n",
        "translator.translate(\"Guten morgen!\", dest='en').text"
      ]
    },
    {
      "cell_type": "markdown",
      "metadata": {
        "id": "tqHpnm1aTtKx"
      },
      "source": [
        "docxを読みこみ、段落ごとに翻訳します。"
      ]
    },
    {
      "cell_type": "code",
      "execution_count": null,
      "metadata": {
        "id": "ybFxYnoFpXPZ"
      },
      "outputs": [],
      "source": [
        "from googletrans import Translator\n",
        "translator = Translator()\n",
        "\n",
        "import docx\n",
        "# doc = docx.Document(\"/content/drive/MyDrive/Sample.docx\")\n",
        "doc = docx.Document(\"Sample2.docx\")\n",
        "\n",
        "for para in doc.paragraphs:\n",
        "    translated = translator.translate(para.text, dest='en')\n",
        "    print(translated.origin)\n",
        "    print(translated.text)"
      ]
    },
    {
      "cell_type": "markdown",
      "metadata": {
        "id": "mhnXS7i0T3yQ"
      },
      "source": [
        "翻訳結果を、別のdocxファイルに保存します。"
      ]
    },
    {
      "cell_type": "code",
      "execution_count": null,
      "metadata": {
        "id": "lKSnKgVIqd_Z"
      },
      "outputs": [],
      "source": [
        "from googletrans import Translator\n",
        "translator = Translator()\n",
        "for para in doc.paragraphs:\n",
        "    translated = translator.translate(para.text, dest='en')\n",
        "    para.text = translated.text\n",
        "# doc.save(\"/content/drive/MyDrive/Translated.docx\")\n",
        "doc.save(\"Translated.docx\")"
      ]
    },
    {
      "cell_type": "markdown",
      "metadata": {
        "id": "2fspsbBKT_c1"
      },
      "source": [
        "こんどはPDFから文章を抽出してみます。\n",
        "\n",
        "これも検索で見付けてきました。"
      ]
    },
    {
      "cell_type": "code",
      "execution_count": null,
      "metadata": {
        "id": "0sOLGiYRsC-y"
      },
      "outputs": [],
      "source": [
        "# https://stackoverflow.com/questions/34837707/how-to-extract-text-from-a-pdf-file\n",
        "!pip install textract"
      ]
    },
    {
      "cell_type": "markdown",
      "metadata": {
        "id": "TRFaSuGdUHlr"
      },
      "source": [
        "Sample.pdfのなかの文章を抽出します。"
      ]
    },
    {
      "cell_type": "code",
      "execution_count": null,
      "metadata": {
        "id": "K1Ghhg3as3zk"
      },
      "outputs": [],
      "source": [
        "import textract\n",
        "# text = textract.process(\"/content/drive/MyDrive/Sample.pdf\")\n",
        "text = textract.process(\"Sample.pdf\")\n",
        "text"
      ]
    },
    {
      "cell_type": "markdown",
      "metadata": {
        "id": "Dl5kn3VdUNow"
      },
      "source": [
        "先頭に\"b\"がついているのは、抽出した文字列が、Pythonによって文字と認識されておらず、ただのデータ列だと思われているという意味です。\n",
        "\n",
        "文字列として認識してもらうには、文字エンコーディングを指定する必要があります。最近の文書なら、ほとんどの場合unicode (utf-8)でしょうから、それを指示します。"
      ]
    },
    {
      "cell_type": "code",
      "execution_count": null,
      "metadata": {
        "id": "Tx7I-r8nuAct"
      },
      "outputs": [],
      "source": [
        "import textract\n",
        "# text = textract.process(\"/content/drive/MyDrive/Sample.pdf\").decode('utf-8')\n",
        "text = textract.process(\"Sample.pdf\").decode('utf-8')\n",
        "text"
      ]
    },
    {
      "cell_type": "markdown",
      "metadata": {
        "id": "cj8fC0l6Umhq"
      },
      "source": [
        "改行文字`\\n`がランダムに入ってしまうので、これをとりのぞきます。\n",
        "\n",
        "`replace()`という関数を使うとよいようです。"
      ]
    },
    {
      "cell_type": "code",
      "execution_count": null,
      "metadata": {
        "id": "yq4TojXKuYUG"
      },
      "outputs": [],
      "source": [
        "import string\n",
        "lines = text.replace('\\n', '')\n",
        "lines"
      ]
    },
    {
      "cell_type": "markdown",
      "metadata": {
        "id": "Wtn5RTQIUu2z"
      },
      "source": [
        "行ごとに翻訳してみます。"
      ]
    },
    {
      "cell_type": "code",
      "execution_count": null,
      "metadata": {
        "id": "rxdu9deMue_5"
      },
      "outputs": [],
      "source": [
        "from googletrans import Translator\n",
        "translator = Translator()\n",
        "\n",
        "translated = translator.translate(lines, dest='en')\n",
        "translated.text"
      ]
    },
    {
      "cell_type": "markdown",
      "metadata": {
        "id": "T-ZCnOH1ykS3"
      },
      "source": [
        "残念ながら、google translateをPython経由で頻繁に呼びだすと、翻訳してくれなくなるようです。大量に翻訳したい場合は、やはりお金を払うサービスでないとむりかもしれません。\n",
        "\n",
        "次の例では、google translateの代わりに、DeepL APIを利用しています。(API=Application Programming Interface; 外部のプログラムを呼びだして利用するための手順)\n",
        "\n",
        "DeepL APIは有料です。ここでは、松本のアカウントを使って翻訳してみます。\n",
        "\n",
        "auth_keyの部分に、あらかじめDeepLから提供された特殊な文字列を書く必要があります。ここに書いてしまうと、githubを通じて世界中から見えてしまうので、auth_keyもまた別の方法でみなさんに貸しだします。"
      ]
    },
    {
      "cell_type": "code",
      "execution_count": null,
      "metadata": {
        "colab": {
          "base_uri": "https://localhost:8080/",
          "height": 35
        },
        "id": "BrNDY_Oqu5xS",
        "outputId": "77af4ac7-1916-44e2-de28-a2cd2ab61578"
      },
      "outputs": [],
      "source": [
        "# https://michimani.net/post/programming-using-deepl-api-by-python/\n",
        "import urllib.parse\n",
        "import urllib.request\n",
        "import json\n",
        "\n",
        "DEEPL_TRANSLATE_EP = 'https://api.deepl.com/v2/translate'\n",
        "\n",
        "def translate(text, s_lang='', t_lang='JA'):\n",
        "    # DeepL APIはウェブ上で働くAPIなので、呼びだすにはHTTPプロトコルでデータの\n",
        "    # やりとりをする必要があります。この関数はその煩雑な手順をパッケージしたも\n",
        "    # のです。\n",
        "    # s_langは元の文章の言語、t_langは翻訳後の言語で、デフォルト値がJAなので、\n",
        "    # 指定しない場合は日本語に翻訳されます。\n",
        "\n",
        "    headers = {\n",
        "        'Content-Type': 'application/x-www-form-urlencoded; utf-8'\n",
        "    }\n",
        "\n",
        "    params = {\n",
        "        'auth_key': \"\",\n",
        "        'text': text,\n",
        "        'target_lang': t_lang\n",
        "    }\n",
        "\n",
        "    if s_lang != '':\n",
        "        params['source_lang'] = s_lang\n",
        "\n",
        "    req = urllib.request.Request(\n",
        "        DEEPL_TRANSLATE_EP,\n",
        "        method='POST',\n",
        "        data=urllib.parse.urlencode(params).encode('utf-8'),\n",
        "        headers=headers\n",
        "    )\n",
        "\n",
        "    try:\n",
        "        with urllib.request.urlopen(req) as res:\n",
        "            res = json.loads(res.read().decode('utf-8'))\n",
        "            return res[\"translations\"][0][\"text\"]\n",
        "    except urllib.error.HTTPError as e:\n",
        "        print(e)\n",
        "\n",
        "translate(\"まず、外部ライブラリをインストールします。インストールは、Colabを開いたあと一度だけ実施します。(こんなのどうやって見付けるんだ、と思うかもしれませんが、「word docx python」でGoogle検索しているだけです。)\", t_lang=\"en\")"
      ]
    },
    {
      "cell_type": "code",
      "execution_count": null,
      "metadata": {
        "id": "-6eViQuRwWMF"
      },
      "outputs": [],
      "source": [
        "import docx\n",
        "# doc = docx.Document(\"/content/drive/MyDrive/Sample.docx\")\n",
        "doc = docx.Document(\"Sample2.docx\")\n",
        "\n",
        "for para in doc.paragraphs:\n",
        "    translated = translate(para.text, t_lang=\"en\")\n",
        "    print(translated)"
      ]
    },
    {
      "cell_type": "markdown",
      "metadata": {
        "id": "STcRLpU-V7Dh"
      },
      "source": [
        "こんな風に、docやpdfを読みだすモジュールと、翻訳サービスをpythonで連結することで、手作業でしかできなかったことを自動処理にできます。一種のRPA(Robotic Process Automation)ですね。\n",
        "\n",
        " ExcelのファイルxlsxもPythonから操作できますが、その話はまた後ほど機会があれば説明します。"
      ]
    },
    {
      "cell_type": "code",
      "execution_count": null,
      "metadata": {
        "id": "JnXKc7Ra0uIl"
      },
      "outputs": [],
      "source": []
    }
  ],
  "metadata": {
    "colab": {
      "authorship_tag": "ABX9TyP/6G4F9vLDglMAPwwWfqyx",
      "collapsed_sections": [],
      "include_colab_link": true,
      "mount_file_id": "17WCHM-w9OpJZeW_7fIPVPYG-vd7-17tC",
      "name": "035複雑なファイル形式.ipynb",
      "provenance": []
    },
    "kernelspec": {
      "display_name": "Python 3",
      "name": "python3"
    },
    "language_info": {
      "codemirror_mode": {
        "name": "ipython",
        "version": 3
      },
      "file_extension": ".py",
      "mimetype": "text/x-python",
      "name": "python",
      "nbconvert_exporter": "python",
      "pygments_lexer": "ipython3",
      "version": "3.9.10"
    }
  },
  "nbformat": 4,
  "nbformat_minor": 0
}

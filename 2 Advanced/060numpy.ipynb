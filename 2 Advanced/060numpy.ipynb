{
 "cells": [
  {
   "cell_type": "markdown",
   "metadata": {},
   "source": [
    "# numpyを使う\n",
    "前節では、行列の基本的な演算をおこなう関数を一通り準備しました。Numpyは行列計算を含む、高度な数値計算を高速に行うライブラリで、これを使うと、行列計算の関数は自作する必要がまったくなくなります。(とはいえ、スキルを上げるためには、自分で書けたほうが良いです)"
   ]
  },
  {
   "cell_type": "markdown",
   "metadata": {},
   "source": [
    "### ベクトル\n",
    "numpyには、arrayと呼ばれる、リストに似たデータ形式があります。実際のところ、listは簡単にarrayに変換できます。"
   ]
  },
  {
   "cell_type": "code",
   "execution_count": null,
   "metadata": {
    "collapsed": false
   },
   "outputs": [],
   "source": [
    "import numpy as np\n",
    "\n",
    "L = [1.0,2.0,3.0]\n",
    "vector = np.array(L)\n",
    "vector"
   ]
  },
  {
   "cell_type": "markdown",
   "metadata": {},
   "source": [
    "要素が0ばかりのarrayを作る便利な関数があります。"
   ]
  },
  {
   "cell_type": "code",
   "execution_count": null,
   "metadata": {
    "collapsed": false
   },
   "outputs": [],
   "source": [
    "z = np.zeros(100)\n",
    "z"
   ]
  },
  {
   "cell_type": "markdown",
   "metadata": {},
   "source": [
    "arrayの一部分をとりだす方法は、listと同じです。"
   ]
  },
  {
   "cell_type": "code",
   "execution_count": null,
   "metadata": {
    "collapsed": false
   },
   "outputs": [],
   "source": [
    "vector[1],vector[1:3]"
   ]
  },
  {
   "cell_type": "markdown",
   "metadata": {},
   "source": [
    "しかし、演算子を使う時に、大きな違いがあります。list同士を足し算すると、長いリストになるのに対し、array同士を足すと、ベクトルの加算を行ってくれます。"
   ]
  },
  {
   "cell_type": "code",
   "execution_count": null,
   "metadata": {
    "collapsed": false,
    "scrolled": true
   },
   "outputs": [],
   "source": [
    "L1 = [1,2,3]\n",
    "L2 = [4,5,6]\n",
    "print(L1+L2)"
   ]
  },
  {
   "cell_type": "code",
   "execution_count": null,
   "metadata": {
    "collapsed": false
   },
   "outputs": [],
   "source": [
    "v1 = np.array(L1)\n",
    "v2 = np.array(L2)\n",
    "print(v1+v2,v2-v1)"
   ]
  },
  {
   "cell_type": "markdown",
   "metadata": {},
   "source": [
    "ベクトルに定数を掛けることも可能です。"
   ]
  },
  {
   "cell_type": "code",
   "execution_count": null,
   "metadata": {
    "collapsed": false
   },
   "outputs": [],
   "source": [
    "v1*10"
   ]
  },
  {
   "cell_type": "markdown",
   "metadata": {},
   "source": [
    "ベクトル同士のかけ算をすると、どうなるでしょうか。"
   ]
  },
  {
   "cell_type": "code",
   "execution_count": null,
   "metadata": {
    "collapsed": false,
    "scrolled": true
   },
   "outputs": [],
   "source": [
    "v1*v2"
   ]
  },
  {
   "cell_type": "markdown",
   "metadata": {},
   "source": [
    "要素同士がかけあわされたarrayになりました。この要素を足しあわせれば、2つのベクトルの内積(dot product)が得られます。"
   ]
  },
  {
   "cell_type": "code",
   "execution_count": null,
   "metadata": {
    "collapsed": false,
    "scrolled": true
   },
   "outputs": [],
   "source": [
    "sum(v1*v2)"
   ]
  },
  {
   "cell_type": "markdown",
   "metadata": {},
   "source": [
    "ですが、これだと一見して何を計算しようとしているのかわかりにくいので、dot関数を使いましょう。"
   ]
  },
  {
   "cell_type": "code",
   "execution_count": null,
   "metadata": {
    "collapsed": false,
    "scrolled": true
   },
   "outputs": [],
   "source": [
    "np.dot(v1,v2)"
   ]
  },
  {
   "cell_type": "markdown",
   "metadata": {},
   "source": [
    "外積(cross product)はcross関数で計算できます。(外積って何だったか覚えていますか?)"
   ]
  },
  {
   "cell_type": "code",
   "execution_count": null,
   "metadata": {
    "collapsed": false
   },
   "outputs": [],
   "source": [
    "np.cross(v1,v2)"
   ]
  },
  {
   "cell_type": "markdown",
   "metadata": {},
   "source": [
    "これで、ベクトルの基本的な計算はすべてできることがわかりました。\n",
    "\n",
    "### 行列\n",
    "次に行列に挑戦します。2次元のリストをarrayに変換すると、行列として扱われます。"
   ]
  },
  {
   "cell_type": "code",
   "execution_count": null,
   "metadata": {
    "collapsed": false,
    "scrolled": true
   },
   "outputs": [],
   "source": [
    "LX = [[1,2,3],\n",
    "      [4,5,6],\n",
    "      [7,8,9]]\n",
    "LX"
   ]
  },
  {
   "cell_type": "code",
   "execution_count": null,
   "metadata": {
    "collapsed": false
   },
   "outputs": [],
   "source": [
    "NX = np.array(LX)\n",
    "NX"
   ]
  },
  {
   "cell_type": "markdown",
   "metadata": {},
   "source": [
    "0ベクトルと同じように、0行列も簡単に作れます。"
   ]
  },
  {
   "cell_type": "code",
   "execution_count": null,
   "metadata": {
    "collapsed": false
   },
   "outputs": [],
   "source": [
    "np.zeros((3,3))"
   ]
  },
  {
   "cell_type": "markdown",
   "metadata": {},
   "source": [
    "単位行列もよく使います。"
   ]
  },
  {
   "cell_type": "code",
   "execution_count": null,
   "metadata": {
    "collapsed": false
   },
   "outputs": [],
   "source": [
    "np.identity(3)"
   ]
  },
  {
   "cell_type": "markdown",
   "metadata": {},
   "source": [
    "行列(あるいは多次元のarray)の要素を指定する時は、リストの場合よりも直感的な表記ができます。"
   ]
  },
  {
   "cell_type": "code",
   "execution_count": null,
   "metadata": {
    "collapsed": false
   },
   "outputs": [],
   "source": [
    "print(LX[1])\n",
    "print(NX[1])\n",
    "print(LX[1][1])\n",
    "print(NX[1,1])"
   ]
  },
  {
   "cell_type": "markdown",
   "metadata": {},
   "source": [
    "また、多次元arrayを切り出す場合には、\":\"(コロン)を使った独特の記法が使えます。おなじことを多次元リストに対してやろうとすると、forループを書かざるをえません。"
   ]
  },
  {
   "cell_type": "code",
   "execution_count": null,
   "metadata": {
    "collapsed": false
   },
   "outputs": [],
   "source": [
    "print(NX[1:3,1:3])\n",
    "print(NX[0:2,2])"
   ]
  },
  {
   "cell_type": "markdown",
   "metadata": {},
   "source": [
    "行列NXにベクトルを掛けてみます。"
   ]
  },
  {
   "cell_type": "code",
   "execution_count": null,
   "metadata": {
    "collapsed": false
   },
   "outputs": [],
   "source": [
    "v = np.array([10,100,1000])\n",
    "NX*v"
   ]
  },
  {
   "cell_type": "markdown",
   "metadata": {},
   "source": [
    "これは妙な計算になってしまいました。では、dotなら?"
   ]
  },
  {
   "cell_type": "code",
   "execution_count": null,
   "metadata": {
    "collapsed": false
   },
   "outputs": [],
   "source": [
    "np.dot(NX,v)"
   ]
  },
  {
   "cell_type": "markdown",
   "metadata": {},
   "source": [
    "vと答の両方が縦ベクトルだと思えば、ちゃんと行列とベクトルのかけ算になっていることはわかると思います。"
   ]
  },
  {
   "cell_type": "markdown",
   "metadata": {},
   "source": [
    "では、行列のかけ算を試してみましょう。"
   ]
  },
  {
   "cell_type": "code",
   "execution_count": null,
   "metadata": {
    "collapsed": false
   },
   "outputs": [],
   "source": [
    "A = np.array([[1,1],\n",
    "              [2,2]])\n",
    "B = np.array([[3,4],\n",
    "              [3,4]])\n",
    "print(np.dot(A,B))\n",
    "print(np.dot(B,A))"
   ]
  },
  {
   "cell_type": "markdown",
   "metadata": {},
   "source": [
    "ちゃんと順序通りのかけ算ができることがわかりました。\n",
    "\n",
    "行列を2乗すると?"
   ]
  },
  {
   "cell_type": "code",
   "execution_count": null,
   "metadata": {
    "collapsed": false
   },
   "outputs": [],
   "source": [
    "A**2"
   ]
  },
  {
   "cell_type": "markdown",
   "metadata": {},
   "source": [
    "だめでした。ベクトル同士を\"\\*\"した時と同じように、要素ごとのかけ算になってしまいました。やはり、次のように書かないといけないようです。"
   ]
  },
  {
   "cell_type": "code",
   "execution_count": null,
   "metadata": {
    "collapsed": false
   },
   "outputs": [],
   "source": [
    "np.dot(A,A)"
   ]
  },
  {
   "cell_type": "markdown",
   "metadata": {},
   "source": [
    "転置行列はtranspose()関数で。"
   ]
  },
  {
   "cell_type": "code",
   "execution_count": null,
   "metadata": {
    "collapsed": false
   },
   "outputs": [],
   "source": [
    "np.transpose(A)"
   ]
  },
  {
   "cell_type": "markdown",
   "metadata": {},
   "source": [
    "行列式、逆行列も簡単です。numpyの拡張ライブラリlinalg(Linear Algorithm?)の中に、いろんな関数が準備されています。"
   ]
  },
  {
   "cell_type": "code",
   "execution_count": null,
   "metadata": {
    "collapsed": false
   },
   "outputs": [],
   "source": [
    "A = np.array([[1,1],[1,2]])\n",
    "B = np.linalg.inv(A)\n",
    "d = np.linalg.det(A)\n",
    "print(B)\n",
    "print(np.dot(A,B))\n",
    "print(np.dot(B,A))\n",
    "print(d)"
   ]
  },
  {
   "cell_type": "markdown",
   "metadata": {},
   "source": [
    "行列計算で、あと面倒くさいものといえば、固有値計算ですが、これもnumpyに組みこまれています。\n",
    "\n",
    "ある行列Aに対し、次のような関係を満たす数$a$とベクトル$\\vec{v}$を、固有値と固有ベクトルと呼びます。\n",
    "$$A\\vec{v}=a\\vec{v}$$"
   ]
  },
  {
   "cell_type": "code",
   "execution_count": null,
   "metadata": {
    "collapsed": false,
    "scrolled": true
   },
   "outputs": [],
   "source": [
    "A = np.array([[1,1],[1,2]])\n",
    "np.linalg.eig(A)"
   ]
  },
  {
   "cell_type": "markdown",
   "metadata": {},
   "source": [
    "eig関数は、2つの値を返すことがわかります。1つめのarrayは、2つの固有値を含んでいます。そして、2つめの2次元arrayには、対応する固有ベクトルが行列の形で含まれています。ただし、縦に入っているらしいので、個々のベクトルを取りだす時には一工夫必要です。"
   ]
  },
  {
   "cell_type": "code",
   "execution_count": null,
   "metadata": {
    "collapsed": false
   },
   "outputs": [],
   "source": [
    "eigenvalues, eigenvectors = np.linalg.eig(A)\n",
    "eigenvectors= np.transpose(eigenvectors)   #転置する\n",
    "print(eigenvalues[0],eigenvectors[0])\n",
    "#上の関係式を満たすかどうか確認する。\n",
    "print(eigenvalues[0]*eigenvectors[0], np.dot(A,eigenvectors[0]))"
   ]
  },
  {
   "cell_type": "markdown",
   "metadata": {},
   "source": [
    "数値計算では、通常のリストの代わりにnumpyのarrayを使うことをおすすめします。ベクトルや行列の計算が簡単にでき、プログラムがすっきりするというメリットの他に、計算が非常に高速になるというメリットもあります。"
   ]
  },
  {
   "cell_type": "code",
   "execution_count": null,
   "metadata": {
    "collapsed": false
   },
   "outputs": [],
   "source": [
    "import numpy as np\n",
    "import time\n",
    "\n",
    "#リストLの各要素をx倍する。\n",
    "def mul_list(L,x):\n",
    "    ans = []\n",
    "    for i in L:\n",
    "        ans.append(i*x)\n",
    "    return ans\n",
    "\n",
    "#array Aの各要素をx倍する。\n",
    "def mul_array(A,x):\n",
    "    return A*x\n",
    "\n",
    "L = list(range(1000000))\n",
    "A = np.array(L)\n",
    "\n",
    "#time()関数は現在の時刻(秒)を教えてくれます。\n",
    "#関数を実行する前と後の秒の差をとると、実行時間がわかります。\n",
    "\n",
    "#リストの場合\n",
    "now = time.time()\n",
    "mul_list(L,10)\n",
    "print(time.time()-now)\n",
    "\n",
    "#arrayの場合\n",
    "now = time.time()\n",
    "mul_array(A,10)\n",
    "print(time.time()-now)\n",
    "\n"
   ]
  },
  {
   "cell_type": "markdown",
   "metadata": {},
   "source": [
    "所要時間に30倍以上の差があることがわかりました。\n",
    "\n",
    "データが大きくなればなるほど、numpyは威力を発揮します。ここでは、3次元の小さな行列やベクトルしか扱いませんでしたが、フーリエ変換や相関関数の計算も、つきつめれば超多次元のベクトルや行列の演算とみなせます。\n",
    "\n",
    "最後に、少し変態的なnumpyの機能を紹介します。\n",
    "\n",
    "まず、randomライブラリを使って、-1から+1の間の乱数を100個作り、array aに入れます。"
   ]
  },
  {
   "cell_type": "code",
   "execution_count": null,
   "metadata": {
    "collapsed": false
   },
   "outputs": [],
   "source": [
    "import random\n",
    "a = np.array([random.random()*2-1 for x in range(100)])\n",
    "print(a)"
   ]
  },
  {
   "cell_type": "markdown",
   "metadata": {},
   "source": [
    "arrayに対して定数の足し算やかけ算をすると、個々の要素に対して定数が足されたり掛けられたりしました。\n",
    "\n",
    "それと同じように、arrayに対して比較演算子を使うと、個々の要素に対して比較が行われ、その結果が論理型(True or False)のarrayになります。"
   ]
  },
  {
   "cell_type": "code",
   "execution_count": null,
   "metadata": {
    "collapsed": false
   },
   "outputs": [],
   "source": [
    "b = (a > 0)\n",
    "print(b)"
   ]
  },
  {
   "cell_type": "markdown",
   "metadata": {},
   "source": [
    "そして、aの引数を指定する代わりに、論理型のarrayを与えると、真(True)な要素だけを抽出できます。"
   ]
  },
  {
   "cell_type": "code",
   "execution_count": null,
   "metadata": {
    "collapsed": false
   },
   "outputs": [],
   "source": [
    "c = a[b]\n",
    "print(c)"
   ]
  },
  {
   "cell_type": "markdown",
   "metadata": {},
   "source": [
    "途中の変数bやcを使わないで、次のように書いても同じように動作します。"
   ]
  },
  {
   "cell_type": "code",
   "execution_count": null,
   "metadata": {
    "collapsed": false
   },
   "outputs": [],
   "source": [
    "print(a[a>0])"
   ]
  },
  {
   "cell_type": "markdown",
   "metadata": {},
   "source": [
    "これも、大量のデータを操作するときには欠かせない機能です。この機能のおかげで、arrayを利用すると、forループ処理を書かなくてすみます。"
   ]
  },
  {
   "cell_type": "markdown",
   "metadata": {
    "collapsed": true
   },
   "source": [
    "### 練習問題1\n",
    "次の覆面算を解いてみましょう。ただし、H=0とします。\n",
    "\n",
    "1. O+N+E = 1\n",
    "* T+W+O = 2\n",
    "* T+H+R+E+E = 3\n",
    "* F+O+U+R = 4\n",
    "* F+I+V+E = 5\n",
    "* S+I+X = 6\n",
    "* S+E+V+E+N = 7\n",
    "* E+I+G+H+T = 8\n",
    "* N+I+N+E = 9\n",
    "* T+E+N = 10\n",
    "* ....\n",
    "\n",
    "これは、一見複雑に見えますが、たんなる連立方程式の求解です。全部まとめて解くのは難しいので、この中で同じ変数が適度にまず、でてくる変数を並べると、\n",
    "\n",
    "* 1.だけだと(O,N,E)\n",
    "* 2までだと(O,N,E,T,W)\n",
    "* 3までだと(O,N,E,T,W,R)\n",
    "* 4までだと(ONETWRFU)\n",
    "* 5までだと(ONETWRFUIV)\n",
    "* 7までだと(ONETWRFUIVSX)\n",
    "* 10までだと(ONETWRFUIVSXG)\n",
    "* 14までだと(ONETWRFUIVSXGL)\n",
    "\n",
    "で、14まで並べれば、変数の個数と方程式の個数が等しくなり、解けるかもしれないことがわかります。\n",
    "\n",
    "連立方程式を解くことは、逆行列を求めることにほかなりません。"
   ]
  },
  {
   "cell_type": "code",
   "execution_count": null,
   "metadata": {
    "collapsed": false,
    "scrolled": true
   },
   "outputs": [],
   "source": [
    "#              O N E T W R F U I V S X G L\n",
    "A = np.array([[1,1,1,0,0,0,0,0,0,0,0,0,0,0],   #ONE\n",
    "              [1,0,0,1,1,0,0,0,0,0,0,0,0,0],   #TWO\n",
    "              [0,0,2,1,0,1,0,0,0,0,0,0,0,0],   #THREE\n",
    "              [1,0,0,0,0,1,1,1,0,0,0,0,0,0],   #FOUR\n",
    "              [0,0,1,0,0,0,1,0,1,1,0,0,0,0],   #FIVE\n",
    "              [0,0,0,0,0,0,0,0,1,0,1,1,0,0],   #SIX\n",
    "              [0,1,2,0,0,0,0,0,0,1,1,0,0,0],   #SEVEN\n",
    "              [0,0,1,1,0,0,0,0,1,0,0,0,1,0],   #EIGHT\n",
    "              [0,2,1,0,0,0,0,0,1,0,0,0,0,0],   #NINE\n",
    "              [0,1,1,1,0,0,0,0,0,0,0,0,0,0],   #TEN\n",
    "              [0,1,3,0,0,0,0,0,0,1,0,0,0,1],   #ELEVEN\n",
    "              [0,0,2,1,1,0,0,0,0,1,0,0,0,1],   #TWELVE\n",
    "              [0,1,2,2,0,1,0,0,1,0,0,0,0,0],   #THIRTEEN\n",
    "              [1,1,2,1,0,1,1,1,0,0,0,0,0,0]])  #FOURTEEN\n",
    "V = np.array([1,2,3,4,5,6,7,8,9,10,11,12,13,14])\n",
    "print(np.linalg.det(A))"
   ]
  },
  {
   "cell_type": "markdown",
   "metadata": {},
   "source": [
    "残念ながら、Aが特異行列らしく、逆行列が作れません。そこで、いろいろ試行錯誤した結果、#TWOの行を削り、代わりに#FIFTEENを追加すると、Aが特異行列でなくなることがわかりました。"
   ]
  },
  {
   "cell_type": "code",
   "execution_count": null,
   "metadata": {
    "collapsed": false
   },
   "outputs": [],
   "source": [
    "#              O N E T W R F U I V S X G L\n",
    "A = np.array([[1,1,1,0,0,0,0,0,0,0,0,0,0,0],   #ONE\n",
    "#             [1,0,0,1,1,0,0,0,0,0,0,0,0,0],   #TWO\n",
    "              [0,0,2,1,0,1,0,0,0,0,0,0,0,0],   #THREE\n",
    "              [1,0,0,0,0,1,1,1,0,0,0,0,0,0],   #FOUR\n",
    "              [0,0,1,0,0,0,1,0,1,1,0,0,0,0],   #FIVE\n",
    "              [0,0,0,0,0,0,0,0,1,0,1,1,0,0],   #SIX\n",
    "              [0,1,2,0,0,0,0,0,0,1,1,0,0,0],   #SEVEN\n",
    "              [0,0,1,1,0,0,0,0,1,0,0,0,1,0],   #EIGHT\n",
    "              [0,2,1,0,0,0,0,0,1,0,0,0,0,0],   #NINE\n",
    "              [0,1,1,1,0,0,0,0,0,0,0,0,0,0],   #TEN\n",
    "              [0,1,3,0,0,0,0,0,0,1,0,0,0,1],   #ELEVEN\n",
    "              [0,0,2,1,1,0,0,0,0,1,0,0,0,1],   #TWELVE\n",
    "              [0,1,2,2,0,1,0,0,1,0,0,0,0,0],   #THIRTEEN\n",
    "              [1,1,2,1,0,1,1,1,0,0,0,0,0,0],   #FOURTEEN\n",
    "              [0,1,2,1,0,0,2,0,1,0,0,0,0,0]])  #FIFTEEN\n",
    "numbers = np.array([1,3,4,5,6,7,8,9,10,11,12,13,14,15])\n",
    "\n",
    "np.linalg.det(A)"
   ]
  },
  {
   "cell_type": "markdown",
   "metadata": {},
   "source": [
    "逆行列を使うと、それぞれの記号の値が直ちに一意に求まります。(多少の誤差は生じます)"
   ]
  },
  {
   "cell_type": "code",
   "execution_count": null,
   "metadata": {
    "collapsed": false
   },
   "outputs": [],
   "source": [
    "O,N,E,T,W,R,F,U,I,V,S,X,G,L = np.dot(np.linalg.inv(A),numbers)\n",
    "O,N,E,T,W,R,F,U,I,V,S,X,G,L"
   ]
  },
  {
   "cell_type": "code",
   "execution_count": null,
   "metadata": {
    "collapsed": false
   },
   "outputs": [],
   "source": [
    "H=0\n",
    "print(O+N+E)\n",
    "print(T+W+O)\n",
    "print(T+H+R+E+E)\n",
    "print(F+O+U+R)\n",
    "print(F+I+V+E)\n",
    "print(S+I+X)\n",
    "print(S+E+V+E+N)\n",
    "print(E+I+G+H+T)\n",
    "print(N+I+N+E)\n",
    "print(T+E+N)\n",
    "Z=6\n",
    "print(Z+E+R+O)\n"
   ]
  },
  {
   "cell_type": "markdown",
   "metadata": {},
   "source": [
    "確かにO+N+E=1になることがわかります。また、計算では省いたT+W+Oもちゃんと2になることがわかります。さらに、Zを適当に定めれば、Z+E+R+O=0も満たせます。"
   ]
  },
  {
   "cell_type": "markdown",
   "metadata": {},
   "source": [
    "### 練習問題2\n",
    "数字のリストが与えられた時に、その平均と分散をnumpyを使って求めて下さい。平均mと分散$\\sigma^2$は次の式で定義されます。\n",
    "$$m=\\frac{1}{N}\\sum_{i=1}^Nx_i$$\n",
    "$$\\sigma^2=\\frac{1}{N}\\sum_{i=1}^N(x_i-m)^2$$"
   ]
  },
  {
   "cell_type": "code",
   "execution_count": null,
   "metadata": {
    "collapsed": false
   },
   "outputs": [],
   "source": [
    "x = np.array([ 0.22164031,  0.61727899,  0.3739398 ,  0.79191903,  0.52999859,\n",
    "               0.75259054,  0.83869619,  0.37511643,  0.18840985,  0.26941082])"
   ]
  },
  {
   "cell_type": "markdown",
   "metadata": {
    "collapsed": true
   },
   "source": [
    "### 練習問題3\n",
    "時間変化する信号を10回測定して、それぞれノイズののった測定値が得られた。これらを積算平均して、ノイズを減らしたい。"
   ]
  },
  {
   "cell_type": "code",
   "execution_count": null,
   "metadata": {
    "collapsed": false
   },
   "outputs": [],
   "source": [
    "x = np.array([[ 0.01306063,  0.52318416,  0.6842348 ,  0.88659925,  1.43062419,\n",
    "         1.65557941,  1.96092085,  2.11682415,  2.43555061,  2.45417248,\n",
    "         2.76068272,  2.86108612,  3.0173588 ,  2.95329312,  2.98960379,\n",
    "         3.26120876,  3.27238782,  3.08431247,  3.20790142,  2.98567376],\n",
    " [ 0.11384668,  0.42683156,  0.69887399,  1.03426265,  1.41374148,\n",
    "         1.71369006,  1.69965929,  2.21541997,  2.33950939,  2.39870044,\n",
    "         2.7403247 ,  2.68219194,  2.88680574,  2.96167865,  2.98542131,\n",
    "         3.10429555,  3.1765024 ,  3.1214933 ,  3.20840224,  3.0101024 ],\n",
    " [ 0.05321219,  0.37241418,  0.81798184,  1.12045628,  1.3842116 ,\n",
    "         1.54211121,  1.8723874 ,  2.18039462,  2.32535101,  2.40062611,\n",
    "         2.74065761,  2.69438143,  2.82414584,  3.1442926 ,  3.05182578,\n",
    "         3.0919835 ,  3.12119082,  3.27042575,  3.0548667 ,  2.91240206],\n",
    " [ 0.29958307,  0.48826081,  0.59821522,  0.95298047,  1.25393654,\n",
    "         1.55158793,  1.79146239,  2.13168153,  2.34429752,  2.62020428,\n",
    "         2.68890192,  2.75369354,  2.99650511,  3.12675426,  2.95744638,\n",
    "         3.07042868,  3.13874391,  3.1175062 ,  2.9697316 ,  2.96604274],\n",
    " [  8.95486843e-04,   4.78099068e-01,   8.28350840e-01,\n",
    "          1.12466287e+00,   1.31529180e+00,   1.53211768e+00,\n",
    "          1.77580852e+00,   2.11289709e+00,   2.21203768e+00,\n",
    "          2.37508200e+00,   2.68273514e+00,   2.79832837e+00,\n",
    "          2.97237006e+00,   3.04740097e+00,   3.08015002e+00,\n",
    "          3.24949769e+00,   3.05859623e+00,   2.99955393e+00,\n",
    "          3.07468165e+00,   3.13141516e+00],\n",
    " [ 0.1546176 ,  0.34380903,  0.73875515,  1.17206458,  1.23962685,\n",
    "         1.58828719,  1.74234345,  2.06950884,  2.33550848,  2.492627  ,\n",
    "         2.58372354,  2.71208119,  3.03045237,  3.05116902,  3.19724291,\n",
    "         3.18640899,  3.29753745,  3.04263655,  3.06478375,  2.98563735],\n",
    " [ 0.14197954,  0.45233175,  0.80051213,  1.01296238,  1.1692362 ,\n",
    "         1.69775992,  1.75605971,  1.95864613,  2.21454585,  2.47220208,\n",
    "         2.57415561,  2.70864983,  2.83899076,  3.11507708,  2.99158238,\n",
    "         3.15628167,  3.02768404,  3.16362439,  3.14590727,  2.90096532],\n",
    " [ 0.15281607,  0.50981811,  0.85425746,  0.99499797,  1.28542632,\n",
    "         1.60915566,  1.9310765 ,  2.14322098,  2.31923896,  2.64589036,\n",
    "         2.78277593,  2.79802198,  2.86259494,  2.98234801,  2.98571814,\n",
    "         3.18533329,  3.14515223,  3.12138175,  2.96030298,  2.86238004],\n",
    " [ 0.04645865,  0.31229686,  0.74050961,  1.09465264,  1.21385032,\n",
    "         1.67470476,  1.72481892,  1.98010989,  2.28011651,  2.44438769,\n",
    "         2.63112608,  2.69160678,  2.82627485,  3.17813874,  3.1101046 ,\n",
    "         3.14887469,  3.05903264,  3.176241  ,  2.92505185,  3.11092727],\n",
    " [ 0.14853626,  0.46710442,  0.72931594,  0.92093626,  1.174658  ,\n",
    "         1.70589293,  1.78431614,  1.9611697 ,  2.24361246,  2.51401689,\n",
    "         2.60125842,  2.77471708,  2.948813  ,  3.07635662,  2.98824014,\n",
    "         3.0481058 ,  3.24268459,  3.03588112,  3.13376977,  2.97784376]])"
   ]
  },
  {
   "cell_type": "code",
   "execution_count": null,
   "metadata": {
    "collapsed": true
   },
   "outputs": [],
   "source": []
  }
 ],
 "metadata": {
  "kernelspec": {
   "display_name": "Python 3",
   "language": "python",
   "name": "python3"
  },
  "language_info": {
   "codemirror_mode": {
    "name": "ipython",
    "version": 3
   },
   "file_extension": ".py",
   "mimetype": "text/x-python",
   "name": "python",
   "nbconvert_exporter": "python",
   "pygments_lexer": "ipython3",
   "version": "3.5.1"
  }
 },
 "nbformat": 4,
 "nbformat_minor": 0
}

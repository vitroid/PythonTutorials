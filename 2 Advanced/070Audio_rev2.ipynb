{
  "nbformat": 4,
  "nbformat_minor": 0,
  "metadata": {
    "kernelspec": {
      "display_name": "Python 3",
      "language": "python",
      "name": "python3"
    },
    "language_info": {
      "codemirror_mode": {
        "name": "ipython",
        "version": 3
      },
      "file_extension": ".py",
      "mimetype": "text/x-python",
      "name": "python",
      "nbconvert_exporter": "python",
      "pygments_lexer": "ipython3",
      "version": "3.6.5"
    },
    "colab": {
      "name": "070Audio_rev2.ipynb",
      "provenance": [],
      "include_colab_link": true
    }
  },
  "cells": [
    {
      "cell_type": "markdown",
      "metadata": {
        "id": "view-in-github",
        "colab_type": "text"
      },
      "source": [
        "<a href=\"https://colab.research.google.com/github/vitroid/PythonTutorials/blob/master/2%20Advanced/070Audio_rev2.ipynb\" target=\"_parent\"><img src=\"https://colab.research.google.com/assets/colab-badge.svg\" alt=\"Open In Colab\"/></a>"
      ]
    },
    {
      "cell_type": "markdown",
      "metadata": {
        "id": "7sABBl1h_bE6"
      },
      "source": [
        "# 信号処理 / Signal processing\n",
        "\n",
        "音声データや各種信号データを一次元のnumpy配列としていろいろ加工してみます。\n",
        "\n",
        "Here we regard sound data as one-dimensional numpy arrays and process them.\n"
      ]
    },
    {
      "cell_type": "markdown",
      "source": [
        "## Background\n",
        "\n",
        "その前に、音階と振動数の関係について、いくつかの事実を書いておきます。\n",
        "\n",
        "I would like to note a few facts about the relationship between scales and their frequencies."
      ],
      "metadata": {
        "id": "AWXXJzgh6FRp"
      }
    },
    {
      "cell_type": "markdown",
      "source": [
        "### 音階と振動数の関係 / Relationship between musical scale and frequency\n",
        "\n",
        "振動数とは、1秒間に波が何回振動するか。単位は$\\mathrm{Hz}=\\mathrm{s}^{-1}$。\n",
        "高い音は振動数が大きく、低い音は振動数が少ない。\n",
        "\n",
        "基準音はA (ラ)、振動数は通常440 Hz.\n",
        "\n",
        "Frequency is the number of times a wave oscillates per second. The unit is $\\mathrm{Hz}=\\mathrm{s}^{-1}$.\n",
        "Higher tones have higher frequency and lower tones have lower frequency.\n",
        "\n",
        "The reference tone is A (la), and its frequency is usually 440 Hz.\n"
      ],
      "metadata": {
        "id": "wq2Uskyj6UE9"
      }
    },
    {
      "cell_type": "code",
      "source": [
        "import numpy as np                   # 高速演算\n",
        "from IPython.display import Audio    # 音声の再生\n",
        "import matplotlib.pyplot as plt      # プロット\n",
        "from numpy import pi\n",
        "\n",
        "time = np.linspace(0, 1.0, 20000)\n",
        "Audio(np.cos(440*pi*2*time), rate=20000)\n"
      ],
      "metadata": {
        "id": "ntF0ZjYm7MVe"
      },
      "execution_count": null,
      "outputs": []
    },
    {
      "cell_type": "markdown",
      "source": [
        "ほかの音階の振動数はそれぞれ次の通り(概算)\n",
        "\n",
        "Frequencies of other tones are approximately:"
      ],
      "metadata": {
        "id": "P-k0af_N7sX6"
      }
    },
    {
      "cell_type": "code",
      "source": [
        "names=[\"C\", \"D\", \"E\", \"F\", \"G\", \"A\", \"H\", \"C\"]\n",
        "scale=[3, 5, 7, 8, 10, 12, 13, 15]\n",
        "for tone, name in zip(scale, names):\n",
        "    freq = 440*2**(tone/12)\n",
        "    print(f\"{freq:.1f} Hz = {name}\")\n"
      ],
      "metadata": {
        "id": "jngGq8m-71F_"
      },
      "execution_count": null,
      "outputs": []
    },
    {
      "cell_type": "markdown",
      "source": [
        "振動数が倍になると、1オクターブ高くなったように聞こえる。\n",
        "\n",
        "A tone with twice the frequency sounds one-octave higher."
      ],
      "metadata": {
        "id": "jPEY0zzC836d"
      }
    },
    {
      "cell_type": "code",
      "source": [
        "time = np.linspace(0, 3.0, 3*20000)\n",
        "wave = np.concatenate([np.cos(440*pi*2*time), np.cos(880*pi*2*time), np.cos(1760*pi*2*time)])\n",
        "Audio(wave, rate=20000)\n"
      ],
      "metadata": {
        "id": "mOgOhedm9KII"
      },
      "execution_count": null,
      "outputs": []
    },
    {
      "cell_type": "markdown",
      "source": [
        "1オクターブは12半音なので、半音上がるごとに振動数は$2^{1\\over 12}=1.059$だけ大きくなる。(全音上がるごとに$2^{1\\over 6}=1.122$) (平均律の場合)\n",
        "\n",
        "Since an octave is 12 semitones, the frequency increases by $2^{1\\over 12}=1.059$ for each semitone raised. (for every whole tone raised $2^{1\\over 6}=1.122$) (in the case of the equal temperament)\n",
        "\n",
        "\n"
      ],
      "metadata": {
        "id": "phlpUwOL9s9F"
      }
    },
    {
      "cell_type": "code",
      "source": [
        "time = np.linspace(0, 1.0, 20000)\n",
        "A = 440\n",
        "B = A*1.122\n",
        "C = B*1.059\n",
        "wave = np.concatenate([np.cos(A*pi*2*time), np.cos(B*pi*2*time), np.cos(C*pi*2*time)])\n",
        "Audio(wave, rate=20000)\n"
      ],
      "metadata": {
        "id": "IuvGA-tJ-2Bo"
      },
      "execution_count": null,
      "outputs": []
    },
    {
      "cell_type": "markdown",
      "source": [
        "なお、ここでは$\\cos$関数で波形を生成しているが、$\\sin$関数の場合とは聞きわけることができない。\n",
        "\n",
        "Note that the $\\cos$ function is used here to generate the waveform, but it is indistinguishable from the $\\sin$ function. Our ears is not sensitive enough to distinguish the difference in phases."
      ],
      "metadata": {
        "id": "OZ7c_6OVAaDh"
      }
    },
    {
      "cell_type": "markdown",
      "source": [
        "### 調和音と不協和音 / harmony and anharmony\n",
        "\n",
        "振動数の比が簡単な有理数で表せる音はハモる。(調和音、共鳴音)\n",
        "\n",
        "A sound is harmonic if the ratio of its frequencies can be expressed in terms of simple rational numbers. (Harmonic sound, resonance sound)\n"
      ],
      "metadata": {
        "id": "1nwfUX6O_NBW"
      }
    },
    {
      "cell_type": "code",
      "source": [
        "time = np.linspace(0, 1.0, 20000)\n",
        "C = 523\n",
        "G = C*1.5\n",
        "wave = np.concatenate([np.cos(C*pi*2*time), np.cos(G*pi*2*time), np.cos(C*pi*2*time)+np.cos(G*pi*2*time)])\n",
        "Audio(wave, rate=20000)"
      ],
      "metadata": {
        "id": "gA990qTA_nZJ"
      },
      "execution_count": null,
      "outputs": []
    },
    {
      "cell_type": "markdown",
      "source": [
        "ハモる音は、波の形が一定になる。\n",
        "\n",
        "Harmonics have a constant waveform."
      ],
      "metadata": {
        "id": "oT8uuwrzAGxR"
      }
    },
    {
      "cell_type": "code",
      "source": [
        "waveC = np.cos(C*pi*2*time)\n",
        "waveG = np.cos(G*pi*2*time)\n",
        "waveCG = np.cos(C*pi*2*time) + np.cos(G*pi*2*time)\n",
        "\n",
        "# 最初の0.02秒分だけ\n",
        "plt.xlim(0,0.02)\n",
        "plt.plot(time, waveC, label=\"C\")\n",
        "plt.plot(time, waveG, label=\"G\")\n",
        "plt.plot(time, waveCG, label=\"C+G\")\n",
        "plt.legend()\n"
      ],
      "metadata": {
        "id": "oRaGcNkjAFRF"
      },
      "execution_count": null,
      "outputs": []
    },
    {
      "cell_type": "markdown",
      "source": [
        "振動数の比が単純な有理数にならない場合には、きれいな和音に聞こえない(不協和音)\n",
        "\n",
        "If the ratio of the frequencies is not a simple rational number, it does not sound like a clean chord (dissonance)"
      ],
      "metadata": {
        "id": "OkS4pMMqBLaQ"
      }
    },
    {
      "cell_type": "code",
      "source": [
        "time = np.linspace(0, 1.0, 20000)\n",
        "C = 523\n",
        "X = C*1.13\n",
        "wave = np.concatenate([np.cos(C*pi*2*time), np.cos(X*pi*2*time), np.cos(C*pi*2*time)+np.cos(X*pi*2*time)])\n",
        "Audio(wave, rate=20000)"
      ],
      "metadata": {
        "id": "EMDLjv2SBUHE"
      },
      "execution_count": null,
      "outputs": []
    },
    {
      "cell_type": "markdown",
      "source": [
        "波形はうねる。\n",
        "\n",
        "It has undulating waveforms."
      ],
      "metadata": {
        "id": "6RUkZuOLBKLT"
      }
    },
    {
      "cell_type": "code",
      "source": [
        "waveC = np.cos(C*pi*2*time)\n",
        "waveX = np.cos(X*pi*2*time)\n",
        "waveCX = np.cos(C*pi*2*time) + np.cos(X*pi*2*time)\n",
        "\n",
        "# 最初の0.02秒分だけ\n",
        "plt.xlim(0,0.02)\n",
        "plt.plot(time, waveC, label=\"C\")\n",
        "plt.plot(time, waveX, label=\"X\")\n",
        "plt.plot(time, waveCX, label=\"C+X\")\n",
        "plt.legend()\n"
      ],
      "metadata": {
        "id": "Kaluvi5IBwue"
      },
      "execution_count": null,
      "outputs": []
    },
    {
      "cell_type": "markdown",
      "source": [
        "ある音の振動数を整数倍すると、音階っぽくきこえる。(振動数が簡単な整数比になるため)\n",
        "\n",
        "If you multiply the frequency of a note by an integer, it will sound like a musical scale. (Because the frequency is a simple integer ratio.)\n"
      ],
      "metadata": {
        "id": "NAtTrw7OB-oY"
      }
    },
    {
      "cell_type": "code",
      "source": [
        "wave = []\n",
        "for i in range(1, 9):\n",
        "    X = 440*i\n",
        "    wave.append(np.cos(X*pi*2*time))\n",
        "\n",
        "wave = np.concatenate(wave)\n",
        "Audio(wave, rate=20000)"
      ],
      "metadata": {
        "id": "MmWV3QHICPQs"
      },
      "execution_count": null,
      "outputs": []
    },
    {
      "cell_type": "markdown",
      "source": [
        "* Cの振動数を2/1倍するとC (1オクターブ上の音、6音上の音)にきこえる。\n",
        "* Cの振動数を3/2倍するとG (3音半上の音)にきこえる。\n",
        "* Cの振動数を4/3倍するとF (2音半上の音)にきこえる。\n",
        "* Cの振動数を5/4倍するとE (2音上の音)にきこえる。\n",
        "\n",
        "\n",
        "\n",
        "* If the frequency of C is multiplied by 2/1, it sounds like C (one octave higher, six notes up).\n",
        "* If the frequency of C is multiplied by 3/2, it sounds like G (3 notes and a semitone higher).\n",
        "* If the frequency of C is multiplied by 4/3, it sounds like F (2 notes and a semitone higher).\n",
        "* If the frequency of C is multiplied by 5/4, it sounds like E (two notes higher).\n",
        "\n",
        "\n",
        "|Note|C|D|E|F|G|A|B|C|\n",
        "|-|-|-|-|-|-|-|-|-|\n",
        "|freq.|1| |5/4|4/3|3/2| | |2|\n",
        "||0|+1|+2|+2.5|+3.5|+4.5|+5.5|+6|"
      ],
      "metadata": {
        "id": "v8oHFWbICyDC"
      }
    },
    {
      "cell_type": "code",
      "source": [
        "time = np.linspace(0, 1.0, 20000)\n",
        "C = 523\n",
        "E = C*5/4\n",
        "F = C*4/3\n",
        "G = C*3/2\n",
        "wave = np.concatenate([np.cos(C*pi*2*time), np.cos(E*pi*2*time), np.cos(F*pi*2*time), np.cos(G*pi*2*time)])\n",
        "Audio(wave, rate=20000)"
      ],
      "metadata": {
        "id": "cUQgYnYCDthh"
      },
      "execution_count": null,
      "outputs": []
    },
    {
      "cell_type": "markdown",
      "source": [
        "この関係を繰り返し使うことで、GとE以外の音の振動数も計算できる。(純正律)\n",
        "\n",
        "By combining this relationship, the frequencies of notes other than G and E can also be calculated.\n",
        "\n",
        "|Note|C|D|E|F|G|A|B|C|\n",
        "|-|-|-|-|-|-|-|-|-|\n",
        "|freq.|1|${3\\over 2}/{4\\over 3}={9\\over 8}$ |5/4|4/3|3/2|${5\\over 4}\\cdot{4\\over 3}={5\\over 3}$ |${5\\over 4}\\cdot{3\\over 2}={15\\over 8}$ |2|\n",
        "||0|+1=3.5-2.5|+2|+2.5|+3.5|+4.5=2+2.5|+5.5=2+3.5|+6|\n"
      ],
      "metadata": {
        "id": "kA5Rd0woE0lq"
      }
    },
    {
      "cell_type": "code",
      "source": [
        "wave = []\n",
        "for ratio in (1, 9/8, 5/4, 4/3, 3/2, 5/3, 15/8, 2):\n",
        "    X = 440*ratio\n",
        "    wave.append(np.cos(X*pi*2*time))\n",
        "\n",
        "wave = np.concatenate(wave)\n",
        "Audio(wave, rate=20000)"
      ],
      "metadata": {
        "id": "QaJ-0FWHIRbv"
      },
      "execution_count": null,
      "outputs": []
    },
    {
      "cell_type": "markdown",
      "source": [
        "### 純音と楽器音 /Pure and Instrumental tones\n",
        "\n",
        "ここまで合成した音はどれも単一の振動数の正弦波である。このような音は純音と呼ばれる。音叉は純音を発生するが、実際の楽器が発する音は、ほとんどの場合純音ではなく、以下の特徴がある。\n",
        "\n",
        "* 基準となる音(最も低振動数の音)に加えて、倍音(協和音)が同時に鳴っている。\n",
        "* 音量が時間的に変化する。(アタック、減衰など)\n",
        "* 振動数や倍音成分も時間変化する。そのために音色が時間的に変化する。\n",
        "* ただし、短い時間で見れば、音波の波形は定常的とみなせる。\n",
        "\n",
        "フーリエの定理により、定常的な波は正弦波に分解できる。逆に、正弦波を重ねあわせることで、いかなる(定常的な)波形も再現することができる。\n",
        "\n",
        "The sounds synthesized so far are all sine waves of a single frequency. Such sounds are called pure tones. Although tuning forks produce pure tones, the sounds produced by actual musical instruments are almost always not pure tones and have the following characteristics.\n",
        "\n",
        "* In addition to the reference tone (lowest frequency tone), overtones (concertina) are sounded at the same time.\n",
        "* The amplitude of the sound varies with time. (attack, decay, etc.)\n",
        "* The frequency and overtone components also change in time. Therefore, the timbre changes in time.\n",
        "* However, in a short period of time, the waveform of a sound wave can be regarded as stationary.\n",
        "\n",
        "According to Fourier's theorem, stationary waves can be decomposed into sine waves. Conversely, any (stationary) waveform can be reproduced by summing up sine waves."
      ],
      "metadata": {
        "id": "dKBp_0sEI34-"
      }
    },
    {
      "cell_type": "markdown",
      "source": [
        "### コンピュータ上の音声データ\n",
        "\n",
        "コンピュータ内では、音声波形を非常に短い時間間隔に分解し、瞬間瞬間での音波の振幅を記録することでデジタルデータ化しています。この時間間隔をサンプリング周波数と呼びます。ここまでの例では、サンプリング周波数として20000 Hzを選んできました。Compact Discのサンプリング周波数は44100 Hz、DVDはたしか48000 Hzです。\n",
        "\n",
        "ここまでの説明では、音波の振幅は実数値として扱っていますが、CDなどでは16 bit符号付き整数で記録しています。これはデータ量を減らすためです。16ビット整数は-32768〜+32767の範囲の値しか表現できませんが、人間の耳を「ごまかす」にはこれで十分という判断だったのでしょう。\n",
        "\n",
        "さらに、ステレオ音声の場合には、右と左の音を別々に記録する必要があります。\n",
        "\n",
        "これらを総合すると、CDのデータは1秒あたり16ビット×44100×2=1.4 Mbit、8ビット=1バイトなので、毎秒約18万バイトとなります。記憶媒体としてのCDの容量は700 Mバイトなので、逆算すると、1時間強の録音ができるということがわかります。\n",
        "\n",
        "実際に、CDドライブを搭載しているパソコンであれば、音楽CDの楽曲データをWAV形式のデータとしてとりだし、これから説明する方法で分析したり加工したりできます。"
      ],
      "metadata": {
        "id": "jr_VZZfy27kN"
      }
    },
    {
      "cell_type": "markdown",
      "metadata": {
        "id": "7cl0rrpY_bE9"
      },
      "source": [
        "## Guitar (string mode)\n",
        "\n",
        "音声の合成と解析を行う。\n",
        "\n",
        "基底音: 正弦波(440 Hz, ラ)\n",
        "\n",
        "サンプリング周波数は20000 Hzとする。\n",
        "\n",
        "* `time`は文字通り時間。20000個のarrayの中に時刻が書かれている。\n",
        "* `phase`は位相(角度)。$2\\pi$増えるとサイン波が0に戻る。440 Hzの場合は、1秒(20000サンプル)のあいだに$440\\cdot 2\\pi$だけ増加する。\n",
        "* `wave`は波形。ここではコサイン波を作る。\n",
        "\n",
        "\n",
        "Here we synthesize and analyze sound.\n",
        "\n",
        "Base tone: sine wave (440 Hz, la)\n",
        "\n",
        "Sampling frequency is 20000 Hz.\n",
        "\n",
        "* `time` is literally time, with time written in 20000 arrays.\n",
        "* `phase` is the phase (angle). For 440 Hz, the sine wave returns to 0 when the phase increases by $2\\pi$; for 440 Hz, the phase increases by $440\\cdot 2\\pi$ during 1 second (20000 samples).\n",
        "* `wave` is the waveform. Here we create a cosine wave."
      ]
    },
    {
      "cell_type": "code",
      "metadata": {
        "id": "uAv0VV7u_bFI"
      },
      "source": [
        "import numpy as np                   \n",
        "from IPython.display import Audio    # Play sound on Google Colab\n",
        "import matplotlib.pyplot as plt      # Plot\n",
        "from numpy import pi\n",
        "\n",
        "# Divide 1 second into 20000 segments.\n",
        "time = np.linspace(0, 1.0, 20000)\n",
        "time"
      ],
      "execution_count": null,
      "outputs": []
    },
    {
      "cell_type": "code",
      "metadata": {
        "id": "8ahs4EhB_bFX"
      },
      "source": [
        "plt.plot(time, time)"
      ],
      "execution_count": null,
      "outputs": []
    },
    {
      "cell_type": "code",
      "metadata": {
        "id": "Gqvn4b2A_bFi"
      },
      "source": [
        "phase = time* (440*pi*2)\n",
        "wave = np.cos(phase)\n",
        "\n",
        "#plot the wave (only 0.02 seconds)\n",
        "plt.xlim(0,0.02)\n",
        "plt.ylim(-1,10)\n",
        "plt.plot(time, phase)\n",
        "plt.plot(time, wave)\n",
        "\n",
        "Audio(wave, rate=20000)\n"
      ],
      "execution_count": null,
      "outputs": []
    },
    {
      "cell_type": "markdown",
      "metadata": {
        "id": "SfK4lF4x_bFu"
      },
      "source": [
        "減衰させる。減衰の時定数は0.125 (0.125秒で$1/e$まで減衰する)\n",
        "\n",
        "Add a decay with time constant 0.125."
      ]
    },
    {
      "cell_type": "code",
      "metadata": {
        "id": "IbQ6uyJo_bFw"
      },
      "source": [
        "decay = np.exp(-time/0.125)\n",
        "\n",
        "#plot the wave\n",
        "#最初の0.2秒分だけプロット\n",
        "plt.xlim(0,0.2)\n",
        "plt.plot(time, wave*decay)\n",
        "\n",
        "Audio(wave*decay, rate=20000)"
      ],
      "execution_count": null,
      "outputs": []
    },
    {
      "cell_type": "markdown",
      "metadata": {
        "id": "s-FMVnua_bGc"
      },
      "source": [
        "2倍音。(振動数が2倍の音、1オクターブ上の音)\n",
        "\n",
        "A doubled tone (one-octave above)."
      ]
    },
    {
      "cell_type": "code",
      "metadata": {
        "id": "mGA6-BVP_bGe"
      },
      "source": [
        "wave = np.cos(2*phase)\n",
        "\n",
        "#plot the wave\n",
        "plt.xlim(0,0.02)\n",
        "plt.plot(time, wave*decay)\n",
        "\n",
        "Audio(wave*decay, rate=20000)"
      ],
      "execution_count": null,
      "outputs": []
    },
    {
      "cell_type": "markdown",
      "metadata": {
        "id": "F1C6xjL8_bGv"
      },
      "source": [
        "3倍音。(振動数が3倍の音、1オクターブ上のミ)\n",
        "\n",
        "A tripled tone (E note one-octave higher)."
      ]
    },
    {
      "cell_type": "code",
      "metadata": {
        "id": "GtzdV9___bGw"
      },
      "source": [
        "wave = np.cos(3*phase)\n",
        "\n",
        "#plot the wave\n",
        "plt.xlim(0,0.02)\n",
        "plt.plot(time, wave*decay)\n",
        "\n",
        "Audio(wave*decay, rate=20000)"
      ],
      "execution_count": null,
      "outputs": []
    },
    {
      "cell_type": "markdown",
      "metadata": {
        "id": "iQubXP_O_bG3"
      },
      "source": [
        "4倍音。(振動数が4倍の音、2オクターブ上の同音)\n",
        "\n",
        "A quadruple tone (The same note two octaves higher)"
      ]
    },
    {
      "cell_type": "code",
      "metadata": {
        "id": "0FJpeHBG_bG3"
      },
      "source": [
        "wave = np.cos(4*phase)\n",
        "\n",
        "#plot the wave\n",
        "plt.xlim(0,0.02)\n",
        "plt.plot(time, wave*decay)\n",
        "\n",
        "Audio(wave*decay, rate=20000)"
      ],
      "execution_count": null,
      "outputs": []
    },
    {
      "cell_type": "markdown",
      "metadata": {
        "id": "fbInlv1__bHH"
      },
      "source": [
        "基底音+倍音\n",
        "\n",
        "chord of base tone and overtones."
      ]
    },
    {
      "cell_type": "code",
      "metadata": {
        "id": "th-jj2uL_bHI"
      },
      "source": [
        "wave = np.cos(phase)\n",
        "wave += 0.5**0.5*np.cos(2*phase)\n",
        "\n",
        "#plot the wave\n",
        "plt.xlim(0,0.02)\n",
        "plt.plot(time, wave*decay)\n",
        "\n",
        "Audio(wave*decay, rate=20000)"
      ],
      "execution_count": null,
      "outputs": []
    },
    {
      "cell_type": "markdown",
      "metadata": {
        "id": "ShobYcnO_bHX"
      },
      "source": [
        "基底音+倍音+3倍音"
      ]
    },
    {
      "cell_type": "code",
      "metadata": {
        "id": "uj6HR8It_bHg"
      },
      "source": [
        "wave = np.cos(phase)\n",
        "wave += (1/2)**0.5*np.cos(2*phase)\n",
        "wave += (1/3)**0.5*np.cos(3*phase)\n",
        "\n",
        "#plot the wave\n",
        "plt.xlim(0,0.02)\n",
        "plt.plot(time, wave*decay)\n",
        "\n",
        "Audio(wave*decay, rate=20000)"
      ],
      "execution_count": null,
      "outputs": []
    },
    {
      "cell_type": "markdown",
      "metadata": {
        "id": "YzQg90e4_bHm"
      },
      "source": [
        "基底音+倍音+3倍音+4倍音。だいぶギターらしくなってきた。\n",
        "\n",
        "It sounds like a guitar."
      ]
    },
    {
      "cell_type": "code",
      "metadata": {
        "id": "zJTAXxMM_bHn"
      },
      "source": [
        "wave = np.cos(phase)\n",
        "wave += (1/2)**0.5*np.cos(2*phase)\n",
        "wave += (1/3)**0.5*np.cos(3*phase)\n",
        "wave += (1/4)**0.5*np.cos(4*phase)\n",
        "\n",
        "#plot the wave\n",
        "plt.xlim(0,0.02)\n",
        "plt.plot(time, wave*decay)\n",
        "\n",
        "Audio(wave*decay, rate=20000)"
      ],
      "execution_count": null,
      "outputs": []
    },
    {
      "cell_type": "code",
      "metadata": {
        "id": "Y90Veq8z_bHr"
      },
      "source": [
        "wave = np.cos(phase)\n",
        "wave += (1/2)**0.5*np.cos(2*phase)\n",
        "wave += (1/3)**0.5*np.cos(3*phase)\n",
        "wave += (1/4)**0.5*np.cos(4*phase)\n",
        "wave += (1/3)**0.5*np.cos(5*phase)\n",
        "\n",
        "#plot the wave\n",
        "plt.xlim(0,0.02)\n",
        "plt.plot(time, wave*decay)\n",
        "\n",
        "Audio(wave*decay, rate=20000)"
      ],
      "execution_count": null,
      "outputs": []
    },
    {
      "cell_type": "markdown",
      "metadata": {
        "id": "OXl30Zw7_bHw"
      },
      "source": [
        "上の波をフーリエ変換してパワースペクトル(周波数分布)を求める。\n",
        "\n",
        "The power spectrum (frequency distribution) is obtained by Fourier transforming the wave above.\n",
        "\n",
        "Definition of the Fourier transformation used here: https://docs.scipy.org/doc/numpy/reference/routines.fft.html#module-numpy.fft\n",
        "\n",
        "フーリエ変換は、信号波$f(t)$に、いろんな正弦波(サイン波、コサイン波)を重ねて積分し、成分に分解する。\n",
        "\n",
        "The Fourier transformation decomposes a wave into a set of sine waves.\n",
        "$$F(\\omega)=\\int_{-\\infty}^\\infty f(t)\\cos(2\\pi\\omega t)\\mathrm{d}t+i\\int_{-\\infty}^\\infty f(t)\\sin(2\\pi\\omega t)\\mathrm{d}t=\\int_{-\\infty}^\\infty f(t)\\exp(2\\pi i\\omega t)\\mathrm{d}t$$\n",
        "\n",
        "$N$個の離散的なデータ列$f(k)$ $(k=[1..N])$の場合には、離散的フーリエ変換を用いる。\n",
        "\n",
        "A discrete FT is used for discrete datasets.\n",
        "\n",
        "$$F(k)=\\sum_{j=1}^N f(k)\\cos\\left({2\\pi j k\\over N}\\right)+i\\sum_{j=1}^N f(k)\\sin\\left({2\\pi j k\\over N}\\right)=\\sum_{j=1}^N f(k)\\exp\\left({2\\pi j k\\over N}\\right)$$\n",
        "(本によって微妙に定義が違う場合があるので注意)\n",
        "\n",
        "1秒分(20000点)の実数データ列をフーリエ変換すると、結果も20000点得られる。フーリエ変換後に得られるarrayの`[1]`番目の値は、1 Hzの成分(実部がcos、虚部がsin)、`[2]`番目が、2 Hz、という具合に対応する。なお、もし元データが10秒分あるなら、`[1]`番目の成分は1/10=0.1 Hzに対応する。`[0]`番目は直流成分(振動しない成分、オフセット)を表す。\n",
        "\n",
        "Fourier transforming a sequence of real data for 1 second (20,000 points) yields 20,000 results. The `[1]`th value of the array obtained after the Fourier transform corresponds to the 1 Hz component (real part is cos, imaginary part is sin), `[2]` to 2 Hz, and so on. Note that if the original data is for 10 seconds, the `[1]`th component corresponds to 1/10 = 0.1 Hz. The `[0]`th component represents the DC component (non-oscillating component, offset)."
      ]
    },
    {
      "cell_type": "code",
      "metadata": {
        "id": "bb5m9oVA_bHw"
      },
      "source": [
        "spec = np.fft.fft(wave)\n",
        "\n",
        "#plot the spectrum\n",
        "plt.xlim(0,3000)\n",
        "plt.plot(np.abs(spec)**2)"
      ],
      "execution_count": null,
      "outputs": []
    },
    {
      "cell_type": "markdown",
      "metadata": {
        "id": "qxaTOhqN_bH3"
      },
      "source": [
        "`abs()`関数は複素数の絶対値も計算できる。この場合、余弦波の振幅(実数)と正弦波の振幅(虚数)の二乗和を計算しているので、波の振幅の二乗=パワーをプロットしていることになる。分光器で測定するスペクトルも出力されているのは光の振幅の二乗=強度(パワー)である。\n",
        "\n",
        "合成した波の成分に戻すことができた。ここでは音声データを分解したが、波データであれば光であれ音声であれ、こうしてスペクトルにに変換できる。\n",
        "\n",
        "The `abs()` function can also calculate the absolute value of complex numbers. In this case, we are calculating the sum of the squares of the cosine wave amplitude (real) and the sine wave amplitude (imaginary), so we are plotting the square of the wave amplitude, i.e. power. The spectrum measured by the spectroscope is also outputting the square of the amplitude of the light = intensity (power).\n",
        "\n",
        "Thus we obtained the components of the synthesized wave. "
      ]
    },
    {
      "cell_type": "markdown",
      "metadata": {
        "id": "l4MQpKnj_bH3"
      },
      "source": [
        "## Timpani (circular membrane modes)\n",
        "\n",
        "膜の振動は、共鳴的ではない。固有振動が無理数比の成分を含み、濁った音になる。\n",
        "\n",
        "The frequencies of a circular membrane is not resonant. Its eigenmodes contain irrational frequency ratio and therefore sounds anharmonic.\n",
        "\n",
        "(membrane mode https://www.acs.psu.edu/drussell/Demos/MembraneCircle/Circle.html )\n",
        "\n",
        "基底音の周波数を120 Hzとする。\n",
        "\n",
        "We set the base frequency to 120 Hz."
      ]
    },
    {
      "cell_type": "code",
      "metadata": {
        "id": "amiYK-mG_bH4"
      },
      "source": [
        "time = np.linspace(0, 5, 20000*5)\n",
        "phase = time * 120 * 2*pi\n",
        "decay = np.exp(-time / 0.5)\n",
        "\n",
        "wave = np.sin(phase)\n",
        "# 倍音の強度はてきとう。\n",
        "wave += (1/2)**0.5*np.sin(1.59*phase)\n",
        "wave += (1/3)**0.5*np.sin(2.14*phase)\n",
        "wave += (1/4)**0.5*np.sin(2.30*phase)\n",
        "wave += (1/3)**0.5*np.sin(2.65*phase)\n",
        "wave += (1/6)**0.5*np.sin(2.92*phase)\n",
        "wave += (1/7)**0.5*np.sin(3.16*phase)\n",
        "wave += (1/8)**0.5*np.sin(3.50*phase)\n",
        "wave += (1/9)**0.5*np.sin(3.60*phase)\n",
        "\n",
        "#plot the wave\n",
        "plt.xlim(0,0.02)\n",
        "plt.plot(time, wave*decay)\n",
        "\n",
        "\n",
        "Audio(wave*decay, rate=20000)\n",
        "# import soundfile as sf\n",
        "# sf.write(\"timpani.wav\", wave*decay, 20000)"
      ],
      "execution_count": null,
      "outputs": []
    },
    {
      "cell_type": "markdown",
      "metadata": {
        "id": "U1LkZGDl4jM6"
      },
      "source": [
        "これもフーリエ変換してスペクトルを見てみよう。\n",
        "\n",
        "Let us apply the Fourier transformation and see the spectrum."
      ]
    },
    {
      "cell_type": "code",
      "metadata": {
        "id": "LZcgC8gF_bH9"
      },
      "source": [
        "# waveは5秒のデータ\n",
        "spec = np.fft.fft(wave)\n",
        "spec = spec[:3000]\n",
        "\n",
        "#plot the spectrum\n",
        "# データが5秒分ある場合、波数の最小目盛は1/5波数となる。\n",
        "wavenumbers = np.arange(0, 600, 1/5)\n",
        "plt.plot(wavenumbers, np.abs(spec)**2)"
      ],
      "execution_count": null,
      "outputs": []
    },
    {
      "cell_type": "markdown",
      "metadata": {
        "id": "Yub9_Fkm_bIA"
      },
      "source": [
        "## 課題1 / Practice 1\n",
        "\n",
        "sampleaudio.wav (長さ1秒、サンプリング周波数20000 Hz)に含まれる音の基底振動数を調べよ。\n",
        "\n",
        "wavファイルを読みこむには、`soundfile`モジュールを使うと便利。 (https://stackoverflow.com/questions/34416283/how-to-properly-decode-wav-with-python)\n",
        "\n",
        "\n",
        "Analyze the base frequency of the sound in sampleaudio.wav (1 second length, sampling frequency 20000 Hz).\n",
        "\n"
      ]
    },
    {
      "cell_type": "code",
      "metadata": {
        "id": "Tq_mL8-9AF17"
      },
      "source": [
        "# sampleaudioをネット上からcolabにダウンロードする。\n",
        "! wget https://github.com/vitroid/PythonTutorials/blob/master/2%20Advanced/sampleaudio.wav?raw=true -O sampleaudio.wav"
      ],
      "execution_count": null,
      "outputs": []
    },
    {
      "cell_type": "code",
      "metadata": {
        "id": "PGKWh2u5_bIC"
      },
      "source": [
        "# install an external library\n",
        "! pip install soundfile\n",
        "\n",
        "from IPython.display import Audio\n",
        "import soundfile as sf\n",
        "\n",
        "wave, samplerate = sf.read(\"sampleaudio.wav\")\n",
        "\n",
        "Audio(wave, rate=samplerate)"
      ],
      "execution_count": null,
      "outputs": []
    },
    {
      "cell_type": "markdown",
      "metadata": {
        "id": "Y6TXvvz8_bII"
      },
      "source": [
        "## 音楽データ / Music data\n",
        "\n",
        "信号を加工する練習として、音楽データをいじってみる。(フランク・シナトラ/マイウェイ)\n",
        "\n",
        "Let's tinker with music data as an exercise in signal processing. (Frank Sinatra/My Way)."
      ]
    },
    {
      "cell_type": "code",
      "metadata": {
        "id": "zwjTK4izAwvM"
      },
      "source": [
        "# My Way by Frank Sinatra\n",
        "! wget https://github.com/vitroid/PythonTutorials/blob/master/2%20Advanced/MyWay.wav?raw=true -O MyWay.wav\n"
      ],
      "execution_count": null,
      "outputs": []
    },
    {
      "cell_type": "code",
      "metadata": {
        "id": "UcqCMI66_bIJ"
      },
      "source": [
        "import soundfile as sf\n",
        "import numpy as np\n",
        "from IPython.display import Audio\n",
        "\n",
        "wave, samplerate = sf.read(\"MyWay.wav\")\n",
        "\n",
        "print(np.min(wave), np.max(wave))\n",
        "left= wave[:,0]\n",
        "right = wave[:,1]\n",
        "\n",
        "samplerate"
      ],
      "execution_count": null,
      "outputs": []
    },
    {
      "cell_type": "markdown",
      "metadata": {
        "id": "sGUWd8RP_bIN"
      },
      "source": [
        "1秒間を44100分割して波形を記録していることがわかった。\n",
        "\n",
        "It is found that the sampling frequency is 44100 Hz. (Standard for the compact discs). \n",
        "\n",
        "左右を平均してモノラル再生。\n",
        "\n",
        "Make a monoral sound by averaging right and left tracks."
      ]
    },
    {
      "cell_type": "code",
      "metadata": {
        "id": "09x5bLt2_bIO"
      },
      "source": [
        "mono = (left+right)/2\n",
        "Audio(mono, rate=samplerate)"
      ],
      "execution_count": null,
      "outputs": []
    },
    {
      "cell_type": "markdown",
      "metadata": {
        "id": "oEDmEd7Q_bIT"
      },
      "source": [
        "左右トラックの相関を見てみよう。(データが多すぎるので、100個おき)\n",
        "\n",
        "Let us visualize the correlation between right and left tracks. (Every 100 samples to reduce the processing time.)"
      ]
    },
    {
      "cell_type": "code",
      "metadata": {
        "id": "Qd8A2IDH_bIU"
      },
      "source": [
        "from matplotlib import pyplot as plt\n",
        "\n",
        "plt.plot(left[::100],right[::100],'.')"
      ],
      "execution_count": null,
      "outputs": []
    },
    {
      "cell_type": "markdown",
      "metadata": {
        "id": "E1Xjl9dW_bIX"
      },
      "source": [
        "当然だが、左右トラックはかなり相関が強い。では、左右を引き算すると?\n",
        "\n",
        "It is natural that the right and left tracks correlate strong. Then what happens if one is subtracted by the other?"
      ]
    },
    {
      "cell_type": "code",
      "metadata": {
        "id": "Rqx7SYzt_bIX"
      },
      "source": [
        "diff = left-right\n",
        "Audio(diff, rate=samplerate)"
      ],
      "execution_count": null,
      "outputs": []
    },
    {
      "cell_type": "markdown",
      "metadata": {
        "id": "LS7V57bE_bIo"
      },
      "source": [
        "歌ガ消えてカラオケになる! 実は、左右のマイクのちょうど真ん中で歌うと(もう少し正確には、そのようにミキシングすると)、どちらのマイクにも全く同じ波形が記録されるので、左右を引き算するとその音が全部消えます。器楽演奏は中央からずれているので、引き算でも残りますが、左右の音のバランスをうまく調節すれば、ドラムだけ消したり、ギターだけ消したりすることもできるかもしれません。\n",
        "\n",
        "The vocal part disappears and it becomes karaoke! Actually, if you sing right in the middle of the left and right microphones (or, to be a little more precise, if you mix it that way), both microphones will record the exact same waveform, so subtracting the left and right will eliminate all of those sounds. Since the instrumental performance is off-center, it will remain even with subtraction, but if you adjust the balance between the left and right sounds well, you may be able to eliminate just the drums or just the guitar.\n",
        "\n",
        "音声の最初の部分をグラフ表示。(100個おきに)\n",
        "\n",
        "Then plot the audio data (every 100 sample.)\n",
        "\n"
      ]
    },
    {
      "cell_type": "code",
      "metadata": {
        "id": "f1vJCATo_bIp"
      },
      "source": [
        "from matplotlib import pyplot as plt\n",
        "plt.plot(mono[::100])"
      ],
      "execution_count": null,
      "outputs": []
    },
    {
      "cell_type": "markdown",
      "metadata": {
        "id": "KnPmrmm__bI6"
      },
      "source": [
        "時刻を1/10秒(4410コマ)ずらして、少し弱くして音を重ねると、反響音(リバーブ)に聞こえる。\n",
        "\n",
        "If the time is shifted by 1/10 second (4410 frames) and the sound is slightly weakened and overlaid, it sounds like an echo (reverb).\n"
      ]
    },
    {
      "cell_type": "code",
      "metadata": {
        "id": "h1ept4dC_bI7"
      },
      "source": [
        "reverb = mono[4410:]+mono[:-4410]*0.5\n",
        "Audio(reverb, rate=samplerate)"
      ],
      "execution_count": null,
      "outputs": []
    },
    {
      "cell_type": "markdown",
      "metadata": {
        "id": "_B82LYwP_bI_"
      },
      "source": [
        "ちょっと安っぽいので、ずらす長さを小さくし、何重にも重ねてみる。(反響音は指数関数的に減衰すると仮定)\n",
        "\n",
        "It sounds alittle bit cheap, so we overlay many delayed sounds on it. (We suppose that the echoes decay exponentially.)"
      ]
    },
    {
      "cell_type": "code",
      "metadata": {
        "id": "pxG0oS6p_bI_"
      },
      "source": [
        "reverb = mono.copy() / 2 # 音をたくさん重ねるので、音量をあらかじめ小さくしておく。\n",
        "\n",
        "delay=int(44100*0.05)\n",
        "reverb[delay:] += mono[:-delay]/2\n",
        "reverb[delay*2:] += mono[:-delay*2]/4\n",
        "reverb[delay*3:] += mono[:-delay*3]/8\n",
        "reverb[delay*4:] += mono[:-delay*4]/16\n",
        "reverb[delay*5:] += mono[:-delay*5]/32\n",
        "reverb[delay*6:] += mono[:-delay*6]/64\n",
        "reverb[delay*7:] += mono[:-delay*7]/128\n",
        "Audio(reverb, rate=samplerate)"
      ],
      "execution_count": null,
      "outputs": []
    },
    {
      "cell_type": "markdown",
      "metadata": {
        "id": "bl3CCCCu_bJT"
      },
      "source": [
        "上でやっているのはこんな感じの重ねあわせ。"
      ]
    },
    {
      "cell_type": "code",
      "metadata": {
        "id": "VZ0xcVIU_bJT"
      },
      "source": [
        "time=np.linspace(0,3,44100*3)\n",
        "plt.plot(time, mono[:44100*3])\n",
        "plt.plot(time+0.05, mono[:44100*3]/2)\n",
        "plt.plot(time+0.10, mono[:44100*3]/4)\n",
        "plt.plot(time+0.15, mono[:44100*3]/8)"
      ],
      "execution_count": null,
      "outputs": []
    },
    {
      "cell_type": "markdown",
      "metadata": {
        "id": "vWkzKSqI_bJW"
      },
      "source": [
        "これをたくさん行うことは、音声$f(t)$と、残響特性である指数関数$g=\\exp(-at)$ (ただし$t>0$)の「畳み込み」を行うことにほかならない。\n",
        "\n",
        "This process is equivalent to the convolutional integral with an exponential function.\n",
        "\n",
        "関数fとgの畳み込み(畳み込み積分)は次のように定義される。\n",
        "\n",
        "The convolutional integral is defined as follows.\n",
        "\n",
        "$$(f*g)(t)=\\int f(u)g(t-u)\\mathrm{d}u$$\n",
        "\n",
        "畳みこみ積分の図解はこんな感じ。(正確ではないが)\n",
        "\n",
        "It is illustrated.\n",
        "\n",
        "![convol1](https://github.com/vitroid/PythonTutorials/blob/2021/2%20Advanced/convol1.jpg?raw=true)\n",
        "\n",
        "![convol2](https://github.com/vitroid/PythonTutorials/blob/2021/2%20Advanced/convol2.jpg?raw=true)\n",
        "\n",
        "畳み込み積分は、音響学だけでなく、様々な分野で非常に重要である。\n",
        "\n",
        "* 光学におけるブレやボケの計算\n",
        "* 電気回路における信号伝達\n",
        "* 桁数の非常に大きな数同士のかけ算\n",
        "* 信号へのノイズの重畳\n",
        "* 量子力学における伝搬関数\n",
        "* 液体論における積分方程式\n",
        "\n",
        "音声データ$f$がデルタ関数なら、畳み込み積分は$g$そのものになる。(例えば、風呂の中で手をたたけば、風呂の残響特性がわかる)そのため、$g$のことを音響学では「インパルス応答」と呼ぶ。\n",
        "\n",
        "\n",
        "Convolutional integrals are very important in many fields, not only in acoustics.\n",
        "\n",
        "* Computation of blurring and bokeh in optics\n",
        "* Signal transmission in electrical circuits\n",
        "* Multiplication between numbers with very large digits\n",
        "* Noise superposition on signals\n",
        "* Propagation functions in quantum mechanics\n",
        "* Integral equations in liquid theory\n",
        "\n",
        "If the voice data $f$ is a delta function, the convolution integral is $g$ itself. (For example, if you clap your hands in the bath, you can find out the reverberation characteristics of the bath.) Therefore, $g$ is called \"impulse response\" in acoustics.\n",
        "\n",
        "\n",
        "![convol2](https://github.com/vitroid/PythonTutorials/blob/2021/2%20Advanced/impulse.jpg?raw=true)\n",
        "\n",
        "numpyの畳み込み積分をそのまま使い、音声に残響を付けてみよう。\n",
        "\n",
        "Let's add a reverb to the music using the convolution function in numpy."
      ]
    },
    {
      "cell_type": "code",
      "metadata": {
        "id": "1ziHMcJh_bJX"
      },
      "source": [
        "import numpy as np\n",
        "time = np.linspace(0, 0.1, 4410)\n",
        "response = np.exp(-time*30) # 0.1秒で1/e^3 = 1/20に減衰する指数関数\n",
        "plt.plot(time,response)"
      ],
      "execution_count": null,
      "outputs": []
    },
    {
      "cell_type": "code",
      "metadata": {
        "id": "YneL6pYc_bJw"
      },
      "source": [
        "output = np.convolve(mono, response, mode='same')\n",
        "Audio(output, rate=samplerate)"
      ],
      "execution_count": null,
      "outputs": []
    },
    {
      "cell_type": "markdown",
      "metadata": {
        "id": "yNYiUufh_bJ2"
      },
      "source": [
        "こもるばかりであまりうまくいかない。試しにインパルス応答だけ聞いてみるが、音らしく聞こえない。\n",
        "\n",
        "The impulse response itself does not sound natural."
      ]
    },
    {
      "cell_type": "code",
      "metadata": {
        "id": "FC0o7RGo_bJ4"
      },
      "source": [
        "Audio(response, rate=samplerate)"
      ],
      "execution_count": null,
      "outputs": []
    },
    {
      "cell_type": "markdown",
      "metadata": {
        "id": "wKdvl_qy_bJ8"
      },
      "source": [
        "調べてみると、インパルス応答を集めているサイト(https://www.openair.hosted.york.ac.uk )があるらしい。そこで、教会のインパルス応答をもらってくる。\n",
        "\n",
        "I found a web site that collects the impulse responses of various halls. Let's get a response data of a church from the site.\n",
        "\n",
        "The Lady Chapel, St Albans Cathedral, England  https://en.wikipedia.org/wiki/St_Albans_Cathedral\n",
        "\n",
        "インパルス応答(IR)のデータ: \n",
        "https://www.openair.hosted.york.ac.uk/?page_id=595"
      ]
    },
    {
      "cell_type": "code",
      "metadata": {
        "id": "_SZhPtOvCiNR"
      },
      "source": [
        "! wget https://github.com/vitroid/PythonTutorials/blob/master/2%20Advanced/stalbans_a_mono.wav?raw=true -O stalbans_a_mono.wav"
      ],
      "execution_count": null,
      "outputs": []
    },
    {
      "cell_type": "code",
      "metadata": {
        "id": "ryx9Iy_h_bJ8"
      },
      "source": [
        "response, samplerate = sf.read(\"stalbans_a_mono.wav\")\n",
        "\n",
        "Audio(response, rate=samplerate)"
      ],
      "execution_count": null,
      "outputs": []
    },
    {
      "cell_type": "markdown",
      "metadata": {
        "id": "5vQY84SK_bKE"
      },
      "source": [
        "本物のインパルス応答は、確かに教会で手を叩いた時の残響に聞こえるから面白い(あたりまえだけど)。\n",
        "\n",
        "The impulse response of a church really sounds like a clap in the church, naturally.\n",
        "\n",
        "教会のインパルス応答の波形を見てみよう。\n",
        "\n",
        "Let's plot the wave form of the impulse response."
      ]
    },
    {
      "cell_type": "code",
      "metadata": {
        "id": "UHWv_Clc_bKF"
      },
      "source": [
        "plt.plot(response)\n",
        "plt.show()\n",
        "\n",
        "#縦拡大\n",
        "plt.ylim(-0.01,0.01)\n",
        "plt.plot(response)\n",
        "plt.show()\n",
        "\n",
        "samplerate"
      ],
      "execution_count": null,
      "outputs": []
    },
    {
      "cell_type": "markdown",
      "metadata": {
        "id": "m3TYoGR4_bKH"
      },
      "source": [
        "samplerateも同じ44100なので、単純に音源にこれをたたみこんでやれば、教会で歌うMy Wayになるはず。\n",
        "\n",
        "Fortunately, the sampling rate of the impulse response is also 44100 Hz, so we will be able to obtain the Sinatra singing in a church by a simple comvolution.\n",
        "\n",
        "ただし、6秒もの残響の計算は時間がかかりすぎるので、はじめの1秒だけ使うことにする。\n",
        "(PCが速い人は、全部使って試してみてもいい)\n",
        "\n",
        "Here we use only first 1 second of the response to reduce the calculation time.\n",
        "\n",
        "(フーリエ変換を使って畳み込み積分を爆速で計算する方法があるが、numpyはどうもそれを使っていないようだ。)\n",
        "\n",
        "(Seemingly numpy does not use the fast algorithm for the convolution integrals.)"
      ]
    },
    {
      "cell_type": "code",
      "metadata": {
        "id": "OSUR73uA_bKI"
      },
      "source": [
        "song = np.convolve(mono, response[:44100], mode='same')"
      ],
      "execution_count": null,
      "outputs": []
    },
    {
      "cell_type": "markdown",
      "metadata": {
        "id": "9JduzvgVOe7q"
      },
      "source": [
        "教会で歌うシナトラ。\n",
        "\n",
        "Sinatra singing in a church."
      ]
    },
    {
      "cell_type": "code",
      "metadata": {
        "id": "TvL5vOCk_bKL"
      },
      "source": [
        "Audio(song, rate=samplerate)"
      ],
      "execution_count": null,
      "outputs": []
    },
    {
      "cell_type": "markdown",
      "metadata": {
        "id": "KTKhR7eF_bKN"
      },
      "source": [
        "原曲と聴きくらべ。\n",
        "\n",
        "Compare with the original."
      ]
    },
    {
      "cell_type": "code",
      "metadata": {
        "id": "y3rF2CEW_bKO"
      },
      "source": [
        "Audio(mono, rate=samplerate)"
      ],
      "execution_count": null,
      "outputs": []
    },
    {
      "cell_type": "markdown",
      "metadata": {
        "id": "GmDpKDfq_bKa"
      },
      "source": [
        "scipyにはFFT(高速フーリエ変換)を使った畳み込みがあった。 https://docs.scipy.org/doc/scipy/reference/generated/scipy.signal.fftconvolve.html#scipy.signal.fftconvolve\n",
        "\n",
        "The fast algorithm can be found in scipy.\n"
      ]
    },
    {
      "cell_type": "code",
      "metadata": {
        "id": "oGPvlwtj_bKb"
      },
      "source": [
        "import scipy.signal\n",
        "fftsong = scipy.signal.fftconvolve(mono, response, mode='same')\n",
        "Audio(fftsong, rate=samplerate)"
      ],
      "execution_count": null,
      "outputs": []
    },
    {
      "cell_type": "markdown",
      "metadata": {
        "id": "8uOG7hThaYgj"
      },
      "source": [
        "例えば、大きなホールに行く機会があったら、舞台の上で一発だけ拍手してもらって、それを録音しておけば、自分のもっている音源を、そのホールで演奏したかのように加工することもできるということになる。\n",
        "\n",
        "If you have a chance to visit a church, make a single clap and record its reverbs. Then you can process your music data as if that is played in the church.\n"
      ]
    },
    {
      "cell_type": "markdown",
      "metadata": {
        "id": "nWEjTIln_bKd"
      },
      "source": [
        "## 課題2 / Practice 2\n",
        "\n",
        "上で読みこんだmono (MyWay.mp3のモノラル音声)を使って、以下の処理を行うプログラムを書いて下さい。(できる範囲で)\n",
        "\n",
        "Write codes to process the `mono` data.\n",
        "\n",
        "1. 逆再生\n",
        "2. 倍速再生 (データを1つおきに間引く。音が1オクターブ高くなる)\n",
        "3. もとの音に0.2秒ずらした音を重ねて再生\n",
        "4. 倍速再生 (音が高くならない)\n",
        "5. 最大値、最小値、平均値を求める\n",
        "6. 教会のインパルス応答を逆再生にして、monoに畳み込んで、変な残響をつくる\n",
        "\n",
        "1. Reversed play\n",
        "2. Fast play in double speed (Pick every two samples from the original data; It makes the music an octave higher.)\n",
        "3. Overlay the sound with 0.2 seconds delay onto the original one.\n",
        "4. Fast play in double speed with original pitch.\n",
        "5. Maximum, minimum and average of the sound data.\n",
        "6. Apply the reversed impulse response to obtain a strange reverbe of an impossible church.\n",
        "\n",
        "----\n",
        "\n",
        "3番、誰かが話している時に、その人の声を0.2秒遅れで再生して聞かせると、その人は話が続けられなくなる、という研究があります。(https://srad.jp/story/12/03/04/1812249/ 2012年イグ・ノーベル賞https://scienceportal.jst.go.jp/news/newsflash_review/newsflash/2012/10/20121003_01.html)\n",
        "\n",
        "Item 3: An Ignobel awarded research has shown that when someone is talking and their voice is played back with a 0.2 second delay, the person is unable to continue talking.\n",
        "\n",
        "----\n",
        "\n",
        "4番、音が高くならないように高速再生する方法はいくつかありますが、一番簡単なのは、\n",
        "\n",
        "* まず音楽を0.1秒ぐらいの長さのパケットに細分する。\n",
        "* パケットを1つおきにえらんでつなぎなおす。\n",
        "\n",
        "という方法です。例えば、元のデータが`[1,2,3,4,5,6,7,8,9,10, ... ,997,998,999,1000]`だとして、これを4データずつのパケットに分割し、`[1,2,3,4] [5,6,7,8] [9,10,11,12] ... [997 998 999 1000]`として、それらからひとつおきにえらんできてつないで`[1,2,3,4,9,10,11,12,17,18,19,20, ... ,993,994,995,996]`のようにするわけです。\n",
        "\n",
        "実際のプログラム中では、元の音楽データ(mono, 20秒、882000データ)の半分の長さの0配列をあらかじめ準備し、そこにmonoの断片を書きこんでいきます。\n",
        "\n",
        "Item 4: there are several ways to playback music at high speed without the sound getting too high.\n",
        "\n",
        "* First, divide the music into packets of about 0.1 second in length.\n",
        "* Select every two packets and join them.\n",
        "\n",
        "For example, if the original data is `[1,2,3,4,5,6,7,8,9,10, ... 997,998,999,1000]`, split them into packets of 4 data each, `[1,2,3,4] [5,6,7,8] [9,10,11,12] ... [997 998 999 1000]`, and concatenate every other one of them as `[1,2,3,4,9,10,11,12,17,18,19,20, ... 993,994,995,996]`.\n",
        "\n"
      ]
    },
    {
      "cell_type": "code",
      "metadata": {
        "id": "a7gaXZ3p_bKe"
      },
      "source": [
        "half = np.zeros(44100*10)\n",
        "# 0.1秒分のデータ長\n",
        "packetlen = 4410\n",
        "packetnum = 100\n",
        "# 最初の0.1秒をmonoからhalfに書き移す\n",
        "half[0:packetlen] = mono[0:packetlen]\n",
        "# 次の0.1秒\n",
        "half[packetlen:packetlen*2] = mono[packetlen*2:packetlen*2+packetlen]\n",
        "# これをpacketnum回くりかえす (for文を使う)"
      ],
      "execution_count": null,
      "outputs": []
    },
    {
      "cell_type": "markdown",
      "metadata": {
        "id": "aehPKPGg_bKk"
      },
      "source": [
        "なお、ゆっくり再生したい場合は逆に、同じ断片を2個繰りかえして`[1,2,3,4,1,2,3,4,5,6,7,8,5,6,7,8,...]`のようにつなぎます。\n",
        "\n",
        "2と4の技術を組みあわせると、再生速度がもとのままで、音だけ1オクターブ下げる、ということも可能です。(ボイスチェンジャー)\n",
        "\n",
        "If you want to play it slowly, repeat the same two fragments and join them like `[1,2,3,4,1,2,3,4,5,6,7,8,5,6,7,8,...]'.\n",
        "\n",
        "By combining techniques of items 2 and 4, it is possible to lower only the note by one octave while maintaining the original playback speed. (Voice Changer)"
      ]
    },
    {
      "cell_type": "code",
      "metadata": {
        "id": "dTxpbPxZ_bKk"
      },
      "source": [],
      "execution_count": null,
      "outputs": []
    }
  ]
}
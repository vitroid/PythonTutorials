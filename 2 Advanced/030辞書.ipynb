{
 "cells": [
  {
   "cell_type": "markdown",
   "metadata": {},
   "source": [
    "# 辞書\n",
    "リストは、複数のデータを並べて集めたものであると同時に、番号と値を結びつける関数とみなすこともできます。"
   ]
  },
  {
   "cell_type": "code",
   "execution_count": null,
   "metadata": {
    "collapsed": false
   },
   "outputs": [],
   "source": [
    "a = [3,1,4,1,5,9]\n",
    "print(a[1])\n",
    "print(a[3])"
   ]
  },
  {
   "cell_type": "markdown",
   "metadata": {},
   "source": [
    "値には文字列やリストなど、どんなデータタイプでも選べますが、番号のほうは非負の整数でなければなりません。\n",
    "\n",
    "辞書(dictionary)を使うと、番号に文字列を使うこともできます。"
   ]
  },
  {
   "cell_type": "code",
   "execution_count": null,
   "metadata": {
    "collapsed": false
   },
   "outputs": [],
   "source": [
    "a = dict()\n",
    "a[\"Matsumoto\"] = \"vitroid@gmail.com\"\n",
    "a[\"Tanaka\"]    = \"htanakaa@okayama-u.ac.jp\"\n",
    "name = input(\"Name?\")\n",
    "print(a[name])"
   ]
  },
  {
   "cell_type": "markdown",
   "metadata": {},
   "source": [
    "辞書はデータベースとも言えます。上の場合、\"Matsumoto\"をキー、\"vitroid@gmail.com\"を値と呼びます。辞書を使えば、電話帳が簡単に作れます。\n",
    "\n",
    "上のプログラムでは、存在しない名前を入力するとエラーになってしまうので、辞書にその名前のキーがあるがどうかをin演算子を使って調べます。"
   ]
  },
  {
   "cell_type": "code",
   "execution_count": null,
   "metadata": {
    "collapsed": false
   },
   "outputs": [],
   "source": [
    "a = dict()\n",
    "a[\"Matsumoto\"] = \"vitroid@gmail.com\"\n",
    "a[\"Tanaka\"]    = \"htanakaa@okayama-u.ac.jp\"\n",
    "while True:\n",
    "    name = input(\"Name?\")\n",
    "    if name == \"\":\n",
    "        print(\"Bye.\")\n",
    "        break\n",
    "    if name in a:\n",
    "        print(a[name])\n",
    "    else:\n",
    "        print(\"Sorry, the name '{0}' is not found in the directory.\".format(name))\n",
    "        email = input(\"Input his/her email address:\")\n",
    "        a[name] = email\n"
   ]
  },
  {
   "cell_type": "markdown",
   "metadata": {},
   "source": [
    "辞書を配列の代わりに使う場合もあります。特に、ほとんどの要素が0であるようなリストは、辞書にしたほうが格段にメモリの無駄がなくなり、処理も速くなります。\n",
    "\n",
    "### リストで書いた例"
   ]
  },
  {
   "cell_type": "code",
   "execution_count": null,
   "metadata": {
    "collapsed": false
   },
   "outputs": [],
   "source": [
    "import time\n",
    "now = time.time()                   #time.time()関数は現在時刻を秒単位の実数で返す。\n",
    "\n",
    "a = [0 for i in range(10000000)]    #すべての要素が0の、一千万個のリスト。100MB程度のメモリが必要\n",
    "a[0] = 1                            #2つだけ要素を1にする。\n",
    "a[9999999] = 1\n",
    "\n",
    "for i in range(10000000):           #値が1の要素をさがす。一千万回のループ\n",
    "    if a[i] == 1:\n",
    "        print(i)\n",
    "\n",
    "print(time.time()-now,\" sec\")"
   ]
  },
  {
   "cell_type": "markdown",
   "metadata": {},
   "source": [
    "### 辞書で書いた例"
   ]
  },
  {
   "cell_type": "code",
   "execution_count": null,
   "metadata": {
    "collapsed": false
   },
   "outputs": [],
   "source": [
    "import time\n",
    "now = time.time()                   #time.time()関数は現在時刻を秒単位の実数で返す。\n",
    "\n",
    "a = dict()\n",
    "a[-9999999] = 1                     #2つだけ要素を1にする。\n",
    "a[9999999.9] = 1\n",
    "for i in a:                         #aのキーについて繰り返す。\n",
    "    print(i)\n",
    "\n",
    "print(time.time()-now,\" sec\")"
   ]
  },
  {
   "cell_type": "markdown",
   "metadata": {},
   "source": [
    "辞書のキーは負の整数でも実数でも構いません。使わない要素は0を入れておく必要もないので、メモリも処理も最小限ですみます。\n",
    "### 行列を計算する\n",
    "別の例として、行列の足し算を考えます。Pythonで行列を表現する一番直感的な方法は、2次元リストを使うことです。3x3の行列の足し算は、次のように書けます。"
   ]
  },
  {
   "cell_type": "code",
   "execution_count": null,
   "metadata": {
    "collapsed": false
   },
   "outputs": [],
   "source": [
    "a = [[1,0,0],[0,1,0],[0,0,1]]\n",
    "#print(a[1][1])\n",
    "b = [[1,2,3],[4,5,6],[7,8,9]]\n",
    "c = [[0 for i in range(3)] for j in range(3)]   #all zero\n",
    "print(c)\n",
    "for i in range(3):\n",
    "    for j in range(3):\n",
    "        c[i][j] = a[i][j] + b[i][j]\n",
    "print(c)"
   ]
  },
  {
   "cell_type": "markdown",
   "metadata": {},
   "source": [
    "あるいは、リスト内のfor文を直接使って"
   ]
  },
  {
   "cell_type": "code",
   "execution_count": null,
   "metadata": {
    "collapsed": false
   },
   "outputs": [],
   "source": [
    "a = [[1,0,0],[0,1,0],[0,0,1]]\n",
    "b = [[1,2,3],[4,5,6],[7,8,9]]\n",
    "c = [[a[j][i]+b[j][i] for i in range(3)] for j in range(3)]   #all zero\n",
    "print(c)"
   ]
  },
  {
   "cell_type": "markdown",
   "metadata": {},
   "source": [
    "ところで、行列が非常に大きく、そのほとんどが0であるような行列(疎行列、sparce matrix)同士の和を計算する場合には、ほとんどの計算が0+0=0の自明な計算となります。非0の要素だけ計算するようにすれば、計算量は劇的に減るでしょう。\n",
    "\n",
    "そこで、辞書を使って表現します。"
   ]
  },
  {
   "cell_type": "code",
   "execution_count": null,
   "metadata": {
    "collapsed": false
   },
   "outputs": [],
   "source": [
    "a = {(3,100):2, (50,50):4}   #非0要素の位置のタプルをキーとする辞書\n",
    "#a =dict()                  #同じ意味\n",
    "#a[(3,100)] = 2\n",
    "#a[(50,50)] = 4\n",
    "print(a[(3,100)],a[(50,50)])"
   ]
  },
  {
   "cell_type": "markdown",
   "metadata": {},
   "source": [
    "和の計算をするときには、それぞれの行列の非0要素だけを計算します。"
   ]
  },
  {
   "cell_type": "code",
   "execution_count": null,
   "metadata": {
    "collapsed": false
   },
   "outputs": [],
   "source": [
    "b = {(52,52):100, (50,50):-4}\n",
    "c = dict()\n",
    "\n",
    "for key in a:                    #aのキーについて\n",
    "    if key in b:                 #bにも存在するなら\n",
    "        sum = a[key] + b[key]\n",
    "        if sum != 0:\n",
    "            c[key] = sum\n",
    "    else:                        #aのみに存在するなら\n",
    "        c[key] = a[key]\n",
    "\n",
    "for key in b:                    #bのキーについて\n",
    "    if not key in a:                 #bのみに存在するなら\n",
    "        c[key] = b[key]\n",
    "\n",
    "print(c)"
   ]
  },
  {
   "cell_type": "markdown",
   "metadata": {},
   "source": [
    "うまく動くことが確認できたら、将来また再利用しやすいように、関数にまとめておきます。"
   ]
  },
  {
   "cell_type": "code",
   "execution_count": null,
   "metadata": {
    "collapsed": false
   },
   "outputs": [],
   "source": [
    "def sparse_matrix_sum(a,b):\n",
    "    c = dict()\n",
    "    for key in a:                    #aのキーについて\n",
    "        if key in b:                 #bにも存在するなら\n",
    "            sum = a[key] + b[key]\n",
    "            if sum != 0:\n",
    "                c[key] = sum\n",
    "        else:                        #aのみに存在するなら\n",
    "            c[key] = a[key]\n",
    "\n",
    "    for key in b:                    #bのキーについて\n",
    "        if not key in a:                 #bのみに存在するなら\n",
    "            c[key] = b[key]\n",
    "    return c\n",
    "    \n",
    "x = {(3,100):2, (50,50):4}   #非0要素の位置のタプルをキーとする辞書\n",
    "y = {(52,52):100, (50,50):-4}\n",
    "\n",
    "print(sparse_matrix_sum(x,y))"
   ]
  },
  {
   "cell_type": "markdown",
   "metadata": {},
   "source": [
    "### 辞書の要素の順序\n",
    "リストと違い、辞書の要素は順序が決まっていません。"
   ]
  },
  {
   "cell_type": "code",
   "execution_count": null,
   "metadata": {
    "collapsed": false
   },
   "outputs": [],
   "source": [
    "a = dict()\n",
    "values = [9,3,1,5,4,3,10,-5,-3,6]\n",
    "for v in values:\n",
    "    a[v] = 1\n",
    "print(a)"
   ]
  },
  {
   "cell_type": "code",
   "execution_count": null,
   "metadata": {
    "collapsed": false
   },
   "outputs": [],
   "source": [
    "for key in a:\n",
    "    print(key, a[key])"
   ]
  },
  {
   "cell_type": "markdown",
   "metadata": {},
   "source": [
    "数値の小さい順に表示したいなら、ソートします。"
   ]
  },
  {
   "cell_type": "code",
   "execution_count": null,
   "metadata": {
    "collapsed": false
   },
   "outputs": [],
   "source": [
    "for key in sorted(a):\n",
    "    print(key, a[key])"
   ]
  },
  {
   "cell_type": "markdown",
   "metadata": {},
   "source": [
    "辞書のキーには実数でも文字列で何でも使えると書きましたが、実は制約があります。キーは定数でなければなりません。リストは変数(あとから中身をさしかえられる)なので辞書のキーには使えませんが、タプルは定数なので、辞書のキーに使えます。"
   ]
  },
  {
   "cell_type": "code",
   "execution_count": null,
   "metadata": {
    "collapsed": false
   },
   "outputs": [],
   "source": [
    "a = dict()\n",
    "a[(2,3)] = 5\n",
    "a[(1,2,3)] = 6\n",
    "#a[[2,3]] = 5     #キーが変数なのでエラー\n",
    "#a[(1,2,3,[4,5])]= 6   #タプルの中にリストが入っていてもエラー\n",
    "print(a)"
   ]
  },
  {
   "cell_type": "markdown",
   "metadata": {},
   "source": [
    "## 辞書の使用例\n",
    "「雨ニモマケズ」に含まれる文字の種類と個数を数えてみます。"
   ]
  },
  {
   "cell_type": "code",
   "execution_count": null,
   "metadata": {
    "collapsed": false
   },
   "outputs": [],
   "source": [
    "file = open(\"雨ニモマケズ.txt\", encoding=\"UTF8\")\n",
    "lettercount = dict()\n",
    "for line in file:\n",
    "    #letters = list(line)             #文字列をリストとみなす\n",
    "    for letter in line:\n",
    "        #すでに辞書にある文字なら\n",
    "        if letter in lettercount:\n",
    "            lettercount[letter] += 1\n",
    "        #辞書にない文字なら初期化する\n",
    "        else:\n",
    "            lettercount[letter] = 1\n",
    "for letter in sorted(lettercount, key=lettercount.get):\n",
    "    print(letter,lettercount[letter])"
   ]
  },
  {
   "cell_type": "markdown",
   "metadata": {},
   "source": [
    "関数をつかって、もっとシンプルに書けます。"
   ]
  },
  {
   "cell_type": "code",
   "execution_count": null,
   "metadata": {
    "collapsed": false
   },
   "outputs": [],
   "source": [
    "def count_members(s):\n",
    "    count = dict()\n",
    "    for c in s:\n",
    "        if c in count:\n",
    "            count[c] += 1\n",
    "        else:\n",
    "            count[c] = 1\n",
    "    return count\n",
    "\n",
    "file = open(\"雨ニモマケズ.txt\", encoding=\"UTF8\")\n",
    "concat = \"\".join(file)        #全文を1つの文字列につなぐ。\n",
    "lettercount = count_members(concat)\n",
    "for letter in sorted(lettercount):\n",
    "    print(letter,lettercount[letter])"
   ]
  },
  {
   "cell_type": "markdown",
   "metadata": {},
   "source": [
    "連続する2文字の出現頻度を数えます。行末の\"ズ\"、\"ニモ\"、\"アレ\"、\"ッテ\"などが多いことがわかりました。こういった解析で、文章の作者を推測するプロファイリングができるかもしれません。"
   ]
  },
  {
   "cell_type": "code",
   "execution_count": null,
   "metadata": {
    "collapsed": false
   },
   "outputs": [],
   "source": [
    "file = open(\"雨ニモマケズ.txt\", encoding=\"UTF8\")\n",
    "lettercount = dict()\n",
    "for line in file:\n",
    "    #letters = list(line)             #文字列をリストとみなす\n",
    "    for i in range(len(line)-1):\n",
    "        #2文字のタプルを作る\n",
    "        two = line[i:i+2]\n",
    "        #すでに辞書にある文字なら\n",
    "        if two in lettercount:\n",
    "            lettercount[two] += 1\n",
    "        #辞書にない文字なら初期化する\n",
    "        else:\n",
    "            lettercount[two] = 1\n",
    "for two in sorted(lettercount, key=lettercount.get):\n",
    "    print(two,lettercount[two])"
   ]
  },
  {
   "cell_type": "markdown",
   "metadata": {
    "collapsed": true
   },
   "source": [
    "要素と要素のつながりを辞書で表すことができます。"
   ]
  },
  {
   "cell_type": "code",
   "execution_count": null,
   "metadata": {
    "collapsed": false
   },
   "outputs": [],
   "source": [
    "link = dict()\n",
    "link[\"A\"] = \"B\"\n",
    "link[\"B\"] = \"C\"\n",
    "link[\"C\"] = \"A\""
   ]
  },
  {
   "cell_type": "markdown",
   "metadata": {},
   "source": [
    "つながりをたどっていくには、次のようにします。"
   ]
  },
  {
   "cell_type": "code",
   "execution_count": null,
   "metadata": {
    "collapsed": false
   },
   "outputs": [],
   "source": [
    "print(link[link[link[\"A\"]]])"
   ]
  },
  {
   "cell_type": "markdown",
   "metadata": {},
   "source": [
    "## 練習問題\n",
    "### 問題1\n",
    "データ列をファイルから読みこんで、そのヒストグラムを作るケースを考えてみます。\n",
    "\n",
    "ヒストグラムを作るには、数値を等間隔の区画(ビンと呼びます)に分類して、それぞれのビンに入るデータの個数を数えます。リストでこれを実装することもできますが、その場合、最も数値が小さい値のビンの番号が0以上になるようにするためには、あらかじめ最も小さいデータ値がいくつかを知るために、通常はデータを2回読みこむ必要があります。"
   ]
  },
  {
   "cell_type": "code",
   "execution_count": null,
   "metadata": {
    "collapsed": false
   },
   "outputs": [],
   "source": [
    "bins = [0 for i in range(100)]\n",
    "binwidth = 0.02\n",
    "\n",
    "n = 0\n",
    "file = open(\"data5.txt\")\n",
    "for line in file:\n",
    "    value = float(line)\n",
    "    bin   = int(value / binwidth)    #正とは限らない\n",
    "    bins[bin] += 1                   #binが負だとエラー!\n",
    "    n         += 1\n",
    "    \n",
    "for i in range(len(bins)):\n",
    "    print((i+0.5)*binwidth, bins[i]/binwidth/n)\n"
   ]
  },
  {
   "cell_type": "markdown",
   "metadata": {},
   "source": [
    "bin番号が負にならないように、あらかじめ大きな数値を足すこともできなくはありませんが、あくまで特定のデータで問題が起こらないだけで、根本的な解決にはなりません。\n",
    "\n",
    "次の例では、一旦すべてのデータを読みこんで、最小値を捜してから、それにあわせてbin番号をずらしています。"
   ]
  },
  {
   "cell_type": "code",
   "execution_count": null,
   "metadata": {
    "collapsed": false
   },
   "outputs": [],
   "source": [
    "binwidth = 0.02\n",
    "values = []\n",
    "\n",
    "minv =  1e99              #最大値と最小値の初期値\n",
    "maxv = -1e99              #ありえない巨大な値を設定しておく\n",
    "\n",
    "file = open(\"data5.txt\")\n",
    "for line in file:\n",
    "    value = float(line)\n",
    "    values.append(value)  #全部一旦そのまま読みこむ\n",
    "    if maxv < value:      #最大値と最小値をついでに求めておく。\n",
    "        maxv= value\n",
    "    if value < minv:\n",
    "        minv = value\n",
    "\n",
    "#そのままビンにわりふった時の、最大と最小のbin番号。\n",
    "binmin = int(minv / binwidth)\n",
    "binmax = int(maxv / binwidth)\n",
    "numbin = binmax - binmin + 1\n",
    "\n",
    "bins = [0 for i in range(numbin)]\n",
    "for value in values:\n",
    "    bin   = int(value / binwidth) - binmin\n",
    "    bins[bin] += 1\n",
    "\n",
    "for i in range(len(bins)):\n",
    "    print((i+binmin+0.5)*binwidth, bins[i]/binwidth/len(values))"
   ]
  },
  {
   "cell_type": "markdown",
   "metadata": {},
   "source": [
    "この方法の難点は、どんな大きなデータでも一旦すべてメモリ(リスト)に読みこむ必要があることです。\n",
    "\n",
    "そこで、リストの代わりに辞書を使ってみましょう。辞書の引数には負の整数を入れることもできます。"
   ]
  },
  {
   "cell_type": "markdown",
   "metadata": {
    "collapsed": true
   },
   "source": [
    "### 問題2\n",
    "百人一首のリストを読みこんで、決まり字(冒頭の数文字で、それを読めば、つづきが一意的に決まるようなもの)を見付けだすプログラムを書いてみよう。\n",
    "\n",
    "例えば「むらさめの つゆもまだひぬ まきのはに」のように、「む」からはじまる歌は1つしかないので、「む」を聞いただけで、あとの句が特定できるので、この句の決まり字は「む」である。\n",
    "\n",
    "1. 100句のよみがなをfile \"百人一首.txt\" から読みこんで、100要素のリストを作る。\n",
    "1. まず、冒頭の文字何文字を検討するかを決める。とりあえず、1文字を検討することとし、それをnとする。\n",
    "1. 空の辞書を作る。辞書のキーには決まり字、値にはその決まり字ではじまる句の個数を入れることにする。\n",
    "1. それぞれの句について、\n",
    "    1. 最初のn文字をとりだす。これをheadとする。\n",
    "    1. 辞書のkeyの中に、headがあれば、それに1を加える。なければ、1を入れる。\n",
    "1. すべての辞書のキーについて\n",
    "    1. 値が1であればキーを表示する。"
   ]
  },
  {
   "cell_type": "markdown",
   "metadata": {
    "collapsed": true
   },
   "source": [
    "### 問題3\n",
    "英文sample.txtを読みこみ、その中に出現する単語を抽出して、頻度の高い順に表示するプログラムを書いてみよう。\n",
    "\n",
    "出現頻度順の単語帳を持っていると、英語に限らず、外国語を勉強する時に非常に効率がよくなる。あなたがこれから読む予定の論文から、まずは単語を全部抽出し、頻度の高い順に並べて、上から順に見ていって、上位の知らない単語をさきに辞書で調べておけば、論文を読みながら辞書を引く必要はほとんどなくなる。\n",
    "\n",
    "単語と単語の切れ目には\",\"、\".\"などの文字が使われる。いろんな区切り文字は一旦ぜんぶ空白におきかえてからsplit()関数で分割する。(もっとスマートにやりたいなら正規表現を勉強する→http://www.diveintopython3.net/regular-expressions.html)"
   ]
  },
  {
   "cell_type": "code",
   "execution_count": null,
   "metadata": {
    "collapsed": false
   },
   "outputs": [],
   "source": [
    "a=\"This sentence contains commas, semicolons; and periods.\"\n",
    "a = a.replace(';', ' ')\n",
    "a = a.replace('.', ' ')\n",
    "a = a.replace(',', ' ')\n",
    "a = a.replace(':', ' ')\n",
    "a = a.replace('\"', ' ')\n",
    "a = a.replace(\"'\", ' ')\n",
    "print(a)\n",
    "print(a.split())"
   ]
  },
  {
   "cell_type": "markdown",
   "metadata": {},
   "source": [
    "あとはでてきた単語を辞書wordcountに入れて、上の例とおなじように回数を数える。\n",
    "\n",
    "キー(単語)の順でソートするなら、上のほうでもでてきた通り、"
   ]
  },
  {
   "cell_type": "code",
   "execution_count": null,
   "metadata": {
    "collapsed": true
   },
   "outputs": [],
   "source": [
    "for key in sorted(wordcount):"
   ]
  },
  {
   "cell_type": "markdown",
   "metadata": {},
   "source": [
    "でいいのだが、出現頻度順でソートする場合には、値でソートしなければいけない。その場合は、次のような書き方を使う。"
   ]
  },
  {
   "cell_type": "code",
   "execution_count": null,
   "metadata": {
    "collapsed": true
   },
   "outputs": [],
   "source": [
    "for key in sorted(wordcount, key=wordcount.get):"
   ]
  },
  {
   "cell_type": "markdown",
   "metadata": {},
   "source": [
    "英語のNative Speakerにボイスレコーダーをくっつけ、日常に使っている英語のすべてを一週間まるまる録音してから、使ったフレーズを出現頻度順に並べ、上から順番に丸暗記すれば、誰でもNative Speakerの言い回しができるようになると思っている。誰か、外国人向けの促成日本語教材を作ってみてはどうだろう。頻繁に「Majika」とか「Sugee」とか「Yabai」とか言う外国人が促成される気はするが。"
   ]
  },
  {
   "cell_type": "markdown",
   "metadata": {
    "collapsed": true
   },
   "source": [
    "### 問題4\n",
    "上では、疎行列の和を計算する関数sparse_matrix_sum()をつくったが、同じように疎行列の積を計算する関数を作ってほしい。\n",
    "\n",
    "疎行列でない場合の、行列の積は次のようなプログラムとなる。すこしわかりにくいが、計算手順は人間が手で計算するのと同じである。"
   ]
  },
  {
   "cell_type": "code",
   "execution_count": null,
   "metadata": {
    "collapsed": false
   },
   "outputs": [],
   "source": [
    "a = [[1,0,0],[0,1,0],[0,0,1]]\n",
    "b = [[1,2,3],[4,5,6],[7,8,9]]\n",
    "#行列aの、i行j列要素はa[i][j]。\n",
    "c = [[0 for i in range(3)] for j in range(3)]   #all zero\n",
    "\n",
    "for i in range(3):\n",
    "    for j in range(3):\n",
    "        for k in range(3):\n",
    "            c[i][j] += a[i][k] * b[k][j]\n",
    "print(c)"
   ]
  },
  {
   "cell_type": "code",
   "execution_count": null,
   "metadata": {
    "collapsed": true
   },
   "outputs": [],
   "source": []
  }
 ],
 "metadata": {
  "kernelspec": {
   "display_name": "Python 3",
   "language": "python",
   "name": "python3"
  },
  "language_info": {
   "codemirror_mode": {
    "name": "ipython",
    "version": 3
   },
   "file_extension": ".py",
   "mimetype": "text/x-python",
   "name": "python",
   "nbconvert_exporter": "python",
   "pygments_lexer": "ipython3",
   "version": "3.5.1"
  }
 },
 "nbformat": 4,
 "nbformat_minor": 0
}

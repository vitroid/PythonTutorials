{
 "cells": [
  {
   "cell_type": "markdown",
   "metadata": {},
   "source": [
    "# Anacondaでopencvを使う方法\n",
    "\n",
    "* https://anaconda.org/menpo/opencv3 に一応書かれているがそのままでは動かない。\n",
    "* https://rivercitylabs.org/up-and-running-with-opencv3-and-python-3-anaconda-edition/ が役に立った。\n",
    "\n",
    "\n",
    "1. Anaconda Navigatorで左メニューのEnvironmentsを押し、Create+を押して、opencvという名前の新しい環境を作る。環境とは、Pythonライブラリ(パッケージ)を集めたもの。標準はroot環境だが、opencvは最新環境(3.6)では動かないので、Python3.5を選択する。\n",
    "2. 最初は最小限(10個)のパッケージしか含まれていない。\n",
    "2. opencv >を押してOpen Terminalするとターミナルが開く。\n",
    "3. その中で、OpenCVに必要なものをインストールする。\n",
    "       conda install -c https://conda.binstar.org/menpo opencv3 spyder\n",
    "   これにより、新しい環境(Python3.5, OpenCV, Spyder入り)の準備ができた。今後、また別の開発環境が欲しくなった時も同じ手順を踏む。\n",
    "5. Anaconda Navigatorに戻り、左メニュー「Home」でアプリ起動画面を表示する。「Applications on」でrootの代わりにopencvを選ぶと、使えるアプリケーションが更新される。これらのアプリケーションすべてで、OpenCVが利用できる。\n"
   ]
  },
  {
   "cell_type": "markdown",
   "metadata": {},
   "source": [
    "# OpenCVでとにかく何か表示してみよう。\n",
    "\n",
    "たぶん今のPCならカメラを内蔵しているだろうから、カメラから直接とりこむのが一番てっとりばやい。"
   ]
  },
  {
   "cell_type": "code",
   "execution_count": null,
   "metadata": {},
   "outputs": [],
   "source": [
    "import cv2\n",
    "camera = cv2.VideoCapture(0)  #内蔵カメラはたぶん0番デバイス\n",
    "\n",
    "ret, image = camera.read()   #Capture a frame from the camera.\n",
    "cv2.imshow(\"Hello!\", image)  #Show the image in a window.\n",
    "key = cv2.waitKey(0)         #Wait until a key is pressed in the window.\n",
    "image"
   ]
  },
  {
   "cell_type": "markdown",
   "metadata": {},
   "source": [
    "imageの中身に注目して下さい。整数値の三つ組がたくさんはいった,3次元のnumpy arrayになっています。\n",
    "3つ組の数字はRGB(三原色)を表現していて、写真の画素一つ一つの色がすべて含まれています。\n",
    "それが行ごとにまとめられ、すべての行をまとめたものが1枚の写真になります。\n",
    "つまり、numpyのarrayの操作さえ知っていれば、写真を自由に操作できる、ということになります。\n",
    "\n",
    "上の例では1枚の写真が得られるだけですが、これをくりかえせば、ムービーになります。"
   ]
  },
  {
   "cell_type": "code",
   "execution_count": null,
   "metadata": {},
   "outputs": [],
   "source": [
    "import cv2\n",
    "camera = cv2.VideoCapture(0)  #内蔵カメラはたぶん0番デバイス\n",
    "\n",
    "while cv2.waitKey(1) < 0:\n",
    "    ret, image = camera.read()\n",
    "    cv2.imshow(\"Hello!\", image)\n",
    "\n",
    "#Close all the windows.  \n",
    "cv2.destroyAllWindows()\n",
    "cv2.waitKey(1)"
   ]
  },
  {
   "cell_type": "markdown",
   "metadata": {},
   "source": [
    "色の明るさは0〜255の整数で表現されていますから、色調を完全に反転させるには、255から引きます。\n",
    "\n",
    "カメラからとりこんだ画像を、ウィンドウに表示する前に、処理をすれば、処理後の画像を見ることができます。\n",
    "もちろん、2つウィンドウをひらいて、両方見比べることも簡単です。"
   ]
  },
  {
   "cell_type": "code",
   "execution_count": null,
   "metadata": {
    "collapsed": true
   },
   "outputs": [],
   "source": [
    "import cv2\n",
    "camera = cv2.VideoCapture(0)  #内蔵カメラはたぶん0番デバイス\n",
    "\n",
    "ret, image = camera.read()   #Capture a frame from the camera.\n",
    "\n",
    "\n",
    "reversed_image = 255 - image #reverse the colors\n",
    "\n",
    "\n",
    "cv2.imshow(\"Hello!\", image)  #Show the original image\n",
    "cv2.imshow(\"!olleH\", reversed_image)  #Show the reversed image\n",
    "\n",
    "key = cv2.waitKey(0)         #Wait until a key is pressed in the window.\n",
    "#Close all the windows.  \n",
    "cv2.destroyAllWindows()\n",
    "cv2.waitKey(1)"
   ]
  },
  {
   "cell_type": "markdown",
   "metadata": {},
   "source": [
    "上下を入れかえたいなら、行を反転すればいいのです。"
   ]
  },
  {
   "cell_type": "code",
   "execution_count": null,
   "metadata": {},
   "outputs": [],
   "source": [
    "import cv2\n",
    "camera = cv2.VideoCapture(0)  #内蔵カメラはたぶん0番デバイス\n",
    "\n",
    "ret, image = camera.read()   #Capture a frame from the camera.\n",
    "\n",
    "\n",
    "usd = image[::-1,:,:]        #usd == upside down\n",
    "\n",
    "\n",
    "cv2.imshow(\"Hello!\", usd)    #Show the image in a window.\n",
    "key = cv2.waitKey(0)         #Wait until a key is pressed in the window.\n",
    "#Close all the windows.  \n",
    "cv2.destroyAllWindows()\n",
    "cv2.waitKey(1)"
   ]
  },
  {
   "cell_type": "markdown",
   "metadata": {},
   "source": [
    "では、左右を反転するにはどうしたらいいでしょうか??"
   ]
  },
  {
   "cell_type": "code",
   "execution_count": null,
   "metadata": {
    "collapsed": true
   },
   "outputs": [],
   "source": []
  }
 ],
 "metadata": {
  "kernelspec": {
   "display_name": "Python 3",
   "language": "python",
   "name": "python3"
  },
  "language_info": {
   "codemirror_mode": {
    "name": "ipython",
    "version": 3
   },
   "file_extension": ".py",
   "mimetype": "text/x-python",
   "name": "python",
   "nbconvert_exporter": "python",
   "pygments_lexer": "ipython3",
   "version": "3.5.3"
  }
 },
 "nbformat": 4,
 "nbformat_minor": 2
}

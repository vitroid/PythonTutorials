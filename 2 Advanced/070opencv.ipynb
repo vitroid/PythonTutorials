{
 "cells": [
  {
   "cell_type": "markdown",
   "metadata": {},
   "source": [
    "# Anacondaでopencvを使う方法\n",
    "\n",
    "* https://anaconda.org/menpo/opencv3 に一応書かれているがそのままでは動かない。\n",
    "* https://rivercitylabs.org/up-and-running-with-opencv3-and-python-3-anaconda-edition/ が役に立った。\n",
    "\n",
    "\n",
    "1. Anaconda Navigatorで左メニューのEnvironmentsを押し、Create+を押して、opencvという名前の新しい環境を作る。環境とは、Pythonライブラリ(パッケージ)を集めたもの。標準はroot環境だが、opencvは最新環境(3.6)では動かないので、Python3.5を選択する。\n",
    "2. 最初は最小限(10個)のパッケージしか含まれていない。\n",
    "2. opencv >を押してOpen Terminalするとターミナルが開く。\n",
    "3. その中で、OpenCVに必要なものをインストールする。\n",
    "       conda install -c https://conda.binstar.org/menpo opencv3 spyder\n",
    "   これにより、新しい環境(Python3.5, OpenCV, Spyder入り)の準備ができた。今後、また別の開発環境が欲しくなった時も同じ手順を踏む。\n",
    "5. Anaconda Navigatorに戻り、「Applications on」でrootの代わりにopencvを選ぶと、使えるアプリケーションが更新される。これらのアプリケーションすべてで、OpenCVが利用できる。\n"
   ]
  },
  {
   "cell_type": "markdown",
   "metadata": {},
   "source": [
    "# OpenCVでとにかく何か表示してみよう。\n",
    "\n",
    "たぶん今のPCならカメラを内蔵しているだろうから、カメラから直接とりこむのが一番てっとりばやい。"
   ]
  },
  {
   "cell_type": "code",
   "execution_count": null,
   "metadata": {
    "collapsed": false
   },
   "outputs": [],
   "source": [
    "import cv2\n",
    "camera = cv2.VideoCapture(0)  #内蔵カメラはたぶん0番デバイス\n",
    "\n",
    "ret, image = camera.read()\n",
    "cv2.imshow(\"Hello!\", image)    "
   ]
  },
  {
   "cell_type": "code",
   "execution_count": null,
   "metadata": {
    "collapsed": true
   },
   "outputs": [],
   "source": []
  }
 ],
 "metadata": {
  "kernelspec": {
   "display_name": "Python 3",
   "language": "python",
   "name": "python3"
  },
  "language_info": {
   "codemirror_mode": {
    "name": "ipython",
    "version": 3
   },
   "file_extension": ".py",
   "mimetype": "text/x-python",
   "name": "python",
   "nbconvert_exporter": "python",
   "pygments_lexer": "ipython3",
   "version": "3.6.0"
  }
 },
 "nbformat": 4,
 "nbformat_minor": 2
}

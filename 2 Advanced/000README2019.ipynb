{
 "cells": [
  {
   "cell_type": "code",
   "execution_count": 2,
   "metadata": {},
   "outputs": [
    {
     "data": {
      "text/markdown": [
       "# 2019年 複雑系化学 資料\n",
       "\n",
       "今、データサイエンスと機械学習(とりわけ人工知能)が注目されています。特に、Python言語はそれらのプラットフォームとして人気が高まっていて、既存の膨大なライブラリを利用して、最先端の情報処理を簡単に利用できるようになってきています。スキルを身につけておけば、研究に活用するのはもちろん、卒業後の就職でも有利に働くことでしょう。\n",
       "\n",
       "この講義では、Python言語によるデータ分析の初歩を解説し、プログラムをたくさん書いてもらいます。たくさん書かないと上達しないのは外国語と同じですが、コンピュータ言語の場合には、読み書きだけで会話のスキルまで身につける必要がないことと、たくさんある言語もだいたい方言にすぎないという点で、外国語を勉強するよりは覚えることはかなり少なくてすみます。何より、一旦身につければ、いろんな作業をコンピュータにまかせて楽ができます。\n",
       "\n",
       "## 講義の進め方\n",
       "\n",
       "* Jupyter Notebook(このページ)に沿って解説を行ったあと、宿題にとりくみます。宿題はもって帰ってやってきても構いません。わからなければメールで聞くか、直接聞きに来て下さい。\n",
       "* 次週の火曜日までに宿題を提出して下さい。(宛先: matsu-m3@okayama-u.ac.jp )\n",
       "* 次回の講義のはじめに、各人のプログラムを紹介し、講評します。\n",
       "* 時間配分はまだよくわかりませんので、受講者の数やその場の状況で進め方や講義の頻度を調節します。\n",
       "\n",
       "## 参考書\n",
       "\n",
       "* Pythonによるデータ分析入門 (O'Reilly刊)\n",
       "* Pythonデータサイエンスハンドブック (O'Reilly刊)\n",
       "* Fluent Python (O'Reilly刊)\n",
       "* Python機械学習クックブック (O'Reilly刊)\n",
       "\n",
       "ちょっとしたことならInternetで検索するのが簡単です。\n",
       "\n",
       "* 英語の情報を選びましょう。日本語に限定すると情報量がかなり減ります。\n",
       "* 日付がある場合には、できるだけ最新の情報を選びましょう。\n",
       "* Python 2と Python 3の情報が混在しています。この講義ではPython 3しか扱いません。Python 2を今から学んでも無駄です。\n",
       "\n",
       "## さいしょにすること\n",
       "\n",
       "* Pythonの実行環境 Anaconda (https://www.anaconda.com) をインストールします。\n",
       "* バージョン管理システム GitKraken (https://www.gitkraken.com) をインストールします。\n",
       "\n",
       "## 次にすること\n",
       "\n",
       "* GitKrakenを開き、メニューFile→Clone Repoを選びます。\n",
       "* URL https://github.com/vitroid/PythonTutorials.git を指定して\"Clone the Repo!\"を押します。\n",
       "* 今回の講義で使うテキストがダウンロードされます。\n",
       "\n",
       "## さあはじめましょう\n",
       "\n",
       "* Anacondaを開き、JupyterLabを起動します。\n",
       "* ダウンロードしたテキストは`\"ホームディレクトリ/github/PythonTutorials\"`あたりにあるはずです。\n",
       "* まず、`\"2 Advanced\"`の中の、`\"010Intro.ipynb\"`を開いて下さい。\n",
       "\n",
       "![](https://i.gyazo.com/5a53ee6b289cc8ae448f1d4d402da9de.png)\n",
       "\n",
       "https://github.com/vitroid/PythonTutorials/blob/master/2%20Advanced/README2019.md"
      ],
      "text/plain": [
       "<IPython.core.display.Markdown object>"
      ]
     },
     "metadata": {},
     "output_type": "display_data"
    }
   ],
   "source": [
    "from IPython.display import display, Markdown\n",
    "display(Markdown(open('README2019.md', 'r').read()))"
   ]
  },
  {
   "cell_type": "code",
   "execution_count": null,
   "metadata": {},
   "outputs": [],
   "source": []
  }
 ],
 "metadata": {
  "kernelspec": {
   "display_name": "Python 3",
   "language": "python",
   "name": "python3"
  },
  "language_info": {
   "codemirror_mode": {
    "name": "ipython",
    "version": 3
   },
   "file_extension": ".py",
   "mimetype": "text/x-python",
   "name": "python",
   "nbconvert_exporter": "python",
   "pygments_lexer": "ipython3",
   "version": "3.6.5"
  }
 },
 "nbformat": 4,
 "nbformat_minor": 2
}

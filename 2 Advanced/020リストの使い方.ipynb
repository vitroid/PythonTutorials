{
  "nbformat": 4,
  "nbformat_minor": 0,
  "metadata": {
    "kernelspec": {
      "display_name": "Python 3",
      "language": "python",
      "name": "python3"
    },
    "language_info": {
      "codemirror_mode": {
        "name": "ipython",
        "version": 3
      },
      "file_extension": ".py",
      "mimetype": "text/x-python",
      "name": "python",
      "nbconvert_exporter": "python",
      "pygments_lexer": "ipython3",
      "version": "3.6.5"
    },
    "colab": {
      "name": "020リストの使い方.ipynb",
      "provenance": [],
      "include_colab_link": true
    }
  },
  "cells": [
    {
      "cell_type": "markdown",
      "metadata": {
        "id": "view-in-github",
        "colab_type": "text"
      },
      "source": [
        "<a href=\"https://colab.research.google.com/github/vitroid/PythonTutorials/blob/2020b3/2%20Advanced/020%E3%83%AA%E3%82%B9%E3%83%88%E3%81%AE%E4%BD%BF%E3%81%84%E6%96%B9.ipynb\" target=\"_parent\"><img src=\"https://colab.research.google.com/assets/colab-badge.svg\" alt=\"Open In Colab\"/></a>"
      ]
    },
    {
      "cell_type": "markdown",
      "metadata": {
        "id": "GNh1i0VyoALx",
        "colab_type": "text"
      },
      "source": [
        "# リストの使い方\n",
        "リストは、いくつかのデータを順番にならべたものです。データは数値でも文字列でも構いません。数値を変数に入れるのと同じように、リストを変数に入れることもできます。"
      ]
    },
    {
      "cell_type": "code",
      "metadata": {
        "id": "5jBxCin5oALy",
        "colab_type": "code",
        "colab": {}
      },
      "source": [
        "a=10\n",
        "x=[a,9,\"WORD\"]\n",
        "print(x)"
      ],
      "execution_count": 0,
      "outputs": []
    },
    {
      "cell_type": "markdown",
      "metadata": {
        "id": "tK7sA3XzoAL3",
        "colab_type": "text"
      },
      "source": [
        "リストの要素には、左から順番に0、1、2、3…と番号がついています。(0から始まることに注意) 文字列の場合と同じように、リストxの2番目の要素はx[2]と書きます。また、要素番号に負の数を指定すると右から数えます。上のリストxの場合、x[2]とx[-1]は同じものを指します。"
      ]
    },
    {
      "cell_type": "code",
      "metadata": {
        "id": "6Gv8A82QoAL4",
        "colab_type": "code",
        "colab": {}
      },
      "source": [
        "print(x[2],x[-1])"
      ],
      "execution_count": 0,
      "outputs": []
    },
    {
      "cell_type": "markdown",
      "metadata": {
        "id": "B_U3xu2DoAL8",
        "colab_type": "text"
      },
      "source": [
        "リストの要素が3個しかないのに、10番目の要素を表示させようとするとエラーになります。"
      ]
    },
    {
      "cell_type": "code",
      "metadata": {
        "id": "wZYKQ9YooAL8",
        "colab_type": "code",
        "colab": {}
      },
      "source": [
        "print(x[10])"
      ],
      "execution_count": 0,
      "outputs": []
    },
    {
      "cell_type": "markdown",
      "metadata": {
        "id": "BvnBcD15oAMC",
        "colab_type": "text"
      },
      "source": [
        "リストは足し算やかけ算ができます。2つのリストを足しあわせると、長いリストになります。また、リストに整数を掛けると、リストを繰り返しつないだものができます。"
      ]
    },
    {
      "cell_type": "code",
      "metadata": {
        "id": "W6JTcXn3oAMD",
        "colab_type": "code",
        "colab": {}
      },
      "source": [
        "x=[1,2,3]\n",
        "y=[4,5,6]\n",
        "z=x+y\n",
        "w=z*3\n",
        "print(z,w)"
      ],
      "execution_count": 0,
      "outputs": []
    },
    {
      "cell_type": "markdown",
      "metadata": {
        "id": "c7nw0zzzoAMH",
        "colab_type": "text"
      },
      "source": [
        "なお、割り算や引き算はできません。リストを分割したり、一部をとりだしたり、消したりする方法はあとで出てきます。\n",
        "\n",
        "長さが100で、要素が全部0のリストを作りたい場合は、 要素が1個だけのリストを100倍します。"
      ]
    },
    {
      "cell_type": "code",
      "metadata": {
        "id": "2qyAbU8BoAMH",
        "colab_type": "code",
        "colab": {}
      },
      "source": [
        "x=[0]*100\n",
        "print(x)"
      ],
      "execution_count": 0,
      "outputs": []
    },
    {
      "cell_type": "markdown",
      "metadata": {
        "id": "wTjtw9tIoAMM",
        "colab_type": "text"
      },
      "source": [
        "また、リストに一つだけ要素を追加したい時は、次のように書く。"
      ]
    },
    {
      "cell_type": "code",
      "metadata": {
        "id": "g4TVv9z-oAMN",
        "colab_type": "code",
        "colab": {}
      },
      "source": [
        "x=[1,2,3]\n",
        "x=x+[4]            #リスト同士の足し算\n",
        "print(x)"
      ],
      "execution_count": 0,
      "outputs": []
    },
    {
      "cell_type": "markdown",
      "metadata": {
        "id": "GCwPWiy77LwW",
        "colab_type": "text"
      },
      "source": [
        "あるいはappendを使います。"
      ]
    },
    {
      "cell_type": "code",
      "metadata": {
        "id": "s5unS4pz7NYK",
        "colab_type": "code",
        "colab": {}
      },
      "source": [
        "x=[1,2,3]\n",
        "x.append(4)\n",
        "x"
      ],
      "execution_count": 0,
      "outputs": []
    },
    {
      "cell_type": "markdown",
      "metadata": {
        "id": "49KNss76oAMR",
        "colab_type": "text"
      },
      "source": [
        "長いリストの一部分だけ取りだすこともできる。リストxの2番目から3番目までの部分リストをとりだす場合は、次のように書きます。(「2以上4未満」と覚える)"
      ]
    },
    {
      "cell_type": "code",
      "metadata": {
        "id": "JqeIQftuoAMS",
        "colab_type": "code",
        "colab": {}
      },
      "source": [
        "x=[0,1,2,3,4,5,6,7,8]\n",
        "y=x[2:4]\n",
        "print(y)"
      ],
      "execution_count": 0,
      "outputs": []
    },
    {
      "cell_type": "markdown",
      "metadata": {
        "id": "X6gqbwNboAMX",
        "colab_type": "text"
      },
      "source": [
        "関数len()を使うと、リストの要素の個数を返します。"
      ]
    },
    {
      "cell_type": "code",
      "metadata": {
        "id": "5DQRMkIpoAMY",
        "colab_type": "code",
        "colab": {}
      },
      "source": [
        "L = len(x)\n",
        "print(L)"
      ],
      "execution_count": 0,
      "outputs": []
    },
    {
      "cell_type": "markdown",
      "metadata": {
        "id": "VNdC1U11oAMc",
        "colab_type": "text"
      },
      "source": [
        "リストの要素を全部数字にすると、ベクトルとして使えます。次の例では、ベクトルxとyの各要素の和を要素とする新しいベクトルzを定義しています。"
      ]
    },
    {
      "cell_type": "code",
      "metadata": {
        "id": "6e1lz7z1oAMe",
        "colab_type": "code",
        "colab": {}
      },
      "source": [
        "x=[1,2,3]\n",
        "y=[4,5,6]\n",
        "z=[x[0]+y[0], x[1]+y[1], x[2]+y[2]]\n",
        "z"
      ],
      "execution_count": 0,
      "outputs": []
    },
    {
      "cell_type": "markdown",
      "metadata": {
        "id": "YTLYffwsoAMl",
        "colab_type": "text"
      },
      "source": [
        "リストの中にリストを入れることもできます。要素3つのリスト(3次元のベクトル)3つをさらにリストに入れたものは、3×3行列とみなせます。"
      ]
    },
    {
      "cell_type": "code",
      "metadata": {
        "id": "-JF_Dx9SoAMm",
        "colab_type": "code",
        "colab": {}
      },
      "source": [
        "w=[[1,0,0],[0,2,0],[0,0,3]]\n",
        "w"
      ],
      "execution_count": 0,
      "outputs": []
    },
    {
      "cell_type": "markdown",
      "metadata": {
        "id": "HJWQfbifoAMq",
        "colab_type": "text"
      },
      "source": [
        "この場合、w\\[1]はwの1番目の要素、つまり[0,2,0]を指します。wの1番目の要素の、さらに2番目の要素はw[1][2]と書きます。"
      ]
    },
    {
      "cell_type": "code",
      "metadata": {
        "id": "G5Mr56vooAMr",
        "colab_type": "code",
        "colab": {}
      },
      "source": [
        "w[1][2]"
      ],
      "execution_count": 0,
      "outputs": []
    },
    {
      "cell_type": "markdown",
      "metadata": {
        "id": "4Ylj_09_oAMu",
        "colab_type": "text"
      },
      "source": [
        "要素が0個のリストは次のように書きます。"
      ]
    },
    {
      "cell_type": "code",
      "metadata": {
        "id": "Uro6Nq5-oAMv",
        "colab_type": "code",
        "colab": {}
      },
      "source": [
        "x=[]"
      ],
      "execution_count": 0,
      "outputs": []
    },
    {
      "cell_type": "markdown",
      "metadata": {
        "id": "pTvyTfjf7fuV",
        "colab_type": "text"
      },
      "source": [
        "# 繰り返しによるリスト作成\n",
        "0から99までの数字があらかじめ入ったリストを作りたい時は、上の例から2つの方法が思いつきます。\n",
        "## 1. はじめに0が100個入ったリストを作り、あとから値を上書きする"
      ]
    },
    {
      "cell_type": "code",
      "metadata": {
        "id": "H5naGGV17k6K",
        "colab_type": "code",
        "colab": {}
      },
      "source": [
        "x=[0]*100\n",
        "for i in range(100):\n",
        "    x[i] = i\n",
        "x"
      ],
      "execution_count": 0,
      "outputs": []
    },
    {
      "cell_type": "markdown",
      "metadata": {
        "id": "Ak_lF45M7qob",
        "colab_type": "text"
      },
      "source": [
        "## 2. 空のリストにどんどん値をつないでいく。\n"
      ]
    },
    {
      "cell_type": "code",
      "metadata": {
        "id": "y--wmMn67tOC",
        "colab_type": "code",
        "colab": {}
      },
      "source": [
        "x=[]\n",
        "for i in range(100):\n",
        "    x.append(i)\n",
        "x"
      ],
      "execution_count": 0,
      "outputs": []
    },
    {
      "cell_type": "markdown",
      "metadata": {
        "id": "8k5eoUQO7w1B",
        "colab_type": "text"
      },
      "source": [
        "## 3. リスト内包記法\n",
        "Python独特の方法として、リストの中で繰り返しを書く構文があります。繰り返しを使ってリストを作るプログラムは、ほとんどがリスト内包記法に書きかえられます。すこしトリッキーに見えますが、速度が速く、簡潔に書けるので、慣れて下さい。"
      ]
    },
    {
      "cell_type": "code",
      "metadata": {
        "id": "G2cqedE472-Z",
        "colab_type": "code",
        "colab": {}
      },
      "source": [
        "x=[i for i in range(100)]\n",
        "x"
      ],
      "execution_count": 0,
      "outputs": []
    },
    {
      "cell_type": "markdown",
      "metadata": {
        "id": "vep4T7Kr7-cA",
        "colab_type": "text"
      },
      "source": [
        "\n",
        "4x4のリストを作る場合にはどうすればいいでしょうか。いま学んだリスト内包記法を使って"
      ]
    },
    {
      "cell_type": "code",
      "metadata": {
        "id": "sgXqi3X6782J",
        "colab_type": "code",
        "colab": {}
      },
      "source": [
        "y=[]\n",
        "for j in range(0,16,4):\n",
        "    x = [i+j for i in range(4)]\n",
        "    y.append(x)\n",
        "y"
      ],
      "execution_count": 0,
      "outputs": []
    },
    {
      "cell_type": "markdown",
      "metadata": {
        "id": "9jDP9BHf8DES",
        "colab_type": "text"
      },
      "source": [
        "と書けますが、リスト内包記法を多重に使うことで、これももっとシンプルに書けます。"
      ]
    },
    {
      "cell_type": "code",
      "metadata": {
        "id": "SGsgUU1G8FoY",
        "colab_type": "code",
        "colab": {}
      },
      "source": [
        "y=[[i+j for i in range(4)] for j in range(0,16,4)]\n",
        "y"
      ],
      "execution_count": 0,
      "outputs": []
    },
    {
      "cell_type": "markdown",
      "metadata": {
        "id": "yfo7NSXX8KIQ",
        "colab_type": "text"
      },
      "source": [
        "正弦波のデータを作りたい場合には、リスト内包記法の中で関数を使います。"
      ]
    },
    {
      "cell_type": "code",
      "metadata": {
        "id": "csLF_rBJ8MnB",
        "colab_type": "code",
        "colab": {}
      },
      "source": [
        "from math import sin, pi\n",
        "\n",
        "wave = [5*sin(i*2*pi/10) for i in range(20)]\n",
        "wave"
      ],
      "execution_count": 0,
      "outputs": []
    },
    {
      "cell_type": "markdown",
      "metadata": {
        "id": "lFYZxt7koAMz",
        "colab_type": "text"
      },
      "source": [
        "画像や音声といった、大きなサイズのデータをプログラムで操作する場合には、それらを音量データの羅列、画素データの羅列とみなせば、リストに入れることができます。このように、リストは単にベクトルや行列として使えるだけでなく、大きなデータを自在に取り扱うための強力なツールです。\n",
        "\n",
        "その他に、リストではこんなことができます。"
      ]
    },
    {
      "cell_type": "code",
      "metadata": {
        "id": "jXzcj2bAoAM0",
        "colab_type": "code",
        "colab": {}
      },
      "source": [
        "x=[3,1,4,1,5,9]\n",
        "x.index(9)"
      ],
      "execution_count": 0,
      "outputs": []
    },
    {
      "cell_type": "code",
      "metadata": {
        "id": "8yKempJPoAM3",
        "colab_type": "code",
        "colab": {}
      },
      "source": [
        "x.remove(9)\n",
        "x"
      ],
      "execution_count": 0,
      "outputs": []
    },
    {
      "cell_type": "code",
      "metadata": {
        "id": "qJl_hAwAoAM6",
        "colab_type": "code",
        "colab": {}
      },
      "source": [
        "x.reverse()\n",
        "x"
      ],
      "execution_count": 0,
      "outputs": []
    },
    {
      "cell_type": "code",
      "metadata": {
        "id": "e5wmRFg288kx",
        "colab_type": "code",
        "colab": {}
      },
      "source": [
        "x.sort()\n",
        "x"
      ],
      "execution_count": 0,
      "outputs": []
    },
    {
      "cell_type": "markdown",
      "metadata": {
        "id": "WoTpwSVMoANB",
        "colab_type": "text"
      },
      "source": [
        "なお、このうち、removeとreverseとsortはタプルでは使えません。タプルはリストに似ていると言いましたが、リストとは違い、タプルは<u>一旦内容を設定すると、変更することができない</u>ためです。"
      ]
    },
    {
      "cell_type": "markdown",
      "metadata": {
        "id": "Kz0HleVRoANB",
        "colab_type": "text"
      },
      "source": [
        "## 練習\n",
        "\n",
        "https://www.datacamp.com/home のLEARN: Introduction to PythonのChapter 2: Listsを試してみて下さい。"
      ]
    },
    {
      "cell_type": "code",
      "metadata": {
        "id": "_BChynRcoANC",
        "colab_type": "code",
        "colab": {}
      },
      "source": [
        ""
      ],
      "execution_count": 0,
      "outputs": []
    }
  ]
}
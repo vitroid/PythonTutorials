{
  "cells": [
    {
      "cell_type": "markdown",
      "metadata": {
        "id": "view-in-github",
        "colab_type": "text"
      },
      "source": [
        "<a href=\"https://colab.research.google.com/github/vitroid/PythonTutorials/blob/master/2%20Advanced/020%E3%83%AA%E3%82%B9%E3%83%88%E3%81%AE%E4%BD%BF%E3%81%84%E6%96%B9.ipynb\" target=\"_parent\"><img src=\"https://colab.research.google.com/assets/colab-badge.svg\" alt=\"Open In Colab\"/></a>"
      ]
    },
    {
      "cell_type": "markdown",
      "metadata": {
        "id": "GNh1i0VyoALx"
      },
      "source": [
        "# リストの使い方 / List\n",
        "リストは、いくつかのデータを順番にならべたものです。データは数値でも文字列でも構いません。数値を変数に入れるのと同じように、リストを変数に入れることもできます。\n",
        "\n",
        "A list is a sequence of data. The data can be numbers, strings, or any data type. Lists can be put into variables in the same way that numbers can be put into variables.\n"
      ]
    },
    {
      "cell_type": "code",
      "execution_count": null,
      "metadata": {
        "id": "5jBxCin5oALy"
      },
      "outputs": [],
      "source": [
        "a=10\n",
        "x=[a,9,\"WORD\"]\n",
        "print(x)"
      ]
    },
    {
      "cell_type": "markdown",
      "metadata": {
        "id": "tK7sA3XzoAL3"
      },
      "source": [
        "リストの要素には、左から順番に0、1、2、3…と番号がついています。(0から始まることに注意) 文字列の場合と同じように、リストxの2番目の要素はx[2]と書きます。また、要素番号に負の数を指定すると右から数えます。上のリストxの場合、x[2]とx[-1]は同じ要素を指します。\n",
        "\n",
        "The elements of the list are numbered from left to right as 0, 1, 2, 3.... (Note that it starts with 0.) As in the case of strings, the second element of list `x` is written as `x[2]`. Also, if a negative number is specified for the element number, it is counted from the right. In the case of list `x` above, `x[2]` and `x[-1]` refer to the same item."
      ]
    },
    {
      "cell_type": "code",
      "execution_count": null,
      "metadata": {
        "id": "6Gv8A82QoAL4"
      },
      "outputs": [],
      "source": [
        "print(x[2],x[-1])"
      ]
    },
    {
      "cell_type": "markdown",
      "metadata": {
        "id": "B_U3xu2DoAL8"
      },
      "source": [
        "リストの要素が3個しかないのに、10番目の要素を表示させようとするとエラーになります。\n",
        "\n",
        "An error occurs when `x[10]` is specified because `x` contains only 3 items.\n"
      ]
    },
    {
      "cell_type": "code",
      "execution_count": null,
      "metadata": {
        "id": "wZYKQ9YooAL8"
      },
      "outputs": [],
      "source": [
        "print(x[10])"
      ]
    },
    {
      "cell_type": "markdown",
      "metadata": {
        "id": "BvnBcD15oAMC"
      },
      "source": [
        "リストは足し算やかけ算ができます。2つのリストを足しあわせると、長いリストになります。また、リストに整数を掛けると、リストを繰り返しつないだものができます。\n",
        "\n",
        "You can add and multiply a list. Adding two list comes to a long list. When an integer is multiplied, a long list is made by repeating the original list."
      ]
    },
    {
      "cell_type": "code",
      "execution_count": null,
      "metadata": {
        "id": "W6JTcXn3oAMD"
      },
      "outputs": [],
      "source": [
        "x=[1,2,3]\n",
        "y=[4,5,6]\n",
        "z=x+y\n",
        "w=z*3\n",
        "print(z,w)"
      ]
    },
    {
      "cell_type": "markdown",
      "metadata": {
        "id": "c7nw0zzzoAMH"
      },
      "source": [
        "なお、割り算や引き算はできません。リストを分割したり、一部をとりだしたり、消したりする方法はあとで出てきます。\n",
        "\n",
        "No division and subtraction are available for lists. \n",
        "\n",
        "\n",
        "長さが100で、要素が全部0のリストを作りたい場合は、 要素が1個だけのリストを100倍します。\n",
        "\n",
        "When you want a long list full of zeros, prepare a list with single zero and multiply it."
      ]
    },
    {
      "cell_type": "code",
      "execution_count": null,
      "metadata": {
        "id": "2qyAbU8BoAMH"
      },
      "outputs": [],
      "source": [
        "x=[0]*100\n",
        "print(x)"
      ]
    },
    {
      "cell_type": "markdown",
      "metadata": {
        "id": "wTjtw9tIoAMM"
      },
      "source": [
        "また、リストに一つだけ要素を追加したい時は、次のように書く。\n",
        "\n",
        "A simple way to add an item to an existing list."
      ]
    },
    {
      "cell_type": "code",
      "execution_count": null,
      "metadata": {
        "id": "g4TVv9z-oAMN"
      },
      "outputs": [],
      "source": [
        "x=[1,2,3]\n",
        "x=x+[4]            #リスト同士の足し算\n",
        "print(x)"
      ]
    },
    {
      "cell_type": "markdown",
      "metadata": {
        "id": "GCwPWiy77LwW"
      },
      "source": [
        "あるいはappendを使います。\n",
        "\n",
        "Or appent it."
      ]
    },
    {
      "cell_type": "code",
      "execution_count": null,
      "metadata": {
        "id": "s5unS4pz7NYK"
      },
      "outputs": [],
      "source": [
        "x=[1,2,3]\n",
        "x.append(4)\n",
        "x"
      ]
    },
    {
      "cell_type": "markdown",
      "metadata": {
        "id": "49KNss76oAMR"
      },
      "source": [
        "長いリストの一部分だけ取りだすこともできる。リストxの2番目から3番目までの部分リストをとりだす場合は、次のように書きます。(「2以上4未満」と覚える)\n",
        "\n",
        "You can extract a part of list. Here is a way to extract the items from 2 to 3 from a list. (Mind the range expression!)"
      ]
    },
    {
      "cell_type": "code",
      "execution_count": null,
      "metadata": {
        "id": "JqeIQftuoAMS"
      },
      "outputs": [],
      "source": [
        "x=[0,1,2,3,4,5,6,7,8]\n",
        "y=x[2:4]\n",
        "print(y)"
      ]
    },
    {
      "cell_type": "markdown",
      "metadata": {
        "id": "X6gqbwNboAMX"
      },
      "source": [
        "関数len()を使うと、リストの要素の個数を返します。\n",
        "\n",
        "A function `len` is prepared to count the number of items in a list."
      ]
    },
    {
      "cell_type": "code",
      "execution_count": null,
      "metadata": {
        "id": "5DQRMkIpoAMY"
      },
      "outputs": [],
      "source": [
        "L = len(x)\n",
        "print(L)"
      ]
    },
    {
      "cell_type": "markdown",
      "metadata": {
        "id": "VNdC1U11oAMc"
      },
      "source": [
        "リストの要素を全部数字にすると、ベクトルとして使えます。次の例では、ベクトルxとyの各要素の和を要素とする新しいベクトルzを定義しています。\n",
        "\n",
        "If all the items of a list are numbers, it can be used as a vector. The following example defines a new vector z whose elements are the sum of the elements of vectors x and y."
      ]
    },
    {
      "cell_type": "code",
      "execution_count": null,
      "metadata": {
        "id": "6e1lz7z1oAMe"
      },
      "outputs": [],
      "source": [
        "x=[1,2,3]\n",
        "y=[4,5,6]\n",
        "z=[x[0]+y[0], x[1]+y[1], x[2]+y[2]]\n",
        "z"
      ]
    },
    {
      "cell_type": "markdown",
      "metadata": {
        "id": "YTLYffwsoAMl"
      },
      "source": [
        "リストの中にリストを入れることもできます。要素3つのリスト(3次元のベクトル)3つをさらにリストに入れたものは、3×3行列とみなせます。\n",
        "\n",
        "You can also put a list within a list. A list of three lists containing three numbers (3-dimensional vectors) can be considered a 3 x 3 matrix."
      ]
    },
    {
      "cell_type": "code",
      "execution_count": null,
      "metadata": {
        "id": "-JF_Dx9SoAMm"
      },
      "outputs": [],
      "source": [
        "w=[[1,0,0],[0,2,0],[0,0,3]]\n",
        "w"
      ]
    },
    {
      "cell_type": "markdown",
      "metadata": {
        "id": "HJWQfbifoAMq"
      },
      "source": [
        "この場合、`w[1]`は`w`の1番目の要素、つまり`[0,2,0]`を指します。`w`の1番目の要素の、さらに2番目の要素は`w[1][2]`と書きます。\n",
        "\n",
        "In this case, `w[1]` refers to the first (i.e. not the zeroth) item of `w`, that is, `[0,2,0]`; the second element of the first element of `w` is written `w[1][2]`."
      ]
    },
    {
      "cell_type": "code",
      "execution_count": null,
      "metadata": {
        "id": "G5Mr56vooAMr"
      },
      "outputs": [],
      "source": [
        "w[1][2]"
      ]
    },
    {
      "cell_type": "markdown",
      "metadata": {
        "id": "4Ylj_09_oAMu"
      },
      "source": [
        "要素が0個のリストは次のように書きます。\n",
        "\n",
        "A list with zero elements is written as follows:"
      ]
    },
    {
      "cell_type": "code",
      "execution_count": null,
      "metadata": {
        "id": "Uro6Nq5-oAMv"
      },
      "outputs": [],
      "source": [
        "x=[]"
      ]
    },
    {
      "cell_type": "markdown",
      "metadata": {
        "id": "pTvyTfjf7fuV"
      },
      "source": [
        "# 繰り返しによるリスト作成 / List by iteration\n",
        "\n",
        "0から99までの数字があらかじめ入ったリストを作りたい時は、上の例から2つの方法が思いつきます。\n",
        "\n",
        "If you want to create a pre-populated list of numbers from 0 to 99, two methods come to mind.\n",
        "\n",
        "## 1. はじめに0が100個入ったリストを作り、あとから値を上書きする / Create a list with 100 zeros at the beginning and overwrite the values later."
      ]
    },
    {
      "cell_type": "code",
      "execution_count": null,
      "metadata": {
        "id": "H5naGGV17k6K"
      },
      "outputs": [],
      "source": [
        "x=[0]*100\n",
        "for i in range(100):\n",
        "    x[i] = i\n",
        "x"
      ]
    },
    {
      "cell_type": "markdown",
      "metadata": {
        "id": "Ak_lF45M7qob"
      },
      "source": [
        "## 2. 空のリストにどんどん値をつないでいく。 / Append items to an empty list.\n"
      ]
    },
    {
      "cell_type": "code",
      "execution_count": null,
      "metadata": {
        "id": "y--wmMn67tOC"
      },
      "outputs": [],
      "source": [
        "x=[]\n",
        "for i in range(100):\n",
        "    x.append(i)\n",
        "x"
      ]
    },
    {
      "cell_type": "markdown",
      "metadata": {
        "id": "8k5eoUQO7w1B"
      },
      "source": [
        "## 3. リスト内包記法 / list comprehension\n",
        "Python独特の方法として、リストの中で繰り返しを書く構文があります。繰り返しを使ってリストを作るプログラムは、ほとんどがリスト内包記法に書きかえられます。すこしトリッキーに見えますが、速度が速く、簡潔に書けるので、慣れて下さい。\n",
        "\n",
        "Unique to Python is the syntax for writing repetitions in lists. Most programs that use repetition to create lists can be rewritten in list comprehensions. This may seem a bit tricky, but it is fast and concise, so get used to it."
      ]
    },
    {
      "cell_type": "code",
      "execution_count": null,
      "metadata": {
        "id": "G2cqedE472-Z"
      },
      "outputs": [],
      "source": [
        "x=[i for i in range(100)]\n",
        "x"
      ]
    },
    {
      "cell_type": "markdown",
      "metadata": {
        "id": "vep4T7Kr7-cA"
      },
      "source": [
        "\n",
        "4x4のリストを作る場合にはどうすればいいでしょうか。いま学んだリスト内包記法を使って\n",
        "\n",
        "What if we want to create a 4x4 list? Using the list comprehension notation we just learned"
      ]
    },
    {
      "cell_type": "code",
      "execution_count": null,
      "metadata": {
        "id": "sgXqi3X6782J"
      },
      "outputs": [],
      "source": [
        "y=[]\n",
        "for j in range(0,16,4):\n",
        "    x = [i+j for i in range(4)]\n",
        "    y.append(x)\n",
        "y"
      ]
    },
    {
      "cell_type": "markdown",
      "metadata": {
        "id": "9jDP9BHf8DES"
      },
      "source": [
        "と書けますが、リスト内包記法を多重に使うことで、これももっとシンプルに書けます。\n",
        "\n",
        "This can also be written more simply by using multiple list comprehension notations."
      ]
    },
    {
      "cell_type": "code",
      "execution_count": null,
      "metadata": {
        "id": "SGsgUU1G8FoY"
      },
      "outputs": [],
      "source": [
        "y=[[i+j for i in range(4)] for j in range(0,16,4)]\n",
        "y"
      ]
    },
    {
      "cell_type": "markdown",
      "metadata": {
        "id": "yfo7NSXX8KIQ"
      },
      "source": [
        "正弦波のデータを作りたい場合には、リスト内包記法の中で正弦関数を使います。\n",
        "\n",
        "If you want to create sinusoidal data, use a sine function in the list comprehension notation."
      ]
    },
    {
      "cell_type": "code",
      "execution_count": null,
      "metadata": {
        "id": "csLF_rBJ8MnB"
      },
      "outputs": [],
      "source": [
        "from math import sin, pi\n",
        "\n",
        "wave = [5*sin(i*2*pi/10) for i in range(20)]\n",
        "wave"
      ]
    },
    {
      "cell_type": "markdown",
      "metadata": {
        "id": "lFYZxt7koAMz"
      },
      "source": [
        "画像や音声といった、大きなサイズのデータをプログラムで操作する場合には、それらを音量データの羅列、画素データの羅列とみなせば、リストに入れることができます。このように、リストは単にベクトルや行列として使えるだけでなく、大きなデータを自在に取り扱うための強力なツールです。\n",
        "\n",
        "その他に、リストではこんなことができます。\n",
        "\n",
        "When manipulating large data such as images or sound in a program, they can be placed in a list by considering them as a series of amplitude data or a series of pixel data. Thus, lists can be used not only as vectors or matrices, but also as powerful tools for handling large data at will.\n",
        "\n",
        "In addition, lists can be used to do the following"
      ]
    },
    {
      "cell_type": "code",
      "execution_count": null,
      "metadata": {
        "id": "jXzcj2bAoAM0"
      },
      "outputs": [],
      "source": [
        "# indexing\n",
        "x=[3,1,4,1,5,9]\n",
        "x.index(9)"
      ]
    },
    {
      "cell_type": "code",
      "execution_count": null,
      "metadata": {
        "id": "8yKempJPoAM3"
      },
      "outputs": [],
      "source": [
        "# removal of an item from a list\n",
        "x.remove(9)\n",
        "x"
      ]
    },
    {
      "cell_type": "code",
      "execution_count": null,
      "metadata": {
        "id": "qJl_hAwAoAM6"
      },
      "outputs": [],
      "source": [
        "# list in reversed order\n",
        "x.reverse()\n",
        "x"
      ]
    },
    {
      "cell_type": "code",
      "execution_count": null,
      "metadata": {
        "id": "e5wmRFg288kx"
      },
      "outputs": [],
      "source": [
        "# sort\n",
        "x.sort()\n",
        "x"
      ]
    },
    {
      "cell_type": "markdown",
      "metadata": {
        "id": "WoTpwSVMoANB"
      },
      "source": [
        "なお、このうち、removeとreverseとsortはタプルでは使えません。タプルはリストに似ていると言いましたが、リストとは違い、タプルは<u>一旦内容を設定すると、変更することができない</u>ためです。"
      ]
    },
    {
      "cell_type": "markdown",
      "metadata": {
        "id": "iukuzGXYsQSb"
      },
      "source": [
        "## 練習問題\n",
        "\n",
        "1. リスト内包記法を使って、リスト`[10,9,8,...,2]`を作り、これを`L`とする。\n",
        "2. Lの2番目(8)から5番目までの要素だけを抽出したリスト`A`(要素数4)を作る。\n",
        "3. `A`の逆順リストを`B`とする。\n",
        "4. `B`の各要素を、8から引いて、それを新しいリスト`C`とする。\n",
        "5. `C`を`L`のうしろに連結して、新しいリスト`D`とする。\n",
        "6. `D`を表示する。\n",
        "\n",
        "結果は`[10, 9, 8, 7, 6, 5, 4, 3, 2, 3, 2, 1, 0]`となるはず。\n",
        "\n",
        "## Exercises\n",
        "\n",
        "1. Using list comprehension notation, create the list `[10,9,8,...,2]` and denote it as `L`. \n",
        "2. Make a list `A` from which only the elements from the second (8) to the fifth items of L are extracted. `A` consists of 4 items.\n",
        "3. Let `B` be the list of `A` in reverse order.\n",
        "4. Subtract each element of `B` from 8 and make it a new list `C`. (using the list comprehension)\n",
        "5. Concatenate `C` with the back of `L` to make a new list `D`. \n",
        "6. Show `D`.\n",
        "\n",
        "The result should be `[10, 9, 8, 7, 6, 5, 4, 3, 2, 3, 2, 1, 0]`."
      ]
    },
    {
      "cell_type": "code",
      "source": [],
      "metadata": {
        "id": "hVh1MhL9NG8D"
      },
      "execution_count": null,
      "outputs": []
    }
  ],
  "metadata": {
    "colab": {
      "name": "020リストの使い方.ipynb",
      "provenance": [],
      "include_colab_link": true
    },
    "kernelspec": {
      "display_name": "Python 3",
      "language": "python",
      "name": "python3"
    },
    "language_info": {
      "codemirror_mode": {
        "name": "ipython",
        "version": 3
      },
      "file_extension": ".py",
      "mimetype": "text/x-python",
      "name": "python",
      "nbconvert_exporter": "python",
      "pygments_lexer": "ipython3",
      "version": "3.11.2"
    }
  },
  "nbformat": 4,
  "nbformat_minor": 0
}
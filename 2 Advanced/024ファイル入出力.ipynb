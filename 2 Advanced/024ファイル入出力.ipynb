{
  "cells": [
    {
      "cell_type": "markdown",
      "metadata": {
        "colab_type": "text",
        "id": "view-in-github"
      },
      "source": [
        "<a href=\"https://colab.research.google.com/github/vitroid/PythonTutorials/blob/2020m0/2%20Advanced/024%E3%83%95%E3%82%A1%E3%82%A4%E3%83%AB%E5%85%A5%E5%87%BA%E5%8A%9B.ipynb\" target=\"_parent\"><img src=\"https://colab.research.google.com/assets/colab-badge.svg\" alt=\"Open In Colab\"/></a>"
      ]
    },
    {
      "cell_type": "markdown",
      "metadata": {
        "colab_type": "text",
        "id": "HT81ivZ_iVoN"
      },
      "source": [
        "# 複雑なファイルの入出力\n",
        "\n",
        "研究でPythonを使う状況を考えると、何はともあれ大きなデータをファイルから読みこんで、処理して、ファイルに出力するという使い方がほとんどになるだろう。あらかじめPythonで読みこむつもりで書かれたデータばかりではないので、読み込むのにも工夫が必要になる。また、Pythonの出力を他のソフトウェアで利用する場合には、そのソフトウェアにあわせたデータ出力が求められる。\n",
        "\n"
      ]
    },
    {
      "cell_type": "markdown",
      "metadata": {
        "colab_type": "text",
        "id": "bJ0o9BVnuvrr"
      },
      "source": [
        "## ファイル入力\n",
        "\n",
        "Google Drive上にファイルがあるという前提で話をすすめる。\n",
        "\n",
        "ファイルはリンク先からダウンロードし、Google Drive内の`fileio/`という名前のフォルダーに入れなさい。\n",
        "\n",
        "* [data1.txt](https://raw.githubusercontent.com/vitroid/PythonTutorials/2020m0/2%20Advanced/fileio/data1.txt)\n",
        "* [data2.txt](https://raw.githubusercontent.com/vitroid/PythonTutorials/2020m0/2%20Advanced/fileio/data2.txt)\n",
        "* [data3.txt](https://raw.githubusercontent.com/vitroid/PythonTutorials/2020m0/2%20Advanced/fileio/data3.txt)\n",
        "* [data4.txt](https://raw.githubusercontent.com/vitroid/PythonTutorials/2020m0/2%20Advanced/fileio/data4.txt)\n",
        "* [data5.mdvw](https://raw.githubusercontent.com/vitroid/PythonTutorials/2020m0/2%20Advanced/fileio/data5.mdvw)\n",
        "\n",
        "`fileio/data1.txt`の中身はこんな感じ。\n",
        "\n",
        "```txt\n",
        "1 2 3\n",
        "4 5 6\n",
        "7 8 9\n",
        "10 11 12\n",
        "```"
      ]
    },
    {
      "cell_type": "code",
      "execution_count": null,
      "metadata": {
        "colab": {},
        "colab_type": "code",
        "id": "a37ZYxO3BHmd"
      },
      "outputs": [],
      "source": [
        "# Google DriveをColabに連携させる。\n",
        "\n",
        "from google.colab import drive\n",
        "drive.mount('/content/drive')"
      ]
    },
    {
      "cell_type": "code",
      "execution_count": null,
      "metadata": {
        "colab": {},
        "colab_type": "code",
        "id": "MXNP7kNRiVoQ"
      },
      "outputs": [],
      "source": [
        "#座標の羅列を読みこむ\n",
        "file = open(\"/content/drive/My Drive/fileio/data1.txt\")\n",
        "coord = []\n",
        "for line in file:           #ファイルのそれぞれの行ごとに処理をする。\n",
        "    columns = line.split()  #空白やタブで行をカラムに分割する。\n",
        "    print(\"columns=\",columns)\n",
        "    x, y, z = float(columns[0]),float(columns[1]),float(columns[2])\n",
        "    print(\"x,y,z=\",x,y,z)\n",
        "    coord.append((x,y,z))\n",
        "    print(\"coord:\",coord)\n",
        "print(coord)\n",
        "print(coord[1][1])"
      ]
    },
    {
      "cell_type": "markdown",
      "metadata": {
        "colab_type": "text",
        "id": "Av_WDpyiiVom"
      },
      "source": [
        "### もうちょっとシンプルに"
      ]
    },
    {
      "cell_type": "code",
      "execution_count": null,
      "metadata": {
        "colab": {},
        "colab_type": "code",
        "id": "2PlioASViVon"
      },
      "outputs": [],
      "source": [
        "#座標の羅列を読みこむ\n",
        "file = open(\"/content/drive/My Drive/fileio/data1.txt\")\n",
        "coord = []\n",
        "for line in file:           #ファイルのそれぞれの行ごとに処理をする。\n",
        "    values = [float(x) for x in line.split()]  #分割して実数化する\n",
        "    print(line,values)\n",
        "    coord.append(values)\n",
        "print(coord)\n"
      ]
    },
    {
      "cell_type": "markdown",
      "metadata": {
        "colab_type": "text",
        "id": "el_tEbL2iVpQ"
      },
      "source": [
        "### 最初の3行は読みとばす"
      ]
    },
    {
      "cell_type": "code",
      "execution_count": null,
      "metadata": {
        "colab": {},
        "colab_type": "code",
        "id": "PbZaZC-wiVpZ"
      },
      "outputs": [],
      "source": [
        "file = open(\"/content/drive/My Drive/fileio/data2.txt\")\n",
        "for i in range(3):\n",
        "    line = file.readline()\n",
        "    print(line, end=\"\")\n",
        "\n",
        "coord = []\n",
        "for line in file:           #ファイルのそれぞれの行ごとに処理をする。\n",
        "    values = [float(x) for x in line.split()]  #分割して実数化する\n",
        "    coord.append(values)\n",
        "print(coord)"
      ]
    },
    {
      "cell_type": "markdown",
      "metadata": {
        "colab_type": "text",
        "id": "UkJj2UY9iVpc"
      },
      "source": [
        "### 行のはじめに\"@n\"と書いてあり、そのあとのn行が座標データ"
      ]
    },
    {
      "cell_type": "code",
      "execution_count": 4,
      "metadata": {
        "colab": {},
        "colab_type": "code",
        "id": "qr3JxmrWiVpd"
      },
      "outputs": [
        {
          "name": "stdout",
          "output_type": "stream",
          "text": [
            "[[1.0, 2.0, 3.0], [4.0, 5.0, 6.0], [7.0, 8.0, 9.0], [10.0, 11.0, 12.0]]\n"
          ]
        }
      ],
      "source": [
        "# file = open(\"/content/drive/My Drive/fileio/data3.txt\")\n",
        "file = open(\"fileio/data3.txt\") #run Locally\n",
        "\n",
        "# iter()は、第一引数の関数をつかってデータを取得し、その内容が第二引数と一致すると処理を終えるiterator。\n",
        "for line in iter(file.readline, \"\"):\n",
        "    if line[0] == \"@\":\n",
        "        n = int(line[1:])\n",
        "        coord = []\n",
        "        for i in range(n):\n",
        "            line = file.readline()\n",
        "            values = [float(x) for x in line.split()]  #分割して実数化する\n",
        "            coord.append(values)\n",
        "        break               #whileループを抜ける\n",
        "print(coord)"
      ]
    },
    {
      "cell_type": "markdown",
      "metadata": {
        "colab_type": "text",
        "id": "Khk_pt_LiVpg"
      },
      "source": [
        "### \\#以降はコメントとして無視する"
      ]
    },
    {
      "cell_type": "code",
      "execution_count": 5,
      "metadata": {
        "colab": {},
        "colab_type": "code",
        "id": "UM7AfQGtiVpg"
      },
      "outputs": [
        {
          "name": "stdout",
          "output_type": "stream",
          "text": [
            "[[1.0, 2.0, 3.0], [4.0, 5.0, 6.0], [7.0, 8.0, 9.0], [10.0, 11.0, 12.0]]\n"
          ]
        }
      ],
      "source": [
        "# \"#\"よりもあとを除去する\n",
        "def elim_comment(s):\n",
        "    pos = s.find(\"#\")\n",
        "    if 0 <= pos:\n",
        "        return s[0:pos]\n",
        "    return s\n",
        "    \n",
        "\n",
        "# file = open(\"/content/drive/My Drive/fileio/data4.txt\")\n",
        "file = open(\"fileio/data4.txt\")\n",
        "for line in iter(file.readline, \"\"):\n",
        "    if line[0] == \"@\":\n",
        "        coord = []\n",
        "        n = int(line[1:])\n",
        "        for i in range(n):\n",
        "            line = elim_comment(file.readline())\n",
        "            values = [float(x) for x in line.split()]  #分割して実数化する\n",
        "            coord.append(values)\n",
        "        break               #whileループを抜ける\n",
        "\n",
        "print(coord)"
      ]
    },
    {
      "cell_type": "markdown",
      "metadata": {
        "colab_type": "text",
        "id": "dvIfCtuFiVpk"
      },
      "source": [
        "### 行ごとではなく、列ごとに読みこむ"
      ]
    },
    {
      "cell_type": "code",
      "execution_count": 6,
      "metadata": {
        "colab": {},
        "colab_type": "code",
        "id": "gojTP9tCiVpm"
      },
      "outputs": [
        {
          "name": "stdout",
          "output_type": "stream",
          "text": [
            "[[1.0, 4.0, 7.0, 10.0], [2.0, 5.0, 8.0, 11.0], [3.0, 6.0, 9.0, 12.0]]\n"
          ]
        }
      ],
      "source": [
        "#座標の羅列を読みこむ\n",
        "# file = open(\"/content/drive/My Drive/fileio/data1.txt\")\n",
        "file = open(\"fileio/data1.txt\")\n",
        "\n",
        "# データを入れる先をあらかじめ3列分準備しておく。 \n",
        "columns = [[] for i in range(3)]\n",
        "for line in file:           #ファイルのそれぞれの行ごとに処理をする。\n",
        "    values = [float(x) for x in line.split()]  #分割して実数化する\n",
        "    for i in range(3):\n",
        "        columns[i].append(values[i])\n",
        "print(columns)"
      ]
    },
    {
      "cell_type": "markdown",
      "metadata": {
        "colab_type": "text",
        "id": "hti41JL-iVpp"
      },
      "source": [
        "### 行ごとに読みこんでから、転置する"
      ]
    },
    {
      "cell_type": "code",
      "execution_count": 7,
      "metadata": {
        "colab": {},
        "colab_type": "code",
        "id": "7q8O38bEspIA"
      },
      "outputs": [
        {
          "data": {
            "text/plain": [
              "5"
            ]
          },
          "execution_count": 7,
          "metadata": {},
          "output_type": "execute_result"
        }
      ],
      "source": [
        "s=[[1,2,3],[1,2,3,4],[1,2,3,4,5]]\n",
        "m = max([len(x) for x in s])\n",
        "m"
      ]
    },
    {
      "cell_type": "code",
      "execution_count": null,
      "metadata": {
        "colab": {},
        "colab_type": "code",
        "id": "a-QFKBVNiVpq"
      },
      "outputs": [],
      "source": [
        "def transpose(matrix, default=None):\n",
        "    #列数の最大値を調べる。\n",
        "    maxc = max([len(x) for x in matrix])\n",
        "    #コラムの数は列数の最大値\n",
        "    columns = [[] for i in range(maxc)]\n",
        "    for row in matrix:\n",
        "        for i in range(maxc):\n",
        "            if i < len(row):\n",
        "                columns[i].append(row[i])\n",
        "            else:\n",
        "                #データが足りない部分はdefault値を入れる\n",
        "                columns[i].append(default)\n",
        "    return columns\n",
        "    \n",
        "file = open(\"/content/drive/My Drive/fileio/data1.txt\")\n",
        "coord = []\n",
        "for line in file:           #ファイルのそれぞれの行ごとに処理をする。\n",
        "    values = [float(x) for x in line.split()]  #分割して実数化する\n",
        "    coord.append(values)\n",
        "print(coord)\n",
        "columns = transpose(coord)\n",
        "print(columns)\n",
        "data = [\"list\",\"of\",\"strings\"]\n",
        "print(data)\n",
        "print(transpose(data,default=\"\"))"
      ]
    },
    {
      "cell_type": "markdown",
      "metadata": {
        "colab_type": "text",
        "id": "KL4NRgYqu1JD"
      },
      "source": [
        "## ファイル出力\n",
        "\n",
        "読みこみと同じように、Google Driveを使えば、ファイルが手許にあるのか、クラウドにあるのかを意識する必要はなくなる。"
      ]
    },
    {
      "cell_type": "markdown",
      "metadata": {
        "colab_type": "text",
        "id": "CiQjwJ9zvFsO"
      },
      "source": [
        "### テキストファイルの書き出し\n",
        "\n",
        "write関数を使う。printと違い、改行しないので、改行文字`\\n`を明示的に付ける必要がある。\n"
      ]
    },
    {
      "cell_type": "code",
      "execution_count": null,
      "metadata": {
        "colab": {},
        "colab_type": "code",
        "id": "6Mh07u_xvb0N"
      },
      "outputs": [],
      "source": [
        "# \"w\"は書き込みのためにファイルを開くことを意味する。\n",
        "file = open(\"/content/drive/My Drive/fileio/output.txt\", \"w\")\n",
        "\n",
        "file.write(\"Hello world!\\n\") # \"\\\"はWindowsではYen markかも。\n",
        "file.close()  # 開いたファイルは閉じる必要がある。閉じるまでファイルに書かれないことも。"
      ]
    },
    {
      "cell_type": "markdown",
      "metadata": {
        "colab_type": "text",
        "id": "VEmp6N64y4yC"
      },
      "source": [
        "書きだした内容は、しばらくすると自分のパソコンのGoogle Driveにも同期される。また、スマホのGoogle Driveアプリからもファイルができたことをチェックできる。\n",
        "\n",
        "閉じ忘れを防ぐために、最近はwith文を使って書くことが推奨されている。"
      ]
    },
    {
      "cell_type": "code",
      "execution_count": null,
      "metadata": {
        "colab": {},
        "colab_type": "code",
        "id": "1hRTVyhiy_Jl"
      },
      "outputs": [],
      "source": [
        "with open(\"/content/drive/My Drive/fileio/output.txt\", \"w\") as file:\n",
        "    file.write(\"Hello world!\\n\") # \"\\\"はWindowsではYen markかも。\n",
        "\n",
        "# withはインデントブロックになるので、withのブロックが終わると自動的にファイルが閉じられる。"
      ]
    },
    {
      "cell_type": "markdown",
      "metadata": {
        "colab_type": "text",
        "id": "wYk0Y_0yzPt4"
      },
      "source": [
        "何行も書きだしたい場合はwithブロックの中でループを書く。\n"
      ]
    },
    {
      "cell_type": "code",
      "execution_count": null,
      "metadata": {
        "colab": {},
        "colab_type": "code",
        "id": "hImz2hTmzac2"
      },
      "outputs": [],
      "source": [
        "with open(\"/content/drive/My Drive/fileio/output2.txt\", \"w\") as file:\n",
        "    for i in range(10):\n",
        "        file.write(i, \"\\n\") # これはエラーになるらしい。print文と違い、()の中にカンマで書きならべられない。\n"
      ]
    },
    {
      "cell_type": "code",
      "execution_count": null,
      "metadata": {
        "colab": {},
        "colab_type": "code",
        "id": "mZdDu89d0LtB"
      },
      "outputs": [],
      "source": [
        "with open(\"/content/drive/My Drive/fileio/output2.txt\", \"w\") as file:\n",
        "    for i in range(10):\n",
        "        file.write(\"{0}\\n\".format(i)) # 一番上品な書き方。format構文であらかじめ整形した文字列を書きだす。\n"
      ]
    },
    {
      "cell_type": "markdown",
      "metadata": {
        "colab_type": "text",
        "id": "Pxa5oIFozZr1"
      },
      "source": [
        "`format`文の使い方はまたいずれ。"
      ]
    },
    {
      "cell_type": "markdown",
      "metadata": {
        "colab_type": "text",
        "id": "O1nCTQD8iVp-"
      },
      "source": [
        "## 宿題\n",
        "\n",
        "data5.mdvwから、原子の座標と思われる部分だけを読みこんで、座標のリストを作って下さい。\n",
        "\n",
        "それができたら、原子の名前も読みこみ、原子の種類ごとに、座標を別のリストに入れるようにしてみましょう。"
      ]
    },
    {
      "cell_type": "code",
      "execution_count": null,
      "metadata": {
        "colab": {},
        "colab_type": "code",
        "id": "mlAmINnHiVp-"
      },
      "outputs": [],
      "source": []
    }
  ],
  "metadata": {
    "colab": {
      "include_colab_link": true,
      "name": "024ファイル入出力.ipynb",
      "provenance": [],
      "toc_visible": true
    },
    "kernelspec": {
      "display_name": "Python 3",
      "language": "python",
      "name": "python3"
    },
    "language_info": {
      "codemirror_mode": {
        "name": "ipython",
        "version": 3
      },
      "file_extension": ".py",
      "mimetype": "text/x-python",
      "name": "python",
      "nbconvert_exporter": "python",
      "pygments_lexer": "ipython3",
      "version": "3.9.10"
    }
  },
  "nbformat": 4,
  "nbformat_minor": 0
}

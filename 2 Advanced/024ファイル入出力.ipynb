{
  "nbformat": 4,
  "nbformat_minor": 0,
  "metadata": {
    "kernelspec": {
      "display_name": "Python 3",
      "language": "python",
      "name": "python3"
    },
    "language_info": {
      "codemirror_mode": {
        "name": "ipython",
        "version": 3
      },
      "file_extension": ".py",
      "mimetype": "text/x-python",
      "name": "python",
      "nbconvert_exporter": "python",
      "pygments_lexer": "ipython3",
      "version": "3.6.5"
    },
    "colab": {
      "name": "024ファイル入出力.ipynb",
      "provenance": [],
      "include_colab_link": true
    }
  },
  "cells": [
    {
      "cell_type": "markdown",
      "metadata": {
        "id": "view-in-github",
        "colab_type": "text"
      },
      "source": [
        "<a href=\"https://colab.research.google.com/github/vitroid/PythonTutorials/blob/2020m0/2%20Advanced/024%E3%83%95%E3%82%A1%E3%82%A4%E3%83%AB%E5%85%A5%E5%87%BA%E5%8A%9B.ipynb\" target=\"_parent\"><img src=\"https://colab.research.google.com/assets/colab-badge.svg\" alt=\"Open In Colab\"/></a>"
      ]
    },
    {
      "cell_type": "markdown",
      "metadata": {
        "id": "HT81ivZ_iVoN",
        "colab_type": "text"
      },
      "source": [
        "# 複雑なファイルの入出力\n",
        "研究でPythonを使う状況を考えると、何はともあれ大きなデータをファイルから読みこんで、処理して、ファイルに出力するという使い方がほとんどになるだろう。あらかじめPythonで読みこむつもりで書かれたデータばかりではないので、読み込むのにも工夫が必要になる。また、Pythonの出力を他のソフトウェアで利用する場合には、そのソフトウェアにあわせたデータ出力が求められる。\n",
        "\n",
        "## ファイル入力\n",
        "\n",
        "Google Colabでファイルを読み込む扱う場合、そのファイルがどこにあるかで、扱い方が違ってくる。とりあえず、ありそうなケースとしては、\n",
        "\n",
        "1. ローカル(自分の端末上)にファイルがある。\n",
        "1. Google Drive上にファイルがある。\n",
        "1. インターネット上にファイルがある。\n",
        "1. Colabファイル。\n",
        "\n",
        "どの場合でも、できれば通常のローカルファイルと同じようにアクセスしたい。(ファイル全体をメモリに読みこむのではなく、必要に応じて必要量ずつ読みこむ)\n",
        "\n",
        "\n",
        "\n",
        "### データの羅列を読む"
      ]
    },
    {
      "cell_type": "code",
      "metadata": {
        "id": "MXNP7kNRiVoQ",
        "colab_type": "code",
        "colab": {}
      },
      "source": [
        "#座標の羅列を読みこむ\n",
        "file = open(\"data1.txt\")\n",
        "coord = []\n",
        "for line in file:           #ファイルのそれぞれの行ごとに処理をする。\n",
        "    columns = line.split()  #空白やタブで行をカラムに分割する。\n",
        "    print(\"columns=\",columns)\n",
        "    x, y, z = float(columns[0]),float(columns[1]),float(columns[2])\n",
        "    print(\"x,y,z=\",x,y,z)\n",
        "    coord.append((x,y,z))\n",
        "    print(\"coord:\",coord)\n",
        "print(coord)\n",
        "print(coord[1][1])"
      ],
      "execution_count": 0,
      "outputs": []
    },
    {
      "cell_type": "markdown",
      "metadata": {
        "id": "Av_WDpyiiVom",
        "colab_type": "text"
      },
      "source": [
        "### もうちょっとシンプルに"
      ]
    },
    {
      "cell_type": "code",
      "metadata": {
        "id": "2PlioASViVon",
        "colab_type": "code",
        "colab": {}
      },
      "source": [
        "#座標の羅列を読みこむ\n",
        "file = open(\"data1.txt\")\n",
        "coord = []\n",
        "for line in file:           #ファイルのそれぞれの行ごとに処理をする。\n",
        "    values = [float(x) for x in line.split()]  #分割して実数化する\n",
        "    print(line,values)\n",
        "    coord.append(values)\n",
        "print(coord)\n",
        "values = [i for i in range(-5,10,2)]\n",
        "print(values)"
      ],
      "execution_count": 0,
      "outputs": []
    },
    {
      "cell_type": "markdown",
      "metadata": {
        "id": "HIhNMem9iVox",
        "colab_type": "text"
      },
      "source": [
        "### 練習問題1\n",
        "リスト[-5,-4,-3,-2,......,+4,+5]を作るPythonプログラムを1行で書いてみて下さい。"
      ]
    },
    {
      "cell_type": "code",
      "metadata": {
        "id": "h3Uf2QmQiVo3",
        "colab_type": "code",
        "colab": {}
      },
      "source": [
        "!! fortran90\n",
        "integer i,a[11]\n",
        "do i=-5,5\n",
        "  a[i+6] = i\n",
        "enddo\n",
        "\n",
        "//c言語\n",
        "int a[11]\n",
        "for(int i=-5;i<=5;i++){\n",
        "    a[i+5] = i;\n",
        "}"
      ],
      "execution_count": 0,
      "outputs": []
    },
    {
      "cell_type": "markdown",
      "metadata": {
        "id": "4EG1jeEGiVpE",
        "colab_type": "text"
      },
      "source": [
        "### 練習問題2\n",
        "リスト[-0.9,-0.8,-0.7,......,+0.9,+1.0]を作るPythonプログラムを1行で書いてみて下さい。"
      ]
    },
    {
      "cell_type": "code",
      "metadata": {
        "id": "6CFFki-ViVpF",
        "colab_type": "code",
        "colab": {}
      },
      "source": [
        "[i for i in range(-9,11)]"
      ],
      "execution_count": 0,
      "outputs": []
    },
    {
      "cell_type": "markdown",
      "metadata": {
        "id": "el_tEbL2iVpQ",
        "colab_type": "text"
      },
      "source": [
        "### 最初の3行は読みとばす"
      ]
    },
    {
      "cell_type": "code",
      "metadata": {
        "id": "VCvNSP74iVpS",
        "colab_type": "code",
        "colab": {}
      },
      "source": [
        "file = open(\"data2.txt\")\n",
        "coord = []\n",
        "count = 0\n",
        "for line in file:           #ファイルのそれぞれの行ごとに処理をする。\n",
        "    count += 1\n",
        "    if 3 < count:\n",
        "        values = [float(x) for x in line.split()]  #分割して実数化する\n",
        "        coord.append(values)\n",
        "    else:\n",
        "        print(\"Skipped line:\",line,end=\"\")\n",
        "print(coord)"
      ],
      "execution_count": 0,
      "outputs": []
    },
    {
      "cell_type": "markdown",
      "metadata": {
        "id": "wf4BV3lyiVpY",
        "colab_type": "text"
      },
      "source": [
        "あるいは"
      ]
    },
    {
      "cell_type": "code",
      "metadata": {
        "id": "PbZaZC-wiVpZ",
        "colab_type": "code",
        "colab": {}
      },
      "source": [
        "file = open(\"data2.txt\")\n",
        "for i in range(3):\n",
        "    file.readline()\n",
        "\n",
        "coord = []\n",
        "for line in file:           #ファイルのそれぞれの行ごとに処理をする。\n",
        "    values = [float(x) for x in line.split()]  #分割して実数化する\n",
        "    coord.append(values)\n",
        "print(coord)"
      ],
      "execution_count": 0,
      "outputs": []
    },
    {
      "cell_type": "markdown",
      "metadata": {
        "id": "UkJj2UY9iVpc",
        "colab_type": "text"
      },
      "source": [
        "### 行のはじめに\"@n\"と書いてあり、そのあとのn行が座標データ"
      ]
    },
    {
      "cell_type": "code",
      "metadata": {
        "id": "qr3JxmrWiVpd",
        "colab_type": "code",
        "colab": {}
      },
      "source": [
        "file = open(\"data3.txt\")\n",
        "while True:                 #無限ループ\n",
        "    line = file.readline()\n",
        "    if len(line) == 0:\n",
        "        break\n",
        "    if line[0] == \"@\":\n",
        "        coord = []\n",
        "        n = int(line[1:])\n",
        "        for i in range(n):\n",
        "            line = file.readline()\n",
        "            values = [float(x) for x in line.split()]  #分割して実数化する\n",
        "            coord.append(values)\n",
        "        break               #whileループを抜ける\n",
        "print(coord)"
      ],
      "execution_count": 0,
      "outputs": []
    },
    {
      "cell_type": "markdown",
      "metadata": {
        "id": "Khk_pt_LiVpg",
        "colab_type": "text"
      },
      "source": [
        "### \\#以降はコメントとして無視する"
      ]
    },
    {
      "cell_type": "code",
      "metadata": {
        "id": "UM7AfQGtiVpg",
        "colab_type": "code",
        "colab": {}
      },
      "source": [
        "# \"#\"よりもあとを除去する\n",
        "def elim_comment(s):\n",
        "    pos = s.find(\"#\")\n",
        "    if 0 <= pos:\n",
        "        return s[0:pos]\n",
        "    return s\n",
        "    \n",
        "\n",
        "file = open(\"data4.txt\")\n",
        "while True:                 #無限ループ\n",
        "    line = file.readline()\n",
        "    if line[0] == \"@\":\n",
        "        coord = []\n",
        "        n = int(line[1:])\n",
        "        for i in range(n):\n",
        "            line = elim_comment(file.readline())\n",
        "            values = [float(x) for x in line.split()]  #分割して実数化する\n",
        "            coord.append(values)\n",
        "        break               #whileループを抜ける\n",
        "\n",
        "print(coord)"
      ],
      "execution_count": 0,
      "outputs": []
    },
    {
      "cell_type": "markdown",
      "metadata": {
        "id": "dvIfCtuFiVpk",
        "colab_type": "text"
      },
      "source": [
        "### 行ごとではなく、列ごとに読みこむ"
      ]
    },
    {
      "cell_type": "code",
      "metadata": {
        "id": "gojTP9tCiVpm",
        "colab_type": "code",
        "colab": {}
      },
      "source": [
        "#座標の羅列を読みこむ\n",
        "file = open(\"data1.txt\")\n",
        "columns = [[] for i in range(3)]\n",
        "for line in file:           #ファイルのそれぞれの行ごとに処理をする。\n",
        "    values = [float(x) for x in line.split()]  #分割して実数化する\n",
        "    for i in range(3):\n",
        "        columns[i].append(values[i])\n",
        "print(columns)"
      ],
      "execution_count": 0,
      "outputs": []
    },
    {
      "cell_type": "markdown",
      "metadata": {
        "id": "hti41JL-iVpp",
        "colab_type": "text"
      },
      "source": [
        "### 行ごとに読みこんでから、転置する"
      ]
    },
    {
      "cell_type": "code",
      "metadata": {
        "id": "a-QFKBVNiVpq",
        "colab_type": "code",
        "colab": {}
      },
      "source": [
        "def transpose(matrix, default=None):\n",
        "    #列数の最大値を調べる。\n",
        "    maxc = 0\n",
        "    for row in matrix:\n",
        "        if maxc < len(row):\n",
        "            maxc = len(row)\n",
        "    #コラムの数は列数の最大値\n",
        "    columns = [[] for i in range(maxc)]\n",
        "    for row in matrix:\n",
        "        for i in range(maxc):\n",
        "            if i < len(row):\n",
        "                columns[i].append(row[i])\n",
        "            else:\n",
        "                #データが足りない部分はdefault値を入れる\n",
        "                columns[i].append(default)\n",
        "    return columns\n",
        "    \n",
        "file = open(\"data1.txt\")\n",
        "coord = []\n",
        "for line in file:           #ファイルのそれぞれの行ごとに処理をする。\n",
        "    values = [float(x) for x in line.split()]  #分割して実数化する\n",
        "    coord.append(values)\n",
        "print(coord)\n",
        "columns = transpose(coord)\n",
        "print(columns)\n",
        "data = [\"list\",\"of\",\"strings\"]\n",
        "print(data)\n",
        "print(transpose(data,default=\"\"))"
      ],
      "execution_count": 0,
      "outputs": []
    },
    {
      "cell_type": "code",
      "metadata": {
        "id": "SpVXoJdGiVpu",
        "colab_type": "code",
        "colab": {}
      },
      "source": [
        "from math import *\n",
        "x = input(\"value?\")\n",
        "x = eval(x)\n",
        "print(x)"
      ],
      "execution_count": 0,
      "outputs": []
    },
    {
      "cell_type": "code",
      "metadata": {
        "id": "cqgChIRaiVpy",
        "colab_type": "code",
        "colab": {}
      },
      "source": [
        "eval(\"[i for i in range(10)]\")"
      ],
      "execution_count": 0,
      "outputs": []
    },
    {
      "cell_type": "markdown",
      "metadata": {
        "id": "BWUqqRTpiVp2",
        "colab_type": "text"
      },
      "source": [
        "### 数値と文字が混在する行をパーズする。\n",
        "try: except:構文を使うと、エラーが起こった場合にもプログラムを停止せず、その場で対応できます。この機能を使い、読みこんだ文字が数字か文字かをその場で判断します。\n",
        "\n",
        "* 構文"
      ]
    },
    {
      "cell_type": "markdown",
      "metadata": {
        "id": "5vI35KFgiVp3",
        "colab_type": "raw"
      },
      "source": [
        "try:\n",
        "    エラーがおきるかもしれない処理\n",
        "except エラータイプ:\n",
        "    エラーがおこった場合の代替処理"
      ]
    },
    {
      "cell_type": "markdown",
      "metadata": {
        "id": "YjWRbFOmiVp3",
        "colab_type": "text"
      },
      "source": [
        "エラータイプには、ValueErrorやTypeErrorなどがあります。実際のエラーメッセージを見れば、何を書けばいいかはわかると思います。\n",
        "\n",
        "以下では、一行をカラムに分ける関数parse_properly()と、文字列を「てきとうな」値に変換する関数eval_properly()を準備しています。後者では、最初に整数だと決め打ちして型変換し、失敗したら実数だとみなし、それでも失敗したら文字列だとみなしています。複素数complex(\"j\"を含む数値)も扱えるようにするにはどこを改造したらいいでしょう。"
      ]
    },
    {
      "cell_type": "code",
      "metadata": {
        "id": "2u6IisH8iVp4",
        "colab_type": "code",
        "colab": {}
      },
      "source": [
        "x = input(\"value?\")\n",
        "try:\n",
        "    print(int(x))\n",
        "except ValueError:\n",
        "    print(x)"
      ],
      "execution_count": 0,
      "outputs": []
    },
    {
      "cell_type": "code",
      "metadata": {
        "id": "JSaznvuGiVp7",
        "colab_type": "code",
        "colab": {}
      },
      "source": [
        "#Assume text does not contain spaces\n",
        "def eval_properly(value):\n",
        "    try:\n",
        "        return int(value)\n",
        "    except ValueError:\n",
        "        try:\n",
        "            return float(value)\n",
        "        except ValueError:\n",
        "            return value\n",
        "\n",
        "\n",
        "def parse_properly(line,separator=None):\n",
        "    columns = line.split(separator)\n",
        "    newc = []\n",
        "    for c in columns:\n",
        "        newc.append(eval_properly(c))\n",
        "    return newc\n",
        "\n",
        "\n",
        "def parse_properly_in_short(line,separator=None):\n",
        "    return [eval_properly(c) for c in line.split(separator)]\n",
        "\n",
        "print(type(eval_properly(\"1 2 3\")))\n",
        "print(type(eval_properly(\"1.23\")))\n",
        "print(type(eval_properly(\"1.2+3j\")))\n",
        "print(type(eval_properly(\"123\")))\n",
        "print(parse_properly_in_short(input(\"test:\"),separator=\",\"))"
      ],
      "execution_count": 0,
      "outputs": []
    },
    {
      "cell_type": "markdown",
      "metadata": {
        "id": "O1nCTQD8iVp-",
        "colab_type": "text"
      },
      "source": [
        "## 宿題\n",
        "data5.mdvwから、原子の座標と思われる部分だけを読みこんで、座標のリストを作って下さい。\n",
        "\n",
        "それができたら、原子の名前も読みこみ、原子の種類ごとに別のリストに入れるようにしてみましょう。"
      ]
    },
    {
      "cell_type": "code",
      "metadata": {
        "id": "mlAmINnHiVp-",
        "colab_type": "code",
        "colab": {}
      },
      "source": [
        ""
      ],
      "execution_count": 0,
      "outputs": []
    },
    {
      "cell_type": "markdown",
      "metadata": {
        "id": "xMTHrni1iVqB",
        "colab_type": "text"
      },
      "source": [
        "### 蛇足1\n",
        "\n",
        "Python 2では漢字混じりの文字列はアルファベットのみの文字列と区別する必要がありましたが、Python3ではもう文字列をunicodeとして使うのが標準になったようです。そればかりでなく、変数名や関数名にもunicodeが使えます。\n",
        "\n",
        "上のプログラムは、日本語で次のように書いても問題ありません。"
      ]
    },
    {
      "cell_type": "code",
      "metadata": {
        "scrolled": true,
        "id": "TIfUuRiKiVqB",
        "colab_type": "code",
        "colab": {}
      },
      "source": [
        "def 適当に評価(値):\n",
        "    try:\n",
        "        return int(値)\n",
        "    except ValueError:\n",
        "        try:\n",
        "            return float(値)\n",
        "        except ValueError:\n",
        "            return 値\n",
        "\n",
        "\n",
        "def 適当に行処理(line,区切り=None):\n",
        "    カラム = line.split(区切り)\n",
        "    新カラム = []\n",
        "    for 値 in カラム:\n",
        "        新カラム.append(適当に評価(値))\n",
        "    return 新カラム\n",
        "\n",
        "\n",
        "def 適当に行処理短(文字列,区切り=None):\n",
        "    return [適当に評価(値) for 値 in 文字列.split(区切り)]\n",
        "\n",
        "print(type(適当に評価(\"1 2 3\")))\n",
        "print(type(適当に評価(\"1.23\")))\n",
        "print(type(適当に評価(\"1.2+3j\")))\n",
        "print(type(適当に評価(\"123\")))\n",
        "print(適当に行処理短(input(\"適当な文字列:\"),区切り=\",\"))"
      ],
      "execution_count": 0,
      "outputs": []
    },
    {
      "cell_type": "markdown",
      "metadata": {
        "id": "2HxCRX2YiVqF",
        "colab_type": "text"
      },
      "source": [
        "### 蛇足2\n",
        "\n",
        "この次に扱うnumpyでは、数値をまとめて読みこむ便利な関数がつかえます。"
      ]
    },
    {
      "cell_type": "code",
      "metadata": {
        "id": "_aMzhpaViVqG",
        "colab_type": "code",
        "colab": {}
      },
      "source": [
        ""
      ],
      "execution_count": 0,
      "outputs": []
    }
  ]
}
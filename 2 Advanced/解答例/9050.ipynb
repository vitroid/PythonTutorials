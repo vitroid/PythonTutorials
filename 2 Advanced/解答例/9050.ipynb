{
 "cells": [
  {
   "cell_type": "code",
   "execution_count": 4,
   "metadata": {},
   "outputs": [
    {
     "name": "stdout",
     "output_type": "stream",
     "text": [
      "1+2*3*4-5\n",
      "1+2+3*4+5\n",
      "1+2-3+4*5\n"
     ]
    }
   ],
   "source": [
    "import itertools as it\n",
    "\n",
    "for x in it.product(\"1\", \"*+/-\", \"2\", \"*+/-\", \"3\", \"*+/-\", \"4\", \"*+/-\", \"5\"):\n",
    "    s = \"\".join(x)\n",
    "    if eval(s) == 20:\n",
    "        print(s)"
   ]
  },
  {
   "cell_type": "code",
   "execution_count": 12,
   "metadata": {},
   "outputs": [
    {
     "name": "stdout",
     "output_type": "stream",
     "text": [
      "9 3 0 1 5 6 2 4 8\n"
     ]
    }
   ],
   "source": [
    "# HAWAII+IDAHO+IOWA+OHIO==STATES\n",
    "for i,o,w,a,h,s,t,e,d in it.permutations([0,1,2,3,4,5,6,7,8,9],9):\n",
    "    if h != 0:\n",
    "        hawaii = h*100000 + a*10100 + w*1000 + i*11\n",
    "        idaho  = i*10000 + d*1000 + a*100 + h*10 + o\n",
    "        iowa   = i*1000 + o*100 + w*10 + a\n",
    "        ohio    = o*1001 + h*100 +i*10\n",
    "        states = s*100001 + t*10100 + a*1000 + e*10\n",
    "        if hawaii + idaho + iowa + ohio == states:\n",
    "            print(i,o,w,a,h,s,t,e,d)"
   ]
  },
  {
   "cell_type": "code",
   "execution_count": 21,
   "metadata": {},
   "outputs": [
    {
     "data": {
      "text/plain": [
       "[95021,\n",
       " 95012,\n",
       " 92501,\n",
       " 92150,\n",
       " 91502,\n",
       " 91250,\n",
       " 50921,\n",
       " 50912,\n",
       " 50291,\n",
       " 50219,\n",
       " 50192,\n",
       " 50129,\n",
       " 29501,\n",
       " 29150,\n",
       " 25091,\n",
       " 25019,\n",
       " 21950,\n",
       " 21509,\n",
       " 19502,\n",
       " 19250,\n",
       " 15092,\n",
       " 15029,\n",
       " 12950,\n",
       " 12509]"
      ]
     },
     "execution_count": 21,
     "metadata": {},
     "output_type": "execute_result"
    }
   ],
   "source": [
    "# はじめから文字列にしておく。\n",
    "L = [\"50\",\"2\",\"1\",\"9\"]\n",
    "s = [eval(\"\".join(x)) for x in it.permutations(L)]\n",
    "s.sort(reverse=True)\n",
    "s"
   ]
  },
  {
   "cell_type": "code",
   "execution_count": null,
   "metadata": {},
   "outputs": [],
   "source": []
  }
 ],
 "metadata": {
  "kernelspec": {
   "display_name": "Python 3",
   "language": "python",
   "name": "python3"
  },
  "language_info": {
   "codemirror_mode": {
    "name": "ipython",
    "version": 3
   },
   "file_extension": ".py",
   "mimetype": "text/x-python",
   "name": "python",
   "nbconvert_exporter": "python",
   "pygments_lexer": "ipython3",
   "version": "3.6.5"
  }
 },
 "nbformat": 4,
 "nbformat_minor": 2
}

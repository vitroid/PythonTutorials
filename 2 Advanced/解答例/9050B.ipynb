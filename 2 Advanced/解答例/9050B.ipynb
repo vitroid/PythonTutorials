{
 "cells": [
  {
   "cell_type": "code",
   "execution_count": null,
   "metadata": {
    "collapsed": false
   },
   "outputs": [],
   "source": [
    "import itertools\n",
    "for x in itertools.product(\"1\",[\"+\",\"-\",\"*\",\"/\",\"\"],\"2\",[\"+\",\"-\",\"*\",\"/\",\"\"],\"3\"\n",
    "                          ,[\"+\",\"-\",\"*\",\"/\",\"\"],\"4\",[\"+\",\"-\",\"*\",\"/\",\"\"],\"5\"):\n",
    "    s = \"\".join(x)\n",
    "    if eval(s) == 20:\n",
    "        print(\"20=\",s)"
   ]
  },
  {
   "cell_type": "code",
   "execution_count": null,
   "metadata": {
    "collapsed": false
   },
   "outputs": [],
   "source": [
    "import itertools\n",
    "for x in itertools.product(\"1\",[\"+\",\"-\",\"*\",\"/\",\"\"],\"2\",[\"+\",\"-\",\"*\",\"/\",\"\"],\"3\"\n",
    "                          ,[\"+\",\"-\",\"*\",\"/\",\"\"],\"4\",[\"+\",\"-\",\"*\",\"/\",\"\"],\"5\"\n",
    "                          ,[\"+\",\"-\",\"*\",\"/\",\"\"],\"6\",[\"+\",\"-\",\"*\",\"/\",\"\"],\"7\"\n",
    "                          ,[\"+\",\"-\",\"*\",\"/\",\"\"],\"8\",[\"+\",\"-\",\"*\",\"/\",\"\"],\"9\"):\n",
    "    s = \"\".join(x)\n",
    "    if eval(s) == 100:\n",
    "        print(\"100=\",s)"
   ]
  },
  {
   "cell_type": "code",
   "execution_count": null,
   "metadata": {
    "collapsed": false
   },
   "outputs": [],
   "source": [
    "import itertools\n",
    "def maximuminorder(L):\n",
    "    m = 0               #maximum value ever\n",
    "    for x in itertools.permutations(L):\n",
    "        s = \"\".join(x)  #join the letters together\n",
    "        v = eval(s)     #evaluate the string as a formula\n",
    "        if m < v:       #if the value is larger than m,\n",
    "            m=v\n",
    "    return m\n",
    "\n",
    "print(maximuminorder([\"50\",\"9\",\"2\",\"1\"]))"
   ]
  },
  {
   "cell_type": "code",
   "execution_count": null,
   "metadata": {
    "collapsed": false
   },
   "outputs": [],
   "source": [
    "import itertools as it\n",
    "for s in it.permutations(\"0123456789\",9):\n",
    "    if '0' not in s[0:4]:\n",
    "        conv = {x:y for x,y in zip('HIOSAWDTE+=',\"\".join(s)+'+=')}\n",
    "        if eval(\"\".join([conv[x] for x in 'HAWAII+IDAHO+IOWA+OHIO==STATES'])):\n",
    "            print(conv)"
   ]
  },
  {
   "cell_type": "code",
   "execution_count": null,
   "metadata": {
    "collapsed": true
   },
   "outputs": [],
   "source": []
  }
 ],
 "metadata": {
  "kernelspec": {
   "display_name": "Python 3",
   "language": "python",
   "name": "python3"
  },
  "language_info": {
   "codemirror_mode": {
    "name": "ipython",
    "version": 3
   },
   "file_extension": ".py",
   "mimetype": "text/x-python",
   "name": "python",
   "nbconvert_exporter": "python",
   "pygments_lexer": "ipython3",
   "version": "3.5.1"
  }
 },
 "nbformat": 4,
 "nbformat_minor": 0
}

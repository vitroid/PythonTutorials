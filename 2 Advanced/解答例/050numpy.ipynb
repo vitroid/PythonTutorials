{
 "cells": [
  {
   "cell_type": "code",
   "execution_count": null,
   "metadata": {},
   "outputs": [],
   "source": [
    "%matplotlib inline\n",
    "import numpy as np\n",
    "from skimage import io\n",
    "from PIL import Image # 画像操作ライブラリ\n",
    "\n",
    "あ = io.imread('../あ.png')\n",
    "print(type(あ))\n",
    "print(あ.shape)\n",
    "\n",
    "# arrayを画像として表示する\n",
    "img = Image.fromarray(あ)\n",
    "img.show()"
   ]
  },
  {
   "cell_type": "markdown",
   "metadata": {},
   "source": [
    "1. 色を反転する。\n",
    "2. 左右を反転する。\n",
    "3. 上下を反転する。\n",
    "4. 対角線に関して反転する。(右上と左下がいれかわる)\n",
    "5. 時計回りに90度回転する。\n",
    "6. 横に40ピクセルずらす。(少し難しい)\n",
    "7. 背景(白)をグレーにする。(fancy indexを使う)\n",
    "8. 背景に模様を入れる(例えば縦線とか)\n",
    "9. その他、自分の好みでエフェクトを加える。"
   ]
  },
  {
   "cell_type": "code",
   "execution_count": null,
   "metadata": {},
   "outputs": [],
   "source": [
    "あ1 = 255-あ\n",
    "\n",
    "# arrayを画像として表示する\n",
    "img = Image.fromarray(あ1)\n",
    "img.show()"
   ]
  },
  {
   "cell_type": "code",
   "execution_count": null,
   "metadata": {},
   "outputs": [],
   "source": [
    "あ2 = あ[:,::-1]\n",
    "\n",
    "# arrayを画像として表示する\n",
    "img = Image.fromarray(あ2)\n",
    "img.show()"
   ]
  },
  {
   "cell_type": "code",
   "execution_count": null,
   "metadata": {},
   "outputs": [],
   "source": [
    "あ3 = あ[::-1,:]\n",
    "\n",
    "# arrayを画像として表示する\n",
    "img = Image.fromarray(あ3)\n",
    "img.show()"
   ]
  },
  {
   "cell_type": "code",
   "execution_count": null,
   "metadata": {},
   "outputs": [],
   "source": [
    "あ4 = あ.T\n",
    "\n",
    "# arrayを画像として表示する\n",
    "img = Image.fromarray(あ4)\n",
    "img.show()"
   ]
  },
  {
   "cell_type": "code",
   "execution_count": null,
   "metadata": {},
   "outputs": [],
   "source": [
    "あ5 = あ4[:,::-1]\n",
    "\n",
    "# arrayを画像として表示する\n",
    "img = Image.fromarray(あ5)\n",
    "img.show()"
   ]
  },
  {
   "cell_type": "code",
   "execution_count": null,
   "metadata": {},
   "outputs": [],
   "source": [
    "あ6 = np.zeros((100,100))\n",
    "あ6[:,:60] = あ[:,40:]\n",
    "あ6[:,60:] = あ[:,:40]\n",
    "\n",
    "# arrayを画像として表示する\n",
    "img = Image.fromarray(あ6)\n",
    "img.show()"
   ]
  },
  {
   "cell_type": "code",
   "execution_count": null,
   "metadata": {},
   "outputs": [],
   "source": [
    "あ7 = あ.copy()\n",
    "あ7[あ7==255] = 100\n",
    "\n",
    "# arrayを画像として表示する\n",
    "img = Image.fromarray(あ7)\n",
    "img.show()"
   ]
  },
  {
   "cell_type": "code",
   "execution_count": null,
   "metadata": {},
   "outputs": [],
   "source": [
    "あ8 = あ.copy()\n",
    "あ8[:, ::10]=0\n",
    "\n",
    "# arrayを画像として表示する\n",
    "img = Image.fromarray(あ8)\n",
    "img.show()"
   ]
  },
  {
   "cell_type": "code",
   "execution_count": null,
   "metadata": {},
   "outputs": [],
   "source": []
  },
  {
   "cell_type": "code",
   "execution_count": null,
   "metadata": {},
   "outputs": [],
   "source": []
  }
 ],
 "metadata": {
  "kernelspec": {
   "display_name": "Python 3",
   "language": "python",
   "name": "python3"
  },
  "language_info": {
   "codemirror_mode": {
    "name": "ipython",
    "version": 3
   },
   "file_extension": ".py",
   "mimetype": "text/x-python",
   "name": "python",
   "nbconvert_exporter": "python",
   "pygments_lexer": "ipython3",
   "version": "3.6.5"
  }
 },
 "nbformat": 4,
 "nbformat_minor": 2
}

{
  "nbformat": 4,
  "nbformat_minor": 0,
  "metadata": {
    "kernelspec": {
      "display_name": "Python 3",
      "language": "python",
      "name": "python3"
    },
    "language_info": {
      "codemirror_mode": {
        "name": "ipython",
        "version": 3
      },
      "file_extension": ".py",
      "mimetype": "text/x-python",
      "name": "python",
      "nbconvert_exporter": "python",
      "pygments_lexer": "ipython3",
      "version": "3.6.5"
    },
    "colab": {
      "name": "030順列組み合わせ.ipynb",
      "provenance": [],
      "include_colab_link": true
    }
  },
  "cells": [
    {
      "cell_type": "markdown",
      "metadata": {
        "id": "view-in-github",
        "colab_type": "text"
      },
      "source": [
        "<a href=\"https://colab.research.google.com/github/vitroid/PythonTutorials/blob/2020m0/2%20Advanced/%E8%A7%A3%E7%AD%94%E4%BE%8B/030%E9%A0%86%E5%88%97%E7%B5%84%E3%81%BF%E5%90%88%E3%82%8F%E3%81%9B.ipynb\" target=\"_parent\"><img src=\"https://colab.research.google.com/assets/colab-badge.svg\" alt=\"Open In Colab\"/></a>"
      ]
    },
    {
      "cell_type": "markdown",
      "metadata": {
        "id": "ZFDc1pBrTbG_",
        "colab_type": "text"
      },
      "source": [
        "## 宿題1"
      ]
    },
    {
      "cell_type": "code",
      "metadata": {
        "id": "g5jgkc0zTbHE",
        "colab_type": "code",
        "colab": {}
      },
      "source": [
        "import itertools\n",
        "for x in itertools.product(\"1\",[\"+\",\"-\",\"*\",\"/\",\"\"],\"2\",[\"+\",\"-\",\"*\",\"/\",\"\"],\"3\"\n",
        "                          ,[\"+\",\"-\",\"*\",\"/\",\"\"],\"4\",[\"+\",\"-\",\"*\",\"/\",\"\"],\"5\"):\n",
        "    s = \"\".join(x)\n",
        "    if eval(s) == 20:\n",
        "        print(\"20=\",s)"
      ],
      "execution_count": 0,
      "outputs": []
    },
    {
      "cell_type": "markdown",
      "metadata": {
        "id": "tjB_DdxWTbHX",
        "colab_type": "text"
      },
      "source": [
        "もっと簡単に書けそうだ。"
      ]
    },
    {
      "cell_type": "code",
      "metadata": {
        "id": "xvaleZ09TbHc",
        "colab_type": "code",
        "colab": {}
      },
      "source": [
        "import itertools\n",
        "OP=\"*-+/\"\n",
        "F = [\"\".join(x) for x in itertools.product(\"1\",OP,\"2\",OP,\"3\",OP,\"4\",OP,\"5\")]\n",
        "A = [x for x in F if eval(x)==20]\n",
        "A"
      ],
      "execution_count": 0,
      "outputs": []
    },
    {
      "cell_type": "markdown",
      "metadata": {
        "id": "hhImzKiSTr-A",
        "colab_type": "text"
      },
      "source": [
        "ところで、最小の文字数のものを選べ、という意味不明の条件を付けてしまったので混乱させてしまったかもしれません。本来は、「数字と数字の間に演算子を入れないケースも許した場合に、最小の文字数になるのはどんな場合か」という問題だったのですが、設定を途中で変えてしまったために矛盾をきたしてしまいました。\n",
        "\n"
      ]
    },
    {
      "cell_type": "code",
      "metadata": {
        "id": "s4S60xEcTbHs",
        "colab_type": "code",
        "colab": {}
      },
      "source": [
        "import itertools\n",
        "for x in itertools.product(\"1\",[\"+\",\"-\",\"*\",\"/\",\"\"],\"2\",[\"+\",\"-\",\"*\",\"/\",\"\"],\"3\"\n",
        "                          ,[\"+\",\"-\",\"*\",\"/\",\"\"],\"4\",[\"+\",\"-\",\"*\",\"/\",\"\"],\"5\"\n",
        "                          ,[\"+\",\"-\",\"*\",\"/\",\"\"],\"6\",[\"+\",\"-\",\"*\",\"/\",\"\"],\"7\"\n",
        "                          ,[\"+\",\"-\",\"*\",\"/\",\"\"],\"8\",[\"+\",\"-\",\"*\",\"/\",\"\"],\"9\"):\n",
        "    s = \"\".join(x)\n",
        "    if eval(s) == 100:\n",
        "        print(\"100=\",s)"
      ],
      "execution_count": 0,
      "outputs": []
    },
    {
      "cell_type": "markdown",
      "metadata": {
        "id": "sR8m8M_YUeZb",
        "colab_type": "text"
      },
      "source": [
        "ところが、内藤君(2020)は、これを、「最も少ない種類の演算子を使って」と解釈したうえで、そのような解を選ぶプログラムを書きました。確かにそういう縛りも面白いです。"
      ]
    },
    {
      "cell_type": "markdown",
      "metadata": {
        "id": "DgkxleOuTbH3",
        "colab_type": "text"
      },
      "source": [
        "## 宿題2"
      ]
    },
    {
      "cell_type": "code",
      "metadata": {
        "id": "Bzkr8rT1TbH4",
        "colab_type": "code",
        "colab": {}
      },
      "source": [
        "import itertools\n",
        "def maximuminorder(L):\n",
        "    m = 0               #maximum value ever\n",
        "    for x in itertools.permutations(L):\n",
        "        s = \"\".join(x)  #join the letters together\n",
        "        v = eval(s)     #evaluate the string as a formula\n",
        "        if m < v:       #if the value is larger than m,\n",
        "            m=v\n",
        "    return m\n",
        "\n",
        "print(maximuminorder([\"50\",\"9\",\"2\",\"1\"]))"
      ],
      "execution_count": 0,
      "outputs": []
    },
    {
      "cell_type": "markdown",
      "metadata": {
        "id": "L_74V3hYTbIA",
        "colab_type": "text"
      },
      "source": [
        "max関数はリストのなかの最大値を返す。"
      ]
    },
    {
      "cell_type": "code",
      "metadata": {
        "id": "0vhI6yG_TbIB",
        "colab_type": "code",
        "colab": {}
      },
      "source": [
        "import itertools\n",
        "max([int(\"\".join(x)) for x in itertools.permutations([\"50\",\"9\",\"2\",\"1\"])])"
      ],
      "execution_count": 0,
      "outputs": []
    },
    {
      "cell_type": "markdown",
      "metadata": {
        "id": "p8uW2x-hTbIJ",
        "colab_type": "text"
      },
      "source": [
        "## 宿題3\n",
        "\n",
        "これはかなり巧妙なコード。辞書を使って文字を置換する。これ以上簡潔にするのは難しいのでは?"
      ]
    },
    {
      "cell_type": "code",
      "metadata": {
        "id": "ISgqzw3eTbIK",
        "colab_type": "code",
        "colab": {}
      },
      "source": [
        "import itertools as it\n",
        "for s in it.permutations(\"0123456789\",9):\n",
        "    if '0' not in s[:4]:\n",
        "        conv = {x:y for x,y in zip('HIOSAWDTE+=',\"\".join(s)+'+=')}\n",
        "        if eval(\"\".join([conv[x] for x in 'HAWAII+IDAHO+IOWA+OHIO==STATES'])):\n",
        "            print(conv)"
      ],
      "execution_count": 0,
      "outputs": []
    }
  ]
}
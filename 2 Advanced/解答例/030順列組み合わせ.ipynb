{
 "cells": [
  {
   "cell_type": "markdown",
   "metadata": {},
   "source": [
    "## 宿題1"
   ]
  },
  {
   "cell_type": "code",
   "execution_count": null,
   "metadata": {
    "collapsed": false
   },
   "outputs": [],
   "source": [
    "import itertools\n",
    "for x in itertools.product(\"1\",[\"+\",\"-\",\"*\",\"/\",\"\"],\"2\",[\"+\",\"-\",\"*\",\"/\",\"\"],\"3\"\n",
    "                          ,[\"+\",\"-\",\"*\",\"/\",\"\"],\"4\",[\"+\",\"-\",\"*\",\"/\",\"\"],\"5\"):\n",
    "    s = \"\".join(x)\n",
    "    if eval(s) == 20:\n",
    "        print(\"20=\",s)"
   ]
  },
  {
   "cell_type": "markdown",
   "metadata": {},
   "source": [
    "もっと簡単に書けそうだ。"
   ]
  },
  {
   "cell_type": "code",
   "execution_count": 22,
   "metadata": {},
   "outputs": [
    {
     "data": {
      "text/plain": [
       "['1+2*3*4-5', '1+2-3+4*5', '1+2+3*4+5']"
      ]
     },
     "execution_count": 22,
     "metadata": {},
     "output_type": "execute_result"
    }
   ],
   "source": [
    "import itertools\n",
    "OP=\"*-+/\"\n",
    "F = [\"\".join(x) for x in itertools.product(\"1\",OP,\"2\",OP,\"3\",OP,\"4\",OP,\"5\")]\n",
    "A = [x for x in F if eval(x)==20]\n",
    "A"
   ]
  },
  {
   "cell_type": "code",
   "execution_count": null,
   "metadata": {
    "collapsed": false
   },
   "outputs": [],
   "source": [
    "import itertools\n",
    "for x in itertools.product(\"1\",[\"+\",\"-\",\"*\",\"/\",\"\"],\"2\",[\"+\",\"-\",\"*\",\"/\",\"\"],\"3\"\n",
    "                          ,[\"+\",\"-\",\"*\",\"/\",\"\"],\"4\",[\"+\",\"-\",\"*\",\"/\",\"\"],\"5\"\n",
    "                          ,[\"+\",\"-\",\"*\",\"/\",\"\"],\"6\",[\"+\",\"-\",\"*\",\"/\",\"\"],\"7\"\n",
    "                          ,[\"+\",\"-\",\"*\",\"/\",\"\"],\"8\",[\"+\",\"-\",\"*\",\"/\",\"\"],\"9\"):\n",
    "    s = \"\".join(x)\n",
    "    if eval(s) == 100:\n",
    "        print(\"100=\",s)"
   ]
  },
  {
   "cell_type": "markdown",
   "metadata": {},
   "source": [
    "## 宿題2"
   ]
  },
  {
   "cell_type": "code",
   "execution_count": null,
   "metadata": {
    "collapsed": false
   },
   "outputs": [],
   "source": [
    "import itertools\n",
    "def maximuminorder(L):\n",
    "    m = 0               #maximum value ever\n",
    "    for x in itertools.permutations(L):\n",
    "        s = \"\".join(x)  #join the letters together\n",
    "        v = eval(s)     #evaluate the string as a formula\n",
    "        if m < v:       #if the value is larger than m,\n",
    "            m=v\n",
    "    return m\n",
    "\n",
    "print(maximuminorder([\"50\",\"9\",\"2\",\"1\"]))"
   ]
  },
  {
   "cell_type": "markdown",
   "metadata": {},
   "source": [
    "max関数はリストのなかの最大値を返す。"
   ]
  },
  {
   "cell_type": "code",
   "execution_count": 15,
   "metadata": {},
   "outputs": [
    {
     "data": {
      "text/plain": [
       "95021"
      ]
     },
     "execution_count": 15,
     "metadata": {},
     "output_type": "execute_result"
    }
   ],
   "source": [
    "import itertools\n",
    "max([int(\"\".join(x)) for x in itertools.permutations([\"50\",\"9\",\"2\",\"1\"])])"
   ]
  },
  {
   "cell_type": "markdown",
   "metadata": {},
   "source": [
    "## 宿題3\n",
    "\n",
    "これはかなり巧妙なコード。辞書を使って文字を置換する。これ以上簡潔にするのは難しいのでは?"
   ]
  },
  {
   "cell_type": "code",
   "execution_count": 18,
   "metadata": {
    "collapsed": false
   },
   "outputs": [
    {
     "name": "stdout",
     "output_type": "stream",
     "text": [
      "{'H': '5', 'I': '9', 'O': '3', 'S': '6', 'A': '1', 'W': '0', 'D': '8', 'T': '2', 'E': '4', '+': '+', '=': '='}\n"
     ]
    }
   ],
   "source": [
    "import itertools as it\n",
    "for s in it.permutations(\"0123456789\",9):\n",
    "    if '0' not in s[:4]:\n",
    "        conv = {x:y for x,y in zip('HIOSAWDTE+=',\"\".join(s)+'+=')}\n",
    "        if eval(\"\".join([conv[x] for x in 'HAWAII+IDAHO+IOWA+OHIO==STATES'])):\n",
    "            print(conv)"
   ]
  }
 ],
 "metadata": {
  "kernelspec": {
   "display_name": "Python 3",
   "language": "python",
   "name": "python3"
  },
  "language_info": {
   "codemirror_mode": {
    "name": "ipython",
    "version": 3
   },
   "file_extension": ".py",
   "mimetype": "text/x-python",
   "name": "python",
   "nbconvert_exporter": "python",
   "pygments_lexer": "ipython3",
   "version": "3.6.5"
  }
 },
 "nbformat": 4,
 "nbformat_minor": 2
}

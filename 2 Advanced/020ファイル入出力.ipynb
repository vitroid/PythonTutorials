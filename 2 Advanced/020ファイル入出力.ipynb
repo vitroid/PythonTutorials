{
 "cells": [
  {
   "cell_type": "markdown",
   "metadata": {},
   "source": [
    "# 複雑なファイルの入出力\n",
    "研究でPythonを使う状況を考えると、何はともあれ大きなデータをファイルから読みこんで、処理して、ファイルに出力するという使い方がほとんどになるだろう。あらかじめPythonで読みこむつもりで書かれたデータばかりではないので、読み込むのにも工夫が必要になる。また、Pythonの出力を他のソフトウェアで利用する場合には、そのソフトウェアにあわせたデータ出力が求められる。\n",
    "## ファイル入力\n",
    "### データの羅列を読む"
   ]
  },
  {
   "cell_type": "code",
   "execution_count": null,
   "metadata": {
    "collapsed": false
   },
   "outputs": [],
   "source": [
    "#座標の羅列を読みこむ\n",
    "file = open(\"data1.txt\")\n",
    "coord = []\n",
    "for line in file:           #ファイルのそれぞれの行ごとに処理をする。\n",
    "    columns = line.split()  #空白やタブで行をカラムに分割する。\n",
    "    print(\"columns=\",columns)\n",
    "    x, y, z = float(columns[0]),float(columns[1]),float(columns[2])\n",
    "    print(\"x,y,z=\",x,y,z)\n",
    "    coord.append((x,y,z))\n",
    "    print(\"coord:\",coord)\n",
    "print(coord)\n",
    "print(coord[1][1])"
   ]
  },
  {
   "cell_type": "markdown",
   "metadata": {},
   "source": [
    "### もうちょっとシンプルに"
   ]
  },
  {
   "cell_type": "code",
   "execution_count": null,
   "metadata": {
    "collapsed": false
   },
   "outputs": [],
   "source": [
    "#座標の羅列を読みこむ\n",
    "file = open(\"data1.txt\")\n",
    "coord = []\n",
    "for line in file:           #ファイルのそれぞれの行ごとに処理をする。\n",
    "    values = [float(x) for x in line.split()]  #分割して実数化する\n",
    "    print(line,values)\n",
    "    coord.append(values)\n",
    "print(coord)\n",
    "values = [i for i in range(-5,10,2)]\n",
    "print(values)"
   ]
  },
  {
   "cell_type": "markdown",
   "metadata": {},
   "source": [
    "### 練習問題1\n",
    "リスト[-5,-4,-3,-2,......,+4,+5]を作るPythonプログラムを1行で書いてみて下さい。"
   ]
  },
  {
   "cell_type": "code",
   "execution_count": null,
   "metadata": {
    "collapsed": true
   },
   "outputs": [],
   "source": [
    "!! fortran90\n",
    "integer i,a[11]\n",
    "do i=-5,5\n",
    "  a[i+6] = i\n",
    "enddo\n",
    "\n",
    "//c言語\n",
    "int a[11]\n",
    "for(int i=-5;i<=5;i++){\n",
    "    a[i+5] = i;\n",
    "}"
   ]
  },
  {
   "cell_type": "markdown",
   "metadata": {},
   "source": [
    "### 練習問題2\n",
    "リスト[-0.9,-0.8,-0.7,......,+0.9,+1.0]を作るPythonプログラムを1行で書いてみて下さい。"
   ]
  },
  {
   "cell_type": "code",
   "execution_count": null,
   "metadata": {
    "collapsed": false
   },
   "outputs": [],
   "source": [
    "[i for i in range(-9,11)]"
   ]
  },
  {
   "cell_type": "markdown",
   "metadata": {},
   "source": [
    "### 最初の3行は読みとばす"
   ]
  },
  {
   "cell_type": "code",
   "execution_count": null,
   "metadata": {
    "collapsed": false
   },
   "outputs": [],
   "source": [
    "file = open(\"data2.txt\")\n",
    "coord = []\n",
    "count = 0\n",
    "for line in file:           #ファイルのそれぞれの行ごとに処理をする。\n",
    "    count += 1\n",
    "    if 3 < count:\n",
    "        values = [float(x) for x in line.split()]  #分割して実数化する\n",
    "        coord.append(values)\n",
    "    else:\n",
    "        print(\"Skipped line:\",line,end=\"\")\n",
    "print(coord)"
   ]
  },
  {
   "cell_type": "markdown",
   "metadata": {},
   "source": [
    "### 行のはじめに\"@n\"と書いてあり、そのあとのn行が座標データ"
   ]
  },
  {
   "cell_type": "code",
   "execution_count": null,
   "metadata": {
    "collapsed": false
   },
   "outputs": [],
   "source": [
    "file = open(\"data3.txt\")\n",
    "while True:                 #無限ループ\n",
    "    line = file.readline()\n",
    "    if len(line) == 0:\n",
    "        break\n",
    "    if line[0] == \"@\":\n",
    "        coord = []\n",
    "        n = int(line[1:])\n",
    "        for i in range(n):\n",
    "            line = file.readline()\n",
    "            values = [float(x) for x in line.split()]  #分割して実数化する\n",
    "            coord.append(values)\n",
    "        break               #whileループを抜ける\n",
    "print(coord)"
   ]
  },
  {
   "cell_type": "markdown",
   "metadata": {},
   "source": [
    "### \\#以降はコメントとして無視する"
   ]
  },
  {
   "cell_type": "code",
   "execution_count": null,
   "metadata": {
    "collapsed": false
   },
   "outputs": [],
   "source": [
    "# \"#\"よりもあとを除去する\n",
    "def elim_comment(s):\n",
    "    pos = s.find(\"#\")\n",
    "    if 0 <= pos:\n",
    "        return s[0:pos]\n",
    "    return s\n",
    "    \n",
    "\n",
    "file = open(\"data4.txt\")\n",
    "while True:                 #無限ループ\n",
    "    line = file.readline()\n",
    "    if line[0] == \"@\":\n",
    "        coord = []\n",
    "        n = int(line[1:])\n",
    "        for i in range(n):\n",
    "            line = elim_comment(file.readline())\n",
    "            values = [float(x) for x in line.split()]  #分割して実数化する\n",
    "            coord.append(values)\n",
    "        break               #whileループを抜ける\n",
    "\n",
    "print(coord)"
   ]
  },
  {
   "cell_type": "markdown",
   "metadata": {},
   "source": [
    "### 行ごとではなく、列ごとに読みこむ"
   ]
  },
  {
   "cell_type": "code",
   "execution_count": null,
   "metadata": {
    "collapsed": false
   },
   "outputs": [],
   "source": [
    "#座標の羅列を読みこむ\n",
    "file = open(\"data1.txt\")\n",
    "columns = [[] for i in range(3)]\n",
    "for line in file:           #ファイルのそれぞれの行ごとに処理をする。\n",
    "    values = [float(x) for x in line.split()]  #分割して実数化する\n",
    "    for i in range(3):\n",
    "        columns[i].append(values[i])\n",
    "print(columns)"
   ]
  },
  {
   "cell_type": "markdown",
   "metadata": {},
   "source": [
    "### 行ごとに読みこんでから、転置する"
   ]
  },
  {
   "cell_type": "code",
   "execution_count": null,
   "metadata": {
    "collapsed": false
   },
   "outputs": [],
   "source": [
    "def transpose(matrix, default=None):\n",
    "    #列数の最大値を調べる。\n",
    "    maxc = 0\n",
    "    for row in matrix:\n",
    "        if maxc < len(row):\n",
    "            maxc = len(row)\n",
    "    #コラムの数は列数の最大値\n",
    "    columns = [[] for i in range(maxc)]\n",
    "    for row in matrix:\n",
    "        for i in range(maxc):\n",
    "            if i < len(row):\n",
    "                columns[i].append(row[i])\n",
    "            else:\n",
    "                #データが足りない部分はdefault値を入れる\n",
    "                columns[i].append(default)\n",
    "    return columns\n",
    "    \n",
    "file = open(\"data1.txt\")\n",
    "coord = []\n",
    "for line in file:           #ファイルのそれぞれの行ごとに処理をする。\n",
    "    values = [float(x) for x in line.split()]  #分割して実数化する\n",
    "    coord.append(values)\n",
    "print(coord)\n",
    "columns = transpose(coord)\n",
    "print(columns)\n",
    "data = [\"list\",\"of\",\"strings\"]\n",
    "print(data)\n",
    "print(transpose(data,default=\"\"))"
   ]
  },
  {
   "cell_type": "code",
   "execution_count": null,
   "metadata": {
    "collapsed": false
   },
   "outputs": [],
   "source": [
    "from math import *\n",
    "x = input(\"value?\")\n",
    "x = eval(x)\n",
    "print(x)"
   ]
  },
  {
   "cell_type": "code",
   "execution_count": null,
   "metadata": {
    "collapsed": false
   },
   "outputs": [],
   "source": [
    "eval(\"[i for i in range(10)]\")"
   ]
  },
  {
   "cell_type": "markdown",
   "metadata": {
    "collapsed": true
   },
   "source": [
    "### 数値と文字が混在する行をパーズする。\n",
    "try: except:構文を使うと、エラーが起こった場合にもプログラムを停止せず、その場で対応できます。この機能を使い、読みこんだ文字が数字か文字かをその場で判断します。\n",
    "\n",
    "* 構文"
   ]
  },
  {
   "cell_type": "raw",
   "metadata": {},
   "source": [
    "try:\n",
    "    エラーがおきるかもしれない処理\n",
    "except エラータイプ:\n",
    "    エラーがおこった場合の代替処理"
   ]
  },
  {
   "cell_type": "markdown",
   "metadata": {},
   "source": [
    "エラータイプには、ValueErrorやTypeErrorなどがあります。実際のエラーメッセージを見れば、何を書けばいいかはわかると思います。\n",
    "\n",
    "以下では、一行をカラムに分ける関数parse_properly()と、文字列を「てきとうな」値に変換する関数eval_properly()を準備しています。後者では、最初に整数だと決め打ちして型変換し、失敗したら実数だとみなし、それでも失敗したら文字列だとみなしています。複素数complex(\"j\"を含む数値)も扱えるようにするにはどこを改造したらいいでしょう。"
   ]
  },
  {
   "cell_type": "code",
   "execution_count": null,
   "metadata": {
    "collapsed": false
   },
   "outputs": [],
   "source": [
    "x = input(\"value?\")\n",
    "try:\n",
    "    print(int(x))\n",
    "except ValueError:\n",
    "    print(x)"
   ]
  },
  {
   "cell_type": "code",
   "execution_count": null,
   "metadata": {
    "collapsed": false
   },
   "outputs": [],
   "source": [
    "#Assume text does not contain spaces\n",
    "def eval_properly(value):\n",
    "    try:\n",
    "        return int(value)\n",
    "    except ValueError:\n",
    "        try:\n",
    "            return float(value)\n",
    "        except ValueError:\n",
    "            return value\n",
    "\n",
    "\n",
    "def parse_properly(line,separator=None):\n",
    "    columns = line.split(separator)\n",
    "    newc = []\n",
    "    for c in columns:\n",
    "        newc.append(eval_properly(c))\n",
    "    return newc\n",
    "\n",
    "\n",
    "def parse_properly_in_short(line,separator=None):\n",
    "    return [eval_arbitrarily(c) for c in line.split(separator)]\n",
    "\n",
    "print(type(eval_properly(\"1 2 3\")))\n",
    "print(type(eval_properly(\"1.23\")))\n",
    "print(type(eval_properly(\"1.2+3j\")))\n",
    "print(type(eval_properly(\"123\")))\n",
    "print(parse_properly_in_short(input(\"test:\"),separator=\",\"))"
   ]
  },
  {
   "cell_type": "markdown",
   "metadata": {
    "collapsed": true
   },
   "source": [
    "### 練習問題\n",
    "data5.mdvwから、原子の座標と思われる部分だけを読みこんでリストに入れて下さい。"
   ]
  },
  {
   "cell_type": "code",
   "execution_count": null,
   "metadata": {
    "collapsed": true
   },
   "outputs": [],
   "source": []
  },
  {
   "cell_type": "markdown",
   "metadata": {},
   "source": [
    "### 蛇足\n",
    "Python 2では漢字混じりの文字列はアルファベットのみの文字列と区別する必要がありましたが、Python3ではもう文字列をunicodeとして使うのが標準になったようです。そればかりでなく、変数名や関数名にもunicodeが使えます。\n",
    "\n",
    "上のプログラムは、日本語で次のように書いても問題ありません。"
   ]
  },
  {
   "cell_type": "code",
   "execution_count": null,
   "metadata": {
    "collapsed": false
   },
   "outputs": [],
   "source": [
    "def 適当に評価(値):\n",
    "    try:\n",
    "        return int(値)\n",
    "    except ValueError:\n",
    "        try:\n",
    "            return float(値)\n",
    "        except ValueError:\n",
    "            return 値\n",
    "\n",
    "\n",
    "def 適当に行処理(line,separator=None):\n",
    "    カラム = line.split(separator)\n",
    "    newc = []\n",
    "    for 値 in カラム:\n",
    "        newc.append(適当に評価(値))\n",
    "    return newc\n",
    "\n",
    "\n",
    "def 適当に行処理短(文字列,区切り=None):\n",
    "    return [適当に評価(値) for 値 in 文字列.split(separator)]\n",
    "\n",
    "print(type(適当に評価(\"1 2 3\")))\n",
    "print(type(適当に評価(\"1.23\")))\n",
    "print(type(適当に評価(\"1.2+3j\")))\n",
    "print(type(適当に評価(\"123\")))\n",
    "print(適当に行処理短(input(\"適当な文字列:\"),separator=\",\"))"
   ]
  },
  {
   "cell_type": "code",
   "execution_count": null,
   "metadata": {
    "collapsed": true
   },
   "outputs": [],
   "source": []
  }
 ],
 "metadata": {
  "kernelspec": {
   "display_name": "Python 3",
   "language": "python",
   "name": "python3"
  },
  "language_info": {
   "codemirror_mode": {
    "name": "ipython",
    "version": 3
   },
   "file_extension": ".py",
   "mimetype": "text/x-python",
   "name": "python",
   "nbconvert_exporter": "python",
   "pygments_lexer": "ipython3",
   "version": "3.5.1"
  }
 },
 "nbformat": 4,
 "nbformat_minor": 0
}

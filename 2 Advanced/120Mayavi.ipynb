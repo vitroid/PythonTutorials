{
 "cells": [
  {
   "cell_type": "markdown",
   "metadata": {},
   "source": [
    "# AnacondaでMayaviを使う方法 / How to use Mayavi in Anaconda\n",
    "\n",
    "1. Anaconda Navigatorで左メニューのEnvironmentsを押し、Create+を押して、Mayaviという名前の新しい環境を作る。環境とは、Pythonライブラリ(パッケージ)を集めたもの。標準はroot環境だが、mayaviは最新環境(3.6)では動かないので、Python3.5を選択する。\n",
    "2. 最初は最小限(10個)のパッケージしか含まれていない。\n",
    "2. Mayaviの緑の三角\">\"を押してOpen Terminalするとターミナルが開く。\n",
    "3. その中で、OpenCVに必要なものをインストールする。\n",
    "       conda install -c menpo mayavi=4.5.0\n",
    "       conda install -c conda-forge pyside=1.2.4\n",
    "   これにより、新しい環境(Python3.5, Mayavi入り)の準備ができた。今後、また別の開発環境が欲しくなった時も同じ手順を踏む。\n",
    "5. Anaconda Navigatorに戻り、左メニュー「Home」でアプリ起動画面を表示する。「Applications on」でrootの代わりにMayaviを選ぶと、使えるアプリケーションが更新される。これらのアプリケーションすべてで、Mayaviが利用できる。\n",
    "\n",
    "\n",
    "1. Press \"Environments\" in the left menu of the Anaconda Navigator, press \"Create[+]\" button at the bottom, and make a new environment of Python version 3.5 with a new name \"mayavi\".  An environment is a collection of packages (libraries).  The standard environment is named \"root\" and is working on Python version 3.6, but Mayavi library work on Python version 3.5 only, so we prepare another environment.\n",
    "2. Initially, only 10 packages are included in the Mayavi environment.\n",
    "3. Press the green triangle at \"Mayavi\" and select \"Open Terminal\".\n",
    "4. In the terminal, type the following command to install the packages required to Mayavi.\n",
    "        conda install -c menpo mayavi=4.5.0\n",
    "        conda install -c conda-forge pyside=1.2.4\n",
    "5. Back to Anaconda Navigator, press \"Home\" in the left menu to go back the home screen, and select \"mayavi\" in the \"Applications on\" selector.  It refreshes the menu item of the Navigator.  You can now use Mayavi in Jupyter and spyder.\n",
    "\n",
    "### Notes\n",
    "\n",
    "* https://anaconda.org/menpo/mayavi\n",
    "* https://github.com/enthought/mayavi/issues/483"
   ]
  },
  {
   "cell_type": "markdown",
   "metadata": {},
   "source": [
    "Mayaviは三次元グラフを描くためのライブラリです。\n",
    "\n",
    "非常に美しく描いてくれるので、単にグラフを描くだけでなく、3Dグラフィックス(分子模型など)の表示にも活用できそうです。\n",
    "\n",
    "ちなみに、Python系のフリーソフトウェア[Chimera](https://www.cgl.ucsf.edu/chimera/)はGromacsの`.gro`ファイルを分子模型として美麗に表示してくれるようです。(今回はたぶん扱いません)\n",
    "\n",
    "Mayavi is a python library to draw three-dimensional graphs.\n",
    "\n",
    "It draws very beautiful graphs, so it would be also useful for general drawings such as molecular modeling.\n",
    "\n",
    "FYI, the free software [Chimera](https://www.cgl.ucsf.edu/chimera/) written in python draws the molecules in the Gromacs .gro files very nicely."
   ]
  },
  {
   "cell_type": "markdown",
   "metadata": {},
   "source": [
    "動作確認のためのサンプル1。\n",
    "http://docs.enthought.com/mayavi/mayavi/auto/example_surface_from_irregular_data.html からコピーしました。\n",
    "\n",
    "A sample for checking of operations. Copied from\n",
    "http://docs.enthought.com/mayavi/mayavi/auto/example_surface_from_irregular_data.html"
   ]
  },
  {
   "cell_type": "code",
   "execution_count": null,
   "metadata": {
    "collapsed": true
   },
   "outputs": [],
   "source": [
    "# Author: Gael Varoquaux <gael.varoquaux@normalesup.org>\n",
    "# Copyright (c) 2009, Enthought, Inc.\n",
    "# License: BSD Style.\n",
    "\n",
    "import numpy as np\n",
    "\n",
    "# Create data with x and y random in the [-2, 2] segment, and z a\n",
    "# Gaussian function of x and y.\n",
    "np.random.seed(12345)\n",
    "x = 4 * (np.random.random(500) - 0.5)\n",
    "y = 4 * (np.random.random(500) - 0.5)\n",
    "\n",
    "\n",
    "def f(x, y):\n",
    "    return np.exp(-(x ** 2 + y ** 2))\n",
    "\n",
    "z = f(x, y)\n",
    "\n",
    "from mayavi import mlab\n",
    "mlab.figure(1, fgcolor=(0, 0, 0), bgcolor=(1, 1, 1))\n",
    "\n",
    "# Visualize the points\n",
    "pts = mlab.points3d(x, y, z, z, scale_mode='none', scale_factor=0.2)\n",
    "\n",
    "# Create and visualize the mesh\n",
    "mesh = mlab.pipeline.delaunay2d(pts)\n",
    "surf = mlab.pipeline.surface(mesh)\n",
    "\n",
    "mlab.show()"
   ]
  },
  {
   "cell_type": "markdown",
   "metadata": {},
   "source": [
    "もう一つのサンプル。Mayaviのサンプルは、[ここ](http://docs.enthought.com/mayavi/mayavi/auto/examples.html)からたくさん入手できます。ざっと見れば、どんなことができるツールかわかってもらえると思います。\n",
    "\n",
    "Another sample. There are many samples [here](http://docs.enthought.com/mayavi/mayavi/auto/examples.html).\n",
    "Take a glance at the samples to see what we can do with Mayavi."
   ]
  },
  {
   "cell_type": "code",
   "execution_count": null,
   "metadata": {
    "collapsed": true
   },
   "outputs": [],
   "source": [
    "import numpy\n",
    "from mayavi import mlab\n",
    "\n",
    "def test_barchart():\n",
    "    \"\"\" Demo the bar chart plot with a 2D array.\n",
    "    \"\"\"\n",
    "    s = numpy.abs(numpy.random.random((3, 3)))\n",
    "    return mlab.barchart(s)\n",
    "\n",
    "test_barchart()\n",
    "mlab.show()"
   ]
  },
  {
   "cell_type": "code",
   "execution_count": null,
   "metadata": {
    "collapsed": true
   },
   "outputs": [],
   "source": [
    "import numpy\n",
    "from mayavi import mlab\n",
    "\n",
    "\n",
    "def test_quiver3d(): #quiverとは鏃(やじり)のこと\n",
    "    x, y, z = numpy.mgrid[-2:3, -2:3, -2:3]\n",
    "    r = numpy.sqrt(x ** 2 + y ** 2 + z ** 4)\n",
    "    u = y * numpy.sin(r) / (r + 0.001)\n",
    "    v = -x * numpy.sin(r) / (r + 0.001)\n",
    "    w = numpy.zeros_like(z)\n",
    "    obj = mlab.quiver3d(x, y, z, u, v, w, line_width=3, scale_factor=1)\n",
    "    return obj\n",
    "\n",
    "test_quiver3d()\n",
    "mlab.show()"
   ]
  },
  {
   "cell_type": "markdown",
   "metadata": {},
   "source": [
    "作画自体はPythonですからそれほど速くはありませんが、一旦3Dに変換されたあとは、マウスでぐるぐる回して観察できます。また、ウィンドウから画像(PNG)を生成できます。\n",
    "\n",
    "You can drag and rotate the model with mouse.  You can also generate PNG image from the screen."
   ]
  },
  {
   "cell_type": "markdown",
   "metadata": {},
   "source": [
    "## グリッドデータのプロットの例 / Plogging the grid data\n",
    "三次元のグラフを作ります。2次元のリストに単に数値を並べ、それをbarchartに与えると、立体棒グラフで表示してくれます。\n",
    "\n",
    "Here we make a three dimensional bar graph from a 2-dimensional array of data."
   ]
  },
  {
   "cell_type": "code",
   "execution_count": null,
   "metadata": {
    "collapsed": true
   },
   "outputs": [],
   "source": [
    "from mayavi import mlab\n",
    "\n",
    "data = [[1,2,3,4],[2,3,4,5],[7,6,5,4],[8,7,6,5]]\n",
    "mlab.barchart(data)\n",
    "mlab.show()"
   ]
  },
  {
   "cell_type": "markdown",
   "metadata": {},
   "source": [
    "もちろん、numpyのarrayも使えます。以下の例では、van der Waals状態方程式(Sympyでp=の形に変形した式を使います)をプロットします。\n",
    "\n",
    "Of course you can also use numpy for the data.  In the following example, the van der Waals equation of state is plotted against temperature and volume."
   ]
  },
  {
   "cell_type": "code",
   "execution_count": null,
   "metadata": {
    "collapsed": false
   },
   "outputs": [],
   "source": [
    "import numpy\n",
    "from mayavi import mlab\n",
    "import time\n",
    "\n",
    "start = time.clock()\n",
    "# p = (T*V**2*k - V*a + a*b)/(V**2*(V - b))\n",
    "p = numpy.zeros((100,100))  #100x100の空の行列を準備する。\n",
    "\n",
    "k = 8.314\n",
    "a = 20000\n",
    "b = 10\n",
    "for i in range(100):\n",
    "    T = float(i+20)\n",
    "    for j in range(100):\n",
    "        V = float(j+b+1)\n",
    "        p[i,j] = (T*V**2*k - V*a + a*b)/(V**2*(V - b))\n",
    "print(time.clock() - start)\n",
    "\n",
    "mlab.barchart(p)\n",
    "mlab.show()"
   ]
  },
  {
   "cell_type": "markdown",
   "metadata": {},
   "source": [
    "同じことを、もう少しnumpyらしく書いてみます。繰り返しをやめ、グリッドの細かさを100x100から500x500に変更しても、こっちのほうが高速に計算できます。\n",
    "\n",
    "The same program is written in more numpy-ish style.  Here all the repetitions are replaced by array operations.  This works about 100 times faster than the original code."
   ]
  },
  {
   "cell_type": "code",
   "execution_count": null,
   "metadata": {
    "collapsed": false
   },
   "outputs": [],
   "source": [
    "import numpy\n",
    "from mayavi import mlab\n",
    "import time\n",
    "\n",
    "start = time.clock()\n",
    "k = 8.314\n",
    "a = 20000\n",
    "b = 10\n",
    "\n",
    "# ogridについては次の例で説明します。\n",
    "T,V = numpy.ogrid[20:120:500j,12:111:500j]\n",
    "p   = (T*V**2*k - V*a + a*b)/(V**2*(V - b))\n",
    "print(time.clock() - start) #elapsed time\n",
    "\n",
    "mlab.barchart(p)\n",
    "mlab.show()"
   ]
  },
  {
   "cell_type": "markdown",
   "metadata": {},
   "source": [
    "なめらかな曲面で表示したい場合には、`barchart()`の代わりに`surf()`を使います。\n",
    "\n",
    "Use `surf()` instead of `barchart()` to draw a smooth surface.\n",
    "\n",
    "以下は500x500のグリッド上のJulia setを立体表示するものです。\n",
    "\n",
    "[Julia set](https://en.wikipedia.org/wiki/Julia_set)\n",
    "\n",
    "同じ方法でMandelbrot集合も表示できるのでしょうか。\n",
    "\n",
    "The following example shows the Julia set in 500x500 grid."
   ]
  },
  {
   "cell_type": "code",
   "execution_count": null,
   "metadata": {
    "collapsed": false,
    "scrolled": false
   },
   "outputs": [],
   "source": [
    "# Author: Gael Varoquaux <gael.varoquaux@normalesup.org>\n",
    "# Copyright (c) 2008, Enthought, Inc.\n",
    "# License: BSD Style.\n",
    "\n",
    "\n",
    "from mayavi import mlab\n",
    "import numpy as np\n",
    "\n",
    "# ogridはちょっと変わった関数(?)です。以下の例では、xとyにはどちらも500x500の2次元のarrayが入りますが、\n",
    "# xには、行方向には-1.5から0.5まで変化し、列方向には同じ数が入ります。\n",
    "# yには、行方向には同じ数が、列方向には-1から1までの数が入ります。\n",
    "x, y = np.ogrid[-1.5:0.5:500j, -1:1:500j]\n",
    "# 1jは虚数単位(数学のi)です。zには、複素平面上の、各格子点の値が複素数で入ります。\n",
    "z = x + 1j * y\n",
    "\n",
    "#juliaは、zと同じ形の2次元arrayで、その値はすべて0です。\n",
    "julia = np.zeros(z.shape)\n",
    "\n",
    "# 以下の計算をしばらく繰り返す。\n",
    "for i in range(50):\n",
    "    # numpy arrayに対する四則演算をすると、各要素について独立に計算が行われます。\n",
    "    # 複素平面の格子点の値を二乗し、定数を差し引きます。\n",
    "    # この計算をするたびに、zは複素平面上をとびまわりますが、\n",
    "    # zの初期値によって、発散するか収束するかが変わります。\n",
    "    z = z ** 2 - 0.70176 - 0.3842j\n",
    "    # juliaには、発散に至るまでの繰り返し回数(の逆数)が入ります。\n",
    "    julia += 1 / float(2 + i) * (z * np.conj(z) > 4)\n",
    "\n",
    "# あとは表示するだけ。\n",
    "# Display it\n",
    "mlab.figure(size=(400, 300))\n",
    "mlab.surf(julia, colormap='gist_earth', warp_scale='auto', vmax=1.5)\n",
    "\n",
    "# A view into the \"Canyon\"\n",
    "mlab.view(65, 27, 322, [30., -13.7,  136])\n",
    "mlab.show()"
   ]
  },
  {
   "cell_type": "markdown",
   "metadata": {},
   "source": [
    "できました。\n",
    "\n",
    "Here is also a Mandelbrot set.\n",
    "\n",
    "[Julia setとMandelbrot setの違い](https://codezine.jp/article/detail/310)"
   ]
  },
  {
   "cell_type": "code",
   "execution_count": null,
   "metadata": {
    "collapsed": false
   },
   "outputs": [],
   "source": [
    "# Author: Gael Varoquaux <gael.varoquaux@normalesup.org>\n",
    "# Copyright (c) 2008, Enthought, Inc.\n",
    "# License: BSD Style.\n",
    "\n",
    "\n",
    "from mayavi import mlab\n",
    "import numpy as np\n",
    "\n",
    "# Calculate the Julia set on a grid\n",
    "x, y = np.ogrid[-1.5:0.5:500j, -1:1:500j]\n",
    "C = x + 1j * y\n",
    "\n",
    "z = np.zeros(z.shape)\n",
    "mb = np.zeros(z.shape)\n",
    "\n",
    "for i in range(50):\n",
    "    z = z ** 2 + C\n",
    "    mb += 1.0 / float(2 + i) * (z * np.conj(z) > 4)\n",
    "\n",
    "# Display it\n",
    "mlab.figure(size=(400, 300))\n",
    "mlab.surf(mb, colormap='gist_earth', warp_scale='auto', vmax=1.5)\n",
    "\n",
    "# A view into the \"Canyon\"\n",
    "mlab.view(65, 27, 322, [30., -13.7,  136])\n",
    "mlab.show()"
   ]
  },
  {
   "cell_type": "markdown",
   "metadata": {},
   "source": [
    "## 散布図の例 / Plotting a scattering graph\n",
    "`points3d()`を使えば、任意の位置に点(球)を置くことができます。下の例では、x,y,z座標と、その位置での値sをそれぞれnumpy arrayで作成して与えています。points3d関数は、sの値を球の大きさと色合いに変換しています。\n",
    "\n",
    "`points3d()` puts spherical markers at the specified points given by arrays.  In the following example, the spatial strength of the data s is indicated with the sphere radius."
   ]
  },
  {
   "cell_type": "code",
   "execution_count": null,
   "metadata": {
    "collapsed": false
   },
   "outputs": [],
   "source": [
    "import numpy\n",
    "from mayavi import mlab\n",
    "from math import pi\n",
    "\n",
    "def test_points3d():\n",
    "    t = numpy.linspace(0, 4 * pi, 20)\n",
    "\n",
    "    x = numpy.sin(2 * t)\n",
    "    y = numpy.cos(t)\n",
    "    z = numpy.cos(2 * t)\n",
    "    s = 2 + numpy.sin(t)\n",
    "\n",
    "    return mlab.points3d(x, y, z, s, colormap=\"copper\", scale_factor=.25)\n",
    "\n",
    "test_points3d()\n",
    "mlab.show()"
   ]
  },
  {
   "cell_type": "markdown",
   "metadata": {},
   "source": [
    "## 立体線図の例 / Line-plotting in 3D\n",
    "点の代わりに線でつなぐこともできます。上のプログラムの、points3dをplot3dに書きかえるだけです。\n",
    "\n",
    "Here the data are connected with line segments using `plot3d()` instead of `points3d()`."
   ]
  },
  {
   "cell_type": "code",
   "execution_count": null,
   "metadata": {
    "collapsed": true
   },
   "outputs": [],
   "source": [
    "import numpy\n",
    "from mayavi import mlab\n",
    "\n",
    "def test_points3d():\n",
    "    t = numpy.linspace(0, 4 * pi, 20)\n",
    "\n",
    "    x = numpy.sin(2 * t)\n",
    "    y = numpy.cos(t)\n",
    "    z = numpy.cos(2 * t)\n",
    "    s = 2 + numpy.sin(t)\n",
    "\n",
    "    return mlab.plot3d(x, y, z, s, tube_radius=0.25, colormap='Spectral')\n",
    "\n",
    "test_points3d()\n",
    "mlab.show()"
   ]
  },
  {
   "cell_type": "markdown",
   "metadata": {},
   "source": [
    "## 立体を描く / Drawing a molecule\n",
    "棒と球が描けるということは、分子模型を描けるということです。次の例では、ダイヤモンド構造を描きます。\n",
    "\n",
    "Since we can draw the spheres and cylinders, we can also draw a molecular model.  Here a diamond crystal is drawn with Mayavi."
   ]
  },
  {
   "cell_type": "code",
   "execution_count": null,
   "metadata": {
    "collapsed": false
   },
   "outputs": [],
   "source": [
    "import numpy\n",
    "from mayavi import mlab\n",
    "\n",
    "SCL = [[x,y,z] for x in (0,4) for y in (0,4) for z in (0,4)]\n",
    "print(SCL)\n",
    "FCC = SCL.copy()\n",
    "\n",
    "# slide toward (2,2,0)\n",
    "for x,y,z in SCL:\n",
    "    x += 2\n",
    "    y += 2\n",
    "    if x < 4 and y < 4:\n",
    "        FCC.append([x,y,z])\n",
    "for x,y,z in SCL:\n",
    "    y += 2\n",
    "    z += 2\n",
    "    if y < 4 and z < 4:\n",
    "        FCC.append([x,y,z])\n",
    "for x,y,z in SCL:\n",
    "    z += 2\n",
    "    x += 2\n",
    "    if z < 4 and x < 4:\n",
    "        FCC.append([x,y,z])\n",
    "print(FCC)\n",
    "DIA = FCC.copy()\n",
    "# slide toward (1,1,1)\n",
    "for x,y,z in FCC:\n",
    "    x += 1\n",
    "    y += 1\n",
    "    z += 1\n",
    "    if x < 4 and y < 4 and z < 4:\n",
    "        DIA.append([x,y,z])\n",
    "print(DIA)\n",
    "\n",
    "DIA = numpy.array(DIA) * 10\n",
    "s = numpy.ones_like(DIA[:,0])\n",
    "print(s)\n",
    "mlab.points3d(DIA[:,0], DIA[:,1], DIA[:,2], s, scale_factor=10)\n",
    "\n",
    "#make bonds between adjacent atoms\n",
    "N = DIA.shape[0]\n",
    "for i in range(N):\n",
    "    for j in range(i):\n",
    "        p1 = DIA[i]\n",
    "        p2 = DIA[j]\n",
    "        d = p1 - p2\n",
    "        if numpy.dot(d,d) <= 310:\n",
    "            # plot a short line segment\n",
    "            x = [p1[0],p2[0]]\n",
    "            y = [p1[1],p2[1]]\n",
    "            z = [p1[2],p2[2]]\n",
    "            mlab.plot3d(x,y,z, tube_radius=3, line_width=10)\n",
    "\n",
    "mlab.show()"
   ]
  },
  {
   "cell_type": "markdown",
   "metadata": {},
   "source": [
    "単に球と棒を描く手段としては、ちょっと面倒くさい気もしますね。「ハンマーしかもたない人には、すべてが釘に見える」のことわざの通り、もっと良いツールをさがしましょう。\n",
    "\n",
    "Note that this is NOT the best way to draw the molecular model. \"If all you have is a hammer, Everything looks like a nail.\" Look for the best way for your purpose."
   ]
  },
  {
   "cell_type": "markdown",
   "metadata": {},
   "source": [
    "## 三次元の等高面を描く\n",
    "二次元の定義域に対する関数は、三次元のグラフ=立体グラフや等高線で表現できます。では、三次元に分布する関数はどうやって表現するか。等高面を描けば良いのです。\n",
    "\n",
    "下の例では、11x11x11点の3次元arrayに、それぞれ数値が入っているものを、空間の数値分布とみなして、等高面で表現します。\n",
    "\n",
    "The function of two variables can be drawn by a surface plot or a contour plot. (cf. van der Waals equation)\n",
    "In the same manner, the function of three variables can be drawn by three-dimensional contour surfaces.\n",
    "\n",
    "In the following example, a 11x11x11 grid data is regarded as the volumetric distribution of values and expressed with contour surfaces."
   ]
  },
  {
   "cell_type": "code",
   "execution_count": null,
   "metadata": {
    "collapsed": false
   },
   "outputs": [],
   "source": [
    "import numpy\n",
    "from mayavi import mlab\n",
    "\n",
    "def test_contour3d():\n",
    "    grid = numpy.zeros((11,11,11))\n",
    "    for x in range(11):\n",
    "        for y in range(11):\n",
    "            for z in range(11):\n",
    "                # noise [0.0, 1.0) is added\n",
    "                grid[x,y,z] = (x-5)**2 + (y-2)**2 + 2*(z-5)**2\n",
    "    obj = mlab.contour3d(grid, contours=10, transparent=False)\n",
    "    return obj\n",
    "\n",
    "test_contour3d()\n",
    "mlab.show()"
   ]
  },
  {
   "cell_type": "markdown",
   "metadata": {},
   "source": [
    "これも、よりnumpyらしく書くと次のようになります。\n",
    "\n",
    "In more numpy-ish way,"
   ]
  },
  {
   "cell_type": "code",
   "execution_count": 23,
   "metadata": {
    "collapsed": false
   },
   "outputs": [],
   "source": [
    "import numpy\n",
    "from mayavi import mlab\n",
    "import random\n",
    "\n",
    "def test_contour3d():\n",
    "    x,y,z = numpy.ogrid[-5:5:11j,-2:8:11j,-5:5:11j]\n",
    "    grid = x**2 + y**2 + 2*z**2\n",
    "    obj = mlab.contour3d(grid, contours=10, transparent=False)\n",
    "    return obj\n",
    "\n",
    "test_contour3d()\n",
    "mlab.show()"
   ]
  },
  {
   "cell_type": "markdown",
   "metadata": {},
   "source": [
    "次のプログラムは松本が作った実例です。基本的には、小さな三角形に分解してしまえれば、どんな形でも表示できます。\n",
    "\n",
    "The last example was written by Matsumoto.  In this exmaple, the object is divided into many triangles and are drawn with Mayavi."
   ]
  },
  {
   "cell_type": "code",
   "execution_count": 24,
   "metadata": {
    "collapsed": true
   },
   "outputs": [],
   "source": [
    "import numpy as np\n",
    "from mayavi.mlab import *\n",
    "import colorsys\n",
    "\n",
    "\n",
    "\n",
    "def tangents(x,y,z):\n",
    "    v = np.array([x,y,z]).transpose()\n",
    "    v0 = v[0:v.shape[0]-2]\n",
    "    v1 = v[2:]\n",
    "    dv = v1 - v0\n",
    "    tangent = np.zeros_like(v)\n",
    "    for i in range(dv.shape[0]):\n",
    "        tangent[i+1] = dv[i] / np.linalg.norm(dv[i])\n",
    "    tangent[0] = tangent[1]\n",
    "    tangent[-1] = tangent[-2]\n",
    "    return tangent\n",
    "\n",
    "def normals(x,y,z):\n",
    "    v = np.array([x,y,z]).transpose()\n",
    "    v0 = v[0:v.shape[0]-1]\n",
    "    v1 = v[1:]\n",
    "    dv = v1 - v0\n",
    "    dv0 = dv[0:dv.shape[0]-1]\n",
    "    dv1 = dv[1:]\n",
    "    n0 = np.cross(dv0,dv1)\n",
    "    n1 = np.zeros_like(v)\n",
    "    for i in range(n0.shape[0]):\n",
    "        n1[i+1] = n0[i] / np.linalg.norm(n0[i])\n",
    "    n1[0] = n1[1]\n",
    "    n1[-1] = n1[-2]\n",
    "    return n1\n",
    "\n",
    "\n",
    "def ribbon(x,y,z,width,twist, arrow_rows=0, arrow_expansion=1.0):\n",
    "    norm = normals(x,y,z)\n",
    "    tang = tangents(x,y,z)\n",
    "    v3   = np.cross(norm,tang)\n",
    "    #plot3d(x,y,z)\n",
    "    v = np.array([x,y,z]).transpose()\n",
    "    sine   = np.sin(twist)\n",
    "    cosine = np.cos(twist)\n",
    "    direction = np.zeros_like(v)\n",
    "    for i in range(v.shape[0]):\n",
    "        direction[i] = width[i]*(cosine[i]*norm[i,:] + sine[i]*v3[i,:])\n",
    "    ps = []\n",
    "    qs = []\n",
    "    for i in range(v.shape[0]):\n",
    "        j = v.shape[0] - i - 1\n",
    "        if j <= arrow_rows and arrow_rows != 0:\n",
    "            arrow = arrow_expansion*j/arrow_rows\n",
    "        else:\n",
    "            arrow = 1\n",
    "        p = v[i]-direction[i]*arrow/2\n",
    "        q = v[i]+direction[i]*arrow/2\n",
    "        ps.append(p)\n",
    "        qs.append(q)\n",
    "    qs.reverse()\n",
    "    pq = ps + qs\n",
    "    \n",
    "    triplets = []\n",
    "    for p in range(v.shape[0]-1):\n",
    "        q = v.shape[0]*2 - p - 1\n",
    "        triplets.append([p,p+1,q])\n",
    "        triplets.append([p+1,q-1,q])\n",
    "    xx,yy,zz = np.array(pq).transpose()\n",
    "    return xx,yy,zz,triplets\n",
    "        \n",
    "        #xx,yy,zz = np.array([p,q]).transpose()\n",
    "        #plot3d(xx,yy,zz)\n",
    "\n",
    "\n",
    "def spiral_tower(r,h,n):\n",
    "    \"\"\"Generates a pretty set of lines.\"\"\"\n",
    "    t = np.arange(0.0, 6.0, 0.001)\n",
    "    pi = np.pi\n",
    "    mu = t*pi*1\n",
    "    twist = t*0-0.3 #pi*0.2\n",
    "    width = t*0+0.1\n",
    "    z = t - 3\n",
    "    thick = np.exp(-t/3)\n",
    "    thick[0] = 0\n",
    "    for i in range(n):\n",
    "        x = np.cos(mu+2*pi*i/n) * (r/(t+0.3) - 0.12)\n",
    "        y = np.sin(mu+2*pi*i/n) * (r/(t+0.3) - 0.12)\n",
    "        tx,ty,tz,ta = ribbon(x,y,z,thick,twist,arrow_rows=600,arrow_expansion=2.0)\n",
    "        plot3d(tx,ty,tz)\n",
    "        h = float(i)/n + 0.3\n",
    "        if h > 1:\n",
    "            h -= 1\n",
    "        l = triangular_mesh(tx, ty, tz, ta, color=colorsys.hsv_to_rgb(h,1,1))\n",
    "    return l\n",
    "\n",
    "clf()\n",
    "spiral_tower(1,1,6)\n",
    "#points3d(0,0,60,1,color=(1,1,1))\n",
    "#test_points3d()\n",
    "mlab.show()"
   ]
  },
  {
   "cell_type": "markdown",
   "metadata": {
    "collapsed": true
   },
   "source": [
    "こんな風に、グラフを作るのではなく、単なる立体描画の道具とみなすと、いろいろ面白いことができそうです。"
   ]
  },
  {
   "cell_type": "code",
   "execution_count": null,
   "metadata": {
    "collapsed": true
   },
   "outputs": [],
   "source": []
  }
 ],
 "metadata": {
  "kernelspec": {
   "display_name": "Python 3",
   "language": "python",
   "name": "python3"
  },
  "language_info": {
   "codemirror_mode": {
    "name": "ipython",
    "version": 3
   },
   "file_extension": ".py",
   "mimetype": "text/x-python",
   "name": "python",
   "nbconvert_exporter": "python",
   "pygments_lexer": "ipython3",
   "version": "3.5.3"
  }
 },
 "nbformat": 4,
 "nbformat_minor": 2
}

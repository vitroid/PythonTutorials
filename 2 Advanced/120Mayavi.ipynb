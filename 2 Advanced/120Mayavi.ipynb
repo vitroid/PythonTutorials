{
 "cells": [
  {
   "cell_type": "markdown",
   "metadata": {},
   "source": [
    "# AnacondaでMayaviを使う方法 / How to use Mayavi in Anaconda\n",
    "\n",
    "1. Anaconda Navigatorで左メニューのEnvironmentsを押し、Create+を押して、Mayaviという名前の新しい環境を作る。環境とは、Pythonライブラリ(パッケージ)を集めたもの。標準はroot環境だが、mayaviは最新環境(3.6)では動かないので、Python3.5を選択する。\n",
    "2. 最初は最小限(10個)のパッケージしか含まれていない。\n",
    "2. Mayaviの緑の三角\">\"を押してOpen Terminalするとターミナルが開く。\n",
    "3. その中で、OpenCVに必要なものをインストールする。\n",
    "       conda install -c menpo mayavi=4.5.0\n",
    "       conda install -c conda-forge pyside=1.2.4\n",
    "   これにより、新しい環境(Python3.5, Mayavi入り)の準備ができた。今後、また別の開発環境が欲しくなった時も同じ手順を踏む。\n",
    "5. Anaconda Navigatorに戻り、左メニュー「Home」でアプリ起動画面を表示する。「Applications on」でrootの代わりにMayaviを選ぶと、使えるアプリケーションが更新される。これらのアプリケーションすべてで、Mayaviが利用できる。\n",
    "\n",
    "\n",
    "1. Press \"Environments\" in the left menu of the Anaconda Navigator, press \"Create[+]\" button at the bottom, and make a new environment of Python version 3.5 with a new name \"mayavi\".  An environment is a collection of packages (libraries).  The standard environment is named \"root\" and is working on Python version 3.6, but Mayavi library work on Python version 3.5 only, so we prepare another environment.\n",
    "2. Initially, only 10 packages are included in the Mayavi environment.\n",
    "3. Press the green triangle at \"Mayavi\" and select \"Open Terminal\".\n",
    "4. In the terminal, type the following command to install the packages required to Mayavi.\n",
    "        conda install -c menpo mayavi=4.5.0\n",
    "        conda install -c conda-forge pyside=1.2.4\n",
    "5. Back to Anaconda Navigator, press \"Home\" in the left menu to go back the home screen, and select \"mayavi\" in the \"Applications on\" selector.  It refreshes the menu item of the Navigator.  You can now use Mayavi in Jupyter and spyder.\n",
    "\n",
    "### Notes\n",
    "\n",
    "* https://anaconda.org/menpo/mayavi\n",
    "* https://github.com/enthought/mayavi/issues/483"
   ]
  },
  {
   "cell_type": "markdown",
   "metadata": {},
   "source": [
    "Mayaviは三次元グラフを描くためのライブラリです。\n",
    "\n",
    "非常に美しく描いてくれるので、単にグラフを描くだけでなく、3Dグラフィックス(分子模型など)の表示にも活用できそうです。"
   ]
  },
  {
   "cell_type": "markdown",
   "metadata": {},
   "source": [
    "動作確認のためのサンプル1。\n",
    "http://docs.enthought.com/mayavi/mayavi/auto/example_surface_from_irregular_data.html からコピーしました。"
   ]
  },
  {
   "cell_type": "code",
   "execution_count": 1,
   "metadata": {
    "collapsed": true
   },
   "outputs": [],
   "source": [
    "# Author: Gael Varoquaux <gael.varoquaux@normalesup.org>\n",
    "# Copyright (c) 2009, Enthought, Inc.\n",
    "# License: BSD Style.\n",
    "\n",
    "import numpy as np\n",
    "\n",
    "# Create data with x and y random in the [-2, 2] segment, and z a\n",
    "# Gaussian function of x and y.\n",
    "np.random.seed(12345)\n",
    "x = 4 * (np.random.random(500) - 0.5)\n",
    "y = 4 * (np.random.random(500) - 0.5)\n",
    "\n",
    "\n",
    "def f(x, y):\n",
    "    return np.exp(-(x ** 2 + y ** 2))\n",
    "\n",
    "z = f(x, y)\n",
    "\n",
    "from mayavi import mlab\n",
    "mlab.figure(1, fgcolor=(0, 0, 0), bgcolor=(1, 1, 1))\n",
    "\n",
    "# Visualize the points\n",
    "pts = mlab.points3d(x, y, z, z, scale_mode='none', scale_factor=0.2)\n",
    "\n",
    "# Create and visualize the mesh\n",
    "mesh = mlab.pipeline.delaunay2d(pts)\n",
    "surf = mlab.pipeline.surface(mesh)\n",
    "\n",
    "mlab.show()"
   ]
  },
  {
   "cell_type": "markdown",
   "metadata": {},
   "source": [
    "もう一つのサンプル。Mayaviのサンプルは、[ここ](http://docs.enthought.com/mayavi/mayavi/auto/examples.html)からたくさん入手できます。ざっと見れば、どんなことができるツールかわかってもらえると思います。"
   ]
  },
  {
   "cell_type": "code",
   "execution_count": 2,
   "metadata": {
    "collapsed": true
   },
   "outputs": [],
   "source": [
    "import numpy\n",
    "from mayavi.mlab import *\n",
    "\n",
    "def test_barchart():\n",
    "    \"\"\" Demo the bar chart plot with a 2D array.\n",
    "    \"\"\"\n",
    "    s = numpy.abs(numpy.random.random((3, 3)))\n",
    "    return barchart(s)\n",
    "\n",
    "test_barchart()\n",
    "mlab.show()"
   ]
  },
  {
   "cell_type": "code",
   "execution_count": 1,
   "metadata": {},
   "outputs": [
    {
     "name": "stdout",
     "output_type": "stream",
     "text": [
      "Saving as a vector PS/EPS/PDF/TeX file using GL2PS is either not supported by your version of VTK or you have not configured VTK to work with GL2PS -- read the documentation for the vtkGL2PSExporter class.\n",
      "Saving as a vector PS/EPS/PDF/TeX file using GL2PS is either not supported by your version of VTK or you have not configured VTK to work with GL2PS -- read the documentation for the vtkGL2PSExporter class.\n",
      "Saving as a vector PS/EPS/PDF/TeX file using GL2PS is either not supported by your version of VTK or you have not configured VTK to work with GL2PS -- read the documentation for the vtkGL2PSExporter class.\n"
     ]
    }
   ],
   "source": [
    "import numpy\n",
    "from mayavi.mlab import *\n",
    "from mayavi import mlab\n",
    "\n",
    "\n",
    "def test_quiver3d(): #quiverとは鏃(やじり)のこと\n",
    "    x, y, z = numpy.mgrid[-2:3, -2:3, -2:3]\n",
    "    r = numpy.sqrt(x ** 2 + y ** 2 + z ** 4)\n",
    "    u = y * numpy.sin(r) / (r + 0.001)\n",
    "    v = -x * numpy.sin(r) / (r + 0.001)\n",
    "    w = numpy.zeros_like(z)\n",
    "    obj = quiver3d(x, y, z, u, v, w, line_width=3, scale_factor=1)\n",
    "    return obj\n",
    "\n",
    "test_quiver3d()\n",
    "mlab.show()"
   ]
  },
  {
   "cell_type": "markdown",
   "metadata": {},
   "source": [
    "作画自体はPythonですからそれほど速くはありませんが、一旦3Dに変換されたあとは、マウスでぐるぐる回して観察できます。また、ウィンドウから画像(PNG)を生成できます。"
   ]
  },
  {
   "cell_type": "markdown",
   "metadata": {},
   "source": [
    "## グリッドデータのプロットの例\n",
    "三次元のグラフを作ります。2次元のリストに単に数値を並べ、それをbarchartに与えると、立体棒グラフで表示してくれます。"
   ]
  },
  {
   "cell_type": "code",
   "execution_count": 3,
   "metadata": {},
   "outputs": [],
   "source": [
    "from mayavi.mlab import *\n",
    "\n",
    "data = [[1,2,3,4],[2,3,4,5],[7,6,5,4],[8,7,6,5]]\n",
    "barchart(data)\n",
    "mlab.show()"
   ]
  },
  {
   "cell_type": "markdown",
   "metadata": {},
   "source": [
    "もちろん、numpyのarrayも使えます。以下の例では、van der Waals状態方程式(Sympyでp=の形に変形した式を使います)をプロットします。"
   ]
  },
  {
   "cell_type": "code",
   "execution_count": 30,
   "metadata": {},
   "outputs": [],
   "source": [
    "import numpy\n",
    "from mayavi.mlab import *\n",
    "\n",
    "\n",
    "# p = (T*V**2*k - V*a + a*b)/(V**2*(V - b))\n",
    "p = numpy.zeros((100,100))  #100x100の空の行列を準備する。\n",
    "\n",
    "k = 8.314\n",
    "a = 20000\n",
    "b = 10\n",
    "for i in range(100):\n",
    "    T = float(i+20)\n",
    "    for j in range(100):\n",
    "        V = float(j+b+1)\n",
    "        p[i,j] = (T*V**2*k - V*a + a*b)/(V**2*(V - b))\n",
    "barchart(p)\n",
    "mlab.show()"
   ]
  },
  {
   "cell_type": "markdown",
   "metadata": {},
   "source": [
    "## 散布図の例\n",
    "`points3d()`を使えば、任意の位置に点(球)を置くことができます。下の例では、x,y,z座標と、その位置での値sをそれぞれnumpy arrayで作成して与えています。points3d関数は、sの値を球の大きさと色合いに変換しています。"
   ]
  },
  {
   "cell_type": "code",
   "execution_count": 43,
   "metadata": {},
   "outputs": [],
   "source": [
    "from numpy import *\n",
    "from mayavi.mlab import *\n",
    "\n",
    "def test_points3d():\n",
    "    t = linspace(0, 4 * pi, 20)\n",
    "\n",
    "    x = sin(2 * t)\n",
    "    y = cos(t)\n",
    "    z = cos(2 * t)\n",
    "    s = 2 + sin(t)\n",
    "\n",
    "    return points3d(x, y, z, s, colormap=\"copper\", scale_factor=.25)\n",
    "\n",
    "test_points3d()\n",
    "mlab.show()"
   ]
  },
  {
   "cell_type": "markdown",
   "metadata": {},
   "source": [
    "## 立体線図の例\n",
    "点の代わりに線でつなぐこともできます。上のプログラムの、points3dをplot3dに書きかえるだけです。"
   ]
  },
  {
   "cell_type": "code",
   "execution_count": null,
   "metadata": {
    "collapsed": true
   },
   "outputs": [],
   "source": [
    "from numpy import *\n",
    "from mayavi.mlab import *\n",
    "\n",
    "def test_points3d():\n",
    "    t = linspace(0, 4 * pi, 20)\n",
    "\n",
    "    x = sin(2 * t)\n",
    "    y = cos(t)\n",
    "    z = cos(2 * t)\n",
    "    s = 2 + sin(t)\n",
    "\n",
    "    return plot3d(x, y, z, s, tube_radius=0.025, colormap='Spectral')\n",
    "\n",
    "test_points3d()\n",
    "mlab.show()"
   ]
  },
  {
   "cell_type": "markdown",
   "metadata": {},
   "source": [
    "## 立体を描く\n",
    "棒と球が描けるということは、分子模型を描けるということです。次の例では、ダイヤモンド構造を描きます。"
   ]
  },
  {
   "cell_type": "code",
   "execution_count": null,
   "metadata": {},
   "outputs": [
    {
     "name": "stdout",
     "output_type": "stream",
     "text": [
      "[[0, 0, 0], [0, 0, 4], [0, 4, 0], [0, 4, 4], [4, 0, 0], [4, 0, 4], [4, 4, 0], [4, 4, 4]]\n",
      "[[0, 0, 0], [0, 0, 4], [0, 4, 0], [0, 4, 4], [4, 0, 0], [4, 0, 4], [4, 4, 0], [4, 4, 4], [2, 2, 0], [2, 2, 4], [0, 2, 2], [4, 2, 2], [2, 0, 2], [2, 4, 2]]\n",
      "[[0, 0, 0], [0, 0, 4], [0, 4, 0], [0, 4, 4], [4, 0, 0], [4, 0, 4], [4, 4, 0], [4, 4, 4], [2, 2, 0], [2, 2, 4], [0, 2, 2], [4, 2, 2], [2, 0, 2], [2, 4, 2], [1, 1, 1], [3, 3, 1], [1, 3, 3], [3, 1, 3]]\n",
      "[1 1 1 1 1 1 1 1 1 1 1 1 1 1 1 1 1 1]\n"
     ]
    }
   ],
   "source": [
    "from numpy import *\n",
    "from mayavi.mlab import *\n",
    "\n",
    "SCL = [[x,y,z] for x in (0,4) for y in (0,4) for z in (0,4)]\n",
    "print(SCL)\n",
    "FCC = SCL.copy()\n",
    "\n",
    "# slide toward (2,2,0)\n",
    "for x,y,z in SCL:\n",
    "    x += 2\n",
    "    y += 2\n",
    "    if x < 4 and y < 4:\n",
    "        FCC.append([x,y,z])\n",
    "for x,y,z in SCL:\n",
    "    y += 2\n",
    "    z += 2\n",
    "    if y < 4 and z < 4:\n",
    "        FCC.append([x,y,z])\n",
    "for x,y,z in SCL:\n",
    "    z += 2\n",
    "    x += 2\n",
    "    if z < 4 and x < 4:\n",
    "        FCC.append([x,y,z])\n",
    "print(FCC)\n",
    "DIA = FCC.copy()\n",
    "# slide toward (1,1,1)\n",
    "for x,y,z in FCC:\n",
    "    x += 1\n",
    "    y += 1\n",
    "    z += 1\n",
    "    if x < 4 and y < 4 and z < 4:\n",
    "        DIA.append([x,y,z])\n",
    "print(DIA)\n",
    "\n",
    "DIA = numpy.array(DIA) * 10\n",
    "s = numpy.ones_like(DIA[:,0])\n",
    "print(s)\n",
    "points3d(DIA[:,0], DIA[:,1], DIA[:,2], s, scale_factor=10)\n",
    "\n",
    "#make bonds between adjacent atoms\n",
    "N = DIA.shape[0]\n",
    "for i in range(N):\n",
    "    for j in range(i):\n",
    "        p1 = DIA[i]\n",
    "        p2 = DIA[j]\n",
    "        d = p1 - p2\n",
    "        if dot(d,d) <= 310:\n",
    "            # plot a short line segment\n",
    "            x = [p1[0],p2[0]]\n",
    "            y = [p1[1],p2[1]]\n",
    "            z = [p1[2],p2[2]]\n",
    "            plot3d(x,y,z, tube_radius=3, line_width=10)\n",
    "\n",
    "mlab.show()"
   ]
  },
  {
   "cell_type": "markdown",
   "metadata": {},
   "source": [
    "単に球と棒を描く手段としては、ちょっと面倒くさい気もしますね。"
   ]
  },
  {
   "cell_type": "markdown",
   "metadata": {},
   "source": [
    "## 三次元の等高面を描く\n",
    "二次元の定義域に対する関数は、三次元のグラフで表現できます。では、三次元に分布する関数はどうやって表現するか。等高面を描けば良いのです。\n"
   ]
  },
  {
   "cell_type": "markdown",
   "metadata": {},
   "source": [
    "## アニメーション\n",
    "アニメーションはいまのところうまく動かせていません。"
   ]
  },
  {
   "cell_type": "code",
   "execution_count": null,
   "metadata": {
    "collapsed": true
   },
   "outputs": [],
   "source": []
  },
  {
   "cell_type": "code",
   "execution_count": 1,
   "metadata": {
    "collapsed": true
   },
   "outputs": [],
   "source": [
    "from mayavi import mlab\n",
    "@mlab.animate\n",
    "def anim():\n",
    "    f = mlab.gcf()\n",
    "    while 1:\n",
    "        f.scene.camera.azimuth(10)\n",
    "        f.scene.render()\n",
    "        yield\n",
    "\n",
    "a = anim() # Starts the animation."
   ]
  },
  {
   "cell_type": "code",
   "execution_count": null,
   "metadata": {},
   "outputs": [],
   "source": [
    "import numpy as np\n",
    "from mayavi import mlab\n",
    "\n",
    "# Produce some nice data.\n",
    "n_mer, n_long = 6, 11\n",
    "pi = np.pi\n",
    "dphi = pi/1000.0\n",
    "phi = np.arange(0.0, 2*pi + 0.5*dphi, dphi, 'd')\n",
    "mu = phi*n_mer\n",
    "x = np.cos(mu)*(1+np.cos(n_long*mu/n_mer)*0.5)\n",
    "y = np.sin(mu)*(1+np.cos(n_long*mu/n_mer)*0.5)\n",
    "z = np.sin(n_long*mu/n_mer)*0.5\n",
    "\n",
    "# View it.\n",
    "l = mlab.plot3d(x, y, z, np.sin(mu), tube_radius=0.025, colormap='Spectral')\n",
    "# Now animate the data.\n",
    "ms = l.mlab_source\n",
    "for i in range(10):\n",
    "    x = np.cos(mu)*(1+np.cos(n_long*mu/n_mer +\n",
    "                                      np.pi*(i+1)/5.)*0.5)\n",
    "    scalars = np.sin(mu + np.pi*(i+1)/5)\n",
    "    ms.set(x=x, scalars=scalars)\n",
    "    mlab.show()\n"
   ]
  },
  {
   "cell_type": "markdown",
   "metadata": {},
   "source": [
    "次のプログラムは松本が作った実例です。"
   ]
  },
  {
   "cell_type": "code",
   "execution_count": 11,
   "metadata": {
    "collapsed": true
   },
   "outputs": [],
   "source": [
    "import numpy as np\n",
    "from mayavi.mlab import *\n",
    "import colorsys\n",
    "\n",
    "\n",
    "\n",
    "def tangents(x,y,z):\n",
    "    v = np.array([x,y,z]).transpose()\n",
    "    v0 = v[0:v.shape[0]-2]\n",
    "    v1 = v[2:]\n",
    "    dv = v1 - v0\n",
    "    tangent = np.zeros_like(v)\n",
    "    for i in range(dv.shape[0]):\n",
    "        tangent[i+1] = dv[i] / np.linalg.norm(dv[i])\n",
    "    tangent[0] = tangent[1]\n",
    "    tangent[-1] = tangent[-2]\n",
    "    return tangent\n",
    "\n",
    "def normals(x,y,z):\n",
    "    v = np.array([x,y,z]).transpose()\n",
    "    v0 = v[0:v.shape[0]-1]\n",
    "    v1 = v[1:]\n",
    "    dv = v1 - v0\n",
    "    dv0 = dv[0:dv.shape[0]-1]\n",
    "    dv1 = dv[1:]\n",
    "    n0 = np.cross(dv0,dv1)\n",
    "    n1 = np.zeros_like(v)\n",
    "    for i in range(n0.shape[0]):\n",
    "        n1[i+1] = n0[i] / np.linalg.norm(n0[i])\n",
    "    n1[0] = n1[1]\n",
    "    n1[-1] = n1[-2]\n",
    "    return n1\n",
    "\n",
    "\n",
    "def ribbon(x,y,z,width,twist, arrow_rows=0, arrow_expansion=1.0):\n",
    "    norm = normals(x,y,z)\n",
    "    tang = tangents(x,y,z)\n",
    "    v3   = np.cross(norm,tang)\n",
    "    #plot3d(x,y,z)\n",
    "    v = np.array([x,y,z]).transpose()\n",
    "    sine   = np.sin(twist)\n",
    "    cosine = np.cos(twist)\n",
    "    direction = np.zeros_like(v)\n",
    "    for i in range(v.shape[0]):\n",
    "        direction[i] = width[i]*(cosine[i]*norm[i,:] + sine[i]*v3[i,:])\n",
    "    ps = []\n",
    "    qs = []\n",
    "    for i in range(v.shape[0]):\n",
    "        j = v.shape[0] - i - 1\n",
    "        if j <= arrow_rows and arrow_rows != 0:\n",
    "            arrow = arrow_expansion*j/arrow_rows\n",
    "        else:\n",
    "            arrow = 1\n",
    "        p = v[i]-direction[i]*arrow/2\n",
    "        q = v[i]+direction[i]*arrow/2\n",
    "        ps.append(p)\n",
    "        qs.append(q)\n",
    "    qs.reverse()\n",
    "    pq = ps + qs\n",
    "    \n",
    "    triplets = []\n",
    "    for p in range(v.shape[0]-1):\n",
    "        q = v.shape[0]*2 - p - 1\n",
    "        triplets.append([p,p+1,q])\n",
    "        triplets.append([p+1,q-1,q])\n",
    "    xx,yy,zz = np.array(pq).transpose()\n",
    "    return xx,yy,zz,triplets\n",
    "        \n",
    "        #xx,yy,zz = np.array([p,q]).transpose()\n",
    "        #plot3d(xx,yy,zz)\n",
    "\n",
    "\n",
    "def spiral_tower(r,h,n):\n",
    "    \"\"\"Generates a pretty set of lines.\"\"\"\n",
    "    t = np.arange(0.0, 6.0, 0.001)\n",
    "    pi = np.pi\n",
    "    mu = t*pi*1\n",
    "    twist = t*0-0.3 #pi*0.2\n",
    "    width = t*0+0.1\n",
    "    z = t - 3\n",
    "    thick = np.exp(-t/3)\n",
    "    thick[0] = 0\n",
    "    for i in range(n):\n",
    "        x = np.cos(mu+2*pi*i/n) * (r/(t+0.3) - 0.12)\n",
    "        y = np.sin(mu+2*pi*i/n) * (r/(t+0.3) - 0.12)\n",
    "        tx,ty,tz,ta = ribbon(x,y,z,thick,twist,arrow_rows=600,arrow_expansion=2.0)\n",
    "        plot3d(tx,ty,tz)\n",
    "        h = float(i)/n + 0.3\n",
    "        if h > 1:\n",
    "            h -= 1\n",
    "        l = triangular_mesh(tx, ty, tz, ta, color=colorsys.hsv_to_rgb(h,1,1))\n",
    "    return l\n",
    "\n",
    "clf()\n",
    "spiral_tower(1,1,6)\n",
    "#points3d(0,0,60,1,color=(1,1,1))\n",
    "#test_points3d()\n",
    "mlab.show()"
   ]
  },
  {
   "cell_type": "code",
   "execution_count": null,
   "metadata": {
    "collapsed": true
   },
   "outputs": [],
   "source": [
    "l"
   ]
  }
 ],
 "metadata": {
  "kernelspec": {
   "display_name": "Python 3",
   "language": "python",
   "name": "python3"
  },
  "language_info": {
   "codemirror_mode": {
    "name": "ipython",
    "version": 3
   },
   "file_extension": ".py",
   "mimetype": "text/x-python",
   "name": "python",
   "nbconvert_exporter": "python",
   "pygments_lexer": "ipython3",
   "version": "3.5.3"
  }
 },
 "nbformat": 4,
 "nbformat_minor": 2
}

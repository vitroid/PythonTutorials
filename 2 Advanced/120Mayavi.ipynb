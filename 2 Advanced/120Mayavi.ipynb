{
 "cells": [
  {
   "cell_type": "markdown",
   "metadata": {},
   "source": [
    "# AnacondaでMayaviを使う方法 / How to use Mayavi in Anaconda\n",
    "\n",
    "\n",
    "\n",
    "1. Anaconda Navigatorで左メニューのEnvironmentsを押し、Create+を押して、Mayaviという名前の新しい環境を作る。環境とは、Pythonライブラリ(パッケージ)を集めたもの。標準はroot環境だが、mayaviは最新環境(3.6)では動かないので、Python3.5を選択する。\n",
    "2. 最初は最小限(10個)のパッケージしか含まれていない。\n",
    "2. Mayaviの緑の三角\">\"を押してOpen Terminalするとターミナルが開く。\n",
    "3. その中で、OpenCVに必要なものをインストールする。\n",
    "       conda install -c menpo mayavi=4.5.0\n",
    "       conda install -c conda-forge pyside=1.2.4\n",
    "   これにより、新しい環境(Python3.5, Mayavi入り)の準備ができた。今後、また別の開発環境が欲しくなった時も同じ手順を踏む。\n",
    "5. Anaconda Navigatorに戻り、左メニュー「Home」でアプリ起動画面を表示する。「Applications on」でrootの代わりにMayaviを選ぶと、使えるアプリケーションが更新される。これらのアプリケーションすべてで、Mayaviが利用できる。\n",
    "\n",
    "\n",
    "1. Press \"Environments\" in the left menu of the Anaconda Navigator, press \"Create[+]\" button at the bottom, and make a new environment of Python version 3.5 with a new name \"mayavi\".  An environment is a collection of packages (libraries).  The standard environment is named \"root\" and is working on Python version 3.6, but Mayavi library work on Python version 3.5 only, so we prepare another environment.\n",
    "2. Initially, only 10 packages are included in the Mayavi environment.\n",
    "3. Press the green triangle at \"Mayavi\" and select \"Open Terminal\".\n",
    "4. In the terminal, type the following command to install the packages required to Mayavi.\n",
    "        conda install -c menpo mayavi=4.5.0\n",
    "        conda install -c conda-forge pyside=1.2.4\n",
    "5. Back to Anaconda Navigator, press \"Home\" in the left menu to go back the home screen, and select \"mayavi\" in the \"Applications on\" selector.  It refreshes the menu item of the Navigator.  You can now use Mayavi in Jupyter and spyder.\n",
    "\n",
    "### Notes\n",
    "\n",
    "* https://anaconda.org/menpo/mayavi\n",
    "* https://github.com/enthought/mayavi/issues/483"
   ]
  },
  {
   "cell_type": "code",
   "execution_count": 1,
   "metadata": {},
   "outputs": [
    {
     "data": {
      "text/plain": [
       "<mayavi.modules.glyph.Glyph at 0x1268ee938>"
      ]
     },
     "execution_count": 1,
     "metadata": {},
     "output_type": "execute_result"
    }
   ],
   "source": [
    "import numpy as np\n",
    "from mayavi.mlab import *\n",
    "import colorsys\n",
    "\n",
    "\n",
    "\n",
    "def tangents(x,y,z):\n",
    "    v = np.array([x,y,z]).transpose()\n",
    "    v0 = v[0:v.shape[0]-2]\n",
    "    v1 = v[2:]\n",
    "    dv = v1 - v0\n",
    "    tangent = np.zeros_like(v)\n",
    "    for i in range(dv.shape[0]):\n",
    "        tangent[i+1] = dv[i] / np.linalg.norm(dv[i])\n",
    "    tangent[0] = tangent[1]\n",
    "    tangent[-1] = tangent[-2]\n",
    "    return tangent\n",
    "\n",
    "def normals(x,y,z):\n",
    "    v = np.array([x,y,z]).transpose()\n",
    "    v0 = v[0:v.shape[0]-1]\n",
    "    v1 = v[1:]\n",
    "    dv = v1 - v0\n",
    "    dv0 = dv[0:dv.shape[0]-1]\n",
    "    dv1 = dv[1:]\n",
    "    n0 = np.cross(dv0,dv1)\n",
    "    print(v0[0:3])\n",
    "    print(v1[0:3])\n",
    "    print(dv[0:3])\n",
    "    print(n0[0:3])\n",
    "    n1 = np.zeros_like(v)\n",
    "    for i in range(n0.shape[0]):\n",
    "        n0size = np.linalg.norm(n0[i])\n",
    "        if n0size < 1e-9:\n",
    "            n1[i+1] = n1[i]\n",
    "        else:\n",
    "            n1[i+1] = n0[i] / np.linalg.norm(n0[i])\n",
    "    n1[0] = n1[1]\n",
    "    n1[-1] = n1[-2]\n",
    "    return n1\n",
    "\n",
    "\n",
    "def ribbon(x,y,z,width,twist, arrow_rows=0, arrow_expansion=1.0):\n",
    "    norm = normals(x,y,z)\n",
    "    tang = tangents(x,y,z)\n",
    "    #print(norm)\n",
    "    v3   = np.cross(norm,tang)\n",
    "    #plot3d(x,y,z)\n",
    "    v = np.array([x,y,z]).transpose()\n",
    "    sine   = np.sin(twist)\n",
    "    cosine = np.cos(twist)\n",
    "    direction = np.zeros_like(v)\n",
    "    for i in range(v.shape[0]):\n",
    "        direction[i] = width[i]*(cosine[i]*norm[i,:] + sine[i]*v3[i,:])\n",
    "    ps = []\n",
    "    qs = []\n",
    "    for i in range(v.shape[0]):\n",
    "        j = v.shape[0] - i - 1\n",
    "        if j <= arrow_rows and arrow_rows != 0:\n",
    "            arrow = arrow_expansion*j/arrow_rows\n",
    "        else:\n",
    "            arrow = 1\n",
    "        p = v[i]-direction[i]*arrow/2\n",
    "        q = v[i]+direction[i]*arrow/2\n",
    "        ps.append(p)\n",
    "        qs.append(q)\n",
    "    qs.reverse()\n",
    "    pq = ps + qs\n",
    "    \n",
    "    triplets = []\n",
    "    for p in range(v.shape[0]-1):\n",
    "        q = v.shape[0]*2 - p - 1\n",
    "        triplets.append([p,p+1,q])\n",
    "        triplets.append([p+1,q-1,q])\n",
    "    xx,yy,zz = np.array(pq).transpose()\n",
    "    return xx,yy,zz,triplets\n",
    "        \n",
    "        #xx,yy,zz = np.array([p,q]).transpose()\n",
    "        #plot3d(xx,yy,zz)\n",
    "\n",
    "\n",
    "def ribbon_arrow():\n",
    "    t = np.arange(-1.0, 2.0, 0.02)\n",
    "    t1 = 0<=t\n",
    "    t2 = t<1\n",
    "    curve = np.logical_and(t1,t2)\n",
    "    pre   = t < 0\n",
    "    post  = t >= 1\n",
    "    twist = np.zeros_like(t)\n",
    "    width = t*0+3\n",
    "    x = np.zeros_like(t)\n",
    "    y = np.zeros_like(t)\n",
    "    z = np.zeros_like(t)\n",
    "    r = 3.0\n",
    "    pi = np.pi\n",
    "    x[curve] = r*np.cos(t[curve]*pi/2)\n",
    "    y[curve] = r*np.sin(t[curve]*pi/2)\n",
    "    z[curve] = r*np.cos(t[curve]*pi)\n",
    "    x[pre]   = r\n",
    "    y[pre]   = t[pre]\n",
    "    z[pre]   = r\n",
    "    z[0]     = r+0.003\n",
    "    x[post]  = -r*(t[post]-1)\n",
    "    y[post]  = r\n",
    "    z[post]  = -r\n",
    "    plot3d(x,y,z)\n",
    "    tx,ty,tz,ta = ribbon(x,y,z,width,twist,arrow_rows=60,arrow_expansion=2.0)\n",
    "#    tx,ty,tz,ta = ribbon(x,y,z,width,twist)\n",
    "    plot3d(tx,ty,tz)\n",
    "    l = triangular_mesh(tx, ty, tz, ta)\n",
    "    return l\n",
    "\n",
    "clf()\n",
    "#ribbon_arrow()\n",
    "#spiral_tower(1,1,4)\n",
    "points3d(0,0,60,1,color=(1,1,1))\n",
    "#test_points3d()"
   ]
  },
  {
   "cell_type": "code",
   "execution_count": 3,
   "metadata": {},
   "outputs": [
    {
     "ename": "ImportError",
     "evalue": "No module named 'pyside'",
     "output_type": "error",
     "traceback": [
      "\u001b[0;31m---------------------------------------------------------------------------\u001b[0m",
      "\u001b[0;31mImportError\u001b[0m                               Traceback (most recent call last)",
      "\u001b[0;32m<ipython-input-3-ee88e45ea3fd>\u001b[0m in \u001b[0;36m<module>\u001b[0;34m()\u001b[0m\n\u001b[0;32m----> 1\u001b[0;31m \u001b[0;32mimport\u001b[0m \u001b[0mpyside\u001b[0m\u001b[0;34m\u001b[0m\u001b[0m\n\u001b[0m",
      "\u001b[0;31mImportError\u001b[0m: No module named 'pyside'"
     ]
    }
   ],
   "source": [
    "import pyside"
   ]
  },
  {
   "cell_type": "code",
   "execution_count": 4,
   "metadata": {},
   "outputs": [
    {
     "data": {
      "text/plain": [
       "<mayavi.modules.vectors.Vectors at 0x1269cde60>"
      ]
     },
     "execution_count": 4,
     "metadata": {},
     "output_type": "execute_result"
    }
   ],
   "source": [
    "import numpy\n",
    "from mayavi.mlab import *\n",
    "\n",
    "def test_barchart():\n",
    "    \"\"\" Demo the bar chart plot with a 2D array.\n",
    "    \"\"\"\n",
    "    s = numpy.abs(numpy.random.random((3, 3)))\n",
    "    return barchart(s)\n",
    "\n",
    "test_barchart()"
   ]
  },
  {
   "cell_type": "code",
   "execution_count": null,
   "metadata": {
    "collapsed": true
   },
   "outputs": [],
   "source": []
  }
 ],
 "metadata": {
  "kernelspec": {
   "display_name": "Python 3",
   "language": "python",
   "name": "python3"
  },
  "language_info": {
   "codemirror_mode": {
    "name": "ipython",
    "version": 3
   },
   "file_extension": ".py",
   "mimetype": "text/x-python",
   "name": "python",
   "nbconvert_exporter": "python",
   "pygments_lexer": "ipython3",
   "version": "3.5.3"
  }
 },
 "nbformat": 4,
 "nbformat_minor": 2
}

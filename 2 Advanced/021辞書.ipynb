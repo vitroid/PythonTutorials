{
 "cells": [
  {
   "cell_type": "markdown",
   "metadata": {},
   "source": [
    "# 辞書\n",
    "リストは、複数のデータを並べて集めたものであると同時に、番号と値を結びつける関数とみなすこともできます。"
   ]
  },
  {
   "cell_type": "code",
   "execution_count": null,
   "metadata": {},
   "outputs": [],
   "source": [
    "a = [3,1,4,1,5,9]\n",
    "print(a[1])\n",
    "print(a[3])"
   ]
  },
  {
   "cell_type": "markdown",
   "metadata": {},
   "source": [
    "値には文字列やリストなど、どんなデータタイプでも選べますが、番号のほうは非負の整数でなければなりません。\n",
    "\n",
    "辞書(dictionary)を使うと、番号に文字列を使うこともできます。"
   ]
  },
  {
   "cell_type": "code",
   "execution_count": null,
   "metadata": {},
   "outputs": [],
   "source": [
    "a = dict()\n",
    "a[\"Matsumoto\"] = \"vitroid@gmail.com\"\n",
    "a[\"Tanaka\"]    = \"htanakaa@okayama-u.ac.jp\"\n",
    "name = input(\"Name?\")\n",
    "print(a[name])"
   ]
  },
  {
   "cell_type": "markdown",
   "metadata": {},
   "source": [
    "辞書のキーには実数でも文字列で何でも使えると書きましたが、実は制約があります。キーは定数でなければなりません。リストは変数(あとから中身をさしかえられる)なので辞書のキーには使えませんが、タプルは定数なので、辞書のキーに使えます。"
   ]
  },
  {
   "cell_type": "code",
   "execution_count": null,
   "metadata": {},
   "outputs": [],
   "source": [
    "a = dict()\n",
    "a[2,3] = 5\n",
    "a[1,2,3] = 6\n",
    "a[[2,3]] = 5     #キーが変数なのでエラー\n",
    "print(a)"
   ]
  },
  {
   "cell_type": "markdown",
   "metadata": {},
   "source": [
    "辞書はデータベースとも言えます。上の場合、\"Matsumoto\"をキー、\"vitroid@gmail.com\"を値と呼びます。辞書を使えば、電話帳が簡単に作れます。\n",
    "\n",
    "上のプログラムでは、存在しない名前を入力するとエラーになってしまうので、辞書にその名前のキーがあるがどうかをin演算子を使って調べます。"
   ]
  },
  {
   "cell_type": "code",
   "execution_count": null,
   "metadata": {},
   "outputs": [],
   "source": [
    "a = dict()\n",
    "a[\"Matsumoto\"] = \"vitroid@gmail.com\"\n",
    "a[\"Tanaka\"]    = \"htanakaa@okayama-u.ac.jp\"\n",
    "while True:\n",
    "    name = input(\"Name?\")\n",
    "    if name == \"\":\n",
    "        print(\"Bye.\")\n",
    "        break\n",
    "    if name in a:\n",
    "        print(a[name])\n",
    "    else:\n",
    "        print(\"Sorry, the name '{0}' is not found in the directory.\".format(name))\n",
    "        email = input(\"Input his/her email address:\")\n",
    "        a[name] = email\n"
   ]
  },
  {
   "cell_type": "markdown",
   "metadata": {},
   "source": [
    "辞書を配列の代わりに使う場合もあります。特に、ほとんどの要素が0であるようなリストは、辞書にしたほうが格段にメモリの無駄がなくなり、処理も速くなります。\n",
    "\n",
    "### リストで書いた例"
   ]
  },
  {
   "cell_type": "code",
   "execution_count": null,
   "metadata": {},
   "outputs": [],
   "source": [
    "import time\n",
    "now = time.time()                   #time.time()関数は現在時刻を秒単位の実数で返す。\n",
    "\n",
    "a = [0 for i in range(10000000)]    #すべての要素が0の、一千万個のリスト。100MB程度のメモリが必要\n",
    "a[0] = 1                            #2つだけ要素を1にする。\n",
    "a[9999999] = 1\n",
    "\n",
    "for i in range(10000000):           #値が1の要素をさがす。一千万回のループ\n",
    "    if a[i] == 1:\n",
    "        print(i)\n",
    "\n",
    "print(time.time()-now,\" sec\")"
   ]
  },
  {
   "cell_type": "markdown",
   "metadata": {},
   "source": [
    "### 辞書で書いた例"
   ]
  },
  {
   "cell_type": "code",
   "execution_count": null,
   "metadata": {},
   "outputs": [],
   "source": [
    "import time\n",
    "now = time.time()                   #time.time()関数は現在時刻を秒単位の実数で返す。\n",
    "\n",
    "a = dict()\n",
    "a[-9999999] = 1                     #2つだけ要素を1にする。\n",
    "a[9999999.9] = 1\n",
    "for i in a:                         #aのキーについて繰り返す。\n",
    "    print(i)\n",
    "\n",
    "print(time.time()-now,\" sec\")"
   ]
  },
  {
   "cell_type": "markdown",
   "metadata": {},
   "source": [
    "辞書のキーは負の整数でも実数でも構いません。使わない要素は0を入れておく必要もないので、メモリも処理も最小限ですみます。"
   ]
  },
  {
   "cell_type": "markdown",
   "metadata": {},
   "source": [
    "## 辞書の使用例\n",
    "「雨ニモマケズ」に含まれる文字の種類と個数を数えてみます。"
   ]
  },
  {
   "cell_type": "code",
   "execution_count": null,
   "metadata": {},
   "outputs": [],
   "source": [
    "file = open(\"雨ニモマケズ.txt\", encoding=\"UTF8\")\n",
    "lettercount = dict()\n",
    "for line in file:\n",
    "    #letters = list(line)             #文字列をリストとみなす\n",
    "    for letter in line:\n",
    "        #すでに辞書にある文字なら\n",
    "        if letter in lettercount:\n",
    "            lettercount[letter] += 1\n",
    "        #辞書にない文字なら初期化する\n",
    "        else:\n",
    "            lettercount[letter] = 1\n",
    "for letter in sorted(lettercount, key=lettercount.get):\n",
    "    print(letter,lettercount[letter])"
   ]
  },
  {
   "cell_type": "markdown",
   "metadata": {},
   "source": [
    "関数をつかって、もっとシンプルに書けます。"
   ]
  },
  {
   "cell_type": "code",
   "execution_count": null,
   "metadata": {},
   "outputs": [],
   "source": [
    "def count_members(s):\n",
    "    count = dict()\n",
    "    for c in s:\n",
    "        if c in count:\n",
    "            count[c] += 1\n",
    "        else:\n",
    "            count[c] = 1\n",
    "    return count\n",
    "\n",
    "file = open(\"雨ニモマケズ.txt\", encoding=\"UTF8\")\n",
    "concat = \"\".join(file)        #全文を1つの文字列につなぐ。\n",
    "lettercount = count_members(concat)\n",
    "for letter in sorted(lettercount):\n",
    "    print(letter,lettercount[letter])"
   ]
  },
  {
   "cell_type": "markdown",
   "metadata": {},
   "source": [
    "連続する2文字の出現頻度を数えます。行末の\"ズ\"、\"ニモ\"、\"アレ\"、\"ッテ\"などが多いことがわかりました。こういった解析で、文章の作者を推測するプロファイリングができるかもしれません。"
   ]
  },
  {
   "cell_type": "code",
   "execution_count": null,
   "metadata": {},
   "outputs": [],
   "source": [
    "file = open(\"雨ニモマケズ.txt\", encoding=\"UTF8\")\n",
    "lettercount = dict()\n",
    "for line in file:\n",
    "    #letters = list(line)             #文字列をリストとみなす\n",
    "    for i in range(len(line)-1):\n",
    "        #2文字のタプルを作る\n",
    "        two = line[i:i+2]\n",
    "        #すでに辞書にある文字なら\n",
    "        if two in lettercount:\n",
    "            lettercount[two] += 1\n",
    "        #辞書にない文字なら初期化する\n",
    "        else:\n",
    "            lettercount[two] = 1\n",
    "for two in sorted(lettercount, key=lettercount.get):\n",
    "    print(two,lettercount[two])"
   ]
  },
  {
   "cell_type": "markdown",
   "metadata": {
    "collapsed": true
   },
   "source": [
    "要素と要素のつながりを辞書で表すことができます。"
   ]
  },
  {
   "cell_type": "code",
   "execution_count": null,
   "metadata": {},
   "outputs": [],
   "source": [
    "link = dict()\n",
    "link[\"A\"] = \"B\"\n",
    "link[\"B\"] = \"C\"\n",
    "link[\"C\"] = \"A\""
   ]
  },
  {
   "cell_type": "markdown",
   "metadata": {},
   "source": [
    "つながりをたどっていくには、次のようにします。"
   ]
  },
  {
   "cell_type": "code",
   "execution_count": null,
   "metadata": {},
   "outputs": [],
   "source": [
    "print(link[link[link[\"A\"]]])"
   ]
  },
  {
   "cell_type": "markdown",
   "metadata": {
    "collapsed": true
   },
   "source": [
    "## 宿題\n",
    "どちらかを選んでプログラムを作成して下さい。"
   ]
  },
  {
   "cell_type": "markdown",
   "metadata": {
    "collapsed": true
   },
   "source": [
    "### 問題1\n",
    "百人一首のリストを読みこんで、決まり字(冒頭の数文字で、それを読めば、つづきが一意的に決まるようなもの)を見付けだすプログラムを書いてみよう。\n",
    "\n",
    "例えば「むらさめの つゆもまだひぬ まきのはに」のように、「む」からはじまる歌は1つしかないので、「む」を聞いただけで、あとの句が特定できるので、この句の決まり字は「む」である。\n",
    "\n",
    "1. 100句のよみがなをfile \"百人一首.txt\" から読みこんで、100要素のリストを作る。ここでは、`readlines()`関数を使うことで、行ごとに分割されたリストが自動的にできあがる。"
   ]
  },
  {
   "cell_type": "code",
   "execution_count": null,
   "metadata": {},
   "outputs": [],
   "source": [
    "lines = open(\"百人一首.txt\").readlines()\n",
    "lines"
   ]
  },
  {
   "cell_type": "markdown",
   "metadata": {
    "collapsed": true
   },
   "source": [
    "2. まず、冒頭の文字何文字を検討するかを決める。とりあえず、1文字を検討することとし、それをnとする。"
   ]
  },
  {
   "cell_type": "code",
   "execution_count": null,
   "metadata": {},
   "outputs": [],
   "source": [
    "n=1"
   ]
  },
  {
   "cell_type": "markdown",
   "metadata": {
    "collapsed": true
   },
   "source": [
    "3. 空の辞書を作る。辞書のキーには決まり字、値にはその決まり字ではじまる句の個数を入れることにする。\n",
    "1. それぞれの句について、\n",
    "    1. 最初のn文字をとりだす。これをheadとする。\n",
    "    1. 辞書のkeyの中に、headがあれば、それに1を加える。なければ、1を入れる。\n",
    "1. すべての辞書のキーについて\n",
    "    1. 値が1であればキーを表示する。"
   ]
  },
  {
   "cell_type": "markdown",
   "metadata": {
    "collapsed": true
   },
   "source": [
    "### 問題2\n",
    "英文sample.txtを読みこみ、その中に出現する単語を抽出して、頻度の高い順に表示するプログラムを書いてみよう。\n",
    "\n",
    "長い文章をファイルから読みこむのは、`readlines()`で読みこんで`join()`で一文につないでしまう。"
   ]
  },
  {
   "cell_type": "code",
   "execution_count": null,
   "metadata": {},
   "outputs": [],
   "source": [
    "a = \"\".join(open(\"sample.txt\").readlines())\n",
    "a"
   ]
  },
  {
   "cell_type": "markdown",
   "metadata": {
    "collapsed": true
   },
   "source": [
    "出現頻度順の単語帳を持っていると、英語に限らず、外国語を勉強する時に非常に効率がよくなる。あなたがこれから読む予定の論文から、まずは単語を全部抽出し、頻度の高い順に並べて、上から順に見ていって、上位の知らない単語をさきに辞書で調べておけば、論文を読みながら辞書を引く必要はほとんどなくなる。\n",
    "\n",
    "単語と単語の切れ目には\",\"、\".\"などの文字が使われる。いろんな区切り文字は一旦ぜんぶ空白におきかえてからsplit()関数で分割する。(もっとスマートにやりたいなら正規表現を勉強する→http://www.diveintopython3.net/regular-expressions.html)"
   ]
  },
  {
   "cell_type": "code",
   "execution_count": null,
   "metadata": {
    "scrolled": true
   },
   "outputs": [],
   "source": [
    "# 例\n",
    "#a=\"This sentence contains commas, semicolons; and periods.\\n\"\n",
    "a = a.replace(';', ' ')\n",
    "a = a.replace('.', ' ')\n",
    "a = a.replace(',', ' ')\n",
    "a = a.replace(':', ' ')\n",
    "a = a.replace('\"', ' ')\n",
    "a = a.replace(\"'\", ' ')\n",
    "print(a)\n",
    "words = a.split()\n",
    "print(words)"
   ]
  },
  {
   "cell_type": "markdown",
   "metadata": {},
   "source": [
    "あとはでてきた単語を辞書wordcountに入れて、上の例とおなじように回数を数える。\n",
    "\n",
    "キー(単語)の順でソートするなら、上のほうでもでてきた通り、"
   ]
  },
  {
   "cell_type": "code",
   "execution_count": null,
   "metadata": {},
   "outputs": [],
   "source": [
    "for key in sorted(wordcount):"
   ]
  },
  {
   "cell_type": "markdown",
   "metadata": {},
   "source": [
    "でいいのだが、出現頻度順でソートする場合には、値でソートしなければいけない。その場合は、次のような書き方を使う。"
   ]
  },
  {
   "cell_type": "code",
   "execution_count": null,
   "metadata": {},
   "outputs": [],
   "source": [
    "for key in sorted(wordcount, key=wordcount.get):"
   ]
  },
  {
   "cell_type": "markdown",
   "metadata": {},
   "source": [
    "英語のNative Speakerにボイスレコーダーをくっつけ、日常に使っている英語のすべてを一週間まるまる録音してから、使ったフレーズを出現頻度順に並べ、上から順番に丸暗記すれば、誰でもNative Speakerの言い回しができるようになると思っている。誰か、外国人向けの促成日本語教材を作ってみてはどうだろう。頻繁に「Majika」とか「Sugee」とか「Yabai」とか言う外国人が促成される気はするが。"
   ]
  }
 ],
 "metadata": {
  "kernelspec": {
   "display_name": "Python 3",
   "language": "python",
   "name": "python3"
  },
  "language_info": {
   "codemirror_mode": {
    "name": "ipython",
    "version": 3
   },
   "file_extension": ".py",
   "mimetype": "text/x-python",
   "name": "python",
   "nbconvert_exporter": "python",
   "pygments_lexer": "ipython3",
   "version": "3.6.5"
  }
 },
 "nbformat": 4,
 "nbformat_minor": 1
}

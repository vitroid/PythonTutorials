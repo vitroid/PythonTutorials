{
  "cells": [
    {
      "cell_type": "markdown",
      "metadata": {
        "colab_type": "text",
        "id": "view-in-github"
      },
      "source": [
        "<a href=\"https://colab.research.google.com/github/vitroid/PythonTutorials/blob/master/2%20Advanced/021%E8%BE%9E%E6%9B%B8.ipynb\" target=\"_parent\"><img src=\"https://colab.research.google.com/assets/colab-badge.svg\" alt=\"Open In Colab\"/></a>"
      ]
    },
    {
      "attachments": {},
      "cell_type": "markdown",
      "metadata": {
        "id": "6P9iFUZDAa9J"
      },
      "source": [
        "# 辞書 / Dictionary (a.k.a hash)\n",
        "\n",
        "リストは、複数のデータを並べて集めたものであると同時に、番号と値を結びつける関数とみなすこともできます。\n",
        "\n",
        "A list can be viewed as a collection of multiple data arranged side by side as well as a function that associates a number with a value."
      ]
    },
    {
      "cell_type": "code",
      "execution_count": null,
      "metadata": {
        "id": "-iIoJnh6Aa9N"
      },
      "outputs": [],
      "source": [
        "a = [3,1,4,1,5,9]\n",
        "print(a[1]) # 1\n",
        "print(a[3]) # 1"
      ]
    },
    {
      "attachments": {},
      "cell_type": "markdown",
      "metadata": {
        "id": "4txiM3jhAa9e"
      },
      "source": [
        "値には文字列やリストなど、どんなデータタイプでも選べますが、番号のほうは非負の整数でなければなりません。\n",
        "\n",
        "これに対し、辞書(dictionary)を使うと、番号に文字列を使うこともできます。\n",
        "\n",
        "The value can be any data type, such as a string or list, but the index must be a non-negative integer.\n",
        "\n",
        "In contrast, using a dictionary, you can also use a string for the index."
      ]
    },
    {
      "cell_type": "code",
      "execution_count": null,
      "metadata": {
        "id": "iGqCelUDAa9k"
      },
      "outputs": [],
      "source": [
        "a = dict()\n",
        "a[\"Matsumoto\"] = \"vitroid@gmail.com\"\n",
        "a[\"Tanaka\"]    = \"htanakaa@okayama-u.ac.jp\"\n",
        "name = input(\"Name?\")\n",
        "print(a[name])"
      ]
    },
    {
      "attachments": {},
      "cell_type": "markdown",
      "metadata": {
        "id": "y5tNu3thAa9s"
      },
      "source": [
        "辞書のキー( `[...]`の中身 )には実数でも文字列で何でも使えると書きましたが、実は制約があります。キーは定数でなければなりません。リストは変数(あとから中身をさしかえられる)なので辞書のキーには使えませんが、タプルは定数なので、辞書のキーに使えます。\n",
        "\n",
        "The dictionary keys ( content in the bracket ) can be any type of contant data such as a real number or a string. A list cannot be used as dictionary keys because they are not constant (whose contents can be added later). Tuples can be used as dictionary keys because they are constants."
      ]
    },
    {
      "cell_type": "code",
      "execution_count": null,
      "metadata": {
        "id": "Mjcg99XkAa9u"
      },
      "outputs": [],
      "source": [
        "a = dict()\n",
        "a[\"四\"] = \"four\" # the key is \"四\" and the value is \"four\"\n",
        "a[2,3] = 5       # same as a[(2,3)]; the key is a tuple\n",
        "a[1,2,3] = 6\n",
        "print(a)"
      ]
    },
    {
      "cell_type": "code",
      "execution_count": null,
      "metadata": {
        "id": "gXMwgZApBNdq"
      },
      "outputs": [],
      "source": [
        "a[[2,3]] = 5     # Causes an error because the disctionary key is non-constant."
      ]
    },
    {
      "attachments": {},
      "cell_type": "markdown",
      "metadata": {
        "id": "N23HuI9YAa92"
      },
      "source": [
        "辞書はデータベースとも言えます。上の場合、\"Matsumoto\"をキー、\"vitroid@gmail.com\"を値と呼びます。辞書を使えば、電話帳が簡単に作れます。\n",
        "\n",
        "上のプログラムでは、存在しない名前を入力するとエラーになってしまうので、辞書にその名前のキーがあるがどうかをin演算子を使って調べます。\n",
        "\n",
        "> Pythonでは、`in`はいくつかの意味で使われるので、すこしまぎらわしい語です。ここのように、`if`文の中にあらわれる`in`は、文字通り、集合体(集合、文字列、リストなど)のなかにその要素が含まれているかを判別する演算子として使われています。一方、`for`文では、inは繰り返しを行う集合体を指定するもので、演算子ではありません。英語の`in`の多義性がそのままプログラム言語に反映されてしまっている、あまり好ましくない例です。\n",
        "\n",
        "A dictionary is also a database. In the above case, \"Matsumoto\" is called the key and \"vitroid@gmail.com\" is called the value. Using dictionaries, it is easy to create a phone book.\n",
        "\n",
        "In the above program, we use the `in` operator to check if there is a key for the name in the dictionary, because entering a name that does not exist will result in an error.\n",
        "\n",
        "> In Python, `in` can be used in several ways, so it can be a bit confusing. As shown here, `in` is used in an `if` statement as an operator to determine whether an element is contained in a set (a set, string, list, etc.). In a `for` statement, on the other hand, in specifies an aggregate to be repeated and is not an operator. This is an unfavorable example of the polysemy of the English word \"in\" that is directly reflected in the programming language."
      ]
    },
    {
      "cell_type": "code",
      "execution_count": null,
      "metadata": {
        "id": "74di9hWRAa92"
      },
      "outputs": [],
      "source": [
        "a = dict()\n",
        "a[\"Matsumoto\"] = \"vitroid@gmail.com\"\n",
        "a[\"Tanaka\"]    = \"htanakaa@okayama-u.ac.jp\"\n",
        "while True:\n",
        "    name = input(\"Name?\")\n",
        "    if name == \"\":\n",
        "        print(\"Bye.\")\n",
        "        break\n",
        "    if name in a:\n",
        "        print(a[name])\n",
        "    else:\n",
        "        print(\"Sorry, the name '{0}' is not found in the directory.\".format(name))\n",
        "        email = input(\"Input his/her email address:\")\n",
        "        a[name] = email\n"
      ]
    },
    {
      "attachments": {},
      "cell_type": "markdown",
      "metadata": {
        "id": "Ij5Ieqx4tLkx"
      },
      "source": [
        "## 初期値を準備する方法 / Initialize a dict\n",
        "\n",
        "あらかじめ、辞書にいろんな情報を入れておきたい場合はいくつもの書き方があります。ここでは、大文字と小文字を対応させる辞書を作ってみます。\n",
        "\n",
        "There are a number of ways to prepare a dictionary if you want to include various information in advance. Here, we will try to create a dictionary that maps uppercase and lowercase letters."
      ]
    },
    {
      "attachments": {},
      "cell_type": "markdown",
      "metadata": {
        "id": "biz1p7zQtdOb"
      },
      "source": [
        "### 1. 単純な書き方 / The simplest"
      ]
    },
    {
      "cell_type": "code",
      "execution_count": null,
      "metadata": {
        "colab": {
          "base_uri": "https://localhost:8080/"
        },
        "id": "K4LTveMFtzP5",
        "outputId": "dd160ab4-4d3e-4449-f425-777034bbd611"
      },
      "outputs": [],
      "source": [
        "D = dict()\n",
        "D[\"A\"] = \"a\"\n",
        "D[\"B\"] = \"b\"\n",
        "# ...\n",
        "\n",
        "D"
      ]
    },
    {
      "attachments": {},
      "cell_type": "markdown",
      "metadata": {
        "id": "iq2Z-hrVtjTV"
      },
      "source": [
        "### 2. `{...}`を使う書き方 / using the curly brackets"
      ]
    },
    {
      "cell_type": "code",
      "execution_count": null,
      "metadata": {
        "colab": {
          "base_uri": "https://localhost:8080/"
        },
        "id": "Y0jPljjvt8_b",
        "outputId": "ba603040-b6d2-4a25-805e-239b723c458e"
      },
      "outputs": [],
      "source": [
        "D = {\"A\": \"a\", \"B\": \"b\"}\n",
        "D"
      ]
    },
    {
      "attachments": {},
      "cell_type": "markdown",
      "metadata": {},
      "source": [
        "### 3. dict()を使う / using dict()\n"
      ]
    },
    {
      "cell_type": "code",
      "execution_count": null,
      "metadata": {},
      "outputs": [],
      "source": [
        "D = dict(A=\"a\", B=\"b\")\n",
        "D"
      ]
    },
    {
      "attachments": {},
      "cell_type": "markdown",
      "metadata": {
        "id": "fgMdgb-DuHII"
      },
      "source": [
        "### 4. 2つのリストを融合する方法 / Combining two lists"
      ]
    },
    {
      "cell_type": "code",
      "execution_count": null,
      "metadata": {
        "colab": {
          "base_uri": "https://localhost:8080/"
        },
        "id": "aDmOtQNBuLVH",
        "outputId": "434a51cf-76b1-418c-fd77-61f95ab5b0d6"
      },
      "outputs": [],
      "source": [
        "caps = [\"A\", \"B\"]\n",
        "small = [\"a\", \"b\"]\n",
        "# zip()は2つのリストをくっつける。\n",
        "for c, s in zip(caps, small):\n",
        "    print(c,s)\n"
      ]
    },
    {
      "cell_type": "code",
      "execution_count": null,
      "metadata": {
        "colab": {
          "base_uri": "https://localhost:8080/"
        },
        "id": "TFy55TururOE",
        "outputId": "f193c89f-3cdd-4140-f08d-728cd78e3fec"
      },
      "outputs": [],
      "source": [
        "D = dict(zip(caps, small))\n",
        "D"
      ]
    },
    {
      "cell_type": "code",
      "execution_count": null,
      "metadata": {
        "colab": {
          "base_uri": "https://localhost:8080/"
        },
        "id": "CLVrPeSYvD_R",
        "outputId": "6ade1d59-f1a5-4dcc-9bf1-dd0467a4f5d1"
      },
      "outputs": [],
      "source": [
        "# 文字列を文字の羅列とみなすことで、こんな書き方もできます。\n",
        "D = dict(zip(\"ABCDEFG\", \"abcdefg\"))\n",
        "D"
      ]
    },
    {
      "attachments": {},
      "cell_type": "markdown",
      "metadata": {
        "id": "NpCN8meZuz0l"
      },
      "source": [
        "### 5. 2つの辞書を融合する方法 / Combining two dicts"
      ]
    },
    {
      "cell_type": "code",
      "execution_count": null,
      "metadata": {
        "colab": {
          "base_uri": "https://localhost:8080/"
        },
        "id": "RTawKUkLu2tP",
        "outputId": "618384fa-0ad6-44bf-8900-087797c0a15e"
      },
      "outputs": [],
      "source": [
        "A = {\"A\": \"a\"}\n",
        "B = {\"B\": \"b\"}\n",
        "D = A | B\n",
        "D"
      ]
    },
    {
      "attachments": {},
      "cell_type": "markdown",
      "metadata": {},
      "source": [
        "### Exercise\n",
        "\n",
        "いずれかの書き方で、すべてのアルファベットの大文字と小文字を対応させる辞書を作って下さい。\n",
        "\n",
        "Use either systax to create a dictionary that maps all uppercase and lowercase letters of the alphabet."
      ]
    },
    {
      "cell_type": "code",
      "execution_count": null,
      "metadata": {},
      "outputs": [],
      "source": []
    },
    {
      "attachments": {},
      "cell_type": "markdown",
      "metadata": {
        "id": "S5UIldJ7Aa-B"
      },
      "source": [
        "辞書を配列の代わりに使う場合もあります。特に、ほとんどの要素が0であるようなリストは、辞書にしたほうが格段にメモリの無駄がなくなり、処理も速くなります。\n",
        "\n",
        "Dictionaries may be used in place of arrays (lists). In particular, for sparse arrays where most of the elements are zeros, it is much less memory-wasting and faster to use a dictionary.\n",
        "\n",
        "### リストで書いた例 / using a list"
      ]
    },
    {
      "cell_type": "code",
      "execution_count": null,
      "metadata": {
        "id": "avmaf7v7Aa-C"
      },
      "outputs": [],
      "source": [
        "import time\n",
        "now = time.time()                   #time.time()関数は現在時刻を秒単位の実数で返す。 time() returns the current time in seconds.\n",
        "\n",
        "a = [0 for i in range(10000000)]    #すべての要素が0の、一千万個のリスト。100MB程度のメモリが必要 A huge list constsing of 10 million items.\n",
        "a[0] = 1                            #2つだけ要素を1にする。 Set a single item to be one.\n",
        "a[9999999] = 1\n",
        "\n",
        "for i in range(10000000):           #値が1の要素をさがす。一千万回のループ Find the element by iteration.\n",
        "    if a[i] == 1:\n",
        "        print(i)\n",
        "\n",
        "print(time.time()-now,\" sec\")"
      ]
    },
    {
      "attachments": {},
      "cell_type": "markdown",
      "metadata": {
        "id": "96OBHAn7Aa-G"
      },
      "source": [
        "### 辞書で書いた例 / using a dict"
      ]
    },
    {
      "cell_type": "code",
      "execution_count": null,
      "metadata": {
        "id": "uTkiSQvyAa-G"
      },
      "outputs": [],
      "source": [
        "#@title\n",
        "import time\n",
        "now = time.time()                   #time.time()関数は現在時刻を秒単位の実数で返す。\n",
        "\n",
        "a = dict()\n",
        "a[-9999999] = 1                     #2つだけ要素を1にする。 Set values of some items to be one.\n",
        "a[9999999.9] = 1\n",
        "for i in a:                         #aのキーについて繰り返す。 Finding the element is trivial.\n",
        "    print(i)\n",
        "\n",
        "print(time.time()-now,\" sec\")"
      ]
    },
    {
      "attachments": {},
      "cell_type": "markdown",
      "metadata": {
        "id": "hYFgda2zAa-K"
      },
      "source": [
        "辞書のキーは負の整数でも実数でも構いません。使わない要素は0を入れておく必要もないので、メモリも処理も最小限ですみます。\n",
        "\n",
        "Keys in the dictionary can be negative integers or real numbers. There is no need to keep unused elements with zeros, so memory and processing are minimal."
      ]
    },
    {
      "attachments": {},
      "cell_type": "markdown",
      "metadata": {
        "id": "EPfvalMIsxhj"
      },
      "source": [
        "## 練習問題 / Exercise\n",
        "\n",
        "1. アルファベットの大文字をキー、小文字を値とする新しい辞書を作り、`D`とする。\n",
        "1. アルファベットの小文字をキー、小文字を値とする新しい辞書を作り、`E`とする。\n",
        "2. `D` と`E`を融合して`F`とする。\n",
        "3. 辞書`F`を使い、大文字と小文字がいりまじった文字列`HelloWorld`をすべて小文字に書きかえる。\n",
        "\n",
        "\n",
        "* \n",
        "\n",
        "1. create a new dictionary `D` with uppercase alphabet as key and lowercase alphabet as value.\n",
        "2. Create a new dictionary `E` whose keys and values are both lower case letters.\n",
        "3. Merge `D` and `E` into a new dict `F`.\n",
        "4. Using the dictionary `F`, rewrite the mixed-case string `HelloWorld` in all lowercase.\n"
      ]
    },
    {
      "cell_type": "code",
      "execution_count": null,
      "metadata": {},
      "outputs": [],
      "source": []
    },
    {
      "attachments": {},
      "cell_type": "markdown",
      "metadata": {
        "id": "0Y08nh9YAa-L"
      },
      "source": [
        "## 辞書の使用例 / Examples\n",
        "「ロミオとジュリエット」に含まれる文字の種類と個数を数えてみます。原文はProject Gutenbergの以下のURLにあります。\n",
        "`https://www.gutenberg.org/ebooks/1513.txt.utf-8`"
      ]
    },
    {
      "cell_type": "code",
      "execution_count": null,
      "metadata": {
        "id": "Uug4SOHnNrpz"
      },
      "outputs": [],
      "source": [
        "import requests as req\n",
        "url = \"https://www.gutenberg.org/ebooks/1513.txt.utf-8\"\n",
        "RJ = req.get(url).text #, encoding='utf-8').text\n",
        "print(RJ)\n"
      ]
    },
    {
      "cell_type": "markdown",
      "metadata": {
        "id": "uXavZZb8GN7m"
      },
      "source": [
        "最初のforループで、1文字ずつ処理します。"
      ]
    },
    {
      "cell_type": "code",
      "execution_count": null,
      "metadata": {
        "id": "jE_Czp0xLw7y"
      },
      "outputs": [],
      "source": [
        "# 空の辞書を準備する。 Empty dict()\n",
        "lettercount = dict()\n",
        "\n",
        "# letterには、RJの文字が1文字ずつ入る。 for every letter in the string RJ\n",
        "for letter in RJ:\n",
        "    if letter not in lettercount:\n",
        "        #辞書にない文字なら初期化する initialize an item if it is not in the dict\n",
        "        lettercount[letter] = 0\n",
        "    # count up\n",
        "    lettercount[letter] += 1\n",
        "\n",
        "# and print\n",
        "for letter in lettercount:\n",
        "    print(letter,lettercount[letter])"
      ]
    },
    {
      "attachments": {},
      "cell_type": "markdown",
      "metadata": {
        "id": "uEBniq0bAa-O"
      },
      "source": [
        "再利用できるように、関数([解説](https://colab.research.google.com/github/vitroid/PythonTutorials/blob/master/2%20Advanced/026関数.ipynb))`count_members`をつくってしまいます。\n",
        "\n",
        "Define a function in order to reuse the procedure."
      ]
    },
    {
      "cell_type": "code",
      "execution_count": null,
      "metadata": {
        "id": "NkwCfdWNAa-P"
      },
      "outputs": [],
      "source": [
        "def count_members(s):\n",
        "    \"\"\"\n",
        "    count number of occurrence of each item in a collection of data s.\n",
        "    \"\"\"\n",
        "    # 空の辞書を準備する。\n",
        "    count = dict()\n",
        "    # cには、sの内容が1文字ずつ入る。\n",
        "    for c in s:\n",
        "        if c not in count:\n",
        "            count[c] = 0\n",
        "        count[c] += 1\n",
        "    # 辞書を、関数の値として返す。\n",
        "    return count\n",
        "\n",
        "lettercount = count_members(RJ)\n",
        "for letter in lettercount:\n",
        "    print(letter,lettercount[letter])"
      ]
    },
    {
      "attachments": {},
      "cell_type": "markdown",
      "metadata": {
        "id": "CzuVE6JKAa-W"
      },
      "source": [
        "文字ではなく単語単位で数えます。 \n",
        "\n",
        "せっかく作った`count_members()`を再利用したいので、まず、記号を除去します。\n",
        "\n",
        "Let us count words instead of letters.\n",
        "\n",
        "To reuse the function, we first remove the symbols and numbers from the text."
      ]
    },
    {
      "cell_type": "code",
      "execution_count": null,
      "metadata": {
        "id": "AXYhC5JLAa-X"
      },
      "outputs": [],
      "source": [
        "RJ2 = \"\"\n",
        "for letter in RJ:\n",
        "    if letter in \"ABCDEFGHIJKLMNOPQRSTUVWXYZabcdefghijklmnopqrstuvwxyz \":\n",
        "        RJ2 += letter\n",
        "    else:\n",
        "        RJ2 += \" \"\n",
        "\n",
        "RJ2\n"
      ]
    },
    {
      "attachments": {},
      "cell_type": "markdown",
      "metadata": {},
      "source": [
        "そして空白で分割します。\n",
        "\n",
        "And divide it at the spaces."
      ]
    },
    {
      "cell_type": "code",
      "execution_count": null,
      "metadata": {},
      "outputs": [],
      "source": [
        "words = RJ2.split()\n",
        "words"
      ]
    },
    {
      "attachments": {},
      "cell_type": "markdown",
      "metadata": {},
      "source": [
        "数えさせます。\n",
        "\n",
        "Count."
      ]
    },
    {
      "cell_type": "code",
      "execution_count": null,
      "metadata": {
        "id": "CWfoS4eEITZM"
      },
      "outputs": [],
      "source": [
        "wordcount = count_members(words)\n",
        "for word in wordcount:\n",
        "    print(word,wordcount[word])"
      ]
    },
    {
      "attachments": {},
      "cell_type": "markdown",
      "metadata": {},
      "source": [
        "わかりにくいので、出現頻度でソートします。\n",
        "\n",
        "Sort it by occurrence frequency."
      ]
    },
    {
      "cell_type": "code",
      "execution_count": null,
      "metadata": {},
      "outputs": [],
      "source": [
        "for word in sorted(wordcount, key=wordcount.get):\n",
        "    print(word,wordcount[word])"
      ]
    },
    {
      "attachments": {},
      "cell_type": "markdown",
      "metadata": {
        "collapsed": true,
        "id": "ZjK4rAaIAa-a"
      },
      "source": [
        "現代では見かけないthou, thee, thyを除けば、知らない語はほとんどありません。また、\"Project\" \"Gutenberg\"がかなり多数みつかったことから、本文以外の文章が紛れこんでいることがわかります。本格的に分析するためには、本文だけを抽出する必要がありそうです。\n",
        "\n",
        "Except for thou, thee, and thy, which are not found in modern texts, there are few unfamiliar words. The fact that \"Project\" and \"Gutenberg\" were found in large numbers indicates that there are sentences other than the main text mixed in. For a finer analysis, it may be necessary to extract only the main body text.\n"
      ]
    },
    {
      "attachments": {},
      "cell_type": "markdown",
      "metadata": {
        "id": "sh2dFh1wAa_D"
      },
      "source": [
        "英語のNative Speakerにボイスレコーダーをくっつけ、日常に使っている英語のすべてを一週間まるまる録音してから、使ったフレーズを出現頻度順に並べ、上から順番に丸暗記すれば、誰でもNative Speakerの言い回しができるようになると思っている。誰か、外国人向けの促成日本語教材を作ってみてはどうだろう。頻繁に「Majika」とか「Sugee」とか「Yabai」とか言う外国人が促成される気はするが。\n",
        "\n",
        "I believe that if we attach a voice recorder to an English native speaker and record all of his/her daily English for an entire week, then list the phrases used in order of frequency of occurrence and memorize them from the top to the bottom, anyone will be able to speak the native speaker's way of speaking. How about someone make a prompt Japanese teaching material for foreigners? I have a feeling that it would prompt foreigners to say \"Majika\", \"Sugee\", or \"Yabai\" frequently."
      ]
    },
    {
      "attachments": {},
      "cell_type": "markdown",
      "metadata": {
        "id": "JCy44BLZQPLr"
      },
      "source": [
        "辞書を使い、語と語のつながりを分析してみましょう。\n",
        "\n",
        "Let us analyze the word-to-word connections."
      ]
    },
    {
      "attachments": {},
      "cell_type": "markdown",
      "metadata": {},
      "source": [
        "上の例では、記号を除去しましたが、ここでは省略し、`RJ`を分割して`words`にします。\n",
        "\n",
        "In the example above, we removed the symbol, but here we omit the process and split the `RJ` into `words`."
      ]
    },
    {
      "cell_type": "code",
      "execution_count": null,
      "metadata": {},
      "outputs": [],
      "source": [
        "words = RJ.split()\n",
        "words"
      ]
    },
    {
      "attachments": {},
      "cell_type": "markdown",
      "metadata": {},
      "source": [
        "これを加工し、最初の語と、それに続く語のペアにします。\n",
        "\n",
        "We processed it to make pairs of the first word and the word following it."
      ]
    },
    {
      "cell_type": "code",
      "execution_count": null,
      "metadata": {},
      "outputs": [],
      "source": [
        "# first: words \n",
        "first = words\n",
        "# second: words (except the first word)\n",
        "second = words[1:]\n",
        "\n",
        "print(first)\n",
        "print(second)"
      ]
    },
    {
      "attachments": {},
      "cell_type": "markdown",
      "metadata": {},
      "source": [
        "ある語の次にどんな語が来るかを、辞書を使って集計します。辞書`nextwords`のキーは最初の語、値は最初の語に続く語を集めたリストとします。\n",
        "\n",
        "A dictionary is used to count what words come after a word. The key of the dictionary `nextwords` is the first word and the value is a list of words following the first word."
      ]
    },
    {
      "cell_type": "code",
      "execution_count": null,
      "metadata": {
        "id": "K3C83sACRCr9"
      },
      "outputs": [],
      "source": [
        "nextwords = dict()\n",
        "\n",
        "for word in first:\n",
        "    nextwords[word] = []\n",
        "\n"
      ]
    },
    {
      "attachments": {},
      "cell_type": "markdown",
      "metadata": {},
      "source": [
        "`zip`は、2つのリストを同時に扱うのに便利です。以下に使用例を示します。\n",
        "\n",
        "`zip` is useful for iterating two listings at the same time. Here is an example.\n"
      ]
    },
    {
      "cell_type": "code",
      "execution_count": null,
      "metadata": {},
      "outputs": [],
      "source": [
        "for w1, w2 in zip(first, second):\n",
        "    print(w1,w2)\n"
      ]
    },
    {
      "attachments": {},
      "cell_type": "markdown",
      "metadata": {},
      "source": [
        "次にくる語を、どんどんnextwordsに書きくわえます。\n",
        "\n",
        "The next word is added to the `nextwords` in order.\n"
      ]
    },
    {
      "cell_type": "code",
      "execution_count": null,
      "metadata": {},
      "outputs": [],
      "source": [
        "for w1, w2 in zip(first, second):\n",
        "    # nextwords[w1]の内容は空のリスト。それにw2を書き加える。 Content of nextwords[w1] is an empty list. w2 is appended to it.\n",
        "    nextwords[w1].append(w2)\n",
        "\n",
        "# theのつぎに来る語は? WHat is the word candidates next to \"the\"?\n",
        "nextwords[\"the\"]"
      ]
    },
    {
      "attachments": {},
      "cell_type": "markdown",
      "metadata": {
        "id": "6ydsDf_8Rfi3"
      },
      "source": [
        "ある語の次に、どんな語がどんな頻度で出現するか、という統計情報とみることもできます。これを使い、確率的に次の語を選んでみます。リストのなかから要素を1つランダムに選ぶ`choice()`関数を利用します。\n",
        "\n",
        "It can also be regarded as statistical information about how often a certain word appears next to another word. Using this information, we try to select the next word probabilistically. We use the `choice()` function to randomly select one element from the list."
      ]
    },
    {
      "cell_type": "code",
      "execution_count": null,
      "metadata": {
        "id": "Z8LparYLR3fN"
      },
      "outputs": [],
      "source": [
        "from random import choice\n",
        "first = 'the'\n",
        "candid = nextwords[first]\n",
        "print(candid)\n",
        "nextletter = choice(candid)\n",
        "nextletter"
      ]
    },
    {
      "attachments": {},
      "cell_type": "markdown",
      "metadata": {
        "id": "TEhbLty7Swkw"
      },
      "source": [
        "これをぐるぐる回してみます。意味不明な英文のような文章ができます。\n",
        "\n",
        "Let's iterate it. You will get a sentence that looks like an unintelligible English sentence."
      ]
    },
    {
      "cell_type": "code",
      "execution_count": null,
      "metadata": {
        "id": "u3XT4bhoSy-b"
      },
      "outputs": [],
      "source": [
        "sentence = \"\"\n",
        "# 最初の文字は与える。 The sentence begins at \"The\".\n",
        "word = 'The'\n",
        "for i in range(300):\n",
        "    sentence += word + \" \"\n",
        "    # candidには、次に来る可能性のある文字のリストが入る。\n",
        "    candid = nextwords[word]\n",
        "    # そのなかから、1つ選ぶ。\n",
        "    # candidには同じ文字が重複して含まれているので、そのような文字は選ばれる確率が高くなる。\n",
        "    word = choice(candid)\n",
        "print(sentence)"
      ]
    },
    {
      "attachments": {},
      "cell_type": "markdown",
      "metadata": {
        "id": "FqCaduegZP4A"
      },
      "source": [
        "こういう、直前の語の情報だけで、次の語の出現確率を決めるやり方を、**マルコフ連鎖**といいます。(モンテカルロシミュレーションは典型的なマルコフ連鎖です)\n",
        "\n",
        "This method of determining the probability of the occurrence of the next word based solely on the information of the previous word is called a **Markov chain**. (A Monte Carlo simulation is a typical Markov chain.)\n"
      ]
    },
    {
      "attachments": {},
      "cell_type": "markdown",
      "metadata": {
        "collapsed": true,
        "id": "HvVkvVpUAa-j"
      },
      "source": [
        "## 課題 Practice\n",
        "\n",
        "2語を辞書のキーにし、3語目を辞書の値に選ぶと、よりもっともらしい文章になります。つまり、`nextwords[w1, w2]`のように、`netxowrds`のキーを連続する2語とし、その次にくる語を蒐集し、それを使って文章を合成します。\n",
        "\n",
        "Choosing two words as the dictionary key and the third word as the dictionary value makes the sentence more plausible. In other words, as in `nextwords[w1, w2]`, the key of `netxowrds` is two consecutive words, the next word is collected, and the sentence is composed using it.\n",
        "\n",
        "1. `first`, `second`に加えて`third`を準備しておきます。 Prepare `third` in addition to `first` and `second`.\n",
        "```python\n",
        "third = words[2:]\n",
        "```\n",
        "2. `nextwords`に語の連鎖を書き加える時には、`w1, w2`をキーとし、`w3`をリストに付けたします。 When adding a chain of words to `nextwords`, use `w1, w2` as keys and append `w3` to the list.\n",
        "```python\n",
        "for w1, w2, w3 in zip(first, second, third):\n",
        "    # nextwords[w1,w2]の内容は空のリスト。それにw3を書き加える。 Content of nextwords[w1,w2] is an empty list. w3 is appended to it.\n",
        "    nextwords[w1,w2].append(w3)\n",
        "```\n",
        "\n",
        "ここまでの説明ででてきたプログラムのパーツと組みあわせて、プログラムを完成させて下さい。\n",
        "\n",
        "Complete the program by combining it with the parts of the program described up to this point. "
      ]
    },
    {
      "cell_type": "code",
      "execution_count": null,
      "metadata": {},
      "outputs": [],
      "source": []
    }
  ],
  "metadata": {
    "colab": {
      "include_colab_link": true,
      "name": "021辞書.ipynb",
      "provenance": []
    },
    "kernelspec": {
      "display_name": "Python 3",
      "language": "python",
      "name": "python3"
    },
    "language_info": {
      "codemirror_mode": {
        "name": "ipython",
        "version": 3
      },
      "file_extension": ".py",
      "mimetype": "text/x-python",
      "name": "python",
      "nbconvert_exporter": "python",
      "pygments_lexer": "ipython3",
      "version": "3.11.2"
    }
  },
  "nbformat": 4,
  "nbformat_minor": 0
}

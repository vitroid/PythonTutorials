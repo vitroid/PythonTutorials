{
  "nbformat": 4,
  "nbformat_minor": 0,
  "metadata": {
    "kernelspec": {
      "display_name": "Python 3",
      "language": "python",
      "name": "python3"
    },
    "language_info": {
      "codemirror_mode": {
        "name": "ipython",
        "version": 3
      },
      "file_extension": ".py",
      "mimetype": "text/x-python",
      "name": "python",
      "nbconvert_exporter": "python",
      "pygments_lexer": "ipython3",
      "version": "3.6.5"
    },
    "colab": {
      "name": "021辞書.ipynb",
      "provenance": [],
      "include_colab_link": true
    }
  },
  "cells": [
    {
      "cell_type": "markdown",
      "metadata": {
        "id": "view-in-github",
        "colab_type": "text"
      },
      "source": [
        "<a href=\"https://colab.research.google.com/github/vitroid/PythonTutorials/blob/2020m0/2%20Advanced/021%E8%BE%9E%E6%9B%B8.ipynb\" target=\"_parent\"><img src=\"https://colab.research.google.com/assets/colab-badge.svg\" alt=\"Open In Colab\"/></a>"
      ]
    },
    {
      "cell_type": "markdown",
      "metadata": {
        "id": "6P9iFUZDAa9J",
        "colab_type": "text"
      },
      "source": [
        "# 辞書\n",
        "リストは、複数のデータを並べて集めたものであると同時に、番号と値を結びつける関数とみなすこともできます。"
      ]
    },
    {
      "cell_type": "code",
      "metadata": {
        "id": "-iIoJnh6Aa9N",
        "colab_type": "code",
        "colab": {}
      },
      "source": [
        "a = [3,1,4,1,5,9]\n",
        "print(a[1])\n",
        "print(a[3])"
      ],
      "execution_count": 0,
      "outputs": []
    },
    {
      "cell_type": "markdown",
      "metadata": {
        "id": "4txiM3jhAa9e",
        "colab_type": "text"
      },
      "source": [
        "値には文字列やリストなど、どんなデータタイプでも選べますが、番号のほうは非負の整数でなければなりません。\n",
        "\n",
        "辞書(dictionary)を使うと、番号に文字列を使うこともできます。"
      ]
    },
    {
      "cell_type": "code",
      "metadata": {
        "id": "iGqCelUDAa9k",
        "colab_type": "code",
        "colab": {}
      },
      "source": [
        "a = dict()\n",
        "a[\"Matsumoto\"] = \"vitroid@gmail.com\"\n",
        "a[\"Tanaka\"]    = \"htanakaa@okayama-u.ac.jp\"\n",
        "name = input(\"Name?\")\n",
        "print(a[name])"
      ],
      "execution_count": 0,
      "outputs": []
    },
    {
      "cell_type": "markdown",
      "metadata": {
        "id": "y5tNu3thAa9s",
        "colab_type": "text"
      },
      "source": [
        "辞書のキー( [...]の中身 )には実数でも文字列で何でも使えると書きましたが、実は制約があります。キーは定数でなければなりません。リストは変数(あとから中身をさしかえられる)なので辞書のキーには使えませんが、タプルは定数なので、辞書のキーに使えます。"
      ]
    },
    {
      "cell_type": "code",
      "metadata": {
        "id": "Mjcg99XkAa9u",
        "colab_type": "code",
        "colab": {}
      },
      "source": [
        "a = dict()\n",
        "a[\"四\"] = \"four\" #キーは\"四\"、値は\"four\"\n",
        "a[2,3] = 5       # a[(2,3)]と同じ意味\n",
        "a[1,2,3] = 6\n",
        "print(a)"
      ],
      "execution_count": 0,
      "outputs": []
    },
    {
      "cell_type": "code",
      "metadata": {
        "id": "gXMwgZApBNdq",
        "colab_type": "code",
        "colab": {}
      },
      "source": [
        "a[[2,3]] = 5     #キーが変数なのでエラー"
      ],
      "execution_count": 0,
      "outputs": []
    },
    {
      "cell_type": "markdown",
      "metadata": {
        "id": "N23HuI9YAa92",
        "colab_type": "text"
      },
      "source": [
        "辞書はデータベースとも言えます。上の場合、\"Matsumoto\"をキー、\"vitroid@gmail.com\"を値と呼びます。辞書を使えば、電話帳が簡単に作れます。\n",
        "\n",
        "上のプログラムでは、存在しない名前を入力するとエラーになってしまうので、辞書にその名前のキーがあるがどうかをin演算子を使って調べます。"
      ]
    },
    {
      "cell_type": "code",
      "metadata": {
        "id": "74di9hWRAa92",
        "colab_type": "code",
        "colab": {}
      },
      "source": [
        "a = dict()\n",
        "a[\"Matsumoto\"] = \"vitroid@gmail.com\"\n",
        "a[\"Tanaka\"]    = \"htanakaa@okayama-u.ac.jp\"\n",
        "while True:\n",
        "    name = input(\"Name?\")\n",
        "    if name == \"\":\n",
        "        print(\"Bye.\")\n",
        "        break\n",
        "    if name in a:\n",
        "        print(a[name])\n",
        "    else:\n",
        "        print(\"Sorry, the name '{0}' is not found in the directory.\".format(name))\n",
        "        email = input(\"Input his/her email address:\")\n",
        "        a[name] = email\n"
      ],
      "execution_count": 0,
      "outputs": []
    },
    {
      "cell_type": "markdown",
      "metadata": {
        "id": "S5UIldJ7Aa-B",
        "colab_type": "text"
      },
      "source": [
        "辞書を配列の代わりに使う場合もあります。特に、ほとんどの要素が0であるようなリストは、辞書にしたほうが格段にメモリの無駄がなくなり、処理も速くなります。\n",
        "\n",
        "### リストで書いた例"
      ]
    },
    {
      "cell_type": "code",
      "metadata": {
        "id": "avmaf7v7Aa-C",
        "colab_type": "code",
        "colab": {}
      },
      "source": [
        " import time\n",
        "now = time.time()                   #time.time()関数は現在時刻を秒単位の実数で返す。\n",
        "\n",
        "a = [0 for i in range(10000000)]    #すべての要素が0の、一千万個のリスト。100MB程度のメモリが必要\n",
        "a[0] = 1                            #2つだけ要素を1にする。\n",
        "a[9999999] = 1\n",
        "\n",
        "for i in range(10000000):           #値が1の要素をさがす。一千万回のループ\n",
        "    if a[i] == 1:\n",
        "        print(i)\n",
        "\n",
        "print(time.time()-now,\" sec\")"
      ],
      "execution_count": 0,
      "outputs": []
    },
    {
      "cell_type": "markdown",
      "metadata": {
        "id": "96OBHAn7Aa-G",
        "colab_type": "text"
      },
      "source": [
        "### 辞書で書いた例"
      ]
    },
    {
      "cell_type": "code",
      "metadata": {
        "id": "uTkiSQvyAa-G",
        "colab_type": "code",
        "colab": {},
        "cellView": "both"
      },
      "source": [
        "#@title\n",
        "import time\n",
        "now = time.time()                   #time.time()関数は現在時刻を秒単位の実数で返す。\n",
        "\n",
        "a = dict()\n",
        "a[-9999999] = 1                     #2つだけ要素を1にする。\n",
        "a[9999999.9] = 1\n",
        "for i in a:                         #aのキーについて繰り返す。\n",
        "    print(i)\n",
        "\n",
        "print(time.time()-now,\" sec\")"
      ],
      "execution_count": 0,
      "outputs": []
    },
    {
      "cell_type": "markdown",
      "metadata": {
        "id": "hYFgda2zAa-K",
        "colab_type": "text"
      },
      "source": [
        "辞書のキーは負の整数でも実数でも構いません。使わない要素は0を入れておく必要もないので、メモリも処理も最小限ですみます。"
      ]
    },
    {
      "cell_type": "markdown",
      "metadata": {
        "id": "0Y08nh9YAa-L",
        "colab_type": "text"
      },
      "source": [
        "## 辞書の使用例\n",
        "「雨ニモマケズ」に含まれる文字の種類と個数を数えてみます。原文を青空文庫からもってきて、"
      ]
    },
    {
      "cell_type": "code",
      "metadata": {
        "id": "Uug4SOHnNrpz",
        "colab_type": "code",
        "colab": {
          "base_uri": "https://localhost:8080/",
          "height": 561
        },
        "outputId": "6e8e49ac-bfcc-4d16-b6bf-ad8b13d3f5fb"
      },
      "source": [
        "import urllib  as u1\n",
        "url = \"https://\" + u1.parse.quote(\"raw.githubusercontent.com/vitroid/PythonTutorials/2020m0/2 Advanced/amenimo.txt\")\n",
        "print(url)\n",
        "import requests as req\n",
        "雨にも = req.get(url).text #, encoding='utf-8').text\n",
        "print(雨にも)\n"
      ],
      "execution_count": 77,
      "outputs": [
        {
          "output_type": "stream",
          "text": [
            "https://raw.githubusercontent.com/vitroid/PythonTutorials/2020m0/2%20Advanced/amenimo.txt\n",
            "雨ニモマケズ\n",
            "風ニモマケズ\n",
            "雪ニモ夏ノ暑サニモマケヌ\n",
            "丈夫ナカラダヲモチ\n",
            "慾ハナク\n",
            "決シテ瞋ラズ\n",
            "イツモシヅカニワラッテヰル\n",
            "一日ニ玄米四合ト\n",
            "味噌ト少シノ野菜ヲタベ\n",
            "アラユルコトヲ\n",
            "ジブンヲカンジョウニ入レズニ\n",
            "ヨクミキキシワカリ\n",
            "ソシテワスレズ\n",
            "野原ノ松ノ林ノ蔭ノ\n",
            "小サナ萱ブキノ小屋ニヰテ\n",
            "東ニ病氣ノコドモアレバ\n",
            "行ッテ看病シテヤリ\n",
            "西ニツカレタ母アレバ\n",
            "行ッテソノ稻ノ束ヲ負ヒ\n",
            "南ニ死ニサウナ人アレバ\n",
            "行ッテコハガラナクテモイゝトイヒ\n",
            "北ニケンクワヤソショウガアレバ\n",
            "ツマラナイカラヤメロトイヒ\n",
            "ヒドリノトキハナミダヲナガシ\n",
            "サムサノナツハオロオロアルキ\n",
            "ミンナニデクノボートヨバレ\n",
            "ホメラレモセズ\n",
            "クニモサレズ\n",
            "サウイフモノニ\n",
            "ワタシハナリタイ\n",
            "\n"
          ],
          "name": "stdout"
        }
      ]
    },
    {
      "cell_type": "code",
      "metadata": {
        "id": "jE_Czp0xLw7y",
        "colab_type": "code",
        "colab": {
          "base_uri": "https://localhost:8080/",
          "height": 1000
        },
        "outputId": "98c2bb9e-1a24-42fc-dc4c-9c4951560222"
      },
      "source": [
        "lettercount = dict()\n",
        "for letter in 雨にも:\n",
        "    #すでに辞書にある文字なら\n",
        "    if letter in lettercount:\n",
        "        lettercount[letter] += 1\n",
        "    #辞書にない文字なら初期化する\n",
        "    else:\n",
        "        lettercount[letter] = 1\n",
        "for letter in sorted(lettercount, key=lettercount.get):\n",
        "    print(letter,lettercount[letter])"
      ],
      "execution_count": 78,
      "outputs": [
        {
          "output_type": "stream",
          "text": [
            "雨 1\n",
            "風 1\n",
            "雪 1\n",
            "夏 1\n",
            "暑 1\n",
            "ヌ 1\n",
            "丈 1\n",
            "夫 1\n",
            "チ 1\n",
            "慾 1\n",
            "決 1\n",
            "瞋 1\n",
            "ヅ 1\n",
            "一 1\n",
            "日 1\n",
            "玄 1\n",
            "米 1\n",
            "四 1\n",
            "合 1\n",
            "味 1\n",
            "噌 1\n",
            "少 1\n",
            "菜 1\n",
            "ベ 1\n",
            "ユ 1\n",
            "入 1\n",
            "ス 1\n",
            "原 1\n",
            "松 1\n",
            "林 1\n",
            "蔭 1\n",
            "萱 1\n",
            "屋 1\n",
            "東 1\n",
            "氣 1\n",
            "看 1\n",
            "西 1\n",
            "母 1\n",
            "稻 1\n",
            "束 1\n",
            "負 1\n",
            "南 1\n",
            "死 1\n",
            "人 1\n",
            "ゝ 1\n",
            "北 1\n",
            "ム 1\n",
            "デ 1\n",
            "ボ 1\n",
            "ー 1\n",
            "ホ 1\n",
            "セ 1\n",
            "フ 1\n",
            "ダ 2\n",
            "ヰ 2\n",
            "野 2\n",
            "ジ 2\n",
            "ブ 2\n",
            "ョ 2\n",
            "ヨ 2\n",
            "小 2\n",
            "病 2\n",
            "ド 2\n",
            "メ 2\n",
            "オ 2\n",
            "ル 3\n",
            "コ 3\n",
            "ミ 3\n",
            "ソ 3\n",
            "行 3\n",
            "ヤ 3\n",
            "ガ 3\n",
            "ロ 3\n",
            "マ 4\n",
            "ケ 4\n",
            "ツ 4\n",
            "ッ 4\n",
            "タ 4\n",
            "ン 4\n",
            "ウ 4\n",
            "リ 4\n",
            "ヒ 4\n",
            "ハ 5\n",
            "ワ 5\n",
            "キ 5\n",
            "バ 5\n",
            "カ 6\n",
            "ヲ 6\n",
            "ク 6\n",
            "ア 6\n",
            "ズ 7\n",
            "サ 7\n",
            "イ 7\n",
            "ト 7\n",
            "ラ 8\n",
            "シ 9\n",
            "テ 9\n",
            "レ 10\n",
            "モ 11\n",
            "ナ 11\n",
            "ノ 14\n",
            "ニ 17\n",
            "\n",
            " 30\n"
          ],
          "name": "stdout"
        }
      ]
    },
    {
      "cell_type": "markdown",
      "metadata": {
        "id": "uEBniq0bAa-O",
        "colab_type": "text"
      },
      "source": [
        "関数をつかって、もっとシンプルに書けます。"
      ]
    },
    {
      "cell_type": "code",
      "metadata": {
        "id": "NkwCfdWNAa-P",
        "colab_type": "code",
        "colab": {
          "base_uri": "https://localhost:8080/",
          "height": 1000
        },
        "outputId": "fe3d5724-cfd8-4ff8-d9b2-ec2e412d34b9"
      },
      "source": [
        "def count_members(s):\n",
        "    count = dict()\n",
        "    for c in s:\n",
        "        if c in count:\n",
        "            count[c] += 1\n",
        "        else:\n",
        "            count[c] = 1\n",
        "    return count\n",
        "\n",
        "lettercount = count_members(雨にも)\n",
        "for letter in sorted(lettercount, key=lambda x:lettercount[x]):\n",
        "    print(letter,lettercount[letter])"
      ],
      "execution_count": 79,
      "outputs": [
        {
          "output_type": "stream",
          "text": [
            "雨 1\n",
            "風 1\n",
            "雪 1\n",
            "夏 1\n",
            "暑 1\n",
            "ヌ 1\n",
            "丈 1\n",
            "夫 1\n",
            "チ 1\n",
            "慾 1\n",
            "決 1\n",
            "瞋 1\n",
            "ヅ 1\n",
            "一 1\n",
            "日 1\n",
            "玄 1\n",
            "米 1\n",
            "四 1\n",
            "合 1\n",
            "味 1\n",
            "噌 1\n",
            "少 1\n",
            "菜 1\n",
            "ベ 1\n",
            "ユ 1\n",
            "入 1\n",
            "ス 1\n",
            "原 1\n",
            "松 1\n",
            "林 1\n",
            "蔭 1\n",
            "萱 1\n",
            "屋 1\n",
            "東 1\n",
            "氣 1\n",
            "看 1\n",
            "西 1\n",
            "母 1\n",
            "稻 1\n",
            "束 1\n",
            "負 1\n",
            "南 1\n",
            "死 1\n",
            "人 1\n",
            "ゝ 1\n",
            "北 1\n",
            "ム 1\n",
            "デ 1\n",
            "ボ 1\n",
            "ー 1\n",
            "ホ 1\n",
            "セ 1\n",
            "フ 1\n",
            "ダ 2\n",
            "ヰ 2\n",
            "野 2\n",
            "ジ 2\n",
            "ブ 2\n",
            "ョ 2\n",
            "ヨ 2\n",
            "小 2\n",
            "病 2\n",
            "ド 2\n",
            "メ 2\n",
            "オ 2\n",
            "ル 3\n",
            "コ 3\n",
            "ミ 3\n",
            "ソ 3\n",
            "行 3\n",
            "ヤ 3\n",
            "ガ 3\n",
            "ロ 3\n",
            "マ 4\n",
            "ケ 4\n",
            "ツ 4\n",
            "ッ 4\n",
            "タ 4\n",
            "ン 4\n",
            "ウ 4\n",
            "リ 4\n",
            "ヒ 4\n",
            "ハ 5\n",
            "ワ 5\n",
            "キ 5\n",
            "バ 5\n",
            "カ 6\n",
            "ヲ 6\n",
            "ク 6\n",
            "ア 6\n",
            "ズ 7\n",
            "サ 7\n",
            "イ 7\n",
            "ト 7\n",
            "ラ 8\n",
            "シ 9\n",
            "テ 9\n",
            "レ 10\n",
            "モ 11\n",
            "ナ 11\n",
            "ノ 14\n",
            "ニ 17\n",
            "\n",
            " 30\n"
          ],
          "name": "stdout"
        }
      ]
    },
    {
      "cell_type": "markdown",
      "metadata": {
        "id": "CzuVE6JKAa-W",
        "colab_type": "text"
      },
      "source": [
        "連続する2文字の出現頻度を数えます。行末の\"ズ\"、\"ニモ\"、\"アレ\"、\"ッテ\"などが多いことがわかりました。こういった解析で、文章の作者を推測するプロファイリングができるかもしれません。"
      ]
    },
    {
      "cell_type": "code",
      "metadata": {
        "id": "AXYhC5JLAa-X",
        "colab_type": "code",
        "colab": {
          "base_uri": "https://localhost:8080/",
          "height": 1000
        },
        "outputId": "e518e7f2-07d5-442a-ccf0-e8232a3c7190"
      },
      "source": [
        "lettercount = dict()\n",
        "for i in range(len(雨にも)-1):\n",
        "    #2文字のタプルを作る\n",
        "    two = 雨にもまけず[i:i+2]\n",
        "    #すでに辞書にある文字なら\n",
        "    if two in lettercount:\n",
        "        lettercount[two] += 1\n",
        "    #辞書にない文字なら初期化する\n",
        "    else:\n",
        "        lettercount[two] = 1\n",
        "for two in sorted(lettercount, key=lettercount.get):\n",
        "    print(two,lettercount[two])"
      ],
      "execution_count": 80,
      "outputs": [
        {
          "output_type": "stream",
          "text": [
            "\n",
            "雨 1\n",
            "雨ニ 1\n",
            "\n",
            "風 1\n",
            "風ニ 1\n",
            "\n",
            "雪 1\n",
            "雪ニ 1\n",
            "モ夏 1\n",
            "夏ノ 1\n",
            "ノ暑 1\n",
            "暑サ 1\n",
            "サニ 1\n",
            "ケヌ 1\n",
            "ヌ< 1\n",
            "\n",
            "丈 1\n",
            "丈夫 1\n",
            "夫ナ 1\n",
            "ナカ 1\n",
            "カラ 1\n",
            "ラダ 1\n",
            "ダヲ 1\n",
            "ヲモ 1\n",
            "モチ 1\n",
            "チ< 1\n",
            "\n",
            "慾 1\n",
            "慾ハ 1\n",
            "ハナ 1\n",
            "ナク 1\n",
            "ク< 1\n",
            "\n",
            "決 1\n",
            "決シ 1\n",
            "テ瞋 1\n",
            "瞋ラ 1\n",
            "ラズ 1\n",
            "\n",
            "イ 1\n",
            "イツ 1\n",
            "ツモ 1\n",
            "モシ 1\n",
            "シヅ 1\n",
            "ヅカ 1\n",
            "カニ 1\n",
            "ニワ 1\n",
            "ワラ 1\n",
            "ラッ 1\n",
            "ッテ 1\n",
            "テヰ 1\n",
            "ヰル 1\n",
            "ル< 1\n",
            "\n",
            "一 1\n",
            "一日 1\n",
            "日ニ 1\n",
            "ニ玄 1\n",
            "玄米 1\n",
            "米四 1\n",
            "四合 1\n",
            "合ト 1\n",
            "ト< 1\n",
            "\n",
            "味 1\n",
            "味噌 1\n",
            "噌ト 1\n",
            "ト少 1\n",
            "少シ 1\n",
            "シノ 1\n",
            "ノ野 1\n",
            "野菜 1\n",
            "菜ヲ 1\n",
            "ヲタ 1\n",
            "タベ 1\n",
            "ベ< 1\n",
            "\n",
            "ア 1\n",
            "アラ 1\n",
            "ラユ 1\n",
            "ユル 1\n",
            "ルコ 1\n",
            "コト 1\n",
            "トヲ 1\n",
            "ヲ< 1\n",
            "\n",
            "ジ 1\n",
            "ジブ 1\n",
            "ブン 1\n",
            "ンヲ 1\n",
            "ヲカ 1\n",
            "カン 1\n",
            "ンジ 1\n",
            "ジョ 1\n",
            "ョウ 1\n",
            "ウニ 1\n",
            "ニ入 1\n",
            "入レ 1\n",
            "ズニ 1\n",
            "ニ< 1\n",
            "\n",
            "ヨ 1\n",
            "ヨク 1\n",
            "クミ 1\n",
            "ミキ 1\n",
            "キキ 1\n",
            "キシ 1\n",
            "シワ 1\n",
            "ワカ 1\n",
            "カリ 1\n",
            "リ< 1\n",
            "\n",
            "ソ 1\n",
            "ソシ 1\n",
            "テワ 1\n",
            "ワス 1\n",
            "スレ 1\n",
            "\n",
            "野 1\n",
            "野原 1\n",
            "原ノ 1\n",
            "ノ松 1\n",
            "松ノ 1\n",
            "ノ林 1\n",
            "林ノ 1\n",
            "<i 1\n",
            "im 1\n",
            "mg 1\n",
            "g  1\n",
            " a 1\n",
            "al 1\n",
            "lt 1\n",
            "t= 1\n",
            "\"※ 1\n",
            "※( 1\n",
            "(「 1\n",
            "「「 1\n",
            "「蔭 1\n",
            "蔭」 1\n",
            "」の 1\n",
            "の「 1\n",
            "「陰 1\n",
            "陰の 1\n",
            "のつ 1\n",
            "つく 1\n",
            "くり 1\n",
            "り」 1\n",
            "」に 1\n",
            "に代 1\n",
            "代え 1\n",
            "えて 1\n",
            "て「 1\n",
            "「人 1\n",
            "人が 1\n",
            "がし 1\n",
            "しら 1\n",
            "ら／ 1\n",
            "／髟 1\n",
            "髟の 1\n",
            "のへ 1\n",
            "へん 1\n",
            "ん」 1\n",
            "」、 1\n",
            "、第 1\n",
            "第4 1\n",
            "4水 1\n",
            "水準 1\n",
            "準2 1\n",
            "8) 1\n",
            ")\" 1\n",
            " c 1\n",
            "cl 1\n",
            "la 1\n",
            "as 1\n",
            "ss 1\n",
            "s= 1\n",
            "\"g 1\n",
            "i\" 1\n",
            " s 1\n",
            "sr 1\n",
            "rc 1\n",
            "c= 1\n",
            "\". 1\n",
            "/g 1\n",
            "i/ 1\n",
            "6/ 1\n",
            "8. 1\n",
            ".p 1\n",
            "pn 1\n",
            "ng 1\n",
            "g\" 1\n",
            "\"/ 1\n",
            ">ノ 1\n",
            "ケズ 2\n",
            "シテ 2\n",
            "レズ 2\n",
            "ノ< 2\n",
            "6- 2\n",
            "-7 2\n",
            "78 2\n",
            "\"  2\n",
            "ga 2\n",
            "ai 2\n",
            "ij 2\n",
            "ji 2\n",
            "/. 2\n",
            "/2 2\n",
            "モマ 3\n",
            "マケ 3\n",
            "=\" 3\n",
            "2- 3\n",
            "-8 3\n",
            "86 3\n",
            ".. 3\n",
            "./ 3\n",
            "ニモ 4\n",
            "ズ< 4\n",
            "r/ 14\n",
            ">\r 14\n",
            "\r\n",
            " 14\n",
            "<b 15\n",
            "br 15\n",
            "/> 15\n"
          ],
          "name": "stdout"
        }
      ]
    },
    {
      "cell_type": "markdown",
      "metadata": {
        "collapsed": true,
        "id": "ZjK4rAaIAa-a",
        "colab_type": "text"
      },
      "source": [
        "要素と要素のつながりを辞書で表すことができます。"
      ]
    },
    {
      "cell_type": "code",
      "metadata": {
        "id": "KoD16O9LAa-c",
        "colab_type": "code",
        "colab": {}
      },
      "source": [
        "link = dict()\n",
        "link[\"A\"] = \"B\"\n",
        "link[\"B\"] = \"C\"\n",
        "link[\"C\"] = \"A\""
      ],
      "execution_count": 0,
      "outputs": []
    },
    {
      "cell_type": "markdown",
      "metadata": {
        "id": "5s_PXRaTAa-f",
        "colab_type": "text"
      },
      "source": [
        "つながりをたどっていくには、次のようにします。"
      ]
    },
    {
      "cell_type": "code",
      "metadata": {
        "id": "efBUhf6KAa-g",
        "colab_type": "code",
        "colab": {}
      },
      "source": [
        "print(link[link[link[\"A\"]]])"
      ],
      "execution_count": 0,
      "outputs": []
    },
    {
      "cell_type": "markdown",
      "metadata": {
        "collapsed": true,
        "id": "HvVkvVpUAa-j",
        "colab_type": "text"
      },
      "source": [
        "## 宿題\n",
        "どちらかを選んでプログラムを作成して下さい。"
      ]
    },
    {
      "cell_type": "markdown",
      "metadata": {
        "collapsed": true,
        "id": "RBYnyDI9Aa-j",
        "colab_type": "text"
      },
      "source": [
        "### 問題1\n",
        "百人一首のリストを読みこんで、決まり字(冒頭の数文字で、それを読めば、つづきが一意的に決まるようなもの)を見付けだすプログラムを書いてみよう。\n",
        "\n",
        "例えば「むらさめの つゆもまだひぬ まきのはに」のように、「む」からはじまる歌は1つしかないので、「む」を聞いただけで、あとの句が特定できるので、この句の決まり字は「む」である。\n",
        "\n",
        "1. 100句のよみがなをfile \"百人一首.txt\" から読みこんで、100要素のリストを作る。ここでは、`readlines()`関数を使うことで、行ごとに分割されたリストが自動的にできあがる。"
      ]
    },
    {
      "cell_type": "code",
      "metadata": {
        "id": "3DVUrQIoAa-k",
        "colab_type": "code",
        "colab": {
          "base_uri": "https://localhost:8080/",
          "height": 71
        },
        "outputId": "cfc5fa8f-fffd-4355-d3de-a74f5af58c98"
      },
      "source": [
        "# Google Colabを使い、URL指定でファイルを読みこむ。\n",
        "import urllib  as u1\n",
        "url = \"https://\" + u1.parse.quote(\"raw.githubusercontent.com/vitroid/PythonTutorials/2020m0/2 Advanced/百人一首.txt\")\n",
        "import requests as req\n",
        "lines = req.get(url).text.splitlines() #, encoding='utf-8').text\n",
        "# linesは100個の歌が入ったリスト。\n",
        "print(lines)\n",
        "print(len(lines))"
      ],
      "execution_count": 84,
      "outputs": [
        {
          "output_type": "stream",
          "text": [
            "['あきのたの かりおのいおの とまをあらみ わがころもでは つゆにぬれつつ', 'はるすぎて なつきにけらし しろたえの ころもほすちょう あまのかぐやま', 'あしびきの やまどりのおの しだりおの ながながしよを ひとりかもねん', 'たごのうらに うちいでてみれば しろたえの ふじのたかねに ゆきはふりつつ', 'おくやまに もみじふみわけ なくしかの こえきくときぞ あきはかなしき', 'かささぎの わたせるはしに おくしもの しろきをみれば よぞふけにける', 'あまのはら ふりさけみれば かすがなる みかさのやまに いでしつきかも', 'わがいおは みやこのたつみ しかぞすむ よをうじやまと ひとはいうなり', 'はなのいろは うつりにけりな いたずらに わがみよにふる ながめせしまに', 'これやこの ゆくもかえるも わかれては しるもしらぬも おおさかのせき', 'わたのはら やそしまかけて こぎいでぬと ひとにはつげよ あまのつりぶね', 'あまつかぜ くものかよいじ ふきとじよ おとめのすがた しばしとどめん', 'つくばねの みねよりおつる みなのがわ こいぞつもりて ふちとなりぬる', 'みちのくの しのぶもじずり たれゆえに みだれそめにし われならなくに', 'きみがため はるののにいでて わかなつむ わがころもでに ゆきはふりつつ', 'たちわかれ いなばのやまの みねにおうる まつとしきかば いまかえりこん', 'ちはやぶる かみよもきかず たつたがわ からくれないに みずくくるとは', 'すみのえの きしによるなみ よるさえや ゆめのかよいじ ひとめよくらん', 'なにわがた みじかきあしの ふしのまも あわでこのよを すぐしてよとや', 'わびぬれば いまはたおなじ なにわなる みをつくしても あわんとぞおもう', 'いまこんと いいしばかりに ながつきの ありあけのつきを まちいでつるかな', 'ふくからに あきのくさきの しおるれば むべやまかぜを あらしというらん', 'つきみれば ちぢにものこそ かなしけれ わがみひとつの あきにはあらねど', 'このたびは ぬさもとりあえず たむけやま もみじのにしき かみのまにまに', 'なにしおわば おおさかやまの さねかづら ひとにしられで くるよしもがな', 'おぐらやま みねのもみじば こころあらば いまひとたびの みゆきまたなん', 'みかのはら わきてながるる いずみがわ いつみきとてか こいしかるらん', 'やまざとは ふゆぞさびしさ まさりける ひとめもくさも かれぬとおもえば', 'こころあてに おらばやおらん はつしもの おきまどわせる しらぎくのはな', 'ありあけの つれなくみえし わかれより あかつきばかり うきものはなし', 'あさぼらけ ありあけのつきと みるまでに よしののさとに ふれるしらゆき', 'やまがわに かぜのかけたる しがらみは ながれもあえぬ もみじなりけり', 'ひさかたの ひかりのどけき はるのひに しずごころなく はなのちるらん', 'たれをかも しるひとにせん たかさごの まつもむかしの ともならなくに', 'ひとはいさ こころもしらず ふるさとは はなぞむかしの かににおいける', 'なつのよは まだよいながら あけぬるを くものいずこに つきやどるらん', 'しらつゆに かぜのふきしく あきののは つらぬきとめぬ たまぞちりける', 'わすらるる みをばおもわず ちかいてし ひとのいのちの おしくもあるかな', 'あさじうの おののしのはら しのぶれど あまりてなどか ひとのこいしき', 'しのぶれど いろにいでにけり わがこいは ものやおもうと ひとのとうまで', 'こいすちょう わがなはまだき たちにけり ひとしれずこそ おもいそめしか', 'ちぎりきな かたみにそでを しぼりつつ すえのまつやま なみこさじとは', 'あいみての のちのこころに くらぶれば むかしはものを おもわざりけり', 'おおことの たえてしなくは なかなかに ひとをもみをも うらみざらまし', 'あわれとも いうべきひとは おもおえで みのいたずらに なりぬべきかな', 'ゆらのとを わたるふなびと かじをたえ ゆくえもしらぬ こいのみちかな', 'やえむぐら しげれるやどの さびしきに ひとこそみえね あきはきにけり', 'かぜをいたみ いわうつなみの おのれのみ くだけてものを おもうころかな', 'みかきもり えじのたくひの よるはもえ ひるはきえつつ ものをこそおもえ', 'きみがため おしからざりし いのちさえ ながくもがなと おもいけるかな', 'かくとだに えやはいぶきの さしもぐさ さしもしらじな もゆるおもいを', 'あけぬれば くるるものとは しりながら なおうらめしき あさぼらけかな', 'なげきつつ ひとりぬるよの あくるまは いかにひさしき ものとかはしる', 'わすれじの ゆくすえまでは かたければ きょうをかぎりの いのちともがな', 'たきのおとは たえてひさしく なりぬれど なこそながれて なおきこえけれ', 'あらざらん このよのほかの おもいでに いまひとたびの おおこともがな', 'めぐりあいて みしやそれとも わかぬまに くもがくれにし よわのつきかな', 'ありまやま いなのささはら かぜふけば いでそよひとを わすれやわする', 'やすらわで ねなましものを さよふけて かたぶくまでの つきをみしかな', 'おおえやま いくののみちの とおければ まだふみもみず あまのはしだて', 'いにしえの ならのみやこの やえざくら きょうここのえに においぬるかな', 'よをこめて とりのそらねは はかるとも よにおおさかの せきはゆるさじ', 'いまはただ おもいたえなん とばかりを ひとづてならで いうよしもがな', 'あさぼらけ うじのかわぎり たえだえに あらわれわたる せぜのあじろぎ', 'うらみわび ほさぬそでだに あるものを こいにくちなん なこそおしけれ', 'もろともに あわれとおもえ やまざくら はなよりほかに しるひともなし', 'はるのよの ゆめばかりなる たまくらに かいなくたたん なこそおしけれ', 'こころにも あらでうきよに ながらえば こいしかるべき よわのつきかな', 'あらしふく みむろのやまの もみじばは たつたのかわの にしきなりけり', 'さびしさに やどをたちいでて ながむれば いずくもおなじ あきのゆうぐれ', 'ゆうされば かどたのいなば おとずれて あしのまろやに あきかぜぞふく', 'おとにきく かたしのはまの あだなみは かけじやそでの ぬれもこそすれ', 'たかさごの おのえのさくら さきにけり とやまのかすみ たたずもあらなん', 'うかりける ひとをはつせの やまおろしよ はげしかれとは いのらぬものを', 'ちぎりおきし させもがつゆを いのちにて あわれ ことしの あきもいぬめり', 'わたのはら こぎいでてみれば ひさかたの くもいにまがう おきつしらなみ', 'せをはやみ いわにせかるる たきがわの われてもすえに あわんとぞ おもう', 'あわじしま かようちどりの なくこえに いくよねざめぬ すまのせきもり', 'あきかぜに たなびくくもの たえまより もれいずるつきの かげのさやけさ', 'ながからん こころもしらず くろかみの みだれてけさは ものをこそおもえ', 'ほととぎす なきつるかたを ながむれば ただありあけの つきぞのこれる', 'おもいわび さてもいのちは あるものを うきにたえぬは なみだなりけり', 'よのなかよ みちこそなけれ おもいいる やまのおくにも しかぞなくなる', 'ながらえば またこのごろや しのばれん うしとみしよぞ いまはこいしき', 'よもすがら ものおもうころは あけやらで ねやのひまさえ つれなかりけり', 'なげけとて つきやはものを おもわする かこちがおなる わがなみだかな', 'むらさめの つゆもまだひぬ まきのはに きりたちのぼる あきのゆうぐれ', 'なにわえの あしのかりねの ひとよゆえ みをつくしてや こいわたるべき', 'たまのおよ たえなばたえね ながらえば しのぶることの よわりもぞする', 'みせばやな おじまのあまの そでだにも ぬれにぞぬれし いろはかわらず', 'きりぎりす なくやしもよの さむしろに ころもかたしき ひとりかもねん', 'わがそでは しおひにみえぬ おきのいしの ひとこそしらね かわくまもなし', 'よのなかは つねにもがもな なぎさこぐ あまのおぶねの つなでかなしも', 'みよしのの やまのあきかぜ さよふけて ふるさとさむく ころもうつなり', 'おおけなく うきよのたみに おおうかな わがたつそまに すみぞめのそで', 'はなさそう あらしのにわの ゆきならで ふりゆくものは わがみなりけり', 'こぬひとを まつほのうらの ゆうなぎに やくやもしおの みもこがれつつ', 'かぜそよぐ ならのおがわの ゆうぐれは みそぎぞなつの しるしなりける', 'ひともおし ひともうらめし あじきなく よをおもうゆえに ものおもうみは', 'ももしきや ふるきのきばの しのぶにも なおあまりある むかしなりけり']\n",
            "100\n"
          ],
          "name": "stdout"
        }
      ]
    },
    {
      "cell_type": "markdown",
      "metadata": {
        "collapsed": true,
        "id": "9Bng8NQnAa-n",
        "colab_type": "text"
      },
      "source": [
        "2. まず、冒頭の文字何文字を検討するかを決める。とりあえず、1文字を検討することとし、それをnとする。"
      ]
    },
    {
      "cell_type": "code",
      "metadata": {
        "id": "XYo2TqZnAa-o",
        "colab_type": "code",
        "colab": {}
      },
      "source": [
        "n=1"
      ],
      "execution_count": 0,
      "outputs": []
    },
    {
      "cell_type": "markdown",
      "metadata": {
        "collapsed": true,
        "id": "GhckzlUAAa-r",
        "colab_type": "text"
      },
      "source": [
        "3. 空の辞書を作る。辞書のキーには決まり字、値にはその決まり字ではじまる句の個数を入れることにする。\n",
        "1. それぞれの句について、\n",
        "    1. 最初のn文字をとりだす。これをheadとする。\n",
        "    1. 辞書のkeyの中に、headがあれば、それに1を加える。なければ、1を入れる。\n",
        "1. すべての辞書のキーについて\n",
        "    1. 値が1であればキーを表示する。"
      ]
    },
    {
      "cell_type": "markdown",
      "metadata": {
        "collapsed": true,
        "id": "SR1gyGsKAa-r",
        "colab_type": "text"
      },
      "source": [
        "### 問題2\n",
        "英文sample.txtを読みこみ、その中に出現する単語を抽出して、頻度の高い順に表示するプログラムを書いてみよう。\n",
        "\n",
        "長い文章をファイルから読みこむのは、`readlines()`で読みこんで`join()`で一文につないでしまう。"
      ]
    },
    {
      "cell_type": "code",
      "metadata": {
        "id": "xEz7VBkWAa-s",
        "colab_type": "code",
        "colab": {}
      },
      "source": [
        "a = \"\".join(open(\"sample.txt\").readlines())\n",
        "a"
      ],
      "execution_count": 0,
      "outputs": []
    },
    {
      "cell_type": "markdown",
      "metadata": {
        "collapsed": true,
        "id": "EiIvnUEbAa-v",
        "colab_type": "text"
      },
      "source": [
        "出現頻度順の単語帳を持っていると、英語に限らず、外国語を勉強する時に非常に効率がよくなる。あなたがこれから読む予定の論文から、まずは単語を全部抽出し、頻度の高い順に並べて、上から順に見ていって、上位の知らない単語をさきに辞書で調べておけば、論文を読みながら辞書を引く必要はほとんどなくなる。\n",
        "\n",
        "単語と単語の切れ目には\",\"、\".\"などの文字が使われる。いろんな区切り文字は一旦ぜんぶ空白におきかえてからsplit()関数で分割する。(もっとスマートにやりたいなら正規表現を勉強する→http://www.diveintopython3.net/regular-expressions.html)"
      ]
    },
    {
      "cell_type": "code",
      "metadata": {
        "scrolled": true,
        "id": "uko6kxAwAa-w",
        "colab_type": "code",
        "colab": {}
      },
      "source": [
        "# 例\n",
        "#a=\"This sentence contains commas, semicolons; and periods.\\n\"\n",
        "a = a.replace(';', ' ')\n",
        "a = a.replace('.', ' ')\n",
        "a = a.replace(',', ' ')\n",
        "a = a.replace(':', ' ')\n",
        "a = a.replace('\"', ' ')\n",
        "a = a.replace(\"'\", ' ')\n",
        "print(a)\n",
        "words = a.split()\n",
        "print(words)"
      ],
      "execution_count": 0,
      "outputs": []
    },
    {
      "cell_type": "markdown",
      "metadata": {
        "id": "j9NjHWt1Aa-z",
        "colab_type": "text"
      },
      "source": [
        "あとはでてきた単語を辞書wordcountに入れて、上の例とおなじように回数を数える。\n",
        "\n",
        "キー(単語)の順でソートするなら、上のほうでもでてきた通り、"
      ]
    },
    {
      "cell_type": "code",
      "metadata": {
        "id": "9aogUoqxAa-0",
        "colab_type": "code",
        "colab": {}
      },
      "source": [
        "for key in sorted(wordcount):"
      ],
      "execution_count": 0,
      "outputs": []
    },
    {
      "cell_type": "markdown",
      "metadata": {
        "id": "ox0OhAXvAa-_",
        "colab_type": "text"
      },
      "source": [
        "でいいのだが、出現頻度順でソートする場合には、値でソートしなければいけない。その場合は、次のような書き方を使う。"
      ]
    },
    {
      "cell_type": "code",
      "metadata": {
        "id": "1oPQSPjtAa_A",
        "colab_type": "code",
        "colab": {}
      },
      "source": [
        "for key in sorted(wordcount, key=wordcount.get):"
      ],
      "execution_count": 0,
      "outputs": []
    },
    {
      "cell_type": "markdown",
      "metadata": {
        "id": "sh2dFh1wAa_D",
        "colab_type": "text"
      },
      "source": [
        "英語のNative Speakerにボイスレコーダーをくっつけ、日常に使っている英語のすべてを一週間まるまる録音してから、使ったフレーズを出現頻度順に並べ、上から順番に丸暗記すれば、誰でもNative Speakerの言い回しができるようになると思っている。誰か、外国人向けの促成日本語教材を作ってみてはどうだろう。頻繁に「Majika」とか「Sugee」とか「Yabai」とか言う外国人が促成される気はするが。"
      ]
    }
  ]
}
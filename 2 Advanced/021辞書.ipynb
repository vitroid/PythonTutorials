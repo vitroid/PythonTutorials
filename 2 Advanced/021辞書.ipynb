{
  "nbformat": 4,
  "nbformat_minor": 0,
  "metadata": {
    "kernelspec": {
      "display_name": "Python 3",
      "language": "python",
      "name": "python3"
    },
    "language_info": {
      "codemirror_mode": {
        "name": "ipython",
        "version": 3
      },
      "file_extension": ".py",
      "mimetype": "text/x-python",
      "name": "python",
      "nbconvert_exporter": "python",
      "pygments_lexer": "ipython3",
      "version": "3.6.5"
    },
    "colab": {
      "name": "021辞書.ipynb",
      "provenance": [],
      "include_colab_link": true
    }
  },
  "cells": [
    {
      "cell_type": "markdown",
      "metadata": {
        "id": "view-in-github",
        "colab_type": "text"
      },
      "source": [
        "<a href=\"https://colab.research.google.com/github/vitroid/PythonTutorials/blob/2020m0/2%20Advanced/021%E8%BE%9E%E6%9B%B8.ipynb\" target=\"_parent\"><img src=\"https://colab.research.google.com/assets/colab-badge.svg\" alt=\"Open In Colab\"/></a>"
      ]
    },
    {
      "cell_type": "markdown",
      "metadata": {
        "id": "6P9iFUZDAa9J",
        "colab_type": "text"
      },
      "source": [
        "# 辞書\n",
        "リストは、複数のデータを並べて集めたものであると同時に、番号と値を結びつける関数とみなすこともできます。"
      ]
    },
    {
      "cell_type": "code",
      "metadata": {
        "id": "-iIoJnh6Aa9N",
        "colab_type": "code",
        "colab": {}
      },
      "source": [
        "a = [3,1,4,1,5,9]\n",
        "print(a[1])\n",
        "print(a[3])"
      ],
      "execution_count": 0,
      "outputs": []
    },
    {
      "cell_type": "markdown",
      "metadata": {
        "id": "4txiM3jhAa9e",
        "colab_type": "text"
      },
      "source": [
        "値には文字列やリストなど、どんなデータタイプでも選べますが、番号のほうは非負の整数でなければなりません。\n",
        "\n",
        "辞書(dictionary)を使うと、番号に文字列を使うこともできます。"
      ]
    },
    {
      "cell_type": "code",
      "metadata": {
        "id": "iGqCelUDAa9k",
        "colab_type": "code",
        "colab": {}
      },
      "source": [
        "a = dict()\n",
        "a[\"Matsumoto\"] = \"vitroid@gmail.com\"\n",
        "a[\"Tanaka\"]    = \"htanakaa@okayama-u.ac.jp\"\n",
        "name = input(\"Name?\")\n",
        "print(a[name])"
      ],
      "execution_count": 0,
      "outputs": []
    },
    {
      "cell_type": "markdown",
      "metadata": {
        "id": "y5tNu3thAa9s",
        "colab_type": "text"
      },
      "source": [
        "辞書のキー( [...]の中身 )には実数でも文字列で何でも使えると書きましたが、実は制約があります。キーは定数でなければなりません。リストは変数(あとから中身をさしかえられる)なので辞書のキーには使えませんが、タプルは定数なので、辞書のキーに使えます。"
      ]
    },
    {
      "cell_type": "code",
      "metadata": {
        "id": "Mjcg99XkAa9u",
        "colab_type": "code",
        "colab": {}
      },
      "source": [
        "a = dict()\n",
        "a[\"四\"] = \"four\" #キーは\"四\"、値は\"four\"\n",
        "a[2,3] = 5       # a[(2,3)]と同じ意味\n",
        "a[1,2,3] = 6\n",
        "print(a)"
      ],
      "execution_count": 0,
      "outputs": []
    },
    {
      "cell_type": "code",
      "metadata": {
        "id": "gXMwgZApBNdq",
        "colab_type": "code",
        "colab": {}
      },
      "source": [
        "a[[2,3]] = 5     #キーが変数なのでエラー"
      ],
      "execution_count": 0,
      "outputs": []
    },
    {
      "cell_type": "markdown",
      "metadata": {
        "id": "N23HuI9YAa92",
        "colab_type": "text"
      },
      "source": [
        "辞書はデータベースとも言えます。上の場合、\"Matsumoto\"をキー、\"vitroid@gmail.com\"を値と呼びます。辞書を使えば、電話帳が簡単に作れます。\n",
        "\n",
        "上のプログラムでは、存在しない名前を入力するとエラーになってしまうので、辞書にその名前のキーがあるがどうかをin演算子を使って調べます。"
      ]
    },
    {
      "cell_type": "code",
      "metadata": {
        "id": "74di9hWRAa92",
        "colab_type": "code",
        "colab": {}
      },
      "source": [
        "a = dict()\n",
        "a[\"Matsumoto\"] = \"vitroid@gmail.com\"\n",
        "a[\"Tanaka\"]    = \"htanakaa@okayama-u.ac.jp\"\n",
        "while True:\n",
        "    name = input(\"Name?\")\n",
        "    if name == \"\":\n",
        "        print(\"Bye.\")\n",
        "        break\n",
        "    if name in a:\n",
        "        print(a[name])\n",
        "    else:\n",
        "        print(\"Sorry, the name '{0}' is not found in the directory.\".format(name))\n",
        "        email = input(\"Input his/her email address:\")\n",
        "        a[name] = email\n"
      ],
      "execution_count": 0,
      "outputs": []
    },
    {
      "cell_type": "markdown",
      "metadata": {
        "id": "S5UIldJ7Aa-B",
        "colab_type": "text"
      },
      "source": [
        "辞書を配列の代わりに使う場合もあります。特に、ほとんどの要素が0であるようなリストは、辞書にしたほうが格段にメモリの無駄がなくなり、処理も速くなります。\n",
        "\n",
        "### リストで書いた例"
      ]
    },
    {
      "cell_type": "code",
      "metadata": {
        "id": "avmaf7v7Aa-C",
        "colab_type": "code",
        "colab": {}
      },
      "source": [
        "import time\n",
        "now = time.time()                   #time.time()関数は現在時刻を秒単位の実数で返す。\n",
        "\n",
        "a = [0 for i in range(10000000)]    #すべての要素が0の、一千万個のリスト。100MB程度のメモリが必要\n",
        "a[0] = 1                            #2つだけ要素を1にする。\n",
        "a[9999999] = 1\n",
        "\n",
        "for i in range(10000000):           #値が1の要素をさがす。一千万回のループ\n",
        "    if a[i] == 1:\n",
        "        print(i)\n",
        "\n",
        "print(time.time()-now,\" sec\")"
      ],
      "execution_count": 0,
      "outputs": []
    },
    {
      "cell_type": "markdown",
      "metadata": {
        "id": "96OBHAn7Aa-G",
        "colab_type": "text"
      },
      "source": [
        "### 辞書で書いた例"
      ]
    },
    {
      "cell_type": "code",
      "metadata": {
        "id": "uTkiSQvyAa-G",
        "colab_type": "code",
        "colab": {},
        "cellView": "both"
      },
      "source": [
        "#@title\n",
        "import time\n",
        "now = time.time()                   #time.time()関数は現在時刻を秒単位の実数で返す。\n",
        "\n",
        "a = dict()\n",
        "a[-9999999] = 1                     #2つだけ要素を1にする。\n",
        "a[9999999.9] = 1\n",
        "for i in a:                         #aのキーについて繰り返す。\n",
        "    print(i)\n",
        "\n",
        "print(time.time()-now,\" sec\")"
      ],
      "execution_count": 0,
      "outputs": []
    },
    {
      "cell_type": "markdown",
      "metadata": {
        "id": "hYFgda2zAa-K",
        "colab_type": "text"
      },
      "source": [
        "辞書のキーは負の整数でも実数でも構いません。使わない要素は0を入れておく必要もないので、メモリも処理も最小限ですみます。"
      ]
    },
    {
      "cell_type": "markdown",
      "metadata": {
        "id": "0Y08nh9YAa-L",
        "colab_type": "text"
      },
      "source": [
        "## 辞書の使用例\n",
        "「雨ニモマケズ」に含まれる文字の種類と個数を数えてみます。原文を青空文庫からもってきて、"
      ]
    },
    {
      "cell_type": "code",
      "metadata": {
        "id": "Uug4SOHnNrpz",
        "colab_type": "code",
        "colab": {}
      },
      "source": [
        "import urllib  as u1\n",
        "url = \"https://\" + u1.parse.quote(\"raw.githubusercontent.com/vitroid/PythonTutorials/2020m0/2 Advanced/amenimo.txt\")\n",
        "print(url)\n",
        "import requests as req\n",
        "雨にも = req.get(url).text #, encoding='utf-8').text\n",
        "print(雨にも)\n"
      ],
      "execution_count": 0,
      "outputs": []
    },
    {
      "cell_type": "code",
      "metadata": {
        "id": "jE_Czp0xLw7y",
        "colab_type": "code",
        "colab": {}
      },
      "source": [
        "lettercount = dict()\n",
        "for letter in 雨にも:\n",
        "    #すでに辞書にある文字なら\n",
        "    if letter in lettercount:\n",
        "        lettercount[letter] += 1\n",
        "    #辞書にない文字なら初期化する\n",
        "    else:\n",
        "        lettercount[letter] = 1\n",
        "for letter in sorted(lettercount, key=lettercount.get):\n",
        "    print(letter,lettercount[letter])"
      ],
      "execution_count": 0,
      "outputs": []
    },
    {
      "cell_type": "markdown",
      "metadata": {
        "id": "uEBniq0bAa-O",
        "colab_type": "text"
      },
      "source": [
        "関数をつかって、もっとシンプルに書けます。"
      ]
    },
    {
      "cell_type": "code",
      "metadata": {
        "id": "NkwCfdWNAa-P",
        "colab_type": "code",
        "colab": {}
      },
      "source": [
        "def count_members(s):\n",
        "    count = dict()\n",
        "    for c in s:\n",
        "        if c in count:\n",
        "            count[c] += 1\n",
        "        else:\n",
        "            count[c] = 1\n",
        "    return count\n",
        "\n",
        "lettercount = count_members(雨にも)\n",
        "for letter in sorted(lettercount, key=lambda x:lettercount[x]):\n",
        "    print(letter,lettercount[letter])"
      ],
      "execution_count": 0,
      "outputs": []
    },
    {
      "cell_type": "markdown",
      "metadata": {
        "id": "CzuVE6JKAa-W",
        "colab_type": "text"
      },
      "source": [
        "連続する2文字の出現頻度を数えます。行末の\"ズ\"、\"ニモ\"、\"アレ\"、\"ッテ\"などが多いことがわかりました。こういった解析で、文章の作者を推測するプロファイリングができるかもしれません。"
      ]
    },
    {
      "cell_type": "code",
      "metadata": {
        "id": "AXYhC5JLAa-X",
        "colab_type": "code",
        "colab": {}
      },
      "source": [
        "lettercount = dict()\n",
        "for i in range(len(雨にも)-1):\n",
        "    #2文字のタプルを作る\n",
        "    two = 雨にもまけず[i:i+2]\n",
        "    #すでに辞書にある文字なら\n",
        "    if two in lettercount:\n",
        "        lettercount[two] += 1\n",
        "    #辞書にない文字なら初期化する\n",
        "    else:\n",
        "        lettercount[two] = 1\n",
        "for two in sorted(lettercount, key=lettercount.get):\n",
        "    print(two,lettercount[two])"
      ],
      "execution_count": 0,
      "outputs": []
    },
    {
      "cell_type": "markdown",
      "metadata": {
        "collapsed": true,
        "id": "ZjK4rAaIAa-a",
        "colab_type": "text"
      },
      "source": [
        "要素と要素のつながりを辞書で表すことができます。"
      ]
    },
    {
      "cell_type": "code",
      "metadata": {
        "id": "KoD16O9LAa-c",
        "colab_type": "code",
        "colab": {}
      },
      "source": [
        "link = dict()\n",
        "link[\"A\"] = \"B\"\n",
        "link[\"B\"] = \"C\"\n",
        "link[\"C\"] = \"A\""
      ],
      "execution_count": 0,
      "outputs": []
    },
    {
      "cell_type": "markdown",
      "metadata": {
        "id": "5s_PXRaTAa-f",
        "colab_type": "text"
      },
      "source": [
        "つながりをたどっていくには、次のようにします。"
      ]
    },
    {
      "cell_type": "code",
      "metadata": {
        "id": "efBUhf6KAa-g",
        "colab_type": "code",
        "colab": {}
      },
      "source": [
        "print(link[link[link[\"A\"]]])"
      ],
      "execution_count": 0,
      "outputs": []
    },
    {
      "cell_type": "markdown",
      "metadata": {
        "collapsed": true,
        "id": "HvVkvVpUAa-j",
        "colab_type": "text"
      },
      "source": [
        "## 宿題\n",
        "どちらかを選んでプログラムを作成して下さい。"
      ]
    },
    {
      "cell_type": "markdown",
      "metadata": {
        "collapsed": true,
        "id": "RBYnyDI9Aa-j",
        "colab_type": "text"
      },
      "source": [
        "### 問題1\n",
        "百人一首のリストを読みこんで、決まり字(冒頭の数文字で、それを読めば、つづきが一意的に決まるようなもの)を見付けだすプログラムを書いてみよう。\n",
        "\n",
        "例えば「むらさめの つゆもまだひぬ まきのはに」のように、「む」からはじまる歌は1つしかないので、「む」を聞いただけで、あとの句が特定できるので、この句の決まり字は「む」である。\n",
        "\n",
        "1. 100句のよみがなをfile \"百人一首.txt\" から読みこんで、100要素のリストを作る。ここでは、`readlines()`関数を使うことで、行ごとに分割されたリストが自動的にできあがる。"
      ]
    },
    {
      "cell_type": "code",
      "metadata": {
        "id": "3DVUrQIoAa-k",
        "colab_type": "code",
        "colab": {}
      },
      "source": [
        "# Google Colabを使い、URL指定でファイルを読みこむ。\n",
        "import urllib  as u1\n",
        "url = \"https://\" + u1.parse.quote(\"raw.githubusercontent.com/vitroid/PythonTutorials/2020m0/2 Advanced/百人一首.txt\")\n",
        "import requests as req\n",
        "lines = req.get(url).text.splitlines() #, encoding='utf-8').text\n",
        "# linesは100個の歌が入ったリスト。\n",
        "print(lines)\n",
        "print(len(lines))"
      ],
      "execution_count": 0,
      "outputs": []
    },
    {
      "cell_type": "markdown",
      "metadata": {
        "collapsed": true,
        "id": "9Bng8NQnAa-n",
        "colab_type": "text"
      },
      "source": [
        "2. まず、冒頭の文字何文字を検討するかを決める。とりあえず、1文字を検討することとし、それをnとする。"
      ]
    },
    {
      "cell_type": "code",
      "metadata": {
        "id": "XYo2TqZnAa-o",
        "colab_type": "code",
        "colab": {}
      },
      "source": [
        "n=1"
      ],
      "execution_count": 0,
      "outputs": []
    },
    {
      "cell_type": "markdown",
      "metadata": {
        "collapsed": true,
        "id": "GhckzlUAAa-r",
        "colab_type": "text"
      },
      "source": [
        "3. 空の辞書を作る。辞書のキーには決まり字、値にはその決まり字ではじまる句の個数を入れることにする。\n",
        "1. それぞれの句について、\n",
        "    1. 最初のn文字をとりだす。これをheadとする。\n",
        "    1. 辞書のkeyの中に、headがあれば、それに1を加える。なければ、1を入れる。\n",
        "1. すべての辞書のキーについて\n",
        "    1. 値が1であればキーを表示する。"
      ]
    },
    {
      "cell_type": "markdown",
      "metadata": {
        "collapsed": true,
        "id": "SR1gyGsKAa-r",
        "colab_type": "text"
      },
      "source": [
        "### 問題2\n",
        "英文sample.txtを読みこみ、その中に出現する単語を抽出して、頻度の高い順に表示するプログラムを書いてみよう。\n",
        "\n",
        "長い文章をファイルから読みこむのは、`readlines()`で読みこんで`join()`で一文につないでしまう。"
      ]
    },
    {
      "cell_type": "code",
      "metadata": {
        "id": "xEz7VBkWAa-s",
        "colab_type": "code",
        "colab": {}
      },
      "source": [
        "a = \"\".join(open(\"sample.txt\").readlines())\n",
        "a"
      ],
      "execution_count": 0,
      "outputs": []
    },
    {
      "cell_type": "markdown",
      "metadata": {
        "collapsed": true,
        "id": "EiIvnUEbAa-v",
        "colab_type": "text"
      },
      "source": [
        "出現頻度順の単語帳を持っていると、英語に限らず、外国語を勉強する時に非常に効率がよくなる。あなたがこれから読む予定の論文から、まずは単語を全部抽出し、頻度の高い順に並べて、上から順に見ていって、上位の知らない単語をさきに辞書で調べておけば、論文を読みながら辞書を引く必要はほとんどなくなる。\n",
        "\n",
        "単語と単語の切れ目には\",\"、\".\"などの文字が使われる。いろんな区切り文字は一旦ぜんぶ空白におきかえてからsplit()関数で分割する。(もっとスマートにやりたいなら正規表現を勉強する→http://www.diveintopython3.net/regular-expressions.html)"
      ]
    },
    {
      "cell_type": "code",
      "metadata": {
        "scrolled": true,
        "id": "uko6kxAwAa-w",
        "colab_type": "code",
        "colab": {}
      },
      "source": [
        "# 例\n",
        "#a=\"This sentence contains commas, semicolons; and periods.\\n\"\n",
        "a = a.replace(';', ' ')\n",
        "a = a.replace('.', ' ')\n",
        "a = a.replace(',', ' ')\n",
        "a = a.replace(':', ' ')\n",
        "a = a.replace('\"', ' ')\n",
        "a = a.replace(\"'\", ' ')\n",
        "print(a)\n",
        "words = a.split()\n",
        "print(words)"
      ],
      "execution_count": 0,
      "outputs": []
    },
    {
      "cell_type": "markdown",
      "metadata": {
        "id": "j9NjHWt1Aa-z",
        "colab_type": "text"
      },
      "source": [
        "あとはでてきた単語を辞書wordcountに入れて、上の例とおなじように回数を数える。\n",
        "\n",
        "キー(単語)の順でソートするなら、上のほうでもでてきた通り、"
      ]
    },
    {
      "cell_type": "code",
      "metadata": {
        "id": "9aogUoqxAa-0",
        "colab_type": "code",
        "colab": {}
      },
      "source": [
        "for key in sorted(wordcount):"
      ],
      "execution_count": 0,
      "outputs": []
    },
    {
      "cell_type": "markdown",
      "metadata": {
        "id": "ox0OhAXvAa-_",
        "colab_type": "text"
      },
      "source": [
        "でいいのだが、出現頻度順でソートする場合には、値でソートしなければいけない。その場合は、次のような書き方を使う。"
      ]
    },
    {
      "cell_type": "code",
      "metadata": {
        "id": "1oPQSPjtAa_A",
        "colab_type": "code",
        "colab": {}
      },
      "source": [
        "for key in sorted(wordcount, key=wordcount.get):"
      ],
      "execution_count": 0,
      "outputs": []
    },
    {
      "cell_type": "markdown",
      "metadata": {
        "id": "sh2dFh1wAa_D",
        "colab_type": "text"
      },
      "source": [
        "英語のNative Speakerにボイスレコーダーをくっつけ、日常に使っている英語のすべてを一週間まるまる録音してから、使ったフレーズを出現頻度順に並べ、上から順番に丸暗記すれば、誰でもNative Speakerの言い回しができるようになると思っている。誰か、外国人向けの促成日本語教材を作ってみてはどうだろう。頻繁に「Majika」とか「Sugee」とか「Yabai」とか言う外国人が促成される気はするが。"
      ]
    }
  ]
}
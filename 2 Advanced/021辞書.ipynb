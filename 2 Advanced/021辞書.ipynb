{
  "nbformat": 4,
  "nbformat_minor": 0,
  "metadata": {
    "kernelspec": {
      "display_name": "Python 3",
      "language": "python",
      "name": "python3"
    },
    "language_info": {
      "codemirror_mode": {
        "name": "ipython",
        "version": 3
      },
      "file_extension": ".py",
      "mimetype": "text/x-python",
      "name": "python",
      "nbconvert_exporter": "python",
      "pygments_lexer": "ipython3",
      "version": "3.6.5"
    },
    "colab": {
      "name": "021辞書.ipynb",
      "provenance": [],
      "include_colab_link": true
    }
  },
  "cells": [
    {
      "cell_type": "markdown",
      "metadata": {
        "id": "view-in-github",
        "colab_type": "text"
      },
      "source": [
        "<a href=\"https://colab.research.google.com/github/vitroid/PythonTutorials/blob/master/2%20Advanced/021%E8%BE%9E%E6%9B%B8.ipynb\" target=\"_parent\"><img src=\"https://colab.research.google.com/assets/colab-badge.svg\" alt=\"Open In Colab\"/></a>"
      ]
    },
    {
      "cell_type": "markdown",
      "metadata": {
        "id": "6P9iFUZDAa9J"
      },
      "source": [
        "# 辞書\n",
        "リストは、複数のデータを並べて集めたものであると同時に、番号と値を結びつける関数とみなすこともできます。"
      ]
    },
    {
      "cell_type": "code",
      "metadata": {
        "id": "-iIoJnh6Aa9N"
      },
      "source": [
        "a = [3,1,4,1,5,9]\n",
        "print(a[1])\n",
        "print(a[3])"
      ],
      "execution_count": null,
      "outputs": []
    },
    {
      "cell_type": "markdown",
      "metadata": {
        "id": "4txiM3jhAa9e"
      },
      "source": [
        "値には文字列やリストなど、どんなデータタイプでも選べますが、番号のほうは非負の整数でなければなりません。\n",
        "\n",
        "辞書(dictionary)を使うと、番号に文字列を使うこともできます。"
      ]
    },
    {
      "cell_type": "code",
      "metadata": {
        "id": "iGqCelUDAa9k"
      },
      "source": [
        "a = dict()\n",
        "a[\"Matsumoto\"] = \"vitroid@gmail.com\"\n",
        "a[\"Tanaka\"]    = \"htanakaa@okayama-u.ac.jp\"\n",
        "name = input(\"Name?\")\n",
        "print(a[name])"
      ],
      "execution_count": null,
      "outputs": []
    },
    {
      "cell_type": "markdown",
      "metadata": {
        "id": "y5tNu3thAa9s"
      },
      "source": [
        "辞書のキー( [...]の中身 )には実数でも文字列で何でも使えると書きましたが、実は制約があります。キーは定数でなければなりません。リストは変数(あとから中身をさしかえられる)なので辞書のキーには使えませんが、タプルは定数なので、辞書のキーに使えます。"
      ]
    },
    {
      "cell_type": "code",
      "metadata": {
        "id": "Mjcg99XkAa9u"
      },
      "source": [
        "a = dict()\n",
        "a[\"四\"] = \"four\" #キーは\"四\"、値は\"four\"\n",
        "a[2,3] = 5       # a[(2,3)]と同じ意味\n",
        "a[1,2,3] = 6\n",
        "print(a)"
      ],
      "execution_count": null,
      "outputs": []
    },
    {
      "cell_type": "code",
      "metadata": {
        "id": "gXMwgZApBNdq"
      },
      "source": [
        "a[[2,3]] = 5     #キーが変数なのでエラー"
      ],
      "execution_count": null,
      "outputs": []
    },
    {
      "cell_type": "markdown",
      "metadata": {
        "id": "N23HuI9YAa92"
      },
      "source": [
        "辞書はデータベースとも言えます。上の場合、\"Matsumoto\"をキー、\"vitroid@gmail.com\"を値と呼びます。辞書を使えば、電話帳が簡単に作れます。\n",
        "\n",
        "上のプログラムでは、存在しない名前を入力するとエラーになってしまうので、辞書にその名前のキーがあるがどうかをin演算子を使って調べます。\n",
        "\n",
        "> Pythonでは、inはいくつかの意味で使われるので、すこしまぎらわしい語です。ここのように、if文の中にあらわれるinは、文字通り、集合体(集合、文字列、リストなど)のなかにその要素が含まれているかを判別する演算子として使われています。一方、for文では、inは繰り返しを行う集合体を指定するもので、演算子ではありません。英語のinの多義性がそのままプログラム言語に反映されてしまっている、あまり好ましくない例です。"
      ]
    },
    {
      "cell_type": "code",
      "metadata": {
        "id": "74di9hWRAa92"
      },
      "source": [
        "a = dict()\n",
        "a[\"Matsumoto\"] = \"vitroid@gmail.com\"\n",
        "a[\"Tanaka\"]    = \"htanakaa@okayama-u.ac.jp\"\n",
        "while True:\n",
        "    name = input(\"Name?\")\n",
        "    if name == \"\":\n",
        "        print(\"Bye.\")\n",
        "        break\n",
        "    if name in a:\n",
        "        print(a[name])\n",
        "    else:\n",
        "        print(\"Sorry, the name '{0}' is not found in the directory.\".format(name))\n",
        "        email = input(\"Input his/her email address:\")\n",
        "        a[name] = email\n"
      ],
      "execution_count": null,
      "outputs": []
    },
    {
      "cell_type": "markdown",
      "source": [
        "(実用性を考えると、新たに登録されたメールアドレスはどこかに保存しておきたいところですね。ColabはCloud上で動いているので、保存先をうまく考える必要があります。)"
      ],
      "metadata": {
        "id": "SX0sXWKFRRvj"
      }
    },
    {
      "cell_type": "markdown",
      "source": [
        "## 初期値を準備する方法\n",
        "\n",
        "あらかじめ、辞書にいろんな情報を入れておきたい場合はいくつもの書き方があります。ここでは、大文字と小文字を対応させる辞書を作ってみます。"
      ],
      "metadata": {
        "id": "Ij5Ieqx4tLkx"
      }
    },
    {
      "cell_type": "markdown",
      "source": [
        "### 1. 単純な書き方"
      ],
      "metadata": {
        "id": "biz1p7zQtdOb"
      }
    },
    {
      "cell_type": "code",
      "source": [
        "D = dict()\n",
        "D[\"A\"] = \"a\"\n",
        "D[\"B\"] = \"b\"\n",
        "# ...\n",
        "\n",
        "D"
      ],
      "metadata": {
        "id": "K4LTveMFtzP5",
        "outputId": "dd160ab4-4d3e-4449-f425-777034bbd611",
        "colab": {
          "base_uri": "https://localhost:8080/"
        }
      },
      "execution_count": 1,
      "outputs": [
        {
          "output_type": "execute_result",
          "data": {
            "text/plain": [
              "{'A': 'a', 'B': 'b'}"
            ]
          },
          "metadata": {},
          "execution_count": 1
        }
      ]
    },
    {
      "cell_type": "markdown",
      "source": [
        "### 2. `{...}`を使う書き方"
      ],
      "metadata": {
        "id": "iq2Z-hrVtjTV"
      }
    },
    {
      "cell_type": "code",
      "source": [
        "D = {\"A\": \"a\", \"B\": \"b\"}\n",
        "D"
      ],
      "metadata": {
        "id": "Y0jPljjvt8_b",
        "outputId": "ba603040-b6d2-4a25-805e-239b723c458e",
        "colab": {
          "base_uri": "https://localhost:8080/"
        }
      },
      "execution_count": 2,
      "outputs": [
        {
          "output_type": "execute_result",
          "data": {
            "text/plain": [
              "{'A': 'a', 'B': 'b'}"
            ]
          },
          "metadata": {},
          "execution_count": 2
        }
      ]
    },
    {
      "cell_type": "markdown",
      "source": [
        "### 2つのリストを融合する方法"
      ],
      "metadata": {
        "id": "fgMdgb-DuHII"
      }
    },
    {
      "cell_type": "code",
      "source": [
        "caps = [\"A\", \"B\"]\n",
        "small = [\"a\", \"b\"]\n",
        "# zip()は2つのリストをくっつける。\n",
        "for c, s in zip(caps, small):\n",
        "    print(c,s)\n"
      ],
      "metadata": {
        "id": "aDmOtQNBuLVH",
        "outputId": "434a51cf-76b1-418c-fd77-61f95ab5b0d6",
        "colab": {
          "base_uri": "https://localhost:8080/"
        }
      },
      "execution_count": 6,
      "outputs": [
        {
          "output_type": "stream",
          "name": "stdout",
          "text": [
            "A a\n",
            "B b\n"
          ]
        }
      ]
    },
    {
      "cell_type": "code",
      "source": [
        "D = dict(zip(caps, small))\n",
        "D"
      ],
      "metadata": {
        "id": "TFy55TururOE",
        "outputId": "f193c89f-3cdd-4140-f08d-728cd78e3fec",
        "colab": {
          "base_uri": "https://localhost:8080/"
        }
      },
      "execution_count": 7,
      "outputs": [
        {
          "output_type": "execute_result",
          "data": {
            "text/plain": [
              "{'A': 'a', 'B': 'b'}"
            ]
          },
          "metadata": {},
          "execution_count": 7
        }
      ]
    },
    {
      "cell_type": "code",
      "source": [
        "# 文字列を文字の羅列とみなすことで、こんな書き方もできます。\n",
        "D = dict(zip(\"ABCDEFG\", \"abcdefg\"))\n",
        "D"
      ],
      "metadata": {
        "id": "CLVrPeSYvD_R",
        "outputId": "6ade1d59-f1a5-4dcc-9bf1-dd0467a4f5d1",
        "colab": {
          "base_uri": "https://localhost:8080/"
        }
      },
      "execution_count": 9,
      "outputs": [
        {
          "output_type": "execute_result",
          "data": {
            "text/plain": [
              "{'A': 'a', 'B': 'b', 'C': 'c', 'D': 'd', 'E': 'e', 'F': 'f', 'G': 'g'}"
            ]
          },
          "metadata": {},
          "execution_count": 9
        }
      ]
    },
    {
      "cell_type": "markdown",
      "source": [
        "### 2つの辞書を融合する方法"
      ],
      "metadata": {
        "id": "NpCN8meZuz0l"
      }
    },
    {
      "cell_type": "code",
      "source": [
        "A = {\"A\": \"a\"}\n",
        "B = {\"B\": \"b\"}\n",
        "D = A | B\n",
        "D"
      ],
      "metadata": {
        "id": "RTawKUkLu2tP",
        "outputId": "618384fa-0ad6-44bf-8900-087797c0a15e",
        "colab": {
          "base_uri": "https://localhost:8080/"
        }
      },
      "execution_count": 8,
      "outputs": [
        {
          "output_type": "execute_result",
          "data": {
            "text/plain": [
              "{'A': 'a', 'B': 'b'}"
            ]
          },
          "metadata": {},
          "execution_count": 8
        }
      ]
    },
    {
      "cell_type": "markdown",
      "metadata": {
        "id": "S5UIldJ7Aa-B"
      },
      "source": [
        "辞書を配列の代わりに使う場合もあります。特に、ほとんどの要素が0であるようなリストは、辞書にしたほうが格段にメモリの無駄がなくなり、処理も速くなります。\n",
        "\n",
        "### リストで書いた例"
      ]
    },
    {
      "cell_type": "code",
      "metadata": {
        "id": "avmaf7v7Aa-C"
      },
      "source": [
        "import time\n",
        "now = time.time()                   #time.time()関数は現在時刻を秒単位の実数で返す。\n",
        "\n",
        "a = [0 for i in range(10000000)]    #すべての要素が0の、一千万個のリスト。100MB程度のメモリが必要\n",
        "a[0] = 1                            #2つだけ要素を1にする。\n",
        "a[9999999] = 1\n",
        "\n",
        "for i in range(10000000):           #値が1の要素をさがす。一千万回のループ\n",
        "    if a[i] == 1:\n",
        "        print(i)\n",
        "\n",
        "print(time.time()-now,\" sec\")"
      ],
      "execution_count": null,
      "outputs": []
    },
    {
      "cell_type": "markdown",
      "metadata": {
        "id": "96OBHAn7Aa-G"
      },
      "source": [
        "### 辞書で書いた例"
      ]
    },
    {
      "cell_type": "code",
      "metadata": {
        "id": "uTkiSQvyAa-G"
      },
      "source": [
        "#@title\n",
        "import time\n",
        "now = time.time()                   #time.time()関数は現在時刻を秒単位の実数で返す。\n",
        "\n",
        "a = dict()\n",
        "a[-9999999] = 1                     #2つだけ要素を1にする。\n",
        "a[9999999.9] = 1\n",
        "for i in a:                         #aのキーについて繰り返す。\n",
        "    print(i)\n",
        "\n",
        "print(time.time()-now,\" sec\")"
      ],
      "execution_count": null,
      "outputs": []
    },
    {
      "cell_type": "markdown",
      "metadata": {
        "id": "hYFgda2zAa-K"
      },
      "source": [
        "辞書のキーは負の整数でも実数でも構いません。使わない要素は0を入れておく必要もないので、メモリも処理も最小限ですみます。"
      ]
    },
    {
      "cell_type": "markdown",
      "source": [
        "## 練習問題\n",
        "\n",
        "1. アルファベットの大文字をキー、小文字を値とする新しい辞書を作り、`D`とする。\n",
        "1. アルファベットの小文字をキー、小文字を値とする新しい辞書を作り、`E`とする。\n",
        "2. `D` と`E`を融合して`F`とする。\n",
        "3. 辞書`F`を使い、大文字と小文字がいりまじった文字列`HelloWorld`をすべて小文字に書きかえる。\n",
        "4. 大文字と小文字がいりまじった文字列をすべて小文字に書きかえる関数`lower`を作る。"
      ],
      "metadata": {
        "id": "EPfvalMIsxhj"
      }
    },
    {
      "cell_type": "markdown",
      "metadata": {
        "id": "0Y08nh9YAa-L"
      },
      "source": [
        "## 辞書の使用例\n",
        "「雨ニモマケズ」に含まれる文字の種類と個数を数えてみます。原文を以下のURLに置いてあります。これをネットからもってきます。\n",
        "`https://raw.githubusercontent.com/vitroid/PythonTutorials/master/2 Advanced/amenimo.txt`"
      ]
    },
    {
      "cell_type": "code",
      "metadata": {
        "id": "Uug4SOHnNrpz"
      },
      "source": [
        "import requests as req\n",
        "url = \"https://raw.githubusercontent.com/vitroid/PythonTutorials/master/2 Advanced/amenimo.txt\"\n",
        "雨にも = req.get(url).text #, encoding='utf-8').text\n",
        "print(雨にも)\n"
      ],
      "execution_count": null,
      "outputs": []
    },
    {
      "cell_type": "markdown",
      "source": [
        "最初のforループで、1文字ずつ処理します。"
      ],
      "metadata": {
        "id": "uXavZZb8GN7m"
      }
    },
    {
      "cell_type": "code",
      "metadata": {
        "id": "jE_Czp0xLw7y"
      },
      "source": [
        "# 空の辞書を準備する。\n",
        "lettercount = dict()\n",
        "\n",
        "# letterには、`雨にも`の内容が1文字ずつ入る。\n",
        "for letter in 雨にも:\n",
        "    #すでに辞書にある文字なら\n",
        "    if letter in lettercount:\n",
        "        lettercount[letter] += 1\n",
        "    #辞書にない文字なら初期化する\n",
        "    else:\n",
        "        lettercount[letter] = 1\n",
        "for letter in sorted(lettercount, key=lettercount.get):\n",
        "    print(letter,lettercount[letter])"
      ],
      "execution_count": null,
      "outputs": []
    },
    {
      "cell_type": "markdown",
      "metadata": {
        "id": "uEBniq0bAa-O"
      },
      "source": [
        "再利用できるように、関数([解説](https://colab.research.google.com/github/vitroid/PythonTutorials/blob/master/2%20Advanced/026関数.ipynb)) をつくってしまいます。"
      ]
    },
    {
      "cell_type": "code",
      "metadata": {
        "id": "NkwCfdWNAa-P"
      },
      "source": [
        "def count_members(s):\n",
        "    # 空の辞書を準備する。\n",
        "    count = dict()\n",
        "    # cには、sの内容が1文字ずつ入る。\n",
        "    for c in s:\n",
        "        if c in count:\n",
        "            count[c] += 1\n",
        "        else:\n",
        "            count[c] = 1\n",
        "    # 辞書を、関数の値として返す。\n",
        "    return count\n",
        "\n",
        "lettercount = count_members(雨にも)\n",
        "for letter in sorted(lettercount, key=lambda x:lettercount[x]):\n",
        "    print(letter,lettercount[letter])"
      ],
      "execution_count": null,
      "outputs": []
    },
    {
      "cell_type": "markdown",
      "metadata": {
        "id": "CzuVE6JKAa-W"
      },
      "source": [
        "連続する2文字の出現頻度を数えます。\n",
        "\n",
        "せっかく作った`count_members()`を再利用したいので、先に文章を2文字ずつに分けます。リストの一部をとりだす記法と、リスト内包記法を組みあわせました。"
      ]
    },
    {
      "cell_type": "code",
      "metadata": {
        "id": "AXYhC5JLAa-X"
      },
      "source": [
        "two = [雨にも[i:i+2] for i in range(len(雨にも)-1)]\n",
        "print(two)"
      ],
      "execution_count": null,
      "outputs": []
    },
    {
      "cell_type": "code",
      "source": [
        "lettercount = count_members(two)\n",
        "for letter in sorted(lettercount, key=lambda x:lettercount[x]):\n",
        "    print(letter,lettercount[letter])"
      ],
      "metadata": {
        "id": "CWfoS4eEITZM"
      },
      "execution_count": null,
      "outputs": []
    },
    {
      "cell_type": "markdown",
      "metadata": {
        "collapsed": true,
        "id": "ZjK4rAaIAa-a"
      },
      "source": [
        "行末の\"ズ\"、\"ニモ\"、\"アレ\"、\"ッテ\"などが多いことがわかりました。こういった解析で、文章の作者を推測するプロファイリングができるかもしれません。\n",
        "\n"
      ]
    },
    {
      "cell_type": "markdown",
      "metadata": {
        "collapsed": true,
        "id": "SR1gyGsKAa-r"
      },
      "source": [
        "英文sample.txtを読みこみ、その中に出現する単語を抽出して、頻度の高い順に表示するプログラムを書いてみよう。\n"
      ]
    },
    {
      "cell_type": "code",
      "metadata": {
        "id": "xEz7VBkWAa-s"
      },
      "source": [
        "url = \"https://raw.githubusercontent.com/vitroid/PythonTutorials/master/2 Advanced/sample.txt\"\n",
        "a = req.get(url).text #, encoding='utf-8').text\n",
        "a"
      ],
      "execution_count": null,
      "outputs": []
    },
    {
      "cell_type": "markdown",
      "metadata": {
        "collapsed": true,
        "id": "EiIvnUEbAa-v"
      },
      "source": [
        "出現頻度順の単語帳を持っていると、英語に限らず、外国語を勉強する時に非常に効率がよくなる。あなたがこれから読む予定の論文から、まずは単語を全部抽出し、頻度の高い順に並べて、上から順に見ていって、上位の知らない単語をさきに辞書で調べておけば、論文を読みながら辞書を引く必要はほとんどなくなる。\n",
        "\n",
        "単語と単語の切れ目には\",\"、\".\"などの文字が使われる。いろんな区切り文字は一旦ぜんぶ空白におきかえてからsplit()関数で分割する。(もっとスマートにやりたいなら正規表現を勉強する→http://www.diveintopython3.net/regular-expressions.html)"
      ]
    },
    {
      "cell_type": "code",
      "metadata": {
        "scrolled": true,
        "id": "uko6kxAwAa-w"
      },
      "source": [
        "# 例\n",
        "#a=\"This sentence contains commas, semicolons; and periods.\\n\"\n",
        "a = a.replace(';', ' ')\n",
        "a = a.replace('.', ' ')\n",
        "a = a.replace(',', ' ')\n",
        "a = a.replace(':', ' ')\n",
        "a = a.replace('\"', ' ')\n",
        "a = a.replace(\"'\", ' ')\n",
        "print(a)\n"
      ],
      "execution_count": null,
      "outputs": []
    },
    {
      "cell_type": "code",
      "source": [
        "words = a.split()\n",
        "words"
      ],
      "metadata": {
        "id": "FrRflk7_M2RJ"
      },
      "execution_count": null,
      "outputs": []
    },
    {
      "cell_type": "markdown",
      "metadata": {
        "id": "j9NjHWt1Aa-z"
      },
      "source": [
        "あとはでてきた単語の頻度を数える。\n",
        "\n",
        "(頻度順で表示する部分は、自分で加筆して下さい。)"
      ]
    },
    {
      "cell_type": "code",
      "source": [
        "count_members(words)"
      ],
      "metadata": {
        "id": "haznRwjfNo_m"
      },
      "execution_count": null,
      "outputs": []
    },
    {
      "cell_type": "markdown",
      "metadata": {
        "id": "sh2dFh1wAa_D"
      },
      "source": [
        "英語のNative Speakerにボイスレコーダーをくっつけ、日常に使っている英語のすべてを一週間まるまる録音してから、使ったフレーズを出現頻度順に並べ、上から順番に丸暗記すれば、誰でもNative Speakerの言い回しができるようになると思っている。誰か、外国人向けの促成日本語教材を作ってみてはどうだろう。頻繁に「Majika」とか「Sugee」とか「Yabai」とか言う外国人が促成される気はするが。"
      ]
    },
    {
      "cell_type": "markdown",
      "source": [
        "要素と要素のつながりを辞書で表すことができます。"
      ],
      "metadata": {
        "id": "25gt0BN9PN6L"
      }
    },
    {
      "cell_type": "code",
      "metadata": {
        "id": "KoD16O9LAa-c"
      },
      "source": [
        "link = dict()\n",
        "link[\"A\"] = \"B\"\n",
        "link[\"B\"] = \"C\"\n",
        "link[\"C\"] = \"A\""
      ],
      "execution_count": null,
      "outputs": []
    },
    {
      "cell_type": "markdown",
      "metadata": {
        "id": "5s_PXRaTAa-f"
      },
      "source": [
        "つながりをたどっていくには、次のようにします。"
      ]
    },
    {
      "cell_type": "code",
      "metadata": {
        "id": "efBUhf6KAa-g"
      },
      "source": [
        "print(link[link[link[\"A\"]]])"
      ],
      "execution_count": null,
      "outputs": []
    },
    {
      "cell_type": "markdown",
      "source": [
        "辞書の中に、リストを入れることもできます。以下の例では、文章中にでてくる文字を辞書のキーとし、値にはその次の文字のリストを入れます。さっきつくった、twoを再利用します。\n"
      ],
      "metadata": {
        "id": "JCy44BLZQPLr"
      }
    },
    {
      "cell_type": "code",
      "source": [
        "two\n"
      ],
      "metadata": {
        "id": "7tIJamp9QcJb"
      },
      "execution_count": null,
      "outputs": []
    },
    {
      "cell_type": "markdown",
      "source": [
        "twoの1文字目をkey、2文字目を値とするような辞書を作ります。"
      ],
      "metadata": {
        "id": "Vm--p3Y8Q5WG"
      }
    },
    {
      "cell_type": "code",
      "source": [
        "next = dict()\n",
        "\n",
        "for first, second in two:\n",
        "    if first not in next:\n",
        "        # 辞書のkeyがない時は作る。\n",
        "        next[first] = [second]\n",
        "    else:\n",
        "        # keyがある時は、値を増やす。\n",
        "        next[first].append(second)\n",
        "\n",
        "print(next)"
      ],
      "metadata": {
        "id": "K3C83sACRCr9"
      },
      "execution_count": null,
      "outputs": []
    },
    {
      "cell_type": "markdown",
      "source": [
        "ある文字の次に、どんな文字がどんな頻度で出現するか、という統計情報とみることもできます。これを使い、確率的に次の文字を選んでみます。リストのなかから要素を1つランダムに選ぶ`choice()`関数を利用します。"
      ],
      "metadata": {
        "id": "6ydsDf_8Rfi3"
      }
    },
    {
      "cell_type": "code",
      "source": [
        "from random import choice\n",
        "first = 'ニ'\n",
        "candid = next[first]\n",
        "print(candid)\n",
        "nextletter = choice(candid)\n",
        "nextletter"
      ],
      "metadata": {
        "id": "Z8LparYLR3fN"
      },
      "execution_count": null,
      "outputs": []
    },
    {
      "cell_type": "markdown",
      "source": [
        "これをぐるぐる回してみます。日本語っぽいのに日本語でない文章が生じます。"
      ],
      "metadata": {
        "id": "TEhbLty7Swkw"
      }
    },
    {
      "cell_type": "code",
      "source": [
        "sentence = \"\"\n",
        "# 最初の文字は与える。\n",
        "word = 'ニ'\n",
        "for i in range(300):\n",
        "    sentence += word\n",
        "    # candidには、次に来る可能性のある文字のリストが入る。\n",
        "    candid = next[word]\n",
        "    # そのなかから、1つ選ぶ。\n",
        "    # candidには同じ文字が重複して含まれているので、そのような文字は選ばれる確率が高くなる。\n",
        "    word = choice(candid)\n",
        "print(sentence)"
      ],
      "metadata": {
        "id": "u3XT4bhoSy-b"
      },
      "execution_count": null,
      "outputs": []
    },
    {
      "cell_type": "markdown",
      "source": [
        "こういう、直前の文字の情報だけで、次の文字の出現確率を決めるやり方を、**マルコフ連鎖**といいます。(モンテカルロシミュレーションは典型的なマルコフ連鎖です)\n",
        "\n",
        "2文字を辞書のキーにし、3文字目を辞書の値に選ぶと、より日本語らしい文章になります。辞書のキーを増やせばふやすほど、本物の日本語そっくりの文章が生じるようになりますが、Pythonが日本語を理解しているわけではないので、そうしてできる文章も支離滅裂なものになります。"
      ],
      "metadata": {
        "id": "FqCaduegZP4A"
      }
    },
    {
      "cell_type": "markdown",
      "metadata": {
        "collapsed": true,
        "id": "HvVkvVpUAa-j"
      },
      "source": [
        "## 課題\n",
        "\n"
      ]
    },
    {
      "cell_type": "markdown",
      "metadata": {
        "collapsed": true,
        "id": "RBYnyDI9Aa-j"
      },
      "source": [
        "### 課題1\n",
        "\n",
        "百人一首のリストを読みこんで、決まり字(冒頭の数文字で、それを読めば、つづきが一意的に決まるようなもの)を見付けだすプログラムを書いてみよう。\n",
        "\n",
        "例えば「むらさめの つゆもまだひぬ まきのはに」のように、「む」からはじまる歌は1つしかないので、「む」を聞いただけで、あとの句が特定できるので、この句の決まり字は「む」である。\n",
        "\n",
        "1. 100句のよみがなをfile \"百人一首.txt\" から読みこんで、100要素のリストを作る。ここでは、`splitlines()`関数を使うことで、行ごとに分割されたリストにする。"
      ]
    },
    {
      "cell_type": "code",
      "metadata": {
        "id": "3DVUrQIoAa-k"
      },
      "source": [
        "url = \"https://raw.githubusercontent.com/vitroid/PythonTutorials/master/2 Advanced/百人一首.txt\"\n",
        "text = req.get(url).text #, encoding='utf-8').text\n",
        "lines = text.splitlines()\n",
        "# linesは100個の歌が入ったリスト。\n",
        "print(lines)\n",
        "print(len(lines))"
      ],
      "execution_count": null,
      "outputs": []
    },
    {
      "cell_type": "markdown",
      "metadata": {
        "collapsed": true,
        "id": "9Bng8NQnAa-n"
      },
      "source": [
        "2. まず、冒頭の文字何文字を検討するかを決める。とりあえず、1文字を検討することとし、それをnとする。"
      ]
    },
    {
      "cell_type": "code",
      "metadata": {
        "id": "XYo2TqZnAa-o"
      },
      "source": [
        "n=1"
      ],
      "execution_count": null,
      "outputs": []
    },
    {
      "cell_type": "markdown",
      "metadata": {
        "collapsed": true,
        "id": "GhckzlUAAa-r"
      },
      "source": [
        "3. 空の辞書を作る。辞書のキーには決まり字、値にはその決まり字ではじまる句の個数を入れることにする。\n",
        "1. それぞれの句について、\n",
        "    1. 最初のn文字をとりだす。これをheadとする。\n",
        "    1. 辞書のkeyの中に、headがあれば、それに1を加える。なければ、1を入れる。\n",
        "1. すべての辞書のキーについて\n",
        "    1. 値が1であればキーを表示する。"
      ]
    },
    {
      "cell_type": "markdown",
      "source": [
        "## 課題2\n",
        "\n",
        "2文字をキーとするマルコフ連鎖プログラムにより、より宮澤賢治っぽい文章を作るプログラムを書く。\n",
        "\n",
        "## 課題3\n",
        "\n",
        "日本語っぽい文章を作る方法を応用して、英語っぽいけど英語ではない文章を作ってみて下さい。"
      ],
      "metadata": {
        "id": "LWUX-BsqUJpO"
      }
    },
    {
      "cell_type": "code",
      "source": [],
      "metadata": {
        "id": "aWSCAbBpaQeX"
      },
      "execution_count": null,
      "outputs": []
    }
  ]
}
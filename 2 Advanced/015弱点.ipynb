{
 "cells": [
  {
   "cell_type": "markdown",
   "metadata": {},
   "source": [
    "# Pythonの弱点\n",
    "* 暗黙の型付けが心配\n",
    "* 遅い\n",
    "\n",
    "## 暗黙の型付けが心配\n",
    "Pythonでは、ある変数に文字列を入れれば文字列として、数値を入れれば数値として扱われます。一方、速度を重視する言語では、変数の型はたいてい明示します。\n",
    "\n",
    "暗黙の型付けは便利な点でもありますが、大規模なプログラムを書いたり、他人のプログラムを読んだりする場合に、間違いが生じる可能性があります。\n",
    "\n",
    "例えば次のような関数の場合を考えます。"
   ]
  },
  {
   "cell_type": "code",
   "execution_count": null,
   "metadata": {
    "collapsed": false
   },
   "outputs": [],
   "source": [
    "def ほげ(x):\n",
    "    for element in x:\n",
    "        if element == 1:\n",
    "            print(x[element])"
   ]
  },
  {
   "cell_type": "markdown",
   "metadata": {},
   "source": [
    "この関数に渡すべきxとは何でしょうか。リスト? ではリストをわたしてみましょう。"
   ]
  },
  {
   "cell_type": "code",
   "execution_count": null,
   "metadata": {
    "collapsed": false
   },
   "outputs": [],
   "source": [
    "x = [3,4,5,6,1,10,9,8]\n",
    "# x[4]=1\n",
    "ほげ(x)"
   ]
  },
  {
   "cell_type": "markdown",
   "metadata": {},
   "source": [
    "どうもこの\"ほげ\"関数は、値が1の要素が何番目にあるかを返す関数のようです。\n",
    "\n",
    "では、同じ関数に、辞書を渡してみましょう。"
   ]
  },
  {
   "cell_type": "code",
   "execution_count": null,
   "metadata": {
    "collapsed": false
   },
   "outputs": [],
   "source": [
    "x = dict()\n",
    "x[8] = \"a\"\n",
    "x[9] = \"b\"\n",
    "x[10] = \"c\"\n",
    "x[1] = \"d\"\n",
    "ほげ(x)"
   ]
  },
  {
   "cell_type": "markdown",
   "metadata": {},
   "source": [
    "この関数は、辞書のキーが1である要素の値を返すようです。\n",
    "\n",
    "つまり、同じプログラムなのに、xがリストであれば、x[n] == 1であるようなnを返すのに、xが辞書であれば、x[1] == nであるようなnを返すのです。この関数を作った人は、xは辞書が入る場合しか考えずに書いたのに、このコードを読んだ人は、このプログラムはリストに使えるコードだと思うかもしれません。引数が辞書でもリストでも動くのは便利である反面、書いた本人以外が使う場合に、予想外の使われかたをする可能性があります。こういうことが起こらないように、"
   ]
  },
  {
   "cell_type": "code",
   "execution_count": null,
   "metadata": {
    "collapsed": true
   },
   "outputs": [],
   "source": [
    "def ほげ(x: dict):\n",
    "    for element in x:\n",
    "        if element == 1:\n",
    "            print(x[element])"
   ]
  },
  {
   "cell_type": "markdown",
   "metadata": {},
   "source": [
    "のような書き方ができればいいのですが、pythonには今のところその機能がないので、関数名やコメントに詳しく説明を書くしかなさそうです。\n",
    "\n",
    "## 遅い\n",
    "はい。たしかに遅いです。最近見たベンチマークテストでは、PythonはCより10倍以上遅いと書かれていましたが、体感的には100倍ぐらい遅い気がします。遅い理由は、暗黙の型付けのせいです。上の例でもわかるように、関数がどう動くかは、関数に渡される変数の型によって変わってしまいますから、事前に最適化することができないせいです。\n",
    "\n",
    "ただし、便利さとひきかえに遅くなっているので、一概に遅さが弱点とは言えません。C言語だと0.001秒で終わる処理が0.1秒かかったとしても、そのプログラムを書き、デバッグし、コンパイルする時間がCで1時間かかるものがPythonで5分ぐらいに短縮できるなら、総合的にはPythonのほうが速いと言えるでしょう。Cだと書くのに5時間、実行に1時間かかるプログラムが、Pythonだと書くのに1時間、実行に10時間かかるとしても、プログラムを書く時間が短ければ、計算はコンピュータにまかせて、早く帰って風呂にはいって、翌日朝には同じ結果を得られます。どちらがストレスなく仕事ができるでしょうか?\n",
    "\n",
    "Pythonの遅さをいくつかの方法で改善しようとしています。\n",
    "### Cで書かれた高速なライブラリを使う\n",
    "numpy(数値計算ライブラリ)は、中核部分をCで書くことで、非常に高速な数値計算を行います。\n",
    "### 翻訳する\n",
    "pythonプログラムを、実行時に前処理して早くするPyPyという処理系があります。http://pypy.org\n",
    "### 文法の拡張\n",
    "cythonでは、c言語によく似た表記をとりいれ、型付き変数を使えるようです。http://omake.accense.com/static/doc-ja/cython/src/reference/language_basics.html\n",
    "### 似た別の言語\n",
    "nimはみかけはPythonに似ていますが、全く別の言語で、静的な型付けに対応し、非常に高速に動作します。Pythonのインデント記法は好きだけど遅さにがまんならない、という人はnimに乗りかえるという手もあります。http://nim-lang.org"
   ]
  },
  {
   "cell_type": "code",
   "execution_count": null,
   "metadata": {
    "collapsed": true
   },
   "outputs": [],
   "source": []
  }
 ],
 "metadata": {
  "kernelspec": {
   "display_name": "Python 3",
   "language": "python",
   "name": "python3"
  },
  "language_info": {
   "codemirror_mode": {
    "name": "ipython",
    "version": 3
   },
   "file_extension": ".py",
   "mimetype": "text/x-python",
   "name": "python",
   "nbconvert_exporter": "python",
   "pygments_lexer": "ipython3",
   "version": "3.6.5"
  }
 },
 "nbformat": 4,
 "nbformat_minor": 2
}

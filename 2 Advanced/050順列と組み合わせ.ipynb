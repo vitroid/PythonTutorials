{
 "cells": [
  {
   "cell_type": "markdown",
   "metadata": {},
   "source": [
    "#順列と組みあわせ\n",
    "結晶格子の座標をプログラムで作りだす場合を考えてみましょう。2次元の10x10の単純正方格子の座標は、2重ループで簡単に書けます。"
   ]
  },
  {
   "cell_type": "code",
   "execution_count": 2,
   "metadata": {
    "collapsed": false
   },
   "outputs": [
    {
     "name": "stdout",
     "output_type": "stream",
     "text": [
      "[(0, 0), (0, 1), (0, 2), (0, 3), (0, 4), (0, 5), (0, 6), (0, 7), (0, 8), (0, 9), (1, 0), (1, 1), (1, 2), (1, 3), (1, 4), (1, 5), (1, 6), (1, 7), (1, 8), (1, 9), (2, 0), (2, 1), (2, 2), (2, 3), (2, 4), (2, 5), (2, 6), (2, 7), (2, 8), (2, 9), (3, 0), (3, 1), (3, 2), (3, 3), (3, 4), (3, 5), (3, 6), (3, 7), (3, 8), (3, 9), (4, 0), (4, 1), (4, 2), (4, 3), (4, 4), (4, 5), (4, 6), (4, 7), (4, 8), (4, 9), (5, 0), (5, 1), (5, 2), (5, 3), (5, 4), (5, 5), (5, 6), (5, 7), (5, 8), (5, 9), (6, 0), (6, 1), (6, 2), (6, 3), (6, 4), (6, 5), (6, 6), (6, 7), (6, 8), (6, 9), (7, 0), (7, 1), (7, 2), (7, 3), (7, 4), (7, 5), (7, 6), (7, 7), (7, 8), (7, 9), (8, 0), (8, 1), (8, 2), (8, 3), (8, 4), (8, 5), (8, 6), (8, 7), (8, 8), (8, 9), (9, 0), (9, 1), (9, 2), (9, 3), (9, 4), (9, 5), (9, 6), (9, 7), (9, 8), (9, 9)]\n"
     ]
    }
   ],
   "source": [
    "pos = []\n",
    "for x in range(10):\n",
    "    for y in range(10):\n",
    "        pos.append((x,y))\n",
    "print(pos)"
   ]
  },
  {
   "cell_type": "markdown",
   "metadata": {},
   "source": [
    "同じように、4x4x4の3次元の立方格子の座標は3重ループで書けます。"
   ]
  },
  {
   "cell_type": "code",
   "execution_count": 3,
   "metadata": {
    "collapsed": false
   },
   "outputs": [
    {
     "name": "stdout",
     "output_type": "stream",
     "text": [
      "[(0, 0, 0), (0, 0, 1), (0, 0, 2), (0, 0, 3), (0, 1, 0), (0, 1, 1), (0, 1, 2), (0, 1, 3), (0, 2, 0), (0, 2, 1), (0, 2, 2), (0, 2, 3), (0, 3, 0), (0, 3, 1), (0, 3, 2), (0, 3, 3), (1, 0, 0), (1, 0, 1), (1, 0, 2), (1, 0, 3), (1, 1, 0), (1, 1, 1), (1, 1, 2), (1, 1, 3), (1, 2, 0), (1, 2, 1), (1, 2, 2), (1, 2, 3), (1, 3, 0), (1, 3, 1), (1, 3, 2), (1, 3, 3), (2, 0, 0), (2, 0, 1), (2, 0, 2), (2, 0, 3), (2, 1, 0), (2, 1, 1), (2, 1, 2), (2, 1, 3), (2, 2, 0), (2, 2, 1), (2, 2, 2), (2, 2, 3), (2, 3, 0), (2, 3, 1), (2, 3, 2), (2, 3, 3), (3, 0, 0), (3, 0, 1), (3, 0, 2), (3, 0, 3), (3, 1, 0), (3, 1, 1), (3, 1, 2), (3, 1, 3), (3, 2, 0), (3, 2, 1), (3, 2, 2), (3, 2, 3), (3, 3, 0), (3, 3, 1), (3, 3, 2), (3, 3, 3)]\n"
     ]
    }
   ],
   "source": [
    "pos = []\n",
    "for x in range(4):\n",
    "    for y in range(4):\n",
    "        for z in range(4):\n",
    "            pos.append((x,y,z))\n",
    "print(pos)"
   ]
  },
  {
   "cell_type": "markdown",
   "metadata": {},
   "source": [
    "1〜10のなかから異なる2つを選んだ組みあわせを作りたい場合は、条件分けすればいいのです。"
   ]
  },
  {
   "cell_type": "code",
   "execution_count": 4,
   "metadata": {
    "collapsed": false
   },
   "outputs": [
    {
     "name": "stdout",
     "output_type": "stream",
     "text": [
      "[(1, 2), (1, 3), (1, 4), (1, 5), (1, 6), (1, 7), (1, 8), (1, 9), (1, 10), (2, 3), (2, 4), (2, 5), (2, 6), (2, 7), (2, 8), (2, 9), (2, 10), (3, 4), (3, 5), (3, 6), (3, 7), (3, 8), (3, 9), (3, 10), (4, 5), (4, 6), (4, 7), (4, 8), (4, 9), (4, 10), (5, 6), (5, 7), (5, 8), (5, 9), (5, 10), (6, 7), (6, 8), (6, 9), (6, 10), (7, 8), (7, 9), (7, 10), (8, 9), (8, 10), (9, 10)]\n"
     ]
    }
   ],
   "source": [
    "s = []\n",
    "for i in range(1,11):\n",
    "    for j in range(1,11):\n",
    "        if i < j:\n",
    "            s.append((i,j))\n",
    "print(s)"
   ]
  },
  {
   "cell_type": "markdown",
   "metadata": {},
   "source": [
    "でも、jの繰り返し範囲を調節すれば、if文も要らなくなります。"
   ]
  },
  {
   "cell_type": "code",
   "execution_count": 5,
   "metadata": {
    "collapsed": false
   },
   "outputs": [
    {
     "name": "stdout",
     "output_type": "stream",
     "text": [
      "[(1, 2), (1, 3), (1, 4), (1, 5), (1, 6), (1, 7), (1, 8), (1, 9), (1, 10), (2, 3), (2, 4), (2, 5), (2, 6), (2, 7), (2, 8), (2, 9), (2, 10), (3, 4), (3, 5), (3, 6), (3, 7), (3, 8), (3, 9), (3, 10), (4, 5), (4, 6), (4, 7), (4, 8), (4, 9), (4, 10), (5, 6), (5, 7), (5, 8), (5, 9), (5, 10), (6, 7), (6, 8), (6, 9), (6, 10), (7, 8), (7, 9), (7, 10), (8, 9), (8, 10), (9, 10)]\n"
     ]
    }
   ],
   "source": [
    "s = []\n",
    "for i in range(1,11):\n",
    "    for j in range(i+1,11):\n",
    "        s.append((i,j))\n",
    "print(s)"
   ]
  },
  {
   "cell_type": "markdown",
   "metadata": {},
   "source": [
    "1〜10のなかから異なる2つを選んで順列を作りたい場合も、ほとんどプログラムは同じです。"
   ]
  },
  {
   "cell_type": "code",
   "execution_count": 6,
   "metadata": {
    "collapsed": false
   },
   "outputs": [
    {
     "name": "stdout",
     "output_type": "stream",
     "text": [
      "[(1, 2), (1, 3), (1, 4), (1, 5), (1, 6), (1, 7), (1, 8), (1, 9), (1, 10), (2, 1), (2, 3), (2, 4), (2, 5), (2, 6), (2, 7), (2, 8), (2, 9), (2, 10), (3, 1), (3, 2), (3, 4), (3, 5), (3, 6), (3, 7), (3, 8), (3, 9), (3, 10), (4, 1), (4, 2), (4, 3), (4, 5), (4, 6), (4, 7), (4, 8), (4, 9), (4, 10), (5, 1), (5, 2), (5, 3), (5, 4), (5, 6), (5, 7), (5, 8), (5, 9), (5, 10), (6, 1), (6, 2), (6, 3), (6, 4), (6, 5), (6, 7), (6, 8), (6, 9), (6, 10), (7, 1), (7, 2), (7, 3), (7, 4), (7, 5), (7, 6), (7, 8), (7, 9), (7, 10), (8, 1), (8, 2), (8, 3), (8, 4), (8, 5), (8, 6), (8, 7), (8, 9), (8, 10), (9, 1), (9, 2), (9, 3), (9, 4), (9, 5), (9, 6), (9, 7), (9, 8), (9, 10), (10, 1), (10, 2), (10, 3), (10, 4), (10, 5), (10, 6), (10, 7), (10, 8), (10, 9)]\n"
     ]
    }
   ],
   "source": [
    "s = []\n",
    "for i in range(1,11):\n",
    "    for j in range(1,11):\n",
    "        if i != j:\n",
    "            s.append((i,j))\n",
    "print(s)"
   ]
  },
  {
   "cell_type": "code",
   "execution_count": null,
   "metadata": {
    "collapsed": true
   },
   "outputs": [],
   "source": [
    "3つを選びだす組み合わせの場合も、2つの場合とほとんど同じです。ここでは0〜5から3つを選んだ組み合わせを列挙します。"
   ]
  },
  {
   "cell_type": "code",
   "execution_count": 9,
   "metadata": {
    "collapsed": false
   },
   "outputs": [
    {
     "name": "stdout",
     "output_type": "stream",
     "text": [
      "[(0, 1, 2), (0, 1, 3), (0, 1, 4), (0, 1, 5), (0, 2, 3), (0, 2, 4), (0, 2, 5), (0, 3, 4), (0, 3, 5), (0, 4, 5), (1, 2, 3), (1, 2, 4), (1, 2, 5), (1, 3, 4), (1, 3, 5), (1, 4, 5), (2, 3, 4), (2, 3, 5), (2, 4, 5), (3, 4, 5)]\n",
      "20\n"
     ]
    }
   ],
   "source": [
    "s = []\n",
    "for i in range(6):\n",
    "    for j in range(i+1,6):\n",
    "        for k in range(j+1,6):\n",
    "            s.append((i,j,k))\n",
    "print(s)\n",
    "print(len(s))"
   ]
  },
  {
   "cell_type": "markdown",
   "metadata": {},
   "source": [
    "順列の場合は、すこしややこしいです。同じ数が含まれてはいけないので、条件分岐が必要になります。"
   ]
  },
  {
   "cell_type": "code",
   "execution_count": 13,
   "metadata": {
    "collapsed": false
   },
   "outputs": [
    {
     "name": "stdout",
     "output_type": "stream",
     "text": [
      "[(0, 1, 2), (0, 1, 3), (0, 1, 4), (0, 1, 5), (0, 2, 3), (0, 2, 4), (0, 2, 5), (0, 3, 4), (0, 3, 5), (0, 4, 5), (1, 0, 2), (1, 0, 3), (1, 0, 4), (1, 0, 5), (1, 2, 3), (1, 2, 4), (1, 2, 5), (1, 3, 4), (1, 3, 5), (1, 4, 5), (2, 0, 1), (2, 0, 3), (2, 0, 4), (2, 0, 5), (2, 1, 3), (2, 1, 4), (2, 1, 5), (2, 3, 4), (2, 3, 5), (2, 4, 5), (3, 0, 1), (3, 0, 2), (3, 0, 4), (3, 0, 5), (3, 1, 2), (3, 1, 4), (3, 1, 5), (3, 2, 4), (3, 2, 5), (3, 4, 5), (4, 0, 1), (4, 0, 2), (4, 0, 3), (4, 0, 5), (4, 1, 2), (4, 1, 3), (4, 1, 5), (4, 2, 3), (4, 2, 5), (4, 3, 5), (5, 0, 1), (5, 0, 2), (5, 0, 3), (5, 0, 4), (5, 1, 2), (5, 1, 3), (5, 1, 4), (5, 2, 3), (5, 2, 4), (5, 3, 4)]\n",
      "60\n"
     ]
    }
   ],
   "source": [
    "s = []\n",
    "for i in range(6):\n",
    "    for j in range(6):\n",
    "        if i != j:\n",
    "            for k in range(j+1,6):\n",
    "                if i != k and j != k:\n",
    "                    s.append((i,j,k))\n",
    "print(s)\n",
    "print(len(s))"
   ]
  },
  {
   "cell_type": "markdown",
   "metadata": {},
   "source": [
    "順列の場合は、選びだす個数が増えるほど、プログラムが複雑になってきそうですね。集合の性質をつかって、i,j,kがどれも異なる場合のみappendするように書いてみます。"
   ]
  },
  {
   "cell_type": "code",
   "execution_count": 14,
   "metadata": {
    "collapsed": false
   },
   "outputs": [
    {
     "name": "stdout",
     "output_type": "stream",
     "text": [
      "[(0, 1, 2), (0, 1, 3), (0, 1, 4), (0, 1, 5), (0, 2, 1), (0, 2, 3), (0, 2, 4), (0, 2, 5), (0, 3, 1), (0, 3, 2), (0, 3, 4), (0, 3, 5), (0, 4, 1), (0, 4, 2), (0, 4, 3), (0, 4, 5), (0, 5, 1), (0, 5, 2), (0, 5, 3), (0, 5, 4), (1, 0, 2), (1, 0, 3), (1, 0, 4), (1, 0, 5), (1, 2, 0), (1, 2, 3), (1, 2, 4), (1, 2, 5), (1, 3, 0), (1, 3, 2), (1, 3, 4), (1, 3, 5), (1, 4, 0), (1, 4, 2), (1, 4, 3), (1, 4, 5), (1, 5, 0), (1, 5, 2), (1, 5, 3), (1, 5, 4), (2, 0, 1), (2, 0, 3), (2, 0, 4), (2, 0, 5), (2, 1, 0), (2, 1, 3), (2, 1, 4), (2, 1, 5), (2, 3, 0), (2, 3, 1), (2, 3, 4), (2, 3, 5), (2, 4, 0), (2, 4, 1), (2, 4, 3), (2, 4, 5), (2, 5, 0), (2, 5, 1), (2, 5, 3), (2, 5, 4), (3, 0, 1), (3, 0, 2), (3, 0, 4), (3, 0, 5), (3, 1, 0), (3, 1, 2), (3, 1, 4), (3, 1, 5), (3, 2, 0), (3, 2, 1), (3, 2, 4), (3, 2, 5), (3, 4, 0), (3, 4, 1), (3, 4, 2), (3, 4, 5), (3, 5, 0), (3, 5, 1), (3, 5, 2), (3, 5, 4), (4, 0, 1), (4, 0, 2), (4, 0, 3), (4, 0, 5), (4, 1, 0), (4, 1, 2), (4, 1, 3), (4, 1, 5), (4, 2, 0), (4, 2, 1), (4, 2, 3), (4, 2, 5), (4, 3, 0), (4, 3, 1), (4, 3, 2), (4, 3, 5), (4, 5, 0), (4, 5, 1), (4, 5, 2), (4, 5, 3), (5, 0, 1), (5, 0, 2), (5, 0, 3), (5, 0, 4), (5, 1, 0), (5, 1, 2), (5, 1, 3), (5, 1, 4), (5, 2, 0), (5, 2, 1), (5, 2, 3), (5, 2, 4), (5, 3, 0), (5, 3, 1), (5, 3, 2), (5, 3, 4), (5, 4, 0), (5, 4, 1), (5, 4, 2), (5, 4, 3)]\n",
      "120\n"
     ]
    }
   ],
   "source": [
    "s = []\n",
    "for i in range(6):\n",
    "    for j in range(6):\n",
    "        for k in range(6):\n",
    "            nums = set([i,j,k])   #set of (i,j,k)\n",
    "            if len(nums) == 3:    #if it has three members,\n",
    "                s.append((i,j,k))\n",
    "print(s)\n",
    "print(len(s))"
   ]
  },
  {
   "cell_type": "markdown",
   "metadata": {},
   "source": [
    "数字以外のものの組みあわせも、pythonならけっこう簡単です。順列の場合は、ほとんど変更なしです。"
   ]
  },
  {
   "cell_type": "code",
   "execution_count": 12,
   "metadata": {
    "collapsed": false
   },
   "outputs": [
    {
     "name": "stdout",
     "output_type": "stream",
     "text": [
      "[('A', 'B', 'C'), ('A', 'B', 'D'), ('A', 'B', 'E'), ('A', 'B', 'F'), ('A', 'C', 'B'), ('A', 'C', 'D'), ('A', 'C', 'E'), ('A', 'C', 'F'), ('A', 'D', 'B'), ('A', 'D', 'C'), ('A', 'D', 'E'), ('A', 'D', 'F'), ('A', 'E', 'B'), ('A', 'E', 'C'), ('A', 'E', 'D'), ('A', 'E', 'F'), ('A', 'F', 'B'), ('A', 'F', 'C'), ('A', 'F', 'D'), ('A', 'F', 'E'), ('B', 'A', 'C'), ('B', 'A', 'D'), ('B', 'A', 'E'), ('B', 'A', 'F'), ('B', 'C', 'A'), ('B', 'C', 'D'), ('B', 'C', 'E'), ('B', 'C', 'F'), ('B', 'D', 'A'), ('B', 'D', 'C'), ('B', 'D', 'E'), ('B', 'D', 'F'), ('B', 'E', 'A'), ('B', 'E', 'C'), ('B', 'E', 'D'), ('B', 'E', 'F'), ('B', 'F', 'A'), ('B', 'F', 'C'), ('B', 'F', 'D'), ('B', 'F', 'E'), ('C', 'A', 'B'), ('C', 'A', 'D'), ('C', 'A', 'E'), ('C', 'A', 'F'), ('C', 'B', 'A'), ('C', 'B', 'D'), ('C', 'B', 'E'), ('C', 'B', 'F'), ('C', 'D', 'A'), ('C', 'D', 'B'), ('C', 'D', 'E'), ('C', 'D', 'F'), ('C', 'E', 'A'), ('C', 'E', 'B'), ('C', 'E', 'D'), ('C', 'E', 'F'), ('C', 'F', 'A'), ('C', 'F', 'B'), ('C', 'F', 'D'), ('C', 'F', 'E'), ('D', 'A', 'B'), ('D', 'A', 'C'), ('D', 'A', 'E'), ('D', 'A', 'F'), ('D', 'B', 'A'), ('D', 'B', 'C'), ('D', 'B', 'E'), ('D', 'B', 'F'), ('D', 'C', 'A'), ('D', 'C', 'B'), ('D', 'C', 'E'), ('D', 'C', 'F'), ('D', 'E', 'A'), ('D', 'E', 'B'), ('D', 'E', 'C'), ('D', 'E', 'F'), ('D', 'F', 'A'), ('D', 'F', 'B'), ('D', 'F', 'C'), ('D', 'F', 'E'), ('E', 'A', 'B'), ('E', 'A', 'C'), ('E', 'A', 'D'), ('E', 'A', 'F'), ('E', 'B', 'A'), ('E', 'B', 'C'), ('E', 'B', 'D'), ('E', 'B', 'F'), ('E', 'C', 'A'), ('E', 'C', 'B'), ('E', 'C', 'D'), ('E', 'C', 'F'), ('E', 'D', 'A'), ('E', 'D', 'B'), ('E', 'D', 'C'), ('E', 'D', 'F'), ('E', 'F', 'A'), ('E', 'F', 'B'), ('E', 'F', 'C'), ('E', 'F', 'D'), ('F', 'A', 'B'), ('F', 'A', 'C'), ('F', 'A', 'D'), ('F', 'A', 'E'), ('F', 'B', 'A'), ('F', 'B', 'C'), ('F', 'B', 'D'), ('F', 'B', 'E'), ('F', 'C', 'A'), ('F', 'C', 'B'), ('F', 'C', 'D'), ('F', 'C', 'E'), ('F', 'D', 'A'), ('F', 'D', 'B'), ('F', 'D', 'C'), ('F', 'D', 'E'), ('F', 'E', 'A'), ('F', 'E', 'B'), ('F', 'E', 'C'), ('F', 'E', 'D')]\n",
      "120\n"
     ]
    }
   ],
   "source": [
    "members = ('A','B','C','D','E','F')\n",
    "s = []\n",
    "for i in members:\n",
    "    for j in members:\n",
    "        for k in members:\n",
    "            nums = set([i,j,k])   #set of (i,j,k)\n",
    "            if len(nums) == 3:    #if it has three members,\n",
    "                s.append((i,j,k))\n",
    "print(s)\n",
    "print(len(s))"
   ]
  },
  {
   "cell_type": "markdown",
   "metadata": {},
   "source": [
    "組み合わせの場合は、繰り返しの範囲を書くのに困ってしまいます。ひとつの方法は次のような書きかたです。"
   ]
  },
  {
   "cell_type": "code",
   "execution_count": 15,
   "metadata": {
    "collapsed": false
   },
   "outputs": [
    {
     "name": "stdout",
     "output_type": "stream",
     "text": [
      "[('A', 'B', 'C'), ('A', 'B', 'D'), ('A', 'B', 'E'), ('A', 'B', 'F'), ('A', 'C', 'D'), ('A', 'C', 'E'), ('A', 'C', 'F'), ('A', 'D', 'E'), ('A', 'D', 'F'), ('A', 'E', 'F'), ('B', 'C', 'D'), ('B', 'C', 'E'), ('B', 'C', 'F'), ('B', 'D', 'E'), ('B', 'D', 'F'), ('B', 'E', 'F'), ('C', 'D', 'E'), ('C', 'D', 'F'), ('C', 'E', 'F'), ('D', 'E', 'F')]\n",
      "20\n"
     ]
    }
   ],
   "source": [
    "members = ('A','B','C','D','E','F')\n",
    "N = len(members)\n",
    "s = []\n",
    "for i in range(N):\n",
    "    for j in range(i+1,N):\n",
    "        for k in range(j+1,N):\n",
    "            s.append((members[i],members[j],members[k]))\n",
    "print(s)\n",
    "print(len(s))"
   ]
  },
  {
   "cell_type": "markdown",
   "metadata": {},
   "source": [
    "さて、はじめのケースに戻りましょう。格子点の座標を決めるプログラムは、重複を許す順列を列挙しているともみなせます。3次元の場合、"
   ]
  },
  {
   "cell_type": "code",
   "execution_count": 16,
   "metadata": {
    "collapsed": false
   },
   "outputs": [
    {
     "name": "stdout",
     "output_type": "stream",
     "text": [
      "[(0, 0, 0), (0, 0, 1), (0, 0, 2), (0, 0, 3), (0, 1, 0), (0, 1, 1), (0, 1, 2), (0, 1, 3), (0, 2, 0), (0, 2, 1), (0, 2, 2), (0, 2, 3), (0, 3, 0), (0, 3, 1), (0, 3, 2), (0, 3, 3), (1, 0, 0), (1, 0, 1), (1, 0, 2), (1, 0, 3), (1, 1, 0), (1, 1, 1), (1, 1, 2), (1, 1, 3), (1, 2, 0), (1, 2, 1), (1, 2, 2), (1, 2, 3), (1, 3, 0), (1, 3, 1), (1, 3, 2), (1, 3, 3), (2, 0, 0), (2, 0, 1), (2, 0, 2), (2, 0, 3), (2, 1, 0), (2, 1, 1), (2, 1, 2), (2, 1, 3), (2, 2, 0), (2, 2, 1), (2, 2, 2), (2, 2, 3), (2, 3, 0), (2, 3, 1), (2, 3, 2), (2, 3, 3), (3, 0, 0), (3, 0, 1), (3, 0, 2), (3, 0, 3), (3, 1, 0), (3, 1, 1), (3, 1, 2), (3, 1, 3), (3, 2, 0), (3, 2, 1), (3, 2, 2), (3, 2, 3), (3, 3, 0), (3, 3, 1), (3, 3, 2), (3, 3, 3)]\n"
     ]
    }
   ],
   "source": [
    "pos = []\n",
    "for x in range(4):\n",
    "    for y in range(4):\n",
    "        for z in range(4):\n",
    "            pos.append((x,y,z))\n",
    "print(pos)"
   ]
  },
  {
   "cell_type": "markdown",
   "metadata": {},
   "source": [
    "では、d次元のn<sup>d</sup>の格子を出力する、一般的なプログラムは書けるでしょうか?\n",
    "\n",
    "これはけっこう難しい問題です。Fortranのような古い言語ではトリッキーな方法を使わざるをえません。Pythonでも、再帰が必要になります。"
   ]
  },
  {
   "cell_type": "code",
   "execution_count": null,
   "metadata": {
    "collapsed": false
   },
   "outputs": [],
   "source": [
    "#d次元の、n^d個の格子点の座標をリストの形で返す関数。\n",
    "def lattice(n,d):\n",
    "    #1次元の場合には、0〜n-1を返す。\n",
    "    if d == 1:\n",
    "        return [[i,] for i in range(n)]\n",
    "\n",
    "lattice(10,1)    "
   ]
  },
  {
   "cell_type": "markdown",
   "metadata": {},
   "source": [
    "2次元以上の場合は、n-1次元の座標にもう1つ要素を追加する。"
   ]
  },
  {
   "cell_type": "code",
   "execution_count": null,
   "metadata": {
    "collapsed": false
   },
   "outputs": [],
   "source": [
    "#d次元の、n^d個の格子点の座標をリストの形で返す関数。\n",
    "def lattice(n,d):\n",
    "    #1次元の場合には、0〜n-1を返す。\n",
    "    if d == 1:\n",
    "        return [[i,] for i in range(n)]\n",
    "    points = []\n",
    "    #n次元の座標は、n-1次元の座標に1次元の座標を付けくわえる\n",
    "    points0 = lattice(n,d-1)\n",
    "    for i in lattice(n,1):\n",
    "        for j in points0:\n",
    "            points.append(i+j)\n",
    "    return points\n",
    "lattice(4,3)"
   ]
  },
  {
   "cell_type": "markdown",
   "metadata": {},
   "source": [
    "このようなプログラムは、なかなか間違いなく書くのは難しく、読むにもすこし経験が必要です。\n",
    "\n",
    "そこで、標準ライブラリitertoolsの出番です。\n",
    "##itertoolsの概要\n",
    "itertoolsは、順列組み合わせの基本的なアルゴリズムを集めたものです。→https://docs.python.org/3/library/itertools.html\n",
    "\n",
    "###組みあわせ\n",
    "5つの要素のなかから、2つを選ぶ組みあわせは、Fortranなどでは2重ループで書くのが一般的ですが、itertoolsを使うと非常に簡単に書けます。"
   ]
  },
  {
   "cell_type": "code",
   "execution_count": null,
   "metadata": {
    "collapsed": false
   },
   "outputs": [],
   "source": [
    "import itertools\n",
    "for a,b in itertools.combinations([1,2,3,4,5], 2):\n",
    "    print(a,b)"
   ]
  },
  {
   "cell_type": "markdown",
   "metadata": {},
   "source": [
    "##順列\n",
    "5つの要素を並びかえるすべての順列に対して何かの処理をしたい場合も、繰り返しで書くのは骨がおれますが、itertoolsではとても簡単です。"
   ]
  },
  {
   "cell_type": "code",
   "execution_count": null,
   "metadata": {
    "collapsed": false
   },
   "outputs": [],
   "source": [
    "for p in itertools.permutations(\"ドレミソラ\"):\n",
    "    print(p)"
   ]
  },
  {
   "cell_type": "markdown",
   "metadata": {},
   "source": [
    "##重複順列\n",
    "4x4x4の格子点を生成する問題は、重複順列とみなすことができます。itertoolsには重複順列ももちろんあります。"
   ]
  },
  {
   "cell_type": "code",
   "execution_count": null,
   "metadata": {
    "collapsed": false
   },
   "outputs": [],
   "source": [
    "for i in itertools.product([0,1,2,3],[0,1,2,3],[0,1,2,3]):\n",
    "    print(i)"
   ]
  },
  {
   "cell_type": "markdown",
   "metadata": {},
   "source": [
    "いくつも同じものを並べるのが面倒なので、繰り返し回数を指定します。"
   ]
  },
  {
   "cell_type": "code",
   "execution_count": null,
   "metadata": {
    "collapsed": false
   },
   "outputs": [],
   "source": [
    "for i in itertools.product(range(4),repeat=3):\n",
    "    print(i)"
   ]
  },
  {
   "cell_type": "markdown",
   "metadata": {},
   "source": [
    "##使用例1\n",
    "\n",
    "1次元のランダムウォークは、1歩ごとに右(+1)か左(-1)に進みます。10歩のランダムウォークの全経路は、"
   ]
  },
  {
   "cell_type": "code",
   "execution_count": null,
   "metadata": {
    "collapsed": false
   },
   "outputs": [],
   "source": [
    "for i in itertools.product([-1,+1],repeat=10):\n",
    "    print(i)"
   ]
  },
  {
   "cell_type": "markdown",
   "metadata": {},
   "source": [
    "和をとると、最終的な座標がわかります。"
   ]
  },
  {
   "cell_type": "code",
   "execution_count": null,
   "metadata": {
    "collapsed": false
   },
   "outputs": [],
   "source": [
    "for i in itertools.product([-1,+1],repeat=10):\n",
    "    print(sum(i))"
   ]
  },
  {
   "cell_type": "markdown",
   "metadata": {},
   "source": [
    "これを集計すると、2項分布になることがわかります。repeat=の部分を大きくするとなめらかになりますが、20を越えると暴走するかもしれません。"
   ]
  },
  {
   "cell_type": "code",
   "execution_count": null,
   "metadata": {
    "collapsed": false
   },
   "outputs": [],
   "source": [
    "%matplotlib inline\n",
    "import pylab\n",
    "positions = dict()\n",
    "for i in itertools.product([-1,+1],repeat=10):\n",
    "    pos = sum(i)\n",
    "    if pos in positions:\n",
    "        positions[pos] += 1\n",
    "    else:\n",
    "        positions[pos] = 1\n",
    "#辞書のKeyをソートしたもの\n",
    "x = sorted(positions)\n",
    "#対応する累積数\n",
    "y = [positions[pos] for pos in x]\n",
    "\n",
    "pylab.plot(x,y)"
   ]
  },
  {
   "cell_type": "markdown",
   "metadata": {
    "collapsed": true
   },
   "source": [
    "##使用例2\n",
    "にせアンパンマンをたくさん作ります。join関数は、文字列のリストをひとつの文字列に合体させます。"
   ]
  },
  {
   "cell_type": "code",
   "execution_count": null,
   "metadata": {
    "collapsed": false
   },
   "outputs": [],
   "source": [
    "import itertools\n",
    "for i in itertools.product([\"ア\",\"マ\"],[\"リ\",\"ソ\",\"ン\"],[\"パ\",\"バ\"],[\"リ\",\"ソ\",\"ン\"],[\"ア\",\"マ\"],[\"リ\",\"ソ\",\"ン\"]):\n",
    "    print(\".\".join(i))"
   ]
  },
  {
   "cell_type": "code",
   "execution_count": null,
   "metadata": {
    "collapsed": true
   },
   "outputs": [],
   "source": []
  }
 ],
 "metadata": {
  "kernelspec": {
   "display_name": "Python 3",
   "language": "python",
   "name": "python3"
  },
  "language_info": {
   "codemirror_mode": {
    "name": "ipython",
    "version": 3
   },
   "file_extension": ".py",
   "mimetype": "text/x-python",
   "name": "python",
   "nbconvert_exporter": "python",
   "pygments_lexer": "ipython3",
   "version": "3.4.2"
  }
 },
 "nbformat": 4,
 "nbformat_minor": 0
}

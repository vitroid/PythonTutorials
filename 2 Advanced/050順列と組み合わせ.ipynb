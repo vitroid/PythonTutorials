{
 "cells": [
  {
   "cell_type": "markdown",
   "metadata": {},
   "source": [
    "# 順列と組みあわせ\n",
    "\n",
    "## 重複を許す組み合わせ\n",
    "結晶格子の座標をプログラムで作りだす場合を考えてみましょう。2次元の10x10の単純正方格子の座標は、2重ループで簡単に書けます。"
   ]
  },
  {
   "cell_type": "code",
   "execution_count": null,
   "metadata": {},
   "outputs": [],
   "source": [
    "pos = []\n",
    "for x in range(10):\n",
    "    for y in range(10):\n",
    "        pos.append((x,y))\n",
    "print(pos)"
   ]
  },
  {
   "cell_type": "markdown",
   "metadata": {},
   "source": [
    "同じように、4x4x4の3次元の立方格子の座標は3重ループで書けます。"
   ]
  },
  {
   "cell_type": "code",
   "execution_count": null,
   "metadata": {},
   "outputs": [],
   "source": [
    "pos = []\n",
    "for x in range(4):\n",
    "    for y in range(4):\n",
    "        for z in range(4):\n",
    "            pos.append((x,y,z))\n",
    "print(pos)"
   ]
  },
  {
   "cell_type": "markdown",
   "metadata": {},
   "source": [
    "関数にしてみましょう。"
   ]
  },
  {
   "cell_type": "code",
   "execution_count": null,
   "metadata": {},
   "outputs": [],
   "source": [
    "def combination3(a,b,c):\n",
    "    pos = []\n",
    "    for x in range(a):\n",
    "        for y in range(b):\n",
    "            for z in range(c):\n",
    "                pos.append((x,y,z))\n",
    "    return pos\n",
    "\n",
    "print(combinations(4,4,4))"
   ]
  },
  {
   "cell_type": "markdown",
   "metadata": {},
   "source": [
    "イテレータにすると、使いやすくなります。"
   ]
  },
  {
   "cell_type": "code",
   "execution_count": null,
   "metadata": {},
   "outputs": [],
   "source": [
    "def combination3(a,b,c):\n",
    "    for x in range(a):\n",
    "        for y in range(b):\n",
    "            for z in range(c):\n",
    "                yield x,y,z\n",
    "\n",
    "for pos in combination3(4,4,4):\n",
    "    print(pos)"
   ]
  },
  {
   "cell_type": "markdown",
   "metadata": {},
   "source": [
    "数値の範囲を個別に渡す代わりに、リストでまとめて渡します。"
   ]
  },
  {
   "cell_type": "code",
   "execution_count": null,
   "metadata": {},
   "outputs": [],
   "source": [
    "def combination3(L):\n",
    "    for x in range(L[0]):\n",
    "        for y in range(L[1]):\n",
    "            for z in range(L[2]):\n",
    "                yield x,y,z\n",
    "\n",
    "for pos in combination3((4,4,4)):\n",
    "    print(pos)"
   ]
  },
  {
   "cell_type": "markdown",
   "metadata": {},
   "source": [
    "数字の組みあわせでなく、リストや集合の要素を組みあわせられるようにしましょう。"
   ]
  },
  {
   "cell_type": "code",
   "execution_count": null,
   "metadata": {},
   "outputs": [],
   "source": [
    "def combination3(L):\n",
    "    for x in L[0]:\n",
    "        for y in L[1]:\n",
    "            for z in L[2]:\n",
    "                yield x,y,z\n",
    "\n",
    "for pos in combination3(((1,2,3),(4,5,6),(7,8,9))):\n",
    "    print(pos)"
   ]
  },
  {
   "cell_type": "markdown",
   "metadata": {},
   "source": [
    "再帰を使えば、n次元に一般化できます。再帰とは、関数のなかから、その関数自身を呼びだすことです。再帰する場合には、関数の中で終了条件(再帰をやめる条件)を必ず書いておく必要があります。"
   ]
  },
  {
   "cell_type": "code",
   "execution_count": null,
   "metadata": {},
   "outputs": [],
   "source": [
    "def combinations(L):\n",
    "    if len(L) == 0: # terminator\n",
    "        yield []\n",
    "    else:\n",
    "        for x in L[0]:\n",
    "            for y in combinations(L[1:]):\n",
    "                yield [x]+y\n",
    "\n",
    "for pos in combinations([(0,1),(0,2),(0,4),(0,8)]):\n",
    "    print(pos)"
   ]
  },
  {
   "cell_type": "markdown",
   "metadata": {},
   "source": [
    "## 重複なしの組み合わせ\n",
    "1〜10のなかから異なる2つを選んだ組みあわせを作りたい場合は、条件分けします。"
   ]
  },
  {
   "cell_type": "code",
   "execution_count": null,
   "metadata": {},
   "outputs": [],
   "source": [
    "s = []\n",
    "for i in range(1,11):\n",
    "    for j in range(1,11):\n",
    "        if i < j:\n",
    "            s.append((i,j))\n",
    "print(s)"
   ]
  },
  {
   "cell_type": "markdown",
   "metadata": {},
   "source": [
    "でも、jの繰り返し範囲を調節すれば、if文も要らなくなります。"
   ]
  },
  {
   "cell_type": "code",
   "execution_count": null,
   "metadata": {},
   "outputs": [],
   "source": [
    "s = []\n",
    "for i in range(1,11):\n",
    "    for j in range(i+1,11):\n",
    "        s.append((i,j))\n",
    "print(s)"
   ]
  },
  {
   "cell_type": "markdown",
   "metadata": {},
   "source": [
    "3重ループにすると、3つの組み合わせも列挙できます。"
   ]
  },
  {
   "cell_type": "code",
   "execution_count": null,
   "metadata": {},
   "outputs": [],
   "source": [
    "s = []\n",
    "for i in range(6):\n",
    "    for j in range(i+1,6):\n",
    "        for k in range(j+1,6):\n",
    "            s.append((i,j,k))\n",
    "print(s)\n",
    "print(len(s))"
   ]
  },
  {
   "cell_type": "markdown",
   "metadata": {},
   "source": [
    "関数にしてしまいましょう。"
   ]
  },
  {
   "cell_type": "code",
   "execution_count": null,
   "metadata": {},
   "outputs": [],
   "source": [
    "def combination3(N):\n",
    "    s = []\n",
    "    for i in range(N):\n",
    "        for j in range(i+1,N):\n",
    "            for k in range(j+1,N):\n",
    "                s.append((i,j,k))\n",
    "    return s\n",
    "\n",
    "print(combination3(5))\n"
   ]
  },
  {
   "cell_type": "markdown",
   "metadata": {},
   "source": [
    "数字の範囲の代わりに、リストや集合を与える場合、繰り返しの範囲を書くのに困ってしまいます。ひとつの方法は次のような書きかたです。"
   ]
  },
  {
   "cell_type": "code",
   "execution_count": null,
   "metadata": {
    "scrolled": false
   },
   "outputs": [],
   "source": [
    "def combination3(L):\n",
    "    s = []\n",
    "    for i in range(len(L)):\n",
    "        for j in range(i):\n",
    "            for k in range(j):\n",
    "                s.append((L[i],L[j],L[k]))\n",
    "    return s\n",
    "\n",
    "print(combination3(['A','B','C','D','E']))\n"
   ]
  },
  {
   "cell_type": "markdown",
   "metadata": {},
   "source": [
    "イテレータを使うと、もっとシンプルに書けます。"
   ]
  },
  {
   "cell_type": "code",
   "execution_count": null,
   "metadata": {
    "scrolled": true
   },
   "outputs": [],
   "source": [
    "def combination3(L):\n",
    "    for i in range(len(L)):\n",
    "        for j in range(i):\n",
    "            for k in range(j):\n",
    "                yield L[i],L[j],L[k]\n",
    "\n",
    "for x in combination3(['A','B','C','D','E']):\n",
    "    print(x)\n"
   ]
  },
  {
   "cell_type": "markdown",
   "metadata": {},
   "source": [
    "選びだす個数を3個に固定せず、自由に個数を選べるようにするには、再帰が必要です。"
   ]
  },
  {
   "cell_type": "code",
   "execution_count": null,
   "metadata": {},
   "outputs": [],
   "source": [
    "def combinations(L,n):\n",
    "    \"\"\"\n",
    "    Combine n elements out of list L.\n",
    "    \n",
    "    L: list of elements\n",
    "    n: number of elements to be combined\n",
    "    \"\"\"\n",
    "    if n == 0:\n",
    "        yield []\n",
    "    else:\n",
    "        for i in range(len(L)):\n",
    "            for x in combinations(L[i+1:], n-1):\n",
    "                yield [L[i]] + x\n",
    "\n",
    "for x in combinations(['A','B','C','D','E'],2):\n",
    "    print(x)"
   ]
  },
  {
   "cell_type": "markdown",
   "metadata": {},
   "source": [
    "結果を集合型にすると、要素の順番に意味がないことがより明確になります。"
   ]
  },
  {
   "cell_type": "code",
   "execution_count": null,
   "metadata": {},
   "outputs": [],
   "source": [
    "def combinations(L,n):\n",
    "    \"\"\"\n",
    "    Combine n elements out of list L.\n",
    "    \n",
    "    L: list of elements\n",
    "    n: number of elements to be combined\n",
    "    \"\"\"\n",
    "    if n == 0:\n",
    "        yield set()\n",
    "    else:\n",
    "        for i in range(len(L)):\n",
    "            for x in combinations(L[i+1:], n-1):\n",
    "                yield set([L[i]]) | x\n",
    "\n",
    "for x in combinations(['A','B','C','D','E'],2):\n",
    "    print(x)"
   ]
  },
  {
   "cell_type": "markdown",
   "metadata": {},
   "source": [
    "## 順列\n",
    "与えられた要素を全部つかって、並べ方を列挙することを順列といいます。例えば、0と1の順列は01と10の2通りですが、一般に1〜Nの整数の順列の数はN!となり、かなりの個数になります。\n",
    "\n",
    "これははじめから再帰を使って考えるのが良いでしょう。順列関数は、与えられたリストLの要素を並べかえたすべての順列を順に返すイテレータとして定義します。\n",
    "\n",
    "    def permutations(L):\n",
    "        ...\n",
    "        yield *list_of_elements*\n",
    "\n",
    "\n",
    "おおまかな手順は次の\n",
    "1. 1〜Nから1つ数字を選び、iとする。\n",
    "2. 残りの(N-1)の数字の順列はpermutations()で生成する。これをjとする。\n",
    "3. iとjを連結したものをyieldする。\n"
   ]
  },
  {
   "cell_type": "code",
   "execution_count": null,
   "metadata": {},
   "outputs": [],
   "source": [
    "def permutations(L):\n",
    "    if len(L) == 0:\n",
    "        yield []\n",
    "    else:\n",
    "        for k in range(len(L)):\n",
    "            i = L[k]\n",
    "            for j in permutations(L[:k]+L[k+1:]):\n",
    "                yield [i]+j\n",
    "\n",
    "for x in permutations([1,2,3]):\n",
    "    print(x)"
   ]
  },
  {
   "cell_type": "markdown",
   "metadata": {},
   "source": [
    "このようなプログラムは、なかなか間違いなく書くのは難しく、読むにもすこし経験が必要です。\n",
    "\n",
    "そこで、標準ライブラリitertoolsの出番です。\n",
    "## itertoolsの概要\n",
    "itertoolsは、順列組み合わせの基本的なアルゴリズムを集めたものです。→https://docs.python.org/3/library/itertools.html\n",
    "\n",
    "### 組みあわせ\n",
    "5つの要素のなかから、2つを選ぶ組みあわせは、Fortranなどでは2重ループで書くのが一般的ですが、itertoolsを使うと非常に簡単に書けます。"
   ]
  },
  {
   "cell_type": "code",
   "execution_count": null,
   "metadata": {},
   "outputs": [],
   "source": [
    "import itertools\n",
    "for a,b in itertools.combinations([1,2,3,4,5], 2):\n",
    "    print(a,b)"
   ]
  },
  {
   "cell_type": "markdown",
   "metadata": {},
   "source": [
    "### 順列\n",
    "5つの要素を並びかえるすべての順列に対して何かの処理をしたい場合も、繰り返しで書くのは骨がおれますが、itertoolsではとても簡単です。"
   ]
  },
  {
   "cell_type": "code",
   "execution_count": null,
   "metadata": {},
   "outputs": [],
   "source": [
    "for p in itertools.permutations(\"ドレミソラ\"):\n",
    "    print(p)"
   ]
  },
  {
   "cell_type": "markdown",
   "metadata": {},
   "source": [
    "### 重複順列\n",
    "4x4x4の格子点を生成する問題は、重複順列とみなすことができます。itertoolsには重複順列ももちろんあります。"
   ]
  },
  {
   "cell_type": "code",
   "execution_count": null,
   "metadata": {},
   "outputs": [],
   "source": [
    "for i in itertools.product([0,1,2,3],[0,1,2,3],[0,1,2,3]):\n",
    "    print(i)"
   ]
  },
  {
   "cell_type": "markdown",
   "metadata": {},
   "source": [
    "いくつも同じものを並べるのが面倒なので、繰り返し回数を指定します。"
   ]
  },
  {
   "cell_type": "code",
   "execution_count": null,
   "metadata": {},
   "outputs": [],
   "source": [
    "for i in itertools.product(range(4),repeat=3):\n",
    "    print(i)"
   ]
  },
  {
   "cell_type": "markdown",
   "metadata": {},
   "source": [
    "## 使用例1\n",
    "\n",
    "1次元のランダムウォークは、1歩ごとに右(+1)か左(-1)に進みます。10歩のランダムウォークの全経路は、"
   ]
  },
  {
   "cell_type": "code",
   "execution_count": null,
   "metadata": {},
   "outputs": [],
   "source": [
    "for i in itertools.product([-1,+1],repeat=10):\n",
    "    print(i)"
   ]
  },
  {
   "cell_type": "markdown",
   "metadata": {},
   "source": [
    "和をとると、最終的な座標がわかります。"
   ]
  },
  {
   "cell_type": "code",
   "execution_count": null,
   "metadata": {},
   "outputs": [],
   "source": [
    "for i in itertools.product([-1,+1],repeat=10):\n",
    "    print(sum(i))"
   ]
  },
  {
   "cell_type": "markdown",
   "metadata": {},
   "source": [
    "これを集計すると、2項分布になることがわかります。repeat=の部分を大きくするとなめらかになりますが、20を越えると暴走するかもしれません。"
   ]
  },
  {
   "cell_type": "code",
   "execution_count": null,
   "metadata": {},
   "outputs": [],
   "source": [
    "%matplotlib inline\n",
    "import pylab\n",
    "positions = dict()\n",
    "for i in itertools.product([-1,+1],repeat=10):\n",
    "    print(i)\n",
    "    pos = sum(i)\n",
    "    if pos in positions:\n",
    "        positions[pos] += 1\n",
    "    else:\n",
    "        positions[pos] = 1\n",
    "#辞書のKeyをソートしたもの\n",
    "x = sorted(positions)\n",
    "#対応する累積数\n",
    "y = [positions[pos] for pos in x]\n",
    "\n",
    "pylab.plot(x,y)"
   ]
  },
  {
   "cell_type": "markdown",
   "metadata": {
    "collapsed": true
   },
   "source": [
    "## 使用例2\n",
    "にせアンパンマンをたくさん作ります。join関数は、文字列のリストをひとつの文字列に合体させます。また、random.shuffle関数は、リストの順序をランダムにいれかえます。\n",
    "\n",
    "応用として、「いつだれがどこでなにをどうした」ゲームをコンピュータに実行させるという遊びかたもあります。"
   ]
  },
  {
   "cell_type": "code",
   "execution_count": null,
   "metadata": {},
   "outputs": [],
   "source": [
    "import itertools\n",
    "import random\n",
    "にせあんぱんまん = []\n",
    "for あんぱんまん in itertools.product(\"アマヌ\",\"リソンシツ\",\"パバベペ\",\"リソンシツ\",\"アマヌ\",\"リソンシツ\"):\n",
    "    にせあんぱんまん.append(\"\".join(あんぱんまん))\n",
    "random.shuffle(にせあんぱんまん)\n",
    "print(にせあんぱんまん)"
   ]
  },
  {
   "cell_type": "markdown",
   "metadata": {
    "collapsed": true
   },
   "source": [
    "## 練習問題\n",
    "### 問題1\n",
    "以前どこかで説明をしたような気がしますが、eval(文字列)で、文字列をpythonプログラムとして評価できます。\n",
    "\n",
    "たとえば、以下の例では、文字列\"10\\*20\\*3\"を評価して、数値63が得られます。"
   ]
  },
  {
   "cell_type": "code",
   "execution_count": null,
   "metadata": {},
   "outputs": [],
   "source": [
    "x = eval(\"10*20+3\")\n",
    "x"
   ]
  },
  {
   "cell_type": "markdown",
   "metadata": {},
   "source": [
    "これを使うと、プログラムを実行している最中に、変化する数式の値を計算できます。\n",
    "\n",
    "人間が入力した数式をその場で数値に直せるので、超高性能関数電卓が3行で作れます。"
   ]
  },
  {
   "cell_type": "code",
   "execution_count": null,
   "metadata": {},
   "outputs": [],
   "source": [
    "from math import *\n",
    "while True:\n",
    "    print(eval(input(\"Formula:\")))"
   ]
  },
  {
   "cell_type": "markdown",
   "metadata": {},
   "source": [
    "さて、1〜5の数字の間に、四則演算子(\\*, /, +, -)をはさみこんで、答が20になるような数式をすべて表示するプログラムを作って下さい。数字の順番を変えてはいけません。たとえば次のような式です。"
   ]
  },
  {
   "cell_type": "code",
   "execution_count": null,
   "metadata": {},
   "outputs": [],
   "source": [
    "1+2+3*4+5"
   ]
  },
  {
   "cell_type": "markdown",
   "metadata": {},
   "source": [
    "それができたら、改造して、1〜9の数字の間に、四則演算子(\\*, /, +, -)をはさみこんで、答が100になるような数式をすべて表示するプログラムを作って下さい。\n",
    "\n",
    "その中で、いちばん演算子が少なくて済む(=式の文字数が少ない)のはどんな式でしょうか。\n",
    "\n",
    "この手の問題は、プログラムを書ける人にとっては楽勝ですが、そうでない人はまず正解を得ることができません。そして、現実の問題は、おそらくプログラムなしには解けない問題のほうが多いはずです。\n",
    "### 問題2\n",
    "正の整数のリストを与えられたとき、数を並び替えて可能な最大数を返す関数を記述せよ。例えば、[50, 2, 1, 9]が与えられた時、95021が答えとなる。(https://blog.svpino.com/2015/05/07/five-programming-problems-every-software-engineer-should-be-able-to-solve-in-less-than-1-hour より)"
   ]
  },
  {
   "cell_type": "markdown",
   "metadata": {
    "collapsed": true
   },
   "source": [
    "### 問題3\n",
    "覆面算HAWAII+IDAHO+IOWA+OHIO==STATESを解け。ただし、それぞれのアルファベットは0〜9の異なる数字が入り、一番上の桁は0でない。"
   ]
  },
  {
   "cell_type": "code",
   "execution_count": null,
   "metadata": {},
   "outputs": [],
   "source": []
  }
 ],
 "metadata": {
  "kernelspec": {
   "display_name": "Python 3",
   "language": "python",
   "name": "python3"
  },
  "language_info": {
   "codemirror_mode": {
    "name": "ipython",
    "version": 3
   },
   "file_extension": ".py",
   "mimetype": "text/x-python",
   "name": "python",
   "nbconvert_exporter": "python",
   "pygments_lexer": "ipython3",
   "version": "3.6.5"
  }
 },
 "nbformat": 4,
 "nbformat_minor": 1
}

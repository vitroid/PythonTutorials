{
 "cells": [
  {
   "cell_type": "markdown",
   "metadata": {},
   "source": [
    "# 順列と組みあわせ\n",
    "結晶格子の座標をプログラムで作りだす場合を考えてみましょう。2次元の10x10の単純正方格子の座標は、2重ループで簡単に書けます。"
   ]
  },
  {
   "cell_type": "code",
   "execution_count": null,
   "metadata": {},
   "outputs": [],
   "source": [
    "pos = []\n",
    "for x in range(10):\n",
    "    for y in range(10):\n",
    "        pos.append((x,y))\n",
    "print(pos)"
   ]
  },
  {
   "cell_type": "markdown",
   "metadata": {},
   "source": [
    "同じように、4x4x4の3次元の立方格子の座標は3重ループで書けます。"
   ]
  },
  {
   "cell_type": "code",
   "execution_count": null,
   "metadata": {},
   "outputs": [],
   "source": [
    "pos = []\n",
    "for x in range(4):\n",
    "    for y in range(4):\n",
    "        for z in range(4):\n",
    "            pos.append((x,y,z))\n",
    "print(pos)"
   ]
  },
  {
   "cell_type": "markdown",
   "metadata": {},
   "source": [
    "1〜10のなかから異なる2つを選んだ組みあわせを作りたい場合は、条件分けすればいいのです。"
   ]
  },
  {
   "cell_type": "code",
   "execution_count": null,
   "metadata": {},
   "outputs": [],
   "source": [
    "s = []\n",
    "for i in range(1,11):\n",
    "    for j in range(1,11):\n",
    "        if i < j:\n",
    "            s.append((i,j))\n",
    "print(s)"
   ]
  },
  {
   "cell_type": "markdown",
   "metadata": {},
   "source": [
    "でも、jの繰り返し範囲を調節すれば、if文も要らなくなります。"
   ]
  },
  {
   "cell_type": "code",
   "execution_count": null,
   "metadata": {},
   "outputs": [],
   "source": [
    "s = []\n",
    "for i in range(1,11):\n",
    "    for j in range(i+1,11):\n",
    "        s.append((i,j))\n",
    "print(s)"
   ]
  },
  {
   "cell_type": "markdown",
   "metadata": {},
   "source": [
    "1〜10のなかから異なる2つを選んで順列を作りたい場合も、ほとんどプログラムは同じです。"
   ]
  },
  {
   "cell_type": "code",
   "execution_count": null,
   "metadata": {},
   "outputs": [],
   "source": [
    "s = []\n",
    "for i in range(1,11):\n",
    "    for j in range(1,11):\n",
    "        if i != j:\n",
    "            s.append((i,j))\n",
    "print(s)"
   ]
  },
  {
   "cell_type": "markdown",
   "metadata": {
    "collapsed": true
   },
   "source": [
    "3つを選びだす組み合わせの場合も、2つの場合とほとんど同じです。ここでは0〜5から3つを選んだ組み合わせを列挙します。"
   ]
  },
  {
   "cell_type": "code",
   "execution_count": null,
   "metadata": {},
   "outputs": [],
   "source": [
    "s = []\n",
    "for i in range(6):\n",
    "    for j in range(i+1,6):\n",
    "        for k in range(j+1,6):\n",
    "            s.append((i,j,k))\n",
    "print(s)\n",
    "print(len(s))"
   ]
  },
  {
   "cell_type": "markdown",
   "metadata": {},
   "source": [
    "順列の場合は、すこしややこしいです。同じ数が含まれてはいけないので、条件分岐が必要になります。"
   ]
  },
  {
   "cell_type": "code",
   "execution_count": null,
   "metadata": {},
   "outputs": [],
   "source": [
    "s = []\n",
    "for i in range(6):\n",
    "    for j in range(6):\n",
    "        if i != j:\n",
    "            for k in range(j+1,6):\n",
    "                if i != k and j != k:\n",
    "                    s.append((i,j,k))\n",
    "print(s)\n",
    "print(len(s))"
   ]
  },
  {
   "cell_type": "markdown",
   "metadata": {},
   "source": [
    "順列の場合は、選びだす個数が増えるほど、プログラムが複雑になってきそうですね。集合の性質をつかって、i,j,kがどれも異なる場合のみappendするように書いてみます。"
   ]
  },
  {
   "cell_type": "code",
   "execution_count": null,
   "metadata": {},
   "outputs": [],
   "source": [
    "s = []\n",
    "for i in range(6):\n",
    "    for j in range(6):\n",
    "        for k in range(6):\n",
    "            nums = set([i,j,k])   #set of (i,j,k)\n",
    "            if len(nums) == 3:    #if it has three members,\n",
    "                s.append((i,j,k))\n",
    "print(s)\n",
    "print(len(s))"
   ]
  },
  {
   "cell_type": "markdown",
   "metadata": {},
   "source": [
    "数字以外のものの組みあわせも、pythonならけっこう簡単です。順列の場合は、ほとんど変更なしです。"
   ]
  },
  {
   "cell_type": "code",
   "execution_count": null,
   "metadata": {},
   "outputs": [],
   "source": [
    "members = ('A','B','C','D','E','F')\n",
    "s = []\n",
    "for i in members:\n",
    "    for j in members:\n",
    "        for k in members:\n",
    "            nums = set([i,j,k])   #set of (i,j,k)\n",
    "            if len(nums) == 3:    #if it has three members,\n",
    "                s.append((i,j,k))\n",
    "print(s)\n",
    "print(len(s))"
   ]
  },
  {
   "cell_type": "markdown",
   "metadata": {},
   "source": [
    "組み合わせの場合は、繰り返しの範囲を書くのに困ってしまいます。ひとつの方法は次のような書きかたです。"
   ]
  },
  {
   "cell_type": "code",
   "execution_count": null,
   "metadata": {},
   "outputs": [],
   "source": [
    "members = ('A','B','C','D','E','F')\n",
    "N = len(members)\n",
    "s = []\n",
    "for i in range(N):\n",
    "    for j in range(i+1,N):\n",
    "        for k in range(j+1,N):\n",
    "            s.append((members[i],members[j],members[k]))\n",
    "print(s)\n",
    "print(len(s))"
   ]
  },
  {
   "cell_type": "markdown",
   "metadata": {},
   "source": [
    "さて、はじめのケースに戻りましょう。格子点の座標を決めるプログラムは、重複を許す順列を列挙しているともみなせます。3次元の場合、"
   ]
  },
  {
   "cell_type": "code",
   "execution_count": null,
   "metadata": {},
   "outputs": [],
   "source": [
    "pos = []\n",
    "for x in range(4):\n",
    "    for y in range(4):\n",
    "        for z in range(4):\n",
    "            pos.append((x,y,z))\n",
    "print(pos)"
   ]
  },
  {
   "cell_type": "markdown",
   "metadata": {},
   "source": [
    "では、d次元のn<sup>d</sup>の格子を出力する、一般的なプログラムは書けるでしょうか?\n",
    "\n",
    "これはけっこう難しい問題です。Fortranのような古い言語ではトリッキーな方法を使わざるをえません。Pythonでも、再帰が必要になります。"
   ]
  },
  {
   "cell_type": "code",
   "execution_count": null,
   "metadata": {},
   "outputs": [],
   "source": [
    "#d次元の、n^d個の格子点の座標をリストの形で返す関数。\n",
    "def lattice(n,d):\n",
    "    #1次元の場合には、0〜n-1を返す。\n",
    "    if d == 1:\n",
    "        return [[i,] for i in range(n)]\n",
    "\n",
    "lattice(10,1)    "
   ]
  },
  {
   "cell_type": "markdown",
   "metadata": {},
   "source": [
    "2次元以上の場合は、n-1次元の座標にもう1つ要素を追加する。"
   ]
  },
  {
   "cell_type": "code",
   "execution_count": null,
   "metadata": {},
   "outputs": [],
   "source": [
    "#d次元の、n^d個の格子点の座標をリストの形で返す関数。\n",
    "def lattice(n,d):\n",
    "    #1次元の場合には、0〜n-1を返す。\n",
    "    if d == 1:\n",
    "        return [[i,] for i in range(n)]\n",
    "    points = []\n",
    "    #n次元の座標は、n-1次元の座標に1次元の座標を付けくわえる\n",
    "    points0 = lattice(n,d-1)\n",
    "    for i in lattice(n,1):\n",
    "        for j in points0:\n",
    "            points.append(i+j)\n",
    "    return points\n",
    "lattice(4,3)"
   ]
  },
  {
   "cell_type": "markdown",
   "metadata": {},
   "source": [
    "このようなプログラムは、なかなか間違いなく書くのは難しく、読むにもすこし経験が必要です。\n",
    "\n",
    "そこで、標準ライブラリitertoolsの出番です。\n",
    "## itertoolsの概要\n",
    "itertoolsは、順列組み合わせの基本的なアルゴリズムを集めたものです。→https://docs.python.org/3/library/itertools.html\n",
    "\n",
    "### 組みあわせ\n",
    "5つの要素のなかから、2つを選ぶ組みあわせは、Fortranなどでは2重ループで書くのが一般的ですが、itertoolsを使うと非常に簡単に書けます。"
   ]
  },
  {
   "cell_type": "code",
   "execution_count": null,
   "metadata": {},
   "outputs": [],
   "source": [
    "import itertools\n",
    "for a,b in itertools.combinations([1,2,3,4,5], 2):\n",
    "    print(a,b)"
   ]
  },
  {
   "cell_type": "markdown",
   "metadata": {},
   "source": [
    "### 順列\n",
    "5つの要素を並びかえるすべての順列に対して何かの処理をしたい場合も、繰り返しで書くのは骨がおれますが、itertoolsではとても簡単です。"
   ]
  },
  {
   "cell_type": "code",
   "execution_count": null,
   "metadata": {},
   "outputs": [],
   "source": [
    "for p in itertools.permutations(\"ドレミソラ\"):\n",
    "    print(p)"
   ]
  },
  {
   "cell_type": "markdown",
   "metadata": {},
   "source": [
    "### 重複順列\n",
    "4x4x4の格子点を生成する問題は、重複順列とみなすことができます。itertoolsには重複順列ももちろんあります。"
   ]
  },
  {
   "cell_type": "code",
   "execution_count": null,
   "metadata": {},
   "outputs": [],
   "source": [
    "for i in itertools.product([0,1,2,3],[0,1,2,3],[0,1,2,3]):\n",
    "    print(i)"
   ]
  },
  {
   "cell_type": "markdown",
   "metadata": {},
   "source": [
    "いくつも同じものを並べるのが面倒なので、繰り返し回数を指定します。"
   ]
  },
  {
   "cell_type": "code",
   "execution_count": null,
   "metadata": {},
   "outputs": [],
   "source": [
    "for i in itertools.product(range(4),repeat=3):\n",
    "    print(i)"
   ]
  },
  {
   "cell_type": "markdown",
   "metadata": {},
   "source": [
    "## 使用例1\n",
    "\n",
    "1次元のランダムウォークは、1歩ごとに右(+1)か左(-1)に進みます。10歩のランダムウォークの全経路は、"
   ]
  },
  {
   "cell_type": "code",
   "execution_count": null,
   "metadata": {},
   "outputs": [],
   "source": [
    "for i in itertools.product([-1,+1],repeat=10):\n",
    "    print(i)"
   ]
  },
  {
   "cell_type": "markdown",
   "metadata": {},
   "source": [
    "和をとると、最終的な座標がわかります。"
   ]
  },
  {
   "cell_type": "code",
   "execution_count": null,
   "metadata": {},
   "outputs": [],
   "source": [
    "for i in itertools.product([-1,+1],repeat=10):\n",
    "    print(sum(i))"
   ]
  },
  {
   "cell_type": "markdown",
   "metadata": {},
   "source": [
    "これを集計すると、2項分布になることがわかります。repeat=の部分を大きくするとなめらかになりますが、20を越えると暴走するかもしれません。"
   ]
  },
  {
   "cell_type": "code",
   "execution_count": null,
   "metadata": {},
   "outputs": [],
   "source": [
    "%matplotlib inline\n",
    "import pylab\n",
    "positions = dict()\n",
    "for i in itertools.product([-1,+1],repeat=10):\n",
    "    print(i)\n",
    "    pos = sum(i)\n",
    "    if pos in positions:\n",
    "        positions[pos] += 1\n",
    "    else:\n",
    "        positions[pos] = 1\n",
    "#辞書のKeyをソートしたもの\n",
    "x = sorted(positions)\n",
    "#対応する累積数\n",
    "y = [positions[pos] for pos in x]\n",
    "\n",
    "pylab.plot(x,y)"
   ]
  },
  {
   "cell_type": "markdown",
   "metadata": {
    "collapsed": true
   },
   "source": [
    "## 使用例2\n",
    "にせアンパンマンをたくさん作ります。join関数は、文字列のリストをひとつの文字列に合体させます。また、random.shuffle関数は、リストの順序をランダムにいれかえます。\n",
    "\n",
    "応用として、「いつだれがどこでなにをどうした」ゲームをコンピュータに実行させるという遊びかたもあります。"
   ]
  },
  {
   "cell_type": "code",
   "execution_count": null,
   "metadata": {},
   "outputs": [],
   "source": [
    "import itertools\n",
    "import random\n",
    "にせあんぱんまん = []\n",
    "for あんぱんまん in itertools.product(\"アマヌ\",\"リソンシツ\",\"パバベペ\",\"リソンシツ\",\"アマヌ\",\"リソンシツ\"):\n",
    "    にせあんぱんまん.append(\"\".join(あんぱんまん))\n",
    "random.shuffle(にせあんぱんまん)\n",
    "print(にせあんぱんまん)"
   ]
  },
  {
   "cell_type": "markdown",
   "metadata": {
    "collapsed": true
   },
   "source": [
    "## 練習問題\n",
    "### 問題1\n",
    "以前どこかで説明をしたような気がしますが、eval(文字列)で、文字列をpythonプログラムとして評価できます。\n",
    "\n",
    "たとえば、以下の例では、文字列\"10\\*20\\*3\"を評価して、数値63が得られます。"
   ]
  },
  {
   "cell_type": "code",
   "execution_count": null,
   "metadata": {},
   "outputs": [],
   "source": [
    "x = eval(\"10*20+3\")\n",
    "x"
   ]
  },
  {
   "cell_type": "markdown",
   "metadata": {},
   "source": [
    "これを使うと、プログラムを実行している最中に、変化する数式の値を計算できます。\n",
    "\n",
    "人間が入力した数式をその場で数値に直せるので、超高性能関数電卓が3行で作れます。"
   ]
  },
  {
   "cell_type": "code",
   "execution_count": null,
   "metadata": {},
   "outputs": [],
   "source": [
    "from math import *\n",
    "while True:\n",
    "    print(eval(input(\"Formula:\")))"
   ]
  },
  {
   "cell_type": "markdown",
   "metadata": {},
   "source": [
    "さて、1〜5の数字の間に、四則演算子(\\*, /, +, -)をはさみこんで、答が20になるような数式をすべて表示するプログラムを作って下さい。数字の順番を変えてはいけません。たとえば次のような式です。"
   ]
  },
  {
   "cell_type": "code",
   "execution_count": null,
   "metadata": {},
   "outputs": [],
   "source": [
    "1+2+3*4+5"
   ]
  },
  {
   "cell_type": "markdown",
   "metadata": {},
   "source": [
    "それができたら、改造して、1〜9の数字の間に、四則演算子(\\*, /, +, -)をはさみこんで、答が100になるような数式をすべて表示するプログラムを作って下さい。\n",
    "\n",
    "その中で、いちばん演算子が少なくて済む(=式の文字数が少ない)のはどんな式でしょうか。\n",
    "\n",
    "この手の問題は、プログラムを書ける人にとっては楽勝ですが、そうでない人はまず正解を得ることができません。そして、現実の問題は、おそらくプログラムなしには解けない問題のほうが多いはずです。\n",
    "### 問題2\n",
    "正の整数のリストを与えられたとき、数を並び替えて可能な最大数を返す関数を記述せよ。例えば、[50, 2, 1, 9]が与えられた時、95021が答えとなる。(https://blog.svpino.com/2015/05/07/five-programming-problems-every-software-engineer-should-be-able-to-solve-in-less-than-1-hour より)"
   ]
  },
  {
   "cell_type": "markdown",
   "metadata": {
    "collapsed": true
   },
   "source": [
    "### 問題3\n",
    "覆面算HAWAII+IDAHO+IOWA+OHIO==STATESを解け。ただし、それぞれのアルファベットは0〜9の異なる数字が入り、一番上の桁は0でない。"
   ]
  },
  {
   "cell_type": "code",
   "execution_count": null,
   "metadata": {
    "collapsed": true
   },
   "outputs": [],
   "source": []
  }
 ],
 "metadata": {
  "kernelspec": {
   "display_name": "Python 3",
   "language": "python",
   "name": "python3"
  },
  "language_info": {
   "codemirror_mode": {
    "name": "ipython",
    "version": 3
   },
   "file_extension": ".py",
   "mimetype": "text/x-python",
   "name": "python",
   "nbconvert_exporter": "python",
   "pygments_lexer": "ipython3",
   "version": "3.5.3"
  }
 },
 "nbformat": 4,
 "nbformat_minor": 1
}

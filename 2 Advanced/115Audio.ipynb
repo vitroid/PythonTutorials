{
 "cells": [
  {
   "cell_type": "markdown",
   "metadata": {},
   "source": [
    "# Guitar (string mode)"
   ]
  },
  {
   "cell_type": "markdown",
   "metadata": {},
   "source": [
    "numpyを使う例として、音声の合成と解析を行う。\n",
    "\n",
    "基底音: 正弦波(440 Hz, ド)\n",
    "\n",
    "サンプリング周波数は20000 Hzとする。\n",
    "\n",
    "* `time`は文字通り時間。20000個のarrayの中に時刻が書かれている。\n",
    "* `phase`は位相。$2\\pi$増えるとサイン波が0に戻る。440 Hzの場合は、1秒(20000サンプル)のあいだに$440\\cdot 2\\pi$だけ増加する。\n",
    "* `wave`は波形。ここではコサイン波を作る。"
   ]
  },
  {
   "cell_type": "code",
   "execution_count": null,
   "metadata": {},
   "outputs": [],
   "source": [
    "%matplotlib inline\n",
    "\n",
    "import numpy as np\n",
    "from math import pi\n",
    "from IPython.display import Audio\n",
    "import matplotlib.pyplot as plt\n",
    "\n",
    "time = np.linspace(0, 1.0, 20000)\n",
    "phase = time* (440*pi*2)\n",
    "wave = np.cos(phase)\n",
    "\n",
    "#plot the wave\n",
    "plt.xlim(0,0.02)\n",
    "plt.plot(time, wave)\n",
    "\n",
    "Audio(wave, rate=20000)\n",
    "\n"
   ]
  },
  {
   "cell_type": "markdown",
   "metadata": {},
   "source": [
    "減衰させる。減衰の時定数は0.5 (0.5秒で$1/e$まで減衰する)"
   ]
  },
  {
   "cell_type": "code",
   "execution_count": null,
   "metadata": {},
   "outputs": [],
   "source": [
    "decay = np.exp(-time/0.5)\n",
    "\n",
    "Audio(wave*decay, rate=20000)"
   ]
  },
  {
   "cell_type": "markdown",
   "metadata": {},
   "source": [
    "2倍音。(振動数が2倍の音、1オクターブ上の音)"
   ]
  },
  {
   "cell_type": "code",
   "execution_count": null,
   "metadata": {},
   "outputs": [],
   "source": [
    "wave = np.cos(2*phase)\n",
    "\n",
    "#plot the wave\n",
    "plt.xlim(0,0.02)\n",
    "plt.plot(time, wave*decay)\n",
    "\n",
    "Audio(wave*decay, rate=20000)"
   ]
  },
  {
   "cell_type": "markdown",
   "metadata": {},
   "source": [
    "3倍音。(振動数が3倍の音、1オクターブ上のソ)"
   ]
  },
  {
   "cell_type": "code",
   "execution_count": null,
   "metadata": {},
   "outputs": [],
   "source": [
    "wave = np.cos(3*phase)\n",
    "\n",
    "#plot the wave\n",
    "plt.xlim(0,0.02)\n",
    "plt.plot(time, wave*decay)\n",
    "\n",
    "Audio(wave*decay, rate=20000)"
   ]
  },
  {
   "cell_type": "markdown",
   "metadata": {},
   "source": [
    "4倍音。(振動数が4倍の音、2オクターブ上の同音)"
   ]
  },
  {
   "cell_type": "code",
   "execution_count": null,
   "metadata": {},
   "outputs": [],
   "source": [
    "wave = np.cos(4*phase)\n",
    "\n",
    "#plot the wave\n",
    "plt.xlim(0,0.02)\n",
    "plt.plot(time, wave*decay)\n",
    "\n",
    "Audio(wave*decay, rate=20000)"
   ]
  },
  {
   "cell_type": "markdown",
   "metadata": {},
   "source": [
    "基底音+倍音"
   ]
  },
  {
   "cell_type": "code",
   "execution_count": null,
   "metadata": {},
   "outputs": [],
   "source": [
    "wave = np.cos(phase)\n",
    "wave += 0.5**0.5*np.cos(2*phase)\n",
    "\n",
    "#plot the wave\n",
    "plt.xlim(0,0.02)\n",
    "plt.plot(time, wave*decay)\n",
    "\n",
    "Audio(wave*decay, rate=20000)"
   ]
  },
  {
   "cell_type": "markdown",
   "metadata": {},
   "source": [
    "基底音+倍音+3倍音"
   ]
  },
  {
   "cell_type": "code",
   "execution_count": null,
   "metadata": {},
   "outputs": [],
   "source": [
    "wave = np.cos(phase)\n",
    "wave += (1/2)**0.5*np.cos(2*phase)\n",
    "wave += (1/3)**0.5*np.cos(3*phase)\n",
    "\n",
    "#plot the wave\n",
    "plt.xlim(0,0.02)\n",
    "plt.plot(time, wave*decay)\n",
    "\n",
    "Audio(wave*decay, rate=20000)"
   ]
  },
  {
   "cell_type": "markdown",
   "metadata": {},
   "source": [
    "基底音+倍音+3倍音+4倍音"
   ]
  },
  {
   "cell_type": "code",
   "execution_count": null,
   "metadata": {},
   "outputs": [],
   "source": [
    "wave = np.cos(phase)\n",
    "wave += (1/2)**0.5*np.cos(2*phase)\n",
    "wave += (1/3)**0.5*np.cos(3*phase)\n",
    "wave += (1/4)**0.5*np.cos(4*phase)\n",
    "\n",
    "#plot the wave\n",
    "plt.xlim(0,0.02)\n",
    "plt.plot(time, wave*decay)\n",
    "\n",
    "Audio(wave*decay, rate=20000)"
   ]
  },
  {
   "cell_type": "code",
   "execution_count": null,
   "metadata": {},
   "outputs": [],
   "source": [
    "wave = np.cos(phase)\n",
    "wave += (1/2)**0.5*np.cos(2*phase)\n",
    "wave += (1/3)**0.5*np.cos(3*phase)\n",
    "wave += (1/4)**0.5*np.cos(4*phase)\n",
    "wave += (1/3)**0.5*np.cos(5*phase)\n",
    "\n",
    "#plot the wave\n",
    "plt.xlim(0,0.02)\n",
    "plt.plot(time, wave*decay)\n",
    "\n",
    "Audio(wave*decay, rate=20000)"
   ]
  },
  {
   "cell_type": "markdown",
   "metadata": {},
   "source": [
    "上の波をフーリエ変換してパワースペクトル(周波数分布)を求める。"
   ]
  },
  {
   "cell_type": "code",
   "execution_count": null,
   "metadata": {},
   "outputs": [],
   "source": [
    "spec = np.fft.fft(wave)\n",
    "\n",
    "#plot the spectrum\n",
    "plt.xlim(0,3000)\n",
    "plt.plot(np.abs(spec)**2)"
   ]
  },
  {
   "cell_type": "markdown",
   "metadata": {},
   "source": [
    "合成した波の成分に戻すことができた。ここでは音声データを分解したが、波データであれば光であれ音声であれ、こうしてスペクトルにに変換できる。"
   ]
  },
  {
   "cell_type": "markdown",
   "metadata": {
    "collapsed": true
   },
   "source": [
    "# Timpani (circular membrane modes)\n",
    "膜の振動は、共鳴的ではない。固有振動が無理数比の成分を含み、濁った音になる。\n",
    "\n",
    "基底音の周波数を120 Hzとする。"
   ]
  },
  {
   "cell_type": "code",
   "execution_count": null,
   "metadata": {},
   "outputs": [],
   "source": [
    "time = np.linspace(0, 5, 20000*5)\n",
    "phase = time * 120 * 2*pi\n",
    "decay = np.exp(-time / 0.5)\n",
    "\n",
    "wave = np.sin(phase)\n",
    "# 倍音の強度はてきとう。\n",
    "wave += (1/2)**0.5*np.sin(1.59*phase)\n",
    "wave += (1/3)**0.5*np.sin(2.14*phase)\n",
    "wave += (1/4)**0.5*np.sin(2.30*phase)\n",
    "wave += (1/3)**0.5*np.sin(2.65*phase)\n",
    "wave += (1/6)**0.5*np.sin(2.92*phase)\n",
    "wave += (1/7)**0.5*np.sin(3.16*phase)\n",
    "wave += (1/8)**0.5*np.sin(3.50*phase)\n",
    "wave += (1/9)**0.5*np.sin(3.60*phase)\n",
    "\n",
    "#plot the wave\n",
    "plt.xlim(0,0.02)\n",
    "plt.plot(time, wave*decay)\n",
    "\n",
    "\n",
    "Audio(wave*decay, rate=20000)"
   ]
  },
  {
   "cell_type": "code",
   "execution_count": null,
   "metadata": {},
   "outputs": [],
   "source": [
    "# waveは5秒のデータ\n",
    "spec = np.fft.fft(wave)\n",
    "spec = spec[:3000]\n",
    "\n",
    "#plot the spectrum\n",
    "# データが5秒分ある場合、波数の最小目盛は1/5波数となる。\n",
    "wavenumbers = np.arange(0, 600, 1/5)\n",
    "plt.plot(wavenumbers, np.abs(spec)**2)"
   ]
  },
  {
   "cell_type": "markdown",
   "metadata": {
    "collapsed": true
   },
   "source": [
    "## 宿題\n",
    "\n",
    "sampleaudio.wav (長さ1秒、サンプリング周波数20000 Hz)に含まれる音の基底振動数を調べよ。\n",
    "\n",
    "wavファイルを読みこむには、`soundfile`モジュールを使うと便利。 (https://stackoverflow.com/questions/34416283/how-to-properly-decode-wav-with-python)\n",
    "\n",
    "* Anacondaでsoundfileを使えるようにし、kernelを再起動する。"
   ]
  },
  {
   "cell_type": "code",
   "execution_count": null,
   "metadata": {},
   "outputs": [],
   "source": [
    "import soundfile as sf\n",
    "wave, samplerate = sf.read(\"sampleaudio.wav\")\n",
    "\n",
    "Audio(wave, rate=samplerate)"
   ]
  },
  {
   "cell_type": "code",
   "execution_count": null,
   "metadata": {},
   "outputs": [],
   "source": []
  }
 ],
 "metadata": {
  "kernelspec": {
   "display_name": "Python 3",
   "language": "python",
   "name": "python3"
  },
  "language_info": {
   "codemirror_mode": {
    "name": "ipython",
    "version": 3
   },
   "file_extension": ".py",
   "mimetype": "text/x-python",
   "name": "python",
   "nbconvert_exporter": "python",
   "pygments_lexer": "ipython3",
   "version": "3.6.5"
  }
 },
 "nbformat": 4,
 "nbformat_minor": 2
}

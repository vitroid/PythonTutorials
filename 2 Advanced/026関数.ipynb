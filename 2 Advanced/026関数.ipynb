{
  "cells": [
    {
      "cell_type": "markdown",
      "metadata": {
        "colab_type": "text",
        "id": "view-in-github"
      },
      "source": [
        "<a href=\"https://colab.research.google.com/github/vitroid/PythonTutorials/blob/master/2%20Advanced/026%E9%96%A2%E6%95%B0.ipynb\" target=\"_parent\"><img src=\"https://colab.research.google.com/assets/colab-badge.svg\" alt=\"Open In Colab\"/></a>"
      ]
    },
    {
      "attachments": {},
      "cell_type": "markdown",
      "metadata": {
        "id": "6F6EVue78Pf6"
      },
      "source": [
        "pythonでは、よく使う一連の手順を、関数のかたちでまとめることができます。\n",
        "\n",
        "例えば、必要があって、1から50までの積(50の階乗)を計算したとしましょう。\n",
        "\n",
        "In python, a series of commonly used procedures can be summarized in the form of a \"function\".\n",
        "\n",
        "For example, suppose you need to compute the product of 1 and 50 (the factorial of 50)."
      ]
    },
    {
      "cell_type": "code",
      "execution_count": null,
      "metadata": {
        "id": "1JqgfHas8PgU"
      },
      "outputs": [],
      "source": [
        "x = 1\n",
        "for i in range(1,51):\n",
        "    x *= i\n",
        "print(x)"
      ]
    },
    {
      "attachments": {},
      "cell_type": "markdown",
      "metadata": {
        "id": "qLWIefDP8Phw"
      },
      "source": [
        "階乗をしょっちゅう使うのなら、それに名前(たとえばfactorial)を付けて、\n",
        "```python\n",
        "print(factorial(50))\n",
        "```\n",
        "のように使えると便利ですよね。この、名前をつけた手続きのことを関数と言います。(なぜ関数といういかめしい名前なのかはあとで語ります)\n",
        "\n",
        "\n",
        "It would be convenient to give them names (e.g., factorial) and use them as follows.\n",
        "```python\n",
        "print(factorial(50))\n",
        "```\n",
        "This named procedure is called a function.\n",
        "\n",
        "\n",
        "\n",
        "階乗関数は次のような形で定義します。\n",
        "\n",
        "A factorial function is defined as follows\n"
      ]
    },
    {
      "cell_type": "code",
      "execution_count": null,
      "metadata": {
        "id": "dt2Ezb0o8Phy"
      },
      "outputs": [],
      "source": [
        "def factorial(n):\n",
        "    x = 1\n",
        "    for i in range(1,n+1):\n",
        "        x *= i\n",
        "    return x"
      ]
    },
    {
      "attachments": {},
      "cell_type": "markdown",
      "metadata": {
        "id": "6wt1--fa8PiA"
      },
      "source": [
        "そして、これを呼びだす時は、sin関数などの、いわゆる関数と同じように使います。\n",
        "\n",
        "It can be used in a same way as a conventional mathematical functions like `sin()`."
      ]
    },
    {
      "cell_type": "code",
      "execution_count": null,
      "metadata": {
        "id": "ebLOgD0C8PiB"
      },
      "outputs": [],
      "source": [
        "value = factorial(100)\n",
        "print(value)"
      ]
    },
    {
      "cell_type": "markdown",
      "metadata": {
        "id": "fe4mcuUt8Pic"
      },
      "source": [
        "では、次のようなプログラムはどうでしょうか?"
      ]
    },
    {
      "cell_type": "code",
      "execution_count": null,
      "metadata": {
        "id": "UC-1ROvz8Pif"
      },
      "outputs": [],
      "source": [
        "x = 20\n",
        "print(factorial(x))"
      ]
    },
    {
      "attachments": {},
      "cell_type": "markdown",
      "metadata": {
        "id": "txpCyydv8Pio"
      },
      "source": [
        "関数を呼びだす側では`x`という変数を与えているのに、関数のなかでは`n`という名前を使っていて、しかも`x`は別の目的で使っています。\n",
        "\n",
        "実は、関数の中で使う、`i`,`n`,`x`などの変数はすべて「局所変数」と呼ばれ、関数の中だけで一時的に名付けられた変数です。呼びだす側で使った`x`と、局所変数の`x`は同じ記号を使っていても、全く別のものとして扱われます。こうすることで、関数を書く人と、関数を使う人が、おたがいに変数名が重なる心配をしなくてすむようになっているのです。\n",
        "\n",
        "このプログラムの場合、`x`の値(20)が関数内部に`n`という変数名で渡され、関数内の処理を行い、得られた答を関数の値として返し(return)ます。\n",
        "\n",
        "なお、関数の中で新たに定義した変数は局所変数とみなされますが、定義なしに変数をつかった場合には、大域変数(関数のそとで定義された変数)とみなされます。大域変数は関数の引数として明示的にわたされるわけではないので、その関数が呼びだされた時に、本当に定義されている(値をもっている)保証がありません。例えば、次の関数がちゃんと動くかどうかは、`y`があらかじめ定義されているかどうかにかかっています。\n",
        "\n",
        "The caller gives the variable `x`, but it is referred as `n` in the function, and moreover, `x` is used for a different purpose.\n",
        "\n",
        "In fact, variables such as `i`, `n`, and `x` used in a function are all called \"local variables\" and are temporarily named only within the function. The `x` used in the caller and the `x` in the local variable in the function are treated as completely different things, even though they use the same symbol. In this way, the writer of the function and the user of the function do not have to worry about overlapping variable names.\n",
        "\n",
        "In the case of this program, the value of `x` (20) is passed to the function with the variable name `n`, the function is processed, and the obtained answer is returned as the function value (return).\n",
        "\n",
        "A variable newly defined in a function is considered a local variable, but if a variable is used without definition, it is considered a global variable (a variable defined outside of the function). Because global variables are not explicitly passed as function arguments, there is no guarantee that they are truly defined (have a value) when the function is called. For example, the proper operation of the following function depends on whether or not `y` is predefined."
      ]
    },
    {
      "cell_type": "code",
      "execution_count": null,
      "metadata": {
        "id": "56d6iSIV8Pip"
      },
      "outputs": [],
      "source": [
        "def multiple_factorial(n):\n",
        "    x = 1\n",
        "    for i in range(n,1,-y):  # ←関数内で定義していないyを使っている!\n",
        "        x *= i\n",
        "    return x\n",
        "\n",
        "y = 3    # a global variable\n",
        "print(multiple_factorial(10))\n",
        "del y    # delete the variable y\n",
        "print(multiple_factorial(10)) # cause an error because y is missing.\n"
      ]
    },
    {
      "attachments": {},
      "cell_type": "markdown",
      "metadata": {
        "id": "iGghzNCM8Pix"
      },
      "source": [
        "数学の関数と同じように、ある引数に対して、それに対応した値を返すので関数と呼ばれていますが、関数のなかで大域変数を使ってしまうと、同じ引数に対して、必ず同じ値を返すわけではなくなってしまいます。バグの温床になるので、おすすめしません。上の例では、間隔を表すyは関数の引数(パラメータ)とすべきでしょう。\n",
        "\n",
        "It is called a function because it returns the corresponding value for a given argument like a mathematical function, but if a global variable is used in a function, it will not always return the same value for the same argument. This is a breeding ground for bugs and is not recommended. In the above example, `y` representing the interval should be a function argument (parameter)."
      ]
    },
    {
      "cell_type": "code",
      "execution_count": null,
      "metadata": {
        "id": "4B_B8tXQ8Piy"
      },
      "outputs": [],
      "source": [
        "def multiple_factorial(n, interval):\n",
        "    x = 1\n",
        "    for i in range(n,1,-interval):\n",
        "        x *= i\n",
        "    return x\n",
        "\n",
        "y = 3    #大域変数\n",
        "print(multiple_factorial(10, y))\n"
      ]
    },
    {
      "attachments": {},
      "cell_type": "markdown",
      "metadata": {
        "id": "8A201TB_8Pj5"
      },
      "source": [
        "引数に手を加えず、大域変数も使わず、引数の値だけに依存して一意的な関数の値を返す、本来の意味での関数となるようにプログラムしよう、というのが、最近のプログラム言語の潮流のようです。\n",
        "\n",
        "The recent trend in programming languages seems to be to program functions to be functions in the original sense of the word, returning unique function values dependent only on the values of the arguments, without modifying the arguments or using global variables."
      ]
    },
    {
      "attachments": {},
      "cell_type": "markdown",
      "metadata": {
        "id": "QxgRDKd98PkF"
      },
      "source": [
        "## 練習問題 Exercises\n",
        "\n",
        "以下のような関数を書いてみて下さい。それがちゃんと動くかどうかをテストして下さい。\n",
        "\n",
        "1. 1〜nの和を返す関数`sum(n)`。\n",
        "2. 文字列`s`のなかの母音aiueoの総数を返す関数`boin(s)`。\n",
        "3. 与えられたタプルtをひとつ「右回転する」関数ror(t)。右回転とは、(1,2,3,4,5,6)を(6,1,2,3,4,5)にすること。\n",
        "4. 与えられたタプルtをn回右回転する関数multirot(t,n)。ror()を使って書くと楽。nが負の場合や、nがtの要素数よりも多い場合も動くようにする。\n",
        "\n",
        "Try writing a function like the following. Test if it works properly.\n",
        "\n",
        "1. `sum(n)`, a function that returns the sum of 1 through n.\n",
        "2. `vowels(s)`, which returns the total number of vowels aueo in the string `s`\n",
        "3. The function `ror(t)`, which \"right-turns\" the given tuple `t` by one. A right rotation means that `(1,2,3,4,5,6)` becomes `(6,1,2,3,4,5)`.\n",
        "4. function `multirot(t,n)` to rotate a given tuple `t` n times to the right; easy to write using `ror()`; should work even when `n` is negative or `n` is more than the number of elements in `t`.\n"
      ]
    },
    {
      "cell_type": "code",
      "execution_count": null,
      "metadata": {
        "id": "PdvzDEQB8PkG"
      },
      "outputs": [],
      "source": []
    }
  ],
  "metadata": {
    "colab": {
      "include_colab_link": true,
      "name": "026関数.ipynb",
      "provenance": []
    },
    "kernelspec": {
      "display_name": "Python 3",
      "language": "python",
      "name": "python3"
    },
    "language_info": {
      "codemirror_mode": {
        "name": "ipython",
        "version": 3
      },
      "file_extension": ".py",
      "mimetype": "text/x-python",
      "name": "python",
      "nbconvert_exporter": "python",
      "pygments_lexer": "ipython3",
      "version": "3.11.3"
    }
  },
  "nbformat": 4,
  "nbformat_minor": 0
}

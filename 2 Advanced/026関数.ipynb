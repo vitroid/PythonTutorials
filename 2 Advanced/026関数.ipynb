{
  "nbformat": 4,
  "nbformat_minor": 0,
  "metadata": {
    "kernelspec": {
      "display_name": "Python 3",
      "language": "python",
      "name": "python3"
    },
    "language_info": {
      "codemirror_mode": {
        "name": "ipython",
        "version": 3
      },
      "file_extension": ".py",
      "mimetype": "text/x-python",
      "name": "python",
      "nbconvert_exporter": "python",
      "pygments_lexer": "ipython3",
      "version": "3.7.3"
    },
    "colab": {
      "name": "026関数.ipynb",
      "provenance": [],
      "include_colab_link": true
    }
  },
  "cells": [
    {
      "cell_type": "markdown",
      "metadata": {
        "id": "view-in-github",
        "colab_type": "text"
      },
      "source": [
        "<a href=\"https://colab.research.google.com/github/vitroid/PythonTutorials/blob/master/2%20Advanced/026%E9%96%A2%E6%95%B0.ipynb\" target=\"_parent\"><img src=\"https://colab.research.google.com/assets/colab-badge.svg\" alt=\"Open In Colab\"/></a>"
      ]
    },
    {
      "cell_type": "markdown",
      "metadata": {
        "id": "6F6EVue78Pf6"
      },
      "source": [
        "pythonでは、よく使う一連の手順を、関数のかたちでまとめることができます。\n",
        "\n",
        "例えば、必要があって、1から50までの積(50の階乗)を計算したとしましょう。"
      ]
    },
    {
      "cell_type": "code",
      "metadata": {
        "id": "1JqgfHas8PgU"
      },
      "source": [
        "x = 1\n",
        "for i in range(1,51):\n",
        "    x *= i\n",
        "print(x)"
      ],
      "execution_count": null,
      "outputs": []
    },
    {
      "cell_type": "markdown",
      "metadata": {
        "id": "knkrrsud8Pg_"
      },
      "source": [
        "階乗をしょっちゅう使うのなら、それに名前(たとえばfactorial)を付けて、"
      ]
    },
    {
      "cell_type": "markdown",
      "metadata": {
        "id": "qLIym2Mp8g-N"
      },
      "source": [
        "```python\n",
        "print(factorial(50))\n",
        "```"
      ]
    },
    {
      "cell_type": "markdown",
      "metadata": {
        "id": "qLWIefDP8Phw"
      },
      "source": [
        "のように使えると便利ですよね。この、名前をつけた手続きのことを関数と言います。(なぜ関数といういかめしい名前なのかはあとで語ります)\n",
        "\n",
        "階乗関数は次のような形で定義します。"
      ]
    },
    {
      "cell_type": "code",
      "metadata": {
        "id": "dt2Ezb0o8Phy"
      },
      "source": [
        "def factorial(n):\n",
        "    x = 1\n",
        "    for i in range(1,n+1):\n",
        "        x *= i\n",
        "    return x"
      ],
      "execution_count": null,
      "outputs": []
    },
    {
      "cell_type": "markdown",
      "metadata": {
        "id": "6wt1--fa8PiA"
      },
      "source": [
        "そして、これを呼びだす時は、sin関数などの、いわゆる関数と同じように使います。"
      ]
    },
    {
      "cell_type": "code",
      "metadata": {
        "id": "ebLOgD0C8PiB"
      },
      "source": [
        "value = factorial(100)\n",
        "print(value)"
      ],
      "execution_count": null,
      "outputs": []
    },
    {
      "cell_type": "markdown",
      "metadata": {
        "id": "fe4mcuUt8Pic"
      },
      "source": [
        "では、次のようなプログラムはどうでしょうか?"
      ]
    },
    {
      "cell_type": "code",
      "metadata": {
        "id": "UC-1ROvz8Pif"
      },
      "source": [
        "x = 20\n",
        "print(factorial(x))"
      ],
      "execution_count": null,
      "outputs": []
    },
    {
      "cell_type": "markdown",
      "metadata": {
        "id": "txpCyydv8Pio"
      },
      "source": [
        "関数を呼びだす側ではxという変数を使っているのに、呼びだされる側はnという名前を使っていて、しかもxは別の目的で使っています。\n",
        "\n",
        "実は、関数の中で使う、i,n,xなどの変数はすべて「局所変数」と呼ばれ、関数の中だけで一時的に名付けられた変数です。呼びだす側で使ったxと、局所変数のxは同じ記号を使っていても、全く別のものとして扱われます。こうすることで、関数を書く人と、関数を使う人が、おたがいに変数名が重なる心配をしなくてすむようになっているのです。\n",
        "\n",
        "このプログラムの場合、xの値(20)が関数内部にnという変数名で渡され、関数内の処理を行い、得られたxを関数の値として返し(return)ます。\n",
        "\n",
        "なお、関数の中で新たに定義した変数は局所変数とみなされますが、定義なしに変数をつかった場合には、大域変数(関数のそとで定義された変数)とみなされます。大域変数は関数の引数として明示的にわたされるわけではないので、その関数が呼びだされた時に、本当に定義されている(値をもっている)保証がありません。例えば、次の関数がちゃんと動くかどうかは、yがあらかじめ定義されているかどうかにかかっています。"
      ]
    },
    {
      "cell_type": "code",
      "metadata": {
        "id": "56d6iSIV8Pip"
      },
      "source": [
        "def multiple_factorial(n):\n",
        "    x = 1\n",
        "    for i in range(n,1,-y):  # ←関数内で定義していないyを使っている!\n",
        "        x *= i\n",
        "    return x\n",
        "\n",
        "y = 3    #大域変数\n",
        "print(multiple_factorial(10))\n",
        "del y    #変数を抹消する\n",
        "print(multiple_factorial(10))\n"
      ],
      "execution_count": null,
      "outputs": []
    },
    {
      "cell_type": "markdown",
      "metadata": {
        "id": "iGghzNCM8Pix"
      },
      "source": [
        "数学の関数と同じように、ある引数に対して、それに対応した値を返すので関数と呼ばれていますが、関数のなかで大域変数を使ってしまうと、同じ引数に対して、必ず同じ値を返すわけではなくなってしまいます。バグの温床になるので、おすすめしません。上の例では、間隔を表すyは関数の引数(パラメータ)とすべきでしょう。"
      ]
    },
    {
      "cell_type": "code",
      "metadata": {
        "id": "4B_B8tXQ8Piy"
      },
      "source": [
        "def multiple_factorial(n, interval):\n",
        "    x = 1\n",
        "    for i in range(n,1,-interval):\n",
        "        x *= i\n",
        "    return x\n",
        "\n",
        "y = 3    #大域変数\n",
        "print(multiple_factorial(10, y))\n"
      ],
      "execution_count": null,
      "outputs": []
    },
    {
      "cell_type": "markdown",
      "metadata": {
        "id": "_5fZgkpP8PjZ"
      },
      "source": [
        "関数の引数にリストを渡す場合も注意が必要です。リストを渡すと、関数の中では、そのリストに新たな変数名が付けられますが、中身はもとのリストのままです。名札だけ付けかえた、と言えばいいでしょうか。\n",
        "\n",
        "例えば、次の例では、引数としてわたしたリストxの一部が書きかわってしまいます。"
      ]
    },
    {
      "cell_type": "code",
      "metadata": {
        "id": "U4eIn70h8Pjb"
      },
      "source": [
        "def test(a):\n",
        "    a[1] = 99\n",
        "    return a\n",
        "\n",
        "x = [1,2,3,4,5,6]\n",
        "y = test(x)\n",
        "\n",
        "y[3] = 77\n",
        "print(x,y)"
      ],
      "execution_count": null,
      "outputs": []
    },
    {
      "cell_type": "markdown",
      "metadata": {
        "id": "qUFssjh18Pjq"
      },
      "source": [
        "関数の中のaはxのコピーではなく、xそのものなのです。だから、aの一部を書きかえると、さかのぼってxの一部も変わってしまいます。そして、関数の値として帰ってきたyもまたxそのものなので、yの一部を書きかえると、xが書きかわってしまいます。\n",
        "\n",
        "どうすればいいか、ですが、関数を書く時に、リスト型の引数を変更しないように慎重に書くか、あるいは引数にはリストではなくタプルを渡すように徹底するしかありません。もちろん、引数を書きかえられることが便利な場合もあります。例えばsort()関数は、引数のリストをその場でソートします。sort関数自体は値を返しません。"
      ]
    },
    {
      "cell_type": "code",
      "metadata": {
        "id": "6HRClVn78Pjs"
      },
      "source": [
        "x = [6,3,5,1,7,4,0]\n",
        "x.sort()\n",
        "print(x)"
      ],
      "execution_count": null,
      "outputs": []
    },
    {
      "cell_type": "markdown",
      "metadata": {
        "id": "SC58VeN88Pjx"
      },
      "source": [
        "当然、中身が変更できないtupleに対してsort関数を使うとエラーになります。"
      ]
    },
    {
      "cell_type": "code",
      "metadata": {
        "id": "2FLNdMAp8Pjy"
      },
      "source": [
        "x = (6,3,5,1,7,4,0)\n",
        "x.sort()\n",
        "print(x)"
      ],
      "execution_count": null,
      "outputs": []
    },
    {
      "cell_type": "markdown",
      "metadata": {
        "id": "Px9CKlbi8Pj1"
      },
      "source": [
        "これに対し、引数をソートした結果をリストとして返す、sorted関数が準備されています。"
      ]
    },
    {
      "cell_type": "code",
      "metadata": {
        "id": "3UfiD_Ft8Pj1"
      },
      "source": [
        "x = (6,3,5,1,7,4,0)\n",
        "y = sorted(x)\n",
        "print(y)"
      ],
      "execution_count": null,
      "outputs": []
    },
    {
      "cell_type": "markdown",
      "metadata": {
        "id": "8A201TB_8Pj5"
      },
      "source": [
        "引数に手を加えず、大域変数も使わず、引数の値だけに依存して一意的な関数の値を返す、本来の意味での関数となるようにプログラムしよう、というのが、最近のプログラム言語の潮流のようです。\n",
        "\n",
        "与えられたリストの偶数番目の要素だけ符号を逆にする関数を書いてみます。"
      ]
    },
    {
      "cell_type": "code",
      "metadata": {
        "id": "KqMjsLQP8Pj6"
      },
      "source": [
        "def inv_even(x):\n",
        "    for i in range(0,len(x),2):\n",
        "        x[i] = -x[i]\n",
        "    return x\n",
        "\n",
        "a = (6,3,5,1,7,4,0)\n",
        "print(inv_even(a))"
      ],
      "execution_count": null,
      "outputs": []
    },
    {
      "cell_type": "markdown",
      "metadata": {
        "id": "z8TZQT9t8PkB"
      },
      "source": [
        "エラーになるのは、タプルを引数として渡しているのに、それを3行目で書換えようとしているからです。関数の値として返すリストは、引数xとは別に準備しなければなりません。下の例では、list()関数でタプルをリスト化しています。xはtupそのものではなく、tupのコピーなので、xを変更してもtupの中身は変更されません。"
      ]
    },
    {
      "cell_type": "code",
      "metadata": {
        "id": "Y7DZhFWV8PkB"
      },
      "source": [
        "def inv_even(tup):\n",
        "    x = list(tup)\n",
        "    for i in range(0,len(x),2):\n",
        "        x[i] = -x[i]\n",
        "    return x\n",
        "\n",
        "a = (6,3,5,1,7,4,0)\n",
        "print(inv_even(a))"
      ],
      "execution_count": null,
      "outputs": []
    },
    {
      "cell_type": "markdown",
      "metadata": {
        "id": "-84DmOUd8PkF"
      },
      "source": [
        "なお、list(x)のほかにtuple(x)やdict(x)、set(x)などの関数も、xのコピーを作るのに使えます。"
      ]
    },
    {
      "cell_type": "markdown",
      "metadata": {
        "id": "QxgRDKd98PkF"
      },
      "source": [
        "## 練習問題\n",
        "\n",
        "以下のような関数を書いてみて下さい。それがちゃんと動くかどうかをテストして下さい。\n",
        "\n",
        "1. 1〜nの和を返す関数sum(n)。\n",
        "2. 文字列sのなかの母音aiueoの総数を返す関数boin(s)。\n",
        "3. 与えられたタプルtをひとつ「右回転する」関数ror(t)。右回転とは、(1,2,3,4,5,6)を(6,1,2,3,4,5)にすること。\n",
        "4. 与えられたタプルtをn回右回転する関数multirot(t,n)。ror()を使って書くと楽。nが負の場合や、nがtの要素数よりも多い場合も動くようにする。\n",
        "\n",
        "宿題ではないので提出する必要はありませんが、提出された場合は助言します。"
      ]
    },
    {
      "cell_type": "code",
      "metadata": {
        "id": "PdvzDEQB8PkG"
      },
      "source": [
        ""
      ],
      "execution_count": null,
      "outputs": []
    }
  ]
}
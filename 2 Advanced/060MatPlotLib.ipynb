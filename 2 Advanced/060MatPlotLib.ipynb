{
  "nbformat": 4,
  "nbformat_minor": 0,
  "metadata": {
    "kernelspec": {
      "display_name": "Python 3",
      "language": "python",
      "name": "python3"
    },
    "language_info": {
      "codemirror_mode": {
        "name": "ipython",
        "version": 3
      },
      "file_extension": ".py",
      "mimetype": "text/x-python",
      "name": "python",
      "nbconvert_exporter": "python",
      "pygments_lexer": "ipython3",
      "version": "3.6.5"
    },
    "colab": {
      "name": "060MatPlotLib.ipynb",
      "provenance": [],
      "toc_visible": true,
      "include_colab_link": true
    }
  },
  "cells": [
    {
      "cell_type": "markdown",
      "metadata": {
        "id": "view-in-github",
        "colab_type": "text"
      },
      "source": [
        "<a href=\"https://colab.research.google.com/github/vitroid/PythonTutorials/blob/2020m0/2%20Advanced/060MatPlotLib.ipynb\" target=\"_parent\"><img src=\"https://colab.research.google.com/assets/colab-badge.svg\" alt=\"Open In Colab\"/></a>"
      ]
    },
    {
      "cell_type": "markdown",
      "metadata": {
        "id": "emssdsBDn3bP",
        "colab_type": "text"
      },
      "source": [
        "すでに使いなれたプロッティングツール(例えばgnuplot)があるのに、おなじことをPythonでやりなおす必要は感じないと思いますが、MatPlotLibはPythonのいろんなライブラリでグラフを描くための事実上の標準になっているので、使いかたに慣れておくと、いろいろ便利なことがあります。\n",
        "\n",
        "松本も日常MatPlotLibを使っているわけではないので、練習をかねてgnuplot (http://gnuplot.sourceforge.net) でできることを、MatPlotLibでひととおり試してみます。\n",
        "\n",
        "gnuplotよりもMatPlotLibがすぐれている点は、それがプログラム言語の中に組みこまれていることです。生データをそのままプロットする場合にはgnuplotで十分ですが、様々なデータ処理を行った結果をプロットしたり、パラメータをリアルタイムで調整しながらグラフを描きなおしたい場合には、MatPlotLibのほうが便利かもしれません。\n",
        "\n",
        "## 2次元: XYプロット\n",
        "### 数式のプロット\n",
        "gnuplotでは、数式を直接指定する方法があるが、MatPlotLibは数値のプロットしかできないので、数式をプロットしたい場合は、numpyで数値化してからプロットする。整数のリストを生じるrangeを拡張した、arangeという関数がnumpyに備わっているので、これを使えば単調増加数列は簡単に作れる。また、numpyの数学関数を使うと、arrayに対して演算ができる。"
      ]
    },
    {
      "cell_type": "code",
      "metadata": {
        "id": "RzusUE5xn3bQ",
        "colab_type": "code",
        "colab": {}
      },
      "source": [
        "import numpy as np\n",
        "\n",
        "x = np.arange(-10,10,0.1)        #xは-10から+10まで0.1間隔の値のarray\n",
        "print(x)"
      ],
      "execution_count": 0,
      "outputs": []
    },
    {
      "cell_type": "markdown",
      "metadata": {
        "id": "AVcFPniyn3bY",
        "colab_type": "text"
      },
      "source": [
        "arrayに対して通常の演算を行うと、個々の要素に作用する。この例の場合、xのすべての要素が個別に二乗される。"
      ]
    },
    {
      "cell_type": "code",
      "metadata": {
        "id": "aKYa4m8_n3ba",
        "colab_type": "code",
        "colab": {}
      },
      "source": [
        "y=x**2\n",
        "y"
      ],
      "execution_count": 0,
      "outputs": []
    },
    {
      "cell_type": "code",
      "metadata": {
        "id": "mk80T0HPn3be",
        "colab_type": "code",
        "colab": {}
      },
      "source": [
        "import matplotlib.pyplot as plt  #プロットライブラリの本体\n",
        "\n",
        "plt.plot(x,y)"
      ],
      "execution_count": 0,
      "outputs": []
    },
    {
      "cell_type": "markdown",
      "metadata": {
        "id": "9xWBrwjvn3bj",
        "colab_type": "text"
      },
      "source": [
        "arrayに対して通常の演算を行うと、個々の要素に作用する。そのための数学関数がnumpyにすべて準備されている。"
      ]
    },
    {
      "cell_type": "code",
      "metadata": {
        "id": "iI2AzNBRn3bj",
        "colab_type": "code",
        "colab": {}
      },
      "source": [
        "import numpy as np\n",
        "import matplotlib.pyplot as plt  #プロットライブラリの本体\n",
        "\n",
        "x = np.arange(-10,10,0.1)        #xは-10から+10まで0.1間隔の値のarray\n",
        "y = np.exp(-x**2/5)              #yの値はxから算出する。\n",
        "plt.xlim(-5,5)                 #プロット範囲指定\n",
        "plt.plot(x,y)"
      ],
      "execution_count": 0,
      "outputs": []
    },
    {
      "cell_type": "markdown",
      "metadata": {
        "id": "wgEeLgA0n3bo",
        "colab_type": "text"
      },
      "source": [
        "### データのプロット\n",
        "まずは、手作りデータをプロットしてみる。"
      ]
    },
    {
      "cell_type": "code",
      "metadata": {
        "id": "pJCBfhXUn3bp",
        "colab_type": "code",
        "colab": {}
      },
      "source": [
        "import numpy as np\n",
        "import matplotlib.pyplot as plt  #プロットライブラリの本体\n",
        "\n",
        "x = [1,2,4,8,16]\n",
        "y = [2,3,5,7,11]\n",
        "plt.plot(x,y)"
      ],
      "execution_count": 0,
      "outputs": []
    },
    {
      "cell_type": "markdown",
      "metadata": {
        "id": "fPN9EZzZn3bs",
        "colab_type": "text"
      },
      "source": [
        "2つのy値を与えて同時にプロットすることはできるだろうか。"
      ]
    },
    {
      "cell_type": "code",
      "metadata": {
        "scrolled": true,
        "id": "JJ4UMDAcn3bs",
        "colab_type": "code",
        "colab": {}
      },
      "source": [
        "import numpy as np\n",
        "import matplotlib.pyplot as plt  #プロットライブラリの本体\n",
        "\n",
        "x = [1,2,4,8,16]\n",
        "y = [[2,1],[3,2],[5,3],[7,4],[11,5]]\n",
        "plt.plot(x,y)"
      ],
      "execution_count": 0,
      "outputs": []
    },
    {
      "cell_type": "markdown",
      "metadata": {
        "id": "V68nsqxfn3bv",
        "colab_type": "text"
      },
      "source": [
        "numpy形式のデータでも試す。"
      ]
    },
    {
      "cell_type": "code",
      "metadata": {
        "id": "NqeEScOmn3bv",
        "colab_type": "code",
        "colab": {}
      },
      "source": [
        "import numpy as np\n",
        "import matplotlib.pyplot as plt  #プロットライブラリの本体\n",
        "\n",
        "x = np.array([1,2,4,8,16])\n",
        "y = np.array([2,3,5,7,11])\n",
        "plt.plot(x,y)"
      ],
      "execution_count": 0,
      "outputs": []
    },
    {
      "cell_type": "markdown",
      "metadata": {
        "id": "_NXphBUVn3by",
        "colab_type": "text"
      },
      "source": [
        "2本同時プロットもnumpyでできるはず。"
      ]
    },
    {
      "cell_type": "code",
      "metadata": {
        "scrolled": true,
        "id": "AvVn-oRAn3bz",
        "colab_type": "code",
        "colab": {}
      },
      "source": [
        "import numpy as np\n",
        "import matplotlib.pyplot as plt  #プロットライブラリの本体\n",
        "\n",
        "x = np.array([1,2,4,8,16])\n",
        "y = np.array([[2,1],[3,2],[5,3],[7,4],[11,5]])\n",
        "plt.plot(x,y)"
      ],
      "execution_count": 0,
      "outputs": []
    },
    {
      "cell_type": "markdown",
      "metadata": {
        "id": "9l8fYAuOn3b2",
        "colab_type": "text"
      },
      "source": [
        "じゃあ、数式プロットで2本同時に線を引いてみよう。"
      ]
    },
    {
      "cell_type": "code",
      "metadata": {
        "id": "s89egbt8n3b2",
        "colab_type": "code",
        "colab": {}
      },
      "source": [
        "import numpy as np\n",
        "import matplotlib.pyplot as plt  #プロットライブラリの本体\n",
        "\n",
        "x = np.arange(-1,1,0.1)\n",
        "y1 = np.sin(x)\n",
        "y2 = np.cos(x)\n",
        "y = (y1,y2)\n",
        "plt.plot(x,y)"
      ],
      "execution_count": 0,
      "outputs": []
    },
    {
      "cell_type": "markdown",
      "metadata": {
        "id": "hj1FlsZGn3b5",
        "colab_type": "text"
      },
      "source": [
        "なになに、xとyは同じdimensionでないといけない、と言われた。確かに、xにはx[0]からx[100]あたりまでデータがあるのに対し、yにはy[0]とy[1]しかなく、その中にarrayが入っていて、xとyの見掛けのリスト(array)の大きさが違う。そこで、yは転置してみよう。"
      ]
    },
    {
      "cell_type": "code",
      "metadata": {
        "id": "pZ4UoUP9n3b5",
        "colab_type": "code",
        "colab": {}
      },
      "source": [
        "import numpy as np\n",
        "import matplotlib.pyplot as plt  #プロットライブラリの本体\n",
        "\n",
        "x = np.arange(-1,1,0.1)\n",
        "y1 = np.sin(x)\n",
        "y2 = np.cos(x)\n",
        "y = np.array((y1,y2))\n",
        "print(\"Y before transposition:\",y)\n",
        "y = np.transpose(y)\n",
        "print(x)\n",
        "print(\"Y after transposition:\",y)\n",
        "plt.plot(x,y)"
      ],
      "execution_count": 0,
      "outputs": []
    },
    {
      "cell_type": "markdown",
      "metadata": {
        "id": "AXFwdOqsn3b8",
        "colab_type": "text"
      },
      "source": [
        "x,y座標の羅列をファイルから読みこんで、そのまま線でプロットする。"
      ]
    },
    {
      "cell_type": "code",
      "metadata": {
        "id": "1AUWhs_sn3b8",
        "colab_type": "code",
        "colab": {}
      },
      "source": [
        "! wget https://github.com/vitroid/PythonTutorials/blob/master/2%20Advanced/data6.txt?raw=true -O data6.txt\n",
        "\n",
        "import random\n",
        "import numpy as np\n",
        "import matplotlib.pyplot as plt  #プロットライブラリの本体\n",
        "\n",
        "#data6.txtは4カラムのデータ。第1カラムが時刻。\n",
        "file = open(\"data6.txt\")\n",
        "x = []\n",
        "y1 = []\n",
        "y2 = []\n",
        "y3 = []\n",
        "\n",
        "for line in file:\n",
        "    cols = line.split()\n",
        "    if len(cols) > 3:\n",
        "        x.append(float(cols[0]))\n",
        "        y1.append(float(cols[1]))\n",
        "        y2.append(float(cols[2]))\n",
        "        y3.append(float(cols[3]))\n",
        "    \n",
        "#matplotlibはnumpyのarrayでなくてもプロットできる。\n",
        "#x = np.array(x)\n",
        "#y = np.array(y)\n",
        "\n",
        "plt.plot(x,y1)\n",
        "plt.plot(x,y2)\n",
        "plt.plot(x,y3)"
      ],
      "execution_count": 0,
      "outputs": []
    },
    {
      "cell_type": "markdown",
      "metadata": {
        "id": "vPfoFtIun3b_",
        "colab_type": "text"
      },
      "source": [
        "plotを何度も呼びだせば、同じグラフにどんどん重ねてくれるようだ。\n",
        "\n",
        "showをはさむと、別のパネルに表示される。(たぶん)"
      ]
    },
    {
      "cell_type": "code",
      "metadata": {
        "id": "ujGTfcM7n3b_",
        "colab_type": "code",
        "colab": {}
      },
      "source": [
        "import random\n",
        "import numpy as np\n",
        "import matplotlib.pyplot as plt  #プロットライブラリの本体\n",
        "\n",
        "#data6.txtは4カラムのデータ。第1カラムが時刻。\n",
        "file = open(\"data6.txt\")\n",
        "x = []\n",
        "y1 = []\n",
        "y2 = []\n",
        "y3 = []\n",
        "\n",
        "for line in file:\n",
        "    cols = line.split()\n",
        "    if len(cols) > 3:\n",
        "        x.append(float(cols[0]))\n",
        "        y1.append(float(cols[1]))\n",
        "        y2.append(float(cols[2]))\n",
        "        y3.append(float(cols[3]))\n",
        "    \n",
        "#matplotlibはnumpyのarrayでなくてもプロットできる。\n",
        "#x = np.array(x)\n",
        "#y = np.array(y)\n",
        "\n",
        "plt.plot(x,y1)\n",
        "plt.plot(x,y2)\n",
        "plt.show()\n",
        "plt.plot(x,y3)"
      ],
      "execution_count": 0,
      "outputs": []
    },
    {
      "cell_type": "markdown",
      "metadata": {
        "id": "u9K1_Tx7n3cB",
        "colab_type": "text"
      },
      "source": [
        "第3カラムを誤差とみなして、エラーバー付きでプロットしてみる。"
      ]
    },
    {
      "cell_type": "code",
      "metadata": {
        "id": "N6QaWr9On3cC",
        "colab_type": "code",
        "colab": {}
      },
      "source": [
        "import random\n",
        "import numpy as np\n",
        "import matplotlib.pyplot as plt  #プロットライブラリの本体\n",
        "\n",
        "#data6.txtは4カラムのデータ。第1カラムが時刻。\n",
        "file = open(\"data6.txt\")\n",
        "x = []\n",
        "y1 = []\n",
        "y2 = []\n",
        "y3 = []\n",
        "\n",
        "for line in file:\n",
        "    cols = line.split()\n",
        "    if len(cols) > 3:\n",
        "        x.append(float(cols[0]))\n",
        "        y1.append(float(cols[1]))\n",
        "        y2.append(float(cols[2]))\n",
        "        y3.append(float(cols[3]))\n",
        "    \n",
        "#matplotlibはnumpyのarrayでなくてもプロットできる。\n",
        "#x = np.array(x)\n",
        "#y = np.array(y)\n",
        "\n",
        "plt.errorbar(x,y1,yerr=y2)"
      ],
      "execution_count": 0,
      "outputs": []
    },
    {
      "cell_type": "markdown",
      "metadata": {
        "id": "PD76TVVyn3cE",
        "colab_type": "text"
      },
      "source": [
        "MatPlotLibでは、異なるタイプのプロットをする場合には、それぞれ異なる関数を呼ぶらしい。(関数名に一貫した命名規則がないのが、matplotlibの使いにくいところです。全く覚えられないので、常にマニュアルを見ながら使うことになります。)\n",
        "\n",
        "点でプロットする場合には、plot関数の3番目の引数で指定する。(http://matplotlib.org/examples/lines_bars_and_markers/marker_reference.html)\n",
        "\n",
        "線のスタイルを変更するオプションもいろいろある。(http://matplotlib.org/examples/lines_bars_and_markers/line_styles_reference.html)"
      ]
    },
    {
      "cell_type": "code",
      "metadata": {
        "id": "3kBF8-e3n3cE",
        "colab_type": "code",
        "colab": {}
      },
      "source": [
        "import random\n",
        "import numpy as np\n",
        "import matplotlib.pyplot as plt  #プロットライブラリの本体\n",
        "\n",
        "#data6.txtは4カラムのデータ。第1カラムが時刻。\n",
        "file = open(\"data6.txt\")\n",
        "x = []\n",
        "y1 = []\n",
        "y2 = []\n",
        "y3 = []\n",
        "\n",
        "for line in file:\n",
        "    cols = line.split()\n",
        "    if len(cols) > 3:\n",
        "        x.append(float(cols[0]))\n",
        "        y1.append(float(cols[1]))\n",
        "        y2.append(float(cols[2]))\n",
        "        y3.append(float(cols[3]))\n",
        "\n",
        "#matplotlibはnumpyのarrayでなくてもプロットできるが、arrayのほうが便利\n",
        "x = np.array(x)\n",
        "y1 = np.array(y1)\n",
        "y2 = np.array(y2)\n",
        "y3 = np.array(y3)\n",
        "\n",
        "\n",
        "plt.plot(x,y1,\".\")\n",
        "plt.plot(x,y2+y3,linewidth=3)\n"
      ],
      "execution_count": 0,
      "outputs": []
    },
    {
      "cell_type": "markdown",
      "metadata": {
        "id": "fIS7Hbxmn3cG",
        "colab_type": "text"
      },
      "source": [
        "せっかく画面にきれいに描けても、論文に載せられないとありがたくない。PDFでの出力を試す。(http://matplotlib.org/api/backend_pdf_api.html)"
      ]
    },
    {
      "cell_type": "code",
      "metadata": {
        "id": "GXPw3ICqn3cH",
        "colab_type": "code",
        "colab": {}
      },
      "source": [
        "import random\n",
        "import numpy as np\n",
        "import matplotlib.pyplot as plt  #プロットライブラリの本体\n",
        "from matplotlib.backends.backend_pdf import PdfPages  #PDF出力\n",
        "\n",
        "#data6.txtは4カラムのデータ。第1カラムが時刻。\n",
        "file = open(\"data6.txt\")\n",
        "x = []\n",
        "y1 = []\n",
        "y2 = []\n",
        "y3 = []\n",
        "\n",
        "for line in file:\n",
        "    cols = line.split()\n",
        "    if len(cols) > 3:\n",
        "        x.append(float(cols[0]))\n",
        "        y1.append(float(cols[1]))\n",
        "        y2.append(float(cols[2]))\n",
        "        y3.append(float(cols[3]))\n",
        "\n",
        "#matplotlibはnumpyのarrayでなくてもプロットできるが、arrayのほうが便利\n",
        "x = np.array(x)\n",
        "y1 = np.array(y1)\n",
        "y2 = np.array(y2)\n",
        "y3 = np.array(y3)\n",
        "\n",
        "\n",
        "plt.plot(x,y1,\".\")\n",
        "plt.plot(x,y2+y3,linewidth=3)\n",
        "#フォントを指定し、labelを付ける。\n",
        "plt.rc('font', family='serif')\n",
        "plt.title(\"Title here\", color=\"red\")\n",
        "plt.xlabel('Time / sec', fontsize = 18)\n",
        "plt.ylabel('Values',     fontsize = 18)\n",
        "\n",
        "#PDF化のために追加\n",
        "pp = PdfPages('test.pdf')   #colabのディスクスペースに書きこまれます。\n",
        "pp.savefig()\n",
        "pp.close()\n"
      ],
      "execution_count": 0,
      "outputs": []
    },
    {
      "cell_type": "markdown",
      "metadata": {
        "id": "C7KpcHNXn3cJ",
        "colab_type": "text"
      },
      "source": [
        "MatPlotLibのサンプルページ(http://matplotlib.org/gallery.html )を見ると、ほかにも相当いろんな表現ができるようだ。全部網羅していては時間が足りないので、必要があればその都度紹介することにする。"
      ]
    },
    {
      "cell_type": "markdown",
      "metadata": {
        "collapsed": true,
        "id": "cqZy7hLOn3cK",
        "colab_type": "text"
      },
      "source": [
        "## 3次元データ\n",
        "3次元の場合、関数をプロットするにも一苦労する。必要が生じるまで、あまり深入りしないことにしよう。\n",
        "\n",
        "インタラクティブなグラフを表示するために、%matplotlib notebookを指定する。"
      ]
    },
    {
      "cell_type": "code",
      "metadata": {
        "id": "E-GXOlNNn3cK",
        "colab_type": "code",
        "colab": {}
      },
      "source": [
        "from mpl_toolkits.mplot3d import Axes3D   #'3d' projectionに必要。\n",
        "import matplotlib.pyplot as plt\n",
        "import numpy as np\n",
        "\n",
        "fig = plt.figure()\n",
        "ax = fig.gca(projection='3d')\n",
        "X, Y = np.mgrid[0:6*np.pi:0.25, 0:4*np.pi:0.25]\n",
        "Z = np.abs(np.cos(X) + np.cos(Y))\n",
        "\n",
        "surf = ax.plot_surface(X + 1e5, Y + 1e5, Z, cmap='autumn', cstride=2, rstride=2)\n",
        "ax.set_xlabel(\"X-Label\")\n",
        "ax.set_ylabel(\"Y-Label\")\n",
        "ax.set_zlabel(\"Z-Label\")\n",
        "ax.set_zlim(0, 2)\n",
        "\n",
        "plt.show()"
      ],
      "execution_count": 0,
      "outputs": []
    },
    {
      "cell_type": "markdown",
      "metadata": {
        "id": "o1XqGJYKn3cO",
        "colab_type": "text"
      },
      "source": [
        "## アニメーション\n",
        "MatPlotLibはアニメーションもできると謳っているが、正直言って、gnuplotやMatPlotLibのようなプロッティングプログラムで、アニメーションを無理矢理描くことはあまり良い考えとは思えない。"
      ]
    },
    {
      "cell_type": "markdown",
      "metadata": {
        "collapsed": true,
        "id": "MA1hcoaln3cP",
        "colab_type": "text"
      },
      "source": [
        "## フォント\n",
        "フォントが気にいらない人(私)は、[ここ](http://nucl.hatenablog.com/entry/2016/05/16/165345)にフォントの差し替え方が説明されている。ちょっとややこしいのでおすすめしない。"
      ]
    },
    {
      "cell_type": "markdown",
      "metadata": {
        "collapsed": true,
        "id": "-ekbXGdGn3cP",
        "colab_type": "text"
      },
      "source": [
        "# 使用例\n",
        "\n",
        "ミク関数を作ってみよう。ミク関数とは、グラフにプロットすると初音ミクの姿になるような関数である。→ https://nlab.itmedia.co.jp/nl/articles/1305/02/news063.html\n",
        "\n",
        "平面上の任意の曲線は、あたりまえだがペンを動かせば描くことができる。ペンを下ろした時刻を0とし、その後の時刻$t$でのペンの位置(座標)$(x,y)$を、時刻$t$の関数と考える。線がとぎれると面倒なので、ペンは最後まで上げないことにしよう(一筆書)。\n",
        "\n",
        "すると、どんな風にペンを動かすかはともかく、ペンの動きを時間の関数としてプロットできるはずだ。\n",
        "\n",
        "例えば、時刻0に原点を出発し、時刻1に座標(10,0)、時刻2に座標(10,20)、時刻3に座標(0,20)、そして時刻4で(0,0)に戻ってくれば、10x20の長方形を描ける。この時のペンのx座標とy座標の関数は次のように描ける。"
      ]
    },
    {
      "cell_type": "code",
      "metadata": {
        "scrolled": true,
        "id": "STbeL6nfn3cP",
        "colab_type": "code",
        "colab": {}
      },
      "source": [
        "%matplotlib inline\n",
        "\n",
        "import numpy as np\n",
        "from matplotlib import pyplot as plt\n",
        "\n",
        "points=np.array([[0,0,0],[1,10,0],[2,10,20],[3,0,20],[4,0,0]])\n",
        "\n",
        "plt.plot(points[:,0],points[:,1], \"-o\", label=\"x\")\n",
        "plt.plot(points[:,0],points[:,2], \"-o\", label=\"y\")\n",
        "plt.legend()"
      ],
      "execution_count": 0,
      "outputs": []
    },
    {
      "cell_type": "markdown",
      "metadata": {
        "id": "a7s7BJzin3cS",
        "colab_type": "text"
      },
      "source": [
        "x座標とy座標を対応させてプロットするとたしかに長方形になる。"
      ]
    },
    {
      "cell_type": "code",
      "metadata": {
        "id": "-Ic3xaign3cS",
        "colab_type": "code",
        "colab": {}
      },
      "source": [
        "plt.plot(points[:,1], points[:,2])"
      ],
      "execution_count": 0,
      "outputs": []
    },
    {
      "cell_type": "markdown",
      "metadata": {
        "id": "xxdgfzs2n3cU",
        "colab_type": "text"
      },
      "source": [
        "これを、いかにも関数っぽく見せるために、わざとこの折れ線を何らかのスムーズな関数で近似して、時間の連続関数として表すのである。例えば3次多項式で近似してみることにする。\n",
        "\n",
        "numpyのpolyfitを使う。まずはx座標。"
      ]
    },
    {
      "cell_type": "code",
      "metadata": {
        "id": "JzwjzVAyn3cV",
        "colab_type": "code",
        "colab": {}
      },
      "source": [
        "coeffx3 = np.polyfit(points[:,0], points[:,1], 3)\n",
        "coeffx3"
      ],
      "execution_count": 0,
      "outputs": []
    },
    {
      "cell_type": "markdown",
      "metadata": {
        "id": "-trhTYQPn3cX",
        "colab_type": "text"
      },
      "source": [
        "結果は3次多項式の係数のようだ。これらを係数にもつ3次関数の値はpoly1d関数で生成できる。"
      ]
    },
    {
      "cell_type": "code",
      "metadata": {
        "id": "XMnhS3F1n3cX",
        "colab_type": "code",
        "colab": {}
      },
      "source": [
        "# tは0〜4を21に細分した点\n",
        "t = np.linspace(0,4,21)\n",
        "\n",
        "# poly1dはtそれぞれでの3次関数の値を計算する\n",
        "xx = np.poly1d(coeffx3)(t)\n",
        "print(t)\n",
        "print(xx)"
      ],
      "execution_count": 0,
      "outputs": []
    },
    {
      "cell_type": "code",
      "metadata": {
        "id": "5jKOZyjen3ca",
        "colab_type": "code",
        "colab": {}
      },
      "source": [
        "plt.plot(points[:,0],points[:,1], label=\"raw x\")\n",
        "plt.plot(t, xx, label=\"fit x (3)\")"
      ],
      "execution_count": 0,
      "outputs": []
    },
    {
      "cell_type": "markdown",
      "metadata": {
        "id": "UGJ1JeZqn3cc",
        "colab_type": "text"
      },
      "source": [
        "同じように、yもフィットする。"
      ]
    },
    {
      "cell_type": "code",
      "metadata": {
        "id": "yZDe7qV8n3cc",
        "colab_type": "code",
        "colab": {}
      },
      "source": [
        "coeffy3 = np.polyfit(points[:,0], points[:,2], 3)\n",
        "# poly1dはtそれぞれでの3次関数の値を計算する\n",
        "yy = np.poly1d(coeffy3)(t)\n",
        "print(t)\n",
        "print(yy)\n",
        "plt.plot(points[:,0],points[:,2], label=\"raw y\")\n",
        "plt.plot(t, yy, label=\"fit y (3)\")"
      ],
      "execution_count": 0,
      "outputs": []
    },
    {
      "cell_type": "markdown",
      "metadata": {
        "id": "FH3QYBApn3ce",
        "colab_type": "text"
      },
      "source": [
        "フィットした曲線でプロットすると?"
      ]
    },
    {
      "cell_type": "code",
      "metadata": {
        "id": "4QHSPlxqn3cf",
        "colab_type": "code",
        "colab": {}
      },
      "source": [
        "plt.plot(xx,yy)"
      ],
      "execution_count": 0,
      "outputs": []
    },
    {
      "cell_type": "markdown",
      "metadata": {
        "id": "eeOtDmTTn3cg",
        "colab_type": "text"
      },
      "source": [
        "長方形からはだいぶ外れてしまった。でも、中間点を増やし、フィットする関数の次数を上げてやれば、もう少し長方形らしくできる、はず。"
      ]
    },
    {
      "cell_type": "code",
      "metadata": {
        "id": "AmE3LhSXn3ch",
        "colab_type": "code",
        "colab": {}
      },
      "source": [
        "points=np.array([[0,0,0],[0.5,5,0],[1,10,0],[1.5,10,10],[2,10,20],[2.5,5,20],[3,0,20],[3.5,0,10],[4,0,0]])\n",
        "\n",
        "plt.plot(points[:,0],points[:,1], \"-o\", label=\"x\")\n",
        "plt.plot(points[:,0],points[:,2], \"-o\", label=\"y\")\n",
        "plt.legend()"
      ],
      "execution_count": 0,
      "outputs": []
    },
    {
      "cell_type": "code",
      "metadata": {
        "id": "wRdT7HN9n3ci",
        "colab_type": "code",
        "colab": {}
      },
      "source": [
        "coeffx6 = np.polyfit(points[:,0], points[:,1], 6)\n",
        "# poly1dはtそれぞれでの6次関数の値を計算する\n",
        "xx = np.poly1d(coeffx6)(t)\n",
        "print(t)\n",
        "print(xx)\n",
        "plt.plot(points[:,0],points[:,1], \"-o\", label=\"raw x\")\n",
        "plt.plot(t, xx, label=\"fit x (6)\")"
      ],
      "execution_count": 0,
      "outputs": []
    },
    {
      "cell_type": "code",
      "metadata": {
        "id": "rWXeDc8Vn3ck",
        "colab_type": "code",
        "colab": {}
      },
      "source": [
        "coeffy6 = np.polyfit(points[:,0], points[:,2], 6)\n",
        "# poly1dはtそれぞれでの6次関数の値を計算する\n",
        "yy = np.poly1d(coeffy6)(t)\n",
        "print(t)\n",
        "print(yy)\n",
        "plt.plot(points[:,0],points[:,2], \"-o\", label=\"raw y\")\n",
        "plt.plot(t, yy, label=\"fit y (6)\")"
      ],
      "execution_count": 0,
      "outputs": []
    },
    {
      "cell_type": "code",
      "metadata": {
        "id": "YvwGgjjXn3cm",
        "colab_type": "code",
        "colab": {}
      },
      "source": [
        "plt.plot(xx,yy)"
      ],
      "execution_count": 0,
      "outputs": []
    },
    {
      "cell_type": "markdown",
      "metadata": {
        "id": "cVnNWxyQn3cp",
        "colab_type": "text"
      },
      "source": [
        "まだまだですね。でもこんな感じで、点の数をうんと増やしていけば、どんな複雑な曲線でも数式で表せます。多項式や三角関数でフィットする場合には、もとの図形も角がないほうがうまくフィットできます。"
      ]
    },
    {
      "cell_type": "markdown",
      "metadata": {
        "id": "K3Mo15Apn3cp",
        "colab_type": "text"
      },
      "source": [
        "# 宿題\n",
        "ひらがなの「の」のような、一筆で書ける文字を1つ選び、それを表す関数$x(t), y(t)$を作って下さい。"
      ]
    },
    {
      "cell_type": "code",
      "metadata": {
        "id": "ehg2_FDpn3cq",
        "colab_type": "code",
        "colab": {}
      },
      "source": [
        ""
      ],
      "execution_count": 0,
      "outputs": []
    }
  ]
}
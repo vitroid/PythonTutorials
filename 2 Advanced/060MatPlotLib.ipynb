{
  "cells": [
    {
      "cell_type": "markdown",
      "metadata": {
        "id": "view-in-github",
        "colab_type": "text"
      },
      "source": [
        "<a href=\"https://colab.research.google.com/github/vitroid/PythonTutorials/blob/master/2%20Advanced/060MatPlotLib.ipynb\" target=\"_parent\"><img src=\"https://colab.research.google.com/assets/colab-badge.svg\" alt=\"Open In Colab\"/></a>"
      ]
    },
    {
      "cell_type": "markdown",
      "metadata": {
        "id": "emssdsBDn3bP"
      },
      "source": [
        "## 2次元: XYプロット / 2D; XY plot\n",
        "### 数式のプロット / plot of a formula\n",
        "gnuplotでは、数式を直接指定する方法があるが、MatPlotLibは数値のプロットしかできないので、数式をプロットしたい場合は、numpyで数値化してからプロットする。整数のリストを生じるrangeを拡張した、arangeという関数がnumpyに備わっているので、これを使えば単調増加数列は簡単に作れる。また、numpyの数学関数を使うと、arrayに対して演算ができる。\n",
        "\n",
        "MatPlotLib can only plot numerical values, so if you want to plot mathematical expressions, convert them to numerical values using numpy and then plot them. The function `arange`, which is an extension of `range` that produces a list of integers, is provided in numpy, so it is easy to create a monotonically increasing number sequence. Also, using the mathematical functions in numpy, you can perform operations on arrays."
      ]
    },
    {
      "cell_type": "code",
      "execution_count": null,
      "metadata": {
        "id": "RzusUE5xn3bQ"
      },
      "outputs": [],
      "source": [
        "import numpy as np\n",
        "\n",
        "x = np.arange(-10,10,0.1)        #xは-10から+10まで0.1間隔の値のarray\n",
        "print(x)"
      ]
    },
    {
      "cell_type": "markdown",
      "metadata": {
        "id": "AVcFPniyn3bY"
      },
      "source": [
        "arrayに対して通常の演算を行うと、個々の要素に作用する。この例の場合、xのすべての要素が個別に二乗される。\n",
        "\n",
        "The operations on `numpy.array` act on individual elements. In this example, all elements of `x` are squared individually.\n",
        "\n"
      ]
    },
    {
      "cell_type": "code",
      "execution_count": null,
      "metadata": {
        "id": "aKYa4m8_n3ba"
      },
      "outputs": [],
      "source": [
        "y=x**2\n",
        "y"
      ]
    },
    {
      "cell_type": "code",
      "execution_count": null,
      "metadata": {
        "id": "mk80T0HPn3be"
      },
      "outputs": [],
      "source": [
        "import matplotlib.pyplot as plt  #プロットライブラリの本体\n",
        "\n",
        "plt.plot(x,y)"
      ]
    },
    {
      "cell_type": "code",
      "execution_count": null,
      "metadata": {
        "id": "iI2AzNBRn3bj"
      },
      "outputs": [],
      "source": [
        "import numpy as np\n",
        "import matplotlib.pyplot as plt  #プロットライブラリの本体\n",
        "\n",
        "x = np.arange(-10,10,0.1)        #xは-10から+10まで0.1間隔の値のarray\n",
        "y = np.exp(-x**2/5)              #yの値はxから算出する。\n",
        "plt.xlim(-5,5)                 #プロット範囲指定\n",
        "plt.plot(x,y)"
      ]
    },
    {
      "cell_type": "markdown",
      "metadata": {
        "id": "wgEeLgA0n3bo"
      },
      "source": [
        "### データのプロット / Plot a set of data\n",
        "\n",
        "まずは、手作りデータをプロットしてみる。\n",
        "\n",
        "Plot of hand-made data."
      ]
    },
    {
      "cell_type": "code",
      "execution_count": null,
      "metadata": {
        "id": "pJCBfhXUn3bp"
      },
      "outputs": [],
      "source": [
        "import numpy as np\n",
        "import matplotlib.pyplot as plt  #プロットライブラリの本体\n",
        "\n",
        "x = [1,2,4,8,16]\n",
        "y = [2,3,5,7,11]\n",
        "plt.plot(x,y)"
      ]
    },
    {
      "cell_type": "markdown",
      "metadata": {
        "id": "0mhPZwyWs-ZB"
      },
      "source": [
        "xとyをまとめたデータを作って、まとめてplot関数に渡すこともできる。\n",
        "\n",
        "Another way to give x and y data to plot."
      ]
    },
    {
      "cell_type": "code",
      "execution_count": null,
      "metadata": {
        "id": "KYJ8CJEUs-Ai"
      },
      "outputs": [],
      "source": [
        "import numpy as np\n",
        "import matplotlib.pyplot as plt  #プロットライブラリの本体\n",
        "\n",
        "D = dict()\n",
        "D[\"seq1\"] = [1,2,4,8,16]\n",
        "D[\"seq2\"] = [2,3,5,7,11]\n",
        "plt.plot(\"seq1\", \"seq2\", data=D)"
      ]
    },
    {
      "cell_type": "markdown",
      "metadata": {
        "id": "fPN9EZzZn3bs"
      },
      "source": [
        "2つのy値を与えて同時にプロットすることはできるだろうか。\n",
        "\n",
        "Can we give two data sequences to get two curves?"
      ]
    },
    {
      "cell_type": "code",
      "execution_count": null,
      "metadata": {
        "id": "JJ4UMDAcn3bs",
        "scrolled": true
      },
      "outputs": [],
      "source": [
        "import numpy as np\n",
        "import matplotlib.pyplot as plt  #プロットライブラリの本体\n",
        "\n",
        "x = [1,2,4,8,16]\n",
        "y = [[2,1],[3,2],[5,3],[7,4],[11,5]]\n",
        "plt.plot(x,y)"
      ]
    },
    {
      "cell_type": "markdown",
      "metadata": {
        "id": "V68nsqxfn3bv"
      },
      "source": [
        "numpy形式のデータでも試す。\n",
        "\n",
        "Numpy data are also available."
      ]
    },
    {
      "cell_type": "code",
      "execution_count": null,
      "metadata": {
        "id": "NqeEScOmn3bv"
      },
      "outputs": [],
      "source": [
        "import numpy as np\n",
        "import matplotlib.pyplot as plt  #プロットライブラリの本体\n",
        "\n",
        "x = np.array([1,2,4,8,16])\n",
        "y = np.array([2,3,5,7,11])\n",
        "plt.plot(x,y)"
      ]
    },
    {
      "cell_type": "markdown",
      "metadata": {
        "id": "_NXphBUVn3by"
      },
      "source": [
        "2本同時プロットもnumpyでできるはず。\n",
        "\n",
        "Simultaneous plot with numpy data."
      ]
    },
    {
      "cell_type": "code",
      "execution_count": null,
      "metadata": {
        "id": "AvVn-oRAn3bz",
        "scrolled": true
      },
      "outputs": [],
      "source": [
        "import numpy as np\n",
        "import matplotlib.pyplot as plt  #プロットライブラリの本体\n",
        "\n",
        "x = np.array([1,2,4,8,16])\n",
        "y = np.array([[2,1],[3,2],[5,3],[7,4],[11,5]])\n",
        "plt.plot(x,y)"
      ]
    },
    {
      "cell_type": "markdown",
      "metadata": {
        "id": "9l8fYAuOn3b2"
      },
      "source": [
        "じゃあ、数式プロットで2本同時に線を引いてみよう。\n",
        "\n",
        "\n",
        "Another setup of data.\n"
      ]
    },
    {
      "cell_type": "code",
      "execution_count": null,
      "metadata": {
        "id": "s89egbt8n3b2"
      },
      "outputs": [],
      "source": [
        "import numpy as np\n",
        "import matplotlib.pyplot as plt  #プロットライブラリの本体\n",
        "\n",
        "x = np.arange(-1,1,0.1)\n",
        "y1 = np.sin(x)\n",
        "y2 = np.cos(x)\n",
        "y = (y1,y2)\n",
        "plt.plot(x,y)"
      ]
    },
    {
      "cell_type": "markdown",
      "metadata": {
        "id": "hj1FlsZGn3b5"
      },
      "source": [
        "なになに、xとyは同じdimensionでないといけない、と言われた。確かに、xにはx[0]からx[100]あたりまでデータがあるのに対し、yにはy[0]とy[1]しかなく、その中にarrayが入っていて、xとyの見掛けのリスト(array)の大きさが違う。そこで、yは転置してみよう。\n",
        "\n",
        "The error says that the dimensions of x and y are different. Then let us transpose the array."
      ]
    },
    {
      "cell_type": "code",
      "execution_count": null,
      "metadata": {
        "id": "pZ4UoUP9n3b5"
      },
      "outputs": [],
      "source": [
        "import numpy as np\n",
        "import matplotlib.pyplot as plt  #プロットライブラリの本体\n",
        "\n",
        "x = np.arange(-1,1,0.1)\n",
        "y1 = np.sin(x)\n",
        "y2 = np.cos(x)\n",
        "y = np.array((y1,y2))\n",
        "print(\"Y before transposition:\",y)\n",
        "y = y.T\n",
        "print(x)\n",
        "print(\"Y after transposition:\",y)\n",
        "plt.plot(x,y)"
      ]
    },
    {
      "cell_type": "markdown",
      "metadata": {
        "id": "AXFwdOqsn3b8"
      },
      "source": [
        "x,y座標の羅列をファイルから読みこんで、そのまま線でプロットする。\n",
        "\n",
        "Plot data in a file."
      ]
    },
    {
      "cell_type": "code",
      "source": [
        "! wget https://github.com/vitroid/PythonTutorials/blob/master/2%20Advanced/data6.txt?raw=true -O data6.txt\n",
        "! head data6.txt\n"
      ],
      "metadata": {
        "id": "zogjZ-_iQx5w"
      },
      "execution_count": null,
      "outputs": []
    },
    {
      "cell_type": "code",
      "execution_count": null,
      "metadata": {
        "id": "1AUWhs_sn3b8"
      },
      "outputs": [],
      "source": [
        "import random\n",
        "import numpy as np\n",
        "import matplotlib.pyplot as plt  #プロットライブラリの本体\n",
        "\n",
        "#data6.txtは4カラムのデータ。第1カラムが時刻。\n",
        "file = open(\"data6.txt\")\n",
        "x = []\n",
        "y1 = []\n",
        "y2 = []\n",
        "y3 = []\n",
        "\n",
        "for line in file:\n",
        "    cols = line.split()\n",
        "    if len(cols) > 3:\n",
        "        x.append(float(cols[0]))\n",
        "        y1.append(float(cols[1]))\n",
        "        y2.append(float(cols[2]))\n",
        "        y3.append(float(cols[3]))\n",
        "    \n",
        "#matplotlibはnumpyのarrayでなくてもプロットできる。\n",
        "#x = np.array(x)\n",
        "#y = np.array(y)\n",
        "\n",
        "plt.plot(x,y1)\n",
        "plt.plot(x,y2)\n",
        "plt.plot(x,y3)"
      ]
    },
    {
      "cell_type": "markdown",
      "source": [
        "上に示したコードの大部分はデータを読みこんでいるだけで、無駄に長い。そこで、numpyの関数でさっと読みこむ。\n",
        "\n",
        "Most of the code shown above is just reading data, which is needlessly long. So, we quickly read the data with numpy functions.\n"
      ],
      "metadata": {
        "id": "EYN0l-5oQaDN"
      }
    },
    {
      "cell_type": "code",
      "source": [
        "import random\n",
        "import numpy as np\n",
        "import matplotlib.pyplot as plt  #プロットライブラリの本体\n",
        "\n",
        "data = np.fromfile(\"data6.txt\", sep=\" \")\n",
        "data"
      ],
      "metadata": {
        "id": "4ughqCV1Q1o0"
      },
      "execution_count": null,
      "outputs": []
    },
    {
      "cell_type": "markdown",
      "source": [
        "`np.fromtext`は1次元データを作ってしまうので、これを4カラムの二次元データに変換する。\n",
        "\n",
        "Since `np.fromtext` creates one-dimensional data, we convert it to two-dimensional data with four columns."
      ],
      "metadata": {
        "id": "WfP4unQ9RkZ-"
      }
    },
    {
      "cell_type": "code",
      "source": [
        "data = data.reshape(-1, 4)\n",
        "data.shape"
      ],
      "metadata": {
        "id": "PprJr77fR3DJ"
      },
      "execution_count": null,
      "outputs": []
    },
    {
      "cell_type": "code",
      "source": [
        "plt.plot(data[:,0], data[:, 1:])"
      ],
      "metadata": {
        "id": "4gb9AmSBSGfN"
      },
      "execution_count": null,
      "outputs": []
    },
    {
      "cell_type": "markdown",
      "metadata": {
        "id": "vPfoFtIun3b_"
      },
      "source": [
        "もし別個のパネルに表示したいなら、あいだに`show()`を挟む。\n",
        "\n",
        "If you want to display it on a separate panel, put `show()` in between.\n",
        "\n"
      ]
    },
    {
      "cell_type": "code",
      "execution_count": null,
      "metadata": {
        "id": "ujGTfcM7n3b_"
      },
      "outputs": [],
      "source": [
        "plt.plot(data[:,0], data[:, [1,2]]) # fancy index\n",
        "plt.show()\n",
        "plt.plot(data[:,0], data[:, [3]])\n"
      ]
    },
    {
      "cell_type": "markdown",
      "metadata": {
        "id": "u9K1_Tx7n3cB"
      },
      "source": [
        "第3カラムを誤差とみなして、エラーバー付きでプロットしてみる。\n",
        "\n",
        "\n",
        "Consider the third column as an error and plot it with error bars.\n"
      ]
    },
    {
      "cell_type": "code",
      "execution_count": null,
      "metadata": {
        "id": "N6QaWr9On3cC"
      },
      "outputs": [],
      "source": [
        "plt.errorbar(data[:,0],data[:,1],yerr=np.abs(data[:,2]))"
      ]
    },
    {
      "cell_type": "markdown",
      "metadata": {
        "id": "PD76TVVyn3cE"
      },
      "source": [
        "MatPlotLibでは、異なるタイプのプロットをする場合には、それぞれ異なる関数を呼ぶらしい。(関数名に一貫した命名規則がないのが、matplotlibの使いにくいところです。全く覚えられないので、常にマニュアルを見ながら使うことになります。)\n",
        "\n",
        "It seems that MatPlotLib calls different functions for different types of plots. (The lack of a consistent naming convention for function names makes matplotlib so difficult to use. I can't remember them at all, so I have to constantly look at the manual to use them.)\n",
        "\n",
        "The third parameter of the plot function specifies the line styles.\n",
        "\n",
        "点でプロットする場合には、plot関数の3番目の引数で指定する。(http://matplotlib.org/examples/lines_bars_and_markers/marker_reference.html)\n",
        "\n",
        "線のスタイルを変更するオプションもいろいろある。(http://matplotlib.org/examples/lines_bars_and_markers/line_styles_reference.html)"
      ]
    },
    {
      "cell_type": "code",
      "execution_count": null,
      "metadata": {
        "id": "3kBF8-e3n3cE"
      },
      "outputs": [],
      "source": [
        "plt.plot(data[:,0],data[:,1],\".\")\n",
        "plt.plot(data[:,0], data[:,2]+data[:,3], linewidth=3)\n"
      ]
    },
    {
      "cell_type": "markdown",
      "metadata": {
        "id": "fIS7Hbxmn3cG"
      },
      "source": [
        "せっかく画面にきれいに描けても、論文に載せられないとありがたくない。PDFでの出力を試す。(http://matplotlib.org/api/backend_pdf_api.html)\n",
        "\n",
        "`figsave()` function  allows us to save the plot in a file."
      ]
    },
    {
      "cell_type": "code",
      "execution_count": null,
      "metadata": {
        "id": "GXPw3ICqn3cH"
      },
      "outputs": [],
      "source": [
        "# added for file output\n",
        "fig = plt.figure()\n",
        "\n",
        "plt.plot(data[:,0],data[:,1],\".\")\n",
        "plt.plot(data[:,0], data[:,2]+data[:,3], linewidth=3)\n",
        "#フォントを指定し、labelを付ける。\n",
        "plt.rc('font', family='serif')\n",
        "plt.title(\"Title here\", color=\"red\")\n",
        "plt.xlabel('Time / sec', fontsize = 18)\n",
        "plt.ylabel('Values',     fontsize = 18)\n",
        "\n",
        "fig.savefig(\"test.pdf\")\n",
        "fig.savefig(\"test.jpg\")\n",
        "fig.savefig(\"test.png\")"
      ]
    },
    {
      "cell_type": "markdown",
      "metadata": {
        "id": "C7KpcHNXn3cJ"
      },
      "source": [
        "MatPlotLibのサンプルページ(http://matplotlib.org/gallery.html )を見ると、ほかにも相当いろんな表現ができるようだ。全部網羅していては時間が足りないので、必要があればその都度紹介することにする。\n",
        "\n",
        "We do not have enough time to review all functions of MatPlotLib. If necessary, we will introduce them on a case-by-case basis."
      ]
    },
    {
      "cell_type": "markdown",
      "metadata": {
        "collapsed": true,
        "id": "cqZy7hLOn3cK"
      },
      "source": [
        "## 3次元データ / 3-dimensional data\n",
        "\n",
        "matplotlibで3次元プロットはできるのだが、その場で回転させていろんな角度から表示することができない。(正確に言えば、ローカル環境では可能だが、Colabでは使えない)また、matplotlibの三次元描画は隠面処理にかなり問題があり、完成度の高い画像を作ろうとするといろいろ苦労するので、おすすめできない。\n",
        "\n",
        "そこで、3次元プロットには別のモジュール、plotlyを採用してみる。さいわい、plotlyはcolabに標準でインストールされているようだ。\n",
        "\n",
        "While 3D plotting is possible in `matplotlib`, it is not possible to rotate the plot on the fly and view it from various angles. (More precisely, it is possible in the local environment, but not in Colab.) Also, we do not recommend using `matplotlib`'s 3D plotting, as there are considerable problems with hidden surface processing, and it is very difficult to make a satisfactory image in many ways.\n",
        "\n",
        "So, we decide to employ another module `plotly` for 3D plotting. Fortunately, `plotly` seems to be installed by default in colab."
      ]
    },
    {
      "cell_type": "code",
      "execution_count": null,
      "metadata": {
        "id": "XFbI_gjzrnf3"
      },
      "outputs": [],
      "source": [
        "import plotly.graph_objects as go\n",
        "\n",
        "# mgridはlinspaceの多次元版のようなもの。等間隔の数値が入ったarrayを自動生成する。\n",
        "X, Y = np.mgrid[0:6*np.pi:0.25, 0:4*np.pi:0.25]\n",
        "# X, Yの関数Zを計算する。\n",
        "Z = np.abs(np.cos(X) + np.cos(Y))\n",
        "\n",
        "# Ref.: https://plotly.com/python/3d-surface-plots/\n",
        "surf = go.Surface(x=X, y=Y, z=Z, contours= {\"z\": {\"show\": True}})\n",
        "fig = go.Figure(surf)\n",
        "fig.update_layout(scene={\"xaxis\": {\"title\": \"X-label\"},\n",
        "                         \"yaxis\": {\"title\": \"Y-label\"},\n",
        "                         \"zaxis\": {\"title\": \"Z-label\"}})\n",
        "fig.show()"
      ]
    },
    {
      "cell_type": "markdown",
      "metadata": {
        "id": "l4ccvlt0xpuk"
      },
      "source": [
        "画像データは、x,y座標に対して明るさという情報が載っているので、3次元データとみなせる。\n",
        "\n",
        "\n",
        "Image data is also 3D data because it is a collection of light intensities as a function of XY coordinates.\n"
      ]
    },
    {
      "cell_type": "code",
      "execution_count": null,
      "metadata": {
        "id": "Ziirg8vLxqod"
      },
      "outputs": [],
      "source": [
        "from skimage import io\n",
        "# Read an image directly from an URL\n",
        "G = io.imread(\"https://images.idgesg.net/images/article/2018/08/google_logo_black-100769125-large.jpg\")\n",
        "print(G.shape)"
      ]
    },
    {
      "cell_type": "markdown",
      "source": [
        "こういうデータをheight mapとも呼ぶ。\n",
        "\n",
        "This kind of data is also called \"height map\"."
      ],
      "metadata": {
        "id": "qlkYxs4WVvFb"
      }
    },
    {
      "cell_type": "code",
      "execution_count": null,
      "metadata": {
        "id": "bBt06lIfxxd-"
      },
      "outputs": [],
      "source": [
        "# plotly height mapで検索\n",
        "# https://plotly.com/python/3d-surface-plots/\n",
        "import plotly.graph_objects as go\n",
        "fig = go.Figure(data=[go.Surface(z=G[:,:,0])]) # first channel == Red?\n",
        "fig.show()"
      ]
    },
    {
      "cell_type": "code",
      "execution_count": null,
      "metadata": {
        "id": "4go7hi9gyQ62"
      },
      "outputs": [],
      "source": [
        "fig = go.Figure(data=[go.Surface(z=G[:,:,1])]) # second channel == Green?\n",
        "fig.show()"
      ]
    },
    {
      "cell_type": "code",
      "execution_count": null,
      "metadata": {
        "id": "J4O_CT5x0CCn"
      },
      "outputs": [],
      "source": [
        "# \"heightmap moon\"で検索\n",
        "from skimage import io\n",
        "import plotly.graph_objects as go\n",
        "moon = io.imread(\"https://jaanga.github.io/moon/heightmaps/WAC_GLD100_E000N1800_004P-1024x512.png\")\n",
        "fig = go.Figure(data=[go.Surface(z=moon)])\n",
        "fig.update_layout(\n",
        "        scene = {\n",
        "            \"aspectratio\": {\"x\": 1, \"y\": 0.5, \"z\": 0.02}\n",
        "        })\n",
        "fig.show()"
      ]
    },
    {
      "cell_type": "code",
      "execution_count": null,
      "metadata": {
        "id": "3moUm55p2cLU"
      },
      "outputs": [],
      "source": [
        "\n",
        "# \"bump map mars\"で検索\n",
        "from skimage import io\n",
        "import plotly.graph_objects as go\n",
        "mars = io.imread(\"http://planetpixelemporium.com/download/download.php?marsbump1k.jpg\")\n",
        "fig = go.Figure(data=[go.Surface(z=mars)])\n",
        "fig.update_layout(\n",
        "        scene = {\n",
        "            \"aspectratio\": {\"x\": 1, \"y\": 0.5, \"z\": 0.02}\n",
        "        })\n",
        "fig.show()"
      ]
    },
    {
      "cell_type": "markdown",
      "metadata": {
        "id": "WSWttfcL1awU"
      },
      "source": [
        "## 4次元データ / 4-D data\n",
        "\n",
        "電子軌道の空間分布のような、三次元空間内の濃度を表現することは、4次元データプロットと言えます。(x,yに対してzの値をプロットするのが3次元プロットなら、x,y,zに対して濃度を表現することは4次元)\n",
        "\n",
        "ひとつの方法は、三次元の散布図として描くことです。\n",
        "\n",
        "Representing a concentration in three-dimensional space, such as the spatial distribution of electron orbitals, is a four-dimensional data plot. (If plotting z values against x,y is a three-dimensional plot, expressing concentration against x,y,z is four-dimensional.)\n",
        "\n",
        "One way is to draw it as a three-dimensional scatter plot.\n",
        "\n"
      ]
    },
    {
      "cell_type": "code",
      "execution_count": null,
      "metadata": {
        "id": "GlWWdkU_2RqB"
      },
      "outputs": [],
      "source": [
        "import numpy as np\n",
        "\n",
        "X, Y, Z = np.mgrid[-5:5:0.2, -5:5:0.2, -5:5:0.2]\n",
        "# D is a gaussian of X, Y, Z\n",
        "D = np.exp(-(X**2+Y**2+Z**2)/3)\n",
        "\n",
        "# 0-1 random numbers of the same size with D\n",
        "r = np.random.rand(*X.shape)\n",
        "\n",
        "# Pick up the data points whose value is greater than the random number (fancy index)\n",
        "Xp = X[D>r]\n",
        "Yp = Y[D>r]\n",
        "Zp = Z[D>r]\n",
        "\n",
        "\n",
        "import plotly.graph_objects as go\n",
        "\n",
        "dataframe = np.array([Xp, Yp, Zp]).T\n",
        "fig = go.Figure(data=[go.Scatter3d(x=Xp,\n",
        "                                   y=Yp,\n",
        "                                   z=Zp,\n",
        "                                   mode=\"markers\",\n",
        "                                   marker=dict(size=1))])\n",
        "fig.show()\n"
      ]
    },
    {
      "cell_type": "markdown",
      "metadata": {
        "id": "8HxxGS6c7AnY"
      },
      "source": [
        "点の数が十分多ければ、これでも形を把握できるかもしれませんが、誤解を生みそうなので、もっと良い方法として、三次元の等高面を描きます。 https://plotly.com/python/3d-isosurface-plots/\n",
        "\n",
        "\n",
        "Expression of random point cloud may cause a misunderstanding. Instead, let us show the 3D contour of the function."
      ]
    },
    {
      "cell_type": "code",
      "execution_count": null,
      "metadata": {
        "id": "Jftm2VIki6a3"
      },
      "outputs": [],
      "source": [
        "import numpy as np\n",
        "\n",
        "# meshgrid関数で、3次元の格子点の座標の表を一気に作成する。\n",
        "X = np.linspace(0, 2, 20)  # 0〜2を20等分\n",
        "Y = np.linspace(0, 2, 20)\n",
        "Z = np.linspace(0, 2, 20)\n",
        "X, Y, Z = np.meshgrid(X, Y, Z)\n",
        "# # X, Y, Zに対するガウス関数Dを計算する。\n",
        "D = np.exp(-(X**2+Y**2+Z**2)/3)\n",
        "\n",
        "import plotly.graph_objects as go\n",
        "\n",
        "# 3D contour, a.k.a. isosurface\n",
        "fig = go.Figure(data=go.Isosurface(\n",
        "    x=X.flatten(),\n",
        "    y=Y.flatten(),\n",
        "    z=Z.flatten(),\n",
        "    value=D.flatten(),\n",
        "    opacity=0.6,\n",
        "    surface_count=10,\n",
        "    caps=dict(x_show=False, y_show=False, z_show=False)\n",
        "    ))\n",
        "fig.show()\n"
      ]
    },
    {
      "cell_type": "code",
      "execution_count": null,
      "metadata": {
        "id": "tmjaOf6QN5E9"
      },
      "outputs": [],
      "source": [
        "import numpy as np\n",
        "\n",
        "# meshgrid関数で、3次元の格子点の座標の表を一気に作成する。\n",
        "ra = [-np.pi, +np.pi]\n",
        "X = np.linspace(*ra, 40)\n",
        "Y = np.linspace(*ra, 40)\n",
        "Z = np.linspace(*ra, 40)\n",
        "X, Y, Z = np.meshgrid(X, Y, Z)\n",
        "\n",
        "# X, Y, Zに対するGyroid関数Dを計算する。\n",
        "D = np.sin(X)*np.cos(Y)+np.sin(Y)*np.cos(Z)+np.sin(Z)*np.cos(X)\n",
        "\n",
        "\n",
        "import plotly.graph_objects as go\n",
        "\n",
        "fig = go.Figure(data=go.Isosurface(\n",
        "    x=X.flatten(),\n",
        "    y=Y.flatten(),\n",
        "    z=Z.flatten(),\n",
        "    value=D.flatten(),\n",
        "    opacity=0.6,\n",
        "    surface_count=5,\n",
        "    colorscale=\"Twilight\",\n",
        "    caps=dict(x_show=False, y_show=False, z_show=False)\n",
        "    ))\n",
        "fig.show()\n"
      ]
    },
    {
      "cell_type": "markdown",
      "source": [
        "Let us render the globe using the isosurface.\n",
        "\n",
        "Conversion from the Cartesian coordinate to the polar coordinate."
      ],
      "metadata": {
        "id": "oCOZTSbBaZZ_"
      }
    },
    {
      "cell_type": "code",
      "source": [
        "import numpy as np\n",
        "\n",
        "X, Y, Z = np.mgrid[-5:5:0.15, -5:5:0.15, -5:5:0.15]\n",
        "\n",
        "# polar coordinate\n",
        "R = (X**2+Y**2+Z**2)**0.5\n",
        "lat = np.arctan2(Z, (X**2+Y**2)**0.5)\n",
        "lon = np.arctan2(Y, X)\n"
      ],
      "metadata": {
        "id": "ZCPbb0Ycag6Q"
      },
      "execution_count": null,
      "outputs": []
    },
    {
      "cell_type": "markdown",
      "source": [
        "Read the heightmap."
      ],
      "metadata": {
        "id": "BlvDBLFMkKi1"
      }
    },
    {
      "cell_type": "code",
      "source": [
        "from skimage import io\n",
        "\n",
        "earth = io.imread(\"https://i.redd.it/63c831o4ylt21.jpg\")\n",
        "earth = earth / 255\n",
        "h, w = earth.shape\n",
        "h, w\n"
      ],
      "metadata": {
        "id": "gpT5sKuQbh7J"
      },
      "execution_count": null,
      "outputs": []
    },
    {
      "cell_type": "markdown",
      "source": [
        "Mapping of the lon/lat to the pixels of the height map."
      ],
      "metadata": {
        "id": "vJqw4FffkOYk"
      }
    },
    {
      "cell_type": "code",
      "source": [
        "# latitude -> y of the map\n",
        "# longitude -> x\n",
        "mapY = -np.floor(lat/np.pi*(h-1)) + h//2 - 1\n",
        "mapX = np.floor(lon/np.pi*(w//2-1)) + w//2\n",
        "np.min(mapX), np.max(mapX), np.min(mapY), np.max(mapY)\n"
      ],
      "metadata": {
        "id": "RC43QVWtb2V1"
      },
      "execution_count": null,
      "outputs": []
    },
    {
      "cell_type": "markdown",
      "source": [
        "Polar density map whose values are proportional to the elevation of the earth surface."
      ],
      "metadata": {
        "id": "XcXLgFftkarL"
      }
    },
    {
      "cell_type": "code",
      "source": [
        "H = R - 0.3*earth[mapY.astype(int), mapX.astype(int)]"
      ],
      "metadata": {
        "id": "lM8uBa6Uc0nv"
      },
      "execution_count": null,
      "outputs": []
    },
    {
      "cell_type": "markdown",
      "source": [
        "And plot."
      ],
      "metadata": {
        "id": "BP-c1u16kvFT"
      }
    },
    {
      "cell_type": "code",
      "source": [
        "import plotly.graph_objects as go\n",
        "\n",
        "fig = go.Figure(data=go.Isosurface(\n",
        "    x=X.flatten(),\n",
        "    y=Y.flatten(),\n",
        "    z=Z.flatten(),\n",
        "    value=H.flatten(),\n",
        "    # opacity=0.6,\n",
        "    surface_count=1,\n",
        "    # colorscale=\"Twilight\",\n",
        "    caps=dict(x_show=False, y_show=False, z_show=False)\n",
        "    ))\n",
        "fig.show()\n"
      ],
      "metadata": {
        "id": "VENgRq_eeOu5"
      },
      "execution_count": null,
      "outputs": []
    },
    {
      "cell_type": "markdown",
      "metadata": {
        "collapsed": true,
        "id": "-ekbXGdGn3cP"
      },
      "source": [
        "# 使用例 / Example\n",
        "\n",
        "ミク関数を作ってみよう。ミク関数とは、グラフにプロットすると初音ミクの姿になるような関数である。→ https://nlab.itmedia.co.jp/nl/articles/1305/02/news063.html\n",
        "\n",
        "平面上の任意の曲線は、あたりまえだがペンを動かせば描くことができる。ペンを下ろした時刻を0とし、その後の時刻$t$でのペンの位置(座標)$(x,y)$を、時刻$t$の関数と考える。線がとぎれると面倒なので、ペンは最後まで上げないことにしよう(一筆書)。\n",
        "\n",
        "すると、どんな風にペンを動かすかはともかく、ペンの動きを時間の関数としてプロットできるはずだ。\n",
        "\n",
        "例えば、時刻0に原点を出発し、時刻1に座標(10,0)、時刻2に座標(10,20)、時刻3に座標(0,20)、そして時刻4で(0,0)に戻ってくれば、10x20の長方形を描ける。この時のペンのx座標とy座標の関数は次のように描ける。\n",
        "\n",
        "Let's create a universal drawing function, a.k.a. Miku function. A Miku function is a function that, when plotted on a graph, looks like Hatsune Miku. → https://nlab.itmedia.co.jp/nl/articles/1305/02/news063.html\n",
        "\n",
        "Any curve on a plane can be drawn by moving the pen, of course. Let the time when you put the pen down be 0, and consider the position (coordinates)$(x,y)$ of the pen at subsequent time $t$ as a function of time $t$. Let us assume that the pen is not raised to the end (single stroke drawing), since it would be troublesome if the line is segmented.\n",
        "\n",
        "Then, no matter how we move the pen, we should be able to plot the pen's movement as a function of time.\n",
        "\n",
        "For example, if we start from the origin at time 0, coordinate `(10,0)` at time 1, coordinate `(10,20)` at time 2, coordinate `(0,20)` at time 3, and come back to `(0,0)` at time 4, we can draw a 10x20 rectangle. The function of the x and y coordinates of the pen at this time can be drawn as follows.\n"
      ]
    },
    {
      "cell_type": "code",
      "execution_count": null,
      "metadata": {
        "id": "STbeL6nfn3cP",
        "scrolled": true
      },
      "outputs": [],
      "source": [
        "import numpy as np\n",
        "from matplotlib import pyplot as plt\n",
        "\n",
        "points=np.array([[0,0,0],[1,10,0],[2,10,20],[3,0,20],[4,0,0]])\n",
        "\n",
        "plt.plot(points[:,0],points[:,1], \"-o\", label=\"x\")\n",
        "plt.plot(points[:,0],points[:,2], \"-o\", label=\"y\")\n",
        "plt.legend()\n",
        "plt.show()"
      ]
    },
    {
      "cell_type": "markdown",
      "metadata": {
        "id": "a7s7BJzin3cS"
      },
      "source": [
        "x座標とy座標を対応させてプロットするとたしかに長方形になる。\n",
        "\n",
        "Plotting these coordinates results in a rectangle.\n"
      ]
    },
    {
      "cell_type": "code",
      "execution_count": null,
      "metadata": {
        "id": "-Ic3xaign3cS"
      },
      "outputs": [],
      "source": [
        "plt.plot(points[:,1], points[:,2])"
      ]
    },
    {
      "cell_type": "markdown",
      "metadata": {
        "id": "xxdgfzs2n3cU"
      },
      "source": [
        "これを、いかにも関数っぽく見せるために、わざとこの折れ線を何らかのスムーズな関数で近似して、時間の連続関数として表すのである。例えば3次多項式で近似してみることにする。\n",
        "\n",
        "numpyのpolyfitを使う。まずはx座標。\n",
        "\n",
        "We approximate these lines with some smooth function and represent it as a continuous function of time. For example, let us approximate it with a cubic polynomial.\n",
        "\n",
        "We will use `polyfit` in `numpy`. First, x-coordinate."
      ]
    },
    {
      "cell_type": "code",
      "execution_count": null,
      "metadata": {
        "id": "JzwjzVAyn3cV"
      },
      "outputs": [],
      "source": [
        "coeffx3 = np.polyfit(points[:,0], points[:,1], 3)\n",
        "coeffx3"
      ]
    },
    {
      "cell_type": "markdown",
      "metadata": {
        "id": "-trhTYQPn3cX"
      },
      "source": [
        "結果は3次多項式の係数のようだ。これらを係数にもつ3次関数の値はpoly1d関数で生成できる。\n",
        "\n",
        "The return values seem to be the coefficients of the polynomial. It is easy to plot the polynomical curve with `poly1d`."
      ]
    },
    {
      "cell_type": "code",
      "execution_count": null,
      "metadata": {
        "id": "XMnhS3F1n3cX"
      },
      "outputs": [],
      "source": [
        "# tは0〜4を21に細分した点\n",
        "t = np.linspace(0,4,21)\n",
        "\n",
        "# poly1dはtそれぞれでの3次関数の値を計算する\n",
        "xx = np.poly1d(coeffx3)(t)\n",
        "print(t)\n",
        "print(xx)"
      ]
    },
    {
      "cell_type": "code",
      "execution_count": null,
      "metadata": {
        "id": "5jKOZyjen3ca"
      },
      "outputs": [],
      "source": [
        "plt.plot(points[:,0],points[:,1], label=\"raw x\")\n",
        "plt.plot(t, xx, label=\"fit x (3)\")"
      ]
    },
    {
      "cell_type": "markdown",
      "metadata": {
        "id": "UGJ1JeZqn3cc"
      },
      "source": [
        "同じように、yもフィットする。\n",
        "\n",
        "Fit y in the same way."
      ]
    },
    {
      "cell_type": "code",
      "execution_count": null,
      "metadata": {
        "id": "yZDe7qV8n3cc"
      },
      "outputs": [],
      "source": [
        "coeffy3 = np.polyfit(points[:,0], points[:,2], 3)\n",
        "# poly1dはtそれぞれでの3次関数の値を計算する\n",
        "yy = np.poly1d(coeffy3)(t)\n",
        "print(t)\n",
        "print(yy)\n",
        "plt.plot(points[:,0],points[:,2], label=\"raw y\")\n",
        "plt.plot(t, yy, label=\"fit y (3)\")"
      ]
    },
    {
      "cell_type": "markdown",
      "metadata": {
        "id": "FH3QYBApn3ce"
      },
      "source": [
        "フィットした曲線でプロットすると?\n",
        "\n",
        "Then combine them to plot the curve."
      ]
    },
    {
      "cell_type": "code",
      "execution_count": null,
      "metadata": {
        "id": "4QHSPlxqn3cf"
      },
      "outputs": [],
      "source": [
        "plt.plot(xx,yy)"
      ]
    },
    {
      "cell_type": "markdown",
      "metadata": {
        "id": "eeOtDmTTn3cg"
      },
      "source": [
        "長方形からはだいぶ外れてしまった。でも、中間点を増やし、フィットする関数の次数を上げてやれば、もう少し長方形らしくできる、はず。\n",
        "\n",
        "中間点を増やすのに、numpyのinterpolate関数`interp`を使う。\n",
        "https://numpy.org/doc/stable/reference/generated/numpy.interp.html\n",
        "\n",
        "It looks quite different from the original rectangle. Let us increase the intermediate points and fit with higher polynomials.\n",
        "\n",
        "It is easy to increase the intermediate points of a given data sequence using `interp` function."
      ]
    },
    {
      "cell_type": "code",
      "execution_count": null,
      "metadata": {
        "id": "AmE3LhSXn3ch"
      },
      "outputs": [],
      "source": [
        "t = points[:,0] # 5点\n",
        "x = points[:,1]\n",
        "y = points[:,2]\n",
        "\n",
        "# もっと細かい目盛を準備する。\n",
        "tfine = np.linspace(0.0, 4.0, 100) #0〜4を100等分\n",
        "\n",
        "xfine = np.interp(tfine, t, x)\n",
        "yfine = np.interp(tfine, t, y)\n",
        "\n",
        "plt.plot(tfine, xfine, \"-o\", label=\"x\")\n",
        "plt.plot(tfine, yfine, \"-o\", label=\"y\")\n",
        "# plt.plot(points[:,0],points[:,2], \"-o\", label=\"y\")\n",
        "plt.legend()"
      ]
    },
    {
      "cell_type": "code",
      "execution_count": null,
      "metadata": {
        "id": "wRdT7HN9n3ci"
      },
      "outputs": [],
      "source": [
        "# polyfitが多項式近似して係数を返す。\n",
        "coeffx = np.polyfit(tfine, xfine, 10)\n",
        "# poly1dはtそれぞれの位置での多項式の値を計算する\n",
        "xfit = np.poly1d(coeffx)(tfine)\n",
        "\n",
        "plt.plot(tfine, xfine, \"-o\", label=\"raw x\")\n",
        "plt.plot(tfine, xfit,  label=\"fit x (10)\")"
      ]
    },
    {
      "cell_type": "code",
      "execution_count": null,
      "metadata": {
        "id": "rWXeDc8Vn3ck"
      },
      "outputs": [],
      "source": [
        "# polyfitが多項式近似して係数を返す。\n",
        "coeffy = np.polyfit(tfine, yfine, 12)\n",
        "# poly1dはtそれぞれの位置での多項式の値を計算する\n",
        "yfit = np.poly1d(coeffy)(tfine)\n",
        "\n",
        "plt.plot(tfine, yfine, \"-o\", label=\"raw y\")\n",
        "plt.plot(tfine, yfit, label=\"fit y (12)\")"
      ]
    },
    {
      "cell_type": "code",
      "execution_count": null,
      "metadata": {
        "id": "YvwGgjjXn3cm"
      },
      "outputs": [],
      "source": [
        "plt.plot(xfine,yfine)\n",
        "plt.plot(xfit, yfit)"
      ]
    },
    {
      "cell_type": "markdown",
      "metadata": {
        "id": "cVnNWxyQn3cp"
      },
      "source": [
        "まだまだですね。でもこんな感じで、点の数をうんと増やしていけば、どんな複雑な曲線でも数式で表せます。多項式や三角関数でフィットする場合には、もとの図形も角がないほうがうまくフィットできます。\n",
        "\n",
        "It is still unsatisfactory, but possibly we can fit any kind of single-stroke drawing with an arbitrary functions."
      ]
    },
    {
      "cell_type": "markdown",
      "metadata": {
        "id": "P8Txfc53Kpzv"
      },
      "source": [
        "# 課題/ Practice\n",
        "\n",
        "\n",
        "![Astroid from Wikipedia](https://upload.wikimedia.org/wikipedia/commons/thumb/0/03/Astroid.svg/240px-Astroid.svg.png)\n",
        "\n",
        "アストロイドと呼ばれる美しい曲線があります。星のような姿なのでそう呼ばれています。(私はずーーーっとアステロイドだと思っていました)\n",
        "\n",
        "関数は以下の通りです。\n",
        "\n",
        "$$x^{2\\over 3}+y^{2\\over 3}=r^{2\\over 3}$$\n",
        "第1,2象限だけなら、無理矢理このまま$y$を$x$の関数とみなしてプロットできます。負の数の2/3乗はエラーになってしまうので、絶対値にしています。\n",
        "\n",
        "Here we introduce a beautiful curve called Astroid. Its formula is simple."
      ]
    },
    {
      "cell_type": "code",
      "execution_count": null,
      "metadata": {
        "id": "L6N1SPQeKD2X"
      },
      "outputs": [],
      "source": [
        "r = 1.0\n",
        "x = np.linspace(-1.0, 1.0, 100)\n",
        "y = (r - np.abs(x)**(2/3))**(3/2)\n",
        "plt.plot(x,y)"
      ]
    },
    {
      "cell_type": "markdown",
      "metadata": {
        "id": "rhlXtgMbMFGZ"
      },
      "source": [
        "1. 4つの象限を、ひとつづきにプロットすることはできないでしょうか。(長方形を近似した時のように、パラメータ表示するとうまくいきます。[Wikipedia:Astroid](https://en.wikipedia.org/wiki/Astroid)が参考になるでしょう。)\n",
        "\n",
        "2. 3次元のアストロイド関数も想像できます。おそらくこんな感じの式で表せる曲面は、三次元アストロイドになるのではないでしょうか。\n",
        "\n",
        "   $$|x|^{2\\over 3}+|y|^{2\\over 3}+|z|^{2\\over 3}=r^{2\\over 3}$$\n",
        "   ただし、この曲面を正確にプロットするのは難しいので、上で紹介した四次元プロットの方法を用いて、左辺の$|x|^{2\\over 3}+|y|^{2\\over 3}+|z|^{2\\over 3}$の値の三次元等高面として描いてみて下さい。\n",
        "\n",
        "1. [原子軌道](https://ja.wikipedia.org/wiki/水素原子におけるシュレーディンガー方程式の解#具体的な値)を4次元プロットできないでしょうか。 \n",
        "\n",
        "\n",
        "* \n",
        "\n",
        "1. Is it possible to plot the four quadrants together? (It works well if you display the parameters as if you were approximating a rectangle. [Wikipedia:Astroid](https://en.wikipedia.org/wiki/Astroid) may help.)\n",
        "\n",
        "2. one can also imagine an astroid function in 3 dimensions. Perhaps a surface that can be represented by an expression like this would be a 3-dimensional astroid.\n",
        "\n",
        "   $$|x|^{2\\over 3}+|y|^{2\\over 3}+|z|^{2\\over 3}=r^{2\\over 3}$$\n",
        "\n",
        "   However, it is difficult to plot this surface accurately, so use the four-dimensional plotting method introduced above to draw it as a three-dimensional isosurface of the values of $|x|^{2\\over 3}+|y|^{2\\over 3}+|z|^{2\\over 3}$$ on the left side.\n",
        "\n",
        "3. can you plot atomic orbitals in 4D? "
      ]
    },
    {
      "cell_type": "code",
      "execution_count": null,
      "metadata": {
        "id": "8Qiaf7mnP8Kl"
      },
      "outputs": [],
      "source": []
    }
  ],
  "metadata": {
    "colab": {
      "name": "060MatPlotLib.ipynb",
      "provenance": [],
      "include_colab_link": true
    },
    "kernelspec": {
      "display_name": "Python 3",
      "language": "python",
      "name": "python3"
    },
    "language_info": {
      "codemirror_mode": {
        "name": "ipython",
        "version": 3
      },
      "file_extension": ".py",
      "mimetype": "text/x-python",
      "name": "python",
      "nbconvert_exporter": "python",
      "pygments_lexer": "ipython3",
      "version": "3.6.5"
    }
  },
  "nbformat": 4,
  "nbformat_minor": 0
}
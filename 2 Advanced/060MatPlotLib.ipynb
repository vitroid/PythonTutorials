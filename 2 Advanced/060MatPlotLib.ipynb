{
  "nbformat": 4,
  "nbformat_minor": 0,
  "metadata": {
    "kernelspec": {
      "display_name": "Python 3",
      "language": "python",
      "name": "python3"
    },
    "language_info": {
      "codemirror_mode": {
        "name": "ipython",
        "version": 3
      },
      "file_extension": ".py",
      "mimetype": "text/x-python",
      "name": "python",
      "nbconvert_exporter": "python",
      "pygments_lexer": "ipython3",
      "version": "3.6.5"
    },
    "colab": {
      "name": "060MatPlotLib.ipynb",
      "provenance": [],
      "toc_visible": true,
      "include_colab_link": true
    }
  },
  "cells": [
    {
      "cell_type": "markdown",
      "metadata": {
        "id": "view-in-github",
        "colab_type": "text"
      },
      "source": [
        "<a href=\"https://colab.research.google.com/github/vitroid/PythonTutorials/blob/2020m0/2%20Advanced/060MatPlotLib.ipynb\" target=\"_parent\"><img src=\"https://colab.research.google.com/assets/colab-badge.svg\" alt=\"Open In Colab\"/></a>"
      ]
    },
    {
      "cell_type": "markdown",
      "metadata": {
        "id": "emssdsBDn3bP",
        "colab_type": "text"
      },
      "source": [
        "すでに使いなれたプロッティングツール(例えばgnuplot)があるのに、おなじことをPythonでやりなおす必要は感じないと思いますが、MatPlotLibはPythonのいろんなライブラリでグラフを描くための事実上の標準になっているので、使いかたに慣れておくと、いろいろ便利なことがあります。\n",
        "\n",
        "松本も日常MatPlotLibを使っているわけではないので、練習をかねてgnuplot (http://gnuplot.sourceforge.net) でできることを、MatPlotLibでひととおり試してみます。\n",
        "\n",
        "gnuplotよりもMatPlotLibがすぐれている点は、それがプログラム言語の中に組みこまれていることです。生データをそのままプロットする場合にはgnuplotで十分ですが、様々なデータ処理を行った結果をプロットしたり、パラメータをリアルタイムで調整しながらグラフを描きなおしたい場合には、MatPlotLibのほうが便利かもしれません。\n",
        "\n",
        "## 2次元: XYプロット\n",
        "### 数式のプロット\n",
        "gnuplotでは、数式を直接指定する方法があるが、MatPlotLibは数値のプロットしかできないので、数式をプロットしたい場合は、numpyで数値化してからプロットする。整数のリストを生じるrangeを拡張した、arangeという関数がnumpyに備わっているので、これを使えば単調増加数列は簡単に作れる。また、numpyの数学関数を使うと、arrayに対して演算ができる。"
      ]
    },
    {
      "cell_type": "code",
      "metadata": {
        "id": "RzusUE5xn3bQ",
        "colab_type": "code",
        "colab": {}
      },
      "source": [
        "import numpy as np\n",
        "\n",
        "x = np.arange(-10,10,0.1)        #xは-10から+10まで0.1間隔の値のarray\n",
        "print(x)"
      ],
      "execution_count": 0,
      "outputs": []
    },
    {
      "cell_type": "markdown",
      "metadata": {
        "id": "AVcFPniyn3bY",
        "colab_type": "text"
      },
      "source": [
        "arrayに対して通常の演算を行うと、個々の要素に作用する。この例の場合、xのすべての要素が個別に二乗される。"
      ]
    },
    {
      "cell_type": "code",
      "metadata": {
        "id": "aKYa4m8_n3ba",
        "colab_type": "code",
        "colab": {}
      },
      "source": [
        "y=x**2\n",
        "y"
      ],
      "execution_count": 0,
      "outputs": []
    },
    {
      "cell_type": "code",
      "metadata": {
        "id": "mk80T0HPn3be",
        "colab_type": "code",
        "colab": {}
      },
      "source": [
        "import matplotlib.pyplot as plt  #プロットライブラリの本体\n",
        "\n",
        "plt.plot(x,y)"
      ],
      "execution_count": 0,
      "outputs": []
    },
    {
      "cell_type": "markdown",
      "metadata": {
        "id": "9xWBrwjvn3bj",
        "colab_type": "text"
      },
      "source": [
        "arrayに対して通常の演算を行うと、個々の要素に作用する。そのための数学関数がnumpyにすべて準備されている。"
      ]
    },
    {
      "cell_type": "code",
      "metadata": {
        "id": "iI2AzNBRn3bj",
        "colab_type": "code",
        "colab": {}
      },
      "source": [
        "import numpy as np\n",
        "import matplotlib.pyplot as plt  #プロットライブラリの本体\n",
        "\n",
        "x = np.arange(-10,10,0.1)        #xは-10から+10まで0.1間隔の値のarray\n",
        "y = np.exp(-x**2/5)              #yの値はxから算出する。\n",
        "plt.xlim(-5,5)                 #プロット範囲指定\n",
        "plt.plot(x,y)"
      ],
      "execution_count": 0,
      "outputs": []
    },
    {
      "cell_type": "markdown",
      "metadata": {
        "id": "wgEeLgA0n3bo",
        "colab_type": "text"
      },
      "source": [
        "### データのプロット\n",
        "まずは、手作りデータをプロットしてみる。"
      ]
    },
    {
      "cell_type": "code",
      "metadata": {
        "id": "pJCBfhXUn3bp",
        "colab_type": "code",
        "colab": {}
      },
      "source": [
        "import numpy as np\n",
        "import matplotlib.pyplot as plt  #プロットライブラリの本体\n",
        "\n",
        "x = [1,2,4,8,16]\n",
        "y = [2,3,5,7,11]\n",
        "plt.plot(x,y)"
      ],
      "execution_count": 0,
      "outputs": []
    },
    {
      "cell_type": "markdown",
      "metadata": {
        "id": "fPN9EZzZn3bs",
        "colab_type": "text"
      },
      "source": [
        "2つのy値を与えて同時にプロットすることはできるだろうか。"
      ]
    },
    {
      "cell_type": "code",
      "metadata": {
        "scrolled": true,
        "id": "JJ4UMDAcn3bs",
        "colab_type": "code",
        "colab": {}
      },
      "source": [
        "import numpy as np\n",
        "import matplotlib.pyplot as plt  #プロットライブラリの本体\n",
        "\n",
        "x = [1,2,4,8,16]\n",
        "y = [[2,1],[3,2],[5,3],[7,4],[11,5]]\n",
        "plt.plot(x,y)"
      ],
      "execution_count": 0,
      "outputs": []
    },
    {
      "cell_type": "markdown",
      "metadata": {
        "id": "V68nsqxfn3bv",
        "colab_type": "text"
      },
      "source": [
        "numpy形式のデータでも試す。"
      ]
    },
    {
      "cell_type": "code",
      "metadata": {
        "id": "NqeEScOmn3bv",
        "colab_type": "code",
        "colab": {}
      },
      "source": [
        "import numpy as np\n",
        "import matplotlib.pyplot as plt  #プロットライブラリの本体\n",
        "\n",
        "x = np.array([1,2,4,8,16])\n",
        "y = np.array([2,3,5,7,11])\n",
        "plt.plot(x,y)"
      ],
      "execution_count": 0,
      "outputs": []
    },
    {
      "cell_type": "markdown",
      "metadata": {
        "id": "_NXphBUVn3by",
        "colab_type": "text"
      },
      "source": [
        "2本同時プロットもnumpyでできるはず。"
      ]
    },
    {
      "cell_type": "code",
      "metadata": {
        "scrolled": true,
        "id": "AvVn-oRAn3bz",
        "colab_type": "code",
        "colab": {}
      },
      "source": [
        "import numpy as np\n",
        "import matplotlib.pyplot as plt  #プロットライブラリの本体\n",
        "\n",
        "x = np.array([1,2,4,8,16])\n",
        "y = np.array([[2,1],[3,2],[5,3],[7,4],[11,5]])\n",
        "plt.plot(x,y)"
      ],
      "execution_count": 0,
      "outputs": []
    },
    {
      "cell_type": "markdown",
      "metadata": {
        "id": "9l8fYAuOn3b2",
        "colab_type": "text"
      },
      "source": [
        "じゃあ、数式プロットで2本同時に線を引いてみよう。"
      ]
    },
    {
      "cell_type": "code",
      "metadata": {
        "id": "s89egbt8n3b2",
        "colab_type": "code",
        "colab": {}
      },
      "source": [
        "import numpy as np\n",
        "import matplotlib.pyplot as plt  #プロットライブラリの本体\n",
        "\n",
        "x = np.arange(-1,1,0.1)\n",
        "y1 = np.sin(x)\n",
        "y2 = np.cos(x)\n",
        "y = (y1,y2)\n",
        "plt.plot(x,y)"
      ],
      "execution_count": 0,
      "outputs": []
    },
    {
      "cell_type": "markdown",
      "metadata": {
        "id": "hj1FlsZGn3b5",
        "colab_type": "text"
      },
      "source": [
        "なになに、xとyは同じdimensionでないといけない、と言われた。確かに、xにはx[0]からx[100]あたりまでデータがあるのに対し、yにはy[0]とy[1]しかなく、その中にarrayが入っていて、xとyの見掛けのリスト(array)の大きさが違う。そこで、yは転置してみよう。"
      ]
    },
    {
      "cell_type": "code",
      "metadata": {
        "id": "pZ4UoUP9n3b5",
        "colab_type": "code",
        "colab": {}
      },
      "source": [
        "import numpy as np\n",
        "import matplotlib.pyplot as plt  #プロットライブラリの本体\n",
        "\n",
        "x = np.arange(-1,1,0.1)\n",
        "y1 = np.sin(x)\n",
        "y2 = np.cos(x)\n",
        "y = np.array((y1,y2))\n",
        "print(\"Y before transposition:\",y)\n",
        "y = np.transpose(y)\n",
        "print(x)\n",
        "print(\"Y after transposition:\",y)\n",
        "plt.plot(x,y)"
      ],
      "execution_count": 0,
      "outputs": []
    },
    {
      "cell_type": "markdown",
      "metadata": {
        "id": "AXFwdOqsn3b8",
        "colab_type": "text"
      },
      "source": [
        "x,y座標の羅列をファイルから読みこんで、そのまま線でプロットする。"
      ]
    },
    {
      "cell_type": "code",
      "metadata": {
        "id": "1AUWhs_sn3b8",
        "colab_type": "code",
        "colab": {}
      },
      "source": [
        "! wget https://github.com/vitroid/PythonTutorials/blob/master/2%20Advanced/data6.txt?raw=true -O data6.txt\n",
        "\n",
        "import random\n",
        "import numpy as np\n",
        "import matplotlib.pyplot as plt  #プロットライブラリの本体\n",
        "\n",
        "#data6.txtは4カラムのデータ。第1カラムが時刻。\n",
        "file = open(\"data6.txt\")\n",
        "x = []\n",
        "y1 = []\n",
        "y2 = []\n",
        "y3 = []\n",
        "\n",
        "for line in file:\n",
        "    cols = line.split()\n",
        "    if len(cols) > 3:\n",
        "        x.append(float(cols[0]))\n",
        "        y1.append(float(cols[1]))\n",
        "        y2.append(float(cols[2]))\n",
        "        y3.append(float(cols[3]))\n",
        "    \n",
        "#matplotlibはnumpyのarrayでなくてもプロットできる。\n",
        "#x = np.array(x)\n",
        "#y = np.array(y)\n",
        "\n",
        "plt.plot(x,y1)\n",
        "plt.plot(x,y2)\n",
        "plt.plot(x,y3)"
      ],
      "execution_count": 0,
      "outputs": []
    },
    {
      "cell_type": "markdown",
      "metadata": {
        "id": "vPfoFtIun3b_",
        "colab_type": "text"
      },
      "source": [
        "plotを何度も呼びだせば、同じグラフにどんどん重ねてくれるようだ。\n",
        "\n",
        "showをはさむと、別のパネルに表示される。(たぶん)"
      ]
    },
    {
      "cell_type": "code",
      "metadata": {
        "id": "ujGTfcM7n3b_",
        "colab_type": "code",
        "colab": {}
      },
      "source": [
        "import random\n",
        "import numpy as np\n",
        "import matplotlib.pyplot as plt  #プロットライブラリの本体\n",
        "\n",
        "#data6.txtは4カラムのデータ。第1カラムが時刻。\n",
        "file = open(\"data6.txt\")\n",
        "x = []\n",
        "y1 = []\n",
        "y2 = []\n",
        "y3 = []\n",
        "\n",
        "for line in file:\n",
        "    cols = line.split()\n",
        "    if len(cols) > 3:\n",
        "        x.append(float(cols[0]))\n",
        "        y1.append(float(cols[1]))\n",
        "        y2.append(float(cols[2]))\n",
        "        y3.append(float(cols[3]))\n",
        "    \n",
        "#matplotlibはnumpyのarrayでなくてもプロットできる。\n",
        "#x = np.array(x)\n",
        "#y = np.array(y)\n",
        "\n",
        "plt.plot(x,y1)\n",
        "plt.plot(x,y2)\n",
        "plt.show()\n",
        "plt.plot(x,y3)"
      ],
      "execution_count": 0,
      "outputs": []
    },
    {
      "cell_type": "markdown",
      "metadata": {
        "id": "u9K1_Tx7n3cB",
        "colab_type": "text"
      },
      "source": [
        "第3カラムを誤差とみなして、エラーバー付きでプロットしてみる。"
      ]
    },
    {
      "cell_type": "code",
      "metadata": {
        "id": "N6QaWr9On3cC",
        "colab_type": "code",
        "colab": {}
      },
      "source": [
        "import random\n",
        "import numpy as np\n",
        "import matplotlib.pyplot as plt  #プロットライブラリの本体\n",
        "\n",
        "#data6.txtは4カラムのデータ。第1カラムが時刻。\n",
        "file = open(\"data6.txt\")\n",
        "x = []\n",
        "y1 = []\n",
        "y2 = []\n",
        "y3 = []\n",
        "\n",
        "for line in file:\n",
        "    cols = line.split()\n",
        "    if len(cols) > 3:\n",
        "        x.append(float(cols[0]))\n",
        "        y1.append(float(cols[1]))\n",
        "        y2.append(float(cols[2]))\n",
        "        y3.append(float(cols[3]))\n",
        "    \n",
        "#matplotlibはnumpyのarrayでなくてもプロットできる。\n",
        "#x = np.array(x)\n",
        "#y = np.array(y)\n",
        "\n",
        "plt.errorbar(x,y1,yerr=y2)"
      ],
      "execution_count": 0,
      "outputs": []
    },
    {
      "cell_type": "markdown",
      "metadata": {
        "id": "PD76TVVyn3cE",
        "colab_type": "text"
      },
      "source": [
        "MatPlotLibでは、異なるタイプのプロットをする場合には、それぞれ異なる関数を呼ぶらしい。(関数名に一貫した命名規則がないのが、matplotlibの使いにくいところです。全く覚えられないので、常にマニュアルを見ながら使うことになります。)\n",
        "\n",
        "点でプロットする場合には、plot関数の3番目の引数で指定する。(http://matplotlib.org/examples/lines_bars_and_markers/marker_reference.html)\n",
        "\n",
        "線のスタイルを変更するオプションもいろいろある。(http://matplotlib.org/examples/lines_bars_and_markers/line_styles_reference.html)"
      ]
    },
    {
      "cell_type": "code",
      "metadata": {
        "id": "3kBF8-e3n3cE",
        "colab_type": "code",
        "colab": {}
      },
      "source": [
        "import random\n",
        "import numpy as np\n",
        "import matplotlib.pyplot as plt  #プロットライブラリの本体\n",
        "\n",
        "#data6.txtは4カラムのデータ。第1カラムが時刻。\n",
        "file = open(\"data6.txt\")\n",
        "x = []\n",
        "y1 = []\n",
        "y2 = []\n",
        "y3 = []\n",
        "\n",
        "for line in file:\n",
        "    cols = line.split()\n",
        "    if len(cols) > 3:\n",
        "        x.append(float(cols[0]))\n",
        "        y1.append(float(cols[1]))\n",
        "        y2.append(float(cols[2]))\n",
        "        y3.append(float(cols[3]))\n",
        "\n",
        "#matplotlibはnumpyのarrayでなくてもプロットできるが、arrayのほうが便利\n",
        "x = np.array(x)\n",
        "y1 = np.array(y1)\n",
        "y2 = np.array(y2)\n",
        "y3 = np.array(y3)\n",
        "\n",
        "\n",
        "plt.plot(x,y1,\".\")\n",
        "plt.plot(x,y2+y3,linewidth=3)\n"
      ],
      "execution_count": 0,
      "outputs": []
    },
    {
      "cell_type": "markdown",
      "metadata": {
        "id": "fIS7Hbxmn3cG",
        "colab_type": "text"
      },
      "source": [
        "せっかく画面にきれいに描けても、論文に載せられないとありがたくない。PDFでの出力を試す。(http://matplotlib.org/api/backend_pdf_api.html)"
      ]
    },
    {
      "cell_type": "code",
      "metadata": {
        "id": "GXPw3ICqn3cH",
        "colab_type": "code",
        "colab": {}
      },
      "source": [
        "import random\n",
        "import numpy as np\n",
        "import matplotlib.pyplot as plt  #プロットライブラリの本体\n",
        "from matplotlib.backends.backend_pdf import PdfPages  #PDF出力\n",
        "\n",
        "#data6.txtは4カラムのデータ。第1カラムが時刻。\n",
        "file = open(\"data6.txt\")\n",
        "x = []\n",
        "y1 = []\n",
        "y2 = []\n",
        "y3 = []\n",
        "\n",
        "for line in file:\n",
        "    cols = line.split()\n",
        "    if len(cols) > 3:\n",
        "        x.append(float(cols[0]))\n",
        "        y1.append(float(cols[1]))\n",
        "        y2.append(float(cols[2]))\n",
        "        y3.append(float(cols[3]))\n",
        "\n",
        "#matplotlibはnumpyのarrayでなくてもプロットできるが、arrayのほうが便利\n",
        "x = np.array(x)\n",
        "y1 = np.array(y1)\n",
        "y2 = np.array(y2)\n",
        "y3 = np.array(y3)\n",
        "\n",
        "\n",
        "plt.plot(x,y1,\".\")\n",
        "plt.plot(x,y2+y3,linewidth=3)\n",
        "#フォントを指定し、labelを付ける。\n",
        "plt.rc('font', family='serif')\n",
        "plt.title(\"Title here\", color=\"red\")\n",
        "plt.xlabel('Time / sec', fontsize = 18)\n",
        "plt.ylabel('Values',     fontsize = 18)\n",
        "\n",
        "#PDF化のために追加\n",
        "pp = PdfPages('test.pdf')   #colabのディスクスペースに書きこまれます。\n",
        "pp.savefig()\n",
        "pp.close()\n"
      ],
      "execution_count": 0,
      "outputs": []
    },
    {
      "cell_type": "markdown",
      "metadata": {
        "id": "C7KpcHNXn3cJ",
        "colab_type": "text"
      },
      "source": [
        "MatPlotLibのサンプルページ(http://matplotlib.org/gallery.html )を見ると、ほかにも相当いろんな表現ができるようだ。全部網羅していては時間が足りないので、必要があればその都度紹介することにする。"
      ]
    },
    {
      "cell_type": "markdown",
      "metadata": {
        "collapsed": true,
        "id": "cqZy7hLOn3cK",
        "colab_type": "text"
      },
      "source": [
        "## 3次元データ\n",
        "\n",
        "matplotlibで3次元プロットはできるのだが、その場で回転させていろんな角度から表示することができない。(正確に言えば、ローカル環境では可能だが、Colabでは使えない)また、matplotlibの三次元描画は隠面処理にかなり問題があり、完成度の高い画像を作ろうとするといろいろ苦労するので、おすすめできない。\n",
        "\n",
        "そこで、3次元プロットには別のモジュール、plotlyを採用してみる。さいわい、plotlyはcolabに標準でインストールされているようだ。"
      ]
    },
    {
      "cell_type": "code",
      "metadata": {
        "id": "XFbI_gjzrnf3",
        "colab_type": "code",
        "colab": {}
      },
      "source": [
        "import plotly.graph_objects as go\n",
        "\n",
        "# mgridはlinspaceの多次元版のようなもの。等間隔の数値が入ったarrayを自動生成する。\n",
        "X, Y = np.mgrid[0:6*np.pi:0.25, 0:4*np.pi:0.25]\n",
        "# X, Yの関数Zを計算する。\n",
        "Z = np.abs(np.cos(X) + np.cos(Y))\n",
        "\n",
        "# Ref.: https://plotly.com/python/3d-surface-plots/\n",
        "surf = go.Surface(x=X, y=Y, z=Z, contours= {\"z\": {\"show\": True}})\n",
        "fig = go.Figure(surf)\n",
        "fig.update_layout(scene={\"xaxis\": {\"title\": \"X-label\"},\n",
        "                         \"yaxis\": {\"title\": \"Y-label\"},\n",
        "                         \"zaxis\": {\"title\": \"Z-label\"}})\n",
        "fig.show()"
      ],
      "execution_count": 0,
      "outputs": []
    },
    {
      "cell_type": "markdown",
      "metadata": {
        "id": "WSWttfcL1awU",
        "colab_type": "text"
      },
      "source": [
        "## 4次元データ\n",
        "\n",
        "電子軌道の空間分布のような、三次元空間内の濃度を表現することは、4次元データプロットと言えます。(x,yに対してzの値をプロットするのが3次元プロットなら、x,y,zに対して濃度を表現することは4次元)\n",
        "\n",
        "ひとつの方法は、三次元の散布図として描くことです。\n"
      ]
    },
    {
      "cell_type": "code",
      "metadata": {
        "id": "GlWWdkU_2RqB",
        "colab_type": "code",
        "colab": {}
      },
      "source": [
        "import numpy as np\n",
        "\n",
        "# mgridはlinspaceの多次元版のようなもの。等間隔の数値が入ったarrayを自動生成する。\n",
        "X, Y, Z = np.mgrid[-5:5:0.2, -5:5:0.2, -5:5:0.2]\n",
        "# X, Y, Zに対するガウス関数Dを計算する。\n",
        "D = np.exp(-(X**2+Y**2+Z**2)/3)\n",
        "\n",
        "# Dと同じ大きさの0-1乱数\n",
        "r = np.random.rand(*X.shape)\n",
        "\n",
        "# 乱数よりも値が大きい点だげを抜粋する(fancy index)\n",
        "Xp = X[D>r]\n",
        "Yp = Y[D>r]\n",
        "Zp = Z[D>r]\n",
        "\n",
        "\n",
        "import plotly.graph_objects as go\n",
        "\n",
        "dataframe = np.array([Xp, Yp, Zp]).T\n",
        "fig = go.Figure(data=[go.Scatter3d(x=Xp,\n",
        "                                   y=Yp,\n",
        "                                   z=Zp,\n",
        "                                   mode=\"markers\",\n",
        "                                   marker=dict(size=1))])\n",
        "fig.show()\n"
      ],
      "execution_count": 0,
      "outputs": []
    },
    {
      "cell_type": "markdown",
      "metadata": {
        "id": "8HxxGS6c7AnY",
        "colab_type": "text"
      },
      "source": [
        "点の数が十分多ければ、これでも形を把握できるかもしれませんが、誤解を生みそうなので、もっと良い方法として、三次元の等高面を描きます。 https://plotly.com/python/3d-isosurface-plots/\n",
        "\n"
      ]
    },
    {
      "cell_type": "code",
      "metadata": {
        "id": "Jftm2VIki6a3",
        "colab_type": "code",
        "colab": {}
      },
      "source": [
        "import numpy as np\n",
        "\n",
        "# mgridはlinspaceの多次元版のようなもの。等間隔の数値が入ったarrayを自動生成する。\n",
        "# データ間隔を指定する部分に虚数を与えると、データ個数の指定になるらしい。(わかりにくい)\n",
        "X, Y, Z = np.mgrid[0:2:20j, 0:2:20j, 0:2:20j]\n",
        "# X, Y, Zに対するガウス関数Dを計算する。\n",
        "D = np.exp(-(X**2+Y**2+Z**2)/3)\n",
        "\n",
        "\n",
        "import plotly.graph_objects as go\n",
        "\n",
        "fig = go.Figure(data=go.Isosurface(\n",
        "    x=X.flatten(),\n",
        "    y=Y.flatten(),\n",
        "    z=Z.flatten(),\n",
        "    value=D.flatten(),\n",
        "    isomin=0.0,\n",
        "    isomax=1.0,\n",
        "    opacity=0.6,\n",
        "    surface_count=10,\n",
        "    caps=dict(x_show=False, y_show=False, z_show=False)\n",
        "    ))\n",
        "fig.show()"
      ],
      "execution_count": 0,
      "outputs": []
    },
    {
      "cell_type": "markdown",
      "metadata": {
        "id": "o1XqGJYKn3cO",
        "colab_type": "text"
      },
      "source": [
        "## アニメーション\n",
        "\n",
        "Plotlyのアニメーション機能はかなりすぐれているようだが、私はまだ紹介できるほど知識がないので、[リンク先](https://plotly.com/python/animations/)のページで遊んでほしい。PlotlyのサンプルプログラムをColabにもってきて、何も手を加えなくても同じように動く。\n"
      ]
    },
    {
      "cell_type": "code",
      "metadata": {
        "id": "eUF05nFQvLWu",
        "colab_type": "code",
        "colab": {}
      },
      "source": [
        "import plotly.graph_objects as go\n",
        "\n",
        "import numpy as np\n",
        "\n",
        "# Generate curve data\n",
        "t = np.linspace(-1, 1, 100)\n",
        "x = t + t ** 2\n",
        "y = t - t ** 2\n",
        "xm = np.min(x) - 1.5\n",
        "xM = np.max(x) + 1.5\n",
        "ym = np.min(y) - 1.5\n",
        "yM = np.max(y) + 1.5\n",
        "N = 50\n",
        "s = np.linspace(-1, 1, N)\n",
        "xx = s + s ** 2\n",
        "yy = s - s ** 2\n",
        "\n",
        "\n",
        "# Create figure\n",
        "fig = go.Figure(\n",
        "    data=[go.Scatter(x=x, y=y,\n",
        "                     mode=\"lines\",\n",
        "                     line=dict(width=2, color=\"blue\")),\n",
        "          go.Scatter(x=x, y=y,\n",
        "                     mode=\"lines\",\n",
        "                     line=dict(width=2, color=\"blue\"))],\n",
        "    layout=go.Layout(\n",
        "        xaxis=dict(range=[xm, xM], autorange=False, zeroline=False),\n",
        "        yaxis=dict(range=[ym, yM], autorange=False, zeroline=False),\n",
        "        title_text=\"Kinematic Generation of a Planar Curve\", hovermode=\"closest\",\n",
        "        updatemenus=[dict(type=\"buttons\",\n",
        "                          buttons=[dict(label=\"Play\",\n",
        "                                        method=\"animate\",\n",
        "                                        args=[None])])]),\n",
        "    frames=[go.Frame(\n",
        "        data=[go.Scatter(\n",
        "            x=[xx[k]],\n",
        "            y=[yy[k]],\n",
        "            mode=\"markers\",\n",
        "            marker=dict(color=\"red\", size=10))])\n",
        "\n",
        "        for k in range(N)]\n",
        ")\n",
        "\n",
        "fig.show()"
      ],
      "execution_count": 0,
      "outputs": []
    },
    {
      "cell_type": "markdown",
      "metadata": {
        "collapsed": true,
        "id": "-ekbXGdGn3cP",
        "colab_type": "text"
      },
      "source": [
        "# 使用例\n",
        "\n",
        "ミク関数を作ってみよう。ミク関数とは、グラフにプロットすると初音ミクの姿になるような関数である。→ https://nlab.itmedia.co.jp/nl/articles/1305/02/news063.html\n",
        "\n",
        "平面上の任意の曲線は、あたりまえだがペンを動かせば描くことができる。ペンを下ろした時刻を0とし、その後の時刻$t$でのペンの位置(座標)$(x,y)$を、時刻$t$の関数と考える。線がとぎれると面倒なので、ペンは最後まで上げないことにしよう(一筆書)。\n",
        "\n",
        "すると、どんな風にペンを動かすかはともかく、ペンの動きを時間の関数としてプロットできるはずだ。\n",
        "\n",
        "例えば、時刻0に原点を出発し、時刻1に座標(10,0)、時刻2に座標(10,20)、時刻3に座標(0,20)、そして時刻4で(0,0)に戻ってくれば、10x20の長方形を描ける。この時のペンのx座標とy座標の関数は次のように描ける。"
      ]
    },
    {
      "cell_type": "code",
      "metadata": {
        "scrolled": true,
        "id": "STbeL6nfn3cP",
        "colab_type": "code",
        "colab": {
          "base_uri": "https://localhost:8080/",
          "height": 266
        },
        "outputId": "9487924f-52b3-4109-d735-8413f1cf71fc"
      },
      "source": [
        "import numpy as np\n",
        "from matplotlib import pyplot as plt\n",
        "\n",
        "points=np.array([[0,0,0],[1,10,0],[2,10,20],[3,0,20],[4,0,0]])\n",
        "\n",
        "plt.plot(points[:,0],points[:,1], \"-o\", label=\"x\")\n",
        "plt.plot(points[:,0],points[:,2], \"-o\", label=\"y\")\n",
        "plt.legend()\n",
        "plt.show()"
      ],
      "execution_count": 7,
      "outputs": [
        {
          "output_type": "display_data",
          "data": {
            "image/png": "[encoded data removed]",
            "text/plain": [
              "<Figure size 432x288 with 1 Axes>"
            ]
          },
          "metadata": {
            "tags": [],
            "needs_background": "light"
          }
        }
      ]
    },
    {
      "cell_type": "markdown",
      "metadata": {
        "id": "a7s7BJzin3cS",
        "colab_type": "text"
      },
      "source": [
        "x座標とy座標を対応させてプロットするとたしかに長方形になる。"
      ]
    },
    {
      "cell_type": "code",
      "metadata": {
        "id": "-Ic3xaign3cS",
        "colab_type": "code",
        "colab": {}
      },
      "source": [
        "plt.plot(points[:,1], points[:,2])"
      ],
      "execution_count": 0,
      "outputs": []
    },
    {
      "cell_type": "markdown",
      "metadata": {
        "id": "xxdgfzs2n3cU",
        "colab_type": "text"
      },
      "source": [
        "これを、いかにも関数っぽく見せるために、わざとこの折れ線を何らかのスムーズな関数で近似して、時間の連続関数として表すのである。例えば3次多項式で近似してみることにする。\n",
        "\n",
        "numpyのpolyfitを使う。まずはx座標。"
      ]
    },
    {
      "cell_type": "code",
      "metadata": {
        "id": "JzwjzVAyn3cV",
        "colab_type": "code",
        "colab": {}
      },
      "source": [
        "coeffx3 = np.polyfit(points[:,0], points[:,1], 3)\n",
        "coeffx3"
      ],
      "execution_count": 0,
      "outputs": []
    },
    {
      "cell_type": "markdown",
      "metadata": {
        "id": "-trhTYQPn3cX",
        "colab_type": "text"
      },
      "source": [
        "結果は3次多項式の係数のようだ。これらを係数にもつ3次関数の値はpoly1d関数で生成できる。"
      ]
    },
    {
      "cell_type": "code",
      "metadata": {
        "id": "XMnhS3F1n3cX",
        "colab_type": "code",
        "colab": {}
      },
      "source": [
        "# tは0〜4を21に細分した点\n",
        "t = np.linspace(0,4,21)\n",
        "\n",
        "# poly1dはtそれぞれでの3次関数の値を計算する\n",
        "xx = np.poly1d(coeffx3)(t)\n",
        "print(t)\n",
        "print(xx)"
      ],
      "execution_count": 0,
      "outputs": []
    },
    {
      "cell_type": "code",
      "metadata": {
        "id": "5jKOZyjen3ca",
        "colab_type": "code",
        "colab": {}
      },
      "source": [
        "plt.plot(points[:,0],points[:,1], label=\"raw x\")\n",
        "plt.plot(t, xx, label=\"fit x (3)\")"
      ],
      "execution_count": 0,
      "outputs": []
    },
    {
      "cell_type": "markdown",
      "metadata": {
        "id": "UGJ1JeZqn3cc",
        "colab_type": "text"
      },
      "source": [
        "同じように、yもフィットする。"
      ]
    },
    {
      "cell_type": "code",
      "metadata": {
        "id": "yZDe7qV8n3cc",
        "colab_type": "code",
        "colab": {}
      },
      "source": [
        "coeffy3 = np.polyfit(points[:,0], points[:,2], 3)\n",
        "# poly1dはtそれぞれでの3次関数の値を計算する\n",
        "yy = np.poly1d(coeffy3)(t)\n",
        "print(t)\n",
        "print(yy)\n",
        "plt.plot(points[:,0],points[:,2], label=\"raw y\")\n",
        "plt.plot(t, yy, label=\"fit y (3)\")"
      ],
      "execution_count": 0,
      "outputs": []
    },
    {
      "cell_type": "markdown",
      "metadata": {
        "id": "FH3QYBApn3ce",
        "colab_type": "text"
      },
      "source": [
        "フィットした曲線でプロットすると?"
      ]
    },
    {
      "cell_type": "code",
      "metadata": {
        "id": "4QHSPlxqn3cf",
        "colab_type": "code",
        "colab": {}
      },
      "source": [
        "plt.plot(xx,yy)"
      ],
      "execution_count": 0,
      "outputs": []
    },
    {
      "cell_type": "markdown",
      "metadata": {
        "id": "eeOtDmTTn3cg",
        "colab_type": "text"
      },
      "source": [
        "長方形からはだいぶ外れてしまった。でも、中間点を増やし、フィットする関数の次数を上げてやれば、もう少し長方形らしくできる、はず。\n",
        "\n",
        "中間点を増やすのに、numpyのinterpolate関数`interp`を使う。\n",
        "https://numpy.org/doc/stable/reference/generated/numpy.interp.html"
      ]
    },
    {
      "cell_type": "code",
      "metadata": {
        "id": "AmE3LhSXn3ch",
        "colab_type": "code",
        "colab": {
          "base_uri": "https://localhost:8080/",
          "height": 282
        },
        "outputId": "7dc3ef88-d011-4fae-b99d-ac7d03a836b3"
      },
      "source": [
        "t = points[:,0] # 5点\n",
        "x = points[:,1]\n",
        "y = points[:,2]\n",
        "\n",
        "# もっと細かい目盛を準備する。\n",
        "tfine = np.linspace(0.0, 4.0, 100) #0〜4を100等分\n",
        "\n",
        "xfine = np.interp(tfine, t, x)\n",
        "yfine = np.interp(tfine, t, y)\n",
        "\n",
        "plt.plot(tfine, xfine, \"-o\", label=\"x\")\n",
        "plt.plot(tfine, yfine, \"-o\", label=\"y\")\n",
        "# plt.plot(points[:,0],points[:,2], \"-o\", label=\"y\")\n",
        "plt.legend()"
      ],
      "execution_count": 8,
      "outputs": [
        {
          "output_type": "execute_result",
          "data": {
            "text/plain": [
              "<matplotlib.legend.Legend at 0x7fb4c19ca0f0>"
            ]
          },
          "metadata": {
            "tags": []
          },
          "execution_count": 8
        },
        {
          "output_type": "display_data",
          "data": {
            "image/png": "[encoded data removed]",
            "text/plain": [
              "<Figure size 432x288 with 1 Axes>"
            ]
          },
          "metadata": {
            "tags": [],
            "needs_background": "light"
          }
        }
      ]
    },
    {
      "cell_type": "code",
      "metadata": {
        "id": "wRdT7HN9n3ci",
        "colab_type": "code",
        "colab": {}
      },
      "source": [
        "# polyfitが多項式近似して係数を返す。\n",
        "coeffx = np.polyfit(tfine, xfine, 10)\n",
        "# poly1dはtそれぞれの位置での多項式の値を計算する\n",
        "xfit = np.poly1d(coeffx)(tfine)\n",
        "\n",
        "plt.plot(tfine, xfine, \"-o\", label=\"raw x\")\n",
        "plt.plot(tfine, xfit,  label=\"fit x (10)\")"
      ],
      "execution_count": 0,
      "outputs": []
    },
    {
      "cell_type": "code",
      "metadata": {
        "id": "rWXeDc8Vn3ck",
        "colab_type": "code",
        "colab": {}
      },
      "source": [
        "# polyfitが多項式近似して係数を返す。\n",
        "coeffy = np.polyfit(tfine, yfine, 12)\n",
        "# poly1dはtそれぞれの位置での多項式の値を計算する\n",
        "yfit = np.poly1d(coeffy)(tfine)\n",
        "\n",
        "plt.plot(tfine, yfine, \"-o\", label=\"raw y\")\n",
        "plt.plot(tfine, yfit, label=\"fit y (12)\")"
      ],
      "execution_count": 0,
      "outputs": []
    },
    {
      "cell_type": "code",
      "metadata": {
        "id": "YvwGgjjXn3cm",
        "colab_type": "code",
        "colab": {}
      },
      "source": [
        "plt.plot(xfine,yfine)\n",
        "plt.plot(xfit, yfit)"
      ],
      "execution_count": 0,
      "outputs": []
    },
    {
      "cell_type": "markdown",
      "metadata": {
        "id": "cVnNWxyQn3cp",
        "colab_type": "text"
      },
      "source": [
        "まだまだですね。でもこんな感じで、点の数をうんと増やしていけば、どんな複雑な曲線でも数式で表せます。多項式や三角関数でフィットする場合には、もとの図形も角がないほうがうまくフィットできます。"
      ]
    },
    {
      "cell_type": "markdown",
      "metadata": {
        "id": "K3Mo15Apn3cp",
        "colab_type": "text"
      },
      "source": [
        "# 使用例2\n",
        "\n",
        "多項式を使う代わりに、フーリエ級数展開を使って近似することはできるでしょうか。\n",
        "\n",
        "`numpy`の高速フーリエ変換関数の使い方は以下の通りです。"
      ]
    },
    {
      "cell_type": "code",
      "metadata": {
        "id": "ehg2_FDpn3cq",
        "colab_type": "code",
        "colab": {
          "base_uri": "https://localhost:8080/",
          "height": 844
        },
        "outputId": "bdd2ff0d-547d-4acf-9501-7393a85de7bb"
      },
      "source": [
        "np.fft.fft(xfine)"
      ],
      "execution_count": 10,
      "outputs": [
        {
          "output_type": "execute_result",
          "data": {
            "text/plain": [
              "array([ 4.94949495e+02+0.00000000e+00j, -1.98227216e+02-2.07768787e+02j,\n",
              "       -2.02020202e-01+3.21101916e+00j, -2.48468514e+01+2.15401155e+01j,\n",
              "        2.47073205e-15-4.12943013e-15j, -6.87872862e+00-8.69097655e+00j,\n",
              "       -2.02020202e-01+1.05902699e+00j, -5.04810459e+00+3.59141485e+00j,\n",
              "        4.18769867e-15+8.55367843e-15j, -1.79909027e+00-2.74111731e+00j,\n",
              "       -2.02020202e-01+6.21754250e-01j, -2.22074883e+00+1.27803968e+00j,\n",
              "        2.08769305e-14+6.77339582e-15j, -7.12975186e-01-1.31222680e+00j,\n",
              "       -2.02020202e-01+4.29314782e-01j, -1.27564657e+00+5.79906009e-01j,\n",
              "       -2.32132815e-14+1.27963740e-14j, -3.37022433e-01-7.48408592e-01j,\n",
              "       -2.02020202e-01+3.18332901e-01j, -8.35684053e-01+2.88778402e-01j,\n",
              "       -2.84217094e-14+2.70306520e-14j, -1.76328157e-01-4.65982369e-01j,\n",
              "       -2.02020202e-01+2.44200475e-01j, -5.90073223e-01+1.45342713e-01j,\n",
              "        1.76594943e-15+6.39474181e-15j, -1.01010101e-01-3.03030303e-01j,\n",
              "       -2.02020202e-01+1.89709597e-01j, -4.36135340e-01+6.79680901e-02j,\n",
              "        5.93651867e-15-1.33517519e-14j, -6.58584228e-02-1.99902719e-01j,\n",
              "       -2.02020202e-01+1.46776268e-01j, -3.31606971e-01+2.46576883e-02j,\n",
              "       -7.97709409e-15+5.04851760e-15j, -5.21926583e-02-1.30394179e-01j,\n",
              "       -2.02020202e-01+1.11061546e-01j, -2.56392249e-01+9.80496755e-04j,\n",
              "        8.82377680e-15+3.82653156e-16j, -5.14190081e-02-8.15418290e-02j,\n",
              "       -2.02020202e-01+7.99854563e-02j, -1.99926890e-01-1.01808335e-02j,\n",
              "        2.13162821e-14+1.67058616e-14j, -5.93694945e-02-4.63978349e-02j,\n",
              "       -2.02020202e-01+5.18699718e-02j, -1.56260722e-01-1.24846774e-02j,\n",
              "       -2.53743136e-14-2.28745995e-14j, -7.40810486e-02-2.10662325e-02j,\n",
              "       -2.02020202e-01+2.55210866e-02j, -1.21911786e-01-7.74311207e-03j,\n",
              "       -1.41422696e-14-4.26234019e-15j, -9.48608776e-02-3.37388752e-03j,\n",
              "       -2.02020202e-01+6.93889390e-17j, -9.48608776e-02+3.37388752e-03j,\n",
              "       -1.41422696e-14+4.26234019e-15j, -1.21911786e-01+7.74311207e-03j,\n",
              "       -2.02020202e-01-2.55210866e-02j, -7.40810486e-02+2.10662325e-02j,\n",
              "       -2.53743136e-14+2.28745995e-14j, -1.56260722e-01+1.24846774e-02j,\n",
              "       -2.02020202e-01-5.18699718e-02j, -5.93694945e-02+4.63978349e-02j,\n",
              "        2.13162821e-14-1.67058616e-14j, -1.99926890e-01+1.01808335e-02j,\n",
              "       -2.02020202e-01-7.99854563e-02j, -5.14190081e-02+8.15418290e-02j,\n",
              "        8.82377680e-15-3.82653156e-16j, -2.56392249e-01-9.80496755e-04j,\n",
              "       -2.02020202e-01-1.11061546e-01j, -5.21926583e-02+1.30394179e-01j,\n",
              "       -7.97709409e-15-5.04851760e-15j, -3.31606971e-01-2.46576883e-02j,\n",
              "       -2.02020202e-01-1.46776268e-01j, -6.58584228e-02+1.99902719e-01j,\n",
              "        5.93651867e-15+1.33517519e-14j, -4.36135340e-01-6.79680901e-02j,\n",
              "       -2.02020202e-01-1.89709597e-01j, -1.01010101e-01+3.03030303e-01j,\n",
              "        1.76594943e-15-6.39474181e-15j, -5.90073223e-01-1.45342713e-01j,\n",
              "       -2.02020202e-01-2.44200475e-01j, -1.76328157e-01+4.65982369e-01j,\n",
              "       -2.84217094e-14-2.70306520e-14j, -8.35684053e-01-2.88778402e-01j,\n",
              "       -2.02020202e-01-3.18332901e-01j, -3.37022433e-01+7.48408592e-01j,\n",
              "       -2.32132815e-14-1.27963740e-14j, -1.27564657e+00-5.79906009e-01j,\n",
              "       -2.02020202e-01-4.29314782e-01j, -7.12975186e-01+1.31222680e+00j,\n",
              "        2.08769305e-14-6.77339582e-15j, -2.22074883e+00-1.27803968e+00j,\n",
              "       -2.02020202e-01-6.21754250e-01j, -1.79909027e+00+2.74111731e+00j,\n",
              "        4.18769867e-15-8.55367843e-15j, -5.04810459e+00-3.59141485e+00j,\n",
              "       -2.02020202e-01-1.05902699e+00j, -6.87872862e+00+8.69097655e+00j,\n",
              "        2.47073205e-15+4.12943013e-15j, -2.48468514e+01-2.15401155e+01j,\n",
              "       -2.02020202e-01-3.21101916e+00j, -1.98227216e+02+2.07768787e+02j])"
            ]
          },
          "metadata": {
            "tags": []
          },
          "execution_count": 10
        }
      ]
    },
    {
      "cell_type": "markdown",
      "metadata": {
        "id": "ia5dyjb5sNem",
        "colab_type": "text"
      },
      "source": [
        "100個のデータが出てきました。この数値の意味は?\n",
        "\n"
      ]
    },
    {
      "cell_type": "code",
      "metadata": {
        "id": "9htyGUIJrtp4",
        "colab_type": "code",
        "colab": {}
      },
      "source": [
        "?np.fft.fft"
      ],
      "execution_count": 0,
      "outputs": []
    },
    {
      "cell_type": "markdown",
      "metadata": {
        "id": "Iy--sb8ksofr",
        "colab_type": "text"
      },
      "source": [
        "ドキュメントを見ても詳細はわかりません。実は、フーリエ変換(フーリエ級数)の定義は業界によって微妙に違っているので、得られた係数を何も考えずに使うと間違うことがあります。\n",
        "\n",
        "一般的には、プログラム言語に組みこまれている高速フーリエ変換は以下のような計算をすることが多いです。\n",
        "$$ F(k)=\\sum_{n=0}^{N-1} f(n)\\exp\\left(-{2\\pi n k i\\over N}\\right)$$\n",
        "\n",
        "ただし、$f(n)$は元データの$n$個目、$i$は虚数単位です。\n",
        "\n",
        "実際にそうなっているか、手計算で$k=2$の場合を計算してみます。"
      ]
    },
    {
      "cell_type": "code",
      "metadata": {
        "id": "F0jwPDfpsedA",
        "colab_type": "code",
        "colab": {
          "base_uri": "https://localhost:8080/",
          "height": 34
        },
        "outputId": "a52d94f0-4a40-43ec-8272-538ffa0c6799"
      },
      "source": [
        "k = 2.0\n",
        "N = 100  # number of data in xfine\n",
        "n = np.arange(0.0, 100.0)\n",
        "np.sum(xfine * np.exp(-2*np.pi*n*k*1j/N))"
      ],
      "execution_count": 14,
      "outputs": [
        {
          "output_type": "execute_result",
          "data": {
            "text/plain": [
              "(-0.20202020202022197+3.211019160376864j)"
            ]
          },
          "metadata": {
            "tags": []
          },
          "execution_count": 14
        }
      ]
    },
    {
      "cell_type": "markdown",
      "metadata": {
        "id": "Mtw7CyHwvGEd",
        "colab_type": "text"
      },
      "source": [
        "ビンゴ! `np.fft.fft()`関数の出力の2番目の値(最初が0番目)に一致しました。\n",
        "\n",
        "得られる値は複素数です。フーリエ変換は、一般的には複素数を複素数に変換します。それなら、x軸とy軸を別々に近似するのではなく、図を複素平面に描くことにすれば、近似が一発でできるはずです。"
      ]
    },
    {
      "cell_type": "code",
      "metadata": {
        "id": "iQgTgmcgu22X",
        "colab_type": "code",
        "colab": {}
      },
      "source": [
        ""
      ],
      "execution_count": 0,
      "outputs": []
    }
  ]
}
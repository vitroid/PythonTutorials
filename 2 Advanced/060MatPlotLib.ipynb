{
  "nbformat": 4,
  "nbformat_minor": 0,
  "metadata": {
    "kernelspec": {
      "display_name": "Python 3",
      "language": "python",
      "name": "python3"
    },
    "language_info": {
      "codemirror_mode": {
        "name": "ipython",
        "version": 3
      },
      "file_extension": ".py",
      "mimetype": "text/x-python",
      "name": "python",
      "nbconvert_exporter": "python",
      "pygments_lexer": "ipython3",
      "version": "3.6.5"
    },
    "colab": {
      "name": "060MatPlotLib.ipynb",
      "provenance": [],
      "include_colab_link": true
    }
  },
  "cells": [
    {
      "cell_type": "markdown",
      "metadata": {
        "id": "view-in-github",
        "colab_type": "text"
      },
      "source": [
        "<a href=\"https://colab.research.google.com/github/vitroid/PythonTutorials/blob/master/2%20Advanced/060MatPlotLib.ipynb\" target=\"_parent\"><img src=\"https://colab.research.google.com/assets/colab-badge.svg\" alt=\"Open In Colab\"/></a>"
      ]
    },
    {
      "cell_type": "markdown",
      "metadata": {
        "id": "emssdsBDn3bP"
      },
      "source": [
        "すでに使いなれたプロッティングツール(例えばgnuplot)があるのに、おなじことをPythonでやりなおす必要は感じないと思いますが、MatPlotLibはPythonのいろんなライブラリでグラフを描くための事実上の標準になっているので、使いかたに慣れておくと、いろいろ便利なことがあります。\n",
        "\n",
        "松本も日常MatPlotLibを使っているわけではないので、練習をかねてgnuplot (http://gnuplot.sourceforge.net) でできることを、MatPlotLibでひととおり試してみます。\n",
        "\n",
        "gnuplotよりもMatPlotLibがすぐれている点は、それがプログラム言語の中に組みこまれていることです。生データをそのままプロットする場合にはgnuplotで十分ですが、様々なデータ処理を行った結果をプロットしたり、パラメータをリアルタイムで調整しながらグラフを描きなおしたい場合には、MatPlotLibのほうが便利かもしれません。\n",
        "\n",
        "## 2次元: XYプロット\n",
        "### 数式のプロット\n",
        "gnuplotでは、数式を直接指定する方法があるが、MatPlotLibは数値のプロットしかできないので、数式をプロットしたい場合は、numpyで数値化してからプロットする。整数のリストを生じるrangeを拡張した、arangeという関数がnumpyに備わっているので、これを使えば単調増加数列は簡単に作れる。また、numpyの数学関数を使うと、arrayに対して演算ができる。"
      ]
    },
    {
      "cell_type": "code",
      "metadata": {
        "id": "RzusUE5xn3bQ"
      },
      "source": [
        "import numpy as np\n",
        "\n",
        "x = np.arange(-10,10,0.1)        #xは-10から+10まで0.1間隔の値のarray\n",
        "print(x)"
      ],
      "execution_count": null,
      "outputs": []
    },
    {
      "cell_type": "markdown",
      "metadata": {
        "id": "AVcFPniyn3bY"
      },
      "source": [
        "arrayに対して通常の演算を行うと、個々の要素に作用する。この例の場合、xのすべての要素が個別に二乗される。"
      ]
    },
    {
      "cell_type": "code",
      "metadata": {
        "id": "aKYa4m8_n3ba"
      },
      "source": [
        "y=x**2\n",
        "y"
      ],
      "execution_count": null,
      "outputs": []
    },
    {
      "cell_type": "code",
      "metadata": {
        "id": "mk80T0HPn3be"
      },
      "source": [
        "import matplotlib.pyplot as plt  #プロットライブラリの本体\n",
        "\n",
        "plt.plot(x,y)"
      ],
      "execution_count": null,
      "outputs": []
    },
    {
      "cell_type": "markdown",
      "metadata": {
        "id": "9xWBrwjvn3bj"
      },
      "source": [
        "arrayに対して通常の演算を行うと、個々の要素に作用する。そのための数学関数がnumpyにすべて準備されている。"
      ]
    },
    {
      "cell_type": "code",
      "metadata": {
        "id": "iI2AzNBRn3bj"
      },
      "source": [
        "import numpy as np\n",
        "import matplotlib.pyplot as plt  #プロットライブラリの本体\n",
        "\n",
        "x = np.arange(-10,10,0.1)        #xは-10から+10まで0.1間隔の値のarray\n",
        "y = np.exp(-x**2/5)              #yの値はxから算出する。\n",
        "plt.xlim(-5,5)                 #プロット範囲指定\n",
        "plt.plot(x,y)"
      ],
      "execution_count": null,
      "outputs": []
    },
    {
      "cell_type": "markdown",
      "metadata": {
        "id": "wgEeLgA0n3bo"
      },
      "source": [
        "### データのプロット\n",
        "まずは、手作りデータをプロットしてみる。"
      ]
    },
    {
      "cell_type": "code",
      "metadata": {
        "id": "pJCBfhXUn3bp"
      },
      "source": [
        "import numpy as np\n",
        "import matplotlib.pyplot as plt  #プロットライブラリの本体\n",
        "\n",
        "x = [1,2,4,8,16]\n",
        "y = [2,3,5,7,11]\n",
        "plt.plot(x,y)"
      ],
      "execution_count": null,
      "outputs": []
    },
    {
      "cell_type": "markdown",
      "metadata": {
        "id": "0mhPZwyWs-ZB"
      },
      "source": [
        "xとyをまとめたデータを作って、まとめてplot関数に渡すこともできる。"
      ]
    },
    {
      "cell_type": "code",
      "metadata": {
        "id": "KYJ8CJEUs-Ai"
      },
      "source": [
        "import numpy as np\n",
        "import matplotlib.pyplot as plt  #プロットライブラリの本体\n",
        "\n",
        "D = dict()\n",
        "D[\"seq1\"] = [1,2,4,8,16]\n",
        "D[\"seq2\"] = [2,3,5,7,11]\n",
        "plt.plot(\"seq1\", \"seq2\", data=D)"
      ],
      "execution_count": null,
      "outputs": []
    },
    {
      "cell_type": "markdown",
      "metadata": {
        "id": "fPN9EZzZn3bs"
      },
      "source": [
        "2つのy値を与えて同時にプロットすることはできるだろうか。"
      ]
    },
    {
      "cell_type": "code",
      "metadata": {
        "scrolled": true,
        "id": "JJ4UMDAcn3bs"
      },
      "source": [
        "import numpy as np\n",
        "import matplotlib.pyplot as plt  #プロットライブラリの本体\n",
        "\n",
        "x = [1,2,4,8,16]\n",
        "y = [[2,1],[3,2],[5,3],[7,4],[11,5]]\n",
        "plt.plot(x,y)"
      ],
      "execution_count": null,
      "outputs": []
    },
    {
      "cell_type": "markdown",
      "metadata": {
        "id": "V68nsqxfn3bv"
      },
      "source": [
        "numpy形式のデータでも試す。"
      ]
    },
    {
      "cell_type": "code",
      "metadata": {
        "id": "NqeEScOmn3bv"
      },
      "source": [
        "import numpy as np\n",
        "import matplotlib.pyplot as plt  #プロットライブラリの本体\n",
        "\n",
        "x = np.array([1,2,4,8,16])\n",
        "y = np.array([2,3,5,7,11])\n",
        "plt.plot(x,y)"
      ],
      "execution_count": null,
      "outputs": []
    },
    {
      "cell_type": "markdown",
      "metadata": {
        "id": "_NXphBUVn3by"
      },
      "source": [
        "2本同時プロットもnumpyでできるはず。"
      ]
    },
    {
      "cell_type": "code",
      "metadata": {
        "scrolled": true,
        "id": "AvVn-oRAn3bz"
      },
      "source": [
        "import numpy as np\n",
        "import matplotlib.pyplot as plt  #プロットライブラリの本体\n",
        "\n",
        "x = np.array([1,2,4,8,16])\n",
        "y = np.array([[2,1],[3,2],[5,3],[7,4],[11,5]])\n",
        "plt.plot(x,y)"
      ],
      "execution_count": null,
      "outputs": []
    },
    {
      "cell_type": "markdown",
      "metadata": {
        "id": "9l8fYAuOn3b2"
      },
      "source": [
        "じゃあ、数式プロットで2本同時に線を引いてみよう。"
      ]
    },
    {
      "cell_type": "code",
      "metadata": {
        "id": "s89egbt8n3b2"
      },
      "source": [
        "import numpy as np\n",
        "import matplotlib.pyplot as plt  #プロットライブラリの本体\n",
        "\n",
        "x = np.arange(-1,1,0.1)\n",
        "y1 = np.sin(x)\n",
        "y2 = np.cos(x)\n",
        "y = (y1,y2)\n",
        "plt.plot(x,y)"
      ],
      "execution_count": null,
      "outputs": []
    },
    {
      "cell_type": "markdown",
      "metadata": {
        "id": "hj1FlsZGn3b5"
      },
      "source": [
        "なになに、xとyは同じdimensionでないといけない、と言われた。確かに、xにはx[0]からx[100]あたりまでデータがあるのに対し、yにはy[0]とy[1]しかなく、その中にarrayが入っていて、xとyの見掛けのリスト(array)の大きさが違う。そこで、yは転置してみよう。"
      ]
    },
    {
      "cell_type": "code",
      "metadata": {
        "id": "pZ4UoUP9n3b5"
      },
      "source": [
        "import numpy as np\n",
        "import matplotlib.pyplot as plt  #プロットライブラリの本体\n",
        "\n",
        "x = np.arange(-1,1,0.1)\n",
        "y1 = np.sin(x)\n",
        "y2 = np.cos(x)\n",
        "y = np.array((y1,y2))\n",
        "print(\"Y before transposition:\",y)\n",
        "y = y.T\n",
        "print(x)\n",
        "print(\"Y after transposition:\",y)\n",
        "plt.plot(x,y)"
      ],
      "execution_count": null,
      "outputs": []
    },
    {
      "cell_type": "markdown",
      "metadata": {
        "id": "AXFwdOqsn3b8"
      },
      "source": [
        "x,y座標の羅列をファイルから読みこんで、そのまま線でプロットする。"
      ]
    },
    {
      "cell_type": "code",
      "metadata": {
        "id": "1AUWhs_sn3b8"
      },
      "source": [
        "! wget https://github.com/vitroid/PythonTutorials/blob/master/2%20Advanced/data6.txt?raw=true -O data6.txt\n",
        "\n",
        "import random\n",
        "import numpy as np\n",
        "import matplotlib.pyplot as plt  #プロットライブラリの本体\n",
        "\n",
        "#data6.txtは4カラムのデータ。第1カラムが時刻。\n",
        "file = open(\"data6.txt\")\n",
        "x = []\n",
        "y1 = []\n",
        "y2 = []\n",
        "y3 = []\n",
        "\n",
        "for line in file:\n",
        "    cols = line.split()\n",
        "    if len(cols) > 3:\n",
        "        x.append(float(cols[0]))\n",
        "        y1.append(float(cols[1]))\n",
        "        y2.append(float(cols[2]))\n",
        "        y3.append(float(cols[3]))\n",
        "    \n",
        "#matplotlibはnumpyのarrayでなくてもプロットできる。\n",
        "#x = np.array(x)\n",
        "#y = np.array(y)\n",
        "\n",
        "plt.plot(x,y1)\n",
        "plt.plot(x,y2)\n",
        "plt.plot(x,y3)"
      ],
      "execution_count": null,
      "outputs": []
    },
    {
      "cell_type": "markdown",
      "metadata": {
        "id": "vPfoFtIun3b_"
      },
      "source": [
        "plotを何度も呼びだせば、同じグラフにどんどん重ねてくれるようだ。\n",
        "\n",
        "showをはさむと、別のパネルに表示される。(たぶん)"
      ]
    },
    {
      "cell_type": "code",
      "metadata": {
        "id": "ujGTfcM7n3b_"
      },
      "source": [
        "import random\n",
        "import numpy as np\n",
        "import matplotlib.pyplot as plt  #プロットライブラリの本体\n",
        "\n",
        "#data6.txtは4カラムのデータ。第1カラムが時刻。\n",
        "file = open(\"data6.txt\")\n",
        "x = []\n",
        "y1 = []\n",
        "y2 = []\n",
        "y3 = []\n",
        "\n",
        "for line in file:\n",
        "    cols = line.split()\n",
        "    if len(cols) > 3:\n",
        "        x.append(float(cols[0]))\n",
        "        y1.append(float(cols[1]))\n",
        "        y2.append(float(cols[2]))\n",
        "        y3.append(float(cols[3]))\n",
        "    \n",
        "#matplotlibはnumpyのarrayでなくてもプロットできる。\n",
        "#x = np.array(x)\n",
        "#y = np.array(y)\n",
        "\n",
        "plt.plot(x,y1)\n",
        "plt.plot(x,y2)\n",
        "plt.show()\n",
        "plt.plot(x,y3)"
      ],
      "execution_count": null,
      "outputs": []
    },
    {
      "cell_type": "markdown",
      "metadata": {
        "id": "u9K1_Tx7n3cB"
      },
      "source": [
        "第3カラムを誤差とみなして、エラーバー付きでプロットしてみる。"
      ]
    },
    {
      "cell_type": "code",
      "metadata": {
        "id": "N6QaWr9On3cC"
      },
      "source": [
        "import random\n",
        "import numpy as np\n",
        "import matplotlib.pyplot as plt  #プロットライブラリの本体\n",
        "\n",
        "#data6.txtは4カラムのデータ。第1カラムが時刻。\n",
        "file = open(\"data6.txt\")\n",
        "x = []\n",
        "y1 = []\n",
        "y2 = []\n",
        "y3 = []\n",
        "\n",
        "for line in file:\n",
        "    cols = line.split()\n",
        "    if len(cols) > 3:\n",
        "        x.append(float(cols[0]))\n",
        "        y1.append(float(cols[1]))\n",
        "        y2.append(float(cols[2]))\n",
        "        y3.append(float(cols[3]))\n",
        "    \n",
        "#matplotlibはnumpyのarrayでなくてもプロットできる。\n",
        "#x = np.array(x)\n",
        "#y = np.array(y)\n",
        "\n",
        "plt.errorbar(x,y1,yerr=y2)"
      ],
      "execution_count": null,
      "outputs": []
    },
    {
      "cell_type": "markdown",
      "metadata": {
        "id": "PD76TVVyn3cE"
      },
      "source": [
        "MatPlotLibでは、異なるタイプのプロットをする場合には、それぞれ異なる関数を呼ぶらしい。(関数名に一貫した命名規則がないのが、matplotlibの使いにくいところです。全く覚えられないので、常にマニュアルを見ながら使うことになります。)\n",
        "\n",
        "点でプロットする場合には、plot関数の3番目の引数で指定する。(http://matplotlib.org/examples/lines_bars_and_markers/marker_reference.html)\n",
        "\n",
        "線のスタイルを変更するオプションもいろいろある。(http://matplotlib.org/examples/lines_bars_and_markers/line_styles_reference.html)"
      ]
    },
    {
      "cell_type": "code",
      "metadata": {
        "id": "3kBF8-e3n3cE"
      },
      "source": [
        "import random\n",
        "import numpy as np\n",
        "import matplotlib.pyplot as plt  #プロットライブラリの本体\n",
        "\n",
        "#data6.txtは4カラムのデータ。第1カラムが時刻。\n",
        "file = open(\"data6.txt\")\n",
        "x = []\n",
        "y1 = []\n",
        "y2 = []\n",
        "y3 = []\n",
        "\n",
        "for line in file:\n",
        "    cols = line.split()\n",
        "    if len(cols) > 3:\n",
        "        x.append(float(cols[0]))\n",
        "        y1.append(float(cols[1]))\n",
        "        y2.append(float(cols[2]))\n",
        "        y3.append(float(cols[3]))\n",
        "\n",
        "#matplotlibはnumpyのarrayでなくてもプロットできるが、arrayのほうが便利\n",
        "x = np.array(x)\n",
        "y1 = np.array(y1)\n",
        "y2 = np.array(y2)\n",
        "y3 = np.array(y3)\n",
        "\n",
        "\n",
        "plt.plot(x,y1,\".\")\n",
        "plt.plot(x,y2+y3,linewidth=3)\n"
      ],
      "execution_count": null,
      "outputs": []
    },
    {
      "cell_type": "markdown",
      "metadata": {
        "id": "fIS7Hbxmn3cG"
      },
      "source": [
        "せっかく画面にきれいに描けても、論文に載せられないとありがたくない。PDFでの出力を試す。(http://matplotlib.org/api/backend_pdf_api.html)"
      ]
    },
    {
      "cell_type": "code",
      "metadata": {
        "id": "GXPw3ICqn3cH"
      },
      "source": [
        "import random\n",
        "import numpy as np\n",
        "import matplotlib.pyplot as plt  #プロットライブラリの本体\n",
        "# from matplotlib.backends.backend_pdf import PdfPages  #PDF出力\n",
        "\n",
        "#data6.txtは4カラムのデータ。第1カラムが時刻。\n",
        "file = open(\"data6.txt\")\n",
        "x = []\n",
        "y1 = []\n",
        "y2 = []\n",
        "y3 = []\n",
        "\n",
        "for line in file:\n",
        "    cols = line.split()\n",
        "    if len(cols) > 3:\n",
        "        x.append(float(cols[0]))\n",
        "        y1.append(float(cols[1]))\n",
        "        y2.append(float(cols[2]))\n",
        "        y3.append(float(cols[3]))\n",
        "\n",
        "#matplotlibはnumpyのarrayでなくてもプロットできるが、arrayのほうが便利\n",
        "x = np.array(x)\n",
        "y1 = np.array(y1)\n",
        "y2 = np.array(y2)\n",
        "y3 = np.array(y3)\n",
        "\n",
        "#PDF化のために追加\n",
        "fig = plt.figure()\n",
        "\n",
        "plt.plot(x,y1,\".\")\n",
        "plt.plot(x,y2+y3,linewidth=3)\n",
        "#フォントを指定し、labelを付ける。\n",
        "plt.rc('font', family='serif')\n",
        "plt.title(\"Title here\", color=\"red\")\n",
        "plt.xlabel('Time / sec', fontsize = 18)\n",
        "plt.ylabel('Values',     fontsize = 18)\n",
        "\n",
        "fig.savefig(\"test.pdf\")\n",
        "fig.savefig(\"test.jpg\")\n",
        "fig.savefig(\"test.png\")"
      ],
      "execution_count": null,
      "outputs": []
    },
    {
      "cell_type": "markdown",
      "metadata": {
        "id": "C7KpcHNXn3cJ"
      },
      "source": [
        "MatPlotLibのサンプルページ(http://matplotlib.org/gallery.html )を見ると、ほかにも相当いろんな表現ができるようだ。全部網羅していては時間が足りないので、必要があればその都度紹介することにする。"
      ]
    },
    {
      "cell_type": "markdown",
      "metadata": {
        "collapsed": true,
        "id": "cqZy7hLOn3cK"
      },
      "source": [
        "## 3次元データ\n",
        "\n",
        "matplotlibで3次元プロットはできるのだが、その場で回転させていろんな角度から表示することができない。(正確に言えば、ローカル環境では可能だが、Colabでは使えない)また、matplotlibの三次元描画は隠面処理にかなり問題があり、完成度の高い画像を作ろうとするといろいろ苦労するので、おすすめできない。\n",
        "\n",
        "そこで、3次元プロットには別のモジュール、plotlyを採用してみる。さいわい、plotlyはcolabに標準でインストールされているようだ。"
      ]
    },
    {
      "cell_type": "code",
      "metadata": {
        "id": "XFbI_gjzrnf3"
      },
      "source": [
        "import plotly.graph_objects as go\n",
        "\n",
        "# mgridはlinspaceの多次元版のようなもの。等間隔の数値が入ったarrayを自動生成する。\n",
        "X, Y = np.mgrid[0:6*np.pi:0.25, 0:4*np.pi:0.25]\n",
        "# X, Yの関数Zを計算する。\n",
        "Z = np.abs(np.cos(X) + np.cos(Y))\n",
        "\n",
        "# Ref.: https://plotly.com/python/3d-surface-plots/\n",
        "surf = go.Surface(x=X, y=Y, z=Z, contours= {\"z\": {\"show\": True}})\n",
        "fig = go.Figure(surf)\n",
        "fig.update_layout(scene={\"xaxis\": {\"title\": \"X-label\"},\n",
        "                         \"yaxis\": {\"title\": \"Y-label\"},\n",
        "                         \"zaxis\": {\"title\": \"Z-label\"}})\n",
        "fig.show()"
      ],
      "execution_count": null,
      "outputs": []
    },
    {
      "cell_type": "markdown",
      "metadata": {
        "id": "l4ccvlt0xpuk"
      },
      "source": [
        "画像データは、x,y座標に対して明るさという情報が載っているので、3次元データとみなせる。\n",
        "\n",
        "こういうデータをheight mapとも呼ぶ。"
      ]
    },
    {
      "cell_type": "code",
      "metadata": {
        "id": "Ziirg8vLxqod"
      },
      "source": [
        "from skimage import io\n",
        "# Read an image directly from an URL\n",
        "G = io.imread(\"https://images.idgesg.net/images/article/2018/08/google_logo_black-100769125-large.jpg\")\n",
        "print(G.shape)"
      ],
      "execution_count": null,
      "outputs": []
    },
    {
      "cell_type": "code",
      "metadata": {
        "id": "bBt06lIfxxd-"
      },
      "source": [
        "# plotly height mapで検索\n",
        "# https://plotly.com/python/3d-surface-plots/\n",
        "import plotly.graph_objects as go\n",
        "fig = go.Figure(data=[go.Surface(z=G[:,:,0])]) # first channel == Red?\n",
        "fig.show()"
      ],
      "execution_count": null,
      "outputs": []
    },
    {
      "cell_type": "code",
      "metadata": {
        "id": "4go7hi9gyQ62"
      },
      "source": [
        "fig = go.Figure(data=[go.Surface(z=G[:,:,1])]) # second channel == Green?\n",
        "fig.show()"
      ],
      "execution_count": null,
      "outputs": []
    },
    {
      "cell_type": "code",
      "metadata": {
        "id": "J4O_CT5x0CCn"
      },
      "source": [
        "# \"heightmap moon\"で検索\n",
        "from skimage import io\n",
        "import plotly.graph_objects as go\n",
        "moon = io.imread(\"https://jaanga.github.io/moon/heightmaps/WAC_GLD100_E000N1800_004P-1024x512.png\")\n",
        "fig = go.Figure(data=[go.Surface(z=moon)])\n",
        "fig.update_layout(\n",
        "        scene = {\n",
        "            \"aspectratio\": {\"x\": 1, \"y\": 0.5, \"z\": 0.02}\n",
        "        })\n",
        "fig.show()"
      ],
      "execution_count": null,
      "outputs": []
    },
    {
      "cell_type": "code",
      "metadata": {
        "id": "3moUm55p2cLU"
      },
      "source": [
        "\n",
        "# \"bump map mars\"で検索\n",
        "from skimage import io\n",
        "import plotly.graph_objects as go\n",
        "mars = io.imread(\"http://planetpixelemporium.com/download/download.php?marsbump1k.jpg\")\n",
        "fig = go.Figure(data=[go.Surface(z=mars)])\n",
        "fig.update_layout(\n",
        "        scene = {\n",
        "            \"aspectratio\": {\"x\": 1, \"y\": 0.5, \"z\": 0.02}\n",
        "        })\n",
        "fig.show()"
      ],
      "execution_count": null,
      "outputs": []
    },
    {
      "cell_type": "markdown",
      "metadata": {
        "id": "IdEiwQKV3g3P"
      },
      "source": [
        "回せる火星儀みたいなものを作りたいのですが、まだ調査中です。"
      ]
    },
    {
      "cell_type": "markdown",
      "metadata": {
        "id": "WSWttfcL1awU"
      },
      "source": [
        "## 4次元データ\n",
        "\n",
        "電子軌道の空間分布のような、三次元空間内の濃度を表現することは、4次元データプロットと言えます。(x,yに対してzの値をプロットするのが3次元プロットなら、x,y,zに対して濃度を表現することは4次元)\n",
        "\n",
        "ひとつの方法は、三次元の散布図として描くことです。\n"
      ]
    },
    {
      "cell_type": "code",
      "metadata": {
        "id": "GlWWdkU_2RqB"
      },
      "source": [
        "import numpy as np\n",
        "\n",
        "# mgridはlinspaceの多次元版のようなもの。等間隔の数値が入ったarrayを自動生成する。\n",
        "X, Y, Z = np.mgrid[-5:5:0.2, -5:5:0.2, -5:5:0.2]\n",
        "# X, Y, Zに対するガウス関数Dを計算する。\n",
        "D = np.exp(-(X**2+Y**2+Z**2)/3)\n",
        "\n",
        "# Dと同じ大きさの0-1乱数\n",
        "r = np.random.rand(*X.shape)\n",
        "\n",
        "# 乱数よりも値が大きい点だげを抜粋する(fancy index)\n",
        "Xp = X[D>r]\n",
        "Yp = Y[D>r]\n",
        "Zp = Z[D>r]\n",
        "\n",
        "\n",
        "import plotly.graph_objects as go\n",
        "\n",
        "dataframe = np.array([Xp, Yp, Zp]).T\n",
        "fig = go.Figure(data=[go.Scatter3d(x=Xp,\n",
        "                                   y=Yp,\n",
        "                                   z=Zp,\n",
        "                                   mode=\"markers\",\n",
        "                                   marker=dict(size=1))])\n",
        "fig.show()\n"
      ],
      "execution_count": null,
      "outputs": []
    },
    {
      "cell_type": "markdown",
      "metadata": {
        "id": "8HxxGS6c7AnY"
      },
      "source": [
        "点の数が十分多ければ、これでも形を把握できるかもしれませんが、誤解を生みそうなので、もっと良い方法として、三次元の等高面を描きます。 https://plotly.com/python/3d-isosurface-plots/\n",
        "\n"
      ]
    },
    {
      "cell_type": "code",
      "metadata": {
        "id": "Jftm2VIki6a3"
      },
      "source": [
        "import numpy as np\n",
        "\n",
        "# mgridはlinspaceの多次元版のようなもの。等間隔の数値が入ったarrayを自動生成する。\n",
        "# データ間隔を指定する部分に虚数を与えると、データ個数の指定になるらしい。(わかりにくい)\n",
        "X, Y, Z = np.mgrid[0:2:20j, 0:2:20j, 0:2:20j]\n",
        "# X, Y, Zに対するガウス関数Dを計算する。\n",
        "D = np.exp(-(X**2+Y**2+Z**2)/3)\n",
        "\n",
        "\n",
        "import plotly.graph_objects as go\n",
        "\n",
        "fig = go.Figure(data=go.Isosurface(\n",
        "    x=X.flatten(),\n",
        "    y=Y.flatten(),\n",
        "    z=Z.flatten(),\n",
        "    value=D.flatten(),\n",
        "    opacity=0.6,\n",
        "    surface_count=10,\n",
        "    caps=dict(x_show=False, y_show=False, z_show=False)\n",
        "    ))\n",
        "fig.show()"
      ],
      "execution_count": null,
      "outputs": []
    },
    {
      "cell_type": "markdown",
      "metadata": {
        "id": "o1XqGJYKn3cO"
      },
      "source": [
        "## アニメーション\n",
        "\n",
        "Plotlyのアニメーション機能はかなりすぐれているようだが、私はまだ紹介できるほど知識がないので、[リンク先](https://plotly.com/python/animations/)のページで遊んでほしい。PlotlyのサンプルプログラムをColabにもってきて、何も手を加えなくても同じように動く。\n"
      ]
    },
    {
      "cell_type": "code",
      "metadata": {
        "id": "eUF05nFQvLWu"
      },
      "source": [
        "import plotly.graph_objects as go\n",
        "\n",
        "import numpy as np\n",
        "\n",
        "# Generate curve data\n",
        "t = np.linspace(-1, 1, 100)\n",
        "x = t + t ** 2\n",
        "y = t - t ** 2\n",
        "xm = np.min(x) - 1.5\n",
        "xM = np.max(x) + 1.5\n",
        "ym = np.min(y) - 1.5\n",
        "yM = np.max(y) + 1.5\n",
        "N = 50\n",
        "s = np.linspace(-1, 1, N)\n",
        "xx = s + s ** 2\n",
        "yy = s - s ** 2\n",
        "\n",
        "\n",
        "# Create figure\n",
        "fig = go.Figure(\n",
        "    data=[go.Scatter(x=x, y=y,\n",
        "                     mode=\"lines\",\n",
        "                     line=dict(width=2, color=\"blue\")),\n",
        "          go.Scatter(x=x, y=y,\n",
        "                     mode=\"lines\",\n",
        "                     line=dict(width=2, color=\"blue\"))],\n",
        "    layout=go.Layout(\n",
        "        xaxis=dict(range=[xm, xM], autorange=False, zeroline=False),\n",
        "        yaxis=dict(range=[ym, yM], autorange=False, zeroline=False),\n",
        "        title_text=\"Kinematic Generation of a Planar Curve\", hovermode=\"closest\",\n",
        "        updatemenus=[dict(type=\"buttons\",\n",
        "                          buttons=[dict(label=\"Play\",\n",
        "                                        method=\"animate\",\n",
        "                                        args=[None])])]),\n",
        "    frames=[go.Frame(\n",
        "        data=[go.Scatter(\n",
        "            x=[xx[k]],\n",
        "            y=[yy[k]],\n",
        "            mode=\"markers\",\n",
        "            marker=dict(color=\"red\", size=10))])\n",
        "\n",
        "        for k in range(N)]\n",
        ")\n",
        "\n",
        "fig.show()"
      ],
      "execution_count": null,
      "outputs": []
    },
    {
      "cell_type": "markdown",
      "metadata": {
        "collapsed": true,
        "id": "-ekbXGdGn3cP"
      },
      "source": [
        "# 使用例\n",
        "\n",
        "ミク関数を作ってみよう。ミク関数とは、グラフにプロットすると初音ミクの姿になるような関数である。→ https://nlab.itmedia.co.jp/nl/articles/1305/02/news063.html\n",
        "\n",
        "平面上の任意の曲線は、あたりまえだがペンを動かせば描くことができる。ペンを下ろした時刻を0とし、その後の時刻$t$でのペンの位置(座標)$(x,y)$を、時刻$t$の関数と考える。線がとぎれると面倒なので、ペンは最後まで上げないことにしよう(一筆書)。\n",
        "\n",
        "すると、どんな風にペンを動かすかはともかく、ペンの動きを時間の関数としてプロットできるはずだ。\n",
        "\n",
        "例えば、時刻0に原点を出発し、時刻1に座標(10,0)、時刻2に座標(10,20)、時刻3に座標(0,20)、そして時刻4で(0,0)に戻ってくれば、10x20の長方形を描ける。この時のペンのx座標とy座標の関数は次のように描ける。"
      ]
    },
    {
      "cell_type": "code",
      "metadata": {
        "scrolled": true,
        "id": "STbeL6nfn3cP"
      },
      "source": [
        "import numpy as np\n",
        "from matplotlib import pyplot as plt\n",
        "\n",
        "points=np.array([[0,0,0],[1,10,0],[2,10,20],[3,0,20],[4,0,0]])\n",
        "\n",
        "plt.plot(points[:,0],points[:,1], \"-o\", label=\"x\")\n",
        "plt.plot(points[:,0],points[:,2], \"-o\", label=\"y\")\n",
        "plt.legend()\n",
        "plt.show()"
      ],
      "execution_count": null,
      "outputs": []
    },
    {
      "cell_type": "markdown",
      "metadata": {
        "id": "a7s7BJzin3cS"
      },
      "source": [
        "x座標とy座標を対応させてプロットするとたしかに長方形になる。"
      ]
    },
    {
      "cell_type": "code",
      "metadata": {
        "id": "-Ic3xaign3cS"
      },
      "source": [
        "plt.plot(points[:,1], points[:,2])"
      ],
      "execution_count": null,
      "outputs": []
    },
    {
      "cell_type": "markdown",
      "metadata": {
        "id": "xxdgfzs2n3cU"
      },
      "source": [
        "これを、いかにも関数っぽく見せるために、わざとこの折れ線を何らかのスムーズな関数で近似して、時間の連続関数として表すのである。例えば3次多項式で近似してみることにする。\n",
        "\n",
        "numpyのpolyfitを使う。まずはx座標。"
      ]
    },
    {
      "cell_type": "code",
      "metadata": {
        "id": "JzwjzVAyn3cV"
      },
      "source": [
        "coeffx3 = np.polyfit(points[:,0], points[:,1], 3)\n",
        "coeffx3"
      ],
      "execution_count": null,
      "outputs": []
    },
    {
      "cell_type": "markdown",
      "metadata": {
        "id": "-trhTYQPn3cX"
      },
      "source": [
        "結果は3次多項式の係数のようだ。これらを係数にもつ3次関数の値はpoly1d関数で生成できる。"
      ]
    },
    {
      "cell_type": "code",
      "metadata": {
        "id": "XMnhS3F1n3cX"
      },
      "source": [
        "# tは0〜4を21に細分した点\n",
        "t = np.linspace(0,4,21)\n",
        "\n",
        "# poly1dはtそれぞれでの3次関数の値を計算する\n",
        "xx = np.poly1d(coeffx3)(t)\n",
        "print(t)\n",
        "print(xx)"
      ],
      "execution_count": null,
      "outputs": []
    },
    {
      "cell_type": "code",
      "metadata": {
        "id": "5jKOZyjen3ca"
      },
      "source": [
        "plt.plot(points[:,0],points[:,1], label=\"raw x\")\n",
        "plt.plot(t, xx, label=\"fit x (3)\")"
      ],
      "execution_count": null,
      "outputs": []
    },
    {
      "cell_type": "markdown",
      "metadata": {
        "id": "UGJ1JeZqn3cc"
      },
      "source": [
        "同じように、yもフィットする。"
      ]
    },
    {
      "cell_type": "code",
      "metadata": {
        "id": "yZDe7qV8n3cc"
      },
      "source": [
        "coeffy3 = np.polyfit(points[:,0], points[:,2], 3)\n",
        "# poly1dはtそれぞれでの3次関数の値を計算する\n",
        "yy = np.poly1d(coeffy3)(t)\n",
        "print(t)\n",
        "print(yy)\n",
        "plt.plot(points[:,0],points[:,2], label=\"raw y\")\n",
        "plt.plot(t, yy, label=\"fit y (3)\")"
      ],
      "execution_count": null,
      "outputs": []
    },
    {
      "cell_type": "markdown",
      "metadata": {
        "id": "FH3QYBApn3ce"
      },
      "source": [
        "フィットした曲線でプロットすると?"
      ]
    },
    {
      "cell_type": "code",
      "metadata": {
        "id": "4QHSPlxqn3cf"
      },
      "source": [
        "plt.plot(xx,yy)"
      ],
      "execution_count": null,
      "outputs": []
    },
    {
      "cell_type": "markdown",
      "metadata": {
        "id": "eeOtDmTTn3cg"
      },
      "source": [
        "長方形からはだいぶ外れてしまった。でも、中間点を増やし、フィットする関数の次数を上げてやれば、もう少し長方形らしくできる、はず。\n",
        "\n",
        "中間点を増やすのに、numpyのinterpolate関数`interp`を使う。\n",
        "https://numpy.org/doc/stable/reference/generated/numpy.interp.html"
      ]
    },
    {
      "cell_type": "code",
      "metadata": {
        "id": "AmE3LhSXn3ch"
      },
      "source": [
        "t = points[:,0] # 5点\n",
        "x = points[:,1]\n",
        "y = points[:,2]\n",
        "\n",
        "# もっと細かい目盛を準備する。\n",
        "tfine = np.linspace(0.0, 4.0, 100) #0〜4を100等分\n",
        "\n",
        "xfine = np.interp(tfine, t, x)\n",
        "yfine = np.interp(tfine, t, y)\n",
        "\n",
        "plt.plot(tfine, xfine, \"-o\", label=\"x\")\n",
        "plt.plot(tfine, yfine, \"-o\", label=\"y\")\n",
        "# plt.plot(points[:,0],points[:,2], \"-o\", label=\"y\")\n",
        "plt.legend()"
      ],
      "execution_count": null,
      "outputs": []
    },
    {
      "cell_type": "code",
      "metadata": {
        "id": "wRdT7HN9n3ci"
      },
      "source": [
        "# polyfitが多項式近似して係数を返す。\n",
        "coeffx = np.polyfit(tfine, xfine, 10)\n",
        "# poly1dはtそれぞれの位置での多項式の値を計算する\n",
        "xfit = np.poly1d(coeffx)(tfine)\n",
        "\n",
        "plt.plot(tfine, xfine, \"-o\", label=\"raw x\")\n",
        "plt.plot(tfine, xfit,  label=\"fit x (10)\")"
      ],
      "execution_count": null,
      "outputs": []
    },
    {
      "cell_type": "code",
      "metadata": {
        "id": "rWXeDc8Vn3ck"
      },
      "source": [
        "# polyfitが多項式近似して係数を返す。\n",
        "coeffy = np.polyfit(tfine, yfine, 12)\n",
        "# poly1dはtそれぞれの位置での多項式の値を計算する\n",
        "yfit = np.poly1d(coeffy)(tfine)\n",
        "\n",
        "plt.plot(tfine, yfine, \"-o\", label=\"raw y\")\n",
        "plt.plot(tfine, yfit, label=\"fit y (12)\")"
      ],
      "execution_count": null,
      "outputs": []
    },
    {
      "cell_type": "code",
      "metadata": {
        "id": "YvwGgjjXn3cm"
      },
      "source": [
        "plt.plot(xfine,yfine)\n",
        "plt.plot(xfit, yfit)"
      ],
      "execution_count": null,
      "outputs": []
    },
    {
      "cell_type": "markdown",
      "metadata": {
        "id": "cVnNWxyQn3cp"
      },
      "source": [
        "まだまだですね。でもこんな感じで、点の数をうんと増やしていけば、どんな複雑な曲線でも数式で表せます。多項式や三角関数でフィットする場合には、もとの図形も角がないほうがうまくフィットできます。"
      ]
    },
    {
      "cell_type": "markdown",
      "metadata": {
        "id": "P8Txfc53Kpzv"
      },
      "source": [
        "# 宿題\n",
        "\n",
        "![Asteroid from Wikipedia](https://upload.wikimedia.org/wikipedia/commons/thumb/0/03/Astroid.svg/240px-Astroid.svg.png)\n",
        "\n",
        "アストロイドと呼ばれる美しい曲線があります。星のような姿なのでそう呼ばれています。(私はずーーーっとアステロイドだと思っていました)\n",
        "\n",
        "関数は以下の通りです。\n",
        "\n",
        "$$x^{2\\over 3}+y^{2\\over 3}=r^{2\\over 3}$$\n",
        "第1,2象限だけなら、無理矢理このまま$y$を$x$の関数とみなしてプロットできます。負の数の2/3乗はエラーになってしまうので、絶対値にしています。"
      ]
    },
    {
      "cell_type": "code",
      "metadata": {
        "id": "L6N1SPQeKD2X"
      },
      "source": [
        "r = 1.0\n",
        "x = np.linspace(-1.0, 1.0, 100)\n",
        "y = (r - np.abs(x)**(2/3))**(3/2)\n",
        "plt.plot(x,y)"
      ],
      "execution_count": null,
      "outputs": []
    },
    {
      "cell_type": "markdown",
      "metadata": {
        "id": "rhlXtgMbMFGZ"
      },
      "source": [
        "1. 4つの象限を、ひとつづきにプロットすることはできないでしょうか。(長方形を近似した時のように、パラメータ表示するとうまくいきます。[Wikipedia:Astroid](https://en.wikipedia.org/wiki/Astroid)が参考になるでしょう。)\n",
        "\n",
        "2. 3次元のアストロイド関数も想像できます。おそらくこんな感じの式で表せる曲面は、三次元アストロイドになるのではないでしょうか。\n",
        "\n",
        "   $$|x|^{2\\over 3}+|y|^{2\\over 3}+|z|^{2\\over 3}=r^{2\\over 3}$$\n",
        "   ただし、この曲面を正確にプロットするのは難しいので、上で紹介した四次元プロットの方法を用いて、左辺の$|x|^{2\\over 3}+|y|^{2\\over 3}+|z|^{2\\over 3}$の値の三次元等高面として描いてみて下さい。\n",
        "\n",
        "3. [原子軌道](https://ja.wikipedia.org/wiki/水素原子におけるシュレーディンガー方程式の解#具体的な値)を4次元プロットできないでしょうか。 "
      ]
    },
    {
      "cell_type": "code",
      "metadata": {
        "id": "8Qiaf7mnP8Kl"
      },
      "source": [
        ""
      ],
      "execution_count": null,
      "outputs": []
    }
  ]
}
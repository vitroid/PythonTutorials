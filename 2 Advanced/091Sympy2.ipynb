{
 "cells": [
  {
   "cell_type": "markdown",
   "metadata": {},
   "source": [
    "Mathematicaでできることがどこまでできるかを確認する。\n",
    "\n",
    "ちなみに、Sympyのオンラインドキュメント(http://docs.sympy.org/latest/tutorial) の中の数式はその場で実行できるようだ。すごい。"
   ]
  },
  {
   "cell_type": "code",
   "execution_count": 12,
   "metadata": {},
   "outputs": [
    {
     "data": {
      "text/latex": [
       "$$\\frac{a}{b}$$"
      ],
      "text/plain": [
       "a\n",
       "─\n",
       "b"
      ]
     },
     "execution_count": 12,
     "metadata": {},
     "output_type": "execute_result"
    }
   ],
   "source": [
    "from sympy import *\n",
    "# 出力をかっこよくする。\n",
    "init_printing(use_latex='mathjax')\n",
    "\n",
    "a = Symbol('a')\n",
    "b = Symbol('b')\n",
    "a/b"
   ]
  },
  {
   "cell_type": "markdown",
   "metadata": {},
   "source": [
    "Symbolをいちいち宣言する必要がある。数値との混在が面倒かもしれない。基本的な数値演算はPythonそのものの機能にあるので、その先を検討する。\n",
    "\n",
    "## 行列\n"
   ]
  },
  {
   "cell_type": "code",
   "execution_count": 28,
   "metadata": {},
   "outputs": [
    {
     "data": {
      "text/latex": [
       "$$\\left[\\begin{matrix}0 & 1\\\\1 & 1\\end{matrix}\\right]$$"
      ],
      "text/plain": [
       "⎡0  1⎤\n",
       "⎢    ⎥\n",
       "⎣1  1⎦"
      ]
     },
     "execution_count": 28,
     "metadata": {},
     "output_type": "execute_result"
    }
   ],
   "source": [
    "M = Matrix([[0, 1], [1, 1]])\n",
    "M"
   ]
  },
  {
   "cell_type": "code",
   "execution_count": 29,
   "metadata": {},
   "outputs": [
    {
     "data": {
      "text/latex": [
       "$$\\left[\\begin{matrix}-1 & 1\\\\1 & 0\\end{matrix}\\right]$$"
      ],
      "text/plain": [
       "⎡-1  1⎤\n",
       "⎢     ⎥\n",
       "⎣1   0⎦"
      ]
     },
     "execution_count": 29,
     "metadata": {},
     "output_type": "execute_result"
    }
   ],
   "source": [
    "M**-1"
   ]
  },
  {
   "cell_type": "code",
   "execution_count": 30,
   "metadata": {},
   "outputs": [
    {
     "data": {
      "text/latex": [
       "$$\\left[\\begin{matrix}1 & 2\\\\2 & 3\\end{matrix}\\right]$$"
      ],
      "text/plain": [
       "⎡1  2⎤\n",
       "⎢    ⎥\n",
       "⎣2  3⎦"
      ]
     },
     "execution_count": 30,
     "metadata": {},
     "output_type": "execute_result"
    }
   ],
   "source": [
    "M**3"
   ]
  },
  {
   "cell_type": "code",
   "execution_count": 31,
   "metadata": {},
   "outputs": [
    {
     "data": {
      "text/latex": [
       "$$-1$$"
      ],
      "text/plain": [
       "-1"
      ]
     },
     "execution_count": 31,
     "metadata": {},
     "output_type": "execute_result"
    }
   ],
   "source": [
    "det(M)"
   ]
  },
  {
   "cell_type": "code",
   "execution_count": 32,
   "metadata": {
    "scrolled": true
   },
   "outputs": [
    {
     "data": {
      "text/latex": [
       "$$\\left[\\begin{matrix}- \\frac{\\left(\\frac{1}{2} + \\frac{\\sqrt{5}}{2}\\right)^{a}}{\\left(- \\frac{\\sqrt{5}}{2} - \\frac{1}{2}\\right) \\left(- \\frac{1}{- \\frac{\\sqrt{5}}{2} - \\frac{1}{2}} + \\frac{1}{- \\frac{1}{2} + \\frac{\\sqrt{5}}{2}}\\right)} + \\frac{\\left(- \\frac{\\sqrt{5}}{2} + \\frac{1}{2}\\right)^{a}}{\\left(- \\frac{1}{2} + \\frac{\\sqrt{5}}{2}\\right) \\left(- \\frac{1}{- \\frac{\\sqrt{5}}{2} - \\frac{1}{2}} + \\frac{1}{- \\frac{1}{2} + \\frac{\\sqrt{5}}{2}}\\right)} & - \\frac{\\left(\\frac{1}{2} + \\frac{\\sqrt{5}}{2}\\right)^{a}}{\\left(- \\frac{1}{2} + \\frac{\\sqrt{5}}{2}\\right) \\left(- \\frac{\\sqrt{5}}{2} - \\frac{1}{2}\\right) \\left(- \\frac{1}{- \\frac{\\sqrt{5}}{2} - \\frac{1}{2}} + \\frac{1}{- \\frac{1}{2} + \\frac{\\sqrt{5}}{2}}\\right)} + \\frac{\\left(- \\frac{\\sqrt{5}}{2} + \\frac{1}{2}\\right)^{a}}{\\left(- \\frac{1}{2} + \\frac{\\sqrt{5}}{2}\\right) \\left(- \\frac{\\sqrt{5}}{2} - \\frac{1}{2}\\right) \\left(- \\frac{1}{- \\frac{\\sqrt{5}}{2} - \\frac{1}{2}} + \\frac{1}{- \\frac{1}{2} + \\frac{\\sqrt{5}}{2}}\\right)}\\\\\\frac{\\left(\\frac{1}{2} + \\frac{\\sqrt{5}}{2}\\right)^{a}}{- \\frac{1}{- \\frac{\\sqrt{5}}{2} - \\frac{1}{2}} + \\frac{1}{- \\frac{1}{2} + \\frac{\\sqrt{5}}{2}}} - \\frac{\\left(- \\frac{\\sqrt{5}}{2} + \\frac{1}{2}\\right)^{a}}{- \\frac{1}{- \\frac{\\sqrt{5}}{2} - \\frac{1}{2}} + \\frac{1}{- \\frac{1}{2} + \\frac{\\sqrt{5}}{2}}} & \\frac{\\left(\\frac{1}{2} + \\frac{\\sqrt{5}}{2}\\right)^{a}}{\\left(- \\frac{1}{2} + \\frac{\\sqrt{5}}{2}\\right) \\left(- \\frac{1}{- \\frac{\\sqrt{5}}{2} - \\frac{1}{2}} + \\frac{1}{- \\frac{1}{2} + \\frac{\\sqrt{5}}{2}}\\right)} - \\frac{\\left(- \\frac{\\sqrt{5}}{2} + \\frac{1}{2}\\right)^{a}}{\\left(- \\frac{\\sqrt{5}}{2} - \\frac{1}{2}\\right) \\left(- \\frac{1}{- \\frac{\\sqrt{5}}{2} - \\frac{1}{2}} + \\frac{1}{- \\frac{1}{2} + \\frac{\\sqrt{5}}{2}}\\right)}\\end{matrix}\\right]$$"
      ],
      "text/plain": [
       "⎡                      a                                     a                \n",
       "⎢              ⎛1   √5⎞                            ⎛  √5   1⎞                 \n",
       "⎢              ⎜─ + ──⎟                            ⎜- ── + ─⎟                 \n",
       "⎢              ⎝2   2 ⎠                            ⎝  2    2⎠                 \n",
       "⎢- ────────────────────────────────── + ──────────────────────────────────  - \n",
       "⎢  ⎛  √5   1⎞ ⎛     1          1    ⎞   ⎛  1   √5⎞ ⎛     1          1    ⎞    \n",
       "⎢  ⎜- ── - ─⎟⋅⎜- ──────── + ────────⎟   ⎜- ─ + ──⎟⋅⎜- ──────── + ────────⎟    \n",
       "⎢  ⎝  2    2⎠ ⎜    √5   1     1   √5⎟   ⎝  2   2 ⎠ ⎜    √5   1     1   √5⎟    \n",
       "⎢             ⎜  - ── - ─   - ─ + ──⎟              ⎜  - ── - ─   - ─ + ──⎟    \n",
       "⎢             ⎝    2    2     2   2 ⎠              ⎝    2    2     2   2 ⎠    \n",
       "⎢                                                                             \n",
       "⎢                            a                        a                       \n",
       "⎢                    ⎛1   √5⎞               ⎛  √5   1⎞                        \n",
       "⎢                    ⎜─ + ──⎟               ⎜- ── + ─⎟                        \n",
       "⎢                    ⎝2   2 ⎠               ⎝  2    2⎠                        \n",
       "⎢              ───────────────────── - ─────────────────────                  \n",
       "⎢                   1          1            1          1                      \n",
       "⎢              - ──────── + ────────   - ──────── + ────────                  \n",
       "⎢                  √5   1     1   √5       √5   1     1   √5                  \n",
       "⎢                - ── - ─   - ─ + ──     - ── - ─   - ─ + ──                  \n",
       "⎣                  2    2     2   2        2    2     2   2                   \n",
       "\n",
       "                          a                                                a  \n",
       "                  ⎛1   √5⎞                                       ⎛  √5   1⎞   \n",
       "                  ⎜─ + ──⎟                                       ⎜- ── + ─⎟   \n",
       "                  ⎝2   2 ⎠                                       ⎝  2    2⎠   \n",
       "───────────────────────────────────────────── + ──────────────────────────────\n",
       "⎛  1   √5⎞ ⎛  √5   1⎞ ⎛     1          1    ⎞   ⎛  1   √5⎞ ⎛  √5   1⎞ ⎛     1 \n",
       "⎜- ─ + ──⎟⋅⎜- ── - ─⎟⋅⎜- ──────── + ────────⎟   ⎜- ─ + ──⎟⋅⎜- ── - ─⎟⋅⎜- ─────\n",
       "⎝  2   2 ⎠ ⎝  2    2⎠ ⎜    √5   1     1   √5⎟   ⎝  2   2 ⎠ ⎝  2    2⎠ ⎜    √5 \n",
       "                      ⎜  - ── - ─   - ─ + ──⎟                         ⎜  - ── \n",
       "                      ⎝    2    2     2   2 ⎠                         ⎝    2  \n",
       "                                                                              \n",
       "                              a                                     a         \n",
       "                      ⎛1   √5⎞                            ⎛  √5   1⎞          \n",
       "                      ⎜─ + ──⎟                            ⎜- ── + ─⎟          \n",
       "                      ⎝2   2 ⎠                            ⎝  2    2⎠          \n",
       "          ────────────────────────────────── - ───────────────────────────────\n",
       "          ⎛  1   √5⎞ ⎛     1          1    ⎞   ⎛  √5   1⎞ ⎛     1          1  \n",
       "          ⎜- ─ + ──⎟⋅⎜- ──────── + ────────⎟   ⎜- ── - ─⎟⋅⎜- ──────── + ──────\n",
       "          ⎝  2   2 ⎠ ⎜    √5   1     1   √5⎟   ⎝  2    2⎠ ⎜    √5   1     1   \n",
       "                     ⎜  - ── - ─   - ─ + ──⎟              ⎜  - ── - ─   - ─ + \n",
       "                     ⎝    2    2     2   2 ⎠              ⎝    2    2     2   \n",
       "\n",
       "               ⎤\n",
       "               ⎥\n",
       "               ⎥\n",
       "               ⎥\n",
       "───────────────⎥\n",
       "         1    ⎞⎥\n",
       "─── + ────────⎟⎥\n",
       "  1     1   √5⎟⎥\n",
       "- ─   - ─ + ──⎟⎥\n",
       "  2     2   2 ⎠⎥\n",
       "               ⎥\n",
       "               ⎥\n",
       "               ⎥\n",
       "               ⎥\n",
       "               ⎥\n",
       "───            ⎥\n",
       "  ⎞            ⎥\n",
       "──⎟            ⎥\n",
       "√5⎟            ⎥\n",
       "──⎟            ⎥\n",
       "2 ⎠            ⎦"
      ]
     },
     "execution_count": 32,
     "metadata": {},
     "output_type": "execute_result"
    }
   ],
   "source": [
    "M**a"
   ]
  },
  {
   "cell_type": "code",
   "execution_count": 37,
   "metadata": {
    "scrolled": true
   },
   "outputs": [
    {
     "data": {
      "text/latex": [
       "$$\\left[\\begin{matrix}\\frac{2^{- a}}{10} \\sqrt{5} \\left(\\left(-1 + \\sqrt{5}\\right) \\left(1 + \\sqrt{5}\\right)^{a} + \\left(1 + \\sqrt{5}\\right) \\left(- \\sqrt{5} + 1\\right)^{a}\\right) & \\frac{2^{- a}}{5} \\sqrt{5} \\left(\\left(1 + \\sqrt{5}\\right)^{a} - \\left(- \\sqrt{5} + 1\\right)^{a}\\right)\\\\\\frac{2^{- a}}{5} \\sqrt{5} \\left(\\left(1 + \\sqrt{5}\\right)^{a} - \\left(- \\sqrt{5} + 1\\right)^{a}\\right) & \\frac{2^{- a}}{10} \\sqrt{5} \\left(\\left(1 + \\sqrt{5}\\right)^{a + 1} - \\left(- \\sqrt{5} + 1\\right)^{a + 1}\\right)\\end{matrix}\\right]$$"
      ],
      "text/plain": [
       "⎡ -a    ⎛                  a                     a⎞       -a    ⎛        a    \n",
       "⎢2  ⋅√5⋅⎝(-1 + √5)⋅(1 + √5)  + (1 + √5)⋅(-√5 + 1) ⎠      2  ⋅√5⋅⎝(1 + √5)  - (\n",
       "⎢──────────────────────────────────────────────────      ─────────────────────\n",
       "⎢                        10                                             5     \n",
       "⎢                                                                             \n",
       "⎢          -a    ⎛        a            a⎞             -a    ⎛        a + 1    \n",
       "⎢         2  ⋅√5⋅⎝(1 + √5)  - (-√5 + 1) ⎠            2  ⋅√5⋅⎝(1 + √5)      - (\n",
       "⎢         ───────────────────────────────            ─────────────────────────\n",
       "⎣                        5                                              10    \n",
       "\n",
       "        a⎞    ⎤\n",
       "-√5 + 1) ⎠    ⎥\n",
       "──────────    ⎥\n",
       "              ⎥\n",
       "              ⎥\n",
       "        a + 1⎞⎥\n",
       "-√5 + 1)     ⎠⎥\n",
       "──────────────⎥\n",
       "              ⎦"
      ]
     },
     "execution_count": 37,
     "metadata": {},
     "output_type": "execute_result"
    }
   ],
   "source": [
    "o = Symbol('o')\n",
    "simplify(M**a)"
   ]
  },
  {
   "cell_type": "code",
   "execution_count": 44,
   "metadata": {
    "scrolled": true
   },
   "outputs": [
    {
     "data": {
      "text/latex": [
       "$$\\left[\\begin{matrix}\\frac{\\left(- \\frac{\\sqrt{5}}{2} + \\frac{1}{2}\\right)^{10}}{\\left(- \\frac{1}{2} + \\frac{\\sqrt{5}}{2}\\right) \\left(- \\frac{1}{- \\frac{\\sqrt{5}}{2} - \\frac{1}{2}} + \\frac{1}{- \\frac{1}{2} + \\frac{\\sqrt{5}}{2}}\\right)} - \\frac{\\left(\\frac{1}{2} + \\frac{\\sqrt{5}}{2}\\right)^{10}}{\\left(- \\frac{\\sqrt{5}}{2} - \\frac{1}{2}\\right) \\left(- \\frac{1}{- \\frac{\\sqrt{5}}{2} - \\frac{1}{2}} + \\frac{1}{- \\frac{1}{2} + \\frac{\\sqrt{5}}{2}}\\right)} & \\frac{\\left(- \\frac{\\sqrt{5}}{2} + \\frac{1}{2}\\right)^{10}}{\\left(- \\frac{1}{2} + \\frac{\\sqrt{5}}{2}\\right) \\left(- \\frac{\\sqrt{5}}{2} - \\frac{1}{2}\\right) \\left(- \\frac{1}{- \\frac{\\sqrt{5}}{2} - \\frac{1}{2}} + \\frac{1}{- \\frac{1}{2} + \\frac{\\sqrt{5}}{2}}\\right)} - \\frac{\\left(\\frac{1}{2} + \\frac{\\sqrt{5}}{2}\\right)^{10}}{\\left(- \\frac{1}{2} + \\frac{\\sqrt{5}}{2}\\right) \\left(- \\frac{\\sqrt{5}}{2} - \\frac{1}{2}\\right) \\left(- \\frac{1}{- \\frac{\\sqrt{5}}{2} - \\frac{1}{2}} + \\frac{1}{- \\frac{1}{2} + \\frac{\\sqrt{5}}{2}}\\right)}\\\\- \\frac{\\left(- \\frac{\\sqrt{5}}{2} + \\frac{1}{2}\\right)^{10}}{- \\frac{1}{- \\frac{\\sqrt{5}}{2} - \\frac{1}{2}} + \\frac{1}{- \\frac{1}{2} + \\frac{\\sqrt{5}}{2}}} + \\frac{\\left(\\frac{1}{2} + \\frac{\\sqrt{5}}{2}\\right)^{10}}{- \\frac{1}{- \\frac{\\sqrt{5}}{2} - \\frac{1}{2}} + \\frac{1}{- \\frac{1}{2} + \\frac{\\sqrt{5}}{2}}} & - \\frac{\\left(- \\frac{\\sqrt{5}}{2} + \\frac{1}{2}\\right)^{10}}{\\left(- \\frac{\\sqrt{5}}{2} - \\frac{1}{2}\\right) \\left(- \\frac{1}{- \\frac{\\sqrt{5}}{2} - \\frac{1}{2}} + \\frac{1}{- \\frac{1}{2} + \\frac{\\sqrt{5}}{2}}\\right)} + \\frac{\\left(\\frac{1}{2} + \\frac{\\sqrt{5}}{2}\\right)^{10}}{\\left(- \\frac{1}{2} + \\frac{\\sqrt{5}}{2}\\right) \\left(- \\frac{1}{- \\frac{\\sqrt{5}}{2} - \\frac{1}{2}} + \\frac{1}{- \\frac{1}{2} + \\frac{\\sqrt{5}}{2}}\\right)}\\end{matrix}\\right]$$"
      ],
      "text/plain": [
       "⎡                     10                                  10                  \n",
       "⎢           ⎛  √5   1⎞                            ⎛1   √5⎞                    \n",
       "⎢           ⎜- ── + ─⎟                            ⎜─ + ──⎟                    \n",
       "⎢           ⎝  2    2⎠                            ⎝2   2 ⎠                    \n",
       "⎢────────────────────────────────── - ──────────────────────────────────  ────\n",
       "⎢⎛  1   √5⎞ ⎛     1          1    ⎞   ⎛  √5   1⎞ ⎛     1          1    ⎞  ⎛  1\n",
       "⎢⎜- ─ + ──⎟⋅⎜- ──────── + ────────⎟   ⎜- ── - ─⎟⋅⎜- ──────── + ────────⎟  ⎜- ─\n",
       "⎢⎝  2   2 ⎠ ⎜    √5   1     1   √5⎟   ⎝  2    2⎠ ⎜    √5   1     1   √5⎟  ⎝  2\n",
       "⎢           ⎜  - ── - ─   - ─ + ──⎟              ⎜  - ── - ─   - ─ + ──⎟      \n",
       "⎢           ⎝    2    2     2   2 ⎠              ⎝    2    2     2   2 ⎠      \n",
       "⎢                                                                             \n",
       "⎢                             10                     10                       \n",
       "⎢                   ⎛  √5   1⎞               ⎛1   √5⎞                         \n",
       "⎢                   ⎜- ── + ─⎟               ⎜─ + ──⎟                         \n",
       "⎢                   ⎝  2    2⎠               ⎝2   2 ⎠                         \n",
       "⎢            - ───────────────────── + ─────────────────────                  \n",
       "⎢                   1          1            1          1                      \n",
       "⎢              - ──────── + ────────   - ──────── + ────────                  \n",
       "⎢                  √5   1     1   √5       √5   1     1   √5                  \n",
       "⎢                - ── - ─   - ─ + ──     - ── - ─   - ─ + ──                  \n",
       "⎣                  2    2     2   2        2    2     2   2                   \n",
       "\n",
       "                       10                                             10      \n",
       "             ⎛  √5   1⎞                                       ⎛1   √5⎞        \n",
       "             ⎜- ── + ─⎟                                       ⎜─ + ──⎟        \n",
       "             ⎝  2    2⎠                                       ⎝2   2 ⎠        \n",
       "───────────────────────────────────────── - ──────────────────────────────────\n",
       "   √5⎞ ⎛  √5   1⎞ ⎛     1          1    ⎞   ⎛  1   √5⎞ ⎛  √5   1⎞ ⎛     1     \n",
       " + ──⎟⋅⎜- ── - ─⎟⋅⎜- ──────── + ────────⎟   ⎜- ─ + ──⎟⋅⎜- ── - ─⎟⋅⎜- ──────── \n",
       "   2 ⎠ ⎝  2    2⎠ ⎜    √5   1     1   √5⎟   ⎝  2   2 ⎠ ⎝  2    2⎠ ⎜    √5   1 \n",
       "                  ⎜  - ── - ─   - ─ + ──⎟                         ⎜  - ── - ─ \n",
       "                  ⎝    2    2     2   2 ⎠                         ⎝    2    2 \n",
       "                                                                              \n",
       "                             10                                  10           \n",
       "                   ⎛  √5   1⎞                            ⎛1   √5⎞             \n",
       "                   ⎜- ── + ─⎟                            ⎜─ + ──⎟             \n",
       "                   ⎝  2    2⎠                            ⎝2   2 ⎠             \n",
       "      - ────────────────────────────────── + ─────────────────────────────────\n",
       "        ⎛  √5   1⎞ ⎛     1          1    ⎞   ⎛  1   √5⎞ ⎛     1          1    \n",
       "        ⎜- ── - ─⎟⋅⎜- ──────── + ────────⎟   ⎜- ─ + ──⎟⋅⎜- ──────── + ────────\n",
       "        ⎝  2    2⎠ ⎜    √5   1     1   √5⎟   ⎝  2   2 ⎠ ⎜    √5   1     1   √5\n",
       "                   ⎜  - ── - ─   - ─ + ──⎟              ⎜  - ── - ─   - ─ + ──\n",
       "                   ⎝    2    2     2   2 ⎠              ⎝    2    2     2   2 \n",
       "\n",
       "           ⎤\n",
       "           ⎥\n",
       "           ⎥\n",
       "           ⎥\n",
       "───────────⎥\n",
       "     1    ⎞⎥\n",
       "+ ────────⎟⎥\n",
       "    1   √5⎟⎥\n",
       "  - ─ + ──⎟⎥\n",
       "    2   2 ⎠⎥\n",
       "           ⎥\n",
       "           ⎥\n",
       "           ⎥\n",
       "           ⎥\n",
       "           ⎥\n",
       "─          ⎥\n",
       "⎞          ⎥\n",
       "⎟          ⎥\n",
       "⎟          ⎥\n",
       "⎟          ⎥\n",
       "⎠          ⎦"
      ]
     },
     "execution_count": 44,
     "metadata": {},
     "output_type": "execute_result"
    }
   ],
   "source": [
    "(M**a).subs(a,10)"
   ]
  },
  {
   "cell_type": "code",
   "execution_count": 45,
   "metadata": {
    "scrolled": false
   },
   "outputs": [
    {
     "data": {
      "text/latex": [
       "$$\\left[\\begin{matrix}34 & 55\\\\55 & 89\\end{matrix}\\right]$$"
      ],
      "text/plain": [
       "⎡34  55⎤\n",
       "⎢      ⎥\n",
       "⎣55  89⎦"
      ]
     },
     "execution_count": 45,
     "metadata": {},
     "output_type": "execute_result"
    }
   ],
   "source": [
    "simplify((M**a).subs(a,10))"
   ]
  },
  {
   "cell_type": "markdown",
   "metadata": {},
   "source": [
    "simplifyは相当強力である。"
   ]
  },
  {
   "cell_type": "markdown",
   "metadata": {},
   "source": [
    "## 求解"
   ]
  },
  {
   "cell_type": "code",
   "execution_count": 49,
   "metadata": {},
   "outputs": [
    {
     "data": {
      "text/latex": [
       "$$\\left \\{ x : \\frac{7}{2}, \\quad y : - \\frac{3}{2}, \\quad z : -5\\right \\}$$"
      ],
      "text/plain": [
       "{x: 7/2, y: -3/2, z: -5}"
      ]
     },
     "execution_count": 49,
     "metadata": {},
     "output_type": "execute_result"
    }
   ],
   "source": [
    "x,y,z = symbols('x y z')\n",
    "solve( (x + y - 2, x - 3*y + z - 3, x - y + z - 0 ), ( x, y ,z ))"
   ]
  },
  {
   "cell_type": "markdown",
   "metadata": {},
   "source": [
    "微分方程式はMathematicaではDSolveを使うが、sympyではdsolve。"
   ]
  },
  {
   "cell_type": "code",
   "execution_count": 57,
   "metadata": {},
   "outputs": [
    {
     "data": {
      "text/latex": [
       "$$y{\\left (x \\right )} = \\frac{1}{a} \\left(e^{a \\left(C_{1} + x\\right)} + 1\\right)$$"
      ],
      "text/plain": [
       "        a⋅(C₁ + x)    \n",
       "       ℯ           + 1\n",
       "y(x) = ───────────────\n",
       "              a       "
      ]
     },
     "execution_count": 57,
     "metadata": {},
     "output_type": "execute_result"
    }
   ],
   "source": [
    "dsolve(y(x).diff(x) - a*y(x)+1)"
   ]
  },
  {
   "cell_type": "markdown",
   "metadata": {},
   "source": [
    "拘束条件を入れるには?"
   ]
  },
  {
   "cell_type": "code",
   "execution_count": 60,
   "metadata": {},
   "outputs": [
    {
     "data": {
      "text/latex": [
       "$$y{\\left (x \\right )} = \\frac{1}{a} \\left(e^{a \\left(C_{1} + x\\right)} + 1\\right)$$"
      ],
      "text/plain": [
       "        a⋅(C₁ + x)    \n",
       "       ℯ           + 1\n",
       "y(x) = ───────────────\n",
       "              a       "
      ]
     },
     "execution_count": 60,
     "metadata": {},
     "output_type": "execute_result"
    }
   ],
   "source": [
    "dsolve(y(x).diff(x) - a*y(x)+1, ics={y(0):0})"
   ]
  },
  {
   "cell_type": "markdown",
   "metadata": {},
   "source": [
    "## vdW方程式をVirial展開"
   ]
  },
  {
   "cell_type": "code",
   "execution_count": 70,
   "metadata": {},
   "outputs": [
    {
     "data": {
      "text/latex": [
       "$$\\left [ \\frac{1}{V^{2} \\left(V - b\\right)} \\left(N T V^{2} k - V a + a b\\right)\\right ]$$"
      ],
      "text/plain": [
       "⎡     2              ⎤\n",
       "⎢N⋅T⋅V ⋅k - V⋅a + a⋅b⎥\n",
       "⎢────────────────────⎥\n",
       "⎢      2             ⎥\n",
       "⎣     V ⋅(V - b)     ⎦"
      ]
     },
     "execution_count": 70,
     "metadata": {},
     "output_type": "execute_result"
    }
   ],
   "source": [
    "N, V, p, T, k, rho = symbols('N V p T k rho')\n",
    "# rho = N/V\n",
    "x = solve((p+a/V**2)*(V-b)-N*k*T, p)\n",
    "x"
   ]
  },
  {
   "cell_type": "code",
   "execution_count": 71,
   "metadata": {},
   "outputs": [
    {
     "data": {
      "text/latex": [
       "$$\\frac{N T V^{2} k - V a + a b}{N T V k \\left(V - b\\right)}$$"
      ],
      "text/plain": [
       "     2              \n",
       "N⋅T⋅V ⋅k - V⋅a + a⋅b\n",
       "────────────────────\n",
       "  N⋅T⋅V⋅k⋅(V - b)   "
      ]
     },
     "execution_count": 71,
     "metadata": {},
     "output_type": "execute_result"
    }
   ],
   "source": [
    "x[0]*V/(N*k*T)"
   ]
  },
  {
   "cell_type": "code",
   "execution_count": 72,
   "metadata": {},
   "outputs": [
    {
     "data": {
      "text/latex": [
       "$$\\frac{T V^{3} k \\rho - V a + a b}{T V^{2} k \\rho \\left(V - b\\right)}$$"
      ],
      "text/plain": [
       "   3                \n",
       "T⋅V ⋅k⋅ρ - V⋅a + a⋅b\n",
       "────────────────────\n",
       "     2              \n",
       "  T⋅V ⋅k⋅ρ⋅(V - b)  "
      ]
     },
     "execution_count": 72,
     "metadata": {},
     "output_type": "execute_result"
    }
   ],
   "source": [
    "(x[0]*V/(N*k*T)).subs(N,rho*V)"
   ]
  },
  {
   "cell_type": "code",
   "execution_count": 23,
   "metadata": {},
   "outputs": [
    {
     "ename": "NameError",
     "evalue": "name 'series' is not defined",
     "output_type": "error",
     "traceback": [
      "\u001b[0;31m---------------------------------------------------------------------------\u001b[0m",
      "\u001b[0;31mNameError\u001b[0m                                 Traceback (most recent call last)",
      "\u001b[0;32m<ipython-input-23-33adbdd33bad>\u001b[0m in \u001b[0;36m<module>\u001b[0;34m()\u001b[0m\n\u001b[0;32m----> 1\u001b[0;31m \u001b[0mseries\u001b[0m\u001b[0;34m(\u001b[0m\u001b[0;34m(\u001b[0m\u001b[0mx\u001b[0m\u001b[0;34m[\u001b[0m\u001b[0;36m0\u001b[0m\u001b[0;34m]\u001b[0m\u001b[0;34m*\u001b[0m\u001b[0mV\u001b[0m\u001b[0;34m/\u001b[0m\u001b[0;34m(\u001b[0m\u001b[0mN\u001b[0m\u001b[0;34m*\u001b[0m\u001b[0mk\u001b[0m\u001b[0;34m*\u001b[0m\u001b[0mT\u001b[0m\u001b[0;34m)\u001b[0m\u001b[0;34m)\u001b[0m\u001b[0;34m.\u001b[0m\u001b[0msubs\u001b[0m\u001b[0;34m(\u001b[0m\u001b[0mN\u001b[0m\u001b[0;34m,\u001b[0m\u001b[0mrho\u001b[0m\u001b[0;34m*\u001b[0m\u001b[0mV\u001b[0m\u001b[0;34m)\u001b[0m\u001b[0;34m,\u001b[0m \u001b[0mb\u001b[0m\u001b[0;34m/\u001b[0m\u001b[0mV\u001b[0m\u001b[0;34m)\u001b[0m\u001b[0;34m\u001b[0m\u001b[0m\n\u001b[0m",
      "\u001b[0;31mNameError\u001b[0m: name 'series' is not defined"
     ]
    }
   ],
   "source": [
    "series((x[0]*V/(N*k*T)).subs(N,rho*V), b/V)"
   ]
  },
  {
   "cell_type": "markdown",
   "metadata": {},
   "source": [
    "意外に幾何級数展開がわからない。"
   ]
  },
  {
   "cell_type": "markdown",
   "metadata": {},
   "source": [
    "## 除数の列挙"
   ]
  },
  {
   "cell_type": "code",
   "execution_count": 1,
   "metadata": {},
   "outputs": [
    {
     "data": {
      "text/plain": [
       "[1, 2, 4, 7, 14, 28]"
      ]
     },
     "execution_count": 1,
     "metadata": {},
     "output_type": "execute_result"
    }
   ],
   "source": [
    "from sympy import *\n",
    "divisors(28)"
   ]
  },
  {
   "cell_type": "markdown",
   "metadata": {},
   "source": [
    "完全数かどうかのチェック。"
   ]
  },
  {
   "cell_type": "code",
   "execution_count": 2,
   "metadata": {},
   "outputs": [
    {
     "data": {
      "text/plain": [
       "True"
      ]
     },
     "execution_count": 2,
     "metadata": {},
     "output_type": "execute_result"
    }
   ],
   "source": [
    "sum(divisors(28))-28 == 28"
   ]
  },
  {
   "cell_type": "code",
   "execution_count": 4,
   "metadata": {},
   "outputs": [],
   "source": []
  },
  {
   "cell_type": "code",
   "execution_count": 5,
   "metadata": {},
   "outputs": [
    {
     "data": {
      "text/plain": [
       "{1111111111111111111111111111111111111111111111115555555555555555555555555555555555555555555551155111155511115551111155155555555555155111115511551555155155515555155551155555555511551555555115515551551555155551555515155555551515511155551155111155511115555515555155155555155155155555511551555555155155555155551555155515551551555555115515555551555155551555515555151555515515555551155155555515551551111155155555155555155111115511555555555555555555555555555555555555555555555111111111111111111111111111111111111111111111111: 1}"
      ]
     },
     "execution_count": 5,
     "metadata": {},
     "output_type": "execute_result"
    }
   ],
   "source": [
    "from sympy import *\n",
    "\n",
    "x = int(\"\".join([\n",
    "\"11111111111111111111111111111111111111111111111\",\n",
    "\"15555555555555555555555555555555555555555555551\",\n",
    "\"15511115551111555111115515555555555515511111551\",\n",
    "\"15515551551555155551555511555555555115515555551\",\n",
    "\"15515551551555155551555515155555551515511155551\",\n",
    "\"15511115551111555551555515515555515515515555551\",\n",
    "\"15515555551551555551555515551555155515515555551\",\n",
    "\"15515555551555155551555515555151555515515555551\",\n",
    "\"15515555551555155111115515555515555515511111551\",\n",
    "\"15555555555555555555555555555555555555555555551\",\n",
    "\"11111111111111111111111111111111111111111111111\",]))\n",
    "\n",
    "factorint(x)"
   ]
  },
  {
   "cell_type": "code",
   "execution_count": null,
   "metadata": {},
   "outputs": [],
   "source": []
  }
 ],
 "metadata": {
  "kernelspec": {
   "display_name": "Python 3",
   "language": "python",
   "name": "python3"
  },
  "language_info": {
   "codemirror_mode": {
    "name": "ipython",
    "version": 3
   },
   "file_extension": ".py",
   "mimetype": "text/x-python",
   "name": "python",
   "nbconvert_exporter": "python",
   "pygments_lexer": "ipython3",
   "version": "3.6.5"
  }
 },
 "nbformat": 4,
 "nbformat_minor": 2
}

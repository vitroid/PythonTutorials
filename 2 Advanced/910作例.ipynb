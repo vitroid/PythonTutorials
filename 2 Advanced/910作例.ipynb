{
 "cells": [
  {
   "cell_type": "markdown",
   "metadata": {},
   "source": [
    "# 差分による円の描画法と円周率の計算\n",
    "加算と減算だけで円を描くアルゴリズムの実装。\n",
    "\n",
    "ピクセル化された円の各点の原点からの距離の二乗と、真の円の半径の二乗の差を差分法で計算し、それが拡大しないように頂点の移動を制御する。"
   ]
  },
  {
   "cell_type": "code",
   "execution_count": 64,
   "metadata": {},
   "outputs": [
    {
     "name": "stdout",
     "output_type": "stream",
     "text": [
      "(9,0) d=-16 id=0\n"
     ]
    },
    {
     "data": {
      "text/plain": [
       "[<matplotlib.lines.Line2D at 0x112841ef0>]"
      ]
     },
     "execution_count": 64,
     "metadata": {},
     "output_type": "execute_result"
    },
    {
     "data": {
      "image/png": "[encoded data removed]",
      "text/plain": [
       "<matplotlib.figure.Figure at 0x11217ecf8>"
      ]
     },
     "metadata": {},
     "output_type": "display_data"
    }
   ],
   "source": [
    "%matplotlib inline\n",
    "import pylab\n",
    "\n",
    "r = 9.5\n",
    "ix = 9\n",
    "iy = 0\n",
    "x = ix + 0.5\n",
    "y = iy + 0.5\n",
    "d = -ix*2 + 2\n",
    "\n",
    "print(\"({0},{1}) d={2} id={3}\".format(ix,iy,d,id))\n",
    "xs = [x,]\n",
    "ys = [y,]\n",
    "\n",
    "while x > 0:\n",
    "    if d < 0:\n",
    "        iy += 1\n",
    "        y  += 1\n",
    "        d += (iy*4+2)\n",
    "    else:\n",
    "        ix -= 1\n",
    "        x  -= 1\n",
    "        d -= (ix*4+2)\n",
    "    \n",
    "    xs.append(x)\n",
    "    ys.append(y)\n",
    "\n",
    "pylab.plot(xs,ys)"
   ]
  },
  {
   "cell_type": "code",
   "execution_count": null,
   "metadata": {
    "collapsed": true
   },
   "outputs": [],
   "source": []
  },
  {
   "cell_type": "code",
   "execution_count": 94,
   "metadata": {},
   "outputs": [
    {
     "name": "stdout",
     "output_type": "stream",
     "text": [
      "314159300\n"
     ]
    },
    {
     "data": {
      "image/png": "[encoded data removed]",
      "text/plain": [
       "<matplotlib.figure.Figure at 0x11387c080>"
      ]
     },
     "metadata": {},
     "output_type": "display_data"
    }
   ],
   "source": [
    "%matplotlib inline\n",
    "import pylab\n",
    "\n",
    "r = 20000\n",
    "ix = r\n",
    "iy = 0\n",
    "xs = []\n",
    "ys = []\n",
    "d = ix//2\n",
    "area = 0\n",
    "\n",
    "while ix > 0:\n",
    "    xs.append(ix)\n",
    "    ys.append(iy)\n",
    "\n",
    "    if  d > 0:\n",
    "        iy += 1\n",
    "        d -= iy\n",
    "        area += ix\n",
    "    else:\n",
    "        ix -= 1\n",
    "        d += ix    \n",
    "\n",
    "pylab.plot(xs,ys)\n",
    "print(area)"
   ]
  },
  {
   "cell_type": "code",
   "execution_count": null,
   "metadata": {
    "collapsed": true
   },
   "outputs": [],
   "source": []
  }
 ],
 "metadata": {
  "kernelspec": {
   "display_name": "Python 3",
   "language": "python",
   "name": "python3"
  },
  "language_info": {
   "codemirror_mode": {
    "name": "ipython",
    "version": 3
   },
   "file_extension": ".py",
   "mimetype": "text/x-python",
   "name": "python",
   "nbconvert_exporter": "python",
   "pygments_lexer": "ipython3",
   "version": "3.6.5"
  }
 },
 "nbformat": 4,
 "nbformat_minor": 1
}

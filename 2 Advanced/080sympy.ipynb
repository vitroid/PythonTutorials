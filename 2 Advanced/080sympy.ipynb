{
  "nbformat": 4,
  "nbformat_minor": 0,
  "metadata": {
    "kernelspec": {
      "display_name": "Python 3",
      "language": "python",
      "name": "python3"
    },
    "language_info": {
      "codemirror_mode": {
        "name": "ipython",
        "version": 3
      },
      "file_extension": ".py",
      "mimetype": "text/x-python",
      "name": "python",
      "nbconvert_exporter": "python",
      "pygments_lexer": "ipython3",
      "version": "3.6.5"
    },
    "colab": {
      "name": "080sympy.ipynb",
      "provenance": [],
      "toc_visible": true,
      "include_colab_link": true
    }
  },
  "cells": [
    {
      "cell_type": "markdown",
      "metadata": {
        "id": "view-in-github",
        "colab_type": "text"
      },
      "source": [
        "<a href=\"https://colab.research.google.com/github/vitroid/PythonTutorials/blob/master/2%20Advanced/080sympy.ipynb\" target=\"_parent\"><img src=\"https://colab.research.google.com/assets/colab-badge.svg\" alt=\"Open In Colab\"/></a>"
      ]
    },
    {
      "cell_type": "markdown",
      "metadata": {
        "id": "ntYviwKCC5ZF"
      },
      "source": [
        "# Sympyとは\n",
        "Symbolic Pythonの略です。記号演算ができます。つまり、数値計算ではなく、式そのものを操作できるということです。http://www.sympy.org\n",
        "\n",
        "記号演算のための言語として、古くはREDUCE、最近ではMathematicaがありました。前者はいまは無料ですが、後者はずいぶん高いソフトウェアで、学生のころには大学のシステムでよく使わせてもらった、あこがれの言語でした。今はPythonで記号演算ができます。\n",
        "\n",
        "Sympy stands for Symbolic Python. It can handle the symbol operations. In other words, you can manipulate the expression itself, not numerical calculation. http://www.sympy.org\n",
        "\n",
        "When I was a student, REDUCE was famous for symboric operation.  Mathematica later appeared and swept the market.  Now we can do symbolic operations in Python for free.\n",
        "\n"
      ]
    },
    {
      "cell_type": "markdown",
      "source": [
        "## 例1: 式の展開 Expansion of formulae\n",
        "\n",
        "Pythonでは、変数には数値やリストや、その他いろんなデータを入れることができます。Sympyを使うと、変数にシンボル(記号)を入れることができるようになります。\n",
        "\n",
        "In Python, variables can contain numbers, lists, and many other types of data, and Sympy allows you to put a 'symbol' in a variable."
      ],
      "metadata": {
        "id": "iA_HtAE5TTrl"
      }
    },
    {
      "cell_type": "code",
      "metadata": {
        "id": "UzVM6QYhC5ZJ"
      },
      "source": [
        "from sympy import *\n",
        "a = Symbol('a')\n",
        "a**5"
      ],
      "execution_count": null,
      "outputs": []
    },
    {
      "cell_type": "code",
      "metadata": {
        "scrolled": false,
        "id": "c68q0AolC5ZY"
      },
      "source": [
        "b = Symbol('b')\n",
        "c = Symbol('c')\n",
        "(a+b+c)**10"
      ],
      "execution_count": null,
      "outputs": []
    },
    {
      "cell_type": "markdown",
      "source": [
        "Sympyでつくった式のうしろに`.expand()`をつけると、式が展開されます。\n",
        "\n",
        "If you put `.expand()` behind an expression created with Sympy, the expression will be expanded.\n"
      ],
      "metadata": {
        "id": "vMOPlmTZUeuM"
      }
    },
    {
      "cell_type": "code",
      "metadata": {
        "id": "HT709JXGC5Zu"
      },
      "source": [
        "((a+b+c)**10).expand()"
      ],
      "execution_count": null,
      "outputs": []
    },
    {
      "cell_type": "markdown",
      "metadata": {
        "id": "n4-yo-zgC5Zm"
      },
      "source": [
        "a,b,c,と一個ずつ定義するのが面倒くさい場合は、お手軽モジュール`sympy.abc`でa〜zを準備しましょう。\n",
        "\n",
        "For a lazy enough person who do not want to define symbols one by one, use `sympy.abc` module to define typical symbols instantaneously."
      ]
    },
    {
      "cell_type": "code",
      "metadata": {
        "id": "iqrXy3GKC5Zn"
      },
      "source": [
        "from sympy.abc import *\n",
        "x**5"
      ],
      "execution_count": null,
      "outputs": []
    },
    {
      "cell_type": "markdown",
      "source": [
        "虚数単位は大文字の`I`です。円周率はそのまま`pi`です。"
      ],
      "metadata": {
        "id": "IY5OU-FqeV0h"
      }
    },
    {
      "cell_type": "code",
      "source": [
        "exp(I*pi)"
      ],
      "metadata": {
        "id": "m_HGLo-teRa1"
      },
      "execution_count": null,
      "outputs": []
    },
    {
      "cell_type": "markdown",
      "metadata": {
        "id": "dZFneYkXC5Z0"
      },
      "source": [
        "## 例2: 因数分解 Factorization\n",
        "\n",
        "直前の計算の結果は変数`_`に入っています。\n",
        "\n",
        "The last value in the last frame is automatically stored in the special variable `_`."
      ]
    },
    {
      "cell_type": "code",
      "source": [
        "((a+b+c)**10).expand()"
      ],
      "metadata": {
        "id": "kvZDwyghVA5K"
      },
      "execution_count": null,
      "outputs": []
    },
    {
      "cell_type": "code",
      "source": [
        "_"
      ],
      "metadata": {
        "id": "G_XdLyZaVPvu"
      },
      "execution_count": null,
      "outputs": []
    },
    {
      "cell_type": "markdown",
      "source": [
        "`factor()` factorizes."
      ],
      "metadata": {
        "id": "BLVXe6KmVZNb"
      }
    },
    {
      "cell_type": "code",
      "metadata": {
        "id": "yIfZ_IyQC5Z1"
      },
      "source": [
        "factor(_)   # same as _.factor()"
      ],
      "execution_count": null,
      "outputs": []
    },
    {
      "cell_type": "markdown",
      "metadata": {
        "id": "vVo_8IiCC5Z5"
      },
      "source": [
        "## 例3: 式の簡単化 Simplification"
      ]
    },
    {
      "cell_type": "code",
      "metadata": {
        "id": "uP4W5MHKC5Z5"
      },
      "source": [
        "x = Symbol('x')\n",
        "sin(x)**2 + cos(x)**2"
      ],
      "execution_count": null,
      "outputs": []
    },
    {
      "cell_type": "code",
      "metadata": {
        "scrolled": true,
        "id": "nEskj36CC5Z9"
      },
      "source": [
        "_.simplify()   # same as simplify(_)"
      ],
      "execution_count": null,
      "outputs": []
    },
    {
      "cell_type": "markdown",
      "metadata": {
        "id": "HfFyY9JWC5aB"
      },
      "source": [
        "## 例4: 偏微分 Differentiation\n",
        "\n",
        "同じことをするのに2つの書き方があります。\n",
        "\n",
        "There are (almost always) two ways to do something. One is `x.function(y)` and the other is `function(x,y)`"
      ]
    },
    {
      "cell_type": "code",
      "metadata": {
        "id": "wjevQWTNC5aB"
      },
      "source": [
        "((a+b+c)**10).diff(a)"
      ],
      "execution_count": null,
      "outputs": []
    },
    {
      "cell_type": "code",
      "metadata": {
        "id": "aCj040CKC5aE"
      },
      "source": [
        "diff((a+b+c)**10,a)"
      ],
      "execution_count": null,
      "outputs": []
    },
    {
      "cell_type": "markdown",
      "metadata": {
        "id": "ajjSD4FMC5aH"
      },
      "source": [
        "多階微分も楽勝です。\n",
        "\n",
        "Multiple differentiation is that easy."
      ]
    },
    {
      "cell_type": "code",
      "metadata": {
        "id": "6q4XwY6XC5aJ"
      },
      "source": [
        "((a+sin(b))**10).diff(a,5).diff(b,2).simplify()"
      ],
      "execution_count": null,
      "outputs": []
    },
    {
      "cell_type": "markdown",
      "metadata": {
        "id": "bMBH3-m-C5aM"
      },
      "source": [
        "## 例5: 積分 Integration\n",
        "次の例では、関数を`x`で定積分します。`oo`は∞をあらわす、sympy特有の記号です。式にでてくる$\\exp()$はmathライブラリの関数ではなく、記号演算用にsympyで再定義されたものです。\n",
        "\n",
        "In the following example, a function is definite integrated in `x`. The `oo` is a symbol specific to sympy that represents ∞.`exp()` in the example below is not a math library function but a redefined function for symbolic operation."
      ]
    },
    {
      "cell_type": "code",
      "metadata": {
        "id": "knaUdvRtC5aN"
      },
      "source": [
        "a = Symbol('a')\n",
        "exp(-a*x**2).integrate((x,-oo,0))"
      ],
      "execution_count": null,
      "outputs": []
    },
    {
      "cell_type": "markdown",
      "source": [
        "$a$がどういう変数かがわからないので、答が複雑になってしまっています。こういう場合は、$a$を定義する時に条件を与えておきます。\n",
        "\n",
        "It gives a complicated answer because it does not know what `a` is. You can provide some \"assumptions\" to get a proper answer."
      ],
      "metadata": {
        "id": "_Ap23geGXfKM"
      }
    },
    {
      "cell_type": "code",
      "source": [
        "a = Symbol('a', positive=True)\n",
        "exp(-a*x**2).integrate((x,-oo,0))"
      ],
      "metadata": {
        "id": "A51d6ANzXuBU"
      },
      "execution_count": null,
      "outputs": []
    },
    {
      "cell_type": "markdown",
      "source": [
        "`positive`以外にも、いくつかの仮定(assumption)を与えておくことで、答をさがす範囲をあらかじめしぼりこんでおくことができます。\n",
        "\n",
        "設定可能な仮定(assumption)は、次のように確認できます。"
      ],
      "metadata": {
        "id": "qqFcqJOBYMf1"
      }
    },
    {
      "cell_type": "code",
      "source": [
        "a.assumptions0"
      ],
      "metadata": {
        "id": "b8oFn9tNYz6K"
      },
      "execution_count": null,
      "outputs": []
    },
    {
      "cell_type": "markdown",
      "metadata": {
        "id": "qqzzBcnEC5aQ"
      },
      "source": [
        "### 不定積分 Indefinite integration\n",
        "\n",
        "`erf` is the Gaussian error function."
      ]
    },
    {
      "cell_type": "code",
      "metadata": {
        "id": "o3gXh6evC5aQ"
      },
      "source": [
        "integrate(exp(-x**2),x)"
      ],
      "execution_count": null,
      "outputs": []
    },
    {
      "cell_type": "markdown",
      "metadata": {
        "id": "a5k2oosNC5aT"
      },
      "source": [
        "## 例6: 関数定義 Definition of a symbolic function\n",
        "関数を定義できると便利ですよね。\n",
        "\n",
        "まずは、未定義の関数を作ります。(Symbolと同じく、すこし違和感のある書き方です)\n",
        "Here we prepare an undefined function. It just has a name `f`."
      ]
    },
    {
      "cell_type": "code",
      "metadata": {
        "id": "qUekqQpkC5aT"
      },
      "source": [
        "f = Function('f')"
      ],
      "execution_count": null,
      "outputs": []
    },
    {
      "cell_type": "markdown",
      "metadata": {
        "id": "cAu5-GfCC5aW"
      },
      "source": [
        "これを微分します。中身がわからない関数なので、形式的にしか微分できません。\n",
        "\n",
        "Let us differentiate it.  Since we did not define the `f` function, the operation can only be symbolic."
      ]
    },
    {
      "cell_type": "code",
      "metadata": {
        "scrolled": true,
        "id": "0FBc1gvuC5aW"
      },
      "source": [
        "f(x).diff(x)"
      ],
      "execution_count": null,
      "outputs": []
    },
    {
      "cell_type": "markdown",
      "metadata": {
        "id": "paiMj4UxC5aY"
      },
      "source": [
        "しかし、ちゃんとchain ruleは働きます。\n",
        "\n",
        "However, the chain rule is applied when such a formula is given."
      ]
    },
    {
      "cell_type": "code",
      "metadata": {
        "id": "xpgkD-xFC5aZ"
      },
      "source": [
        "x = Symbol('x', positive=True)\n",
        "\n",
        "f(exp(x)).diff(x)"
      ],
      "execution_count": null,
      "outputs": []
    },
    {
      "cell_type": "markdown",
      "metadata": {
        "id": "6f44UAgIC5ag"
      },
      "source": [
        "## 例7: 求解 Symbolic solution\n",
        "なんと解を求めることまでできます。\n",
        "\n",
        "It can even solve an equation."
      ]
    },
    {
      "cell_type": "code",
      "metadata": {
        "scrolled": true,
        "id": "KBj3eU-vC5ah"
      },
      "source": [
        "solve(a*x**2+b*x+c,x)"
      ],
      "execution_count": null,
      "outputs": []
    },
    {
      "cell_type": "code",
      "source": [
        "_[0]"
      ],
      "metadata": {
        "id": "G8gJ15UvZFKa"
      },
      "execution_count": null,
      "outputs": []
    },
    {
      "cell_type": "markdown",
      "source": [
        "中学の数学ぐらいなら楽勝ですね。\n",
        "\n",
        "微分方程式は解けるでしょうか。\n",
        "\n",
        "微分方程式の場合は`dsolve()`を使うそうです。\n",
        "\n",
        "t's a piece of cake for sympy to do the junior highschool math.\n",
        "\n",
        "Can it solve differential equations?\n",
        "\n",
        "Use `dsolve()`.\n"
      ],
      "metadata": {
        "id": "wsjZABrZGuNW"
      }
    },
    {
      "cell_type": "code",
      "source": [
        "from sympy import *\n",
        "x = Symbol('x')\n",
        "f = Function('f')\n",
        "answers = dsolve(f(x).diff(x,2)+f(x), f(x))\n",
        "answers"
      ],
      "metadata": {
        "id": "9DtSLEmsGzta"
      },
      "execution_count": null,
      "outputs": []
    },
    {
      "cell_type": "markdown",
      "source": [
        "右辺だけ欲しい時は\n",
        "\n",
        "If you want the r.h.s. of the formula,"
      ],
      "metadata": {
        "id": "AZuvdt2UZoSP"
      }
    },
    {
      "cell_type": "code",
      "source": [
        "answers.rhs"
      ],
      "metadata": {
        "id": "iJIya0VOZvnn"
      },
      "execution_count": null,
      "outputs": []
    },
    {
      "cell_type": "markdown",
      "metadata": {
        "id": "rU5Ns0XoC5ak"
      },
      "source": [
        "## 例8: 数値計算 Numerical solution\n",
        "解析的に答が出ない場合には、数値的な解を求めることもできます。\n",
        "\n",
        "関数電卓で、てきとうな数字を入力してから、`cos`ボタンを連打すると、ある値に収束します。\n",
        "\n",
        "この値`x`は、\n",
        "$$x=\\cos\\cos\\cos\\cos\\cdots\\cos n$$\n",
        "と書けます。収束した値$x$を使うと、\n",
        "$$x=\\cos x$$\n",
        "つまり、\n",
        "$$x-\\cos x=0$$\n",
        "です。グラフで書くなら、$y=x$と$y=\\cos x$の交点を指します。\n",
        "![link text](https://i.gyazo.com/8165ca3881f2a714f4dc245066166669.png)\n",
        "これをみたす$x$は、分数や平方根の組みあわせでは書けなさそうな量なので、数値的に求めます。\n",
        "\n",
        "\n",
        "If an analytical answer is not available, a numerical solution can be obtained.\n",
        "\n",
        "On a function calculator, if you enter a random number and then hit the `cos` button repeatedly, it will converge to a certain value.\n",
        "\n",
        "The converged value `x` can be written by\n",
        "$$x=\\cos\\cos\\cos\\cos\\cdots\\cos n$$\n",
        "That is,\n",
        "$$x=\\cos x$$\n",
        "\n",
        "It is probably impossible to be solved analytically, so we solve it numerically.\n"
      ]
    },
    {
      "cell_type": "code",
      "metadata": {
        "id": "ynXz4ZEJC5al"
      },
      "source": [
        "x=Symbol('x')\n",
        "solve(x-cos(x),x)"
      ],
      "execution_count": null,
      "outputs": []
    },
    {
      "cell_type": "code",
      "metadata": {
        "id": "OKqwuxJtC5ao"
      },
      "source": [
        "nsolve(x-cos(x),x,1)"
      ],
      "execution_count": null,
      "outputs": []
    },
    {
      "cell_type": "markdown",
      "metadata": {
        "id": "HLgcSvAXC5ar"
      },
      "source": [
        "## 例9: フーリエ変換 Fourier transformation\n",
        "積分ができるということは、フーリエ変換ができるはずです。まずはガウス関数のフーリエ変換を積分形式で書いてみましょう。ガウス関数は偶関数なので、フーリエ変換はコサイン変換となります。\n",
        "\n",
        "Let's first write the Fourier transform of Gaussian function in integral form. Since the Gaussian function is an even function, the Fourier transform is a cosine transform.\n",
        "\n",
        "$$\\int_{-\\infty}^{\\infty}\\exp(-x^2/2\\sigma^2)\\exp(i k x){\\rm d}x = \\int_{-\\infty}^{\\infty}\\exp(-x^2/2\\sigma^2)\\cos( k x){\\rm d}x$$"
      ]
    },
    {
      "cell_type": "code",
      "metadata": {
        "id": "KTLVygBbC5ar"
      },
      "source": [
        "k = Symbol('k')\n",
        "sigma = Symbol('sigma', positive=True)\n",
        "(exp(-x**2/(2*sigma**2))*cos(k*x)).integrate( (x, -oo, +oo) )"
      ],
      "execution_count": null,
      "outputs": []
    },
    {
      "cell_type": "markdown",
      "metadata": {
        "id": "O58EgCBSC5au"
      },
      "source": [
        "自分でコサイン変換を定義せず、コサイン変換関数を使ってみます。\n",
        "\n",
        "Let us try to make use of cosine_transform function."
      ]
    },
    {
      "cell_type": "code",
      "metadata": {
        "id": "wWqpk-D9C5av"
      },
      "source": [
        "cosine_transform(exp(-x**2/(2*sigma**2)),x,k)"
      ],
      "execution_count": null,
      "outputs": []
    },
    {
      "cell_type": "markdown",
      "metadata": {
        "id": "abWKYfsMC5ay"
      },
      "source": [
        "前の係数がすこし違うのは、コサイン変換の定義がすこし違うせいです。\n",
        "\n",
        "ガウス関数をフーリエ変換するとガウス関数になりました。もとのガウス関数の分散は$\\sigma^2$、フーリエ変換後のガウス関数の分散は$\\sigma^{-2}$で、両者をかけあわせると1になります。つまり、幅の広いガウス関数をフーリエ変換すると幅の狭いガウス関数になり、それらの分散の積は一定値になります。この関係は量子力学で不確定性原理と呼ばれます。\n",
        "\n",
        "A Fourier transform of Gaussian function is also a Gaussian function.  It is known as an uncertainty principle in the quantum mechanics."
      ]
    },
    {
      "cell_type": "markdown",
      "metadata": {
        "id": "gASvNTX9C5ay"
      },
      "source": [
        "## 例10: 定数の代入 Substitution\n",
        "subsは変数をおきかえます。下の例では、xで書かれた式のxをpiにおきかえます。\n",
        "\n",
        "`subs` substitutes a variable.  In the following example, x is replaced by pi."
      ]
    },
    {
      "cell_type": "code",
      "metadata": {
        "id": "EtN5xLD0C5az"
      },
      "source": [
        "sin(x).diff(x).subs(x,pi)"
      ],
      "execution_count": null,
      "outputs": []
    },
    {
      "cell_type": "markdown",
      "metadata": {
        "id": "BSm_ot9hC5a1"
      },
      "source": [
        "## 例11: 級数の和 Sum of a series\n",
        "sum()という関数がすでにあるので、記号演算用では大文字からはじまるSum()を使います。積はProductです。doit()という謎の関数を入れないと、式を解釈してくれないようです。\n",
        "\n",
        "The summation function in Sympy is named `Sum()` (starting with a capital) to avoid overriding the system-defined `sum()` function in python.  `Product()` products the values.  Note that `doit()` method seems to be required."
      ]
    },
    {
      "cell_type": "code",
      "metadata": {
        "id": "e-2pOoQzC5a1"
      },
      "source": [
        "Sum(i**3,(i,1,n))"
      ],
      "execution_count": null,
      "outputs": []
    },
    {
      "cell_type": "code",
      "metadata": {
        "scrolled": true,
        "id": "gX8BU62-C5a4"
      },
      "source": [
        "Sum(i**3,(i,1,n)).doit()"
      ],
      "execution_count": null,
      "outputs": []
    },
    {
      "cell_type": "code",
      "metadata": {
        "id": "sjMRrWBAC5a6"
      },
      "source": [
        "Sum(i**3,(i,1,n)).doit().factor()"
      ],
      "execution_count": null,
      "outputs": []
    },
    {
      "cell_type": "code",
      "metadata": {
        "id": "PWaKv1StC5a8"
      },
      "source": [
        "Product(i,(i,1,n)).doit()"
      ],
      "execution_count": null,
      "outputs": []
    },
    {
      "cell_type": "markdown",
      "metadata": {
        "id": "0izCAuZYC5a-"
      },
      "source": [
        "## 例12: 多倍長実数 Long floating-point value\n",
        "pythonではもともと整数は何桁でも計算できましたが、sympyを使うと実数も桁数の制限がなくなるようです。\n",
        "\n",
        "The python language can handle long integers by default, but we can also handle long floats with Sympy."
      ]
    },
    {
      "cell_type": "code",
      "metadata": {
        "id": "zdxFvwgRC5a-"
      },
      "source": [
        "sqrt(2)"
      ],
      "execution_count": null,
      "outputs": []
    },
    {
      "cell_type": "markdown",
      "metadata": {
        "id": "PfAZPYFnC5bD"
      },
      "source": [
        "数値(近似値)が使いたい場合は、evalf()で式の数値化を行います。\n",
        "\n",
        "If you want to get the (approximated) digits, use `evalf()` to digitize it."
      ]
    },
    {
      "cell_type": "code",
      "metadata": {
        "id": "nN42dmsgC5bD"
      },
      "source": [
        "sqrt(2).evalf()"
      ],
      "execution_count": null,
      "outputs": []
    },
    {
      "cell_type": "markdown",
      "metadata": {
        "id": "NXiCbp1WC5bF"
      },
      "source": [
        "evalfには桁数が指定できます。ということは?\n",
        "\n",
        "You can specify the number of digits in `evalf()` function. So what?"
      ]
    },
    {
      "cell_type": "code",
      "metadata": {
        "id": "me_LA03mC5bG"
      },
      "source": [
        "sqrt(2).evalf(1000)"
      ],
      "execution_count": null,
      "outputs": []
    },
    {
      "cell_type": "code",
      "source": [
        "pi.evalf(100)"
      ],
      "metadata": {
        "id": "xXNU0AOfeAD9"
      },
      "execution_count": null,
      "outputs": []
    },
    {
      "cell_type": "code",
      "source": [
        "I**I.evalf(100)"
      ],
      "metadata": {
        "id": "r0q455Cceh0v"
      },
      "execution_count": null,
      "outputs": []
    },
    {
      "cell_type": "markdown",
      "source": [
        "(わかってくれなかった…)\n",
        "\n",
        "It did not understant the formula."
      ],
      "metadata": {
        "id": "d7dWwTjpeqRA"
      }
    },
    {
      "cell_type": "markdown",
      "source": [
        "$$\\exp\\left({i\\pi\\over 2}\\right)=\\cos{\\pi\\over 2}+i\\sin{\\pi\\over 2}=i$$\n",
        "$$i^i=\\left[e^{i\\pi\\over 2}\\right]^i=e^{-{\\pi\\over 2}}$$\n"
      ],
      "metadata": {
        "id": "4El_th1ZgpWX"
      }
    },
    {
      "cell_type": "code",
      "source": [
        "exp(-pi/2).evalf(100)"
      ],
      "metadata": {
        "id": "FUpawgp_gQpA"
      },
      "execution_count": null,
      "outputs": []
    },
    {
      "cell_type": "markdown",
      "metadata": {
        "id": "YAaUuN2f3rNu"
      },
      "source": [
        "## 例13 数式の関数化\n",
        "\n",
        "Sympyはエレガントに解析的な数式処理を行います。そうして得られた式を、数値計算に使うために、あらためて数式をPythonの関数として書きなおすのは面倒ですよね。\n",
        "\n",
        "これを自動化するための関数が準備されています。つまり、Sympyで得られた数式はそのままPythonの関数に変換できるのです。"
      ]
    },
    {
      "cell_type": "code",
      "metadata": {
        "id": "YNamN3uA5MeJ"
      },
      "source": [
        "ans = solve(a*x**2+b*x+c, x)\n",
        "ans"
      ],
      "execution_count": null,
      "outputs": []
    },
    {
      "cell_type": "code",
      "metadata": {
        "id": "EDMoG4Ie5lGI"
      },
      "source": [
        "# lambdifyは、解析的な式をそのまま数値計算用の関数にします。\n",
        "solver = lambdify((a,b,c), ans)\n",
        "# solverは3つの引数(a,b,c)をもつ関数で、a*x**2+b*x+cの解2つを返します。\n",
        "solver(1,-3,2)"
      ],
      "execution_count": null,
      "outputs": []
    },
    {
      "cell_type": "markdown",
      "metadata": {
        "id": "EqryKIjJxLUV"
      },
      "source": [
        "## 例14 行列\n",
        "\n",
        "行列のべき乗の一般解は、固有値と固有ベクトルから求められますが、Sympyを使えば途中の手間をすっとばして一般解を示してくれます。"
      ]
    },
    {
      "cell_type": "code",
      "metadata": {
        "id": "wQphU7jmxftu"
      },
      "source": [
        "from sympy import *\n",
        "\n",
        "M = Matrix([[0,1],[1,1]])\n",
        "M"
      ],
      "execution_count": null,
      "outputs": []
    },
    {
      "cell_type": "code",
      "metadata": {
        "id": "kBQaPZyZxt3W"
      },
      "source": [
        "n = Symbol('n')\n",
        "M**n"
      ],
      "execution_count": null,
      "outputs": []
    },
    {
      "cell_type": "markdown",
      "source": [
        "この行列のべき乗は、フィボナッチ数列$(1,1,2,3,5,\\cdots)$を生みだします。\n",
        "\n",
        "一般式にしてから、$n$を数字におきかえます。"
      ],
      "metadata": {
        "id": "RbYFzh3icVBf"
      }
    },
    {
      "cell_type": "code",
      "source": [
        "M**n.subs(n,4)"
      ],
      "metadata": {
        "id": "yX2J94zNc5Bs"
      },
      "execution_count": null,
      "outputs": []
    },
    {
      "cell_type": "markdown",
      "source": [
        "ということは、`M**n`の要素`[0,1]`は$F(n)$の一般項らしい、ということです。\n",
        "\n",
        "とりだしてみましょう。"
      ],
      "metadata": {
        "id": "8NZcokvtjfOS"
      }
    },
    {
      "cell_type": "code",
      "source": [
        "(M**n)[0,1]"
      ],
      "metadata": {
        "id": "BlsNQlQcjxN3"
      },
      "execution_count": null,
      "outputs": []
    },
    {
      "cell_type": "code",
      "source": [
        "_.subs(n,5).simplify()"
      ],
      "metadata": {
        "id": "9FWD6p0fj8_g"
      },
      "execution_count": null,
      "outputs": []
    },
    {
      "cell_type": "markdown",
      "metadata": {
        "id": "xvQNJteWC5bI"
      },
      "source": [
        "マニュアルを読んでいると、ほかにいくらでも面白い機能が見付かります。これだけで半期の講義ができそうです。\n",
        "\n",
        "There are plenty of interesting usages in the manual.  It would take two quarters to introduce all the Sympy features.\n",
        "\n",
        "\n",
        "せっかく数式操作ができるようになったので、記号演算でないと難しそうな問題を解いてみましょう。\n",
        "\n",
        "Let's practice for more realistic problems.\n",
        "\n",
        "## 練習問題1 マクローリン展開 Exercise1: Maclaurin expansion\n",
        "sin(x)のマクローリン展開を試してみます。\n",
        "\n",
        "Let's expand the sin(x) function.\n",
        "$$f(x)=f(0)+x f'(0)+\\frac{x^2}{2!}f''(0)+\\frac{x^3}{3!}f'''(0)+\\frac{x^4}{4!}f''''(0)+\\frac{x^5}{5!}f'''''(0)+...$$\n",
        "まずは1、2、3、0次の係数を書き下します。階乗x!はfactorial(x)で計算できるようです。\n",
        "\n",
        "Write down the coefficients for the 0th to 3rd element of the series."
      ]
    },
    {
      "cell_type": "code",
      "metadata": {
        "id": "XC7HXEOcC5bJ"
      },
      "source": [
        "sin(x).diff(x,1).subs(x,0) / factorial(1)"
      ],
      "execution_count": null,
      "outputs": []
    },
    {
      "cell_type": "code",
      "metadata": {
        "id": "oOSsbbjBC5bL"
      },
      "source": [
        "sin(x).diff(x,2).subs(x,0) / factorial(2)"
      ],
      "execution_count": null,
      "outputs": []
    },
    {
      "cell_type": "code",
      "metadata": {
        "id": "pUBCHoSgC5bN"
      },
      "source": [
        "sin(x).diff(x,3).subs(x,0) / factorial(3)"
      ],
      "execution_count": null,
      "outputs": []
    },
    {
      "cell_type": "code",
      "metadata": {
        "id": "Pe08mB2jC5bQ"
      },
      "source": [
        "sin(x).diff(x,0).subs(x,0) / factorial(0)"
      ],
      "execution_count": null,
      "outputs": []
    },
    {
      "cell_type": "markdown",
      "metadata": {
        "id": "vwYJF1hMC5bj"
      },
      "source": [
        "これを繰り返しを使って6階までべたで書いてみると、"
      ]
    },
    {
      "cell_type": "code",
      "metadata": {
        "scrolled": true,
        "id": "XB7f7cyJC5bj"
      },
      "source": [
        "x = Symbol('x')\n",
        "( x**0 * (sin(x).diff(x,0).subs(x,0)) / factorial(0)\n",
        " +x**1 * (sin(x).diff(x,1).subs(x,0)) / factorial(1)\n",
        " +x**2 * (sin(x).diff(x,2).subs(x,0)) / factorial(2)\n",
        " +x**3 * (sin(x).diff(x,3).subs(x,0)) / factorial(3)\n",
        " +x**4 * (sin(x).diff(x,4).subs(x,0)) / factorial(4)\n",
        " +x**5 * (sin(x).diff(x,5).subs(x,0)) / factorial(5)\n",
        " +x**6 * (sin(x).diff(x,6).subs(x,0)) / factorial(6) )"
      ],
      "execution_count": null,
      "outputs": []
    },
    {
      "cell_type": "markdown",
      "metadata": {
        "id": "DFKNnVgqC5bp"
      },
      "source": [
        "通常のsumを使って書きます．\n",
        "\n"
      ]
    },
    {
      "cell_type": "code",
      "metadata": {
        "scrolled": true,
        "id": "E_LLRI51C5bp"
      },
      "source": [
        "[x**n * (sin(x).diff(x,n).subs(x,0)) / factorial(n) for n in range(0,10+1)]"
      ],
      "execution_count": null,
      "outputs": []
    },
    {
      "cell_type": "code",
      "metadata": {
        "id": "K5cC1lYiC5bs"
      },
      "source": [
        "sum([x**n * (sin(x).diff(x,n).subs(x,0)) / factorial(n) for n in range(0,10+1)])"
      ],
      "execution_count": null,
      "outputs": []
    },
    {
      "cell_type": "markdown",
      "metadata": {
        "id": "pSvErdomC5bu"
      },
      "source": [
        "実は、Taylor展開する関数seriesが定義されていました。\n",
        "\n",
        "It is found that the series function is alread defined in Sympy."
      ]
    },
    {
      "cell_type": "code",
      "metadata": {
        "scrolled": true,
        "id": "2uXNAbDbC5bu"
      },
      "source": [
        "sin(x).series(x,n=12)   #Maclaurin expansion"
      ],
      "execution_count": null,
      "outputs": []
    },
    {
      "cell_type": "markdown",
      "metadata": {
        "id": "N24hMRHGC5bx"
      },
      "source": [
        "## Practice: van der Waals関数の臨界点 / The critical point of van der Waals equation\n",
        "\n",
        "微分ができ、求解ができるので、変曲点を求めるのは簡単なはず。vdWの状態方程式は次のように書けます。\n",
        "\n",
        "We learnt the way to differentiate and solve the equations.  Therefore it must be used to find the critical point of the van der Waals equation as the inflection point of the function."
      ]
    },
    {
      "cell_type": "code",
      "metadata": {
        "id": "Iq3ZVOMqC5bx"
      },
      "source": [
        "from sympy import *\n",
        "from sympy.abc import *\n",
        "(p+a/V**2)*(V-b)-k*T"
      ],
      "execution_count": null,
      "outputs": []
    },
    {
      "cell_type": "markdown",
      "metadata": {
        "id": "jT2nZU-EC5cB"
      },
      "source": [
        "等温線の変曲点(体積での微分と二階微分が同時に0になる)は、熱力学では臨界点と呼びます。体積変化に対して圧力が変動しないということは、圧縮率が無限大になり、体積が大きくゆらぐことを示唆しています。圧縮率が無限大ということはまた、音速が0になることを意味します。\n",
        "\n",
        "The inflection point of the state equation is called the critical point in thermodynamics.\n",
        "As we see above, $\\partial p/\\partial V$ becomes zero, i.e.,  the compressibility $\\partial V/\\partial p$ becomes infinite.\n",
        "At the critical point, the volume fluctuates greatly, and the sound velocity becomes zero.\n",
        "\n",
        "* van der Waals状態方程式の臨界点を求めて下さい。\n",
        "* それができたら、[Redlich-Kwong状態方程式](https://en.wikipedia.org/wiki/Redlich%E2%80%93Kwong_equation_of_state)の臨界点に挑戦して下さい。(解けないかもしれません)"
      ]
    },
    {
      "cell_type": "markdown",
      "metadata": {
        "id": "URBXKk-qDmjR"
      },
      "source": [
        "## 課題(案)\n",
        "\n",
        "1次元のSchrodinger方程式を解いてみる? すでにどこかに実例がありそう。\n",
        "\n",
        "→そもそもsympyの中に、Hydrogen Wavefunctionsが実装されている! https://docs.sympy.org/latest/modules/physics/hydrogen.html\n",
        "\n",
        "SympyのPhysicsモジュールは本気で勉強しておいたほうがよさそう。\n",
        "https://docs.sympy.org/latest/modules/physics/index.html\n",
        "剛体力学系まである!\n",
        "\n"
      ]
    }
  ]
}
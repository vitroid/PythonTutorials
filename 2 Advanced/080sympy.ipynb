{
 "cells": [
  {
   "cell_type": "markdown",
   "metadata": {},
   "source": [
    "# Sympyとは\n",
    "Symbolic Pythonの略です。記号演算ができます。つまり、数値計算ではなく、式そのものを操作できるということです。http://www.sympy.org\n",
    "\n",
    "記号演算のための言語として、古くはREDUCE、最近ではMathematicaがありました。前者はいまは無料ですが、後者はずいぶん高いソフトウェアで、学生のころには大学のシステムでよく使わせてもらった、あこがれの言語でした。今はPythonで記号演算ができます。\n",
    "\n",
    "Sympy stands for Symbolic Python. It can handle the symbol operations. In other words, you can manipulate the expression itself, not numerical calculation. http://www.sympy.org\n",
    "\n",
    "When I was a student, REDUCE was famous for symboric operation.  Mathematica later appeared and swept the market.  Now we can do symbolic operations in Python for free.\n",
    "\n",
    "## 例1: 式の展開 Expansion of formulae"
   ]
  },
  {
   "cell_type": "code",
   "execution_count": null,
   "metadata": {},
   "outputs": [],
   "source": [
    "from sympy import *\n",
    "a = Symbol('a')\n",
    "a**5"
   ]
  },
  {
   "cell_type": "code",
   "execution_count": null,
   "metadata": {
    "scrolled": false
   },
   "outputs": [],
   "source": [
    "b = Symbol('b')\n",
    "c = Symbol('c')\n",
    "(a+b+c)**10"
   ]
  },
  {
   "cell_type": "markdown",
   "metadata": {},
   "source": [
    "a,b,c,と一個ずつ定義するのが面倒くさい場合は、お手軽モジュールでa〜zを準備しましょう。"
   ]
  },
  {
   "cell_type": "code",
   "execution_count": null,
   "metadata": {},
   "outputs": [],
   "source": [
    "from sympy.abc import *\n",
    "x**5"
   ]
  },
  {
   "cell_type": "code",
   "execution_count": null,
   "metadata": {},
   "outputs": [],
   "source": [
    "((a+b+c)**10).expand()"
   ]
  },
  {
   "cell_type": "markdown",
   "metadata": {},
   "source": [
    "## 例2: 因数分解 Factorization"
   ]
  },
  {
   "cell_type": "code",
   "execution_count": null,
   "metadata": {},
   "outputs": [],
   "source": [
    "factor(a**10 + 10*a**9*b + 10*a**9*c + 45*a**8*b**2 + 90*a**8*b*c + \n",
    " 45*a**8*c**2 + 120*a**7*b**3 + 360*a**7*b**2*c + 360*a**7*b*c**2 + \n",
    " 120*a**7*c**3 + 210*a**6*b**4 + 840*a**6*b**3*c + 1260*a**6*b**2*c**2 +\n",
    " 840*a**6*b*c**3 + 210*a**6*c**4 + 252*a**5*b**5 + 1260*a**5*b**4*c +\n",
    " 2520*a**5*b**3*c**2 + 2520*a**5*b**2*c**3 + 1260*a**5*b*c**4 +\n",
    " 252*a**5*c**5 + 210*a**4*b**6 + 1260*a**4*b**5*c + 3150*a**4*b**4*c**2 +\n",
    " 4200*a**4*b**3*c**3 + 3150*a**4*b**2*c**4 + 1260*a**4*b*c**5 + \n",
    " 210*a**4*c**6 + 120*a**3*b**7 + 840*a**3*b**6*c + 2520*a**3*b**5*c**2 +\n",
    " 4200*a**3*b**4*c**3 + 4200*a**3*b**3*c**4 + 2520*a**3*b**2*c**5 + \n",
    " 840*a**3*b*c**6 + 120*a**3*c**7 + 45*a**2*b**8 + 360*a**2*b**7*c +\n",
    " 1260*a**2*b**6*c**2 + 2520*a**2*b**5*c**3 + 3150*a**2*b**4*c**4 + \n",
    " 2520*a**2*b**3*c**5 + 1260*a**2*b**2*c**6 + 360*a**2*b*c**7 + \n",
    " 45*a**2*c**8 + 10*a*b**9 + 90*a*b**8*c + 360*a*b**7*c**2 + \n",
    " 840*a*b**6*c**3 + 1260*a*b**5*c**4 + 1260*a*b**4*c**5 + 840*a*b**3*c**6 +\n",
    " 360*a*b**2*c**7 + 90*a*b*c**8 + 10*a*c**9 + b**10 + 10*b**9*c + \n",
    " 45*b**8*c**2 + 120*b**7*c**3 + 210*b**6*c**4 + 252*b**5*c**5 + \n",
    " 210*b**4*c**6 + 120*b**3*c**7 + 45*b**2*c**8 + 10*b*c**9 + c**10)"
   ]
  },
  {
   "cell_type": "markdown",
   "metadata": {},
   "source": [
    "## 例3: 式の簡単化 Simplification"
   ]
  },
  {
   "cell_type": "code",
   "execution_count": null,
   "metadata": {},
   "outputs": [],
   "source": [
    "x = Symbol('x')\n",
    "sin(x)**2 + cos(x)**2"
   ]
  },
  {
   "cell_type": "code",
   "execution_count": null,
   "metadata": {
    "scrolled": true
   },
   "outputs": [],
   "source": [
    "simplify(sin(x**2+5)**2 + cos(x**2+5)**2)"
   ]
  },
  {
   "cell_type": "markdown",
   "metadata": {},
   "source": [
    "## 例4: 偏微分 Differentiation\n",
    "同じことをするのに2つの書き方があります。"
   ]
  },
  {
   "cell_type": "code",
   "execution_count": null,
   "metadata": {},
   "outputs": [],
   "source": [
    "((a+b+c)**10).diff(a)"
   ]
  },
  {
   "cell_type": "code",
   "execution_count": null,
   "metadata": {},
   "outputs": [],
   "source": [
    "diff((a+b+c)**10,a)"
   ]
  },
  {
   "cell_type": "markdown",
   "metadata": {},
   "source": [
    "多階微分も楽勝です。"
   ]
  },
  {
   "cell_type": "code",
   "execution_count": null,
   "metadata": {},
   "outputs": [],
   "source": [
    "((a+sin(b))**10).diff(a,5).diff(b,2).simplify()"
   ]
  },
  {
   "cell_type": "markdown",
   "metadata": {},
   "source": [
    "## 例5: 積分 Integration\n",
    "下の例にでてくる$\\exp()$はmathライブラリの関数ではなく、記号演算用にsympyで再定義されたものです。\n",
    "\n",
    "`exp()` in the example below is not a math library function but a redefined function for symbolic operation."
   ]
  },
  {
   "cell_type": "code",
   "execution_count": null,
   "metadata": {},
   "outputs": [],
   "source": [
    "x = Symbol('x')\n",
    "exp(-x**2).integrate((x,-oo,0))"
   ]
  },
  {
   "cell_type": "markdown",
   "metadata": {},
   "source": [
    "### Gauss積分 Gaussian integration\n",
    "ooは無限大を表します。integrateなどの関数は後置しても、下のように汎関数的に書いても同じようです。\n",
    "\n",
    "`oo` stands for infinity. There are two usages for the symbolic operators. One is to put after the formula as a method, and the other is to apply to the function as a functional as below."
   ]
  },
  {
   "cell_type": "code",
   "execution_count": null,
   "metadata": {},
   "outputs": [],
   "source": [
    "integrate(exp(-x**2),x)"
   ]
  },
  {
   "cell_type": "markdown",
   "metadata": {},
   "source": [
    "## 例6: 関数定義 Definition of a symbolic function\n",
    "関数を定義できると便利ですよね。\n",
    "\n",
    "まずは、未定義の関数を作ります。(Symbolと同じく、すこし違和感のある書き方です)\n",
    "Here we prepare an undefined function. It just has a name `f`."
   ]
  },
  {
   "cell_type": "code",
   "execution_count": null,
   "metadata": {},
   "outputs": [],
   "source": [
    "f = Function('f')"
   ]
  },
  {
   "cell_type": "markdown",
   "metadata": {},
   "source": [
    "これを微分します。中身がわからない関数なので、形式的にしか微分できません。\n",
    "\n",
    "Let us differentiate it.  Since we did not define the `f` function, the operation can only be symbolic."
   ]
  },
  {
   "cell_type": "code",
   "execution_count": null,
   "metadata": {
    "scrolled": true
   },
   "outputs": [],
   "source": [
    "f(x).diff(x)"
   ]
  },
  {
   "cell_type": "markdown",
   "metadata": {},
   "source": [
    "しかし、ちゃんとchain ruleは働きます。\n",
    "\n",
    "However, the chain rule is applied when such a formula is given."
   ]
  },
  {
   "cell_type": "code",
   "execution_count": null,
   "metadata": {},
   "outputs": [],
   "source": [
    "f(exp(x)).diff(x)"
   ]
  },
  {
   "cell_type": "code",
   "execution_count": null,
   "metadata": {},
   "outputs": [],
   "source": [
    "x=Symbol('x')\n",
    "y=Symbol('y')\n",
    "r=Symbol('r')\n",
    "th=Symbol('th')\n",
    "\n",
    "x=r*cos(th)\n",
    "diff(x,th)  #same as x.diff(th)"
   ]
  },
  {
   "cell_type": "markdown",
   "metadata": {},
   "source": [
    "## 例7: 求解 Symbolic solution\n",
    "なんと解を求めることまでできます。"
   ]
  },
  {
   "cell_type": "code",
   "execution_count": null,
   "metadata": {
    "scrolled": true
   },
   "outputs": [],
   "source": [
    "solve(a*x**2+b*x+c,x)"
   ]
  },
  {
   "cell_type": "markdown",
   "metadata": {},
   "source": [
    "## 例8: 数値計算 Numerical solution\n",
    "解析的に答が出ない場合には、数値的な解を求めることもできます。"
   ]
  },
  {
   "cell_type": "code",
   "execution_count": null,
   "metadata": {},
   "outputs": [],
   "source": [
    "x=Symbol('x')\n",
    "solve(x-cos(x),x)"
   ]
  },
  {
   "cell_type": "code",
   "execution_count": null,
   "metadata": {},
   "outputs": [],
   "source": [
    "nsolve(x-cos(x),x,1)"
   ]
  },
  {
   "cell_type": "markdown",
   "metadata": {},
   "source": [
    "## 例9: フーリエ変換 Fourier transformation\n",
    "積分ができるということは、フーリエ変換ができるはずです。まずはガウス関数のフーリエ変換を積分形式で書いてみましょう。ガウス関数は偶関数なので、フーリエ変換はコサイン変換となります。\n",
    "\n",
    "Let's first write the Fourier transform of Gaussian function in integral form. Since the Gaussian function is an even function, the Fourier transform is a cosine transform.\n",
    "\n",
    "$$\\int_{-\\infty}^{\\infty}\\exp(-x^2/a)\\exp(2i\\pi k x){\\rm d}x = \\int_{-\\infty}^{\\infty}\\exp(-x^2/a)\\cos(2\\pi k x){\\rm d}x$$"
   ]
  },
  {
   "cell_type": "code",
   "execution_count": null,
   "metadata": {},
   "outputs": [],
   "source": [
    "k = Symbol('k')\n",
    "(exp(-x**2/a)*cos(2*pi*k*x)).integrate(x)"
   ]
  },
  {
   "cell_type": "markdown",
   "metadata": {},
   "source": [
    "解けませんね・・・。では、コサイン変換関数を使ってみます。\n",
    "\n",
    "Unsuccessful.... Then let us try to make use of cosine_transform function."
   ]
  },
  {
   "cell_type": "code",
   "execution_count": null,
   "metadata": {},
   "outputs": [],
   "source": [
    "cosine_transform(exp(-x**2/a),x,k)"
   ]
  },
  {
   "cell_type": "markdown",
   "metadata": {},
   "source": [
    "ガウス関数をフーリエ変換するとガウス関数になる、といういわゆる不確定性原理が出せました。\n",
    "\n",
    "A Fourier transform of Gaussian function is also a Gaussian function.  It is known as an uncertainty principle in the quantum mechanics."
   ]
  },
  {
   "cell_type": "markdown",
   "metadata": {},
   "source": [
    "## 例10: 定数の代入 Substitution\n",
    "subsは変数をおきかえます。下の例では、xで書かれた式のxをpiにおきかえます。\n",
    "\n",
    "`subs` substitutes a variable.  In the following example, x is replaced by pi."
   ]
  },
  {
   "cell_type": "code",
   "execution_count": null,
   "metadata": {},
   "outputs": [],
   "source": [
    "sin(x).diff(x).subs(x,pi)"
   ]
  },
  {
   "cell_type": "markdown",
   "metadata": {},
   "source": [
    "## 例11: 級数の和 Sum of a series\n",
    "sum()という関数がすでにあるので、記号演算用では大文字からはじまるSum()を使います。積はProductです。doit()という謎の関数を入れないと、式を解釈してくれないようです。\n",
    "\n",
    "The summation function in Sympy is named `Sum()` (starting with a capital) to avoid overriding the system-defined `sum()` function in python.  `Product()` products the values.  Note that `doit()` method seems to be required."
   ]
  },
  {
   "cell_type": "code",
   "execution_count": null,
   "metadata": {},
   "outputs": [],
   "source": [
    "Sum(i**3,(i,1,n))"
   ]
  },
  {
   "cell_type": "code",
   "execution_count": null,
   "metadata": {
    "scrolled": true
   },
   "outputs": [],
   "source": [
    "Sum(i**3,(i,1,n)).doit()"
   ]
  },
  {
   "cell_type": "code",
   "execution_count": null,
   "metadata": {},
   "outputs": [],
   "source": [
    "Sum(i**3,(i,1,n)).doit().factor()"
   ]
  },
  {
   "cell_type": "code",
   "execution_count": null,
   "metadata": {},
   "outputs": [],
   "source": [
    "Product(i,(i,1,n)).doit()"
   ]
  },
  {
   "cell_type": "markdown",
   "metadata": {},
   "source": [
    "## 例12: 多倍長実数 Long floating-point value\n",
    "pythonではもともと整数は何桁でも計算できましたが、sympyを使うと実数も桁数の制限がなくなるようです。\n",
    "\n",
    "The python language can handle long integers by default, but we can also handle long floats with Sympy."
   ]
  },
  {
   "cell_type": "code",
   "execution_count": null,
   "metadata": {},
   "outputs": [],
   "source": [
    "sqrt(2)"
   ]
  },
  {
   "cell_type": "markdown",
   "metadata": {},
   "source": [
    "数値(近似値)が使いたい場合は、evalf()で式の数値化を行います。\n",
    "\n",
    "If you want to get the (approximated) digits, use `evalf()` to digitize it."
   ]
  },
  {
   "cell_type": "code",
   "execution_count": null,
   "metadata": {},
   "outputs": [],
   "source": [
    "sqrt(2).evalf()"
   ]
  },
  {
   "cell_type": "markdown",
   "metadata": {},
   "source": [
    "evalfには桁数が指定できます。ということは?\n",
    "\n",
    "You can specify the number of digits in `evalf()` function. So what?"
   ]
  },
  {
   "cell_type": "code",
   "execution_count": null,
   "metadata": {},
   "outputs": [],
   "source": [
    "sqrt(2).evalf(1000)"
   ]
  },
  {
   "cell_type": "markdown",
   "metadata": {},
   "source": [
    "マニュアルを読んでいると、ほかにいくらでも面白い機能が見付かります。これだけで半期の講義ができそうです。\n",
    "\n",
    "There are plenty of interesting usages in the manual.  It would take two quarters to introduce all the Sympy features.\n",
    "\n",
    "\n",
    "せっかく数式操作ができるようになったので、記号演算でないと難しそうな問題を解いてみましょう。\n",
    "\n",
    "Let's practice for more realistic problems.\n",
    "\n",
    "## 練習問題1 マクローリン展開 Exercise1: Maclaurin expansion\n",
    "sin(x)のマクローリン展開を試してみます。\n",
    "\n",
    "Let's expand the sin(x) function.\n",
    "$$f(x)=f(0)+x f'(0)+\\frac{x^2}{2!}f''(0)+\\frac{x^3}{3!}f'''(0)+\\frac{x^4}{4!}f''''(0)+\\frac{x^5}{5!}f'''''(0)+...$$\n",
    "まずは1、2、3、0次の係数を書き下します。階乗x!はfactorial(x)で計算できるようです。\n",
    "\n",
    "Write down the coefficients for the 0th to 3rd element of the series."
   ]
  },
  {
   "cell_type": "code",
   "execution_count": null,
   "metadata": {},
   "outputs": [],
   "source": [
    "sin(x).diff(x,1).subs(x,0) / factorial(1)"
   ]
  },
  {
   "cell_type": "code",
   "execution_count": null,
   "metadata": {},
   "outputs": [],
   "source": [
    "sin(x).diff(x,2).subs(x,0) / factorial(2)"
   ]
  },
  {
   "cell_type": "code",
   "execution_count": null,
   "metadata": {},
   "outputs": [],
   "source": [
    "sin(x).diff(x,3).subs(x,0) / factorial(3)"
   ]
  },
  {
   "cell_type": "code",
   "execution_count": null,
   "metadata": {},
   "outputs": [],
   "source": [
    "sin(x).diff(x,0).subs(x,0) / factorial(0)"
   ]
  },
  {
   "cell_type": "markdown",
   "metadata": {},
   "source": [
    "これを繰り返しを使って6階までべたで書いてみると、"
   ]
  },
  {
   "cell_type": "code",
   "execution_count": null,
   "metadata": {
    "scrolled": true
   },
   "outputs": [],
   "source": [
    "x = Symbol('x')\n",
    "( x**0 * (sin(x).diff(x,0).subs(x,0)) / factorial(0)\n",
    " +x**1 * (sin(x).diff(x,1).subs(x,0)) / factorial(1)\n",
    " +x**2 * (sin(x).diff(x,2).subs(x,0)) / factorial(2)\n",
    " +x**3 * (sin(x).diff(x,3).subs(x,0)) / factorial(3)\n",
    " +x**4 * (sin(x).diff(x,4).subs(x,0)) / factorial(4)\n",
    " +x**5 * (sin(x).diff(x,5).subs(x,0)) / factorial(5)\n",
    " +x**6 * (sin(x).diff(x,6).subs(x,0)) / factorial(6) )"
   ]
  },
  {
   "cell_type": "markdown",
   "metadata": {},
   "source": [
    "Sumを使って書くなら、\n",
    "\n",
    "Can we write it with `Sum()`?"
   ]
  },
  {
   "cell_type": "code",
   "execution_count": null,
   "metadata": {
    "scrolled": true
   },
   "outputs": [],
   "source": [
    "Sum(x**n * (sin(x).diff(x,n).subs(x,0)) / factorial(n), (n,0,6))"
   ]
  },
  {
   "cell_type": "markdown",
   "metadata": {},
   "source": [
    "うまくいきませんね。どうも、nも記号演算とみなしてしまうようです．\n",
    "\n",
    "Unsuccessful.  Probably `n` is also regarded as a Sympy variable.\n",
    "\n",
    "nはただの(pythonの)繰りかえし変数なので，通常のsumを使って書きます．\n",
    "\n",
    "We give up using `Sum()` and replace it with the normal loop feature of Python."
   ]
  },
  {
   "cell_type": "code",
   "execution_count": null,
   "metadata": {
    "scrolled": true
   },
   "outputs": [],
   "source": [
    "[x**n * (sin(x).diff(x,n).subs(x,0)) / factorial(n) for n in range(0,10+1)]"
   ]
  },
  {
   "cell_type": "code",
   "execution_count": null,
   "metadata": {},
   "outputs": [],
   "source": [
    "sum([x**n * (sin(x).diff(x,n).subs(x,0)) / factorial(n) for n in range(0,10+1)])"
   ]
  },
  {
   "cell_type": "markdown",
   "metadata": {},
   "source": [
    "実は、Taylor展開する関数seriesが定義されていました。\n",
    "\n",
    "It is found that the series function is alread defined in Sympy."
   ]
  },
  {
   "cell_type": "code",
   "execution_count": null,
   "metadata": {
    "scrolled": true
   },
   "outputs": [],
   "source": [
    "series(exp(x),x)   #Maclaurin expansion"
   ]
  },
  {
   "cell_type": "markdown",
   "metadata": {},
   "source": [
    "## 練習問題2 van der Waals関数の臨界点\n",
    "## Exercise2: The critical point of van der Waals equation\n",
    "微分ができ、求解ができるので、変曲点を求めるのは簡単なはず。vdWの状態方程式は次のように書けます。\n",
    "\n",
    "We learnt the way to differentiate and solve the equations.  Therefore it must be used to find the critical point of the van der Waals equation as the inflection point of the function."
   ]
  },
  {
   "cell_type": "code",
   "execution_count": null,
   "metadata": {},
   "outputs": [],
   "source": [
    "from sympy import *\n",
    "from sympy.abc import *\n",
    "(p+a/V**2)*(V-b)-k*T"
   ]
  },
  {
   "cell_type": "markdown",
   "metadata": {},
   "source": [
    "Let us make this equation into the shape p=f(V,T) by using `solve()`."
   ]
  },
  {
   "cell_type": "code",
   "execution_count": null,
   "metadata": {},
   "outputs": [],
   "source": [
    "solve(-T*k + (V - b)*(p + a/V**2),p)"
   ]
  },
  {
   "cell_type": "markdown",
   "metadata": {},
   "source": [
    "圧力の体積微分と、二次微分がどちらも0になるのが変曲点ですから、\n",
    "\n",
    "At the inflection point, both the first and second derivatives of p by V are zero."
   ]
  },
  {
   "cell_type": "code",
   "execution_count": null,
   "metadata": {},
   "outputs": [],
   "source": [
    "diff((T*V**2*k - V*a + a*b)/(V**2*(V - b)), V)"
   ]
  },
  {
   "cell_type": "code",
   "execution_count": null,
   "metadata": {
    "scrolled": true
   },
   "outputs": [],
   "source": [
    "diff((T*V**2*k - V*a + a*b)/(V**2*(V - b)),V,V)"
   ]
  },
  {
   "cell_type": "markdown",
   "metadata": {},
   "source": [
    "これらが同時に満たされる(T,V)を求めます。\n",
    "\n",
    "We solve these simultaneous equations to get T and V."
   ]
  },
  {
   "cell_type": "code",
   "execution_count": null,
   "metadata": {},
   "outputs": [],
   "source": [
    "solve(((2*T*V*k - a)/(V**2*(V - b)) - (T*V**2*k - V*a + a*b)/(V**2*(V - b)**2) - 2*(T*V**2*k - V*a + a*b)/(V**3*(V - b)),2*(T*k - (2*T*V*k - a)/(V - b) + (T*V**2*k - V*a + a*b)/(V - b)**2 - 2*(2*T*V*k - a)/V + 2*(T*V**2*k - V*a + a*b)/(V*(V - b)) + 3*(T*V**2*k - V*a + a*b)/V**2)/(V**2*(V - b))),(V,T))"
   ]
  },
  {
   "cell_type": "markdown",
   "metadata": {},
   "source": [
    "状態方程式の変曲点は、熱力学では臨界点と呼びます。体積変化に対して圧力が変動しないということは、圧縮率が無限大になり、体積が大きくゆらぐことを示唆しています。圧縮率が無限大ということはまた、音速が0になることを意味します。\n",
    "\n",
    "The inflection point of the state equation is called the critical point in thermodynamics.\n",
    "As we see above, $\\partial p/\\partial V$ becomes zero, i.e.,  the compressibility $\\partial V/\\partial p$ becomes infinite.\n",
    "At the critical point, the volume fluctuates greatly, and the sound velocity becomes zero."
   ]
  },
  {
   "cell_type": "code",
   "execution_count": null,
   "metadata": {},
   "outputs": [],
   "source": []
  }
 ],
 "metadata": {
  "kernelspec": {
   "display_name": "Python 3",
   "language": "python",
   "name": "python3"
  },
  "language_info": {
   "codemirror_mode": {
    "name": "ipython",
    "version": 3
   },
   "file_extension": ".py",
   "mimetype": "text/x-python",
   "name": "python",
   "nbconvert_exporter": "python",
   "pygments_lexer": "ipython3",
   "version": "3.7.3"
  }
 },
 "nbformat": 4,
 "nbformat_minor": 2
}

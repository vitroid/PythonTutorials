{
 "cells": [
  {
   "cell_type": "markdown",
   "metadata": {},
   "source": [
    "大江戸線のトポロジー"
   ]
  },
  {
   "cell_type": "code",
   "execution_count": null,
   "metadata": {},
   "outputs": [],
   "source": [
    "import numpy as np\n",
    "import networkx as nx\n",
    "table = np.zeros((38,38))\n",
    "g = nx.Graph()\n",
    "for i in range(0,38-1):\n",
    "    g.add_edge(i,i+1)\n",
    "g.add_edge(27,0)\n",
    "for i in range(38):\n",
    "    for j in range(38):\n",
    "        table[i,j] = nx.algorithms.shortest_paths.generic.shortest_path_length(g,i,j) #,weight='d')\n",
    "np.set_printoptions(threshold=1000,edgeitems=1000)\n",
    "table"
   ]
  },
  {
   "cell_type": "markdown",
   "metadata": {},
   "source": [
    "テスト"
   ]
  },
  {
   "cell_type": "code",
   "execution_count": null,
   "metadata": {},
   "outputs": [],
   "source": [
    "stations=[\"Shinjuku-nishiguchi\",\n",
    "\"Higashi-shinjuku\",\n",
    "\"Wakamatsu-kawada\",\n",
    "\"Ushigome-yanagicho\",\n",
    "\"Ushigome-kagurazaka\",\n",
    "\"Iidabashi\",\n",
    "\"Kasuga\",\n",
    "\"Hongo-sanchome\",\n",
    "\"Ueno-okachimachi\",\n",
    "\"Shin-okachimachi\",\n",
    "\"Kuramae\",\n",
    "\"Ryogoku\",\n",
    "\"Morishita\",\n",
    "\"Kiyosumi-shirakawa\",\n",
    "\"Monzen-nakacho\",\n",
    "\"Tsukishima\",\n",
    "\"Kachidoki\",\n",
    "\"Tsukijishijo\",\n",
    "\"Shiodome\",\n",
    "\"Daimon\",\n",
    "\"Akabanebashi\",\n",
    "\"Azabu-juban\",\n",
    "\"Roppongi\",\n",
    "\"Aoyama-itchome\",\n",
    "\"Kokuritsu-kyogijo\",\n",
    "\"Yoyogi\",\n",
    "\"Shinjuku\",\n",
    "\"Tochomae\",\n",
    "\"Nishi-shinjuku-gochome\",\n",
    "\"Nakano-sakaue\",\n",
    "\"Higashi-nakano\",\n",
    "\"Nakai\",\n",
    "\"Ochiai-minami-nagasaki\",\n",
    "\"Shin-egota\",\n",
    "\"Nerima\",\n",
    "\"Toshimaen\",\n",
    "\"Nerima-kasugacho\",\n",
    "\"Hikarigaoka\"]\n"
   ]
  },
  {
   "cell_type": "code",
   "execution_count": null,
   "metadata": {},
   "outputs": [],
   "source": [
    "from sklearn import manifold\n",
    "\n",
    "# 非計量多次元尺度法を使う場合にはmetric=Falseを指定するが、残念ながらなぜかそれではちゃんと動かない。\n",
    "mds = manifold.MDS(n_components=2, dissimilarity=\"precomputed\", max_iter=1000, n_init=100, metric=True)\n",
    "pos = mds.fit_transform(table)\n",
    "\n",
    "%matplotlib inline\n",
    "from matplotlib import pyplot as plt\n",
    "from matplotlib.font_manager import FontProperties, FontManager\n",
    "\n",
    "plt.scatter(pos[:,0], pos[:,1])\n",
    "\n",
    "for label, x, y in zip(stations, pos[:, 0], pos[:, 1]):\n",
    "    plt.annotate(\n",
    "        label,\n",
    "        xy = (x, y), xytext = (60, 10),\n",
    "        textcoords = 'offset points', ha = 'right', va = 'bottom',\n",
    "        bbox = dict(boxstyle = 'round,pad=0.5', fc = 'yellow', alpha = 0.5),\n",
    "        arrowprops = dict(arrowstyle = '->', connectionstyle = 'arc3,rad=0')\n",
    "    )\n"
   ]
  },
  {
   "cell_type": "code",
   "execution_count": null,
   "metadata": {},
   "outputs": [],
   "source": [
    "from scipy.spatial.distance import cdist\n",
    "\n",
    "def nmds(pos, table, nloop=300):\n",
    "    \"\"\"\n",
    "    table contains the order of closeness\n",
    "    \n",
    "    まだ動かない\n",
    "    \"\"\"\n",
    "    N = pos.shape[0]\n",
    "    # target order\n",
    "    target = np.sort(table.reshape((N*N,)))\n",
    "    print(target)\n",
    "    \n",
    "    scale = 0.02\n",
    "    for loop in range(nloop):\n",
    "        # real-space order\n",
    "        D = cdist(pos, pos)\n",
    "        Dorder = np.dstack(np.unravel_index(np.argsort(D.ravel()), (N, N)))\n",
    "        #print(Dorder)\n",
    "        E = 0\n",
    "        oldpos = pos.copy()\n",
    "        for i,oo in enumerate(Dorder[0]):\n",
    "            j,k = oo\n",
    "            # 現在の順序はtarget[i]\n",
    "            # あってほしい順序はtable[j,k]\n",
    "            #print(oo,target[i],table[j,k])\n",
    "            if target[i] < table[j,k]:\n",
    "                # jkを遠ざける\n",
    "                d = oldpos[k] - oldpos[j]\n",
    "                pos[k] += d*scale\n",
    "                pos[j] -= d*scale\n",
    "                E += 1\n",
    "            elif table[j,k] < target[i]:\n",
    "                # jkを近づける\n",
    "                d = oldpos[k] - oldpos[j]\n",
    "                pos[k] -= d*scale\n",
    "                pos[j] += d*scale\n",
    "                E += 1\n",
    "            else:\n",
    "                pass\n",
    "        scale *= 0.995\n",
    "        print(E)\n",
    "    return E\n",
    "\n",
    "pos = np.random.random((table.shape[0], 2))\n",
    "E = nmds(pos, table)\n",
    "print(E)\n",
    "plt.scatter(pos[:,0], pos[:,1])\n",
    "\n"
   ]
  },
  {
   "cell_type": "code",
   "execution_count": null,
   "metadata": {},
   "outputs": [],
   "source": [
    "table = np.array([[0,1,2,2,1],[1,0,1,2,2],[2,1,0,1,2],[2,2,1,0,1],[1,2,2,1,0]])\n",
    "pos = np.random.random((table.shape[0],2))\n",
    "plt.plot(pos[:,0], pos[:,1])\n",
    "E = nmds(pos, table)\n",
    "print(E)\n",
    "plt.plot(pos[:,0], pos[:,1])"
   ]
  }
 ],
 "metadata": {
  "kernelspec": {
   "display_name": "Python 3",
   "language": "python",
   "name": "python3"
  },
  "language_info": {
   "codemirror_mode": {
    "name": "ipython",
    "version": 3
   },
   "file_extension": ".py",
   "mimetype": "text/x-python",
   "name": "python",
   "nbconvert_exporter": "python",
   "pygments_lexer": "ipython3",
   "version": "3.6.5"
  }
 },
 "nbformat": 4,
 "nbformat_minor": 2
}

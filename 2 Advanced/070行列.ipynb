{
 "cells": [
  {
   "cell_type": "markdown",
   "metadata": {},
   "source": [
    "# 行列\n",
    "二次元リストは行列とみなすことができます。"
   ]
  },
  {
   "cell_type": "code",
   "execution_count": null,
   "metadata": {
    "collapsed": false
   },
   "outputs": [],
   "source": [
    "m = [[1,2],[3,4]]\n",
    "m"
   ]
  },
  {
   "cell_type": "markdown",
   "metadata": {},
   "source": [
    "行列は、横ベクトルを束ねたものともみなせます。"
   ]
  },
  {
   "cell_type": "code",
   "execution_count": null,
   "metadata": {
    "collapsed": false
   },
   "outputs": [],
   "source": [
    "a = [1,2]\n",
    "b = [3,4]\n",
    "m = [a,b]\n",
    "m"
   ]
  },
  {
   "cell_type": "markdown",
   "metadata": {},
   "source": [
    "縦ベクトルを束ねる場合には、転置が必要です。"
   ]
  },
  {
   "cell_type": "code",
   "execution_count": null,
   "metadata": {
    "collapsed": false
   },
   "outputs": [],
   "source": [
    "#ファイル入出力で作った関数transposeを流用する。\n",
    "def transpose(matrix, default=None):\n",
    "    #列数の最大値を調べる。\n",
    "    maxc = 0\n",
    "    for row in matrix:\n",
    "        if maxc < len(row):\n",
    "            maxc = len(row)\n",
    "    #コラムの数は列数の最大値\n",
    "    columns = [[] for i in range(maxc)]\n",
    "    for row in matrix:\n",
    "        for i in range(maxc):\n",
    "            if i < len(row):\n",
    "                columns[i].append(row[i])\n",
    "            else:\n",
    "                #データが足りない部分はdefault値を入れる\n",
    "                columns[i].append(defaulr)\n",
    "    return columns\n",
    "\n",
    "c = [1,3]     #縦ベクトルのつもり\n",
    "d = [2,4]\n",
    "m = transpose([c,d])\n",
    "m"
   ]
  },
  {
   "cell_type": "markdown",
   "metadata": {},
   "source": [
    "行列式は、2x2行列だと簡単ですが、一般にはけっこう面倒な計算が必要になります。\n",
    "\n",
    "余因子行列を求める関数cofactor(m,x,y)を次のように定義しましょう。"
   ]
  },
  {
   "cell_type": "code",
   "execution_count": null,
   "metadata": {
    "collapsed": false
   },
   "outputs": [],
   "source": [
    "def cofactor(m,row,col):\n",
    "    size = len(m)             #正方行列であると仮定した。\n",
    "    #ひとまわり小さい行列を準備する。\n",
    "    cof = [[0 for i in range(size-1)] for j in range(size-1)]\n",
    "    for r0 in range(size-1):\n",
    "        r = r0\n",
    "        if row <= r:\n",
    "            r += 1\n",
    "        for c0 in range(size-1):\n",
    "            c = c0\n",
    "            if col <= c:\n",
    "                c += 1\n",
    "            cof[r0][c0] = m[r][c]\n",
    "    return cof\n",
    "\n",
    "def __test__cofactor():\n",
    "    m = [[1,2,3],[4,5,6],[7,8,9]]\n",
    "    for i in range(3):\n",
    "        for j in range(3):\n",
    "            print(cofactor(m,j,i))\n",
    "\n",
    "__test__cofactor()"
   ]
  },
  {
   "cell_type": "markdown",
   "metadata": {},
   "source": [
    "## 行列式\n",
    "行列式は、余因子を使って再帰的に定義されます。"
   ]
  },
  {
   "cell_type": "code",
   "execution_count": null,
   "metadata": {
    "collapsed": false
   },
   "outputs": [],
   "source": [
    "def det(m):\n",
    "    size = len(m)\n",
    "    if size == 1:\n",
    "        return m[0][0]\n",
    "    sign = +1\n",
    "    sum  = 0.0\n",
    "    for col in range(size):\n",
    "        sum += sign * m[0][col] * det(cofactor(m,0,col))\n",
    "        sign = -sign\n",
    "    return sum\n",
    "\n",
    "m = [[1,0,0],[0,2,0],[0,0,3]]\n",
    "print(det(m))"
   ]
  },
  {
   "cell_type": "markdown",
   "metadata": {},
   "source": [
    "関数の中から、その関数自身を呼びだすことを再帰と言います。再帰を書く時には、終了条件(上の例では、サイズが1の場合には再帰しない)を必ず書くことと、その終了条件が必ず(いずれ)実行されることが必要です。"
   ]
  },
  {
   "cell_type": "markdown",
   "metadata": {},
   "source": [
    "## 逆行列\n",
    "逆行列は、余因子を使えばきれいに一般的に書けますが、計算量が多くなります。掃き出し法は計算量は少ないのですが、確実に動作するためには条件分けが複雑になりそうです。ここではせっかく余因子を求める関数を作ったので、前者で計算しましょう。"
   ]
  },
  {
   "cell_type": "code",
   "execution_count": null,
   "metadata": {
    "collapsed": false
   },
   "outputs": [],
   "source": [
    "def inv(m):\n",
    "    size = len(m)\n",
    "    d    = det(m)\n",
    "    im   = [[0 for i in range(size)] for j in range(size)]   #mと同じ大きさの行列を準備する。\n",
    "    for row in range(size):\n",
    "        for col in range(size):\n",
    "            if (row+col) % 2 == 0:\n",
    "                sign = +1\n",
    "            else:\n",
    "                sign = -1\n",
    "            im[row][col] = sign * det(cofactor(m,row,col)) / d\n",
    "    return transpose(im)\n",
    "\n",
    "m = [[1,0,0],[0,2,0],[0,0,3]]\n",
    "print(inv(m))    "
   ]
  },
  {
   "cell_type": "markdown",
   "metadata": {},
   "source": [
    "## 行列の和\n",
    "和は簡単に書けます。"
   ]
  },
  {
   "cell_type": "code",
   "execution_count": null,
   "metadata": {
    "collapsed": false
   },
   "outputs": [],
   "source": [
    "def add(m,n):\n",
    "    size = len(m)\n",
    "    r    = [[0 for i in range(size)] for j in range(size)]   #mと同じ大きさの行列を準備する。\n",
    "    for row in range(size):\n",
    "        for col in range(size):\n",
    "            r[row][col] = m[row][col] + n[row][col]\n",
    "    return r\n",
    "\n",
    "m = [[1,0,0],[0,2,0],[0,0,3]]\n",
    "n = [[1,2,3],[4,5,6],[7,8,9]]\n",
    "print(add(m,n))"
   ]
  },
  {
   "cell_type": "markdown",
   "metadata": {},
   "source": [
    "## 行列の積\n",
    "積は、手計算の手順を忠実にプログラムに書きなおします。"
   ]
  },
  {
   "cell_type": "code",
   "execution_count": null,
   "metadata": {
    "collapsed": false
   },
   "outputs": [],
   "source": [
    "def mul(m,n):\n",
    "    size = len(m)\n",
    "    r    = [[0 for i in range(size)] for j in range(size)]   #mと同じ大きさの行列を準備する。\n",
    "    for row in range(size):\n",
    "        for col in range(size):\n",
    "            sum = 0.0\n",
    "            for seq in range(size):\n",
    "                sum += m[row][seq] * n[seq][col]\n",
    "            r[row][col] = sum\n",
    "    return r\n",
    "\n",
    "m = [[1,0,0],[0,2,0],[0,0,3]]\n",
    "n = [[1,2,3],[4,5,6],[7,8,9]]\n",
    "print(mul(m,n))"
   ]
  },
  {
   "cell_type": "markdown",
   "metadata": {},
   "source": [
    "試しに、ある行列と逆行列を掛けて、単位行列が得られることを確認してみます。"
   ]
  },
  {
   "cell_type": "code",
   "execution_count": null,
   "metadata": {
    "collapsed": false
   },
   "outputs": [],
   "source": [
    "n = [[1,2,3],[4,5,6],[7,8,10]]\n",
    "ninv = inv(n)\n",
    "print(ninv)\n",
    "print(mul(n,ninv))"
   ]
  },
  {
   "cell_type": "code",
   "execution_count": null,
   "metadata": {
    "collapsed": true
   },
   "outputs": [],
   "source": []
  }
 ],
 "metadata": {
  "kernelspec": {
   "display_name": "Python 3",
   "language": "python",
   "name": "python3"
  },
  "language_info": {
   "codemirror_mode": {
    "name": "ipython",
    "version": 3
   },
   "file_extension": ".py",
   "mimetype": "text/x-python",
   "name": "python",
   "nbconvert_exporter": "python",
   "pygments_lexer": "ipython3",
   "version": "3.5.1"
  }
 },
 "nbformat": 4,
 "nbformat_minor": 0
}

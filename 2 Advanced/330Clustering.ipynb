{
  "nbformat": 4,
  "nbformat_minor": 0,
  "metadata": {
    "kernelspec": {
      "display_name": "Python 3",
      "language": "python",
      "name": "python3"
    },
    "language_info": {
      "codemirror_mode": {
        "name": "ipython",
        "version": 3
      },
      "file_extension": ".py",
      "mimetype": "text/x-python",
      "name": "python",
      "nbconvert_exporter": "python",
      "pygments_lexer": "ipython3",
      "version": "3.7.3"
    },
    "colab": {
      "name": "330Clustering.ipynb",
      "provenance": [],
      "include_colab_link": true
    }
  },
  "cells": [
    {
      "cell_type": "markdown",
      "metadata": {
        "id": "view-in-github",
        "colab_type": "text"
      },
      "source": [
        "<a href=\"https://colab.research.google.com/github/vitroid/PythonTutorials/blob/2021/2%20Advanced/330Clustering.ipynb\" target=\"_parent\"><img src=\"https://colab.research.google.com/assets/colab-badge.svg\" alt=\"Open In Colab\"/></a>"
      ]
    },
    {
      "cell_type": "markdown",
      "metadata": {
        "id": "XvgYlJuWKFFn"
      },
      "source": [
        "# 写真の減色\n",
        "\n",
        "画像データは1600万色程度の色彩を表現できるが、これは一般的な写真の画素数よりも多い。つまり、全く使っていない色はたくさんある。また、次の写真のように、カラー写真とはいっても、実際に使っている色はそれほど多くないように見えるものもある。\n",
        "\n",
        "![](https://live.staticflickr.com/8380/8640855620_102dda223f_z_d.jpg)\n",
        "\n",
        "(CC BY 2.0 2009 SteFou! via Flickr)\n",
        "\n",
        "この写真を、できるだけ少ない色数で表示してみよう。"
      ]
    },
    {
      "cell_type": "markdown",
      "metadata": {
        "id": "1ikgbzk9KFFo"
      },
      "source": [
        "## 白黒の場合\n",
        "\n",
        "まず、この画像を入手し、色彩を落として、numpy arrayの形にする。414 x 640W pixelの画像なので、サイズ(414,640)の実数のarrayの各要素がそれぞれの画素の明るさを表す。\n"
      ]
    },
    {
      "cell_type": "code",
      "metadata": {
        "id": "5kBSSU0TKFFq"
      },
      "source": [
        "from imageio import imread\n",
        "import PIL\n",
        "\n",
        "img = imread(\"https://live.staticflickr.com/8380/8640855620_102dda223f_z_d.jpg\")\n",
        "img.shape"
      ],
      "execution_count": null,
      "outputs": []
    },
    {
      "cell_type": "markdown",
      "metadata": {
        "id": "__kTZ3GrKFF2"
      },
      "source": [
        "画像の画素ごとのデータは、通常はR(赤),G(緑),B(青)それぞれ0〜255の256段階で表現される。3色を平均して白黒画像にする。"
      ]
    },
    {
      "cell_type": "code",
      "metadata": {
        "id": "pzQz-gpYKFF3"
      },
      "source": [
        "# RGB方向の平均をとり、255で割る。\n",
        "import numpy as np\n",
        "\n",
        "#平均値は実数になってしまうので、8ビット負号なし整数(0〜255)に変換しておく。\n",
        "gray = np.average(img, axis=2).astype(np.uint8)\n",
        "gray.shape"
      ],
      "execution_count": null,
      "outputs": []
    },
    {
      "cell_type": "code",
      "metadata": {
        "id": "I-kaW2UQKFGF"
      },
      "source": [
        "gray"
      ],
      "execution_count": null,
      "outputs": []
    },
    {
      "cell_type": "code",
      "metadata": {
        "id": "5akTd-H4KFGM"
      },
      "source": [
        "# displayはJupyterの機能。\n",
        "display(PIL.Image.fromarray(gray))"
      ],
      "execution_count": null,
      "outputs": []
    },
    {
      "cell_type": "markdown",
      "metadata": {
        "id": "kuLmrUSCKFGb"
      },
      "source": [
        "ヒストグラムを作る。"
      ]
    },
    {
      "cell_type": "code",
      "metadata": {
        "id": "QvB9Kx0aKFGc"
      },
      "source": [
        "%matplotlib inline\n",
        "from matplotlib import pyplot as plt\n",
        "import numpy as np\n",
        "Y,X = np.histogram(gray, bins=32)\n",
        "plt.plot(X[:-1],Y)"
      ],
      "execution_count": null,
      "outputs": []
    },
    {
      "cell_type": "markdown",
      "metadata": {
        "id": "GNoYk6_DKFGh"
      },
      "source": [
        "ピクセルの明るさが、100〜220に集中しているのがわかります。"
      ]
    },
    {
      "cell_type": "markdown",
      "metadata": {
        "id": "OCGIKKRAKFGi"
      },
      "source": [
        "## 単純に階調を8等分して、8階調にする\n",
        "\n",
        "何も考えず、この画像を8階調に落してみます。0〜255の階調を8階調にするには、\n",
        "* 0〜31を全部0に\n",
        "* 32〜63を全部32に\n",
        "* ...\n",
        "* 224〜255を全部224に\n",
        "置きかえればいいのです。\n",
        "\n",
        "これにはLUT(Lookup table)を使います。\n",
        "\n",
        "まず、0〜255を8つの色に対応させる対応表(lookup table)を準備します。"
      ]
    },
    {
      "cell_type": "code",
      "metadata": {
        "id": "3mFv2es_pJqm"
      },
      "source": [
        "lut = np.zeros(256, dtype=np.uint8)  #8ビット整数の配列\n",
        "\n",
        "for i in range(256):\n",
        "    lut[i] = (i//32)*32  #整数32で割ってから32倍する。\n",
        "\n",
        "plt.xlabel(\"original grades\")\n",
        "plt.ylabel(\"stepping grades\")\n",
        "plt.plot(lut)"
      ],
      "execution_count": null,
      "outputs": []
    },
    {
      "cell_type": "markdown",
      "metadata": {
        "id": "_2QGoVeOqrdv"
      },
      "source": [
        "numpyのFancy indexでグレースケール画像を段階画像に一発変換。"
      ]
    },
    {
      "cell_type": "code",
      "metadata": {
        "id": "fwv0T4HDKFGj"
      },
      "source": [
        "simple8 = lut[gray]\n",
        "display(PIL.Image.fromarray(simple8))"
      ],
      "execution_count": null,
      "outputs": []
    },
    {
      "cell_type": "markdown",
      "metadata": {
        "id": "NVRvAonVKFGu"
      },
      "source": [
        "なんかのっぺりとしてわかりにくい絵になってしまいました。コントラストが小さいせいでしょう。灰色の階調をもう少しこまかくとりたいところです。"
      ]
    },
    {
      "cell_type": "markdown",
      "metadata": {
        "id": "oGWqbkWsKFGv"
      },
      "source": [
        "## ヒストグラムにもとづいた彩色\n",
        "\n"
      ]
    },
    {
      "cell_type": "markdown",
      "metadata": {
        "id": "k-HY7xWaKFHd"
      },
      "source": [
        "ヒストグラムにより、暗い色が少なく、明るい色に偏っていることがわかっているので、明るいところを細かい階調で表現するのがよさそうです。\n",
        "\n",
        "そこで、8階調に落とす時に、各階調の画素の数が均等になるようにしましょう。つまり、上のグラフを、面積が等しくなるように8等分します。\n",
        "\n",
        "そのために、まずすべての画素を暗い順に並べます。"
      ]
    },
    {
      "cell_type": "code",
      "metadata": {
        "id": "FmNlzEp3KFHd"
      },
      "source": [
        "height, width = gray.shape\n",
        "Npix = height*width\n",
        "# 1次元にして、輝度の小さい順にソートする。\n",
        "pixels = np.sort(gray.reshape(Npix))\n",
        "pixels"
      ],
      "execution_count": null,
      "outputs": []
    },
    {
      "cell_type": "code",
      "metadata": {
        "id": "IFz-FWCHraxj"
      },
      "source": [
        "plt.xlabel(\"Pixel\")\n",
        "plt.ylabel(\"Brightness\")\n",
        "plt.plot(pixels)\n",
        "for i in range(9):\n",
        "    plt.axvline(Npix*i//8, 0, 255)"
      ],
      "execution_count": null,
      "outputs": []
    },
    {
      "cell_type": "code",
      "metadata": {
        "id": "t26FYCc4KFH0"
      },
      "source": [
        "# (Npix/8) 個目の画素は?\n",
        "pixels[Npix//8]"
      ],
      "execution_count": null,
      "outputs": []
    },
    {
      "cell_type": "markdown",
      "metadata": {
        "id": "5Zst45KdKFH4"
      },
      "source": [
        "なので、輝度が108以下の画素は全部輝度を108/2=54にする。\n",
        "\n",
        "Npix 番目から Npix/4 番目の画素は、"
      ]
    },
    {
      "cell_type": "code",
      "metadata": {
        "id": "dtmVbGdyKFH7"
      },
      "source": [
        "pixels[Npix//4]"
      ],
      "execution_count": null,
      "outputs": []
    },
    {
      "cell_type": "markdown",
      "metadata": {
        "id": "LMr2K6bKKFIH"
      },
      "source": [
        "なので、108以上128以下の画素は全部輝度を(108+128)/2=118にする。\n",
        "\n",
        "以下同様。これを8階調まとめてやってみよう。"
      ]
    },
    {
      "cell_type": "code",
      "metadata": {
        "id": "Fa0s57SmKFII"
      },
      "source": [
        "for i in range(8):\n",
        "    # range\n",
        "    smallest = Npix*i//8\n",
        "    largest  = Npix*(i+1)//8 - 1\n",
        "    # brightness of the pixels at the two ends\n",
        "    Ps = pixels[smallest]\n",
        "    Pl = pixels[largest]\n",
        "    # average of the two\n",
        "    Pm = (Ps+Pl)/2\n",
        "    print(i,Ps,Pl,Pm)"
      ],
      "execution_count": null,
      "outputs": []
    },
    {
      "cell_type": "markdown",
      "metadata": {
        "id": "opf4TaXVKFIO"
      },
      "source": [
        "うまいぐあいにできている。これを使って、対応表を作ってみよう。"
      ]
    },
    {
      "cell_type": "code",
      "metadata": {
        "id": "aQkT_4MnKFIR"
      },
      "source": [
        "for i in range(8):\n",
        "    # range\n",
        "    smallest = Npix*i//8\n",
        "    largest  = Npix*(i+1)//8 - 1\n",
        "    # brightness of the pixels at the two ends\n",
        "    Ps = int(pixels[smallest])\n",
        "    Pl = int(pixels[largest])\n",
        "    # average of the two\n",
        "    Pm = (Ps+Pl)//2\n",
        "    for j in range(Ps, Pl):\n",
        "        print(j,Pm)\n",
        "        lut[j] = Pm\n",
        "\n",
        "plt.plot(lut)"
      ],
      "execution_count": null,
      "outputs": []
    },
    {
      "cell_type": "markdown",
      "metadata": {
        "id": "wTX3aiIVvTIy"
      },
      "source": [
        "またFancy Indexで色変換。"
      ]
    },
    {
      "cell_type": "code",
      "metadata": {
        "id": "vyWUHgzgKFIZ"
      },
      "source": [
        "equi8=lut[gray]\n",
        "display(PIL.Image.fromarray(equi8))"
      ],
      "execution_count": null,
      "outputs": []
    },
    {
      "cell_type": "markdown",
      "metadata": {
        "id": "ZBiaZ-wYKFId"
      },
      "source": [
        "ちょっとメリハリがついて、背景と桜が見分けられるようになった。"
      ]
    },
    {
      "cell_type": "markdown",
      "metadata": {
        "id": "KVcl8JjqKFIu"
      },
      "source": [
        "## カラーの場合\n",
        "\n",
        "デジタルカラー画像は赤、緑、青それぞれの強度が256段階あり、1600万通りの色彩がありうる。RGBをそれぞれ8段階にしたとしても、64色は必要になる。8色にまで落とすためには、3色をon/offの2段階にまで落とす必要があり、やる前からうまくいかないのは目に見えている。"
      ]
    },
    {
      "cell_type": "code",
      "metadata": {
        "id": "QLZyjo7yKFJR"
      },
      "source": [
        "simple = img.copy()\n",
        "# 画素の輝度が128より小さい点はすべて0にする。\n",
        "simple[img<128]=0\n",
        "# 128より大きい点はすべて255にする。\n",
        "simple[img>=128]=255\n",
        "display(PIL.Image.fromarray(simple))"
      ],
      "execution_count": null,
      "outputs": []
    },
    {
      "cell_type": "markdown",
      "metadata": {
        "id": "jHJXZlCEKFKV"
      },
      "source": [
        "酷い。\n",
        "\n",
        "もとの絵に含まれているピクセルの色の分布を、RGB3次元の空間で表してみる。"
      ]
    },
    {
      "cell_type": "code",
      "metadata": {
        "id": "P2tLUGYcED5Z"
      },
      "source": [
        "# 写真に使われていた色を、RGB空間にプロットする。\n",
        "import plotly.graph_objs as go\n",
        "import cv2\n",
        "\n",
        "tiny = cv2.resize(img, (img.shape[1]//4, img.shape[0]//4))\n",
        "height, width = tiny.shape[:2]\n",
        "Npix = height*width\n",
        "\n",
        "pixels = tiny.reshape(Npix, 3)\n",
        "\n",
        "colors = ['rgb({0},{1},{2})'.format(r,g,b) for r,g,b in pixels[:]]\n",
        "trace=dict(type='scatter3d',\n",
        "           x= pixels[:,0],\n",
        "           y= pixels[:,1],\n",
        "           z= pixels[:,2],\n",
        "           mode='markers',\n",
        "           marker=dict(color=colors,\n",
        "                       size=3)\n",
        "          )\n",
        "fig = go.Figure(data=trace)\n",
        "fig.update_layout(scene = dict(\n",
        "                    xaxis_title='R',\n",
        "                    yaxis_title='G',\n",
        "                    zaxis_title='B'))\n",
        "fig.show()"
      ],
      "execution_count": null,
      "outputs": []
    },
    {
      "cell_type": "markdown",
      "metadata": {
        "id": "auNOBam8KFKW"
      },
      "source": [
        "使われている色はとても偏っていることがわかる。\n",
        "\n",
        "そこで、k-平均分類という機械学習の手法を使ってみる。k-平均分類は、機械学習において、多次元空間に散在する多数の点を、近いもの同士で集めて、クラスターにする手法である。\n",
        "\n",
        "桜の写真の画素は、R,G,Bを3つの軸とする立方体の中の点で表される。上の写真には640x414=265000点の画素があり、それらは立方体の中で偏って分布している。おそらくピンクに相当する部分に多数の点が集中し、ほかに緑や黒に相当する領域に小さな集団を作っているはずだ。\n",
        "\n",
        "そこで、この3次元空間内の点を、近いものどうしをつないでいくことで、領域分割する手法がk-平均法 (k-means classifier)である。\n",
        "\n",
        "![](https://scikit-learn.org/stable/_images/sphx_glr_plot_kmeans_digits_001.png)\n",
        "\n",
        "2次元でのk-近傍分類器はこんな感じ。10グループに分けろ、と指定すると、10種類に分けてくれる。それぞれのクラスターの重心点で色を代表させれば、色数を減らせる。\n",
        "\n",
        "k平均法は、機械学習ライブラリscikit-learnに含まれているKMeansを使う。"
      ]
    },
    {
      "cell_type": "code",
      "metadata": {
        "id": "zgS6SW6BKFKi"
      },
      "source": [
        "# Pythonデータサイエンスハンドブック 5.11.1\n",
        "from sklearn.cluster import KMeans\n",
        "\n",
        "height, width = img.shape[:2]\n",
        "Npix = height*width\n",
        "\n",
        "#画像をピクセル列に変換する(そうしないとk-meansが使えない)\n",
        "pixels = img.reshape(Npix, 3)\n",
        "\n",
        "# 8つの代表的な色をさがさせる。\n",
        "kmeans = KMeans(n_clusters=8, max_iter=2000)\n",
        "kmeans.fit(pixels)\n",
        "kmeans.cluster_centers_"
      ],
      "execution_count": null,
      "outputs": []
    },
    {
      "cell_type": "markdown",
      "metadata": {
        "id": "TV9_WxwHKFKm"
      },
      "source": [
        "代表色をならべる"
      ]
    },
    {
      "cell_type": "code",
      "metadata": {
        "id": "W49ltHnqKFKm"
      },
      "source": [
        "import numpy as np\n",
        "\n",
        "squares = np.zeros([8,100,100,3])\n",
        "for i in range(8):\n",
        "    squares[i,:,:] = kmeans.cluster_centers_[i]\n",
        "    display(PIL.Image.fromarray(squares[i].astype(np.uint8)))"
      ],
      "execution_count": null,
      "outputs": []
    },
    {
      "cell_type": "code",
      "metadata": {
        "id": "GwxRnYcmKFK6"
      },
      "source": [
        "# それぞれのピクセルに一番近い中心は何番か。\n",
        "kmeans.predict(pixels)"
      ],
      "execution_count": null,
      "outputs": []
    },
    {
      "cell_type": "code",
      "metadata": {
        "id": "_WBahDDvKFLK"
      },
      "source": [
        "# ピクセルごとの色の変換表を作る\n",
        "\n",
        "new_pixels = kmeans.cluster_centers_[kmeans.predict(pixels)]\n",
        "new_pixels"
      ],
      "execution_count": null,
      "outputs": []
    },
    {
      "cell_type": "code",
      "metadata": {
        "id": "ZD1Nt9_RKFLa"
      },
      "source": [
        "# new_pixelsを8ビット整数にし、arrayの形をもとに戻し、画像として表示する。\n",
        "display(PIL.Image.fromarray(new_pixels.astype(np.uint8).reshape(height, width, 3)))"
      ],
      "execution_count": null,
      "outputs": []
    },
    {
      "cell_type": "markdown",
      "metadata": {
        "id": "pa5frP40KFLl"
      },
      "source": [
        "たった8色でもここまで雰囲気が出せました。ただし、平均的な色でクラスターを代表するせいで、発色が落ちています。\n",
        "\n",
        "どのようにクラスター化されたかを、RGB3次元で見てみましょう。"
      ]
    },
    {
      "cell_type": "code",
      "metadata": {
        "id": "ymvqTj_hFP_J"
      },
      "source": [
        "# 各ピクセルの色が、どの色に減色されたかを散布図で示す。8つの領域に分割されている。\n",
        "\n",
        "import plotly.graph_objs as go\n",
        "\n",
        "height, width = tiny.shape[:2]\n",
        "Npix = height*width\n",
        "\n",
        "pixels = tiny.reshape(Npix, 3)\n",
        "pred   = kmeans.cluster_centers_[kmeans.predict(pixels)].reshape(Npix, 3)\n",
        "\n",
        "colors = ['rgb({0},{1},{2})'.format(r,g,b) for r,g,b in pred[:]]\n",
        "trace=dict(type='scatter3d',\n",
        "           x= pixels[:,0],\n",
        "           y= pixels[:,1],\n",
        "           z= pixels[:,2],\n",
        "           mode='markers',\n",
        "           marker=dict(color=colors,\n",
        "                       size=3)\n",
        "          )\n",
        "fig = go.Figure(data=trace)\n",
        "fig.update_layout(scene = dict(\n",
        "                    xaxis_title='R',\n",
        "                    yaxis_title='G',\n",
        "                    zaxis_title='B'))\n",
        "fig.show()"
      ],
      "execution_count": null,
      "outputs": []
    },
    {
      "cell_type": "markdown",
      "metadata": {
        "id": "PO46edRVwG1Y"
      },
      "source": [
        "機械学習を利用するときは、こういった検証作業をきっちりやっておくと、不可解な現象が起こるのを防げます。"
      ]
    },
    {
      "cell_type": "markdown",
      "metadata": {
        "id": "wfhPRXh2KFLm"
      },
      "source": [
        "## 以下は準備中\n",
        "\n",
        "さらに色の縞を減らすために、誤差拡散法によるディザリングを行います。"
      ]
    },
    {
      "cell_type": "markdown",
      "metadata": {
        "id": "my5v25GeKFLr"
      },
      "source": [
        "Ditheringの性能を向上するためには、色空間内でパレットに含まれる点が作る凸包ができるだけ多くの点をふくみ、なおかつピクセル色から最近パレット色までの距離が小さくなるようにパレット色を選ぶ必要がある。上の手法では、前者の条件がないために、発色が劣化する。\n",
        "\n",
        "これは幾何学的な最適化問題だが、時間をかけて良いなら解決できる。\n",
        "\n",
        "凸包の中の点は、混色で必ず近似できるが、凸包の外の点(色域外点)はいかに混色しても作れない。そのため、外の点のほうがペナルティを大きくする必要がある。色域外点は、凸包の表面の最近点からの距離が遠いほどペナルティが大きい。"
      ]
    },
    {
      "cell_type": "code",
      "metadata": {
        "id": "o_uCNVQOKFLr"
      },
      "source": [
        "# すべての点をべつべつに評価するのは大変なので、あらかじめ16x16x16のヒストグラムにおさめておく。\n",
        "\n",
        "H = np.histogramdd(img.reshape(width*height,3) / 255, bins=(16,16,16))\n",
        "hist = H[0].reshape([16*16*16])\n",
        "\n",
        "fp = np.array([[x,y,z]\n",
        "               for x in (0,0.999)\n",
        "               for y in (0,0.999)\n",
        "               for z in (0,0.999)])\n",
        "fp = np.random.random([8,3])*0.1+0.9\n",
        "\n",
        "fp"
      ],
      "execution_count": null,
      "outputs": []
    },
    {
      "cell_type": "code",
      "metadata": {
        "id": "fyEsKBboKFL1"
      },
      "source": [
        "# 使われている色を、頻度順に並べてみる。\n",
        "\n",
        "ind=[(x,y,z)\n",
        "     for x in range(16)\n",
        "     for y in range(16)\n",
        "     for z in range(16)]\n",
        "x=0\n",
        "y=0\n",
        "pal=np.zeros([160,160,3])\n",
        "for xyz in sorted(ind, key=lambda x: H[0][x], reverse=True):\n",
        "    if H[0][xyz] > 0:\n",
        "        pal[y*10:(y+1)*10,x*10:(x+1)*10] = np.array(xyz)*255/15\n",
        "        x += 1\n",
        "        if x == 16:\n",
        "            x=0\n",
        "            y += 1\n",
        "#        print(xyz, H[0][xyz])\n",
        "display(PIL.Image.fromarray(pal.astype(np.uint8)))"
      ],
      "execution_count": null,
      "outputs": []
    },
    {
      "cell_type": "markdown",
      "metadata": {
        "id": "RmnscpzeKFMC"
      },
      "source": [
        "# histogtamddの格納順がよくわからないので、実験する\n",
        "\n",
        "data = np.array([[0,0,0], [1,0,0], [0,1,0], [0,0,1], [0.2, 0.4, 0.8]])\n",
        "H = np.histogramdd(data, bins=(4,4,4))\n",
        "H[0][0,1,3]"
      ]
    },
    {
      "cell_type": "markdown",
      "metadata": {
        "id": "IVnOuh8-KFMD"
      },
      "source": [
        "(x,y,z)の順で対応していることがわかった。"
      ]
    },
    {
      "cell_type": "code",
      "metadata": {
        "id": "HwMO5uKLKFMD"
      },
      "source": [
        "?np.histogramdd"
      ],
      "execution_count": null,
      "outputs": []
    },
    {
      "cell_type": "code",
      "metadata": {
        "id": "Pt94cV81KFMV"
      },
      "source": [
        "from scipy.spatial import ConvexHull\n",
        "hull =  ConvexHull(fp)"
      ],
      "execution_count": null,
      "outputs": []
    },
    {
      "cell_type": "code",
      "metadata": {
        "id": "R2W2xcLtKFMZ"
      },
      "source": [
        "# Distances of points from a 3D convex hull\n",
        "#\n",
        "# https://stackoverflow.com/questions/55460133/distance-to-convex-hull-from-point-in-3d-in-python\n",
        "\n",
        "from PyGEL3D import gel\n",
        "\n",
        "def dist(hull, points):\n",
        "    # Construct PyGEL Manifold from the convex hull\n",
        "    m = gel.Manifold()\n",
        "    for s in hull.simplices:\n",
        "        m.add_face(hull.points[s])\n",
        "\n",
        "    dist = gel.MeshDistance(m)\n",
        "    res = []\n",
        "    for p in points:\n",
        "        # Get the distance to the point\n",
        "        # But don't trust its sign, because of possible\n",
        "        # wrong orientation of mesh face\n",
        "        d = dist.signed_distance(p)\n",
        "\n",
        "        # Correct the sign with ray inside test\n",
        "        if dist.ray_inside_test(p):\n",
        "            if d > 0:\n",
        "                d *= -1\n",
        "        else:\n",
        "            if d < 0:\n",
        "                d *= -1\n",
        "        res.append(d)\n",
        "    return np.array(res)\n"
      ],
      "execution_count": null,
      "outputs": []
    },
    {
      "cell_type": "code",
      "metadata": {
        "id": "9nCt7Ek5KFM8"
      },
      "source": [
        "points = np.array([(x+0.5,y+0.5,z+0.5)\n",
        "                   for x in range(16)\n",
        "                   for y in range(16)\n",
        "                   for z in range(16)])\n",
        "points /= 16"
      ],
      "execution_count": null,
      "outputs": []
    },
    {
      "cell_type": "code",
      "metadata": {
        "id": "ftUoJeg2KFNC"
      },
      "source": [
        "%matplotlib inline\n",
        "from matplotlib import pyplot as plt\n",
        "\n",
        "plt.plot(dist(hull,points))"
      ],
      "execution_count": null,
      "outputs": []
    },
    {
      "cell_type": "markdown",
      "metadata": {
        "id": "vRefkyI9KFNE"
      },
      "source": [
        "ほとんどの点がhullの外にある。\n",
        "\n",
        "ペナルティを計算する。\n",
        "\n",
        "* hull内の点は、一番近い点からの距離をペナルティとする。\n",
        "* hull外の点は、hullまでの距離をペナルティとする。\n",
        "* 両者のバランスは係数Cで調節する。"
      ]
    },
    {
      "cell_type": "code",
      "metadata": {
        "id": "h1aGntH0KFNF"
      },
      "source": [
        "import random\n",
        "\n",
        "def Penalty(fp,points,hist):\n",
        "    C=250.0\n",
        "    hull =  ConvexHull(fp)\n",
        "    distances = dist(hull, points)\n",
        "    penalty = 0.0\n",
        "    insider = 0\n",
        "    outsider = 0\n",
        "    for d,p,w in zip(distances, points, hist):\n",
        "        if w > 0.0:\n",
        "            if d > 0:\n",
        "                penalty += d*C*w\n",
        "                outsider += 1\n",
        "            else:\n",
        "                Dmin = 1e99\n",
        "                for v in fp:\n",
        "                    D = np.linalg.norm(v-p)\n",
        "                    if D < Dmin:\n",
        "                        Dmin = D\n",
        "                penalty += Dmin*w\n",
        "                insider += 1\n",
        "    return penalty, insider, outsider\n",
        "\n",
        "def Penalty2(fp,points,hist):\n",
        "    \"\"\"\n",
        "    Numpy style\n",
        "    \"\"\"\n",
        "    C=250.0\n",
        "    hull =  ConvexHull(fp)\n",
        "    distances = dist(hull, points)\n",
        "    penalty = 0.0\n",
        "    insider = 0\n",
        "    outsider = 0\n",
        "    d = distances[hist>0]\n",
        "    p = points[hist>0]\n",
        "    w = hist[hist>0]\n",
        "    \n",
        "    outsiders = d[d>0]\n",
        "    penalty = C*np.sum(outsiders*w[d>0])\n",
        "\n",
        "    insiders = p[d<0]\n",
        "    Dmins = np.array([np.min(np.linalg.norm(fp-P, axis=1))\n",
        "                      for P in insiders])\n",
        "    penalty += np.sum(Dmins*w[d<0])\n",
        "    return penalty, insiders.shape[0], outsiders.shape[0]\n",
        "\n",
        "\n",
        "def show_palette(fp):\n",
        "    Ncolor = fp.shape[0]\n",
        "    squares = np.zeros([20,20*Ncolor,3])\n",
        "    for i in range(Ncolor):\n",
        "        squares[:,i*20:(i+1)*20] = fp[i]*255\n",
        "    display(PIL.Image.fromarray(squares.astype(np.uint8)))"
      ],
      "execution_count": null,
      "outputs": []
    },
    {
      "cell_type": "code",
      "metadata": {
        "id": "YGiQjXrDKFNb"
      },
      "source": [
        "P, ins, outs = Penalty(fp,points,hist)\n",
        "lasti=0\n",
        "for i in range(30000):\n",
        "    particle = i % 8\n",
        "    fp_new = fp.copy()\n",
        "    fp_new[particle] += (np.random.random([3])-0.5)*0.25\n",
        "    fp_new[particle] = np.clip(fp_new[particle],0.,1.)\n",
        "    # print(fp_new[particle])\n",
        "    P_new, ins, outs = Penalty2(fp_new, points, hist)\n",
        "    if P_new < P:\n",
        "        fp = fp_new\n",
        "        P = P_new\n",
        "        if lasti + 20 < i:\n",
        "            print(i,P,ins, outs)\n",
        "            show_palette(fp)\n",
        "            lasti = i"
      ],
      "execution_count": null,
      "outputs": []
    },
    {
      "cell_type": "code",
      "metadata": {
        "id": "iQVJvkiZKFNk"
      },
      "source": [
        "def dither2(img, palettes):\n",
        "    accum = np.zeros(3)\n",
        "    result = np.zeros_like(img)\n",
        "    for r,row in enumerate(img):\n",
        "        for c,pixel in enumerate(row):\n",
        "            accum += pixel\n",
        "            bestpal = np.zeros(3)\n",
        "            bestD   = 1e99\n",
        "            for pal in palettes:\n",
        "                D = accum - pal\n",
        "                D = np.dot(D,D)\n",
        "                if D < bestD:\n",
        "                    bestD = D\n",
        "                    bestpal = pal\n",
        "            accum -= bestpal\n",
        "            result[r,c] = bestpal\n",
        "    return result"
      ],
      "execution_count": null,
      "outputs": []
    },
    {
      "cell_type": "code",
      "metadata": {
        "id": "s2mO5egJKFNp"
      },
      "source": [
        "def dither3(img, palettes):\n",
        "    accum = np.zeros(3)\n",
        "    result = np.zeros_like(img)\n",
        "    for r,row in enumerate(img):\n",
        "        for c,pixel in enumerate(row):\n",
        "            accum += pixel\n",
        "            \n",
        "            D = palettes - accum\n",
        "            D = np.sum(D*D, axis=1)\n",
        "            bestpal=np.argmin(D)\n",
        "            accum -= palettes[bestpal]\n",
        "            result[r,c] = palettes[bestpal]\n",
        "    return result"
      ],
      "execution_count": null,
      "outputs": []
    },
    {
      "cell_type": "code",
      "metadata": {
        "id": "125qbM6sKFNw"
      },
      "source": [
        "dithered = dither3(img, fp*255)\n",
        "display(PIL.Image.fromarray(dithered.astype(np.uint8)))"
      ],
      "execution_count": null,
      "outputs": []
    },
    {
      "cell_type": "code",
      "metadata": {
        "id": "QDZUFPhsKFNz"
      },
      "source": [
        "display(PIL.Image.fromarray(img))\n"
      ],
      "execution_count": null,
      "outputs": []
    },
    {
      "cell_type": "code",
      "metadata": {
        "id": "YtNTfFz5KFN4"
      },
      "source": [
        "fp_new = np.zeros([20,3])\n",
        "fp_new[:8] = fp\n",
        "fp = fp_new\n",
        "fp.shape\n"
      ],
      "execution_count": null,
      "outputs": []
    },
    {
      "cell_type": "code",
      "metadata": {
        "id": "YTms9Q8bKFN9"
      },
      "source": [
        "fp[8:16]=fp[:8]"
      ],
      "execution_count": null,
      "outputs": []
    },
    {
      "cell_type": "code",
      "metadata": {
        "id": "czJmhbF3KFOJ"
      },
      "source": [
        "# 16 colors\n",
        "\n",
        "P, ins, outs = Penalty2(fp,points,hist)\n",
        "lasti=0\n",
        "for i in range(30000):\n",
        "    Ncolor = fp.shape[0]\n",
        "    particle = i % Ncolor\n",
        "    fp_new = fp.copy()\n",
        "    fp_new[particle] += (np.random.random([3])-0.5)*0.25\n",
        "    fp_new[particle] = np.clip(fp_new[particle],0.,1.)\n",
        "    # print(fp_new[particle])\n",
        "    P_new, ins, outs = Penalty2(fp_new, points, hist)\n",
        "    if P_new < P:\n",
        "        fp = fp_new\n",
        "        P = P_new\n",
        "        if lasti + 20 < i:\n",
        "            print(i,P,ins, outs)\n",
        "            show_palette(fp)\n",
        "            lasti = i"
      ],
      "execution_count": null,
      "outputs": []
    },
    {
      "cell_type": "code",
      "metadata": {
        "id": "sK1fmIwqKFOS"
      },
      "source": [
        "dithered = dither3(img, fp*255)\n",
        "display(PIL.Image.fromarray(dithered.astype(np.uint8)))"
      ],
      "execution_count": null,
      "outputs": []
    },
    {
      "cell_type": "code",
      "metadata": {
        "id": "--AggLLPKFOa"
      },
      "source": [
        ""
      ],
      "execution_count": null,
      "outputs": []
    }
  ]
}
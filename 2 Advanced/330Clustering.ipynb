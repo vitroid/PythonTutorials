{
 "cells": [
  {
   "cell_type": "markdown",
   "metadata": {},
   "source": [
    "# 写真の減色\n",
    "\n",
    "画像データは1600万色程度の色彩を表現できるが、これは一般的な写真の画素数よりも多い。つまり、全く使っていない色はたくさんある。また、次の写真のように、カラー写真とはいっても、実際に使っている色はそれほど多くないように見えるものもある。\n",
    "\n",
    "![](https://live.staticflickr.com/8380/8640855620_102dda223f_z_d.jpg)\n",
    "\n",
    "(CC BY 2.0 2009 SteFou! via Flickr)\n",
    "\n",
    "この写真を、できるだけ少ない色数で表示してみよう。"
   ]
  },
  {
   "cell_type": "markdown",
   "metadata": {},
   "source": [
    "## 白黒の場合\n",
    "\n",
    "まず、この画像を入手し、色彩を落として、numpy arrayの形にする。414 x 640W pixelの画像なので、サイズ(414,640)の実数のarrayの各要素がそれぞれの画素の明るさを表す。\n"
   ]
  },
  {
   "cell_type": "code",
   "execution_count": null,
   "metadata": {},
   "outputs": [],
   "source": [
    "from imageio import imread\n",
    "import PIL\n",
    "\n",
    "img = imread(\"https://live.staticflickr.com/8380/8640855620_102dda223f_z_d.jpg\")\n",
    "img.shape"
   ]
  },
  {
   "cell_type": "markdown",
   "metadata": {},
   "source": [
    "画像の画素ごとのデータは、通常はR(赤),G(緑),B(青)それぞれ0〜255の256段階で表現される。3色を平均して白黒画像にする。"
   ]
  },
  {
   "cell_type": "code",
   "execution_count": null,
   "metadata": {},
   "outputs": [],
   "source": [
    "# RGB方向の平均をとり、255で割る。\n",
    "import numpy as np\n",
    "\n",
    "#平均値は実数になってしまうので、8ビット負号なし整数(0〜255)に変換しておく。\n",
    "gray = np.average(img, axis=2).astype(np.uint8)\n",
    "gray.shape"
   ]
  },
  {
   "cell_type": "code",
   "execution_count": null,
   "metadata": {},
   "outputs": [],
   "source": [
    "gray"
   ]
  },
  {
   "cell_type": "code",
   "execution_count": null,
   "metadata": {},
   "outputs": [],
   "source": [
    "# displayはJupyterの機能。\n",
    "display(PIL.Image.fromarray(gray))"
   ]
  },
  {
   "cell_type": "markdown",
   "metadata": {},
   "source": [
    "ヒストグラムを作る。"
   ]
  },
  {
   "cell_type": "code",
   "execution_count": null,
   "metadata": {},
   "outputs": [],
   "source": [
    "%matplotlib inline\n",
    "from matplotlib import pyplot as plt\n",
    "import numpy as np\n",
    "Y,X = np.histogram(gray, bins=32)\n",
    "plt.plot(X[:-1],Y)"
   ]
  },
  {
   "cell_type": "markdown",
   "metadata": {},
   "source": [
    "ピクセルの明るさが、100〜220に集中しているのがわかります。"
   ]
  },
  {
   "cell_type": "markdown",
   "metadata": {},
   "source": [
    "## 単純に階調を8等分して、8階調にする\n",
    "\n",
    "何も考えず、この画像を8階調に落してみます。0〜255の階調を8階調にするには、\n",
    "* 0〜31を全部0に\n",
    "* 32〜63を全部32に\n",
    "* ...\n",
    "* 224〜255を全部224に\n",
    "置きかえればいいのです。\n",
    "\n",
    "これには`floor()`関数が便利です。`floor(x)`関数は、`x`の小数点以下を切りすてて、`x`より小さい最大の整数を返します。"
   ]
  },
  {
   "cell_type": "code",
   "execution_count": null,
   "metadata": {},
   "outputs": [],
   "source": [
    "simple8 = (np.floor(gray/32)*32).astype(np.uint8)\n",
    "display(PIL.Image.fromarray(simple8))"
   ]
  },
  {
   "cell_type": "markdown",
   "metadata": {},
   "source": [
    "なんかのっぺりとしてわかりにくい絵になってしまいました。コントラストが小さいせいでしょう。灰色の階調をもう少しこまかくとりたいところです。"
   ]
  },
  {
   "cell_type": "markdown",
   "metadata": {},
   "source": [
    "## ヒストグラムにもとづいた彩色\n",
    "\n",
    "そこで、ヒストグラムをまず作ります。"
   ]
  },
  {
   "cell_type": "code",
   "execution_count": null,
   "metadata": {},
   "outputs": [],
   "source": [
    "hist = np.histogram(gray, bins=64)\n",
    "hist"
   ]
  },
  {
   "cell_type": "markdown",
   "metadata": {},
   "source": [
    "`np.histogram()`は2つのarrayを返します。1つめがヒストグラム、2つめはビン(区間)の目盛です。"
   ]
  },
  {
   "cell_type": "code",
   "execution_count": null,
   "metadata": {},
   "outputs": [],
   "source": [
    "hist[0].shape, hist[1].shape"
   ]
  },
  {
   "cell_type": "code",
   "execution_count": null,
   "metadata": {},
   "outputs": [],
   "source": [
    "plt.plot(hist[0])"
   ]
  },
  {
   "cell_type": "markdown",
   "metadata": {},
   "source": [
    "予想通り、暗い色が少なく、明るい色に偏っていることがわかりました、暗い色の点は少ないので、明るいところを細かい階調で表現するのがよさそうです。\n",
    "\n",
    "そこで、8階調に落とす時に、各階調の画素の数が均等になるようにしましょう。つまり、上のグラフを、面積が等しくなるように8等分します。"
   ]
  },
  {
   "cell_type": "code",
   "execution_count": null,
   "metadata": {},
   "outputs": [],
   "source": [
    "height, width = gray.shape\n",
    "Npix = height*width\n",
    "# 1次元にして、輝度の小さい順にソートする。\n",
    "pixels = np.sort(gray.reshape(Npix))\n",
    "pixels"
   ]
  },
  {
   "cell_type": "code",
   "execution_count": null,
   "metadata": {},
   "outputs": [],
   "source": [
    "# (Npix/8) 個目の画素は?\n",
    "pixels[Npix//8]"
   ]
  },
  {
   "cell_type": "markdown",
   "metadata": {},
   "source": [
    "なので、輝度が108以下の画素は全部輝度を108/2=54にする。\n",
    "\n",
    "Npix 番目から Npix/4 番目の画素は、"
   ]
  },
  {
   "cell_type": "code",
   "execution_count": null,
   "metadata": {},
   "outputs": [],
   "source": [
    "pixels[Npix//4]"
   ]
  },
  {
   "cell_type": "markdown",
   "metadata": {},
   "source": [
    "なので、108以上128以下の画素は全部輝度を(108+128)/2=118にする。\n",
    "\n",
    "以下同様。これを8階調まとめてやってみよう。"
   ]
  },
  {
   "cell_type": "code",
   "execution_count": null,
   "metadata": {},
   "outputs": [],
   "source": [
    "for i in range(8):\n",
    "    # range\n",
    "    smallest = Npix*i//8\n",
    "    largest  = Npix*(i+1)//8 - 1\n",
    "    # brightness of the pixels at the two ends\n",
    "    Ps = pixels[smallest]\n",
    "    Pl = pixels[largest]\n",
    "    # average of the two\n",
    "    Pm = (Ps+Pl)/2\n",
    "    print(i,Ps,Pl,Pm)"
   ]
  },
  {
   "cell_type": "markdown",
   "metadata": {},
   "source": [
    "うまいぐあいにできている。これを使って、grayの中身を書きかえる。\n",
    "\n",
    "numpyのとてもトリッキーな書き方を使ってみよう。"
   ]
  },
  {
   "cell_type": "code",
   "execution_count": null,
   "metadata": {},
   "outputs": [],
   "source": [
    "# make a copy of gray\n",
    "equi8 = gray.copy()\n",
    "\n",
    "cond = gray < 108\n",
    "equi8[cond] = 54\n",
    "\n",
    "cond = (108 <= gray ) & (gray < 128)\n",
    "equi8[cond] = 118\n",
    "\n",
    "cond = (128 <= gray ) & (gray < 141)\n",
    "equi8[cond] = 135\n",
    "\n",
    "cond = (141 <= gray ) & (gray < 154)\n",
    "equi8[cond] = 148\n",
    "\n",
    "cond = (154 <= gray ) & (gray < 170)\n",
    "equi8[cond] = 162\n",
    "\n",
    "cond = (170 <= gray ) & (gray < 186)\n",
    "equi8[cond] = 178\n",
    "\n",
    "cond = (186 <= gray ) & (gray < 208)\n",
    "equi8[cond] = 197\n",
    "\n",
    "cond = 208 <= gray\n",
    "equi8[cond] = 230\n",
    "\n",
    "\n"
   ]
  },
  {
   "cell_type": "code",
   "execution_count": null,
   "metadata": {},
   "outputs": [],
   "source": [
    "display(PIL.Image.fromarray(equi8))"
   ]
  },
  {
   "cell_type": "markdown",
   "metadata": {},
   "source": [
    "ちょっとメリハリがついて、背景と桜が見分けられるようになった。"
   ]
  },
  {
   "cell_type": "markdown",
   "metadata": {},
   "source": [
    "## カラーの場合\n",
    "\n",
    "デジタルカラー画像は赤、緑、青それぞれの強度が256段階あり、1600万通りの色彩がありうる。RGBをそれぞれ8段階にしたとしても、64色は必要になる。8色にまで落とすためには、3色をon/offの2段階にまで落とす必要があり、やる前からうまくいかないのは目に見えている。"
   ]
  },
  {
   "cell_type": "code",
   "execution_count": null,
   "metadata": {},
   "outputs": [],
   "source": [
    "simple = img.copy()\n",
    "# 画素の輝度が128より小さい点はすべて0にする。\n",
    "simple[img<128]=0\n",
    "# 128より大きい点はすべて255にする。\n",
    "simple[img>=128]=255\n",
    "display(PIL.Image.fromarray(simple))"
   ]
  },
  {
   "cell_type": "markdown",
   "metadata": {},
   "source": [
    "酷い。"
   ]
  },
  {
   "cell_type": "markdown",
   "metadata": {},
   "source": [
    "そこで、k-平均分類という機械学習の手法を使ってみる。k-平均分類は、機械学習において、多次元空間に散在する多数の点を、近いもの同士で集めて、クラスターにする手法である。\n",
    "\n",
    "桜の写真の画素は、R,G,Bを3つの軸とする立方体の中の点で表される。上の写真には640x414=265000点の画素があり、それらは立方体の中で偏って分布している。おそらくピンクに相当する部分に多数の点が集中し、ほかに緑や黒に相当する領域に小さな集団を作っているはずだ。\n",
    "\n",
    "そこで、この3次元空間内の点を、近いものどうしをつないでいくことで、領域分割する手法がk-平均法 (k-means classifier)である。\n",
    "\n",
    "![](https://scikit-learn.org/stable/_images/sphx_glr_plot_kmeans_digits_001.png)\n",
    "\n",
    "2次元でのk-近傍分類器はこんな感じ。10グループに分けろ、と指定すると、10種類に分けてくれる。それぞれのクラスターの重心点で色を代表させれば、色数を減らせる。\n",
    "\n",
    "k平均法は、機械学習ライブラリscikit-learnに含まれているKMeansを使う。"
   ]
  },
  {
   "cell_type": "code",
   "execution_count": null,
   "metadata": {},
   "outputs": [],
   "source": [
    "# Pythonデータサイエンスハンドブック 5.11.1\n",
    "from sklearn.cluster import KMeans\n",
    "\n",
    "height, width = img.shape[:2]\n",
    "Npix = height*width\n",
    "\n",
    "#画像をピクセル列に変換する(そうしないとk-meansが使えない)\n",
    "pixels = img.reshape(Npix, 3)\n",
    "\n",
    "# 8つの代表的な色をさがさせる。\n",
    "kmeans = KMeans(n_clusters=8, max_iter=2000)\n",
    "kmeans.fit(pixels)\n",
    "kmeans.cluster_centers_"
   ]
  },
  {
   "cell_type": "markdown",
   "metadata": {},
   "source": [
    "代表色をならべる"
   ]
  },
  {
   "cell_type": "code",
   "execution_count": null,
   "metadata": {},
   "outputs": [],
   "source": [
    "import numpy as np\n",
    "\n",
    "squares = np.zeros([8,100,100,3])\n",
    "for i in range(8):\n",
    "    squares[i,:,:] = kmeans.cluster_centers_[i]\n",
    "    display(PIL.Image.fromarray(squares[i].astype(np.uint8)))"
   ]
  },
  {
   "cell_type": "code",
   "execution_count": null,
   "metadata": {},
   "outputs": [],
   "source": [
    "# それぞれのピクセルに一番近い中心は何番か。\n",
    "kmeans.predict(pixels)"
   ]
  },
  {
   "cell_type": "code",
   "execution_count": null,
   "metadata": {},
   "outputs": [],
   "source": [
    "# ピクセルごとの色の変換表を作る\n",
    "\n",
    "new_pixels = kmeans.cluster_centers_[kmeans.predict(pixels)]\n",
    "new_pixels"
   ]
  },
  {
   "cell_type": "code",
   "execution_count": null,
   "metadata": {},
   "outputs": [],
   "source": [
    "# new_pixelsを8ビット整数にし、arrayの形をもとに戻し、画像として表示する。\n",
    "display(PIL.Image.fromarray(new_pixels.astype(np.uint8).reshape(height, width, 3)))"
   ]
  },
  {
   "cell_type": "markdown",
   "metadata": {},
   "source": [
    "たった8色でもここまで雰囲気が出せました。ただし、平均的な色でクラスターを代表するせいで、発色が落ちています。"
   ]
  },
  {
   "cell_type": "markdown",
   "metadata": {},
   "source": [
    "## 以下は準備中\n",
    "\n",
    "さらに色の縞を減らすために、誤差拡散法によるディザリングを行います。"
   ]
  },
  {
   "cell_type": "code",
   "execution_count": null,
   "metadata": {},
   "outputs": [],
   "source": [
    "def dither(img, palettes):\n",
    "    accum = np.zeros(3)\n",
    "    result = np.zeros_like(img)\n",
    "    for r,row in enumerate(img):\n",
    "        for c,pixel in enumerate(row):\n",
    "            accum += pixel\n",
    "            bestpal = np.zeros(3)\n",
    "            bestD   = 1e99\n",
    "            for pal in palettes:\n",
    "                if np.all(accum > pal):\n",
    "                    D = np.sum(accum - pal)\n",
    "                    if D < bestD:\n",
    "                        bestD = D\n",
    "                        bestpal = pal\n",
    "            accum -= bestpal\n",
    "            result[r,c] = bestpal\n",
    "    return result\n",
    "\n",
    "dithered = dither(img, kmeans.cluster_centers_)\n",
    "display(PIL.Image.fromarray(dithered.astype(np.uint8)))\n",
    "                    "
   ]
  },
  {
   "cell_type": "code",
   "execution_count": null,
   "metadata": {},
   "outputs": [],
   "source": [
    "display(PIL.Image.fromarray(img))\n"
   ]
  },
  {
   "cell_type": "markdown",
   "metadata": {},
   "source": [
    "Ditheringの性能を向上するためには、色空間内でパレットに含まれる点が作る凸包ができるだけ多くの点をふくみ、なおかつピクセル色から最近パレット色までの距離が小さくなるようにパレット色を選ぶ必要がある。上の手法では、前者の条件がないために、発色が劣化する。\n",
    "\n",
    "これは幾何学的な最適化問題だが、時間をかけて良いなら解決できる。\n",
    "\n",
    "凸包の中の点は、混色で必ず近似できるが、凸包の外の点(色域外点)はいかに混色しても作れない。そのため、外の点のほうがペナルティを大きくする必要がある。色域外点は、凸包の表面の最近点からの距離が遠いほどペナルティが大きい。"
   ]
  },
  {
   "cell_type": "code",
   "execution_count": null,
   "metadata": {},
   "outputs": [],
   "source": [
    "# すべての点をべつべつに評価するのは大変なので、あらかじめ16x16x16のヒストグラムにおさめておく。\n",
    "\n",
    "H = np.histogramdd(img.reshape(width*height,3) / 255, bins=(16,16,16))\n",
    "hist = H[0].reshape([16*16*16])\n",
    "\n",
    "fp = np.array([[x,y,z]\n",
    "               for x in (0,0.999)\n",
    "               for y in (0,0.999)\n",
    "               for z in (0,0.999)])\n",
    "fp = np.random.random([8,3])*0.1+0.9\n",
    "\n",
    "fp"
   ]
  },
  {
   "cell_type": "code",
   "execution_count": null,
   "metadata": {},
   "outputs": [],
   "source": [
    "# 使われている色を、頻度順に並べてみる。\n",
    "\n",
    "ind=[(x,y,z)\n",
    "     for x in range(16)\n",
    "     for y in range(16)\n",
    "     for z in range(16)]\n",
    "x=0\n",
    "y=0\n",
    "pal=np.zeros([160,160,3])\n",
    "for xyz in sorted(ind, key=lambda x: H[0][x], reverse=True):\n",
    "    if H[0][xyz] > 0:\n",
    "        pal[y*10:(y+1)*10,x*10:(x+1)*10] = np.array(xyz)*255/15\n",
    "        x += 1\n",
    "        if x == 16:\n",
    "            x=0\n",
    "            y += 1\n",
    "#        print(xyz, H[0][xyz])\n",
    "display(PIL.Image.fromarray(pal.astype(np.uint8)))"
   ]
  },
  {
   "cell_type": "raw",
   "metadata": {},
   "source": [
    "# histogtamddの格納順がよくわからないので、実験する\n",
    "\n",
    "data = np.array([[0,0,0], [1,0,0], [0,1,0], [0,0,1], [0.2, 0.4, 0.8]])\n",
    "H = np.histogramdd(data, bins=(4,4,4))\n",
    "H[0][0,1,3]"
   ]
  },
  {
   "cell_type": "markdown",
   "metadata": {},
   "source": [
    "(x,y,z)の順で対応していることがわかった。"
   ]
  },
  {
   "cell_type": "code",
   "execution_count": null,
   "metadata": {},
   "outputs": [],
   "source": [
    "?np.histogramdd"
   ]
  },
  {
   "cell_type": "code",
   "execution_count": null,
   "metadata": {},
   "outputs": [],
   "source": [
    "from scipy.spatial import ConvexHull\n",
    "hull =  ConvexHull(fp)"
   ]
  },
  {
   "cell_type": "code",
   "execution_count": null,
   "metadata": {},
   "outputs": [],
   "source": [
    "# Distances of points from a 3D convex hull\n",
    "#\n",
    "# https://stackoverflow.com/questions/55460133/distance-to-convex-hull-from-point-in-3d-in-python\n",
    "\n",
    "from PyGEL3D import gel\n",
    "\n",
    "def dist(hull, points):\n",
    "    # Construct PyGEL Manifold from the convex hull\n",
    "    m = gel.Manifold()\n",
    "    for s in hull.simplices:\n",
    "        m.add_face(hull.points[s])\n",
    "\n",
    "    dist = gel.MeshDistance(m)\n",
    "    res = []\n",
    "    for p in points:\n",
    "        # Get the distance to the point\n",
    "        # But don't trust its sign, because of possible\n",
    "        # wrong orientation of mesh face\n",
    "        d = dist.signed_distance(p)\n",
    "\n",
    "        # Correct the sign with ray inside test\n",
    "        if dist.ray_inside_test(p):\n",
    "            if d > 0:\n",
    "                d *= -1\n",
    "        else:\n",
    "            if d < 0:\n",
    "                d *= -1\n",
    "        res.append(d)\n",
    "    return np.array(res)\n"
   ]
  },
  {
   "cell_type": "code",
   "execution_count": null,
   "metadata": {},
   "outputs": [],
   "source": [
    "points = np.array([(x+0.5,y+0.5,z+0.5)\n",
    "                   for x in range(16)\n",
    "                   for y in range(16)\n",
    "                   for z in range(16)])\n",
    "points /= 16"
   ]
  },
  {
   "cell_type": "code",
   "execution_count": null,
   "metadata": {},
   "outputs": [],
   "source": [
    "%matplotlib inline\n",
    "from matplotlib import pyplot as plt\n",
    "\n",
    "plt.plot(dist(hull,points))"
   ]
  },
  {
   "cell_type": "markdown",
   "metadata": {},
   "source": [
    "ほとんどの点がhullの外にある。\n",
    "\n",
    "ペナルティを計算する。\n",
    "\n",
    "* hull内の点は、一番近い点からの距離をペナルティとする。\n",
    "* hull外の点は、hullまでの距離をペナルティとする。\n",
    "* 両者のバランスは係数Cで調節する。"
   ]
  },
  {
   "cell_type": "code",
   "execution_count": null,
   "metadata": {},
   "outputs": [],
   "source": [
    "import random\n",
    "\n",
    "def Penalty(fp,points,hist):\n",
    "    C=250.0\n",
    "    hull =  ConvexHull(fp)\n",
    "    distances = dist(hull, points)\n",
    "    penalty = 0.0\n",
    "    insider = 0\n",
    "    outsider = 0\n",
    "    for d,p,w in zip(distances, points, hist):\n",
    "        if w > 0.0:\n",
    "            if d > 0:\n",
    "                penalty += d*C*w\n",
    "                outsider += 1\n",
    "            else:\n",
    "                Dmin = 1e99\n",
    "                for v in fp:\n",
    "                    D = np.linalg.norm(v-p)\n",
    "                    if D < Dmin:\n",
    "                        Dmin = D\n",
    "                penalty += Dmin*w\n",
    "                insider += 1\n",
    "    return penalty, insider, outsider\n",
    "\n",
    "def show_palette(fp):\n",
    "    squares = np.zeros([20,160,3])\n",
    "    for i in range(8):\n",
    "        squares[:,i*20:(i+1)*20] = fp[i]*255\n",
    "    display(PIL.Image.fromarray(squares.astype(np.uint8)))\n",
    "\n",
    "P, ins, outs = Penalty(fp,points,hist)\n",
    "lasti=0\n",
    "for i in range(30000):\n",
    "    particle = i % 8\n",
    "    fp_new = fp.copy()\n",
    "    fp_new[particle] += (np.random.random([3])-0.5)*0.25\n",
    "    fp_new[particle] = np.clip(fp_new[particle],0.,1.)\n",
    "    # print(fp_new[particle])\n",
    "    P_new, ins, outs = Penalty(fp_new, points, hist)\n",
    "    if P_new < P:\n",
    "        fp = fp_new\n",
    "        P = P_new\n",
    "        if lasti + 20 < i:\n",
    "            print(i,P,ins, outs)\n",
    "            show_palette(fp)\n",
    "            lasti = i\n"
   ]
  },
  {
   "cell_type": "code",
   "execution_count": null,
   "metadata": {},
   "outputs": [],
   "source": [
    "def dither2(img, palettes):\n",
    "    accum = np.zeros(3)\n",
    "    result = np.zeros_like(img)\n",
    "    for r,row in enumerate(img):\n",
    "        for c,pixel in enumerate(row):\n",
    "            accum += pixel\n",
    "            bestpal = np.zeros(3)\n",
    "            bestD   = 1e99\n",
    "            for pal in palettes:\n",
    "                D = accum - pal\n",
    "                D = np.dot(D,D)\n",
    "                if D < bestD:\n",
    "                    bestD = D\n",
    "                    bestpal = pal\n",
    "            accum -= bestpal\n",
    "            result[r,c] = bestpal\n",
    "    return result\n",
    "\n",
    "dithered = dither2(img, fp*255)\n",
    "display(PIL.Image.fromarray(dithered.astype(np.uint8)))"
   ]
  },
  {
   "cell_type": "code",
   "execution_count": null,
   "metadata": {},
   "outputs": [],
   "source": [
    "display(PIL.Image.fromarray(img))\n"
   ]
  },
  {
   "cell_type": "code",
   "execution_count": null,
   "metadata": {},
   "outputs": [],
   "source": []
  }
 ],
 "metadata": {
  "kernelspec": {
   "display_name": "Python 3",
   "language": "python",
   "name": "python3"
  },
  "language_info": {
   "codemirror_mode": {
    "name": "ipython",
    "version": 3
   },
   "file_extension": ".py",
   "mimetype": "text/x-python",
   "name": "python",
   "nbconvert_exporter": "python",
   "pygments_lexer": "ipython3",
   "version": "3.6.5"
  }
 },
 "nbformat": 4,
 "nbformat_minor": 2
}

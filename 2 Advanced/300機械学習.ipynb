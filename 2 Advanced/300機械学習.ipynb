{
 "cells": [
  {
   "cell_type": "markdown",
   "metadata": {},
   "source": [
    "## 人工知能? 機械学習? 深層学習?\n",
    "(執筆中)\n",
    "![](https://i2.wp.com/www.jamesserra.com/wp-content/uploads/2017/04/AI-Terms.png?resize=1024%2C642&ssl=1)\n",
    "[James Serraのブログ](http://www.jamesserra.com/archive/2017/04/artificial-intelligence-defined/)より転載\n",
    "### 人工知能(AI)\n",
    "AIは、論理、if-thenルール、意思決定ツリー、機械学習（深層学習を含む）を使用して、コンピュータが人間の知能を模倣できるようにするあらゆる技術に適用される最も広い用語です。\n",
    "### 機械学習\n",
    "機械が経験によってタスクを改善することを可能にする、難解な統計的手法を含むAIのサブセットです。カテゴリには深層学習が含まれます。\n",
    "### 深層学習(ディープラーニング)\n",
    "多層神経ネットワーク(ディープニューラルネットワーク)を大量のデータにさらすことによって、音声や画像認識などのタスクを実行するソフトウェアの学習を可能にするアルゴリズムで構成された機械学習のサブセット。"
   ]
  },
  {
   "cell_type": "markdown",
   "metadata": {},
   "source": [
    "## 機械学習の類型\n",
    "人工知能研究の一分野。*データからモデルを作る装置。*\n",
    "\n",
    "モデルとは? 「自然科学におけるモデルは、理論を説明するための簡単な具体的なもの。特に幾何学的な図形を用いた概念や物体。」本質を抽出し単純化したもの。\n",
    "\n",
    "* 教師あり学習 (Supervised learning)\n",
    "    * 回帰 310\n",
    "        * 最小二乗法\n",
    "        * 多次元尺度法\n",
    "    * クラス分類 320\n",
    "        * 決定木\n",
    "        * Support Vector Machine\n",
    "        * NeuralNetwork\n",
    "* 教師なし学習 (Unsupervised learning)\n",
    "    * クラスタリング 330\n",
    "        * k-means\n",
    "        * ガウス混合モデル\n",
    "    * 情報圧縮 340\n",
    "        * 次元削減\n",
    "        * 多様体学習\n",
    "        * 主成分分析\n",
    "* 強化学習        "
   ]
  },
  {
   "cell_type": "code",
   "execution_count": null,
   "metadata": {},
   "outputs": [],
   "source": []
  }
 ],
 "metadata": {
  "kernelspec": {
   "display_name": "Python 3",
   "language": "python",
   "name": "python3"
  },
  "language_info": {
   "codemirror_mode": {
    "name": "ipython",
    "version": 3
   },
   "file_extension": ".py",
   "mimetype": "text/x-python",
   "name": "python",
   "nbconvert_exporter": "python",
   "pygments_lexer": "ipython3",
   "version": "3.6.5"
  }
 },
 "nbformat": 4,
 "nbformat_minor": 2
}

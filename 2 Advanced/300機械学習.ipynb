{
 "cells": [
  {
   "cell_type": "markdown",
   "metadata": {},
   "source": [
    "## 人工知能? 機械学習? 深層学習?\n",
    "(執筆中)\n",
    "![](https://i2.wp.com/www.jamesserra.com/wp-content/uploads/2017/04/AI-Terms.png?resize=1024%2C642&ssl=1)\n",
    "[James Serraのブログ](http://www.jamesserra.com/archive/2017/04/artificial-intelligence-defined/)より転載\n",
    "### 人工知能(AI)\n",
    "AIは、論理、if-thenルール、意思決定ツリー、機械学習（深層学習を含む）を使用して、コンピュータが人間の知能を模倣できるようにするあらゆる技術に適用される最も広い用語です。\n",
    "### 機械学習\n",
    "機械が経験によってタスクを改善することを可能にする、難解な統計的手法を含むAIのサブセットです。カテゴリには深層学習が含まれます。\n",
    "### 深層学習(ディープラーニング)\n",
    "多層神経ネットワーク(ディープニューラルネットワーク)を大量のデータにさらすことによって、音声や画像認識などのタスクを実行するソフトウェアの学習を可能にするアルゴリズムで構成された機械学習のサブセット。"
   ]
  },
  {
   "cell_type": "markdown",
   "metadata": {},
   "source": [
    "## すでに利用されはじめている人工知能\n",
    "(Interface 2018年5月号記事より引用)\n",
    "\n",
    "* 労働集約的な作業\n",
    "* 一人の人間には覚えきれないような知識が要求される作業\n",
    "* 人間の経験や判断に頼るような作業\n",
    "\n",
    "### 人工知能の応用事例\n",
    "\n",
    "* 掃除ロボット\n",
    "* スマート・トイ\n",
    "* スマート・スピーカー\n",
    "* 自動車の自動運転\n",
    "* 製品の安全検査\n",
    "* コール・センターのオペレーション業務サポート\n",
    "* クレジット・カードの不正使用検知\n",
    "* 個人ローンの与信\n",
    "* ウェブ検索エンジン\n",
    "* ウェブサイトのセルフ・レポート\n",
    "* ECサイトでのおすすめ\n",
    "* 新しい料理のレシピ開発\n",
    "* 投資用不動産の取引サービス\n",
    "* マンション価格の変動予測\n",
    "* 投資信託の組入れ銘柄選択サポート\n",
    "* 為替の取引支援\n",
    "* ニュース記事の自動生成\n",
    "* がん細胞の特定\n",
    "* 病院の予約キャンセル予測\n",
    "* 採用業務の書類選考\n",
    "* 食品原材料の品質管理\n",
    "* ホテルや観光地、ターミナルでの旅行者向けコンシェルジュ\n",
    "* 工作機械や空調設備、エレベーターなどの遠隔診断\n",
    "* 犯罪の発生予測\n",
    "* 語学学習\n",
    "* 学校教育向けアプリ\n",
    "* スポーツの試合結果予測\n",
    "* 業務の効率化や自動化(Robotic Process Automation)\n",
    "* パン屋さんのレジ BakeryScan http://bakeryscan.com/"
   ]
  },
  {
   "cell_type": "markdown",
   "metadata": {},
   "source": [
    "## 機械学習の類型\n",
    "人工知能研究の一分野。*データからモデルを作る装置。*\n",
    "\n",
    "モデルとは? 「自然科学におけるモデルは、理論を説明するための簡単な具体的なもの。特に幾何学的な図形を用いた概念や物体。」本質を抽出し単純化したもの。\n",
    "\n",
    "* 教師あり学習 (Supervised learning)\n",
    "    * 回帰 310\n",
    "        * 最小二乗法\n",
    "        * 多次元尺度法\n",
    "    * クラス分類 320\n",
    "        * 決定木\n",
    "        * Support Vector Machine\n",
    "        * NeuralNetwork\n",
    "* 教師なし学習 (Unsupervised learning)\n",
    "    * クラスタリング 330\n",
    "        * k-means\n",
    "        * ガウス混合モデル\n",
    "    * 情報圧縮 340\n",
    "        * 次元削減\n",
    "        * 多様体学習\n",
    "        * 主成分分析\n",
    "* 強化学習        "
   ]
  },
  {
   "cell_type": "code",
   "execution_count": null,
   "metadata": {},
   "outputs": [],
   "source": []
  }
 ],
 "metadata": {
  "kernelspec": {
   "display_name": "Python 3",
   "language": "python",
   "name": "python3"
  },
  "language_info": {
   "codemirror_mode": {
    "name": "ipython",
    "version": 3
   },
   "file_extension": ".py",
   "mimetype": "text/x-python",
   "name": "python",
   "nbconvert_exporter": "python",
   "pygments_lexer": "ipython3",
   "version": "3.7.3"
  }
 },
 "nbformat": 4,
 "nbformat_minor": 2
}

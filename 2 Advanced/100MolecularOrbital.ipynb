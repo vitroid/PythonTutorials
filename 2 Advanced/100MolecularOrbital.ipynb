{
  "nbformat": 4,
  "nbformat_minor": 0,
  "metadata": {
    "colab": {
      "provenance": [],
      "toc_visible": true,
      "authorship_tag": "ABX9TyOwK1RaoKo88SFQYq2npfCg",
      "include_colab_link": true
    },
    "kernelspec": {
      "name": "python3",
      "display_name": "Python 3"
    },
    "language_info": {
      "name": "python"
    }
  },
  "cells": [
    {
      "cell_type": "markdown",
      "metadata": {
        "id": "view-in-github",
        "colab_type": "text"
      },
      "source": [
        "<a href=\"https://colab.research.google.com/github/vitroid/PythonTutorials/blob/master/2%20Advanced/100MolecularOrbital.ipynb\" target=\"_parent\"><img src=\"https://colab.research.google.com/assets/colab-badge.svg\" alt=\"Open In Colab\"/></a>"
      ]
    },
    {
      "cell_type": "markdown",
      "source": [
        "Google Colaboratory上で分子軌道計算を試します。\n",
        "\n",
        "[Labo-code](https://labo-code.com/python/quantum-chemical-calculation/moleculaorbital/)の記事を参考にしました。感謝!\n"
      ],
      "metadata": {
        "id": "Qdc4vkPBWK61"
      }
    },
    {
      "cell_type": "markdown",
      "source": [
        "# 1. 初期化 / 1. Initialization\n"
      ],
      "metadata": {
        "id": "DrWScdRHfMOg"
      }
    },
    {
      "cell_type": "markdown",
      "source": [
        "## 1.1 必要なパッケージのインストール / 1.1 Requirements\n",
        "\n",
        "Some modules are not pre-installed in the Colaboratory.\n"
      ],
      "metadata": {
        "id": "McLoKIuNXMxo"
      }
    },
    {
      "cell_type": "code",
      "execution_count": null,
      "metadata": {
        "id": "WNH7j_piWJgQ"
      },
      "outputs": [],
      "source": [
        "!pip install pyscf\n",
        "!pip install geometric\n",
        "!pip install py3Dmol"
      ]
    },
    {
      "cell_type": "markdown",
      "source": [
        "# 2. 構造最適化 / 2. Structure Optimization\n"
      ],
      "metadata": {
        "id": "dBtZr9C0fFBi"
      }
    },
    {
      "cell_type": "markdown",
      "source": [
        "\n",
        "## 2.1 初期データを作る / 2.1 Prepare the initial data\n",
        "\n",
        "「直角」水分子を準備します。\n",
        "\n",
        "We prepare a \"right-angled\" water molecule for the calculation.\n",
        "\n"
      ],
      "metadata": {
        "id": "mpBYx-E9XWk0"
      }
    },
    {
      "cell_type": "code",
      "source": [
        "from pyscf import gto\n",
        "# GTO: Gaussian-type Orbital\n",
        "\n",
        "\n",
        "# 水分子の定義 (座標の単位はÅ、すごくてきとう。)\n",
        "# Définition d'une molécule d'eau\n",
        "mol = gto.Mole()\n",
        "mol.atom = \"\"\"\n",
        "O 0.0 0.0 0.0\n",
        "H 1.0 0.0 0.0\n",
        "H 0.0 1.0 0.0\n",
        "\"\"\"\n",
        "mol.basis='6-31G(d)'\n",
        "mol.build()"
      ],
      "metadata": {
        "id": "Izq1G5ojYBBr"
      },
      "execution_count": null,
      "outputs": []
    },
    {
      "cell_type": "code",
      "source": [
        "# とりあえず、そのまま表示してみる\n",
        "# Pour l'instant, affichons-le tel quel.\n",
        "import py3Dmol\n",
        "from IPython.display import display, HTML\n",
        "\n",
        "\n",
        "def show_mol(mol, viewer):\n",
        "    # 分子のサイズを取得\n",
        "    # Obtain the size of a molecule\n",
        "    # Obtenir la taille d'une molécule\n",
        "    coords = mol.atom_coords()\n",
        "    x_min, y_min, z_min = coords.min(axis=0) - 2.0\n",
        "    x_max, y_max, z_max = coords.max(axis=0) + 2.0\n",
        "\n",
        "\n",
        "    # 分子構造をviewerに追加\n",
        "    # Add the molecular structure to the viewer\n",
        "    # Ajouter la structure moléculaire à la viewer\n",
        "    xyz = mol.tostring(format=\"xyz\")\n",
        "    viewer.addModel(xyz, \"xyz\")\n",
        "    viewer.setStyle({\"stick\": {}, \"sphere\": {\"scale\": 0.3}})\n",
        "\n",
        "\n",
        "# 3D表示の準備\n",
        "# Preparation de l'affichage en 3D\n",
        "viewer = py3Dmol.view(width=800, height=600)\n",
        "show_mol(mol, viewer)\n",
        "viewer.zoomTo()\n",
        "viewer.show()\n"
      ],
      "metadata": {
        "id": "oK9Ed2DTgxgj"
      },
      "execution_count": null,
      "outputs": []
    },
    {
      "cell_type": "markdown",
      "source": [
        "## 2.2 構造最適化 / Structure Optimization\n",
        "\n",
        "与えられた原子核の初期配置に対し、電子を配置してエネルギーができるだけ低くなるように電子と原子核の配置を最適にします。これを構造最適化と呼びます。\n",
        "\n",
        "For a given initial configuration of nuclei, the arrangement of electrons and nuclei is optimized so that the electrons are placed with the lowest possible energy. This is known as structural optimization.\n",
        "\n",
        "Pour une configuration initiale donnée des noyaux, l'arrangement des électrons et des noyaux est optimisé de manière à ce que les électrons soient placés de façon à ce que l'énergie soit la plus faible possible. C'est ce qu'on appelle l'optimisation structurelle."
      ],
      "metadata": {
        "id": "5azPAXarYcF_"
      }
    },
    {
      "cell_type": "code",
      "source": [
        "from pyscf.geomopt import geometric_solver\n",
        "from pyscf import dft, scf\n",
        "\n",
        "# DFT計算のセットアップ\n",
        "# A setup for the DFT calculations\n",
        "\n",
        "# mf = dft.RKS(mol)\n",
        "\n",
        "# SCF計算のセットアップ\n",
        "# A setup for the SCF calculations\n",
        "mf = scf.RHF(mol)\n",
        "\n",
        "# 構造最適化\n",
        "# Structure optimization\n",
        "mol_eq = geometric_solver.optimize(mf, maxsteps=100)\n"
      ],
      "metadata": {
        "id": "YHLCZhMTYuWl"
      },
      "execution_count": null,
      "outputs": []
    },
    {
      "cell_type": "code",
      "source": [
        "view = py3Dmol.view(width=800, height=600)\n",
        "show_mol(mol_eq, view)\n",
        "view.zoomTo()\n",
        "view.show()\n"
      ],
      "metadata": {
        "id": "b0BHzEXbiXSH"
      },
      "execution_count": null,
      "outputs": []
    },
    {
      "cell_type": "markdown",
      "source": [
        "## 2.3 電子配置 / 2.3 Electronic arrangements\n",
        "\n",
        "電子を、エネルギーの低い軌道から順に入れていきます。酸素と水素で全部で10個の電子があるので、5つの軌道が埋まります。\n",
        "\n",
        "エネルギーの単位をhartreeからeVに換算して表示します。\n",
        "\n",
        "Electrons are placed first in the least energetic orbitals. There are 10 electrons in total in oxygen and hydrogen, so five orbitals are filled.\n",
        "\n",
        "Convert energy units from hartree to eV.\n",
        "\n",
        "Les électrons sont placés en premier dans les orbitales les moins énergétiques. Il y a 10 électrons au total dans l'oxygène et l'hydrogène, donc cinq orbitales sont remplies.\n",
        "\n",
        "Convertissez les unités d'énergie de hartree en eV."
      ],
      "metadata": {
        "id": "gQFKuHovYVh3"
      }
    },
    {
      "cell_type": "code",
      "source": [
        "# 軌道情報の(再)計算\n",
        "# (Re-)calculation of the orbitals\n",
        "# (Re-)calcul des orbitales\n",
        "mf.kernel()\n",
        "\n",
        "# エネルギーをeVに変換\n",
        "# Convert the energy in eV\n",
        "# Convertir l'energie en eV\n",
        "hartree_to_ev = 27.2114\n",
        "\n",
        "mf.mo_occ, mf.mo_energy * hartree_to_ev\n"
      ],
      "metadata": {
        "id": "hn8taqU8ZUsq"
      },
      "execution_count": null,
      "outputs": []
    },
    {
      "cell_type": "markdown",
      "source": [
        "電子が入っている、もっともエネルギーの高い(最も外側にある)軌道のことをHOMO (Highest Occupied Molecular Orbital; 最高被占分子軌道、その一つ上の軌道のことをLUMO (Lowest Unoccupied Molecular Orbital; 最低空分子軌道)と呼びます。一番外側の軌道は、分子の形や大きさや反応性を決定づけるので、化学ではこれらの軌道に特に注目します。\n",
        "\n",
        "水の場合、HOMOは5番目、LUMOは6番目の軌道です。\n",
        "\n",
        "Pythonでは、数字を0から数えはじめるので、これらはそれぞれ4番目、5番目に相当します。\n",
        "\n",
        "The orbital of the highest energy (outermost) containing an electron is called HOMO (Highest Occupied Molecular Orbital), and the empty orbital above it is called LUMO (Lowest Unoccupied Molecular Orbital). These outer orbitals are of particular interest in chemistry, as they determine the shape, size and reactivity of molecules.\n",
        "\n",
        "In the case of water, HOMO is the fifth orbital and LUMO the sixth.\n",
        "\n",
        "In Python, we start counting numbers from 0, so these orbitals correspond to the fourth and fifth orbitals respectively.\n",
        "\n",
        "L'orbitale la plus énergétique (la plus externe) contenant un électron est appelée HOMO (Highest Occupied Molecular Orbital), et l'orbitale vide située au-dessus est appelée LUMO (Lowest Unoccupied Molecular Orbital). Ces orbitales externes sont particulièrement intéressantes en chimie, car elles déterminent la forme, la taille et la réactivité des molécules.\n",
        "\n",
        "Dans le cas de l'eau, HOMO est la cinquième orbitale et LUMO la sixième.\n",
        "\n",
        "En Python, nous commençons à compter les nombres à partir de 0. Ces orbitales correspondent donc respectivement à la quatrième et à la cinquième orbitale."
      ],
      "metadata": {
        "id": "Ibw86klsa13H"
      }
    },
    {
      "cell_type": "code",
      "source": [
        "import numpy as np\n",
        "\n",
        "# HOMOとLUMOのインデックス\n",
        "lumo_index = np.argwhere(mf.mo_occ == 0)[0][0]\n",
        "homo_index = lumo_index - 1\n",
        "lumo_index, homo_index"
      ],
      "metadata": {
        "id": "KyqMO54ZZb8Z"
      },
      "execution_count": null,
      "outputs": []
    },
    {
      "cell_type": "markdown",
      "source": [
        "## 2.4. 軌道の可視化 / Visualization of the orbitals\n",
        "\n",
        "途中で、軌道の形をcube形式のファイルに書きだし、それを読みこんでいます。\n",
        "\n",
        "During the process, the trajectory shape is exported to a file in CUBE format, which is then read.\n",
        "\n",
        "Au cours du processus, la forme de la trajectoire est exportée vers un fichier au format CUBE, qui est ensuite lu."
      ],
      "metadata": {
        "id": "fA-RVlQ5b8p0"
      }
    },
    {
      "cell_type": "code",
      "source": [
        "from pyscf import tools\n",
        "import py3Dmol\n",
        "from IPython.display import display, HTML\n",
        "import ipywidgets as widgets\n",
        "\n",
        "# 指定した軌道のCUBEファイルを生成する関数\n",
        "def generate_cube_file(orbital_index, filename):\n",
        "    tools.cubegen.orbital(mol, filename, mf.mo_coeff[:, orbital_index])\n",
        "\n",
        "# 可視化する軌道のリストを作成\n",
        "orbitals = {\n",
        "    \"LUMO+2\": lumo_index + 2,\n",
        "    \"LUMO+1\": lumo_index + 1,\n",
        "    \"LUMO\": lumo_index,\n",
        "    \"HOMO\": homo_index,\n",
        "    \"HOMO-1\": homo_index - 1,\n",
        "    \"HOMO-2\": homo_index - 2,\n",
        "    \"HOMO-3\": homo_index - 3,\n",
        "    \"HOMO-4\": homo_index - 4\n",
        "}\n",
        "\n",
        "# エネルギーをeVに変換\n",
        "hartree_to_ev = 27.2114\n",
        "orbital_energies = {name: mf.mo_energy[idx] * hartree_to_ev for name, idx in orbitals.items()}\n",
        "\n",
        "# 可視化関数\n",
        "def show_orbital(orbitals, orbital_name, view):\n",
        "    orbital_index = orbitals[orbital_name]\n",
        "    cube_filename = f'{orbital_name}.cube'\n",
        "\n",
        "    generate_cube_file(orbital_index, cube_filename)\n",
        "\n",
        "    with open(cube_filename) as f:\n",
        "        cube = f.read()\n",
        "    view.addVolumetricData(cube, 'cube', {'isoval': 0.02, 'color': 'red', 'opacity': 0.75})\n",
        "    view.addVolumetricData(cube, 'cube', {'isoval': -0.02, 'color': 'blue', 'opacity': 0.75})\n",
        "\n",
        "    # エネルギーのラベルを追加\n",
        "    orbital_energy = orbital_energies[orbital_name]\n",
        "    view.addLabel(f'{orbital_name}: {orbital_energy:.6f} eV', {'fontSize': 12, 'fontColor': 'black', 'backgroundColor': 'white', 'backgroundOpacity': 0.8, 'showBackground': True, 'position': {'x': 0, 'y': 0, 'z': 0}})\n"
      ],
      "metadata": {
        "id": "26CoVzGJb6Mc"
      },
      "execution_count": null,
      "outputs": []
    },
    {
      "cell_type": "markdown",
      "source": [
        "Google Colabの簡易フォーム機能を使い、メニューで軌道を選べるようにしました。\n",
        "\n",
        "Google Colab's form feature was used to enable trajectory selection from the menu.\n",
        "\n",
        "La fonction de formulaire de Google Colab a été utilisée pour permettre la sélection de la trajectoire à partir du menu."
      ],
      "metadata": {
        "id": "GE3LaXii6Cd9"
      }
    },
    {
      "cell_type": "code",
      "source": [
        "# @title 軌道の可視化 / Visualization of the orbitals\n",
        "orbital_name = \"HOMO-1\" # @param [\"LUMO+2\", \"LUMO+1\", \"LUMO\", \"HOMO\", \"HOMO-1\", \"HOMO-2\", \"HOMO-3\", \"HOMO-4\"]\n",
        "# @\n",
        "\n",
        "view = py3Dmol.view(width=800, height=600)\n",
        "show_mol(mol_eq, view)\n",
        "show_orbital(orbitals, orbital_name, view)\n",
        "view.zoomTo()\n",
        "view.show()\n"
      ],
      "metadata": {
        "id": "KL0vV1Wko8VD"
      },
      "execution_count": null,
      "outputs": []
    },
    {
      "cell_type": "markdown",
      "source": [
        "# 3. 相互作用の計算 / Interactions\n",
        "\n",
        "水とCO2の相互作用エネルギーを計算してみます。\n",
        "\n",
        "Calculate the interaction energy between water and CO2.\n",
        "\n",
        "Calculez l'énergie d'interaction entre l'eau et le CO2.\n",
        "\n",
        "\n"
      ],
      "metadata": {
        "id": "8OlePEPn6pdW"
      }
    },
    {
      "cell_type": "markdown",
      "source": [
        "## 3.1 CO2を作る / Make a CO2 molecule / Faire une molecule de CO2\n"
      ],
      "metadata": {
        "id": "mWNxVV2a7U_Z"
      }
    },
    {
      "cell_type": "code",
      "source": [
        "from pyscf import gto, scf\n",
        "from pyscf.geomopt import geometric_solver\n",
        "\n",
        "# --- CO2 ---\n",
        "co2 = gto.Mole()\n",
        "co2.atom = [\n",
        "    ['C', (0.0, 0.0, 0.0)],\n",
        "    ['O', (1.2, 0.0, 0.0)],\n",
        "    ['O', (-1.2, 0.0, 0.0)],\n",
        "]\n",
        "co2.basis = '6-31g*' # Basis set\n",
        "co2.build()\n",
        "\n",
        "mf_co2 = scf.RHF(co2).run()\n",
        "co2_opt = geometric_solver.optimize(mf_co2)\n",
        "\n",
        "co2_opt.atom_coords()"
      ],
      "metadata": {
        "id": "BBDYVesw4iuO"
      },
      "execution_count": null,
      "outputs": []
    },
    {
      "cell_type": "markdown",
      "source": [
        "## 3.2 ２分子複合体を作る / Prepare a molecular complex\n",
        "\n",
        "2分子が近くにある配置`combined`を作ります。\n",
        "\n",
        "Make a molecular configuration in \"combined\"."
      ],
      "metadata": {
        "id": "zBzXSdUC8ufu"
      }
    },
    {
      "cell_type": "code",
      "source": [
        "# 最適化されたCO2の座標と原子名を取得\n",
        "# Obtain the coordinates and names of the atoms in the optimized structure of CO2\n",
        "atom_names_co2 = [atom[0] for atom in co2_opt._atom]\n",
        "atom_coords_co2 = co2_opt.atom_coords()\n",
        "\n",
        "# 水も同様\n",
        "# And water\n",
        "# Et de l'eau\n",
        "atom_names_h2o = [atom[0] for atom in mol_eq._atom]\n",
        "atom_coords_h2o = mol_eq.atom_coords()\n",
        "\n",
        "# 水をx方向に8 bohrずらす。\n",
        "# Displace the water molecule\n",
        "atom_coords_co2[:, 0] += 8\n",
        "\n",
        "atom_names_h2o, atom_coords_h2o"
      ],
      "metadata": {
        "id": "qX6RLW8m9V4B"
      },
      "execution_count": null,
      "outputs": []
    },
    {
      "cell_type": "code",
      "source": [
        "# 複合系の原子リストと座標を作成\n",
        "# H2OとCO2の原子情報を結合\n",
        "# Combine the atomic information\n",
        "combined_atom = []\n",
        "for i in range(3):\n",
        "    combined_atom.append([atom_names_h2o[i], *atom_coords_h2o[i]])\n",
        "for i in range(3):\n",
        "    combined_atom.append([atom_names_co2[i], *atom_coords_co2[i]])\n",
        "\n",
        "combined_atom"
      ],
      "metadata": {
        "id": "P4Ho4Jnv8txL"
      },
      "execution_count": null,
      "outputs": []
    },
    {
      "cell_type": "markdown",
      "source": [
        "## 3.3 分子配置を見る / Visualize the molecular configurarion"
      ],
      "metadata": {
        "id": "_ZNqvRpZDFby"
      }
    },
    {
      "cell_type": "code",
      "source": [
        "mol_complex = gto.M(atom=combined_atom, basis='6-31g*', unit='bohr')\n",
        "\n",
        "view = py3Dmol.view(width=800, height=600)\n",
        "show_mol(mol_complex, view)\n",
        "view.zoomTo()\n",
        "view.show()\n"
      ],
      "metadata": {
        "id": "Wmma211v78Go"
      },
      "execution_count": null,
      "outputs": []
    },
    {
      "cell_type": "markdown",
      "source": [
        "## 3.4 複合体のエネルギー計算 / Energy calculation of the molecular complex\n",
        "\n",
        "ここでは、原子が動いてほしくないので、構造最適化は行わず、エネルギー計算だけを行います。\n",
        "\n",
        "We do not want the molecule to move, so we skip the structure optimization."
      ],
      "metadata": {
        "id": "jbId0hcLDiJN"
      }
    },
    {
      "cell_type": "code",
      "source": [
        "# 複合系のエネルギー計算\n",
        "# Energy calculation of the complex\n",
        "mf_complex = scf.RHF(mol_complex).run()\n",
        "# and obtain\n",
        "e_complex = mf_complex.e_tot\n",
        "e_complex # in hartree"
      ],
      "metadata": {
        "id": "AaVjoD_qAnho"
      },
      "execution_count": null,
      "outputs": []
    },
    {
      "cell_type": "markdown",
      "source": [
        "## 3.5 会合によるエネルギー収支 / Energy balance by combination"
      ],
      "metadata": {
        "id": "RSp1YNZmDmm7"
      }
    },
    {
      "cell_type": "code",
      "source": [
        "e_h2o = mf.e_tot\n",
        "e_h2o # in hartree"
      ],
      "metadata": {
        "id": "a6f_n2qF_AaT"
      },
      "execution_count": null,
      "outputs": []
    },
    {
      "cell_type": "code",
      "source": [
        "e_co2 = mf_co2.e_tot\n",
        "e_co2 # in hartree"
      ],
      "metadata": {
        "id": "cJ0n4BhD_D_K"
      },
      "execution_count": null,
      "outputs": []
    },
    {
      "cell_type": "code",
      "source": [
        "(e_complex - (e_h2o+e_co2)) * 2625.5 # in kJ/mol"
      ],
      "metadata": {
        "id": "YkGpG7Ah_p9z"
      },
      "execution_count": null,
      "outputs": []
    },
    {
      "cell_type": "markdown",
      "source": [
        "1 hartreeは2625 kJ/mol、かなり巨大な値です。電子状態計算でこんな大きなエネルギーがでてくるのは、原子核とすべての電子の間のクーロンエネルギーを計算するせいです。これに対し、相互作用を計算する場合には、分子が近付いたことによるエネルギー利得(差分)しか扱わないので、ずいぶん桁が小さくなります。したがって、電子状態計算をかなり精密に行わないと、相互作用の値は信用できなくなってしまいます。\n",
        "\n"
      ],
      "metadata": {
        "id": "NfyMVxE3D86B"
      }
    },
    {
      "cell_type": "markdown",
      "source": [
        "# 4. 分子の形を組みたてる / Build a molecule\n",
        "\n",
        "初期配置がいいかげんでもpySCFが最適化してくれます。とはいえ、あまりにも雑な構造を与えてしまうと、収束しないで計算が終わってしまうようです。また、水分子の初期配置を一直線にした場合にも、対称性を崩せず、V字型の最適配置にたどりつけないようです。\n",
        "\n",
        "分子の形をそれなりの精度で組み立てるには、[molcalc](https://molcalc.org/)が便利です。MolCalcに組みこまれているJSMolの機能で、分子構造の情報を出力できます。(JSMol→Show→Extract MOL data)\n",
        "\n",
        "ただし、MolCalcが扱うのは分子=原子+結合であるのに対し、pySCFの扱う電子状態計算には原子座標しか要らないので、データを変換する必要があります。ここでは、MOLファイル形式をじっくり睨み、自分で抽出を試みます。\n",
        "\n",
        "Even if the initial placement is not appropriate, pySCF will optimize it. But if too messy a structure is given, the calculation seems to end without convergence. Also, if the initial arrangement of water molecules is aligned, it seems that the symmetry cannot be broken and the optimal V-shaped arrangement cannot be reached.\n",
        "\n",
        "To assemble molecular shapes with reasonable accuracy, [molcalc](https://molcalc.org/) is useful, and the JSMol function incorporated in MolCalc can output molecular structure information. (JSMol→Show→Extract MOL data)\n",
        "\n",
        "However, MolCalc handles molecules = atoms + bonds, whereas pySCF handles electronic structure calculations, which only require atomic coordinates, so the data must be converted. Here, we will take a closer look at the MOL file format and attempt to extract the data by hand..\n",
        "\n"
      ],
      "metadata": {
        "id": "zajs2gPGWhLj"
      }
    },
    {
      "cell_type": "code",
      "source": [
        "methane_mol=\"\"\"string\n",
        "__Jmol-14_06032519493D 1   1.00000     0.00000     0\n",
        "Jmol version 14.29.29  2018-11-28 19:07 EXTRACT: ({0:4})\n",
        "  5  4  0  0  0  0            999 V2000\n",
        "   -0.0002    0.0000   -0.0001 C   0  0  0  0  0  0\n",
        "   -0.4377    0.4984   -0.8687 H   0  0  0  0  0  0\n",
        "   -0.2313    0.5713    0.9027 H   0  0  0  0  0  0\n",
        "   -0.4152   -1.0071    0.0898 H   0  0  0  0  0  0\n",
        "    1.0843   -0.0626   -0.1238 H   0  0  0  0  0  0\n",
        "  1  2  1  0  0  0\n",
        "  1  3  1  0  0  0\n",
        "  1  4  1  0  0  0\n",
        "  1  5  1  0  0  0\n",
        "M  END\n",
        "\"\"\".splitlines()\n",
        "\n",
        "# 必要な情報は5〜9行目にあるらしい。\n",
        "# The lines 5..9 are required.\n",
        "methane = []\n",
        "for line in methane_mol[4:9]:\n",
        "    cols = line.split()\n",
        "    methane.append([cols[3], float(cols[0]), float(cols[1]), float(cols[2])])\n",
        "\n",
        "methane"
      ],
      "metadata": {
        "id": "_ODuyZtGbmza"
      },
      "execution_count": null,
      "outputs": []
    },
    {
      "cell_type": "code",
      "source": [
        "# combinedの時と同じ方法でとりあえず組みたてる。\n",
        "# Build the methane molecule in the same way as \"combined\".\n",
        "mol_methane = gto.M(atom=methane, basis='6-31g*', unit='angstrom')\n",
        "\n",
        "view = py3Dmol.view(width=800, height=600)\n",
        "show_mol(mol_methane, view)\n",
        "view.zoomTo()\n",
        "view.show()\n"
      ],
      "metadata": {
        "id": "Ct4nzsQKcNNu"
      },
      "execution_count": null,
      "outputs": []
    },
    {
      "cell_type": "markdown",
      "source": [
        "# 5. Practice\n",
        "\n",
        "1. MolCalcを使ってベンゼンのような分子$\\mathrm {C_6H_6}$を作り、PySCFで構造最適化して、HOMOを表示して下さい。\n",
        "1. Basis setをSTO-3G、3-21G、6-31G、6-31G(d)と変えた場合に、エネルギーがどう変わるかを計算し、なぜ変わるかを説明して下さい。\n",
        "1. MolCalc等を使い、自分の好きな分子を組み立て、その構造を最適化しなさい。\n",
        "---\n",
        "1. Use MolCalc to make a benzene-like molecule $\\mathrm {C_6H_6}$, optimize its structure with PySCF, and display the HOMO.\n",
        "1. Calculate how the energies change when you change the Basis set to STO-3G, 3-21G, 6-31G, 6-31G(d) and explain why.\n",
        "1. Using MolCalc or other software, assemble a molecule of your choice and optimize its structure.\n",
        "\n",
        "\n",
        "\n"
      ],
      "metadata": {
        "id": "0JJA2v1dc9G5"
      }
    },
    {
      "cell_type": "code",
      "source": [],
      "metadata": {
        "id": "remP-aS6gD_y"
      },
      "execution_count": null,
      "outputs": []
    }
  ]
}
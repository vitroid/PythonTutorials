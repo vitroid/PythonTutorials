{
  "nbformat": 4,
  "nbformat_minor": 0,
  "metadata": {
    "colab": {
      "provenance": [],
      "toc_visible": true,
      "authorship_tag": "ABX9TyP4OVlxeXzcRsPSUReia+iY",
      "include_colab_link": true
    },
    "kernelspec": {
      "name": "python3",
      "display_name": "Python 3"
    },
    "language_info": {
      "name": "python"
    }
  },
  "cells": [
    {
      "cell_type": "markdown",
      "metadata": {
        "id": "view-in-github",
        "colab_type": "text"
      },
      "source": [
        "<a href=\"https://colab.research.google.com/github/vitroid/PythonTutorials/blob/master/2%20Advanced/100MolecularOrbital.ipynb\" target=\"_parent\"><img src=\"https://colab.research.google.com/assets/colab-badge.svg\" alt=\"Open In Colab\"/></a>"
      ]
    },
    {
      "cell_type": "markdown",
      "source": [
        "Google Colaboratory上で分子軌道計算を試します。\n",
        "\n",
        "[Labo-code](https://labo-code.com/python/quantum-chemical-calculation/moleculaorbital/)の記事を参考にしました。感謝!\n"
      ],
      "metadata": {
        "id": "Qdc4vkPBWK61"
      }
    },
    {
      "cell_type": "markdown",
      "source": [
        "# 1. 初期化\n",
        "## 1.1 必要なパッケージのインストール\n"
      ],
      "metadata": {
        "id": "McLoKIuNXMxo"
      }
    },
    {
      "cell_type": "code",
      "execution_count": null,
      "metadata": {
        "id": "WNH7j_piWJgQ"
      },
      "outputs": [],
      "source": [
        "!pip install pyscf\n",
        "!pip install numpy\n",
        "!pip install geometric\n",
        "!pip install py3Dmol"
      ]
    },
    {
      "cell_type": "markdown",
      "source": [
        "# 2. 構造最適化\n",
        "\n",
        "## 2.1 初期データを作る\n",
        "\n",
        "Labo-codeさんの記事をそのまま使っても構いませんが、ここではベンゼンではなく水分子を作ってみます。\n",
        "\n",
        "水分子の正確な原子位置はわからない(むしろ計算した結果として得たい)ので、ベンゼンの炭素3つの座標を酸素と水素に使います。\n",
        "\n"
      ],
      "metadata": {
        "id": "mpBYx-E9XWk0"
      }
    },
    {
      "cell_type": "code",
      "source": [
        "from pyscf import gto\n",
        "# GTO: Gaussian-type Orbital\n",
        "\n",
        "\n",
        "# 水分子の定義 (座標の単位はÅ、すごくてきとう。)\n",
        "mol = gto.Mole()\n",
        "mol.atom = \"\"\"\n",
        "O 0.0 0.0 0.0\n",
        "H 1.0 0.0 0.0\n",
        "H 0.0 1.0 0.0\n",
        "\"\"\"\n",
        "mol.basis='6-31G(d)'\n",
        "mol.build()"
      ],
      "metadata": {
        "id": "Izq1G5ojYBBr"
      },
      "execution_count": null,
      "outputs": []
    },
    {
      "cell_type": "code",
      "source": [
        "# とりあえず、そのまま表示してみる\n",
        "import py3Dmol\n",
        "from IPython.display import display, HTML\n",
        "\n",
        "\n",
        "def show_mol(mol, viewer):\n",
        "    # 分子のサイズを取得\n",
        "    coords = mol.atom_coords()\n",
        "    x_min, y_min, z_min = coords.min(axis=0) - 2.0\n",
        "    x_max, y_max, z_max = coords.max(axis=0) + 2.0\n",
        "\n",
        "\n",
        "    # 分子構造の追加\n",
        "    xyz = mol.tostring(format=\"xyz\")\n",
        "    viewer.addModel(xyz, \"xyz\")\n",
        "    viewer.setStyle({\"stick\": {}, \"sphere\": {\"scale\": 0.3}})\n",
        "\n",
        "\n",
        "# xyz = mol_to_xyz(mol)\n",
        "# view = py3Dmol.view(width=800, height=600)\n",
        "# view = view_xyz(view, xyz)\n",
        "# display(HTML(view._make_html()))\n",
        "\n",
        "# 3D表示の準備\n",
        "viewer = py3Dmol.view(width=800, height=600)\n",
        "show_mol(mol, viewer)\n",
        "viewer.zoomTo()\n",
        "viewer.show()\n"
      ],
      "metadata": {
        "id": "oK9Ed2DTgxgj"
      },
      "execution_count": null,
      "outputs": []
    },
    {
      "cell_type": "markdown",
      "source": [
        "## 2.2 構造最適化\n",
        "\n",
        "与えられた原子核の初期配置に対し、電子を配置してエネルギーができるだけ低くなるように電子と原子核の配置を最適にします。これを構造最適化と呼びます。\n"
      ],
      "metadata": {
        "id": "5azPAXarYcF_"
      }
    },
    {
      "cell_type": "code",
      "source": [
        "from pyscf.geomopt import geometric_solver\n",
        "from pyscf import dft, scf\n",
        "\n",
        "# # DFT計算のセットアップ\n",
        "# mf = dft.RKS(mol)\n",
        "\n",
        "# SCF計算のセットアップ\n",
        "mf = scf.RHF(mol)\n",
        "\n",
        "# 構造最適化\n",
        "mol_eq = geometric_solver.optimize(mf, maxsteps=100)\n"
      ],
      "metadata": {
        "id": "YHLCZhMTYuWl"
      },
      "execution_count": null,
      "outputs": []
    },
    {
      "cell_type": "code",
      "source": [
        "view = py3Dmol.view(width=800, height=600)\n",
        "show_mol(mol_eq, view)\n",
        "view.zoomTo()\n",
        "view.show()\n"
      ],
      "metadata": {
        "id": "b0BHzEXbiXSH"
      },
      "execution_count": null,
      "outputs": []
    },
    {
      "cell_type": "markdown",
      "source": [
        "## 2.3 電子配置\n",
        "\n",
        "電子を、エネルギーの低い軌道から順に入れていきます。酸素と水素で全部で10個の電子があるので、5つの軌道が埋まります。\n",
        "\n",
        "エネルギーの単位をhartreeからeVに換算して表示します。"
      ],
      "metadata": {
        "id": "gQFKuHovYVh3"
      }
    },
    {
      "cell_type": "code",
      "source": [
        "# 軌道情報の(再)計算\n",
        "mf.kernel()\n",
        "\n",
        "# エネルギーをeVに変換\n",
        "hartree_to_ev = 27.2114\n",
        "\n",
        "mf.mo_occ, mf.mo_energy * hartree_to_ev\n"
      ],
      "metadata": {
        "id": "hn8taqU8ZUsq"
      },
      "execution_count": null,
      "outputs": []
    },
    {
      "cell_type": "markdown",
      "source": [
        "電子が入っている、もっともエネルギーの高い(最も外側にある)軌道のことをHOMO (Highest Occupied Molecular Orbital; 最高被占分子軌道、その一つ上の軌道のことをLUMO (Lowest Unoccupied Molecular Orbital; 最低空分子軌道)と呼びます。一番外側の軌道は、分子の形や大きさや反応性を決定づけるので、化学ではこれらの軌道に特に注目します。\n",
        "\n",
        "水の場合、HOMOは5番目、LUMOは6番目の軌道です。\n",
        "\n",
        "Pythonでは、数字を0から数えはじめるので、これらはそれぞれ4番目、5番目に相当します。"
      ],
      "metadata": {
        "id": "Ibw86klsa13H"
      }
    },
    {
      "cell_type": "code",
      "source": [
        "import numpy as np\n",
        "\n",
        "# HOMOとLUMOのインデックス\n",
        "lumo_index = np.argwhere(mf.mo_occ == 0)[0][0]\n",
        "homo_index = lumo_index - 1\n"
      ],
      "metadata": {
        "id": "KyqMO54ZZb8Z"
      },
      "execution_count": null,
      "outputs": []
    },
    {
      "cell_type": "markdown",
      "source": [
        "## 2.4. 軌道の可視化\n",
        "\n",
        "途中で、軌道の形をcube形式のファイルに書きだし、それを読みこんでいます。"
      ],
      "metadata": {
        "id": "fA-RVlQ5b8p0"
      }
    },
    {
      "cell_type": "code",
      "source": [
        "from pyscf import tools\n",
        "import py3Dmol\n",
        "from IPython.display import display, HTML\n",
        "import ipywidgets as widgets\n",
        "\n",
        "# 指定した軌道のCUBEファイルを生成する関数\n",
        "def generate_cube_file(orbital_index, filename):\n",
        "    tools.cubegen.orbital(mol, filename, mf.mo_coeff[:, orbital_index])\n",
        "\n",
        "# 可視化する軌道のリストを作成\n",
        "orbitals = {\n",
        "    \"LUMO+2\": lumo_index + 2,\n",
        "    \"LUMO+1\": lumo_index + 1,\n",
        "    \"LUMO\": lumo_index,\n",
        "    \"HOMO\": homo_index,\n",
        "    \"HOMO-1\": homo_index - 1,\n",
        "    \"HOMO-2\": homo_index - 2,\n",
        "    \"HOMO-3\": homo_index - 3,\n",
        "    \"HOMO-4\": homo_index - 4\n",
        "}\n",
        "\n",
        "# エネルギーをeVに変換\n",
        "hartree_to_ev = 27.2114\n",
        "orbital_energies = {name: mf.mo_energy[idx] * hartree_to_ev for name, idx in orbitals.items()}\n",
        "\n",
        "# 可視化関数\n",
        "def show_orbital(orbitals, orbital_name, view):\n",
        "    orbital_index = orbitals[orbital_name]\n",
        "    cube_filename = f'{orbital_name}.cube'\n",
        "\n",
        "    generate_cube_file(orbital_index, cube_filename)\n",
        "\n",
        "    with open(cube_filename) as f:\n",
        "        cube = f.read()\n",
        "    view.addVolumetricData(cube, 'cube', {'isoval': 0.02, 'color': 'red', 'opacity': 0.75})\n",
        "    view.addVolumetricData(cube, 'cube', {'isoval': -0.02, 'color': 'blue', 'opacity': 0.75})\n",
        "\n",
        "    # エネルギーのラベルを追加\n",
        "    orbital_energy = orbital_energies[orbital_name]\n",
        "    view.addLabel(f'{orbital_name}: {orbital_energy:.6f} eV', {'fontSize': 12, 'fontColor': 'black', 'backgroundColor': 'white', 'backgroundOpacity': 0.8, 'showBackground': True, 'position': {'x': 0, 'y': 0, 'z': 0}})\n"
      ],
      "metadata": {
        "id": "26CoVzGJb6Mc"
      },
      "execution_count": null,
      "outputs": []
    },
    {
      "cell_type": "markdown",
      "source": [
        "Google Colabの簡易フォーム機能を使い、メニューで軌道を選べるようにしました。"
      ],
      "metadata": {
        "id": "GE3LaXii6Cd9"
      }
    },
    {
      "cell_type": "code",
      "source": [
        "# @title 軌道の可視化\n",
        "orbital_name = \"LUMO\" # @param [\"LUMO+2\", \"LUMO+1\", \"LUMO\", \"HOMO\", \"HOMO-1\", \"HOMO-2\", \"HOMO-3\", \"HOMO-4\"]\n",
        "# @\n",
        "\n",
        "view = py3Dmol.view(width=800, height=600)\n",
        "show_mol(mol_eq, view)\n",
        "show_orbital(orbitals, orbital_name, view)\n",
        "view.zoomTo()\n",
        "view.show()\n"
      ],
      "metadata": {
        "id": "KL0vV1Wko8VD"
      },
      "execution_count": null,
      "outputs": []
    },
    {
      "cell_type": "markdown",
      "source": [
        "# 3. 相互作用の計算\n",
        "\n",
        "水とCO2の相互作用エネルギーを計算してみます。\n",
        "\n"
      ],
      "metadata": {
        "id": "8OlePEPn6pdW"
      }
    },
    {
      "cell_type": "markdown",
      "source": [
        "## 3.1 CO2を作る\n"
      ],
      "metadata": {
        "id": "mWNxVV2a7U_Z"
      }
    },
    {
      "cell_type": "code",
      "source": [
        "from pyscf import gto, scf\n",
        "from pyscf.geomopt import geometric_solver\n",
        "\n",
        "# --- CO2分子の構造最適化 ---\n",
        "co2 = gto.Mole()\n",
        "co2.atom = [\n",
        "    ['C', (0.0, 0.0, 0.0)],\n",
        "    ['O', (1.2, 0.0, 0.0)],\n",
        "    ['O', (-1.2, 0.0, 0.0)],\n",
        "]\n",
        "co2.basis = '6-31g*' # 基底関数系\n",
        "co2.build()\n",
        "\n",
        "mf_co2 = scf.RHF(co2).run()\n",
        "# pybernyを使って構造最適化を実行\n",
        "co2_opt = geometric_solver.optimize(mf_co2)\n",
        "\n",
        "co2_opt.atom_coords()"
      ],
      "metadata": {
        "id": "BBDYVesw4iuO"
      },
      "execution_count": null,
      "outputs": []
    },
    {
      "cell_type": "markdown",
      "source": [
        "## 3.2 ２分子複合体を作る\n",
        "\n",
        "2分子が近くにある配置`combined`を作ります。"
      ],
      "metadata": {
        "id": "zBzXSdUC8ufu"
      }
    },
    {
      "cell_type": "code",
      "source": [
        "# 最適化されたCO2の座標と原子名を取得\n",
        "atom_names_co2 = [atom[0] for atom in co2_opt._atom]\n",
        "atom_coords_co2 = co2_opt.atom_coords()\n",
        "\n",
        "# 水も同様\n",
        "atom_names_h2o = [atom[0] for atom in mol_eq._atom]\n",
        "atom_coords_h2o = mol_eq.atom_coords()\n",
        "\n",
        "# 水をx方向に5 bohrずらす。\n",
        "atom_coords_co2[:, 0] += 8\n",
        "\n",
        "atom_names_h2o, atom_coords_h2o"
      ],
      "metadata": {
        "id": "qX6RLW8m9V4B"
      },
      "execution_count": null,
      "outputs": []
    },
    {
      "cell_type": "code",
      "source": [
        "# 複合系の原子リストと座標を作成\n",
        "# H2OとCO2の原子情報を結合\n",
        "combined_atom = []\n",
        "for i in range(3):\n",
        "    combined_atom.append([atom_names_h2o[i], *atom_coords_h2o[i]])\n",
        "for i in range(3):\n",
        "    combined_atom.append([atom_names_co2[i], *atom_coords_co2[i]])\n",
        "\n",
        "combined_atom"
      ],
      "metadata": {
        "id": "P4Ho4Jnv8txL"
      },
      "execution_count": null,
      "outputs": []
    },
    {
      "cell_type": "markdown",
      "source": [
        "## 3.3 分子配置を見る"
      ],
      "metadata": {
        "id": "_ZNqvRpZDFby"
      }
    },
    {
      "cell_type": "code",
      "source": [
        "mol_complex = gto.M(atom=combined_atom, basis='6-31g*', unit='bohr')\n",
        "\n",
        "view = py3Dmol.view(width=800, height=600)\n",
        "show_mol(mol_complex, view)\n",
        "view.zoomTo()\n",
        "view.show()\n"
      ],
      "metadata": {
        "id": "Wmma211v78Go"
      },
      "execution_count": null,
      "outputs": []
    },
    {
      "cell_type": "markdown",
      "source": [
        "## 3.4 複合体のエネルギー計算\n",
        "\n",
        "ここでは、原子が動いてほしくないので、構造最適化は行わず、エネルギー計算だけを行います。"
      ],
      "metadata": {
        "id": "jbId0hcLDiJN"
      }
    },
    {
      "cell_type": "code",
      "source": [
        "# 複合系のエネルギー計算\n",
        "mf_complex = scf.RHF(mol_complex).run()\n",
        "e_complex = mf_complex.e_tot # 複合系の全エネルギー\n",
        "e_complex # in hartree"
      ],
      "metadata": {
        "id": "AaVjoD_qAnho"
      },
      "execution_count": null,
      "outputs": []
    },
    {
      "cell_type": "markdown",
      "source": [
        "## 3.5 会合によるエネルギー収支"
      ],
      "metadata": {
        "id": "RSp1YNZmDmm7"
      }
    },
    {
      "cell_type": "code",
      "source": [
        "e_h2o = mf.e_tot\n",
        "e_h2o # in hartree"
      ],
      "metadata": {
        "id": "a6f_n2qF_AaT"
      },
      "execution_count": null,
      "outputs": []
    },
    {
      "cell_type": "code",
      "source": [
        "e_co2 = mf_co2.e_tot\n",
        "e_co2 # in hartree"
      ],
      "metadata": {
        "id": "cJ0n4BhD_D_K"
      },
      "execution_count": null,
      "outputs": []
    },
    {
      "cell_type": "code",
      "source": [
        "(e_complex - (e_h2o+e_co2)) * 2625.5 # in kJ/mol"
      ],
      "metadata": {
        "id": "YkGpG7Ah_p9z"
      },
      "execution_count": null,
      "outputs": []
    },
    {
      "cell_type": "markdown",
      "source": [
        "1 hartreeは2625 kJ/mol、かなり巨大な値です。電子状態計算でこんな大きなエネルギーがでてくるのは、原子核とすべての電子の間のクーロンエネルギーを計算するせいです。これに対し、相互作用を計算する場合には、分子が近付いたことによるエネルギー利得(差分)しか扱わないので、ずいぶん桁が小さくなります。したがって、電子状態計算をかなり精密に行わないと、相互作用の値は信用できなくなってしまいます。\n",
        "\n"
      ],
      "metadata": {
        "id": "NfyMVxE3D86B"
      }
    }
  ]
}
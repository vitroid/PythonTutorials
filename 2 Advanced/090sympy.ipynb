{
 "cells": [
  {
   "cell_type": "markdown",
   "metadata": {},
   "source": [
    "#Sympyとは\n",
    "Symbolic Pythonの略です。記号演算ができます。つまり、数値計算ではなく、式そのものを操作できるということです。http://www.sympy.org\n",
    "\n",
    "記号演算のための言語として、古くはREDUCE、最近ではMathematicaがありました。前者はいまは無料ですが、後者はずいぶん高いソフトウェアで、学生のころには大学のシステムでよく使わせてもらった、あこがれの言語でした。今はPythonで記号演算ができます。\n",
    "\n",
    "##例1: 式の展開"
   ]
  },
  {
   "cell_type": "code",
   "execution_count": 1,
   "metadata": {
    "collapsed": false
   },
   "outputs": [
    {
     "data": {
      "text/plain": [
       "a**5"
      ]
     },
     "execution_count": 1,
     "metadata": {},
     "output_type": "execute_result"
    }
   ],
   "source": [
    "from sympy import *\n",
    "a = Symbol('a')\n",
    "a**5"
   ]
  },
  {
   "cell_type": "code",
   "execution_count": null,
   "metadata": {
    "collapsed": false
   },
   "outputs": [],
   "source": [
    "b = Symbol('b')\n",
    "c = Symbol('c')\n",
    "(a+b+c)**10"
   ]
  },
  {
   "cell_type": "code",
   "execution_count": null,
   "metadata": {
    "collapsed": false
   },
   "outputs": [],
   "source": [
    "((a+b+c)**10).expand()"
   ]
  },
  {
   "cell_type": "markdown",
   "metadata": {},
   "source": [
    "##例2: 因数分解"
   ]
  },
  {
   "cell_type": "code",
   "execution_count": null,
   "metadata": {
    "collapsed": false
   },
   "outputs": [],
   "source": [
    "factor(a**10 + 10*a**9*b + 10*a**9*c + 45*a**8*b**2 + 90*a**8*b*c + \n",
    " 45*a**8*c**2 + 120*a**7*b**3 + 360*a**7*b**2*c + 360*a**7*b*c**2 + \n",
    " 120*a**7*c**3 + 210*a**6*b**4 + 840*a**6*b**3*c + 1260*a**6*b**2*c**2 +\n",
    " 840*a**6*b*c**3 + 210*a**6*c**4 + 252*a**5*b**5 + 1260*a**5*b**4*c +\n",
    " 2520*a**5*b**3*c**2 + 2520*a**5*b**2*c**3 + 1260*a**5*b*c**4 +\n",
    " 252*a**5*c**5 + 210*a**4*b**6 + 1260*a**4*b**5*c + 3150*a**4*b**4*c**2 +\n",
    " 4200*a**4*b**3*c**3 + 3150*a**4*b**2*c**4 + 1260*a**4*b*c**5 + \n",
    " 210*a**4*c**6 + 120*a**3*b**7 + 840*a**3*b**6*c + 2520*a**3*b**5*c**2 +\n",
    " 4200*a**3*b**4*c**3 + 4200*a**3*b**3*c**4 + 2520*a**3*b**2*c**5 + \n",
    " 840*a**3*b*c**6 + 120*a**3*c**7 + 45*a**2*b**8 + 360*a**2*b**7*c +\n",
    " 1260*a**2*b**6*c**2 + 2520*a**2*b**5*c**3 + 3150*a**2*b**4*c**4 + \n",
    " 2520*a**2*b**3*c**5 + 1260*a**2*b**2*c**6 + 360*a**2*b*c**7 + \n",
    " 45*a**2*c**8 + 10*a*b**9 + 90*a*b**8*c + 360*a*b**7*c**2 + \n",
    " 840*a*b**6*c**3 + 1260*a*b**5*c**4 + 1260*a*b**4*c**5 + 840*a*b**3*c**6 +\n",
    " 360*a*b**2*c**7 + 90*a*b*c**8 + 10*a*c**9 + b**10 + 10*b**9*c + \n",
    " 45*b**8*c**2 + 120*b**7*c**3 + 210*b**6*c**4 + 252*b**5*c**5 + \n",
    " 210*b**4*c**6 + 120*b**3*c**7 + 45*b**2*c**8 + 10*b*c**9 + c**10)"
   ]
  },
  {
   "cell_type": "markdown",
   "metadata": {},
   "source": [
    "##例3: 式の簡単化"
   ]
  },
  {
   "cell_type": "code",
   "execution_count": null,
   "metadata": {
    "collapsed": false
   },
   "outputs": [],
   "source": [
    "x = Symbol('x')\n",
    "sin(x)**2 + cos(x)**2"
   ]
  },
  {
   "cell_type": "code",
   "execution_count": null,
   "metadata": {
    "collapsed": false,
    "scrolled": true
   },
   "outputs": [],
   "source": [
    "simplify(sin(x**2+5)**2 + cos(x**2+5)**2)"
   ]
  },
  {
   "cell_type": "code",
   "execution_count": null,
   "metadata": {
    "collapsed": true
   },
   "outputs": [],
   "source": []
  },
  {
   "cell_type": "markdown",
   "metadata": {},
   "source": [
    "##例4: 偏微分"
   ]
  },
  {
   "cell_type": "code",
   "execution_count": null,
   "metadata": {
    "collapsed": false
   },
   "outputs": [],
   "source": [
    "((a+b+c)**10).diff(a)"
   ]
  },
  {
   "cell_type": "code",
   "execution_count": null,
   "metadata": {
    "collapsed": false
   },
   "outputs": [],
   "source": [
    "diff((a+b+c)**10,a)"
   ]
  },
  {
   "cell_type": "markdown",
   "metadata": {},
   "source": [
    "多階微分も楽勝です。"
   ]
  },
  {
   "cell_type": "code",
   "execution_count": null,
   "metadata": {
    "collapsed": false
   },
   "outputs": [],
   "source": [
    "((a+sin(b))**10).diff(a,5).diff(b,2).simplify()"
   ]
  },
  {
   "cell_type": "markdown",
   "metadata": {},
   "source": [
    "##例5: 積分\n",
    "下の例にでてくるsin()はmathライブラリの関数ではなく、記号演算用にsympyで再定義されたものです。"
   ]
  },
  {
   "cell_type": "code",
   "execution_count": null,
   "metadata": {
    "collapsed": false
   },
   "outputs": [],
   "source": [
    "x = Symbol('x')\n",
    "exp(a*x**2).integrate((x,-oo,0))"
   ]
  },
  {
   "cell_type": "markdown",
   "metadata": {},
   "source": [
    "###Gauss積分\n",
    "ooは無限大を表します。integrateなどの関数は後置しても、下のように書いても同じようです。"
   ]
  },
  {
   "cell_type": "code",
   "execution_count": null,
   "metadata": {
    "collapsed": false
   },
   "outputs": [],
   "source": [
    "integrate(exp(-x**2),x)"
   ]
  },
  {
   "cell_type": "markdown",
   "metadata": {},
   "source": [
    "##例6: 関数定義\n",
    "関数を定義できると便利ですよね。\n",
    "\n",
    "まずは、未定義の関数を作ります。(Symbolと同じく、すこし違和感のある書き方です)"
   ]
  },
  {
   "cell_type": "code",
   "execution_count": null,
   "metadata": {
    "collapsed": true
   },
   "outputs": [],
   "source": [
    "f = Function('f')"
   ]
  },
  {
   "cell_type": "markdown",
   "metadata": {},
   "source": [
    "これを微分します。中身がわからない関数なので、形式的にしか微分できません。"
   ]
  },
  {
   "cell_type": "code",
   "execution_count": null,
   "metadata": {
    "collapsed": false,
    "scrolled": true
   },
   "outputs": [],
   "source": [
    "f(x).diff(x)"
   ]
  },
  {
   "cell_type": "markdown",
   "metadata": {},
   "source": [
    "しかし、ちゃんとchain ruleは働きます。"
   ]
  },
  {
   "cell_type": "code",
   "execution_count": null,
   "metadata": {
    "collapsed": false
   },
   "outputs": [],
   "source": [
    "f(exp(x)).diff(x)"
   ]
  },
  {
   "cell_type": "code",
   "execution_count": null,
   "metadata": {
    "collapsed": false
   },
   "outputs": [],
   "source": [
    "x=Symbol('x')\n",
    "y=Symbol('y')\n",
    "r=Symbol('r')\n",
    "th=Symbol('th')\n",
    "\n",
    "x=r*cos(th)\n",
    "x.diff(th)\n"
   ]
  },
  {
   "cell_type": "markdown",
   "metadata": {},
   "source": [
    "Subs(a,b,c)は式aのなかにあらわれるbをcに置きかえる(substitute)という意味です。"
   ]
  },
  {
   "cell_type": "markdown",
   "metadata": {},
   "source": [
    "##例7: 求解\n",
    "なんと解を求めることまでできます。"
   ]
  },
  {
   "cell_type": "code",
   "execution_count": null,
   "metadata": {
    "collapsed": false,
    "scrolled": true
   },
   "outputs": [],
   "source": [
    "solve(a**2+a*b+b**2,a)"
   ]
  },
  {
   "cell_type": "code",
   "execution_count": null,
   "metadata": {
    "collapsed": true
   },
   "outputs": [],
   "source": []
  },
  {
   "cell_type": "markdown",
   "metadata": {},
   "source": [
    "##例8: 数値計算\n",
    "解析的に答が出ない場合には、数値的な解を求めることもできます。"
   ]
  },
  {
   "cell_type": "code",
   "execution_count": null,
   "metadata": {
    "collapsed": false
   },
   "outputs": [],
   "source": [
    "solve(x-cos(x),x)"
   ]
  },
  {
   "cell_type": "code",
   "execution_count": null,
   "metadata": {
    "collapsed": false
   },
   "outputs": [],
   "source": [
    "nsolve(x-cos(x),x,1)"
   ]
  },
  {
   "cell_type": "markdown",
   "metadata": {},
   "source": [
    "##例9: フーリエ変換\n",
    "積分ができるということは、フーリエ変換ができるはずです。まずはガウス関数のフーリエ変換を積分形式で書いてみましょう。ガウス関数は偶関数なので、フーリエ変換はコサイン変換となります。\n",
    "\n",
    "$$\\int_{-\\infty}^{\\infty}\\exp(-x^2/a)\\exp(2i\\pi k x){\\rm d}x = \\int_{-\\infty}^{\\infty}\\exp(-x^2/a)\\cos(2\\pi k x){\\rm d}x$$"
   ]
  },
  {
   "cell_type": "code",
   "execution_count": null,
   "metadata": {
    "collapsed": false
   },
   "outputs": [],
   "source": [
    "k = Symbol('k')\n",
    "integrate(exp(-x**2/a)*cos(2*pi*k*x),x)"
   ]
  },
  {
   "cell_type": "markdown",
   "metadata": {},
   "source": [
    "解けませんね・・・。では、コサイン変換関数を使ってみます。"
   ]
  },
  {
   "cell_type": "code",
   "execution_count": null,
   "metadata": {
    "collapsed": false
   },
   "outputs": [],
   "source": [
    "cosine_transform(exp(-x**2/a),x,k)"
   ]
  },
  {
   "cell_type": "markdown",
   "metadata": {},
   "source": [
    "ガウス関数をフーリエ変換するとガウス関数になる、といういわゆる不確定性原理が出せました。\n",
    "\n",
    "ためしに、cos(x)をフーリエ変換してみます。"
   ]
  },
  {
   "cell_type": "code",
   "execution_count": null,
   "metadata": {
    "collapsed": false
   },
   "outputs": [],
   "source": [
    "cosine_transform(cos(x-a),x,k)"
   ]
  },
  {
   "cell_type": "markdown",
   "metadata": {},
   "source": [
    "うまくいきませんね。δ関数は使えないのでしょうか・・・。もう少し勉強します。"
   ]
  },
  {
   "cell_type": "markdown",
   "metadata": {},
   "source": [
    "##例10: 定数の代入\n",
    "たぶんこれでできるはず。"
   ]
  },
  {
   "cell_type": "code",
   "execution_count": null,
   "metadata": {
    "collapsed": false
   },
   "outputs": [],
   "source": [
    "sin(x).diff(x).subs(x,pi)"
   ]
  },
  {
   "cell_type": "markdown",
   "metadata": {},
   "source": [
    "##例11: 級数の和\n",
    "sum()という関数がすでにあるので、記号演算用では大文字からはじまるSum()を使います。積はProductです。doit()という謎の関数を入れないと、式を解釈してくれないようです。"
   ]
  },
  {
   "cell_type": "code",
   "execution_count": null,
   "metadata": {
    "collapsed": false
   },
   "outputs": [],
   "source": [
    "i = Symbol('i')\n",
    "n = Symbol('n')\n",
    "Sum(i**3,(i,1,n))"
   ]
  },
  {
   "cell_type": "code",
   "execution_count": null,
   "metadata": {
    "collapsed": false,
    "scrolled": true
   },
   "outputs": [],
   "source": [
    "Sum(i**3,(i,1,n)).doit()"
   ]
  },
  {
   "cell_type": "code",
   "execution_count": null,
   "metadata": {
    "collapsed": false
   },
   "outputs": [],
   "source": [
    "Sum(i**3,(i,1,n)).doit().factor()"
   ]
  },
  {
   "cell_type": "code",
   "execution_count": null,
   "metadata": {
    "collapsed": false
   },
   "outputs": [],
   "source": [
    "Product(i,(i,1,n)).doit()"
   ]
  },
  {
   "cell_type": "markdown",
   "metadata": {},
   "source": [
    "##例12: 多倍長実数\n",
    "pythonではもともと整数は何桁でも計算できましたが、sympyを使うと実数も桁数の制限がなくなるようです。"
   ]
  },
  {
   "cell_type": "code",
   "execution_count": null,
   "metadata": {
    "collapsed": false
   },
   "outputs": [],
   "source": [
    "pi"
   ]
  },
  {
   "cell_type": "markdown",
   "metadata": {},
   "source": [
    "piは超越数なので、sympyのなかでは記号で表しますが、あえて円周率の近似値が使いたい場合は、evalf()で式の数値化を行います。"
   ]
  },
  {
   "cell_type": "code",
   "execution_count": null,
   "metadata": {
    "collapsed": false
   },
   "outputs": [],
   "source": [
    "pi.evalf()"
   ]
  },
  {
   "cell_type": "markdown",
   "metadata": {},
   "source": [
    "evalfには桁数が指定できます。ということは?"
   ]
  },
  {
   "cell_type": "code",
   "execution_count": null,
   "metadata": {
    "collapsed": false
   },
   "outputs": [],
   "source": [
    "pi.evalf(10000)"
   ]
  },
  {
   "cell_type": "markdown",
   "metadata": {},
   "source": [
    "マニュアルを読んでいると、ほかにいくらでも面白い機能が見付かります。これだけで半期の講義ができそうです。\n",
    "\n",
    "せっかく数式操作ができるようになったので、記号演算でないと難しそうな問題を解いてみましょう。\n",
    "\n",
    "##練習問題1 マクローリン展開\n",
    "sin(x)のマクローリン展開を試してみます。まずは1、2、3、0次の係数を書き下します。階乗x!はfactorial(x)で計算できるようです。"
   ]
  },
  {
   "cell_type": "code",
   "execution_count": null,
   "metadata": {
    "collapsed": false
   },
   "outputs": [],
   "source": [
    "sin(x).diff(x).subs(x,0) / factorial(1)"
   ]
  },
  {
   "cell_type": "code",
   "execution_count": null,
   "metadata": {
    "collapsed": false
   },
   "outputs": [],
   "source": [
    "sin(x).diff(x,2).subs(x,0) / factorial(2)"
   ]
  },
  {
   "cell_type": "code",
   "execution_count": null,
   "metadata": {
    "collapsed": false
   },
   "outputs": [],
   "source": [
    "sin(x).diff(x,3).subs(x,0) / factorial(3)"
   ]
  },
  {
   "cell_type": "code",
   "execution_count": null,
   "metadata": {
    "collapsed": false
   },
   "outputs": [],
   "source": [
    "sin(x).diff(x,0).subs(x,0) / factorial(0)"
   ]
  },
  {
   "cell_type": "markdown",
   "metadata": {},
   "source": [
    "これを繰り返しを使って6階までべたで書いてみると、"
   ]
  },
  {
   "cell_type": "code",
   "execution_count": null,
   "metadata": {
    "collapsed": false,
    "scrolled": true
   },
   "outputs": [],
   "source": [
    "x = Symbol('x')\n",
    "( x**0 * (sin(x).diff(x,0).subs(x,0)) / factorial(0)\n",
    " +x**1 * (sin(x).diff(x,1).subs(x,0)) / factorial(1)\n",
    " +x**2 * (sin(x).diff(x,2).subs(x,0)) / factorial(2)\n",
    " +x**3 * (sin(x).diff(x,3).subs(x,0)) / factorial(3)\n",
    " +x**4 * (sin(x).diff(x,4).subs(x,0)) / factorial(4)\n",
    " +x**5 * (sin(x).diff(x,5).subs(x,0)) / factorial(5)\n",
    " +x**6 * (sin(x).diff(x,6).subs(x,0)) / factorial(6) )"
   ]
  },
  {
   "cell_type": "markdown",
   "metadata": {},
   "source": [
    "Sumを使って書くなら、"
   ]
  },
  {
   "cell_type": "code",
   "execution_count": null,
   "metadata": {
    "collapsed": false,
    "scrolled": true
   },
   "outputs": [],
   "source": [
    "Sum(x**n * (sin(x).diff(x,n).subs(x,0)) / factorial(n), (n,0,6))"
   ]
  },
  {
   "cell_type": "markdown",
   "metadata": {},
   "source": [
    "うまくいきませんね。どうも、diff(x,n)のところが、xとnで微分せよ、と解釈されてしまったようです。しかたがないので、Sumを使わないで、for文で計算してみましょう。"
   ]
  },
  {
   "cell_type": "code",
   "execution_count": null,
   "metadata": {
    "collapsed": false,
    "scrolled": true
   },
   "outputs": [],
   "source": [
    "def maclaurin(func,x):\n",
    "    s = 0\n",
    "    for n in range(13):\n",
    "        s += x**n * (func.subs(x,0)) / factorial(n)\n",
    "        func = func.diff(x)\n",
    "    return s\n",
    "\n",
    "maclaurin(exp(x),x)"
   ]
  },
  {
   "cell_type": "markdown",
   "metadata": {},
   "source": [
    "なお、私はマニュアルからさがしきれなかったのですが、上の関数はすでにsympyで定義されているかもしれません。→見付けました。"
   ]
  },
  {
   "cell_type": "code",
   "execution_count": null,
   "metadata": {
    "collapsed": false
   },
   "outputs": [],
   "source": [
    "series(exp(x),x)"
   ]
  },
  {
   "cell_type": "markdown",
   "metadata": {},
   "source": [
    "##練習問題2 van der Waals関数の臨界点\n",
    "微分ができ、求解ができるので、変曲点を求めるのは簡単なはず。vdWの状態方程式は次のように書けます。"
   ]
  },
  {
   "cell_type": "code",
   "execution_count": 1,
   "metadata": {
    "collapsed": false
   },
   "outputs": [
    {
     "data": {
      "text/plain": [
       "[(T*V**2*k - V*a + a*b)/(V**2*(V - b))]"
      ]
     },
     "execution_count": 1,
     "metadata": {},
     "output_type": "execute_result"
    }
   ],
   "source": [
    "from sympy import *\n",
    "p = Symbol('p')\n",
    "T = Symbol('T')\n",
    "V = Symbol('V')\n",
    "a = Symbol('a')\n",
    "b = Symbol('b')\n",
    "k = Symbol('k')\n",
    "(p+a/V**2)*(V-b)-k*T\n",
    "solve(-T*k + (V - b)*(p + a/V**2),p)"
   ]
  },
  {
   "cell_type": "markdown",
   "metadata": {},
   "source": [
    "上の式はpに等しいはずです。これをp=f(V,T)の形で書くということは、上の式をpに関して解くのと同じことです。"
   ]
  },
  {
   "cell_type": "code",
   "execution_count": 2,
   "metadata": {
    "collapsed": false
   },
   "outputs": [
    {
     "data": {
      "text/plain": [
       "[(T*V**2*k - V*a + a*b)/(V**2*(V - b))]"
      ]
     },
     "execution_count": 2,
     "metadata": {},
     "output_type": "execute_result"
    }
   ],
   "source": [
    "solve(-T*k + (V - b)*(p + a/V**2),p)"
   ]
  },
  {
   "cell_type": "markdown",
   "metadata": {},
   "source": [
    "圧力の体積微分と、二次微分がどちらも0になるのが変曲点ですから、"
   ]
  },
  {
   "cell_type": "code",
   "execution_count": 3,
   "metadata": {
    "collapsed": false
   },
   "outputs": [
    {
     "data": {
      "text/plain": [
       "(2*T*V*k - a)/(V**2*(V - b)) - (T*V**2*k - V*a + a*b)/(V**2*(V - b)**2) - 2*(T*V**2*k - V*a + a*b)/(V**3*(V - b))"
      ]
     },
     "execution_count": 3,
     "metadata": {},
     "output_type": "execute_result"
    }
   ],
   "source": [
    "diff((T*V**2*k - V*a + a*b)/(V**2*(V - b)), V)"
   ]
  },
  {
   "cell_type": "code",
   "execution_count": 4,
   "metadata": {
    "collapsed": false,
    "scrolled": true
   },
   "outputs": [
    {
     "data": {
      "text/plain": [
       "2*(T*k - (2*T*V*k - a)/(V - b) + (T*V**2*k - V*a + a*b)/(V - b)**2 - 2*(2*T*V*k - a)/V + 2*(T*V**2*k - V*a + a*b)/(V*(V - b)) + 3*(T*V**2*k - V*a + a*b)/V**2)/(V**2*(V - b))"
      ]
     },
     "execution_count": 4,
     "metadata": {},
     "output_type": "execute_result"
    }
   ],
   "source": [
    "diff((T*V**2*k - V*a + a*b)/(V**2*(V - b)),V,V)"
   ]
  },
  {
   "cell_type": "markdown",
   "metadata": {
    "collapsed": true
   },
   "source": [
    "状態方程式の変曲点は、熱力学では臨界点と呼びます。体積変化に対して圧力が変動しないということは、圧縮率が無限大になり、体積が大きくゆらぐことを示唆しています。圧縮率が無限大ということはまた、音速が0になることを意味します。"
   ]
  },
  {
   "cell_type": "code",
   "execution_count": null,
   "metadata": {
    "collapsed": false
   },
   "outputs": [],
   "source": [
    "solve(((2*T*V*k - a)/(V**2*(V - b)) - (T*V**2*k - V*a + a*b)/(V**2*(V - b)**2) - 2*(T*V**2*k - V*a + a*b)/(V**3*(V - b)),2*(T*k - (2*T*V*k - a)/(V - b) + (T*V**2*k - V*a + a*b)/(V - b)**2 - 2*(2*T*V*k - a)/V + 2*(T*V**2*k - V*a + a*b)/(V*(V - b)) + 3*(T*V**2*k - V*a + a*b)/V**2)/(V**2*(V - b))),(V,T))"
   ]
  },
  {
   "cell_type": "code",
   "execution_count": 5,
   "metadata": {
    "collapsed": false
   },
   "outputs": [
    {
     "data": {
      "text/plain": [
       "-T*V**3*k + 2*V**2*a - 4*V*a*b + 2*a*b**2"
      ]
     },
     "execution_count": 5,
     "metadata": {},
     "output_type": "execute_result"
    }
   ],
   "source": [
    "((2*T*V*k - a)/(V**2*(V - b))*(V**3*(V-b)**2) - (T*V**2*k - V*a + a*b)/(V**2*(V - b)**2)*(V**3*(V-b)**2) - 2*(T*V**2*k - V*a + a*b)/(V**3*(V - b))*(V**3*(V-b)**2)).expand()"
   ]
  },
  {
   "cell_type": "code",
   "execution_count": 6,
   "metadata": {
    "collapsed": false
   },
   "outputs": [
    {
     "data": {
      "text/plain": [
       "T*V**4*k - 3*V**3*a + 9*V**2*a*b - 9*V*a*b**2 + 3*a*b**3"
      ]
     },
     "execution_count": 6,
     "metadata": {},
     "output_type": "execute_result"
    }
   ],
   "source": [
    "(\n",
    "    (\n",
    "        T*k - (2*T*V*k - a)/(V - b) \n",
    "        + (T*V**2*k - V*a + a*b)/(V - b)**2 \n",
    "        - 2*(2*T*V*k - a)/V \n",
    "        + 2*(T*V**2*k - V*a + a*b)/(V*(V - b)) \n",
    "        + 3*(T*V**2*k - V*a + a*b)/V**2\n",
    "    )*V**2*(V-b)**2\n",
    ").expand().simplify()"
   ]
  },
  {
   "cell_type": "code",
   "execution_count": 7,
   "metadata": {
    "collapsed": false
   },
   "outputs": [
    {
     "data": {
      "text/plain": [
       "[(0, b), (8*a/(27*b*k), 3*b)]"
      ]
     },
     "execution_count": 7,
     "metadata": {},
     "output_type": "execute_result"
    }
   ],
   "source": [
    "solve((-T*V**3*k + 2*V**2*a - 4*V*a*b + 2*a*b**2,\n",
    "       T*V**4*k - 3*V**3*a + 9*V**2*a*b - 9*V*a*b**2 + 3*a*b**3),(T,V))"
   ]
  },
  {
   "cell_type": "code",
   "execution_count": null,
   "metadata": {
    "collapsed": true
   },
   "outputs": [],
   "source": []
  }
 ],
 "metadata": {
  "kernelspec": {
   "display_name": "Python 3",
   "language": "python",
   "name": "python3"
  },
  "language_info": {
   "codemirror_mode": {
    "name": "ipython",
    "version": 3
   },
   "file_extension": ".py",
   "mimetype": "text/x-python",
   "name": "python",
   "nbconvert_exporter": "python",
   "pygments_lexer": "ipython3",
   "version": "3.4.2"
  }
 },
 "nbformat": 4,
 "nbformat_minor": 0
}

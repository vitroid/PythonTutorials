{
 "cells": [
  {
   "cell_type": "markdown",
   "metadata": {},
   "source": [
    "# Mine Sweeperを作る\n",
    "行儀の良いコードを作るのにすこし飽きてきたので、ゲームをひとつ作ってみます。\n",
    "\n",
    "マインスイーパーはこんなゲームです。→http://www.afsgames.com/mine.htm\n",
    "\n",
    "ゲームのルールを修得する意味で、すこし自分で遊んでみて下さい。\n",
    "\n",
    "今回は、コンピュータが作った問題を人間が解くことにします。(コンピュータに解かせるのは格段に難しいですが、人間の考えをアルゴリズム化すればいいので、不可能ではありません)\n",
    "\n",
    "まだグラフィックスの使い方を学んでいない(というより、WinPythonはあまりそういう用途を想定していない)ので、テキスト表示の範囲で作ります。当然、座標を直接マウスでは指定できないので、input命令でx,y座標を入れさせます。\n",
    "\n",
    "## 初級: 紙ベースのマインスイーパー\n",
    "まずは、一番原始的なマインスイーパーを作ります。\n",
    "\n",
    "1. コンピュータが盤を準備する。\n",
    "2. 人間が、座標を指定する。\n",
    "3. コンピュータは、そこが爆弾か、あるいは周囲8格子点の爆弾の数を答える。\n",
    "4. 爆弾にヒットするまで2,3を繰り返す。\n",
    "\n",
    "### 盤を作る\n",
    "盤の大きさは、とりあえず10x10としましょう。また、爆弾の総数は10個とします。\n",
    "\n",
    "どの場所に爆弾があるか、という情報をPythonに覚えさせる方法はいくつかあります。リスト、二次元リスト、集合、辞書のどれでも書けますが、今回は集合を使うことにします。\n",
    "\n",
    "爆弾の座標の集合を作ります。randomライブラリのrandint関数で、0〜9の整数をランダムに発生させられます。"
   ]
  },
  {
   "cell_type": "code",
   "execution_count": null,
   "metadata": {
    "collapsed": true
   },
   "outputs": [],
   "source": [
    "import random\n",
    "nbomb = 10\n",
    "mapsize = (10,10)\n",
    "\n",
    "bombs = set()\n",
    "for i in range(nbomb):\n",
    "    while True:                 #無条件ループ\n",
    "        x = random.randint(0,9)\n",
    "        y = random.randint(0,9)\n",
    "        if (x,y) not in bombs:\n",
    "            break               #whileループから抜ける\n",
    "    bombs.add((x,y))\n",
    "print(bombs)"
   ]
  },
  {
   "cell_type": "markdown",
   "metadata": {},
   "source": [
    "ちゃんと動くことがわかったら、さっそく関数にしてしまいます。"
   ]
  },
  {
   "cell_type": "code",
   "execution_count": null,
   "metadata": {},
   "outputs": [],
   "source": [
    "import random\n",
    "\n",
    "def makemap(mapsize,nbomb):\n",
    "    bombs = set()\n",
    "    for i in range(nbomb):\n",
    "        while True:                 #無条件ループ\n",
    "            x = random.randint(0,mapsize[0]-1)\n",
    "            y = random.randint(0,mapsize[1]-1)\n",
    "            if (x,y) not in bombs:\n",
    "                break               #whileループから抜ける\n",
    "        bombs.add((x,y))\n",
    "    return bombs\n",
    "\n",
    "nbomb = 10\n",
    "mapsize = (10,10)\n",
    "bombs = makemap(mapsize,nbomb)\n",
    "print(bombs)"
   ]
  },
  {
   "cell_type": "markdown",
   "metadata": {},
   "source": [
    "入力は、input命令を使うことにします。数字の区切りにはcommaが必要です。"
   ]
  },
  {
   "cell_type": "code",
   "execution_count": null,
   "metadata": {
    "collapsed": true
   },
   "outputs": [],
   "source": [
    "x,y=eval(input(\"X Y:\"))"
   ]
  },
  {
   "cell_type": "markdown",
   "metadata": {},
   "source": [
    "もしその座標に爆弾があれば、もうおしまいです。"
   ]
  },
  {
   "cell_type": "code",
   "execution_count": null,
   "metadata": {
    "collapsed": true
   },
   "outputs": [],
   "source": [
    "if (x,y) in bombs:\n",
    "    print(\"BOMB!\")"
   ]
  },
  {
   "cell_type": "markdown",
   "metadata": {},
   "source": [
    "そうでない場合には、周囲8格子点にある爆弾の総数を表示します。"
   ]
  },
  {
   "cell_type": "code",
   "execution_count": null,
   "metadata": {
    "collapsed": true
   },
   "outputs": [],
   "source": [
    "else:\n",
    "    bombcount = 0\n",
    "    for neix in range(x-1,x+2):\n",
    "        for neiy in range(y-1,y+2):\n",
    "            if (neix,neiy) in bombs:\n",
    "                bombcount += 1\n",
    "    print(\"There are {0} bombs near ({1},{2}).\".format(bombcount,x,y))"
   ]
  },
  {
   "cell_type": "markdown",
   "metadata": {},
   "source": [
    "ある場所の周囲9点の爆弾の個数を数える部分も関数countbombs()にしてしまいましょう。"
   ]
  },
  {
   "cell_type": "code",
   "execution_count": null,
   "metadata": {
    "collapsed": true
   },
   "outputs": [],
   "source": [
    "def countbombs(x,y,bombs):\n",
    "    n = 0\n",
    "    for neix in range(x-1,x+2):\n",
    "        for neiy in range(y-1,y+2):\n",
    "            if (neix,neiy) in bombs:\n",
    "                n += 1\n",
    "    return n"
   ]
  },
  {
   "cell_type": "markdown",
   "metadata": {},
   "source": [
    "あとは、入力をずっと繰りかえすだけです。全部を組みあわせると、次のようになります。"
   ]
  },
  {
   "cell_type": "code",
   "execution_count": null,
   "metadata": {
    "collapsed": true
   },
   "outputs": [],
   "source": [
    "import random\n",
    "\n",
    "\n",
    "\n",
    "def countbombs(x,y,bombs):\n",
    "    n = 0\n",
    "    for neix in range(x-1,x+2):\n",
    "        for neiy in range(y-1,y+2):\n",
    "            if (neix,neiy) in bombs:\n",
    "                n += 1\n",
    "    return n\n",
    "\n",
    "\n",
    "\n",
    "def makemap(mapsize,nbomb):\n",
    "    bombs = set()\n",
    "    for i in range(nbomb):\n",
    "        while True:                 #無条件ループ\n",
    "            x = random.randint(0,mapsize[0]-1)\n",
    "            y = random.randint(0,mapsize[1]-1)\n",
    "            if (x,y) not in bombs:\n",
    "                break               #whileループから抜ける\n",
    "        bombs.add((x,y))\n",
    "    return bombs\n",
    "\n",
    "nbomb = 10\n",
    "mapsize = (10,10)\n",
    "bombs = makemap(mapsize,nbomb)\n",
    "\n",
    "while True:                         #また無条件ループ\n",
    "    x,y=eval(input(\"X Y:\"))\n",
    "    if (x,y) in bombs:\n",
    "        print(\"BOMB!\")\n",
    "        break                       #whileループから抜ける\n",
    "    else:\n",
    "        bombcount = countbombs(x,y,bombs)\n",
    "        print(\"There are {0} bombs near ({1},{2}).\".format(bombcount,x,y))\n"
   ]
  },
  {
   "cell_type": "markdown",
   "metadata": {},
   "source": [
    "## 中級編: 画面表示\n",
    "紙ベースのマインスイーパーは、どこをチェックしたか、という情報はぜんぶ自分で紙(方眼紙)に書き残しておかなければならず、けっこう面倒です。そこで、すでにチェックした場所が地図の形で表示されるようにしてみましょう。そのためには、プレーヤーがこれまで入力した座標と、その周辺の爆弾の個数を全部記憶しておく必要があります。これには辞書を使うのがぴったりです。\n",
    "\n",
    "座標をキーとし、近傍の爆弾の個数を値とする辞書numを準備します。"
   ]
  },
  {
   "cell_type": "code",
   "execution_count": null,
   "metadata": {
    "collapsed": true
   },
   "outputs": [],
   "source": [
    "num = dict()"
   ]
  },
  {
   "cell_type": "markdown",
   "metadata": {
    "collapsed": true
   },
   "source": [
    "そして、爆弾の数を毎度保管していきます。"
   ]
  },
  {
   "cell_type": "code",
   "execution_count": null,
   "metadata": {
    "collapsed": true
   },
   "outputs": [],
   "source": [
    "num[(x,y)] = bombcount"
   ]
  },
  {
   "cell_type": "markdown",
   "metadata": {},
   "source": [
    "### 課題1\n",
    "この2行を、上のプログラムの適切な場所に加えて下さい。"
   ]
  },
  {
   "cell_type": "code",
   "execution_count": null,
   "metadata": {
    "collapsed": true
   },
   "outputs": [],
   "source": []
  },
  {
   "cell_type": "markdown",
   "metadata": {},
   "source": [
    "マインスイーパーで表示されるマップは、numの中身です。numを10x10の格子の形で表示することにしましょう。安全かどうか確認できていない場所には\"?\"と表示することにします。"
   ]
  },
  {
   "cell_type": "code",
   "execution_count": null,
   "metadata": {
    "collapsed": true
   },
   "outputs": [],
   "source": [
    "def showmap(num,mapsize):\n",
    "    for posy in range(mapsize[1]):\n",
    "        for posx in range(mapsize[0]):\n",
    "            if (posx,posy) in num:\n",
    "                bombcount = num[(posx,posy)]\n",
    "                print(bombcount,end=\"\")\n",
    "            else:\n",
    "                print(\"?\",end=\"\")\n",
    "        print()"
   ]
  },
  {
   "cell_type": "markdown",
   "metadata": {},
   "source": [
    "### 課題2\n",
    "showmap()を上のプログラムの適切な場所に加えて下さい。\n",
    "### 課題3\n",
    "プレーヤーが便利なように、下のようにもう少し見易く表示できるよう、showmap関数を改良して下さい。"
   ]
  },
  {
   "cell_type": "raw",
   "metadata": {
    "collapsed": true
   },
   "source": [
    " |0 1 2 3 4 5 6 7 8 9 \n",
    "-+--------------------\n",
    "0|? ? ? ? ? ? ? ? ? ? \n",
    "1|? ? ? ? ? ? ? ? 2 ? \n",
    "2|? ? ? ? ? ? ? 1 ? ? \n",
    "3|? ? ? 0 ? ? 1 ? ? ? \n",
    "4|? ? ? 0 1 1 ? ? ? ? \n",
    "5|? ? ? 0 ? ? ? ? ? ? \n",
    "6|? ? ? ? ? ? ? ? ? ? \n",
    "7|? ? ? ? ? ? ? ? ? ? \n",
    "8|? ? ? ? ? ? ? ? ? ? \n",
    "9|? ? ? ? ? ? ? ? ? ? "
   ]
  },
  {
   "cell_type": "markdown",
   "metadata": {},
   "source": [
    "## 上級編: 自動判定と終了判定\n",
    "通常のマインスイーパーにあって、自作マインスイーパーに無い機能が見えてきたでしょうか。\"0\"にヒットした場合、すなわち、その場所にもその周囲8点にも爆弾が存在しない場所をクリックすると、周囲8点は安心してクリックして構わないわけです。通常のマインスイーパーだと、隣をつぎつぎに自動的に開き、ユーザーの手間を省いてくれます。\n",
    "\n",
    "この機能はどうやって実現できるでしょうか。かなりややこしい気がしますが、実はけっこう簡単に書けます。\n",
    "\n",
    "座標を引数とし、その周囲9点を自動的に展開する関数probe()を書いてみます。"
   ]
  },
  {
   "cell_type": "code",
   "execution_count": null,
   "metadata": {
    "collapsed": true
   },
   "outputs": [],
   "source": [
    "def probe(x,y,num,bombs):\n",
    "    for neix in range(x-1,x+2):         #(x,y)の周囲9点について、\n",
    "        for neiy in range(y-1,y+2):\n",
    "            if (neix,neiy) not in num:  #その場所はまだ誰も調べていないなら\n",
    "                bombcount = countbombs(neix,neiy,bombs)\n",
    "                num[(neix,neiy)] = bombcount                "
   ]
  },
  {
   "cell_type": "markdown",
   "metadata": {},
   "source": [
    "これを、bombcountが0だった時だけ呼びだします。"
   ]
  },
  {
   "cell_type": "code",
   "execution_count": null,
   "metadata": {
    "collapsed": true
   },
   "outputs": [],
   "source": [
    "if bombcount == 0:\n",
    "    probe(x,y,num,bombs)"
   ]
  },
  {
   "cell_type": "markdown",
   "metadata": {},
   "source": [
    "### 再帰による方法\n",
    "0の周囲9点だけは自動で開いてくれるのですが、開いた点がまた0だった時に、その先までは開いてくれません。そこで、probe関数の中で、もしbombcountが0だった時には自分自身を呼びだして、先まで開くようにします。(再帰呼びだし)\n",
    "\n",
    "この時注意しなければいけないことは、決して盤の外までprobeしないことです。盤の外は無限に爆弾のない広野があり、probeが終わらなくなってしまいます。\n",
    "\n",
    "再帰しないprobeと区別するために、recursive_probeという名前をあたえました。"
   ]
  },
  {
   "cell_type": "code",
   "execution_count": null,
   "metadata": {
    "collapsed": true
   },
   "outputs": [],
   "source": [
    "def recursive_probe(x,y,num,bombs,mapsize):\n",
    "    #(x,y)が盤の中にある場合のみ処理する。\n",
    "    if 0 <= x < mapsize[0] and 0 <= y < mapsize[1]:\n",
    "        for neix in range(x-1,x+2):         #(x,y)の周囲9点について、\n",
    "            for neiy in range(y-1,y+2):\n",
    "                if (neix,neiy) not in num:  #その場所はまだ誰も調べていないなら\n",
    "                    bombcount = countbombs(neix,neiy,bombs)\n",
    "                    num[(neix,neiy)] = bombcount\n",
    "                    if bombcount == 0:      #周囲に爆弾がない場合には、その点をprobeする。\n",
    "                        recursive_probe(neix,neiy,num,bombs,mapsize)"
   ]
  },
  {
   "cell_type": "markdown",
   "metadata": {},
   "source": [
    "あとは、開けていない場所の数が爆弾の個数に等しくなれば、探査完了です。地図の面積はmapsize[0]\\*mapsize[1]で、爆弾の総数はnbomb、探査した場所の個数はlen(num)でわかりますから、これらがある関係をみたす場合には、ループから脱出するようにして下さい。"
   ]
  },
  {
   "cell_type": "markdown",
   "metadata": {},
   "source": [
    "### 待ち行列による方法\n",
    "再起呼び出しは、慎重に書かないと、バグが生じた時に見付けにくい問題があります。そこで、別の方法として、待ち行列を使うことにします。\n",
    "\n",
    "これから作業すべき点のリストを作り、前から順番に処理し、新しい作業が発生したらリストの最後に追加して、リストが空になるまで繰り返します。"
   ]
  },
  {
   "cell_type": "code",
   "execution_count": null,
   "metadata": {
    "collapsed": true
   },
   "outputs": [],
   "source": [
    "def probe_one(queue,num,bombs,mapsize):\n",
    "    # 筆頭をとりだす\n",
    "    x,y = queue.pop(0)\n",
    "    #(x,y)が盤の中にある場合のみ処理する。\n",
    "    if 0 <= x < mapsize[0] and 0 <= y < mapsize[1]:\n",
    "        for neix in (x-1,x,x+1):         #(x,y)の周囲9点について、\n",
    "            for neiy in (y-1,y,y+1):\n",
    "                if (neix,neiy) not in num:  #その場所はまだ誰も調べていないなら\n",
    "                    bombcount = countbombs(neix,neiy,bombs)\n",
    "                    num[(neix,neiy)] = bombcount\n",
    "                    if bombcount == 0:      #周囲に爆弾がない場合には、その点をqueueに追加する。\n",
    "                        queue.append((neix,neiy))"
   ]
  },
  {
   "cell_type": "markdown",
   "metadata": {},
   "source": [
    "人間が選んだ点のbombcountが0だった場合には、その点をqueueに追加します。"
   ]
  },
  {
   "cell_type": "code",
   "execution_count": null,
   "metadata": {
    "collapsed": true
   },
   "outputs": [],
   "source": [
    "if bombcount == 0:\n",
    "    queue = [(x,y)]"
   ]
  },
  {
   "cell_type": "markdown",
   "metadata": {},
   "source": [
    "そして、queueが空になるまでひたすらprobe_oneを呼んでqueueを消化します。"
   ]
  },
  {
   "cell_type": "code",
   "execution_count": null,
   "metadata": {
    "collapsed": true
   },
   "outputs": [],
   "source": [
    "    while len(queue) > 0:\n",
    "        print(queue)  # queueの中身を表示させる\n",
    "        probe_one(queue, num, bombs, mapsize)"
   ]
  },
  {
   "cell_type": "markdown",
   "metadata": {},
   "source": [
    "これらを、プログラムのどの部分に挿しこむか考えて下さい。"
   ]
  },
  {
   "cell_type": "code",
   "execution_count": null,
   "metadata": {
    "collapsed": true
   },
   "outputs": [],
   "source": []
  }
 ],
 "metadata": {
  "kernelspec": {
   "display_name": "Python 3",
   "language": "python",
   "name": "python3"
  },
  "language_info": {
   "codemirror_mode": {
    "name": "ipython",
    "version": 3
   },
   "file_extension": ".py",
   "mimetype": "text/x-python",
   "name": "python",
   "nbconvert_exporter": "python",
   "pygments_lexer": "ipython3",
   "version": "3.6.5"
  },
  "widgets": {
   "state": {},
   "version": "1.1.1"
  }
 },
 "nbformat": 4,
 "nbformat_minor": 1
}

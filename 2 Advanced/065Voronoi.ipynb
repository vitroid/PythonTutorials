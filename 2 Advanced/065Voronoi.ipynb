{
  "cells": [
    {
      "cell_type": "markdown",
      "metadata": {
        "id": "view-in-github",
        "colab_type": "text"
      },
      "source": [
        "<a href=\"https://colab.research.google.com/github/vitroid/PythonTutorials/blob/master/2%20Advanced/065Voronoi.ipynb\" target=\"_parent\"><img src=\"https://colab.research.google.com/assets/colab-badge.svg\" alt=\"Open In Colab\"/></a>"
      ]
    },
    {
      "cell_type": "markdown",
      "metadata": {
        "id": "pjRXhwIgGj9X"
      },
      "source": [
        "# 065 Voronoi\n",
        "\n",
        "[Voronoiの紹介スライド](https://github.com/vitroid/PythonTutorials/blob/master/2%20Advanced/Voronoi.pdf?raw=true) (In Japanese)\n"
      ]
    },
    {
      "cell_type": "code",
      "execution_count": null,
      "metadata": {
        "id": "RmJR3U89U0jT"
      },
      "outputs": [],
      "source": [
        "# Locations of the prefectural capitals of Japan\n",
        "# https://www.benricho.org/chimei/latlng_data.html\n",
        "\n",
        "import numpy as np\n",
        "pos = np.fromstring(\"\"\"\n",
        "43.06417\t141.34694\n",
        "40.82444\t140.74\n",
        "39.70361\t141.1525\n",
        "38.26889\t140.87194\n",
        "39.71861\t140.1025\n",
        "38.24056\t140.36333\n",
        "37.75\t140.46778\n",
        "36.34139\t140.44667\n",
        "36.56583\t139.88361\n",
        "36.39111\t139.06083\n",
        "35.85694\t139.64889\n",
        "35.60472\t140.12333\n",
        "35.68944\t139.69167\n",
        "35.44778\t139.6425\n",
        "37.90222\t139.02361\n",
        "36.69528\t137.21139\n",
        "36.59444\t136.62556\n",
        "36.06528\t136.22194\n",
        "35.66389\t138.56833\n",
        "36.65139\t138.18111\n",
        "35.39111\t136.72222\n",
        "34.97694\t138.38306\n",
        "35.18028\t136.90667\n",
        "34.73028\t136.50861\n",
        "35.00444\t135.86833\n",
        "35.02139\t135.75556\n",
        "34.68639\t135.52\n",
        "34.69139\t135.18306\n",
        "34.68528\t135.83278\n",
        "34.22611\t135.1675\n",
        "35.50361\t134.23833\n",
        "35.47222\t133.05056\n",
        "34.66167\t133.935\n",
        "34.39639\t132.45944\n",
        "34.18583\t131.47139\n",
        "34.06583\t134.55944\n",
        "34.34028\t134.04333\n",
        "33.84167\t132.76611\n",
        "33.55972\t133.53111\n",
        "33.60639\t130.41806\n",
        "33.24944\t130.29889\n",
        "32.74472\t129.87361\n",
        "32.78972\t130.74167\n",
        "33.23806\t131.6125\n",
        "31.91111\t131.42389\n",
        "31.56028\t130.55806\n",
        "26.2125\t127.68111\n",
        "\"\"\", sep=\" \").reshape(-1,2)[:,::-1]\n",
        "# Split the data by spaces,\n",
        "# read as an array of numbers,\n",
        "# convert it to a 2D-array,\n",
        "# and exchange the two columns.\n",
        "\n",
        "pos"
      ]
    },
    {
      "cell_type": "code",
      "execution_count": null,
      "metadata": {
        "id": "AZn8FcVCVWwu"
      },
      "outputs": [],
      "source": [
        "from matplotlib import pyplot as plt\n",
        "fig = plt.figure()\n",
        "ax = plt.axes()\n",
        "\n",
        "plt.scatter(pos[:,0], pos[:,1])\n",
        "plt.axis(\"square\")\n",
        "plt.show()"
      ]
    },
    {
      "cell_type": "markdown",
      "metadata": {
        "id": "GQtAWbRrjoQ1"
      },
      "source": [
        "県庁所在地をつないだDelaunay図\n",
        "\n",
        "Delaunay diagram by connecting nearby capitals."
      ]
    },
    {
      "cell_type": "code",
      "execution_count": null,
      "metadata": {
        "id": "4WAkuy6NdC6L"
      },
      "outputs": [],
      "source": [
        "# Delaunay triangulation\n",
        "from scipy.spatial import Delaunay\n",
        "tri = Delaunay(pos)\n",
        "plt.triplot(pos[:,0], pos[:,1], tri.simplices)\n",
        "plt.axis(\"square\")\n",
        "plt.show()"
      ]
    },
    {
      "cell_type": "markdown",
      "metadata": {
        "id": "Zz7bn7Ldqva3"
      },
      "source": [
        "2次元のボロノイ図を描くのはライブラリにまかせる。\n",
        "\n",
        "The smart library can even make the Voronoi diagram from the locations of the prefectural capitals."
      ]
    },
    {
      "cell_type": "code",
      "execution_count": null,
      "metadata": {
        "id": "LdlYzajppcFM"
      },
      "outputs": [],
      "source": [
        "# https://docs.scipy.org/doc/scipy/reference/generated/scipy.spatial.voronoi_plot_2d.html\n",
        "from scipy.spatial import Voronoi, voronoi_plot_2d\n",
        "vor = Voronoi(pos)\n",
        "fig = voronoi_plot_2d(vor, show_vertices=False, line_colors='orange',\n",
        "                line_width=2, line_alpha=0.6, point_size=2)\n",
        "plt.triplot(pos[:,0], pos[:,1], tri.simplices, c='red')\n",
        "#plt.xlim(127.5,145)\n",
        "plt.ylim(25, 45)\n",
        "plt.axis([127.5, 145, 25, 45])\n",
        "plt.gca().set_aspect('equal', adjustable='box')\n",
        "fig.set_size_inches(11,11)\n",
        "plt.show()"
      ]
    },
    {
      "cell_type": "markdown",
      "metadata": {
        "id": "AWZNzLDZkDOD"
      },
      "source": [
        "歪んで見えるのは、縦と横の目盛が違うから。\n",
        "\n",
        "境界線をより正確に描くためには、球面幾何学に準じた非ユークリッドVoronoi分割を適用する必要がある。(二等分線が大円になる)\n",
        "\n",
        "In order to draw the boundary more accurately, it is necessary to apply a non-Euclidean Voronoi division according to spherical geometry. (The bisectors become geodesics.)\n"
      ]
    },
    {
      "cell_type": "markdown",
      "metadata": {
        "id": "KuVh5XaEtiSw"
      },
      "source": [
        "もうちょっと少ない点で。例えば4点の場合。\n",
        "\n",
        "Another example with fewer points."
      ]
    },
    {
      "cell_type": "code",
      "execution_count": null,
      "metadata": {
        "id": "4HFcD9iHtuQJ"
      },
      "outputs": [],
      "source": [
        "from scipy.spatial import Voronoi, voronoi_plot_2d\n",
        "points = np.array([[0, -0.1], [0, 1.1], [1.2, 0], [1, 1]])\n",
        "vor = Voronoi(points)\n",
        "fig = voronoi_plot_2d(vor, show_vertices=False, line_colors='orange',\n",
        "                line_width=2, line_alpha=0.6, point_size=2)\n",
        "plt.gca().set_aspect('equal', adjustable='box')\n",
        "fig.set_size_inches(8,8)\n",
        "plt.show()"
      ]
    },
    {
      "cell_type": "markdown",
      "metadata": {
        "id": "lDJkfivOq3a4"
      },
      "source": [
        "vorにはどんな情報が含まれているか。\n",
        "\n",
        "What is contained in the variable `vor`?"
      ]
    },
    {
      "cell_type": "code",
      "execution_count": null,
      "metadata": {
        "id": "tk2LncGYprEf"
      },
      "outputs": [],
      "source": [
        "vor.__dict__"
      ]
    },
    {
      "cell_type": "markdown",
      "metadata": {
        "id": "7Wczk960sIx3"
      },
      "source": [
        "_pointsが与えた点(4つ)、verticeがvoronoi頂点(外接円の中心)のようだ。よく見ると、辺の情報も含まれている。\n",
        "\n",
        " 3次元でも4次元でもscipy.spatial.Voronoiを使えばVoronoi分割できるが、残念なことに、既存の関数を使って可視化できるのは2次元まで。\n",
        "\n",
        "`_points` would correspond to the given points, `vertices` are the voronoi vertices (a voronoi vertex  is the center of a circumlscribed circle.) Edge information is also included.\n",
        "\n",
        " 別の例。ひまわりの種の配列。\n",
        "\n",
        " An another example： Mimic the sequence of sunflower seeds."
      ]
    },
    {
      "cell_type": "code",
      "execution_count": null,
      "metadata": {
        "id": "mlC0kYvdrILg"
      },
      "outputs": [],
      "source": [
        "import numpy as np\n",
        "from matplotlib import pyplot as plt\n",
        "\n",
        "tau  = (5**0.5-1)/2 # Golden ratio\n",
        "A    = 2*np.pi / tau   # Golden angle\n",
        "\n",
        "# Place 400 points on a spiral line.\n",
        "# Place points at a fixed angular interval.\n",
        "# As the radius increases, the distance between\n",
        "# two consecutive points increases and the area\n",
        "# occupied by a single species becomes larger.\n",
        "# To compensate for this tendency, the radius of\n",
        "# the helix is chosen to be proportional to the\n",
        "# square root of the order number of the points.\n",
        "angles = np.array([A*i for i in range(400)])\n",
        "radii  = np.array([i**0.5 for i in range(400)])\n",
        "\n",
        "x = radii * np.cos(angles)\n",
        "y = radii * np.sin(angles)\n",
        "\n",
        "plt.scatter(x,y)\n",
        "plt.axis('square')\n",
        "plt.show()"
      ]
    },
    {
      "cell_type": "code",
      "execution_count": null,
      "metadata": {
        "id": "I4tVFCHmvTMO"
      },
      "outputs": [],
      "source": [
        "pos = np.vstack([x,y]).T\n",
        "\n",
        "# https://docs.scipy.org/doc/scipy/reference/generated/scipy.spatial.voronoi_plot_2d.html\n",
        "from scipy.spatial import Voronoi, voronoi_plot_2d\n",
        "vor = Voronoi(pos)\n",
        "fig = voronoi_plot_2d(vor, show_vertices=False, line_colors='orange',\n",
        "                line_width=2, line_alpha=0.6, point_size=2)\n",
        "plt.axis('equal')\n",
        "plt.xlim(-20,20)\n",
        "plt.ylim(-20,20)\n",
        "plt.show()"
      ]
    },
    {
      "cell_type": "markdown",
      "metadata": {
        "id": "IXlhY9DOGj9k"
      },
      "source": [
        "# Delaunay分割を利用した補間 / Interpolation using Delaunay triangulation\n",
        "\n",
        "Delaunay分割により三角格子を生成させると、内挿が容易になります。\n",
        "\n",
        "Interpolation is facilitated by having the Delaunay triangular tessellation."
      ]
    },
    {
      "cell_type": "code",
      "execution_count": null,
      "metadata": {
        "id": "uW_B2Cc1Gj9k"
      },
      "outputs": [],
      "source": [
        "from scipy.spatial import Delaunay\n",
        "import numpy as np\n",
        "\n",
        "# Positions of the post offices.\n",
        "postoffices = np.array([[0, -0.1], [0, 1.1], [1.2, 0], [1, 1]])\n",
        "\n",
        "# Delaunay triangulation\n",
        "tri = Delaunay(postoffices)\n",
        "tri\n"
      ]
    },
    {
      "cell_type": "markdown",
      "metadata": {
        "id": "FkFzqqTvGj9l"
      },
      "source": [
        "`tri`の中身を見る。\n",
        "\n",
        "See the content of `tri`."
      ]
    },
    {
      "cell_type": "code",
      "execution_count": null,
      "metadata": {
        "id": "8MjaKZPAGj9l"
      },
      "outputs": [],
      "source": [
        "tri.__dict__\n"
      ]
    },
    {
      "cell_type": "markdown",
      "metadata": {
        "id": "lD2uqn1FGj9l"
      },
      "source": [
        "三角形を描く。\n",
        "\n",
        "Draw triangles.\n"
      ]
    },
    {
      "cell_type": "code",
      "execution_count": null,
      "metadata": {
        "id": "zHfFcGVMGj9m"
      },
      "outputs": [],
      "source": [
        "import matplotlib.pyplot as plt\n",
        "plt.triplot(postoffices[:,0], postoffices[:,1], tri.simplices)\n",
        "plt.scatter(postoffices[:,0], postoffices[:,1], s=100)\n",
        "plt.axis('square')\n",
        "plt.show()\n"
      ]
    },
    {
      "cell_type": "markdown",
      "metadata": {
        "id": "HGfUnYCGGj9m"
      },
      "source": [
        "外接円の半径と中心は?\n",
        "\n",
        "Look for the radii and centers of the circumcircles.\n"
      ]
    },
    {
      "cell_type": "code",
      "execution_count": null,
      "metadata": {
        "id": "tiOH6Rl8Gj9m"
      },
      "outputs": [],
      "source": [
        "import numpy as np\n",
        "def plane(p1,p2,p3):\n",
        "    \"\"\"p1,p2,p3を通る平面z=ax+by+cの係数a,b,cを返す\n",
        "\n",
        "    Return the coefficients a, b, c of the plane z=ax+by+c passing through p1, p2, p3\"\"\"\n",
        "    x1,y1,z1 = p1\n",
        "    x2,y2,z2 = p2\n",
        "    x3,y3,z3 = p3\n",
        "    A = np.array([[x1,y1,1],[x2,y2,1],[x3,y3,1]])\n",
        "    X = np.array([z1,z2,z3])\n",
        "    # Aの逆行列とXのドット積\n",
        "    abc = np.linalg.inv(A) @ X\n",
        "    return abc\n",
        "\n",
        "def center_and_radius(a,b,c):\n",
        "    \"\"\"平面z=ax+by+cと放物面z=x**2+y**2の交線のxy平面への射影\n",
        "\n",
        "    Projection of the intersection of the plane z=ax+by+c and the paraboloid z=x**2+y**2 onto the xy-plane\"\"\"\n",
        "    radius = (a**2 + b**2 + 4*c)**0.5/2\n",
        "    center = (a/2, b/2)\n",
        "    return center, radius\n",
        "\n",
        "\n",
        "def circumcircle(p3):\n",
        "    \"\"\"\n",
        "    returns the center and radius of the circumcircle of the given three points.\n",
        "    \"\"\"\n",
        "    a,b,c = plane([p3[0,0], p3[0,1], p3[0,0]**2+p3[0,1]**2],\n",
        "                  [p3[1,0], p3[1,1], p3[1,0]**2+p3[1,1]**2],\n",
        "                  [p3[2,0], p3[2,1], p3[2,0]**2+p3[2,1]**2])\n",
        "    return center_and_radius(a,b,c) # center, radius\n",
        "\n",
        "# triplet is the labels of vertices of a triangle.\n",
        "triplet = tri.simplices[0]\n",
        "center, radius = circumcircle(postoffices[triplet])\n",
        "\n",
        "center, radius\n"
      ]
    },
    {
      "cell_type": "code",
      "source": [
        "import matplotlib.pyplot as plt\n",
        "plt.triplot(postoffices[:,0], postoffices[:,1], tri.simplices)\n",
        "plt.scatter(postoffices[:,0], postoffices[:,1], s=100)\n",
        "\n",
        "circle1 = plt.Circle(center, radius, color='r', fill=False)\n",
        "plt.scatter(center[0], center[1])\n",
        "plt.gca().add_patch(circle1)\n",
        "\n",
        "plt.axis('square')\n",
        "plt.show()\n"
      ],
      "metadata": {
        "id": "hikEeRr4jz5U"
      },
      "execution_count": null,
      "outputs": []
    },
    {
      "cell_type": "markdown",
      "metadata": {
        "id": "ubj3wZPbGj9n"
      },
      "source": [
        "外接円を全部まとめて描く。\n",
        "\n",
        "And draw them.\n"
      ]
    },
    {
      "cell_type": "code",
      "execution_count": null,
      "metadata": {
        "id": "32oFDryNGj9n"
      },
      "outputs": [],
      "source": [
        "import matplotlib.pyplot as plt\n",
        "# Delaunay triangles\n",
        "plt.triplot(postoffices[:,0], postoffices[:,1], tri.simplices)\n",
        "plt.scatter(postoffices[:,0], postoffices[:,1], s=100)\n",
        "\n",
        "# triplet is the labels of vertices of a triangle.\n",
        "for triplet in tri.simplices:\n",
        "    center, radius = circumcircle(postoffices[triplet])\n",
        "\n",
        "    # add a circumcircle\n",
        "    circle1 = plt.Circle(center, radius, color='r', fill=False)\n",
        "    plt.gca().add_patch(circle1)\n",
        "    # center dot\n",
        "    plt.scatter(center[0], center[1])\n",
        "    print(center)\n",
        "\n",
        "plt.axis('square')\n",
        "plt.show()\n",
        "\n"
      ]
    },
    {
      "cell_type": "markdown",
      "metadata": {
        "id": "reN3QQPfGj9n"
      },
      "source": [
        "てきとうに選んだ3つの家`(0.1, 0.2), (1.5, 0.5), (0.5, 1.05)`が、どちらの郵便局のテリトリー内(三角形の中)にあるかを判定する。\n",
        "\n",
        "Determine which post office is the nearest from the houses.\n"
      ]
    },
    {
      "cell_type": "code",
      "execution_count": null,
      "metadata": {
        "id": "-2lAi_KMGj9n"
      },
      "outputs": [],
      "source": [
        "houses = np.array([(0.1, 0.2), (1.5, 0.5), (0.5, 1.05)])\n",
        "\n"
      ]
    },
    {
      "cell_type": "code",
      "source": [
        "import matplotlib.pyplot as plt\n",
        "# Delaunay triangles\n",
        "plt.triplot(postoffices[:,0], postoffices[:,1], tri.simplices)\n",
        "plt.scatter(postoffices[:,0], postoffices[:,1], s=100)\n",
        "\n",
        "# triplet is the labels of vertices of a triangle.\n",
        "for i, triplet in enumerate(tri.simplices):\n",
        "    center, radius = circumcircle(postoffices[triplet])\n",
        "\n",
        "    # add a circumcircle\n",
        "    circle1 = plt.Circle(center, radius, color='r', fill=False)\n",
        "    plt.gca().add_patch(circle1)\n",
        "    # center dot\n",
        "    plt.scatter(center[0], center[1])\n",
        "    plt.text(center[0], center[1], f\"circ {i}\")\n",
        "\n",
        "# positions of the houses.\n",
        "plt.scatter(houses[:,0], houses[:,1], s=50)\n",
        "for i, v in enumerate(houses):\n",
        "    plt.text(v[0], v[1], f\"house {i}\")\n",
        "\n",
        "plt.axis('square')\n",
        "plt.show()\n"
      ],
      "metadata": {
        "id": "ZtZzCzi_k707"
      },
      "execution_count": null,
      "outputs": []
    },
    {
      "cell_type": "code",
      "source": [
        "tri.find_simplex(houses)"
      ],
      "metadata": {
        "id": "ljXz_ChAmgkI"
      },
      "execution_count": null,
      "outputs": []
    },
    {
      "cell_type": "markdown",
      "metadata": {
        "id": "FQ4Xa_6YGj9n"
      },
      "source": [
        "最初と最後の点は三角形1の中にあり、2番目の点はどの三角にも属していない。\n",
        "\n",
        "三角形1の中で、3つの点がどんな位置にあるか(混合比)を求める。(詳細は理解していません。transformって何?)\n",
        "\n",
        "`find_simplex()` tells us that the first and last houses are inside the triangle 1 and the second house is outside of all triangles.\n",
        "\n",
        "Using `transform` in `tri`, we can determine the relative position of a vertex in a triangle 1. (I do not understand the algebra. See the reference.)"
      ]
    },
    {
      "cell_type": "code",
      "execution_count": null,
      "metadata": {
        "id": "F_yo7RMMGj9o"
      },
      "outputs": [],
      "source": [
        "# https://docs.scipy.org/doc/scipy/reference/generated/scipy.spatial.Delaunay.html\n",
        "\n",
        "# b = tri.transform[1,:2].dot(np.transpose(p - tri.transform[1,2]))\n",
        "triangle = 1\n",
        "b = tri.transform[triangle,:2] @  (houses - tri.transform[triangle,2]).T\n",
        "print(f\"Compositions of three vertices of the triangle {triangle}.\")\n",
        "np.c_[b.T, 1 - b.sum(axis=0)]\n"
      ]
    },
    {
      "cell_type": "markdown",
      "metadata": {
        "id": "yN1qC5-sGj9o"
      },
      "source": [
        "* 1行目は、混合比が全部0以上1以下、つまり三角形1の内部にある。\n",
        "* 2行目は負の数や1を越える数があり、三角形1の外の点である。\n",
        "* 3行目は成分が0の項があるので、点は三角形の辺の上にある。\n",
        "\n",
        "理解していない手法に頼るのではなく、自力で混合比を求めてみる。\n",
        "\n",
        "\n",
        "\n",
        "三角形OABの中の点Cの内挿は、$OA=a, OB=b, OC=c,$と書き、$pa+qb=c$となる係数$p,q$を求めることにほかならない。成分で書けば、\n",
        "$$(p,q)\\left(\\begin{matrix}a_x, a_y\\\\ b_x,b_y\\end{matrix}\\right)=(c_x, c_y)$$\n",
        "書きかえれば、\n",
        "$$(p,q)=(c_x, c_y)\\left(\\begin{matrix}a_x, a_y\\\\ b_x,b_y\\end{matrix}\\right)^{-1}$$\n",
        "これをPython化するとこんな感じになる。\n",
        "\n",
        "* The first row has mixing ratios all between 0 and 1, i.e., inside triangle 1.\n",
        "* The second line has a negative number, i.e., the point is outside triangle 1.\n",
        "* The third line has a term with component zero, so the point is on an edge of triangle 1.\n",
        "\n",
        "Try to find mixing ratios on our own, rather than relying on methods we do not understand.\n",
        "\n",
        "Interpolation of point C in triangle OAB is nothing more than writing $OA=a, OB=b, OC=c,$ and finding the coefficients $p,q$ such that $pa+qb=c$. If we write in components,\n",
        "$$(p,q)\\left(\\begin{matrix}a_x, a_y\\\\ b_x,b_y\\end{matrix}\\right)=(c_x, c_y)$$\n",
        "Rewriting,\n",
        "$$(p,q)=(c_x, c_y)\\left(\\begin{matrix}a_x, a_y\\\\ b_x,b_y\\end{matrix}\\right)^{-1}$$\n"
      ]
    },
    {
      "cell_type": "code",
      "execution_count": null,
      "metadata": {
        "id": "V0OG_bsdGj9o"
      },
      "outputs": [],
      "source": [
        "def interpolate(point, vertices):\n",
        "    # last point is the origin\n",
        "    o = vertices[2]\n",
        "    ab = vertices[:2] - o\n",
        "    c = point - o\n",
        "    p, q = c @ np.linalg.inv(ab)\n",
        "    r = 1 - p - q\n",
        "    return p, q, r\n",
        "\n",
        "\n",
        "for house in houses:\n",
        "    p, q, r = interpolate(house, postoffices[tri.simplices[1]])\n",
        "    print(p, q, r)\n"
      ]
    },
    {
      "cell_type": "markdown",
      "metadata": {
        "id": "bum0dxfbGj9o"
      },
      "source": [
        "Now we obtain the same result with our own code.\n",
        "\n",
        "4つの郵便局に、色をあてはめ、それ以外の点はその4色の混合で表す。\n",
        "\n",
        "Let's assign different colors to the post offices. Any location is expressed by the mixture of the colors.\n"
      ]
    },
    {
      "cell_type": "code",
      "execution_count": null,
      "metadata": {
        "id": "K48wdbbNGj9o"
      },
      "outputs": [],
      "source": [
        "colors = np.array([[1,0,0],\n",
        "                   [0.5,1,0],\n",
        "                   [0,1,1],\n",
        "                   [0.5,0,1]])\n",
        "\n",
        "import matplotlib.pyplot as plt\n",
        "plt.scatter(postoffices[:,0], postoffices[:,1], c=colors, s=100)\n",
        "\n",
        "plt.axis('square')\n",
        "plt.show()\n"
      ]
    },
    {
      "cell_type": "code",
      "execution_count": null,
      "metadata": {
        "id": "TaGu3KAUGj9p"
      },
      "outputs": [],
      "source": [
        "X = []\n",
        "Y = []\n",
        "mixedcolors = []\n",
        "\n",
        "for ix in range(13):\n",
        "    for iy in range(11):\n",
        "        x, y = ix/10, iy/10\n",
        "        house = np.array([x, y])\n",
        "        # 点がどっちの三角形に属するか。\n",
        "        which = tri.find_simplex(house)\n",
        "        # どの三角にも属しない場合は飛ばす。\n",
        "        if which < 0:\n",
        "            continue\n",
        "        # その三角形を構成する頂点の番号3つを割りだす。\n",
        "        v3 = tri.simplices[which]\n",
        "        # 混合比\n",
        "        mix = interpolate(house, postoffices[v3])\n",
        "        # その比率で、頂点の色を混ぜる。\n",
        "        mixedcolor = mix @ colors[v3]\n",
        "        mixedcolor = np.around(mixedcolor, decimals=4)\n",
        "        X.append(x)\n",
        "        Y.append(y)\n",
        "        mixedcolors.append(mixedcolor)\n",
        "\n",
        "plt.scatter(X, Y, s=50, facecolor=mixedcolors)\n",
        "plt.triplot(postoffices[:,0], postoffices[:,1], tri.simplices)\n",
        "plt.scatter(postoffices[:,0], postoffices[:,1], s=100, facecolor=colors)\n",
        "plt.show()\n"
      ]
    },
    {
      "cell_type": "markdown",
      "metadata": {
        "id": "mFKXo1GSGj9p"
      },
      "source": [
        "## これは何に使えるの? / What is it for?\n",
        "\n",
        "スライドでも紹介した通り、Voronoi分割のアイディアは、情報を幾何学的に扱ういろんなところに顔を出します。また、2次元の情報の処理のために、一旦三次元に持ちあげて考える、というのも非常に面白い視点だと思います。\n",
        "\n",
        "* データの補間\n",
        "* データの分類と最適化\n",
        "* データの可視化\n",
        "\n",
        "など。アイディアは4次元以上のデータでも使えるはずで、機械学習の手法としても面白いと思います。\n",
        "\n",
        "As I mentioned in the slides, the idea of Voronoi tessellation shows up in various places where information is handled geometrically. It is also a very interesting perspective to think about lifting information once into three dimensions in order to process two-dimensional information.\n",
        "\n",
        "* Data interpolation\n",
        "* Data classification and optimization\n",
        "* Data visualization\n",
        "\n",
        "The idea should also work for data in 4 or more dimensions, and it would be interesting as a machine learning technique.\n"
      ]
    },
    {
      "cell_type": "markdown",
      "source": [
        "# 課題 / Practice\n",
        "\n",
        "岡山県内の郵便局のテリトリーを可視化してみましょう。\n",
        "\n",
        "Visualize the territories of the post offices in Okayama Prefecture.\n",
        "\n",
        "\n",
        "\n"
      ],
      "metadata": {
        "id": "4GG75ShGiyW1"
      }
    },
    {
      "cell_type": "markdown",
      "source": [
        "## 地図 / Map\n",
        "\n",
        "行政区域の外形データは、国土地理院が提供しています。\n",
        "\n",
        "The outline data for administrative areas is provided by the Geospatial Information Authority of Japan (GSI)."
      ],
      "metadata": {
        "id": "wZOHqOapkEDe"
      }
    },
    {
      "cell_type": "code",
      "source": [
        "# 国土地理院から地形データ(行政区域の輪郭線)を入手 (この例は岡山県、県コードは33)\n",
        "# Case of Okayama prefecture (Pref. code 33).\n",
        "! wget https://nlftp.mlit.go.jp/ksj/gml/data/N03/N03-2021/N03-20210101_33_GML.zip\n",
        "! unzip N03-20210101_33_GML.zip"
      ],
      "metadata": {
        "id": "yAqWJYU5jpqY"
      },
      "execution_count": null,
      "outputs": []
    },
    {
      "cell_type": "code",
      "source": [
        "# shapeデータの解析のためのライブラリをcolabにインストール\n",
        "# Install geopandas to utilize GIS data.\n",
        "! pip install geopandas"
      ],
      "metadata": {
        "id": "LpjkL9d7jkUN"
      },
      "execution_count": null,
      "outputs": []
    },
    {
      "cell_type": "code",
      "source": [
        "# shapeデータの読みこみ\n",
        "import geopandas as gpd\n",
        "import matplotlib.pyplot as plt\n",
        "\n",
        "path_shp = \"./N03-20210101_33_GML/N03-21_33_210101.shp\"\n",
        "gdf = gpd.read_file(path_shp)\n",
        "gdf.head()"
      ],
      "metadata": {
        "id": "aVB4mfOmjcOn"
      },
      "execution_count": null,
      "outputs": []
    },
    {
      "cell_type": "code",
      "source": [
        "f = plt.figure(figsize=(12, 8))\n",
        "a = f.gca()\n",
        "for region in gdf.iloc:\n",
        "    a.plot(*region.geometry.exterior.xy, \"k\", linewidth=0.5)"
      ],
      "metadata": {
        "id": "STfhVXoGjzGi"
      },
      "execution_count": null,
      "outputs": []
    },
    {
      "cell_type": "markdown",
      "source": [
        "## 郵便局の位置 / Locations of the post offices\n",
        "\n",
        "郵便局の座標情報は国土地理院が提供しています。\n",
        "\n",
        "Coordinates for the post office are provided by the Geospatial Information Authority of Japan.\n",
        "\n",
        "\n",
        "https://nlftp.mlit.go.jp/ksj/gml/datalist/KsjTmplt-P30.html\n",
        "\n",
        "岡山の郵便局の情報は以下にありました。Information on the post offices in Okayama is found here.\n",
        "\n",
        "https://nlftp.mlit.go.jp//ksj/gml/data/P30/P30-13/P30-13_33.zip\n",
        "\n"
      ],
      "metadata": {
        "id": "t0jIzwVgkIPs"
      }
    },
    {
      "cell_type": "markdown",
      "source": [
        "とってきます。\n",
        "\n",
        "Let's obtain it."
      ],
      "metadata": {
        "id": "xg127mLN0eJL"
      }
    },
    {
      "cell_type": "code",
      "source": [
        "! wget https://nlftp.mlit.go.jp//ksj/gml/data/P30/P30-13/P30-13_33.zip\n",
        "! unzip P30-13_33.zip"
      ],
      "metadata": {
        "id": "-pcxZ0Wk0fsf"
      },
      "execution_count": null,
      "outputs": []
    },
    {
      "cell_type": "markdown",
      "source": [
        "とりあえず中身を読みます。\n",
        "\n",
        "and take a look at it."
      ],
      "metadata": {
        "id": "O32NioYC0zPO"
      }
    },
    {
      "cell_type": "code",
      "source": [
        "# shapeデータの読みこみ\n",
        "import geopandas as gpd\n",
        "import matplotlib.pyplot as plt\n",
        "\n",
        "path_shp = \"P30-13_33/P30-13_33.shp\"\n",
        "gdf = gpd.read_file(path_shp)\n",
        "gdf.head()"
      ],
      "metadata": {
        "id": "es7j8Tll04cm"
      },
      "execution_count": null,
      "outputs": []
    },
    {
      "cell_type": "markdown",
      "source": [
        "プロットしてみます。geopandasのプロットのしかたは知らないのですが、いきあたりばったりでうまく表示できました。\n",
        "\n",
        "Let's plot the positions."
      ],
      "metadata": {
        "id": "Lz2G7c4M1TMe"
      }
    },
    {
      "cell_type": "code",
      "source": [
        "ax = gdf.plot(\"geometry\")"
      ],
      "metadata": {
        "id": "7VmkLSoT1VuD"
      },
      "execution_count": null,
      "outputs": []
    },
    {
      "cell_type": "markdown",
      "source": [
        "Can we overlay the outline on this plot?"
      ],
      "metadata": {
        "id": "TvY-3XN-5lDE"
      }
    },
    {
      "cell_type": "code",
      "source": [
        "path_shp = \"./N03-20210101_33_GML/N03-21_33_210101.shp\"\n",
        "# another geopandas data frame for outline\n",
        "gdf2 = gpd.read_file(path_shp)\n",
        "\n",
        "# define a plot area\n",
        "f = plt.figure(figsize=(12, 8))\n",
        "a = f.gca()\n",
        "\n",
        "# draw outlines\n",
        "for region in gdf2.iloc:\n",
        "    a.plot(*region.geometry.exterior.xy, \"k\", linewidth=0.5)\n",
        "\n",
        "# overlay dots onto the map\n",
        "gdf.plot(\"geometry\", ax=a)"
      ],
      "metadata": {
        "id": "Gk11UG0T5p4Q"
      },
      "execution_count": null,
      "outputs": []
    },
    {
      "cell_type": "markdown",
      "source": [
        "Can we extract the coordinates of the post offices and apply Voronoi analysis?"
      ],
      "metadata": {
        "id": "YMSK8ieM2bag"
      }
    },
    {
      "cell_type": "code",
      "source": [
        "gdf[\"geometry\"]"
      ],
      "metadata": {
        "id": "sM9fRr4V2a5Y"
      },
      "execution_count": null,
      "outputs": []
    },
    {
      "cell_type": "code",
      "source": [
        "gdf[\"geometry\"].__dict__"
      ],
      "metadata": {
        "id": "--FBijjt2rMW"
      },
      "execution_count": null,
      "outputs": []
    },
    {
      "cell_type": "markdown",
      "source": [
        "No clue."
      ],
      "metadata": {
        "id": "_TMl-Xio2_bI"
      }
    },
    {
      "cell_type": "code",
      "source": [
        "gdf[\"geometry\"].x"
      ],
      "metadata": {
        "id": "G4yvBp553KF1"
      },
      "execution_count": null,
      "outputs": []
    },
    {
      "cell_type": "markdown",
      "source": [
        "Hit!\n"
      ],
      "metadata": {
        "id": "1mWNTnKU3p2l"
      }
    },
    {
      "cell_type": "code",
      "source": [
        "gdf[\"geometry\"].x.to_numpy()"
      ],
      "metadata": {
        "id": "x8hvJgnW3xTq"
      },
      "execution_count": null,
      "outputs": []
    },
    {
      "cell_type": "markdown",
      "source": [
        "Bingo!"
      ],
      "metadata": {
        "id": "1XZPPR4f31oc"
      }
    },
    {
      "cell_type": "code",
      "source": [
        "X = gdf[\"geometry\"].x.to_numpy()\n",
        "Y = gdf[\"geometry\"].y.to_numpy()\n",
        "\n",
        "pos = np.array([X,Y]).T\n",
        "pos"
      ],
      "metadata": {
        "id": "R55THvnu3-xM"
      },
      "execution_count": null,
      "outputs": []
    },
    {
      "cell_type": "code",
      "source": [
        "\n",
        "# https://docs.scipy.org/doc/scipy/reference/generated/scipy.spatial.voronoi_plot_2d.html\n",
        "from scipy.spatial import Voronoi, voronoi_plot_2d\n",
        "vor = Voronoi(pos)\n",
        "fig = voronoi_plot_2d(vor, show_vertices=False, line_colors='orange',\n",
        "                line_width=2, line_alpha=0.6, point_size=2)\n",
        "ax = fig.gca()\n",
        "ax.set_xlim(133.2,134.5)\n",
        "ax.set_ylim(34.3,35.4)\n",
        "\n",
        "# draw outlines\n",
        "for region in gdf2.iloc:\n",
        "    ax.plot(*region.geometry.exterior.xy, \"k\", linewidth=0.5)\n"
      ],
      "metadata": {
        "id": "ilCj5t1u4LJ5"
      },
      "execution_count": null,
      "outputs": []
    },
    {
      "cell_type": "markdown",
      "source": [
        "In some places near the borders, the post office in a neighboring local government might be closer."
      ],
      "metadata": {
        "id": "DsggLG0S8IMv"
      }
    },
    {
      "cell_type": "code",
      "source": [],
      "metadata": {
        "id": "lau0OBTB8bZ8"
      },
      "execution_count": null,
      "outputs": []
    }
  ],
  "metadata": {
    "colab": {
      "name": "Voronoi.ipynb",
      "provenance": [],
      "include_colab_link": true
    },
    "kernelspec": {
      "display_name": "Python 3",
      "name": "python3"
    },
    "language_info": {
      "codemirror_mode": {
        "name": "ipython",
        "version": 3
      },
      "file_extension": ".py",
      "mimetype": "text/x-python",
      "name": "python",
      "nbconvert_exporter": "python",
      "pygments_lexer": "ipython3",
      "version": "3.9.10"
    }
  },
  "nbformat": 4,
  "nbformat_minor": 0
}
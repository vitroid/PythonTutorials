{
  "cells": [
    {
      "cell_type": "markdown",
      "metadata": {
        "id": "view-in-github",
        "colab_type": "text"
      },
      "source": [
        "<a href=\"https://colab.research.google.com/github/vitroid/PythonTutorials/blob/master/2%20Advanced/065Voronoi.ipynb\" target=\"_parent\"><img src=\"https://colab.research.google.com/assets/colab-badge.svg\" alt=\"Open In Colab\"/></a>"
      ]
    },
    {
      "cell_type": "markdown",
      "metadata": {
        "id": "pjRXhwIgGj9X"
      },
      "source": [
        "# 065 Voronoi\n",
        "\n",
        "[Voronoiの紹介スライド](https://github.com/vitroid/PythonTutorials/blob/master/2%20Advanced/Voronoi.pdf?raw=true)\n"
      ]
    },
    {
      "cell_type": "code",
      "execution_count": null,
      "metadata": {
        "id": "RmJR3U89U0jT"
      },
      "outputs": [],
      "source": [
        "# 県庁所在地の座標\n",
        "# https://www.benricho.org/chimei/latlng_data.html\n",
        "\n",
        "import numpy as np\n",
        "pos = np.fromstring(\"\"\"\n",
        "43.06417\t141.34694\n",
        "40.82444\t140.74\n",
        "39.70361\t141.1525\n",
        "38.26889\t140.87194\n",
        "39.71861\t140.1025\n",
        "38.24056\t140.36333\n",
        "37.75\t140.46778\n",
        "36.34139\t140.44667\n",
        "36.56583\t139.88361\n",
        "36.39111\t139.06083\n",
        "35.85694\t139.64889\n",
        "35.60472\t140.12333\n",
        "35.68944\t139.69167\n",
        "35.44778\t139.6425\n",
        "37.90222\t139.02361\n",
        "36.69528\t137.21139\n",
        "36.59444\t136.62556\n",
        "36.06528\t136.22194\n",
        "35.66389\t138.56833\n",
        "36.65139\t138.18111\n",
        "35.39111\t136.72222\n",
        "34.97694\t138.38306\n",
        "35.18028\t136.90667\n",
        "34.73028\t136.50861\n",
        "35.00444\t135.86833\n",
        "35.02139\t135.75556\n",
        "34.68639\t135.52\n",
        "34.69139\t135.18306\n",
        "34.68528\t135.83278\n",
        "34.22611\t135.1675\n",
        "35.50361\t134.23833\n",
        "35.47222\t133.05056\n",
        "34.66167\t133.935\n",
        "34.39639\t132.45944\n",
        "34.18583\t131.47139\n",
        "34.06583\t134.55944\n",
        "34.34028\t134.04333\n",
        "33.84167\t132.76611\n",
        "33.55972\t133.53111\n",
        "33.60639\t130.41806\n",
        "33.24944\t130.29889\n",
        "32.74472\t129.87361\n",
        "32.78972\t130.74167\n",
        "33.23806\t131.6125\n",
        "31.91111\t131.42389\n",
        "31.56028\t130.55806\n",
        "26.2125\t127.68111\n",
        "\"\"\", sep=\" \").reshape(-1,2)[:,::-1]\n",
        "# 空白区切りのテキストを読みこみ、2列の二次元配列に変換し、2つの行をいれかえる\n",
        "\n",
        "pos"
      ]
    },
    {
      "cell_type": "code",
      "execution_count": null,
      "metadata": {
        "id": "AZn8FcVCVWwu"
      },
      "outputs": [],
      "source": [
        "from matplotlib import pyplot as plt\n",
        "fig = plt.figure()\n",
        "ax = plt.axes()\n",
        "\n",
        "plt.scatter(pos[:,0], pos[:,1])\n",
        "plt.axis(\"square\")\n",
        "plt.show()"
      ]
    },
    {
      "cell_type": "markdown",
      "metadata": {
        "id": "GQtAWbRrjoQ1"
      },
      "source": [
        "県庁所在地をつないだDelaunay図"
      ]
    },
    {
      "cell_type": "code",
      "execution_count": null,
      "metadata": {
        "id": "4WAkuy6NdC6L"
      },
      "outputs": [],
      "source": [
        "# Delaunay triangulation\n",
        "from scipy.spatial import Delaunay\n",
        "tri = Delaunay(pos)\n",
        "plt.triplot(pos[:,0], pos[:,1], tri.simplices)\n",
        "plt.axis(\"square\")\n",
        "plt.show()"
      ]
    },
    {
      "cell_type": "markdown",
      "metadata": {
        "id": "Zz7bn7Ldqva3"
      },
      "source": [
        "2次元のボロノイ図を描くのはライブラリにまかせる。"
      ]
    },
    {
      "cell_type": "code",
      "execution_count": null,
      "metadata": {
        "id": "LdlYzajppcFM"
      },
      "outputs": [],
      "source": [
        "# https://docs.scipy.org/doc/scipy/reference/generated/scipy.spatial.voronoi_plot_2d.html\n",
        "from scipy.spatial import Voronoi, voronoi_plot_2d\n",
        "vor = Voronoi(pos)\n",
        "fig = voronoi_plot_2d(vor, show_vertices=False, line_colors='orange',\n",
        "                line_width=2, line_alpha=0.6, point_size=2)\n",
        "plt.triplot(pos[:,0], pos[:,1], tri.simplices, c='red')\n",
        "#plt.xlim(127.5,145)\n",
        "plt.ylim(25, 45)\n",
        "plt.axis([127.5, 145, 25, 45])\n",
        "plt.gca().set_aspect('equal', adjustable='box')\n",
        "fig.set_size_inches(11,11)\n",
        "plt.show()"
      ]
    },
    {
      "cell_type": "markdown",
      "metadata": {
        "id": "AWZNzLDZkDOD"
      },
      "source": [
        "歪んで見えるのは、縦と横の目盛が違うから。\n",
        "\n",
        "なお、球面(地球)上の点の場合には、非ユークリッドVoronoi分割を適用する必要がある。(二等分線が大円になる)"
      ]
    },
    {
      "cell_type": "markdown",
      "metadata": {
        "id": "KuVh5XaEtiSw"
      },
      "source": [
        "もうちょっと少ない点で。例えば4点の場合。"
      ]
    },
    {
      "cell_type": "code",
      "execution_count": null,
      "metadata": {
        "id": "4HFcD9iHtuQJ"
      },
      "outputs": [],
      "source": [
        "from scipy.spatial import Voronoi, voronoi_plot_2d\n",
        "points = np.array([[0, -0.1], [0, 1.1], [1.2, 0], [1, 1]])\n",
        "vor = Voronoi(points)\n",
        "fig = voronoi_plot_2d(vor, show_vertices=False, line_colors='orange',\n",
        "                line_width=2, line_alpha=0.6, point_size=2)\n",
        "plt.gca().set_aspect('equal', adjustable='box')\n",
        "fig.set_size_inches(8,8)\n",
        "plt.show()"
      ]
    },
    {
      "cell_type": "markdown",
      "metadata": {
        "id": "lDJkfivOq3a4"
      },
      "source": [
        "vorにはどんな情報が含まれているか。"
      ]
    },
    {
      "cell_type": "code",
      "execution_count": null,
      "metadata": {
        "id": "tk2LncGYprEf"
      },
      "outputs": [],
      "source": [
        "vor.__dict__"
      ]
    },
    {
      "cell_type": "markdown",
      "metadata": {
        "id": "7Wczk960sIx3"
      },
      "source": [
        "_pointsが与えた点(4つ)、verticeがvoronoi頂点(外接円の中心)のようだ。よく見ると、辺の情報も含まれている。\n",
        "\n",
        " 3次元でも4次元でもscipy.spatial.Voronoiを使えばVoronoi分割できるが、残念なことに、既存の関数を使って可視化できるのは2次元まで。\n",
        " \n",
        " 別の例。ひまわりの種の配列。"
      ]
    },
    {
      "cell_type": "code",
      "execution_count": null,
      "metadata": {
        "id": "mlC0kYvdrILg"
      },
      "outputs": [],
      "source": [
        "import numpy as np\n",
        "from matplotlib import pyplot as plt\n",
        "\n",
        "tau  = (5**0.5-1)/2 # Golden ratio\n",
        "A    = 2*np.pi / tau   # Golden angle\n",
        "\n",
        "# 400点の角度と半径を一気に計算する。\n",
        "# 半径を等間隔にすると、あとになるほど種の面積が大きくなるので、\n",
        "# 半径は番号の平方根に比例するようにとる。\n",
        "angles = np.array([A*i for i in range(400)])\n",
        "radii  = np.array([i**0.5 for i in range(400)])\n",
        "\n",
        "x = radii * np.cos(angles)\n",
        "y = radii * np.sin(angles)\n",
        "\n",
        "plt.scatter(x,y)\n",
        "plt.axis('square')\n",
        "plt.show()"
      ]
    },
    {
      "cell_type": "code",
      "execution_count": null,
      "metadata": {
        "id": "I4tVFCHmvTMO"
      },
      "outputs": [],
      "source": [
        "pos = np.vstack([x,y]).T\n",
        "\n",
        "# https://docs.scipy.org/doc/scipy/reference/generated/scipy.spatial.voronoi_plot_2d.html\n",
        "from scipy.spatial import Voronoi, voronoi_plot_2d\n",
        "vor = Voronoi(pos)\n",
        "fig = voronoi_plot_2d(vor, show_vertices=False, line_colors='orange',\n",
        "                line_width=2, line_alpha=0.6, point_size=2)\n",
        "plt.axis('equal')\n",
        "plt.xlim(-20,20)\n",
        "plt.ylim(-20,20)\n",
        "plt.show()"
      ]
    },
    {
      "cell_type": "markdown",
      "metadata": {
        "id": "IXlhY9DOGj9k"
      },
      "source": [
        "# Delaunay分割を利用した補間\n"
      ]
    },
    {
      "cell_type": "code",
      "execution_count": null,
      "metadata": {
        "id": "uW_B2Cc1Gj9k"
      },
      "outputs": [],
      "source": [
        "from scipy.spatial import Delaunay\n",
        "import numpy as np\n",
        "\n",
        "# 郵便局の場所。4つだけ。\n",
        "points = np.array([[0, -0.1], [0, 1.1], [1.2, 0], [1, 1]])\n",
        "\n",
        "# いきなりDelaunay三角形分割\n",
        "tri = Delaunay(points)\n",
        "tri\n"
      ]
    },
    {
      "cell_type": "markdown",
      "metadata": {
        "id": "FkFzqqTvGj9l"
      },
      "source": [
        "`tri`の中身を見る。\n"
      ]
    },
    {
      "cell_type": "code",
      "execution_count": null,
      "metadata": {
        "id": "8MjaKZPAGj9l"
      },
      "outputs": [],
      "source": [
        "tri.__dict__\n"
      ]
    },
    {
      "cell_type": "markdown",
      "metadata": {
        "id": "lD2uqn1FGj9l"
      },
      "source": [
        "三角形を描く。\n"
      ]
    },
    {
      "cell_type": "code",
      "execution_count": null,
      "metadata": {
        "id": "zHfFcGVMGj9m"
      },
      "outputs": [],
      "source": [
        "import matplotlib.pyplot as plt\n",
        "plt.triplot(points[:,0], points[:,1], tri.simplices)\n",
        "plt.scatter(points[:,0], points[:,1], s=100)\n",
        "plt.axis('square')\n",
        "plt.show()\n"
      ]
    },
    {
      "cell_type": "markdown",
      "metadata": {
        "id": "HGfUnYCGGj9m"
      },
      "source": [
        "外接円の半径と中心は?\n"
      ]
    },
    {
      "cell_type": "code",
      "execution_count": null,
      "metadata": {
        "id": "tiOH6Rl8Gj9m"
      },
      "outputs": [],
      "source": [
        "import numpy as np\n",
        "def plane(p1,p2,p3):\n",
        "    \"p1,p2,p3を通る平面z=ax+by+cの係数a,b,cを返す\"\n",
        "    x1,y1,z1 = p1\n",
        "    x2,y2,z2 = p2\n",
        "    x3,y3,z3 = p3\n",
        "    A = np.array([[x1,y1,1],[x2,y2,1],[x3,y3,1]])\n",
        "    X = np.array([z1,z2,z3])\n",
        "    # Aの逆行列とXのドット積\n",
        "    abc = np.linalg.inv(A) @ X\n",
        "    return abc\n",
        "\n",
        "def center_and_radius(a,b,c):\n",
        "    \"平面z=ax+by+cと放物面z=x**2+y**2の交線のxy平面への射影\"\n",
        "    radius = (a**2 + b**2 + 4*c)**0.5/2\n",
        "    center = (a/2, b/2)\n",
        "    return center, radius\n",
        "\n",
        "# tripletは最初のDelaunay三角形の3つの頂点の番号\n",
        "triplet = tri.simplices[0]\n",
        "# p3は3つの頂点の座標(x,y)\n",
        "p3 = points[triplet]\n",
        "# 放物面にもちあげたz座標をくっつけ、plane()関数にわたす。\n",
        "a,b,c = plane([p3[0,0], p3[0,1], p3[0,0]**2+p3[0,1]**2],\n",
        "            [p3[1,0], p3[1,1], p3[1,0]**2+p3[1,1]**2],\n",
        "            [p3[2,0], p3[2,1], p3[2,0]**2+p3[2,1]**2])\n",
        "center, radius = center_and_radius(a,b,c)\n",
        "\n",
        "import matplotlib.pyplot as plt\n",
        "plt.triplot(points[:,0], points[:,1], tri.simplices)\n",
        "plt.scatter(points[:,0], points[:,1], s=100)\n",
        "\n",
        "circle1 = plt.Circle(center, radius, color='r', fill=False)\n",
        "plt.scatter(center[0], center[1])\n",
        "plt.gca().add_patch(circle1)\n",
        "\n",
        "plt.axis('square')\n",
        "plt.show()\n",
        "\n"
      ]
    },
    {
      "cell_type": "markdown",
      "metadata": {
        "id": "ubj3wZPbGj9n"
      },
      "source": [
        "外接円を全部まとめて描く。\n"
      ]
    },
    {
      "cell_type": "code",
      "execution_count": null,
      "metadata": {
        "id": "32oFDryNGj9n"
      },
      "outputs": [],
      "source": [
        "import matplotlib.pyplot as plt\n",
        "plt.triplot(points[:,0], points[:,1], tri.simplices)\n",
        "plt.scatter(points[:,0], points[:,1], s=100)\n",
        "\n",
        "# tripletは最初のDelaunay三角形の3つの頂点の番号\n",
        "for triplet in tri.simplices:\n",
        "    # p3は3つの頂点の座標(x,y)\n",
        "    p3 = points[triplet]\n",
        "    # 放物面にもちあげたz座標をくっつけ、plane()関数にわたす。\n",
        "    a,b,c = plane([p3[0,0], p3[0,1], p3[0,0]**2+p3[0,1]**2],\n",
        "                [p3[1,0], p3[1,1], p3[1,0]**2+p3[1,1]**2],\n",
        "                [p3[2,0], p3[2,1], p3[2,0]**2+p3[2,1]**2])\n",
        "    center, radius = center_and_radius(a,b,c)\n",
        "\n",
        "    # add a circumcircle\n",
        "    circle1 = plt.Circle(center, radius, color='r', fill=False)\n",
        "    plt.gca().add_patch(circle1)\n",
        "    # center dot\n",
        "    plt.scatter(center[0], center[1])\n",
        "\n",
        "plt.axis('square')\n",
        "plt.show()\n",
        "\n"
      ]
    },
    {
      "cell_type": "markdown",
      "metadata": {
        "id": "reN3QQPfGj9n"
      },
      "source": [
        "てきとうに選んだ3つの家`(0.1, 0.2), (1.5, 0.5), (0.5, 1.05)`が、どちらの郵便局のテリトリー内(三角形の中)にあるかを判定する。\n"
      ]
    },
    {
      "cell_type": "code",
      "execution_count": null,
      "metadata": {
        "id": "-2lAi_KMGj9n"
      },
      "outputs": [],
      "source": [
        "vertices = np.array([(0.1, 0.2), (1.5, 0.5), (0.5, 1.05)])\n",
        "tri.find_simplex(vertices)\n"
      ]
    },
    {
      "cell_type": "markdown",
      "metadata": {
        "id": "FQ4Xa_6YGj9n"
      },
      "source": [
        "最初と最後の点は三角形1の中にあり、2番目の点はどの三角にも属していない。\n",
        "\n",
        "三角形1の中で、3つの点がどんな位置にあるか(混合比)を求める。(詳細は理解していません。transformって何?)\n"
      ]
    },
    {
      "cell_type": "code",
      "execution_count": null,
      "metadata": {
        "id": "F_yo7RMMGj9o"
      },
      "outputs": [],
      "source": [
        "# 以下のリンク先を参考にしました。\n",
        "# https://docs.scipy.org/doc/scipy/reference/generated/scipy.spatial.Delaunay.html\n",
        "\n",
        "# b = tri.transform[1,:2].dot(np.transpose(p - tri.transform[1,2]))\n",
        "b = tri.transform[1,:2] @  (points - tri.transform[1,2]).T\n",
        "np.c_[b.T, 1 - b.sum(axis=0)]\n"
      ]
    },
    {
      "cell_type": "markdown",
      "metadata": {
        "id": "yN1qC5-sGj9o"
      },
      "source": [
        "1行目は、混合比が全部0以上1以下、つまり三角形1の内部にある。\n",
        "2行目は負の数や1を越える数があり、三角形1の外の点である。\n",
        "3行目は成分が0の項があるので、点は三角形の辺の上にある。\n",
        "\n",
        "理解していないtransformに頼るのではなく、自力で混合比を求めてみる。\n",
        "\n",
        "三角形OABの中の点Cの内挿は、$OA=a, OB=b, OC=c,$と書き、$pa+qb=c$となる係数$p,q$を求めることにほかならない。成分で書けば、\n",
        "$$(p,q)\\left(\\begin{matrix}a_x, a_y\\\\ b_x,b_y\\end{matrix}\\right)=(c_x, c_y)$$\n",
        "書きかえれば、\n",
        "$$(p,q)=(c_x, c_y)\\left(\\begin{matrix}a_x, a_y\\\\ b_x,b_y\\end{matrix}\\right)^{-1}$$\n",
        "これをPython化するとこんな感じになる。\n"
      ]
    },
    {
      "cell_type": "code",
      "execution_count": null,
      "metadata": {
        "id": "V0OG_bsdGj9o"
      },
      "outputs": [],
      "source": [
        "def interpolate(point, triangle):\n",
        "    # last point is the origin\n",
        "    o = triangle[2]\n",
        "    ab = triangle[:2] - o\n",
        "    print(ab)\n",
        "    c = point - o\n",
        "    p, q = np.linalg.inv(ab) @ c\n",
        "    r = 1 - p - q\n",
        "    return p, q, r\n",
        "\n",
        "\n",
        "for point in points:\n",
        "    p, q, r = interpolate(point, tri.simplices[0])\n",
        "    print(p, q, r)\n",
        "\n",
        "\n",
        "\n",
        "\n",
        "    \n"
      ]
    },
    {
      "cell_type": "markdown",
      "metadata": {
        "id": "bum0dxfbGj9o"
      },
      "source": [
        "\n",
        "4つの頂点に、色をあてはめ、それ以外の点はその4色の混合で表す。\n"
      ]
    },
    {
      "cell_type": "code",
      "execution_count": null,
      "metadata": {
        "id": "K48wdbbNGj9o"
      },
      "outputs": [],
      "source": [
        "colors = np.array([[1,0,0],\n",
        "                   [0.5,1,0],\n",
        "                   [0,1,1],\n",
        "                   [0.5,0,1]])\n",
        "\n",
        "import matplotlib.pyplot as plt\n",
        "plt.scatter(points[:,0], points[:,1], c=colors, s=100)\n",
        "\n",
        "plt.axis('square')\n",
        "plt.show()\n"
      ]
    },
    {
      "cell_type": "code",
      "execution_count": null,
      "metadata": {
        "id": "TaGu3KAUGj9p"
      },
      "outputs": [],
      "source": [
        "# 0.1間隔で\n",
        "p = []\n",
        "for ix in range(13):\n",
        "    for iy in range(11):\n",
        "        x, y = ix/10, iy/10\n",
        "        p = np.array([[x, y]])\n",
        "        # 点がどっちの三角形に属するか。\n",
        "        which = tri.find_simplex(p)[0]\n",
        "        # どの三角にも属しない場合は飛ばす。\n",
        "        if which < 0:\n",
        "            continue\n",
        "        # 混合比\n",
        "        b = tri.transform[which,:2] @ (p - tri.transform[which,2]).T\n",
        "        mix = np.c_[b.T, 1 - b.sum(axis=0)][0]\n",
        "        # その三角形を構成する頂点の番号を割りだす。\n",
        "        v = tri.simplices[which]\n",
        "        # \n",
        "        # その比率で、頂点の色を混ぜる。\n",
        "        # mixedcolor = mix[0]*colors[v[0]] + mix[1]*colors[v[1]] + mix[2]*colors[v[2]]\n",
        "        # simpler expression\n",
        "        mixedcolor = mix @ colors[v]\n",
        "        mixedcolor = np.around(mixedcolor, decimals=4)\n",
        "        plt.scatter(x, y, s=50, facecolor=mixedcolor)\n",
        "plt.triplot(points[:,0], points[:,1], tri.simplices)\n",
        "plt.scatter(points[:,0], points[:,1], s=100, facecolor=colors)\n",
        "plt.show()\n"
      ]
    },
    {
      "cell_type": "markdown",
      "metadata": {
        "id": "mFKXo1GSGj9p"
      },
      "source": [
        "## これは何に使えるの?\n",
        "\n",
        "スライドでも紹介した通り、Voronoi分割のアイディアは、情報を幾何学的に扱ういろんなところに顔を出します。また、2次元の情報の処理のために、一旦三次元に持ちあげて考える、というのも非常に面白い視点だと思います。\n",
        "\n",
        "* データの補間\n",
        "* データの分類と最適化\n",
        "* データの可視化\n",
        "\n",
        "など。アイディアは4次元以上のデータでも使えるはずで、機械学習の手法としても面白いと思います。\n"
      ]
    }
  ],
  "metadata": {
    "colab": {
      "collapsed_sections": [],
      "name": "Voronoi.ipynb",
      "provenance": [],
      "include_colab_link": true
    },
    "kernelspec": {
      "display_name": "Python 3",
      "name": "python3"
    },
    "language_info": {
      "codemirror_mode": {
        "name": "ipython",
        "version": 3
      },
      "file_extension": ".py",
      "mimetype": "text/x-python",
      "name": "python",
      "nbconvert_exporter": "python",
      "pygments_lexer": "ipython3",
      "version": "3.9.10"
    }
  },
  "nbformat": 4,
  "nbformat_minor": 0
}
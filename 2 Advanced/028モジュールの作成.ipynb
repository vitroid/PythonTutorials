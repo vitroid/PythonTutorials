{
 "cells": [
  {
   "cell_type": "markdown",
   "metadata": {},
   "source": [
    "よく使う関数はモジュールにしておくと、簡単に使いまわせます。\n",
    "\n",
    "例えば以下のプログラムで使っている、二次元のリストの縦と横を入れかえるtranspose()関数は、ほかでも使う機会がありそうです。"
   ]
  },
  {
   "cell_type": "code",
   "execution_count": null,
   "metadata": {
    "collapsed": false
   },
   "outputs": [],
   "source": [
    "def transpose(matrix, default=None):\n",
    "    #列数の最大値を調べる。\n",
    "    maxc = 0\n",
    "    for row in matrix:\n",
    "        if maxc < len(row):\n",
    "            maxc = len(row)\n",
    "    #コラムの数は列数の最大値\n",
    "    columns = [[] for i in range(maxc)]\n",
    "    for row in matrix:\n",
    "        for i in range(maxc):\n",
    "            if i < len(row):\n",
    "                columns[i].append(row[i])\n",
    "            else:\n",
    "                #データが足りない部分はdefault値を入れる\n",
    "                columns[i].append(default)\n",
    "    return columns\n",
    "    \n",
    "file = open(\"data1.txt\")\n",
    "coord = []\n",
    "for line in file:           #ファイルのそれぞれの行ごとに処理をする。\n",
    "    values = [float(x) for x in line.split()]  #分割して実数化する\n",
    "    coord.append(values)\n",
    "print(coord)\n",
    "columns = transpose(coord)\n",
    "print(columns)"
   ]
  },
  {
   "cell_type": "markdown",
   "metadata": {},
   "source": [
    "こういう場合は、transpose関数の部分を、別のファイル(例えばtranspose.py)に書いておいて、それをimportして使うと便利です。ファイル名の拡張子は.pyです。\n",
    "\n",
    "transpose.pyの中身"
   ]
  },
  {
   "cell_type": "code",
   "execution_count": null,
   "metadata": {
    "collapsed": true
   },
   "outputs": [],
   "source": [
    "def transpose(matrix, default=None):\n",
    "    #列数の最大値を調べる。\n",
    "    maxc = 0\n",
    "    for row in matrix:\n",
    "        if maxc < len(row):\n",
    "            maxc = len(row)\n",
    "    #コラムの数は列数の最大値\n",
    "    columns = [[] for i in range(maxc)]\n",
    "    for row in matrix:\n",
    "        for i in range(maxc):\n",
    "            if i < len(row):\n",
    "                columns[i].append(row[i])\n",
    "            else:\n",
    "                #データが足りない部分はdefault値を入れる\n",
    "                columns[i].append(default)\n",
    "    return columns\n"
   ]
  },
  {
   "cell_type": "markdown",
   "metadata": {},
   "source": [
    "それを呼びだす側のプログラムでは、次の構文で関数をインポートします。"
   ]
  },
  {
   "cell_type": "markdown",
   "metadata": {},
   "source": [
    "from module名 import 関数名"
   ]
  },
  {
   "cell_type": "markdown",
   "metadata": {},
   "source": [
    "モジュール名とはファイル名の\".py\"以外の部分を指します。上の例では、モジュール名はtranspose, 関数名もtransposeですから、"
   ]
  },
  {
   "cell_type": "code",
   "execution_count": null,
   "metadata": {
    "collapsed": true
   },
   "outputs": [],
   "source": [
    "from transpose import transpose"
   ]
  },
  {
   "cell_type": "markdown",
   "metadata": {},
   "source": [
    "と書きます。全体を書きなおしたものは以下の通りです。"
   ]
  },
  {
   "cell_type": "code",
   "execution_count": null,
   "metadata": {
    "collapsed": false
   },
   "outputs": [],
   "source": [
    "from transpose import transpose     #関数のインポート\n",
    "\n",
    "file = open(\"data1.txt\")\n",
    "coord = []\n",
    "for line in file:           #ファイルのそれぞれの行ごとに処理をする。\n",
    "    values = [float(x) for x in line.split()]  #分割して実数化する\n",
    "    coord.append(values)\n",
    "print(coord)\n",
    "columns = transpose(coord)\n",
    "print(columns)"
   ]
  },
  {
   "cell_type": "markdown",
   "metadata": {},
   "source": [
    "1つのモジュールには、いくつもの関数を書いておくことができます。複数の関数をimportする場合には、カンマで区切って列挙するか、あるいはすべての関数を一挙にimportしたいなら次のように書きます。"
   ]
  },
  {
   "cell_type": "code",
   "execution_count": null,
   "metadata": {
    "collapsed": true
   },
   "outputs": [],
   "source": [
    "from transpose import *"
   ]
  }
 ],
 "metadata": {
  "kernelspec": {
   "display_name": "Python 3",
   "language": "python",
   "name": "python3"
  },
  "language_info": {
   "codemirror_mode": {
    "name": "ipython",
    "version": 3
   },
   "file_extension": ".py",
   "mimetype": "text/x-python",
   "name": "python",
   "nbconvert_exporter": "python",
   "pygments_lexer": "ipython3",
   "version": "3.6.0"
  }
 },
 "nbformat": 4,
 "nbformat_minor": 0
}

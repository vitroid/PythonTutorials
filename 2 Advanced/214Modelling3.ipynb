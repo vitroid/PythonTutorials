{
 "cells": [
  {
   "cell_type": "markdown",
   "metadata": {},
   "source": [
    "# 写真の減色\n",
    "\n",
    "画像データは1600万色程度の色彩を表現できるが、これは一般的な写真の画素数よりも多い。つまり、全く使っていない色はたくさんある。また、次の写真のように、カラー写真とはいっても、実際に使っている色はそれほど多くないように見えるものもある。\n",
    "\n",
    "![](https://live.staticflickr.com/8380/8640855620_102dda223f_z_d.jpg)\n",
    "\n",
    "(CC BY 2.0 2009 SteFou! via Flickr)\n",
    "\n",
    "この写真を、できるだけ少ない色数で表示してみよう。"
   ]
  },
  {
   "cell_type": "markdown",
   "metadata": {},
   "source": [
    "## 白黒の場合\n",
    "\n",
    "まず、この画像を入手し、色彩を落として、numpy arrayの形にする。414 x 640W pixelの画像なので、サイズ(414,640)の実数のarrayの各要素がそれぞれの画素の明るさを表す。\n"
   ]
  },
  {
   "cell_type": "code",
   "execution_count": null,
   "metadata": {},
   "outputs": [],
   "source": [
    "from imageio import imread\n",
    "import PIL\n",
    "\n",
    "img = imread(\"https://live.staticflickr.com/8380/8640855620_102dda223f_z_d.jpg\")\n",
    "img.shape"
   ]
  },
  {
   "cell_type": "markdown",
   "metadata": {},
   "source": [
    "画像の画素ごとのデータは、通常はR(赤),G(緑),B(青)それぞれ0〜255の256段階で表現される。3色を平均して白黒画像にする。"
   ]
  },
  {
   "cell_type": "code",
   "execution_count": null,
   "metadata": {},
   "outputs": [],
   "source": [
    "# RGB方向の平均をとり、255で割る。\n",
    "import numpy as np\n",
    "\n",
    "#平均値は実数になってしまうので、8ビット負号なし整数(0〜255)に変換しておく。\n",
    "gray = np.average(img, axis=2).astype(np.uint8)\n",
    "gray.shape"
   ]
  },
  {
   "cell_type": "code",
   "execution_count": null,
   "metadata": {},
   "outputs": [],
   "source": [
    "gray"
   ]
  },
  {
   "cell_type": "code",
   "execution_count": null,
   "metadata": {},
   "outputs": [],
   "source": [
    "%matplotlib inline\n",
    "from matplotlib import pyplot as plt\n",
    "\n",
    "# displayはJupyterの機能。\n",
    "display(PIL.Image.fromarray(gray))"
   ]
  },
  {
   "cell_type": "markdown",
   "metadata": {},
   "source": [
    "## 単純に階調を8等分して、8階調にする\n",
    "\n",
    "何も考えず、この画像を8階調に落してみます。0〜255の階調を8階調にするには、\n",
    "* 0〜31を全部0に\n",
    "* 32〜63を全部32に\n",
    "* ...\n",
    "* 224〜255を全部224に\n",
    "置きかえればいいのです。\n",
    "\n",
    "これには`floor()`関数が便利です。`floor(x)`関数は、`x`の小数点以下を切りすてて、`x`より小さい最大の整数を返します。"
   ]
  },
  {
   "cell_type": "code",
   "execution_count": null,
   "metadata": {},
   "outputs": [],
   "source": [
    "simple8 = (np.floor(gray/32)*32).astype(np.uint8)\n",
    "display(PIL.Image.fromarray(simple8))"
   ]
  },
  {
   "cell_type": "markdown",
   "metadata": {},
   "source": [
    "なんかのっぺりとしてわかりにくい絵になってしまいました。コントラストが小さいせいでしょう。灰色の階調をもう少しこまかくとりたいところです。"
   ]
  },
  {
   "cell_type": "markdown",
   "metadata": {},
   "source": [
    "## ヒストグラムにもとづいた彩色\n",
    "\n",
    "そこで、ヒストグラムをまず作ります。"
   ]
  },
  {
   "cell_type": "code",
   "execution_count": null,
   "metadata": {},
   "outputs": [],
   "source": [
    "hist = np.histogram(gray, bins=256)\n",
    "hist"
   ]
  },
  {
   "cell_type": "markdown",
   "metadata": {},
   "source": [
    "`np.histogram()`は2つのarrayを返します。1つめがヒストグラム、2つめはビン(区間)の目盛です。"
   ]
  },
  {
   "cell_type": "code",
   "execution_count": null,
   "metadata": {},
   "outputs": [],
   "source": [
    "hist[0].shape, hist[1].shape"
   ]
  },
  {
   "cell_type": "code",
   "execution_count": null,
   "metadata": {},
   "outputs": [],
   "source": [
    "plt.plot(hist[0])"
   ]
  },
  {
   "cell_type": "markdown",
   "metadata": {},
   "source": [
    "予想通り、暗い色が少なく、明るい色に偏っていることがわかりました、暗い色の点は少ないので、明るいところを細かい階調で表現するのがよさそうです。\n",
    "\n",
    "そこで、8階調に落とす時に、各階調の画素の数が均等になるようにしましょう。つまり、上のグラフを、面積が等しくなるように8等分します。"
   ]
  },
  {
   "cell_type": "code",
   "execution_count": null,
   "metadata": {},
   "outputs": [],
   "source": [
    "height, width = gray.shape\n",
    "Npix = height*width\n",
    "# 1次元にして、輝度の小さい順にソートする。\n",
    "pixels = np.sort(gray.reshape(Npix))\n",
    "pixels"
   ]
  },
  {
   "cell_type": "code",
   "execution_count": null,
   "metadata": {},
   "outputs": [],
   "source": [
    "# (Npix/8) 個目の画素は?\n",
    "pixels[Npix//8]"
   ]
  },
  {
   "cell_type": "markdown",
   "metadata": {},
   "source": [
    "なので、輝度が108以下の画素は全部輝度を108/2=54にする。\n",
    "\n",
    "Npix 番目から Npix/4 番目の画素は、"
   ]
  },
  {
   "cell_type": "code",
   "execution_count": null,
   "metadata": {},
   "outputs": [],
   "source": [
    "pixels[Npix//4]"
   ]
  },
  {
   "cell_type": "markdown",
   "metadata": {},
   "source": [
    "なので、108以上128以下の画素は全部輝度を(108+128)/2=118にする。\n",
    "\n",
    "以下同様。これを8階調まとめてやってみよう。"
   ]
  },
  {
   "cell_type": "code",
   "execution_count": null,
   "metadata": {},
   "outputs": [],
   "source": [
    "for i in range(8):\n",
    "    # range\n",
    "    smallest = Npix*i//8\n",
    "    largest  = Npix*(i+1)//8 - 1\n",
    "    # brightness of the pixels at the two ends\n",
    "    Ps = pixels[smallest]\n",
    "    Pl = pixels[largest]\n",
    "    # average of the two\n",
    "    Pm = (Ps+Pl)/2\n",
    "    print(i,Ps,Pl,Pm)"
   ]
  },
  {
   "cell_type": "markdown",
   "metadata": {},
   "source": [
    "うまいぐあいにできている。これを使って、grayの中身を書きかえる。\n",
    "\n",
    "numpyのとてもトリッキーな書き方を使ってみよう。"
   ]
  },
  {
   "cell_type": "code",
   "execution_count": null,
   "metadata": {},
   "outputs": [],
   "source": [
    "# make a copy of gray\n",
    "equi8 = gray.copy()\n",
    "\n",
    "cond = gray < 108\n",
    "equi8[cond] = 54\n",
    "\n",
    "cond = (108 <= gray ) & (gray < 128)\n",
    "equi8[cond] = 118\n",
    "\n",
    "cond = (128 <= gray ) & (gray < 141)\n",
    "equi8[cond] = 135\n",
    "\n",
    "cond = (141 <= gray ) & (gray < 154)\n",
    "equi8[cond] = 148\n",
    "\n",
    "cond = (154 <= gray ) & (gray < 170)\n",
    "equi8[cond] = 162\n",
    "\n",
    "cond = (170 <= gray ) & (gray < 186)\n",
    "equi8[cond] = 178\n",
    "\n",
    "cond = (186 <= gray ) & (gray < 208)\n",
    "equi8[cond] = 197\n",
    "\n",
    "cond = 208 <= gray\n",
    "equi8[cond] = 230\n",
    "\n",
    "\n"
   ]
  },
  {
   "cell_type": "code",
   "execution_count": null,
   "metadata": {},
   "outputs": [],
   "source": [
    "display(PIL.Image.fromarray(equi8))"
   ]
  },
  {
   "cell_type": "markdown",
   "metadata": {},
   "source": [
    "ちょっとメリハリがついて、背景と桜が見分けられるようになった。"
   ]
  },
  {
   "cell_type": "markdown",
   "metadata": {},
   "source": [
    "## カラーの場合\n",
    "\n",
    "デジタルカラー画像は赤、緑、青それぞれの強度が256段階あり、1600万通りの色彩がありうる。3色をそれぞれ8段階にしたとしても、64色は必要になる。8色にまで落とすためには、3色をon/offの2段階にまで落とす必要があり、やる前からうまくいかないのは目に見えている。"
   ]
  },
  {
   "cell_type": "code",
   "execution_count": null,
   "metadata": {},
   "outputs": [],
   "source": [
    "simple = img.copy()\n",
    "# 画素の輝度が128より小さい点はすべて0にする。\n",
    "simple[img<128]=0\n",
    "# 128より大きい点はすべて255にする。\n",
    "simple[img>=128]=255\n",
    "display(PIL.Image.fromarray(simple))"
   ]
  },
  {
   "cell_type": "markdown",
   "metadata": {},
   "source": [
    "酷い。"
   ]
  },
  {
   "cell_type": "markdown",
   "metadata": {},
   "source": [
    "そこで、k-平均分類という機械学習の手法を使ってみる。k-平均分類は、機械学習において、多次元空間に散在する多数の点を、近いもの同士で集めて、クラスターにする手法である。\n",
    "\n",
    "桜の写真の画素は、R,G,Bを3つの軸とする立方体の中の点で表される。上の写真には640x414=265000点の画素があり、それらは立方体の中で偏って分布している。おそらくピンクに相当する部分に多数の点が集中し、ほかに緑や黒に相当する領域に小さな集団を作っているはずだ。\n",
    "\n",
    "そこで、この3次元空間内の点を、近いものどうしをつないでいくことで、領域分割する手法がk-平均法 (k-means classifier)である。\n",
    "\n",
    "![](https://scikit-learn.org/stable/_images/sphx_glr_plot_kmeans_digits_001.png)\n",
    "\n",
    "2次元でのk-近傍分類器はこんな感じ。10グループに分けろ、と指定すると、10種類に分けてくれる。それぞれのクラスターの重心点で色を代表させれば、色数を減らせる。\n",
    "\n",
    "k平均法は、機械学習ライブラリscikit-learnに含まれているKMeansを使う。"
   ]
  },
  {
   "cell_type": "code",
   "execution_count": null,
   "metadata": {},
   "outputs": [],
   "source": [
    "# Pythonデータサイエンスハンドブック 5.11.1\n",
    "from sklearn.cluster import KMeans\n",
    "\n",
    "#画像をピクセル列に変換する(そうしないとk-meansが使えない)\n",
    "pixels = img.reshape(Npix, 3)\n",
    "\n",
    "# 8つの代表的な色をさがさせる。\n",
    "kmeans = KMeans(n_clusters=8)\n",
    "kmeans.fit(pixels)\n",
    "kmeans.cluster_centers_"
   ]
  },
  {
   "cell_type": "code",
   "execution_count": null,
   "metadata": {},
   "outputs": [],
   "source": [
    "# それぞれのピクセルに一番近い中心は何番か。\n",
    "kmeans.predict(pixels)"
   ]
  },
  {
   "cell_type": "code",
   "execution_count": null,
   "metadata": {},
   "outputs": [],
   "source": [
    "# ピクセルごとの色の変換表を作る\n",
    "\n",
    "new_pixels = kmeans.cluster_centers_[kmeans.predict(pixels)]\n",
    "new_pixels"
   ]
  },
  {
   "cell_type": "code",
   "execution_count": null,
   "metadata": {},
   "outputs": [],
   "source": [
    "# new_pixelsを8ビット整数にし、arrayの形をもとに戻し、画像として表示する。\n",
    "display(PIL.Image.fromarray(new_pixels.astype(np.uint8).reshape(height, width, 3)))"
   ]
  },
  {
   "cell_type": "markdown",
   "metadata": {},
   "source": [
    "たった8色でもここまで雰囲気が出せました。"
   ]
  },
  {
   "cell_type": "code",
   "execution_count": null,
   "metadata": {},
   "outputs": [],
   "source": []
  }
 ],
 "metadata": {
  "kernelspec": {
   "display_name": "Python 3",
   "language": "python",
   "name": "python3"
  },
  "language_info": {
   "codemirror_mode": {
    "name": "ipython",
    "version": 3
   },
   "file_extension": ".py",
   "mimetype": "text/x-python",
   "name": "python",
   "nbconvert_exporter": "python",
   "pygments_lexer": "ipython3",
   "version": "3.6.5"
  }
 },
 "nbformat": 4,
 "nbformat_minor": 2
}

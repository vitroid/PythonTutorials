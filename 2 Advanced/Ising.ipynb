{
 "cells": [
  {
   "cell_type": "markdown",
   "metadata": {},
   "source": [
    "まだちゃんと動いている気がしない。Jupyterはアニメーションが不便で窮屈だ。"
   ]
  },
  {
   "cell_type": "code",
   "execution_count": null,
   "metadata": {},
   "outputs": [],
   "source": [
    "from math import exp\n",
    "import numpy as np\n",
    "N=100\n",
    "grid = np.random.randint(0,2,size=(N,N))*2-1\n",
    "#2.269\n",
    "kT=0.5\n",
    "J=1.0\n",
    "P = np.array([min(exp(J*i/kT),1) for i in range(-8,9)])\n",
    "print(P)\n",
    "for loop in range(100):\n",
    "    neighbors = np.roll(grid,1,axis=0) + np.roll(grid,-1,axis=0) + np.roll(grid,1,axis=1) + np.roll(grid,-1,axis=1)\n",
    "    interactions=grid*neighbors\n",
    "    print(-J*np.sum(interactions)/N**2, np.sum(grid)/N**2)\n",
    "    dSS=-interactions*2\n",
    "    probs=P[dSS+8]\n",
    "    accept=probs>np.random.random((N,N))\n",
    "    grid[accept] = -grid[accept]"
   ]
  },
  {
   "cell_type": "code",
   "execution_count": null,
   "metadata": {},
   "outputs": [],
   "source": []
  },
  {
   "cell_type": "code",
   "execution_count": null,
   "metadata": {},
   "outputs": [],
   "source": []
  }
 ],
 "metadata": {
  "kernelspec": {
   "display_name": "Python 3",
   "language": "python",
   "name": "python3"
  },
  "language_info": {
   "codemirror_mode": {
    "name": "ipython",
    "version": 3
   },
   "file_extension": ".py",
   "mimetype": "text/x-python",
   "name": "python",
   "nbconvert_exporter": "python",
   "pygments_lexer": "ipython3",
   "version": "3.6.5"
  }
 },
 "nbformat": 4,
 "nbformat_minor": 2
}

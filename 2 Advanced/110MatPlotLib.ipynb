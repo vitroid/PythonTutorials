{
 "cells": [
  {
   "cell_type": "markdown",
   "metadata": {},
   "source": [
    "<!--アニメーションは残念ならiPython notebook内では表示できないようだ。-->"
   ]
  },
  {
   "cell_type": "markdown",
   "metadata": {},
   "source": [
    "すでに使いなれたプロッティングツール(例えばgnuplot)があるのに、おなじことをPythonでやりなおす必要は感じないと思いますが、MatPlotLibはPythonのいろんなライブラリでグラフを描くための事実上の標準になっているので、使いかたに慣れておくと、いろいろ便利なことがあります。\n",
    "\n",
    "松本も日常MatPlotLibを使っているわけではないので、練習をかねてgnuplot (http://gnuplot.sourceforge.net) でできることを、MatPlotLibでひととおり試してみます。\n",
    "\n",
    "gnuplotよりもMatPlotLibがすぐれている点は、それがプログラム言語の中に組みこまれていることです。生データをそのままプロットする場合にはgnuplotで十分ですが、様々なデータ処理を行った結果をプロットしたり、パラメータをリアルタイムで調整しながらグラフを描きなおしたい場合には、MatPlotLibのほうが便利かもしれません。\n",
    "\n",
    "## 2次元: XYプロット\n",
    "### 数式のプロット\n",
    "gnuplotでは、数式を直接指定する方法があるが、MatPlotLibは数値のプロットしかできないので、数式をプロットしたい場合は、numpyで数値化してからプロットする。整数のリストを生じるrangeを拡張した、arangeという関数がnumpyに備わっているので、これを使えば単調増加数列は簡単に作れる。また、numpyの数学関数を使うと、arrayに対して演算ができる。"
   ]
  },
  {
   "cell_type": "code",
   "execution_count": null,
   "metadata": {
    "collapsed": false
   },
   "outputs": [],
   "source": [
    "import numpy as np\n",
    "\n",
    "x = np.arange(-10,10,0.1)        #xは-10から+10まで0.1間隔の値のarray\n",
    "print(x)"
   ]
  },
  {
   "cell_type": "markdown",
   "metadata": {},
   "source": [
    "arrayに対して通常の演算を行うと、個々の要素に作用する。この例の場合、xのすべての要素が個別に二乗される。"
   ]
  },
  {
   "cell_type": "code",
   "execution_count": null,
   "metadata": {
    "collapsed": false
   },
   "outputs": [],
   "source": [
    "y=x**2\n",
    "y"
   ]
  },
  {
   "cell_type": "code",
   "execution_count": null,
   "metadata": {
    "collapsed": false
   },
   "outputs": [],
   "source": [
    "%matplotlib inline               \n",
    "#ウェブ画面上にグラフを描くためのおまじない\n",
    "\n",
    "import matplotlib.pyplot as plt  #プロットライブラリの本体\n",
    "\n",
    "plt.plot(x,y)"
   ]
  },
  {
   "cell_type": "markdown",
   "metadata": {},
   "source": [
    "arrayに対して通常の演算を行うと、個々の要素に作用する。そのための数学関数がnumpyにすべて準備されている。"
   ]
  },
  {
   "cell_type": "code",
   "execution_count": null,
   "metadata": {
    "collapsed": false
   },
   "outputs": [],
   "source": [
    "%matplotlib inline\n",
    "import numpy as np\n",
    "import matplotlib.pyplot as plt  #プロットライブラリの本体\n",
    "\n",
    "x = np.arange(-10,10,0.1)        #xは-10から+10まで0.1間隔の値のarray\n",
    "y = np.exp(-x**2/5)              #yの値はxから算出する。\n",
    "plt.xlim(-20,20)                 #プロット範囲指定\n",
    "plt.plot(x,y)"
   ]
  },
  {
   "cell_type": "markdown",
   "metadata": {},
   "source": [
    "### データのプロット\n",
    "まずは、手作りデータをプロットしてみる。"
   ]
  },
  {
   "cell_type": "code",
   "execution_count": null,
   "metadata": {
    "collapsed": false
   },
   "outputs": [],
   "source": [
    "%matplotlib inline\n",
    "import numpy as np\n",
    "import matplotlib.pyplot as plt  #プロットライブラリの本体\n",
    "\n",
    "x = [1,2,4,8,16]\n",
    "y = [2,3,5,7,11]\n",
    "plt.plot(x,y)"
   ]
  },
  {
   "cell_type": "markdown",
   "metadata": {},
   "source": [
    "2つのy値を与えて同時にプロットすることはできるだろうか。"
   ]
  },
  {
   "cell_type": "code",
   "execution_count": null,
   "metadata": {
    "collapsed": false,
    "scrolled": true
   },
   "outputs": [],
   "source": [
    "%matplotlib inline\n",
    "import numpy as np\n",
    "import matplotlib.pyplot as plt  #プロットライブラリの本体\n",
    "\n",
    "x = [1,2,4,8,16]\n",
    "y = [[2,1],[3,2],[5,3],[7,4],[11,5]]\n",
    "plt.plot(x,y)"
   ]
  },
  {
   "cell_type": "markdown",
   "metadata": {},
   "source": [
    "numpy形式のデータでも試す。"
   ]
  },
  {
   "cell_type": "code",
   "execution_count": null,
   "metadata": {
    "collapsed": false
   },
   "outputs": [],
   "source": [
    "%matplotlib inline\n",
    "import numpy as np\n",
    "import matplotlib.pyplot as plt  #プロットライブラリの本体\n",
    "\n",
    "x = np.array([1,2,4,8,16])\n",
    "y = np.array([2,3,5,7,11])\n",
    "plt.plot(x,y)"
   ]
  },
  {
   "cell_type": "markdown",
   "metadata": {},
   "source": [
    "2本同時プロットもnumpyでできるはず。"
   ]
  },
  {
   "cell_type": "code",
   "execution_count": null,
   "metadata": {
    "collapsed": false,
    "scrolled": true
   },
   "outputs": [],
   "source": [
    "%matplotlib inline\n",
    "import numpy as np\n",
    "import matplotlib.pyplot as plt  #プロットライブラリの本体\n",
    "\n",
    "x = np.array([1,2,4,8,16])\n",
    "y = np.array([[2,1],[3,2],[5,3],[7,4],[11,5]])\n",
    "plt.plot(x,y)"
   ]
  },
  {
   "cell_type": "markdown",
   "metadata": {},
   "source": [
    "じゃあ、数式プロットで2本同時に線を引いてみよう。"
   ]
  },
  {
   "cell_type": "code",
   "execution_count": null,
   "metadata": {
    "collapsed": false
   },
   "outputs": [],
   "source": [
    "%matplotlib inline\n",
    "import numpy as np\n",
    "import matplotlib.pyplot as plt  #プロットライブラリの本体\n",
    "\n",
    "x = np.arange(-1,1,0.1)\n",
    "y1 = np.sin(x)\n",
    "y2 = np.cos(x)\n",
    "y = (y1,y2)\n",
    "plt.plot(x,y)"
   ]
  },
  {
   "cell_type": "markdown",
   "metadata": {},
   "source": [
    "なになに、xとyは同じdimensionでないといけない、と言われた。確かに、xにはx[0]からx[100]あたりまでデータがあるのに対し、yにはy[0]とy[1]しかなく、その中にarrayが入っていて、xとyの見掛けのリスト(array)の大きさが違う。そこで、yは転置してみよう。"
   ]
  },
  {
   "cell_type": "code",
   "execution_count": null,
   "metadata": {
    "collapsed": false
   },
   "outputs": [],
   "source": [
    "%matplotlib inline\n",
    "import numpy as np\n",
    "import matplotlib.pyplot as plt  #プロットライブラリの本体\n",
    "\n",
    "x = np.arange(-1,1,0.1)\n",
    "y1 = np.sin(x)\n",
    "y2 = np.cos(x)\n",
    "y = (y1,y2)\n",
    "print(\"Y before transposition:\",y)\n",
    "y = np.transpose(y)\n",
    "print(x)\n",
    "print(\"Y after transposition:\",y)\n",
    "plt.plot(x,y)"
   ]
  },
  {
   "cell_type": "markdown",
   "metadata": {},
   "source": [
    "x,y座標の羅列をファイルから読みこんで、そのまま線でプロットする。"
   ]
  },
  {
   "cell_type": "code",
   "execution_count": null,
   "metadata": {
    "collapsed": false
   },
   "outputs": [],
   "source": [
    "%matplotlib inline\n",
    "import random\n",
    "import numpy as np\n",
    "import matplotlib.pyplot as plt  #プロットライブラリの本体\n",
    "\n",
    "#data6.txtは4カラムのデータ。第1カラムが時刻。\n",
    "file = open(\"data6.txt\")\n",
    "x = []\n",
    "y1 = []\n",
    "y2 = []\n",
    "y3 = []\n",
    "\n",
    "for line in file:\n",
    "    cols = line.split()\n",
    "    if len(cols) > 3:\n",
    "        x.append(float(cols[0]))\n",
    "        y1.append(float(cols[1]))\n",
    "        y2.append(float(cols[2]))\n",
    "        y3.append(float(cols[3]))\n",
    "    \n",
    "#matplotlibはnumpyのarrayでなくてもプロットできる。\n",
    "#x = np.array(x)\n",
    "#y = np.array(y)\n",
    "\n",
    "plt.plot(x,y1)\n",
    "plt.plot(x,y2)\n",
    "plt.plot(x,y3)"
   ]
  },
  {
   "cell_type": "markdown",
   "metadata": {},
   "source": [
    "plotを何度も呼びだせば、同じグラフにどんどん重ねてくれるようだ。\n",
    "\n",
    "showをはさむと、別のパネルに表示される。(たぶん)"
   ]
  },
  {
   "cell_type": "code",
   "execution_count": null,
   "metadata": {
    "collapsed": false
   },
   "outputs": [],
   "source": [
    "%matplotlib inline\n",
    "import random\n",
    "import numpy as np\n",
    "import matplotlib.pyplot as plt  #プロットライブラリの本体\n",
    "\n",
    "#data6.txtは4カラムのデータ。第1カラムが時刻。\n",
    "file = open(\"data6.txt\")\n",
    "x = []\n",
    "y1 = []\n",
    "y2 = []\n",
    "y3 = []\n",
    "\n",
    "for line in file:\n",
    "    cols = line.split()\n",
    "    if len(cols) > 3:\n",
    "        x.append(float(cols[0]))\n",
    "        y1.append(float(cols[1]))\n",
    "        y2.append(float(cols[2]))\n",
    "        y3.append(float(cols[3]))\n",
    "    \n",
    "#matplotlibはnumpyのarrayでなくてもプロットできる。\n",
    "#x = np.array(x)\n",
    "#y = np.array(y)\n",
    "\n",
    "plt.plot(x,y1)\n",
    "plt.plot(x,y2)\n",
    "plt.show()\n",
    "plt.plot(x,y3)"
   ]
  },
  {
   "cell_type": "markdown",
   "metadata": {},
   "source": [
    "第3カラムを誤差とみなして、エラーバー付きでプロットしてみる。"
   ]
  },
  {
   "cell_type": "code",
   "execution_count": null,
   "metadata": {
    "collapsed": false
   },
   "outputs": [],
   "source": [
    "%matplotlib inline\n",
    "import random\n",
    "import numpy as np\n",
    "import matplotlib.pyplot as plt  #プロットライブラリの本体\n",
    "\n",
    "#data6.txtは4カラムのデータ。第1カラムが時刻。\n",
    "file = open(\"data6.txt\")\n",
    "x = []\n",
    "y1 = []\n",
    "y2 = []\n",
    "y3 = []\n",
    "\n",
    "for line in file:\n",
    "    cols = line.split()\n",
    "    if len(cols) > 3:\n",
    "        x.append(float(cols[0]))\n",
    "        y1.append(float(cols[1]))\n",
    "        y2.append(float(cols[2]))\n",
    "        y3.append(float(cols[3]))\n",
    "    \n",
    "#matplotlibはnumpyのarrayでなくてもプロットできる。\n",
    "#x = np.array(x)\n",
    "#y = np.array(y)\n",
    "\n",
    "plt.errorbar(x,y1,yerr=y2)"
   ]
  },
  {
   "cell_type": "markdown",
   "metadata": {},
   "source": [
    "MatPlotLibでは、異なるタイプのプロットをする場合には、それぞれ異なる関数を呼ぶらしい。\n",
    "\n",
    "点でプロットする場合には、plot関数の3番目の引数で指定する。(http://matplotlib.org/examples/lines_bars_and_markers/marker_reference.html)\n",
    "\n",
    "線のスタイルを変更するオプションもいろいろある。(http://matplotlib.org/examples/lines_bars_and_markers/line_styles_reference.html)"
   ]
  },
  {
   "cell_type": "code",
   "execution_count": null,
   "metadata": {
    "collapsed": false
   },
   "outputs": [],
   "source": [
    "%matplotlib inline\n",
    "import random\n",
    "import numpy as np\n",
    "import matplotlib.pyplot as plt  #プロットライブラリの本体\n",
    "\n",
    "#data6.txtは4カラムのデータ。第1カラムが時刻。\n",
    "file = open(\"data6.txt\")\n",
    "x = []\n",
    "y1 = []\n",
    "y2 = []\n",
    "y3 = []\n",
    "\n",
    "for line in file:\n",
    "    cols = line.split()\n",
    "    if len(cols) > 3:\n",
    "        x.append(float(cols[0]))\n",
    "        y1.append(float(cols[1]))\n",
    "        y2.append(float(cols[2]))\n",
    "        y3.append(float(cols[3]))\n",
    "\n",
    "#matplotlibはnumpyのarrayでなくてもプロットできるが、arrayのほうが便利\n",
    "x = np.array(x)\n",
    "y1 = np.array(y1)\n",
    "y2 = np.array(y2)\n",
    "y3 = np.array(y3)\n",
    "\n",
    "\n",
    "plt.plot(x,y1,\".\")\n",
    "plt.plot(x,y2+y3,linewidth=3)\n"
   ]
  },
  {
   "cell_type": "markdown",
   "metadata": {},
   "source": [
    "せっかく画面にきれいに描けても、論文に載せられないとありがたくない。PDFでの出力を試す。(http://matplotlib.org/api/backend_pdf_api.html)"
   ]
  },
  {
   "cell_type": "code",
   "execution_count": null,
   "metadata": {
    "collapsed": false
   },
   "outputs": [],
   "source": [
    "%matplotlib inline\n",
    "import random\n",
    "import numpy as np\n",
    "import matplotlib.pyplot as plt  #プロットライブラリの本体\n",
    "from matplotlib.backends.backend_pdf import PdfPages  #PDF出力\n",
    "\n",
    "#data6.txtは4カラムのデータ。第1カラムが時刻。\n",
    "file = open(\"data6.txt\")\n",
    "x = []\n",
    "y1 = []\n",
    "y2 = []\n",
    "y3 = []\n",
    "\n",
    "for line in file:\n",
    "    cols = line.split()\n",
    "    if len(cols) > 3:\n",
    "        x.append(float(cols[0]))\n",
    "        y1.append(float(cols[1]))\n",
    "        y2.append(float(cols[2]))\n",
    "        y3.append(float(cols[3]))\n",
    "\n",
    "#matplotlibはnumpyのarrayでなくてもプロットできるが、arrayのほうが便利\n",
    "x = np.array(x)\n",
    "y1 = np.array(y1)\n",
    "y2 = np.array(y2)\n",
    "y3 = np.array(y3)\n",
    "\n",
    "\n",
    "plt.plot(x,y1,\".\")\n",
    "plt.plot(x,y2+y3,linewidth=3)\n",
    "#フォントを指定し、labelを付ける。\n",
    "plt.rc('font', family='serif')\n",
    "plt.title(\"Title here\", color=\"red\")\n",
    "plt.xlabel('Time / sec', fontsize = 18)\n",
    "plt.ylabel('Values',     fontsize = 18)\n",
    "\n",
    "#PDF化のために追加\n",
    "pp = PdfPages('test.pdf')\n",
    "pp.savefig()\n",
    "pp.close()\n"
   ]
  },
  {
   "cell_type": "markdown",
   "metadata": {},
   "source": [
    "MatPlotLibのサンプルページ(http://matplotlib.org/gallery.html )を見ると、ほかにも相当いろんな表現ができるようだ。全部網羅していては時間が足りないので、必要があればその都度紹介することにする。"
   ]
  },
  {
   "cell_type": "markdown",
   "metadata": {
    "collapsed": true
   },
   "source": [
    "## 3次元データ\n",
    "3次元の場合、関数をプロットするにも一苦労する。必要が生じるまで、あまり深入りしないことにしよう。\n",
    "\n",
    "インライン表示だと視点を変えられないが、ウィンドウ表示にすれば、3次元プロットはマウスで回転できる。ウィンドウ表示にするには、先頭の%matplotlib inline行をなくし、カーネルを再起動する。"
   ]
  },
  {
   "cell_type": "code",
   "execution_count": null,
   "metadata": {
    "collapsed": false
   },
   "outputs": [],
   "source": [
    "from mpl_toolkits.mplot3d import Axes3D   #'3d' projectionに必要。\n",
    "import matplotlib.pyplot as plt\n",
    "import numpy as np\n",
    "\n",
    "fig = plt.figure()\n",
    "ax = fig.gca(projection='3d')\n",
    "X, Y = np.mgrid[0:6*np.pi:0.25, 0:4*np.pi:0.25]\n",
    "Z = np.abs(np.cos(X) + np.cos(Y))\n",
    "\n",
    "surf = ax.plot_surface(X + 1e5, Y + 1e5, Z, cmap='autumn', cstride=2, rstride=2)\n",
    "ax.set_xlabel(\"X-Label\")\n",
    "ax.set_ylabel(\"Y-Label\")\n",
    "ax.set_zlabel(\"Z-Label\")\n",
    "ax.set_zlim(0, 2)\n",
    "\n",
    "plt.show()"
   ]
  },
  {
   "cell_type": "markdown",
   "metadata": {},
   "source": [
    "## アニメーション\n",
    "MatPlotLibはアニメーションもできると謳っているが、正直言って、gnuplotやMatPlotLibのようなプロッティングプログラムで、アニメーションを無理矢理描くことはあまり良い考えとは思えない。"
   ]
  },
  {
   "cell_type": "markdown",
   "metadata": {
    "collapsed": true
   },
   "source": [
    "## フォント\n",
    "フォントが気にいらない人(私)は、[ここ](http://nucl.hatenablog.com/entry/2016/05/16/165345)にフォントの差し替え方が説明されている。ちょっとややこしいのでおすすめしない。"
   ]
  },
  {
   "cell_type": "code",
   "execution_count": null,
   "metadata": {
    "collapsed": true
   },
   "outputs": [],
   "source": []
  }
 ],
 "metadata": {
  "kernelspec": {
   "display_name": "Python 3",
   "language": "python",
   "name": "python3"
  },
  "language_info": {
   "codemirror_mode": {
    "name": "ipython",
    "version": 3
   },
   "file_extension": ".py",
   "mimetype": "text/x-python",
   "name": "python",
   "nbconvert_exporter": "python",
   "pygments_lexer": "ipython3",
   "version": "3.6.0"
  }
 },
 "nbformat": 4,
 "nbformat_minor": 0
}

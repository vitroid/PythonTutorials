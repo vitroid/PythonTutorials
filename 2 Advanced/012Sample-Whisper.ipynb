{
  "nbformat": 4,
  "nbformat_minor": 0,
  "metadata": {
    "colab": {
      "provenance": [],
      "authorship_tag": "ABX9TyNpEyqqvk9VVYRBz8bgAxLR",
      "include_colab_link": true
    },
    "kernelspec": {
      "name": "python3",
      "display_name": "Python 3"
    },
    "language_info": {
      "name": "python"
    }
  },
  "cells": [
    {
      "cell_type": "markdown",
      "metadata": {
        "id": "view-in-github",
        "colab_type": "text"
      },
      "source": [
        "<a href=\"https://colab.research.google.com/github/vitroid/PythonTutorials/blob/master/2%20Advanced/012Sample-Whisper.ipynb\" target=\"_parent\"><img src=\"https://colab.research.google.com/assets/colab-badge.svg\" alt=\"Open In Colab\"/></a>"
      ]
    },
    {
      "cell_type": "markdown",
      "source": [
        "[Whisper](https://platform.openai.com/docs/guides/speech-to-text/quickstart)を使い、音声データを文字列にする(文字起こし)\n",
        "\n",
        "1. \"Code\"を押して、code用の枠を作る。\n",
        "2. \"Start coding or __generate__ with AI\"のgenerateをクリックし、以下の文章を入力する。\n",
        "\n",
        "- whisper moduleをgithubのリポジトリからインストールする。\n",
        "- https://clrd.ninjal.ac.jp/csj/sound-f/aps-smp.mp3 を読みこんで変数に入れ、それをColab上で再生する\n",
        "- whisperのlargeモデルを使って、変数audioの中身を文字起こしして表示する。\n",
        "\n",
        "Converting voice data into text using [Whisper](https://platform.openai.com/docs/guides/speech-to-text/quickstart) API.\n",
        "\n",
        "1. Press \"Code\" to make a new pane.\n",
        "2. Click \"genrate\" in \"Start coding or __generate__ with AI\" and put the following sentences.\n",
        "\n",
        "- Install whisper module from the github repository.\n",
        "- Put the content at https://upload.wikimedia.org/wikipedia/commons/8/80/Pourquoi_g%C3%A9rer_son_temps.ogg in a variable and play it on the Colab.\n",
        "- Convert the voice data into text using the large model of whisper, and print."
      ],
      "metadata": {
        "id": "1ZnyWaLPJxtw"
      }
    }
  ]
}
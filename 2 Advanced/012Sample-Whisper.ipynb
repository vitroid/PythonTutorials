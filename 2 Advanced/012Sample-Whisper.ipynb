{
  "nbformat": 4,
  "nbformat_minor": 0,
  "metadata": {
    "colab": {
      "provenance": [],
      "authorship_tag": "ABX9TyMP5ugK374r8zrny1H4SO/M",
      "include_colab_link": true
    },
    "kernelspec": {
      "name": "python3",
      "display_name": "Python 3"
    },
    "language_info": {
      "name": "python"
    }
  },
  "cells": [
    {
      "cell_type": "markdown",
      "metadata": {
        "id": "view-in-github",
        "colab_type": "text"
      },
      "source": [
        "<a href=\"https://colab.research.google.com/github/vitroid/PythonTutorials/blob/master/2%20Advanced/012Sample-Whisper.ipynb\" target=\"_parent\"><img src=\"https://colab.research.google.com/assets/colab-badge.svg\" alt=\"Open In Colab\"/></a>"
      ]
    },
    {
      "cell_type": "markdown",
      "source": [
        "[Whisper](https://platform.openai.com/docs/guides/speech-to-text/quickstart)を使い、音声データを文字列にする(文字起こし)\n",
        "\n"
      ],
      "metadata": {
        "id": "1ZnyWaLPJxtw"
      }
    },
    {
      "cell_type": "code",
      "source": [
        "# whisperモジュールをColabに読みこむ\n",
        "\n",
        "! pip install git+https://github.com/openai/whisper.git\n"
      ],
      "metadata": {
        "id": "_m3L5HjKLvrA"
      },
      "execution_count": null,
      "outputs": []
    },
    {
      "cell_type": "code",
      "source": [
        "# prompt: URLのmp3ファイルを読みこんで変数に入れ、それをColab上で再生する\n",
        "\n",
        "import whisper\n",
        "from IPython.display import Audio\n",
        "\n",
        "url = \"https://clrd.ninjal.ac.jp/csj/sound-f/aps-smp.mp3\"\n",
        "\n",
        "# Load the audio file from the URL\n",
        "audio = whisper.load_audio(url)\n",
        "\n",
        "# Play the audio file in Colab\n",
        "Audio(audio, rate=16000)\n"
      ],
      "metadata": {
        "id": "-t0O-iuphqwT"
      },
      "execution_count": null,
      "outputs": []
    },
    {
      "cell_type": "code",
      "source": [
        "import whisper\n",
        "\n",
        "# モデルをロード\n",
        "model = whisper.load_model(\"base\")  # 'base'はモデルのサイズ。他に'small', 'medium', 'large', 'tiny'などがあります。\n",
        "\n",
        "# 音声ファイルをテキストに変換\n",
        "result = model.transcribe(audio)\n",
        "\n",
        "# 結果を表示\n",
        "print(result[\"text\"])"
      ],
      "metadata": {
        "id": "vmTqVPI--Sjk"
      },
      "execution_count": null,
      "outputs": []
    },
    {
      "cell_type": "code",
      "source": [
        "# prompt: whisperのlargeモデルを使って、変数audioの中身を文字起こしして表示する。\n",
        "\n",
        "# Load the large model\n",
        "model = whisper.load_model(\"large\")\n",
        "\n",
        "# Transcribe the audio\n",
        "result = model.transcribe(audio)\n",
        "\n",
        "# Print the result\n",
        "print(result[\"text\"])\n"
      ],
      "metadata": {
        "id": "eCuy_TOoi0zB"
      },
      "execution_count": null,
      "outputs": []
    }
  ]
}
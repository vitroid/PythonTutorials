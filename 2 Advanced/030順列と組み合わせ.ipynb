{
  "nbformat": 4,
  "nbformat_minor": 0,
  "metadata": {
    "kernelspec": {
      "display_name": "Python 3",
      "language": "python",
      "name": "python3"
    },
    "language_info": {
      "codemirror_mode": {
        "name": "ipython",
        "version": 3
      },
      "file_extension": ".py",
      "mimetype": "text/x-python",
      "name": "python",
      "nbconvert_exporter": "python",
      "pygments_lexer": "ipython3",
      "version": "3.6.5"
    },
    "colab": {
      "name": "030順列と組み合わせ.ipynb",
      "provenance": [],
      "include_colab_link": true
    }
  },
  "cells": [
    {
      "cell_type": "markdown",
      "metadata": {
        "id": "view-in-github",
        "colab_type": "text"
      },
      "source": [
        "<a href=\"https://colab.research.google.com/github/vitroid/PythonTutorials/blob/2020m0/2%20Advanced/030%E9%A0%86%E5%88%97%E3%81%A8%E7%B5%84%E3%81%BF%E5%90%88%E3%82%8F%E3%81%9B.ipynb\" target=\"_parent\"><img src=\"https://colab.research.google.com/assets/colab-badge.svg\" alt=\"Open In Colab\"/></a>"
      ]
    },
    {
      "cell_type": "markdown",
      "metadata": {
        "id": "70pvCMA3ApEx",
        "colab_type": "text"
      },
      "source": [
        "# 順列と組みあわせ\n",
        "\n",
        "## 重複を許す組み合わせ\n",
        "結晶格子の座標をプログラムで作りだす場合を考えてみましょう。2次元の10x10の単純正方格子の座標は、2重ループで簡単に書けます。"
      ]
    },
    {
      "cell_type": "code",
      "metadata": {
        "id": "YtupcxJNApFB",
        "colab_type": "code",
        "colab": {}
      },
      "source": [
        "pos = []\n",
        "for x in range(10):\n",
        "    for y in range(10):\n",
        "        pos.append((x,y))\n",
        "print(pos)"
      ],
      "execution_count": null,
      "outputs": []
    },
    {
      "cell_type": "markdown",
      "metadata": {
        "id": "CD5d-BWIApFb",
        "colab_type": "text"
      },
      "source": [
        "リスト内包記法を使うと、簡潔に書けます。"
      ]
    },
    {
      "cell_type": "code",
      "metadata": {
        "id": "knF517i8ApFe",
        "colab_type": "code",
        "colab": {}
      },
      "source": [
        "pos = [(x,y) for x in range(10) for y in range(10)]\n",
        "print(pos)"
      ],
      "execution_count": null,
      "outputs": []
    },
    {
      "cell_type": "markdown",
      "metadata": {
        "id": "z3nkXP-4ApF6",
        "colab_type": "text"
      },
      "source": [
        "同じように、4x4x4の3次元の立方格子の座標は3重ループで書けます。"
      ]
    },
    {
      "cell_type": "code",
      "metadata": {
        "id": "RLiz591uApGQ",
        "colab_type": "code",
        "colab": {}
      },
      "source": [
        "pos = []\n",
        "for x in range(4):\n",
        "    for y in range(4):\n",
        "        for z in range(4):\n",
        "            pos.append((x,y,z))\n",
        "print(pos)"
      ],
      "execution_count": null,
      "outputs": []
    },
    {
      "cell_type": "markdown",
      "metadata": {
        "id": "rvDAWG7TApGY",
        "colab_type": "text"
      },
      "source": [
        "### 練習1\n",
        "\n",
        "上のプログラムを[リスト内包表記](https://qiita.com/y__sama/items/a2c458de97c4aa5a98e7)で書いてみましょう。"
      ]
    },
    {
      "cell_type": "code",
      "metadata": {
        "id": "b6RWSoZNApGZ",
        "colab_type": "code",
        "colab": {}
      },
      "source": [
        ""
      ],
      "execution_count": null,
      "outputs": []
    },
    {
      "cell_type": "markdown",
      "metadata": {
        "id": "QWx7wObHApGd",
        "colab_type": "text"
      },
      "source": [
        "関数にしてみましょう。"
      ]
    },
    {
      "cell_type": "code",
      "metadata": {
        "id": "WY1rSe_7ApGp",
        "colab_type": "code",
        "colab": {}
      },
      "source": [
        "def combination3(a,b,c):\n",
        "    pos = []\n",
        "    for x in range(a):\n",
        "        for y in range(b):\n",
        "            for z in range(c):\n",
        "                pos.append((x,y,z))\n",
        "    return pos\n",
        "\n",
        "print(combination3(4,4,4))"
      ],
      "execution_count": null,
      "outputs": []
    },
    {
      "cell_type": "markdown",
      "metadata": {
        "id": "tLACkK5uApG5",
        "colab_type": "text"
      },
      "source": [
        "## イテレータ\n",
        "\n",
        "(イテレータの説明は飛ばしても構いません)\n",
        "\n",
        "イテレータは、for文の中で使うのに特化した、「繰り返し用関数」です。range()がいちばんよく使われるイテレータです。\n",
        "\n",
        "例えば、次のプログラムは、"
      ]
    },
    {
      "cell_type": "code",
      "metadata": {
        "id": "HAgc3TA0ApG6",
        "colab_type": "code",
        "colab": {}
      },
      "source": [
        "for i in (0,1,2,3,4):\n",
        "    print(i)"
      ],
      "execution_count": null,
      "outputs": []
    },
    {
      "cell_type": "markdown",
      "metadata": {
        "id": "s2ugCQNQApG9",
        "colab_type": "text"
      },
      "source": [
        "rangeを使っても同じように動きます。"
      ]
    },
    {
      "cell_type": "code",
      "metadata": {
        "id": "zp22zIlhApG-",
        "colab_type": "code",
        "colab": {}
      },
      "source": [
        "for i in range(5):\n",
        "    print(i)"
      ],
      "execution_count": null,
      "outputs": []
    },
    {
      "cell_type": "markdown",
      "metadata": {
        "id": "poscEnnMApHF",
        "colab_type": "text"
      },
      "source": [
        "でも、range(5)は(0,1,2,3,4)というシーケンスを作っている**わけではありません**。\n",
        "\n",
        "例えば、次のプログラムは、もしrange()がシーケンスを生成するならば、たった10回しか繰り返さないのに、悪夢のようにメモリを使うことでしょう。"
      ]
    },
    {
      "cell_type": "code",
      "metadata": {
        "id": "N6nfDebLApHF",
        "colab_type": "code",
        "colab": {}
      },
      "source": [
        "for i in range(1000000000000000000000):\n",
        "    print(i)\n",
        "    if i == 10:\n",
        "        break"
      ],
      "execution_count": null,
      "outputs": []
    },
    {
      "cell_type": "markdown",
      "metadata": {
        "id": "w2onnmSvApHI",
        "colab_type": "text"
      },
      "source": [
        "でも、range()はそんなアホなことはしません。range関数は、for文の中で、問いあわせるたびに違う値を返すように作られています。\n",
        "\n",
        "range関数を自分で書くなら、こんな感じになります。"
      ]
    },
    {
      "cell_type": "code",
      "metadata": {
        "id": "X2rijlUvApHJ",
        "colab_type": "code",
        "colab": {}
      },
      "source": [
        "def range_iter(start,end=None):\n",
        "    x = start\n",
        "    if end is None:\n",
        "        end = start\n",
        "        x = 0\n",
        "    while x < end:\n",
        "        yield x # 数値を返し、中断。\n",
        "        x += 1\n",
        "\n",
        "for i in range_iter(10):\n",
        "    print(i)"
      ],
      "execution_count": null,
      "outputs": []
    },
    {
      "cell_type": "markdown",
      "metadata": {
        "id": "Iuzevoh2ApHL",
        "colab_type": "text"
      },
      "source": [
        "`yield`がミソです。通常の関数だと、関数の最初から順に処理をし、returnで値を1つ返してしまえば、次にその関数を呼びだした時には前のことはすっかり忘れて最初からまた処理がはじまりますが、`yield`文を持っているイテレータの場合には、`yield`で値を返したあと一旦関数の処理が止まるのですが、再度呼び出された時にはyield文の次の行から再開されます。\n",
        "\n",
        "イテレータを使わないなら、rangeはこんな感じに書けるでしょうか。"
      ]
    },
    {
      "cell_type": "code",
      "metadata": {
        "id": "z1482CdxApHM",
        "colab_type": "code",
        "colab": {}
      },
      "source": [
        "def range_seq(start, end=None):\n",
        "    x = start\n",
        "    if end is None:\n",
        "        end = start\n",
        "        x = 0\n",
        "    seq = [] # 空のリストを準備\n",
        "    while x < end:\n",
        "        seq.append(x) # リストに追加\n",
        "        x += 1\n",
        "    return seq # リストをまとめて返す\n",
        "\n",
        "for i in range_seq(10):\n",
        "    print(i)"
      ],
      "execution_count": null,
      "outputs": []
    },
    {
      "cell_type": "markdown",
      "metadata": {
        "id": "QG7e7dhSApHO",
        "colab_type": "text"
      },
      "source": [
        "呼びだす側からは全く同じように見えますが、こちらは関数の中で一旦すべての数列をリストseqに並べるので、もし引数startに巨大な数字が指定されると、メモリ不足で固まってしまいます。\n",
        "\n",
        "せっかくなので、極端なケースで、2つの所要時間を比較してみましょう。"
      ]
    },
    {
      "cell_type": "code",
      "metadata": {
        "id": "yAV3UmurApHP",
        "colab_type": "code",
        "colab": {}
      },
      "source": [
        "%%timeit -r 1 -n 1\n",
        "# ↑Jupyterで実行時間を測るためのおまじない\n",
        "\n",
        "for i in range_iter(10000000):\n",
        "    print(i)\n",
        "    if i == 10:\n",
        "        break"
      ],
      "execution_count": null,
      "outputs": []
    },
    {
      "cell_type": "code",
      "metadata": {
        "id": "i4sELvOeApHW",
        "colab_type": "code",
        "colab": {}
      },
      "source": [
        "%%timeit -r 1 -n 1\n",
        "\n",
        "for i in range_seq(10000000):\n",
        "    print(i)\n",
        "    if i == 10:\n",
        "        break\n"
      ],
      "execution_count": null,
      "outputs": []
    },
    {
      "cell_type": "markdown",
      "metadata": {
        "id": "lSn-r7swApHZ",
        "colab_type": "text"
      },
      "source": [
        "### 重複組み合わせイテレータ\n",
        "\n",
        "上で作ったcombination3関数をイテレータに書き換えました。関数を呼び出す側は、何も変化しませんが、関数内で結果を蓄える必要がなくなります。"
      ]
    },
    {
      "cell_type": "code",
      "metadata": {
        "id": "DsS3YRj5ApHZ",
        "colab_type": "code",
        "colab": {}
      },
      "source": [
        "def combination3(a,b,c):\n",
        "    for x in range(a):\n",
        "        for y in range(b):\n",
        "            for z in range(c):\n",
        "                yield x,y,z\n",
        "\n",
        "for pos in combination3(4,4,4):\n",
        "    print(pos)"
      ],
      "execution_count": null,
      "outputs": []
    },
    {
      "cell_type": "markdown",
      "metadata": {
        "id": "RBVp0-h5ApHc",
        "colab_type": "text"
      },
      "source": [
        "数値の範囲を個別に渡す代わりに、リストでまとめて渡します。"
      ]
    },
    {
      "cell_type": "code",
      "metadata": {
        "id": "_XWf6chAApHf",
        "colab_type": "code",
        "colab": {}
      },
      "source": [
        "def combination3(L):\n",
        "    for x in range(L[0]):\n",
        "        for y in range(L[1]):\n",
        "            for z in range(L[2]):\n",
        "                yield x,y,z\n",
        "\n",
        "for pos in combination3((4,4,4)):\n",
        "    print(pos)"
      ],
      "execution_count": null,
      "outputs": []
    },
    {
      "cell_type": "markdown",
      "metadata": {
        "id": "UwlRbRJVApHj",
        "colab_type": "text"
      },
      "source": [
        "数字の組みあわせでなく、リストや集合の要素を組みあわせられるようにしましょう。"
      ]
    },
    {
      "cell_type": "code",
      "metadata": {
        "id": "tiINp66OApHj",
        "colab_type": "code",
        "colab": {}
      },
      "source": [
        "def combination3(L):\n",
        "    for x in L[0]:\n",
        "        for y in L[1]:\n",
        "            for z in L[2]:\n",
        "                yield x,y,z\n",
        "\n",
        "for pos in combination3(((1,2,3),(4,5,6),(7,8,9))):\n",
        "    print(pos)"
      ],
      "execution_count": null,
      "outputs": []
    },
    {
      "cell_type": "markdown",
      "metadata": {
        "id": "ySQnLrcjApHn",
        "colab_type": "text"
      },
      "source": [
        "再帰を使えば、n次元に一般化できます。再帰とは、関数のなかから、その関数自身を呼びだすことです。再帰する場合には、関数の中で終了条件(再帰をやめる条件)を必ず書いておく必要があります。"
      ]
    },
    {
      "cell_type": "code",
      "metadata": {
        "id": "GOHfL5whApHn",
        "colab_type": "code",
        "colab": {}
      },
      "source": [
        "def combinations(L):\n",
        "    if len(L) == 0: # terminator\n",
        "        yield []\n",
        "    else:\n",
        "        for x in L[0]:\n",
        "            for y in combinations(L[1:]):\n",
        "                yield [x]+y\n",
        "\n",
        "for pos in combinations([(0,1),(0,2),(0,4),(0,8)]):\n",
        "    print(pos)"
      ],
      "execution_count": null,
      "outputs": []
    },
    {
      "cell_type": "markdown",
      "metadata": {
        "id": "GC9dl519ApIN",
        "colab_type": "text"
      },
      "source": [
        "## 重複なしの組み合わせ\n",
        "1〜10のなかから異なる2つを選んだ組みあわせを作りたい場合は、条件分けします。"
      ]
    },
    {
      "cell_type": "code",
      "metadata": {
        "id": "2TMw3rHCApIN",
        "colab_type": "code",
        "colab": {}
      },
      "source": [
        "s = []\n",
        "for i in range(1,11):\n",
        "    for j in range(1,11):\n",
        "        if i > j:\n",
        "            s.append((i,j))\n",
        "print(s)"
      ],
      "execution_count": null,
      "outputs": []
    },
    {
      "cell_type": "markdown",
      "metadata": {
        "id": "MjN2IVDSApIS",
        "colab_type": "text"
      },
      "source": [
        "リスト内包記法なら?"
      ]
    },
    {
      "cell_type": "code",
      "metadata": {
        "id": "8S-lplGJApIc",
        "colab_type": "code",
        "colab": {}
      },
      "source": [
        "s = [(i,j) for i in range(1,11) for j in range(1,11) if i > j]\n",
        "print(s)"
      ],
      "execution_count": null,
      "outputs": []
    },
    {
      "cell_type": "markdown",
      "metadata": {
        "id": "FYsOrsweApIn",
        "colab_type": "text"
      },
      "source": [
        "でも、jの繰り返し範囲を調節すれば、if文も要らなくなります。"
      ]
    },
    {
      "cell_type": "code",
      "metadata": {
        "id": "KUsNR_CrApIo",
        "colab_type": "code",
        "colab": {}
      },
      "source": [
        "s = []\n",
        "for i in range(1,11):\n",
        "    for j in range(1,i):\n",
        "        s.append((i,j))\n",
        "print(s)"
      ],
      "execution_count": null,
      "outputs": []
    },
    {
      "cell_type": "markdown",
      "metadata": {
        "id": "LlB-EusOApI1",
        "colab_type": "text"
      },
      "source": [
        "### 練習2\n",
        "\n",
        "上のプログラムをリスト内包記法にして下さい。"
      ]
    },
    {
      "cell_type": "code",
      "metadata": {
        "id": "Bzw5_UqiApI1",
        "colab_type": "code",
        "colab": {}
      },
      "source": [
        ""
      ],
      "execution_count": null,
      "outputs": []
    },
    {
      "cell_type": "markdown",
      "metadata": {
        "id": "38E-ZbCKApI5",
        "colab_type": "text"
      },
      "source": [
        "### 練習3\n",
        "0〜5から異なる3つを選んだ組みあわせを列挙するプログラムを作って下さい。"
      ]
    },
    {
      "cell_type": "code",
      "metadata": {
        "id": "IJfoG5C-ApI6",
        "colab_type": "code",
        "colab": {}
      },
      "source": [
        ""
      ],
      "execution_count": null,
      "outputs": []
    },
    {
      "cell_type": "markdown",
      "metadata": {
        "id": "Qy1gIZo1ApI-",
        "colab_type": "text"
      },
      "source": [
        "関数にしてしまいましょう。"
      ]
    },
    {
      "cell_type": "code",
      "metadata": {
        "id": "h8hQ9RfmApI-",
        "colab_type": "code",
        "colab": {}
      },
      "source": [
        "def combination3(N):\n",
        "    s = []\n",
        "    for i in range(N):\n",
        "        for j in range(i):\n",
        "            for k in range(j):\n",
        "                s.append((i,j,k))\n",
        "    return s\n",
        "\n",
        "print(combination3(5))\n"
      ],
      "execution_count": null,
      "outputs": []
    },
    {
      "cell_type": "markdown",
      "metadata": {
        "id": "blR9O9QzApJE",
        "colab_type": "text"
      },
      "source": [
        "数字の範囲の代わりに、リストや集合を与える場合、繰り返しの範囲を書くのに困ってしまいます。ひとつの方法は次のような書きかたです。"
      ]
    },
    {
      "cell_type": "code",
      "metadata": {
        "scrolled": false,
        "id": "A4e-pRojApJO",
        "colab_type": "code",
        "colab": {}
      },
      "source": [
        "def combination3(L):\n",
        "    s = []\n",
        "    for i in range(len(L)):\n",
        "        for j in range(i):\n",
        "            for k in range(j):\n",
        "                s.append((L[i],L[j],L[k]))\n",
        "    return s\n",
        "\n",
        "print(combination3(['A','B','C','D','E']))\n"
      ],
      "execution_count": null,
      "outputs": []
    },
    {
      "cell_type": "markdown",
      "metadata": {
        "id": "t35VPMNyApJs",
        "colab_type": "text"
      },
      "source": [
        "イテレータを使うと、もっとシンプルに書けます。"
      ]
    },
    {
      "cell_type": "code",
      "metadata": {
        "scrolled": true,
        "id": "eHP1KKFxApJs",
        "colab_type": "code",
        "colab": {}
      },
      "source": [
        "def combination3(L):\n",
        "    for i in range(len(L)):\n",
        "        for j in range(i):\n",
        "            for k in range(j):\n",
        "                yield L[i],L[j],L[k]\n",
        "\n",
        "for x in combination3(['A','B','C','D','E']):\n",
        "    print(x)\n"
      ],
      "execution_count": null,
      "outputs": []
    },
    {
      "cell_type": "markdown",
      "metadata": {
        "id": "FttuyqknApJv",
        "colab_type": "text"
      },
      "source": [
        "選びだす個数を3個に固定せず、自由に個数を選べるようにするには、再帰が必要です。"
      ]
    },
    {
      "cell_type": "code",
      "metadata": {
        "id": "UEOPPSDNApJw",
        "colab_type": "code",
        "colab": {}
      },
      "source": [
        "def combinations(L,n):\n",
        "    \"\"\"\n",
        "    Combine n elements out of list L.\n",
        "    \n",
        "    L: list of elements\n",
        "    n: number of elements to be combined\n",
        "    \"\"\"\n",
        "    if n == 0:\n",
        "        yield []\n",
        "    else:\n",
        "        for i in range(len(L)):\n",
        "            for x in combinations(L[i+1:], n-1):\n",
        "                yield [L[i]] + x\n",
        "\n",
        "for x in combinations(['A','B','C','D','E'],2):\n",
        "    print(x)"
      ],
      "execution_count": null,
      "outputs": []
    },
    {
      "cell_type": "markdown",
      "metadata": {
        "id": "3N43lZRXApJy",
        "colab_type": "text"
      },
      "source": [
        "蛇足ですが、上のように関数の中に引用符でくくって説明文を入れておくと、ヘルプとみなしてくれます。他の人も使う関数を作る時は、ぜひ説明を入れましょう。"
      ]
    },
    {
      "cell_type": "code",
      "metadata": {
        "id": "gL2IWeS6ApJy",
        "colab_type": "code",
        "colab": {}
      },
      "source": [
        "?combinations"
      ],
      "execution_count": null,
      "outputs": []
    },
    {
      "cell_type": "markdown",
      "metadata": {
        "id": "nlwKEOcRApJ0",
        "colab_type": "text"
      },
      "source": [
        "## 順列\n",
        "与えられた要素を全部つかって、並べ方を列挙することを順列といいます。例えば、0と1の順列は01と10の2通りですが、一般に1〜Nの整数の順列の数はN!となり、かなりの個数になります。\n",
        "\n",
        "これははじめから再帰を使って考えるのが良いでしょう。順列関数は、与えられたリストLの要素を並べかえたすべての順列を順に返すイテレータとして定義します。\n",
        "\n",
        "    def permutations(L):\n",
        "        ...\n",
        "        yield *list_of_elements*\n",
        "\n",
        "\n",
        "おおまかな手順は次の\n",
        "1. 1〜Nから1つ数字を選び、iとする。\n",
        "2. 残りの(N-1)の数字の順列はpermutations()で生成する。これをjとする。\n",
        "3. iとjを連結したものをyieldする。\n"
      ]
    },
    {
      "cell_type": "code",
      "metadata": {
        "id": "T_ZS-CsPApJ1",
        "colab_type": "code",
        "colab": {}
      },
      "source": [
        "def permutations(L):\n",
        "    if len(L) == 0:\n",
        "        yield []\n",
        "    else:\n",
        "        for k in range(len(L)):\n",
        "            i = L[k]\n",
        "            for j in permutations(L[:k]+L[k+1:]):\n",
        "                yield [i]+j\n",
        "\n",
        "for x in permutations([1,2,3]):\n",
        "    print(x)"
      ],
      "execution_count": null,
      "outputs": []
    },
    {
      "cell_type": "markdown",
      "metadata": {
        "id": "Knf6enzlApJ3",
        "colab_type": "text"
      },
      "source": [
        "このようなプログラムは、なかなか間違いなく書くのは難しく、読むにもすこし経験が必要です。\n",
        "\n",
        "そこで、標準ライブラリitertoolsの出番です。\n",
        "## itertoolsの概要\n",
        "itertoolsは、順列組み合わせの基本的なアルゴリズムを集めたものです。→https://docs.python.org/3/library/itertools.html\n",
        "\n",
        "### 組みあわせ\n",
        "5つの要素のなかから、2つを選ぶ組みあわせは、Fortranなどでは2重ループで書くのが一般的ですが、itertoolsを使うと非常に簡単に書けます。"
      ]
    },
    {
      "cell_type": "code",
      "metadata": {
        "id": "YiaxkzSWApJ3",
        "colab_type": "code",
        "colab": {}
      },
      "source": [
        "import itertools\n",
        "for a,b in itertools.combinations([1,2,3,4,5], 2):\n",
        "    print(a,b)"
      ],
      "execution_count": null,
      "outputs": []
    },
    {
      "cell_type": "markdown",
      "metadata": {
        "id": "o17LygO2ApJ5",
        "colab_type": "text"
      },
      "source": [
        "### 重複組みあわせ\n",
        "\n",
        "すこし妙な関数名な気がしますが…"
      ]
    },
    {
      "cell_type": "code",
      "metadata": {
        "id": "TMexnRv8ApJ7",
        "colab_type": "code",
        "colab": {}
      },
      "source": [
        "import itertools\n",
        "for a,b in itertools.combinations_with_replacement([1,2,3,4,5], 2):\n",
        "    print(a,b)"
      ],
      "execution_count": null,
      "outputs": []
    },
    {
      "cell_type": "markdown",
      "metadata": {
        "id": "m73t4ZGeApJ-",
        "colab_type": "text"
      },
      "source": [
        "### 順列\n",
        "5つの要素を並びかえるすべての順列に対して何かの処理をしたい場合も、繰り返しで書くのは骨がおれますが、itertoolsではとても簡単です。"
      ]
    },
    {
      "cell_type": "code",
      "metadata": {
        "id": "8ZvBPluLApJ-",
        "colab_type": "code",
        "colab": {}
      },
      "source": [
        "for p in itertools.permutations(\"ドレミソラ\"):\n",
        "    print(p)"
      ],
      "execution_count": null,
      "outputs": []
    },
    {
      "cell_type": "markdown",
      "metadata": {
        "id": "E-M6YpE2ApKB",
        "colab_type": "text"
      },
      "source": [
        "### 重複順列\n",
        "4x4x4の格子点を生成する問題は、重複順列とみなすことができます。itertoolsには重複順列ももちろんあります。(直積とも呼ばれます)"
      ]
    },
    {
      "cell_type": "code",
      "metadata": {
        "id": "NDL1PG_6ApKB",
        "colab_type": "code",
        "colab": {}
      },
      "source": [
        "for i in itertools.product([0,1,2,3],[0,1,2,3],[0,1,2,3]):\n",
        "    print(i)"
      ],
      "execution_count": null,
      "outputs": []
    },
    {
      "cell_type": "markdown",
      "metadata": {
        "id": "Uy0BJ57nApKD",
        "colab_type": "text"
      },
      "source": [
        "いくつも同じものを並べるのが面倒なので、繰り返し回数を指定します。"
      ]
    },
    {
      "cell_type": "code",
      "metadata": {
        "id": "Ll3w5cSYApKD",
        "colab_type": "code",
        "colab": {}
      },
      "source": [
        "for i in itertools.product(range(4),repeat=3):\n",
        "    print(i)"
      ],
      "execution_count": null,
      "outputs": []
    },
    {
      "cell_type": "markdown",
      "metadata": {
        "id": "HnFW3fbNApKF",
        "colab_type": "text"
      },
      "source": [
        "関数のオプション(上の例のrepeatなど)の使い方は、Jupyterのヘルプ機能を使うとさっと調べられます。(ただし英語です)"
      ]
    },
    {
      "cell_type": "code",
      "metadata": {
        "id": "Ls8Y58sWApKF",
        "colab_type": "code",
        "colab": {}
      },
      "source": [
        "?itertools.product"
      ],
      "execution_count": null,
      "outputs": []
    },
    {
      "cell_type": "markdown",
      "metadata": {
        "id": "mxPWEJTlApKK",
        "colab_type": "text"
      },
      "source": [
        "## 使用例1\n",
        "\n",
        "1次元のランダムウォークは、1歩ごとに右(+1)か左(-1)に進みます。10歩のランダムウォークの全経路は、"
      ]
    },
    {
      "cell_type": "code",
      "metadata": {
        "id": "_SNwbmR8ApKL",
        "colab_type": "code",
        "colab": {}
      },
      "source": [
        "for i in itertools.product([-1,+1],repeat=10):\n",
        "    print(i)"
      ],
      "execution_count": null,
      "outputs": []
    },
    {
      "cell_type": "markdown",
      "metadata": {
        "id": "xFHYJ69LApKY",
        "colab_type": "text"
      },
      "source": [
        "和をとると、最終的な位置がわかります。偶数歩移動すると、位置は必ず偶数になります。"
      ]
    },
    {
      "cell_type": "code",
      "metadata": {
        "id": "oaGUZIeGApKY",
        "colab_type": "code",
        "colab": {}
      },
      "source": [
        "for i in itertools.product([-1,+1],repeat=10):\n",
        "    print(sum(i))"
      ],
      "execution_count": null,
      "outputs": []
    },
    {
      "cell_type": "markdown",
      "metadata": {
        "id": "gtLc4HdOApKa",
        "colab_type": "text"
      },
      "source": [
        "これを集計すると、2項分布になることがわかります。repeat=の部分を大きくするとなめらかになりますが、20を越えると暴走するかもしれません。"
      ]
    },
    {
      "cell_type": "code",
      "metadata": {
        "id": "dQYBBfDjApKb",
        "colab_type": "code",
        "colab": {}
      },
      "source": [
        "%matplotlib inline\n",
        "import itertools\n",
        "import pylab\n",
        "\n",
        "positions = [sum(i) for i in itertools.product([-1,+1],repeat=10)]\n",
        "pylab.hist(positions, range=(-10,10), bins=20)\n"
      ],
      "execution_count": null,
      "outputs": []
    },
    {
      "cell_type": "markdown",
      "metadata": {
        "id": "j_EFm6zQApKe",
        "colab_type": "text"
      },
      "source": [
        "## 使用例2\n",
        "にせアンパンマンをたくさん作ります。join関数は、文字列のリストをひとつの文字列に合体させます。また、random.shuffle関数は、リストの順序をランダムにいれかえます。\n",
        "\n",
        "応用として、「いつだれがどこでなにをどうした」ゲームをコンピュータに実行させるという遊びかたもあります。"
      ]
    },
    {
      "cell_type": "code",
      "metadata": {
        "id": "PiIoOnyqApKe",
        "colab_type": "code",
        "colab": {}
      },
      "source": [
        "import itertools\n",
        "import random\n",
        "にせあんぱんまん = []\n",
        "for あんぱんまん in itertools.product(\"アマヌ\",\"リソンシツ\",\"パバベペ\",\"リソンシツ\",\"アマヌ\",\"リソンシツ\"):\n",
        "    にせあんぱんまん.append(\"\".join(あんぱんまん))\n",
        "random.shuffle(にせあんぱんまん)\n",
        "print(にせあんぱんまん)"
      ],
      "execution_count": null,
      "outputs": []
    },
    {
      "cell_type": "markdown",
      "metadata": {
        "id": "vD7F7SVCApKg",
        "colab_type": "text"
      },
      "source": [
        "## 宿題\n",
        "いずれか1問を作って下さい。"
      ]
    },
    {
      "cell_type": "markdown",
      "metadata": {
        "id": "r54qlfj6ApKh",
        "colab_type": "text"
      },
      "source": [
        "### 問題1\n",
        "eval(文字列)で、文字列をpythonプログラムとして評価できます。\n",
        "\n",
        "たとえば、以下の例では、文字列\"10+20\\*3\"を評価して、数値63が得られます。"
      ]
    },
    {
      "cell_type": "code",
      "metadata": {
        "id": "jU964tkmApKh",
        "colab_type": "code",
        "colab": {}
      },
      "source": [
        "x = eval(\"10+20*3\")\n",
        "x"
      ],
      "execution_count": null,
      "outputs": []
    },
    {
      "cell_type": "markdown",
      "metadata": {
        "id": "ruheY5xSApKj",
        "colab_type": "text"
      },
      "source": [
        "これを使うと、任意の文字列を数式とみなして、その値を計算できます。"
      ]
    },
    {
      "cell_type": "markdown",
      "metadata": {
        "id": "VlFrVPvmApKj",
        "colab_type": "text"
      },
      "source": [
        "さて、1〜5の数字の間に、四則演算子(\\*, /, +, -)をはさみこんで、作れる数式(文字列)をすべて列挙するプログラムを作って下さい。数字の順番を変えてはいけません。たとえば次のような式です。\n",
        "\n",
        "> 1+2-3\\*4/5\n",
        "\n",
        "それができたら、それぞれの式を`eval()`で評価し、答が20になるような数式だけをすべて表示するプログラムを作って下さい。例えば"
      ]
    },
    {
      "cell_type": "code",
      "metadata": {
        "id": "kzhsViKgApKj",
        "colab_type": "code",
        "colab": {}
      },
      "source": [
        "1+2+3*4+5"
      ],
      "execution_count": null,
      "outputs": []
    },
    {
      "cell_type": "code",
      "metadata": {
        "scrolled": true,
        "id": "rxK_c7aFApKl",
        "colab_type": "code",
        "colab": {}
      },
      "source": [
        "1+2-3+4*5"
      ],
      "execution_count": null,
      "outputs": []
    },
    {
      "cell_type": "markdown",
      "metadata": {
        "id": "RHXNfdpuApKn",
        "colab_type": "text"
      },
      "source": [
        "演算子を置かずに数字を続けて、12や34にしてはいけないことにしておきます。(すこし処理が面倒になるかもしれないので)"
      ]
    },
    {
      "cell_type": "markdown",
      "metadata": {
        "id": "EhswjicMApKo",
        "colab_type": "text"
      },
      "source": [
        "それができたら、改造して、1〜9の数字の間に、四則演算子(\\*, /, +, -)をはさみこんで、答が100になるような数式をすべて表示するプログラムを作って下さい。数字の間に演算子が入らない場合も許します。\n",
        "\n",
        "その中で、いちばん式の文字数が少ないのはどんな式でしょうか。\n",
        "\n",
        "この手の問題は、プログラムを書ける人にとっては楽勝ですが、そうでない人はまず正解を得ることができません。そして、現実の問題は、おそらくプログラムなしには解けない問題のほうが多いはずです。"
      ]
    },
    {
      "cell_type": "markdown",
      "metadata": {
        "id": "KWgkSi0IApKo",
        "colab_type": "text"
      },
      "source": [
        "### 問題2\n",
        "\n",
        "正の整数のリストを与えられたとき、数を並び替えて可能な最大数を返す関数を記述せよ。例えば、`[50, 2, 1, 9]`が与えられた時、95021が答えとなる。(https://www.shiftedup.com/2015/05/07/five-programming-problems-every-software-engineer-should-be-able-to-solve-in-less-than-1-hour より転載)\n",
        "\n",
        "(ヒント: もとのリストを、数値ではなく文字列(例えば`[\"50\", \"2\", \"1\", \"9\"]`)として与えるようにすると簡単になります)"
      ]
    },
    {
      "cell_type": "markdown",
      "metadata": {
        "id": "QrWoFrOaApKo",
        "colab_type": "text"
      },
      "source": [
        "### 問題3\n",
        "覆面算HAWAII+IDAHO+IOWA+OHIO==STATESを解け。ただし、それぞれのアルファベットは0〜9の異なる数字が入り、一番上の桁は0でない。"
      ]
    },
    {
      "cell_type": "code",
      "metadata": {
        "id": "YY9fY38YApKp",
        "colab_type": "code",
        "colab": {}
      },
      "source": [
        ""
      ],
      "execution_count": null,
      "outputs": []
    }
  ]
}
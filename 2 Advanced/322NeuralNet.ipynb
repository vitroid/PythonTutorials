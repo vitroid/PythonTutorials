{
  "nbformat": 4,
  "nbformat_minor": 0,
  "metadata": {
    "kernelspec": {
      "display_name": "Python 3",
      "language": "python",
      "name": "python3"
    },
    "language_info": {
      "codemirror_mode": {
        "name": "ipython",
        "version": 3
      },
      "file_extension": ".py",
      "mimetype": "text/x-python",
      "name": "python",
      "nbconvert_exporter": "python",
      "pygments_lexer": "ipython3",
      "version": "3.6.5"
    },
    "colab": {
      "name": "322NeuralNet.ipynb",
      "provenance": [],
      "toc_visible": true,
      "include_colab_link": true
    }
  },
  "cells": [
    {
      "cell_type": "markdown",
      "metadata": {
        "id": "view-in-github",
        "colab_type": "text"
      },
      "source": [
        "<a href=\"https://colab.research.google.com/github/vitroid/PythonTutorials/blob/2020m0/2%20Advanced/322NeuralNet.ipynb\" target=\"_parent\"><img src=\"https://colab.research.google.com/assets/colab-badge.svg\" alt=\"Open In Colab\"/></a>"
      ]
    },
    {
      "cell_type": "markdown",
      "metadata": {
        "id": "ZYyc_sdQzB_e",
        "colab_type": "text"
      },
      "source": [
        "# ニューラルネットワーク\n",
        "人工ニューラルネットワーク(ANN, 人工神経回路網)は、近年になって急激に脚光を浴びはじめた。\n",
        "\n",
        "1. **これまでの手法の限界**\n",
        "   教える(=認識する)内容が複雑になるにつれ、人によるパラメータチューニングに限界が見えてきた。\n",
        "\n",
        "2. **NNにおけるブレークスルー**\n",
        "   NN自体は1940年代から研究が始まっていたが、性能が伸び悩み、実用には向かないと考えられていた。今世紀に入りそれを打破する新しいアイディアにより、人の手助けなしに、自律的に極めて高度な学習ができるようになった。\n",
        "   \n",
        "3. **データ量の増大**\n",
        "   デジタル写真や音声データが一般化し、膨大な教師データを準備できるようになった。\n",
        "   \n",
        "4. **計算機性能の向上**\n",
        "   膨大な量のトレーニングができるようになった。\n",
        "   \n",
        "## ANNとは何か\n",
        "神経細胞(ニューロン)の信号伝達をモデル化し、それを大量に組みあわせてネットワーク化して脳の信号処理を模倣する試み。脳機能を忠実に再現しているわけではない。\n",
        "\n",
        "## 何ができるのか\n",
        "画像や音声などの、大きなデータを入力し、分類、エンコーディング、認識、タグ付け、ノイズ除去などのさまざまなタスクを行う。最新のディープニューラルネットワークを用いると、画像認識、文字認識等で人間を越える能力を発揮する。\n",
        "\n",
        "## ディープラーニングとは何か\n",
        "ディープニューラルネットワークを用いた機械学習。\n",
        "\n",
        "## ディープニューラルネットワークとは何か\n",
        "ネットワークの階層性が深いニューラルネットワークのこと。2016年現在、「非常に深い」ニューラルネットワークとは10層程度を指していたが、2018年にはすでに何十層もあるのがあたりまえになりつつある。基本的な構造はどのニューラルネットワークも同じだが、ディープニューラルネットワークを設計する場合には、各階層に役割を与える場合が多い。\n",
        "\n",
        "## もてはやされる理由\n",
        "\n",
        "1. 人力では達成不可能な複雑なタスクを実現できるようになった。\n",
        "\n",
        "2. 学習過程での計算量は莫大だが、一旦学習したあとは、かけ算と足し算の組みあわせによる、わずかな計算しか必要としない = スマホ程度の計算能力で十分利用できる。\n",
        "\n",
        "## 我々科学者の立ち位置\n",
        "1. DNNの開発に参入するのは難しい。計算機シミュレーションのために、半導体設計から始めるようなもの。よほどの勝算がなければやめておいたほうがいい。\n",
        "2. DNNで何ができ、何ができないかを理解した上で、DNNに適合するような問題設定を考える。既存のフレームワーク(TensorFlowなど)を使って自力で解くか、外部専門家に適切な要望を出して解決してもらう。\n",
        "\n",
        "## フレームワーク\n",
        "フレームワークとは、ニューラルネットワークを計算機に実装する一連の作業に必要なツール一式のこと。フレームワークが違うと、重みやバイアスといった変数をどんな形式で指定するか、バックプロパゲーションをどのように実施するか、などといった作業手順が違ってくる。\n",
        "\n",
        "適切なフレームワークを選べば、計算機の性能を最大限にひきだせる。複数のGPUを使って計算を加速したり、外部のCloudに任せてしまうことすら可能。(例えばAmazonのクラウドAWSはMXNetやTensorFlowに対応しているらしい)\n",
        "\n",
        "(July 2018)\n",
        "\n",
        "|FW name | 公開年   | 開発主体 | 言語  |github|\n",
        "|:---:|:---:|:------|:-----|:---|\n",
        "|Theano |(2010) |MontrealU |Python|[Theano/Theano](https://github.com/Theano/Theano)\n",
        "|Caffe   |2013     |UCB      |C++, Python|[BVLC/caffe](https://github.com/BVLC/caffe)\n",
        "|Chainer |2015     |PFN      |Python |[chainer/chainer](https://github.com/chainer/chainer)\n",
        "|CNTK    |2015      |Microsoft |Python|[Microsoft/CNTK](https://github.com/Microsoft/CNTK)\n",
        "|TensorFlow | 2015 | Google | C++, Python |[tensorflow/tensorflow](https://github.com/tensorflow/tensorflow)\n",
        "|neon    |2015   |Intel     |Python|[NervanaSystems/neon](https://github.com/NervanaSystems/neon)\n",
        "|PyTorch |2016   |NYU, Facebook|Python|[pytorch/pytorch](https://github.com/pytorch/pytorch)\n",
        "|NNabla  |2017   |Sony      |C++, Python   |[sony/nnabla](https://github.com/sony/nnabla)\n",
        "|Caffe2  |2017     |Facebook |C++, Python|[caffe2/caffe2](https://github.com/caffe2/caffe2)\n",
        "|MXNet   |2017     |WU, CMU  |Python, R, Julia, Go|[apache/incubator-mxnet](https://github.com/apache/incubator-mxnet)\n",
        "\n",
        "* Pythonが書ければ、どれも使える。\n",
        "* どのプロジェクトも、[github](https://github.com)でソースプログラムを公開している。\n",
        "* https://qiita.com/bonotake/items/cbd44abbcbe333f264d8 などを参考に整理\n",
        "* (2020)もうすでにだいぶ古い情報になっている。"
      ]
    },
    {
      "cell_type": "markdown",
      "metadata": {
        "id": "TWHo1p_nzB_g",
        "colab_type": "text"
      },
      "source": [
        "## TensorFlowによる実装例\n",
        "\n",
        "TensorFlowはGoogleが提供しているNNフレームワーク。次のサイトで教師あり学習の利用例をブラウザ上で試すことができる: https://playground.tensorflow.org\n",
        "\n",
        "ここでは、https://www.tensorflow.org/versions/r1.0/get_started/mnist/beginners をなぞってみる。(2020 すでにこれは動かなくなっている。変化が速い)\n",
        "\n",
        "MNISTは教師あり学習のための手書き数字のデータセットである。"
      ]
    },
    {
      "cell_type": "markdown",
      "metadata": {
        "id": "zrCFtbR75gub",
        "colab_type": "text"
      },
      "source": [
        "以下のプログラムは、 https://www.tensorflow.org/overview/?hl=ja からそのままもってきた。最近のtensorflowはkerasと組みあわせて使うのが標準的なのか。たしかに以前のtensorflowに比べて格段に書きやすい。\n",
        "\n",
        "内容の説明は https://www.tensorflow.org/tutorials/quickstart/beginner?hl=ja にある。ここでは簡単にコメントを入れる。"
      ]
    },
    {
      "cell_type": "code",
      "metadata": {
        "id": "CXhdI98k4bu7",
        "colab_type": "code",
        "colab": {}
      },
      "source": [
        "import tensorflow as tf\n",
        "\n",
        "# MNISTは数字画像認識の教師データ\n",
        "mnist = tf.keras.datasets.mnist\n",
        "\n",
        "# 訓練データと検証データを読みこむ。\n",
        "(x_train, y_train),(x_test, y_test) = mnist.load_data()\n",
        "\n",
        "# 255階調の画像データを0〜1の実数階調に変換。\n",
        "x_train, x_test = x_train / 255.0, x_test / 255.0\n",
        "x_train, y_train # 画像データ と 読み方データ"
      ],
      "execution_count": null,
      "outputs": []
    },
    {
      "cell_type": "code",
      "metadata": {
        "id": "2uWTHyPV58Dp",
        "colab_type": "code",
        "colab": {}
      },
      "source": [
        "# Neural Networkの設計図(どんな層をどんな順に通すか)\n",
        "model = tf.keras.models.Sequential([\n",
        "  tf.keras.layers.Flatten(input_shape=(28, 28)),\n",
        "  tf.keras.layers.Dense(128, activation='relu'),\n",
        "  tf.keras.layers.Dropout(0.2),\n",
        "  tf.keras.layers.Dense(10, activation='softmax')\n",
        "])\n",
        "\n",
        "# 最適化の方法の指示(シナプス結合の最適化)\n",
        "model.compile(optimizer='adam',\n",
        "              loss='sparse_categorical_crossentropy',\n",
        "              metrics=['accuracy'])\n",
        "\n",
        "# 最適化の実行\n",
        "model.fit(x_train, y_train, epochs=5)\n",
        "# 結果の評価(検証データでの評価)\n",
        "model.evaluate(x_test, y_test)"
      ],
      "execution_count": null,
      "outputs": []
    },
    {
      "cell_type": "markdown",
      "metadata": {
        "id": "w69eLBuazCAN",
        "colab_type": "text"
      },
      "source": [
        "テストデータセットでの正答率は97%。たいして工夫してないニューラルネットワークでもこれだけの性能がでるようになった。しかも後で比較する決定木やランダムフォレストに比べても格段に速い。"
      ]
    },
    {
      "cell_type": "markdown",
      "metadata": {
        "id": "QDZh5ZnHzCAz",
        "colab_type": "text"
      },
      "source": [
        "### 従来法との比較\n",
        "\n",
        "同じことを決定木で試してみよう。"
      ]
    },
    {
      "cell_type": "code",
      "metadata": {
        "id": "KyPiOw8dzCAz",
        "colab_type": "code",
        "colab": {}
      },
      "source": [
        "import keras\n",
        "from keras.datasets import mnist\n",
        "\n",
        "# the data, shuffled and split between train and test sets\n",
        "(x_train, y_train), (x_test, y_test) = mnist.load_data()"
      ],
      "execution_count": null,
      "outputs": []
    },
    {
      "cell_type": "markdown",
      "metadata": {
        "id": "Gxbuu47szCA6",
        "colab_type": "text"
      },
      "source": [
        "28x28=784次元は可視化できないので、決定木の生成はライブラリを信じるしかない。"
      ]
    },
    {
      "cell_type": "code",
      "metadata": {
        "id": "tJ9litZYzCA6",
        "colab_type": "code",
        "colab": {}
      },
      "source": [
        "import matplotlib.pyplot as plt\n",
        "from sklearn.tree import DecisionTreeClassifier\n",
        "\n",
        "# 分類器を準備する\n",
        "model = DecisionTreeClassifier()\n",
        "\n",
        "# 画像を1次元のデータ列に読みかえる。\n",
        "x_train = x_train.reshape(60000,28*28)\n",
        "x_test  = x_test.reshape(10000,28*28)\n",
        "\n",
        "#まず教師データで学習させる\n",
        "model.fit(x_train, y_train)\n",
        "\n",
        "#その結果を使ってtestデータを分類してエラーを測定する。\n",
        "ypred = model.predict(x_test)\n",
        "\n",
        "ypred, y_test"
      ],
      "execution_count": null,
      "outputs": []
    },
    {
      "cell_type": "code",
      "metadata": {
        "id": "SKBmWl94zCA8",
        "colab_type": "code",
        "colab": {}
      },
      "source": [
        "from sklearn import metrics\n",
        "print(metrics.classification_report(ypred, y_test))"
      ],
      "execution_count": null,
      "outputs": []
    },
    {
      "cell_type": "markdown",
      "metadata": {
        "id": "2finyJGhzCA-",
        "colab_type": "text"
      },
      "source": [
        "正解率88%。\n",
        "\n",
        "次はRandomForestを使ってみる。"
      ]
    },
    {
      "cell_type": "code",
      "metadata": {
        "id": "kjRkDe8lzCA-",
        "colab_type": "code",
        "colab": {}
      },
      "source": [
        "import matplotlib.pyplot as plt\n",
        "from sklearn.ensemble        import RandomForestClassifier\n",
        "\n",
        "# 分類器を準備する\n",
        "model = RandomForestClassifier()\n",
        "\n",
        "# 画像を1次元のデータ列に読みかえる。\n",
        "x_train = x_train.reshape(60000,28*28)\n",
        "x_test  = x_test.reshape(10000,28*28)\n",
        "\n",
        "#まず教師データで学習させる\n",
        "model.fit(x_train, y_train)\n",
        "\n",
        "#その結果を使ってtestデータを分類してエラーを測定する。\n",
        "ypred = model.predict(x_test)\n",
        "\n",
        "ypred, y_test"
      ],
      "execution_count": null,
      "outputs": []
    },
    {
      "cell_type": "code",
      "metadata": {
        "id": "gln_Gvk2zCBA",
        "colab_type": "code",
        "colab": {}
      },
      "source": [
        "from sklearn import metrics\n",
        "print(metrics.classification_report(ypred, y_test))"
      ],
      "execution_count": null,
      "outputs": []
    },
    {
      "cell_type": "markdown",
      "metadata": {
        "id": "SX6K2PClzCBC",
        "colab_type": "text"
      },
      "source": [
        "正答率97%。これでもかなり性能が良いとは思うが、このへんがDeep Learning以前の限界に近い。ちなみに人間の性能は95〜98%。"
      ]
    },
    {
      "cell_type": "markdown",
      "metadata": {
        "id": "MMd6-GJ0zCBC",
        "colab_type": "text"
      },
      "source": [
        "## ニューラルネットワークのレイヤーを増やして精度を高める\n",
        "\n",
        "2019年にkerasで書いたコードは、書法がかなり変わったので使えそうにない。(その代わりかなりシンプルに書けるようになっている。)"
      ]
    },
    {
      "cell_type": "code",
      "metadata": {
        "id": "bMT1rDG8-Mm3",
        "colab_type": "code",
        "colab": {}
      },
      "source": [
        "import tensorflow as tf\n",
        "\n",
        "# MNISTは数字画像認識の教師データ\n",
        "mnist = tf.keras.datasets.mnist\n",
        "\n",
        "# 訓練データと検証データを読みこむ。\n",
        "(x_train, y_train),(x_test, y_test) = mnist.load_data()\n",
        "\n",
        "# 255階調の画像データを0〜1の実数階調に変換。\n",
        "x_train, x_test = x_train / 255.0, x_test / 255.0\n",
        "\n",
        "# 画像処理用に特化したNNなので、2次元のまま操作する\n",
        "x_train = x_train.reshape(60000, 28, 28, 1)\n",
        "x_test = x_test.reshape(10000, 28, 28, 1)\n",
        "\n",
        "# Neural Networkの設計図(どんな層をどんな順に通すか)\n",
        "\n",
        "# Neural Networkのトポロジー定義\n",
        "# Kerasのサンプルから切り貼り。もともとは数字用ではないかもしれない。\n",
        "\n",
        "model = tf.keras.models.Sequential([\n",
        "  tf.keras.layers.Conv2D(32, (3, 3), activation='relu', input_shape=(28, 28, 1)),\n",
        "  tf.keras.layers.Conv2D(32, (3, 3), activation='relu'),\n",
        "  tf.keras.layers.MaxPooling2D(pool_size=(2, 2)),\n",
        "  tf.keras.layers.Dropout(0.25),\n",
        "  tf.keras.layers.Conv2D(64, (3, 3), activation='relu'),\n",
        "  tf.keras.layers.Conv2D(64, (3, 3), activation='relu'),\n",
        "  tf.keras.layers.MaxPooling2D(pool_size=(2, 2)),\n",
        "  tf.keras.layers.Dropout(0.25),\n",
        "  tf.keras.layers.Flatten(), # input_shape=(28, 28)),\n",
        "  tf.keras.layers.Dense(128, activation='relu'),\n",
        "  tf.keras.layers.Dropout(0.5),\n",
        "  tf.keras.layers.Dense(10, activation='softmax')\n",
        "])\n",
        "\n",
        "# 最適化の方法の指示(シナプス結合の最適化)\n",
        "model.compile(optimizer='adam',\n",
        "              loss='sparse_categorical_crossentropy',\n",
        "              metrics=['accuracy'])\n",
        "\n",
        "# 最適化の実行\n",
        "model.fit(x_train, y_train, epochs=5, batch_size=128)\n",
        "# 結果の評価(検証データでの評価)\n",
        "model.evaluate(x_test, y_test)"
      ],
      "execution_count": null,
      "outputs": []
    },
    {
      "cell_type": "markdown",
      "metadata": {
        "id": "ww4sTErqzCBF",
        "colab_type": "text"
      },
      "source": [
        "* Conv2Dは畳み込み層(隣のピクセルだけから次の層の値を算出する)\n",
        "* MaxPoolingはプーリング層(最大値だけを選んで粗視化)\n",
        "* Denseは全結合層\n",
        "* dropoutは結合を間引いた全結合層(ランダムに結合を間引くことで「打たれ強い」(過学習になりにくい)ネットワークを作る)\n",
        "* Flattenは平滑化層。\n",
        "\n",
        "これを見ると、このネットワークは12層の中間層を持つ深いNNであることがよみとれる。どんな層をどんな順番で組み立てるかが性能を左右するが、それ自体も機械学習で最適化させるべき対象だろう。個々の層の役割についてはNeural Networkの教科書かネットの情報を参照してほしい。\n",
        "\n",
        "データの量もかなり多い(60000個×784ピクセル)が、最適化すべきパラメータの数(33万)も多い。複雑さという点では決定木をはるかにしのぐと言える。\n",
        "\n",
        "正答率は99%を超えた。人間よりも性能がよさそうだ。\n",
        "\n",
        "なお、2019年に自分のPCで実行した時は、469 step x 50 epoch (epochはパラメータ最適化の回数)で4時間かかったと書いてあった。今年はGoogleの計算機で、1875 steps x 5 epochで12分程度なので、相当速くなっている。"
      ]
    },
    {
      "cell_type": "markdown",
      "metadata": {
        "id": "k2AvOL8_zCBK",
        "colab_type": "text"
      },
      "source": [
        "てきとうにサンプルから切り貼りした(最適化してない)DNNでも99.1%が達成された。人間をはるかに凌ぐ性能!\n",
        "\n",
        "もはや特別な知識をもたなくても、画像を認識し、人間以上の精度で識別することが可能になっている。\n",
        "\n",
        "あなたの研究で、どんな側面にこれを利用できるだろうか。"
      ]
    }
  ]
}
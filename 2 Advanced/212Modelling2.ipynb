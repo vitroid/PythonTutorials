{
 "cells": [
  {
   "cell_type": "markdown",
   "metadata": {},
   "source": [
    "##Gaussian Mixture Model\n",
    "モデルがわかっている場合には、その関数でフィットして、パラメータを決めていくだけです。ここでは、よくある例として、ピークが複数ある分布を、複数のガウシアンの足しあわせで近似する場合を考えます。\n",
    "###1次元"
   ]
  },
  {
   "cell_type": "code",
   "execution_count": null,
   "metadata": {
    "collapsed": false
   },
   "outputs": [],
   "source": [
    "from matplotlib import pyplot as plt\n",
    "import numpy as np\n",
    "#data7.txtは1カラムのデータ\n",
    "file = open(\"data7.txt\",\"r\")\n",
    "xL = []\n",
    "for line in file:\n",
    "    cols = line.split()\n",
    "    x = float(cols[0])\n",
    "    xL.append(x)\n",
    "\n",
    "xs = np.array(xL)\n",
    "X = xs[:, np.newaxis]            #列ベクトルに変換\n",
    "plt.hist(X, 30, normed=True, histtype='stepfilled', alpha=0.4)   #ヒストグラムでプロット"
   ]
  },
  {
   "cell_type": "markdown",
   "metadata": {},
   "source": [
    "3つのガウシアン分布でこの分布をフィットしてみる。(http://scikit-learn.org/stable/modules/generated/sklearn.mixture.GMM.html)"
   ]
  },
  {
   "cell_type": "code",
   "execution_count": null,
   "metadata": {
    "collapsed": false
   },
   "outputs": [],
   "source": [
    "import numpy as np\n",
    "from sklearn.mixture import GMM\n",
    "\n",
    "#3つのガウス関数でフィットする。\n",
    "model = GMM(3).fit(X)\n",
    "\n",
    "x = np.linspace(-6, 6, 1000)\n",
    "x = x[:, np.newaxis]            #列ベクトルに変換\n",
    "y = np.exp(model.score(x))      #推定された分布関数(scoreは対数を返すので、指数関数をかけている)\n",
    "plt.hist(X, 30, normed=True, histtype='stepfilled', alpha=0.4)\n",
    "plt.plot(x,y)\n"
   ]
  },
  {
   "cell_type": "markdown",
   "metadata": {},
   "source": [
    "3つの成分に分けてみます。"
   ]
  },
  {
   "cell_type": "code",
   "execution_count": null,
   "metadata": {
    "collapsed": false
   },
   "outputs": [],
   "source": [
    "import numpy as np\n",
    "from sklearn.mixture import GMM\n",
    "\n",
    "#3つのガウス関数でフィットする。\n",
    "model = GMM(3).fit(X)\n",
    "\n",
    "x = np.linspace(-6, 6, 1000)\n",
    "x = x[:, np.newaxis]            #列ベクトルに変換\n",
    "y = np.exp(model.score(x))      #推定された分布関数\n",
    "w = model.score_samples(x)[1]   #各Gaussianの\"重み\"\n",
    "y0 = w[:,0]*y\n",
    "y1 = w[:,1]*y\n",
    "y2 = w[:,2]*y\n",
    "\n",
    "plt.hist(X, 30, normed=True, histtype='stepfilled', alpha=0.4)\n",
    "plt.plot(x,y)\n",
    "plt.plot(x,y0)\n",
    "plt.plot(x,y1)\n",
    "plt.plot(x,y2)"
   ]
  },
  {
   "cell_type": "markdown",
   "metadata": {},
   "source": [
    "重みだけをプロットしてみます。"
   ]
  },
  {
   "cell_type": "code",
   "execution_count": null,
   "metadata": {
    "collapsed": false
   },
   "outputs": [],
   "source": [
    "import numpy as np\n",
    "from sklearn.mixture import GMM\n",
    "\n",
    "#3つのガウス関数でフィットする。\n",
    "model = GMM(3).fit(X)\n",
    "\n",
    "x = np.linspace(-6, 6, 1000)\n",
    "x = x[:, np.newaxis]            #列ベクトルに変換\n",
    "y = np.exp(model.score(x))      #推定された分布関数\n",
    "w = model.score_samples(x)[1]   #各Gaussianの\"重み\"\n",
    "\n",
    "plt.plot(x,w)\n"
   ]
  },
  {
   "cell_type": "markdown",
   "metadata": {},
   "source": [
    "このグラフは何を意味しているのでしょうか。\n",
    "\n",
    "実験で得られた分布が、仮に3つのガウシアンの足しあわせでできているとしましょう。\n",
    "\n",
    "それはつまりこういうことです。測定している系は3つの独立な状態のいずれかに属しています。そして、状態1では、測定値は平均値-1のまわりで広い分布をもち、状態2では平均値0で分布し、状態3では平均値3のまわりで分布します。\n",
    "\n",
    "測定する人間には、測定結果しかわからないので、系がどの状態にあるのかはわかりません。\n",
    "\n",
    "もし、測定値が1だった時、系はどの状態にあると推定するのが一番合理的でしょうか。\n",
    "\n",
    "もちろん、状態2にあると推定すべきでしょう。なぜなら、x=1では、3つの状態のなかで、状態2が一番確率が高いからです。これが賭け事だとすれば、あなたは状態2に賭けるべきなのは明らかです。\n",
    "\n",
    "上のグラフの上側エンベロープは、あなたが賭けるべき状態を示しています。あるいは、一番もっともらしい、データの分類方法を示しているとも言えます。\n",
    "\n",
    "ただし、一つ心配な点があります。この分布は、本当に3つのガウシアン関数の足しあわせで良いのでしょうか。\n",
    "\n",
    "試しに、2つのガウシアンでフィットすると、あきらかに良くないことはわかります。"
   ]
  },
  {
   "cell_type": "code",
   "execution_count": null,
   "metadata": {
    "collapsed": false
   },
   "outputs": [],
   "source": [
    "import numpy as np\n",
    "from sklearn.mixture import GMM\n",
    "\n",
    "#3つのガウス関数でフィットする。\n",
    "model = GMM(2).fit(X)\n",
    "\n",
    "x = np.linspace(-6, 6, 1000)\n",
    "x = x[:, np.newaxis]            #列ベクトルに変換\n",
    "y = np.exp(model.score(x))      #推定された分布関数(scoreは対数を返すので、指数関数をかけている)\n",
    "plt.hist(X, 30, normed=True, histtype='stepfilled', alpha=0.4)\n",
    "plt.plot(x,y)"
   ]
  },
  {
   "cell_type": "markdown",
   "metadata": {},
   "source": [
    "でも、4つのガウシアンでも問題ないようです。"
   ]
  },
  {
   "cell_type": "code",
   "execution_count": null,
   "metadata": {
    "collapsed": false,
    "scrolled": true
   },
   "outputs": [],
   "source": [
    "import numpy as np\n",
    "from sklearn.mixture import GMM\n",
    "\n",
    "#3つのガウス関数でフィットする。\n",
    "model = GMM(4).fit(X)\n",
    "\n",
    "x = np.linspace(-6, 6, 1000)\n",
    "x = x[:, np.newaxis]            #列ベクトルに変換\n",
    "y = np.exp(model.score(x))      #推定された分布関数(scoreは対数を返すので、指数関数をかけている)\n",
    "plt.hist(X, 30, normed=True, histtype='stepfilled', alpha=0.4)\n",
    "plt.plot(x,y)"
   ]
  },
  {
   "cell_type": "markdown",
   "metadata": {},
   "source": [
    "では、最適な個数はいくつでしょうか。ここでも、あらかじめ3つの状態しかないことがわかっていれば良いのですが、それがわからない場合には困ってしまいます。ガウシアンの個数を増やせば、より忠実にヒストグラムのでこぼこに追従するようになりますが、それは本当に知りたい答とは限りません。\n",
    "\n",
    "その場合も、確認用集合の考え方があてはめられるかもしれません。"
   ]
  },
  {
   "cell_type": "markdown",
   "metadata": {},
   "source": [
    "###2次元以上\n",
    "2次元以上の場合でも、ガウス分布の足しあわせに分解できます。\n",
    "\n",
    "https://github.com/scikit-learn/scikit-learn/blob/master/examples/mixture/plot_gmm_pdf.py"
   ]
  },
  {
   "cell_type": "code",
   "execution_count": null,
   "metadata": {
    "collapsed": false
   },
   "outputs": [],
   "source": [
    "%matplotlib inline\n",
    "#Modified from:\n",
    "#https://github.com/scikit-learn/scikit-learn/blob/master/examples/mixture/plot_gmm_pdf.py\n",
    "\n",
    "#サンプルデータの生成\n",
    "import numpy as np\n",
    "import matplotlib.pyplot as plt\n",
    "\n",
    "n_samples = 300\n",
    "\n",
    "# generate random sample, two components\n",
    "np.random.seed(0)\n",
    "\n",
    "# generate spherical data centered on (20, 20)\n",
    "shifted_gaussian = np.random.randn(n_samples, 2) + np.array([20, 20])\n",
    "\n",
    "# generate zero centered stretched Gaussian data\n",
    "C = np.array([[0., -0.7], [3.5, .7]])\n",
    "stretched_gaussian = np.dot(np.random.randn(n_samples, 2), C)\n",
    "\n",
    "# concatenate the two datasets into the final training set\n",
    "X_train = np.vstack([shifted_gaussian, stretched_gaussian])\n",
    "\n",
    "plt.scatter(X_train[:, 0], X_train[:, 1], .8)\n",
    "\n",
    "plt.axis('tight')\n",
    "plt.show()"
   ]
  },
  {
   "cell_type": "code",
   "execution_count": null,
   "metadata": {
    "collapsed": false
   },
   "outputs": [],
   "source": [
    "#複数の二次元ガウス関数でフィットする。\n",
    "from matplotlib.colors import LogNorm\n",
    "from sklearn import mixture\n",
    "\n",
    "# fit a Gaussian Mixture Model with two components\n",
    "clf = mixture.GMM(n_components=2, covariance_type='full')\n",
    "clf.fit(X_train)\n",
    "\n",
    "# display predicted scores by the model as a contour plot\n",
    "x = np.linspace(-20.0, 30.0)\n",
    "y = np.linspace(-20.0, 40.0)\n",
    "X, Y = np.meshgrid(x, y)\n",
    "XX = np.array([X.ravel(), Y.ravel()]).T\n",
    "Z = -clf.score_samples(XX)[0]\n",
    "Z = Z.reshape(X.shape)\n",
    "\n",
    "CS = plt.contour(X, Y, Z, norm=LogNorm(vmin=1.0, vmax=1000.0),\n",
    "                 levels=np.logspace(0, 3, 10))\n",
    "CB = plt.colorbar(CS, shrink=0.8, extend='both')\n",
    "plt.scatter(X_train[:, 0], X_train[:, 1], .8)\n",
    "\n",
    "plt.title('Negative log-likelihood predicted by a GMM')\n",
    "plt.axis('tight')\n",
    "plt.show()"
   ]
  },
  {
   "cell_type": "code",
   "execution_count": null,
   "metadata": {
    "collapsed": true
   },
   "outputs": [],
   "source": []
  }
 ],
 "metadata": {
  "kernelspec": {
   "display_name": "Python 3",
   "language": "python",
   "name": "python3"
  },
  "language_info": {
   "codemirror_mode": {
    "name": "ipython",
    "version": 3
   },
   "file_extension": ".py",
   "mimetype": "text/x-python",
   "name": "python",
   "nbconvert_exporter": "python",
   "pygments_lexer": "ipython3",
   "version": "3.4.2"
  }
 },
 "nbformat": 4,
 "nbformat_minor": 0
}

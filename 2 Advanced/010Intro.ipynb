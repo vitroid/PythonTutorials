{
 "cells": [
  {
   "cell_type": "markdown",
   "metadata": {},
   "source": [
    "# Pythonの特徴\n",
    "* 簡潔に書け、構文が明確。\n",
    "* 書き方の多様性が小さい。\n",
    "* あらかじめ準備されている変数の型が多い。\n",
    "  * リストや辞書など、よく使う型がほとんどそろっている。\n",
    "  * 整数には桁数の制限がない。\n",
    "* メモリ管理が楽。\n",
    "* イテレータ、オブジェクト指向といった新しいパラダイムにも柔軟に対応する。\n",
    "* ライブラリが極めて豊富\n",
    "\n",
    "## 簡単に書ける\n",
    "他の言語と比較してみよう。例えば1からnまでの積を計算する関数を定義し、それを使って100!を求める。"
   ]
  },
  {
   "cell_type": "markdown",
   "metadata": {},
   "source": [
    "###Fortran77"
   ]
  },
  {
   "cell_type": "code",
   "execution_count": null,
   "metadata": {
    "collapsed": true
   },
   "outputs": [],
   "source": [
    "      real*8 function factorial(n)\n",
    "      integer n\n",
    "      integer i\n",
    "      real*8 result\n",
    "      result = 1.0d0\n",
    "      do 10 i=1,n\n",
    "        result = result * i\n",
    "   10 end do\n",
    "      factorial = result\n",
    "      end\n",
    "\n",
    "      program main     \n",
    "      real*8 x\n",
    "      real*8 factorial\n",
    "      x = factorial(100)\n",
    "      write(6,*) x\n",
    "      end"
   ]
  },
  {
   "cell_type": "markdown",
   "metadata": {},
   "source": [
    "### fortran90以降"
   ]
  },
  {
   "cell_type": "code",
   "execution_count": null,
   "metadata": {
    "collapsed": true
   },
   "outputs": [],
   "source": [
    "real(kind=8) function factorial(n)\n",
    "  integer, intent(in) :: n\n",
    "  integer ::i\n",
    "  real(kind=8) :: result\n",
    "  result = 1.0d0\n",
    "  do i=1,n\n",
    "    result = result * i\n",
    "  end do\n",
    "  factorial = result\n",
    "end function factorial\n",
    "\n",
    "program main     \n",
    "  real(kind=8) :: x\n",
    "  real(kind=8) :: factorial\n",
    "  x = factorial(100)\n",
    "  write(6,*) x\n",
    "end program main"
   ]
  },
  {
   "cell_type": "markdown",
   "metadata": {},
   "source": [
    "### C言語、C++"
   ]
  },
  {
   "cell_type": "code",
   "execution_count": null,
   "metadata": {
    "collapsed": true
   },
   "outputs": [],
   "source": [
    "double factorial(int n)\n",
    "{\n",
    "  int i;\n",
    "  double result = 1.0;\n",
    "  for(i=1; i<=n; i++){\n",
    "    result *= i;\n",
    "  }\n",
    "  return result;\n",
    "}\n",
    "\n",
    "int main(int argc, char *argv[]){\n",
    "  double x;\n",
    "  x = factorial(100);\n",
    "  printf(“%lf\\n”, x);\n",
    "}"
   ]
  },
  {
   "cell_type": "markdown",
   "metadata": {},
   "source": [
    "### C言語、再帰を使った定義"
   ]
  },
  {
   "cell_type": "code",
   "execution_count": null,
   "metadata": {
    "collapsed": true
   },
   "outputs": [],
   "source": [
    "double factorial(int n)\n",
    "{\n",
    "  if (n == 0)\n",
    "    return 1;\n",
    "  return (double)n * factorial(n-1);\n",
    "}\n",
    "\n",
    "int main(int argc, char *argv[]){\n",
    "  double x;\n",
    "  x = factorial(100);\n",
    "  printf(“%lf\\n”, x);\n",
    "}"
   ]
  },
  {
   "cell_type": "markdown",
   "metadata": {},
   "source": [
    "### LISP"
   ]
  },
  {
   "cell_type": "code",
   "execution_count": null,
   "metadata": {
    "collapsed": true
   },
   "outputs": [],
   "source": [
    "(define (factorial n)\n",
    "  (cond ((= n 0) 1)\n",
    "        (t (* n (factorial (- n 1))))))\n",
    "\n",
    "(factorial 100)"
   ]
  },
  {
   "cell_type": "markdown",
   "metadata": {},
   "source": [
    "### Python"
   ]
  },
  {
   "cell_type": "code",
   "execution_count": null,
   "metadata": {
    "collapsed": false
   },
   "outputs": [],
   "source": [
    "def factorial(n):\n",
    "    result = 1\n",
    "    for i in range(1,n+1):\n",
    "        result *= i\n",
    "    return result\n",
    "\n",
    "print(factorial(100))"
   ]
  },
  {
   "cell_type": "markdown",
   "metadata": {},
   "source": [
    "### Python, 再帰による定義"
   ]
  },
  {
   "cell_type": "code",
   "execution_count": 1,
   "metadata": {
    "collapsed": false
   },
   "outputs": [
    {
     "name": "stdout",
     "output_type": "stream",
     "text": [
      "93326215443944152681699238856266700490715968264381621468592963895217599993229915608941463976156518286253697920827223758251185210916864000000000000000000000000\n"
     ]
    }
   ],
   "source": [
    "def factorial(n):\n",
    "    if n == 0: return 1\n",
    "    return n*factorial(n-1)\n",
    "\n",
    "print(factorial(100))"
   ]
  },
  {
   "cell_type": "markdown",
   "metadata": {},
   "source": [
    "## Pythonとよく比較されるスクリプト言語との比較\n",
    "ここまで書いて、言語を比較できるサイトを見付けた: http://rosettacode.org/wiki/Factorial\n",
    "\n",
    "### Perl"
   ]
  },
  {
   "cell_type": "code",
   "execution_count": null,
   "metadata": {
    "collapsed": true
   },
   "outputs": [],
   "source": [
    "sub factorial\n",
    "{\n",
    "  my $n = shift;\n",
    "  my $result = 1;\n",
    "  for (my $i = 1; $i <= $n; ++$i)\n",
    "  {\n",
    "    $result *= $i;\n",
    "  };\n",
    "  $result;\n",
    "}\n",
    "\n",
    "print factorial(100), “\\n”;"
   ]
  },
  {
   "cell_type": "markdown",
   "metadata": {},
   "source": [
    "### Ruby"
   ]
  },
  {
   "cell_type": "code",
   "execution_count": null,
   "metadata": {
    "collapsed": true
   },
   "outputs": [],
   "source": [
    "def factorial(n)\n",
    "  (2 .. n - 1).each {|i| n *= i}\n",
    "  n\n",
    "end\n",
    "\n",
    "puts factorial(100) #??"
   ]
  },
  {
   "cell_type": "markdown",
   "metadata": {},
   "source": [
    "なお、pythonとRubyは多倍長整数が使えるので、答は"
   ]
  },
  {
   "cell_type": "code",
   "execution_count": null,
   "metadata": {
    "collapsed": true
   },
   "outputs": [],
   "source": [
    "93326215443944152681699238856266700490715968264381621468592963895217599993229915608941463976156518286253697920827223758251185210916864000000000000000000000000"
   ]
  },
  {
   "cell_type": "markdown",
   "metadata": {},
   "source": [
    "となる。\n",
    "\n",
    "同じことを書くのに、言語によって必要な行数がかなり違う。また、言語特有の謎の風習(“\\n”とかargcとか(6,\\*)とかreal\\*8とか|i|とか$iとか)はいちいちユーザーを困惑させる。C言語系の言語では”;”と”{}”がプログラムを読みにくくする。C言語はこれらの記号のおかげで、プログラムを改行せずに書くことができるのだが、実際誰もそんなことをしない(読みにくくなる)ので、これらの記号は無駄である。"
   ]
  },
  {
   "cell_type": "code",
   "execution_count": null,
   "metadata": {
    "collapsed": true
   },
   "outputs": [],
   "source": [
    "double factorial(int n){int i;double \n",
    "                        result = 1.0;for(i=1 i<=n; i++){result *= i;}return\n",
    "result;}int\n",
    "main(int argc, char *argv[]){\n",
    "    double x;x = \n",
    "    factorial(100); \n",
    "                                        printf(“%lf\\n”, x);}"
   ]
  },
  {
   "cell_type": "markdown",
   "metadata": {},
   "source": [
    "Pythonistに言わせれば、Cはこれで何も問題ない。(もちろんこれでも動く)"
   ]
  },
  {
   "cell_type": "code",
   "execution_count": null,
   "metadata": {
    "collapsed": true
   },
   "outputs": [],
   "source": [
    "double factorial(int n)                             {\n",
    "    int i                                           ;\n",
    "    double result = 1.0                             ;\n",
    "    for(i=1; i<=n; i++)                             {\n",
    "        result *= i                                 ;}\n",
    "    return result                                   ;}\n",
    "\n",
    "int main(int argc, char *argv[])                    {\n",
    "    double x                                        ;\n",
    "    x = factorial(100)                              ;\n",
    "    printf(“%lf\\n”, x)                              ;}"
   ]
  },
  {
   "cell_type": "markdown",
   "metadata": {},
   "source": [
    "## 書き方の多様性が小さい\n",
    "おなじことをするのに、書く方法がいろいろあることは、プログラマー自身にとっては便利な面もある一方、他人のコードを読む場合には苦労させられる。プログラムはできるだけ一見して誰でも理解できる形が望ましい。\n",
    "\n",
    "例えばPerl言語では条件分岐にifとunlessとswitchがあり、繰り返し構文にはforとwhileとforeachとuntilとdo whileがあるが、Pythonには前者はifのみ、後者はforとwhileしかない。\n",
    "\n",
    "for構文は、あらかじめ繰り返し回数がわかっている場合に用い、while構文は繰り返しの途中で中断するかどうかを随時判断する。\n",
    "\n",
    "##あらかじめ準備されている変数の型が多い\n",
    "Fortran77には4つの型しかなかった。(論理型、整数型、実数型、文字列型)その後の多くの言語では、変数の型を自分で定義できるものの、高速に動作するように、型を安全に定義するのは多少の知識とノウハウが必要である。Pythonでは、上記4つの型はもとより、プログラムでよく使う新しい型(集合、辞書、複素数、多倍長整数など)があらかじめ定義されている。\n",
    "\n",
    "## メモリ管理が楽\n",
    "古典的な言語(Fortran, C, C++)では、可変長の配列を使う場合にはメモリの確保と開放を明示的に行わなければならない。開放すべきメモリを開放しなかった場合、そのメモリはプログラムが終了するまで占有されたままになり、いわゆるメモリリーク(不必要にメモリを占有しつづけることによってプログラムが遅くなったり、メモリを食いつくしプログラムが異常終了する)が生じる。やっかいなのは、プログラムの一部分を見ただけでは、その変数が開放を必要とする変数かどうかがわからないことである。動的に確保されるメモリであっても、スタック変数の場合は開放が要らないなど、メモリの利用方法を熟知していないと、安全なプログラムが書けない。\n",
    "\n",
    "PythonやPerlなどのスクリプト言語では、メモリ管理はユーザーの仕事ではない。メモリは必要に応じて自動的に確保され、使われなくなったメモリは自動的に開放される。ユーザーはアルゴリズムの開発に専念できる。\n",
    "\n",
    "以上のPython言語の特徴のため、Pythonのプログラムは非常に簡潔になり、プログラマーはアルゴリズムの本質的な部分だけに意識を集中できる。\n"
   ]
  },
  {
   "cell_type": "code",
   "execution_count": null,
   "metadata": {
    "collapsed": true
   },
   "outputs": [],
   "source": []
  }
 ],
 "metadata": {
  "kernelspec": {
   "display_name": "Python 3",
   "language": "python",
   "name": "python3"
  },
  "language_info": {
   "codemirror_mode": {
    "name": "ipython",
    "version": 3
   },
   "file_extension": ".py",
   "mimetype": "text/x-python",
   "name": "python",
   "nbconvert_exporter": "python",
   "pygments_lexer": "ipython3",
   "version": "3.5.1"
  }
 },
 "nbformat": 4,
 "nbformat_minor": 0
}

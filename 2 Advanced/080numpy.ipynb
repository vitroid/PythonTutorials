{
 "cells": [
  {
   "cell_type": "markdown",
   "metadata": {},
   "source": [
    "#numpyを使う\n",
    "前節では、行列の基本的な演算をおこなう関数を一通り準備しました。Numpyは行列計算を含む、高度な数値計算を高速に行うライブラリで、これを使うと、行列計算の関数は自作する必要がまったくなくなります。(とはいえ、スキルを上げるためには、自分で書けたほうが良いです)"
   ]
  },
  {
   "cell_type": "markdown",
   "metadata": {
    "collapsed": true
   },
   "source": [
    "one, two, threeの問題"
   ]
  },
  {
   "cell_type": "code",
   "execution_count": null,
   "metadata": {
    "collapsed": true
   },
   "outputs": [],
   "source": []
  }
 ],
 "metadata": {
  "kernelspec": {
   "display_name": "Python 3",
   "language": "python",
   "name": "python3"
  },
  "language_info": {
   "codemirror_mode": {
    "name": "ipython",
    "version": 3
   },
   "file_extension": ".py",
   "mimetype": "text/x-python",
   "name": "python",
   "nbconvert_exporter": "python",
   "pygments_lexer": "ipython3",
   "version": "3.4.2"
  }
 },
 "nbformat": 4,
 "nbformat_minor": 0
}

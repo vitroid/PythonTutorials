{
 "cells": [
  {
   "cell_type": "markdown",
   "metadata": {},
   "source": [
    "https://towardsdatascience.com/web-scraping-html-tables-with-python-c9baba21059\n"
   ]
  },
  {
   "cell_type": "code",
   "execution_count": null,
   "metadata": {},
   "outputs": [],
   "source": [
    "import requests\n",
    "import lxml.html as lh\n",
    "import pandas as pd\n",
    "\n",
    "url='https://www.data.jma.go.jp/obd/stats/data/mdrr/pre_rct/alltable/preall00.html'\n",
    "#Create a handle, page, to handle the contents of the website\n",
    "page = requests.get(url)\n",
    "\n",
    "#Store the contents of the website under doc\n",
    "doc = lh.fromstring(page.content)\n",
    "\n",
    "#Parse data that are stored between <tr>..</tr> of HTML\n",
    "tr_elements = doc.xpath('//tr')\n",
    "\n"
   ]
  },
  {
   "cell_type": "code",
   "execution_count": 18,
   "metadata": {},
   "outputs": [
    {
     "name": "stdout",
     "output_type": "stream",
     "text": [
      "0 愛知県\n",
      "1 名古屋市千種区\n",
      "2 名古屋（ナゴヤ）*\n",
      "3 \n",
      "4 4.5\n",
      "5 5.0 ]\n",
      "6 16.5\n",
      "7 16.5 ]\n",
      "8 17.5\n",
      "9 17.5 ]\n",
      "10 17.5\n",
      "11 17.5 ]\n",
      "12 17.5\n",
      "13 17.5 ]\n",
      "14 23.0\n",
      "15 23.0 ]\n",
      "16 48.5\n",
      "17 48.5 ]\n",
      "18 \n"
     ]
    }
   ],
   "source": [
    "for row in tr_elements:\n",
    "    if len(row) > 2:\n",
    "        city = row[1].text_content()\n",
    "        if city.find(\"名古屋\") >= 0:\n",
    "            rain = float(row[4].text_content())\n"
   ]
  },
  {
   "cell_type": "code",
   "execution_count": null,
   "metadata": {},
   "outputs": [],
   "source": []
  }
 ],
 "metadata": {
  "kernelspec": {
   "display_name": "Python 3",
   "language": "python",
   "name": "python3"
  },
  "language_info": {
   "codemirror_mode": {
    "name": "ipython",
    "version": 3
   },
   "file_extension": ".py",
   "mimetype": "text/x-python",
   "name": "python",
   "nbconvert_exporter": "python",
   "pygments_lexer": "ipython3",
   "version": "3.6.5"
  }
 },
 "nbformat": 4,
 "nbformat_minor": 2
}

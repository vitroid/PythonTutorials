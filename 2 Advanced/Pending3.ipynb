{
 "cells": [
  {
   "cell_type": "markdown",
   "metadata": {},
   "source": [
    "# WinPythonへのパッケージ追加\n",
    "* 今どれぐらい入っているのか\n",
    "    * https://github.com/winpython/winpython/wiki/PackageIndex_34\n",
    "* ほかにどれぐらいあるのか\n",
    "    * pip search e\n",
    "* 追加方法\n",
    "    * WinPython\n",
    "    * Mac Brew\n",
    "* 紹介したいもの\n",
    "    * VPython (to Mac)\n",
    "    * NetworkX\n",
    "    * Graph系のパッケージ\n",
    "    * "
   ]
  },
  {
   "cell_type": "code",
   "execution_count": null,
   "metadata": {
    "collapsed": true
   },
   "outputs": [],
   "source": []
  }
 ],
 "metadata": {
  "kernelspec": {
   "display_name": "Python 3",
   "language": "python",
   "name": "python3"
  },
  "language_info": {
   "codemirror_mode": {
    "name": "ipython",
    "version": 3
   },
   "file_extension": ".py",
   "mimetype": "text/x-python",
   "name": "python",
   "nbconvert_exporter": "python",
   "pygments_lexer": "ipython3",
   "version": "3.5.1"
  }
 },
 "nbformat": 4,
 "nbformat_minor": 0
}

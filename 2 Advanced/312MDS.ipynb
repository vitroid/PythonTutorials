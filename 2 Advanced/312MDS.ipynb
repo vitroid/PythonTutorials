{
 "cells": [
  {
   "cell_type": "markdown",
   "metadata": {},
   "source": [
    "# MDS=Multidimensional Scaling"
   ]
  },
  {
   "cell_type": "markdown",
   "metadata": {},
   "source": [
    "## 多次元構造の次元削減と可視化\n",
    "個々のinherent structure は3N次元の配置空間内の点であり、それらの類似度から、近い構造同士を結びつけてネットワークを作っても、画面に表示することも直感にたよることもできない。何らかの関係性を見付けだすか、より低い次元に落とさなければ、人間は理解できない。\n",
    "\n",
    "高次元のデータを低次元に射影することも、多変量データを少数のパラメータで表現するので、一種のモデリングと言える。\n",
    "\n",
    "座標はわからないが、相対距離の大小関係だけがわかるような点の集合がある。これらを、与えられた次元の空間に、 相対位置関係を保ちながら点を埋めこむことを考える。\n",
    "\n",
    "例えば、平面上の4つの点の相対距離だけがわかっているとしよう。この関係を再現するように点を3次元空間に配置すると、並進と回転の自由度を除けば点の場所は一意に決まり、点は平面上に位置する。つまり、うめこまれた空間の次元に関係なく、点は本来の次元を回復する。もし埋めこまれる空間のほうが、次元が小さい場合には、相対位置関係を完全に保ったまま埋めこむことはできず、歪みを生じる。次元を小さくしていきながら、歪みの大きさを監視すれば、点の配置に内在する実効的な空間の次元の大きさがわかるとともに、それを近似的に低次元で表示することができる。このような手法を多次元尺度法(multi-dimensional scaling, MDS)と呼ぶ。\n",
    "\n",
    "### アルゴリズム(多次元尺度法)\n",
    "\n",
    "相対位置情報$\\delta_{ij}$を維持するような、低次元(これを埋め込み空間と呼ぶ)の点$x_i$の配置を考える。\n",
    "\n",
    "1. 埋め込み空間に、ランダムに点$x_i$を配置する。\n",
    "2. 点$x_i$と$x_j$の間の距離が$\\delta_{ij}$に近づくように、ちょっとだけ点$x_i$と$x_j$を移動する。\n",
    "3. すべての点の対$(i,j)$について2の作業を繰り返す。"
   ]
  },
  {
   "cell_type": "markdown",
   "metadata": {},
   "source": [
    "## 実装例1\n",
    "\n",
    "アメリカの州都の間の距離をもとに、州都の位置を予測してみる。\n",
    "\n",
    "states.txtにはすべての州都の経度緯度情報があるので、これをそのままプロットすればもちろんそのまま地図を作れる。"
   ]
  },
  {
   "cell_type": "code",
   "execution_count": null,
   "metadata": {},
   "outputs": [],
   "source": [
    "# ちょっと読みこみが面倒臭い\n",
    "\n",
    "#states is a dict of dicts\n",
    "states = dict()\n",
    "\n",
    "for line in open(\"states.txt\").readlines():\n",
    "    \n",
    "    # 1文字目が#の場合は無視\n",
    "    if line[0] == \"#\":\n",
    "        continue \n",
    "\n",
    "    cols = line.split(\": \")\n",
    "    \n",
    "    # 2カラムない場合も無視\n",
    "    if len(cols) < 2:\n",
    "        continue\n",
    "    \n",
    "    if cols[0] == \"Name\":\n",
    "        state = cols[1]\n",
    "        states[state] = dict()\n",
    "    else:\n",
    "        states[state][cols[0]] = cols[1]\n",
    "    \n",
    "print(states)"
   ]
  },
  {
   "cell_type": "code",
   "execution_count": null,
   "metadata": {},
   "outputs": [],
   "source": [
    "import numpy as np\n",
    "\n",
    "# 州の名前と、経緯度だけのシンプルな表にする\n",
    "statename = []\n",
    "statepos  = []\n",
    "for state in states:\n",
    "    statename.append(state[:-1])\n",
    "    statepos.append((float(states[state][\"Capital Longitude\"]), float(states[state][\"Capital Latitude\"])))\n",
    "\n",
    "statepos = np.array(statepos)"
   ]
  },
  {
   "cell_type": "code",
   "execution_count": null,
   "metadata": {},
   "outputs": [],
   "source": [
    "# とりあえずプロットしてみる\n",
    "from matplotlib import pyplot as plt\n",
    "\n",
    "plt.gca().set_aspect('equal', adjustable='box')\n",
    "plt.scatter(statepos[:,0], statepos[:,1])"
   ]
  },
  {
   "cell_type": "markdown",
   "metadata": {},
   "source": [
    "アラスカとハワイが遠く離れていることがわかる。これらの地図上での距離を表にする。"
   ]
  },
  {
   "cell_type": "code",
   "execution_count": null,
   "metadata": {},
   "outputs": [],
   "source": [
    "from scipy.spatial.distance import cdist\n",
    "\n",
    "# cdist()関数は座標から相対距離の表を生成する。\n",
    "table = cdist(statepos, statepos, metric=\"euclidean\")\n",
    "table"
   ]
  },
  {
   "cell_type": "markdown",
   "metadata": {},
   "source": [
    "manifold(多様体学習)の手法の中にMDSが含まれている。"
   ]
  },
  {
   "cell_type": "code",
   "execution_count": null,
   "metadata": {},
   "outputs": [],
   "source": [
    "from sklearn import manifold\n",
    "\n",
    "# マシンを初期化する\n",
    "mds = manifold.MDS(n_components=2, dissimilarity=\"precomputed\", random_state=60, metric=True)\n",
    "\n",
    "# データを与え、MDSを実行する\n",
    "estim = mds.fit_transform(table)"
   ]
  },
  {
   "cell_type": "code",
   "execution_count": null,
   "metadata": {},
   "outputs": [],
   "source": [
    "%matplotlib inline\n",
    "from matplotlib import pyplot as plt\n",
    "\n",
    "plt.gca().set_aspect('equal', adjustable='box')\n",
    "# 得られた点雲をプロットする。\n",
    "plt.scatter(estim[:,0], estim[:,1])"
   ]
  },
  {
   "cell_type": "markdown",
   "metadata": {},
   "source": [
    "相対座標しか与えていないので、全体の向きが変わったり、左右反転することがある。しかし、全体の形や大きさは保っているのがわかる。\n",
    "\n",
    "この例の場合、予測すべき座標の数(50x2)に比べて、与えられた距離情報(50x49/2)のほうが圧倒的に多いので、非常に精密に位置を予測できる。"
   ]
  },
  {
   "cell_type": "code",
   "execution_count": null,
   "metadata": {},
   "outputs": [],
   "source": [
    "# 回転と並進で重ねる\n",
    "\n",
    "from math import sin,cos,pi\n",
    "\n",
    "# posの重心を求めておく。\n",
    "com = [np.average(statepos[:,0]), np.average(statepos[:,1])]\n",
    "\n",
    "theta = 77*pi/180\n",
    "rotmat = np.array([[cos(theta),-sin(theta)],[sin(theta),cos(theta)]])\n",
    "\n",
    "# estimのほうを回転する\n",
    "aligned = estim @ rotmat + com\n",
    "\n",
    "plt.gca().set_aspect('equal', adjustable='box')\n",
    "# 得られた点雲をプロットする。\n",
    "plt.scatter(aligned[:,0], aligned[:,1])\n",
    "plt.scatter(statepos[:,0], statepos[:,1])\n"
   ]
  },
  {
   "cell_type": "markdown",
   "metadata": {},
   "source": [
    "試しに、相対距離tableの要素の1/3を消してしまうと?"
   ]
  },
  {
   "cell_type": "code",
   "execution_count": null,
   "metadata": {},
   "outputs": [],
   "source": [
    "# 自作のMDS。自分で書いてもこれぐらいの長さで書ける。\n",
    "\n",
    "def mds(p,d, nloop=300):\n",
    "\n",
    "    # 点の数\n",
    "    N = p.shape[0]\n",
    "\n",
    "    E = 0.0\n",
    "    # 繰り返し\n",
    "    for k in range(nloop):\n",
    "        \n",
    "        # 異なる2つの粒子について\n",
    "        for i in range(N):\n",
    "            for j in range(i+1,N):\n",
    "\n",
    "                # 未定義値以外なら、\n",
    "                if d[i,j] != 0:\n",
    "                    \n",
    "                    # 相対位置\n",
    "                    dp = p[j] - p[i]\n",
    "                    # 相対距離\n",
    "                    L  = (dp@dp)**0.5\n",
    "                    \n",
    "                    # 本来の距離との差\n",
    "                    delta = L - d[i,j]\n",
    "                    E += delta\n",
    "                    \n",
    "                    # 相対距離が遠すぎる場合は縮め、近すぎる場合は遠ざける。\n",
    "                    p[j] -= delta*0.3*dp/L\n",
    "                    p[i] += delta*0.3*dp/L\n",
    "    # 誤差を返す\n",
    "    return E\n",
    "\n",
    "# tableと同じshapeで内容が0〜1の乱数が入ったarrayを生成する。\n",
    "noise = np.random.random(table.shape)\n",
    "# 対称化する\n",
    "noise = (noise + noise.T)/2\n",
    "\n",
    "# tableのうち、noiseの値が1/2よりも小さい要素を0 (未定義値)にする。\n",
    "thanos = table.copy()\n",
    "thanos[noise<1/2] = 0\n",
    "\n",
    "# 初期配置\n",
    "estim2 = np.random.random(statepos.shape)\n",
    "# 自作MDS\n",
    "E = mds(estim2, thanos)\n",
    "print(\"Error:\",E)\n",
    "\n",
    "plt.gca().set_aspect('equal', adjustable='box')\n",
    "# 得られた点雲をプロットする。\n",
    "plt.scatter(estim2[:,0], estim2[:,1])"
   ]
  },
  {
   "cell_type": "markdown",
   "metadata": {},
   "source": [
    "相対距離のデータの1/2が失われても、だいたい形は同じになっているようだ。\n",
    "\n",
    "ずれを調べるために、特異値分解を使って回転行列を求める。"
   ]
  },
  {
   "cell_type": "code",
   "execution_count": null,
   "metadata": {},
   "outputs": [],
   "source": [
    "# 重心を原点に\n",
    "com_e2 = np.mean(estim2, axis=0)\n",
    "estim2 -= com_e2\n",
    "\n",
    "# もとデータのほうも重心を0にする\n",
    "pos = statepos - np.mean(statepos, axis=0)\n",
    "\n",
    "# 特異値分解 http://nghiaho.com/?page_id=671\n",
    "H = pos.T @ estim2\n",
    "u,s,vh = np.linalg.svd(H)\n",
    "# 回転行列が得られる\n",
    "R = vh.T@u\n",
    "\n",
    "plt.gca().set_aspect('equal', adjustable='box')\n",
    "# 得られた点雲をプロットする。\n",
    "plt.scatter((estim2@R)[:,0], (estim2@R)[:,1])\n",
    "plt.scatter(pos[:,0], pos[:,1])"
   ]
  },
  {
   "cell_type": "markdown",
   "metadata": {},
   "source": [
    "思いきって7割を消してみる。さすがに形を維持できなくなってくる。"
   ]
  },
  {
   "cell_type": "code",
   "execution_count": null,
   "metadata": {},
   "outputs": [],
   "source": [
    "# tableのうち、noiseの値が7/10よりも小さい要素を0 (未定義値)にする。\n",
    "thanos = table.copy()\n",
    "thanos[noise<7/10] = 0\n",
    "\n",
    "# 初期配置\n",
    "estim2 = np.random.random(statepos.shape)\n",
    "# 自作MDS\n",
    "E = mds(estim2, thanos)\n",
    "print(\"Error:\",E)\n",
    "\n",
    "# 重心を原点に\n",
    "com_e2 = np.mean(estim2, axis=0)\n",
    "estim2 -= com_e2\n",
    "\n",
    "# もとデータのほうも重心を0にする\n",
    "pos = statepos - np.mean(statepos, axis=0)\n",
    "\n",
    "# 特異値分解 http://nghiaho.com/?page_id=671\n",
    "H = pos.T @ estim2\n",
    "u,s,vh = np.linalg.svd(H)\n",
    "# 回転行列が得られる\n",
    "R = vh.T@u\n",
    "\n",
    "plt.gca().set_aspect('equal', adjustable='box')\n",
    "# 得られた点雲をプロットする。\n",
    "plt.scatter((estim2@R)[:,0], (estim2@R)[:,1])\n",
    "plt.scatter(pos[:,0], pos[:,1])"
   ]
  },
  {
   "cell_type": "markdown",
   "metadata": {},
   "source": [
    "## 実装例2: 地下鉄料金表から路線図を推定する\n",
    "[ここ](https://subway.osakametro.co.jp/guide/fare/fare/price.php)に大阪メトロの料金表がある。\n",
    "\n",
    "https://subway.osakametro.co.jp/guide/libray/kusuuhyou/kusuuhyou20180401.pdf\n",
    "\n",
    "地下鉄料金は駅間距離によって1区から5区に分類されている。この情報には、路線がどうつながっているかという情報は含まれていないが、各駅の間の距離は料金から逆に推定できる。\n",
    "\n",
    "いま、この料金表しか情報がない時に、地下鉄の路線図(あるいは大阪の地図)を復元できるだろうか。\n",
    "\n",
    "地下鉄路線図の場合には、埋め込み次元(鉄道が走っている地表)は2次元であることが事前にわかっているが、一般にはわからない場合もある。路線図を例えば一次元に間違ってうめこんでしまった場合、どうやってもまともな解は得られない。(津山線ならなんとかなる)\n",
    "\n",
    "また、この問題の場合、手元にあるのは駅間の距離ではなく、区数の表だけなので、どれだけがんばっても厳密に$\\delta_{ij}$を再現するような布置$\\{x\\}$は見付からない。\n",
    "\n",
    "そこで、相対距離関係そのものを再現する代わりに、相対距離の*順位*を再現するように布置しよう、という考え方が生まれた。距離(計量)に依存しないので、非計量多次元尺度法(NMDS)と呼ばれる。\n",
    "\n",
    "こちらも、手順はMDSの場合とさほど変わらない。\n",
    "\n",
    "### アルゴリズム(非計量多次元尺度法)\n",
    "\n",
    "相対位置に関する順位情報$\\delta_{ij}$ (近いものほど小さい数になる)を維持するような、低次元(これを埋め込み空間と呼ぶ)の点$x_i$の配置を考える。\n",
    "\n",
    "1. 埋め込み空間に、ランダムに点$x_i$を配置する。\n",
    "2. 点$x_i$と$x_j$の間の距離の順位関係が$\\delta_{ij}$に近づくように、ちょっとだけ点$x_i$と$x_j$を移動する。\n",
    "3. すべての点の対$(i,j)$について2の作業を繰り返す。\n"
   ]
  },
  {
   "cell_type": "code",
   "execution_count": null,
   "metadata": {},
   "outputs": [],
   "source": [
    "import numpy as np\n",
    "\n",
    "table = np.loadtxt(\"blocks.txt\")\n",
    "stations = open(\"stations.txt\").readlines()\n",
    "stations"
   ]
  },
  {
   "cell_type": "markdown",
   "metadata": {},
   "source": [
    "表の形を整形する(上下反転し、対称化する)"
   ]
  },
  {
   "cell_type": "code",
   "execution_count": null,
   "metadata": {},
   "outputs": [],
   "source": [
    "table = table[::-1].copy()\n",
    "table += table.T\n",
    "table"
   ]
  },
  {
   "cell_type": "code",
   "execution_count": null,
   "metadata": {},
   "outputs": [],
   "source": [
    "len(stations)"
   ]
  },
  {
   "cell_type": "code",
   "execution_count": null,
   "metadata": {},
   "outputs": [],
   "source": [
    "from sklearn import manifold\n",
    "\n",
    "# 非計量多次元尺度法を使う場合にはmetric=Falseを指定するが、残念ながらなぜかそれではちゃんと動かない。\n",
    "mds = manifold.MDS(n_components=2, dissimilarity=\"precomputed\", max_iter=1000, n_init=100, metric=True)\n",
    "pos = mds.fit_transform(table)\n"
   ]
  },
  {
   "cell_type": "code",
   "execution_count": null,
   "metadata": {},
   "outputs": [],
   "source": [
    "pos"
   ]
  },
  {
   "cell_type": "code",
   "execution_count": null,
   "metadata": {},
   "outputs": [],
   "source": [
    "%matplotlib inline\n",
    "from matplotlib import pyplot as plt\n",
    "from matplotlib.font_manager import FontProperties, FontManager\n",
    "\n",
    "plt.scatter(pos[:,0], pos[:,1])\n",
    "\n",
    "#fm = FontManager()\n",
    "#print(fm.findfont('MS Gothic'))\n",
    "#fp = FontProperties(fm.findfont('MS Gothic'), size=14)\n",
    "#for label, x, y in zip(stations, pos[:, 0], pos[:, 1]):\n",
    "#    plt.annotate(\n",
    "#        label,\n",
    "#        xy = (x, y), xytext = (60, 10), fontproperties=fp,\n",
    "#        textcoords = 'offset points', ha = 'right', va = 'bottom',\n",
    "#        bbox = dict(boxstyle = 'round,pad=0.5', fc = 'yellow', alpha = 0.5),\n",
    "#        arrowprops = dict(arrowstyle = '->', connectionstyle = 'arc3,rad=0')\n",
    "#    )"
   ]
  },
  {
   "cell_type": "markdown",
   "metadata": {},
   "source": [
    "大阪の人にとっては見慣れた地下鉄路線図のような形が表示された。残念ながら、matplotlibでの日本語表示がうまくいかないため、駅名との対応がよくわからない。\n",
    "\n",
    "路線図の形から、料金表が現在のものではなく、けっこう古い情報であることが推測できる。\n",
    "\n",
    "![現在の路線図](http://nansan.com/modules/images/download/rosenzu700.jpg)"
   ]
  },
  {
   "cell_type": "markdown",
   "metadata": {},
   "source": [
    "## これは何に使えるだろうか\n",
    "\n",
    "多次元尺度法は、一見何の関連性があるのかわからない多数の情報から、その構造を見付けだすのに使える。例えば、何かてきとうな尺度をx,y軸にとって情報をプロットすれば分布を描くことはできるが、いろんな情報が重なりあってしまうかもしれない。多次元尺度法により、適切な埋め込み空間の次元を見付けだせれば、誤って低次元でプロットしてしまい、異なる情報を重ねてしまうのを避けられる。\n",
    "\n",
    "逆に、非常に複雑なからみあいを持つ情報を、(多少の歪みに目をつぶり)2〜3次元に埋め込むことで、高次元の情報を可視化することができる。\n",
    "\n",
    "細胞の中や炎の中で起こる化学反応ネットワークは非常に複雑な構造を持つ。\n",
    "\n",
    "分子集合体の構造変化の経路をつないだネットワークも非常に複雑な構造を持つ。\n",
    "\n",
    "全体の構造を知らずに、個々の反応だけを見ていたのでは、大局的な理解ができない。"
   ]
  },
  {
   "cell_type": "markdown",
   "metadata": {},
   "source": [
    "## 宿題\n",
    "大江戸線の停車駅の駅間のへだたりの表から、大江戸線の路線図を推定せよ。可能なら図の上に駅名を示せ。(ネットでさがす)"
   ]
  },
  {
   "cell_type": "code",
   "execution_count": null,
   "metadata": {},
   "outputs": [],
   "source": [
    "table = np.array([[ 0.,  1.,  2.,  3.,  4.,  5.,  6.,  7.,  8.,  9., 10., 11., 12.,\n",
    "        13., 14., 13., 12., 11., 10.,  9.,  8.,  7.,  6.,  5.,  4.,  3.,\n",
    "         2.,  1.,  2.,  3.,  4.,  5.,  6.,  7.,  8.,  9., 10., 11.],\n",
    "       [ 1.,  0.,  1.,  2.,  3.,  4.,  5.,  6.,  7.,  8.,  9., 10., 11.,\n",
    "        12., 13., 14., 13., 12., 11., 10.,  9.,  8.,  7.,  6.,  5.,  4.,\n",
    "         3.,  2.,  3.,  4.,  5.,  6.,  7.,  8.,  9., 10., 11., 12.],\n",
    "       [ 2.,  1.,  0.,  1.,  2.,  3.,  4.,  5.,  6.,  7.,  8.,  9., 10.,\n",
    "        11., 12., 13., 14., 13., 12., 11., 10.,  9.,  8.,  7.,  6.,  5.,\n",
    "         4.,  3.,  4.,  5.,  6.,  7.,  8.,  9., 10., 11., 12., 13.],\n",
    "       [ 3.,  2.,  1.,  0.,  1.,  2.,  3.,  4.,  5.,  6.,  7.,  8.,  9.,\n",
    "        10., 11., 12., 13., 14., 13., 12., 11., 10.,  9.,  8.,  7.,  6.,\n",
    "         5.,  4.,  5.,  6.,  7.,  8.,  9., 10., 11., 12., 13., 14.],\n",
    "       [ 4.,  3.,  2.,  1.,  0.,  1.,  2.,  3.,  4.,  5.,  6.,  7.,  8.,\n",
    "         9., 10., 11., 12., 13., 14., 13., 12., 11., 10.,  9.,  8.,  7.,\n",
    "         6.,  5.,  6.,  7.,  8.,  9., 10., 11., 12., 13., 14., 15.],\n",
    "       [ 5.,  4.,  3.,  2.,  1.,  0.,  1.,  2.,  3.,  4.,  5.,  6.,  7.,\n",
    "         8.,  9., 10., 11., 12., 13., 14., 13., 12., 11., 10.,  9.,  8.,\n",
    "         7.,  6.,  7.,  8.,  9., 10., 11., 12., 13., 14., 15., 16.],\n",
    "       [ 6.,  5.,  4.,  3.,  2.,  1.,  0.,  1.,  2.,  3.,  4.,  5.,  6.,\n",
    "         7.,  8.,  9., 10., 11., 12., 13., 14., 13., 12., 11., 10.,  9.,\n",
    "         8.,  7.,  8.,  9., 10., 11., 12., 13., 14., 15., 16., 17.],\n",
    "       [ 7.,  6.,  5.,  4.,  3.,  2.,  1.,  0.,  1.,  2.,  3.,  4.,  5.,\n",
    "         6.,  7.,  8.,  9., 10., 11., 12., 13., 14., 13., 12., 11., 10.,\n",
    "         9.,  8.,  9., 10., 11., 12., 13., 14., 15., 16., 17., 18.],\n",
    "       [ 8.,  7.,  6.,  5.,  4.,  3.,  2.,  1.,  0.,  1.,  2.,  3.,  4.,\n",
    "         5.,  6.,  7.,  8.,  9., 10., 11., 12., 13., 14., 13., 12., 11.,\n",
    "        10.,  9., 10., 11., 12., 13., 14., 15., 16., 17., 18., 19.],\n",
    "       [ 9.,  8.,  7.,  6.,  5.,  4.,  3.,  2.,  1.,  0.,  1.,  2.,  3.,\n",
    "         4.,  5.,  6.,  7.,  8.,  9., 10., 11., 12., 13., 14., 13., 12.,\n",
    "        11., 10., 11., 12., 13., 14., 15., 16., 17., 18., 19., 20.],\n",
    "       [10.,  9.,  8.,  7.,  6.,  5.,  4.,  3.,  2.,  1.,  0.,  1.,  2.,\n",
    "         3.,  4.,  5.,  6.,  7.,  8.,  9., 10., 11., 12., 13., 14., 13.,\n",
    "        12., 11., 12., 13., 14., 15., 16., 17., 18., 19., 20., 21.],\n",
    "       [11., 10.,  9.,  8.,  7.,  6.,  5.,  4.,  3.,  2.,  1.,  0.,  1.,\n",
    "         2.,  3.,  4.,  5.,  6.,  7.,  8.,  9., 10., 11., 12., 13., 14.,\n",
    "        13., 12., 13., 14., 15., 16., 17., 18., 19., 20., 21., 22.],\n",
    "       [12., 11., 10.,  9.,  8.,  7.,  6.,  5.,  4.,  3.,  2.,  1.,  0.,\n",
    "         1.,  2.,  3.,  4.,  5.,  6.,  7.,  8.,  9., 10., 11., 12., 13.,\n",
    "        14., 13., 14., 15., 16., 17., 18., 19., 20., 21., 22., 23.],\n",
    "       [13., 12., 11., 10.,  9.,  8.,  7.,  6.,  5.,  4.,  3.,  2.,  1.,\n",
    "         0.,  1.,  2.,  3.,  4.,  5.,  6.,  7.,  8.,  9., 10., 11., 12.,\n",
    "        13., 14., 15., 16., 17., 18., 19., 20., 21., 22., 23., 24.],\n",
    "       [14., 13., 12., 11., 10.,  9.,  8.,  7.,  6.,  5.,  4.,  3.,  2.,\n",
    "         1.,  0.,  1.,  2.,  3.,  4.,  5.,  6.,  7.,  8.,  9., 10., 11.,\n",
    "        12., 13., 14., 15., 16., 17., 18., 19., 20., 21., 22., 23.],\n",
    "       [13., 14., 13., 12., 11., 10.,  9.,  8.,  7.,  6.,  5.,  4.,  3.,\n",
    "         2.,  1.,  0.,  1.,  2.,  3.,  4.,  5.,  6.,  7.,  8.,  9., 10.,\n",
    "        11., 12., 13., 14., 15., 16., 17., 18., 19., 20., 21., 22.],\n",
    "       [12., 13., 14., 13., 12., 11., 10.,  9.,  8.,  7.,  6.,  5.,  4.,\n",
    "         3.,  2.,  1.,  0.,  1.,  2.,  3.,  4.,  5.,  6.,  7.,  8.,  9.,\n",
    "        10., 11., 12., 13., 14., 15., 16., 17., 18., 19., 20., 21.],\n",
    "       [11., 12., 13., 14., 13., 12., 11., 10.,  9.,  8.,  7.,  6.,  5.,\n",
    "         4.,  3.,  2.,  1.,  0.,  1.,  2.,  3.,  4.,  5.,  6.,  7.,  8.,\n",
    "         9., 10., 11., 12., 13., 14., 15., 16., 17., 18., 19., 20.],\n",
    "       [10., 11., 12., 13., 14., 13., 12., 11., 10.,  9.,  8.,  7.,  6.,\n",
    "         5.,  4.,  3.,  2.,  1.,  0.,  1.,  2.,  3.,  4.,  5.,  6.,  7.,\n",
    "         8.,  9., 10., 11., 12., 13., 14., 15., 16., 17., 18., 19.],\n",
    "       [ 9., 10., 11., 12., 13., 14., 13., 12., 11., 10.,  9.,  8.,  7.,\n",
    "         6.,  5.,  4.,  3.,  2.,  1.,  0.,  1.,  2.,  3.,  4.,  5.,  6.,\n",
    "         7.,  8.,  9., 10., 11., 12., 13., 14., 15., 16., 17., 18.],\n",
    "       [ 8.,  9., 10., 11., 12., 13., 14., 13., 12., 11., 10.,  9.,  8.,\n",
    "         7.,  6.,  5.,  4.,  3.,  2.,  1.,  0.,  1.,  2.,  3.,  4.,  5.,\n",
    "         6.,  7.,  8.,  9., 10., 11., 12., 13., 14., 15., 16., 17.],\n",
    "       [ 7.,  8.,  9., 10., 11., 12., 13., 14., 13., 12., 11., 10.,  9.,\n",
    "         8.,  7.,  6.,  5.,  4.,  3.,  2.,  1.,  0.,  1.,  2.,  3.,  4.,\n",
    "         5.,  6.,  7.,  8.,  9., 10., 11., 12., 13., 14., 15., 16.],\n",
    "       [ 6.,  7.,  8.,  9., 10., 11., 12., 13., 14., 13., 12., 11., 10.,\n",
    "         9.,  8.,  7.,  6.,  5.,  4.,  3.,  2.,  1.,  0.,  1.,  2.,  3.,\n",
    "         4.,  5.,  6.,  7.,  8.,  9., 10., 11., 12., 13., 14., 15.],\n",
    "       [ 5.,  6.,  7.,  8.,  9., 10., 11., 12., 13., 14., 13., 12., 11.,\n",
    "        10.,  9.,  8.,  7.,  6.,  5.,  4.,  3.,  2.,  1.,  0.,  1.,  2.,\n",
    "         3.,  4.,  5.,  6.,  7.,  8.,  9., 10., 11., 12., 13., 14.],\n",
    "       [ 4.,  5.,  6.,  7.,  8.,  9., 10., 11., 12., 13., 14., 13., 12.,\n",
    "        11., 10.,  9.,  8.,  7.,  6.,  5.,  4.,  3.,  2.,  1.,  0.,  1.,\n",
    "         2.,  3.,  4.,  5.,  6.,  7.,  8.,  9., 10., 11., 12., 13.],\n",
    "       [ 3.,  4.,  5.,  6.,  7.,  8.,  9., 10., 11., 12., 13., 14., 13.,\n",
    "        12., 11., 10.,  9.,  8.,  7.,  6.,  5.,  4.,  3.,  2.,  1.,  0.,\n",
    "         1.,  2.,  3.,  4.,  5.,  6.,  7.,  8.,  9., 10., 11., 12.],\n",
    "       [ 2.,  3.,  4.,  5.,  6.,  7.,  8.,  9., 10., 11., 12., 13., 14.,\n",
    "        13., 12., 11., 10.,  9.,  8.,  7.,  6.,  5.,  4.,  3.,  2.,  1.,\n",
    "         0.,  1.,  2.,  3.,  4.,  5.,  6.,  7.,  8.,  9., 10., 11.],\n",
    "       [ 1.,  2.,  3.,  4.,  5.,  6.,  7.,  8.,  9., 10., 11., 12., 13.,\n",
    "        14., 13., 12., 11., 10.,  9.,  8.,  7.,  6.,  5.,  4.,  3.,  2.,\n",
    "         1.,  0.,  1.,  2.,  3.,  4.,  5.,  6.,  7.,  8.,  9., 10.],\n",
    "       [ 2.,  3.,  4.,  5.,  6.,  7.,  8.,  9., 10., 11., 12., 13., 14.,\n",
    "        15., 14., 13., 12., 11., 10.,  9.,  8.,  7.,  6.,  5.,  4.,  3.,\n",
    "         2.,  1.,  0.,  1.,  2.,  3.,  4.,  5.,  6.,  7.,  8.,  9.],\n",
    "       [ 3.,  4.,  5.,  6.,  7.,  8.,  9., 10., 11., 12., 13., 14., 15.,\n",
    "        16., 15., 14., 13., 12., 11., 10.,  9.,  8.,  7.,  6.,  5.,  4.,\n",
    "         3.,  2.,  1.,  0.,  1.,  2.,  3.,  4.,  5.,  6.,  7.,  8.],\n",
    "       [ 4.,  5.,  6.,  7.,  8.,  9., 10., 11., 12., 13., 14., 15., 16.,\n",
    "        17., 16., 15., 14., 13., 12., 11., 10.,  9.,  8.,  7.,  6.,  5.,\n",
    "         4.,  3.,  2.,  1.,  0.,  1.,  2.,  3.,  4.,  5.,  6.,  7.],\n",
    "       [ 5.,  6.,  7.,  8.,  9., 10., 11., 12., 13., 14., 15., 16., 17.,\n",
    "        18., 17., 16., 15., 14., 13., 12., 11., 10.,  9.,  8.,  7.,  6.,\n",
    "         5.,  4.,  3.,  2.,  1.,  0.,  1.,  2.,  3.,  4.,  5.,  6.],\n",
    "       [ 6.,  7.,  8.,  9., 10., 11., 12., 13., 14., 15., 16., 17., 18.,\n",
    "        19., 18., 17., 16., 15., 14., 13., 12., 11., 10.,  9.,  8.,  7.,\n",
    "         6.,  5.,  4.,  3.,  2.,  1.,  0.,  1.,  2.,  3.,  4.,  5.],\n",
    "       [ 7.,  8.,  9., 10., 11., 12., 13., 14., 15., 16., 17., 18., 19.,\n",
    "        20., 19., 18., 17., 16., 15., 14., 13., 12., 11., 10.,  9.,  8.,\n",
    "         7.,  6.,  5.,  4.,  3.,  2.,  1.,  0.,  1.,  2.,  3.,  4.],\n",
    "       [ 8.,  9., 10., 11., 12., 13., 14., 15., 16., 17., 18., 19., 20.,\n",
    "        21., 20., 19., 18., 17., 16., 15., 14., 13., 12., 11., 10.,  9.,\n",
    "         8.,  7.,  6.,  5.,  4.,  3.,  2.,  1.,  0.,  1.,  2.,  3.],\n",
    "       [ 9., 10., 11., 12., 13., 14., 15., 16., 17., 18., 19., 20., 21.,\n",
    "        22., 21., 20., 19., 18., 17., 16., 15., 14., 13., 12., 11., 10.,\n",
    "         9.,  8.,  7.,  6.,  5.,  4.,  3.,  2.,  1.,  0.,  1.,  2.],\n",
    "       [10., 11., 12., 13., 14., 15., 16., 17., 18., 19., 20., 21., 22.,\n",
    "        23., 22., 21., 20., 19., 18., 17., 16., 15., 14., 13., 12., 11.,\n",
    "        10.,  9.,  8.,  7.,  6.,  5.,  4.,  3.,  2.,  1.,  0.,  1.],\n",
    "       [11., 12., 13., 14., 15., 16., 17., 18., 19., 20., 21., 22., 23.,\n",
    "        24., 23., 22., 21., 20., 19., 18., 17., 16., 15., 14., 13., 12.,\n",
    "        11., 10.,  9.,  8.,  7.,  6.,  5.,  4.,  3.,  2.,  1.,  0.]])\n",
    "\n",
    "stations=[\"Shinjuku-nishiguchi\",\n",
    "\"Higashi-shinjuku\",\n",
    "\"Wakamatsu-kawada\",\n",
    "\"Ushigome-yanagicho\",\n",
    "\"Ushigome-kagurazaka\",\n",
    "\"Iidabashi\",\n",
    "\"Kasuga\",\n",
    "\"Hongo-sanchome\",\n",
    "\"Ueno-okachimachi\",\n",
    "\"Shin-okachimachi\",\n",
    "\"Kuramae\",\n",
    "\"Ryogoku\",\n",
    "\"Morishita\",\n",
    "\"Kiyosumi-shirakawa\",\n",
    "\"Monzen-nakacho\",\n",
    "\"Tsukishima\",\n",
    "\"Kachidoki\",\n",
    "\"Tsukijishijo\",\n",
    "\"Shiodome\",\n",
    "\"Daimon\",\n",
    "\"Akabanebashi\",\n",
    "\"Azabu-juban\",\n",
    "\"Roppongi\",\n",
    "\"Aoyama-itchome\",\n",
    "\"Kokuritsu-kyogijo\",\n",
    "\"Yoyogi\",\n",
    "\"Shinjuku\",\n",
    "\"Tochomae\",\n",
    "\"Nishi-shinjuku-gochome\",\n",
    "\"Nakano-sakaue\",\n",
    "\"Higashi-nakano\",\n",
    "\"Nakai\",\n",
    "\"Ochiai-minami-nagasaki\",\n",
    "\"Shin-egota\",\n",
    "\"Nerima\",\n",
    "\"Toshimaen\",\n",
    "\"Nerima-kasugacho\",\n",
    "\"Hikarigaoka\"]\n"
   ]
  },
  {
   "cell_type": "code",
   "execution_count": null,
   "metadata": {},
   "outputs": [],
   "source": []
  }
 ],
 "metadata": {
  "kernelspec": {
   "display_name": "Python 3",
   "language": "python",
   "name": "python3"
  },
  "language_info": {
   "codemirror_mode": {
    "name": "ipython",
    "version": 3
   },
   "file_extension": ".py",
   "mimetype": "text/x-python",
   "name": "python",
   "nbconvert_exporter": "python",
   "pygments_lexer": "ipython3",
   "version": "3.6.5"
  }
 },
 "nbformat": 4,
 "nbformat_minor": 2
}

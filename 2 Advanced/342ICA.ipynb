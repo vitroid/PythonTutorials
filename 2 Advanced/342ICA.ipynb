{
  "nbformat": 4,
  "nbformat_minor": 0,
  "metadata": {
    "kernelspec": {
      "display_name": "Python 3",
      "language": "python",
      "name": "python3"
    },
    "language_info": {
      "codemirror_mode": {
        "name": "ipython",
        "version": 3
      },
      "file_extension": ".py",
      "mimetype": "text/x-python",
      "name": "python",
      "nbconvert_exporter": "python",
      "pygments_lexer": "ipython3",
      "version": "3.6.5"
    },
    "colab": {
      "name": "342ICA.ipynb",
      "provenance": [],
      "include_colab_link": true
    }
  },
  "cells": [
    {
      "cell_type": "markdown",
      "metadata": {
        "id": "view-in-github",
        "colab_type": "text"
      },
      "source": [
        "<a href=\"https://colab.research.google.com/github/vitroid/PythonTutorials/blob/2020m0/2%20Advanced/342ICA.ipynb\" target=\"_parent\"><img src=\"https://colab.research.google.com/assets/colab-badge.svg\" alt=\"Open In Colab\"/></a>"
      ]
    },
    {
      "cell_type": "markdown",
      "metadata": {
        "id": "xp3Uy4LjIfRH",
        "colab_type": "text"
      },
      "source": [
        "## ICA=Independent Component Analysis\n",
        "\n",
        "http://scikit-learn.org/stable/auto_examples/decomposition/plot_ica_blind_source_separation.html\n",
        "\n",
        "ICAは、複数の時系列信号の混合信号を、その統計的特徴をもとに分離する技術。例えば、3つの楽器が同時に演奏されているのを、離れた場所にある3つ(以上)のマイクで拾うと、楽器ごとの音に復元できる。\n",
        "\n",
        "### なぜそんなことができる?\n",
        "\n",
        "もとの信号(楽器の場合であれば演奏音)は、別個に発生しているので、互いに独立である。一番単純なケースとして、2つの音源がある場合を考えよう。1つめの音源の音を$S_1(t)$とあらわすと、マイク$j$で観測される信号は、複数の信号源からの信号の混合で、次のように書ける。(マイクと音源の相対位置は変化しないものとする)\n",
        "$$O_1(t)=a_{11}S_1(t)+a_{21}S_2(t)$$\n",
        "$a$は混合比である。もう一つのマイクの音源で拾う音を$O_2$とすると、連立方程式が得られる。行列の形で書くなら、\n",
        "$$O=AS$$\n",
        "と書ける。これより、\n",
        "$$S=A^{-1}O$$\n",
        "となるような行列$A$が決められれば、観測信号$O(t)$から音源信号$S(t)$を推定できる。\n",
        "\n",
        "そこに、独立性の条件を入れる。つまり、$A$は未知なのだが、うまく係数を調節すれば、$S_1$と$S_2$を独立にできるはずである。2つの信号列の独立性は相互情報量で計量できるので、相互情報量が最小になるように$A$の係数の最適化を実行する。\n",
        "\n",
        "### 何に使える?\n",
        "\n",
        "信号源の数以上のセンサーがあり、信号源が信号を出しつづけていて、独立と仮定できるなら、さまざまな用途に利用できる。\n",
        "\n",
        "* 頭に大量の脳波センサーを付けることで、脳内から発出する信号を全部分離して捉える。\n",
        "* 海に音響ブイを多数配置することで、潜水艦の位置をすべて把握する。\n",
        "\n",
        "### 実装例\n",
        "\n",
        "下の例では、矩形波とサイン波と三角波(いずれもノイズが載っている)を合成し、3通りに混ぜあわせた混合音を作って、それをICA(独立成分分析)とPCA(主成分分析)で分離している。PCAは音源を全く分離できないが、ICAは完全な分離に成功している(ただし、原理的にもとの音量や正負は再現できない)。\n"
      ]
    },
    {
      "cell_type": "code",
      "metadata": {
        "id": "LCujLAzLIfRL",
        "colab_type": "code",
        "colab": {}
      },
      "source": [
        "#Modified from:\n",
        "#http://scikit-learn.org/stable/auto_examples/decomposition/plot_ica_blind_source_separation.html\n",
        "\n",
        "print(__doc__)\n",
        "\n",
        "import numpy as np\n",
        "import matplotlib.pyplot as plt\n",
        "from scipy import signal\n",
        "\n",
        "from sklearn.decomposition import FastICA, PCA\n",
        "\n",
        "###############################################################################\n",
        "# Generate sample data\n",
        "np.random.seed(0)\n",
        "n_samples = 2000\n",
        "time = np.linspace(0, 8, n_samples)\n",
        "\n",
        "s1 = np.sin(2 * time)  # Signal 1 : sinusoidal signal\n",
        "s2 = np.sign(np.sin(3 * time))  # Signal 2 : square signal\n",
        "s3 = signal.sawtooth(2 * np.pi * time)  # Signal 3: saw tooth signal\n",
        "\n",
        "S = np.c_[s1, s2, s3]\n",
        "S += 0.2 * np.random.normal(size=S.shape)  # Add noise\n",
        "\n",
        "S /= S.std(axis=0)  # Standardize data\n",
        "# Mix data\n",
        "A = np.array([[1, 1, 1], [0.5, 2, 1.0], [1.5, 1.0, 2.0]])  # Mixing matrix\n",
        "X = np.dot(S, A.T)  # Generate observations\n",
        "\n",
        "# Compute ICA\n",
        "ica = FastICA(n_components=3)\n",
        "S_ = ica.fit_transform(X)  # Reconstruct signals\n",
        "A_ = ica.mixing_  # Get estimated mixing matrix\n",
        "\n",
        "# We can `prove` that the ICA model applies by reverting the unmixing.\n",
        "assert np.allclose(X, np.dot(S_, A_.T) + ica.mean_)\n",
        "\n",
        "# For comparison, compute PCA\n",
        "pca = PCA(n_components=3)\n",
        "H = pca.fit_transform(X)  # Reconstruct signals based on orthogonal components\n",
        "\n",
        "###############################################################################\n",
        "# Plot results\n",
        "\n",
        "plt.figure()\n",
        "\n",
        "models = [X, S, S_, H]\n",
        "names = ['Observations (mixed signal)',\n",
        "         'True Sources',\n",
        "         'ICA recovered signals', \n",
        "         'PCA recovered signals']\n",
        "colors = ['red', 'steelblue', 'orange']\n",
        "\n",
        "for ii, (model, name) in enumerate(zip(models, names), 1):\n",
        "    plt.subplot(4, 1, ii)\n",
        "    plt.title(name)\n",
        "    for sig, color in zip(model.T, colors):\n",
        "        plt.plot(sig, color=color)\n",
        "\n",
        "plt.subplots_adjust(0.09, 0.04, 0.94, 0.94, 0.26, 0.46)\n",
        "plt.show()"
      ],
      "execution_count": null,
      "outputs": []
    },
    {
      "cell_type": "code",
      "metadata": {
        "id": "1baJEwlxIfRW",
        "colab_type": "code",
        "colab": {}
      },
      "source": [
        ""
      ],
      "execution_count": null,
      "outputs": []
    }
  ]
}
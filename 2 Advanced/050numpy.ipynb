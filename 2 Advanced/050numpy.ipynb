{
  "cells": [
    {
      "cell_type": "markdown",
      "metadata": {
        "colab_type": "text",
        "id": "view-in-github"
      },
      "source": [
        "<a href=\"https://colab.research.google.com/github/vitroid/PythonTutorials/blob/master/2%20Advanced/050numpy.ipynb\" target=\"_parent\"><img src=\"https://colab.research.google.com/assets/colab-badge.svg\" alt=\"Open In Colab\"/></a>"
      ]
    },
    {
      "cell_type": "markdown",
      "metadata": {
        "id": "9hltD5LNWDOP"
      },
      "source": [
        "# numpyを使う Use numpy\n",
        "Numpyは行列計算を含む、高度な数値計算を高速に行うライブラリで、これを使うと、行列計算の関数は自作する必要がまったくなくなります。(とはいえ、スキルを上げるためには、自分で書けたほうが良いです)\n",
        "Pythonの実用的なライブラリ(画像処理、機械学習、統計など)のほとんどはnumpyをつかって作られています。もしnumpyがなかったなら、Pythonがここまで普及することもなかったと思います。\n",
        "\n",
        "Numpy is a python library for fast calculation including the linear algebra.  With numpy, you do not need to program matrix and vector calculations by yourself any longer. (But you should better be able to program them by yourself for brush up your skills.) \n",
        "\n",
        "Most of Python's practical libraries (image processing, machine learning, statistics, etc.) are built using numpy. Without numpy, Python would not have become so popular."
      ]
    },
    {
      "cell_type": "markdown",
      "metadata": {
        "id": "vKiQWS9QWDOS"
      },
      "source": [
        "### ベクトル Vector\n",
        "numpyには、`array`と呼ばれる、リストに似たデータ形式があります。違うのは、`array`には同じ種類のデータしか入れられない点です。実際のところ、実数の`list`は簡単に`array`に変換できます。\n",
        "\n",
        "There is a list-like data sequence type called `array` in numpy.  You can put the data of the same type (typically floating point numbers) in an array.  Indeed, a list can be converted to an array very easily."
      ]
    },
    {
      "cell_type": "code",
      "execution_count": null,
      "metadata": {
        "id": "fwNKoE0uWDOU"
      },
      "outputs": [],
      "source": [
        "import numpy as np\n",
        "\n",
        "L = [1.0,2.0,3.0]\n",
        "vector = np.array(L)\n",
        "vector"
      ]
    },
    {
      "cell_type": "markdown",
      "metadata": {
        "id": "Wq5dqRQLWYyR"
      },
      "source": [
        "データが混在していると?\n",
        "\n",
        "If data of different kinds exist?"
      ]
    },
    {
      "cell_type": "code",
      "execution_count": null,
      "metadata": {
        "id": "pdzffJAyWbkK"
      },
      "outputs": [],
      "source": [
        "D = [1.0, 12, \"A\"]\n",
        "vector2 = np.array(D)\n",
        "vector2"
      ]
    },
    {
      "cell_type": "markdown",
      "metadata": {
        "id": "Jmg-2DP2WvEp"
      },
      "source": [
        "全部文字列にされてしまいました。\n",
        "\n",
        "They are converted to strings."
      ]
    },
    {
      "cell_type": "markdown",
      "metadata": {
        "id": "qohQs1teWDOk"
      },
      "source": [
        "要素が0や1ばかりのarrayを作る便利な関数があります。\n",
        "\n",
        "There are convenient functions to make arrays of zeros or ones.  "
      ]
    },
    {
      "cell_type": "code",
      "execution_count": null,
      "metadata": {
        "id": "F2L3MO5vWDOn"
      },
      "outputs": [],
      "source": [
        "zero = np.zeros(10)\n",
        "one = np.ones(10)\n",
        "zero,one"
      ]
    },
    {
      "cell_type": "markdown",
      "metadata": {
        "id": "42qnHwttWDOy"
      },
      "source": [
        "arrayの一部分をとりだす方法は、listと同じです。\n",
        "\n",
        "You can pick up a part of the array in the same way as the list."
      ]
    },
    {
      "cell_type": "code",
      "execution_count": null,
      "metadata": {
        "id": "YuhkQJF7WDOz"
      },
      "outputs": [],
      "source": [
        "vector[1],vector[1:3]"
      ]
    },
    {
      "cell_type": "markdown",
      "metadata": {
        "id": "gzYrjG9PWDO3"
      },
      "source": [
        "しかし、演算子を使う時に、大きな違いがあります。list同士を足し算すると、長いリストになるのに対し、array同士を足すと、ベクトルの加算を行ってくれます。\n",
        "\n",
        "The biggest difference is that an array is actually a vector in mathematics. You can calculate them directly with algebraic operators without writing loops."
      ]
    },
    {
      "cell_type": "code",
      "execution_count": null,
      "metadata": {
        "id": "O_q6kuSYWDO4",
        "scrolled": true
      },
      "outputs": [],
      "source": [
        "L1 = [1.,2.,3.]\n",
        "L2 = [4.,5.,6.]\n",
        "print(L1+L2)"
      ]
    },
    {
      "cell_type": "code",
      "execution_count": null,
      "metadata": {
        "id": "57rRPOENWDO-"
      },
      "outputs": [],
      "source": [
        "v1 = np.array(L1)\n",
        "v2 = np.array(L2)\n",
        "print(v1+v2,v2-v1,v2/v1,v2*v1)"
      ]
    },
    {
      "cell_type": "markdown",
      "metadata": {
        "id": "WUddU9MoWDPB"
      },
      "source": [
        "ベクトルに定数を掛けることも可能です。\n",
        "\n",
        "Product of an array and a number becomes an array."
      ]
    },
    {
      "cell_type": "code",
      "execution_count": null,
      "metadata": {
        "id": "8yKHlpSkWDPC"
      },
      "outputs": [],
      "source": [
        "v1*10"
      ]
    },
    {
      "cell_type": "markdown",
      "metadata": {
        "id": "y4kB7liGWDPF"
      },
      "source": [
        "numpyにあらかじめ準備されている各種関数(ufunc)を使うと、arrayのすべての要素に一気に関数を作用させることができます。\n",
        "\n",
        "Using the various functions (ufunc) prepared in numpy, it is possible to act on all elements of an array at once."
      ]
    },
    {
      "cell_type": "code",
      "execution_count": null,
      "metadata": {
        "id": "e8-Vk7jiWDPF"
      },
      "outputs": [],
      "source": [
        "np.sin(v1)"
      ]
    },
    {
      "cell_type": "markdown",
      "metadata": {
        "id": "p-IIpOjaWDPI"
      },
      "source": [
        "ちなみに、arrayの代わりに数値のリストを与えても問題ありません。\n",
        "\n",
        "There is no problem giving a list of numbers instead of an array."
      ]
    },
    {
      "cell_type": "code",
      "execution_count": null,
      "metadata": {
        "id": "_gqzLubqWDPI"
      },
      "outputs": [],
      "source": [
        "np.sin(L1)"
      ]
    },
    {
      "cell_type": "markdown",
      "metadata": {
        "id": "ThZs3QzNYxwB"
      },
      "source": [
        "よくやる使い方は、等差数列を作るlinspaceやarangeとufuncを組みあわせて、グラフを描くという方法です。\n",
        "\n",
        "A common usage is to draw a graph by combining `linspace` or `arange` and ufunc to create an isosceles sequence.\n",
        "\n"
      ]
    },
    {
      "cell_type": "code",
      "execution_count": null,
      "metadata": {
        "id": "VahWrdlxZLQg"
      },
      "outputs": [],
      "source": [
        "# arange is a generator similar to range() but accepts floating numbers.\n",
        "# arangeはrangeに似ていますが、範囲と間隔に実数が使えます。\n",
        "?np.arange"
      ]
    },
    {
      "cell_type": "code",
      "execution_count": null,
      "metadata": {
        "id": "7nWuF9R3Ze7f"
      },
      "outputs": [],
      "source": [
        "# Generates a sequence of isosceles numbers between 1 and 3 with 0.5 intervals.\n",
        "# 1以上3未満で0.5間隔の等差数列を生成する。\n",
        "np.arange(1.0, 3.0, 0.5)"
      ]
    },
    {
      "cell_type": "code",
      "execution_count": null,
      "metadata": {
        "id": "oz5EZmPSZGW5"
      },
      "outputs": [],
      "source": [
        "# linspace generates a sequence of the specified number of items.\n",
        "?np.linspace"
      ]
    },
    {
      "cell_type": "code",
      "execution_count": null,
      "metadata": {
        "id": "j3etRlrDZtTY"
      },
      "outputs": [],
      "source": [
        "# Generates a sequence of ten isosceles numbers between 1 and 10.\n",
        "# 1から10の間で等間隔に10点とる。\n",
        "np.linspace(1.0, 10.0, num=10)"
      ]
    },
    {
      "cell_type": "code",
      "execution_count": null,
      "metadata": {
        "id": "lc7kiaQ1Z__k"
      },
      "outputs": [],
      "source": [
        "# x is a sequence of numbers\n",
        "x = np.linspace(0, np.pi*10, 1000)\n",
        "# apply the functions to each item of x\n",
        "y = np.exp(-x/100)*np.sin(x)\n",
        "\n",
        "import pylab\n",
        "\n",
        "pylab.plot(x,y)"
      ]
    },
    {
      "cell_type": "markdown",
      "metadata": {
        "id": "pqkh8U9sWDPM"
      },
      "source": [
        "ベクトル同士のかけ算をすると、どうなるでしょうか。\n",
        "\n",
        "How about multiplying two vectors together?"
      ]
    },
    {
      "cell_type": "code",
      "execution_count": null,
      "metadata": {
        "id": "m6LAQXylWDPM",
        "scrolled": true
      },
      "outputs": [],
      "source": [
        "v1*v2"
      ]
    },
    {
      "cell_type": "markdown",
      "metadata": {
        "id": "HAakza4uWDPP"
      },
      "source": [
        "要素同士がかけあわされたarrayになりました。この要素を足しあわせれば、2つのベクトルの内積(dot product)が得られます。\n",
        "\n",
        "Elements of the vectors are multiplied individually. When you want the dot product (inner product) of the vectors, just sum them up."
      ]
    },
    {
      "cell_type": "code",
      "execution_count": null,
      "metadata": {
        "id": "bgoXhZDLWDPP",
        "scrolled": true
      },
      "outputs": [],
      "source": [
        "np.sum(v1*v2)"
      ]
    },
    {
      "cell_type": "markdown",
      "metadata": {
        "id": "QnV5QenqWDPS"
      },
      "source": [
        "ですが、これだと一見して何を計算しようとしているのかわかりにくいので、dot関数を使いましょう。\n",
        "\n",
        "Easier way to get a dot product is to use the `dot()` function."
      ]
    },
    {
      "cell_type": "code",
      "execution_count": null,
      "metadata": {
        "id": "ZMIhqbrmWDPS",
        "scrolled": true
      },
      "outputs": [],
      "source": [
        "np.dot(v1,v2)"
      ]
    },
    {
      "cell_type": "markdown",
      "metadata": {
        "id": "AOjA-bAuWDPW"
      },
      "source": [
        "新しいpythonでは、dot積の演算子`@`が使えます。\n",
        "\n",
        "\n",
        "A new operator `@` is useful in new Pythons.\n"
      ]
    },
    {
      "cell_type": "code",
      "execution_count": null,
      "metadata": {
        "id": "dl34g-xFWDPW"
      },
      "outputs": [],
      "source": [
        "v1@v2"
      ]
    },
    {
      "cell_type": "markdown",
      "metadata": {
        "id": "5OYmKjryWDPZ"
      },
      "source": [
        "外積(cross product)はcross関数で計算できます。(外積って何だったか覚えていますか?)\n",
        "\n",
        "It is also easy to calculate the cross product (outer product) of the vectors. (Do you remember the definition?)"
      ]
    },
    {
      "cell_type": "code",
      "execution_count": null,
      "metadata": {
        "id": "rsUxtUj1WDPZ"
      },
      "outputs": [],
      "source": [
        "np.cross(v1,v2)"
      ]
    },
    {
      "cell_type": "markdown",
      "metadata": {
        "id": "nVplGWyuWDPe"
      },
      "source": [
        "関数の意味や引数の使い方がわからなくなったら、関数名の前に?を付けてヘルプを表示できます。\n",
        "\n",
        "If you are not sure what a function means or how to use its arguments, you can prefix the function name with ? in front of the function name to get help."
      ]
    },
    {
      "cell_type": "code",
      "execution_count": null,
      "metadata": {
        "id": "AnCqFLJDWDPe"
      },
      "outputs": [],
      "source": [
        "?np.cross"
      ]
    },
    {
      "cell_type": "markdown",
      "metadata": {
        "id": "aJv5u7Pc-Oss"
      },
      "source": [
        "たとえば、結晶の単位胞を構成する3つのベクトル$a,b,c$から、単位胞の体積を求めるには、$a\\cdot (b\\times c)$という計算を行います。これは、Pythonではこんな風に書きます。\n",
        "\n",
        "For example, to find the volume of the unit cell from the three basic vectors $a,b,c$ that make up the unit cell of a crystal, the calculation $a\\cdot (b\\times c)$ is performed. This is how it is written in Python."
      ]
    },
    {
      "cell_type": "code",
      "execution_count": null,
      "metadata": {
        "id": "1-GIEs2J-OWj"
      },
      "outputs": [],
      "source": [
        "a = np.array([1.0, 0.0, 0.0])\n",
        "b = np.array([1.0, 1.0, 0.0])\n",
        "c = np.array([1.0, 1.0, 1.0])\n",
        "a @ np.cross(b,c)"
      ]
    },
    {
      "cell_type": "markdown",
      "metadata": {
        "id": "d-ECCmg_K3hv"
      },
      "source": [
        "あるいは、単にdeterminant(行列式)を計算します。\n",
        "\n",
        "It is equivalent to the determinant of the matrix."
      ]
    },
    {
      "cell_type": "code",
      "execution_count": null,
      "metadata": {
        "id": "FkxMhT_LK8CO"
      },
      "outputs": [],
      "source": [
        "np.linalg.det([a,b,c])"
      ]
    },
    {
      "cell_type": "markdown",
      "metadata": {
        "id": "McUyTswEWDPj"
      },
      "source": [
        "これで、ベクトルの基本的な計算はすべてできることがわかりました。\n",
        "\n",
        "Thus you can calculate the vectors with numpy very easily."
      ]
    },
    {
      "cell_type": "markdown",
      "metadata": {
        "id": "Eiweoxs_WDPj"
      },
      "source": [
        "ちなみに、文字列データからarrayを作る簡単な方法があります。三連ダブルクオーテーションは、改行を含む文字列を定義したい時に使います。\n",
        "\n",
        "Here is an easy way to make a numpy array from a string.  Here the triple double-quotations `\"\"\"` is useful to define a long string with linefeeds."
      ]
    },
    {
      "cell_type": "code",
      "execution_count": null,
      "metadata": {
        "id": "PyjXHYIXWDPk",
        "scrolled": true
      },
      "outputs": [],
      "source": [
        "s = \"\"\"\n",
        "1  2\n",
        "3   4\n",
        "5    6\n",
        "\"\"\"\n",
        "v = np.fromstring(s, sep=\" \")\n",
        "v"
      ]
    },
    {
      "cell_type": "markdown",
      "metadata": {
        "id": "PcoZTW4NWDPt"
      },
      "source": [
        "`fromstring()`は改行も空白と同一視し、一列のarrayに変換してしまいます。\n",
        "これを、3行2列の行列(後述)にしたい場合は、`reshape`関数を使います。`reshape`はその名の通り、1次元(あるいは多次元)のarrayの形を変形して多次元arrayにしてくれます。\n",
        "\n",
        "The function `fromstring()` regards the linefeeds as a type of space character and convert the string into a one-dimensional array of floating point numbers.\n",
        "If you want to make it as a (3,2) matrix, use `reshape` function.\n",
        "`Reshape` changes the shape of the array."
      ]
    },
    {
      "cell_type": "code",
      "execution_count": null,
      "metadata": {
        "id": "Ix3ddAHxWDPu"
      },
      "outputs": [],
      "source": [
        "w=v.reshape((3,2))\n",
        "w"
      ]
    },
    {
      "cell_type": "markdown",
      "metadata": {
        "id": "0lVg1ix2WDPx"
      },
      "source": [
        "`.shape`(これは関数ではありません)を次のように使うことで、その行列のshapeを知ることができます。このことからもわかるように、listとは違い、多次元のarrayでは、各行の長さはすべて等しくなければなりません。(listの場合は、`[[1,2],[3,4,5]]`のような長さの違う要素でも構いません。)\n",
        "\n",
        "The following is the way to know the shape of an array.  As you see, the array must be rectangular, i.e., the lengths of the rows must be identical. (In the case of a list, on the other hand, you can make a list of lists of different length, e.g. `[[1,2],[3,4,5]]`.)"
      ]
    },
    {
      "cell_type": "code",
      "execution_count": null,
      "metadata": {
        "id": "PNG2q83dWDPy"
      },
      "outputs": [],
      "source": [
        "w.shape"
      ]
    },
    {
      "cell_type": "markdown",
      "metadata": {
        "id": "PrlxruPNWDP5"
      },
      "source": [
        "もうすこし、arrayの操作を練習してみましょう。\n",
        "\n",
        "Let's practice the array operations further."
      ]
    },
    {
      "cell_type": "code",
      "execution_count": null,
      "metadata": {
        "id": "VieWb6L8WDP5"
      },
      "outputs": [],
      "source": [
        "v=np.array([1.,2.,3.,4.,5.])"
      ]
    },
    {
      "cell_type": "markdown",
      "metadata": {
        "id": "LeGPXkSfWDP8"
      },
      "source": [
        "1番目から3個の要素をとりだす方法はリストの場合と同じです。\n",
        "\n",
        "Here is a way to pick up the three elements from element 1 (is the second element of the array)."
      ]
    },
    {
      "cell_type": "code",
      "execution_count": null,
      "metadata": {
        "id": "bslQRNKuWDP9"
      },
      "outputs": [],
      "source": [
        "v[1:1+3]"
      ]
    },
    {
      "cell_type": "markdown",
      "metadata": {
        "id": "whDLOa39WDQA"
      },
      "source": [
        ":を使った記法では、v[start:end]のほかに、v[start:end:interval]という書き方があります。\n",
        "startが0の場合には省略できます。endが最後の要素の場合にも省略できます。\n",
        "例えば、0番目から最後の要素まで、1つとばしで選ぶ場合は、v[0:5:2]あるいはv[::2]と書きます。\n",
        "\n",
        "There are two types of colon notations: `v[start:end]` and `v[start:end:interval]`.\n",
        "You can omit the start value if it is zero. \n",
        "You can also omit the end value if it is the last one.\n",
        "For example, v[0:5:2] or v[::2] picks up the every two elements starting from the element 0."
      ]
    },
    {
      "cell_type": "code",
      "execution_count": null,
      "metadata": {
        "id": "oBaPZo03WDQB",
        "scrolled": true
      },
      "outputs": [],
      "source": [
        "v[::2]"
      ]
    },
    {
      "cell_type": "markdown",
      "metadata": {
        "id": "FJNX0HAuWDQD"
      },
      "source": [
        "v[:]はvの全要素という意味で、vと同じ意味になります。\n",
        "\n",
        "v[:] is the same meaning as v."
      ]
    },
    {
      "cell_type": "code",
      "execution_count": null,
      "metadata": {
        "id": "MPt09nhIWDQE",
        "scrolled": true
      },
      "outputs": [],
      "source": [
        "v[:]+10"
      ]
    },
    {
      "cell_type": "code",
      "execution_count": null,
      "metadata": {
        "id": "LmUxxIDuWDQG"
      },
      "outputs": [],
      "source": [
        "v+10"
      ]
    },
    {
      "cell_type": "markdown",
      "metadata": {
        "id": "sdVnJ7ToWDQI"
      },
      "source": [
        "例えば、ベクトルの要素の順番を逆にするにはどうしたらいいでしょうか?\n",
        "リストの場合には、そのための特別な命令reverse()がありますが、numpyではそんなものがなくても簡単に逆順にできます。\n",
        "\n",
        "How to invert the order in an array?\n",
        "There is a special function `reverse()` to invert a list, while it is \"piece of cake\" for an numpy array."
      ]
    },
    {
      "cell_type": "code",
      "execution_count": null,
      "metadata": {
        "id": "R7ymzF3FWDQJ",
        "scrolled": true
      },
      "outputs": [],
      "source": [
        "v[::-1]"
      ]
    },
    {
      "cell_type": "markdown",
      "metadata": {
        "id": "tLDDSXnDWDQM"
      },
      "source": [
        "ほかにもいろんな書き方を試してみて下さい。\n",
        "\n",
        "Let's try other notations."
      ]
    },
    {
      "cell_type": "code",
      "execution_count": null,
      "metadata": {
        "id": "bG11V7EiWDQN"
      },
      "outputs": [],
      "source": [
        "v[::-2]"
      ]
    },
    {
      "cell_type": "code",
      "execution_count": null,
      "metadata": {
        "id": "Vv5yWd8lWDQP"
      },
      "outputs": [],
      "source": [
        "v[-1:-3:-1]"
      ]
    },
    {
      "cell_type": "code",
      "execution_count": null,
      "metadata": {
        "id": "u7ClmnauWDQR",
        "scrolled": true
      },
      "outputs": [],
      "source": [
        "v[1::2]"
      ]
    },
    {
      "cell_type": "markdown",
      "metadata": {
        "id": "oetGQa-3WDQT"
      },
      "source": [
        "ひとつ気をつけないといけないことは、こうしたarrayの変形は、実際にはvを加工**しているわけではない**ことです。\n",
        "例えば、巨大なarrayを変形するたびに、内容のコピーを作っていたのではコピーにかかる時間が馬鹿になりません。\n",
        "\n",
        "次の例では、wに入るものは、vから要素を抜きだしたコピーではなく、vから要素を抜きだす「手順」です。\n",
        "\n",
        "Note that these array modification operations do not actually modify the v itself for efficiency.\n",
        "\n",
        "In the following example, w is not a copy of v but w shares the part of v."
      ]
    },
    {
      "cell_type": "code",
      "execution_count": null,
      "metadata": {
        "id": "rfoD-OEPWDQT",
        "scrolled": true
      },
      "outputs": [],
      "source": [
        "w=v[1::2]\n",
        "w"
      ]
    },
    {
      "cell_type": "markdown",
      "metadata": {
        "id": "-4H_iPEkWDQW"
      },
      "source": [
        "wはvのコピーではないので、wの値を変えると、vの値が変わってしまいます。\n",
        "\n",
        "The values in w is shared with v, so if you modify an element in w, it also change the corresponding element in v."
      ]
    },
    {
      "cell_type": "code",
      "execution_count": null,
      "metadata": {
        "id": "GEFTs1paWDQX"
      },
      "outputs": [],
      "source": [
        "w[0]=9\n",
        "v"
      ]
    },
    {
      "cell_type": "markdown",
      "metadata": {
        "id": "R7d1fo16WDQZ"
      },
      "source": [
        "vに影響を与えないように要素を抜きだす場合には、コピーする必要があります。\n",
        "\n",
        "To avoid the side-effect, you should copy it explicitly."
      ]
    },
    {
      "cell_type": "code",
      "execution_count": null,
      "metadata": {
        "id": "W26FF5MBWDQZ"
      },
      "outputs": [],
      "source": [
        "w = v[1::2].copy()\n",
        "w"
      ]
    },
    {
      "cell_type": "code",
      "execution_count": null,
      "metadata": {
        "id": "XNW13tZeWDQb"
      },
      "outputs": [],
      "source": [
        "w[:]=8\n",
        "v, w"
      ]
    },
    {
      "cell_type": "code",
      "execution_count": null,
      "metadata": {
        "id": "QvKKT3fPWDQh"
      },
      "outputs": [],
      "source": []
    },
    {
      "cell_type": "markdown",
      "metadata": {
        "id": "IdLEOMaFWDQj"
      },
      "source": [
        "### 行列 Matrix\n",
        "次に行列に挑戦します。2次元のリストをarrayに変換すると、行列として扱われます。\n",
        "\n",
        "Matrix is a 2D array in numpy."
      ]
    },
    {
      "cell_type": "code",
      "execution_count": null,
      "metadata": {
        "id": "BR6Jy40yWDQj",
        "scrolled": true
      },
      "outputs": [],
      "source": [
        "LX = [[1,2,3],\n",
        "      [4,5,6],\n",
        "      [7,8,9]]\n",
        "LX"
      ]
    },
    {
      "cell_type": "code",
      "execution_count": null,
      "metadata": {
        "id": "WA8OJRvhWDQl"
      },
      "outputs": [],
      "source": [
        "NX = np.array(LX)\n",
        "NX"
      ]
    },
    {
      "cell_type": "markdown",
      "metadata": {
        "id": "k60k2eg6WDQr"
      },
      "source": [
        "0ベクトルと同じように、0行列も簡単に作れます。\n",
        "\n",
        "To make a zero matrix, use zeros function again."
      ]
    },
    {
      "cell_type": "code",
      "execution_count": null,
      "metadata": {
        "id": "-IZNruIlWDQr"
      },
      "outputs": [],
      "source": [
        "np.zeros((3,3))"
      ]
    },
    {
      "cell_type": "markdown",
      "metadata": {
        "id": "7oFt_4CGWDQ7"
      },
      "source": [
        "単位行列もよく使います。\n",
        "\n",
        "Identity() function is also useful."
      ]
    },
    {
      "cell_type": "code",
      "execution_count": null,
      "metadata": {
        "id": "0qw6XlBKWDQ7"
      },
      "outputs": [],
      "source": [
        "np.identity(3)"
      ]
    },
    {
      "cell_type": "markdown",
      "metadata": {
        "id": "YX4lAN8MWDQ9"
      },
      "source": [
        "行列(あるいは多次元のarray)の要素を指定する時は、リストの場合よりも直感的な表記ができます。\n",
        "\n",
        "The notation to specify the part of a matrix is slightly different from that of a list."
      ]
    },
    {
      "cell_type": "code",
      "execution_count": null,
      "metadata": {
        "id": "h3kCVQanWDQ9"
      },
      "outputs": [],
      "source": [
        "print(LX[1])\n",
        "print(NX[1])\n",
        "print(LX[1][1])\n",
        "print(NX[1,1])"
      ]
    },
    {
      "cell_type": "markdown",
      "metadata": {
        "id": "xLI293TLWDRA"
      },
      "source": [
        "また、多次元arrayを切り出す場合には、\":\"(コロン)を使った独特の記法が使えます。おなじことを多次元リストに対してやろうとすると、forループを書かざるをえません。\n",
        "\n",
        "You can crop a matrix by using \":\" notation.  There is no correspondent way for a multidimensional list."
      ]
    },
    {
      "cell_type": "code",
      "execution_count": null,
      "metadata": {
        "id": "XjnCbA-gWDRA",
        "scrolled": true
      },
      "outputs": [],
      "source": [
        "print(NX[1:3,1:3])\n",
        "print(NX[0:2,2])"
      ]
    },
    {
      "cell_type": "markdown",
      "metadata": {
        "id": "mK8uE-V4WDRB"
      },
      "source": [
        "同じことを多次元リストに対して行うと、とても直感的でないことが起こります。\n",
        "\n",
        "If you use the similar notation for a multidimensional list, it works in a non-intuitive way."
      ]
    },
    {
      "cell_type": "code",
      "execution_count": null,
      "metadata": {
        "id": "Z9xkitOYWDRB"
      },
      "outputs": [],
      "source": [
        "print(LX[1:3][1:3])"
      ]
    },
    {
      "cell_type": "markdown",
      "metadata": {
        "id": "WC1YHcxWWDRD"
      },
      "source": [
        "行列NXにベクトルを掛けてみます。\n",
        "\n",
        "How about the product of a matrix and a vector?"
      ]
    },
    {
      "cell_type": "code",
      "execution_count": null,
      "metadata": {
        "id": "u_s2BRdNWDRE"
      },
      "outputs": [],
      "source": [
        "v = np.array([10,100,1000])\n",
        "NX*v"
      ]
    },
    {
      "cell_type": "markdown",
      "metadata": {
        "id": "Arb5pLMLWDRG"
      },
      "source": [
        "これは妙な計算になってしまいました。では、dotなら?\n",
        "\n",
        "It is a strange result. Then how about using the dot product?"
      ]
    },
    {
      "cell_type": "code",
      "execution_count": null,
      "metadata": {
        "id": "u74tCM6IWDRG"
      },
      "outputs": [],
      "source": [
        "np.dot(NX,v)"
      ]
    },
    {
      "cell_type": "code",
      "execution_count": null,
      "metadata": {
        "id": "ycSNXle7LjuH"
      },
      "outputs": [],
      "source": [
        "NX @ v"
      ]
    },
    {
      "cell_type": "markdown",
      "metadata": {
        "id": "NOGvCFUrWDRH"
      },
      "source": [
        "vと答の両方が縦ベクトルだと思えば、ちゃんと行列とベクトルのかけ算になっていることはわかると思います。\n",
        "\n",
        "It seems correct so far."
      ]
    },
    {
      "cell_type": "markdown",
      "metadata": {
        "id": "HEvFdimXWDRI"
      },
      "source": [
        "では、行列のかけ算を試してみましょう。\n",
        "\n",
        "Then how about the dot product of two matrices?"
      ]
    },
    {
      "cell_type": "code",
      "execution_count": null,
      "metadata": {
        "id": "jcpZu6mdWDRI"
      },
      "outputs": [],
      "source": [
        "A = np.array([[1,1],\n",
        "              [2,2]])\n",
        "B = np.array([[3,4],\n",
        "              [3,4]])\n",
        "print(A@B)\n",
        "print(B@A)"
      ]
    },
    {
      "cell_type": "markdown",
      "metadata": {
        "id": "U2Fht_ovWDRM"
      },
      "source": [
        "ちゃんと順序通りのかけ算ができることがわかりました。\n",
        "\n",
        "It works nicely.\n",
        "\n",
        "行列を2乗すると?\n",
        "\n",
        "How about the square of a matrix?"
      ]
    },
    {
      "cell_type": "code",
      "execution_count": null,
      "metadata": {
        "id": "uUyhmiPgWDRM"
      },
      "outputs": [],
      "source": [
        "A**2"
      ]
    },
    {
      "cell_type": "markdown",
      "metadata": {
        "id": "_u9LBLmiWDRO"
      },
      "source": [
        "だめでした。ベクトル同士を\"\\*\"した時と同じように、要素ごとのかけ算になってしまいました。やはり、次のように書かないといけないようです。\n",
        "\n",
        "Nope. The use of normal \"\\*\" operator does not work as we expect.  So let's use the dot product again."
      ]
    },
    {
      "cell_type": "code",
      "execution_count": null,
      "metadata": {
        "id": "I18Anhl_WDRO"
      },
      "outputs": [],
      "source": [
        "np.dot(A,A)"
      ]
    },
    {
      "cell_type": "code",
      "execution_count": null,
      "metadata": {
        "id": "eFVt0qzOWDRP"
      },
      "outputs": [],
      "source": [
        "A@A"
      ]
    },
    {
      "cell_type": "markdown",
      "metadata": {
        "id": "jKPSMOQbWDRR"
      },
      "source": [
        "内積演算子`@`はかけ算に似ていますが、`A@A`を`A@@2`とは書けないみたいです。\n",
        "\n",
        "The inner product operator `@` looks like multiplication, but it seems that `A@A` cannot be written as `A@@2`.\n",
        "\n"
      ]
    },
    {
      "cell_type": "markdown",
      "metadata": {
        "id": "DQclqOEdWDRR"
      },
      "source": [
        "転置行列はtranspose関数か、または簡単に.Tで作れます。\n",
        "\n",
        "Transposition of a matrix is easy."
      ]
    },
    {
      "cell_type": "code",
      "execution_count": null,
      "metadata": {
        "id": "K5slSG3kWDRS"
      },
      "outputs": [],
      "source": [
        "np.transpose(A)"
      ]
    },
    {
      "cell_type": "code",
      "execution_count": null,
      "metadata": {
        "id": "-P3_NRvHWDRT"
      },
      "outputs": [],
      "source": [
        "A.T"
      ]
    },
    {
      "cell_type": "markdown",
      "metadata": {
        "id": "8-EXvu07WDRW"
      },
      "source": [
        "行列式、逆行列の計算も簡単です。numpyの拡張ライブラリlinalg(Linear Algorithm?)の中に、いろんな関数が準備されています。\n",
        "\n",
        "Calculating determinants and inverses is also easy.\n",
        "\n",
        "Various functions are available in linalg(Linear Algorithm?), an extension library of numpy."
      ]
    },
    {
      "cell_type": "code",
      "execution_count": null,
      "metadata": {
        "id": "6tvejVJlWDRX"
      },
      "outputs": [],
      "source": [
        "A = np.array([[1,1],[1,2]])\n",
        "B = np.linalg.inv(A)\n",
        "d = np.linalg.det(A)\n",
        "print(B)\n",
        "print(np.dot(A,B))\n",
        "print(np.dot(B,A))\n",
        "print(d)"
      ]
    },
    {
      "cell_type": "markdown",
      "metadata": {
        "id": "Sw0zW58aWDRY"
      },
      "source": [
        "行列計算で、あと面倒くさいものといえば、固有値計算ですが、これもnumpyに組みこまれてい\n",
        "ます。\n",
        "\n",
        "Another troublesome matrix calculation is the eigenvalue calculation, which is also incorporated in numpy. \n",
        "\n",
        "ある行列Aに対し、次のような関係を満たす数$a$とベクトル$\\vec{v}$を、固有値と固有ベクトルと呼びます。\n",
        "\n",
        "For a given matrix A, the numbers $a$ and vectors $\\vec{v}$ that satisfy the following relationship are called eigenvalues and eigenvectors.\n",
        "\n",
        "$$A\\vec{v}=a\\vec{v}$$"
      ]
    },
    {
      "cell_type": "code",
      "execution_count": null,
      "metadata": {
        "id": "P8iFrbM6WDRY",
        "scrolled": true
      },
      "outputs": [],
      "source": [
        "A = np.array([[1,1],[1,2]])\n",
        "np.linalg.eig(A)"
      ]
    },
    {
      "cell_type": "markdown",
      "metadata": {
        "id": "R57yyRHaWDRa"
      },
      "source": [
        "eig関数は、2つの値を返すことがわかります。1つめのarrayは、2つの固有値を含んでいます。そして、2つめの2次元arrayには、対応する固有ベクトルが行列の形で含まれています。ただし、縦に入っているらしいので、個々のベクトルを取りだす時には一工夫必要です。\n",
        "\n",
        "We see that the eig function returns two values: the first array contains two eigenvalues. The second two-dimensional array contains the corresponding eigenvectors in matrix form. Note that they are contained as columnar vectors."
      ]
    },
    {
      "cell_type": "code",
      "execution_count": null,
      "metadata": {
        "id": "SyABdGw0WDRa"
      },
      "outputs": [],
      "source": [
        "eigenvalues, eigenvectors = np.linalg.eig(A)\n",
        "\n",
        "# Transpose to extract the eigenvectors\n",
        "eigenvectors= eigenvectors.T   \n",
        "print(eigenvalues[0],eigenvectors[0])\n",
        "\n",
        "# Check if the combination satisfies the given equation.\n",
        "#上の関係式を満たすかどうか確認する。\n",
        "print(eigenvalues[0]*eigenvectors[0], A @ eigenvectors[0])\n",
        "print(eigenvalues[1]*eigenvectors[1], A @ eigenvectors[1])"
      ]
    },
    {
      "cell_type": "markdown",
      "metadata": {
        "id": "_-WzJK_gWDRd"
      },
      "source": [
        "数値計算では、通常のリストの代わりにnumpyのarrayを使うことをおすすめします。ベクトルや行列の計算が簡単にでき、プログラムがすっきりするというメリットの他に、計算が非常に高速になるというメリットもあります。"
      ]
    },
    {
      "cell_type": "code",
      "execution_count": null,
      "metadata": {
        "id": "b-Nr71-IWDRd"
      },
      "outputs": [],
      "source": [
        "R = np.arange(1,10)\n",
        "R"
      ]
    },
    {
      "cell_type": "markdown",
      "metadata": {
        "id": "4tMudehbWDRk"
      },
      "source": [
        "2つのarrayをリストに入れて、2次元のarrayを作れます。"
      ]
    },
    {
      "cell_type": "code",
      "execution_count": null,
      "metadata": {
        "id": "9rB78S_fWDRk"
      },
      "outputs": [],
      "source": [
        "A = np.array([R,R,R,R,R,R,R,R,R,])\n",
        "A"
      ]
    },
    {
      "cell_type": "markdown",
      "metadata": {
        "id": "34EEm2mfWDRl"
      },
      "source": [
        "みっともないので、リスト内包表記で書けば\n",
        "\n",
        "Simpler way in list comprehension,"
      ]
    },
    {
      "cell_type": "code",
      "execution_count": null,
      "metadata": {
        "id": "cfNiDcXSWDRm"
      },
      "outputs": [],
      "source": [
        "A = np.array([R for i in range(9)])\n",
        "A"
      ]
    },
    {
      "cell_type": "markdown",
      "metadata": {
        "id": "tvXyRAqaWDRn"
      },
      "source": [
        "Aを転置したものをBとします。\n",
        "\n",
        "B is a transposition of A."
      ]
    },
    {
      "cell_type": "code",
      "execution_count": null,
      "metadata": {
        "id": "_jOTsaAIWDRn"
      },
      "outputs": [],
      "source": [
        "B=A.T\n",
        "B"
      ]
    },
    {
      "cell_type": "markdown",
      "metadata": {
        "id": "bI79foZmWDRo"
      },
      "source": [
        "かけ算`*`すると、各要素がかけあわされ、九九の表ができます。\n",
        "\n",
        "Mupliplying them to make the times table."
      ]
    },
    {
      "cell_type": "code",
      "execution_count": null,
      "metadata": {
        "id": "3sXDWW-qWDRo"
      },
      "outputs": [],
      "source": [
        "A*B"
      ]
    },
    {
      "cell_type": "markdown",
      "metadata": {
        "id": "SO4Wds7kWDRq"
      },
      "source": [
        "割り算の余りを計算する`%`演算子を使ってみます。\n",
        "\n",
        "You can easily make its variation, a modulo table."
      ]
    },
    {
      "cell_type": "code",
      "execution_count": null,
      "metadata": {
        "id": "YNzElTyPWDRq"
      },
      "outputs": [],
      "source": [
        "A%B"
      ]
    },
    {
      "cell_type": "markdown",
      "metadata": {
        "id": "9nwinookWDR3"
      },
      "source": [
        "リスト内包記法を使って256x256の巨大な2次元arrayを作り、これを画像として表示してみます。(`numpy array to image`で検索し、https://stackoverflow.com/questions/2659312/how-do-i-convert-a-numpy-array-to-and-display-an-image を参考にしました)"
      ]
    },
    {
      "cell_type": "code",
      "execution_count": null,
      "metadata": {},
      "outputs": [],
      "source": []
    },
    {
      "cell_type": "code",
      "execution_count": null,
      "metadata": {
        "id": "2IcKJAtVWDR3",
        "scrolled": true
      },
      "outputs": [],
      "source": [
        "#              O N E T W R F U I V S X G L\n",
        "A = np.array([[1,1,1,0,0,0,0,0,0,0,0,0,0,0],   #ONE\n",
        "              [1,0,0,1,1,0,0,0,0,0,0,0,0,0],   #TWO\n",
        "              [0,0,2,1,0,1,0,0,0,0,0,0,0,0],   #THREE\n",
        "              [1,0,0,0,0,1,1,1,0,0,0,0,0,0],   #FOUR\n",
        "              [0,0,1,0,0,0,1,0,1,1,0,0,0,0],   #FIVE\n",
        "              [0,0,0,0,0,0,0,0,1,0,1,1,0,0],   #SIX\n",
        "              [0,1,2,0,0,0,0,0,0,1,1,0,0,0],   #SEVEN\n",
        "              [0,0,1,1,0,0,0,0,1,0,0,0,1,0],   #EIGHT\n",
        "              [0,2,1,0,0,0,0,0,1,0,0,0,0,0],   #NINE\n",
        "              [0,1,1,1,0,0,0,0,0,0,0,0,0,0],   #TEN\n",
        "              [0,1,3,0,0,0,0,0,0,1,0,0,0,1],   #ELEVEN\n",
        "              [0,0,2,1,1,0,0,0,0,1,0,0,0,1],   #TWELVE\n",
        "              [0,1,2,2,0,1,0,0,1,0,0,0,0,0],   #THIRTEEN\n",
        "              [1,1,2,1,0,1,1,1,0,0,0,0,0,0]])  #FOURTEEN\n",
        "V = np.array([1,2,3,4,5,6,7,8,9,10,11,12,13,14])\n",
        "print(np.linalg.det(A))"
      ]
    },
    {
      "cell_type": "markdown",
      "metadata": {
        "id": "yoLj1dwAWDR4"
      },
      "source": [
        "残念ながら、Aが特異行列らしく、逆行列が作れません。そこで、いろいろ試行錯誤した結果、#TWOの行を削り、代わりに#FIFTEENを追加すると、Aが特異行列でなくなることがわかりました。\n",
        "\n",
        "Unfortunately, it causes an error because the matrix A is singular. We avoid the singularity by employing FIFTEEN in place of TWO."
      ]
    },
    {
      "cell_type": "markdown",
      "metadata": {},
      "source": [
        "### 例題 Exercise\n",
        "次の覆面算を解いてみましょう。ただし、H=0とします。\n",
        "\n",
        "Let's solve the following simultaneous equations.\n",
        "\n",
        "* O+N+E = 1\n",
        "* T+W+O = 2\n",
        "* T+H+R+E+E = 3\n",
        "* F+O+U+R = 4\n",
        "* F+I+V+E = 5\n",
        "* S+I+X = 6\n",
        "* S+E+V+E+N = 7\n",
        "* E+I+G+H+T = 8\n",
        "* N+I+N+E = 9\n",
        "* T+E+N = 10\n",
        "* ....\n",
        "\n",
        "これは、一見複雑に見えますが、たんなる連立方程式の求解です。全部まとめて解くのは難しいので、この中で同じ変数が適度にまず、でてくる変数を並べると、\n",
        "\n",
        "It seems quite wierd, but it is just a normal simultaenous equation, so you can solve it with linear algebra. \n",
        "\n",
        "* 1.だけだと(O,N,E)\n",
        "* 2までだと(O,N,E,T,W)\n",
        "* 3までだと(O,N,E,T,W,R)\n",
        "* 4までだと(ONETWRFU)\n",
        "* 5までだと(ONETWRFUIV)\n",
        "* 7までだと(ONETWRFUIVSX)\n",
        "* 10までだと(ONETWRFUIVSXG)\n",
        "* 14までだと(ONETWRFUIVSXGL)\n",
        "\n",
        "で、14まで並べれば、変数の個数と方程式の個数が等しくなり、解けるかもしれないことがわかります。\n",
        "\n",
        "連立方程式は、行列で書きあらわせます。\n",
        "\n",
        "$$\n",
        "\\left(\n",
        "    \\begin{matrix}\n",
        "        1&1&1&0&0&0&\\cdots&0\\\\\n",
        "        1&0&0&1&1&0&\\cdots&0\\\\\n",
        "        0&0&2&1&0&1&\\cdots&0\\\\\n",
        "        1&0&0&0&0&0&\\cdots&0\\\\\n",
        "        \\vdots\\\\\n",
        "    \\end{matrix}\n",
        "\\right)\n",
        "\\left(\n",
        "    \\begin{matrix}\n",
        "        O\\\\\n",
        "        N\\\\\n",
        "        E\\\\\n",
        "        T\\\\\n",
        "        W\\\\\n",
        "        H\\\\\n",
        "        \\vdots\\\\\n",
        "    \\end{matrix}\n",
        "\\right)\n",
        "=\n",
        "\\left(\n",
        "    \\begin{matrix}\n",
        "        1\\\\\n",
        "        2\\\\\n",
        "        3\\\\\n",
        "        4\\\\\n",
        "        5\\\\\n",
        "        6\\\\\n",
        "        \\vdots\\\\\n",
        "    \\end{matrix}\n",
        "\\right)\n",
        "$$\n",
        "\n",
        "連立方程式を解くことは、逆行列を求めることにほかなりません。\n",
        "\n",
        "$$A\\cdot x=b$$ $$x=A^{-1}\\cdot b$$"
      ]
    },
    {
      "cell_type": "code",
      "execution_count": null,
      "metadata": {},
      "outputs": [],
      "source": [
        "#              O N E T W R F U I V S X G L\n",
        "A = np.array([[1,1,1,0,0,0,0,0,0,0,0,0,0,0],   #ONE\n",
        "              [1,0,0,1,1,0,0,0,0,0,0,0,0,0],   #TWO\n",
        "              [0,0,2,1,0,1,0,0,0,0,0,0,0,0],   #THREE\n",
        "              [1,0,0,0,0,1,1,1,0,0,0,0,0,0],   #FOUR\n",
        "              [0,0,1,0,0,0,1,0,1,1,0,0,0,0],   #FIVE\n",
        "              [0,0,0,0,0,0,0,0,1,0,1,1,0,0],   #SIX\n",
        "              [0,1,2,0,0,0,0,0,0,1,1,0,0,0],   #SEVEN\n",
        "              [0,0,1,1,0,0,0,0,1,0,0,0,1,0],   #EIGHT\n",
        "              [0,2,1,0,0,0,0,0,1,0,0,0,0,0],   #NINE\n",
        "              [0,1,1,1,0,0,0,0,0,0,0,0,0,0],   #TEN\n",
        "              [0,1,3,0,0,0,0,0,0,1,0,0,0,1],   #ELEVEN\n",
        "              [0,0,2,1,1,0,0,0,0,1,0,0,0,1],   #TWELVE\n",
        "              [0,1,2,2,0,1,0,0,1,0,0,0,0,0],   #THIRTEEN\n",
        "              [1,1,2,1,0,1,1,1,0,0,0,0,0,0]])  #FOURTEEN\n",
        "V = np.array([1,2,3,4,5,6,7,8,9,10,11,12,13,14])\n",
        "print(np.linalg.det(A))"
      ]
    },
    {
      "cell_type": "markdown",
      "metadata": {},
      "source": [
        "残念ながら、Aが特異行列らしく、逆行列が作れません。そこで、いろいろ試行錯誤した結果、#TWOの行を削り、代わりに#FIFTEENを追加すると、Aが特異行列でなくなることがわかりました。\n",
        "\n",
        "Unfortunately, it causes an error because the matrix A is singular. We avoid the singularity by employing FIFTEEN in place of TWO."
      ]
    },
    {
      "cell_type": "code",
      "execution_count": null,
      "metadata": {
        "id": "t7P49DhuWDR5"
      },
      "outputs": [],
      "source": [
        "#              O N E T W R F U I V S X G L\n",
        "A = np.array([[1,1,1,0,0,0,0,0,0,0,0,0,0,0],   #ONE\n",
        "           #  [1,0,0,1,1,0,0,0,0,0,0,0,0,0],   #TWO\n",
        "              [0,0,2,1,0,1,0,0,0,0,0,0,0,0],   #THREE\n",
        "              [1,0,0,0,0,1,1,1,0,0,0,0,0,0],   #FOUR\n",
        "              [0,0,1,0,0,0,1,0,1,1,0,0,0,0],   #FIVE\n",
        "              [0,0,0,0,0,0,0,0,1,0,1,1,0,0],   #SIX\n",
        "              [0,1,2,0,0,0,0,0,0,1,1,0,0,0],   #SEVEN\n",
        "              [0,0,1,1,0,0,0,0,1,0,0,0,1,0],   #EIGHT\n",
        "              [0,2,1,0,0,0,0,0,1,0,0,0,0,0],   #NINE\n",
        "              [0,1,1,1,0,0,0,0,0,0,0,0,0,0],   #TEN\n",
        "              [0,1,3,0,0,0,0,0,0,1,0,0,0,1],   #ELEVEN\n",
        "              [0,0,2,1,1,0,0,0,0,1,0,0,0,1],   #TWELVE\n",
        "              [0,1,2,2,0,1,0,0,1,0,0,0,0,0],   #THIRTEEN\n",
        "              [1,1,2,1,0,1,1,1,0,0,0,0,0,0],   #FOURTEEN\n",
        "              [0,1,2,1,0,0,2,0,1,0,0,0,0,0]])  #FIFTEEN\n",
        "numbers = np.array([1,3,4,5,6,7,8,9,10,11,12,13,14,15])\n",
        "\n",
        "np.linalg.det(A)"
      ]
    },
    {
      "cell_type": "markdown",
      "metadata": {
        "id": "IdYa3JAOWDR6"
      },
      "source": [
        "逆行列を使うと、それぞれの記号の値が直ちに一意に求まります。(多少の誤差が生じるので、丸めました)\n",
        "\n",
        "The answer is obtained by solving the linear equation. (Small errors are rounded.)"
      ]
    },
    {
      "cell_type": "code",
      "execution_count": null,
      "metadata": {
        "id": "P0w2GmTfWDR6"
      },
      "outputs": [],
      "source": [
        "O,N,E,T,W,R,F,U,I,V,S,X,G,L = np.round(np.linalg.inv(A) @ numbers, 6)\n",
        "O,N,E,T,W,R,F,U,I,V,S,X,G,L"
      ]
    },
    {
      "cell_type": "code",
      "execution_count": null,
      "metadata": {
        "id": "Sdby-9E4WDR7"
      },
      "outputs": [],
      "source": [
        "H=0\n",
        "print(O+N+E)\n",
        "print(T+W+O)\n",
        "print(T+H+R+E+E)\n",
        "print(F+O+U+R)\n",
        "print(F+I+V+E)\n",
        "print(S+I+X)\n",
        "print(S+E+V+E+N)\n",
        "print(E+I+G+H+T)\n",
        "print(N+I+N+E)\n",
        "print(T+E+N)\n",
        "Z=6\n",
        "print(Z+E+R+O)\n"
      ]
    },
    {
      "cell_type": "markdown",
      "metadata": {
        "id": "JVpJD-stWDR8"
      },
      "source": [
        "確かにO+N+E=1になることがわかります。また、計算では省いたT+W+Oもちゃんと2になることがわかります。さらに、Zを適当に定めれば、Z+E+R+O=0も満たせます。"
      ]
    },
    {
      "cell_type": "markdown",
      "metadata": {
        "id": "l15jTvdNWDRu"
      },
      "source": [
        "### Fancy Index\n",
        "\n",
        "最後に、少し変態的なnumpyの機能, Fancy indexを紹介します。\n",
        "\n",
        "これは、配列arrayの一部の要素だけを抽出したり並べかえたりするのに非常に便利な機能ですが、使えるようになるにはかなり訓練が要ります。\n",
        "\n",
        "Finally, I would like to introduce a slightly perverse numpy feature, Fancy index.\n",
        "\n",
        "This is a very useful feature for extracting and reordering items of an array array, but it takes some trainings.\n",
        "\n"
      ]
    },
    {
      "cell_type": "markdown",
      "metadata": {
        "id": "gyFinduYPcc5"
      },
      "source": [
        "#### 条件による要素の抽出 Extraction by condition\n",
        "\n",
        "まず、-20〜+20の数列を作ります。\n",
        "\n",
        "Let us prepare a sequence of numbers between -20 and 20."
      ]
    },
    {
      "cell_type": "code",
      "execution_count": null,
      "metadata": {
        "id": "03MZ9d--WDRu"
      },
      "outputs": [],
      "source": [
        "import numpy as np\n",
        "\n",
        "a = np.array([x for x in range(-20,21)])\n",
        "print(a)"
      ]
    },
    {
      "cell_type": "markdown",
      "metadata": {
        "id": "sf4jmWyaWDRv"
      },
      "source": [
        "arrayに対して定数の足し算やかけ算をすると、個々の要素に対して定数が足されたり掛けられたりしました。\n",
        "\n",
        "それと同じように、arrayに対して論理演算を使うと、個々の要素に対してそれが行われ、その結果が論理型(True or False)のarrayになります。\n",
        "\n",
        "When you add or multiply constants to an array, the constants are added to or multiplied by the individual elements.\n",
        "\n",
        "Similarly, when you use a logical operation on an array, it is performed on the individual elements, and the result is an array of logical type (True or False)."
      ]
    },
    {
      "cell_type": "code",
      "execution_count": null,
      "metadata": {
        "id": "L4EUlfj5WDRv"
      },
      "outputs": [],
      "source": [
        "# is an even number?\n",
        "b = (a % 2 == 0)\n",
        "b"
      ]
    },
    {
      "cell_type": "code",
      "execution_count": null,
      "metadata": {
        "id": "WB5NUHc3Qtlk"
      },
      "outputs": [],
      "source": [
        "# is a mupltiple of 3?\n",
        "c = (a % 3 == 0)\n",
        "c"
      ]
    },
    {
      "cell_type": "code",
      "execution_count": null,
      "metadata": {
        "id": "C60Ky1iojotq"
      },
      "outputs": [],
      "source": [
        "# is a multiple of 6?\n",
        "bc = b & c\n",
        "bc"
      ]
    },
    {
      "cell_type": "markdown",
      "metadata": {
        "id": "QDJZw3BlWDRw"
      },
      "source": [
        "そして、aの引数を指定する代わりに、論理型のarrayを与えると、真(True)な要素だけを抽出できます。\n",
        "\n",
        "When you give the logical array as the argument of an array, you can extract the `True` items from the array."
      ]
    },
    {
      "cell_type": "code",
      "execution_count": null,
      "metadata": {
        "id": "Uz1G1EAJWDRx"
      },
      "outputs": [],
      "source": [
        "b_items = a[b]\n",
        "b_items"
      ]
    },
    {
      "cell_type": "code",
      "execution_count": null,
      "metadata": {
        "id": "lwqAImYpRt0c"
      },
      "outputs": [],
      "source": [
        "c_items = a[c]\n",
        "c_items"
      ]
    },
    {
      "cell_type": "code",
      "execution_count": null,
      "metadata": {
        "id": "I6BDDUR7Rzf0"
      },
      "outputs": [],
      "source": [
        "bc_items = a[bc]\n",
        "bc_items"
      ]
    },
    {
      "cell_type": "markdown",
      "metadata": {
        "id": "4Hf-ii7jWDRy"
      },
      "source": [
        "途中の変数bやcを使わないで、次のように書いても同じように動作します。\n",
        "\n",
        "You ca also specilfy the condition directly."
      ]
    },
    {
      "cell_type": "code",
      "execution_count": null,
      "metadata": {
        "id": "VI6-d1QOWDRy"
      },
      "outputs": [],
      "source": [
        "print(a[a%2==0])"
      ]
    },
    {
      "cell_type": "markdown",
      "metadata": {
        "id": "Y1VRUdYxWDRz"
      },
      "source": [
        "これも、大量のデータを操作するときには欠かせない機能です。この機能のおかげで、arrayを利用すると、forループ処理を書かなくてすみます。\n",
        "\n",
        "It is very convenient to process a lot of data without using iterations.\n",
        "\n",
        "この書式の場合は、抽出の対象となるarray aと、条件を指定するbやcの長さは同じでなければなりません。\n",
        "\n",
        "In this syntax, the lengths of the arrays must be the same.\n",
        "\n"
      ]
    },
    {
      "cell_type": "code",
      "execution_count": null,
      "metadata": {
        "id": "D4oJytz0SVn5"
      },
      "outputs": [],
      "source": [
        "len(a), len(b), len(c)\n",
        "\n"
      ]
    },
    {
      "cell_type": "markdown",
      "metadata": {
        "id": "bj59sXzzSqTy"
      },
      "source": [
        "以下のケースでは、b_itemsの長さとcの長さが違うのでエラーになります。\n",
        "\n",
        "The following code causes error because the lengths of `b_items` and `c` are different."
      ]
    },
    {
      "cell_type": "code",
      "execution_count": null,
      "metadata": {
        "id": "BiOiicGNSevi"
      },
      "outputs": [],
      "source": [
        "print(len(b_items))\n",
        "b_items[c]"
      ]
    },
    {
      "cell_type": "markdown",
      "metadata": {
        "id": "pPy_DaU8Xml_"
      },
      "source": [
        "この書法を使って、arrayの一部を書換えることもできます。次の例では、要素が3の倍数である場合には0に書きかえています。\n",
        "\n",
        "This syntax also allows us to change specific items in an array."
      ]
    },
    {
      "cell_type": "code",
      "execution_count": null,
      "metadata": {
        "id": "-uesOTViXnz5"
      },
      "outputs": [],
      "source": [
        "a[a%3==0] = 0\n",
        "a\n"
      ]
    },
    {
      "cell_type": "markdown",
      "metadata": {
        "id": "37Vc-QPIS1Lo"
      },
      "source": [
        "#### 練習問題 Exercise\n",
        "\n",
        "aの奇数要素だけを抽出した`odd`を作って下さい。\n",
        "\n",
        "Try to extract the odd items in `a`."
      ]
    },
    {
      "cell_type": "code",
      "execution_count": null,
      "metadata": {
        "id": "9ZAPOd-2TIsn"
      },
      "outputs": [],
      "source": []
    },
    {
      "cell_type": "markdown",
      "metadata": {
        "id": "k-FLJhsWTJY6"
      },
      "source": [
        "#### 要素の抽出と並べかえ Extraction and Reordering\n",
        "\n",
        "これまでにも、リストやarrayの一部を抽出することはありました。例えば、aの最初の3要素が欲しければ、次のように書きます。\n",
        "\n",
        "When you simply want the first three items of an array,"
      ]
    },
    {
      "cell_type": "code",
      "execution_count": null,
      "metadata": {
        "id": "Lyg3VCGNWDRz"
      },
      "outputs": [],
      "source": [
        "a[:3]"
      ]
    },
    {
      "cell_type": "markdown",
      "metadata": {
        "id": "lCPAvfwSTss4"
      },
      "source": [
        "でも、この方法だけで自由に要素を抽出するのはそれなりに面倒です。例えば、`a`の3番目と10番目と6番目の要素だけをとりだしたい時には、一般的には以下のように書こうと思うでしょう。\n",
        "\n",
        "When you want to extract non-sequential part of an array, you would write the code like:"
      ]
    },
    {
      "cell_type": "code",
      "execution_count": null,
      "metadata": {
        "id": "iqIgqgroUBfg"
      },
      "outputs": [],
      "source": [
        "extracted = [a[x] for x in (3,10,6)]\n",
        "extracted"
      ]
    },
    {
      "cell_type": "markdown",
      "metadata": {
        "id": "Y27ya4x-WDR0"
      },
      "source": [
        "numpyでは、要素番号の配列を使って、次のようにしてとりだすこともできます。\n",
        "\n",
        "You can pickup the items by preparing the list of items you want to select."
      ]
    },
    {
      "cell_type": "code",
      "execution_count": null,
      "metadata": {
        "id": "0Gf_6NoQWDR1"
      },
      "outputs": [],
      "source": [
        "index = [3,10,6]  # must not be a tuple but a list.\n",
        "b = a[index]\n",
        "b"
      ]
    },
    {
      "cell_type": "markdown",
      "metadata": {
        "id": "wgZga9QjVEZY"
      },
      "source": [
        "例えば、行列の0行目と1行目を入れかえたい場合。\n",
        "\n",
        "Consider the case where we want to exchange the zeros and first rows of a matrix.\n",
        "\n",
        "Python以外の言語で一般的な書き方\n",
        "\n",
        "A common way."
      ]
    },
    {
      "cell_type": "code",
      "execution_count": null,
      "metadata": {
        "id": "kA3jkXbYVeDz"
      },
      "outputs": [],
      "source": [
        "M = np.array([[1,2,3], [4,5,6], [7,8,9]])\n",
        "\n",
        "N = M.copy()\n",
        "N[0] = M[1]\n",
        "N[1] = M[0]\n",
        "N"
      ]
    },
    {
      "cell_type": "markdown",
      "metadata": {
        "id": "jipeeyt1V4xA"
      },
      "source": [
        "ちょっとPythonっぽい書き方。\n",
        "\n",
        "More pythonic code."
      ]
    },
    {
      "cell_type": "code",
      "execution_count": null,
      "metadata": {
        "id": "90QT35fIV7Pv"
      },
      "outputs": [],
      "source": [
        "M = np.array([[1,2,3], [4,5,6], [7,8,9]])\n",
        "\n",
        "N = M.copy()\n",
        "N[0], N[1] = M[1], M[0]\n",
        "N"
      ]
    },
    {
      "cell_type": "markdown",
      "metadata": {
        "id": "uOtEF8DnWcnk"
      },
      "source": [
        "Fancy indexによる書き方\n",
        "\n",
        "Fancy indexing."
      ]
    },
    {
      "cell_type": "code",
      "execution_count": null,
      "metadata": {
        "id": "TC8ZS28EWgK4"
      },
      "outputs": [],
      "source": [
        "M = np.array([[1,2,3], [4,5,6], [7,8,9]])\n",
        "\n",
        "neworder = [1,0,2]\n",
        "N = M[neworder]\n",
        "N"
      ]
    },
    {
      "cell_type": "markdown",
      "metadata": {
        "id": "jtdNSMfUWDR2"
      },
      "source": [
        "このように、arrayの要素を自由自在にとりだすやり方をfancy indexと呼びます。Fancy indexは、処理が速く、利用するには便利な機能ですが、他人がfancy indexを使って書いたプログラムは読みづらい場合もあるので、注釈を入れるなどして、誤解を生じないようにすることが大切です。\n",
        "\n",
        "Fancy index is a fast and convenient feature to use, but programs written by others using fancy index may be difficult to read, so it is important to include annotations."
      ]
    },
    {
      "cell_type": "markdown",
      "metadata": {
        "id": "qR1uQBr0W-6G"
      },
      "source": [
        "#### 練習問題 Exercise\n",
        "\n",
        "Fancy Indexを使って、`M`の0列と1列を入れ替えた新しい配列`N`を作る。\n",
        "\n",
        "Use Fancy Index to create a new array `N`, replacing columns 0 and 1 of `M`."
      ]
    },
    {
      "cell_type": "markdown",
      "metadata": {
        "id": "T4kYK5oJMsV-"
      },
      "source": [
        "# 課題 Practice\n"
      ]
    },
    {
      "cell_type": "markdown",
      "metadata": {
        "id": "jMcPNMBQWDR8"
      },
      "source": [
        "## 1\n",
        "数字のリストが与えられた時に、その平均と分散をnumpyを使って求めて下さい。平均$m$と分散$\\sigma^2$は次の式で定義されます。\n",
        "\n",
        "Given a list of numbers, find their mean and variance using numpy. The mean $m$ and variance $\\sigma^2$ are defined by the following equations\n",
        "\n",
        "$$m=\\frac{1}{N}\\sum_{i=1}^Nx_i$$\n",
        "$$\\sigma^2=\\frac{1}{N}\\sum_{i=1}^N(x_i-m)^2$$\n",
        "\n",
        "\n",
        "自分で書くか、あるいは検索して、すでにあるライブラリ関数(numpyにもたぶん含まれている)を使っても構いません。\n",
        "\n",
        "You can write your own, or search and use already existing library functions (which are probably included in numpy)."
      ]
    },
    {
      "cell_type": "code",
      "execution_count": null,
      "metadata": {
        "id": "O-R_WHHJWDR9"
      },
      "outputs": [],
      "source": [
        "x = np.array([ 0.22164031,  0.61727899,  0.3739398 ,  0.79191903,  0.52999859,\n",
        "               0.75259054,  0.83869619,  0.37511643,  0.18840985,  0.26941082])"
      ]
    },
    {
      "cell_type": "markdown",
      "metadata": {
        "id": "YmyA3eweWDR-"
      },
      "source": [
        "## 2\n",
        "時間変化する信号を10回測定して、それぞれノイズののった測定値(データ数20)が得られた。これらを積算平均して、ノイズを減らしたい。\n",
        "\n",
        "Ten measurements of time-varying signals were made, each with noise (20 data). We want to reduce the noise by averaging these measurements."
      ]
    },
    {
      "cell_type": "code",
      "execution_count": null,
      "metadata": {
        "id": "PvXh7mseWDR-"
      },
      "outputs": [],
      "source": [
        "import numpy as np\n",
        "\n",
        "x= np.array([[ 0.01306063,  0.52318416,  0.6842348 ,  0.88659925,  1.43062419,\n",
        "         1.65557941,  1.96092085,  2.11682415,  2.43555061,  2.45417248,\n",
        "         2.76068272,  2.86108612,  3.0173588 ,  2.95329312,  2.98960379,\n",
        "         3.26120876,  3.27238782,  3.08431247,  3.20790142,  2.98567376],\n",
        " [ 0.11384668,  0.42683156,  0.69887399,  1.03426265,  1.41374148,\n",
        "         1.71369006,  1.69965929,  2.21541997,  2.33950939,  2.39870044,\n",
        "         2.7403247 ,  2.68219194,  2.88680574,  2.96167865,  2.98542131,\n",
        "         3.10429555,  3.1765024 ,  3.1214933 ,  3.20840224,  3.0101024 ],\n",
        " [ 0.05321219,  0.37241418,  0.81798184,  1.12045628,  1.3842116 ,\n",
        "         1.54211121,  1.8723874 ,  2.18039462,  2.32535101,  2.40062611,\n",
        "         2.74065761,  2.69438143,  2.82414584,  3.1442926 ,  3.05182578,\n",
        "         3.0919835 ,  3.12119082,  3.27042575,  3.0548667 ,  2.91240206],\n",
        " [ 0.29958307,  0.48826081,  0.59821522,  0.95298047,  1.25393654,\n",
        "         1.55158793,  1.79146239,  2.13168153,  2.34429752,  2.62020428,\n",
        "         2.68890192,  2.75369354,  2.99650511,  3.12675426,  2.95744638,\n",
        "         3.07042868,  3.13874391,  3.1175062 ,  2.9697316 ,  2.96604274],\n",
        " [  8.95486843e-04,   4.78099068e-01,   8.28350840e-01,\n",
        "          1.12466287e+00,   1.31529180e+00,   1.53211768e+00,\n",
        "          1.77580852e+00,   2.11289709e+00,   2.21203768e+00,\n",
        "          2.37508200e+00,   2.68273514e+00,   2.79832837e+00,\n",
        "          2.97237006e+00,   3.04740097e+00,   3.08015002e+00,\n",
        "          3.24949769e+00,   3.05859623e+00,   2.99955393e+00,\n",
        "          3.07468165e+00,   3.13141516e+00],\n",
        " [ 0.1546176 ,  0.34380903,  0.73875515,  1.17206458,  1.23962685,\n",
        "         1.58828719,  1.74234345,  2.06950884,  2.33550848,  2.492627  ,\n",
        "         2.58372354,  2.71208119,  3.03045237,  3.05116902,  3.19724291,\n",
        "         3.18640899,  3.29753745,  3.04263655,  3.06478375,  2.98563735],\n",
        " [ 0.14197954,  0.45233175,  0.80051213,  1.01296238,  1.1692362 ,\n",
        "         1.69775992,  1.75605971,  1.95864613,  2.21454585,  2.47220208,\n",
        "         2.57415561,  2.70864983,  2.83899076,  3.11507708,  2.99158238,\n",
        "         3.15628167,  3.02768404,  3.16362439,  3.14590727,  2.90096532],\n",
        " [ 0.15281607,  0.50981811,  0.85425746,  0.99499797,  1.28542632,\n",
        "         1.60915566,  1.9310765 ,  2.14322098,  2.31923896,  2.64589036,\n",
        "         2.78277593,  2.79802198,  2.86259494,  2.98234801,  2.98571814,\n",
        "         3.18533329,  3.14515223,  3.12138175,  2.96030298,  2.86238004],\n",
        " [ 0.04645865,  0.31229686,  0.74050961,  1.09465264,  1.21385032,\n",
        "         1.67470476,  1.72481892,  1.98010989,  2.28011651,  2.44438769,\n",
        "         2.63112608,  2.69160678,  2.82627485,  3.17813874,  3.1101046 ,\n",
        "         3.14887469,  3.05903264,  3.176241  ,  2.92505185,  3.11092727],\n",
        " [ 0.14853626,  0.46710442,  0.72931594,  0.92093626,  1.174658  ,\n",
        "         1.70589293,  1.78431614,  1.9611697 ,  2.24361246,  2.51401689,\n",
        "         2.60125842,  2.77471708,  2.948813  ,  3.07635662,  2.98824014,\n",
        "         3.0481058 ,  3.24268459,  3.03588112,  3.13376977,  2.97784376]])"
      ]
    },
    {
      "cell_type": "markdown",
      "metadata": {
        "id": "7rGGfMMNWDSA"
      },
      "source": [
        "とりあえずプロットしてみる。\n",
        "\n",
        "Just plot them."
      ]
    },
    {
      "cell_type": "code",
      "execution_count": null,
      "metadata": {
        "id": "7A3sNoTAWDSB"
      },
      "outputs": [],
      "source": [
        "%matplotlib inline\n",
        "from matplotlib import pyplot as plt\n",
        "\n",
        "for row in x:\n",
        "    plt.plot(row)"
      ]
    },
    {
      "cell_type": "code",
      "execution_count": null,
      "metadata": {
        "id": "YQCcYSUAWDSC"
      },
      "outputs": [],
      "source": [
        "x[0]"
      ]
    },
    {
      "cell_type": "code",
      "execution_count": null,
      "metadata": {
        "id": "f_lb2V04WDSD"
      },
      "outputs": [],
      "source": [
        "x[1]"
      ]
    },
    {
      "cell_type": "code",
      "execution_count": null,
      "metadata": {
        "id": "uE2EdpR-WDSF"
      },
      "outputs": [],
      "source": [
        "(x[0]+x[1])/2"
      ]
    },
    {
      "cell_type": "markdown",
      "metadata": {
        "id": "QAHR1c_kWDSG"
      },
      "source": [
        "## 3\n",
        "画像は、巨大な行列である。例えば、100x100ピクセルの白黒画像は、100行100列の行列として表せる。個々の要素の値は、ピクセルの明るさ(0〜255)を表す。カラー画像の場合は、赤緑青の3つの行列ですべてのピクセルの色彩を表現する。\n",
        "\n",
        "次の画像ファイル(8ビットグレースケール、0が黒、255が白)に対し、次の操作をして表示するコードを書け。Fancy Indexを使って書けるならなお良い。\n",
        "\n",
        "An image is a huge matrix. For example, a black-and-white image of 100x100 pixels can be represented as a matrix of 100 rows and 100 columns. The values of the individual elements represent the brightness of the pixels (0-255). For a color image, three matrices, red-green-blue, represent the color of all pixels.\n",
        "\n",
        "For the following image file (8-bit grayscale, 0 being black and 255 being white), write code that performs the following operations to display the image, preferably using the Fancy Index."
      ]
    },
    {
      "cell_type": "code",
      "execution_count": 1,
      "metadata": {
        "id": "GCu4aHOPhzJu"
      },
      "outputs": [
        {
          "name": "stdout",
          "output_type": "stream",
          "text": [
            "<class 'numpy.ndarray'>\n",
            "(100, 100)\n"
          ]
        },
        {
          "data": {
            "image/png": "[encoded data removed]",
            "text/plain": [
              "<PIL.Image.Image image mode=L size=100x100>"
            ]
          },
          "metadata": {},
          "output_type": "display_data"
        }
      ],
      "source": [
        "from skimage import io\n",
        "from IPython.display import display\n",
        "\n",
        "def Show(a):\n",
        "    \"\"\"\n",
        "    2次元array aを画像として表示する。\n",
        "    \"\"\"\n",
        "    from PIL import Image # 画像操作ライブラリ\n",
        "    img = Image.fromarray(a)\n",
        "    display(img)\n",
        "\n",
        "\n",
        "A = io.imread('https://github.com/vitroid/PythonTutorials/blob/master/2%20Advanced/%E3%81%82.png?raw=true')\n",
        "print(type(A))\n",
        "\n",
        "# 画像が、行列であることを確認する。\n",
        "print(A.shape)\n",
        "Show(A)"
      ]
    },
    {
      "cell_type": "code",
      "execution_count": null,
      "metadata": {
        "id": "uaY5ToMlG6j0"
      },
      "outputs": [],
      "source": [
        "A"
      ]
    },
    {
      "cell_type": "markdown",
      "metadata": {
        "id": "yMIKO2-MWDSI"
      },
      "source": [
        "1. 色を反転する。\n",
        "2. 左右を反転する。\n",
        "3. 上下を反転する。\n",
        "4. 対角線に関して反転する。(右上と左下がいれかわる)\n",
        "5. 時計回りに90度回転する。\n",
        "6. 横に40ピクセルずらす。(少し難しい)\n",
        "7. 背景(白)をグレーにする。(fancy indexを使う)\n",
        "8. 背景に模様を入れる(例えば縦線とか)\n",
        "9. その他、自分の好みでエフェクトを加える。"
      ]
    },
    {
      "cell_type": "markdown",
      "metadata": {
        "id": "KqFd73k7og9s"
      },
      "source": [
        "1. reverse color \n",
        "2. reverse left and right\n",
        "3. reverse top/bottom\n",
        "4. Invert with respect to the diagonal (top right and bottom left are swapped). \n",
        "5. Rotate 90 degrees clockwise. \n",
        "6. Shift 40 pixels horizontally. (a little difficult) \n",
        "7. change the background (white) to gray (use fancy index)\n",
        "8. Add a pattern to the background (e.g., vertical lines). \n",
        "9. Add other effects as you like."
      ]
    },
    {
      "cell_type": "code",
      "execution_count": null,
      "metadata": {
        "id": "mG2dT5lTWDSI"
      },
      "outputs": [],
      "source": [
        "# Sample of 1.\n",
        "inv = 255 - A\n",
        "Show(inv)"
      ]
    },
    {
      "cell_type": "code",
      "execution_count": null,
      "metadata": {
        "id": "3by-tCYgtA0V"
      },
      "outputs": [],
      "source": [
        "# Sample of 2.\n",
        "B = A[:, ::-1]\n",
        "Show(B)"
      ]
    },
    {
      "cell_type": "code",
      "execution_count": null,
      "metadata": {
        "id": "ZaH3jWDDpTin"
      },
      "outputs": [],
      "source": []
    }
  ],
  "metadata": {
    "colab": {
      "include_colab_link": true,
      "name": "050numpy.ipynb",
      "provenance": [],
      "toc_visible": true
    },
    "kernelspec": {
      "display_name": "Python 3",
      "language": "python",
      "name": "python3"
    },
    "language_info": {
      "codemirror_mode": {
        "name": "ipython",
        "version": 3
      },
      "file_extension": ".py",
      "mimetype": "text/x-python",
      "name": "python",
      "nbconvert_exporter": "python",
      "pygments_lexer": "ipython3",
      "version": "3.11.3"
    }
  },
  "nbformat": 4,
  "nbformat_minor": 0
}

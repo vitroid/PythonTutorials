{
  "cells": [
    {
      "cell_type": "markdown",
      "metadata": {
        "id": "view-in-github",
        "colab_type": "text"
      },
      "source": [
        "<a href=\"https://colab.research.google.com/github/vitroid/PythonTutorials/blob/master/2%20Advanced/055MolSym.ipynb\" target=\"_parent\"><img src=\"https://colab.research.google.com/assets/colab-badge.svg\" alt=\"Open In Colab\"/></a>"
      ]
    },
    {
      "cell_type": "markdown",
      "metadata": {
        "id": "lc-aXMAHn2WL"
      },
      "source": [
        "# 分子シミュレーション / Molecular Simulations\n",
        "\n",
        "ここでは、分子シミュレーションに関連したコーディング技法をいろいろ示します。分子シミュレーションそのものについては、教科書等を参考にして下さい。\n",
        "\n",
        "In this section, we show various coding techniques related to molecular simulation. For more information on molecular simulation itself, please refer to textbooks and other sources."
      ]
    },
    {
      "cell_type": "code",
      "execution_count": null,
      "metadata": {
        "id": "CyUKId3MqBj5"
      },
      "outputs": [],
      "source": [
        "import numpy as np"
      ]
    },
    {
      "cell_type": "markdown",
      "metadata": {
        "id": "BOtggJR0oDdc"
      },
      "source": [
        "## 1. 原子の座標 / Atomic coordinate\n",
        "\n",
        "原子の座標は$3\\times N$次元のnp.arrayで表現すると、あとあと便利です。ここでは例として、$50^3$単純立方格子の座標を生成します。原子間距離は2.5 Åとします。\n",
        "\n",
        "It is convenient to represent the coordinates of an atom as a $3\\times N$-dimensional np.array. As an example, we will generate the coordinates of a $50^3$ simple cubic lattice. The distance between atoms is set to be 2.5 Å.\n",
        "\n",
        "||x|y|z|\n",
        "|-|-|-|-|\n",
        "|0|$x_0$|$y_0$|$z_0$|\n",
        "|1|$x_1$|$y_1$|$z_1$|\n",
        "|2|$x_2$|$y_2$|$z_2$|\n",
        "|3|$x_3$|$y_3$|$z_3$|\n",
        "|$\\vdots$|$\\vdots$|$\\vdots$|$\\vdots$|\n"
      ]
    },
    {
      "cell_type": "markdown",
      "metadata": {
        "id": "pbTlD7dN6ivr"
      },
      "source": [
        "### 1.1 単純ループ / Simple loop"
      ]
    },
    {
      "cell_type": "code",
      "execution_count": null,
      "metadata": {
        "id": "dqkaTnv8n1Bs"
      },
      "outputs": [],
      "source": [
        "# %%timeit\n",
        "\n",
        "N = 50\n",
        "d = 2.5\n",
        "atoms = []\n",
        "for ix in range(N):\n",
        "    for iy in range(N):\n",
        "        for iz in range(N):\n",
        "            atoms.append([ix*d, iy*d, iz*d])\n",
        "atoms = np.array(atoms)\n"
      ]
    },
    {
      "cell_type": "markdown",
      "source": [
        "`%%timeit`をフレームの先頭につけると、フレーム内の処理を何回も繰りかえして、平均実行時間を測定します。\n",
        "\n",
        "`%%timeit` repeats runs and estimate the time required for one execution.\n",
        "\n",
        "その代わりに、特定の行の先頭に`%time`を付けると、その行の実行時間を計測します。\n",
        "\n",
        "\n"
      ],
      "metadata": {
        "id": "rGPWhHkzblnt"
      }
    },
    {
      "cell_type": "code",
      "source": [
        "import plotly.graph_objects as go\n",
        "\n",
        "fig = go.Figure(data=[go.Scatter3d(x=atoms[:,0],\n",
        "                                   y=atoms[:,1],\n",
        "                                   z=atoms[:,2],\n",
        "                                   mode=\"markers\",\n",
        "                                   marker=dict(size=1))])\n",
        "fig.show()"
      ],
      "metadata": {
        "id": "Z6aV2U_iZVOj"
      },
      "execution_count": null,
      "outputs": []
    },
    {
      "cell_type": "markdown",
      "metadata": {
        "id": "EQJH8iqQpXYT"
      },
      "source": [
        "### 1.2 リスト内包記法 / list comprehension"
      ]
    },
    {
      "cell_type": "code",
      "execution_count": null,
      "metadata": {
        "id": "91j9fCf7qI9k"
      },
      "outputs": [],
      "source": [
        "# %%timeit\n",
        "\n",
        "N = 50\n",
        "d = 2.5\n",
        "atoms = np.array([(ix*d, iy*d, iz*d) for ix in range(N) for iy in range(N) for iz in range(N)])\n"
      ]
    },
    {
      "cell_type": "markdown",
      "metadata": {
        "id": "risybkPLxHGj"
      },
      "source": [
        "numpyのベクトル演算を使いましょう。かけ算はあとでまとめて行います。\n",
        "\n",
        "Use the vector operations in numpy. Multiplication will be done later.\n"
      ]
    },
    {
      "cell_type": "code",
      "execution_count": null,
      "metadata": {
        "id": "NiXHMjrRxQvC"
      },
      "outputs": [],
      "source": [
        "%%timeit\n",
        "\n",
        "N = 50\n",
        "d = 2.5\n",
        "atoms = d * np.array([(ix, iy, iz) for ix in range(N) for iy in range(N) for iz in range(N)])\n"
      ]
    },
    {
      "cell_type": "markdown",
      "metadata": {
        "id": "PfcXiiZjqexV"
      },
      "source": [
        "### 1.3 `np.arange`\n",
        "\n",
        "`range()`は整数しか扱えないので、実数版である`np.arange`に代えます。ixなどのループ専用変数が要らなくなる分、直接的な表現といえます。\n",
        "\n",
        "Since `range()` can only handle integers, it is replaced by `np.range`, which is the real number version of `range()`."
      ]
    },
    {
      "cell_type": "code",
      "execution_count": null,
      "metadata": {
        "id": "266VhcN8qb23"
      },
      "outputs": [],
      "source": [
        "%%timeit\n",
        "\n",
        "N = 50\n",
        "d = 2.5\n",
        "atoms = []\n",
        "for x in np.arange(0, N*d, d):\n",
        "    for y in np.arange(0, N*d, d):\n",
        "        for z in np.arange(0, N*d, d):\n",
        "            atoms.append([x, y, z])\n",
        "atoms = np.array(atoms)"
      ]
    },
    {
      "cell_type": "markdown",
      "metadata": {
        "id": "hPoqx-pwrQhz"
      },
      "source": [
        "一般に、リスト内包記法は通常のループよりも高速です。\n",
        "\n",
        "In general, the list comprehension is faster than normal loops."
      ]
    },
    {
      "cell_type": "code",
      "execution_count": null,
      "metadata": {
        "id": "HOVdcPinqVl2"
      },
      "outputs": [],
      "source": [
        "%%timeit\n",
        "\n",
        "N = 50\n",
        "d = 2.5\n",
        "atoms = np.array([(x,y,z) for x in np.arange(0, N*d, d) for y in np.arange(0, N*d, d) for z in np.arange(0, N*d, d)])\n"
      ]
    },
    {
      "cell_type": "markdown",
      "metadata": {
        "id": "zKRlH1xKr2fG"
      },
      "source": [
        "### 1.4 `meshgrid`\n",
        "\n",
        "numpyには、格子を生成するための特別な関数がいくつかあります。meshgridは、X,Y,Z軸方向の目盛から、格子点を一気に生成します。\n",
        "\n",
        "まず、X方向の目盛を作ります。\n",
        "\n",
        "Numpy has several special functions for generating lattices. The `meshgrid` generates lattice points from X-, Y-, and Z-axis ticks all at once.\n",
        "\n",
        "First, we create a sequence in the X direction."
      ]
    },
    {
      "cell_type": "code",
      "execution_count": null,
      "metadata": {
        "id": "Z0yiT9nqrfCM"
      },
      "outputs": [],
      "source": [
        "N = 50\n",
        "d = 2.5\n",
        "X = np.arange(0, N*d, d)\n",
        "X"
      ]
    },
    {
      "cell_type": "markdown",
      "metadata": {
        "id": "TQzxcY2LsUce"
      },
      "source": [
        "同様に、Y, Zも生成し、これらを組みあわせてグリッド(格子)を作ります。\n",
        "\n",
        "Similarly, Y and Z are generated and combined to form a grid (lattice)."
      ]
    },
    {
      "cell_type": "code",
      "execution_count": null,
      "metadata": {
        "id": "qFHIbsBEsRfD"
      },
      "outputs": [],
      "source": [
        "Y = np.arange(0, N*d, d)\n",
        "Z = np.arange(0, N*d, d)\n",
        "\n",
        "Xg,Yg,Zg = np.meshgrid(X,Y,Z, indexing=\"ij\")\n",
        "Xg"
      ]
    },
    {
      "cell_type": "markdown",
      "metadata": {
        "id": "_BimVdCysn3I"
      },
      "source": [
        "Xgの中身は、Xの内容がなんどもリピートされているように見えます。しかも3次元配列ですね。では、個々の要素を見ていきます。\n",
        "\n",
        "The contents of Xg look like the contents of X are repeated over and over. And it is a 3-dimensional array. Now let's look at the individual elements."
      ]
    },
    {
      "cell_type": "code",
      "execution_count": null,
      "metadata": {
        "id": "7hBP13gosg-Z"
      },
      "outputs": [],
      "source": [
        "Xg[0,0,0], Yg[0,0,0], Zg[0,0,0]"
      ]
    },
    {
      "cell_type": "code",
      "execution_count": null,
      "metadata": {
        "id": "DAbQCv81s6YP"
      },
      "outputs": [],
      "source": [
        "Xg[3,2,4], Yg[3,2,4], Zg[3,2,4]"
      ]
    },
    {
      "cell_type": "markdown",
      "metadata": {
        "id": "-k28lvkstDhV"
      },
      "source": [
        "わかるでしょうか。`Xg[i,j,k]`には、$(i,j,k)$番目の格子点のX座標が入っています。\n",
        "\n",
        "三次元配列ではなく、以前の例のような座標の単純な羅列が欲しいなら、flatten()関数で1次元化します。\n",
        "\n",
        "As you see, `Xg[i,j,k]` contains the X coordinates of the $(i,j,k)$-th grid point.\n",
        "\n",
        "If you want a simple list of coordinates as in the previous example, instead of a three-dimensional array, you can make it one-dimensional with the flatten() function."
      ]
    },
    {
      "cell_type": "code",
      "execution_count": null,
      "metadata": {
        "id": "ea4x16fvtCR9"
      },
      "outputs": [],
      "source": [
        "Xf = Xg.flatten()\n",
        "Yf = Yg.flatten()\n",
        "Zf = Zg.flatten()\n",
        "Xf.shape"
      ]
    },
    {
      "cell_type": "markdown",
      "metadata": {
        "id": "wEK5g5U1vemH"
      },
      "source": [
        "全部まとめると次のように書けます。\n",
        "\n",
        "Let's make them together."
      ]
    },
    {
      "cell_type": "code",
      "execution_count": null,
      "metadata": {
        "id": "ctMH-swOvdry"
      },
      "outputs": [],
      "source": [
        "%%timeit\n",
        "\n",
        "N = 50\n",
        "d = 2.5\n",
        "X = np.arange(0, N*d, d)\n",
        "Y = np.arange(0, N*d, d)\n",
        "Z = np.arange(0, N*d, d)\n",
        "Xg, Yg, Zg = np.meshgrid(X,Y,Z)\n",
        "Xf = Xg.flatten()\n",
        "Yf = Yg.flatten()\n",
        "Zf = Zg.flatten()\n",
        "atoms = np.array([Xf,Yf,Zf]).T\n"
      ]
    },
    {
      "cell_type": "markdown",
      "metadata": {
        "id": "4g-BtExOwTkU"
      },
      "source": [
        "読みにくくなりますが、ループがまったくないので爆速です。\n",
        "\n",
        "It is hard to read, but is much faster."
      ]
    },
    {
      "cell_type": "markdown",
      "source": [
        "### 1.5 `mgrid`\n",
        "\n",
        "`mgrid`は`meshgrid`と似た働きをしますが、関数ではなく配列のように見えます。\n",
        "\n",
        "`mgrid` works similarly to `meshgrid`, but looks like an array rather than a function."
      ],
      "metadata": {
        "id": "R_xWs_y-ZHpU"
      }
    },
    {
      "cell_type": "code",
      "execution_count": null,
      "metadata": {
        "id": "WdlFU59Ytm9z"
      },
      "outputs": [],
      "source": [
        "%%timeit\n",
        "\n",
        "N = 50\n",
        "d = 2.5\n",
        "Xg, Yg, Zg = np.mgrid[0:N,0:N,0:N]\n",
        "Xf = Xg.flatten()\n",
        "Yf = Yg.flatten()\n",
        "Zf = Zg.flatten()\n",
        "atoms = d * np.array([Xf,Yf,Zf]).T\n"
      ]
    },
    {
      "cell_type": "markdown",
      "metadata": {
        "id": "6AiNiWAMyyxJ"
      },
      "source": [
        "極限まで簡略化するとこんな感じ。もはや読めませんが、関数にして名前をつけておけば無問題です。\n",
        "\n",
        "It is not easy to read, but if you make it a function and give it a name, there is no problem."
      ]
    },
    {
      "cell_type": "code",
      "execution_count": null,
      "metadata": {
        "id": "V0qDXHqXw5C4"
      },
      "outputs": [],
      "source": [
        "%%timeit\n",
        "\n",
        "def simple_lattice(N):\n",
        "    \"\"\"Generates a simple cubic lattice with a nearest-neighbor interatomic distance of 1.\n",
        "    N: Generates N^3 unit cells.\n",
        "\n",
        "    最近接原子間距離が1の単純立方格子を生成する。\n",
        "\n",
        "    N: 単位胞をN^3個生成する\n",
        "    \"\"\"\n",
        "    return np.mgrid[0:N, 0:N, 0:N].reshape(3,-1).T\n",
        "\n",
        "N = 50\n",
        "d = 2.5\n",
        "atoms = simple_lattice(N)*d\n"
      ]
    },
    {
      "cell_type": "markdown",
      "metadata": {
        "id": "VOusN8sV2437"
      },
      "source": [
        "\n",
        "### 1.5 ほかの格子 / Other lattices\n",
        "\n",
        "体心立方格子は、単純立方格子を$(1/2, 1/2, 1/2)$だけずらして重ねたものといえます。\n",
        "\n",
        "まず、間隔1の単純格子をつくります。\n",
        "\n",
        "A body-centered cubic lattice can be made of two simple cubic lattices stacked with $(1/2, 1/2, 1/2)$ shifts.\n",
        "\n",
        "First, a simple lattice with spacing 1 is created."
      ]
    },
    {
      "cell_type": "code",
      "execution_count": null,
      "metadata": {
        "id": "Z6c4jaYeyUEc"
      },
      "outputs": [],
      "source": [
        "def simple_lattice(N):\n",
        "    \"\"\"Generates a simple cubic lattice with a nearest-neighbor interatomic distance of 1.\n",
        "    N: Generates N^3 unit cells.\n",
        "\n",
        "    最近接原子間距離が1の単純立方格子を生成する。\n",
        "\n",
        "    N: 単位胞をN^3個生成する\n",
        "    \"\"\"\n",
        "    return np.mgrid[0:N, 0:N, 0:N].reshape(3,-1).T\n",
        "\n",
        "N = 50\n",
        "atoms = simple_lattice(N)\n",
        "atoms"
      ]
    },
    {
      "cell_type": "markdown",
      "metadata": {
        "id": "G7EDOrLD3gJj"
      },
      "source": [
        "ずらした格子を別途作ります。\n",
        "\n",
        "Prepare another slid lattice."
      ]
    },
    {
      "cell_type": "code",
      "execution_count": null,
      "metadata": {
        "id": "JdQsN3Hn3Sww"
      },
      "outputs": [],
      "source": [
        "slid = atoms + np.array([0.5, 0.5, 0.5])\n",
        "slid"
      ]
    },
    {
      "cell_type": "markdown",
      "metadata": {
        "id": "jSSPbtXy3tt_"
      },
      "source": [
        "そして2つを連結concatします。\n",
        "\n",
        "And concatenate them."
      ]
    },
    {
      "cell_type": "code",
      "execution_count": null,
      "metadata": {
        "id": "6uaElPBR3oNH"
      },
      "outputs": [],
      "source": [
        "bcc = np.concatenate([atoms, slid])\n",
        "bcc"
      ]
    },
    {
      "cell_type": "markdown",
      "metadata": {
        "id": "N0XSL5bK4FIU"
      },
      "source": [
        "最近接格子間距離を2.5 Åにしたいなら、ちょっと工夫が必要です。最近接原子は$(0,0,0)$と$(1/2,1/2,1/2)$にあります。この距離が2.5 Åになるように調節します。\n",
        "\n",
        "As we want a BCC with minimal separation of 2.5 Å, we scale the lattice.\n"
      ]
    },
    {
      "cell_type": "code",
      "execution_count": null,
      "metadata": {
        "id": "JkHa9ypj32QC"
      },
      "outputs": [],
      "source": [
        "d = 2.5\n",
        "bcc * d * 2 / 3**0.5"
      ]
    },
    {
      "cell_type": "markdown",
      "metadata": {
        "id": "6354qyCI5DAN"
      },
      "source": [
        "最後に、これも関数にしておきます。\n",
        "\n",
        "Finally, we make it a function."
      ]
    },
    {
      "cell_type": "code",
      "execution_count": null,
      "metadata": {
        "id": "725MGSS_5FfV"
      },
      "outputs": [],
      "source": [
        "def BCC(N):\n",
        "    \"\"\"Generates a body centered cubic lattice with a nearest-neighbor interatomic distance of 1.\n",
        "    N: Generates N^3 unit cells.\n",
        "\n",
        "    最近接原子間距離が1の体心立方格子を生成する。\n",
        "\n",
        "    N: 単位胞をN^3個生成する\n",
        "    \"\"\"\n",
        "    atoms = simple_lattice(N)\n",
        "    slid = atoms + np.array([0.5, 0.5, 0.5])\n",
        "    return np.concatenate([atoms, slid]) * 2 / 3**0.5\n",
        "\n",
        "N = 50\n",
        "d = 2.5\n",
        "atoms = BCC(N) * d\n",
        "atoms"
      ]
    },
    {
      "cell_type": "markdown",
      "metadata": {
        "id": "w2ycB4FZ535J"
      },
      "source": [
        "関数定義の直後にある文字列は、関数の説明文です。これを定義しておくと、ヘルプに表示されます。"
      ]
    },
    {
      "cell_type": "code",
      "execution_count": null,
      "metadata": {
        "id": "93qTQ8qt6ANa"
      },
      "outputs": [],
      "source": [
        "?BCC"
      ]
    },
    {
      "cell_type": "markdown",
      "metadata": {
        "id": "uZeCyWVh4zqg"
      },
      "source": [
        "### Practice 1\n",
        "\n",
        "最短原子間距離が1の面心立方格子を生成する関数fccを作り、単位格子数$2^3$で最短原子間距離が2.5 Åの面心立方格子を作って下さい。\n",
        "\n",
        "Write a function `fcc` that produces a face-centered cubic lattice with a shortest interatomic distance of 1, then make a lattice consisting of $2^3$ unit cells and with a shortest interatomic distance of 2.5 Å."
      ]
    },
    {
      "cell_type": "markdown",
      "metadata": {
        "id": "5srGsbQe6LoE"
      },
      "source": [
        "## 2. シミュレーションセルの取扱い / Simulation cell\n",
        "\n",
        "分子シミュレーションはほとんどの場合周期境界条件のもとで行われます。周期境界条件を適用しない場合、必ず表面の影響を受けてしまいますが、周期境界条件により表面のない状況を擬似的に表現できます。\n",
        "\n",
        "分子シミュレーションでは、分子の入っている箱のことをシミュレーションセルまたは単にセルと呼びます。セルは立方体の場合もあれば直方体の場合もあります。気体や液体のシミュレーションでは立方体セルを使うことが多いですが、固体の場合には結晶の形によっては直方体や平行六面体のセルを用いる場合もあります。\n",
        "\n",
        "セルの大きさについてはここでは議論しませんが、あまり小さな系はアーティファクトの原因になります。最近では1万分子以上を含むような、大規模なシミュレーションも一般的になってきています。\n",
        "\n",
        "以下ではシミュレーションセルは一般的に平行六面体であると考え、その3つの辺を$(\\vec a, \\vec b, \\vec c)$あるいは`a,b,c`で表記します。\n",
        "\n",
        "Most molecular simulations are performed under periodic boundary conditions. If the periodic boundary condition is not applied, the simulation will always be affected by the surface, but the periodic boundary condition can be used to simulate a surface-free situation.\n",
        "\n",
        "In molecular simulations, the box containing the molecules is called a simulation cell or simply a cell. The cell may be cubic or rectangular. Cubic cells are often used in gas and liquid simulations, but for solids, depending on the shape of the crystals, rectangular or parallelepipedal cells may be used.\n",
        "\n",
        "The size of the cell is not discussed here, but too small systems can cause artifacts. It has become common to use large simulations that include more than 10,000 molecules.\n",
        "\n",
        "In the following, the simulation cell is generally considered to be a parallelepiped and its three edges are denoted by $(\\vec a, \\vec b, \\vec c)$ or `a,b,c`."
      ]
    },
    {
      "cell_type": "markdown",
      "metadata": {
        "id": "6FxS5AT67Qob"
      },
      "source": [
        "### 2.1 絶対座標系とセル相対座標系 / Absolute and fractional coordinate system\n",
        "\n",
        "セル内の原子の座標を表す方法として、絶対座標(ユークリッド座標)を指定する方法と、セル相対座標(fractional coordinate)を指定する方法があります。\n",
        "\n",
        "例えば、一辺が12 Åのシミュレーションセルのすみ(原点)と、中央にいる原子の座標は、絶対座標では$(0,0,0), (6,6,6)$、セル相対座標では$(0,0,0), (0.5, 0.5, 0.5)$となります。\n",
        "\n",
        "直感的にわかりやすいのは前者ですが、周期境界条件のとりあつかいを考えると、後者のほうが圧倒的に便利です。\n",
        "\n",
        "直方体セルの場合、セル相対座標を絶対座標に変換するには、セル長をかけます。逆に、絶対座標をセル長で割れば、セル相対座標になります。\n",
        "\n",
        "There are two ways to express the coordinates of atoms in a cell: one is to specify absolute coordinates (Euclidean coordinates) and the other is to specify cell-relative coordinates (fractional coordinates).\n",
        "\n",
        "For example, the coordinates of the origin and the atom in the center of a cubic 12 Å simulation cell are $(0,0,0), (6,6,6)$ in absolute coordinates and $(0,0,0), (0.5, 0.5, 0.5)$ in cell relative coordinates.\n",
        "\n",
        "The former is intuitively easier to understand, but the latter is by far more convenient when considering the handling of periodic boundary conditions.\n",
        "\n",
        "In the case of a rectangular cell, relative cell coordinates are converted to absolute coordinates by multiplying by the cell length. Conversely, dividing absolute coordinates by cell length yields cell relative coordinates."
      ]
    },
    {
      "cell_type": "code",
      "execution_count": null,
      "metadata": {
        "id": "0IBvyl6z-yP1"
      },
      "outputs": [],
      "source": [
        "cell = np.array([12.0, 12.0, 12.0])\n",
        "\n",
        "A = np.array([0.0, 0.0, 0.0])\n",
        "B = np.array([6.0, 6.0, 6.0])\n",
        "\n",
        "rA = A / cell\n",
        "rB = B / cell\n",
        "rA, rB"
      ]
    },
    {
      "cell_type": "markdown",
      "metadata": {
        "id": "0moU5sYe-wlW"
      },
      "source": [
        "### 2.2 周期境界条件下での原子間距離の計算 / Atomic distance under PBC\n",
        "\n",
        "2つの原子の距離は、座標からピタゴラスの定理を使って計算できます。\n",
        "\n",
        "The distance between two atoms can be calculated from their coordinates using the Pythagorean theorem."
      ]
    },
    {
      "cell_type": "code",
      "execution_count": null,
      "metadata": {
        "id": "TdVg0cvH3649"
      },
      "outputs": [],
      "source": [
        "cell = np.array([12.0, 12.0, 12.0])\n",
        "\n",
        "A = np.array([0.0, 0.0, 0.0])\n",
        "B = np.array([3.0, 3.0, 3.0])\n",
        "\n",
        "dAB = B - A\n",
        "r = (dAB[0]**2 + dAB[1]**2 + dAB[2]**2)**0.5\n",
        "r"
      ]
    },
    {
      "cell_type": "markdown",
      "metadata": {
        "id": "VRieazyeCbtD"
      },
      "source": [
        "でも、次の場合にはこの方法はうまくいきません。\n",
        "\n",
        "But it is wrong in the following case."
      ]
    },
    {
      "cell_type": "code",
      "execution_count": null,
      "metadata": {
        "id": "JGK4iBsACNAf"
      },
      "outputs": [],
      "source": [
        "A = np.array([0.0, 0.0, 0.0])\n",
        "C = np.array([9.0, 9.0, 9.0])\n",
        "\n",
        "dAC = C - A\n",
        "r = (dAC[0]**2 + dAC[1]**2 + dAC[2]**2)**0.5\n",
        "r"
      ]
    },
    {
      "cell_type": "markdown",
      "metadata": {
        "id": "y0AkLIG0Cs3a"
      },
      "source": [
        "周期境界条件のもとでは、AB間の距離はAC間の距離と同じはずですが、AC間の計算ではイメージセル間の最短距離をとらえそこねています。\n",
        "\n",
        "ちゃんと計算するには、条件分岐が必要になります。\n",
        "\n",
        "Under the periodic boundary condition, the distance between AB should be the same as the distance between AC, but the calculation between AC fails to capture the shortest distance between image cells.\n",
        "\n",
        "To calculate it properly, a conditional branch is required."
      ]
    },
    {
      "cell_type": "code",
      "execution_count": null,
      "metadata": {
        "id": "pqOvVIz5CmPS"
      },
      "outputs": [],
      "source": [
        "A = np.array([0.0, 0.0, 0.0])\n",
        "C = np.array([9.0, 9.0, 9.0])\n",
        "\n",
        "dAC = C - A\n",
        "\n",
        "if dAC[0] < -6.0:\n",
        "    dAC[0] += 12\n",
        "elif dAC[0] > +6.0:\n",
        "    dAC[0] -= 12\n",
        "\n",
        "if dAC[1] < -6.0:\n",
        "    dAC[1] += 12\n",
        "elif dAC[1] > +6.0:\n",
        "    dAC[1] -= 12\n",
        "\n",
        "if dAC[2] < -6.0:\n",
        "    dAC[2] += 12\n",
        "elif dAC[2] > +6.0:\n",
        "    dAC[2] -= 12\n",
        "\n",
        "r = (dAC[0]**2 + dAC[1]**2 + dAC[2]**2)**0.5\n",
        "r"
      ]
    },
    {
      "cell_type": "markdown",
      "metadata": {
        "id": "uEIUL8DpDUr9"
      },
      "source": [
        "これは面倒臭い! 上の条件式にでてくる6.0はセルの一辺の長さの半分です。差が6を越えたら、反対側のイメージセルの原子のほうが近いので、12を引いてイメージセルの原子との距離におきかえます。これを3方向について処理する必要があります。\n",
        "\n",
        "次に、同じことをセル相対座標で書いてみます。\n",
        "\n",
        "This is tedious! The 6.0 in the above equation is half the length of one side of the cell. If the difference exceeds 6, the atom in the image cell on the opposite side is closer, so we subtract 12 and replace it with the distance to the atom in the image cell. This must be done for all three directions.\n",
        "\n",
        "Next, let us write the same thing in cell relative coordinates."
      ]
    },
    {
      "cell_type": "code",
      "execution_count": null,
      "metadata": {
        "id": "j3HqYdxTDTor"
      },
      "outputs": [],
      "source": [
        "cell = np.array([12.0, 12.0, 12.0])\n",
        "\n",
        "A = np.array([0.0, 0.0, 0.0])\n",
        "C = np.array([9.0, 9.0, 9.0])\n",
        "\n",
        "# to a fractional coordinate\n",
        "rA = A / cell\n",
        "rC = C / cell\n",
        "\n",
        "dAC = rC - rA\n",
        "\n",
        "if dAC[0] < -0.5:\n",
        "    dAC[0] += 1\n",
        "elif dAC[0] > +0.5:\n",
        "    dAC[0] -= 1\n",
        "\n",
        "if dAC[1] < -0.5:\n",
        "    dAC[1] += 1\n",
        "elif dAC[1] > +0.5:\n",
        "    dAC[1] -= 1\n",
        "\n",
        "if dAC[2] < -0.5:\n",
        "    dAC[2] += 1\n",
        "elif dAC[2] > +0.5:\n",
        "    dAC[2] -= 1\n",
        "\n",
        "# to an absolute displacement vector\n",
        "dAC *= cell\n",
        "\n",
        "r = (dAC[0]**2 + dAC[1]**2 + dAC[2]**2)**0.5\n",
        "r"
      ]
    },
    {
      "cell_type": "markdown",
      "metadata": {
        "id": "yRWxntsEEcsz"
      },
      "source": [
        "やっていることは同じですが、セルサイズが条件文の中にでてこなくなったので、すこし見易くなりました。\n",
        "\n",
        "でもメリットはこれだけではありません。条件文の計算は、実は「四捨五入」と等価なのです。例えば、`x==0.75`なら、上の条件文を通ると`x==-0.25`になりますよね。これは、「xを小数点1桁目で四捨五入して、xから引く」のと同じ結果になります。\n",
        "\n",
        "numpyには四捨五入関数round()が準備されていますから、これを使うとプログラムはさっぱりします。\n",
        "\n",
        "What is done is the same, but the cell size is no longer shown in the conditional statement, so it is a little easier to read.\n",
        "\n",
        "But this is not the only benefit. The conditional statement calculation is actually equivalent to rounding. For example, if `x==0.75`, then `x==-0.25` after passing the conditional statement above. This is the same result as rounding x to the first decimal place and subtracting from x itself.\n",
        "\n",
        "Since numpy is prepared with a rounding function round(), you can rewrite your program with it."
      ]
    },
    {
      "cell_type": "code",
      "execution_count": null,
      "metadata": {
        "id": "v-eXTICrEaEg"
      },
      "outputs": [],
      "source": [
        "cell = np.array([12.0, 12.0, 12.0])\n",
        "\n",
        "A = np.array([0.0, 0.0, 0.0])\n",
        "C = np.array([9.0, 9.0, 9.0])\n",
        "\n",
        "# fractional coordinate\n",
        "rA = A / cell\n",
        "rC = C / cell\n",
        "\n",
        "dAC = rC - rA\n",
        "dAC -= np.round(dAC)\n",
        "\n",
        "# absolute displacement vector\n",
        "dAC *= cell\n",
        "\n",
        "r = (dAC[0]**2 + dAC[1]**2 + dAC[2]**2)**0.5\n",
        "r"
      ]
    },
    {
      "cell_type": "markdown",
      "metadata": {
        "id": "YM9P_AM0Fym6"
      },
      "source": [
        "> なお、著者は`round()`関数の挙動がたいへん気持ち悪いので、`floor(x+0.5)`という書き方を好みます。`round()`の気持ち悪さは下のグラフで実感できます。\n",
        "\n",
        "> Note that the author prefers to write `floor(x+0.5)` because the behavior of the `round()` function is very weird. The weirdness of `round()` can be seen in the graph below."
      ]
    },
    {
      "cell_type": "code",
      "source": [
        "import numpy as np\n",
        "import pandas as pd # Just for table formatting.\n",
        "\n",
        "x = np.arange(-3.0, +3.5, 0.5)\n",
        "rounded = np.round(x)\n",
        "floored = np.floor(x+0.5)\n",
        "inted = (x+0.5).astype(int)\n",
        "\n",
        "df = pd.DataFrame([x, rounded, floored, inted]).T\n",
        "df.columns = [\"x\", \"round\", \"floor\", \"inted\"]\n",
        "df.style.background_gradient(cmap='jet')"
      ],
      "metadata": {
        "id": "L6SKdfrf3pGU"
      },
      "execution_count": null,
      "outputs": []
    },
    {
      "cell_type": "code",
      "execution_count": null,
      "metadata": {
        "id": "uLj0SuRKF0Lm"
      },
      "outputs": [],
      "source": [
        "import numpy as np\n",
        "import matplotlib.pyplot as plt\n",
        "\n",
        "x = np.arange(-3.0, +3.5, 0.5)\n",
        "print(x)\n",
        "plt.plot(x, np.round(x), \"o-\",  label=\"Round func.\")\n",
        "plt.plot(x, np.floor(x+0.5), \"o-\", label=\"Floor func.\")\n",
        "plt.legend()\n",
        "plt.show()\n",
        "\n",
        "plt.plot(x, x.astype(int), \"o-\", label=\"Int func.\")\n",
        "plt.plot(x, np.floor(x+0.5), \"o-\", label=\"Floor func.\")\n",
        "plt.legend()\n",
        "plt.show()\n"
      ]
    },
    {
      "cell_type": "markdown",
      "metadata": {
        "id": "0zSealfCIQEU"
      },
      "source": [
        "### 2.3 セルからはみでた原子の扱い / Atoms out of the cell\n",
        "\n",
        "分子動力学シミュレーションの過程で、原子がセル端面を越えて外に出てしまう場合があります。その場合は、反対側から入ってきます。\n",
        "\n",
        "絶対座標で書くと以下のような感じです。\n",
        "\n",
        "During the course of a molecular dynamics simulation, an atom may go out past the cell end face. In that case, it comes in from the other side.\n",
        "\n",
        "Written in absolute coordinates, it looks like this:"
      ]
    },
    {
      "cell_type": "code",
      "execution_count": null,
      "metadata": {
        "id": "ONo7e6xJFfp8"
      },
      "outputs": [],
      "source": [
        "cell = np.array([12.0, 12.0, 12.0])\n",
        "\n",
        "A = np.array([1.0, 2.0, -3.0]) # z方向にはみ出している\n",
        "\n",
        "if A[0] < 0.0:\n",
        "    A[0] += 12\n",
        "elif A[0] > 12:\n",
        "    A[0] -= 12\n",
        "\n",
        "if A[1] < 0.0:\n",
        "    A[1] += 12\n",
        "elif A[1] > 12:\n",
        "    A[1] -= 12\n",
        "\n",
        "if A[2] < 0.0:\n",
        "    A[2] += 12\n",
        "elif A[2] > 12:\n",
        "    A[2] -= 12\n",
        "\n",
        "A"
      ]
    },
    {
      "cell_type": "markdown",
      "metadata": {
        "id": "eBebYRkWI_19"
      },
      "source": [
        "これも、セル相対座標を使えばすこし簡潔になります。\n",
        "\n",
        "The fractional coordinates make it simpler."
      ]
    },
    {
      "cell_type": "code",
      "execution_count": null,
      "metadata": {
        "id": "vnwt4kU1I-I9"
      },
      "outputs": [],
      "source": [
        "cell = np.array([12.0, 12.0, 12.0])\n",
        "\n",
        "A = np.array([1.0, 2.0, -3.0]) # z方向にはみ出している\n",
        "\n",
        "# to a fractional coordinate\n",
        "rA = A / cell\n",
        "\n",
        "if rA[0] < 0.0:\n",
        "    rA[0] += 1\n",
        "elif rA[0] > 1:\n",
        "    rA[0] -= 1\n",
        "\n",
        "if rA[1] < 0.0:\n",
        "    rA[1] += 1\n",
        "elif rA[1] > 1:\n",
        "    rA[1] -= 1\n",
        "\n",
        "if rA[2] < 0.0:\n",
        "    rA[2] += 1\n",
        "elif rA[2] > 1:\n",
        "    rA[2] -= 1\n",
        "\n",
        "# to an absolute coordinate\n",
        "A = rA * cell\n",
        "A"
      ]
    },
    {
      "cell_type": "markdown",
      "metadata": {
        "id": "ofdblXMiJZ8N"
      },
      "source": [
        "今度は条件分岐のしかたがちょっと違いますね。この条件分岐は、切り捨てに書きなおすことができます。\n",
        "\n",
        "* zは-0.25。(-3/12)\n",
        "* zを小数点以下で切り捨てる=zよりも小さい最大の整数にする=-1\n",
        "* もとのzから-1を引くと0.75。\n",
        "\n",
        "This time, the conditional branch is a little different. This conditional branch can be rewritten to a truncation.\n",
        "\n",
        "* z is -0.25.(-3/12)\n",
        "* truncate z to the nearest whole number (= the largest integer less than z) = -1\n",
        "* Subtract -1 from the original, z = 0.75.\n",
        "\n"
      ]
    },
    {
      "cell_type": "code",
      "execution_count": null,
      "metadata": {
        "id": "nmR-cZDZJUkG"
      },
      "outputs": [],
      "source": [
        "cell = np.array([12.0, 12.0, 12.0])\n",
        "\n",
        "A = np.array([1.0, 2.0, -3.0]) # z方向にはみ出している\n",
        "\n",
        "# to a fractional coordinate\n",
        "rA = A / cell\n",
        "\n",
        "# 切りすてた数をもとの数から引く。\n",
        "rA -= np.floor(rA)\n",
        "\n",
        "# to an absolute coordinate\n",
        "A = rA * cell\n",
        "A"
      ]
    },
    {
      "cell_type": "markdown",
      "metadata": {
        "id": "3WcTCPbZKuNb"
      },
      "source": [
        "このように、セル相対座標を使うことで、条件分岐を使わないですみ、プログラムが簡潔かつ高速になります。\n",
        "\n",
        "Thus, using cell relative coordinates eliminates the need for conditional branching, making the program simpler and faster."
      ]
    },
    {
      "cell_type": "markdown",
      "metadata": {
        "id": "7G9QOXZjK586"
      },
      "source": [
        "### 2.4 非直方体セルの取扱い / not orthogonal cell\n",
        "\n",
        "直方体でないセルのことも考えると、絶対座標よりセル相対座標のほうが圧倒的に便利であることがわかります。\n",
        "\n",
        "直方体でないセルの、3つの辺をそれぞれ$\\vec a, \\vec b, \\vec c$で表します。\n",
        "\n",
        "さて、このセルの中央に原子をひとつ置いて下さい。もし絶対座標を使うのなら、中心とは$\\vec a+ \\vec b+ \\vec c\\over 2$のことです。\n",
        "\n",
        "Considering non-rectangular cells, we find that cell relative coordinates are by far more convenient than absolute coordinates.\n",
        "\n",
        "Let $\\vec a, \\vec b, \\vec c$ denote the three basic vectors of a nonrectangular cell, respectively.\n",
        "\n",
        "Now, place one atom in the center of this cell. If we use absolute coordinates, it is $\\vec a+ \\vec b+ \\vec c\\over 2$."
      ]
    },
    {
      "cell_type": "code",
      "execution_count": null,
      "metadata": {
        "id": "wrpHwSqfW3o-"
      },
      "outputs": [],
      "source": [
        "a = np.array([3.0, 0.0, 0.0])\n",
        "b = np.array([1.5, 4.0, 0.0]) # bが傾いている\n",
        "c = np.array([0.0, 0.0, 5.0])\n",
        "\n",
        "A = (a+b+c)/2\n",
        "A\n"
      ]
    },
    {
      "cell_type": "markdown",
      "metadata": {
        "id": "hLVmn80SXb7u"
      },
      "source": [
        "では、絶対座標で$(0.5, 2.0, 3.0)$にある原子Bは、このセルの中にありますか? それとも外にありますか? 外にある場合、周期境界条件のもとでセル内に移動させるならどこに来るでしょうか。\n",
        "\n",
        "かなり面倒に見えてきましたね。そこでセル相対座標の出番です。\n",
        "\n",
        "セル相対座標では、その名の通り、原子の場所はセルの中での相対位置で指示します。例えば、セルの中心は、セルの形がどんなであっても$(0.5, 0.5, 0.5)$です。そして、絶対座標になおしたいなら、\n",
        "$0.5\\vec a+0.5 \\vec b+0.5\\vec c$を計算すればいいだけです。\n",
        "\n",
        "もっと簡単に書く方法を教えましょう。セルの3基本ベクトルを束ねた、セル行列というものを作ります。\n",
        "\n",
        "$$M=\\left(\\begin{array}{c}\n",
        "a_x&b_x&c_x\\\\\n",
        "a_y&b_y&c_y\\\\\n",
        "a_z&b_z&c_z\n",
        "\\end{array}\\right)$$\n",
        "\n",
        "そして、これにセル相対ベクトル$\\vec v=(1/2,1/2,1/2)^T$をかけます。($^T$は転置を表します。$\\vec v$は縦ベクトルです)\n",
        "$$ \\vec w=M\\cdot \\vec v$$\n",
        "$$=\\left({a_x+b_x+c_x\\over 2}, {a_y+b_y+c_y\\over 2}, {a_z+b_z+c_z\\over 2}\\right)$$\n",
        "\n",
        "得られた$\\vec w$はセル中心の絶対座標になっています!\n",
        "\n",
        "ということは、逆に絶対座標に$M$の逆行列をかけるだけで、セル相対座標に変換できる、ということになります。\n",
        "\n",
        "$$ \\vec v=M^{-1}\\cdot \\vec w$$\n",
        "\n",
        "なお、numpyでは座標ベクトルは横ベクトルで表されることが多いので、全部転置したほうが便利です。\n",
        "\n",
        "$$ \\vec w^T=\\vec v^T\\cdot M^T$$\n",
        "$$ \\vec v^T=\\vec w^T\\cdot (M^{-1})^T$$\n",
        "\n",
        "----\n",
        "\n",
        "So is atom B at absolute coordinates $(0.5, 2.0, 3.0)$ inside this cell? Or is it outside? If it is outside, where its the right position for B under periodic boundary conditions?\n",
        "\n",
        "In the fractional coordinate, it is an easy task.\n",
        "\n",
        "In cell relative coordinates, as the name implies, the location of an atom is indicated by its relative position in the cell. For example, the center of a cell is $(0.5, 0.5, 0.5)$ no matter what the shape of the cell is. And if you want to convert it to absolute coordinates,\n",
        "Just calculate $0.5\\vec a+0.5 \\vec b+0.5\\vec c$.\n",
        "\n",
        "Let me show you an easier way to write it. We create a cell matrix, which is a bundle of 3 basis vectors of cells.\n",
        "\n",
        "$$M=\\left(\\begin{array}{c}\n",
        "a_x&b_x&c_x\\\\\n",
        "a_y&b_y&c_y\\\\\\\n",
        "a_z&b_z&c_z\n",
        "\\end{array}\\right)$$\n",
        "\n",
        "Then multiply this by the cell relative vector $\\vec v=(1/2,1/2,1/2)^T$. ($^T$ denotes transposition. $\\vec v$ is a vertical vector)\n",
        "$$ \\vec w=M\\cdot \\vec v$$\n",
        "$$=\\left({a_x+b_x+c_x\\over 2}, {a_y+b_y+c_y\\over 2}, {a_z+b_z+c_z\\over 2}\\right)$$\n",
        "\n",
        "The obtained $\\vec w$ are absolute coordinates of the cell center!\n",
        "\n",
        "This means that, conversely, we can convert it to cell relative coordinates by simply multiplying the absolute coordinates by the inverse matrix of $M$.\n",
        "\n",
        "$$ \\vec v=M^{-1}\\cdot \\vec w$$\n",
        "\n",
        "Note that in numpy, coordinate vectors are often represented as transversal vectors, so it is more convenient to transpose them all.\n",
        "\n",
        "$$ \\vec w^T=\\vec v^T\\cdot M^T$$\n",
        "$$ \\vec v^T=\\vec w^T\\cdot (M^{-1})^T$$\n",
        "\n"
      ]
    },
    {
      "cell_type": "code",
      "execution_count": null,
      "metadata": {
        "id": "a-jdDptAXbjA"
      },
      "outputs": [],
      "source": [
        "Mt = np.array([a,b,c]) # 転置されたセル行列\n",
        "\n",
        "vt = np.array([0.5,0.5,0.5])\n",
        "wt = vt @ Mt\n",
        "wt"
      ]
    },
    {
      "cell_type": "code",
      "execution_count": null,
      "metadata": {
        "id": "GTzUCDs_KV4u"
      },
      "outputs": [],
      "source": [
        "MtI = np.linalg.inv(Mt)\n",
        "\n",
        "vt = wt @ MtI\n",
        "vt"
      ]
    },
    {
      "cell_type": "markdown",
      "metadata": {
        "id": "ZTMj6MGdcfHT"
      },
      "source": [
        "セル相対座標表示のメリットはほかにもまだまだあります。\n",
        "\n",
        "ある原子がセルからはみでているかどうかは、セル相対座標であれば、座標値が0〜1の範囲にあるかどうかだけで判別できます。\n",
        "\n",
        "There is still anoother advantage of the fractional coordinate.\n",
        "\n",
        "In the fractional coordinates, it is possible to determine whether an atom is out of a cell or not, simply by whether the coordinate value is in the range of 0 to 1."
      ]
    },
    {
      "cell_type": "code",
      "execution_count": null,
      "metadata": {
        "id": "Vj8eenHDcWqn"
      },
      "outputs": [],
      "source": [
        "B = np.array([0.5,2.0,3.0]) #絶対座標\n",
        "rB = B @ MtI\n",
        "rB"
      ]
    },
    {
      "cell_type": "markdown",
      "metadata": {
        "id": "ZFYlW-XWc_SC"
      },
      "source": [
        "Bはセル外にあります。では、周期境界条件を作用させて、セル内に移動させるには?\n",
        "\n",
        "これも上で紹介した切り捨て法がそのまま使えます。\n",
        "\n",
        "B is out of the cell because its fractional x coordinate is negative. Then, where is the correct position?\n",
        "\n",
        "The truncation method is also useful here."
      ]
    },
    {
      "cell_type": "code",
      "execution_count": null,
      "metadata": {
        "id": "IL3_8xCwc9gi"
      },
      "outputs": [],
      "source": [
        "rB -= np.floor(rB)\n",
        "rB"
      ]
    },
    {
      "cell_type": "markdown",
      "metadata": {
        "id": "Mjn0GGAzdRwh"
      },
      "source": [
        "そして絶対座標に戻したければ、セル行列をかけます。\n",
        "\n",
        "And multiply the cell matrix when the absolute coordinate is required."
      ]
    },
    {
      "cell_type": "code",
      "execution_count": null,
      "metadata": {
        "id": "0LVOp1pDdPUv"
      },
      "outputs": [],
      "source": [
        "B = rB @ Mt\n",
        "B"
      ]
    },
    {
      "cell_type": "markdown",
      "metadata": {
        "id": "YEuMS3c9dl7W"
      },
      "source": [
        "周期境界条件のもとでの2つの原子の相対ベクトルも、同じように簡単に計算できます。\n",
        "\n",
        "The relative vector between two atoms in a non orthogonal cell can also be calculated easily in the same way.\n"
      ]
    },
    {
      "cell_type": "code",
      "execution_count": null,
      "metadata": {
        "id": "so5kG46FdYVx"
      },
      "outputs": [],
      "source": [
        "B = np.array([0.5,2.0,3.0]) #絶対座標\n",
        "rB = B @ MtI\n",
        "\n",
        "rA = np.array([0.5,0.5,0.5]) # 相対座標でセルの中央\n",
        "\n",
        "rel = rB - rA                # 相対座標での差\n",
        "rel -= np.floor(rel+0.5)     # 相対座標での周期境界条件の作用\n",
        "\n",
        "rel @ Mt  # 絶対座標における相対位置ベクトル"
      ]
    },
    {
      "cell_type": "markdown",
      "metadata": {
        "id": "xv91wgpXeUL4"
      },
      "source": [
        "Gromacsの.groファイルでは、原子座標を絶対座標で記録しますが、それが最良なわけではありません。LAMMPSやCIFはセル相対座標を使います。周期境界条件に関係ある処理を行う場合は、原子の座標を全部セル相対座標に変換しておくと、何かと便利です。\n",
        "\n",
        "groファイルを読みこみ、セル行列とセル相対座標を生成するMDAnalysisのサンプルコードを下に書いておきます。\n",
        "\n",
        "Gromacs .gro files record atomic coordinates in absolute coordinates, but that is not always the best; LAMMPS and CIF use cell relative coordinates. If you are doing a process that involves periodic boundary conditions, it may be useful to convert all of the atom coordinates to cell relative coordinates.\n",
        "\n",
        "Below is a sample code for MDAnalysis that reads a gro file and generates cell matrices and cell relative coordinates."
      ]
    },
    {
      "cell_type": "code",
      "execution_count": null,
      "metadata": {
        "id": "-JwSF8LleIUV"
      },
      "outputs": [],
      "source": [
        "%pip install mdanalysis"
      ]
    },
    {
      "cell_type": "code",
      "execution_count": null,
      "metadata": {
        "id": "ODTntELFfDll"
      },
      "outputs": [],
      "source": [
        "import MDAnalysis as mda\n",
        "\n",
        "with open(\"data.gro\") as file:\n",
        "    # MDAnalysisオブジェクト\n",
        "    u = mda.Universe(file, format=\"GRO\")\n",
        "    # 酸素原子だけ抽出。単位はÅ\n",
        "    O = u.select_atoms(\"name OW\")\n",
        "    # 転置されたセル行列\n",
        "    cell = mda.lib.mdamath.triclinic_vectors(u.trajectory.ts.dimensions).T\n",
        "    # その逆行列\n",
        "    celli = np.linalg.inv(cell)\n",
        "    # 酸素原子の座標を抽出(絶対座標)\n",
        "    pos = O.atoms.positions.astype(float)\n",
        "    # セル相対座標に変換\n",
        "    rpos = pos @ celli\n"
      ]
    },
    {
      "cell_type": "markdown",
      "metadata": {
        "id": "6JViLKBPlGPb"
      },
      "source": [
        "## 3. 原子対の取扱い / Neighbor pairs\n",
        "\n",
        "各原子から$n$ nm以内にある原子を抽出して処理を行いたい、ということはよくあります。例えば、1 nmまでの動径分布関数を計算したい場合であれば、各原子から1 nmより遠い原子について何らかの処理を行うのは無駄でしかありません。\n",
        "\n",
        "最初に作った体心立方格子の原子配置を使い、隣接する原子間を結合でつないでみましょう。\n",
        "\n",
        "It is often the case that we want to extract and process atoms that are within $n$ nm of each atom. For example, if we want to calculate radial distribution functions upto 1 nm, it would be wasteful to do any processing on atoms farther than 1 nm from each atom.\n",
        "\n",
        "Let's use the atomic arrangement of the body-centered cubic lattice we created at the beginning to connect adjacent atoms with a bond."
      ]
    },
    {
      "cell_type": "code",
      "execution_count": null,
      "metadata": {
        "id": "GGDgIaMkfKY5"
      },
      "outputs": [],
      "source": [
        "import numpy as np\n",
        "\n",
        "def simple_lattice(N):\n",
        "    return np.mgrid[0:N, 0:N, 0:N].reshape(3,-1).T\n",
        "\n",
        "def BCC(N):\n",
        "    atoms = simple_lattice(N)\n",
        "    slid = atoms + np.array([0.5, 0.5, 0.5])\n",
        "    return np.concatenate([atoms, slid]) * 2 / 3**0.5\n",
        "\n",
        "N = 12\n",
        "d = 2.5\n",
        "atoms = BCC(N) * d\n",
        "len(atoms)"
      ]
    },
    {
      "cell_type": "markdown",
      "metadata": {
        "id": "DB5pAz3Gn5Be"
      },
      "source": [
        "atomsには、3456個の原子の座標が含まれています。そして、最近接原子距離は2.5です。2つの原子の間の距離が3.0以下であれば結合していると判定して、原子の番号をリストに蓄えていくことにしましょう。\n",
        "\n",
        "とりあえず、周期境界条件のことは無視します。\n",
        "\n",
        "最も素朴なコードは次のようなものです。\n",
        "\n",
        "`atoms` contains the coordinates of 3456 atoms. And the nearest-neighbor atom distance is 2.5. let's determine that two atoms are bonded if the distance between them is less than 3.0 and store the atom numbers in the list.\n",
        "\n",
        "For now, we will ignore the periodic boundary condition.\n",
        "\n",
        "The most elementary code would look something like this"
      ]
    },
    {
      "cell_type": "code",
      "execution_count": null,
      "metadata": {
        "id": "RgO0Y1zXolMD"
      },
      "outputs": [],
      "source": [
        "def all_pairs(atoms, rc):\n",
        "    nmol = len(atoms)\n",
        "    pairs = []\n",
        "    for i in range(nmol):\n",
        "        for j in range(i):\n",
        "            d = atoms[j] - atoms[i]\n",
        "            r2 = (d**2).sum()\n",
        "            if r2 < rc**2:\n",
        "                pairs.append([i,j])\n",
        "    return pairs\n",
        "\n",
        "%time print(len(all_pairs(atoms, 3.0)))\n"
      ]
    },
    {
      "cell_type": "markdown",
      "metadata": {
        "id": "YT_NGYFlqwfG"
      },
      "source": [
        "... たった20000対のリストを作るのに、うんざりするぐらい待たされますね。しかも、まだ周期境界条件の処理を行っていません。粒子数の二乗に比例するアルゴリズムは、粒子数が10000を越えるとまず使いものにならないということです。\n",
        "\n",
        "そこで、あらかじめすべての粒子をbinに分け、その上で対リストを作ることにします。とりあえず、binの大きさは1 Åとしましょう。\n",
        "\n",
        "これぐらい細かくしておけば、同じbinの中に複数の原子が入ることはまずありません。(共有結合する物質ではもっと細かくしたほうがいいですが、それはあとで考えます。)\n",
        "\n",
        "\n",
        "... It is exasperatingly long time to obtain a list of only 20,000 pairs. And we have not yet processed the periodic boundary conditions. The algorithm proportional to the square of the number of particles means that it is useless if the number of particles exceeds 10,000.\n",
        "\n",
        "Therefore, we will divide all particles into bins and make a pair list. For now, we set the bin size to be 1 Å.\n",
        "\n",
        "It is unlikely that more than one atom will be in the same bin.\n",
        "\n"
      ]
    },
    {
      "cell_type": "code",
      "execution_count": null,
      "metadata": {
        "id": "VcTFbuWppAVX"
      },
      "outputs": [],
      "source": [
        "# occupant[x]はbin xにある原子の番号\n",
        "occupant = dict()\n",
        "i = 0\n",
        "for pos in atoms:\n",
        "    # 座標を整数にする; pos=(1.4, 3.2, -6.3)ならipos=(1, 3, -7)\n",
        "    ipos = tuple(np.floor(pos).astype(int))\n",
        "    # binに、原子の番号を入れておく。(あとで、その場所にいる原子の番号を知りたいので)\n",
        "    occupant[ipos] = i\n",
        "    i += 1"
      ]
    },
    {
      "cell_type": "markdown",
      "metadata": {
        "id": "8v9Dt8pQ7jui"
      },
      "source": [
        "上のコードでは、occupantをdict()としているのがミソです。これによって、粒子が入っていないbinまで準備する必要がなくなります。\n",
        "\n",
        "例えば、ある原子Aの近く、3 Å以内にある原子を全部知りたいなら、次のようにさがします。\n",
        "\n",
        "1. Aのbin番号を求めます。これを`(p, q, r)`とします。\n",
        "2. binの間隔は1 Åなので、そのbinから、3つ隣までのbin (つまり、`(p-3:p+4,q-3:q+4,r-3:r+4)`)に入っている原子は、距離3 Å以内にある可能性があります。\n",
        "3. それらの中で、実際に3 Å以内にあるものだけを抽出します。\n",
        "\n",
        "In the code above, the key is to use dict() for occupant. This eliminates the need to prepare bins that do not contain any particles.\n",
        "\n",
        "For example, if you want to know all the atoms within 3 Å of an atom A, you can do the following:\n",
        "\n",
        "1. Let `(p, q, r)` the bin number that contains A.\n",
        "2. Since the distance between the bins is 1 Å, the atoms in the next three bins (i.e., `(p-3:p+4,q-3:q+4,r-3:r+4)`) may be within a distance of 3 Å from the bin. Pick them up all. It is a rough estimate.\n",
        "3. Extract atoms are actually within 3 Å."
      ]
    },
    {
      "cell_type": "code",
      "execution_count": null,
      "metadata": {
        "id": "EMqsVKkQ6ip2"
      },
      "outputs": [],
      "source": [
        "def nearby(A, radius, atoms, occupant):\n",
        "    \"\"\"\n",
        "    A: The target atom\n",
        "    radius: maximum separation distance\n",
        "    atoms: absolute coordinates of the atoms\n",
        "    occupant: list of atoms in each bins\n",
        "    \"\"\"\n",
        "    # 整数化した座標 = bin番号\n",
        "    p,q,r = np.floor(atoms[A]).astype(int)\n",
        "    # 距離を整数にしたもの。いくつ隣のbinまでさがすかを決める。\n",
        "    # 見逃しを避けるために、切り上げる。\n",
        "    iradius = np.ceil(radius).astype(int)\n",
        "\n",
        "    near = []\n",
        "    # bin (p,q,r)に近いbinだけを探す。\n",
        "    for ix in range(p-iradius, p+iradius+1):\n",
        "        for iy in range(q-iradius, q+iradius+1):\n",
        "            for iz in range(r-iradius, r+iradius+1):\n",
        "                if (ix,iy,iz) in occupant:\n",
        "                    # 隣接原子の候補\n",
        "                    B = occupant[ix,iy,iz]\n",
        "                    # 自分を含めない、かつ重複を避ける\n",
        "                    if A < B:\n",
        "                        # きちんと距離を計算する\n",
        "                        d = atoms[A] - atoms[B]\n",
        "                        # 近ければ\n",
        "                        if (d**2).sum() < radius**2:\n",
        "                            # リストに追加する\n",
        "                            near.append(B)\n",
        "    return near\n",
        "\n"
      ]
    },
    {
      "cell_type": "markdown",
      "metadata": {
        "id": "SnusAMvJCDx_"
      },
      "source": [
        "3 Å以内の原子対をリストします。\n",
        "\n",
        "List all pairs within 3 Å."
      ]
    },
    {
      "cell_type": "code",
      "execution_count": null,
      "metadata": {
        "id": "BoIGK00g6k4S"
      },
      "outputs": [],
      "source": [
        "pairs = []\n",
        "for i in range(len(atoms)):\n",
        "    near = nearby(i, 3.0, atoms, occupant)\n",
        "    for j in near:\n",
        "        pairs.append([i,j])\n",
        "\n",
        "len(pairs)"
      ]
    },
    {
      "cell_type": "markdown",
      "metadata": {
        "id": "9u5GmNJVDBHr"
      },
      "source": [
        "全部まとめて時間を測ってみましょう。速さは明らかです。また、この手法だと粒子数Nに比例した時間しかかからないので、粒子数が多いほどその差は歴然とします。\n",
        "\n",
        "Let's put it all together and measure the time. The speed is obvious. Also, this method only takes time proportional to the number of particles N, so the more particles there are, the more obvious the difference is."
      ]
    },
    {
      "cell_type": "code",
      "execution_count": null,
      "metadata": {
        "id": "NzOi90aj6o1H"
      },
      "outputs": [],
      "source": [
        "def all_pairs_faster(atoms, rc):\n",
        "    # occupant[x]はbin xにある原子の番号\n",
        "    occupant = dict()\n",
        "    i = 0\n",
        "    for pos in atoms:\n",
        "        # 座標を整数にする; pos=(1.4, 3.2, -6.3)ならipos=(1, 3, -7)\n",
        "        ipos = tuple(np.floor(pos).astype(int))\n",
        "        # binに、原子の番号を入れておく。(あとで、その場所にいる原子の番号を知りたいので)\n",
        "        occupant[ipos] = i\n",
        "        i += 1\n",
        "\n",
        "    pairs = []\n",
        "    for i in range(len(atoms)):\n",
        "        near = nearby(i, 3.0, atoms, occupant)\n",
        "        for j in near:\n",
        "            pairs.append([i,j])\n",
        "    return pairs\n",
        "\n",
        "%time print(len(all_pairs_faster(atoms, 3.0)))\n"
      ]
    },
    {
      "cell_type": "markdown",
      "metadata": {
        "id": "Aa_V9vCGD4cv"
      },
      "source": [
        "この例では、コードをシンプルにするためにビンの大きさを1 Åにしましたが、これを最適化すればまだ速くなる余地があります。(ただし、コードは複雑になります)\n",
        "\n",
        "周期境界条件の場合には、これらの処理をセル相対座標で行うことになりますが、長い話になりますのでここでは紹介しません。\n",
        "\n",
        "実用上は周期境界条件下での近接原子対を探すモジュール`pairlist`を使います。\n",
        "\n",
        "In this example, the bin size was set to 1 Å to simplify the code, but there is still room for optimization to make it faster. (However, the code will become more complex.)\n",
        "\n",
        "In the case of periodic boundary conditions, these processes are performed in cell relative coordinates, but this is a long story and will not be presented here.\n",
        "\n",
        "For practical use, we will use the module `pairlist`, which searches for close pairs of atoms in a non orthogonal cell under periodic boundary conditions."
      ]
    },
    {
      "cell_type": "code",
      "execution_count": null,
      "metadata": {
        "id": "-e9AnT-VFgxP"
      },
      "outputs": [],
      "source": [
        "%pip install pairlist"
      ]
    },
    {
      "cell_type": "code",
      "execution_count": null,
      "metadata": {
        "id": "Q2bm5MbxFi0E"
      },
      "outputs": [],
      "source": [
        "N = 12\n",
        "d = 2.5\n",
        "atoms = BCC(N) * d\n",
        "dimen = np.array([N,N,N])*d\n",
        "# セル行列\n",
        "cell = np.diag(dimen)\n",
        "cell\n"
      ]
    },
    {
      "cell_type": "code",
      "execution_count": null,
      "metadata": {
        "id": "vcvUGFgsF3zv"
      },
      "outputs": [],
      "source": [
        "import pairlist as pl\n",
        "\n",
        "def all_pairs_fastest(atoms, radius, cell):\n",
        "    celli = np.linalg.inv(cell)\n",
        "    # セル相対座標に変換\n",
        "    rpos = atoms @ celli\n",
        "\n",
        "    pairs = []\n",
        "    # pairs_iterは、距離radius以内の粒子対のインデックスと距離を返すgenerator。rposはセル内相対座標、cellはセル行列。\n",
        "    for i, j, d in pl.pairs_iter(rpos, radius, cell):\n",
        "        pairs.append([i,j])\n",
        "    return pairs\n",
        "\n",
        "%time print(len(all_pairs_fastest(atoms, 3.0, cell)))"
      ]
    },
    {
      "cell_type": "markdown",
      "metadata": {
        "id": "-vRAF6R0IxER"
      },
      "source": [
        "### Practice 2\n",
        "\n",
        "binの大きさを大きくすると、1つのbinの中に複数の原子が含まれる可能性があります。その場合にも破綻しないように、all_pairs_fasterを拡張して下さい。\n",
        "\n",
        "If the bin size is increased, a single bin may contain more than one atom. Please extend `all_pairs_faster` for that case."
      ]
    },
    {
      "cell_type": "code",
      "source": [],
      "metadata": {
        "id": "QCQ205lLropZ"
      },
      "execution_count": null,
      "outputs": []
    }
  ],
  "metadata": {
    "colab": {
      "provenance": [],
      "include_colab_link": true
    },
    "kernelspec": {
      "display_name": "Python 3",
      "name": "python3"
    },
    "language_info": {
      "name": "python"
    }
  },
  "nbformat": 4,
  "nbformat_minor": 0
}
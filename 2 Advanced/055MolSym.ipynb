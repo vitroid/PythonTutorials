{
  "nbformat": 4,
  "nbformat_minor": 0,
  "metadata": {
    "colab": {
      "provenance": [],
      "toc_visible": true,
      "authorship_tag": "ABX9TyOyKc7Wum+Gdc2zo4hg5fNS",
      "include_colab_link": true
    },
    "kernelspec": {
      "name": "python3",
      "display_name": "Python 3"
    },
    "language_info": {
      "name": "python"
    }
  },
  "cells": [
    {
      "cell_type": "markdown",
      "metadata": {
        "id": "view-in-github",
        "colab_type": "text"
      },
      "source": [
        "<a href=\"https://colab.research.google.com/github/vitroid/PythonTutorials/blob/master/2%20Advanced/055MolSym.ipynb\" target=\"_parent\"><img src=\"https://colab.research.google.com/assets/colab-badge.svg\" alt=\"Open In Colab\"/></a>"
      ]
    },
    {
      "cell_type": "markdown",
      "source": [
        "# 分子シミュレーション\n",
        "\n",
        "ここでは、分子シミュレーションに関連したコーディング技法をいろいろ示します。分子シミュレーションそのものについては、教科書等を参考にして下さい。"
      ],
      "metadata": {
        "id": "lc-aXMAHn2WL"
      }
    },
    {
      "cell_type": "code",
      "source": [
        "import numpy as np"
      ],
      "metadata": {
        "id": "CyUKId3MqBj5"
      },
      "execution_count": 1,
      "outputs": []
    },
    {
      "cell_type": "markdown",
      "source": [
        "## 1. 原子の座標\n",
        "\n",
        "原子の座標は$3\\times N$次元のnp.arrayで表現すると、あとあと便利です。ここでは例として、$50^3$単純立方格子の座標を生成します。原子間距離は2.5 Åとします。\n",
        "\n"
      ],
      "metadata": {
        "id": "BOtggJR0oDdc"
      }
    },
    {
      "cell_type": "markdown",
      "source": [
        "### 1.1 単純ループ"
      ],
      "metadata": {
        "id": "pbTlD7dN6ivr"
      }
    },
    {
      "cell_type": "code",
      "execution_count": 2,
      "metadata": {
        "colab": {
          "base_uri": "https://localhost:8080/"
        },
        "id": "dqkaTnv8n1Bs",
        "outputId": "52b8b2a8-b226-4c07-a1cb-c341d2e0fc1b"
      },
      "outputs": [
        {
          "output_type": "stream",
          "name": "stdout",
          "text": [
            "102 ms ± 12.4 ms per loop (mean ± std. dev. of 7 runs, 10 loops each)\n"
          ]
        }
      ],
      "source": [
        "%%timeit\n",
        "\n",
        "N = 50\n",
        "d = 2.5\n",
        "atoms = []\n",
        "for ix in range(N):\n",
        "    for iy in range(N):\n",
        "        for iz in range(N):\n",
        "            atoms.append([ix*d, iy*d, iz*d])\n",
        "atoms = np.array(atoms)\n"
      ]
    },
    {
      "cell_type": "markdown",
      "source": [
        "### 1.2 リスト内包記法"
      ],
      "metadata": {
        "id": "EQJH8iqQpXYT"
      }
    },
    {
      "cell_type": "code",
      "source": [
        "%%timeit\n",
        "\n",
        "N = 50\n",
        "d = 2.5\n",
        "atoms = np.array([(ix*d, iy*d, iz*d) for ix in range(N) for iy in range(N) for iz in range(N)])\n"
      ],
      "metadata": {
        "colab": {
          "base_uri": "https://localhost:8080/"
        },
        "id": "91j9fCf7qI9k",
        "outputId": "203118d6-4f61-4366-d2e5-0c10610b260f"
      },
      "execution_count": 3,
      "outputs": [
        {
          "output_type": "stream",
          "name": "stdout",
          "text": [
            "105 ms ± 30.7 ms per loop (mean ± std. dev. of 7 runs, 10 loops each)\n"
          ]
        }
      ]
    },
    {
      "cell_type": "markdown",
      "source": [
        "numpyのベクトル演算を使いましょう。かけ算はあとでまとめて行います。"
      ],
      "metadata": {
        "id": "risybkPLxHGj"
      }
    },
    {
      "cell_type": "code",
      "source": [
        "%%timeit\n",
        "\n",
        "N = 50\n",
        "d = 2.5\n",
        "atoms = d * np.array([(ix, iy, iz) for ix in range(N) for iy in range(N) for iz in range(N)]) \n"
      ],
      "metadata": {
        "colab": {
          "base_uri": "https://localhost:8080/"
        },
        "id": "NiXHMjrRxQvC",
        "outputId": "c7e262af-01e3-4249-f8a0-082baf531779"
      },
      "execution_count": 29,
      "outputs": [
        {
          "output_type": "stream",
          "name": "stdout",
          "text": [
            "62.7 ms ± 1.16 ms per loop (mean ± std. dev. of 7 runs, 10 loops each)\n"
          ]
        }
      ]
    },
    {
      "cell_type": "markdown",
      "source": [
        "### 1.3 np.arangeを使う\n",
        "\n",
        "range()は整数しか扱えないので、実数版であるnp.arangeに代えます。ixなどのループ専用変数が要らなくなる分、直接的な表現といえます。"
      ],
      "metadata": {
        "id": "PfcXiiZjqexV"
      }
    },
    {
      "cell_type": "code",
      "source": [
        "%%timeit\n",
        "\n",
        "N = 50\n",
        "d = 2.5\n",
        "atoms = []\n",
        "for x in np.arange(0, N*d, d):\n",
        "    for y in np.arange(0, N*d, d):\n",
        "        for z in np.arange(0, N*d, d):\n",
        "            atoms.append([x, y, z])\n",
        "atoms = np.array(atoms)"
      ],
      "metadata": {
        "colab": {
          "base_uri": "https://localhost:8080/"
        },
        "id": "266VhcN8qb23",
        "outputId": "e3366382-cd5a-4259-d987-07e3591ee8df"
      },
      "execution_count": 4,
      "outputs": [
        {
          "output_type": "stream",
          "name": "stdout",
          "text": [
            "98.3 ms ± 25.9 ms per loop (mean ± std. dev. of 7 runs, 10 loops each)\n"
          ]
        }
      ]
    },
    {
      "cell_type": "markdown",
      "source": [
        "一般に、リスト内包記法は通常のループよりも高速です。"
      ],
      "metadata": {
        "id": "hPoqx-pwrQhz"
      }
    },
    {
      "cell_type": "code",
      "source": [
        "%%timeit\n",
        "\n",
        "N = 50\n",
        "d = 2.5\n",
        "atoms = np.array([(x,y,z) for x in np.arange(0, N*d, d) for y in np.arange(0, N*d, d) for z in np.arange(0, N*d, d)])\n"
      ],
      "metadata": {
        "colab": {
          "base_uri": "https://localhost:8080/"
        },
        "id": "HOVdcPinqVl2",
        "outputId": "1e37bd6a-b6f0-4da6-af92-188f234b04d9"
      },
      "execution_count": 5,
      "outputs": [
        {
          "output_type": "stream",
          "name": "stdout",
          "text": [
            "78.7 ms ± 22.7 ms per loop (mean ± std. dev. of 7 runs, 10 loops each)\n"
          ]
        }
      ]
    },
    {
      "cell_type": "markdown",
      "source": [
        "### 1.4 meshgridを使う\n",
        "\n",
        "numpyには、格子を生成するための特別な関数がいくつかあります。meshgridは、X,Y,Z軸方向の目盛から、格子点を一気に生成します。\n",
        "\n",
        "まず、X方向の目盛を作ります。"
      ],
      "metadata": {
        "id": "zKRlH1xKr2fG"
      }
    },
    {
      "cell_type": "code",
      "source": [
        "N = 50\n",
        "d = 2.5\n",
        "X = np.arange(0, N*d, d)\n",
        "X"
      ],
      "metadata": {
        "colab": {
          "base_uri": "https://localhost:8080/"
        },
        "id": "Z0yiT9nqrfCM",
        "outputId": "88f32e27-bac0-49a0-863e-f2a58597f07e"
      },
      "execution_count": 7,
      "outputs": [
        {
          "output_type": "execute_result",
          "data": {
            "text/plain": [
              "array([  0. ,   2.5,   5. ,   7.5,  10. ,  12.5,  15. ,  17.5,  20. ,\n",
              "        22.5,  25. ,  27.5,  30. ,  32.5,  35. ,  37.5,  40. ,  42.5,\n",
              "        45. ,  47.5,  50. ,  52.5,  55. ,  57.5,  60. ,  62.5,  65. ,\n",
              "        67.5,  70. ,  72.5,  75. ,  77.5,  80. ,  82.5,  85. ,  87.5,\n",
              "        90. ,  92.5,  95. ,  97.5, 100. , 102.5, 105. , 107.5, 110. ,\n",
              "       112.5, 115. , 117.5, 120. , 122.5])"
            ]
          },
          "metadata": {},
          "execution_count": 7
        }
      ]
    },
    {
      "cell_type": "markdown",
      "source": [
        "同様に、Y, Zも生成し、これらを組みあわせてグリッド(格子)を作ります。"
      ],
      "metadata": {
        "id": "TQzxcY2LsUce"
      }
    },
    {
      "cell_type": "code",
      "source": [
        "Y = np.arange(0, N*d, d)\n",
        "Z = np.arange(0, N*d, d)\n",
        "\n",
        "Xg,Yg,Zg = np.meshgrid(X,Y,Z, indexing=\"ij\")\n",
        "Xg"
      ],
      "metadata": {
        "colab": {
          "base_uri": "https://localhost:8080/"
        },
        "id": "qFHIbsBEsRfD",
        "outputId": "0f604d84-5df6-44fc-c9b3-0f2addf4a9f4"
      },
      "execution_count": 17,
      "outputs": [
        {
          "output_type": "execute_result",
          "data": {
            "text/plain": [
              "array([[[  0. ,   0. ,   0. , ...,   0. ,   0. ,   0. ],\n",
              "        [  0. ,   0. ,   0. , ...,   0. ,   0. ,   0. ],\n",
              "        [  0. ,   0. ,   0. , ...,   0. ,   0. ,   0. ],\n",
              "        ...,\n",
              "        [  0. ,   0. ,   0. , ...,   0. ,   0. ,   0. ],\n",
              "        [  0. ,   0. ,   0. , ...,   0. ,   0. ,   0. ],\n",
              "        [  0. ,   0. ,   0. , ...,   0. ,   0. ,   0. ]],\n",
              "\n",
              "       [[  2.5,   2.5,   2.5, ...,   2.5,   2.5,   2.5],\n",
              "        [  2.5,   2.5,   2.5, ...,   2.5,   2.5,   2.5],\n",
              "        [  2.5,   2.5,   2.5, ...,   2.5,   2.5,   2.5],\n",
              "        ...,\n",
              "        [  2.5,   2.5,   2.5, ...,   2.5,   2.5,   2.5],\n",
              "        [  2.5,   2.5,   2.5, ...,   2.5,   2.5,   2.5],\n",
              "        [  2.5,   2.5,   2.5, ...,   2.5,   2.5,   2.5]],\n",
              "\n",
              "       [[  5. ,   5. ,   5. , ...,   5. ,   5. ,   5. ],\n",
              "        [  5. ,   5. ,   5. , ...,   5. ,   5. ,   5. ],\n",
              "        [  5. ,   5. ,   5. , ...,   5. ,   5. ,   5. ],\n",
              "        ...,\n",
              "        [  5. ,   5. ,   5. , ...,   5. ,   5. ,   5. ],\n",
              "        [  5. ,   5. ,   5. , ...,   5. ,   5. ,   5. ],\n",
              "        [  5. ,   5. ,   5. , ...,   5. ,   5. ,   5. ]],\n",
              "\n",
              "       ...,\n",
              "\n",
              "       [[117.5, 117.5, 117.5, ..., 117.5, 117.5, 117.5],\n",
              "        [117.5, 117.5, 117.5, ..., 117.5, 117.5, 117.5],\n",
              "        [117.5, 117.5, 117.5, ..., 117.5, 117.5, 117.5],\n",
              "        ...,\n",
              "        [117.5, 117.5, 117.5, ..., 117.5, 117.5, 117.5],\n",
              "        [117.5, 117.5, 117.5, ..., 117.5, 117.5, 117.5],\n",
              "        [117.5, 117.5, 117.5, ..., 117.5, 117.5, 117.5]],\n",
              "\n",
              "       [[120. , 120. , 120. , ..., 120. , 120. , 120. ],\n",
              "        [120. , 120. , 120. , ..., 120. , 120. , 120. ],\n",
              "        [120. , 120. , 120. , ..., 120. , 120. , 120. ],\n",
              "        ...,\n",
              "        [120. , 120. , 120. , ..., 120. , 120. , 120. ],\n",
              "        [120. , 120. , 120. , ..., 120. , 120. , 120. ],\n",
              "        [120. , 120. , 120. , ..., 120. , 120. , 120. ]],\n",
              "\n",
              "       [[122.5, 122.5, 122.5, ..., 122.5, 122.5, 122.5],\n",
              "        [122.5, 122.5, 122.5, ..., 122.5, 122.5, 122.5],\n",
              "        [122.5, 122.5, 122.5, ..., 122.5, 122.5, 122.5],\n",
              "        ...,\n",
              "        [122.5, 122.5, 122.5, ..., 122.5, 122.5, 122.5],\n",
              "        [122.5, 122.5, 122.5, ..., 122.5, 122.5, 122.5],\n",
              "        [122.5, 122.5, 122.5, ..., 122.5, 122.5, 122.5]]])"
            ]
          },
          "metadata": {},
          "execution_count": 17
        }
      ]
    },
    {
      "cell_type": "markdown",
      "source": [
        "Xgの中身は、Xの内容がなんどもリピートされているように見えます。しかも3次元配列ですね。では、個々の要素を見ていきます。"
      ],
      "metadata": {
        "id": "_BimVdCysn3I"
      }
    },
    {
      "cell_type": "code",
      "source": [
        "Xg[0,0,0], Yg[0,0,0], Zg[0,0,0]"
      ],
      "metadata": {
        "colab": {
          "base_uri": "https://localhost:8080/"
        },
        "id": "7hBP13gosg-Z",
        "outputId": "e6af52c8-6373-4fcd-94ad-c3988c874859"
      },
      "execution_count": 18,
      "outputs": [
        {
          "output_type": "execute_result",
          "data": {
            "text/plain": [
              "(0.0, 0.0, 0.0)"
            ]
          },
          "metadata": {},
          "execution_count": 18
        }
      ]
    },
    {
      "cell_type": "code",
      "source": [
        "Xg[3,2,4], Yg[3,2,4], Zg[3,2,4]"
      ],
      "metadata": {
        "colab": {
          "base_uri": "https://localhost:8080/"
        },
        "id": "DAbQCv81s6YP",
        "outputId": "25060a56-6112-496c-aa4f-41bac5ddbe98"
      },
      "execution_count": 19,
      "outputs": [
        {
          "output_type": "execute_result",
          "data": {
            "text/plain": [
              "(7.5, 5.0, 10.0)"
            ]
          },
          "metadata": {},
          "execution_count": 19
        }
      ]
    },
    {
      "cell_type": "markdown",
      "source": [
        "わかるでしょうか。`Xg[i,j,k]`には、$(i,j,k)$番目の格子点のX座標が入っています。\n",
        "\n",
        "三次元配列ではなく、以前の例のような座標の単純な羅列が欲しいなら、flatten()関数で1次元化します。"
      ],
      "metadata": {
        "id": "-k28lvkstDhV"
      }
    },
    {
      "cell_type": "code",
      "source": [
        "Xf = Xg.flatten()\n",
        "Yf = Yg.flatten()\n",
        "Zf = Zg.flatten()\n",
        "Xf.shape"
      ],
      "metadata": {
        "colab": {
          "base_uri": "https://localhost:8080/"
        },
        "id": "ea4x16fvtCR9",
        "outputId": "d78957d7-da7f-4228-98ea-a48b9d714732"
      },
      "execution_count": 20,
      "outputs": [
        {
          "output_type": "execute_result",
          "data": {
            "text/plain": [
              "(125000,)"
            ]
          },
          "metadata": {},
          "execution_count": 20
        }
      ]
    },
    {
      "cell_type": "markdown",
      "source": [
        "全部まとめると次のように書けます。"
      ],
      "metadata": {
        "id": "wEK5g5U1vemH"
      }
    },
    {
      "cell_type": "code",
      "source": [
        "%%timeit\n",
        "\n",
        "N = 50\n",
        "d = 2.5\n",
        "X = np.arange(0, N*d, d)\n",
        "Y = np.arange(0, N*d, d)\n",
        "Z = np.arange(0, N*d, d)\n",
        "Xg, Yg, Zg = np.meshgrid(X,Y,Z)\n",
        "Xf = Xg.flatten()\n",
        "Yf = Yg.flatten()\n",
        "Zf = Zg.flatten()\n",
        "atoms = np.array([Xf,Yf,Zf]).T\n"
      ],
      "metadata": {
        "colab": {
          "base_uri": "https://localhost:8080/"
        },
        "id": "ctMH-swOvdry",
        "outputId": "b77994af-1199-42d4-c949-7eb237585982"
      },
      "execution_count": 27,
      "outputs": [
        {
          "output_type": "stream",
          "name": "stdout",
          "text": [
            "1.32 ms ± 110 µs per loop (mean ± std. dev. of 7 runs, 1000 loops each)\n"
          ]
        }
      ]
    },
    {
      "cell_type": "markdown",
      "source": [
        "読みにくくなりますが、ループがまったくないので爆速です。\n",
        "\n",
        "さらに直感的でない方法として、mgridを使う方法があります。mgridはmeshgridと似た働きをしますが、関数ではなく配列のように見えます。"
      ],
      "metadata": {
        "id": "4g-BtExOwTkU"
      }
    },
    {
      "cell_type": "code",
      "source": [
        "%%timeit \n",
        "\n",
        "N = 50\n",
        "d = 2.5\n",
        "Xg, Yg, Zg = np.mgrid[0:N,0:N,0:N]\n",
        "Xf = Xg.flatten()\n",
        "Yf = Yg.flatten()\n",
        "Zf = Zg.flatten()\n",
        "atoms = d * np.array([Xf,Yf,Zf]).T\n"
      ],
      "metadata": {
        "colab": {
          "base_uri": "https://localhost:8080/"
        },
        "id": "WdlFU59Ytm9z",
        "outputId": "4fe6640b-5f5c-4f5b-fb14-a6a154b98d7d"
      },
      "execution_count": 34,
      "outputs": [
        {
          "output_type": "stream",
          "name": "stdout",
          "text": [
            "4.34 ms ± 97.1 µs per loop (mean ± std. dev. of 7 runs, 100 loops each)\n"
          ]
        }
      ]
    },
    {
      "cell_type": "markdown",
      "source": [
        "極限まで簡略化するとこんな感じ。もはや読めませんが、関数にして名前をつけておけば無問題です。"
      ],
      "metadata": {
        "id": "6AiNiWAMyyxJ"
      }
    },
    {
      "cell_type": "code",
      "source": [
        "%%timeit\n",
        "\n",
        "def simple_lattice(N):\n",
        "    \"\"\"最近接原子間距離が1の単純立方格子を生成する。\n",
        "\n",
        "    N: 単位胞をN^3個生成する\n",
        "    \"\"\"\n",
        "    return np.mgrid[0:N, 0:N, 0:N].reshape(3,-1).T\n",
        "\n",
        "N = 50\n",
        "d = 2.5\n",
        "atoms = simple_lattice(N)*d\n"
      ],
      "metadata": {
        "colab": {
          "base_uri": "https://localhost:8080/"
        },
        "id": "V0qDXHqXw5C4",
        "outputId": "bfcf6646-689d-4600-80c2-a876b403b33b"
      },
      "execution_count": 42,
      "outputs": [
        {
          "output_type": "stream",
          "name": "stdout",
          "text": [
            "1.66 ms ± 151 µs per loop (mean ± std. dev. of 7 runs, 1000 loops each)\n"
          ]
        }
      ]
    },
    {
      "cell_type": "markdown",
      "source": [
        "\n",
        "### 1.5 ほかの格子\n",
        "\n",
        "面心立方格子は、単純立方格子を$(1/2, 1/2, 1/2)$だけずらして重ねたものといえます。\n",
        "\n",
        "まず、間隔1の単純格子をつくります。"
      ],
      "metadata": {
        "id": "VOusN8sV2437"
      }
    },
    {
      "cell_type": "code",
      "source": [
        "def simple_lattice(N):\n",
        "    \"\"\"最近接原子間距離が1の単純立方格子を生成する。\n",
        "\n",
        "    N: 単位胞をN^3個生成する\n",
        "    \"\"\"\n",
        "    return np.mgrid[0:N, 0:N, 0:N].reshape(3,-1).T\n",
        "\n",
        "N = 50\n",
        "atoms = simple_lattice(N)\n",
        "atoms"
      ],
      "metadata": {
        "colab": {
          "base_uri": "https://localhost:8080/"
        },
        "id": "Z6c4jaYeyUEc",
        "outputId": "e3d0745a-832b-448e-ad5b-e81acf49c0fe"
      },
      "execution_count": 44,
      "outputs": [
        {
          "output_type": "execute_result",
          "data": {
            "text/plain": [
              "array([[ 0,  0,  0],\n",
              "       [ 0,  0,  1],\n",
              "       [ 0,  0,  2],\n",
              "       ...,\n",
              "       [49, 49, 47],\n",
              "       [49, 49, 48],\n",
              "       [49, 49, 49]])"
            ]
          },
          "metadata": {},
          "execution_count": 44
        }
      ]
    },
    {
      "cell_type": "markdown",
      "source": [
        "ずらした格子を別途作ります。"
      ],
      "metadata": {
        "id": "G7EDOrLD3gJj"
      }
    },
    {
      "cell_type": "code",
      "source": [
        "slid = atoms + np.array([0.5, 0.5, 0.5])\n",
        "slid"
      ],
      "metadata": {
        "colab": {
          "base_uri": "https://localhost:8080/"
        },
        "id": "JdQsN3Hn3Sww",
        "outputId": "10221e76-3501-4bdb-beac-d3a4b8184e20"
      },
      "execution_count": 45,
      "outputs": [
        {
          "output_type": "execute_result",
          "data": {
            "text/plain": [
              "array([[ 0.5,  0.5,  0.5],\n",
              "       [ 0.5,  0.5,  1.5],\n",
              "       [ 0.5,  0.5,  2.5],\n",
              "       ...,\n",
              "       [49.5, 49.5, 47.5],\n",
              "       [49.5, 49.5, 48.5],\n",
              "       [49.5, 49.5, 49.5]])"
            ]
          },
          "metadata": {},
          "execution_count": 45
        }
      ]
    },
    {
      "cell_type": "markdown",
      "source": [
        "そして2つを連結concatします。"
      ],
      "metadata": {
        "id": "jSSPbtXy3tt_"
      }
    },
    {
      "cell_type": "code",
      "source": [
        "bcc = np.concatenate([atoms, slid])\n",
        "bcc"
      ],
      "metadata": {
        "id": "6uaElPBR3oNH"
      },
      "execution_count": 48,
      "outputs": []
    },
    {
      "cell_type": "markdown",
      "source": [
        "最近接格子間距離を2.5 Åにしたいなら、ちょっと工夫が必要です。最近接原子は$(0,0,0)$と$(1/2,1/2,1/2)$にあります。この距離が2.5 Åになるように調節します。"
      ],
      "metadata": {
        "id": "N0XSL5bK4FIU"
      }
    },
    {
      "cell_type": "code",
      "source": [
        "d = 2.5\n",
        "bcc * d * 2 / 3**0.5"
      ],
      "metadata": {
        "colab": {
          "base_uri": "https://localhost:8080/"
        },
        "id": "JkHa9ypj32QC",
        "outputId": "ba724864-a939-4e2d-cc42-e021bd106d68"
      },
      "execution_count": 50,
      "outputs": [
        {
          "output_type": "execute_result",
          "data": {
            "text/plain": [
              "array([[  0.        ,   0.        ,   0.        ],\n",
              "       [  0.        ,   0.        ,   2.88675135],\n",
              "       [  0.        ,   0.        ,   5.77350269],\n",
              "       ...,\n",
              "       [142.89419162, 142.89419162, 137.12068893],\n",
              "       [142.89419162, 142.89419162, 140.00744028],\n",
              "       [142.89419162, 142.89419162, 142.89419162]])"
            ]
          },
          "metadata": {},
          "execution_count": 50
        }
      ]
    },
    {
      "cell_type": "markdown",
      "source": [
        "最後に、これも関数にしておきます。"
      ],
      "metadata": {
        "id": "6354qyCI5DAN"
      }
    },
    {
      "cell_type": "code",
      "source": [
        "def BCC(N):\n",
        "    \"\"\"最近接原子間距離が1の体心立方格子を生成する。\n",
        "\n",
        "    N: 単位胞をN^3個生成する\n",
        "    \"\"\"\n",
        "    atoms = simple_lattice(N)\n",
        "    slid = atoms + np.array([0.5, 0.5, 0.5])\n",
        "    return np.concatenate([atoms, slid]) * 2 / 3**0.5\n",
        "\n",
        "N = 50\n",
        "d = 2.5\n",
        "atoms = BCC(N) * d\n",
        "atoms"
      ],
      "metadata": {
        "colab": {
          "base_uri": "https://localhost:8080/"
        },
        "id": "725MGSS_5FfV",
        "outputId": "63974ee9-92c5-478a-fc85-81a33696cc61"
      },
      "execution_count": 52,
      "outputs": [
        {
          "output_type": "execute_result",
          "data": {
            "text/plain": [
              "array([[  0.        ,   0.        ,   0.        ],\n",
              "       [  0.        ,   0.        ,   2.88675135],\n",
              "       [  0.        ,   0.        ,   5.77350269],\n",
              "       ...,\n",
              "       [142.89419162, 142.89419162, 137.12068893],\n",
              "       [142.89419162, 142.89419162, 140.00744028],\n",
              "       [142.89419162, 142.89419162, 142.89419162]])"
            ]
          },
          "metadata": {},
          "execution_count": 52
        }
      ]
    },
    {
      "cell_type": "markdown",
      "source": [
        "関数定義の直後にある文字列は、関数の説明文です。これを定義しておくと、ヘルプに表示されます。"
      ],
      "metadata": {
        "id": "w2ycB4FZ535J"
      }
    },
    {
      "cell_type": "code",
      "source": [
        "?BCC"
      ],
      "metadata": {
        "id": "93qTQ8qt6ANa"
      },
      "execution_count": 53,
      "outputs": []
    },
    {
      "cell_type": "markdown",
      "source": [
        "### 1.99 練習問題\n",
        "\n",
        "単位格子数$2^3$で最短原子間距離が2.5 Åの最密充填格子を作って下さい。"
      ],
      "metadata": {
        "id": "uZeCyWVh4zqg"
      }
    },
    {
      "cell_type": "markdown",
      "source": [
        "## シミュレーションセルの取扱い\n",
        "\n",
        "分子シミュレーションはほとんどの場合周期境界条件のもとで行われます。周期境界条件を適用しない場合、必ず表面の影響を受けてしまいますが、周期境界条件により表面のない状況を擬似的に表現できます。\n",
        "\n",
        "分子シミュレーションでは、分子の入っている箱のことをシミュレーションセルまたは単にセルと呼びます。セルは立方体の場合もあれば直方体の場合もあります。気体や液体のシミュレーションでは立方体セルを使うことが多いですが、固体の場合には結晶の形によっては直方体や平行六面体のセルを用いる場合もあります。\n",
        "\n",
        "セルの大きさについてはここでは議論しませんが、あまり小さな系はアーティファクトの原因になります。最近では1万分子以上を含むような、大規模なシミュレーションも一般的になってきています。\n",
        "\n",
        "以下ではシミュレーションセルは一般的に平行六面体であると考え、その3つの辺を$(\\vec a, \\vec b, \\vec c)$あるいは`a,b,c`で表記します。"
      ],
      "metadata": {
        "id": "5srGsbQe6LoE"
      }
    },
    {
      "cell_type": "markdown",
      "source": [
        "### 1.1 絶対座標系とセル相対座標系\n",
        "\n",
        "セル内の原子の座標を表す方法として、絶対座標(ユークリッド座標)を指定する方法と、セル相対座標(fractional coordinate)を指定する方法があります。\n",
        "\n",
        "例えば、一辺が12 Åのシミュレーションセルのすみ(原点)と、中央にいる原子の座標は、絶対座標では$(0,0,0), (6,6,6)$、セル相対座標では$(0,0,0), (0.5, 0.5, 0.5)$となります。\n",
        "\n",
        "直感的にわかりやすいのは前者ですが、周期境界条件のとりあつかいを考えると、後者のほうが圧倒的に便利です。\n",
        "\n",
        "直方体セルの場合、セル相対座標を絶対座標に変換するには、セル長をかけます。逆に、絶対座標をセル長で割れば、セル相対座標になります。"
      ],
      "metadata": {
        "id": "6FxS5AT67Qob"
      }
    },
    {
      "cell_type": "code",
      "source": [
        "cell = np.array([12.0, 12.0, 12.0])\n",
        "\n",
        "A = np.array([0.0, 0.0, 0.0])\n",
        "B = np.array([6.0, 6.0, 6.0])\n",
        "\n",
        "rA = A / cell\n",
        "rB = B / cell\n",
        "rA, rB"
      ],
      "metadata": {
        "colab": {
          "base_uri": "https://localhost:8080/"
        },
        "id": "0IBvyl6z-yP1",
        "outputId": "46c37339-029b-43db-d7f0-496a2e829fdf"
      },
      "execution_count": 54,
      "outputs": [
        {
          "output_type": "execute_result",
          "data": {
            "text/plain": [
              "(array([0., 0., 0.]), array([0.5, 0.5, 0.5]))"
            ]
          },
          "metadata": {},
          "execution_count": 54
        }
      ]
    },
    {
      "cell_type": "markdown",
      "source": [
        "### 1.2 周期境界条件下での原子間距離の計算\n",
        "\n",
        "2つの原子の距離は、座標からピタゴラスの定理を使って計算できます。"
      ],
      "metadata": {
        "id": "0moU5sYe-wlW"
      }
    },
    {
      "cell_type": "code",
      "source": [
        "cell = np.array([12.0, 12.0, 12.0])\n",
        "\n",
        "A = np.array([0.0, 0.0, 0.0])\n",
        "B = np.array([3.0, 3.0, 3.0])\n",
        "\n",
        "dAB = B - A\n",
        "r = (dAB[0]**2 + dAB[1]**2 + dAB[2]**2)**0.5\n",
        "r"
      ],
      "metadata": {
        "colab": {
          "base_uri": "https://localhost:8080/"
        },
        "id": "TdVg0cvH3649",
        "outputId": "1a708e32-ad4f-441e-fcb1-544f7fee778b"
      },
      "execution_count": 58,
      "outputs": [
        {
          "output_type": "execute_result",
          "data": {
            "text/plain": [
              "5.196152422706632"
            ]
          },
          "metadata": {},
          "execution_count": 58
        }
      ]
    },
    {
      "cell_type": "markdown",
      "source": [
        "でも、次の場合にはこの方法はうまくいきません。"
      ],
      "metadata": {
        "id": "VRieazyeCbtD"
      }
    },
    {
      "cell_type": "code",
      "source": [
        "A = np.array([0.0, 0.0, 0.0])\n",
        "C = np.array([9.0, 9.0, 9.0])\n",
        "\n",
        "dAC = C - A\n",
        "r = (dAC[0]**2 + dAC[1]**2 + dAC[2]**2)**0.5\n",
        "r"
      ],
      "metadata": {
        "colab": {
          "base_uri": "https://localhost:8080/"
        },
        "id": "JGK4iBsACNAf",
        "outputId": "b462f627-e0f0-439d-f784-f53e3599ed57"
      },
      "execution_count": 59,
      "outputs": [
        {
          "output_type": "execute_result",
          "data": {
            "text/plain": [
              "15.588457268119896"
            ]
          },
          "metadata": {},
          "execution_count": 59
        }
      ]
    },
    {
      "cell_type": "markdown",
      "source": [
        "周期境界条件のもとでは、AB間の距離はAC間の距離と同じはずですが、AC間の計算ではイメージセル間の最短距離をとらえそこねています。\n",
        "\n",
        "ちゃんと計算するには、条件分岐が必要になります。"
      ],
      "metadata": {
        "id": "y0AkLIG0Cs3a"
      }
    },
    {
      "cell_type": "code",
      "source": [
        "A = np.array([0.0, 0.0, 0.0])\n",
        "C = np.array([9.0, 9.0, 9.0])\n",
        "\n",
        "dAC = C - A\n",
        "\n",
        "if dAC[0] < -6.0:\n",
        "    dAC[0] += 12\n",
        "elif dAC[0] > +6.0:\n",
        "    dAC[0] -= 12\n",
        "\n",
        "if dAC[1] < -6.0:\n",
        "    dAC[1] += 12\n",
        "elif dAC[1] > +6.0:\n",
        "    dAC[1] -= 12\n",
        "\n",
        "if dAC[2] < -6.0:\n",
        "    dAC[2] += 12\n",
        "elif dAC[2] > +6.0:\n",
        "    dAC[2] -= 12\n",
        "\n",
        "r = (dAC[0]**2 + dAC[1]**2 + dAC[2]**2)**0.5\n",
        "r"
      ],
      "metadata": {
        "colab": {
          "base_uri": "https://localhost:8080/"
        },
        "id": "pqOvVIz5CmPS",
        "outputId": "8fe61a53-5bb1-4587-acba-cfcd003aa6b6"
      },
      "execution_count": 60,
      "outputs": [
        {
          "output_type": "execute_result",
          "data": {
            "text/plain": [
              "5.196152422706632"
            ]
          },
          "metadata": {},
          "execution_count": 60
        }
      ]
    },
    {
      "cell_type": "markdown",
      "source": [
        "これは面倒臭い! 上の条件式にでてくる6.0はセルの一辺の長さの半分です。差が6を越えたら、反対側のイメージセルの原子のほうが近いので、12を引いてイメージセルの原子との距離におきかえます。これを3方向について処理する必要があります。\n",
        "\n",
        "次に、同じことをセル相対座標で書いてみます。"
      ],
      "metadata": {
        "id": "uEIUL8DpDUr9"
      }
    },
    {
      "cell_type": "code",
      "source": [
        "cell = np.array([12.0, 12.0, 12.0])\n",
        "\n",
        "A = np.array([0.0, 0.0, 0.0])\n",
        "C = np.array([9.0, 9.0, 9.0])\n",
        "\n",
        "# to a fractional coordinate\n",
        "rA = A / cell\n",
        "rC = C / cell\n",
        "\n",
        "dAC = rC - rA\n",
        "\n",
        "if dAC[0] < -0.5:\n",
        "    dAC[0] += 1\n",
        "elif dAC[0] > +0.5:\n",
        "    dAC[0] -= 1\n",
        "\n",
        "if dAC[1] < -0.5:\n",
        "    dAC[1] += 1\n",
        "elif dAC[1] > +0.5:\n",
        "    dAC[1] -= 1\n",
        "\n",
        "if dAC[2] < -0.5:\n",
        "    dAC[2] += 1\n",
        "elif dAC[2] > +0.5:\n",
        "    dAC[2] -= 1\n",
        "\n",
        "# to an absolute displacement vector\n",
        "dAC *= cell\n",
        "\n",
        "r = (dAC[0]**2 + dAC[1]**2 + dAC[2]**2)**0.5\n",
        "r"
      ],
      "metadata": {
        "colab": {
          "base_uri": "https://localhost:8080/"
        },
        "id": "j3HqYdxTDTor",
        "outputId": "90b2e4a9-b045-4471-fc1c-a4f6db5e66fe"
      },
      "execution_count": 61,
      "outputs": [
        {
          "output_type": "execute_result",
          "data": {
            "text/plain": [
              "5.196152422706632"
            ]
          },
          "metadata": {},
          "execution_count": 61
        }
      ]
    },
    {
      "cell_type": "markdown",
      "source": [
        "やっていることは同じですが、セルサイズが条件文の中にでてこなくなったので、すこし見易くなりました。\n",
        "\n",
        "でもメリットはこれだけではありません。条件文の計算は、実は「四捨五入」と等価なのです。例えば、`x==0.75`なら、上の条件文を通ると`x==-0.25`になりますよね。これは、「xを小数点1桁目で四捨五入して、xから引く」のと同じ結果になります。\n",
        "\n",
        "numpyには四捨五入関数round()が準備されていますから、これを使うとプログラムはさっぱりします。"
      ],
      "metadata": {
        "id": "yRWxntsEEcsz"
      }
    },
    {
      "cell_type": "code",
      "source": [
        "cell = np.array([12.0, 12.0, 12.0])\n",
        "\n",
        "A = np.array([0.0, 0.0, 0.0])\n",
        "C = np.array([9.0, 9.0, 9.0])\n",
        "\n",
        "# fractional coordinate\n",
        "rA = A / cell\n",
        "rC = C / cell\n",
        "\n",
        "dAC = rC - rA\n",
        "dAC -= np.round(dAC)\n",
        "\n",
        "# absolute displacement vector\n",
        "dAC *= cell\n",
        "\n",
        "r = (dAC[0]**2 + dAC[1]**2 + dAC[2]**2)**0.5\n",
        "r"
      ],
      "metadata": {
        "colab": {
          "base_uri": "https://localhost:8080/"
        },
        "id": "v-eXTICrEaEg",
        "outputId": "21896aab-3f46-413c-c75a-c3a49790d7f6"
      },
      "execution_count": 62,
      "outputs": [
        {
          "output_type": "execute_result",
          "data": {
            "text/plain": [
              "5.196152422706632"
            ]
          },
          "metadata": {},
          "execution_count": 62
        }
      ]
    },
    {
      "cell_type": "markdown",
      "source": [
        "> なお、松本は`round()`関数の挙動が気持ち悪いので、`floor(x+0.5)`という書き方を好みます。`round()`の気持ち悪さは下のグラフで実感できます。"
      ],
      "metadata": {
        "id": "YM9P_AM0Fym6"
      }
    },
    {
      "cell_type": "code",
      "source": [
        "import matplotlib.pyplot as plt\n",
        "\n",
        "x = np.arange(-3.0, +3.5, 0.5)\n",
        "plt.plot(x, np.round(x), \"o-\",  label=\"Round func.\")\n",
        "plt.plot(x, np.floor(x+0.5), \"o-\", label=\"Floor func.\")\n",
        "plt.legend()\n"
      ],
      "metadata": {
        "colab": {
          "base_uri": "https://localhost:8080/",
          "height": 448
        },
        "id": "uLj0SuRKF0Lm",
        "outputId": "48fb6d6b-c598-4dfd-a55d-4077d4d5db95"
      },
      "execution_count": 73,
      "outputs": [
        {
          "output_type": "execute_result",
          "data": {
            "text/plain": [
              "<matplotlib.legend.Legend at 0x7f2a3d5cf850>"
            ]
          },
          "metadata": {},
          "execution_count": 73
        },
        {
          "output_type": "display_data",
          "data": {
            "text/plain": [
              "<Figure size 640x480 with 1 Axes>"
            ],
            "image/png": "[encoded data removed]"
          },
          "metadata": {}
        }
      ]
    },
    {
      "cell_type": "markdown",
      "source": [
        "### 1.3 セルからはみでた原子の扱い\n",
        "\n",
        "分子動力学シミュレーションの過程で、原子がセル端面を越えて外に出てしまう場合があります。その場合は、反対側から入ってきます。\n",
        "\n",
        "絶対座標で書くと以下のような感じです。"
      ],
      "metadata": {
        "id": "0zSealfCIQEU"
      }
    },
    {
      "cell_type": "code",
      "source": [
        "cell = np.array([12.0, 12.0, 12.0])\n",
        "\n",
        "A = np.array([1.0, 2.0, -3.0]) # z方向にはみ出している\n",
        "\n",
        "if A[0] < 0.0:\n",
        "    A[0] += 12\n",
        "elif A[0] > 12:\n",
        "    A[0] -= 12\n",
        "\n",
        "if A[1] < 0.0:\n",
        "    A[1] += 12\n",
        "elif A[1] > 12:\n",
        "    A[1] -= 12\n",
        "    \n",
        "if A[2] < 0.0:\n",
        "    A[2] += 12\n",
        "elif A[2] > 12:\n",
        "    A[2] -= 12\n",
        "    \n",
        "A"
      ],
      "metadata": {
        "colab": {
          "base_uri": "https://localhost:8080/"
        },
        "id": "ONo7e6xJFfp8",
        "outputId": "0e0543ce-2613-4241-87d3-8a1e38fd3221"
      },
      "execution_count": 74,
      "outputs": [
        {
          "output_type": "execute_result",
          "data": {
            "text/plain": [
              "array([1., 2., 9.])"
            ]
          },
          "metadata": {},
          "execution_count": 74
        }
      ]
    },
    {
      "cell_type": "markdown",
      "source": [
        "これも、セル相対座標を使えばすこし簡潔になります。"
      ],
      "metadata": {
        "id": "eBebYRkWI_19"
      }
    },
    {
      "cell_type": "code",
      "source": [
        "cell = np.array([12.0, 12.0, 12.0])\n",
        "\n",
        "A = np.array([1.0, 2.0, -3.0]) # z方向にはみ出している\n",
        "\n",
        "# to a fractional coordinate\n",
        "rA = A / cell\n",
        "\n",
        "if rA[0] < 0.0:\n",
        "    rA[0] += 1\n",
        "elif rA[0] > 1:\n",
        "    rA[0] -= 1\n",
        "\n",
        "if rA[1] < 0.0:\n",
        "    rA[1] += 1\n",
        "elif rA[1] > 1:\n",
        "    rA[1] -= 1\n",
        "    \n",
        "if rA[2] < 0.0:\n",
        "    rA[2] += 1\n",
        "elif rA[2] > 1:\n",
        "    rA[2] -= 1\n",
        "\n",
        "# to an absolute coordinate\n",
        "A = rA * cell   \n",
        "A"
      ],
      "metadata": {
        "colab": {
          "base_uri": "https://localhost:8080/"
        },
        "id": "vnwt4kU1I-I9",
        "outputId": "bd6a4028-65e8-4b5b-d2a7-3fbd8d9233ea"
      },
      "execution_count": 75,
      "outputs": [
        {
          "output_type": "execute_result",
          "data": {
            "text/plain": [
              "array([1., 2., 9.])"
            ]
          },
          "metadata": {},
          "execution_count": 75
        }
      ]
    },
    {
      "cell_type": "markdown",
      "source": [
        "今度は条件分岐のしかたがちょっと違いますね。この条件分岐は、切り捨てに書きなおすことができます。\n",
        "\n",
        "* zは-0.25。(-3/12)\n",
        "* zを小数点以下で切り捨てる=zよりも小さい最大の整数にする=-1\n",
        "* もとのzから-1を引くと0.75。\n",
        "\n"
      ],
      "metadata": {
        "id": "ofdblXMiJZ8N"
      }
    },
    {
      "cell_type": "code",
      "source": [
        "cell = np.array([12.0, 12.0, 12.0])\n",
        "\n",
        "A = np.array([1.0, 2.0, -3.0]) # z方向にはみ出している\n",
        "\n",
        "# to a fractional coordinate\n",
        "rA = A / cell\n",
        "\n",
        "# 切りすてた数をもとの数から引く。\n",
        "rA -= np.floor(rA)\n",
        "\n",
        "# to an absolute coordinate\n",
        "A = rA * cell   \n",
        "A"
      ],
      "metadata": {
        "colab": {
          "base_uri": "https://localhost:8080/"
        },
        "id": "nmR-cZDZJUkG",
        "outputId": "000f0713-98bf-4d9c-ec41-404078b9cb81"
      },
      "execution_count": 76,
      "outputs": [
        {
          "output_type": "execute_result",
          "data": {
            "text/plain": [
              "array([1., 2., 9.])"
            ]
          },
          "metadata": {},
          "execution_count": 76
        }
      ]
    },
    {
      "cell_type": "markdown",
      "source": [
        "このように、セル相対座標を使うことで、条件分岐を使わないですみ、プログラムが簡潔かつ高速になります。"
      ],
      "metadata": {
        "id": "3WcTCPbZKuNb"
      }
    },
    {
      "cell_type": "markdown",
      "source": [
        "### 1.4 非直方体セルの取扱い\n",
        "\n",
        "直方体でないセルのことも考えると、絶対座標よりセル相対座標のほうが圧倒的に便利であることがわかります。\n",
        "\n",
        "直方体でないセルの、3つの辺をそれぞれ$\\vec a, \\vec b, \\vec c$で表します。\n",
        "\n",
        "さて、このセルの中央に原子をひとつ置いて下さい。もし絶対座標を使うのなら、中心とは$\\vec a+ \\vec b+ \\vec c\\over 2$のことです。"
      ],
      "metadata": {
        "id": "7G9QOXZjK586"
      }
    },
    {
      "cell_type": "code",
      "source": [
        "a = np.array([3.0, 0.0, 0.0])\n",
        "b = np.array([1.5, 4.0, 0.0]) # bが傾いている\n",
        "c = np.array([0.0, 0.0, 5.0])\n",
        "\n",
        "A = (a+b+c)/2\n",
        "A\n"
      ],
      "metadata": {
        "colab": {
          "base_uri": "https://localhost:8080/"
        },
        "id": "wrpHwSqfW3o-",
        "outputId": "16ec2b65-7d9b-43fd-d385-8089eb953496"
      },
      "execution_count": 79,
      "outputs": [
        {
          "output_type": "execute_result",
          "data": {
            "text/plain": [
              "array([2.25, 2.  , 2.5 ])"
            ]
          },
          "metadata": {},
          "execution_count": 79
        }
      ]
    },
    {
      "cell_type": "markdown",
      "source": [
        "では、絶対座標で$(0.5, 2.0, 3.0)$にある原子Bは、このセルの中にありますか? それとも外にありますか? 外にある場合、周期境界条件のもとでセル内に移動させるならどこに来るでしょうか。\n",
        "\n",
        "かなり面倒に見えてきましたね。そこでセル相対座標の出番です。\n",
        "\n",
        "セル相対座標では、その名の通り、原子の場所はセルの中での相対位置で指示します。例えば、セルの中心は、セルの形がどんなであっても$(0.5, 0.5, 0.5)$です。そして、絶対座標になおしたいなら、\n",
        "$0.5\\vec a+0.5 \\vec b+0.5\\vec c$を計算すればいいだけです。\n",
        "\n",
        "もっと簡単に書く方法を教えましょう。セルの3基本ベクトルを束ねた、セル行列というものを作ります。\n",
        "\n",
        "$$M=\\left(\\begin{array}{c}\n",
        "a_x&b_x&c_x\\\\\n",
        "a_y&b_y&c_y\\\\\n",
        "a_z&b_z&c_z\n",
        "\\end{array}\\right)$$\n",
        "\n",
        "そして、これにセル相対ベクトル$\\vec v=(1/2,1/2,1/2)^T$をかけます。($^T$は転置を表します。$\\vec v$は縦ベクトルです)\n",
        "$$ \\vec w=M\\cdot \\vec v$$\n",
        "$$=\\left({a_x+b_x+c_x\\over 2}, {a_y+b_y+c_y\\over 2}, {a_z+b_z+c_z\\over 2}\\right)$$\n",
        "\n",
        "得られた$\\vec w$はセル中心の絶対座標になっています!\n",
        "\n",
        "ということは、逆に絶対座標に$M$の逆行列をかけるだけで、セル相対座標に変換できる、ということになります。\n",
        "\n",
        "$$ \\vec v=M^{-1}\\cdot \\vec w$$\n",
        "\n",
        "なお、numpyでは座標ベクトルは横ベクトルで表されることが多いので、全部転置したほうが便利です。\n",
        "\n",
        "$$ \\vec w^T=\\vec v^T\\cdot M^T$$\n",
        "$$ \\vec v^T=\\vec w^T\\cdot (M^{-1})^T$$\n"
      ],
      "metadata": {
        "id": "hLVmn80SXb7u"
      }
    },
    {
      "cell_type": "code",
      "source": [
        "Mt = np.array([a,b,c]) # 転置されたセル行列\n",
        "\n",
        "vt = np.array([0.5,0.5,0.5])\n",
        "wt = vt @ Mt\n",
        "wt"
      ],
      "metadata": {
        "colab": {
          "base_uri": "https://localhost:8080/"
        },
        "id": "a-jdDptAXbjA",
        "outputId": "73b1a68a-7845-4a68-d910-20956fef9eb2"
      },
      "execution_count": 80,
      "outputs": [
        {
          "output_type": "execute_result",
          "data": {
            "text/plain": [
              "array([2.25, 2.  , 2.5 ])"
            ]
          },
          "metadata": {},
          "execution_count": 80
        }
      ]
    },
    {
      "cell_type": "code",
      "source": [
        "MtI = np.linalg.inv(Mt)\n",
        "\n",
        "vt = wt @ MtI\n",
        "vt"
      ],
      "metadata": {
        "colab": {
          "base_uri": "https://localhost:8080/"
        },
        "id": "GTzUCDs_KV4u",
        "outputId": "259e3269-b30c-48a2-d48b-cd02664fe42c"
      },
      "execution_count": 81,
      "outputs": [
        {
          "output_type": "execute_result",
          "data": {
            "text/plain": [
              "array([0.5, 0.5, 0.5])"
            ]
          },
          "metadata": {},
          "execution_count": 81
        }
      ]
    },
    {
      "cell_type": "markdown",
      "source": [
        "セル相対座標表示のメリットはほかにもまだまだあります。\n",
        "\n",
        "ある原子がセルからはみでているかどうかは、セル相対座標であれば、座標値が0〜1の範囲にあるかどうかだけで判別できます。"
      ],
      "metadata": {
        "id": "ZTMj6MGdcfHT"
      }
    },
    {
      "cell_type": "code",
      "source": [
        "B = np.array([0.5,2.0,3.0]) #絶対座標\n",
        "rB = B @ MtI\n",
        "rB"
      ],
      "metadata": {
        "colab": {
          "base_uri": "https://localhost:8080/"
        },
        "id": "Vj8eenHDcWqn",
        "outputId": "9565203b-76e9-4fb7-ea3e-b2b5cf1d9071"
      },
      "execution_count": 82,
      "outputs": [
        {
          "output_type": "execute_result",
          "data": {
            "text/plain": [
              "array([-0.08333333,  0.5       ,  0.6       ])"
            ]
          },
          "metadata": {},
          "execution_count": 82
        }
      ]
    },
    {
      "cell_type": "markdown",
      "source": [
        "Bはセル外にあります。では、周期境界条件を作用させて、セル内に移動させるには?\n",
        "\n",
        "これも上で紹介した切り捨て法がそのまま使えます。"
      ],
      "metadata": {
        "id": "ZFYlW-XWc_SC"
      }
    },
    {
      "cell_type": "code",
      "source": [
        "rB -= np.floor(rB)\n",
        "rB"
      ],
      "metadata": {
        "colab": {
          "base_uri": "https://localhost:8080/"
        },
        "id": "IL3_8xCwc9gi",
        "outputId": "dda055fb-a523-4f43-ca82-efefb86e591d"
      },
      "execution_count": 83,
      "outputs": [
        {
          "output_type": "execute_result",
          "data": {
            "text/plain": [
              "array([0.91666667, 0.5       , 0.6       ])"
            ]
          },
          "metadata": {},
          "execution_count": 83
        }
      ]
    },
    {
      "cell_type": "markdown",
      "source": [
        "そして絶対座標に戻したければ、セル行列をかけます。"
      ],
      "metadata": {
        "id": "Mjn0GGAzdRwh"
      }
    },
    {
      "cell_type": "code",
      "source": [
        "B = rB @ Mt\n",
        "B"
      ],
      "metadata": {
        "colab": {
          "base_uri": "https://localhost:8080/"
        },
        "id": "0LVOp1pDdPUv",
        "outputId": "6b7ae290-1af9-40b3-adbe-fc8752f8ac40"
      },
      "execution_count": 84,
      "outputs": [
        {
          "output_type": "execute_result",
          "data": {
            "text/plain": [
              "array([3.5, 2. , 3. ])"
            ]
          },
          "metadata": {},
          "execution_count": 84
        }
      ]
    },
    {
      "cell_type": "markdown",
      "source": [
        "周期境界条件のもとでの2つの原子の相対ベクトルも、同じように簡単に計算できます。\n"
      ],
      "metadata": {
        "id": "YEuMS3c9dl7W"
      }
    },
    {
      "cell_type": "code",
      "source": [
        "B = np.array([0.5,2.0,3.0]) #絶対座標\n",
        "rB = B @ MtI\n",
        "\n",
        "rA = np.array([0.5,0.5,0.5]) # 相対座標でセルの中央\n",
        "\n",
        "rel = rB - rA                # 相対座標での差\n",
        "rel -= np.floor(rel+0.5)     # 相対座標での周期境界条件の作用\n",
        "\n",
        "rel @ Mt  # 絶対座標における相対位置ベクトル"
      ],
      "metadata": {
        "colab": {
          "base_uri": "https://localhost:8080/"
        },
        "id": "so5kG46FdYVx",
        "outputId": "8673a238-0d1b-4ff8-9028-3c1ead6ad54e"
      },
      "execution_count": 85,
      "outputs": [
        {
          "output_type": "execute_result",
          "data": {
            "text/plain": [
              "array([1.25, 0.  , 0.5 ])"
            ]
          },
          "metadata": {},
          "execution_count": 85
        }
      ]
    },
    {
      "cell_type": "markdown",
      "source": [
        "Gromacsの.groファイルでは、原子座標を絶対座標で記録しますが、それが正しいというわけではありません。LAMMPSやCIFはセル相対座標を使います。周期境界条件に関係ある処理を行う場合は、原子の座標を全部セル相対座標に変換しておくと、何かと便利です。\n",
        "\n",
        "groファイルを読みこみ、セル行列とセル相対座標を生成するMDAnalysisのサンプルコードを下に書いておきます。"
      ],
      "metadata": {
        "id": "xv91wgpXeUL4"
      }
    },
    {
      "cell_type": "code",
      "source": [
        "%pip install mdanalysis"
      ],
      "metadata": {
        "id": "-JwSF8LleIUV"
      },
      "execution_count": null,
      "outputs": []
    },
    {
      "cell_type": "code",
      "source": [
        "import MDAnalysis as mda\n",
        "\n",
        "with open(\"data.gro\") as file:\n",
        "    # MDAnalysisオブジェクト\n",
        "    u = mda.Universe(file, format=\"GRO\")\n",
        "    # 酸素原子だけ抽出。単位はÅ \n",
        "    O = u.select_atoms(\"name OW\")\n",
        "    # 転置されたセル行列\n",
        "    cell = mda.lib.mdamath.triclinic_vectors(u.trajectory.ts.dimensions).T\n",
        "    # その逆行列\n",
        "    celli = np.linalg.inv(cell)\n",
        "    # 酸素原子の座標を抽出(絶対座標)\n",
        "    pos = O.atoms.positions.astype(float)\n",
        "    # セル相対座標に変換\n",
        "    rpos = pos @ celli\n"
      ],
      "metadata": {
        "colab": {
          "base_uri": "https://localhost:8080/",
          "height": 133
        },
        "id": "ODTntELFfDll",
        "outputId": "680f7cb2-93cf-4826-edbb-3ceac4b26243"
      },
      "execution_count": 86,
      "outputs": [
        {
          "output_type": "error",
          "ename": "SyntaxError",
          "evalue": "ignored",
          "traceback": [
            "\u001b[0;36m  File \u001b[0;32m\"<ipython-input-86-719eaa2e912b>\"\u001b[0;36m, line \u001b[0;32m3\u001b[0m\n\u001b[0;31m    with open(\"data.gro\u001b[0m\n\u001b[0m                       ^\u001b[0m\n\u001b[0;31mSyntaxError\u001b[0m\u001b[0;31m:\u001b[0m EOL while scanning string literal\n"
          ]
        }
      ]
    },
    {
      "cell_type": "code",
      "source": [],
      "metadata": {
        "id": "GGDgIaMkfKY5"
      },
      "execution_count": null,
      "outputs": []
    }
  ]
}
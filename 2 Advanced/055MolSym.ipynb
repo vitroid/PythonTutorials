{
  "cells": [
    {
      "attachments": {},
      "cell_type": "markdown",
      "metadata": {
        "colab_type": "text",
        "id": "view-in-github"
      },
      "source": [
        "<a href=\"https://colab.research.google.com/github/vitroid/PythonTutorials/blob/master/2%20Advanced/055MolSym.ipynb\" target=\"_parent\"><img src=\"https://colab.research.google.com/assets/colab-badge.svg\" alt=\"Open In Colab\"/></a>"
      ]
    },
    {
      "attachments": {},
      "cell_type": "markdown",
      "metadata": {
        "id": "lc-aXMAHn2WL"
      },
      "source": [
        "# 分子シミュレーション\n",
        "\n",
        "ここでは、分子シミュレーションに関連したコーディング技法をいろいろ示します。分子シミュレーションそのものについては、教科書等を参考にして下さい。"
      ]
    },
    {
      "cell_type": "code",
      "execution_count": null,
      "metadata": {
        "id": "CyUKId3MqBj5"
      },
      "outputs": [],
      "source": [
        "import numpy as np"
      ]
    },
    {
      "attachments": {},
      "cell_type": "markdown",
      "metadata": {
        "id": "BOtggJR0oDdc"
      },
      "source": [
        "## 1. 原子の座標\n",
        "\n",
        "原子の座標は$3\\times N$次元のnp.arrayで表現すると、あとあと便利です。ここでは例として、$50^3$単純立方格子の座標を生成します。原子間距離は2.5 Åとします。\n",
        "\n"
      ]
    },
    {
      "attachments": {},
      "cell_type": "markdown",
      "metadata": {
        "id": "pbTlD7dN6ivr"
      },
      "source": [
        "### 1.1 単純ループ"
      ]
    },
    {
      "cell_type": "code",
      "execution_count": null,
      "metadata": {
        "id": "dqkaTnv8n1Bs"
      },
      "outputs": [],
      "source": [
        "%%timeit\n",
        "\n",
        "N = 50\n",
        "d = 2.5\n",
        "atoms = []\n",
        "for ix in range(N):\n",
        "    for iy in range(N):\n",
        "        for iz in range(N):\n",
        "            atoms.append([ix*d, iy*d, iz*d])\n",
        "atoms = np.array(atoms)\n"
      ]
    },
    {
      "attachments": {},
      "cell_type": "markdown",
      "metadata": {
        "id": "EQJH8iqQpXYT"
      },
      "source": [
        "### 1.2 リスト内包記法"
      ]
    },
    {
      "cell_type": "code",
      "execution_count": null,
      "metadata": {
        "id": "91j9fCf7qI9k"
      },
      "outputs": [],
      "source": [
        "%%timeit\n",
        "\n",
        "N = 50\n",
        "d = 2.5\n",
        "atoms = np.array([(ix*d, iy*d, iz*d) for ix in range(N) for iy in range(N) for iz in range(N)])\n"
      ]
    },
    {
      "attachments": {},
      "cell_type": "markdown",
      "metadata": {
        "id": "risybkPLxHGj"
      },
      "source": [
        "numpyのベクトル演算を使いましょう。かけ算はあとでまとめて行います。"
      ]
    },
    {
      "cell_type": "code",
      "execution_count": null,
      "metadata": {
        "id": "NiXHMjrRxQvC"
      },
      "outputs": [],
      "source": [
        "%%timeit\n",
        "\n",
        "N = 50\n",
        "d = 2.5\n",
        "atoms = d * np.array([(ix, iy, iz) for ix in range(N) for iy in range(N) for iz in range(N)]) \n"
      ]
    },
    {
      "attachments": {},
      "cell_type": "markdown",
      "metadata": {
        "id": "PfcXiiZjqexV"
      },
      "source": [
        "### 1.3 np.arangeを使う\n",
        "\n",
        "range()は整数しか扱えないので、実数版であるnp.arangeに代えます。ixなどのループ専用変数が要らなくなる分、直接的な表現といえます。"
      ]
    },
    {
      "cell_type": "code",
      "execution_count": null,
      "metadata": {
        "id": "266VhcN8qb23"
      },
      "outputs": [],
      "source": [
        "%%timeit\n",
        "\n",
        "N = 50\n",
        "d = 2.5\n",
        "atoms = []\n",
        "for x in np.arange(0, N*d, d):\n",
        "    for y in np.arange(0, N*d, d):\n",
        "        for z in np.arange(0, N*d, d):\n",
        "            atoms.append([x, y, z])\n",
        "atoms = np.array(atoms)"
      ]
    },
    {
      "attachments": {},
      "cell_type": "markdown",
      "metadata": {
        "id": "hPoqx-pwrQhz"
      },
      "source": [
        "一般に、リスト内包記法は通常のループよりも高速です。"
      ]
    },
    {
      "cell_type": "code",
      "execution_count": null,
      "metadata": {
        "id": "HOVdcPinqVl2"
      },
      "outputs": [],
      "source": [
        "%%timeit\n",
        "\n",
        "N = 50\n",
        "d = 2.5\n",
        "atoms = np.array([(x,y,z) for x in np.arange(0, N*d, d) for y in np.arange(0, N*d, d) for z in np.arange(0, N*d, d)])\n"
      ]
    },
    {
      "attachments": {},
      "cell_type": "markdown",
      "metadata": {
        "id": "zKRlH1xKr2fG"
      },
      "source": [
        "### 1.4 meshgridを使う\n",
        "\n",
        "numpyには、格子を生成するための特別な関数がいくつかあります。meshgridは、X,Y,Z軸方向の目盛から、格子点を一気に生成します。\n",
        "\n",
        "まず、X方向の目盛を作ります。"
      ]
    },
    {
      "cell_type": "code",
      "execution_count": null,
      "metadata": {
        "id": "Z0yiT9nqrfCM"
      },
      "outputs": [],
      "source": [
        "N = 50\n",
        "d = 2.5\n",
        "X = np.arange(0, N*d, d)\n",
        "X"
      ]
    },
    {
      "attachments": {},
      "cell_type": "markdown",
      "metadata": {
        "id": "TQzxcY2LsUce"
      },
      "source": [
        "同様に、Y, Zも生成し、これらを組みあわせてグリッド(格子)を作ります。"
      ]
    },
    {
      "cell_type": "code",
      "execution_count": null,
      "metadata": {
        "id": "qFHIbsBEsRfD"
      },
      "outputs": [],
      "source": [
        "Y = np.arange(0, N*d, d)\n",
        "Z = np.arange(0, N*d, d)\n",
        "\n",
        "Xg,Yg,Zg = np.meshgrid(X,Y,Z, indexing=\"ij\")\n",
        "Xg"
      ]
    },
    {
      "attachments": {},
      "cell_type": "markdown",
      "metadata": {
        "id": "_BimVdCysn3I"
      },
      "source": [
        "Xgの中身は、Xの内容がなんどもリピートされているように見えます。しかも3次元配列ですね。では、個々の要素を見ていきます。"
      ]
    },
    {
      "cell_type": "code",
      "execution_count": null,
      "metadata": {
        "id": "7hBP13gosg-Z"
      },
      "outputs": [],
      "source": [
        "Xg[0,0,0], Yg[0,0,0], Zg[0,0,0]"
      ]
    },
    {
      "cell_type": "code",
      "execution_count": null,
      "metadata": {
        "id": "DAbQCv81s6YP"
      },
      "outputs": [],
      "source": [
        "Xg[3,2,4], Yg[3,2,4], Zg[3,2,4]"
      ]
    },
    {
      "attachments": {},
      "cell_type": "markdown",
      "metadata": {
        "id": "-k28lvkstDhV"
      },
      "source": [
        "わかるでしょうか。`Xg[i,j,k]`には、$(i,j,k)$番目の格子点のX座標が入っています。\n",
        "\n",
        "三次元配列ではなく、以前の例のような座標の単純な羅列が欲しいなら、flatten()関数で1次元化します。"
      ]
    },
    {
      "cell_type": "code",
      "execution_count": null,
      "metadata": {
        "id": "ea4x16fvtCR9"
      },
      "outputs": [],
      "source": [
        "Xf = Xg.flatten()\n",
        "Yf = Yg.flatten()\n",
        "Zf = Zg.flatten()\n",
        "Xf.shape"
      ]
    },
    {
      "attachments": {},
      "cell_type": "markdown",
      "metadata": {
        "id": "wEK5g5U1vemH"
      },
      "source": [
        "全部まとめると次のように書けます。"
      ]
    },
    {
      "cell_type": "code",
      "execution_count": null,
      "metadata": {
        "id": "ctMH-swOvdry"
      },
      "outputs": [],
      "source": [
        "%%timeit\n",
        "\n",
        "N = 50\n",
        "d = 2.5\n",
        "X = np.arange(0, N*d, d)\n",
        "Y = np.arange(0, N*d, d)\n",
        "Z = np.arange(0, N*d, d)\n",
        "Xg, Yg, Zg = np.meshgrid(X,Y,Z)\n",
        "Xf = Xg.flatten()\n",
        "Yf = Yg.flatten()\n",
        "Zf = Zg.flatten()\n",
        "atoms = np.array([Xf,Yf,Zf]).T\n"
      ]
    },
    {
      "attachments": {},
      "cell_type": "markdown",
      "metadata": {
        "id": "4g-BtExOwTkU"
      },
      "source": [
        "読みにくくなりますが、ループがまったくないので爆速です。\n",
        "\n",
        "さらに直感的でない方法として、mgridを使う方法があります。mgridはmeshgridと似た働きをしますが、関数ではなく配列のように見えます。"
      ]
    },
    {
      "cell_type": "code",
      "execution_count": null,
      "metadata": {
        "id": "WdlFU59Ytm9z"
      },
      "outputs": [],
      "source": [
        "%%timeit \n",
        "\n",
        "N = 50\n",
        "d = 2.5\n",
        "Xg, Yg, Zg = np.mgrid[0:N,0:N,0:N]\n",
        "Xf = Xg.flatten()\n",
        "Yf = Yg.flatten()\n",
        "Zf = Zg.flatten()\n",
        "atoms = d * np.array([Xf,Yf,Zf]).T\n"
      ]
    },
    {
      "attachments": {},
      "cell_type": "markdown",
      "metadata": {
        "id": "6AiNiWAMyyxJ"
      },
      "source": [
        "極限まで簡略化するとこんな感じ。もはや読めませんが、関数にして名前をつけておけば無問題です。"
      ]
    },
    {
      "cell_type": "code",
      "execution_count": null,
      "metadata": {
        "id": "V0qDXHqXw5C4"
      },
      "outputs": [],
      "source": [
        "%%timeit\n",
        "\n",
        "def simple_lattice(N):\n",
        "    \"\"\"最近接原子間距離が1の単純立方格子を生成する。\n",
        "\n",
        "    N: 単位胞をN^3個生成する\n",
        "    \"\"\"\n",
        "    return np.mgrid[0:N, 0:N, 0:N].reshape(3,-1).T\n",
        "\n",
        "N = 50\n",
        "d = 2.5\n",
        "atoms = simple_lattice(N)*d\n"
      ]
    },
    {
      "attachments": {},
      "cell_type": "markdown",
      "metadata": {
        "id": "VOusN8sV2437"
      },
      "source": [
        "\n",
        "### 1.5 ほかの格子\n",
        "\n",
        "面心立方格子は、単純立方格子を$(1/2, 1/2, 1/2)$だけずらして重ねたものといえます。\n",
        "\n",
        "まず、間隔1の単純格子をつくります。"
      ]
    },
    {
      "cell_type": "code",
      "execution_count": null,
      "metadata": {
        "id": "Z6c4jaYeyUEc"
      },
      "outputs": [],
      "source": [
        "def simple_lattice(N):\n",
        "    \"\"\"最近接原子間距離が1の単純立方格子を生成する。\n",
        "\n",
        "    N: 単位胞をN^3個生成する\n",
        "    \"\"\"\n",
        "    return np.mgrid[0:N, 0:N, 0:N].reshape(3,-1).T\n",
        "\n",
        "N = 50\n",
        "atoms = simple_lattice(N)\n",
        "atoms"
      ]
    },
    {
      "attachments": {},
      "cell_type": "markdown",
      "metadata": {
        "id": "G7EDOrLD3gJj"
      },
      "source": [
        "ずらした格子を別途作ります。"
      ]
    },
    {
      "cell_type": "code",
      "execution_count": null,
      "metadata": {
        "id": "JdQsN3Hn3Sww"
      },
      "outputs": [],
      "source": [
        "slid = atoms + np.array([0.5, 0.5, 0.5])\n",
        "slid"
      ]
    },
    {
      "attachments": {},
      "cell_type": "markdown",
      "metadata": {
        "id": "jSSPbtXy3tt_"
      },
      "source": [
        "そして2つを連結concatします。"
      ]
    },
    {
      "cell_type": "code",
      "execution_count": null,
      "metadata": {
        "id": "6uaElPBR3oNH"
      },
      "outputs": [],
      "source": [
        "bcc = np.concatenate([atoms, slid])\n",
        "bcc"
      ]
    },
    {
      "attachments": {},
      "cell_type": "markdown",
      "metadata": {
        "id": "N0XSL5bK4FIU"
      },
      "source": [
        "最近接格子間距離を2.5 Åにしたいなら、ちょっと工夫が必要です。最近接原子は$(0,0,0)$と$(1/2,1/2,1/2)$にあります。この距離が2.5 Åになるように調節します。"
      ]
    },
    {
      "cell_type": "code",
      "execution_count": null,
      "metadata": {
        "id": "JkHa9ypj32QC"
      },
      "outputs": [],
      "source": [
        "d = 2.5\n",
        "bcc * d * 2 / 3**0.5"
      ]
    },
    {
      "attachments": {},
      "cell_type": "markdown",
      "metadata": {
        "id": "6354qyCI5DAN"
      },
      "source": [
        "最後に、これも関数にしておきます。"
      ]
    },
    {
      "cell_type": "code",
      "execution_count": null,
      "metadata": {
        "id": "725MGSS_5FfV"
      },
      "outputs": [],
      "source": [
        "def BCC(N):\n",
        "    \"\"\"最近接原子間距離が1の体心立方格子を生成する。\n",
        "\n",
        "    N: 単位胞をN^3個生成する\n",
        "    \"\"\"\n",
        "    atoms = simple_lattice(N)\n",
        "    slid = atoms + np.array([0.5, 0.5, 0.5])\n",
        "    return np.concatenate([atoms, slid]) * 2 / 3**0.5\n",
        "\n",
        "N = 50\n",
        "d = 2.5\n",
        "atoms = BCC(N) * d\n",
        "atoms"
      ]
    },
    {
      "attachments": {},
      "cell_type": "markdown",
      "metadata": {
        "id": "w2ycB4FZ535J"
      },
      "source": [
        "関数定義の直後にある文字列は、関数の説明文です。これを定義しておくと、ヘルプに表示されます。"
      ]
    },
    {
      "cell_type": "code",
      "execution_count": null,
      "metadata": {
        "id": "93qTQ8qt6ANa"
      },
      "outputs": [],
      "source": [
        "?BCC"
      ]
    },
    {
      "attachments": {},
      "cell_type": "markdown",
      "metadata": {
        "id": "uZeCyWVh4zqg"
      },
      "source": [
        "### 1.99 練習問題\n",
        "\n",
        "単位格子数$2^3$で最短原子間距離が2.5 Åの最密充填格子を作って下さい。"
      ]
    },
    {
      "attachments": {},
      "cell_type": "markdown",
      "metadata": {
        "id": "5srGsbQe6LoE"
      },
      "source": [
        "## 2. シミュレーションセルの取扱い\n",
        "\n",
        "分子シミュレーションはほとんどの場合周期境界条件のもとで行われます。周期境界条件を適用しない場合、必ず表面の影響を受けてしまいますが、周期境界条件により表面のない状況を擬似的に表現できます。\n",
        "\n",
        "分子シミュレーションでは、分子の入っている箱のことをシミュレーションセルまたは単にセルと呼びます。セルは立方体の場合もあれば直方体の場合もあります。気体や液体のシミュレーションでは立方体セルを使うことが多いですが、固体の場合には結晶の形によっては直方体や平行六面体のセルを用いる場合もあります。\n",
        "\n",
        "セルの大きさについてはここでは議論しませんが、あまり小さな系はアーティファクトの原因になります。最近では1万分子以上を含むような、大規模なシミュレーションも一般的になってきています。\n",
        "\n",
        "以下ではシミュレーションセルは一般的に平行六面体であると考え、その3つの辺を$(\\vec a, \\vec b, \\vec c)$あるいは`a,b,c`で表記します。"
      ]
    },
    {
      "attachments": {},
      "cell_type": "markdown",
      "metadata": {
        "id": "6FxS5AT67Qob"
      },
      "source": [
        "### 2.1 絶対座標系とセル相対座標系\n",
        "\n",
        "セル内の原子の座標を表す方法として、絶対座標(ユークリッド座標)を指定する方法と、セル相対座標(fractional coordinate)を指定する方法があります。\n",
        "\n",
        "例えば、一辺が12 Åのシミュレーションセルのすみ(原点)と、中央にいる原子の座標は、絶対座標では$(0,0,0), (6,6,6)$、セル相対座標では$(0,0,0), (0.5, 0.5, 0.5)$となります。\n",
        "\n",
        "直感的にわかりやすいのは前者ですが、周期境界条件のとりあつかいを考えると、後者のほうが圧倒的に便利です。\n",
        "\n",
        "直方体セルの場合、セル相対座標を絶対座標に変換するには、セル長をかけます。逆に、絶対座標をセル長で割れば、セル相対座標になります。"
      ]
    },
    {
      "cell_type": "code",
      "execution_count": null,
      "metadata": {
        "id": "0IBvyl6z-yP1"
      },
      "outputs": [],
      "source": [
        "cell = np.array([12.0, 12.0, 12.0])\n",
        "\n",
        "A = np.array([0.0, 0.0, 0.0])\n",
        "B = np.array([6.0, 6.0, 6.0])\n",
        "\n",
        "rA = A / cell\n",
        "rB = B / cell\n",
        "rA, rB"
      ]
    },
    {
      "attachments": {},
      "cell_type": "markdown",
      "metadata": {
        "id": "0moU5sYe-wlW"
      },
      "source": [
        "### 2.2 周期境界条件下での原子間距離の計算\n",
        "\n",
        "2つの原子の距離は、座標からピタゴラスの定理を使って計算できます。"
      ]
    },
    {
      "cell_type": "code",
      "execution_count": null,
      "metadata": {
        "id": "TdVg0cvH3649"
      },
      "outputs": [],
      "source": [
        "cell = np.array([12.0, 12.0, 12.0])\n",
        "\n",
        "A = np.array([0.0, 0.0, 0.0])\n",
        "B = np.array([3.0, 3.0, 3.0])\n",
        "\n",
        "dAB = B - A\n",
        "r = (dAB[0]**2 + dAB[1]**2 + dAB[2]**2)**0.5\n",
        "r"
      ]
    },
    {
      "attachments": {},
      "cell_type": "markdown",
      "metadata": {
        "id": "VRieazyeCbtD"
      },
      "source": [
        "でも、次の場合にはこの方法はうまくいきません。"
      ]
    },
    {
      "cell_type": "code",
      "execution_count": null,
      "metadata": {
        "id": "JGK4iBsACNAf"
      },
      "outputs": [],
      "source": [
        "A = np.array([0.0, 0.0, 0.0])\n",
        "C = np.array([9.0, 9.0, 9.0])\n",
        "\n",
        "dAC = C - A\n",
        "r = (dAC[0]**2 + dAC[1]**2 + dAC[2]**2)**0.5\n",
        "r"
      ]
    },
    {
      "attachments": {},
      "cell_type": "markdown",
      "metadata": {
        "id": "y0AkLIG0Cs3a"
      },
      "source": [
        "周期境界条件のもとでは、AB間の距離はAC間の距離と同じはずですが、AC間の計算ではイメージセル間の最短距離をとらえそこねています。\n",
        "\n",
        "ちゃんと計算するには、条件分岐が必要になります。"
      ]
    },
    {
      "cell_type": "code",
      "execution_count": null,
      "metadata": {
        "id": "pqOvVIz5CmPS"
      },
      "outputs": [],
      "source": [
        "A = np.array([0.0, 0.0, 0.0])\n",
        "C = np.array([9.0, 9.0, 9.0])\n",
        "\n",
        "dAC = C - A\n",
        "\n",
        "if dAC[0] < -6.0:\n",
        "    dAC[0] += 12\n",
        "elif dAC[0] > +6.0:\n",
        "    dAC[0] -= 12\n",
        "\n",
        "if dAC[1] < -6.0:\n",
        "    dAC[1] += 12\n",
        "elif dAC[1] > +6.0:\n",
        "    dAC[1] -= 12\n",
        "\n",
        "if dAC[2] < -6.0:\n",
        "    dAC[2] += 12\n",
        "elif dAC[2] > +6.0:\n",
        "    dAC[2] -= 12\n",
        "\n",
        "r = (dAC[0]**2 + dAC[1]**2 + dAC[2]**2)**0.5\n",
        "r"
      ]
    },
    {
      "attachments": {},
      "cell_type": "markdown",
      "metadata": {
        "id": "uEIUL8DpDUr9"
      },
      "source": [
        "これは面倒臭い! 上の条件式にでてくる6.0はセルの一辺の長さの半分です。差が6を越えたら、反対側のイメージセルの原子のほうが近いので、12を引いてイメージセルの原子との距離におきかえます。これを3方向について処理する必要があります。\n",
        "\n",
        "次に、同じことをセル相対座標で書いてみます。"
      ]
    },
    {
      "cell_type": "code",
      "execution_count": null,
      "metadata": {
        "id": "j3HqYdxTDTor"
      },
      "outputs": [],
      "source": [
        "cell = np.array([12.0, 12.0, 12.0])\n",
        "\n",
        "A = np.array([0.0, 0.0, 0.0])\n",
        "C = np.array([9.0, 9.0, 9.0])\n",
        "\n",
        "# to a fractional coordinate\n",
        "rA = A / cell\n",
        "rC = C / cell\n",
        "\n",
        "dAC = rC - rA\n",
        "\n",
        "if dAC[0] < -0.5:\n",
        "    dAC[0] += 1\n",
        "elif dAC[0] > +0.5:\n",
        "    dAC[0] -= 1\n",
        "\n",
        "if dAC[1] < -0.5:\n",
        "    dAC[1] += 1\n",
        "elif dAC[1] > +0.5:\n",
        "    dAC[1] -= 1\n",
        "\n",
        "if dAC[2] < -0.5:\n",
        "    dAC[2] += 1\n",
        "elif dAC[2] > +0.5:\n",
        "    dAC[2] -= 1\n",
        "\n",
        "# to an absolute displacement vector\n",
        "dAC *= cell\n",
        "\n",
        "r = (dAC[0]**2 + dAC[1]**2 + dAC[2]**2)**0.5\n",
        "r"
      ]
    },
    {
      "attachments": {},
      "cell_type": "markdown",
      "metadata": {
        "id": "yRWxntsEEcsz"
      },
      "source": [
        "やっていることは同じですが、セルサイズが条件文の中にでてこなくなったので、すこし見易くなりました。\n",
        "\n",
        "でもメリットはこれだけではありません。条件文の計算は、実は「四捨五入」と等価なのです。例えば、`x==0.75`なら、上の条件文を通ると`x==-0.25`になりますよね。これは、「xを小数点1桁目で四捨五入して、xから引く」のと同じ結果になります。\n",
        "\n",
        "numpyには四捨五入関数round()が準備されていますから、これを使うとプログラムはさっぱりします。"
      ]
    },
    {
      "cell_type": "code",
      "execution_count": null,
      "metadata": {
        "id": "v-eXTICrEaEg"
      },
      "outputs": [],
      "source": [
        "cell = np.array([12.0, 12.0, 12.0])\n",
        "\n",
        "A = np.array([0.0, 0.0, 0.0])\n",
        "C = np.array([9.0, 9.0, 9.0])\n",
        "\n",
        "# fractional coordinate\n",
        "rA = A / cell\n",
        "rC = C / cell\n",
        "\n",
        "dAC = rC - rA\n",
        "dAC -= np.round(dAC)\n",
        "\n",
        "# absolute displacement vector\n",
        "dAC *= cell\n",
        "\n",
        "r = (dAC[0]**2 + dAC[1]**2 + dAC[2]**2)**0.5\n",
        "r"
      ]
    },
    {
      "attachments": {},
      "cell_type": "markdown",
      "metadata": {
        "id": "YM9P_AM0Fym6"
      },
      "source": [
        "> なお、松本は`round()`関数の挙動が気持ち悪いので、`floor(x+0.5)`という書き方を好みます。`round()`の気持ち悪さは下のグラフで実感できます。"
      ]
    },
    {
      "cell_type": "code",
      "execution_count": null,
      "metadata": {
        "id": "uLj0SuRKF0Lm"
      },
      "outputs": [],
      "source": [
        "import numpy as np\n",
        "import matplotlib.pyplot as plt\n",
        "\n",
        "x = np.arange(-3.0, +3.5, 0.5)\n",
        "plt.plot(x, np.round(x), \"o-\",  label=\"Round func.\")\n",
        "plt.plot(x, np.floor(x+0.5), \"o-\", label=\"Floor func.\")\n",
        "plt.legend()\n",
        "plt.show()\n",
        "\n",
        "plt.plot(x, x.astype(int), \"o-\", label=\"Int func.\")\n",
        "plt.plot(x, np.floor(x+0.5), \"o-\", label=\"Floor func.\")\n",
        "plt.legend()\n",
        "plt.show()\n"
      ]
    },
    {
      "attachments": {},
      "cell_type": "markdown",
      "metadata": {
        "id": "0zSealfCIQEU"
      },
      "source": [
        "### 2.3 セルからはみでた原子の扱い\n",
        "\n",
        "分子動力学シミュレーションの過程で、原子がセル端面を越えて外に出てしまう場合があります。その場合は、反対側から入ってきます。\n",
        "\n",
        "絶対座標で書くと以下のような感じです。"
      ]
    },
    {
      "cell_type": "code",
      "execution_count": null,
      "metadata": {
        "id": "ONo7e6xJFfp8"
      },
      "outputs": [],
      "source": [
        "cell = np.array([12.0, 12.0, 12.0])\n",
        "\n",
        "A = np.array([1.0, 2.0, -3.0]) # z方向にはみ出している\n",
        "\n",
        "if A[0] < 0.0:\n",
        "    A[0] += 12\n",
        "elif A[0] > 12:\n",
        "    A[0] -= 12\n",
        "\n",
        "if A[1] < 0.0:\n",
        "    A[1] += 12\n",
        "elif A[1] > 12:\n",
        "    A[1] -= 12\n",
        "    \n",
        "if A[2] < 0.0:\n",
        "    A[2] += 12\n",
        "elif A[2] > 12:\n",
        "    A[2] -= 12\n",
        "    \n",
        "A"
      ]
    },
    {
      "attachments": {},
      "cell_type": "markdown",
      "metadata": {
        "id": "eBebYRkWI_19"
      },
      "source": [
        "これも、セル相対座標を使えばすこし簡潔になります。"
      ]
    },
    {
      "cell_type": "code",
      "execution_count": null,
      "metadata": {
        "id": "vnwt4kU1I-I9"
      },
      "outputs": [],
      "source": [
        "cell = np.array([12.0, 12.0, 12.0])\n",
        "\n",
        "A = np.array([1.0, 2.0, -3.0]) # z方向にはみ出している\n",
        "\n",
        "# to a fractional coordinate\n",
        "rA = A / cell\n",
        "\n",
        "if rA[0] < 0.0:\n",
        "    rA[0] += 1\n",
        "elif rA[0] > 1:\n",
        "    rA[0] -= 1\n",
        "\n",
        "if rA[1] < 0.0:\n",
        "    rA[1] += 1\n",
        "elif rA[1] > 1:\n",
        "    rA[1] -= 1\n",
        "    \n",
        "if rA[2] < 0.0:\n",
        "    rA[2] += 1\n",
        "elif rA[2] > 1:\n",
        "    rA[2] -= 1\n",
        "\n",
        "# to an absolute coordinate\n",
        "A = rA * cell   \n",
        "A"
      ]
    },
    {
      "attachments": {},
      "cell_type": "markdown",
      "metadata": {
        "id": "ofdblXMiJZ8N"
      },
      "source": [
        "今度は条件分岐のしかたがちょっと違いますね。この条件分岐は、切り捨てに書きなおすことができます。\n",
        "\n",
        "* zは-0.25。(-3/12)\n",
        "* zを小数点以下で切り捨てる=zよりも小さい最大の整数にする=-1\n",
        "* もとのzから-1を引くと0.75。\n",
        "\n"
      ]
    },
    {
      "cell_type": "code",
      "execution_count": null,
      "metadata": {
        "id": "nmR-cZDZJUkG"
      },
      "outputs": [],
      "source": [
        "cell = np.array([12.0, 12.0, 12.0])\n",
        "\n",
        "A = np.array([1.0, 2.0, -3.0]) # z方向にはみ出している\n",
        "\n",
        "# to a fractional coordinate\n",
        "rA = A / cell\n",
        "\n",
        "# 切りすてた数をもとの数から引く。\n",
        "rA -= np.floor(rA)\n",
        "\n",
        "# to an absolute coordinate\n",
        "A = rA * cell   \n",
        "A"
      ]
    },
    {
      "attachments": {},
      "cell_type": "markdown",
      "metadata": {
        "id": "3WcTCPbZKuNb"
      },
      "source": [
        "このように、セル相対座標を使うことで、条件分岐を使わないですみ、プログラムが簡潔かつ高速になります。"
      ]
    },
    {
      "attachments": {},
      "cell_type": "markdown",
      "metadata": {
        "id": "7G9QOXZjK586"
      },
      "source": [
        "### 2.4 非直方体セルの取扱い\n",
        "\n",
        "直方体でないセルのことも考えると、絶対座標よりセル相対座標のほうが圧倒的に便利であることがわかります。\n",
        "\n",
        "直方体でないセルの、3つの辺をそれぞれ$\\vec a, \\vec b, \\vec c$で表します。\n",
        "\n",
        "さて、このセルの中央に原子をひとつ置いて下さい。もし絶対座標を使うのなら、中心とは$\\vec a+ \\vec b+ \\vec c\\over 2$のことです。"
      ]
    },
    {
      "cell_type": "code",
      "execution_count": null,
      "metadata": {
        "id": "wrpHwSqfW3o-"
      },
      "outputs": [],
      "source": [
        "a = np.array([3.0, 0.0, 0.0])\n",
        "b = np.array([1.5, 4.0, 0.0]) # bが傾いている\n",
        "c = np.array([0.0, 0.0, 5.0])\n",
        "\n",
        "A = (a+b+c)/2\n",
        "A\n"
      ]
    },
    {
      "attachments": {},
      "cell_type": "markdown",
      "metadata": {
        "id": "hLVmn80SXb7u"
      },
      "source": [
        "では、絶対座標で$(0.5, 2.0, 3.0)$にある原子Bは、このセルの中にありますか? それとも外にありますか? 外にある場合、周期境界条件のもとでセル内に移動させるならどこに来るでしょうか。\n",
        "\n",
        "かなり面倒に見えてきましたね。そこでセル相対座標の出番です。\n",
        "\n",
        "セル相対座標では、その名の通り、原子の場所はセルの中での相対位置で指示します。例えば、セルの中心は、セルの形がどんなであっても$(0.5, 0.5, 0.5)$です。そして、絶対座標になおしたいなら、\n",
        "$0.5\\vec a+0.5 \\vec b+0.5\\vec c$を計算すればいいだけです。\n",
        "\n",
        "もっと簡単に書く方法を教えましょう。セルの3基本ベクトルを束ねた、セル行列というものを作ります。\n",
        "\n",
        "$$M=\\left(\\begin{array}{c}\n",
        "a_x&b_x&c_x\\\\\n",
        "a_y&b_y&c_y\\\\\n",
        "a_z&b_z&c_z\n",
        "\\end{array}\\right)$$\n",
        "\n",
        "そして、これにセル相対ベクトル$\\vec v=(1/2,1/2,1/2)^T$をかけます。($^T$は転置を表します。$\\vec v$は縦ベクトルです)\n",
        "$$ \\vec w=M\\cdot \\vec v$$\n",
        "$$=\\left({a_x+b_x+c_x\\over 2}, {a_y+b_y+c_y\\over 2}, {a_z+b_z+c_z\\over 2}\\right)$$\n",
        "\n",
        "得られた$\\vec w$はセル中心の絶対座標になっています!\n",
        "\n",
        "ということは、逆に絶対座標に$M$の逆行列をかけるだけで、セル相対座標に変換できる、ということになります。\n",
        "\n",
        "$$ \\vec v=M^{-1}\\cdot \\vec w$$\n",
        "\n",
        "なお、numpyでは座標ベクトルは横ベクトルで表されることが多いので、全部転置したほうが便利です。\n",
        "\n",
        "$$ \\vec w^T=\\vec v^T\\cdot M^T$$\n",
        "$$ \\vec v^T=\\vec w^T\\cdot (M^{-1})^T$$\n"
      ]
    },
    {
      "cell_type": "code",
      "execution_count": null,
      "metadata": {
        "id": "a-jdDptAXbjA"
      },
      "outputs": [],
      "source": [
        "Mt = np.array([a,b,c]) # 転置されたセル行列\n",
        "\n",
        "vt = np.array([0.5,0.5,0.5])\n",
        "wt = vt @ Mt\n",
        "wt"
      ]
    },
    {
      "cell_type": "code",
      "execution_count": null,
      "metadata": {
        "id": "GTzUCDs_KV4u"
      },
      "outputs": [],
      "source": [
        "MtI = np.linalg.inv(Mt)\n",
        "\n",
        "vt = wt @ MtI\n",
        "vt"
      ]
    },
    {
      "attachments": {},
      "cell_type": "markdown",
      "metadata": {
        "id": "ZTMj6MGdcfHT"
      },
      "source": [
        "セル相対座標表示のメリットはほかにもまだまだあります。\n",
        "\n",
        "ある原子がセルからはみでているかどうかは、セル相対座標であれば、座標値が0〜1の範囲にあるかどうかだけで判別できます。"
      ]
    },
    {
      "cell_type": "code",
      "execution_count": null,
      "metadata": {
        "id": "Vj8eenHDcWqn"
      },
      "outputs": [],
      "source": [
        "B = np.array([0.5,2.0,3.0]) #絶対座標\n",
        "rB = B @ MtI\n",
        "rB"
      ]
    },
    {
      "attachments": {},
      "cell_type": "markdown",
      "metadata": {
        "id": "ZFYlW-XWc_SC"
      },
      "source": [
        "Bはセル外にあります。では、周期境界条件を作用させて、セル内に移動させるには?\n",
        "\n",
        "これも上で紹介した切り捨て法がそのまま使えます。"
      ]
    },
    {
      "cell_type": "code",
      "execution_count": null,
      "metadata": {
        "id": "IL3_8xCwc9gi"
      },
      "outputs": [],
      "source": [
        "rB -= np.floor(rB)\n",
        "rB"
      ]
    },
    {
      "attachments": {},
      "cell_type": "markdown",
      "metadata": {
        "id": "Mjn0GGAzdRwh"
      },
      "source": [
        "そして絶対座標に戻したければ、セル行列をかけます。"
      ]
    },
    {
      "cell_type": "code",
      "execution_count": null,
      "metadata": {
        "id": "0LVOp1pDdPUv"
      },
      "outputs": [],
      "source": [
        "B = rB @ Mt\n",
        "B"
      ]
    },
    {
      "attachments": {},
      "cell_type": "markdown",
      "metadata": {
        "id": "YEuMS3c9dl7W"
      },
      "source": [
        "周期境界条件のもとでの2つの原子の相対ベクトルも、同じように簡単に計算できます。\n"
      ]
    },
    {
      "cell_type": "code",
      "execution_count": null,
      "metadata": {
        "id": "so5kG46FdYVx"
      },
      "outputs": [],
      "source": [
        "B = np.array([0.5,2.0,3.0]) #絶対座標\n",
        "rB = B @ MtI\n",
        "\n",
        "rA = np.array([0.5,0.5,0.5]) # 相対座標でセルの中央\n",
        "\n",
        "rel = rB - rA                # 相対座標での差\n",
        "rel -= np.floor(rel+0.5)     # 相対座標での周期境界条件の作用\n",
        "\n",
        "rel @ Mt  # 絶対座標における相対位置ベクトル"
      ]
    },
    {
      "attachments": {},
      "cell_type": "markdown",
      "metadata": {
        "id": "xv91wgpXeUL4"
      },
      "source": [
        "Gromacsの.groファイルでは、原子座標を絶対座標で記録しますが、それが正しいというわけではありません。LAMMPSやCIFはセル相対座標を使います。周期境界条件に関係ある処理を行う場合は、原子の座標を全部セル相対座標に変換しておくと、何かと便利です。\n",
        "\n",
        "groファイルを読みこみ、セル行列とセル相対座標を生成するMDAnalysisのサンプルコードを下に書いておきます。"
      ]
    },
    {
      "cell_type": "code",
      "execution_count": null,
      "metadata": {
        "id": "-JwSF8LleIUV"
      },
      "outputs": [],
      "source": [
        "%pip install mdanalysis"
      ]
    },
    {
      "cell_type": "code",
      "execution_count": null,
      "metadata": {
        "id": "ODTntELFfDll"
      },
      "outputs": [],
      "source": [
        "import MDAnalysis as mda\n",
        "\n",
        "with open(\"data.gro\") as file:\n",
        "    # MDAnalysisオブジェクト\n",
        "    u = mda.Universe(file, format=\"GRO\")\n",
        "    # 酸素原子だけ抽出。単位はÅ \n",
        "    O = u.select_atoms(\"name OW\")\n",
        "    # 転置されたセル行列\n",
        "    cell = mda.lib.mdamath.triclinic_vectors(u.trajectory.ts.dimensions).T\n",
        "    # その逆行列\n",
        "    celli = np.linalg.inv(cell)\n",
        "    # 酸素原子の座標を抽出(絶対座標)\n",
        "    pos = O.atoms.positions.astype(float)\n",
        "    # セル相対座標に変換\n",
        "    rpos = pos @ celli\n"
      ]
    },
    {
      "attachments": {},
      "cell_type": "markdown",
      "metadata": {
        "id": "6JViLKBPlGPb"
      },
      "source": [
        "## 3. 原子対の取扱い\n",
        "\n",
        "各原子から$n$ nm以内にある原子を抽出して処理を行いたい、ということはよくあります。例えば、1 nmまでの動径分布関数を計算したい場合であれば、各原子から1 nmより遠い原子について何らかの処理を行うのは無駄でしかありません。\n",
        "\n",
        "最初に作った体心立方格子の原子配置を使い、隣接する原子間を結合でつないでみましょう。"
      ]
    },
    {
      "cell_type": "code",
      "execution_count": null,
      "metadata": {
        "id": "GGDgIaMkfKY5"
      },
      "outputs": [],
      "source": [
        "import numpy as np\n",
        "\n",
        "def simple_lattice(N):\n",
        "    \"\"\"最近接原子間距離が1の単純立方格子を生成する。\n",
        "\n",
        "    N: 単位胞をN^3個生成する\n",
        "    \"\"\"\n",
        "    return np.mgrid[0:N, 0:N, 0:N].reshape(3,-1).T\n",
        "\n",
        "def BCC(N):\n",
        "    \"\"\"最近接原子間距離が1の体心立方格子を生成する。\n",
        "\n",
        "    N: 単位胞をN^3個生成する\n",
        "    \"\"\"\n",
        "    atoms = simple_lattice(N)\n",
        "    slid = atoms + np.array([0.5, 0.5, 0.5])\n",
        "    return np.concatenate([atoms, slid]) * 2 / 3**0.5\n",
        "\n",
        "N = 12\n",
        "d = 2.5\n",
        "atoms = BCC(N) * d\n",
        "len(atoms)"
      ]
    },
    {
      "attachments": {},
      "cell_type": "markdown",
      "metadata": {
        "id": "DB5pAz3Gn5Be"
      },
      "source": [
        "atomsには、3456個の原子の座標が含まれています。そして、最近接原子距離は2.5です。2つの原子の間の距離が3.0以下であれば結合していると判定して、原子の番号をリストに蓄えていくことにしましょう。\n",
        "\n",
        "とりあえず、周期境界条件のことは無視します。\n",
        "\n",
        "最も素朴なコードは次のようなものです。"
      ]
    },
    {
      "cell_type": "code",
      "execution_count": null,
      "metadata": {
        "id": "RgO0Y1zXolMD"
      },
      "outputs": [],
      "source": [
        "def all_pairs(atoms, rc):\n",
        "    nmol = len(atoms)\n",
        "    pairs = []\n",
        "    for i in range(nmol):\n",
        "        for j in range(i):\n",
        "            d = atoms[j] - atoms[i]\n",
        "            r2 = (d**2).sum()\n",
        "            if r2 < rc**2:\n",
        "                pairs.append([i,j])\n",
        "    return pairs\n",
        "\n",
        "%time print(len(all_pairs(atoms, 3.0)))\n"
      ]
    },
    {
      "attachments": {},
      "cell_type": "markdown",
      "metadata": {
        "id": "YT_NGYFlqwfG"
      },
      "source": [
        "... たった20000対のリストを作るのに、うんざりするぐらい待たされますね。しかも、まだ周期境界条件の処理を行っていません。粒子数の二乗に比例するアルゴリズムは、粒子数が10000を越えるとまず使いものにならないということです。\n",
        "\n",
        "そこで、あらかじめすべての粒子をbinに分け、その上で対リストを作ることにします。とりあえず、binの大きさは1 Åとしましょう。\n",
        "\n",
        "これぐらい細かくしておけば、同じbinの中に複数の原子が入ることはまずありません。(共有結合する物質ではもっと細かくしたほうがいいですが、それはあとで考えます。)\n",
        "\n",
        "\n"
      ]
    },
    {
      "cell_type": "code",
      "execution_count": null,
      "metadata": {
        "id": "VcTFbuWppAVX"
      },
      "outputs": [],
      "source": [
        "# occupant[x]はbin xにある原子の番号\n",
        "occupant = dict()\n",
        "i = 0\n",
        "for pos in atoms:\n",
        "    # 座標を整数にする; pos=(1.4, 3.2, -6.3)ならipos=(1, 3, -7)\n",
        "    ipos = tuple(np.floor(pos).astype(int))\n",
        "    # binに、原子の番号を入れておく。(あとで、その場所にいる原子の番号を知りたいので)\n",
        "    occupant[ipos] = i\n",
        "    i += 1"
      ]
    },
    {
      "attachments": {},
      "cell_type": "markdown",
      "metadata": {
        "id": "8v9Dt8pQ7jui"
      },
      "source": [
        "上のコードでは、occupantをdict()としているのがミソです。これによって、粒子が入っていないbinまで準備する必要がなくなります。\n",
        "\n",
        "例えば、ある原子Aの近く、3 Å以内にある原子を全部知りたいなら、次のようにさがします。\n",
        "\n",
        "1. Aのbin番号を求めます。これを`(p, q, r)`とします。\n",
        "2. binの間隔は1 Åなので、そのbinから、3つ隣までのbin (つまり、`(p-3:p+4,q-3:q+4,r-3:r+4)`)に入っている原子は、距離3 Å以内にある可能性があります。\n",
        "3. それらの中で、実際に3 Å以内にあるものだけを抽出します。"
      ]
    },
    {
      "cell_type": "code",
      "execution_count": null,
      "metadata": {
        "id": "EMqsVKkQ6ip2"
      },
      "outputs": [],
      "source": [
        "def nearby(A, radius, atoms, occupant):\n",
        "    \"\"\"\n",
        "    A: 注目する原子\n",
        "    radius: 隣接しているとみなす距離\n",
        "    atoms: 各原子の座標\n",
        "    occupant: 各原子の所在\n",
        "    \"\"\"\n",
        "    # 整数化した座標 = bin番号\n",
        "    p,q,r = np.floor(atoms[A]).astype(int)\n",
        "    # 距離を整数にしたもの。いくつ隣のbinまでさがすかを決める。\n",
        "    # 見逃しを避けるために、切り上げる。\n",
        "    iradius = np.ceil(radius).astype(int)\n",
        "\n",
        "    near = []\n",
        "    # bin (p,q,r)に近いbinだけを探す。\n",
        "    for ix in range(p-iradius, p+iradius+1):\n",
        "        for iy in range(q-iradius, q+iradius+1):\n",
        "            for iz in range(r-iradius, r+iradius+1):\n",
        "                if (ix,iy,iz) in occupant:\n",
        "                    # 隣接原子の候補\n",
        "                    B = occupant[ix,iy,iz]\n",
        "                    # 自分を含めない、かつ重複を避ける\n",
        "                    if A < B:\n",
        "                        # きちんと距離を計算する\n",
        "                        d = atoms[A] - atoms[B]\n",
        "                        # 近ければ\n",
        "                        if (d**2).sum() < radius**2:\n",
        "                            # リストに追加する\n",
        "                            near.append(B)\n",
        "    return near\n",
        "\n"
      ]
    },
    {
      "attachments": {},
      "cell_type": "markdown",
      "metadata": {
        "id": "SnusAMvJCDx_"
      },
      "source": [
        "3 Å以内の原子対をリストします。"
      ]
    },
    {
      "cell_type": "code",
      "execution_count": null,
      "metadata": {
        "id": "BoIGK00g6k4S"
      },
      "outputs": [],
      "source": [
        "pairs = []\n",
        "for i in range(len(atoms)):\n",
        "    near = nearby(i, 3.0, atoms, occupant)\n",
        "    for j in near:\n",
        "        pairs.append([i,j])\n",
        "\n",
        "len(pairs)"
      ]
    },
    {
      "attachments": {},
      "cell_type": "markdown",
      "metadata": {
        "id": "9u5GmNJVDBHr"
      },
      "source": [
        "全部まとめて時間を測ってみましょう。速さは明らかです。また、この手法だと粒子数Nに比例した時間しかかからないので、粒子数が多いほどその差は歴然とします。"
      ]
    },
    {
      "cell_type": "code",
      "execution_count": null,
      "metadata": {
        "id": "NzOi90aj6o1H"
      },
      "outputs": [],
      "source": [
        "def all_pairs_faster(atoms, rc):\n",
        "    # occupant[x]はbin xにある原子の番号\n",
        "    occupant = dict()\n",
        "    i = 0\n",
        "    for pos in atoms:\n",
        "        # 座標を整数にする; pos=(1.4, 3.2, -6.3)ならipos=(1, 3, -7)\n",
        "        ipos = tuple(np.floor(pos).astype(int))\n",
        "        # binに、原子の番号を入れておく。(あとで、その場所にいる原子の番号を知りたいので)\n",
        "        occupant[ipos] = i\n",
        "        i += 1\n",
        "    \n",
        "    pairs = []\n",
        "    for i in range(len(atoms)):\n",
        "        near = nearby(i, 3.0, atoms, occupant)\n",
        "        for j in near:\n",
        "            pairs.append([i,j])\n",
        "    return pairs\n",
        "\n",
        "%time print(len(all_pairs_faster(atoms, 3.0)))\n"
      ]
    },
    {
      "attachments": {},
      "cell_type": "markdown",
      "metadata": {
        "id": "Aa_V9vCGD4cv"
      },
      "source": [
        "この例では、コードをシンプルにするためにビンの大きさを1 Åにしましたが、これを最適化すればまだ速くなる余地があります。(ただし、コードは複雑になります)\n",
        "\n",
        "周期境界条件の場合には、これらの処理をセル相対座標で行うことになりますが、長い話になりますのでここでは紹介しません。\n",
        "\n",
        "実用上は周期境界条件下での近接原子対を探すモジュールpairlistを使います。"
      ]
    },
    {
      "cell_type": "code",
      "execution_count": null,
      "metadata": {
        "id": "-e9AnT-VFgxP"
      },
      "outputs": [],
      "source": [
        "%pip install pairlist"
      ]
    },
    {
      "cell_type": "code",
      "execution_count": null,
      "metadata": {
        "id": "Q2bm5MbxFi0E"
      },
      "outputs": [],
      "source": [
        "N = 12\n",
        "d = 2.5\n",
        "atoms = BCC(N) * d\n",
        "dimen = np.array([N,N,N])*d\n",
        "# セル行列\n",
        "cell = np.diag(dimen)\n",
        "cell\n"
      ]
    },
    {
      "cell_type": "code",
      "execution_count": null,
      "metadata": {
        "id": "vcvUGFgsF3zv"
      },
      "outputs": [],
      "source": [
        "import pairlist as pl\n",
        "\n",
        "def all_pairs_fastest(atoms, radius, cell):\n",
        "    celli = np.linalg.inv(cell)\n",
        "    # セル相対座標に変換\n",
        "    rpos = atoms @ celli\n",
        "\n",
        "    pairs = []\n",
        "    # pairs_iterは、距離radius以内の粒子対のインデックスと距離を返すgenerator。rposはセル内相対座標、cellはセル行列。\n",
        "    for i, j, d in pl.pairs_iter(rpos, radius, cell):\n",
        "        pairs.append([i,j])\n",
        "    return pairs\n",
        "\n",
        "%time print(len(all_pairs_fastest(atoms, 3.0, cell)))"
      ]
    },
    {
      "attachments": {},
      "cell_type": "markdown",
      "metadata": {
        "id": "-vRAF6R0IxER"
      },
      "source": [
        "### 3.99 発展課題\n",
        "\n",
        "binの大きさを大きくすると、1つのbinの中に複数の原子が含まれる可能性があります。その場合にも破綻しないように、all_pairs_fasterを拡張して下さい。"
      ]
    }
  ],
  "metadata": {
    "colab": {
      "authorship_tag": "ABX9TyMm12oK+5gnug/Yi4N95ET5",
      "include_colab_link": true,
      "provenance": [],
      "toc_visible": true
    },
    "kernelspec": {
      "display_name": "Python 3",
      "name": "python3"
    },
    "language_info": {
      "name": "python"
    }
  },
  "nbformat": 4,
  "nbformat_minor": 0
}

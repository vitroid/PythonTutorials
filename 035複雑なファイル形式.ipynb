{
  "nbformat": 4,
  "nbformat_minor": 0,
  "metadata": {
    "colab": {
      "name": "035複雑なファイル形式.ipynb",
      "provenance": [],
      "mount_file_id": "17WCHM-w9OpJZeW_7fIPVPYG-vd7-17tC",
      "authorship_tag": "ABX9TyOs04xauMi+uu65ZJ8SFiwJ",
      "include_colab_link": true
    },
    "kernelspec": {
      "name": "python3",
      "display_name": "Python 3"
    },
    "language_info": {
      "name": "python"
    }
  },
  "cells": [
    {
      "cell_type": "markdown",
      "metadata": {
        "id": "view-in-github",
        "colab_type": "text"
      },
      "source": [
        "<a href=\"https://colab.research.google.com/github/vitroid/PythonTutorials/blob/2021m1/035%E8%A4%87%E9%9B%91%E3%81%AA%E3%83%95%E3%82%A1%E3%82%A4%E3%83%AB%E5%BD%A2%E5%BC%8F.ipynb\" target=\"_parent\"><img src=\"https://colab.research.google.com/assets/colab-badge.svg\" alt=\"Open In Colab\"/></a>"
      ]
    },
    {
      "cell_type": "markdown",
      "metadata": {
        "id": "IfP-6XJ4Ry0k"
      },
      "source": [
        "Microsoft Wordのdocxファイルを操作してみます。\n",
        "\n",
        "まず、外部ライブラリをインストールします。インストールは、Colabを開いたあと一度だけ実施します。"
      ]
    },
    {
      "cell_type": "code",
      "metadata": {
        "id": "CEwzXJj4kqUh"
      },
      "source": [
        "# https://gammasoft.jp/support/how-to-use-python-docx-for-word-file/\n",
        "!pip install python-docx"
      ],
      "execution_count": null,
      "outputs": []
    },
    {
      "cell_type": "markdown",
      "metadata": {
        "id": "evQbnqOOSFkw"
      },
      "source": [
        "ウェブページの解説に従って、サンプルファイルを読んでみます。(Sample.docxは別途配布しますので、あらかじめみなさんのGoogle Driveに入れておいて下さい。)"
      ]
    },
    {
      "cell_type": "code",
      "metadata": {
        "id": "EXDzVfn7k9qu"
      },
      "source": [
        "import docx\n",
        "doc = docx.Document(\"/content/drive/MyDrive/Sample.docx\")"
      ],
      "execution_count": null,
      "outputs": []
    },
    {
      "cell_type": "markdown",
      "metadata": {
        "id": "f8pwkbxbSXcv"
      },
      "source": [
        "そのままセーブすると、コピーが作れます。"
      ]
    },
    {
      "cell_type": "code",
      "metadata": {
        "id": "L8Nem454SaQR"
      },
      "source": [
        "doc.save(\"/content/drive/MyDrive/Sample2.docx\")"
      ],
      "execution_count": null,
      "outputs": []
    },
    {
      "cell_type": "markdown",
      "metadata": {
        "id": "t2IVkEZNSfHe"
      },
      "source": [
        "文書は段落に分割されているようです。リストdoc.pragraphsには、それぞれの段落の内容が含まれていて、段落の.text属性に、素の文章が入っています。"
      ]
    },
    {
      "cell_type": "code",
      "metadata": {
        "id": "Lzc3uo2ooCDb"
      },
      "source": [
        "for para in doc.paragraphs:\n",
        "    print(para.text)"
      ],
      "execution_count": null,
      "outputs": []
    },
    {
      "cell_type": "markdown",
      "metadata": {
        "id": "ZXdwjya9SwG7"
      },
      "source": [
        "段落の切れ目がどうなっているのかよくわからないので、行番号を付けてみます。enumerateを使います。"
      ]
    },
    {
      "cell_type": "code",
      "metadata": {
        "id": "p4LBgmp8oQvw"
      },
      "source": [
        "for i, para in enumerate(doc.paragraphs):\n",
        "    print(i, para.text)"
      ],
      "execution_count": null,
      "outputs": []
    },
    {
      "cell_type": "markdown",
      "metadata": {
        "id": "4gtm4o4VTA58"
      },
      "source": [
        "Google Translateで翻訳してみましょう。\n",
        "\n",
        "これも外部ライブラリを見付けてきました。"
      ]
    },
    {
      "cell_type": "code",
      "metadata": {
        "id": "sFgKnRKfoXQK"
      },
      "source": [
        "# https://pypi.org/project/googletrans/\n",
        "!pip install googletrans==3.1.0a0"
      ],
      "execution_count": null,
      "outputs": []
    },
    {
      "cell_type": "markdown",
      "metadata": {
        "id": "kAjtyNvVTIV5"
      },
      "source": [
        "基本的な使い方はこんな感じです。Translatorクラスをインポートし、translatorオブジェクトを生成し、それを使って文章を翻訳します。"
      ]
    },
    {
      "cell_type": "code",
      "metadata": {
        "id": "P8OouTlyo4T1"
      },
      "source": [
        "from googletrans import Translator\n",
        "translator = Translator()\n",
        "translator.translate(\"Happy New Year!\", dest='ja').text"
      ],
      "execution_count": null,
      "outputs": []
    },
    {
      "cell_type": "markdown",
      "metadata": {
        "id": "KGazNuhgTakl"
      },
      "source": [
        "ドイツ語でも大丈夫。"
      ]
    },
    {
      "cell_type": "code",
      "metadata": {
        "id": "TULMjAavTaLN"
      },
      "source": [
        "from googletrans import Translator\n",
        "translator = Translator()\n",
        "translator.translate(\"Guten morgen!\", dest='en').text"
      ],
      "execution_count": null,
      "outputs": []
    },
    {
      "cell_type": "markdown",
      "metadata": {
        "id": "tqHpnm1aTtKx"
      },
      "source": [
        "docxを読みこみ、段落ごとに翻訳します。"
      ]
    },
    {
      "cell_type": "code",
      "metadata": {
        "id": "ybFxYnoFpXPZ"
      },
      "source": [
        "from googletrans import Translator\n",
        "translator = Translator()\n",
        "\n",
        "import docx\n",
        "doc = docx.Document(\"/content/drive/MyDrive/Sample.docx\")\n",
        "\n",
        "for para in doc.paragraphs:\n",
        "    translated = translator.translate(para.text, dest='ja')\n",
        "    print(translated.origin)\n",
        "    print(translated.text)"
      ],
      "execution_count": null,
      "outputs": []
    },
    {
      "cell_type": "markdown",
      "metadata": {
        "id": "mhnXS7i0T3yQ"
      },
      "source": [
        "翻訳結果を、別のdocxファイルに保存します。"
      ]
    },
    {
      "cell_type": "code",
      "metadata": {
        "id": "lKSnKgVIqd_Z"
      },
      "source": [
        "from googletrans import Translator\n",
        "translator = Translator()\n",
        "for para in doc.paragraphs:\n",
        "    translated = translator.translate(para.text, dest='ja')\n",
        "    para.text = translated.text\n",
        "doc.save(\"/content/drive/MyDrive/Translated.docx\")"
      ],
      "execution_count": null,
      "outputs": []
    },
    {
      "cell_type": "markdown",
      "metadata": {
        "id": "2fspsbBKT_c1"
      },
      "source": [
        "こんどはPDFから文章を抽出してみます。\n",
        "\n",
        "これも検索で見付けてきました。"
      ]
    },
    {
      "cell_type": "code",
      "metadata": {
        "id": "0sOLGiYRsC-y"
      },
      "source": [
        "# https://stackoverflow.com/questions/34837707/how-to-extract-text-from-a-pdf-file\n",
        "!pip install textract"
      ],
      "execution_count": null,
      "outputs": []
    },
    {
      "cell_type": "markdown",
      "metadata": {
        "id": "TRFaSuGdUHlr"
      },
      "source": [
        "Sample.pdfのなかの文章を抽出します。"
      ]
    },
    {
      "cell_type": "code",
      "metadata": {
        "id": "K1Ghhg3as3zk"
      },
      "source": [
        "import textract\n",
        "text = textract.process(\"/content/drive/MyDrive/Sample.pdf\")\n",
        "text"
      ],
      "execution_count": null,
      "outputs": []
    },
    {
      "cell_type": "markdown",
      "metadata": {
        "id": "Dl5kn3VdUNow"
      },
      "source": [
        "先頭に\"b\"がついているのは、抽出した文字列が、Pythonによって文字と認識されておらず、ただのデータ列だと思われているという意味です。\n",
        "\n",
        "文字列として認識してもらうには、文字エンコーディングを指定する必要があります。最近の文書なら、ほとんどの場合unicode (utf-8)でしょうから、それを指示します。"
      ]
    },
    {
      "cell_type": "code",
      "metadata": {
        "id": "Tx7I-r8nuAct"
      },
      "source": [
        "import textract\n",
        "text = textract.process(\"/content/drive/MyDrive/Sample.pdf\").decode('utf-8')\n",
        "text"
      ],
      "execution_count": null,
      "outputs": []
    },
    {
      "cell_type": "markdown",
      "metadata": {
        "id": "cj8fC0l6Umhq"
      },
      "source": [
        "全部つながってしまったので、改行文字で分割して文字列のリストを作ります。"
      ]
    },
    {
      "cell_type": "code",
      "metadata": {
        "id": "yq4TojXKuYUG"
      },
      "source": [
        "lines = text.split('\\n')\n",
        "lines"
      ],
      "execution_count": null,
      "outputs": []
    },
    {
      "cell_type": "markdown",
      "metadata": {
        "id": "Wtn5RTQIUu2z"
      },
      "source": [
        "行ごとに翻訳してみます。"
      ]
    },
    {
      "cell_type": "code",
      "metadata": {
        "id": "rxdu9deMue_5"
      },
      "source": [
        "from googletrans import Translator\n",
        "translator = Translator()\n",
        "\n",
        "translated = translator.translate(lines, dest='fr')\n",
        "translated"
      ],
      "execution_count": null,
      "outputs": []
    },
    {
      "cell_type": "markdown",
      "metadata": {
        "id": "6Fd1-msqU0D3"
      },
      "source": [
        "表示のしかたがまずかったようです。.text属性を表示します。"
      ]
    },
    {
      "cell_type": "code",
      "metadata": {
        "id": "RZ0xw-FIuscR"
      },
      "source": [
        "for t in translated:\n",
        "    print(t.text)"
      ],
      "execution_count": null,
      "outputs": []
    },
    {
      "cell_type": "markdown",
      "metadata": {
        "id": "T-ZCnOH1ykS3"
      },
      "source": [
        "残念ながら、google translateをPython経由で頻繁に呼びだすと、翻訳してくれなくなるようです。大量に翻訳したい場合は、やはりお金を払うサービスでないとむりかもしれません。\n",
        "\n",
        "次の例では、google translateの代わりに、DeepL APIを利用しています。\n",
        "\n",
        "DeepL APIは有料です。ここでは、松本のアカウントを使って翻訳してみます。"
      ]
    },
    {
      "cell_type": "code",
      "metadata": {
        "id": "BrNDY_Oqu5xS"
      },
      "source": [
        "# https://michimani.net/post/programming-using-deepl-api-by-python/\n",
        "import urllib.parse\n",
        "import urllib.request\n",
        "import json\n",
        "\n",
        "DEEPL_TRANSLATE_EP = 'https://api.deepl.com/v2/translate'\n",
        "\n",
        "def translate(text, s_lang='', t_lang='JA'):\n",
        "    headers = {\n",
        "        'Content-Type': 'application/x-www-form-urlencoded; utf-8'\n",
        "    }\n",
        "\n",
        "    params = {\n",
        "        'auth_key': \"\",\n",
        "        'text': text,\n",
        "        'target_lang': t_lang\n",
        "    }\n",
        "\n",
        "    if s_lang != '':\n",
        "        params['source_lang'] = s_lang\n",
        "\n",
        "    req = urllib.request.Request(\n",
        "        DEEPL_TRANSLATE_EP,\n",
        "        method='POST',\n",
        "        data=urllib.parse.urlencode(params).encode('utf-8'),\n",
        "        headers=headers\n",
        "    )\n",
        "\n",
        "    try:\n",
        "        with urllib.request.urlopen(req) as res:\n",
        "            res = json.loads(res.read().decode('utf-8'))\n",
        "            return res[\"translations\"][0][\"text\"]\n",
        "    except urllib.error.HTTPError as e:\n",
        "        print(e)\n",
        "\n",
        "translate(\"Happy New Year!\")"
      ],
      "execution_count": null,
      "outputs": []
    },
    {
      "cell_type": "code",
      "metadata": {
        "id": "-6eViQuRwWMF"
      },
      "source": [
        "import docx\n",
        "doc = docx.Document(\"/content/drive/MyDrive/Sample.docx\")\n",
        "\n",
        "for para in doc.paragraphs:\n",
        "    translated = translate(para.text)\n",
        "    print(translated)"
      ],
      "execution_count": null,
      "outputs": []
    },
    {
      "cell_type": "markdown",
      "metadata": {
        "id": "STcRLpU-V7Dh"
      },
      "source": [
        "ExcelのファイルxlsxもPythonから操作できますが、その話はまた後ほど機会があれば説明します。"
      ]
    },
    {
      "cell_type": "code",
      "metadata": {
        "id": "JnXKc7Ra0uIl"
      },
      "source": [
        ""
      ],
      "execution_count": null,
      "outputs": []
    }
  ]
}
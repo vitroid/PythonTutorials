{
 "cells": [
  {
   "cell_type": "markdown",
   "metadata": {},
   "source": [
    "# 最大情報係数\n",
    "相互情報量(あるいは情報量)の弱点を考えてみよう。ある連続な確率変数$x$に対して、確率分布が与えられているものとする。確率分布から情報量を求める場合、$x$をいくつの区間に切り分け、離散化した上で、各区間の確率から情報量を求める。この時、区間をどのように区切るかで、情報量は変化してしまう。上で示した情報量の最大値で規格化すればいいじゃないか、と思うかもしれないが、その場合でも、binの幅の選び方によって、情報量の値は変化してしまう。例えばbin幅を、線形目盛で等間隔にとるか、対数目盛で等間隔にとるかで、同じ量でも分布の形はまるっきり違ってしまう。\n",
    "\n",
    "Reshefら\\footnote{David N. Reshef, et al., Detecting Novel Associations in Large Data Sets, {\\it Science} {\\bf 334}, 1518 (2011); DOI: 10.1126/science.1205438}は、この弱点に対し、相互情報量を最大化するようにbin幅を調節するという手法を考案した。bin幅を最適化し、さらに相互情報量の最大値で規格化することで、一意的に、関連性を計量することができる。こうして規格化された相互情報量を、最大情報係数MIC\\footnote{\\it Maximal Information Coefficient}と呼ぶ。\n",
    "\\begin{figure}\n",
    " \\centering \n",
    " \\includegraphics[width=7cm]{droppedImage-15.pdf}\n",
    "\\caption{図9.1 MICの使用例。ノイズ(不確かさ)に比例して小さくなるが、関数の形には依存しない。}\n",
    "\\end{figure}\n",
    "![..](440/droppedimage-15.pdf)\n",
    "\n",
    "最大情報係数の計算手順をざっと説明する。まず、与えられたN対のサンプル$\\{(a_i,b_i)\\}$ \\footnote{例えば$i$番目の被験者の身長と体重をそれぞれ$x_i$と$y_i$とする。}を、$xy$平面に散布する。\n",
    "これを、 $x$ 軸方向に $m$ 個、 $y$ 軸方向に $n$ 個のbinに分けると、各binに含まれるサンプルの数が決まり、bin $(i, j)$ が選ばれる確率 $p(i, j)$ が計算でき、相互情報量 $I(A, B)$ も計算できる。\n",
    "ただし、$I(A, B)$はbinの刻み方に依存する。 刻みの個数$m,n$に依存しないように、まず $I(A, B)$を相互情報量の上限 $log_2 {\\rm min}(n, m)$で割った規格化相互情報量に変換する。そして、それが最大になるようなbinの分割方法を動的計画法により求める。さらにこの値を様々な$(m,n)$に対しても最大化したものを最大情報係数 ${\\rm MIC}(x, y)$ と定義する。binの分け方と分割数を最適化する部分に時間がかかりそうに思えるが、数千点のサンプルでも実用的な時間でMICを計算することができるようだ。実装例では、表形式のデータを与えると、各カラム間のMICが出力される。大量のデータの中から、関係性のある組合せをさがしだすのに有用である\\footnote{プログラムは {\\tt http://www.exploredata.net} で入手できる。}。\n",
    "\\begin{figure}\n",
    " \\centering \n",
    " \\includegraphics[width=17cm]{bmi-143.pdf}\n",
    "\\caption{MICの手順。サンプルデータ分布に対して、あらゆるbin分割をためし、規格化相互情報量を最大化する。}\n",
    "\\end{figure}\n",
    "![..](440/bmi-143.pdf)"
   ]
  },
  {
   "cell_type": "code",
   "execution_count": null,
   "metadata": {
    "collapsed": true
   },
   "outputs": [],
   "source": []
  }
 ],
 "metadata": {
  "kernelspec": {
   "display_name": "Python 3",
   "language": "python",
   "name": "python3"
  },
  "language_info": {
   "codemirror_mode": {
    "name": "ipython",
    "version": 3
   },
   "file_extension": ".py",
   "mimetype": "text/x-python",
   "name": "python",
   "nbconvert_exporter": "python",
   "pygments_lexer": "ipython3",
   "version": "3.6.0"
  }
 },
 "nbformat": 4,
 "nbformat_minor": 2
}

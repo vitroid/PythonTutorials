{
 "cells": [
  {
   "cell_type": "code",
   "execution_count": 11,
   "metadata": {
    "collapsed": false
   },
   "outputs": [],
   "source": [
    "import random\n",
    "import numpy as np\n",
    "from math import *\n",
    "\n",
    "#時間変化するデータの例\n",
    "\n",
    "x = np.array([i for i in range(1000)])\n",
    "y1 = np.array([random.random()*1-0.5 + sin(i/161) + sin(i/100) for i in range(1000)])\n",
    "y2 = np.array([sin(i/161) for i in range(1000)])\n",
    "y3 = np.array([sin(i/100) for i in range(1000)])\n",
    "\n",
    "\n",
    "file = open(\"data6.txt\",\"w\")\n",
    "for p,q,r,s in zip(x,y1,y2,y3):\n",
    "    file.write(\"{0} {1} {2} {3}\\n\".format(p,q,r,s))"
   ]
  },
  {
   "cell_type": "code",
   "execution_count": null,
   "metadata": {
    "collapsed": true
   },
   "outputs": [],
   "source": []
  }
 ],
 "metadata": {
  "kernelspec": {
   "display_name": "Python 3",
   "language": "python",
   "name": "python3"
  },
  "language_info": {
   "codemirror_mode": {
    "name": "ipython",
    "version": 3
   },
   "file_extension": ".py",
   "mimetype": "text/x-python",
   "name": "python",
   "nbconvert_exporter": "python",
   "pygments_lexer": "ipython3",
   "version": "3.4.2"
  }
 },
 "nbformat": 4,
 "nbformat_minor": 0
}

{
 "cells": [
  {
   "cell_type": "code",
   "execution_count": 2,
   "metadata": {
    "collapsed": false
   },
   "outputs": [],
   "source": [
    "import random\n",
    "import numpy as np\n",
    "from math import *\n",
    "\n",
    "#時間変化するデータの例\n",
    "\n",
    "x = np.array(range(-5,6))\n",
    "y = np.array([(random.random()*1-0.5) + sin(i*pi/5) for i in range(-5,6)])\n",
    "\n",
    "\n",
    "file = open(\"data8.txt\",\"w\")\n",
    "for p,q in zip(x,y):\n",
    "    file.write(\"{0} {1}\\n\".format(p,q))"
   ]
  },
  {
   "cell_type": "code",
   "execution_count": null,
   "metadata": {
    "collapsed": true
   },
   "outputs": [],
   "source": []
  }
 ],
 "metadata": {
  "kernelspec": {
   "display_name": "Python 3",
   "language": "python",
   "name": "python3"
  },
  "language_info": {
   "codemirror_mode": {
    "name": "ipython",
    "version": 3
   },
   "file_extension": ".py",
   "mimetype": "text/x-python",
   "name": "python",
   "nbconvert_exporter": "python",
   "pygments_lexer": "ipython3",
   "version": "3.4.2"
  }
 },
 "nbformat": 4,
 "nbformat_minor": 0
}

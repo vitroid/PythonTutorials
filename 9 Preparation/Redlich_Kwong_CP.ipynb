{
  "nbformat": 4,
  "nbformat_minor": 0,
  "metadata": {
    "kernelspec": {
      "display_name": "Python 3",
      "language": "python",
      "name": "python3"
    },
    "language_info": {
      "codemirror_mode": {
        "name": "ipython",
        "version": 3
      },
      "file_extension": ".py",
      "mimetype": "text/x-python",
      "name": "python",
      "nbconvert_exporter": "python",
      "pygments_lexer": "ipython3",
      "version": "3.6.5"
    },
    "colab": {
      "name": "080sympy.ipynb のコピー",
      "provenance": [],
      "toc_visible": true,
      "include_colab_link": true
    }
  },
  "cells": [
    {
      "cell_type": "markdown",
      "metadata": {
        "id": "view-in-github",
        "colab_type": "text"
      },
      "source": [
        "<a href=\"https://colab.research.google.com/github/vitroid/PythonTutorials/blob/master/9%20Preparation/Redlich_Kwong_CP.ipynb\" target=\"_parent\"><img src=\"https://colab.research.google.com/assets/colab-badge.svg\" alt=\"Open In Colab\"/></a>"
      ]
    },
    {
      "cell_type": "code",
      "metadata": {
        "id": "DLzkaekCD78K"
      },
      "source": [
        "## setting up colab to pretty-print sympy formulae\n",
        "from sympy          import init_printing\n",
        "from sympy.printing import latex\n",
        "\n",
        "def colab_LaTeX_printer(exp, **options):  \n",
        "    from google.colab.output._publish import javascript \n",
        "\n",
        "    url_ = \"https://colab.research.google.com/static/mathjax/MathJax.js?\"\n",
        "    cfg_ = \"config=TeX-MML-AM_HTMLorMML\" # \"config=default\"\n",
        "\n",
        "    javascript(url=url_+cfg_)\n",
        "\n",
        "    return latex(exp, **options)\n",
        "# end of def\n",
        "init_printing(use_latex=\"mathjax\", latex_printer=colab_LaTeX_printer) \n"
      ],
      "execution_count": null,
      "outputs": []
    },
    {
      "cell_type": "code",
      "source": [
        "# van der Waals状態方程式の臨界点"
      ],
      "metadata": {
        "id": "U8xWNr2xn9zg"
      },
      "execution_count": null,
      "outputs": []
    },
    {
      "cell_type": "code",
      "source": [
        "from sympy import *\n",
        "from sympy.abc import *\n",
        "vdW = (p+a/V**2)*(V-b)-k*T\n",
        "solve([vdW, vdW.diff(V), vdW.diff(V,2)], [p, V, T])"
      ],
      "metadata": {
        "id": "mMJAXkygoCeZ",
        "outputId": "929c0201-ac16-42e6-8fca-46d16af953f6",
        "colab": {
          "base_uri": "https://localhost:8080/"
        }
      },
      "execution_count": 1,
      "outputs": [
        {
          "output_type": "execute_result",
          "data": {
            "text/plain": [
              "[(a/(27*b**2), 3*b, 8*a/(27*b*k))]"
            ]
          },
          "metadata": {},
          "execution_count": 1
        }
      ]
    },
    {
      "cell_type": "markdown",
      "metadata": {
        "id": "N24hMRHGC5bx"
      },
      "source": [
        "## Redlich-Kwong状態方程式の臨界点\n"
      ]
    },
    {
      "cell_type": "markdown",
      "metadata": {
        "id": "jT2nZU-EC5cB"
      },
      "source": [
        "状態方程式の変曲点は、熱力学では臨界点と呼びます。体積変化に対して圧力が変動しないということは、圧縮率が無限大になり、体積が大きくゆらぐことを示唆しています。圧縮率が無限大ということはまた、音速が0になることを意味します。\n",
        "\n",
        "The inflection point of the state equation is called the critical point in thermodynamics.\n",
        "As we see above, $\\partial p/\\partial V$ becomes zero, i.e.,  the compressibility $\\partial V/\\partial p$ becomes infinite.\n",
        "At the critical point, the volume fluctuates greatly, and the sound velocity becomes zero.\n"
      ]
    },
    {
      "cell_type": "code",
      "metadata": {
        "id": "k9BzmdyZAP10"
      },
      "source": [
        "import sympy\n",
        "from sympy import *\n",
        "from sympy.abc import *\n",
        "\n",
        "# RK状態方程式\n",
        "p=k*T/(V-b)-a/(sqrt(T)*V*(V+b))\n",
        "# 微分と二階微分が同時に0になるのが臨界点。\n",
        "p1=p.diff(V)\n",
        "p2=p.diff(V,2)\n"
      ],
      "execution_count": 1,
      "outputs": []
    },
    {
      "cell_type": "code",
      "metadata": {
        "id": "mnzFwOQ6A01a",
        "outputId": "85440922-ed7a-42e1-da90-50ef780d35f7",
        "colab": {
          "base_uri": "https://localhost:8080/",
          "height": 60
        }
      },
      "source": [
        "# 分数を避ける。\n",
        "pp1 = (p1*(V*(V-b)*(V+b))**2*sqrt(T)).simplify()\n",
        "pp1"
      ],
      "execution_count": 2,
      "outputs": [
        {
          "output_type": "execute_result",
          "data": {
            "text/plain": [
              "-T**(3/2)*V**2*k*(V + b)**2 + 2*V*a*(V - b)**2 + a*b*(V - b)**2"
            ],
            "text/latex": "$\\displaystyle - T^{\\frac{3}{2}} V^{2} k \\left(V + b\\right)^{2} + 2 V a \\left(V - b\\right)^{2} + a b \\left(V - b\\right)^{2}$"
          },
          "metadata": {},
          "execution_count": 2
        }
      ]
    },
    {
      "cell_type": "code",
      "metadata": {
        "id": "nZBijf-xB5Zf",
        "outputId": "6585c8f1-7148-4054-c7d6-1fdf70f03d9f",
        "colab": {
          "base_uri": "https://localhost:8080/",
          "height": 60
        }
      },
      "source": [
        "pp2 = (p2*(V*(V-b)*(V+b))**3*sqrt(T)).simplify()\n",
        "pp2"
      ],
      "execution_count": 3,
      "outputs": [
        {
          "output_type": "execute_result",
          "data": {
            "text/plain": [
              "2*T**(3/2)*V**3*k*(V + b)**3 - 4*V**2*a*(V - b)**3 - 2*V*a*b*(V - b)**3 - 2*a*(V - b)**3*(V + b)**2"
            ],
            "text/latex": "$\\displaystyle 2 T^{\\frac{3}{2}} V^{3} k \\left(V + b\\right)^{3} - 4 V^{2} a \\left(V - b\\right)^{3} - 2 V a b \\left(V - b\\right)^{3} - 2 a \\left(V - b\\right)^{3} \\left(V + b\\right)^{2}$"
          },
          "metadata": {},
          "execution_count": 3
        }
      ]
    },
    {
      "cell_type": "markdown",
      "metadata": {
        "id": "Wlut4cuMIuP0"
      },
      "source": [
        "V,Tの解は計算できない(無限ループ?)ので、(a,b)を求めて、あとで式変形することにしよう。"
      ]
    },
    {
      "cell_type": "code",
      "metadata": {
        "id": "J72Da3EPCPx7",
        "outputId": "e5502d20-7d96-4c24-ebed-e1e37719bc8f",
        "colab": {
          "base_uri": "https://localhost:8080/"
        }
      },
      "source": [
        "sol = solve([pp1,pp2],(a,b))\n",
        "sol"
      ],
      "execution_count": 4,
      "outputs": [
        {
          "output_type": "execute_result",
          "data": {
            "text/plain": [
              "[(0, -V),\n",
              " (T**(3/2)*V*k*(1 + 2**(1/3) + 2**(2/3))/3, V*(-1 + 2**(1/3))),\n",
              " (T**(3/2)*V*k*(-2**(2/3) - 2**(1/3) + 2 - 2**(1/3)*sqrt(3)*I + 2**(2/3)*sqrt(3)*I)/6,\n",
              "  V*(-1 + 2**(1/3)*(-1/2 - sqrt(3)*I/2))),\n",
              " (T**(3/2)*V*k*(-2**(2/3) - 2**(1/3) + 2 - 2**(2/3)*sqrt(3)*I + 2**(1/3)*sqrt(3)*I)/6,\n",
              "  V*(-1 + 2**(1/3)*(-1/2 + sqrt(3)*I/2)))]"
            ]
          },
          "metadata": {},
          "execution_count": 4
        }
      ]
    },
    {
      "cell_type": "markdown",
      "metadata": {
        "id": "oTDOcH7fJbZx"
      },
      "source": [
        "4つの根のうち、実数でかつ意味があるのは1つだけ。sol[1]の1つめがa, 2つめがbである。"
      ]
    },
    {
      "cell_type": "code",
      "metadata": {
        "id": "cQUJQzJeC3zd",
        "outputId": "b22895e0-56b8-48c6-fe7a-0f50d2007784",
        "colab": {
          "base_uri": "https://localhost:8080/"
        }
      },
      "source": [
        "sol[1]\n"
      ],
      "execution_count": 5,
      "outputs": [
        {
          "output_type": "execute_result",
          "data": {
            "text/plain": [
              "(T**(3/2)*V*k*(1 + 2**(1/3) + 2**(2/3))/3, V*(-1 + 2**(1/3)))"
            ]
          },
          "metadata": {},
          "execution_count": 5
        }
      ]
    },
    {
      "cell_type": "markdown",
      "metadata": {
        "id": "qc4l_t5WJCrZ"
      },
      "source": [
        "bの式を変形すれば、臨界体積Vcが得られる。\n",
        "\n",
        "以下では、`sol[1][1]==b`を満足するVを求め、その1つめの解を採用する。"
      ]
    },
    {
      "cell_type": "code",
      "metadata": {
        "id": "OMFsEsvyDlxi",
        "outputId": "3000187a-9782-4e21-bd0d-b5f47685c9d8",
        "colab": {
          "base_uri": "https://localhost:8080/",
          "height": 77
        }
      },
      "source": [
        "Vc = solve(sol[1][1]-b, V)[0]\n",
        "Vc"
      ],
      "execution_count": 6,
      "outputs": [
        {
          "output_type": "execute_result",
          "data": {
            "text/plain": [
              "b/(-1 + 2**(1/3))"
            ],
            "text/latex": "$\\displaystyle \\frac{b}{-1 + \\sqrt[3]{2}}$"
          },
          "metadata": {},
          "execution_count": 6
        }
      ]
    },
    {
      "cell_type": "code",
      "metadata": {
        "id": "fTUaz0B-LJyz",
        "outputId": "c7b4213f-3398-4769-8eaf-3396a17a89ae",
        "colab": {
          "base_uri": "https://localhost:8080/",
          "height": 58
        }
      },
      "source": [
        "# 実数にする。\n",
        "Vc.evalf()"
      ],
      "execution_count": 7,
      "outputs": [
        {
          "output_type": "execute_result",
          "data": {
            "text/plain": [
              "3.84732210186307*b"
            ],
            "text/latex": "$\\displaystyle 3.84732210186307 b$"
          },
          "metadata": {},
          "execution_count": 7
        }
      ]
    },
    {
      "cell_type": "markdown",
      "metadata": {
        "id": "mQroelC_JIbE"
      },
      "source": [
        "aの式をTの式とし、体積を臨界体積におきかえると、臨界温度Tcがaとbで表せる。"
      ]
    },
    {
      "cell_type": "code",
      "metadata": {
        "id": "dvlh4aJcFOOh",
        "outputId": "7d63a636-1e0d-46a6-b85b-bf0a25754401",
        "colab": {
          "base_uri": "https://localhost:8080/",
          "height": 106
        }
      },
      "source": [
        "Tc=solve(sol[1][0]-a,T)[0].subs(V,Vc).simplify()\n",
        "Tc"
      ],
      "execution_count": 8,
      "outputs": [
        {
          "output_type": "execute_result",
          "data": {
            "text/plain": [
              "3**(2/3)*(a/(b*k))**(2/3)*(-1 + 2**(1/3))**(2/3)/(1 + 2**(1/3) + 2**(2/3))**(2/3)"
            ],
            "text/latex": "$\\displaystyle \\frac{3^{\\frac{2}{3}} \\left(\\frac{a}{b k}\\right)^{\\frac{2}{3}} \\left(-1 + \\sqrt[3]{2}\\right)^{\\frac{2}{3}}}{\\left(1 + \\sqrt[3]{2} + 2^{\\frac{2}{3}}\\right)^{\\frac{2}{3}}}$"
          },
          "metadata": {},
          "execution_count": 8
        }
      ]
    },
    {
      "cell_type": "code",
      "metadata": {
        "id": "nU4ZI7-nKAMz",
        "outputId": "487fa6d3-9565-404e-ef2f-1967ffa68e0e",
        "colab": {
          "base_uri": "https://localhost:8080/",
          "height": 73
        }
      },
      "source": [
        "# 3.0**(2/3)*(-1+2**(1/3))**(2/3)/(1+2**(1/3)+2**(2/3))**(2/3)\n",
        "Tc.evalf()"
      ],
      "execution_count": 9,
      "outputs": [
        {
          "output_type": "execute_result",
          "data": {
            "text/plain": [
              "0.345039995853347*(a/(b*k))**0.666666666666667"
            ],
            "text/latex": "$\\displaystyle 0.345039995853347 \\left(\\frac{a}{b k}\\right)^{0.666666666666667}$"
          },
          "metadata": {},
          "execution_count": 9
        }
      ]
    },
    {
      "cell_type": "markdown",
      "metadata": {
        "id": "eYG8dbtYJjQB"
      },
      "source": [
        "さいごに、pの式(状態方程式)のT,VをそれぞれTc,Vcにするとpcが得られる。"
      ]
    },
    {
      "cell_type": "code",
      "metadata": {
        "id": "0AvzP0LGFlqg",
        "outputId": "645b8d4b-42e8-4b3f-ad00-fff5b986fd44",
        "colab": {
          "base_uri": "https://localhost:8080/",
          "height": 82
        }
      },
      "source": [
        "pc=p.subs(V,Vc).subs(T,Tc).simplify()\n",
        "pc.evalf()"
      ],
      "execution_count": 10,
      "outputs": [
        {
          "output_type": "execute_result",
          "data": {
            "text/plain": [
              "0.0298943859926416*a*(a/(b*k))**(-0.333333333333333)/b**2"
            ],
            "text/latex": "$\\displaystyle \\frac{0.0298943859926416 a}{b^{2} \\left(\\frac{a}{b k}\\right)^{0.333333333333333}}$"
          },
          "metadata": {},
          "execution_count": 10
        }
      ]
    },
    {
      "cell_type": "markdown",
      "metadata": {
        "id": "DW4P0eFPMC9-"
      },
      "source": [
        "[Wikipedia:Redlich-Kwong](https://en.wikipedia.org/wiki/Redlich%E2%80%93Kwong_equation_of_state)に一致したように思える。"
      ]
    },
    {
      "cell_type": "code",
      "metadata": {
        "id": "rL3-Dg73Jory"
      },
      "source": [
        "# Wikipediaの式の係数を数値計算して検算\n",
        "#pcの係数\n",
        "(2**(1/3)-1)**(7/3)/3**(1/3)"
      ],
      "execution_count": null,
      "outputs": []
    },
    {
      "cell_type": "code",
      "metadata": {
        "id": "9azBOV0-MXDY"
      },
      "source": [
        "#Tcの係数\n",
        "3**(2/3)*(2**(1/3)-1)**(4/3)"
      ],
      "execution_count": null,
      "outputs": []
    },
    {
      "cell_type": "markdown",
      "metadata": {
        "id": "MKx_vcV2Mnv2"
      },
      "source": [
        "あってました。"
      ]
    }
  ]
}
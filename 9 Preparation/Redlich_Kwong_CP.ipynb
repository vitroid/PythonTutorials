{
  "nbformat": 4,
  "nbformat_minor": 0,
  "metadata": {
    "kernelspec": {
      "display_name": "Python 3",
      "language": "python",
      "name": "python3"
    },
    "language_info": {
      "codemirror_mode": {
        "name": "ipython",
        "version": 3
      },
      "file_extension": ".py",
      "mimetype": "text/x-python",
      "name": "python",
      "nbconvert_exporter": "python",
      "pygments_lexer": "ipython3",
      "version": "3.6.5"
    },
    "colab": {
      "name": "080sympy.ipynb のコピー",
      "provenance": [],
      "toc_visible": true,
      "include_colab_link": true
    }
  },
  "cells": [
    {
      "cell_type": "markdown",
      "metadata": {
        "id": "view-in-github",
        "colab_type": "text"
      },
      "source": [
        "<a href=\"https://colab.research.google.com/github/vitroid/PythonTutorials/blob/2020m0/9%20Preparation/Redlich_Kwong_CP.ipynb\" target=\"_parent\"><img src=\"https://colab.research.google.com/assets/colab-badge.svg\" alt=\"Open In Colab\"/></a>"
      ]
    },
    {
      "cell_type": "code",
      "metadata": {
        "id": "DLzkaekCD78K",
        "colab_type": "code",
        "colab": {}
      },
      "source": [
        "## setting up colab to pretty-print sympy formulae\n",
        "from sympy          import init_printing\n",
        "from sympy.printing import latex\n",
        "\n",
        "def colab_LaTeX_printer(exp, **options):  \n",
        "    from google.colab.output._publish import javascript \n",
        "\n",
        "    url_ = \"https://colab.research.google.com/static/mathjax/MathJax.js?\"\n",
        "    cfg_ = \"config=TeX-MML-AM_HTMLorMML\" # \"config=default\"\n",
        "\n",
        "    javascript(url=url_+cfg_)\n",
        "\n",
        "    return latex(exp, **options)\n",
        "# end of def\n",
        "init_printing(use_latex=\"mathjax\", latex_printer=colab_LaTeX_printer) \n"
      ],
      "execution_count": 1,
      "outputs": []
    },
    {
      "cell_type": "markdown",
      "metadata": {
        "id": "N24hMRHGC5bx",
        "colab_type": "text"
      },
      "source": [
        "## Redlich-Kwong状態方程式の臨界点\n"
      ]
    },
    {
      "cell_type": "markdown",
      "metadata": {
        "id": "jT2nZU-EC5cB",
        "colab_type": "text"
      },
      "source": [
        "状態方程式の変曲点は、熱力学では臨界点と呼びます。体積変化に対して圧力が変動しないということは、圧縮率が無限大になり、体積が大きくゆらぐことを示唆しています。圧縮率が無限大ということはまた、音速が0になることを意味します。\n",
        "\n",
        "The inflection point of the state equation is called the critical point in thermodynamics.\n",
        "As we see above, $\\partial p/\\partial V$ becomes zero, i.e.,  the compressibility $\\partial V/\\partial p$ becomes infinite.\n",
        "At the critical point, the volume fluctuates greatly, and the sound velocity becomes zero.\n"
      ]
    },
    {
      "cell_type": "code",
      "metadata": {
        "id": "k9BzmdyZAP10",
        "colab_type": "code",
        "colab": {}
      },
      "source": [
        "from sympy import *\n",
        "from sympy.abc import *\n",
        "\n",
        "# RK状態方程式\n",
        "p=k*T/(V-b)-a/(sqrt(T)*V*(V+b))\n",
        "# 微分と二階微分が同時に0になるのが臨界点。\n",
        "p1=p.diff(V)\n",
        "p2=p.diff(V,2)"
      ],
      "execution_count": 3,
      "outputs": []
    },
    {
      "cell_type": "code",
      "metadata": {
        "id": "mnzFwOQ6A01a",
        "colab_type": "code",
        "colab": {
          "base_uri": "https://localhost:8080/",
          "height": 39
        },
        "outputId": "d6a4f6bb-1a39-4def-a233-b74cc3b4266a"
      },
      "source": [
        "# 分数を避ける。\n",
        "pp1 = (p1*(V*(V-b)*(V+b))**2*sqrt(T)).simplify()\n",
        "pp1"
      ],
      "execution_count": 4,
      "outputs": [
        {
          "output_type": "display_data",
          "data": {
            "text/html": [
              "<script src='https://colab.research.google.com/static/mathjax/MathJax.js?config=TeX-MML-AM_HTMLorMML'></script>"
            ],
            "text/plain": [
              "<IPython.core.display.HTML object>"
            ]
          },
          "metadata": {
            "tags": []
          }
        },
        {
          "output_type": "execute_result",
          "data": {
            "text/latex": "$$- T^{\\frac{3}{2}} V^{2} k \\left(V + b\\right)^{2} + 2 V a \\left(V - b\\right)^{2} + a b \\left(V - b\\right)^{2}$$",
            "text/plain": [
              "   3/2  2          2                2              2\n",
              "- T   ⋅V ⋅k⋅(V + b)  + 2⋅V⋅a⋅(V - b)  + a⋅b⋅(V - b) "
            ]
          },
          "metadata": {
            "tags": []
          },
          "execution_count": 4
        }
      ]
    },
    {
      "cell_type": "code",
      "metadata": {
        "id": "nZBijf-xB5Zf",
        "colab_type": "code",
        "colab": {
          "base_uri": "https://localhost:8080/",
          "height": 39
        },
        "outputId": "3385d05b-a36f-4f7f-d6e6-e7bc56412141"
      },
      "source": [
        "pp2 = (p2*(V*(V-b)*(V+b))**3*sqrt(T)).simplify()\n",
        "pp2"
      ],
      "execution_count": 5,
      "outputs": [
        {
          "output_type": "display_data",
          "data": {
            "text/html": [
              "<script src='https://colab.research.google.com/static/mathjax/MathJax.js?config=TeX-MML-AM_HTMLorMML'></script>"
            ],
            "text/plain": [
              "<IPython.core.display.HTML object>"
            ]
          },
          "metadata": {
            "tags": []
          }
        },
        {
          "output_type": "execute_result",
          "data": {
            "text/latex": "$$2 T^{\\frac{3}{2}} V^{3} k \\left(V + b\\right)^{3} - 4 V^{2} a \\left(V - b\\right)^{3} - 2 V a b \\left(V - b\\right)^{3} - 2 a \\left(V - b\\right)^{3} \\left(V + b\\right)^{2}$$",
            "text/plain": [
              "   3/2  3          3      2          3                  3              3      \n",
              "2⋅T   ⋅V ⋅k⋅(V + b)  - 4⋅V ⋅a⋅(V - b)  - 2⋅V⋅a⋅b⋅(V - b)  - 2⋅a⋅(V - b) ⋅(V + \n",
              "\n",
              "  2\n",
              "b) "
            ]
          },
          "metadata": {
            "tags": []
          },
          "execution_count": 5
        }
      ]
    },
    {
      "cell_type": "markdown",
      "metadata": {
        "id": "Wlut4cuMIuP0",
        "colab_type": "text"
      },
      "source": [
        "V,Tの解は計算できない(無限ループ?)ので、(a,b)を求めて、あとで式変形することにしよう。"
      ]
    },
    {
      "cell_type": "code",
      "metadata": {
        "id": "J72Da3EPCPx7",
        "colab_type": "code",
        "colab": {
          "base_uri": "https://localhost:8080/",
          "height": 67
        },
        "outputId": "d85fbfc6-6913-4385-a9a4-ae260856be78"
      },
      "source": [
        "sol = solve([pp1,pp2],(a,b))\n",
        "sol"
      ],
      "execution_count": 6,
      "outputs": [
        {
          "output_type": "display_data",
          "data": {
            "text/html": [
              "<script src='https://colab.research.google.com/static/mathjax/MathJax.js?config=TeX-MML-AM_HTMLorMML'></script>"
            ],
            "text/plain": [
              "<IPython.core.display.HTML object>"
            ]
          },
          "metadata": {
            "tags": []
          }
        },
        {
          "output_type": "execute_result",
          "data": {
            "text/latex": "$$\\left [ \\left ( 0, \\quad - V\\right ), \\quad \\left ( \\frac{V k}{3} T^{\\frac{3}{2}} \\left(1 + \\sqrt[3]{2} + 2^{\\frac{2}{3}}\\right), \\quad V \\left(-1 + \\sqrt[3]{2}\\right)\\right ), \\quad \\left ( \\frac{V k}{6} T^{\\frac{3}{2}} \\left(- 2^{\\frac{2}{3}} - \\sqrt[3]{2} + 2 - \\sqrt[3]{2} \\sqrt{3} i + 2^{\\frac{2}{3}} \\sqrt{3} i\\right), \\quad V \\left(-1 + \\sqrt[3]{2} \\left(- \\frac{1}{2} - \\frac{\\sqrt{3} i}{2}\\right)\\right)\\right ), \\quad \\left ( \\frac{V k}{6} T^{\\frac{3}{2}} \\left(- 2^{\\frac{2}{3}} - \\sqrt[3]{2} + 2 - 2^{\\frac{2}{3}} \\sqrt{3} i + \\sqrt[3]{2} \\sqrt{3} i\\right), \\quad V \\left(-1 + \\sqrt[3]{2} \\left(- \\frac{1}{2} + \\frac{\\sqrt{3} i}{2}\\right)\\right)\\right )\\right ]$$",
            "text/plain": [
              "⎡         ⎛ 3/2     ⎛    3 ___    2/3⎞                ⎞  ⎛ 3/2     ⎛   2/3   3\n",
              "⎢         ⎜T   ⋅V⋅k⋅⎝1 + ╲╱ 2  + 2   ⎠    ⎛     3 ___⎞⎟  ⎜T   ⋅V⋅k⋅⎝- 2    - ╲\n",
              "⎢(0, -V), ⎜───────────────────────────, V⋅⎝-1 + ╲╱ 2 ⎠⎟, ⎜────────────────────\n",
              "⎣         ⎝             3                             ⎠  ⎝                    \n",
              "\n",
              " ___       3 ___         2/3     ⎞                             ⎞  ⎛ 3/2     ⎛ \n",
              "╱ 2  + 2 - ╲╱ 2 ⋅√3⋅ⅈ + 2   ⋅√3⋅ⅈ⎠    ⎛     3 ___ ⎛  1   √3⋅ⅈ⎞⎞⎟  ⎜T   ⋅V⋅k⋅⎝-\n",
              "──────────────────────────────────, V⋅⎜-1 + ╲╱ 2 ⋅⎜- ─ - ────⎟⎟⎟, ⎜───────────\n",
              "      6                               ⎝           ⎝  2    2  ⎠⎠⎠  ⎝           \n",
              "\n",
              "  2/3   3 ___        2/3        3 ___     ⎞                             ⎞⎤\n",
              " 2    - ╲╱ 2  + 2 - 2   ⋅√3⋅ⅈ + ╲╱ 2 ⋅√3⋅ⅈ⎠    ⎛     3 ___ ⎛  1   √3⋅ⅈ⎞⎞⎟⎥\n",
              "───────────────────────────────────────────, V⋅⎜-1 + ╲╱ 2 ⋅⎜- ─ + ────⎟⎟⎟⎥\n",
              "               6                               ⎝           ⎝  2    2  ⎠⎠⎠⎦"
            ]
          },
          "metadata": {
            "tags": []
          },
          "execution_count": 6
        }
      ]
    },
    {
      "cell_type": "markdown",
      "metadata": {
        "id": "oTDOcH7fJbZx",
        "colab_type": "text"
      },
      "source": [
        "4つの根のうち、実数でかつ意味があるのは1つだけ。sol[1]の1つめがa, 2つめがbである。"
      ]
    },
    {
      "cell_type": "code",
      "metadata": {
        "id": "cQUJQzJeC3zd",
        "colab_type": "code",
        "colab": {
          "base_uri": "https://localhost:8080/",
          "height": 47
        },
        "outputId": "4005bf45-88a1-44ab-eb18-ddfb262d72da"
      },
      "source": [
        "sol[1]"
      ],
      "execution_count": 7,
      "outputs": [
        {
          "output_type": "display_data",
          "data": {
            "text/html": [
              "<script src='https://colab.research.google.com/static/mathjax/MathJax.js?config=TeX-MML-AM_HTMLorMML'></script>"
            ],
            "text/plain": [
              "<IPython.core.display.HTML object>"
            ]
          },
          "metadata": {
            "tags": []
          }
        },
        {
          "output_type": "execute_result",
          "data": {
            "text/latex": "$$\\left ( \\frac{V k}{3} T^{\\frac{3}{2}} \\left(1 + \\sqrt[3]{2} + 2^{\\frac{2}{3}}\\right), \\quad V \\left(-1 + \\sqrt[3]{2}\\right)\\right )$$",
            "text/plain": [
              "⎛ 3/2     ⎛    3 ___    2/3⎞                ⎞\n",
              "⎜T   ⋅V⋅k⋅⎝1 + ╲╱ 2  + 2   ⎠    ⎛     3 ___⎞⎟\n",
              "⎜───────────────────────────, V⋅⎝-1 + ╲╱ 2 ⎠⎟\n",
              "⎝             3                             ⎠"
            ]
          },
          "metadata": {
            "tags": []
          },
          "execution_count": 7
        }
      ]
    },
    {
      "cell_type": "markdown",
      "metadata": {
        "id": "qc4l_t5WJCrZ",
        "colab_type": "text"
      },
      "source": [
        "bの式を変形すれば、臨界体積Vcが得られる。"
      ]
    },
    {
      "cell_type": "code",
      "metadata": {
        "id": "OMFsEsvyDlxi",
        "colab_type": "code",
        "colab": {
          "base_uri": "https://localhost:8080/",
          "height": 42
        },
        "outputId": "eb11e1e6-4574-4243-d11b-7e17c4916453"
      },
      "source": [
        "Vc = solve(sol[1][1]-b, V)[0]\n",
        "Vc"
      ],
      "execution_count": 8,
      "outputs": [
        {
          "output_type": "display_data",
          "data": {
            "text/html": [
              "<script src='https://colab.research.google.com/static/mathjax/MathJax.js?config=TeX-MML-AM_HTMLorMML'></script>"
            ],
            "text/plain": [
              "<IPython.core.display.HTML object>"
            ]
          },
          "metadata": {
            "tags": []
          }
        },
        {
          "output_type": "execute_result",
          "data": {
            "text/latex": "$$\\frac{b}{-1 + \\sqrt[3]{2}}$$",
            "text/plain": [
              "    b     \n",
              "──────────\n",
              "     3 ___\n",
              "-1 + ╲╱ 2 "
            ]
          },
          "metadata": {
            "tags": []
          },
          "execution_count": 8
        }
      ]
    },
    {
      "cell_type": "code",
      "metadata": {
        "id": "fTUaz0B-LJyz",
        "colab_type": "code",
        "colab": {
          "base_uri": "https://localhost:8080/",
          "height": 39
        },
        "outputId": "ea9bb466-dd31-4792-9d1c-3d037c05e20a"
      },
      "source": [
        "Vc=b/(-1+2**(1/3))\n",
        "Vc"
      ],
      "execution_count": 17,
      "outputs": [
        {
          "output_type": "display_data",
          "data": {
            "text/html": [
              "<script src='https://colab.research.google.com/static/mathjax/MathJax.js?config=TeX-MML-AM_HTMLorMML'></script>"
            ],
            "text/plain": [
              "<IPython.core.display.HTML object>"
            ]
          },
          "metadata": {
            "tags": []
          }
        },
        {
          "output_type": "execute_result",
          "data": {
            "text/latex": "$$3.84732210186307 b$$",
            "text/plain": [
              "3.84732210186307⋅b"
            ]
          },
          "metadata": {
            "tags": []
          },
          "execution_count": 17
        }
      ]
    },
    {
      "cell_type": "markdown",
      "metadata": {
        "id": "mQroelC_JIbE",
        "colab_type": "text"
      },
      "source": [
        "aの式をTの式とし、体積を臨界体積におきかえると、臨界温度Tcがaとbで表せる。"
      ]
    },
    {
      "cell_type": "code",
      "metadata": {
        "id": "dvlh4aJcFOOh",
        "colab_type": "code",
        "colab": {
          "base_uri": "https://localhost:8080/",
          "height": 76
        },
        "outputId": "03d94e16-17e1-440d-9948-c1d6deed765a"
      },
      "source": [
        "Tc=solve(sol[1][0]-a,T)[0].subs(V,Vc).simplify()\n",
        "Tc"
      ],
      "execution_count": 9,
      "outputs": [
        {
          "output_type": "display_data",
          "data": {
            "text/html": [
              "<script src='https://colab.research.google.com/static/mathjax/MathJax.js?config=TeX-MML-AM_HTMLorMML'></script>"
            ],
            "text/plain": [
              "<IPython.core.display.HTML object>"
            ]
          },
          "metadata": {
            "tags": []
          }
        },
        {
          "output_type": "execute_result",
          "data": {
            "text/latex": "$$\\frac{3^{\\frac{2}{3}} \\left(\\frac{a}{b k}\\right)^{\\frac{2}{3}} \\left(-1 + \\sqrt[3]{2}\\right)^{\\frac{2}{3}}}{\\left(1 + \\sqrt[3]{2} + 2^{\\frac{2}{3}}\\right)^{\\frac{2}{3}}}$$",
            "text/plain": [
              "          2/3             2/3\n",
              " 2/3 ⎛ a ⎞    ⎛     3 ___⎞   \n",
              "3   ⋅⎜───⎟   ⋅⎝-1 + ╲╱ 2 ⎠   \n",
              "     ⎝b⋅k⎠                   \n",
              "─────────────────────────────\n",
              "                      2/3    \n",
              "    ⎛    3 ___    2/3⎞       \n",
              "    ⎝1 + ╲╱ 2  + 2   ⎠       "
            ]
          },
          "metadata": {
            "tags": []
          },
          "execution_count": 9
        }
      ]
    },
    {
      "cell_type": "code",
      "metadata": {
        "id": "nU4ZI7-nKAMz",
        "colab_type": "code",
        "colab": {
          "base_uri": "https://localhost:8080/",
          "height": 37
        },
        "outputId": "fcb86db5-493a-46ea-ab33-ff66c15b7728"
      },
      "source": [
        "3.0**(2/3)*(-1+2**(1/3))**(2/3)/(1+2**(1/3)+2**(2/3))**(2/3)"
      ],
      "execution_count": 10,
      "outputs": [
        {
          "output_type": "display_data",
          "data": {
            "text/html": [
              "<script src='https://colab.research.google.com/static/mathjax/MathJax.js?config=TeX-MML-AM_HTMLorMML'></script>"
            ],
            "text/plain": [
              "<IPython.core.display.HTML object>"
            ]
          },
          "metadata": {
            "tags": []
          }
        },
        {
          "output_type": "execute_result",
          "data": {
            "text/latex": "$$0.34503999585334744$$",
            "text/plain": [
              "0.34503999585334744"
            ]
          },
          "metadata": {
            "tags": []
          },
          "execution_count": 10
        }
      ]
    },
    {
      "cell_type": "code",
      "metadata": {
        "id": "cJnXxzJhKOXR",
        "colab_type": "code",
        "colab": {
          "base_uri": "https://localhost:8080/",
          "height": 43
        },
        "outputId": "d6f4e87c-dada-4b21-bcda-9e849ce89cb4"
      },
      "source": [
        "Tc=0.34503999585334744*(a/(b*k))**Rational(2,3)\n",
        "Tc"
      ],
      "execution_count": 13,
      "outputs": [
        {
          "output_type": "display_data",
          "data": {
            "text/html": [
              "<script src='https://colab.research.google.com/static/mathjax/MathJax.js?config=TeX-MML-AM_HTMLorMML'></script>"
            ],
            "text/plain": [
              "<IPython.core.display.HTML object>"
            ]
          },
          "metadata": {
            "tags": []
          }
        },
        {
          "output_type": "execute_result",
          "data": {
            "text/latex": "$$0.345039995853347 \\left(\\frac{a}{b k}\\right)^{\\frac{2}{3}}$$",
            "text/plain": [
              "                       2/3\n",
              "                  ⎛ a ⎞   \n",
              "0.345039995853347⋅⎜───⎟   \n",
              "                  ⎝b⋅k⎠   "
            ]
          },
          "metadata": {
            "tags": []
          },
          "execution_count": 13
        }
      ]
    },
    {
      "cell_type": "markdown",
      "metadata": {
        "id": "eYG8dbtYJjQB",
        "colab_type": "text"
      },
      "source": [
        "さいごに、pの式(状態方程式)のT,VをそれぞれTc,Vcにするとpcが得られる。"
      ]
    },
    {
      "cell_type": "code",
      "metadata": {
        "id": "0AvzP0LGFlqg",
        "colab_type": "code",
        "colab": {
          "base_uri": "https://localhost:8080/",
          "height": 47
        },
        "outputId": "71c0fb3d-3538-402a-badc-4e5eb40ae01c"
      },
      "source": [
        "pc=p.subs(V,Vc).subs(T,Tc).simplify()\n",
        "pc"
      ],
      "execution_count": 18,
      "outputs": [
        {
          "output_type": "display_data",
          "data": {
            "text/html": [
              "<script src='https://colab.research.google.com/static/mathjax/MathJax.js?config=TeX-MML-AM_HTMLorMML'></script>"
            ],
            "text/plain": [
              "<IPython.core.display.HTML object>"
            ]
          },
          "metadata": {
            "tags": []
          }
        },
        {
          "output_type": "execute_result",
          "data": {
            "text/latex": "$$\\frac{0.0298943859926416 a}{b^{2} \\sqrt[3]{\\frac{a}{b k}}}$$",
            "text/plain": [
              "0.0298943859926416⋅a\n",
              "────────────────────\n",
              "           _____    \n",
              "     2    ╱  a      \n",
              "    b ⋅3 ╱  ───     \n",
              "       ╲╱   b⋅k     "
            ]
          },
          "metadata": {
            "tags": []
          },
          "execution_count": 18
        }
      ]
    },
    {
      "cell_type": "markdown",
      "metadata": {
        "id": "DW4P0eFPMC9-",
        "colab_type": "text"
      },
      "source": [
        "[Wikipedia:Redlich-Kwong](https://en.wikipedia.org/wiki/Redlich%E2%80%93Kwong_equation_of_state)に一致したように思える。"
      ]
    },
    {
      "cell_type": "code",
      "metadata": {
        "id": "rL3-Dg73Jory",
        "colab_type": "code",
        "colab": {
          "base_uri": "https://localhost:8080/",
          "height": 35
        },
        "outputId": "11a09871-c139-4bb7-ef87-5e9f84168474"
      },
      "source": [
        "# Wikipediaの式の係数を数値計算して検算\n",
        "#pcの係数\n",
        "(2**(1/3)-1)**(7/3)/3**(1/3)"
      ],
      "execution_count": 1,
      "outputs": [
        {
          "output_type": "execute_result",
          "data": {
            "text/plain": [
              "0.02989438599264158"
            ]
          },
          "metadata": {
            "tags": []
          },
          "execution_count": 1
        }
      ]
    },
    {
      "cell_type": "code",
      "metadata": {
        "id": "9azBOV0-MXDY",
        "colab_type": "code",
        "colab": {
          "base_uri": "https://localhost:8080/",
          "height": 35
        },
        "outputId": "a0a26d4b-ce85-4ed7-dd36-35fabb21570a"
      },
      "source": [
        "#Tcの係数\n",
        "3**(2/3)*(2**(1/3)-1)**(4/3)"
      ],
      "execution_count": 2,
      "outputs": [
        {
          "output_type": "execute_result",
          "data": {
            "text/plain": [
              "0.34503999585334744"
            ]
          },
          "metadata": {
            "tags": []
          },
          "execution_count": 2
        }
      ]
    },
    {
      "cell_type": "markdown",
      "metadata": {
        "id": "MKx_vcV2Mnv2",
        "colab_type": "text"
      },
      "source": [
        "あってました。"
      ]
    }
  ]
}
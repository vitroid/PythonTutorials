{
  "nbformat": 4,
  "nbformat_minor": 0,
  "metadata": {
    "kernelspec": {
      "display_name": "Python 3",
      "language": "python",
      "name": "python3"
    },
    "language_info": {
      "codemirror_mode": {
        "name": "ipython",
        "version": 3
      },
      "file_extension": ".py",
      "mimetype": "text/x-python",
      "name": "python",
      "nbconvert_exporter": "python",
      "pygments_lexer": "ipython3",
      "version": "3.6.5"
    },
    "colab": {
      "name": "080sympy.ipynb のコピー",
      "provenance": [],
      "toc_visible": true,
      "include_colab_link": true
    }
  },
  "cells": [
    {
      "cell_type": "markdown",
      "metadata": {
        "id": "view-in-github",
        "colab_type": "text"
      },
      "source": [
        "<a href=\"https://colab.research.google.com/github/vitroid/PythonTutorials/blob/master/9%20Preparation/Redlich_Kwong_CP.ipynb\" target=\"_parent\"><img src=\"https://colab.research.google.com/assets/colab-badge.svg\" alt=\"Open In Colab\"/></a>"
      ]
    },
    {
      "cell_type": "code",
      "source": [
        "# van der Waals状態方程式の臨界点"
      ],
      "metadata": {
        "id": "U8xWNr2xn9zg"
      },
      "execution_count": null,
      "outputs": []
    },
    {
      "cell_type": "code",
      "source": [
        "from sympy import *\n",
        "from sympy.abc import *\n",
        "vdW = (p+a/V**2)*(V-b)-k*T\n",
        "solve([vdW, vdW.diff(V), vdW.diff(V,2)], [p, V, T])"
      ],
      "metadata": {
        "id": "mMJAXkygoCeZ",
        "outputId": "929c0201-ac16-42e6-8fca-46d16af953f6",
        "colab": {
          "base_uri": "https://localhost:8080/"
        }
      },
      "execution_count": null,
      "outputs": [
        {
          "output_type": "execute_result",
          "data": {
            "text/plain": [
              "[(a/(27*b**2), 3*b, 8*a/(27*b*k))]"
            ]
          },
          "metadata": {},
          "execution_count": 1
        }
      ]
    },
    {
      "cell_type": "markdown",
      "metadata": {
        "id": "N24hMRHGC5bx"
      },
      "source": [
        "## Redlich-Kwong状態方程式の臨界点\n"
      ]
    },
    {
      "cell_type": "markdown",
      "metadata": {
        "id": "jT2nZU-EC5cB"
      },
      "source": [
        "状態方程式の変曲点は、熱力学では臨界点と呼びます。体積変化に対して圧力が変動しないということは、圧縮率が無限大になり、体積が大きくゆらぐことを示唆しています。圧縮率が無限大ということはまた、音速が0になることを意味します。\n",
        "\n",
        "The inflection point of the state equation is called the critical point in thermodynamics.\n",
        "As we see above, $\\partial p/\\partial V$ becomes zero, i.e.,  the compressibility $\\partial V/\\partial p$ becomes infinite.\n",
        "At the critical point, the volume fluctuates greatly, and the sound velocity becomes zero.\n"
      ]
    },
    {
      "cell_type": "code",
      "metadata": {
        "id": "k9BzmdyZAP10"
      },
      "source": [
        "import sympy\n",
        "from sympy import *\n",
        "from sympy.abc import *\n",
        "\n",
        "# RK状態方程式\n",
        "p=k*T/(V-b)-a/(sqrt(T)*V*(V+b))\n",
        "# 微分と二階微分が同時に0になるのが臨界点。\n",
        "p1=p.diff(V)\n",
        "p2=p.diff(V,2)\n"
      ],
      "execution_count": 1,
      "outputs": []
    },
    {
      "cell_type": "code",
      "source": [
        "p1"
      ],
      "metadata": {
        "id": "bT5jKXR0Dnd8",
        "outputId": "fcb7dce5-e59d-4048-a303-d8d7a9b90381",
        "colab": {
          "base_uri": "https://localhost:8080/",
          "height": 80
        }
      },
      "execution_count": 2,
      "outputs": [
        {
          "output_type": "execute_result",
          "data": {
            "text/plain": [
              "-T*k/(V - b)**2 + a/(sqrt(T)*V*(V + b)**2) + a/(sqrt(T)*V**2*(V + b))"
            ],
            "text/latex": "$\\displaystyle - \\frac{T k}{\\left(V - b\\right)^{2}} + \\frac{a}{\\sqrt{T} V \\left(V + b\\right)^{2}} + \\frac{a}{\\sqrt{T} V^{2} \\left(V + b\\right)}$"
          },
          "metadata": {},
          "execution_count": 2
        }
      ]
    },
    {
      "cell_type": "code",
      "source": [
        "p2"
      ],
      "metadata": {
        "id": "XBoTodx9DovO",
        "outputId": "be4e8afd-dfd1-4471-98cb-18622f3ac155",
        "colab": {
          "base_uri": "https://localhost:8080/",
          "height": 88
        }
      },
      "execution_count": 3,
      "outputs": [
        {
          "output_type": "execute_result",
          "data": {
            "text/plain": [
              "2*(T*k/(V - b)**3 - a/(sqrt(T)*V*(V + b)**3) - a/(sqrt(T)*V**2*(V + b)**2) - a/(sqrt(T)*V**3*(V + b)))"
            ],
            "text/latex": "$\\displaystyle 2 \\left(\\frac{T k}{\\left(V - b\\right)^{3}} - \\frac{a}{\\sqrt{T} V \\left(V + b\\right)^{3}} - \\frac{a}{\\sqrt{T} V^{2} \\left(V + b\\right)^{2}} - \\frac{a}{\\sqrt{T} V^{3} \\left(V + b\\right)}\\right)$"
          },
          "metadata": {},
          "execution_count": 3
        }
      ]
    },
    {
      "cell_type": "markdown",
      "source": [
        "vdWの場合と同じ方法では解けなかったので、代わりに(a,b)について解く。"
      ],
      "metadata": {
        "id": "QfZdzimSEKn5"
      }
    },
    {
      "cell_type": "code",
      "metadata": {
        "id": "mnzFwOQ6A01a",
        "outputId": "6dd081d4-5e13-4da6-910f-566ce7ea1fc8",
        "colab": {
          "base_uri": "https://localhost:8080/"
        }
      },
      "source": [
        "k,T,V,a,b = symbols(\"k T V a b\", real=True, positive=True)\n",
        "p = Symbol(\"p\", real=True)\n",
        "EOS=k*T/(V-b)-a/(sqrt(T)*V*(V+b))-p\n",
        "solve((EOS.diff(V), EOS.diff(V,2)), (a,b))"
      ],
      "execution_count": 7,
      "outputs": [
        {
          "output_type": "execute_result",
          "data": {
            "text/plain": [
              "[(2**(2/3)*T**(3/2)*V*k/(6 - 3*2**(2/3)), V*(-1 + 2**(1/3)))]"
            ]
          },
          "metadata": {},
          "execution_count": 7
        }
      ]
    },
    {
      "cell_type": "code",
      "metadata": {
        "id": "nZBijf-xB5Zf",
        "outputId": "ff87bc7d-ad3a-42f0-a941-a8c0aea1309e",
        "colab": {
          "base_uri": "https://localhost:8080/",
          "height": 68
        }
      },
      "source": [
        "a0, b0 = _[0]\n",
        "b0"
      ],
      "execution_count": 8,
      "outputs": [
        {
          "output_type": "execute_result",
          "data": {
            "text/plain": [
              "V*(-1 + 2**(1/3))"
            ],
            "text/latex": "$\\displaystyle V \\left(-1 + \\sqrt[3]{2}\\right)$"
          },
          "metadata": {},
          "execution_count": 8
        }
      ]
    },
    {
      "cell_type": "markdown",
      "source": [
        "bから、臨界体積$V_c$が得られる。"
      ],
      "metadata": {
        "id": "89Ktp05GFKsZ"
      }
    },
    {
      "cell_type": "code",
      "source": [
        "solve(b0-b, V)"
      ],
      "metadata": {
        "id": "bVmfp541FPUF",
        "outputId": "de967f37-3108-4543-df1c-531b1099e38f",
        "colab": {
          "base_uri": "https://localhost:8080/"
        }
      },
      "execution_count": 9,
      "outputs": [
        {
          "output_type": "execute_result",
          "data": {
            "text/plain": [
              "[b/(-1 + 2**(1/3))]"
            ]
          },
          "metadata": {},
          "execution_count": 9
        }
      ]
    },
    {
      "cell_type": "code",
      "source": [
        "Vc = _[0]\n",
        "Vc"
      ],
      "metadata": {
        "id": "lmTVuKOXFfbP",
        "outputId": "399df9fe-4fe9-4b84-e8e4-7d7065483a29",
        "colab": {
          "base_uri": "https://localhost:8080/",
          "height": 77
        }
      },
      "execution_count": 10,
      "outputs": [
        {
          "output_type": "execute_result",
          "data": {
            "text/plain": [
              "b/(-1 + 2**(1/3))"
            ],
            "text/latex": "$\\displaystyle \\frac{b}{-1 + \\sqrt[3]{2}}$"
          },
          "metadata": {},
          "execution_count": 10
        }
      ]
    },
    {
      "cell_type": "markdown",
      "source": [
        "同じ要領で、a0の式からTcを求める。"
      ],
      "metadata": {
        "id": "zRnNPrYYFmrB"
      }
    },
    {
      "cell_type": "code",
      "source": [
        "solve(a-a0, T)"
      ],
      "metadata": {
        "id": "icBKx2LTFsTi",
        "outputId": "35a189c0-37c2-476d-ae28-0f32888598b9",
        "colab": {
          "base_uri": "https://localhost:8080/"
        }
      },
      "execution_count": 17,
      "outputs": [
        {
          "output_type": "execute_result",
          "data": {
            "text/plain": [
              "[(-3*a + 3*2**(1/3)*a)**(2/3)/(V**(2/3)*k**(2/3))]"
            ]
          },
          "metadata": {},
          "execution_count": 17
        }
      ]
    },
    {
      "cell_type": "code",
      "source": [
        "Tc = _[0].subs(V, Vc)\n",
        "Tc"
      ],
      "metadata": {
        "id": "OpzLqYBsF4KS",
        "outputId": "f85ccff0-a376-4c31-ca29-603586f63a85",
        "colab": {
          "base_uri": "https://localhost:8080/",
          "height": 86
        }
      },
      "execution_count": 18,
      "outputs": [
        {
          "output_type": "execute_result",
          "data": {
            "text/plain": [
              "(-1 + 2**(1/3))**(2/3)*(-3*a + 3*2**(1/3)*a)**(2/3)/(b**(2/3)*k**(2/3))"
            ],
            "text/latex": "$\\displaystyle \\frac{\\left(-1 + \\sqrt[3]{2}\\right)^{\\frac{2}{3}} \\left(- 3 a + 3 \\sqrt[3]{2} a\\right)^{\\frac{2}{3}}}{b^{\\frac{2}{3}} k^{\\frac{2}{3}}}$"
          },
          "metadata": {},
          "execution_count": 18
        }
      ]
    },
    {
      "cell_type": "markdown",
      "source": [
        "さいごに、TcとVcからpcを得る。"
      ],
      "metadata": {
        "id": "t2kVZYNUGNhN"
      }
    },
    {
      "cell_type": "code",
      "source": [
        "solve(EOS, p)"
      ],
      "metadata": {
        "id": "-sLETYlzGRLY",
        "outputId": "72df864c-c322-4dac-c53d-2ee641e663d4",
        "colab": {
          "base_uri": "https://localhost:8080/"
        }
      },
      "execution_count": 20,
      "outputs": [
        {
          "output_type": "execute_result",
          "data": {
            "text/plain": [
              "[(T**(3/2)*V**2*k + T**(3/2)*V*b*k - V*a + a*b)/(sqrt(T)*V*(V**2 - b**2))]"
            ]
          },
          "metadata": {},
          "execution_count": 20
        }
      ]
    },
    {
      "cell_type": "code",
      "source": [
        "pc = _[0].subs(T, Tc).subs(V, Vc)\n",
        "pc"
      ],
      "metadata": {
        "id": "RLWx8pMmGa0f",
        "outputId": "19046ac1-af6d-44c2-8cdf-441f6d1dabea",
        "colab": {
          "base_uri": "https://localhost:8080/",
          "height": 125
        }
      },
      "execution_count": 21,
      "outputs": [
        {
          "output_type": "execute_result",
          "data": {
            "text/plain": [
              "k**(1/3)*(-1 + 2**(1/3))**(2/3)*(-a*b/(-1 + 2**(1/3)) + a*b + b*(-3*a + 3*2**(1/3)*a) + b*(-3*a + 3*2**(1/3)*a)/(-1 + 2**(1/3)))/(b**(2/3)*(-3*a + 3*2**(1/3)*a)**(1/3)*(-b**2 + b**2/(-1 + 2**(1/3))**2))"
            ],
            "text/latex": "$\\displaystyle \\frac{\\sqrt[3]{k} \\left(-1 + \\sqrt[3]{2}\\right)^{\\frac{2}{3}} \\left(- \\frac{a b}{-1 + \\sqrt[3]{2}} + a b + b \\left(- 3 a + 3 \\sqrt[3]{2} a\\right) + \\frac{b \\left(- 3 a + 3 \\sqrt[3]{2} a\\right)}{-1 + \\sqrt[3]{2}}\\right)}{b^{\\frac{2}{3}} \\sqrt[3]{- 3 a + 3 \\sqrt[3]{2} a} \\left(- b^{2} + \\frac{b^{2}}{\\left(-1 + \\sqrt[3]{2}\\right)^{2}}\\right)}$"
          },
          "metadata": {},
          "execution_count": 21
        }
      ]
    },
    {
      "cell_type": "markdown",
      "source": [
        "平方根、立方根を実数に変換し、Wikipediaと比較できるようにする。"
      ],
      "metadata": {
        "id": "c4545fl-GlHU"
      }
    },
    {
      "cell_type": "code",
      "source": [
        "pc.evalf()"
      ],
      "metadata": {
        "id": "QfDEGMrCGsdZ",
        "outputId": "e04e9631-dd1a-446a-d1c4-b205361570aa",
        "colab": {
          "base_uri": "https://localhost:8080/",
          "height": 74
        }
      },
      "execution_count": 23,
      "outputs": [
        {
          "output_type": "execute_result",
          "data": {
            "text/plain": [
              "0.0298943859926416*a**0.666666666666667*b**(-1.66666666666667)*k**0.333333333333333"
            ],
            "text/latex": "$\\displaystyle \\frac{0.0298943859926416 a^{0.666666666666667} k^{0.333333333333333}}{b^{1.66666666666667}}$"
          },
          "metadata": {},
          "execution_count": 23
        }
      ]
    },
    {
      "cell_type": "code",
      "source": [
        "Tc.evalf()"
      ],
      "metadata": {
        "id": "sCTjg-iHGzZ5",
        "outputId": "9b9ed279-d722-424e-df65-2a3ac891b564",
        "colab": {
          "base_uri": "https://localhost:8080/",
          "height": 74
        }
      },
      "execution_count": 24,
      "outputs": [
        {
          "output_type": "execute_result",
          "data": {
            "text/plain": [
              "0.345039995853347*a**0.666666666666667*b**(-0.666666666666667)*k**(-0.666666666666667)"
            ],
            "text/latex": "$\\displaystyle \\frac{0.345039995853347 a^{0.666666666666667}}{b^{0.666666666666667} k^{0.666666666666667}}$"
          },
          "metadata": {},
          "execution_count": 24
        }
      ]
    },
    {
      "cell_type": "code",
      "source": [
        "Vc.evalf()"
      ],
      "metadata": {
        "id": "miE07p_VG2v_",
        "outputId": "d873de16-c7c2-4fc4-8762-ecfe61a568af",
        "colab": {
          "base_uri": "https://localhost:8080/",
          "height": 58
        }
      },
      "execution_count": 26,
      "outputs": [
        {
          "output_type": "execute_result",
          "data": {
            "text/plain": [
              "3.84732210186307*b"
            ],
            "text/latex": "$\\displaystyle 3.84732210186307 b$"
          },
          "metadata": {},
          "execution_count": 26
        }
      ]
    },
    {
      "cell_type": "markdown",
      "metadata": {
        "id": "DW4P0eFPMC9-"
      },
      "source": [
        "[Wikipedia:Redlich-Kwong](https://en.wikipedia.org/wiki/Redlich%E2%80%93Kwong_equation_of_state)に一致したように思える。"
      ]
    }
  ]
}
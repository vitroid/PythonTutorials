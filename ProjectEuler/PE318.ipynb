{
  "nbformat": 4,
  "nbformat_minor": 0,
  "metadata": {
    "kernelspec": {
      "display_name": "Python 3",
      "language": "python",
      "name": "python3"
    },
    "language_info": {
      "codemirror_mode": {
        "name": "ipython",
        "version": 3
      },
      "file_extension": ".py",
      "mimetype": "text/x-python",
      "name": "python",
      "nbconvert_exporter": "python",
      "pygments_lexer": "ipython3",
      "version": "3.6.5"
    },
    "colab": {
      "name": "PE318.ipynb",
      "provenance": [],
      "include_colab_link": true
    }
  },
  "cells": [
    {
      "cell_type": "markdown",
      "metadata": {
        "id": "view-in-github",
        "colab_type": "text"
      },
      "source": [
        "<a href=\"https://colab.research.google.com/github/vitroid/PythonTutorials/blob/master/ProjectEuler/PE318.ipynb\" target=\"_parent\"><img src=\"https://colab.research.google.com/assets/colab-badge.svg\" alt=\"Open In Colab\"/></a>"
      ]
    },
    {
      "cell_type": "markdown",
      "metadata": {
        "id": "EYUg9l7JWNbk",
        "colab_type": "text"
      },
      "source": [
        "## Project Euler \\#318\n",
        "https://projecteuler.net/problem=318"
      ]
    },
    {
      "cell_type": "markdown",
      "metadata": {
        "id": "FtjnSq41WNbl",
        "colab_type": "text"
      },
      "source": [
        "一般項について考える。\n",
        "$(\\sqrt p+\\sqrt q)^{2n}=A_n\\sqrt{pq}+B_n$とし、これに$(\\sqrt p+\\sqrt q)^2=p+q+2\\sqrt{pq}$をかけると、$(A_n\\sqrt{pq}+B_n)(p+q+2\\sqrt{pq})=(A_n(p+q)+2B_n)\\sqrt{pq}+B_n(p+q)+2A_npq$、よって$A_{n+1}=A_n(p+q)+2B_n$, $B_{n+1}=B_n(p+q)+2A_npq$"
      ]
    },
    {
      "cell_type": "markdown",
      "metadata": {
        "id": "fjjueL7qWNbm",
        "colab_type": "text"
      },
      "source": [
        "行列で書くなら\n",
        "$\\left(\\begin{array}{c}A_{n+1}\\\\B_{n+1}\\end{array}\\right)\n",
        "=\n",
        "\\left(\\begin{array}{cc}p+q&2\\\\2pq&p+q\\end{array}\\right)\n",
        "\\left(\\begin{array}{c}A_n\\\\B_n\\end{array}\\right)\n",
        "$\n"
      ]
    },
    {
      "cell_type": "code",
      "metadata": {
        "id": "zP0gly5NWNbm",
        "colab_type": "code",
        "colab": {},
        "outputId": "eed36e7d-19e2-47c2-b88e-18b27df5fd13"
      },
      "source": [
        "import sympy\n",
        "n,p,q=sympy.symbols('n p q')\n",
        "R=sympy.Matrix([[p+q,2],[2*p*q,p+q]])\n",
        "v=sympy.Matrix([2,p+q])\n",
        "S=R**n*v\n",
        "\n",
        "S[0,0].subs(p,2).subs(q,3).subs(n,3).simplify()"
      ],
      "execution_count": null,
      "outputs": [
        {
          "output_type": "execute_result",
          "data": {
            "text/plain": [
              "1960"
            ]
          },
          "metadata": {
            "tags": []
          },
          "execution_count": 2
        }
      ]
    },
    {
      "cell_type": "code",
      "metadata": {
        "id": "eik0EpyHWNbr",
        "colab_type": "code",
        "colab": {},
        "outputId": "88b45e5a-6df6-410b-aebb-c8e156db0eda"
      },
      "source": [
        "S[1,0].subs(p,2).subs(q,3).subs(n,3).simplify()"
      ],
      "execution_count": null,
      "outputs": [
        {
          "output_type": "execute_result",
          "data": {
            "text/plain": [
              "4801"
            ]
          },
          "metadata": {
            "tags": []
          },
          "execution_count": 55
        }
      ]
    },
    {
      "cell_type": "code",
      "metadata": {
        "id": "IRMMmdC2WNbu",
        "colab_type": "code",
        "colab": {},
        "outputId": "f16fe493-ff63-4a45-c05b-e9dfcf16bba2"
      },
      "source": [
        "(S[1,0]-S[0,0]*sympy.sqrt(p*q)).simplify()"
      ],
      "execution_count": null,
      "outputs": [
        {
          "output_type": "execute_result",
          "data": {
            "text/plain": [
              "(p + q - 2*sqrt(p*q))**(n + 1)"
            ]
          },
          "metadata": {
            "tags": []
          },
          "execution_count": 3
        }
      ]
    },
    {
      "cell_type": "markdown",
      "metadata": {
        "id": "Rwei6B5BWNbx",
        "colab_type": "text"
      },
      "source": [
        "つまり、$(\\sqrt p+\\sqrt q)^{2n}$が$A_n\\sqrt{pq}+B_n$と書ける時、$(\\sqrt q-\\sqrt p)^{2n}$は$-A_n\\sqrt{pq}+B_n$である。$0<\\sqrt q-\\sqrt p<1$であれば、後者は0に収束する。つまり、$A_n\\sqrt{pq}\\sim B_n$が成り立つ。\n",
        "\n",
        "前者は小数点以下が1に漸近し、9がならぶ。一方、後者は0に漸近し、小数点以下に0が並ぶ。その個数はどちらも等しい。なので、$A_n, B_n$を算出し、その差の収束を見ればよい。"
      ]
    },
    {
      "cell_type": "code",
      "metadata": {
        "id": "aKtsFg-yWNbx",
        "colab_type": "code",
        "colab": {}
      },
      "source": [
        "S[1,0]-S[0,0]*sympy.sqrt(p*q)"
      ],
      "execution_count": null,
      "outputs": []
    },
    {
      "cell_type": "code",
      "metadata": {
        "id": "ZRZEiNlHWNb1",
        "colab_type": "code",
        "colab": {},
        "outputId": "1a0e89a8-2100-4228-8c59-201c3298c505"
      },
      "source": [
        "((sympy.sqrt(3)+sympy.sqrt(2))**(2*4)).expand()"
      ],
      "execution_count": null,
      "outputs": [
        {
          "output_type": "execute_result",
          "data": {
            "text/plain": [
              "1960*sqrt(6) + 4801"
            ]
          },
          "metadata": {
            "tags": []
          },
          "execution_count": 60
        }
      ]
    },
    {
      "cell_type": "code",
      "metadata": {
        "id": "Vzix73qGWNb4",
        "colab_type": "code",
        "colab": {},
        "outputId": "044d43c1-fd3b-4f6f-90c3-ae23ae6e39a4"
      },
      "source": [
        "S=R**3*v\n",
        "S.subs(p,2).subs(q,3)"
      ],
      "execution_count": null,
      "outputs": [
        {
          "output_type": "execute_result",
          "data": {
            "text/plain": [
              "Matrix([\n",
              "[1960],\n",
              "[4801]])"
            ]
          },
          "metadata": {
            "tags": []
          },
          "execution_count": 65
        }
      ]
    },
    {
      "cell_type": "code",
      "metadata": {
        "id": "Nihn_RiRWNb7",
        "colab_type": "code",
        "colab": {},
        "outputId": "358416d3-5b73-40dc-b369-9df6096ff525"
      },
      "source": [
        "from math import log\n",
        "\n",
        "def funcN(p,q,N):\n",
        "    d = q**0.5 - p**0.5\n",
        "    # d**n < 10**-N\n",
        "    # n ln d < -N ln 10\n",
        "    n = -N*log(10)/log(d)\n",
        "    n = int(n/2+1)\n",
        "    #print(n)\n",
        "    return n\n",
        "    \n",
        "\n",
        "\n",
        "NN = 2011\n",
        "sum = 0\n",
        "for p in range(1,NN):\n",
        "    q0 = int((p**0.5+1)**2)\n",
        "    for q in range(p+1,min(NN-p,q0)+1):\n",
        "        if 0< q**0.5 - p**0.5 < 1:\n",
        "            n = funcN(p,q,2011)\n",
        "            # print(p,q,n)\n",
        "            sum += n\n",
        "print(sum)"
      ],
      "execution_count": null,
      "outputs": [
        {
          "output_type": "stream",
          "text": [
            "709313889\n"
          ],
          "name": "stdout"
        }
      ]
    },
    {
      "cell_type": "markdown",
      "metadata": {
        "id": "tB8S4YtVWNb-",
        "colab_type": "text"
      },
      "source": [
        "正解"
      ]
    }
  ]
}
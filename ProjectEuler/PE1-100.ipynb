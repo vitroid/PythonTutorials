{
  "nbformat": 4,
  "nbformat_minor": 0,
  "metadata": {
    "kernelspec": {
      "display_name": "Python 3",
      "language": "python",
      "name": "python3"
    },
    "language_info": {
      "codemirror_mode": {
        "name": "ipython",
        "version": 3
      },
      "file_extension": ".py",
      "mimetype": "text/x-python",
      "name": "python",
      "nbconvert_exporter": "python",
      "pygments_lexer": "ipython3",
      "version": "3.6.5"
    },
    "colab": {
      "name": "PE1-100.ipynb",
      "provenance": [],
      "include_colab_link": true
    }
  },
  "cells": [
    {
      "cell_type": "markdown",
      "metadata": {
        "id": "view-in-github",
        "colab_type": "text"
      },
      "source": [
        "<a href=\"https://colab.research.google.com/github/vitroid/PythonTutorials/blob/master/ProjectEuler/PE1-100.ipynb\" target=\"_parent\"><img src=\"https://colab.research.google.com/assets/colab-badge.svg\" alt=\"Open In Colab\"/></a>"
      ]
    },
    {
      "cell_type": "markdown",
      "metadata": {
        "id": "gZJN7XCJWKSp",
        "colab_type": "text"
      },
      "source": [
        "## Challenges to the Project Euler\n",
        "\n",
        "https://projecteuler.net"
      ]
    },
    {
      "cell_type": "code",
      "metadata": {
        "id": "9ligF9KHWKSq",
        "colab_type": "code",
        "colab": {
          "base_uri": "https://localhost:8080/",
          "height": 34
        },
        "outputId": "0e308c1c-357a-4a97-f4ab-e60be9ce7051"
      },
      "source": [
        "#001\n",
        "sum(set(range(3,1000,3))|set(range(5,1000,5)))\n"
      ],
      "execution_count": 1,
      "outputs": [
        {
          "output_type": "execute_result",
          "data": {
            "text/plain": [
              "233168"
            ]
          },
          "metadata": {
            "tags": []
          },
          "execution_count": 1
        }
      ]
    },
    {
      "cell_type": "code",
      "metadata": {
        "id": "A8sGIQ2OWKSv",
        "colab_type": "code",
        "colab": {
          "base_uri": "https://localhost:8080/",
          "height": 34
        },
        "outputId": "24f488ec-8dc2-478a-b39a-133a801435bf"
      },
      "source": [
        "#015\n",
        "def fact(x):\n",
        "    if x<=1:\n",
        "        return x\n",
        "    else:\n",
        "        return fact(x-1)*x\n",
        "print(fact(40)//fact(20)**2)"
      ],
      "execution_count": 2,
      "outputs": [
        {
          "output_type": "stream",
          "text": [
            "137846528820\n"
          ],
          "name": "stdout"
        }
      ]
    },
    {
      "cell_type": "code",
      "metadata": {
        "id": "z8Dl99o-WKSz",
        "colab_type": "code",
        "colab": {
          "base_uri": "https://localhost:8080/",
          "height": 34
        },
        "outputId": "53bc0949-8120-49ce-ff6b-7d77be8945af"
      },
      "source": [
        "#016\n",
        "sum([int(x) for x in str(2**1000)])"
      ],
      "execution_count": 3,
      "outputs": [
        {
          "output_type": "execute_result",
          "data": {
            "text/plain": [
              "1366"
            ]
          },
          "metadata": {
            "tags": []
          },
          "execution_count": 3
        }
      ]
    },
    {
      "cell_type": "code",
      "metadata": {
        "id": "_VrAu3HDWKS2",
        "colab_type": "code",
        "colab": {
          "base_uri": "https://localhost:8080/",
          "height": 34
        },
        "outputId": "1259d786-9660-4018-82fd-45dc2f942690"
      },
      "source": [
        "#023\n",
        "# without sympy\n",
        "\n",
        "from collections import defaultdict\n",
        "\n",
        "def primefactors(x):\n",
        "    \"\"\"\n",
        "    return the list of prime factors of the given integer x\n",
        "    \"\"\"\n",
        "    for p in range(2,int(x**0.5+1)):\n",
        "        if x%p == 0:\n",
        "            return [p] + primefactors(x//p)\n",
        "    return [x]\n",
        "\n",
        "\n",
        "def list2dic(L):\n",
        "    \"\"\"\n",
        "    put the same elements in a list together\n",
        "    \n",
        "    i.e. [1,2,2,3] --> {1:1, 2:2, 3:1}\n",
        "    \"\"\"\n",
        "    d = defaultdict(int)\n",
        "    for el in L:\n",
        "        d[el] += 1\n",
        "    return d\n",
        "\n",
        "\n",
        "def allcombinations(d):\n",
        "    if len(d) == 0:\n",
        "        yield []\n",
        "    else:\n",
        "        for key in d:\n",
        "            d2 = d.copy()\n",
        "            del d2[key]\n",
        "            for i in range(d[key]+1):\n",
        "                a = [key]*i\n",
        "                for j in allcombinations(d2):\n",
        "                    yield a+j\n",
        "            return\n",
        "\n",
        "def product(L):\n",
        "    if len(L) == 1:\n",
        "        return L[0]\n",
        "    elif len(L) == 0:\n",
        "        return 0\n",
        "    else:\n",
        "        return L[0]*product(L[1:])\n",
        "\n",
        "\n",
        "    \n",
        "def isperfect(n):\n",
        "    fac = list2dic(primefactors(n))\n",
        "\n",
        "    p = 1\n",
        "    for x in allcombinations(fac):\n",
        "        p += product(x)\n",
        "\n",
        "    if p == n*2:\n",
        "        return 0  # perfect number\n",
        "    elif p < n*2:\n",
        "        return -1 # deficient number\n",
        "    return 1      # abundant number\n",
        "\n",
        "    \n",
        "def issumof2(n, L, Ls):\n",
        "    for el in L:\n",
        "        if el > n:\n",
        "            break\n",
        "        if n - el in Ls:\n",
        "            return True\n",
        "    return False\n",
        "\n",
        "        \n",
        "# list2dic(primefactors(128))\n",
        "\n",
        "abun = []\n",
        "for n in range(2,30000+1):\n",
        "    if isperfect(n) > 0:\n",
        "        abun.append(n)\n",
        "# print(abun)\n",
        "Ls = set(abun)\n",
        "\n",
        "s = 0\n",
        "for n in range(30000):\n",
        "    if issumof2(n, abun, Ls):\n",
        "        pass\n",
        "    else:\n",
        "        s += n\n",
        "print(s)\n"
      ],
      "execution_count": 6,
      "outputs": [
        {
          "output_type": "stream",
          "text": [
            "4179871\n"
          ],
          "name": "stdout"
        }
      ]
    },
    {
      "cell_type": "code",
      "metadata": {
        "id": "tL5JUYvBWKS4",
        "colab_type": "code",
        "colab": {
          "base_uri": "https://localhost:8080/",
          "height": 34
        },
        "outputId": "24f028fd-4f1a-4ac2-d376-64cf23cc357e"
      },
      "source": [
        "# 023; with sympy\n",
        "from sympy import *\n",
        "\n",
        "def isperfect(n):\n",
        "    p = sum(divisors(n))\n",
        "    if p == n*2:\n",
        "        return 0  # perfect number\n",
        "    elif p < n*2:\n",
        "        return -1 # deficient number\n",
        "    return 1      # abundant number\n",
        "\n",
        "    \n",
        "def issumof2(n, L, Ls):\n",
        "    for el in L:\n",
        "        if el > n:\n",
        "            break\n",
        "        if n - el in Ls:\n",
        "            return True\n",
        "    return False\n",
        "\n",
        "        \n",
        "# list2dic(primefactors(128))\n",
        "\n",
        "abun = []\n",
        "for n in range(2,30000+1):\n",
        "    if isperfect(n) > 0:\n",
        "        abun.append(n)\n",
        "# print(abun)\n",
        "Ls = set(abun)\n",
        "\n",
        "s = 0\n",
        "for n in range(30000):\n",
        "    if issumof2(n, abun, Ls):\n",
        "        pass\n",
        "    else:\n",
        "        s += n\n",
        "print(s)"
      ],
      "execution_count": 1,
      "outputs": [
        {
          "output_type": "stream",
          "text": [
            "4179871\n"
          ],
          "name": "stdout"
        }
      ]
    },
    {
      "cell_type": "code",
      "metadata": {
        "id": "y5Vppz6GWKS7",
        "colab_type": "code",
        "colab": {
          "base_uri": "https://localhost:8080/",
          "height": 34
        },
        "outputId": "e0dc8adc-3c33-43e6-c4ea-7f41bcdacdbd"
      },
      "source": [
        "# 24\n",
        "import itertools as it\n",
        "\n",
        "values = []\n",
        "for p in it.permutations(\"0123456789\"):\n",
        "    values.append(int(\"\".join(p)))\n",
        "print(sorted(values)[999999])"
      ],
      "execution_count": 2,
      "outputs": [
        {
          "output_type": "stream",
          "text": [
            "2783915460\n"
          ],
          "name": "stdout"
        }
      ]
    },
    {
      "cell_type": "code",
      "metadata": {
        "id": "4ITlF1XGWKS-",
        "colab_type": "code",
        "colab": {
          "base_uri": "https://localhost:8080/",
          "height": 51
        },
        "outputId": "a44d7eae-3d97-41f9-ef34-faf6157e7fcf"
      },
      "source": [
        "#049\n",
        "#!/usr/bin/env python\n",
        "\n",
        "def primes():\n",
        "    SQ = 100\n",
        "    MAX = SQ**2\n",
        "    plist = [True] * MAX\n",
        "    for i in range(2,SQ):\n",
        "        if  plist[i]:\n",
        "            for j in range(i*2,MAX,i):\n",
        "                plist[j] = False\n",
        "    pnum = []\n",
        "    for i in range(2,MAX):\n",
        "        if plist[i]:\n",
        "            pnum.append(i)\n",
        "    return pnum\n",
        "\n",
        "def letters(x):\n",
        "    s = \"{0}\".format(x)\n",
        "    return set(s)\n",
        "\n",
        "\n",
        "#test 1\n",
        "#4-letter permutation sets\n",
        "#set of letters in the\n",
        "letterset = dict()\n",
        "for i in primes():\n",
        "    if i > 999:\n",
        "        set_of_letters = frozenset(letters(i))\n",
        "        if set_of_letters not in letterset:\n",
        "            letterset[set_of_letters] = []\n",
        "        letterset[set_of_letters].append(i)\n",
        "\n",
        "import itertools as it\n",
        "for set_of_letters in letterset:\n",
        "    if len(letterset[set_of_letters]) >= 3:\n",
        "        for a,b,c in it.combinations(letterset[set_of_letters],3):\n",
        "            if a-b == b-c:\n",
        "                print(a,b,c)\n"
      ],
      "execution_count": 3,
      "outputs": [
        {
          "output_type": "stream",
          "text": [
            "1487 4817 8147\n",
            "2969 6299 9629\n"
          ],
          "name": "stdout"
        }
      ]
    },
    {
      "cell_type": "code",
      "metadata": {
        "id": "8qqMxwctWKTB",
        "colab_type": "code",
        "colab": {
          "base_uri": "https://localhost:8080/",
          "height": 34
        },
        "outputId": "9e7e553d-18ac-4007-c40f-0e7df56102a8"
      },
      "source": [
        "#056\n",
        "m = 0\n",
        "for a in range(100):\n",
        "    for b in range(100):\n",
        "        d = [int(c) for c in str(a**b)]\n",
        "        e = sum(d)\n",
        "        if m < e:\n",
        "            m, ma, mb = e, a, b\n",
        "print(ma,mb,m)"
      ],
      "execution_count": 4,
      "outputs": [
        {
          "output_type": "stream",
          "text": [
            "99 95 972\n"
          ],
          "name": "stdout"
        }
      ]
    },
    {
      "cell_type": "code",
      "metadata": {
        "id": "njgZrbu1WKTE",
        "colab_type": "code",
        "colab": {
          "base_uri": "https://localhost:8080/",
          "height": 34
        },
        "outputId": "a4569a03-361b-41a2-c6fe-afb7cf99af92"
      },
      "source": [
        "#071\n",
        "import fractions\n",
        "N = 1000000\n",
        "m = 1\n",
        "num = set()\n",
        "v0 = fractions.Fraction(3,7)\n",
        "for i in range(N,0,-1):\n",
        "    j = i*3//7\n",
        "    v1 = fractions.Fraction(j,i)\n",
        "    if v1 != v0:\n",
        "        if v0 - v1 < m:\n",
        "            m = v0-v1\n",
        "            mv = v1\n",
        "print(mv)\n"
      ],
      "execution_count": 5,
      "outputs": [
        {
          "output_type": "stream",
          "text": [
            "428570/999997\n"
          ],
          "name": "stdout"
        }
      ]
    },
    {
      "cell_type": "code",
      "metadata": {
        "id": "gZtb3Cg0WKTG",
        "colab_type": "code",
        "colab": {
          "base_uri": "https://localhost:8080/",
          "height": 1000
        },
        "outputId": "913a2f29-bb48-472b-d8c4-b1e1e59f488f"
      },
      "source": [
        "#077\n",
        "\n",
        "def primes(x):\n",
        "    sieve = [True for i in range(x)]\n",
        "    for i in range(2,x):\n",
        "        if sieve[i]:\n",
        "            for j in range(2*i,x,i):\n",
        "                sieve[j] = False\n",
        "    p = []\n",
        "    for i in range(2,x):\n",
        "        if sieve[i]:\n",
        "            p.append(i)\n",
        "    return p\n",
        "\n",
        "numsumcache = dict()\n",
        "\n",
        "\n",
        "def numsum(x,maxp):\n",
        "    if (x,maxp) in numsumcache:\n",
        "        return numsumcache[(x,maxp)]\n",
        "    count = 0\n",
        "    for i in p:\n",
        "        if i <= maxp:\n",
        "            if i<x:\n",
        "                count += numsum(x-i,min(i,maxp))\n",
        "            elif i==x:\n",
        "                #print(x,maxp,seq+[i])\n",
        "                count += 1\n",
        "    numsumcache[(x,maxp)] = count\n",
        "    return count\n",
        "\n",
        "p = primes(5000)\n",
        "i = 2\n",
        "while numsum(i,i) < 5100:\n",
        "    print(i,numsum(i,i))\n",
        "    i+=1"
      ],
      "execution_count": 6,
      "outputs": [
        {
          "output_type": "stream",
          "text": [
            "2 1\n",
            "3 1\n",
            "4 1\n",
            "5 2\n",
            "6 2\n",
            "7 3\n",
            "8 3\n",
            "9 4\n",
            "10 5\n",
            "11 6\n",
            "12 7\n",
            "13 9\n",
            "14 10\n",
            "15 12\n",
            "16 14\n",
            "17 17\n",
            "18 19\n",
            "19 23\n",
            "20 26\n",
            "21 30\n",
            "22 35\n",
            "23 40\n",
            "24 46\n",
            "25 52\n",
            "26 60\n",
            "27 67\n",
            "28 77\n",
            "29 87\n",
            "30 98\n",
            "31 111\n",
            "32 124\n",
            "33 140\n",
            "34 157\n",
            "35 175\n",
            "36 197\n",
            "37 219\n",
            "38 244\n",
            "39 272\n",
            "40 302\n",
            "41 336\n",
            "42 372\n",
            "43 413\n",
            "44 456\n",
            "45 504\n",
            "46 557\n",
            "47 614\n",
            "48 677\n",
            "49 744\n",
            "50 819\n",
            "51 899\n",
            "52 987\n",
            "53 1083\n",
            "54 1186\n",
            "55 1298\n",
            "56 1420\n",
            "57 1552\n",
            "58 1695\n",
            "59 1850\n",
            "60 2018\n",
            "61 2198\n",
            "62 2394\n",
            "63 2605\n",
            "64 2833\n",
            "65 3079\n",
            "66 3344\n",
            "67 3630\n",
            "68 3936\n",
            "69 4268\n",
            "70 4624\n",
            "71 5007\n"
          ],
          "name": "stdout"
        }
      ]
    },
    {
      "cell_type": "code",
      "metadata": {
        "id": "L5R40ls9WKTM",
        "colab_type": "code",
        "colab": {
          "base_uri": "https://localhost:8080/",
          "height": 836
        },
        "outputId": "d95a33bb-bd2e-494c-8847-ec159b1fe820"
      },
      "source": [
        "#095\n",
        "#divisors\n",
        "import itertools\n",
        "import time\n",
        "\n",
        "divcache = dict()\n",
        "divcache[1] = set([1])\n",
        "p = set()\n",
        "\n",
        "def divisors(x):\n",
        "    if x in divcache:\n",
        "        return divcache[x]\n",
        "    sqx = int(x**0.5)+1\n",
        "    for pn in range(2,sqx):\n",
        "        if x % pn == 0:\n",
        "            s = set()\n",
        "            for j in divisors(x//pn):\n",
        "                for k in divisors(pn):\n",
        "                    s.add(j*k)\n",
        "            divcache[x] = s\n",
        "            return s\n",
        "    #print(\"{0} is a prime number.\".format(x),p)\n",
        "    p.add(x)\n",
        "    divcache[x] = set([1,x])\n",
        "    return (1,x)\n",
        "\n",
        "#make divisors list\n",
        "#1000: 0.007 sec  \n",
        "#10000: 0.092 sec\n",
        "#100000: 1.370 sec\n",
        "#1000000: 24.719 sec\n",
        "\n",
        "now = time.time()\n",
        "N = 1000000\n",
        "for i in range(1,N+1):\n",
        "    divisors(i)\n",
        "print(\"{0:.3f} sec\".format(time.time() - now))\n",
        "\n",
        "chain = dict()\n",
        "#make admissible chain\n",
        "for i in range(1,N+1):\n",
        "    s = sum(divisors(i)) - i\n",
        "    chain[i] = s\n",
        "\n",
        "inspected = set([0])\n",
        "for i in range(1,N+1):\n",
        "    if i in inspected:\n",
        "        continue\n",
        "    n = i\n",
        "    path = dict()\n",
        "    while n not in (0,1):\n",
        "        if n in inspected:\n",
        "            if n in path:\n",
        "                #extract the loop\n",
        "                cycle = []\n",
        "                while n not in cycle:\n",
        "                    cycle.append(n)\n",
        "                    n = chain[n]\n",
        "                print(cycle,len(cycle))\n",
        "            break\n",
        "        inspected.add(n)\n",
        "        path[n] = chain[n]\n",
        "        n = chain[n]\n",
        "        if n > N:\n",
        "            break\n"
      ],
      "execution_count": 7,
      "outputs": [
        {
          "output_type": "stream",
          "text": [
            "14.357 sec\n",
            "[6] 1\n",
            "[28] 1\n",
            "[220, 284] 2\n",
            "[496] 1\n",
            "[1184, 1210] 2\n",
            "[2924, 2620] 2\n",
            "[5020, 5564] 2\n",
            "[14316, 19116, 31704, 47616, 83328, 177792, 295488, 629072, 589786, 294896, 358336, 418904, 366556, 274924, 275444, 243760, 376736, 381028, 285778, 152990, 122410, 97946, 48976, 45946, 22976, 22744, 19916, 17716] 28\n",
            "[6232, 6368] 2\n",
            "[8128] 1\n",
            "[12496, 14288, 15472, 14536, 14264] 5\n",
            "[10744, 10856] 2\n",
            "[12285, 14595] 2\n",
            "[17296, 18416] 2\n",
            "[76084, 63020] 2\n",
            "[185368, 203432] 2\n",
            "[66928, 66992] 2\n",
            "[67095, 71145] 2\n",
            "[69615, 87633] 2\n",
            "[79750, 88730] 2\n",
            "[100485, 124155] 2\n",
            "[122265, 139815] 2\n",
            "[122368, 123152] 2\n",
            "[141664, 153176] 2\n",
            "[142310, 168730] 2\n",
            "[280540, 365084] 2\n",
            "[171856, 176336] 2\n",
            "[176272, 180848] 2\n",
            "[196724, 202444] 2\n",
            "[635624, 712216] 2\n",
            "[455344, 437456] 2\n",
            "[901424, 879712] 2\n",
            "[308620, 389924] 2\n",
            "[319550, 430402] 2\n",
            "[624184, 691256] 2\n",
            "[356408, 399592] 2\n",
            "[503056, 514736] 2\n",
            "[469028, 486178] 2\n",
            "[898216, 980984] 2\n",
            "[609928, 686072] 2\n",
            "[522405, 525915] 2\n",
            "[600392, 669688] 2\n",
            "[643336, 652664] 2\n",
            "[667964, 783556] 2\n",
            "[726104, 796696] 2\n",
            "[802725, 863835] 2\n"
          ],
          "name": "stdout"
        }
      ]
    },
    {
      "cell_type": "code",
      "metadata": {
        "id": "eaT7Hm8qWKTP",
        "colab_type": "code",
        "colab": {
          "base_uri": "https://localhost:8080/",
          "height": 236
        },
        "outputId": "d18c3ead-c97e-4f69-ce3d-05b88c6ef67a"
      },
      "source": [
        "#096\n",
        "#sudoku solver\n",
        "\n",
        "\n",
        "\n",
        "\n",
        "groups = []\n",
        "nodeg = dict()\n",
        "for gx in range(3):\n",
        "    for gy in range(3):\n",
        "        grids = []\n",
        "        for px in range(3):\n",
        "            for py in range(3):\n",
        "                grids.append((gx*3+px, gy*3+py))\n",
        "        groups.append(frozenset(grids))\n",
        "for row in range(9):\n",
        "    grids = []\n",
        "    for x in range(9):\n",
        "        grids.append((x,row))\n",
        "    groups.append(frozenset(grids))\n",
        "for column in range(9):\n",
        "    grids = []\n",
        "    for y in range(9):\n",
        "        grids.append((column,y))\n",
        "    groups.append(frozenset(grids))\n",
        "for group in groups:\n",
        "    for node in group:\n",
        "        nodeg[node] = set()\n",
        "for group in groups:\n",
        "    for node in group:\n",
        "        nodeg[node].add(group)\n",
        "\n",
        "\n",
        "\n",
        "def drawmap(map,zoom):\n",
        "    print(\"#---------+---------+---------#---------+---------+---------#---------+---------+---------#\")\n",
        "    for y in range(9):\n",
        "        line = \"|\"\n",
        "        for x in range(9):\n",
        "            for s in range(1,10):\n",
        "                if s in map[x][y]:\n",
        "                    line += (\"%1s\"%s)\n",
        "                else:\n",
        "                    line += \" \"\n",
        "            line += \"|\"\n",
        "        print(line)\n",
        "        if y%3 == 2:\n",
        "            print(\"#---------+---------+---------#---------+---------+---------#---------+---------+---------#\")\n",
        "\n",
        "\n",
        "def statmap(map):\n",
        "    m = 0\n",
        "    for x in range(9):\n",
        "        for y in range(9):\n",
        "            if m < len(map[x][y]):\n",
        "                m = len(map[x][y])\n",
        "    return m\n",
        "\n",
        "    \n",
        "\n",
        "def reduceset(x,y,valueset,map,queue):\n",
        "    orig = len(map[x][y])\n",
        "    map[x][y] -= valueset\n",
        "    if len(map[x][y]) == 1 and orig > 1:\n",
        "        memb = list(map[x][y])\n",
        "        queue.append((\"force\",(x,y),memb[0]))\n",
        "    return len(map[x][y])\n",
        "        \n",
        "\n",
        "\n",
        "def setvalue(x,y,valueset,map,queue):\n",
        "    err = False\n",
        "    for group in nodeg[(x,y)]:\n",
        "        for nx,ny in group:\n",
        "            if (nx,ny) != (x,y):\n",
        "                if 0 == reduceset(nx,ny,valueset,map,queue):\n",
        "                    err = True\n",
        "    map[x][y] = valueset\n",
        "    return err\n",
        "\n",
        "#solitary number can be fixed.\n",
        "def solitary(grids,map,queue):\n",
        "    count = [0] * 10\n",
        "    for x,y in grids:\n",
        "        if len(map[x][y]) != 1:\n",
        "            for memb in map[x][y]:\n",
        "                count[memb] += 1\n",
        "    nums = []\n",
        "    for i in range(10):\n",
        "        if count[i] == 1:\n",
        "            nums.append(i)\n",
        "    for num in nums:\n",
        "        for x,y in grids:\n",
        "            if num in map[x][y]:\n",
        "                queue.append((\"force\",(x,y),num))\n",
        "\n",
        "\n",
        "def process(queue,map,mode):\n",
        "    global groups\n",
        "    err = False\n",
        "    if mode == 0:\n",
        "        if len(queue) > 0:\n",
        "            command = queue.pop(0)\n",
        "            if command[0] == \"set\":\n",
        "                x,y = command[1]\n",
        "                value = set((command[2],))\n",
        "                if len(map[x][y]) > 1:\n",
        "                    err = setvalue(x,y,value,map,queue)            \n",
        "            elif command[0] == \"force\":\n",
        "                x,y = command[1]\n",
        "                value = set((command[2],))\n",
        "                err = setvalue(x,y,value,map,queue)\n",
        "        return err\n",
        "    #solitary number in a group. Required for level 3\n",
        "    if mode > 0:\n",
        "        while True:\n",
        "            for group in groups:\n",
        "                solitary(group,map,queue)\n",
        "            if len(queue) == 0:\n",
        "                break\n",
        "            else:\n",
        "                while len(queue)>0:\n",
        "                    if process(queue,map,0):\n",
        "                        err = True\n",
        "        return err\n",
        "\n",
        "\n",
        "def setup():\n",
        "    global cursor,map,zoom,queue,mode\n",
        "    cursor = None\n",
        "    map = [[set([1,2,3,4,5,6,7,8,9]) for i in range(9)] for j in range(9)]\n",
        "    zoom = 60 #size of one square\n",
        "    queue = []\n",
        "    mode = 0\n",
        "    queue.insert(0,(\"set\",(0,0),8))\n",
        "    queue.insert(0,(\"set\",(1,2),7))\n",
        "    queue.insert(0,(\"set\",(1,3),5))\n",
        "    queue.insert(0,(\"set\",(1,8),9))\n",
        "    queue.insert(0,(\"set\",(2,1),3))\n",
        "    queue.insert(0,(\"set\",(2,6),1))\n",
        "    queue.insert(0,(\"set\",(2,7),8))\n",
        "    queue.insert(0,(\"set\",(3,1),6))\n",
        "    queue.insert(0,(\"set\",(3,5),1))\n",
        "    queue.insert(0,(\"set\",(3,7),5))\n",
        "    queue.insert(0,(\"set\",(4,2),9))\n",
        "    queue.insert(0,(\"set\",(4,4),4))\n",
        "    queue.insert(0,(\"set\",(5,3),7))\n",
        "    queue.insert(0,(\"set\",(5,4),5))\n",
        "    queue.insert(0,(\"set\",(6,2),2))\n",
        "    queue.insert(0,(\"set\",(6,4),7))\n",
        "    queue.insert(0,(\"set\",(6,8),4))\n",
        "    queue.insert(0,(\"set\",(7,5),3))\n",
        "    queue.insert(0,(\"set\",(7,6),6))\n",
        "    queue.insert(0,(\"set\",(7,7),1))\n",
        "    queue.insert(0,(\"set\",(8,6),8))\n",
        "\n",
        "    \n",
        "    \n",
        "def setup_for_PE(file):\n",
        "    global cursor,map,zoom,queue,mode\n",
        "    cursor = None\n",
        "    map = [[set([1,2,3,4,5,6,7,8,9]) for i in range(9)] for j in range(9)]\n",
        "    zoom = 60 #size of one square\n",
        "    queue = []\n",
        "    mode = 0\n",
        "    line = file.readline()\n",
        "    for i in range(9):\n",
        "        line = file.readline()\n",
        "        for j in range(9):\n",
        "            ch = line[j]\n",
        "            v  = int(ch)\n",
        "            if v != 0:\n",
        "                queue.insert(0,(\"set\",(j,i),v))\n",
        "\n",
        "\n",
        "\n",
        "def assume(map):\n",
        "    queue = []\n",
        "    for x in range(9):\n",
        "        for y in range(9):\n",
        "            if len(map[x][y]) > 1:\n",
        "                nsolution = 0\n",
        "                nfail = 0\n",
        "                for v in map[x][y]:\n",
        "                    print(\"assumption ({0},{1})=={2}:\".format(x,y,v))\n",
        "                    mapcopy = [[set(map[j][i]) for i in range(9)] for j in range(9)]\n",
        "                    queue.append((\"set\",(x,y),v))\n",
        "                    err = False\n",
        "                    while len(queue)>0:\n",
        "                        if process(queue,mapcopy,mode):\n",
        "                            err = True\n",
        "                    if not err:\n",
        "                        status = statmap(mapcopy)\n",
        "                        if status > 1:\n",
        "                            ns,nf = assume(mapcopy)\n",
        "                            nsolution += ns\n",
        "                            nfail += nf\n",
        "                        else:\n",
        "                            #drawmap(mapcopy,zoom)\n",
        "                            nsolution += 1\n",
        "                    else:\n",
        "                        print(\"failed.\")\n",
        "                        nfail += 1\n",
        "                return nsolution,nfail\n",
        "    return 1,0\n",
        "\n",
        "#setup()\n",
        "file = open(\"096sudoku.txt\")\n",
        "for i in range(50):\n",
        "    setup_for_PE(file)\n",
        "\n",
        "    mode = 1\n",
        "    while len(queue)>0:\n",
        "        process(queue,map,mode)\n",
        "    #drawmap(map,zoom)\n",
        "\n",
        "    #assumptions\n",
        "    #save the map\n",
        "    assume(map)\n",
        "    nsol, nfail = assume(map)\n",
        "    drawmap(map,zoom)\n",
        "    print(map[0][0],map[1][0],map[2][0])\n",
        "\n",
        "    #print(list(map[0][0])[0],list(map[1][0])[0],list(map[2][0])[0])"
      ],
      "execution_count": 8,
      "outputs": [
        {
          "output_type": "error",
          "ename": "FileNotFoundError",
          "evalue": "ignored",
          "traceback": [
            "\u001b[0;31m---------------------------------------------------------------------------\u001b[0m",
            "\u001b[0;31mFileNotFoundError\u001b[0m                         Traceback (most recent call last)",
            "\u001b[0;32m<ipython-input-8-ba6d362de3d4>\u001b[0m in \u001b[0;36m<module>\u001b[0;34m()\u001b[0m\n\u001b[1;32m    206\u001b[0m \u001b[0;34m\u001b[0m\u001b[0m\n\u001b[1;32m    207\u001b[0m \u001b[0;31m#setup()\u001b[0m\u001b[0;34m\u001b[0m\u001b[0;34m\u001b[0m\u001b[0;34m\u001b[0m\u001b[0m\n\u001b[0;32m--> 208\u001b[0;31m \u001b[0mfile\u001b[0m \u001b[0;34m=\u001b[0m \u001b[0mopen\u001b[0m\u001b[0;34m(\u001b[0m\u001b[0;34m\"096sudoku.txt\"\u001b[0m\u001b[0;34m)\u001b[0m\u001b[0;34m\u001b[0m\u001b[0;34m\u001b[0m\u001b[0m\n\u001b[0m\u001b[1;32m    209\u001b[0m \u001b[0;32mfor\u001b[0m \u001b[0mi\u001b[0m \u001b[0;32min\u001b[0m \u001b[0mrange\u001b[0m\u001b[0;34m(\u001b[0m\u001b[0;36m50\u001b[0m\u001b[0;34m)\u001b[0m\u001b[0;34m:\u001b[0m\u001b[0;34m\u001b[0m\u001b[0;34m\u001b[0m\u001b[0m\n\u001b[1;32m    210\u001b[0m     \u001b[0msetup_for_PE\u001b[0m\u001b[0;34m(\u001b[0m\u001b[0mfile\u001b[0m\u001b[0;34m)\u001b[0m\u001b[0;34m\u001b[0m\u001b[0;34m\u001b[0m\u001b[0m\n",
            "\u001b[0;31mFileNotFoundError\u001b[0m: [Errno 2] No such file or directory: '096sudoku.txt'"
          ]
        }
      ]
    },
    {
      "cell_type": "code",
      "metadata": {
        "id": "O3eb4OlPWKTR",
        "colab_type": "code",
        "colab": {
          "base_uri": "https://localhost:8080/",
          "height": 34
        },
        "outputId": "55286358-9949-432b-a7a6-6ede12936742"
      },
      "source": [
        "# 97\n",
        "import sympy\n",
        "# 28433*2**7830455 + 1 % 10 000 000 000\n",
        "# sympy.factorint(7830455)\n",
        "# 5*17*17*5419\n",
        "\n",
        "a = (2**(5419))   %10000000000\n",
        "b = (a**(5*17*17))%10000000000\n",
        "(28433*4*b+1)       %10000000000"
      ],
      "execution_count": 9,
      "outputs": [
        {
          "output_type": "execute_result",
          "data": {
            "text/plain": [
              "8739992577"
            ]
          },
          "metadata": {
            "tags": []
          },
          "execution_count": 9
        }
      ]
    },
    {
      "cell_type": "code",
      "metadata": {
        "id": "kHoOazQuWKTT",
        "colab_type": "code",
        "colab": {}
      },
      "source": [
        "#100\n",
        "#Too slow to solve the real problem.\n",
        "\n",
        "import fractions\n",
        "for i in range(10**4,10**5):\n",
        "    j = int(i/2**0.5)+1\n",
        "    f = fractions.Fraction((i*(i-1)),(j*(j-1)))\n",
        "    if f==2:\n",
        "        print(i)\n",
        "\n",
        "    \n",
        "    "
      ],
      "execution_count": null,
      "outputs": []
    },
    {
      "cell_type": "code",
      "metadata": {
        "id": "qamc7nxQWKTW",
        "colab_type": "code",
        "colab": {}
      },
      "source": [
        ""
      ],
      "execution_count": null,
      "outputs": []
    }
  ]
}
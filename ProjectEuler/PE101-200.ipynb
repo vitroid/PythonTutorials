{
  "nbformat": 4,
  "nbformat_minor": 0,
  "metadata": {
    "kernelspec": {
      "display_name": "Python 3",
      "language": "python",
      "name": "python3"
    },
    "language_info": {
      "codemirror_mode": {
        "name": "ipython",
        "version": 3
      },
      "file_extension": ".py",
      "mimetype": "text/x-python",
      "name": "python",
      "nbconvert_exporter": "python",
      "pygments_lexer": "ipython3",
      "version": "3.4.2"
    },
    "colab": {
      "name": "PE101-200.ipynb",
      "provenance": [],
      "include_colab_link": true
    }
  },
  "cells": [
    {
      "cell_type": "markdown",
      "metadata": {
        "id": "view-in-github",
        "colab_type": "text"
      },
      "source": [
        "<a href=\"https://colab.research.google.com/github/vitroid/PythonTutorials/blob/master/ProjectEuler/PE101-200.ipynb\" target=\"_parent\"><img src=\"https://colab.research.google.com/assets/colab-badge.svg\" alt=\"Open In Colab\"/></a>"
      ]
    },
    {
      "cell_type": "code",
      "metadata": {
        "id": "foMXQ5XYWLnQ",
        "colab_type": "code",
        "colab": {}
      },
      "source": [
        "#127\n",
        "#unsolved; takes too long time.\n",
        "\n",
        "def primes(x):\n",
        "    sieve = [True for i in range(x)]\n",
        "    for i in range(2,x):\n",
        "        if sieve[i]:\n",
        "            for j in range(2*i,x,i):\n",
        "                sieve[j] = False\n",
        "    p = []\n",
        "    for i in range(2,x):\n",
        "        if sieve[i]:\n",
        "            p.append(i)\n",
        "    return p\n",
        "\n",
        "\n",
        "def factors(x):\n",
        "    if x == 1:\n",
        "        return []\n",
        "    for i in p:\n",
        "        if x < i:\n",
        "            break\n",
        "        if x%i == 0:\n",
        "            return [i,]+factors(x//i)\n",
        "    return [x,]\n",
        "\n",
        "\n",
        "f0cache = dict()\n",
        "def factors0(x):\n",
        "    if x in f0cache:\n",
        "        return f0cache[x]\n",
        "    v = set()\n",
        "    i = 0\n",
        "    while x != 1:\n",
        "        while x%p[i] == 0:\n",
        "            x //= p[i]\n",
        "            v.add(p[i])\n",
        "        i+=1\n",
        "    v = frozenset(v)\n",
        "    f0cache[x] = v\n",
        "    return v\n",
        "\n",
        "\n",
        "def prod(x):\n",
        "    p = 1\n",
        "    for i in x:\n",
        "        p *= i\n",
        "    return p\n",
        "\n",
        "radcache = dict()\n",
        "def rad(x):\n",
        "    if x in radcache:\n",
        "        return radcache[x]\n",
        "    v = prod(factors0(x))\n",
        "    radcache[x] = v\n",
        "    return v\n",
        "\n",
        "p = primes(10000)\n",
        "#print(factors(504))\n",
        "#print(rad(504))\n",
        "N=10000\n",
        "csum = 0\n",
        "for a in range(1,N+1):\n",
        "    af = factors0(a)\n",
        "    ar = rad(prod(af))\n",
        "    for b in range(a+1,N+1-a):\n",
        "        bf = factors0(b)\n",
        "        br = rad(prod(bf))\n",
        "        abf = af&bf\n",
        "        if len(abf) == 0:\n",
        "            c=a+b\n",
        "            cf = factors0(c)\n",
        "            cr = rad(prod(cf))\n",
        "            acf = af&cf\n",
        "            bcf = bf&cf\n",
        "            if len(acf|bcf)==0:\n",
        "                if ar*br*cr < c:\n",
        "                    print(a,b,a*b*c,c,len(radcache))\n",
        "                    csum += c\n",
        "print(csum)"
      ],
      "execution_count": null,
      "outputs": []
    },
    {
      "cell_type": "code",
      "metadata": {
        "id": "x-9CFt-rWLnV",
        "colab_type": "code",
        "colab": {}
      },
      "source": [
        "#112\n",
        "\n",
        "def isBouncy(x):\n",
        "    s = \"{0}\".format(x)\n",
        "    dec = False\n",
        "    inc = False\n",
        "    for i in range(len(s)-1):\n",
        "        if s[i] < s[i+1]:\n",
        "            inc = True\n",
        "        elif s[i] > s[i+1]:\n",
        "            dec = True\n",
        "        if inc and dec:\n",
        "            return True\n",
        "    return False\n",
        "\n",
        "\n",
        "c=0\n",
        "b=50\n",
        "for i in range(10000000):\n",
        "    if isBouncy(i):\n",
        "        c += 1\n",
        "        if 100*c >= i*b:\n",
        "            print(c,i,c/i)\n",
        "            b += 1\n",
        "            if b==100:\n",
        "                break\n"
      ],
      "execution_count": null,
      "outputs": []
    },
    {
      "cell_type": "markdown",
      "metadata": {
        "id": "bUNaXjMjWLnY",
        "colab_type": "text"
      },
      "source": [
        "##142\n",
        "$x>y>z$\n",
        "\n",
        "$a^2=x+y,b^2=x-y,c^2=y+z,d^2=y-z,e^2=x+z,f^2=x-z$\n",
        "\n",
        "$a^2b^2=x^2-y^2,c^2d^2=y^2-z^2,e^2f^2=x^2-z^2$\n",
        "\n",
        "$a^2b^2+c^2d^2=e^2f^2$\n",
        "\n",
        "$ab<ef, cd<ef$\n",
        "\n",
        "$x+y>x-y,x+y>y+z,x+y>y-z,x+y>x+z,x+y>x-z,x-z>x-y,y+z>y-z,x+z>y+z,x-z>y-z,x+z>x-z$\n",
        "\n",
        "$a>e>c>d, e>f>d, f>b$\n",
        "\n",
        "\n",
        "\n"
      ]
    },
    {
      "cell_type": "code",
      "metadata": {
        "id": "MWcqY3skWLnY",
        "colab_type": "code",
        "colab": {},
        "outputId": "30b45ce1-c76a-4ff3-9a5b-30e15ec7ae8b"
      },
      "source": [
        "#142 takes too long time. gave up. 2015-6-29\n",
        "\n",
        "def divisors(x,cap=0):\n",
        "    mn = 1\n",
        "    mx = int(x**0.5)\n",
        "    if cap != 0:\n",
        "        mn = x // cap + 1\n",
        "    d = set()\n",
        "    for b in range(mn,mx+1):\n",
        "        if x % b == 0:\n",
        "            d.add((x//b,b))\n",
        "    return d\n",
        "\n",
        "import sys\n",
        "N=100000\n",
        "for ab in range(1,N):\n",
        "    for cd in range(1,N):\n",
        "        ef = (ab**2 + cd**2)**0.5\n",
        "        if ef % 1 == 0:\n",
        "            ef = int(ef)\n",
        "            for a,b in divisors(ab):\n",
        "                a2b2 = a**2 + b**2\n",
        "                a2mb2 = a**2 - b**2\n",
        "                for e,f in divisors(ef,cap=a):\n",
        "                    e2f2 = e**2 + f**2\n",
        "                    if e > f > b and a2b2 == e2f2:\n",
        "                        for c,d in divisors(cd,cap=e):\n",
        "                            c2d2 = c**2 + d**2\n",
        "                            if e>c>d and f>d and c2d2==a2mb2:\n",
        "                                print(a,b,c,d,e,f)\n",
        "                                print(ab,cd,ef)\n",
        "                                x1 = (a**2 + b**2)/2\n",
        "                                y1 = (a**2 - b**2)/2\n",
        "                                y2 = (c**2 + d**2)/2\n",
        "                                z1 = (c**2 - d**2)/2\n",
        "                                z2 = (e**2 - f**2)/2\n",
        "                                x2 = (e**2 + f**2)/2\n",
        "                                print(x1,x2,y1,y2,z1,z2)\n",
        "\n",
        "                        \n",
        "\n"
      ],
      "execution_count": null,
      "outputs": [
        {
          "output_type": "error",
          "ename": "KeyboardInterrupt",
          "evalue": "",
          "traceback": [
            "\u001b[0;31m---------------------------------------------------------------------------\u001b[0m",
            "\u001b[0;31mKeyboardInterrupt\u001b[0m                         Traceback (most recent call last)",
            "\u001b[0;32m<ipython-input-90-a656efdfb079>\u001b[0m in \u001b[0;36m<module>\u001b[0;34m()\u001b[0m\n\u001b[1;32m     16\u001b[0m \u001b[0;32mfor\u001b[0m \u001b[0mab\u001b[0m \u001b[0;32min\u001b[0m \u001b[0mrange\u001b[0m\u001b[0;34m(\u001b[0m\u001b[0;36m1\u001b[0m\u001b[0;34m,\u001b[0m\u001b[0mN\u001b[0m\u001b[0;34m)\u001b[0m\u001b[0;34m:\u001b[0m\u001b[0;34m\u001b[0m\u001b[0m\n\u001b[1;32m     17\u001b[0m     \u001b[0;32mfor\u001b[0m \u001b[0mcd\u001b[0m \u001b[0;32min\u001b[0m \u001b[0mrange\u001b[0m\u001b[0;34m(\u001b[0m\u001b[0;36m1\u001b[0m\u001b[0;34m,\u001b[0m\u001b[0mN\u001b[0m\u001b[0;34m)\u001b[0m\u001b[0;34m:\u001b[0m\u001b[0;34m\u001b[0m\u001b[0m\n\u001b[0;32m---> 18\u001b[0;31m         \u001b[0mef\u001b[0m \u001b[0;34m=\u001b[0m \u001b[0;34m(\u001b[0m\u001b[0mab\u001b[0m\u001b[0;34m**\u001b[0m\u001b[0;36m2\u001b[0m \u001b[0;34m+\u001b[0m \u001b[0mcd\u001b[0m\u001b[0;34m**\u001b[0m\u001b[0;36m2\u001b[0m\u001b[0;34m)\u001b[0m\u001b[0;34m**\u001b[0m\u001b[0;36m0.5\u001b[0m\u001b[0;34m\u001b[0m\u001b[0m\n\u001b[0m\u001b[1;32m     19\u001b[0m         \u001b[0;32mif\u001b[0m \u001b[0mef\u001b[0m \u001b[0;34m%\u001b[0m \u001b[0;36m1\u001b[0m \u001b[0;34m==\u001b[0m \u001b[0;36m0\u001b[0m\u001b[0;34m:\u001b[0m\u001b[0;34m\u001b[0m\u001b[0m\n\u001b[1;32m     20\u001b[0m             \u001b[0mef\u001b[0m \u001b[0;34m=\u001b[0m \u001b[0mint\u001b[0m\u001b[0;34m(\u001b[0m\u001b[0mef\u001b[0m\u001b[0;34m)\u001b[0m\u001b[0;34m\u001b[0m\u001b[0m\n",
            "\u001b[0;31mKeyboardInterrupt\u001b[0m: "
          ]
        }
      ]
    },
    {
      "cell_type": "code",
      "metadata": {
        "id": "ntEJRzgyWLnd",
        "colab_type": "code",
        "colab": {}
      },
      "source": [
        ""
      ],
      "execution_count": null,
      "outputs": []
    }
  ]
}
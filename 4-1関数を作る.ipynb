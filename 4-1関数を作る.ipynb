{
 "cells": [
  {
   "cell_type": "markdown",
   "metadata": {},
   "source": [
    "#関数を作る\n",
    "Pythonのプログラムの中で、”exp”(指数関数)とか”len”(文字列の長さを数える関数)とか、いろんな「関数」と呼ばれるものが出てきます。数学ででてくる関数は、数値パラメータを、別の値(数値、ベクトルなど)に変換するものでした。例えばsin(x)はxをパラメータとし、正弦値を値とします。\n",
    "\n",
    "Pythonでいう関数は、ひらたくいえば、「複雑な手続きをひとまとめにして、それに名前をつけたもの」です。数学の関数ももちろん含まれますが、もっといろんなものを関数にまとめることができます。\n",
    "\n",
    "前回、1から10までの和を計算するプログラムを書きました。"
   ]
  },
  {
   "cell_type": "code",
   "execution_count": null,
   "metadata": {
    "collapsed": false
   },
   "outputs": [],
   "source": [
    "x=0\n",
    "for i in range(1,11):\n",
    "    x += i\n",
    "print(x)"
   ]
  },
  {
   "cell_type": "markdown",
   "metadata": {},
   "source": [
    "10まででなく、nまでの総和を計算したいなら、"
   ]
  },
  {
   "cell_type": "code",
   "execution_count": null,
   "metadata": {
    "collapsed": false
   },
   "outputs": [],
   "source": [
    "n=eval(input(\"n=?\"))\n",
    "x=0\n",
    "for i in range(1,n+1):\n",
    "    x += i\n",
    "print(x)"
   ]
  },
  {
   "cell_type": "markdown",
   "metadata": {},
   "source": [
    "と書きかえます。\n",
    "\n",
    "でも、もしnまでの和を計算する関数sumto(n)があらかじめ準備されていたとしたら、プログラムはもっと短く書けます。"
   ]
  },
  {
   "cell_type": "code",
   "execution_count": null,
   "metadata": {
    "collapsed": false
   },
   "outputs": [],
   "source": [
    "n=eval(input(\"n=?\"))\n",
    "print(sumto(n))"
   ]
  },
  {
   "cell_type": "markdown",
   "metadata": {},
   "source": [
    "こう書けば、計算の手順をforを使って書くよりも、何をやろうとしているのかわかりやすくなりますよね。残念ながら、Pythonにはsumto(x)という関数はありません。そこで、自分で関数を定義します。"
   ]
  },
  {
   "cell_type": "code",
   "execution_count": null,
   "metadata": {
    "collapsed": true
   },
   "outputs": [],
   "source": [
    "def sumto(n):\n",
    "    x=0\n",
    "    for i in range(1,n+1):\n",
    "        x += i\n",
    "    return x"
   ]
  },
  {
   "cell_type": "markdown",
   "metadata": {},
   "source": [
    "これが、Pythonで新しい関数を自分で定義する書き方です。まず、最初の行で、関数の名前と、そのパラメータの名前を書きます。パラメータが複数ある場合はカンマで区切ります。"
   ]
  },
  {
   "cell_type": "code",
   "execution_count": null,
   "metadata": {
    "collapsed": true
   },
   "outputs": [],
   "source": [
    "def sumto(n):"
   ]
  },
  {
   "cell_type": "markdown",
   "metadata": {},
   "source": [
    "次の行から、関数の中身を書きます。ifやforなどの制御構文の場合と同じように、関数の中身はインデントをつけます。計算手順を、普通のプログラムと同じように並べます。そして、最後に、計算結果をreturn文で返します。"
   ]
  },
  {
   "cell_type": "code",
   "execution_count": null,
   "metadata": {
    "collapsed": true
   },
   "outputs": [],
   "source": [
    "    return x"
   ]
  },
  {
   "cell_type": "markdown",
   "metadata": {},
   "source": [
    "sumto関数の定義と、それを使う部分をひとまとめに書いた完全なプログラムは次のようになります。"
   ]
  },
  {
   "cell_type": "code",
   "execution_count": null,
   "metadata": {
    "collapsed": false
   },
   "outputs": [],
   "source": [
    "def sumto(n):\n",
    "    x=0\n",
    "    for i in range(1,n+1):\n",
    "        x += i\n",
    "    return x\n",
    "\n",
    "n=eval(input(\"n=?\"))\n",
    "print(sumto(n))"
   ]
  },
  {
   "cell_type": "markdown",
   "metadata": {},
   "source": [
    "通常のプログラムと同じく、Pythonはこのプログラムを前から順に読んでいきますが、最初の5行は、関数が「定義」されるだけで、実際には何も実行されません。input文の行が、関数の定義でない最初の行なので、そこから実行がはじまります。そして、実行中に、”sumto”という関数が出現したら「ああ、この関数はさっき定義されたやつだな」と判断して、関数の定義に従って処理をします。return文に書いた値(ここではxの値)が、関数の値とみなされます。\n",
    "\n",
    "もう一つ、前回最後に練習した、エラトステネスのふるいを関数で書いてみましょう。エラトステネスのふるいでは、xというリストをあらかじめ準備し、2の倍数番目の要素に”x”を入れ、3の倍数番目に”x”を入れ、…という作業を繰り返し、素数をさがしだしました。この、nの倍数番目に”x”を入れる、という部分を関数にしてみます。この場合、関数にしたい部分は次のようなプログラム部分です。"
   ]
  },
  {
   "cell_type": "code",
   "execution_count": null,
   "metadata": {
    "collapsed": false
   },
   "outputs": [],
   "source": [
    "for i in range(n*2, 100, n):\n",
    "    x[i] = \"x\""
   ]
  },
  {
   "cell_type": "markdown",
   "metadata": {},
   "source": [
    "これを関数(名前をmark()としましょう)にする場合、パラメータは何を選ぶべきでしょうか?関数の中で使う変数は全部パラメータで与える必要があります。上の場合、nとxはパラメータとして与える必要がありますので、関数の最初の行は次のようになります。"
   ]
  },
  {
   "cell_type": "code",
   "execution_count": null,
   "metadata": {
    "collapsed": true
   },
   "outputs": [],
   "source": [
    "def mark(n,x):"
   ]
  },
  {
   "cell_type": "markdown",
   "metadata": {},
   "source": [
    "では、関数mark()は何を結果として返すべきでしょう。n? いえいえ、nは関数の中で変化しません。変化するものは、リストxです。ですから、関数の値として、リストxを返します。"
   ]
  },
  {
   "cell_type": "code",
   "execution_count": null,
   "metadata": {
    "collapsed": true
   },
   "outputs": [],
   "source": [
    "    return x"
   ]
  },
  {
   "cell_type": "markdown",
   "metadata": {},
   "source": [
    "間に実際の手続きを書きます。"
   ]
  },
  {
   "cell_type": "code",
   "execution_count": null,
   "metadata": {
    "collapsed": true
   },
   "outputs": [],
   "source": [
    "def mark(n,x):\n",
    "    for i in range(n*2, 100, n):\n",
    "        x[i] = \"x\"\n",
    "    return x"
   ]
  },
  {
   "cell_type": "markdown",
   "metadata": {},
   "source": [
    "これで関数の定義はできあがりです。あとは、これを呼びだす部分を書きます。"
   ]
  },
  {
   "cell_type": "code",
   "execution_count": null,
   "metadata": {
    "collapsed": false
   },
   "outputs": [],
   "source": [
    "def mark(n,x):\n",
    "    for i in range(n*2, 100, n):\n",
    "        x[i] = \"x\"\n",
    "    return x\n",
    "\n",
    "x = [0] * 100\n",
    "x = mark(2,x)\n",
    "x = mark(3,x)\n",
    "x = mark(4,x)\n",
    "x = mark(5,x)\n",
    "x = mark(6,x)\n",
    "x = mark(7,x)\n",
    "x = mark(8,x)\n",
    "x = mark(9,x)\n",
    "for i in range(2,100):\n",
    "    if x[i] == 0:\n",
    "        print(i)"
   ]
  },
  {
   "cell_type": "markdown",
   "metadata": {},
   "source": [
    "同じような文が何度も繰り返しでてくるので、繰り返し構文forを使って簡潔にすると、"
   ]
  },
  {
   "cell_type": "code",
   "execution_count": null,
   "metadata": {
    "collapsed": false
   },
   "outputs": [],
   "source": [
    "def mark(n,x):\n",
    "    for i in range(n*2, 100, n):\n",
    "        x[i] = \"x\"\n",
    "    return x\n",
    "\n",
    "x = [0] * 100\n",
    "for i in range(2,100):\n",
    "    x = mark(i,x)\n",
    "for i in range(2,100):\n",
    "    if x[i] == 0:\n",
    "        print(i)"
   ]
  },
  {
   "cell_type": "markdown",
   "metadata": {},
   "source": [
    "このように、関数を使うと、ややこしい実際の手続きを隠して、プログラムの本文を短く簡潔にすることができます。また、よく似た作業をプログラムの中で何度も行う場合にも便利です。\n",
    "\n",
    "ここまで、制御構文(if, for, while)と関数定義(def)を紹介しました。Pythonのプログラムの基本構造は、これら4つの組みあわせで書かれています。プログラミングとは、作業の定型化です。単調な反復作業の中のパターンを見付けだし、それを取りだして、繰り返しや関数の形に書き、再利用できるようにすることがプログラムの本質です。プログラマ、あるいは技術者の金言に、「楽をするためなら、どんな苦労も厭わない」という言葉があります。(「健康のためなら死んでもいい」とは大分意味が違います) 実際のところ、人間が何か(体を使って)作業する場合、10倍働けば10倍の成果が得られるのが普通ですが、プログラミングの場合、知恵を10倍ぐらいひねると2<sup>10</sup>倍ぐらい仕事(計算処理)が速く片付くことがよくあります。(エラトステネスのふるいは良い例ですね)"
   ]
  },
  {
   "cell_type": "code",
   "execution_count": null,
   "metadata": {
    "collapsed": true
   },
   "outputs": [],
   "source": []
  }
 ],
 "metadata": {
  "kernelspec": {
   "display_name": "Python 3",
   "language": "python",
   "name": "python3"
  },
  "language_info": {
   "codemirror_mode": {
    "name": "ipython",
    "version": 3
   },
   "file_extension": ".py",
   "mimetype": "text/x-python",
   "name": "python",
   "nbconvert_exporter": "python",
   "pygments_lexer": "ipython3",
   "version": "3.4.2"
  }
 },
 "nbformat": 4,
 "nbformat_minor": 0
}

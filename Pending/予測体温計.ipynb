{
  "nbformat": 4,
  "nbformat_minor": 0,
  "metadata": {
    "colab": {
      "name": "予測体温計.ipynb",
      "provenance": [],
      "authorship_tag": "ABX9TyPHxtguvJa+ZdylnHe8UW6m",
      "include_colab_link": true
    },
    "kernelspec": {
      "name": "python3",
      "display_name": "Python 3"
    },
    "language_info": {
      "name": "python"
    }
  },
  "cells": [
    {
      "cell_type": "markdown",
      "metadata": {
        "id": "view-in-github",
        "colab_type": "text"
      },
      "source": [
        "<a href=\"https://colab.research.google.com/github/vitroid/PythonTutorials/blob/master/Pending/%E4%BA%88%E6%B8%AC%E4%BD%93%E6%B8%A9%E8%A8%88.ipynb\" target=\"_parent\"><img src=\"https://colab.research.google.com/assets/colab-badge.svg\" alt=\"Open In Colab\"/></a>"
      ]
    },
    {
      "cell_type": "code",
      "metadata": {
        "colab": {
          "base_uri": "https://localhost:8080/"
        },
        "id": "R0iTrM-HREWR",
        "outputId": "cf3c86ce-65f5-49ea-c539-13b8a215b4d2"
      },
      "source": [
        "import numpy as np\n",
        "\n",
        "t = np.linspace(34.0, 44.0, 1001)\n",
        "t"
      ],
      "execution_count": null,
      "outputs": [
        {
          "output_type": "execute_result",
          "data": {
            "text/plain": [
              "array([34.  , 34.01, 34.02, ..., 43.98, 43.99, 44.  ])"
            ]
          },
          "metadata": {},
          "execution_count": 1
        }
      ]
    },
    {
      "cell_type": "code",
      "metadata": {
        "colab": {
          "base_uri": "https://localhost:8080/"
        },
        "id": "ZlTa1d5cROq0",
        "outputId": "e96fc986-1d34-4611-e572-db8ee1a1d06e"
      },
      "source": [
        "tim = np.arange(0, 5)\n",
        "tim"
      ],
      "execution_count": null,
      "outputs": [
        {
          "output_type": "execute_result",
          "data": {
            "text/plain": [
              "array([0, 1, 2, 3, 4])"
            ]
          },
          "metadata": {},
          "execution_count": 2
        }
      ]
    },
    {
      "cell_type": "code",
      "metadata": {
        "colab": {
          "base_uri": "https://localhost:8080/"
        },
        "id": "N_ko0WILRbU_",
        "outputId": "b0a0db68-ea97-4493-a558-8d85cb5e5a95"
      },
      "source": [
        "T0 = 37.4\n",
        "temp = T0 - 2.0*np.exp(-tim/2.0)\n",
        "temp"
      ],
      "execution_count": null,
      "outputs": [
        {
          "output_type": "execute_result",
          "data": {
            "text/plain": [
              "array([35.4       , 36.18693868, 36.66424112, 36.95373968, 37.12932943])"
            ]
          },
          "metadata": {},
          "execution_count": 6
        }
      ]
    },
    {
      "cell_type": "code",
      "metadata": {
        "colab": {
          "base_uri": "https://localhost:8080/"
        },
        "id": "Tc_UPijhRwBM",
        "outputId": "19117dd2-1a23-490d-df67-4b71a84efdd7"
      },
      "source": [
        "itemp = []\n",
        "for T in temp:\n",
        "    itemp.append(np.argmin(np.abs(T - t)))\n",
        "itemp = np.array(itemp)\n",
        "itemp"
      ],
      "execution_count": null,
      "outputs": [
        {
          "output_type": "execute_result",
          "data": {
            "text/plain": [
              "array([140, 219, 266, 295, 313])"
            ]
          },
          "metadata": {},
          "execution_count": 10
        }
      ]
    },
    {
      "cell_type": "code",
      "metadata": {
        "colab": {
          "base_uri": "https://localhost:8080/"
        },
        "id": "JA0bOUALStZG",
        "outputId": "90097ff8-86f1-40a1-b6e7-5ff0f3c9bf4e"
      },
      "source": [
        "itemp[1:] - itemp[:-1]"
      ],
      "execution_count": null,
      "outputs": [
        {
          "output_type": "execute_result",
          "data": {
            "text/plain": [
              "array([79, 47, 29, 18])"
            ]
          },
          "metadata": {},
          "execution_count": 11
        }
      ]
    },
    {
      "cell_type": "code",
      "metadata": {
        "colab": {
          "base_uri": "https://localhost:8080/",
          "height": 300
        },
        "id": "4QZluDw_TwD6",
        "outputId": "760a2578-4bd8-4e00-f38c-74d34f004fe1"
      },
      "source": [
        "import matplotlib.pyplot as plt\n",
        "\n",
        "tim = np.linspace(0,10,100)\n",
        "temp = T0 - 2.0*np.exp(-tim/2.0)\n",
        "plt.xlabel(\"Time / s\")\n",
        "plt.ylabel(\"Observe / degree C\")\n",
        "plt.plot(tim, temp)\n",
        "plt.plot(tim, T0*np.ones_like(tim))"
      ],
      "execution_count": null,
      "outputs": [
        {
          "output_type": "execute_result",
          "data": {
            "text/plain": [
              "[<matplotlib.lines.Line2D at 0x7f831a40ebd0>]"
            ]
          },
          "metadata": {},
          "execution_count": 16
        },
        {
          "output_type": "display_data",
          "data": {
            "image/png": "[encoded data removed]",
            "text/plain": [
              "<Figure size 432x288 with 1 Axes>"
            ]
          },
          "metadata": {
            "needs_background": "light"
          }
        }
      ]
    },
    {
      "cell_type": "code",
      "metadata": {
        "colab": {
          "base_uri": "https://localhost:8080/"
        },
        "id": "z75UTgjSZOjT",
        "outputId": "6528d9c8-d6cf-484a-8c74-7a168d0414bd"
      },
      "source": [
        "t[335]"
      ],
      "execution_count": null,
      "outputs": [
        {
          "output_type": "execute_result",
          "data": {
            "text/plain": [
              "37.35"
            ]
          },
          "metadata": {},
          "execution_count": 17
        }
      ]
    },
    {
      "cell_type": "code",
      "metadata": {
        "id": "AEqNcedIbVzH"
      },
      "source": [
        ""
      ],
      "execution_count": null,
      "outputs": []
    }
  ]
}
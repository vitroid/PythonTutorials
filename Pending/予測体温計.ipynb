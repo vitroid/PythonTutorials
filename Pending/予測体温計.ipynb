{
  "nbformat": 4,
  "nbformat_minor": 0,
  "metadata": {
    "colab": {
      "name": "予測体温計.ipynb",
      "provenance": [],
      "authorship_tag": "ABX9TyMo4YuybwN3LVPh9vaUAZT0",
      "include_colab_link": true
    },
    "kernelspec": {
      "name": "python3",
      "display_name": "Python 3"
    },
    "language_info": {
      "name": "python"
    }
  },
  "cells": [
    {
      "cell_type": "markdown",
      "metadata": {
        "id": "view-in-github",
        "colab_type": "text"
      },
      "source": [
        "<a href=\"https://colab.research.google.com/github/vitroid/PythonTutorials/blob/master/Pending/%E4%BA%88%E6%B8%AC%E4%BD%93%E6%B8%A9%E8%A8%88.ipynb\" target=\"_parent\"><img src=\"https://colab.research.google.com/assets/colab-badge.svg\" alt=\"Open In Colab\"/></a>"
      ]
    },
    {
      "cell_type": "markdown",
      "source": [
        "ある電子体温計のセンサーは8ビットで、5秒に一度測定した体温を、33℃から43.2℃をそれぞれ0〜255の整数値で表す。また、この体温計のMPUは16ビットの正整数(0〜65535)の四則演算の機能しかもたない。\n",
        "\n",
        "この体温計で体温を測ったところ、センサーの出力は[60, 80, 92, 99, 103]だった。MPUの機能の範囲内で体温を予測せよ。体温の計測値は、正しい値に向かって指数関数的に近付くものとする。"
      ],
      "metadata": {
        "id": "V-8a_DJpwAfy"
      }
    },
    {
      "cell_type": "code",
      "metadata": {
        "colab": {
          "base_uri": "https://localhost:8080/"
        },
        "id": "R0iTrM-HREWR",
        "outputId": "f83caa76-6112-438e-92a4-7c851a223f12"
      },
      "source": [
        "import numpy as np\n",
        "\n",
        "t = np.linspace(33.0, 43.2, 256)\n",
        "t"
      ],
      "execution_count": null,
      "outputs": [
        {
          "output_type": "execute_result",
          "data": {
            "text/plain": [
              "array([33.  , 33.04, 33.08, 33.12, 33.16, 33.2 , 33.24, 33.28, 33.32,\n",
              "       33.36, 33.4 , 33.44, 33.48, 33.52, 33.56, 33.6 , 33.64, 33.68,\n",
              "       33.72, 33.76, 33.8 , 33.84, 33.88, 33.92, 33.96, 34.  , 34.04,\n",
              "       34.08, 34.12, 34.16, 34.2 , 34.24, 34.28, 34.32, 34.36, 34.4 ,\n",
              "       34.44, 34.48, 34.52, 34.56, 34.6 , 34.64, 34.68, 34.72, 34.76,\n",
              "       34.8 , 34.84, 34.88, 34.92, 34.96, 35.  , 35.04, 35.08, 35.12,\n",
              "       35.16, 35.2 , 35.24, 35.28, 35.32, 35.36, 35.4 , 35.44, 35.48,\n",
              "       35.52, 35.56, 35.6 , 35.64, 35.68, 35.72, 35.76, 35.8 , 35.84,\n",
              "       35.88, 35.92, 35.96, 36.  , 36.04, 36.08, 36.12, 36.16, 36.2 ,\n",
              "       36.24, 36.28, 36.32, 36.36, 36.4 , 36.44, 36.48, 36.52, 36.56,\n",
              "       36.6 , 36.64, 36.68, 36.72, 36.76, 36.8 , 36.84, 36.88, 36.92,\n",
              "       36.96, 37.  , 37.04, 37.08, 37.12, 37.16, 37.2 , 37.24, 37.28,\n",
              "       37.32, 37.36, 37.4 , 37.44, 37.48, 37.52, 37.56, 37.6 , 37.64,\n",
              "       37.68, 37.72, 37.76, 37.8 , 37.84, 37.88, 37.92, 37.96, 38.  ,\n",
              "       38.04, 38.08, 38.12, 38.16, 38.2 , 38.24, 38.28, 38.32, 38.36,\n",
              "       38.4 , 38.44, 38.48, 38.52, 38.56, 38.6 , 38.64, 38.68, 38.72,\n",
              "       38.76, 38.8 , 38.84, 38.88, 38.92, 38.96, 39.  , 39.04, 39.08,\n",
              "       39.12, 39.16, 39.2 , 39.24, 39.28, 39.32, 39.36, 39.4 , 39.44,\n",
              "       39.48, 39.52, 39.56, 39.6 , 39.64, 39.68, 39.72, 39.76, 39.8 ,\n",
              "       39.84, 39.88, 39.92, 39.96, 40.  , 40.04, 40.08, 40.12, 40.16,\n",
              "       40.2 , 40.24, 40.28, 40.32, 40.36, 40.4 , 40.44, 40.48, 40.52,\n",
              "       40.56, 40.6 , 40.64, 40.68, 40.72, 40.76, 40.8 , 40.84, 40.88,\n",
              "       40.92, 40.96, 41.  , 41.04, 41.08, 41.12, 41.16, 41.2 , 41.24,\n",
              "       41.28, 41.32, 41.36, 41.4 , 41.44, 41.48, 41.52, 41.56, 41.6 ,\n",
              "       41.64, 41.68, 41.72, 41.76, 41.8 , 41.84, 41.88, 41.92, 41.96,\n",
              "       42.  , 42.04, 42.08, 42.12, 42.16, 42.2 , 42.24, 42.28, 42.32,\n",
              "       42.36, 42.4 , 42.44, 42.48, 42.52, 42.56, 42.6 , 42.64, 42.68,\n",
              "       42.72, 42.76, 42.8 , 42.84, 42.88, 42.92, 42.96, 43.  , 43.04,\n",
              "       43.08, 43.12, 43.16, 43.2 ])"
            ]
          },
          "metadata": {},
          "execution_count": 8
        }
      ]
    },
    {
      "cell_type": "code",
      "metadata": {
        "colab": {
          "base_uri": "https://localhost:8080/"
        },
        "id": "ZlTa1d5cROq0",
        "outputId": "6d8b1b26-b6c1-4f62-898e-5177a0647d4c"
      },
      "source": [
        "tim = np.arange(0, 5)\n",
        "tim"
      ],
      "execution_count": null,
      "outputs": [
        {
          "output_type": "execute_result",
          "data": {
            "text/plain": [
              "array([0, 1, 2, 3, 4])"
            ]
          },
          "metadata": {},
          "execution_count": 9
        }
      ]
    },
    {
      "cell_type": "code",
      "metadata": {
        "colab": {
          "base_uri": "https://localhost:8080/"
        },
        "id": "N_ko0WILRbU_",
        "outputId": "fba96153-e151-4882-b547-9d5218ef54b6"
      },
      "source": [
        "T0 = 37.4\n",
        "temp = T0 - 2.0*np.exp(-tim/2.0)\n",
        "temp"
      ],
      "execution_count": null,
      "outputs": [
        {
          "output_type": "execute_result",
          "data": {
            "text/plain": [
              "array([35.4       , 36.18693868, 36.66424112, 36.95373968, 37.12932943])"
            ]
          },
          "metadata": {},
          "execution_count": 10
        }
      ]
    },
    {
      "cell_type": "code",
      "metadata": {
        "colab": {
          "base_uri": "https://localhost:8080/"
        },
        "id": "Tc_UPijhRwBM",
        "outputId": "0672a538-5d55-401d-95b6-f3470c7f4e75"
      },
      "source": [
        "itemp = []\n",
        "for T in temp:\n",
        "    itemp.append(np.argmin(np.abs(T - t)))\n",
        "itemp = np.array(itemp)\n",
        "itemp"
      ],
      "execution_count": null,
      "outputs": [
        {
          "output_type": "execute_result",
          "data": {
            "text/plain": [
              "array([ 60,  80,  92,  99, 103])"
            ]
          },
          "metadata": {},
          "execution_count": 11
        }
      ]
    },
    {
      "cell_type": "code",
      "metadata": {
        "colab": {
          "base_uri": "https://localhost:8080/"
        },
        "id": "JA0bOUALStZG",
        "outputId": "e9c9f931-e28a-46a4-fe0d-896e1054c9ac"
      },
      "source": [
        "itemp[1:] - itemp[:-1]"
      ],
      "execution_count": null,
      "outputs": [
        {
          "output_type": "execute_result",
          "data": {
            "text/plain": [
              "array([20, 12,  7,  4])"
            ]
          },
          "metadata": {},
          "execution_count": 12
        }
      ]
    },
    {
      "cell_type": "code",
      "metadata": {
        "colab": {
          "base_uri": "https://localhost:8080/",
          "height": 300
        },
        "id": "4QZluDw_TwD6",
        "outputId": "760a2578-4bd8-4e00-f38c-74d34f004fe1"
      },
      "source": [
        "import matplotlib.pyplot as plt\n",
        "\n",
        "tim = np.linspace(0,10,100)\n",
        "temp = T0 - 2.0*np.exp(-tim/2.0)\n",
        "plt.xlabel(\"Time / s\")\n",
        "plt.ylabel(\"Observe / degree C\")\n",
        "plt.plot(tim, temp)\n",
        "plt.plot(tim, T0*np.ones_like(tim))"
      ],
      "execution_count": null,
      "outputs": [
        {
          "output_type": "execute_result",
          "data": {
            "text/plain": [
              "[<matplotlib.lines.Line2D at 0x7f831a40ebd0>]"
            ]
          },
          "metadata": {},
          "execution_count": 16
        },
        {
          "output_type": "display_data",
          "data": {
            "image/png": "[encoded data removed]",
            "text/plain": [
              "<Figure size 432x288 with 1 Axes>"
            ]
          },
          "metadata": {
            "needs_background": "light"
          }
        }
      ]
    },
    {
      "cell_type": "code",
      "metadata": {
        "colab": {
          "base_uri": "https://localhost:8080/"
        },
        "id": "z75UTgjSZOjT",
        "outputId": "6528d9c8-d6cf-484a-8c74-7a168d0414bd"
      },
      "source": [
        "t[335]"
      ],
      "execution_count": null,
      "outputs": [
        {
          "output_type": "execute_result",
          "data": {
            "text/plain": [
              "37.35"
            ]
          },
          "metadata": {},
          "execution_count": 17
        }
      ]
    },
    {
      "cell_type": "code",
      "metadata": {
        "id": "AEqNcedIbVzH"
      },
      "source": [],
      "execution_count": null,
      "outputs": []
    }
  ]
}
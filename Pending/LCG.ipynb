{
  "nbformat": 4,
  "nbformat_minor": 0,
  "metadata": {
    "colab": {
      "name": "LCG.ipynb",
      "provenance": [],
      "toc_visible": true,
      "authorship_tag": "ABX9TyMigrQGLkZLgj4rn78qSnoq",
      "include_colab_link": true
    },
    "kernelspec": {
      "name": "python3",
      "display_name": "Python 3"
    },
    "language_info": {
      "name": "python"
    }
  },
  "cells": [
    {
      "cell_type": "markdown",
      "metadata": {
        "id": "view-in-github",
        "colab_type": "text"
      },
      "source": [
        "<a href=\"https://colab.research.google.com/github/vitroid/PythonTutorials/blob/master/Pending/LCG.ipynb\" target=\"_parent\"><img src=\"https://colab.research.google.com/assets/colab-badge.svg\" alt=\"Open In Colab\"/></a>"
      ]
    },
    {
      "cell_type": "markdown",
      "source": [
        "# 線形合同法の逆算\n",
        "\n",
        "$X_{n+1}=(A X_n + B) \\textrm{ mod } M$\n",
        "の生成した数列から、逆にA, B, Mを推定できるか?"
      ],
      "metadata": {
        "id": "EBFL-aX1Yu0f"
      }
    },
    {
      "cell_type": "code",
      "execution_count": 11,
      "metadata": {
        "colab": {
          "base_uri": "https://localhost:8080/"
        },
        "id": "UpOAIBM4Yoc9",
        "outputId": "3233da18-061e-4afd-da42-78c3691ab29c"
      },
      "outputs": [
        {
          "output_type": "execute_result",
          "data": {
            "text/plain": [
              "array([ 238199713, 3908102598, 2867989895, 1184437428, 1790236893,\n",
              "       1627511890,  408419107, 1275906080,  791356889, 2579327902,\n",
              "       2258970239, 2873509452,   18826901, 1846584234, 2926554011,\n",
              "       1622637368, 2600122129, 1219317878, 4052969079, 1006965476,\n",
              "       2588062541,  999685634,  164492051, 3228727632, 4120131401,\n",
              "         74053710,   85634415, 2685262460, 3596615429,  158419802,\n",
              "       2882449803, 3181126248, 1382450817,  459850534,  745855847,\n",
              "       1631911188, 1089735101, 2282613682, 2842281731,  201250432,\n",
              "        668763321, 3379237118,   70766687,  364567212, 4231508853,\n",
              "       3722657546,   45290363,   38860184,  853348849,  352207318,\n",
              "       2849336407,  959173444, 1553980461, 3707020642, 1784313587,\n",
              "       2343886768, 1246432809, 3707483566, 2065403727, 3061860060,\n",
              "       1952277477, 1750171322, 2100023659, 3375953096,  579164513,\n",
              "        369675398, 1169430855,  558667124, 2396859037,  160770834,\n",
              "       1770980067, 1666684128,   15127449,  941024862, 3869567551,\n",
              "       2672893708, 2621968469, 3060206186,  117959515, 2339839992,\n",
              "       1598446801, 3689112374, 1506796087, 2180662180, 2365781261,\n",
              "       3321527490, 1572235987, 2909402640, 2138494217, 2289541902,\n",
              "        963830063, 2413847356, 2637084869,  378462746, 2648072523,\n",
              "       3505289000, 4006026305, 2963867110, 2913453863, 4266122708])"
            ]
          },
          "metadata": {},
          "execution_count": 11
        }
      ],
      "source": [
        "import matplotlib.pyplot as plt\n",
        "import numpy as np\n",
        "def rand(n=10, A=1103515245, B=12345, M=2**32):\n",
        "    x = 8\n",
        "    for i in range(n):\n",
        "        x = (A*x+B) % M\n",
        "        yield x\n",
        "\n",
        "\n",
        "x = np.array([i for i in rand(100)])\n",
        "x"
      ]
    },
    {
      "cell_type": "code",
      "source": [
        "2**32"
      ],
      "metadata": {
        "colab": {
          "base_uri": "https://localhost:8080/"
        },
        "id": "P6oBPE6yZp14",
        "outputId": "818de51a-cebc-41e0-ee96-d2a80ea7134f"
      },
      "execution_count": 12,
      "outputs": [
        {
          "output_type": "execute_result",
          "data": {
            "text/plain": [
              "4294967296"
            ]
          },
          "metadata": {},
          "execution_count": 12
        }
      ]
    },
    {
      "cell_type": "markdown",
      "source": [
        "## 1. A, Mがわかっていて、Bを予測する。\n",
        "\n",
        "$$X_1=(A X_0 + B) \\mod M$$\n",
        "$$(X_1-A X_0)\\mod M=B$$\n",
        "\n"
      ],
      "metadata": {
        "id": "nf0WunktbbCQ"
      }
    },
    {
      "cell_type": "code",
      "source": [
        "A = 1103515245\n",
        "M = 2**32\n",
        "(x[1:] - A*x[:-1]) % M\n"
      ],
      "metadata": {
        "colab": {
          "base_uri": "https://localhost:8080/"
        },
        "id": "_j7UJ1Bda7CZ",
        "outputId": "e37928c0-eb92-40e3-e279-6244a3045025"
      },
      "execution_count": 15,
      "outputs": [
        {
          "output_type": "execute_result",
          "data": {
            "text/plain": [
              "array([12345, 12345, 12345, 12345, 12345, 12345, 12345, 12345, 12345,\n",
              "       12345, 12345, 12345, 12345, 12345, 12345, 12345, 12345, 12345,\n",
              "       12345, 12345, 12345, 12345, 12345, 12345, 12345, 12345, 12345,\n",
              "       12345, 12345, 12345, 12345, 12345, 12345, 12345, 12345, 12345,\n",
              "       12345, 12345, 12345, 12345, 12345, 12345, 12345, 12345, 12345,\n",
              "       12345, 12345, 12345, 12345, 12345, 12345, 12345, 12345, 12345,\n",
              "       12345, 12345, 12345, 12345, 12345, 12345, 12345, 12345, 12345,\n",
              "       12345, 12345, 12345, 12345, 12345, 12345, 12345, 12345, 12345,\n",
              "       12345, 12345, 12345, 12345, 12345, 12345, 12345, 12345, 12345,\n",
              "       12345, 12345, 12345, 12345, 12345, 12345, 12345, 12345, 12345,\n",
              "       12345, 12345, 12345, 12345, 12345, 12345, 12345, 12345, 12345])"
            ]
          },
          "metadata": {},
          "execution_count": 15
        }
      ]
    },
    {
      "cell_type": "markdown",
      "source": [
        "## 2. B, Mがわかっていて、Aを予測する。\n",
        "\n",
        "$$X_1=(A X_0 + B) \\mod M$$\n",
        "$$X_2=(A X_1 + B) \\mod M$$\n",
        "引き算してBを消す。\n",
        "$$X_2-X_1\\mod M=A(X_1-X_0)\\mod M$$\n",
        "$$(X_2-X_1)(X_1-X_0)^{-1}\\mod M=A\\mod M$$\n",
        "ただし、$^{-1}$は逆数じゃなくて、法Mでの逆元。\n",
        "\n",
        "逆元とは、整数$X$に対して、$X X^{-1}\\mod M=1$となるような整数$X^{-1}$のこと、だと思う。\n",
        "(存在しない場合もありそうだが、ここではそれを心配する必要はない)\n",
        "\n",
        "逆元の計算は、Python3.8ならpow関数で一発で求まるんだが、colabは3.7らしいぞ。まいった。\n",
        "\n"
      ],
      "metadata": {
        "id": "IjXOd67weaaG"
      }
    },
    {
      "cell_type": "code",
      "source": [
        "# Python3.8\n",
        "((x[2] - x[1])*pow(int(x[1]-x[0]), -1, M)) % M"
      ],
      "metadata": {
        "colab": {
          "base_uri": "https://localhost:8080/",
          "height": 187
        },
        "id": "dubSzY_CbtvK",
        "outputId": "7821a447-a616-4f79-f56c-91df431dcc65"
      },
      "execution_count": 19,
      "outputs": [
        {
          "output_type": "error",
          "ename": "ValueError",
          "evalue": "ignored",
          "traceback": [
            "\u001b[0;31m---------------------------------------------------------------------------\u001b[0m",
            "\u001b[0;31mValueError\u001b[0m                                Traceback (most recent call last)",
            "\u001b[0;32m<ipython-input-19-b7cd7f1c0343>\u001b[0m in \u001b[0;36m<module>\u001b[0;34m()\u001b[0m\n\u001b[0;32m----> 1\u001b[0;31m \u001b[0;34m(\u001b[0m\u001b[0;34m(\u001b[0m\u001b[0mx\u001b[0m\u001b[0;34m[\u001b[0m\u001b[0;36m2\u001b[0m\u001b[0;34m]\u001b[0m \u001b[0;34m-\u001b[0m \u001b[0mx\u001b[0m\u001b[0;34m[\u001b[0m\u001b[0;36m1\u001b[0m\u001b[0;34m]\u001b[0m\u001b[0;34m)\u001b[0m\u001b[0;34m*\u001b[0m\u001b[0mpow\u001b[0m\u001b[0;34m(\u001b[0m\u001b[0mint\u001b[0m\u001b[0;34m(\u001b[0m\u001b[0mx\u001b[0m\u001b[0;34m[\u001b[0m\u001b[0;36m1\u001b[0m\u001b[0;34m]\u001b[0m\u001b[0;34m-\u001b[0m\u001b[0mx\u001b[0m\u001b[0;34m[\u001b[0m\u001b[0;36m0\u001b[0m\u001b[0;34m]\u001b[0m\u001b[0;34m)\u001b[0m\u001b[0;34m,\u001b[0m \u001b[0;34m-\u001b[0m\u001b[0;36m1\u001b[0m\u001b[0;34m,\u001b[0m \u001b[0mM\u001b[0m\u001b[0;34m)\u001b[0m\u001b[0;34m)\u001b[0m \u001b[0;34m%\u001b[0m \u001b[0mM\u001b[0m\u001b[0;34m\u001b[0m\u001b[0;34m\u001b[0m\u001b[0m\n\u001b[0m",
            "\u001b[0;31mValueError\u001b[0m: pow() 2nd argument cannot be negative when 3rd argument specified"
          ]
        }
      ]
    },
    {
      "cell_type": "code",
      "source": [
        "!python -V"
      ],
      "metadata": {
        "colab": {
          "base_uri": "https://localhost:8080/"
        },
        "id": "FtbFqSLAfYw8",
        "outputId": "c0e5b9c0-0491-464b-a595-0f9636659d92"
      },
      "execution_count": 20,
      "outputs": [
        {
          "output_type": "stream",
          "name": "stdout",
          "text": [
            "Python 3.7.13\n"
          ]
        }
      ]
    },
    {
      "cell_type": "code",
      "source": [
        "# Python3.7\n",
        "\n",
        "def xgcd(a, b):\n",
        "    x0, y0, x1, y1 = 1, 0, 0, 1\n",
        "    while b != 0:\n",
        "        q, a, b = a // b, b, a % b\n",
        "        x0, x1 = x1, x0 - q * x1\n",
        "        y0, y1 = y1, y0 - q * y1\n",
        "    return a, x0, y0\n",
        "\n",
        "def modinv(a, m):\n",
        "    g, x, y = xgcd(a, m)\n",
        "    if g != 1:\n",
        "        raise Exception('modular inverse does not exist')\n",
        "    else:\n",
        "        return x % m\n",
        "\n",
        "((x[2] - x[1])*modinv(x[1]-x[0], M)) % M\n"
      ],
      "metadata": {
        "colab": {
          "base_uri": "https://localhost:8080/"
        },
        "id": "FygL0BD0jnGs",
        "outputId": "0f288d9d-8e14-438d-cfe5-3ad986966bcf"
      },
      "execution_count": 21,
      "outputs": [
        {
          "output_type": "execute_result",
          "data": {
            "text/plain": [
              "1103515245"
            ]
          },
          "metadata": {},
          "execution_count": 21
        }
      ]
    },
    {
      "cell_type": "markdown",
      "source": [
        "## 3. A, Bがわかっていて、Mを予測する。\n",
        "\n",
        "$x_0$がとても小さい数であれば、$x_1=Ax_0+B$となり、$M$は推定できないが、それ以外なら、\n",
        "$$Ax_0+B-x_1=n M$$\n",
        "となるだろう。"
      ],
      "metadata": {
        "id": "HB2UaiYkkXdv"
      }
    },
    {
      "cell_type": "code",
      "source": [
        "A = 1103515245\n",
        "B = 12345\n",
        "X0 = x[:-1]\n",
        "X1 = x[1:]\n",
        "\n",
        "nM = A*X0+B - X1\n",
        "print(np.gcd(nM[:-1], nM[1:]))"
      ],
      "metadata": {
        "colab": {
          "base_uri": "https://localhost:8080/"
        },
        "id": "XSTJnbmMkPzd",
        "outputId": "c247637f-d385-4374-a641-20d21acd9ade"
      },
      "execution_count": 27,
      "outputs": [
        {
          "output_type": "stream",
          "name": "stdout",
          "text": [
            "[  4294967296  17179869184  51539607552 240518168576   4294967296\n",
            "   4294967296   4294967296   4294967296   4294967296   4294967296\n",
            "   4294967296  17179869184  17179869184   4294967296   4294967296\n",
            "   4294967296   4294967296   4294967296   4294967296   4294967296\n",
            "   4294967296   8589934592   4294967296   4294967296 257698037760\n",
            "  21474836480   4294967296  17179869184   8589934592  12884901888\n",
            "  12884901888   4294967296   4294967296   4294967296   4294967296\n",
            "   8589934592   8589934592   8589934592   4294967296   4294967296\n",
            "   4294967296   8589934592  25769803776   4294967296   4294967296\n",
            "   4294967296   4294967296   4294967296   4294967296   4294967296\n",
            "   4294967296   4294967296   4294967296   8589934592   4294967296\n",
            "   4294967296   4294967296  25769803776  12884901888   4294967296\n",
            "   8589934592   8589934592   4294967296   4294967296  17179869184\n",
            "   4294967296   4294967296   4294967296  12884901888  25769803776\n",
            "  12884901888  12884901888   8589934592 124554051584   4294967296\n",
            "   8589934592   8589934592   4294967296   4294967296   8589934592\n",
            "  17179869184  17179869184  60129542144   8589934592  17179869184\n",
            "   4294967296   4294967296   8589934592   4294967296   4294967296\n",
            "   8589934592   8589934592  17179869184   4294967296  21474836480\n",
            "  42949672960   8589934592   4294967296]\n"
          ]
        }
      ]
    },
    {
      "cell_type": "markdown",
      "source": [
        "データがいくつかあれば、推定できる。"
      ],
      "metadata": {
        "id": "2hRR8uhimOP9"
      }
    },
    {
      "cell_type": "markdown",
      "source": [
        "## Mだけわかっている場合\n",
        "\n",
        "$B$が不明でも、$A$を求めることができたので、$A,B$は同時に不明でも構わない。"
      ],
      "metadata": {
        "id": "Ixuyg2H3mcnw"
      }
    },
    {
      "cell_type": "markdown",
      "source": [
        "## $A,B,M$のいずれも不明な場合\n",
        "\n",
        "まず$B$を消す。\n",
        "$$X_1=(AX_0+B)\\mod M$$\n",
        "$$X_2=(AX_1+B)\\mod M$$\n",
        "$$(X_2-X_1)=A(X_1-X_0)\\mod M$$\n",
        "さらに$A$も消す。\n",
        "$$(X_2-X_1)(X_1-X_0)^{-1}=A\\mod M$$\n",
        "$$(X_2-X_1)(X_1-X_0)^{-1} = (X_3-X_2)(X_2-X_1)^{-1}\\mod M$$\n",
        "逆元は$M$が不明だと計算できないので、両辺に$(X_1-X_0)(X_2-X_1)$を掛ける。\n",
        "$$(X_2-X_1)(X_2-X_1)-(X_3-X_2)(X_1-X_0)=0\\mod M$$\n",
        "これで推定できるはず。\n",
        "\n",
        "\n",
        "\n",
        "\n"
      ],
      "metadata": {
        "id": "onpWizAbmvIE"
      }
    },
    {
      "cell_type": "code",
      "source": [
        "X3 = x[3:]\n",
        "X2 = x[2:][:-1]\n",
        "X1 = x[1:][:-2]\n",
        "X0 = x[:-3]\n",
        "\n",
        "nM = (X2-X1)**2 - (X3-X2)*(X1-X0)\n",
        "print(np.gcd(nM[:-1], nM[1:]))"
      ],
      "metadata": {
        "colab": {
          "base_uri": "https://localhost:8080/"
        },
        "id": "fV8iS3XqlThI",
        "outputId": "cb6c7e08-796c-4c4f-e50f-23f222c1c7ef"
      },
      "execution_count": 31,
      "outputs": [
        {
          "output_type": "stream",
          "name": "stdout",
          "text": [
            "[    4294967296    17179869184     4294967296     4294967296\n",
            "     4294967296     4294967296     4294967296     4294967296\n",
            "     4294967296     4294967296    12884901888     4294967296\n",
            "     4294967296     4294967296     8589934592     8589934592\n",
            "     8589934592     8589934592   115964116992    38654705664\n",
            "    12884901888     4294967296     4294967296    12884901888\n",
            "     4294967296    21474836480     4294967296     4294967296\n",
            "     4294967296    12884901888     8589934592   188978561024\n",
            "     4294967296     4294967296     4294967296    34359738368\n",
            "    21474836480     4294967296     4294967296     4294967296\n",
            "   450971566080    64424509440    12884901888     8589934592\n",
            "     4294967296     4294967296     4294967296    12884901888\n",
            "   167503724544     4294967296     4294967296     4294967296\n",
            "     4294967296     4294967296     4294967296     4294967296\n",
            "     4294967296    12884901888     4294967296     4294967296\n",
            "     4294967296     4294967296    12884901888     4294967296\n",
            "     4294967296     4294967296    55834574848     4294967296\n",
            "    12884901888    38654705664    12884901888    12884901888\n",
            "     4294967296     4294967296     4294967296     4294967296\n",
            "     4294967296     4294967296     4294967296     8589934592\n",
            "     8589934592     8589934592     8589934592     4294967296\n",
            "     4294967296     4294967296     4294967296     4294967296\n",
            "     4294967296     4294967296     8589934592 35334695944192\n",
            "     4294967296     4294967296    21474836480     4294967296]\n"
          ]
        }
      ]
    },
    {
      "cell_type": "markdown",
      "source": [
        "## まとめ\n",
        "\n",
        "これらをまとめよう。"
      ],
      "metadata": {
        "id": "vWcmy0BYpwO4"
      }
    },
    {
      "cell_type": "code",
      "source": [
        "def xgcd(a, b):\n",
        "    x0, y0, x1, y1 = 1, 0, 0, 1\n",
        "    while b != 0:\n",
        "        q, a, b = a // b, b, a % b\n",
        "        x0, x1 = x1, x0 - q * x1\n",
        "        y0, y1 = y1, y0 - q * y1\n",
        "    return a, x0, y0\n",
        "\n",
        "def modinv(a, m):\n",
        "    g, x, y = xgcd(a, m)\n",
        "    if g != 1:\n",
        "        raise Exception('modular inverse does not exist')\n",
        "    else:\n",
        "        return x % m\n",
        "\n",
        "def modinvs(A, m):\n",
        "    return np.array([modinv(a, m) for a in A])\n",
        "\n",
        "def predictM(x):\n",
        "    X3 = x[3:]\n",
        "    X2 = x[2:][:-1]\n",
        "    X1 = x[1:][:-2]\n",
        "    X0 = x[:-3]\n",
        "\n",
        "    nM = (X2-X1)**2 - (X3-X2)*(X1-X0)\n",
        "    M = np.gcd.reduce(nM)\n",
        "    if not np.all(x<M):\n",
        "        raise Exception('Inconsistent modulo.')\n",
        "    return M\n",
        "\n",
        "def predictA(x, M):\n",
        "    X2 = x[2:][:-1]\n",
        "    X1 = x[1:][:-2]\n",
        "    X0 = x[:-3]\n",
        "    A = ((X2 - X1)*modinvs(X1-X0, M)) % M\n",
        "    if not np.all(A == A[0]):\n",
        "        raise Exception('Inconsistent A')\n",
        "    return A[0]\n",
        "\n",
        "def predictB(x, M, A):\n",
        "    X1 = x[1:][:-2]\n",
        "    X0 = x[:-3]\n",
        "    B = (X1 - A*X0) % M\n",
        "    if not np.all(B == B[0]):\n",
        "        raise Exception('Inconsistent B')\n",
        "    return B[0]\n",
        "\n",
        "M = predictM(x)\n",
        "A = predictA(x, M)\n",
        "B = predictB(x, M, A)\n",
        "M, A, B"
      ],
      "metadata": {
        "colab": {
          "base_uri": "https://localhost:8080/"
        },
        "id": "d8dED3QVpCGF",
        "outputId": "3d1d1baa-7d1e-4b5e-d090-bf6558a292b2"
      },
      "execution_count": 41,
      "outputs": [
        {
          "output_type": "execute_result",
          "data": {
            "text/plain": [
              "(4294967296, 1103515245, 12345)"
            ]
          },
          "metadata": {},
          "execution_count": 41
        }
      ]
    },
    {
      "cell_type": "code",
      "source": [
        "s = (x[0]-B)*modinv(A,M)\n",
        "s % M"
      ],
      "metadata": {
        "colab": {
          "base_uri": "https://localhost:8080/"
        },
        "id": "yKmGdfHQp_HQ",
        "outputId": "9f4f01f6-a05c-421c-f5d9-5eaad9f018cd"
      },
      "execution_count": 43,
      "outputs": [
        {
          "output_type": "execute_result",
          "data": {
            "text/plain": [
              "8"
            ]
          },
          "metadata": {},
          "execution_count": 43
        }
      ]
    },
    {
      "cell_type": "code",
      "source": [
        ""
      ],
      "metadata": {
        "id": "6qFtJ8mr3cKc"
      },
      "execution_count": null,
      "outputs": []
    }
  ]
}
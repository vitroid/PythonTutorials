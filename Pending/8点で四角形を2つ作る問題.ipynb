{
  "nbformat": 4,
  "nbformat_minor": 0,
  "metadata": {
    "colab": {
      "name": "8点で四角形を2つ作る問題.ipynb",
      "provenance": [],
      "collapsed_sections": [],
      "authorship_tag": "ABX9TyNElsZUwWZYaWsu6V6bI9aa",
      "include_colab_link": true
    },
    "kernelspec": {
      "name": "python3",
      "display_name": "Python 3"
    },
    "language_info": {
      "name": "python"
    }
  },
  "cells": [
    {
      "cell_type": "markdown",
      "metadata": {
        "id": "view-in-github",
        "colab_type": "text"
      },
      "source": [
        "<a href=\"https://colab.research.google.com/github/vitroid/PythonTutorials/blob/master/Pending/8%E7%82%B9%E3%81%A7%E5%9B%9B%E8%A7%92%E5%BD%A2%E3%82%922%E3%81%A4%E4%BD%9C%E3%82%8B%E5%95%8F%E9%A1%8C.ipynb\" target=\"_parent\"><img src=\"https://colab.research.google.com/assets/colab-badge.svg\" alt=\"Open In Colab\"/></a>"
      ]
    },
    {
      "cell_type": "code",
      "execution_count": 42,
      "metadata": {
        "colab": {
          "base_uri": "https://localhost:8080/",
          "height": 424
        },
        "id": "tDRSM469sllG",
        "outputId": "3b2fadbb-c37f-4f5c-e2c9-3eee6727368a"
      },
      "outputs": [
        {
          "output_type": "stream",
          "name": "stdout",
          "text": [
            "2138 [[0.83636278 0.08224805]\n",
            " [0.99933476 0.77653417]\n",
            " [0.88158991 0.54345996]\n",
            " [0.58920288 0.69675369]\n",
            " [0.16562437 0.79582614]\n",
            " [0.8519411  0.15145596]\n",
            " [0.84397339 0.65274465]\n",
            " [0.88259214 0.28164848]]\n"
          ]
        },
        {
          "output_type": "display_data",
          "data": {
            "text/plain": [
              "<Figure size 432x288 with 1 Axes>"
            ],
            "image/png": "[encoded data removed]"
          },
          "metadata": {
            "needs_background": "light"
          }
        }
      ],
      "source": [
        "# https://jp.quora.com/平面上にどの３点も同一直線上にない８つの点があ\n",
        "# るとき、それを４つと４つに分けてどちらも凸な四角形をなすようにできますか？\n",
        "\n",
        "import numpy as np\n",
        "import itertools as it\n",
        "import matplotlib.pyplot as plt\n",
        "\n",
        "def is_convex(points):\n",
        "    # 最初の3点で三角形を作る。\n",
        "    # 辺の順番で、右向きか左向きかを決めておく。\n",
        "    assert points.shape[0] == 4\n",
        "    o = points[0]\n",
        "    oa, ob, oc = points[1:] - o\n",
        "    if (oa[1]*ob[0] - oa[0]*ob[1]) < 0:\n",
        "        oa, ob = ob, oa\n",
        "    bo = -ob\n",
        "    ab = ob - oa\n",
        "    bc = oc - ob\n",
        "    ac = oc - oa\n",
        "    p1 = (oa[1]*oc[0] - oa[0]*oc[1]) > 0\n",
        "    p2 = (bo[1]*bc[0] - bo[0]*bc[1]) > 0\n",
        "    p3 = (ab[1]*ac[0] - ab[0]*ac[1]) > 0\n",
        "    return sum((p1, p2, p3)) == 2\n",
        "\n",
        "\n",
        "def proof(points):\n",
        "    labels = set([i for i in range(8)])\n",
        "    for i in it.combinations(labels, 4):\n",
        "        j = list(labels - set(i))\n",
        "        if is_convex(points[i,:]) and is_convex(points[j,:]):\n",
        "            return True\n",
        "    plt.scatter(points[i,0], points[i,1])\n",
        "    plt.scatter(points[j,0], points[j,1])\n",
        "    return False\n",
        "\n",
        "for i in range(10000):\n",
        "    points = np.random.random([8,2])\n",
        "    if not proof(points):\n",
        "        print(i, points)\n",
        "        break\n",
        "\n"
      ]
    },
    {
      "cell_type": "code",
      "source": [
        ""
      ],
      "metadata": {
        "id": "v4ClRJC_thBL"
      },
      "execution_count": null,
      "outputs": []
    }
  ]
}
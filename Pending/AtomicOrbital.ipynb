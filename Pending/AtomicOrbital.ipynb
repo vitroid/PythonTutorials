{
  "nbformat": 4,
  "nbformat_minor": 0,
  "metadata": {
    "colab": {
      "name": "AtomicOrbital.ipynb",
      "provenance": [],
      "authorship_tag": "ABX9TyNywHwt4nUFWtpfZZTY2lHB",
      "include_colab_link": true
    },
    "kernelspec": {
      "name": "python3",
      "display_name": "Python 3"
    },
    "language_info": {
      "name": "python"
    }
  },
  "cells": [
    {
      "cell_type": "markdown",
      "metadata": {
        "id": "view-in-github",
        "colab_type": "text"
      },
      "source": [
        "<a href=\"https://colab.research.google.com/github/vitroid/PythonTutorials/blob/master/Pending/AtomicOrbital.ipynb\" target=\"_parent\"><img src=\"https://colab.research.google.com/assets/colab-badge.svg\" alt=\"Open In Colab\"/></a>"
      ]
    },
    {
      "cell_type": "markdown",
      "source": [
        "# 水素原子の電子軌道\n",
        "\n",
        "教科書(「大学生の一般化学」 https://www.amazon.co.jp/dp/4563046256/ )の2.5章には、 Schrödinger 方程式の厳密解法が説明されています。しかし、これらの式を解いて、電子軌道の方程式を導くのは大変なので、ここでは概要だけを書きます。\n",
        "\n"
      ],
      "metadata": {
        "id": "1vlF0-FT6TTQ"
      }
    },
    {
      "cell_type": "markdown",
      "source": [
        "## 一次元の場合\n",
        "\n",
        "解くべきSchrödinger波動方程式は、一般にはこんな形をしています。\n",
        "\n",
        "(1次元の場合: 2.17式)\n",
        "$$\\left(-{\\hbar^2\\over 2m}{d^2\\over dx^2}+V(x)\\right)\\Psi(x)=E\\Psi(x)$$\n",
        "\n",
        "あれ? この式には時間$t$が含まれていませんね。波動方程式というのは、波の運動を表わす式なのに、時間が含まれていないのはなぜでしょうか。\n",
        "\n",
        "これは、一般的な波の満たすべき方程式ではなく、定在波の方程式です。定在波は、時間が経過しても同じ場所から動かず、振幅だけが時間変化するので、波の「形」と「高さ」を分離できます。つまり、本来なら波の形は$\\Psi'(x,t)$で表されるはずですが、定在波では$\\Psi'(x,t)=\\Psi(x)\\cdot T(t)$のように書ける、ということです。\n",
        "\n",
        "定在波では、それぞれの位置で波の高さは時間変化しますが、形は変わらない(節の場所はいつも節、腹の場所はいつも腹)ので、上の式は形に関する部分だけを抽出した形になっています。\n",
        "\n",
        "$\\Psi(x)$が波の形(波動関数)、$V(x)$はポテンシャルエネルギーです。\n",
        "\n"
      ],
      "metadata": {
        "id": "44KP55uS6cSj"
      }
    },
    {
      "cell_type": "markdown",
      "source": [
        "## 二次元の場合\n",
        "\n",
        "二次元の場合には、単純に$y$を書き加えるだけです。\n",
        "$$\\left[-{\\hbar^2\\over 2m}\\left({\\partial^2\\over \\partial x^2}+{\\partial^2\\over \\partial y^2}\\right)+V(x,y)\\right]\\Psi(x,y)=E\\Psi(x,y)$$\n",
        "円形の太鼓の膜の場合には、$xy$座標よりも、角度$\\theta$と半径$r$を用いた極座標のほうが扱いやすいので、極座標で同じ式を表現すると、\n",
        "$$\\left[-{\\hbar^2\\over 2m}\\left(\\frac{\\partial^2}{\\partial r^2}+\\frac {1}{r}\\frac{\\partial}{\\partial r}+\\frac{1}{r^2}\\frac{\\partial^2}{\\partial \\theta^2}\\right)+V(r,\\theta)\\right]\\Psi(r,\\theta)=E\\Psi(r,\\theta)$$\n",
        "\n",
        "円形の太鼓の膜の波動方程式の解き方はBの解説に書きました。(https://moodle.el.okayama-u.ac.jp/mod/resource/view.php?id=1010766 )定在波の形から想像できるように、膜の振動は、水面の波紋のように動径(半径)方向に波打つ振動と、ケーキやピザを切りわけるような、放射状の波(円周方向の波)の重ねあわせで表現できるので、実際に波の形を求める場合にも、変数分離という方法で、2つの種類の振動を別々に計算しました。\n",
        "\n"
      ],
      "metadata": {
        "id": "jOSFNRxN6jEW"
      }
    },
    {
      "cell_type": "markdown",
      "source": [
        "## 三次元の場合\n",
        "\n",
        "三次元の場合も、考え方はおなじです。\n",
        "$$\\left[-{\\hbar^2\\over 2m}\\left({\\partial^2\\over \\partial x^2}+{\\partial^2\\over \\partial y^2}+{\\partial^2\\over \\partial z^2}\\right)+V(x,y,z)\\right]\\Psi(x,y,z)=E\\Psi(x,y,z)$$\n",
        "あるいは、三次元の極座標で表すなら、(2.46)式\n",
        "$$\\left[-{\\hbar^2\\over 2m}\\left[{1\\over r^2}{\\partial\\over \\partial r}\\left(r^2{\\partial\\over \\partial r}\\right)+{1\\over r^2\\sin\\theta}{\\partial\\over \\partial \\theta}\\left(\\sin\\theta{\\partial\\over\\partial \\theta}\\right)+{1\\over r^2\\sin^2\\theta}{\\partial^2\\over\\partial\\phi^2}\\right]+V(r)\\right]\\Psi(r,\\theta,\\phi)=E\\Psi(r,\\theta,\\phi)$$\n",
        "となります。\n",
        "\n"
      ],
      "metadata": {
        "id": "J7mBoS_p6vQz"
      }
    },
    {
      "cell_type": "markdown",
      "source": [
        "## 電子軌道の場合\n",
        "\n",
        "電子軌道とは、原子核の周囲にとらえられた電子が作る定在波の形のことです。電子を核の近くにとらえるCoulomb力の効果は、上の式ではポテンシャル関数$V(r)=-{q^2\\over 4\\pi\\epsilon_0 r}$で表現されます。そして、電子軌道の場合も、太鼓の膜の振動と同様、動径方向の振動と、球面上の振動の2種類に分離できます。\n",
        "$$\\Psi(r,\\theta,\\phi)=R(r)Y(\\theta,\\phi)$$\n",
        "$R(r)$が動径方向の波の形をあらわす式、$Y(\\theta,\\phi)$が球面上の振動を表す式です。これを三次元の極座標の方程式(2.46)に入れてやると、(もう書き写すのが大変なので式番号で示します)\n",
        "$R(r, n, l)$は式(2.55)となり、$Y$は球面調和関数$Y_l^m(\\theta, \\phi)$が得られます。\n",
        "\n",
        "$R$の式のなかに現れる$(n,l)$ (ただし$0\\le l\\lt n$)は量子数と呼ばれる整数で、この番号が違うと波の形がちがってきますが、いずれの数字を選んでも波動方程式を満足します。\n",
        "\n",
        "以下では、$R$を実際にいくつかプロットしてみます。\n"
      ],
      "metadata": {
        "id": "AkeZQRmpzrUk"
      }
    },
    {
      "cell_type": "code",
      "execution_count": null,
      "metadata": {
        "id": "XZN9Tkyazoix"
      },
      "outputs": [],
      "source": [
        "import numpy as np\n",
        "from scipy.special import sph_harm, genlaguerre\n",
        "import math\n",
        "import matplotlib.pyplot as plt\n",
        "\n",
        "def R(r, n, l):\n",
        "    \"\"\"\n",
        "    水素の原子軌道の動径成分\n",
        "    r: 半径 (Bohr半径を1とする)\n",
        "    n: 主量子数\n",
        "    l: 方位量子数\n",
        "    \"\"\"\n",
        "    rho = 2.*r/n\n",
        "    l_poly = genlaguerre(n-l-1,2*l+1)(rho)\n",
        "    prefactor = np.sqrt((2./n)**3*math.factorial(n-l-1)/(2.*n*math.factorial(n+l)))\n",
        "    return prefactor*np.exp(-rho/2.)*rho**l*l_poly\n",
        "\n",
        "r = np.linspace(0.01, 10, 100)\n",
        "# 1s orbital\n",
        "n = 1\n",
        "l = 0\n",
        "plt.plot(r, R(r, n, l), label=\"1s\")\n",
        "# 2s orbital\n",
        "n = 2\n",
        "l = 0\n",
        "plt.plot(r, R(r, n, l), label=\"2s\")\n",
        "# 2p orbital\n",
        "n = 2\n",
        "l = 1\n",
        "plt.plot(r, R(r, n, l), label=\"2p\")\n",
        "\n",
        "plt.legend()\n",
        "plt.xlabel(r\"$r / a_0$\")"
      ]
    },
    {
      "cell_type": "markdown",
      "source": [
        "電子の波動関数自体は測定できませんが、波動関数の二乗が電子の存在確率に比例すると解釈されます。そこで、半径に対し、電子の存在確率をプロットします。(教科書 図3.4)波動関数は複素関数なので、波動関数の二乗は、波動関数の実部の二乗と虚部の二乗の和で計算します。"
      ],
      "metadata": {
        "id": "PUihtcE4JFIP"
      }
    },
    {
      "cell_type": "code",
      "source": [
        "r = np.linspace(0.01, 10, 100)\n",
        "# 1s orbital\n",
        "n = 1\n",
        "l = 0\n",
        "Rr = R(r, n, l)\n",
        "plt.plot(r, 4*np.pi*r**2*(Rr.real**2+Rr.imag**2), label=\"1s\")\n",
        "# 2s orbital\n",
        "n = 2\n",
        "l = 0\n",
        "Rr = R(r, n, l)\n",
        "plt.plot(r, 4*np.pi*r**2*(Rr.real**2+Rr.imag**2), label=\"2s\")\n",
        "# 3s orbital\n",
        "n = 3\n",
        "l = 0\n",
        "Rr = R(r, n, l)\n",
        "plt.plot(r, 4*np.pi*r**2*(Rr.real**2+Rr.imag**2), label=\"3s\")\n",
        "\n",
        "plt.legend()\n",
        "plt.xlabel(r\"$r / a_0$\")"
      ],
      "metadata": {
        "id": "FzRoFRE-JX6V"
      },
      "execution_count": null,
      "outputs": []
    },
    {
      "cell_type": "markdown",
      "source": [
        "講義の中で、一次元の現実の弦の振動は、たくさんの基本振動(正弦波)の足しあわせで表現できる、と説明しました。この正弦波の二次元バージョンが球面調和関数です。つまり、球面上に生じる波は、たくさんの基本振動(=球面調和関数)の足しあわせで表現できます。\n",
        "\n",
        "球面調和関数$Y_n^m(\\theta, \\phi)$は、極座標の緯度と経度をあらわす2つの角度の関数で、その値は下の図のようになります。\n",
        "![SphericalHarmonics](https://ambisonics.iem.at/xchange/sharmonics_symmetries.gif)\n",
        "赤と青が、関数の値の正負を表しています。\n",
        "\n",
        "原子軌道=電子の波動関数はこれらの2つの関数のかけ算で表せます。\n",
        "\n"
      ],
      "metadata": {
        "id": "TRiQ-w2lCsD7"
      }
    },
    {
      "cell_type": "code",
      "source": [
        "import math\n",
        "import matplotlib.pyplot as plt\n",
        "from matplotlib.widgets import Slider, Button, RadioButtons\n",
        "import scipy.special\n",
        "from scipy.special import sph_harm\n",
        "from mpl_toolkits.mplot3d import Axes3D\n",
        "from matplotlib import cm\n",
        "from matplotlib.colors import ListedColormap\n",
        "import skimage\n",
        "from skimage import measure\n",
        "\n",
        "import plotly.graph_objects as go\n",
        "\n",
        "\n",
        "def hydrogen_wf(n,l,m,X,Y,Z):\n",
        "    \"\"\"\n",
        "    水素の原子軌道(電子の波動関数)\n",
        "    X, Y, Z: 空間座標\n",
        "    n: 主量子数\n",
        "    l: 方位量子数\n",
        "    m: 磁気量子数\n",
        "    \"\"\"\n",
        "    # 直交座標から極座標に変換\n",
        "    r = np.sqrt(X**2+Y**2+Z**2)\n",
        "    Theta = np.arccos(Z/r)\n",
        "    Phi = np.arctan2(Y,X)\n",
        "    \n",
        "    # 波動関数は動径関数と球面関数の積\n",
        "    wf = R(r, n, l) * sph_harm(m, l, Phi, Theta)\n",
        "    # 特異点を回避する\n",
        "    wf = np.nan_to_num(wf)\n",
        "    return wf\n",
        "\n",
        "dz=0.5\n",
        "zmin=-10\n",
        "zmax=10\n",
        "x = np.arange(zmin,zmax,dz)\n",
        "y = np.arange(zmin,zmax,dz)\n",
        "z = np.arange(zmin,zmax,dz)\n",
        "X,Y,Z = np.meshgrid(x,y,z)\n",
        "n=2   #(n,l,m)=(2,1,0): 2p orbital\n",
        "l=1\n",
        "m=0\n",
        "wave = hydrogen_wf(n,l,m,X,Y,Z)\n",
        "# 二乗して存在確率に換算\n",
        "density = abs(wave)**2\n",
        "\n",
        "fig = go.Figure(data=go.Isosurface(\n",
        "    x=X.flatten(),\n",
        "    y=Y.flatten(),\n",
        "    z=Z.flatten(),\n",
        "    value=density.flatten(),\n",
        "    opacity=0.6,\n",
        "    surface_count=10,\n",
        "    # isomin=-0.,\n",
        "    # isomax=+0.05,\n",
        "    caps=dict(x_show=False, y_show=False, z_show=False)\n",
        "    ))\n",
        "fig.show()"
      ],
      "metadata": {
        "id": "jvWhF3baApDA"
      },
      "execution_count": null,
      "outputs": []
    },
    {
      "cell_type": "markdown",
      "source": [
        "Python言語のSympyライブラリは、記号演算を扱える優れものです。記号演算というのは、数式や変数を、数値ではなく抽象的な文字のままで計算することを表します。例えば、微分や不定積分なども扱えます。 (興味がある人はチュートリアルで試してみて下さい。 https://colab.research.google.com/github/vitroid/PythonTutorials/blob/master/2%20Advanced/080sympy.ipynb )\n",
        "\n",
        "Sympyの中には、水素の原子軌道の関数も含まれています。"
      ],
      "metadata": {
        "id": "xiAereo6871y"
      }
    },
    {
      "cell_type": "code",
      "source": [
        "from sympy.physics.hydrogen import Psi_nlm\n",
        "from sympy import Symbol\n",
        "r=Symbol(\"r\", positive=True)\n",
        "phi=Symbol(\"phi\", real=True)\n",
        "theta=Symbol(\"theta\", real=True)\n",
        "Z=1 # 水素\n",
        "\n",
        "n = 4\n",
        "l = 2\n",
        "m = 0\n",
        "Psi_nlm(n, l, m, r, phi, theta, Z)\n"
      ],
      "metadata": {
        "id": "5sRMxwQwG9ng"
      },
      "execution_count": null,
      "outputs": []
    },
    {
      "cell_type": "markdown",
      "source": [
        "むちゃくちゃ複雑な関数に見えますね。この式が、本当にSchrödinger方程式(2.46)式\n",
        "$$\\left[-{\\hbar^2\\over 2m}\\left[{1\\over r^2}{\\partial\\over \\partial r}\\left(r^2{\\partial\\over \\partial r}\\right)+{1\\over r^2\\sin\\theta}{\\partial\\over \\partial \\theta}\\left(\\sin\\theta{\\partial\\over\\partial \\theta}\\right)+{1\\over r^2\\sin^2\\theta}{\\partial^2\\over\\partial\\phi^2}\\right]+V(r)\\right]\\Psi(r,\\theta,\\phi)=E\\Psi(r,\\theta,\\phi)$$\n",
        "\n",
        "の解になっているのか、確かめてみましょう。"
      ],
      "metadata": {
        "id": "Qyk8xV4v-PoJ"
      }
    },
    {
      "cell_type": "code",
      "source": [
        "from sympy import diff, sin, pi\n",
        "hbar = Symbol(\"hbar\")\n",
        "mass = Symbol(\"m\")\n",
        "q = Symbol('q')\n",
        "e0 = Symbol('epsilon_0')\n",
        "a0 = 4*pi*e0*hbar**2 / (mass*q**2) # Bohr radius\n",
        "V = -q**2/(4*pi*e0*(r/a0))\n",
        "\n",
        "psi = Psi_nlm(n, l, m, r, phi, theta, Z)\n",
        "\n",
        "# 左辺の内側の角括弧の中身\n",
        "A = (1/r**2 * diff(r**2*diff(psi,r), r) + \n",
        "     1/(r**2*sin(theta)) * diff(sin(theta)*diff(psi,theta), theta) +\n",
        "     1/(r**2*sin(theta)**2) * diff(psi, (phi, 2)))\n",
        "E = (-A*(hbar**2/(2*mass))+V*psi) / psi\n",
        "E.simplify()"
      ],
      "metadata": {
        "id": "-Qn_Lksm8XA9"
      },
      "execution_count": null,
      "outputs": []
    },
    {
      "cell_type": "markdown",
      "source": [
        "右辺の$E$ (エネルギー)は、$r, \\theta, \\phi$に依存しない定数となり、波動関数$\\Psi$は確かにSchrödinger方程式を満足していることが確認できました。"
      ],
      "metadata": {
        "id": "dGFUfDusG3m6"
      }
    },
    {
      "cell_type": "code",
      "source": [
        ""
      ],
      "metadata": {
        "id": "rjB6JoH8J38A"
      },
      "execution_count": null,
      "outputs": []
    }
  ]
}
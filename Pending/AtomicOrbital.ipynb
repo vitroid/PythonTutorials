{
  "nbformat": 4,
  "nbformat_minor": 0,
  "metadata": {
    "colab": {
      "name": "AtomicOrbital.ipynb",
      "provenance": [],
      "authorship_tag": "ABX9TyN05c17f93AJ4T+7AeKrXOw",
      "include_colab_link": true
    },
    "kernelspec": {
      "name": "python3",
      "display_name": "Python 3"
    },
    "language_info": {
      "name": "python"
    }
  },
  "cells": [
    {
      "cell_type": "markdown",
      "metadata": {
        "id": "view-in-github",
        "colab_type": "text"
      },
      "source": [
        "<a href=\"https://colab.research.google.com/github/vitroid/PythonTutorials/blob/master/Pending/AtomicOrbital.ipynb\" target=\"_parent\"><img src=\"https://colab.research.google.com/assets/colab-badge.svg\" alt=\"Open In Colab\"/></a>"
      ]
    },
    {
      "cell_type": "markdown",
      "source": [
        "この文書は、Googleが提供するフリーのPython実行環境[Google Colaboratory](https://colab.research.google.com/) (通称Colab)上で実行できます。Colabでは、すべての処理が手許のパソコンではなく、Googleのクラウド上で実行されます。\n",
        "\n",
        "これまで、プログラムを書いたことがない人へ: コンピュータでプログラムを書いて、コンピュータに何かをさせる、というのがどういうことなのかを、体験して下さい。\n",
        "\n",
        "プログラミング経験者へ: Pythonで使える、さまざまな機能を駆使しています。短いプログラムでここまでできるのか、ということを体験し、ぜひ改造してみて下さい。"
      ],
      "metadata": {
        "id": "NRFW_maq9uZW"
      }
    },
    {
      "cell_type": "markdown",
      "source": [
        "# 水素原子の電子軌道\n",
        "\n",
        "教科書(「大学生の一般化学」 https://www.amazon.co.jp/dp/4563046256/ )の2.5章には、 Schrödinger 方程式の厳密解法が説明されています。しかし、これらの式を解いて、電子軌道の方程式を導くのは大変なので、ここでは概要だけを書きます。\n",
        "\n"
      ],
      "metadata": {
        "id": "1vlF0-FT6TTQ"
      }
    },
    {
      "cell_type": "markdown",
      "source": [
        "## 一次元の場合\n",
        "\n",
        "解くべきSchrödinger波動方程式は、一般にはこんな形をしています。\n",
        "\n",
        "(1次元の場合: 2.17式)\n",
        "$$\\left(-{\\hbar^2\\over 2m}{d^2\\over dx^2}+V(x)\\right)\\Psi(x)=E\\Psi(x)$$\n",
        "\n",
        "> 微分の記号と、微分される$\\Psi$が分けて書かれているのは見慣れないかもしれません。以下の式と同じ意味です。\n",
        "$$\\left(-{\\hbar^2\\over 2m}{d^2\\Psi(x)\\over dx^2}+V(x)\\Psi(x)\\right)=E\\Psi(x)$$\n",
        "もちろん、左右辺の$\\Psi(x)$を消してはいけません。$d^2\\over dx^2$や$d\\over dx$は「微分演算子」と呼ばれます。\n",
        "\n",
        "あれ? この式には時間$t$が含まれていませんね。波動方程式というのは、波の運動を表わす式なのに、時間が含まれていないのはなぜでしょうか。\n",
        "\n",
        "これは、一般的な波の満たすべき方程式ではなく、定在波の方程式です。定在波は、時間が経過しても同じ場所から動かず、振幅だけが時間変化するので、波の「形」と「高さ」を分離できます。つまり、本来なら波の形は$\\Psi'(x,t)$で表されるはずですが、定在波では$\\Psi'(x,t)=\\Psi(x)\\cdot T(t)$のように書ける、ということです。\n",
        "\n",
        "定在波では、それぞれの位置で波の高さは時間変化しますが、形は変わらない(節の場所はいつも節、腹の場所はいつも腹)ので、上の式は形に関する部分だけを抽出した形になっています。\n",
        "\n",
        "$\\Psi(x)$が波の形(波動関数)、$V(x)$はポテンシャルエネルギーです。\n",
        "\n"
      ],
      "metadata": {
        "id": "44KP55uS6cSj"
      }
    },
    {
      "cell_type": "markdown",
      "source": [
        "## 二次元の場合\n",
        "\n",
        "二次元の場合には、単純に$y$を書き加えるだけです。\n",
        "$$\\left[-{\\hbar^2\\over 2m}\\left({\\partial^2\\over \\partial x^2}+{\\partial^2\\over \\partial y^2}\\right)+V(x,y)\\right]\\Psi(x,y)=E\\Psi(x,y)$$\n",
        "\n",
        "> また見慣れないもの$\\partial^2\\over \\partial x^2$がでてきました。これは「偏微分演算子」と呼びます。計算のしかたは微分と同じです。偏微分の場合には、$x$と$y$を独立な変数と考え、$x$で偏微分する時には、$y$のほうはただの定数とみなします。\n",
        "\n",
        "太鼓の膜のように円形の振動を考える場合には、$xy$座標よりも、角度$\\theta$と半径$r$を用いた極座標のほうが扱いやすいので、極座標で同じ式を表現すると、\n",
        "$$\\left[-{\\hbar^2\\over 2m}\\left(\\frac{\\partial^2}{\\partial r^2}+\\frac {1}{r}\\frac{\\partial}{\\partial r}+\\frac{1}{r^2}\\frac{\\partial^2}{\\partial \\theta^2}\\right)+V(r,\\theta)\\right]\\Psi(r,\\theta)=E\\Psi(r,\\theta)$$\n",
        "\n",
        "二次元の極座標は、位置を半径と角度で次のように表します。\n",
        "\n",
        "![Polar_to_cartesian.png](data:image/png;base64,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)\n",
        "\n",
        "\n"
      ],
      "metadata": {
        "id": "jOSFNRxN6jEW"
      }
    },
    {
      "cell_type": "markdown",
      "source": [
        "> 微分変数を$(x,y)$から$(r,\\theta)$に変えるのは、愚直に計算するしかありません。\n",
        "> やりかたをここに書くと紙幅が足りないので、リンク先の解説を参考にして下さい: http://www.chem.nara-wu.ac.jp/~ohta/quantum-chemistry-3.pdf\n",
        "\n",
        "円形の太鼓の膜の波動方程式の解き方はBの解説に書きました。(https://moodle.el.okayama-u.ac.jp/mod/resource/view.php?id=1010766 )円形の膜の場合、解くべき方程式は Schrödinger 方程式とはちょっと違います。\n",
        "$$v^2\\left(\\frac{\\partial^2}{\\partial r^2}+\\frac {1}{r}\\frac{\\partial}{\\partial r}+\\frac{1}{r^2}\\frac{\\partial^2}{\\partial \\theta^2}\\right)u(r,\\theta,t)={\\partial^2 u\\over\\partial t^2}$$\n",
        "しかし、実質的には同じ解が得られます。\n",
        "\n",
        "$$u(r,\\theta,t)=T(t)\\Psi(r, \\theta),$$\n",
        "$$\\Psi(r,\\theta)=R(r)\\Theta(\\theta)$$\n",
        "\n",
        "定在波の形から想像できるように、膜の定在波の形$\\Psi(r,\\theta)$は、水面の波紋のような動径(半径)方向の波$R(r)$と、ケーキやピザを切りわけるような、放射状の波(円周方向の波)$\\Theta(\\theta)$の重ねあわせで表現できるので、実際に波の形を求める場合にも、変数分離という方法で、2つの種類の振動を別々に計算しました。\n",
        "\n",
        "以下では、半径方向の波の形$R(r)$をプロットしています。"
      ],
      "metadata": {
        "id": "dfWgTTKiABlF"
      }
    },
    {
      "cell_type": "code",
      "source": [
        "# Bessel function\n",
        "from scipy.special import jv, jn_zeros\n",
        "import numpy as np\n",
        "\n",
        "# Radius of the drum\n",
        "radius = 1.0\n",
        "\n",
        "m = 0 # order of the Bessel function (i.e. angular mode for the circular membrane)\n",
        "# Bessel's zero points\n",
        "alpha_mn = sc.jn_zeros(m, 5) # outputs nz zeros of Jm\n",
        "\n",
        "# radial mode\n",
        "for n in (1,2,3,4,5):\n",
        "    # lambda\n",
        "    wavelength = radius * alpha_mn[n-1]\n",
        "\n",
        "    r = np.linspace(0, 1.0, 100)\n",
        "    plt.plot(r, jv(0, wavelength*r), label=f\"mode {n}\")\n",
        "\n",
        "plt.legend()"
      ],
      "metadata": {
        "id": "Q_Hic4gHsVgR"
      },
      "execution_count": null,
      "outputs": []
    },
    {
      "cell_type": "markdown",
      "source": [
        "ちょっとがんばって、波の動きをアニメーションにしてみます。\n"
      ],
      "metadata": {
        "id": "MEvMX3oY3RrM"
      }
    },
    {
      "cell_type": "code",
      "source": [
        "import plotly.graph_objects as go\n",
        "import numpy as np\n",
        "\n",
        "import matplotlib.pyplot as plt\n",
        "import numpy as np\n",
        "\n",
        "# 丸い太鼓の定在波モード(n,l)\n",
        "# https://en.wikipedia.org/wiki/Vibrations_of_a_circular_membrane\n",
        "def membrane(n, l, r, theta, radius=1.0):\n",
        "    alpha_mn = sc.jn_zeros(l, n)[-1]\n",
        "    wavelength = radius * alpha_mn\n",
        "    # 半径方向の波 x 周方向の波(正弦波)\n",
        "    return jv(l, wavelength*r) * np.cos(theta*l)\n",
        "\n",
        "# 極座標空間\n",
        "r = np.linspace(0, 1.0, 40)\n",
        "theta = np.linspace(0, 2*np.pi, 40)\n",
        "r, theta = np.meshgrid(r, theta)\n",
        "\n",
        "n = 1    # 動径方向の腹の数\n",
        "l = 3    # 円周方向の波数\n",
        "\n",
        "# 波の振幅を計算する。\n",
        "Z = membrane(n, l, r, theta)\n",
        "\n",
        "# 直交座標に変換(プロットするために)\n",
        "X, Y = r*np.cos(theta), r*np.sin(theta)\n",
        "\n",
        "fig = go.Figure(data=[go.Surface(x=X, y=Y, z=Z)])\n",
        "\n",
        "fig.show()\n",
        "# Google Colab上でアニメーションするのは難しい!\n",
        "# 静止画で勘弁して下さい。"
      ],
      "metadata": {
        "id": "J7ca6ndA4Jd8"
      },
      "execution_count": null,
      "outputs": []
    },
    {
      "cell_type": "markdown",
      "source": [
        "## 三次元の場合\n",
        "\n",
        "三次元の場合も、考え方はおなじです。\n",
        "$$\\left[-{\\hbar^2\\over 2m}\\left({\\partial^2\\over \\partial x^2}+{\\partial^2\\over \\partial y^2}+{\\partial^2\\over \\partial z^2}\\right)+V(x,y,z)\\right]\\Psi(x,y,z)=E\\Psi(x,y,z)$$\n",
        "あるいは、三次元の極座標(球面座標)で表すなら、(2.46)式\n",
        "$$\\left[-{\\hbar^2\\over 2m}\\left[{1\\over r^2}{\\partial\\over \\partial r}\\left(r^2{\\partial\\over \\partial r}\\right)+{1\\over r^2\\sin\\theta}{\\partial\\over \\partial \\theta}\\left(\\sin\\theta{\\partial\\over\\partial \\theta}\\right)+{1\\over r^2\\sin^2\\theta}{\\partial^2\\over\\partial\\phi^2}\\right]+V(r)\\right]\\Psi(r,\\theta,\\phi)=E\\Psi(r,\\theta,\\phi)$$\n",
        "となります。\n",
        "\n",
        "> 球面座標 Spherical coordinate\n",
        ">\n",
        "> ![Spherical coordinate system](https://upload.wikimedia.org/wikipedia/commons/thumb/4/4c/Special_spherical_coord_01.png/490px-Special_spherical_coord_01.png)\n",
        "> $$x=r\\sin\\theta\\cos\\phi$$\n",
        "> $$y=r\\sin\\theta\\sin\\phi$$\n",
        "> $$z=r\\cos\\theta$$\n"
      ],
      "metadata": {
        "id": "J7mBoS_p6vQz"
      }
    },
    {
      "cell_type": "markdown",
      "source": [
        "## 電子軌道の場合\n",
        "\n",
        "電子軌道とは、原子核の周囲にとらえられた電子が作る定在波の形のことです。電子を核の近くにとらえるCoulomb力の効果は、上の式ではポテンシャル関数$V(r)=-{q^2\\over 4\\pi\\epsilon_0 r}$で表現されます。そして、電子軌道の場合も、太鼓の膜の振動と同様、動径方向の振動と、球面上の振動の2種類に分離できます。\n",
        "$$\\Psi(r,\\theta,\\phi)=R(r)Y(\\theta,\\phi)$$\n",
        "$R(r)$が動径方向の波の形をあらわす式、$Y(\\theta,\\phi)$が球面上の振動を表す式です。これを三次元の極座標の方程式(2.46)に入れてやると、(もう書き写すのが大変なので式番号で示します)\n",
        "$R(r, n, l)$は式(2.55)となり、$Y$は球面調和関数$Y_l^m(\\theta, \\phi)$が得られます。\n",
        "\n",
        "$R$の式のなかに現れる$(n,l)$ (ただし$0\\le l\\lt n$)は量子数と呼ばれる整数で、この番号が違うと波の形がちがってきますが、いずれの数字を選んでも波動方程式を満足します。\n",
        "\n",
        "以下では、$R$を実際にいくつかプロットしてみます。\n"
      ],
      "metadata": {
        "id": "AkeZQRmpzrUk"
      }
    },
    {
      "cell_type": "code",
      "execution_count": null,
      "metadata": {
        "id": "XZN9Tkyazoix"
      },
      "outputs": [],
      "source": [
        "import numpy as np\n",
        "from scipy.special import sph_harm, genlaguerre\n",
        "import math\n",
        "import matplotlib.pyplot as plt\n",
        "\n",
        "def R(r, n, l):\n",
        "    \"\"\"\n",
        "    水素の原子軌道の動径成分\n",
        "    r: 半径 (Bohr半径を1とする)\n",
        "    n: 主量子数\n",
        "    l: 方位量子数\n",
        "    \"\"\"\n",
        "    rho = 2.*r/n\n",
        "    l_poly = genlaguerre(n-l-1,2*l+1)(rho)\n",
        "    prefactor = np.sqrt((2./n)**3*math.factorial(n-l-1)/(2.*n*math.factorial(n+l)))\n",
        "    return prefactor*np.exp(-rho/2.)*rho**l*l_poly\n",
        "\n",
        "r = np.linspace(0.01, 10, 100)\n",
        "# 1s orbital\n",
        "n = 1\n",
        "l = 0\n",
        "plt.plot(r, R(r, n, l), label=\"1s\")\n",
        "# 2s orbital\n",
        "n = 2\n",
        "l = 0\n",
        "plt.plot(r, R(r, n, l), label=\"2s\")\n",
        "# 2p orbital\n",
        "n = 2\n",
        "l = 1\n",
        "plt.plot(r, R(r, n, l), label=\"2p\")\n",
        "\n",
        "plt.legend()\n",
        "plt.xlabel(r\"$r / a_0$\")"
      ]
    },
    {
      "cell_type": "markdown",
      "source": [
        "電子の波動関数自体は測定できませんが、波動関数の二乗が電子の存在確率に比例すると解釈されます。そこで、半径に対し、電子の存在確率をプロットします。(教科書 図3.4)波動関数は複素関数なので、波動関数の二乗は、波動関数の実部の二乗と虚部の二乗の和で計算します。"
      ],
      "metadata": {
        "id": "PUihtcE4JFIP"
      }
    },
    {
      "cell_type": "code",
      "source": [
        "r = np.linspace(0.01, 10, 100)\n",
        "# 1s orbital\n",
        "n = 1\n",
        "l = 0\n",
        "Rr = R(r, n, l)\n",
        "plt.plot(r, 4*np.pi*r**2*(Rr.real**2+Rr.imag**2), label=\"1s\")\n",
        "# 2s orbital\n",
        "n = 2\n",
        "l = 0\n",
        "Rr = R(r, n, l)\n",
        "plt.plot(r, 4*np.pi*r**2*(Rr.real**2+Rr.imag**2), label=\"2s\")\n",
        "# 3s orbital\n",
        "n = 3\n",
        "l = 0\n",
        "Rr = R(r, n, l)\n",
        "plt.plot(r, 4*np.pi*r**2*(Rr.real**2+Rr.imag**2), label=\"3s\")\n",
        "\n",
        "plt.legend()\n",
        "plt.xlabel(r\"$r / a_0$\")"
      ],
      "metadata": {
        "id": "FzRoFRE-JX6V"
      },
      "execution_count": null,
      "outputs": []
    },
    {
      "cell_type": "markdown",
      "source": [
        "Taken from https://dpotoyan.github.io/Chem324/H-atom-wavef.html .\n",
        "![](https://dpotoyan.github.io/Chem324/images/AO2.jpg)"
      ],
      "metadata": {
        "id": "O61XBlqxi4x-"
      }
    },
    {
      "cell_type": "markdown",
      "source": [
        "講義の中で、一次元の現実の弦の振動は、たくさんの基本振動(正弦波)の足しあわせで表現できる、と説明しました。この正弦波の二次元バージョンが球面調和関数です。つまり、球面上に生じる波は、たくさんの基本振動(=球面調和関数)の足しあわせで表現できます。\n",
        "\n",
        "球面調和関数$Y_l^m(\\theta, \\phi)$は、極座標の緯度と経度をあらわす2つの角度の関数です。式でも表現できますが、関数そのものを図示したほうがよくわかるでしょう。\n",
        "\n",
        "赤と青が、関数の値の正負を表しています。\n",
        "\n",
        "原子軌道=電子の波動関数は、直径方向の波の関数$R$と、球面上の波の関数$Y$のかけ算で表せます。"
      ],
      "metadata": {
        "id": "Cr1KLVmWldyG"
      }
    },
    {
      "cell_type": "code",
      "source": [
        "#@title 球面調和関数 { run: \"auto\", vertical-output: true, display-mode: \"both\" }\n",
        "# modified from\n",
        "# https://scipython.com/book/chapter-8-scipy/examples/visualizing-the-spherical-harmonics/ \n",
        "# by Matsumoto\n",
        "\n",
        "import matplotlib.pyplot as plt\n",
        "from matplotlib import cm, colors\n",
        "from mpl_toolkits.mplot3d import Axes3D\n",
        "import numpy as np\n",
        "from scipy.special import sph_harm\n",
        "\n",
        "phi = np.linspace(0, np.pi, 100)\n",
        "theta = np.linspace(0, 2*np.pi, 100)\n",
        "phi, theta = np.meshgrid(phi, theta)\n",
        "\n",
        "# The Cartesian coordinates of the unit sphere\n",
        "x = np.sin(phi) * np.cos(theta)\n",
        "y = np.sin(phi) * np.sin(theta)\n",
        "z = np.cos(phi)\n",
        "\n",
        "m = -1 #@param {type:\"slider\", min:-4, max:4}\n",
        "l = 1 #@param {type:\"slider\", min:0, max:4}\n",
        "\n",
        "if abs(m) > l:\n",
        "    \n",
        "    print('Out of range: m must be between -l and +l.')\n",
        "else:\n",
        "    # Calculate the spherical harmonic Y(l,m) and normalize to [0,1]\n",
        "    fcolors = sph_harm(m, l, theta, phi).real\n",
        "    fcolors = np.nan_to_num(fcolors)\n",
        "    if l > 0:\n",
        "        fmax, fmin = fcolors.max(), fcolors.min()\n",
        "        fcolors = (fcolors - fmin)/(fmax - fmin)\n",
        "\n",
        "    # Set the aspect ratio to 1 so our sphere looks spherical\n",
        "    fig = plt.figure(figsize=plt.figaspect(1.))\n",
        "    ax = fig.add_subplot(111, projection='3d')\n",
        "    ax.plot_surface(x, y, z,  rstride=1, cstride=1, facecolors=cm.seismic(fcolors))\n",
        "    # Turn off the axis planes\n",
        "    ax.set_axis_off()\n",
        "    plt.show()"
      ],
      "metadata": {
        "id": "2v0dCQAKlUjJ"
      },
      "execution_count": null,
      "outputs": []
    },
    {
      "cell_type": "markdown",
      "source": [
        "\n",
        "![SphericalHarmonics](https://ambisonics.iem.at/xchange/sharmonics_symmetries.gif)\n",
        "\n"
      ],
      "metadata": {
        "id": "TRiQ-w2lCsD7"
      }
    },
    {
      "cell_type": "code",
      "source": [
        "import plotly.graph_objects as go\n",
        "import numpy as np\n",
        "\n",
        "def hydrogen_wf(n,l,m,X,Y,Z):\n",
        "    \"\"\"\n",
        "    水素の原子軌道(電子の波動関数)\n",
        "    X, Y, Z: 空間座標\n",
        "    n: 主量子数\n",
        "    l: 方位量子数\n",
        "    m: 磁気量子数\n",
        "    \"\"\"\n",
        "    # 直交座標から極座標に変換\n",
        "    r = np.sqrt(X**2+Y**2+Z**2)\n",
        "    Theta = np.arccos(Z/r)\n",
        "    Phi = np.arctan2(Y,X)\n",
        "    \n",
        "    # 波動関数は動径関数と球面関数の積\n",
        "    wf = R(r, n, l) * sph_harm(m, l, Phi, Theta)\n",
        "    # 特異点を回避する\n",
        "    wf = np.nan_to_num(wf)\n",
        "    return wf\n",
        "\n",
        "dz=0.5\n",
        "zmin=-12\n",
        "zmax=12\n",
        "x = np.arange(zmin,zmax,dz)\n",
        "y = np.arange(zmin,zmax,dz)\n",
        "z = np.arange(zmin,zmax,dz)\n",
        "X,Y,Z = np.meshgrid(x,y,z)\n",
        "\n",
        "# (n,l,m)=(2,1,0): 2p_z orbital\n",
        "n=2 \n",
        "l=1 \n",
        "m=0 \n",
        "\n",
        "wave = hydrogen_wf(n,l,m,X,Y,Z)\n",
        "\n",
        "fig = go.Figure(data=go.Isosurface(\n",
        "    x=X.flatten(),\n",
        "    y=Y.flatten(),\n",
        "    z=Z.flatten(),\n",
        "    value = wave.real.flatten(),\n",
        "    opacity=0.4,\n",
        "    surface_count=10,\n",
        "    caps=dict(x_show=False, y_show=False, z_show=False)\n",
        "    ))\n",
        "fig.show()"
      ],
      "metadata": {
        "id": "jvWhF3baApDA"
      },
      "execution_count": null,
      "outputs": []
    },
    {
      "cell_type": "markdown",
      "source": [
        "Python言語のSympyライブラリは、記号演算を扱える優れものです。記号演算というのは、数式や変数を、数値ではなく抽象的な文字のままで計算することを表します。例えば、微分や不定積分なども扱えます。 (興味がある人は拙作のチュートリアルで試してみて下さい。\n",
        "\n",
        "* https://colab.research.google.com/github/vitroid/PythonTutorials/blob/master/2%20Advanced/080sympy.ipynb )\n",
        "\n",
        "Sympyの中には、水素の原子軌道の関数も含まれています。"
      ],
      "metadata": {
        "id": "xiAereo6871y"
      }
    },
    {
      "cell_type": "code",
      "source": [
        "from sympy.physics.hydrogen import Psi_nlm\n",
        "from sympy import Symbol\n",
        "\n",
        "# 記号演算で利用する「記号」変数を定義する。\n",
        "r=Symbol(\"r\", positive=True)\n",
        "phi=Symbol(\"phi\", real=True)\n",
        "theta=Symbol(\"theta\", real=True)\n",
        "\n",
        "# こちらは数値変数。\n",
        "Z=1 # 水素\n",
        "n = 4\n",
        "l = 2\n",
        "m = 0\n",
        "\n",
        "# 水素型原子の波動関数\n",
        "Psi_nlm(n, l, m, r, phi, theta, Z)\n"
      ],
      "metadata": {
        "id": "5sRMxwQwG9ng"
      },
      "execution_count": null,
      "outputs": []
    },
    {
      "cell_type": "markdown",
      "source": [
        "むちゃくちゃ複雑な関数に見えますね。この式が、本当にSchrödinger方程式(2.46)式\n",
        "$$\\left[-{\\hbar^2\\over 2m}\\left[{1\\over r^2}{\\partial\\over \\partial r}\\left(r^2{\\partial\\over \\partial r}\\right)+{1\\over r^2\\sin\\theta}{\\partial\\over \\partial \\theta}\\left(\\sin\\theta{\\partial\\over\\partial \\theta}\\right)+{1\\over r^2\\sin^2\\theta}{\\partial^2\\over\\partial\\phi^2}\\right]+V(r)\\right]\\Psi(r,\\theta,\\phi)=E\\Psi(r,\\theta,\\phi)$$\n",
        "\n",
        "の解になっているのか、確かめてみましょう。"
      ],
      "metadata": {
        "id": "Qyk8xV4v-PoJ"
      }
    },
    {
      "cell_type": "code",
      "source": [
        "from sympy import diff, sin, pi\n",
        "\n",
        "# 記号演算で利用する「記号」変数を定義する。\n",
        "hbar = Symbol(\"hbar\")\n",
        "mass = Symbol(\"m\")\n",
        "q = Symbol('q')\n",
        "e0 = Symbol('epsilon_0')\n",
        "\n",
        "# 記号を用いて式を定義する。\n",
        "a0 = 4*pi*e0*hbar**2 / (mass*q**2) # Bohr radius\n",
        "V = -q**2/(4*pi*e0*(r/a0))\n",
        "\n",
        "psi = Psi_nlm(n, l, m, r, phi, theta, Z)\n",
        "\n",
        "# 左辺の内側の角括弧の中身\n",
        "# Sympyを使って数式のまま微分する。\n",
        "A = (1/r**2 * diff(r**2*diff(psi,r), r) + \n",
        "     1/(r**2*sin(theta)) * diff(sin(theta)*diff(psi,theta), theta) +\n",
        "     1/(r**2*sin(theta)**2) * diff(psi, (phi, 2)))\n",
        "E = (-A*(hbar**2/(2*mass))+V*psi) / psi\n",
        "E.simplify()"
      ],
      "metadata": {
        "id": "-Qn_Lksm8XA9"
      },
      "execution_count": null,
      "outputs": []
    },
    {
      "cell_type": "markdown",
      "source": [
        "右辺の$E$ (エネルギー)は、$r, \\theta, \\phi$に依存しない定数となり、波動関数$\\Psi$は確かにSchrödinger方程式を満足していることが確認できました。"
      ],
      "metadata": {
        "id": "dGFUfDusG3m6"
      }
    }
  ]
}
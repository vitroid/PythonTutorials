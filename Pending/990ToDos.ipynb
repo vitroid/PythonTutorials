{
 "cells": [
  {
   "cell_type": "markdown",
   "metadata": {},
   "source": [
    "* 論文にある式を、プログラムにする方法\n",
    "    * 分子間力\n",
    "    * 分布関数\n",
    "    * 最大エントロピー法\n",
    "    * 多次元尺度法\n",
    "* グラフィックス\n",
    "    * WinPythonはグラフィックスに関しては窮屈だが、VPythonですべて解決するのかもしれない。\n",
    "\n",
    "IPythonのみで進めるのは窮屈だ。また、WinPythonの不自由さも相当窮屈だ。\n",
    "\n",
    "### やりたいのにできていないテーマ\n",
    "* 音声の扱い(ICAなど)\n",
    "* アニメーション(NMDSなど)\n",
    "* 3D描画(Processing)\n",
    "* \n",
    "\n",
    "Processing.pyを使う。"
   ]
  },
  {
   "cell_type": "code",
   "execution_count": null,
   "metadata": {
    "collapsed": true
   },
   "outputs": [],
   "source": []
  }
 ],
 "metadata": {
  "kernelspec": {
   "display_name": "Python 3",
   "language": "python",
   "name": "python3"
  },
  "language_info": {
   "codemirror_mode": {
    "name": "ipython",
    "version": 3
   },
   "file_extension": ".py",
   "mimetype": "text/x-python",
   "name": "python",
   "nbconvert_exporter": "python",
   "pygments_lexer": "ipython3",
   "version": "3.6.5"
  }
 },
 "nbformat": 4,
 "nbformat_minor": 1
}

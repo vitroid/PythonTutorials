{
 "cells": [
  {
   "cell_type": "markdown",
   "metadata": {},
   "source": [
    "# イジングモデル\n",
    "\n",
    "イジングハミルトニアンは次の式で表せる。\n",
    "$$H(\\{s\\})=-\\sum_{NN}Js_is_j-\\sum_i\\mu s_i$$\n",
    "NNは最近接対の組みあわせを表す。\n",
    "\n",
    "## イジングモデルの(素朴な)実装\n",
    "\n",
    "Monte Carlo法を用い、1つずつスピンを確率的に変化させて、時間発展させる。\n",
    "### 外場のないケース\n",
    "\n",
    "ランダムな配置を準備する。上向きスピンを1、下向きスピンを-1で表す。"
   ]
  },
  {
   "cell_type": "code",
   "execution_count": null,
   "metadata": {},
   "outputs": [],
   "source": [
    "from math import exp\n",
    "import numpy as np\n",
    "import random\n",
    "N=100\n",
    "spins = np.random.randint(0,2,size=(N,N))*2-1\n",
    "spins"
   ]
  },
  {
   "cell_type": "markdown",
   "metadata": {},
   "source": [
    "温度kTを設定する。"
   ]
  },
  {
   "cell_type": "code",
   "execution_count": null,
   "metadata": {},
   "outputs": [],
   "source": [
    "kT=2.0"
   ]
  },
  {
   "cell_type": "markdown",
   "metadata": {},
   "source": [
    "カップリング(相互作用)の定数Jは1とする。"
   ]
  },
  {
   "cell_type": "code",
   "execution_count": null,
   "metadata": {},
   "outputs": [],
   "source": [
    "J=1"
   ]
  },
  {
   "cell_type": "markdown",
   "metadata": {},
   "source": [
    "「ここから繰り返し\n",
    "\n",
    "マップ上の1点をランダムに選ぶ。"
   ]
  },
  {
   "cell_type": "code",
   "execution_count": null,
   "metadata": {},
   "outputs": [],
   "source": [
    "row=random.randint(0,N-1)\n",
    "col=random.randint(0,N-1)\n",
    "row,col"
   ]
  },
  {
   "cell_type": "markdown",
   "metadata": {},
   "source": [
    "その格子点のスピン値と、隣接する4点のスピン値は?"
   ]
  },
  {
   "cell_type": "code",
   "execution_count": null,
   "metadata": {},
   "outputs": [],
   "source": [
    "s0,s1,s2,s3,s4 = spins[row,col], spins[row-1,col],spins[row+1,col],spins[row,col-1],spins[row,col+1]\n",
    "s0,s1,s2,s3,s4"
   ]
  },
  {
   "cell_type": "markdown",
   "metadata": {},
   "source": [
    "現在の相互作用エネルギーは、隣接するスピンの向きで決まる。"
   ]
  },
  {
   "cell_type": "code",
   "execution_count": null,
   "metadata": {},
   "outputs": [],
   "source": [
    "E0 = -J*(s0*s1 + s0*s2 + s0*s3 + s0*s4)"
   ]
  },
  {
   "cell_type": "markdown",
   "metadata": {},
   "source": [
    "s0を反転させてみて、反転後のエネルギーを計算する。計算するまでもなく-E0になる"
   ]
  },
  {
   "cell_type": "code",
   "execution_count": null,
   "metadata": {},
   "outputs": [],
   "source": [
    "E1 = -E0"
   ]
  },
  {
   "cell_type": "markdown",
   "metadata": {},
   "source": [
    "Metropolisの方法により、次の確率で反転を受けいれる。\n",
    "1. エネルギーが低くなる場合は、確率1\n",
    "2. エネルギーが高くなる場合は、確率$\\exp\\left({-\\Delta E\\over kT}\\right)$\n"
   ]
  },
  {
   "cell_type": "code",
   "execution_count": null,
   "metadata": {},
   "outputs": [],
   "source": [
    "P = 1.0\n",
    "if E1 > E0:\n",
    "    dE = E1 - E0 # positive\n",
    "    P = exp(-dE/kT)\n",
    "if random.random() < P:\n",
    "    # accept\n",
    "    spins[row,col] = -spins[row,col]"
   ]
  },
  {
   "cell_type": "markdown",
   "metadata": {},
   "source": [
    "ここまで繰り返し」"
   ]
  },
  {
   "cell_type": "markdown",
   "metadata": {},
   "source": [
    "これでだいたいできたのだが、周期境界条件を実現するために少し工夫をする。\n",
    "* rowがたまたま0の場合、spins[row-1,col]の1つ目の引数は負になるが、都合のいいことに、Pythonでは-1は最後の要素(今の場合だと99番目の要素)を指すので、自然に周期境界条件が満足される。\n",
    "* rowがたまたま99の場合、spins[row+1,col]はどうなるか、というと、"
   ]
  },
  {
   "cell_type": "code",
   "execution_count": null,
   "metadata": {},
   "outputs": [],
   "source": [
    "spins[100,0]"
   ]
  },
  {
   "cell_type": "markdown",
   "metadata": {},
   "source": [
    "エラーになってしまう。そこで、代わりにspins[row+1-100, col]を参照する。(なぜこう書くと都合がいいのでしょうか?)\n",
    "\n",
    "全体をまとめると、"
   ]
  },
  {
   "cell_type": "code",
   "execution_count": null,
   "metadata": {},
   "outputs": [],
   "source": [
    "from math import exp\n",
    "import numpy as np\n",
    "import random\n",
    "import time\n",
    "\n",
    "N=100\n",
    "spins = np.random.randint(0,2,size=(N,N))*2-1\n",
    "kT = 2.0\n",
    "J = 1.0\n",
    "\n",
    "starttime = time.time()\n",
    "\n",
    "for i in range(100): # 100 MC steps\n",
    "    for j in range(N*N): # for every spin,\n",
    "        row=random.randint(0,N-1)\n",
    "        col=random.randint(0,N-1)\n",
    "        s0,s1,s2,s3,s4 = spins[row,col], spins[row-1,col],spins[row+1-N,col],spins[row,col-1],spins[row,col+1-N]\n",
    "        E0 = -J*(s0*s1 + s0*s2 + s0*s3 + s0*s4)\n",
    "        E1 = -E0\n",
    "        P = 1.0\n",
    "        if E1 > E0:\n",
    "            dE = E1 - E0 # positive\n",
    "            P = exp(-dE/kT)\n",
    "        if random.random() < P:\n",
    "            # accept\n",
    "            spins[row,col] = -spins[row,col]\n",
    "\n",
    "duration = time.time() - starttime\n",
    "print(duration)"
   ]
  },
  {
   "cell_type": "markdown",
   "metadata": {},
   "source": [
    "spinsの内容を図にしてみる。"
   ]
  },
  {
   "cell_type": "code",
   "execution_count": null,
   "metadata": {},
   "outputs": [],
   "source": [
    "%matplotlib inline\n",
    "from matplotlib import pyplot as plt\n",
    "plt.imshow(spins)"
   ]
  },
  {
   "cell_type": "markdown",
   "metadata": {},
   "source": [
    "なんとなくドメインができているように見えるが、これが平衡状態がどうかよくわからない。そもそも、平衡に至ったかどうかを見る方法がない。"
   ]
  },
  {
   "cell_type": "markdown",
   "metadata": {},
   "source": [
    "全エネルギーを計算する関数と、局所エネルギーを計算する関数をあらかじめ準備しておく。"
   ]
  },
  {
   "cell_type": "code",
   "execution_count": null,
   "metadata": {},
   "outputs": [],
   "source": [
    "def energy(spins,row,col,J=1):\n",
    "    \"\"\"\n",
    "    Local interaction at (row, col) of spins\n",
    "    \"\"\"\n",
    "    Nr, Nc = spins.shape\n",
    "    s0,s1,s2,s3,s4 = spins[row,col], spins[row-1,col],spins[row+1-Nr,col],spins[row,col-1],spins[row,col+1-Nc]\n",
    "    return -J*(s0*s1 + s0*s2 + s0*s3 + s0*s4)\n",
    "\n",
    "def total_energy(spins,J=1):\n",
    "    Nr, Nc = spins.shape\n",
    "    E = 0.0\n",
    "    for row in range(Nr):\n",
    "        for col in range(Nc):\n",
    "            E += energy(spins, row, col, J)\n",
    "    return E/2"
   ]
  },
  {
   "cell_type": "markdown",
   "metadata": {},
   "source": [
    "これを使って最初のエネルギーと、エネルギー変化を追跡し、最後にプロットする。"
   ]
  },
  {
   "cell_type": "code",
   "execution_count": null,
   "metadata": {},
   "outputs": [],
   "source": [
    "%matplotlib inline\n",
    "from matplotlib import pyplot as plt\n",
    "import numpy as np\n",
    "import random\n",
    "import time\n",
    "\n",
    "N=100\n",
    "spins = np.random.randint(0,2,size=(N,N))*2-1\n",
    "kT = 2.0\n",
    "J = 1.0\n",
    "\n",
    "starttime = time.time()\n",
    "steps = 100\n",
    "E = total_energy(spins)\n",
    "rec = []\n",
    "\n",
    "for i in range(steps):\n",
    "    for j in range(N*N):\n",
    "        row=random.randint(0,N-1)\n",
    "        col=random.randint(0,N-1)\n",
    "        E0 = energy(spins,row,col)\n",
    "        E1 = -E0\n",
    "        dE = E1 - E0 # positive\n",
    "        P = 1.0\n",
    "        if E1 > E0:\n",
    "            P = exp(-dE/kT)\n",
    "        if random.random() < P:\n",
    "            # accept\n",
    "            spins[row,col] = -spins[row,col]\n",
    "            E += dE\n",
    "    # 1000回記録する。\n",
    "    rec.append(E/(N*N))\n",
    "\n",
    "duration = time.time() - starttime\n",
    "print(duration)\n",
    "\n",
    "plt.plot(rec)\n",
    "plt.show()\n",
    "plt.imshow(spins)"
   ]
  },
  {
   "cell_type": "markdown",
   "metadata": {},
   "source": [
    "設定を変えて、いろいろ計算しやすいように、上のプログラム自体も関数にしてしまいます。"
   ]
  },
  {
   "cell_type": "code",
   "execution_count": null,
   "metadata": {},
   "outputs": [],
   "source": [
    "import numpy as np\n",
    "import random\n",
    "\n",
    "def ising(N, kT, J, steps):\n",
    "    spins = np.random.randint(0,2,size=(N,N))*2-1\n",
    "\n",
    "    E = total_energy(spins)\n",
    "    rec = []\n",
    "\n",
    "    for i in range(steps):\n",
    "        for j in range(N*N):\n",
    "            row=random.randint(0,N-1)\n",
    "            col=random.randint(0,N-1)\n",
    "            E0 = energy(spins,row,col)\n",
    "            E1 = -E0\n",
    "            dE = E1 - E0 # positive\n",
    "            P = 1.0\n",
    "            if E1 > E0:\n",
    "                P = exp(-dE/kT)\n",
    "            if random.random() < P:\n",
    "                # accept\n",
    "                spins[row,col] = -spins[row,col]\n",
    "                E += dE\n",
    "        # 1000回記録する。\n",
    "        rec.append(E/(N*N))\n",
    "    return rec, spins\n"
   ]
  },
  {
   "cell_type": "code",
   "execution_count": null,
   "metadata": {},
   "outputs": [],
   "source": [
    "%matplotlib inline\n",
    "from matplotlib import pyplot as plt\n",
    "import time\n",
    "\n",
    "starttime = time.time()\n",
    "rec, spins = ising(N=100, kT=2.0, J=1.0, steps=100)\n",
    "duration = time.time() - starttime\n",
    "print(duration)\n",
    "plt.plot(rec)\n",
    "plt.show()\n",
    "plt.imshow(spins)"
   ]
  },
  {
   "cell_type": "markdown",
   "metadata": {},
   "source": [
    "イジングモデルの臨界点はkT=2.269らしいので、それより少し高温で計算して比較しましょう。"
   ]
  },
  {
   "cell_type": "code",
   "execution_count": null,
   "metadata": {},
   "outputs": [],
   "source": [
    "%matplotlib inline\n",
    "from matplotlib import pyplot as plt\n",
    "import time\n",
    "\n",
    "starttime = time.time()\n",
    "rec, spins = ising(N=100, kT=2.8, J=1.0, steps=100)\n",
    "duration = time.time() - starttime\n",
    "print(duration)\n",
    "plt.plot(rec)\n",
    "plt.show()\n",
    "plt.imshow(spins)"
   ]
  },
  {
   "cell_type": "markdown",
   "metadata": {},
   "source": [
    "温度が高いと、緩和は速く、分離が見られないことがわかります。\n",
    "\n",
    "では臨界点を見てみましょう。"
   ]
  },
  {
   "cell_type": "code",
   "execution_count": null,
   "metadata": {},
   "outputs": [],
   "source": [
    "%matplotlib inline\n",
    "from matplotlib import pyplot as plt\n",
    "import time\n",
    "\n",
    "starttime = time.time()\n",
    "rec, spins = ising(N=100, kT=2.269, J=1.0, steps=100)\n",
    "duration = time.time() - starttime\n",
    "print(duration)\n",
    "plt.plot(rec)\n",
    "plt.show()\n",
    "plt.imshow(spins)"
   ]
  },
  {
   "cell_type": "markdown",
   "metadata": {},
   "source": [
    "分離しているように見えます。実は、臨界点をシミュレーションするには、この系のサイズでは不十分で、臨界状態を再現しているとは言えません。"
   ]
  },
  {
   "cell_type": "markdown",
   "metadata": {},
   "source": [
    "### 多少速くする\n",
    "\n",
    "エネルギーを計算する際の、`-J*(s0*s1 + s0*s2 + s0*s3 + s0*s4)`の部分は、実際にはsが$\\pm 1$のいずれかしかとらず、Jも実質上1以外の数字に選ぶことはないので、(-4, -2, 0, +2, +4)の5つの値しかとりません。すると、dEの値も(-8,-4,0,4,8)の5つの値しかとらないし、温度は事前に指定されているので、$\\exp(-dE/kT)$のとる値も、5つに限定されます。\n",
    "\n",
    "これらの計算を毎回行うのは無駄なので、あらかじめ計算しておくことにしましょう。"
   ]
  },
  {
   "cell_type": "code",
   "execution_count": null,
   "metadata": {},
   "outputs": [],
   "source": [
    "import numpy as np\n",
    "import random\n",
    "\n",
    "\n",
    "def energy_simplified(spins,row,col):\n",
    "    \"\"\"\n",
    "    Local interaction at (row, col) of spins\n",
    "    J is always unity.\n",
    "    \"\"\"\n",
    "    Nr, Nc = spins.shape\n",
    "    s0,s1,s2,s3,s4 = spins[row,col], spins[row-1,col],spins[row+1-Nr,col],spins[row,col-1],spins[row,col+1-Nc]\n",
    "    return -s0*(s1+s2+s3+s4)\n",
    "\n",
    "def total_energy_simplified(spins):\n",
    "    Nr, Nc = spins.shape\n",
    "    E = 0.0\n",
    "    for row in range(Nr):\n",
    "        for col in range(Nc):\n",
    "            E += energy(spins, row, col)\n",
    "    return E/2\n",
    "\n",
    "\n",
    "\n",
    "def ising_fast(N, kT, steps): # Jは1に固定する。\n",
    "    spins = np.random.randint(0,2,size=(N,N))*2-1\n",
    "    P = {-2: exp(-4.0/kT),\n",
    "         -4: exp(-8.0/kT)}\n",
    "\n",
    "    E = total_energy_simplified(spins)\n",
    "    rec = []\n",
    "\n",
    "    for i in range(steps):\n",
    "        for j in range(N*N):\n",
    "            row=random.randint(0,N-1)\n",
    "            col=random.randint(0,N-1)\n",
    "            E0 = energy_simplified(spins,row,col)\n",
    "            if E0 < 0:\n",
    "                if random.random() < P[E0]:\n",
    "                    # accept\n",
    "                    spins[row,col] = -spins[row,col]\n",
    "                    E -= E0*2\n",
    "            else:\n",
    "                # accept\n",
    "                spins[row,col] = -spins[row,col]\n",
    "                E -= E0*2\n",
    "\n",
    "        # 1000回記録する。\n",
    "        rec.append(E/(N*N))\n",
    "    return rec, spins\n",
    "\n"
   ]
  },
  {
   "cell_type": "code",
   "execution_count": null,
   "metadata": {},
   "outputs": [],
   "source": [
    "%matplotlib inline\n",
    "from matplotlib import pyplot as plt\n",
    "import time\n",
    "\n",
    "starttime = time.time()\n",
    "rec, spins = ising_fast(N=100, kT=2.269, steps=100)\n",
    "duration = time.time() - starttime\n",
    "print(duration)\n",
    "plt.plot(rec)\n",
    "plt.show()\n",
    "plt.imshow(spins)"
   ]
  },
  {
   "cell_type": "markdown",
   "metadata": {},
   "source": [
    "少し速くなりました。とはいえ、100 MCステップの計算に6秒もかかります。"
   ]
  },
  {
   "cell_type": "markdown",
   "metadata": {},
   "source": [
    "## 爆速化\n",
    "\n",
    "numpyのベクトル計算を利用して、どこまで速くできるかに挑戦する。\n",
    "\n",
    "マップを、チェッカーボードのように行+列が偶数の点と奇数の点に分ける。\n",
    "ある格子点のスピン反転確率は、となりの4点の状態だけで決まる。白マスにあるスピンの反転確率は、隣の4つの黒マスの状態で決まる。\n",
    "ある白マスのスピンを反転しても、隣の白マスには全く影響が及ばないので、白マスはすべて同時に反転試行しても構わない、ということになる。\n"
   ]
  },
  {
   "cell_type": "code",
   "execution_count": null,
   "metadata": {},
   "outputs": [],
   "source": [
    "%matplotlib inline\n",
    "from matplotlib import pyplot as plt\n",
    "import time\n",
    "from math import exp\n",
    "import numpy as np\n",
    "\n",
    "\n",
    "def ising_fastest(N, kT, J, steps):\n",
    "    spins = np.random.randint(0,2,size=(N,N))*2-1\n",
    "    # make a checker board\n",
    "    colmap = np.array([np.arange(N) for i in range(N)])\n",
    "    rowmap = colmap.T\n",
    "    checker = (colmap+rowmap) % 2 == 0\n",
    "    inverted = checker == False\n",
    "    #print(checker)\n",
    "    #print(inverted)\n",
    "\n",
    "    P = np.array([min(exp(J*i/kT),1) for i in range(-8,9)])\n",
    "    #print(P)\n",
    "    rec = []\n",
    "    for loop in range(steps):\n",
    "        for parity in (checker, inverted): #2部に分けて更新する。(半分の計算はただ捨てる)\n",
    "            neighbors = np.roll(spins,1,axis=0) + np.roll(spins,-1,axis=0) + np.roll(spins,1,axis=1) + np.roll(spins,-1,axis=1)\n",
    "            interactions=spins*neighbors\n",
    "            # print(-J*np.sum(interactions)/N**2, np.sum(grid)/N**2)\n",
    "            dSS=-interactions*2\n",
    "            # print(dSS)\n",
    "            probs=P[dSS+8]\n",
    "            accept=probs>np.random.random((N,N))\n",
    "            # print(accept)\n",
    "            lastspins = spins.copy()\n",
    "            spins[accept&parity] = -spins[accept&parity]\n",
    "            #plt.imshow(spins-lastspins)\n",
    "            #plt.show()\n",
    "        rec.append(np.sum(-J*interactions)/2/(N*N))\n",
    "    return rec, spins\n",
    "\n",
    "for kT in (2.1, 2.2, 2.3, 2.4):\n",
    "    starttime = time.time()\n",
    "    rec, spins = ising_fastest(N=1000, kT=kT, J=1.0, steps=1000)\n",
    "    duration = time.time() - starttime\n",
    "    print(\"kT={0}, {1} sec.\".format(kT, duration))\n",
    "    plt.plot(rec)\n",
    "    plt.show()\n",
    "    plt.imshow(spins)\n",
    "    plt.show()\n"
   ]
  },
  {
   "cell_type": "markdown",
   "metadata": {},
   "source": [
    "だいたい100倍速くなった。1000x1000のマップで、1000ステップぐらい計算すると、kT=2.2〜2.3で結果が変化するのがわかる。臨界点近くでは、1000 MC stepsでは不十分なようだ。"
   ]
  },
  {
   "cell_type": "markdown",
   "metadata": {},
   "source": [
    "## 外場がある場合\n",
    "\n",
    "格子ガスのシミュレーション(一次相転移)のためには、外場を印加する必要がある。"
   ]
  },
  {
   "cell_type": "markdown",
   "metadata": {},
   "source": [
    "## もっと速く!\n",
    "\n",
    "もっと速くするには、コアの部分をFortranなどで書くのが良いでしょう。f2pyを使うと、ほとんど障壁なくFortranとpythonを連携させることができます。1 MC Stepsの計算をFortranで行い、表示をPythonで、という分担が妥当でしょう。"
   ]
  },
  {
   "cell_type": "code",
   "execution_count": null,
   "metadata": {},
   "outputs": [],
   "source": []
  }
 ],
 "metadata": {
  "kernelspec": {
   "display_name": "Python 3 (ipykernel)",
   "language": "python",
   "name": "python3"
  },
  "language_info": {
   "codemirror_mode": {
    "name": "ipython",
    "version": 3
   },
   "file_extension": ".py",
   "mimetype": "text/x-python",
   "name": "python",
   "nbconvert_exporter": "python",
   "pygments_lexer": "ipython3",
   "version": "3.9.7"
  }
 },
 "nbformat": 4,
 "nbformat_minor": 4
}

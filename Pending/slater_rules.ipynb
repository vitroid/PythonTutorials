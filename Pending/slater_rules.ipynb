{
  "nbformat": 4,
  "nbformat_minor": 0,
  "metadata": {
    "colab": {
      "provenance": [],
      "include_colab_link": true
    },
    "kernelspec": {
      "name": "python3",
      "display_name": "Python 3"
    },
    "language_info": {
      "name": "python"
    }
  },
  "cells": [
    {
      "cell_type": "markdown",
      "metadata": {
        "id": "view-in-github",
        "colab_type": "text"
      },
      "source": [
        "<a href=\"https://colab.research.google.com/github/vitroid/PythonTutorials/blob/master/Pending/slater_rules.ipynb\" target=\"_parent\"><img src=\"https://colab.research.google.com/assets/colab-badge.svg\" alt=\"Open In Colab\"/></a>"
      ]
    },
    {
      "cell_type": "code",
      "source": [
        "# https://github.com/andrejewski/periodic-table\n",
        "import pandas as pd\n",
        "\n",
        "df = pd.read_csv(\"electron.csv\")\n",
        "df"
      ],
      "metadata": {
        "colab": {
          "base_uri": "https://localhost:8080/",
          "height": 504
        },
        "id": "-4ycUDsPPzDo",
        "outputId": "4e9600d1-7c8b-4528-a4d6-1e442afaeebd"
      },
      "execution_count": null,
      "outputs": [
        {
          "output_type": "execute_result",
          "data": {
            "text/plain": [
              "     atomicNumber  symbol       electronicConfiguration\n",
              "0               1      H                           1s1 \n",
              "1               2     He                           1s2 \n",
              "2               3     Li                       1s2 2s1 \n",
              "3               4     Be                       1s2 2s2 \n",
              "4               5      B                   1s2 2s2 2p1 \n",
              "..            ...     ...                           ...\n",
              "113           114     Fl   6s2 6p6   5f14 6d10 7s2 7p2 \n",
              "114           115     Mc   6s2 6p6   5f14 6d10 7s2 7p3 \n",
              "115           116     Lv   6s2 6p6   5f14 6d10 7s2 7p4 \n",
              "116           117     Ts   6s2 6p6   5f14 6d10 7s2 7p5 \n",
              "117           118     Og   6s2 6p6   5f14 6d10 7s2 7p6 \n",
              "\n",
              "[118 rows x 3 columns]"
            ],
            "text/html": [
              "\n",
              "  <div id=\"df-bb978c96-eb93-4b85-bfba-0eadee70614c\">\n",
              "    <div class=\"colab-df-container\">\n",
              "      <div>\n",
              "<style scoped>\n",
              "    .dataframe tbody tr th:only-of-type {\n",
              "        vertical-align: middle;\n",
              "    }\n",
              "\n",
              "    .dataframe tbody tr th {\n",
              "        vertical-align: top;\n",
              "    }\n",
              "\n",
              "    .dataframe thead th {\n",
              "        text-align: right;\n",
              "    }\n",
              "</style>\n",
              "<table border=\"1\" class=\"dataframe\">\n",
              "  <thead>\n",
              "    <tr style=\"text-align: right;\">\n",
              "      <th></th>\n",
              "      <th>atomicNumber</th>\n",
              "      <th>symbol</th>\n",
              "      <th>electronicConfiguration</th>\n",
              "    </tr>\n",
              "  </thead>\n",
              "  <tbody>\n",
              "    <tr>\n",
              "      <th>0</th>\n",
              "      <td>1</td>\n",
              "      <td>H</td>\n",
              "      <td>1s1</td>\n",
              "    </tr>\n",
              "    <tr>\n",
              "      <th>1</th>\n",
              "      <td>2</td>\n",
              "      <td>He</td>\n",
              "      <td>1s2</td>\n",
              "    </tr>\n",
              "    <tr>\n",
              "      <th>2</th>\n",
              "      <td>3</td>\n",
              "      <td>Li</td>\n",
              "      <td>1s2 2s1</td>\n",
              "    </tr>\n",
              "    <tr>\n",
              "      <th>3</th>\n",
              "      <td>4</td>\n",
              "      <td>Be</td>\n",
              "      <td>1s2 2s2</td>\n",
              "    </tr>\n",
              "    <tr>\n",
              "      <th>4</th>\n",
              "      <td>5</td>\n",
              "      <td>B</td>\n",
              "      <td>1s2 2s2 2p1</td>\n",
              "    </tr>\n",
              "    <tr>\n",
              "      <th>...</th>\n",
              "      <td>...</td>\n",
              "      <td>...</td>\n",
              "      <td>...</td>\n",
              "    </tr>\n",
              "    <tr>\n",
              "      <th>113</th>\n",
              "      <td>114</td>\n",
              "      <td>Fl</td>\n",
              "      <td>6s2 6p6   5f14 6d10 7s2 7p2</td>\n",
              "    </tr>\n",
              "    <tr>\n",
              "      <th>114</th>\n",
              "      <td>115</td>\n",
              "      <td>Mc</td>\n",
              "      <td>6s2 6p6   5f14 6d10 7s2 7p3</td>\n",
              "    </tr>\n",
              "    <tr>\n",
              "      <th>115</th>\n",
              "      <td>116</td>\n",
              "      <td>Lv</td>\n",
              "      <td>6s2 6p6   5f14 6d10 7s2 7p4</td>\n",
              "    </tr>\n",
              "    <tr>\n",
              "      <th>116</th>\n",
              "      <td>117</td>\n",
              "      <td>Ts</td>\n",
              "      <td>6s2 6p6   5f14 6d10 7s2 7p5</td>\n",
              "    </tr>\n",
              "    <tr>\n",
              "      <th>117</th>\n",
              "      <td>118</td>\n",
              "      <td>Og</td>\n",
              "      <td>6s2 6p6   5f14 6d10 7s2 7p6</td>\n",
              "    </tr>\n",
              "  </tbody>\n",
              "</table>\n",
              "<p>118 rows × 3 columns</p>\n",
              "</div>\n",
              "      <button class=\"colab-df-convert\" onclick=\"convertToInteractive('df-bb978c96-eb93-4b85-bfba-0eadee70614c')\"\n",
              "              title=\"Convert this dataframe to an interactive table.\"\n",
              "              style=\"display:none;\">\n",
              "        \n",
              "  <svg xmlns=\"http://www.w3.org/2000/svg\" height=\"24px\"viewBox=\"0 0 24 24\"\n",
              "       width=\"24px\">\n",
              "    <path d=\"M0 0h24v24H0V0z\" fill=\"none\"/>\n",
              "    <path d=\"M18.56 5.44l.94 2.06.94-2.06 2.06-.94-2.06-.94-.94-2.06-.94 2.06-2.06.94zm-11 1L8.5 8.5l.94-2.06 2.06-.94-2.06-.94L8.5 2.5l-.94 2.06-2.06.94zm10 10l.94 2.06.94-2.06 2.06-.94-2.06-.94-.94-2.06-.94 2.06-2.06.94z\"/><path d=\"M17.41 7.96l-1.37-1.37c-.4-.4-.92-.59-1.43-.59-.52 0-1.04.2-1.43.59L10.3 9.45l-7.72 7.72c-.78.78-.78 2.05 0 2.83L4 21.41c.39.39.9.59 1.41.59.51 0 1.02-.2 1.41-.59l7.78-7.78 2.81-2.81c.8-.78.8-2.07 0-2.86zM5.41 20L4 18.59l7.72-7.72 1.47 1.35L5.41 20z\"/>\n",
              "  </svg>\n",
              "      </button>\n",
              "      \n",
              "  <style>\n",
              "    .colab-df-container {\n",
              "      display:flex;\n",
              "      flex-wrap:wrap;\n",
              "      gap: 12px;\n",
              "    }\n",
              "\n",
              "    .colab-df-convert {\n",
              "      background-color: #E8F0FE;\n",
              "      border: none;\n",
              "      border-radius: 50%;\n",
              "      cursor: pointer;\n",
              "      display: none;\n",
              "      fill: #1967D2;\n",
              "      height: 32px;\n",
              "      padding: 0 0 0 0;\n",
              "      width: 32px;\n",
              "    }\n",
              "\n",
              "    .colab-df-convert:hover {\n",
              "      background-color: #E2EBFA;\n",
              "      box-shadow: 0px 1px 2px rgba(60, 64, 67, 0.3), 0px 1px 3px 1px rgba(60, 64, 67, 0.15);\n",
              "      fill: #174EA6;\n",
              "    }\n",
              "\n",
              "    [theme=dark] .colab-df-convert {\n",
              "      background-color: #3B4455;\n",
              "      fill: #D2E3FC;\n",
              "    }\n",
              "\n",
              "    [theme=dark] .colab-df-convert:hover {\n",
              "      background-color: #434B5C;\n",
              "      box-shadow: 0px 1px 3px 1px rgba(0, 0, 0, 0.15);\n",
              "      filter: drop-shadow(0px 1px 2px rgba(0, 0, 0, 0.3));\n",
              "      fill: #FFFFFF;\n",
              "    }\n",
              "  </style>\n",
              "\n",
              "      <script>\n",
              "        const buttonEl =\n",
              "          document.querySelector('#df-bb978c96-eb93-4b85-bfba-0eadee70614c button.colab-df-convert');\n",
              "        buttonEl.style.display =\n",
              "          google.colab.kernel.accessAllowed ? 'block' : 'none';\n",
              "\n",
              "        async function convertToInteractive(key) {\n",
              "          const element = document.querySelector('#df-bb978c96-eb93-4b85-bfba-0eadee70614c');\n",
              "          const dataTable =\n",
              "            await google.colab.kernel.invokeFunction('convertToInteractive',\n",
              "                                                     [key], {});\n",
              "          if (!dataTable) return;\n",
              "\n",
              "          const docLinkHtml = 'Like what you see? Visit the ' +\n",
              "            '<a target=\"_blank\" href=https://colab.research.google.com/notebooks/data_table.ipynb>data table notebook</a>'\n",
              "            + ' to learn more about interactive tables.';\n",
              "          element.innerHTML = '';\n",
              "          dataTable['output_type'] = 'display_data';\n",
              "          await google.colab.output.renderOutput(dataTable, element);\n",
              "          const docLink = document.createElement('div');\n",
              "          docLink.innerHTML = docLinkHtml;\n",
              "          element.appendChild(docLink);\n",
              "        }\n",
              "      </script>\n",
              "    </div>\n",
              "  </div>\n",
              "  "
            ]
          },
          "metadata": {},
          "execution_count": 1
        }
      ]
    },
    {
      "cell_type": "code",
      "source": [
        "def electron_config(s):\n",
        "    \"\"\"\n",
        "    文字列を電子配置に変換する。\n",
        "\n",
        "    s: csvファイルのelectronicConfigurationの内容\n",
        "    \"\"\"\n",
        "    return {ec[:2]: int(ec[2:]) for ec in s.split()}\n",
        "\n",
        "\n",
        "electron_config(\"6s2 6p6 5f14 6d10 7s2 7p2\")"
      ],
      "metadata": {
        "colab": {
          "base_uri": "https://localhost:8080/"
        },
        "id": "WbiSsxsl7VPm",
        "outputId": "129ddc97-db22-4a94-c81d-4659961e0ee6"
      },
      "execution_count": null,
      "outputs": [
        {
          "output_type": "execute_result",
          "data": {
            "text/plain": [
              "{'6s': 2, '6p': 6, '5f': 14, '6d': 10, '7s': 2, '7p': 2}"
            ]
          },
          "metadata": {},
          "execution_count": 5
        }
      ]
    },
    {
      "cell_type": "code",
      "source": [
        "full_occupancy = [[\"1s\",2],\n",
        "                  [\"2s\",2], [\"2p\",6],\n",
        "                  [\"3s\",2], [\"3p\",6],\n",
        "                  [\"4s\",2], [\"3d\",10], [\"4p\",6],\n",
        "                  [\"5s\",2], [\"4d\",10], [\"5p\",6]]\n",
        "\n",
        "\n",
        "def electron_config_completed(s):\n",
        "    \"\"\"\n",
        "    内殻軌道で省略されているものを補う。\n",
        "    \"\"\"\n",
        "    conf = electron_config(s)\n",
        "    for orbital, nelec in full_occupancy:\n",
        "        if orbital in conf:\n",
        "            break\n",
        "        conf[orbital] = nelec\n",
        "    return conf\n",
        "\n",
        "electron_config_completed(\"6s2 6p6 5f14 6d10 7s2 7p2\")"
      ],
      "metadata": {
        "colab": {
          "base_uri": "https://localhost:8080/"
        },
        "id": "vhgn3rVb8zlR",
        "outputId": "04b38203-c922-473d-c475-0fbd9ab5b5bb"
      },
      "execution_count": null,
      "outputs": [
        {
          "output_type": "execute_result",
          "data": {
            "text/plain": [
              "{'6s': 2,\n",
              " '6p': 6,\n",
              " '5f': 14,\n",
              " '6d': 10,\n",
              " '7s': 2,\n",
              " '7p': 2,\n",
              " '1s': 2,\n",
              " '2s': 2,\n",
              " '2p': 6,\n",
              " '3s': 2,\n",
              " '3p': 6,\n",
              " '4s': 2,\n",
              " '3d': 10,\n",
              " '4p': 6,\n",
              " '5s': 2,\n",
              " '4d': 10,\n",
              " '5p': 6}"
            ]
          },
          "metadata": {},
          "execution_count": 10
        }
      ]
    },
    {
      "cell_type": "code",
      "source": [
        "# Slater\n",
        "slater_groups = [{\"1s\"},\n",
        "                 {\"2s\", \"2p\"},\n",
        "                 {\"3s\", \"3p\"},\n",
        "                 {\"3d\"},\n",
        "                 {\"4s\", \"4p\"},\n",
        "                 {\"4d\"}]\n",
        "# これより外の軌道のことは知らない。\n"
      ],
      "metadata": {
        "id": "YBYCw8sq_NdF"
      },
      "execution_count": null,
      "outputs": []
    },
    {
      "cell_type": "code",
      "source": [
        "def shielders(orbital, econf):\n",
        "    \"\"\"\n",
        "    Slaterの考え方に基き、軌道orbitalの電子を遮蔽する、グループごとの電子数を数える。\n",
        "    \"\"\"\n",
        "    enum = [0]*6\n",
        "    for i, group in enumerate(slater_groups):\n",
        "        for orbi in group:\n",
        "            if orbi in econf:\n",
        "                enum[i] += econf[orbi]\n",
        "        if orbital in group:\n",
        "            # orbitalの電子は1つ減らしておく。\n",
        "            enum[i] -= 1\n",
        "            enum = enum[:i+1]\n",
        "            break\n",
        "    return enum\n",
        "\n",
        "\n",
        "def outermost_orbital(econf):\n",
        "    \"\"\"\n",
        "    最外殻軌道を返す。\n",
        "    \"\"\"\n",
        "    # highest occupied orbital group\n",
        "    hoog = 0\n",
        "    outermost = \"\"\n",
        "    for i, group in enumerate(slater_groups):\n",
        "        for orbi in group:\n",
        "            if orbi in econf:\n",
        "                if hoog < i:\n",
        "                    hoog = i\n",
        "                    outermost = orbi\n",
        "    return outermost\n",
        "\n",
        "econf = electron_config_completed(\"3p6\")\n",
        "econf"
      ],
      "metadata": {
        "colab": {
          "base_uri": "https://localhost:8080/"
        },
        "id": "rkKzymCOBG9D",
        "outputId": "19cc1c92-5469-4ea4-d150-b88ea7b49292"
      },
      "execution_count": null,
      "outputs": [
        {
          "output_type": "execute_result",
          "data": {
            "text/plain": [
              "{'3p': 6, '1s': 2, '2s': 2, '2p': 6, '3s': 2}"
            ]
          },
          "metadata": {},
          "execution_count": 65
        }
      ]
    },
    {
      "cell_type": "code",
      "source": [
        "outermost = outermost_orbital(econf)\n",
        "outermost"
      ],
      "metadata": {
        "colab": {
          "base_uri": "https://localhost:8080/",
          "height": 38
        },
        "id": "BgZ7YT_zJU9z",
        "outputId": "5621ecf8-bde5-4fce-f768-55d75a7937a4"
      },
      "execution_count": null,
      "outputs": [
        {
          "output_type": "execute_result",
          "data": {
            "text/plain": [
              "'3p'"
            ],
            "application/vnd.google.colaboratory.intrinsic+json": {
              "type": "string"
            }
          },
          "metadata": {},
          "execution_count": 66
        }
      ]
    },
    {
      "cell_type": "code",
      "source": [
        "shielders(outermost, econf), "
      ],
      "metadata": {
        "colab": {
          "base_uri": "https://localhost:8080/"
        },
        "id": "AKMD-J3SCthF",
        "outputId": "e3d33c3a-8e3f-46f1-b3bb-065e80ee65cc"
      },
      "execution_count": null,
      "outputs": [
        {
          "output_type": "execute_result",
          "data": {
            "text/plain": [
              "([2, 7],)"
            ]
          },
          "metadata": {},
          "execution_count": 68
        }
      ]
    },
    {
      "cell_type": "code",
      "source": [
        "def slater_shielding(orbital, econf):\n",
        "    \"\"\"\n",
        "    遮蔽定数の推定\n",
        "    \"\"\"\n",
        "    sh = shielders(orbital, econf)\n",
        "    if len(sh) == 1:\n",
        "        # 内側の軌道がない==1s軌道のみがしゃへいする場合\n",
        "        return 0.3\n",
        "    elif len(sh) == 2:\n",
        "        return sh[0]*0.85 + sh[1]*0.35\n",
        "    # 0.80になる場合もあったと思うが、目をつぶる\n",
        "    return sh[-1]*0.35 + sh[-2]*0.85 + sum(sh[:-2])\n",
        "\n",
        "\n",
        "# K\n",
        "econf = electron_config_completed(\"4s1\")\n",
        "outermost = outermost_orbital(econf)\n",
        "slater_shielding(outermost, econf)\n",
        "\n",
        "    "
      ],
      "metadata": {
        "colab": {
          "base_uri": "https://localhost:8080/"
        },
        "id": "NRUdu6CmDEe6",
        "outputId": "1a01d833-ea45-4f3c-e6ab-1ec85cbefd9a"
      },
      "execution_count": null,
      "outputs": [
        {
          "output_type": "execute_result",
          "data": {
            "text/plain": [
              "18.0"
            ]
          },
          "metadata": {},
          "execution_count": 70
        }
      ]
    },
    {
      "cell_type": "code",
      "source": [],
      "metadata": {
        "id": "zyMqKgugJywF"
      },
      "execution_count": null,
      "outputs": []
    }
  ]
}
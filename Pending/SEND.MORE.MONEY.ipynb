{
  "nbformat": 4,
  "nbformat_minor": 0,
  "metadata": {
    "colab": {
      "name": "予測体温計.ipynb",
      "provenance": [],
      "authorship_tag": "ABX9TyOE3oqJ6lY5AbhimxvOqxp4",
      "include_colab_link": true
    },
    "kernelspec": {
      "name": "python3",
      "display_name": "Python 3"
    },
    "language_info": {
      "name": "python"
    }
  },
  "cells": [
    {
      "cell_type": "markdown",
      "metadata": {
        "id": "view-in-github",
        "colab_type": "text"
      },
      "source": [
        "<a href=\"https://colab.research.google.com/github/vitroid/PythonTutorials/blob/master/Pending/SEND.MORE.MONEY.ipynb\" target=\"_parent\"><img src=\"https://colab.research.google.com/assets/colab-badge.svg\" alt=\"Open In Colab\"/></a>"
      ]
    },
    {
      "cell_type": "markdown",
      "source": [
        "SEND+MORE=MONEY"
      ],
      "metadata": {
        "id": "CUNcyVh-5aw3"
      }
    },
    {
      "cell_type": "code",
      "source": [
        "from itertools import permutations\n",
        "\n",
        "for x in permutations(\"1234\",3):\n",
        "    print(x)"
      ],
      "metadata": {
        "id": "DK-SDzY-5f43",
        "outputId": "d3ac2b4c-8fbc-43da-950f-e9300bc27f03",
        "colab": {
          "base_uri": "https://localhost:8080/"
        }
      },
      "execution_count": 14,
      "outputs": [
        {
          "output_type": "stream",
          "name": "stdout",
          "text": [
            "('1', '2', '3')\n",
            "('1', '2', '4')\n",
            "('1', '3', '2')\n",
            "('1', '3', '4')\n",
            "('1', '4', '2')\n",
            "('1', '4', '3')\n",
            "('2', '1', '3')\n",
            "('2', '1', '4')\n",
            "('2', '3', '1')\n",
            "('2', '3', '4')\n",
            "('2', '4', '1')\n",
            "('2', '4', '3')\n",
            "('3', '1', '2')\n",
            "('3', '1', '4')\n",
            "('3', '2', '1')\n",
            "('3', '2', '4')\n",
            "('3', '4', '1')\n",
            "('3', '4', '2')\n",
            "('4', '1', '2')\n",
            "('4', '1', '3')\n",
            "('4', '2', '1')\n",
            "('4', '2', '3')\n",
            "('4', '3', '1')\n",
            "('4', '3', '2')\n"
          ]
        }
      ]
    },
    {
      "cell_type": "code",
      "source": [
        "from itertools import permutations\n",
        "\n",
        "for S,E,N,D,M,O,R,Y in permutations(\"1234567890\",8):\n",
        "    if M==\"0\" or S == \"0\":\n",
        "        continue\n",
        "    eq = f\"{S}{E}{N}{D}+{M}{O}{R}{E}-{M}{O}{N}{E}{Y}==0\"\n",
        "    if eval(eq):\n",
        "        print(eq)"
      ],
      "metadata": {
        "id": "Z7rr6KnQ5phG",
        "outputId": "f87bdf1a-79c0-4e25-f4b6-a8e30f2fa96a",
        "colab": {
          "base_uri": "https://localhost:8080/"
        }
      },
      "execution_count": 17,
      "outputs": [
        {
          "output_type": "stream",
          "name": "stdout",
          "text": [
            "9567+1085-10652==0\n"
          ]
        }
      ]
    },
    {
      "cell_type": "code",
      "source": [],
      "metadata": {
        "id": "13qqvFNl6Ubo"
      },
      "execution_count": null,
      "outputs": []
    }
  ]
}
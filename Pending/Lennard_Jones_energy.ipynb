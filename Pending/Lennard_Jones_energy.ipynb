{
  "nbformat": 4,
  "nbformat_minor": 0,
  "metadata": {
    "colab": {
      "name": "Lennard-Jones-energy.ipynb",
      "provenance": [],
      "authorship_tag": "ABX9TyMN9nUrpuiUKp37tkIQWNZu",
      "include_colab_link": true
    },
    "kernelspec": {
      "name": "python3",
      "display_name": "Python 3"
    },
    "language_info": {
      "name": "python"
    }
  },
  "cells": [
    {
      "cell_type": "markdown",
      "metadata": {
        "id": "view-in-github",
        "colab_type": "text"
      },
      "source": [
        "<a href=\"https://colab.research.google.com/github/vitroid/PythonTutorials/blob/master/Pending/Lennard_Jones_energy.ipynb\" target=\"_parent\"><img src=\"https://colab.research.google.com/assets/colab-badge.svg\" alt=\"Open In Colab\"/></a>"
      ]
    },
    {
      "cell_type": "markdown",
      "source": [
        "Lennard-Jones気体の平均エネルギーを解析的に計算する。\n",
        "\n",
        "解が得られるようだ。"
      ],
      "metadata": {
        "id": "9Mvzrj6mc2Ba"
      }
    },
    {
      "cell_type": "code",
      "execution_count": 5,
      "metadata": {
        "colab": {
          "base_uri": "https://localhost:8080/",
          "height": 207
        },
        "id": "K--YmQ3Ybluc",
        "outputId": "4f71cbfe-f72e-4bff-cc2f-6b4294ae4e49"
      },
      "outputs": [
        {
          "output_type": "execute_result",
          "data": {
            "text/plain": [
              "sqrt(2)*sqrt(pi)*T**(3/4)*epsilon**(1/4)*k**(3/4)*sigma**3*(sqrt(pi)*(sqrt(2)*T**(1/4)*k**(1/4)*(1 + epsilon/(T*k))*exp(epsilon/(2*T*k))*besseli(1/4, epsilon/(2*T*k))*gamma(5/4)/epsilon**(1/4) + sqrt(2)*epsilon**(3/4)*exp(epsilon/(2*T*k))*besseli(5/4, epsilon/(2*T*k))*gamma(5/4)/(T**(3/4)*k**(3/4)))*gamma(3/4) + 2*sqrt(pi)*sqrt(epsilon)*(2*sqrt(2)*T**(3/4)*k**(3/4)*(1 + epsilon/(3*T*k))*exp(epsilon/(2*T*k))*besseli(3/4, epsilon/(2*T*k))*gamma(7/4)/epsilon**(3/4) + 2*sqrt(2)*epsilon**(1/4)*exp(epsilon/(2*T*k))*besseli(7/4, epsilon/(2*T*k))*gamma(7/4)/(3*T**(1/4)*k**(1/4)))*gamma(5/4)/(sqrt(T)*sqrt(k)))/3 - 2*sqrt(2)*sqrt(pi)*T**(1/4)*epsilon**(3/4)*k**(1/4)*sigma**3*(sqrt(2)*sqrt(pi)*epsilon**(1/4)*exp(epsilon/(2*T*k))*besseli(-1/4, epsilon/(2*T*k))*gamma(1/4)*gamma(3/4)/(2*T**(1/4)*k**(1/4)) + 2*sqrt(2)*sqrt(pi)*epsilon**(1/4)*exp(epsilon/(2*T*k))*besseli(1/4, epsilon/(2*T*k))*gamma(3/4)*gamma(5/4)/(T**(1/4)*k**(1/4)))/3"
            ],
            "text/latex": "$\\displaystyle \\frac{\\sqrt{2} \\sqrt{\\pi} T^{\\frac{3}{4}} \\sqrt[4]{\\epsilon} k^{\\frac{3}{4}} \\sigma^{3} \\left(\\sqrt{\\pi} \\left(\\frac{\\sqrt{2} \\sqrt[4]{T} \\sqrt[4]{k} \\left(1 + \\frac{\\epsilon}{T k}\\right) e^{\\frac{\\epsilon}{2 T k}} I_{\\frac{1}{4}}\\left(\\frac{\\epsilon}{2 T k}\\right) \\Gamma\\left(\\frac{5}{4}\\right)}{\\sqrt[4]{\\epsilon}} + \\frac{\\sqrt{2} \\epsilon^{\\frac{3}{4}} e^{\\frac{\\epsilon}{2 T k}} I_{\\frac{5}{4}}\\left(\\frac{\\epsilon}{2 T k}\\right) \\Gamma\\left(\\frac{5}{4}\\right)}{T^{\\frac{3}{4}} k^{\\frac{3}{4}}}\\right) \\Gamma\\left(\\frac{3}{4}\\right) + \\frac{2 \\sqrt{\\pi} \\sqrt{\\epsilon} \\left(\\frac{2 \\sqrt{2} T^{\\frac{3}{4}} k^{\\frac{3}{4}} \\left(1 + \\frac{\\epsilon}{3 T k}\\right) e^{\\frac{\\epsilon}{2 T k}} I_{\\frac{3}{4}}\\left(\\frac{\\epsilon}{2 T k}\\right) \\Gamma\\left(\\frac{7}{4}\\right)}{\\epsilon^{\\frac{3}{4}}} + \\frac{2 \\sqrt{2} \\sqrt[4]{\\epsilon} e^{\\frac{\\epsilon}{2 T k}} I_{\\frac{7}{4}}\\left(\\frac{\\epsilon}{2 T k}\\right) \\Gamma\\left(\\frac{7}{4}\\right)}{3 \\sqrt[4]{T} \\sqrt[4]{k}}\\right) \\Gamma\\left(\\frac{5}{4}\\right)}{\\sqrt{T} \\sqrt{k}}\\right)}{3} - \\frac{2 \\sqrt{2} \\sqrt{\\pi} \\sqrt[4]{T} \\epsilon^{\\frac{3}{4}} \\sqrt[4]{k} \\sigma^{3} \\left(\\frac{\\sqrt{2} \\sqrt{\\pi} \\sqrt[4]{\\epsilon} e^{\\frac{\\epsilon}{2 T k}} I_{- \\frac{1}{4}}\\left(\\frac{\\epsilon}{2 T k}\\right) \\Gamma\\left(\\frac{1}{4}\\right) \\Gamma\\left(\\frac{3}{4}\\right)}{2 \\sqrt[4]{T} \\sqrt[4]{k}} + \\frac{2 \\sqrt{2} \\sqrt{\\pi} \\sqrt[4]{\\epsilon} e^{\\frac{\\epsilon}{2 T k}} I_{\\frac{1}{4}}\\left(\\frac{\\epsilon}{2 T k}\\right) \\Gamma\\left(\\frac{3}{4}\\right) \\Gamma\\left(\\frac{5}{4}\\right)}{\\sqrt[4]{T} \\sqrt[4]{k}}\\right)}{3}$"
          },
          "metadata": {},
          "execution_count": 5
        }
      ],
      "source": [
        "from sympy import *\n",
        "# from sympy.abc import *\n",
        "\n",
        "sigma, r, epsilon, k, T, r = symbols(\"sigma, r, epsilon, k, T, r\", real=True, positive=True)\n",
        "phi = 4*epsilon*((sigma/r)**12 - (sigma/r)**6)\n",
        "integrate(phi*exp(-phi/(k*T))*4*pi*r**2, (r, 0, oo))\n"
      ]
    },
    {
      "cell_type": "code",
      "source": [
        "_.simplify().evalf()"
      ],
      "metadata": {
        "colab": {
          "base_uri": "https://localhost:8080/",
          "height": 48
        },
        "id": "HQp8ieEwcAQA",
        "outputId": "3565b3df-6a87-4d32-f25d-a25e73af504f"
      },
      "execution_count": 7,
      "outputs": [
        {
          "output_type": "execute_result",
          "data": {
            "text/plain": [
              "2.32628806654629*sigma**3*(T*k*besseli(1/4, epsilon/(2*T*k)) + 3.0*T*k*besseli(3/4, epsilon/(2*T*k)) - 4.0*epsilon*besseli(-1/4, epsilon/(2*T*k)) - 3.0*epsilon*besseli(1/4, epsilon/(2*T*k)) + epsilon*besseli(3/4, epsilon/(2*T*k)) + epsilon*besseli(5/4, epsilon/(2*T*k)) + epsilon*besseli(7/4, epsilon/(2*T*k)))*exp(epsilon/(2*T*k))"
            ],
            "text/latex": "$\\displaystyle 2.32628806654629 \\sigma^{3} \\left(T k I_{\\frac{1}{4}}\\left(\\frac{\\epsilon}{2 T k}\\right) + 3.0 T k I_{\\frac{3}{4}}\\left(\\frac{\\epsilon}{2 T k}\\right) - 4.0 \\epsilon I_{- \\frac{1}{4}}\\left(\\frac{\\epsilon}{2 T k}\\right) - 3.0 \\epsilon I_{\\frac{1}{4}}\\left(\\frac{\\epsilon}{2 T k}\\right) + \\epsilon I_{\\frac{3}{4}}\\left(\\frac{\\epsilon}{2 T k}\\right) + \\epsilon I_{\\frac{5}{4}}\\left(\\frac{\\epsilon}{2 T k}\\right) + \\epsilon I_{\\frac{7}{4}}\\left(\\frac{\\epsilon}{2 T k}\\right)\\right) e^{\\frac{\\epsilon}{2 T k}}$"
          },
          "metadata": {},
          "execution_count": 7
        }
      ]
    },
    {
      "cell_type": "code",
      "source": [
        ""
      ],
      "metadata": {
        "id": "z9ySuo0Ici2-"
      },
      "execution_count": null,
      "outputs": []
    }
  ]
}
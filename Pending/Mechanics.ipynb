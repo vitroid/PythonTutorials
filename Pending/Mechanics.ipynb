{
  "cells": [
    {
      "cell_type": "markdown",
      "metadata": {
        "colab_type": "text",
        "id": "view-in-github"
      },
      "source": [
        "<a href=\"https://colab.research.google.com/github/vitroid/PythonTutorials/blob/master/Pending/Mechanics.ipynb\" target=\"_parent\"><img src=\"https://colab.research.google.com/assets/colab-badge.svg\" alt=\"Open In Colab\"/></a>"
      ]
    },
    {
      "cell_type": "markdown",
      "metadata": {
        "id": "_Y58447zm_1S"
      },
      "source": [
        "# シミュレーション\n",
        "\n",
        "Google Colab上でのアニメーションの練習も兼ねて、力学シミュレーションをやってみる。\n"
      ]
    },
    {
      "cell_type": "markdown",
      "metadata": {
        "id": "7rZFskB3nN6u"
      },
      "source": [
        "## 1. バネで固定された質点\n",
        "\n",
        "1. 質点(質量$m$)の平衡位置を$x=0$とする。\n",
        "2. 質点の速度を$v$とする。\n",
        "3. 平衡位置からの距離に比例し、反力を受ける。反力の比例定数は$k$。式に書くと、$F=-kx$.\n",
        "4. 運動方程式は$F=ma=m{d^2x\\over dt^2}$。これを数値的に解く。二階微分は、一階微分に分解する。\n",
        "   $$F = m{dv\\over dt}$$\n",
        "   $$v={dx\\over dt}$$\n",
        "   さらに微分を差分に書きかえる(近似)。\n",
        "   $$F(t)/m = {v(t+\\Delta t) - v(t)\\over \\Delta t}$$\n",
        "   $$v(t) = {x(t+\\Delta t) - x(t)\\over \\Delta t}$$\n",
        "   順番を入れかえると、未来の位置や速度を、現在の位置や速度から計算できる。\n",
        "   $$v(t+\\Delta t) = v(t)+F(t)\\Delta t/m$$\n",
        "   $$x(t+\\Delta t) = x(t)+v(t)\\Delta t$$\n"
      ]
    },
    {
      "cell_type": "code",
      "execution_count": null,
      "metadata": {
        "id": "OvM1kh6im-ap"
      },
      "outputs": [],
      "source": [
        "# 質量\n",
        "m = 1.0\n",
        "\n",
        "# バネ定数\n",
        "k = 1.0\n",
        "\n",
        "# 時刻0での位置\n",
        "x = 0.0\n",
        "\n",
        "# 時刻0での速度\n",
        "v = 1.0\n",
        "\n",
        "# 微小時間\n",
        "dt = 0.01\n",
        "\n",
        "xs = []\n",
        "vs = []\n",
        "ts = []\n",
        "# 3000 ステップのシミュレーション\n",
        "for i in range(3000):\n",
        "\n",
        "    # その瞬間に加わる力Fを計算する\n",
        "    F = -k*x\n",
        "\n",
        "    # 力がわかると、速度が更新できる。\n",
        "    v, x = v + F*dt/m, x + v*dt\n",
        "\n",
        "    # 時刻と位置と速度を記録\n",
        "    ts.append(i*dt)\n",
        "    xs.append(x)\n",
        "    vs.append(v)\n"
      ]
    },
    {
      "cell_type": "code",
      "execution_count": null,
      "metadata": {
        "colab": {
          "base_uri": "https://localhost:8080/",
          "height": 824
        },
        "id": "M8e0N9eGq0xO",
        "outputId": "247e1109-73be-4d59-fc8d-a8ef8b1c26ba"
      },
      "outputs": [],
      "source": [
        "import matplotlib.pyplot as plt\n",
        "\n",
        "plt.xlabel(\"Time\")\n",
        "plt.ylabel(\"Location\")\n",
        "plt.plot(ts, xs)\n",
        "plt.show()\n",
        "\n",
        "plt.xlabel(\"Time\")\n",
        "plt.ylabel(\"Velocity\")\n",
        "plt.plot(ts, vs)\n",
        "plt.show()\n",
        "\n",
        "plt.xlabel(\"Location\")\n",
        "plt.ylabel(\"Velocity\")\n",
        "plt.plot(xs, vs)\n",
        "plt.show()\n"
      ]
    },
    {
      "cell_type": "markdown",
      "metadata": {
        "id": "d7GiCg18rLzs"
      },
      "source": [
        "位相空間で見ると、ほぼ円軌道が得られているが、誤差が蓄積するせいで、微妙に半径が大きくなっていることが見てとれる。\n",
        "\n",
        "誤差の蓄積の原因は、微分を差分で近似した時に、位相空間内の微小体積が変化してしまっているため。これを回避するために、計算順序をすこし工夫する。(詳しくは https://ja.wikipedia.org/wiki/シンプレクティック数値積分法 )"
      ]
    },
    {
      "cell_type": "code",
      "execution_count": null,
      "metadata": {
        "colab": {
          "base_uri": "https://localhost:8080/",
          "height": 300
        },
        "id": "ZdOIp4LZqwpo",
        "outputId": "199f54c3-fe8a-4952-cabf-e4825657ba5f"
      },
      "outputs": [],
      "source": [
        "# 質量\n",
        "m = 1.0\n",
        "\n",
        "# バネ定数\n",
        "k = 1.0\n",
        "\n",
        "# 時刻0での位置\n",
        "x = 0.0\n",
        "\n",
        "# 時刻0での速度\n",
        "v = 1.0\n",
        "\n",
        "# 微小時間\n",
        "dt = 0.01\n",
        "\n",
        "xs = []\n",
        "vs = []\n",
        "ts = []\n",
        "# 3000 ステップのシミュレーション\n",
        "for i in range(3000):\n",
        "\n",
        "    # その瞬間に加わる力Fを計算する\n",
        "    F = -k*x\n",
        "\n",
        "    # 力がわかると、速度が更新できる。\n",
        "    v = v + F*dt/m\n",
        "    x = x + v*dt\n",
        "\n",
        "    # 時刻と位置と速度を記録\n",
        "    ts.append(i*dt)\n",
        "    xs.append(x)\n",
        "    vs.append(v)\n",
        "\n",
        "plt.xlabel(\"Location\")\n",
        "plt.ylabel(\"Velocity\")\n",
        "plt.plot(xs, vs)\n",
        "plt.show()"
      ]
    },
    {
      "cell_type": "markdown",
      "metadata": {
        "id": "NHgbWEGrsuqz"
      },
      "source": [
        "エネルギー保存則が成りたっていることを確認する。\n",
        "\n",
        "速度エネルギーは$E_k={1\\over 2}mv^2$、ポテンシャルエネルギーは、この場合ではバネのエネルギーなので、$E_p={1\\over 2}kx^2$となる。\n"
      ]
    },
    {
      "cell_type": "code",
      "execution_count": null,
      "metadata": {
        "colab": {
          "base_uri": "https://localhost:8080/",
          "height": 300
        },
        "id": "fC_VnMpqsMUy",
        "outputId": "7817a1f6-7c97-43aa-f585-ae1d3788f084"
      },
      "outputs": [],
      "source": [
        "# 何度も書きなおすのは面倒なので、関数定義してしまおう。\n",
        "\n",
        "def spring(m=1.0, k=1.0, x=0.0, v=1.0, dt=0.01, steps=3000):\n",
        "    xs = []\n",
        "    vs = []\n",
        "    ts = []\n",
        "    # 3000 ステップのシミュレーション\n",
        "    for i in range(steps):\n",
        "\n",
        "        # その瞬間に加わる力Fを計算する\n",
        "        F = -k*x\n",
        "\n",
        "        # 力がわかると、速度が更新できる。\n",
        "        v = v + F*dt/m\n",
        "        x = x + v*dt\n",
        "\n",
        "        # 時刻と位置と速度を記録\n",
        "        ts.append(i*dt)\n",
        "        xs.append(x)\n",
        "        vs.append(v)\n",
        "    return ts, xs, vs\n",
        "\n",
        "import numpy as np\n",
        "\n",
        "m = 1.0\n",
        "k = 1.0\n",
        "ts, xs, vs = spring(m=m, k=k)\n",
        "ts = np.array(ts)\n",
        "xs = np.array(xs)\n",
        "vs = np.array(vs)\n",
        "\n",
        "Ek = m*vs**2 / 2\n",
        "Ep = k*xs**2 / 2\n",
        "\n",
        "plt.xlabel(\"Time\")\n",
        "plt.ylabel(\"Energy\")\n",
        "plt.plot(ts, Ep)\n",
        "plt.plot(ts, Ek)\n",
        "plt.plot(ts, Ep+Ek)\n",
        "plt.show()"
      ]
    },
    {
      "cell_type": "markdown",
      "metadata": {
        "id": "4K-eNRSTuXA9"
      },
      "source": [
        "全エネルギーが(ほぼ)一定になっているのがわかる。(微小な変動は、数値積分による誤差)\n",
        "\n",
        "最後に、質点の位置をアニメーションで表示してみる。\n",
        "\n",
        "https://colab.research.google.com/github/jckantor/CBE30338/blob/master/docs/A.03-Animation-in-Jupyter-Notebooks.ipynb#scrollTo=6y6FqC9SwlKF\n",
        "\n",
        "まず、n番目のフレームを描く関数を定義する。"
      ]
    },
    {
      "cell_type": "code",
      "execution_count": null,
      "metadata": {
        "colab": {
          "base_uri": "https://localhost:8080/",
          "height": 362
        },
        "id": "yIkAzR73w7YM",
        "outputId": "1edd736b-1fd0-499b-c7f8-51b3bc7fd4fd"
      },
      "outputs": [],
      "source": [
        "fig = plt.figure(figsize=(5,5))\n",
        "ax = plt.subplot()   \n",
        "\n",
        "# 空のプロットを作る。あとでデータをさしこむ。\n",
        "ax.set_xlim(-1, 1)\n",
        "ax.set_ylim(-1, 1)\n",
        "pt, = ax.plot([], [], 'o')\n",
        "\n",
        "def drawframe(n):\n",
        "    # データの差し込み。\n",
        "    pt.set_data(xs[n*10], vs[n*10])\n",
        "    return (pt,)\n",
        "\n",
        "drawframe(1)"
      ]
    },
    {
      "cell_type": "markdown",
      "metadata": {
        "id": "3tT4mNrKxSUc"
      },
      "source": [
        "それをアニメーションにする関数を呼ぶ。"
      ]
    },
    {
      "cell_type": "code",
      "execution_count": null,
      "metadata": {
        "id": "P4um5iq1xWhy"
      },
      "outputs": [],
      "source": [
        "from matplotlib import animation\n",
        "\n",
        "# blit=True re-draws only the parts that have changed.\n",
        "anim = animation.FuncAnimation(fig, drawframe, frames=300, interval=20, blit=True)\n",
        "\n",
        "from IPython.display import HTML\n",
        "HTML(anim.to_html5_video())"
      ]
    },
    {
      "cell_type": "markdown",
      "metadata": {
        "id": "VmmNJ4zXwH7n"
      },
      "source": [
        "## 2. 弦の振動\n",
        "\n",
        "弦は、質点がバネでつながったもの(連成振動子)で近似できます。\n",
        "\n",
        "連成振動には、縦波(弦の方向への振動)と横波(弦に直交する方向への振動)があります。リアルな弦をシミュレーションするなら、横波を扱ったほうが良いのですが、横波だと、質点の変位とバネの伸びの換算が面倒そうなので、ひとまず縦波を扱うことにします。\n",
        "\n",
        "* 質点の個数を$N-1$とします。\n",
        "* 質点$i$の位置を$x_i$とします。\n",
        "* 質点の質量はすべて$m$とします。\n",
        "* $x_0=0$, $x_N=L$は固定点とし、平衡状態では質点は等間隔になるものとします。この時、となりあう質点の平衡距離は$L/N$となります。\n",
        "* 質点と質点をつなぐバネは、$L/N$を平衡長とし、それより$\\Delta x$伸びると、$-k\\Delta x$の反力が生じるものとします。\n",
        "\n",
        "\n"
      ]
    },
    {
      "cell_type": "code",
      "execution_count": null,
      "metadata": {
        "id": "n8d2TwfX1-Bz"
      },
      "outputs": [],
      "source": [
        "N = 100\n",
        "L = 100\n",
        "k = 1.0\n",
        "m = 1.0\n",
        "\n",
        "# 初期位置は等間隔\n",
        "x = np.linspace(0.0, L, N+1)\n",
        "# 初速度0\n",
        "v = np.zeros_like(x)\n",
        "\n",
        "# これだと全く振動しないので、あとでそれらしい初速を与えることにする。\n",
        "# とりあえず、ここでは質点1にだけ速度を与える。\n",
        "v[1] = 1.0\n",
        "\n",
        "dt = 0.01\n",
        "steps = 3000\n",
        "\n",
        "for i in range(steps):\n",
        "    # 固定点0と第一質点の間のバネを0番と呼ぶことにする。\n",
        "    # それぞれのバネの伸びを計算する。\n",
        "    d = x[1:] - x[:-1] - L/N\n",
        "    # 力を計算する。バネは両側の質点に力を及ぼす。\n",
        "    F = -k * d\n",
        "\n",
        "    # 質点は両側のバネから力を受ける。\n",
        "    v[1:N-1] += dt*(F[0:N-2] - F[1:N-1])/m\n",
        "    x[1:N-1] += dt*v[1:N-1]\n",
        "\n",
        "    # 計算が正しいかどうかを確認するために、全エネルギーを計算する。\n",
        "    Ep = k*(d@d) / 2\n",
        "    Ek = m*(v[1:N-1]@v[1:N-1]) / 2\n",
        "    print(Ep+Ek, Ep, Ek)"
      ]
    },
    {
      "cell_type": "markdown",
      "metadata": {
        "id": "dzU67E5p8_t6"
      },
      "source": [
        "どんな風に動いているかよくわからないので、視覚化したい。そのために、プログラムを整理する。"
      ]
    },
    {
      "cell_type": "code",
      "execution_count": null,
      "metadata": {
        "id": "F4oJ9nrVtoMC"
      },
      "outputs": [],
      "source": [
        "def progress(x, v, length, m=1.0, dt=0.01, k=1.0):\n",
        "    \"\"\"\n",
        "    速度vと位置xを1ステップだけ進める関数。\n",
        "    lengthは質点間の平衡距離。\n",
        "    x[0]とx[-1]は固定点とする。\n",
        "    \"\"\"\n",
        "    N = len(x) - 1\n",
        "    # 固定点0と第一質点の間のバネを0番と呼ぶことにする。\n",
        "    # それぞれのバネの伸びを計算する。\n",
        "    d = x[1:] - x[:-1] - length\n",
        "    # 力を計算する。バネは両側の質点に力を及ぼす。\n",
        "    F = -k * d\n",
        "\n",
        "    # 質点は両側のバネから力を受ける。\n",
        "    v[1:N-1] += dt*(F[0:N-2] - F[1:N-1])/m\n",
        "    x[1:N-1] += dt*v[1:N-1]\n"
      ]
    },
    {
      "cell_type": "code",
      "execution_count": null,
      "metadata": {
        "id": "_LWAzN692hkW"
      },
      "outputs": [],
      "source": [
        "\n",
        "N = 100\n",
        "L = 100\n",
        "\n",
        "# 初期位置は等間隔\n",
        "x = np.linspace(0.0, L, N+1)\n",
        "x0 = x.copy()\n",
        "# 初速度0\n",
        "v = np.zeros_like(x)\n",
        "\n",
        "# これだと全く振動しないので、あとでそれらしい初速を与えることにする。\n",
        "# とりあえず、ここでは質点1にだけ速度を与える。\n",
        "v[1] = 1.0\n"
      ]
    },
    {
      "cell_type": "markdown",
      "metadata": {
        "id": "iABmQx-J-37t"
      },
      "source": [
        "全ステップ表示すると、コマが多すぎるので、10コマに1つ表示することにしよう。質点の運動の時のアニメーションの方法をそのままもってくる。\n",
        "\n",
        "ここでは、横軸に質点の番号を、縦軸にはそれぞれの質点の、平衡位置からのずれをプロットすることにする。"
      ]
    },
    {
      "cell_type": "code",
      "execution_count": null,
      "metadata": {
        "colab": {
          "base_uri": "https://localhost:8080/",
          "height": 362
        },
        "id": "yCuYxrJ8-Nov",
        "outputId": "fdf5451a-e4d7-476d-bcc7-24ef99988ff1"
      },
      "outputs": [],
      "source": [
        "fig = plt.figure(figsize=(5,5))\n",
        "ax = plt.subplot()   \n",
        "\n",
        "# 空のプロットを作る。あとでデータをさしこむ。\n",
        "ax.set_xlim(0, L)\n",
        "ax.set_ylim(-1, 1)\n",
        "pt, = ax.plot([], [], 'o')\n",
        "\n",
        "def drawframe(n):\n",
        "    for i in range(10):\n",
        "        progress(x, v, L/N)\n",
        "    # データの差し込み。\n",
        "    pt.set_data(x0, x-x0)\n",
        "    return (pt,)\n",
        "\n",
        "drawframe(1)"
      ]
    },
    {
      "cell_type": "code",
      "execution_count": null,
      "metadata": {
        "id": "Iw_Q6LA2_s9D"
      },
      "outputs": [],
      "source": [
        "from matplotlib import animation\n",
        "\n",
        "# blit=True re-draws only the parts that have changed.\n",
        "anim = animation.FuncAnimation(fig, drawframe, frames=300, interval=20, blit=True)\n",
        "\n",
        "from IPython.display import HTML\n",
        "HTML(anim.to_html5_video())"
      ]
    },
    {
      "cell_type": "markdown",
      "metadata": {
        "id": "TrJge1Q6AfKi"
      },
      "source": [
        "想像をはるかに越える、複雑な運動になった。初期状態を、もうちょっと現実的なものにしてみる。\n",
        "\n",
        "### ギター\n",
        "\n",
        "ギターの場合、弦の1/4の付近を弾いているように見える。そこで、初期配置として、\n",
        "* 1〜N/4番目の質点は、番号に比例して正の変位を加える。\n",
        "* 残りの質点$i$には、(N-i)に比例して、正の変位を加える。\n",
        "という設定にする。初速は0にする。\n",
        "\n"
      ]
    },
    {
      "cell_type": "code",
      "execution_count": null,
      "metadata": {
        "id": "Kl-dRt7Y_6eP"
      },
      "outputs": [],
      "source": [
        "N = 100\n",
        "L = 100\n",
        "\n",
        "# 平衡位置\n",
        "x0 = np.linspace(0.0, L, N+1)\n",
        "x = x0.copy()\n",
        "x[:N//4]   += np.linspace(0, 0.5, N//4)\n",
        "x[N//4:N] += np.linspace(0.5, 0.0, N*3//4)\n",
        "\n",
        "# 初速度0\n",
        "v = np.zeros_like(x)\n"
      ]
    },
    {
      "cell_type": "code",
      "execution_count": null,
      "metadata": {
        "colab": {
          "base_uri": "https://localhost:8080/",
          "height": 688
        },
        "id": "eB0QyFH6CnVS",
        "outputId": "f5bdc0ca-b371-4fda-d059-1bc9eadf0643"
      },
      "outputs": [],
      "source": [
        "import matplotlib.pyplot as plt\n",
        "\n",
        "fig = plt.figure(figsize=(5,5))\n",
        "ax = plt.subplot()   \n",
        "\n",
        "# 空のプロットを作る。あとでデータをさしこむ。\n",
        "ax.set_xlim(0, L)\n",
        "ax.set_ylim(-1, 1)\n",
        "pt, = ax.plot([], [], 'o')\n",
        "\n",
        "def drawframe(n):\n",
        "    for i in range(100):\n",
        "        progress(x, v, L/N)\n",
        "    # データの差し込み。\n",
        "    pt.set_data(x0, x-x0)\n",
        "    return (pt,)\n",
        "\n",
        "from matplotlib import animation\n",
        "\n",
        "# blit=True re-draws only the parts that have changed.\n",
        "anim = animation.FuncAnimation(fig, drawframe, frames=300, interval=20, blit=True)\n",
        "\n",
        "from IPython.display import HTML\n",
        "HTML(anim.to_html5_video())"
      ]
    },
    {
      "cell_type": "markdown",
      "metadata": {
        "id": "l9DEcA73Dx3b"
      },
      "source": [
        "弦は想像を越える形で運動していることがわかる。この振動を、実際に耳で聞いてみたい。\n",
        "\n",
        "弦楽器は、弦そのものが音を出すことは稀で、ほとんどの弦楽器では、弦は共鳴箱につながり、弦の振動が箱を振動させることでおおきな音が出る。この場合、弦の中央部の運動のしかたは音色とは関係なく、弦の固定端に加わる力だけが音色に関与する。(エレキギターのように、弦の中央部の振動を直接音に変換する楽器もある)\n",
        "\n",
        "固定端に加わる力は、固定端と質点1の間の距離に比例する。つまり、質点1の位置が、この弦楽器が発する音色を規定している。上のアニメーションで見ていると、質点1は周期の1/4の期間は正に、周期の3/4の期間は負の位置でほとんど止まっていて、正と負が切りかわる瞬間にすこし振動しているように見える。これを、時間に関してプロットしてよく見てみよう。"
      ]
    },
    {
      "cell_type": "code",
      "execution_count": null,
      "metadata": {
        "colab": {
          "base_uri": "https://localhost:8080/",
          "height": 303
        },
        "id": "kO26g_WlCsAY",
        "outputId": "61a64fb4-6a89-46a6-ec66-502d0d5a5f3d"
      },
      "outputs": [],
      "source": [
        "N = 100\n",
        "L = 100\n",
        "\n",
        "# 平衡位置\n",
        "x0 = np.linspace(0.0, L, N+1)\n",
        "x = x0.copy()\n",
        "x[:N//4]   += np.linspace(0, 0.5, N//4)\n",
        "x[N//4:N] += np.linspace(0.5, 0.0, N*3//4)\n",
        "\n",
        "# 初速度0\n",
        "v = np.zeros_like(x)\n",
        "\n",
        "d = []\n",
        "for i in range(100000):\n",
        "    progress(x, v, L/N)\n",
        "    d.append(x[1])\n",
        "\n",
        "plt.plot(d)"
      ]
    },
    {
      "cell_type": "markdown",
      "metadata": {
        "id": "jf2jDRyAHuPi"
      },
      "source": [
        "実に複雑な運動をしていることがわかる。また、アニメーションでは定常的な運動に見えたが、波の形も徐々に変化しているのがわかる。これを実際に耳で聞いてみよう。\n",
        "\n",
        "上のプロットから、振動の1周期がおおよそ20000ステップに相当することがわかる。\n",
        "例えば、A (440 Hz)の音であれば、1秒間の音色を生成するのに880万ステップの計算が必要となる。\n",
        "\n",
        "CDのサンプリング周波数44100 Hzにあわせ、880万ステップのデータを200ステップに一回だけ記録する。そして、得られたデータを再生してみよう。"
      ]
    },
    {
      "cell_type": "code",
      "execution_count": null,
      "metadata": {
        "id": "H5e7u2JNHYAD"
      },
      "outputs": [],
      "source": [
        "N = 100\n",
        "L = 100\n",
        "\n",
        "# 平衡位置\n",
        "x0 = np.linspace(0.0, L, N+1)\n",
        "x = x0.copy()\n",
        "x[:N//4]   += np.linspace(0, 0.5, N//4)\n",
        "x[N//4:N] += np.linspace(0.5, 0.0, N*3//4)\n",
        "\n",
        "# 初速度0\n",
        "v = np.zeros_like(x)\n",
        "\n",
        "d = []\n",
        "# 1秒分のシミュレーション\n",
        "for i in range(44100):\n",
        "    # 200ステップ進める。\n",
        "    for j in range(200):\n",
        "        progress(x, v, L/N)\n",
        "    # 質点1の変位を記録。\n",
        "    d.append(x[1] - x0[1])\n",
        "\n",
        "d = np.array(d)"
      ]
    },
    {
      "cell_type": "code",
      "execution_count": null,
      "metadata": {
        "colab": {
          "base_uri": "https://localhost:8080/",
          "height": 73
        },
        "id": "a_lT54OtJlT1",
        "outputId": "37030c22-8fc7-4346-e3ce-f35396223d1f"
      },
      "outputs": [],
      "source": [
        "# すこし減衰させる。(減衰の時定数0.5秒)\n",
        "t = np.linspace(0, 1.0, 44100)\n",
        "dd = d * np.exp(-t/0.5)\n",
        "\n",
        "from IPython.display import Audio    # 音声の再生\n",
        "Audio(dd, rate=44100)"
      ]
    },
    {
      "cell_type": "markdown",
      "metadata": {
        "id": "Dx6xHFy7Lz--"
      },
      "source": [
        "ギターというよりはチェンバロっぽい音に聞こえる。おそらく、共鳴箱の役割は非常に重要で、本物っぽい音を合成するには、箱の力学まで考える必要がある。また、上の例では、指数関数をかけることで減衰を表現しているが、本来なら弦の運動方程式の中に摩擦項を組み入れるべきだ。\n",
        "\n",
        "同じことを検討したページを見付けた。\n",
        "https://www.acs.psu.edu/drussell/Demos/Pluck-Fourier/Pluck-Fourier.html\n",
        "\n",
        "弾き方を変えることで、ピアノの音も出せるらしい。"
      ]
    },
    {
      "cell_type": "code",
      "execution_count": null,
      "metadata": {
        "id": "DsSuCHAQ2GQ9"
      },
      "outputs": [],
      "source": [
        "import numpy as np\n",
        "N = 100\n",
        "L = 100\n",
        "\n",
        "# 平衡位置\n",
        "x0 = np.linspace(0.0, L, N+1)\n",
        "x = x0.copy()\n",
        "\n",
        "# 初速度0\n",
        "v = np.zeros_like(x)\n",
        "# 弦の一箇所を打撃する。\n",
        "v[N//4:N//4+10] = 0.1\n",
        "\n",
        "d = []\n",
        "# 1秒分のシミュレーション\n",
        "for i in range(44100):\n",
        "    # 200ステップ進める。\n",
        "    for j in range(200):\n",
        "        progress(x, v, L/N)\n",
        "    # 質点1の変位を記録。\n",
        "    d.append(x[1] - x0[1])\n",
        "\n",
        "d = np.array(d)"
      ]
    },
    {
      "cell_type": "code",
      "execution_count": null,
      "metadata": {
        "colab": {
          "base_uri": "https://localhost:8080/",
          "height": 75
        },
        "id": "DX8IkheU2zqp",
        "outputId": "e01f4bfb-6b51-400a-b5ff-556dc6f9cdcb"
      },
      "outputs": [],
      "source": [
        "# すこし減衰させる。(減衰の時定数0.5秒)\n",
        "t = np.linspace(0, 1.0, 44100)\n",
        "dd = d * np.exp(-t/0.5)\n",
        "\n",
        "from IPython.display import Audio    # 音声の再生\n",
        "Audio(dd, rate=44100)"
      ]
    },
    {
      "cell_type": "markdown",
      "metadata": {
        "id": "EjdvyWGeN2Pu"
      },
      "source": [
        "## 電子の運動 (未完成)\n",
        "\n",
        "自由粒子の量子力学的な運動はSchrödinger波動方程式に従う。 $$i\\hbar{d\\over dt}\\Psi(\\mathbf x, t)=\\left({-\\hbar^2\\over 2m}\\nabla^2+V(\\mathbf x)\\right)\\Psi(\\mathbf x,t)$$\n",
        "一次元の場合には、\n",
        "$$i\\hbar{d\\over dt}\\Psi(x,t)=\\left({-\\hbar^2\\over 2m}{d^2\\over dx^2}+V(x)\\right)\\Psi(x,t)$$\n",
        "とかける。$\\Psi(x,t)$は波の形をあらわす関数で、波動関数と呼ばれる。計算上は、`np.array`として表現される。\n",
        "\n",
        "左辺は、時間変化をあらわし、右辺は空間に関する情報を含んでいる。\n",
        "\n",
        "弦の運動と同様、左辺を差分に書きかえてみよう。\n",
        "\n",
        "$$i\\hbar {\\Psi(x, t+\\Delta t)-\\Psi(x, t)\\over \\Delta t}=r.h.s.$$\n",
        "$$\\Psi(x, t+\\Delta t)=\\Psi(x,t)+{r.h.s.\\over i\\hbar}\\Delta t$$\n",
        "\n",
        "$r.h.s$は右辺のこと。ある時刻の波動関数$\\Psi(x,t)$がわかれば、その直後の波動関数はこの式で計算できる。\n",
        "\n"
      ]
    },
    {
      "cell_type": "code",
      "execution_count": null,
      "metadata": {
        "id": "8LL1DkICDSNc"
      },
      "outputs": [],
      "source": [
        "newpsi = psi + rhs*dt / ih"
      ]
    },
    {
      "cell_type": "markdown",
      "metadata": {
        "id": "ECtbzP_-FPIf"
      },
      "source": [
        "右辺には二階微分を含んでいるが、二階微分も差分で(すこし無理矢理だが)表せる。\n",
        "$${d^2 f(x)\\over dx^2}={d \\over dx}f'(x)$$\n",
        "$$\\simeq {f'(x+\\Delta x)-f'(x)\\over \\Delta x}$$\n",
        "$$\\simeq {{f(x+\\Delta x)-f(x)\\over \\Delta x}-{f(x)-f(x-\\Delta x)\\over \\Delta x}\\over \\Delta x}$$\n",
        "$$= {f(x+\\Delta x)+f(x-\\Delta x)-2f(x)\\over \\Delta x^2}$$\n",
        "こちらは空間での二階微分なので、両隣のbinの値の和から 中央のbinの値の2倍を引いてやるだけで計算できる。\n",
        "\n",
        "\n"
      ]
    },
    {
      "cell_type": "code",
      "execution_count": null,
      "metadata": {
        "id": "dbiFs54kFZPm"
      },
      "outputs": [],
      "source": []
    },
    {
      "cell_type": "markdown",
      "metadata": {
        "id": "QlTF1LRtG2Tj"
      },
      "source": [
        "ところで、弦の振動の場合には、楽器の種類によって、初期配置と初速度の設定のしかたが違っていた。電子の場合にはどんな初期配置がいいのだろう。\n"
      ]
    },
    {
      "cell_type": "code",
      "execution_count": null,
      "metadata": {
        "colab": {
          "base_uri": "https://localhost:8080/",
          "height": 265
        },
        "id": "WufKOfZ6G00Q",
        "outputId": "68b29d31-a9e2-4db1-d8ec-4f03a205f093"
      },
      "outputs": [],
      "source": [
        "import numpy as np\n",
        "import matplotlib.pyplot as plt\n",
        "\n",
        "# 箱の大きさをLとし、間をN等分する。\n",
        "L = 10\n",
        "N = 1000\n",
        "dx = L / N\n",
        "x = np.linspace(0, L, N+1)[:N]\n",
        "\n",
        "# プランク定数、質量は1にする。\n",
        "hbar = 1.0\n",
        "m = 1.0\n",
        "\n",
        "# 時間はとりあえず0.01\n",
        "dt = 0.01\n",
        "\n",
        "# Gauss型のウェーブパケット、振幅は最大1、空間幅は1\n",
        "amp = np.roll(np.exp(-(x-5.0)**2*3), -300)\n",
        "plt.plot(x, amp)\n",
        "\n",
        "# ポテンシャルはとりあえず0にしておく。\n",
        "V = np.zeros_like(x)"
      ]
    },
    {
      "cell_type": "code",
      "execution_count": null,
      "metadata": {
        "colab": {
          "base_uri": "https://localhost:8080/",
          "height": 282
        },
        "id": "cT5T9J6hIcYk",
        "outputId": "18fd80b0-c0c5-475b-f994-c3d078469048"
      },
      "outputs": [],
      "source": [
        "# 進行波を作る。\n",
        "Psi = np.exp(-1j*x*3*2*np.pi)*amp\n",
        "I = dx*np.sum(Psi * Psi.conjugate())\n",
        "Psi /= I**0.5\n",
        "plt.xlim(0,4)\n",
        "plt.plot(x, np.real(Psi))\n",
        "plt.plot(x, np.imag(Psi))"
      ]
    },
    {
      "cell_type": "code",
      "execution_count": null,
      "metadata": {
        "id": "w3srz5jAJ8mX"
      },
      "outputs": [],
      "source": [
        "# 右辺の計算。1ステップ分\n",
        "\n",
        "ddPsi = np.zeros_like(Psi)\n",
        "ddPsi = (np.roll(Psi, 1)+ np.roll(Psi, -1) - 2*Psi) / dx**2\n",
        "rhs = -hbar**2/(2*m) * ddPsi + V*Psi\n",
        "\n",
        "Psi += rhs * dt / (1j*hbar)"
      ]
    },
    {
      "cell_type": "code",
      "execution_count": null,
      "metadata": {
        "colab": {
          "base_uri": "https://localhost:8080/",
          "height": 282
        },
        "id": "80C1J3DcN2dI",
        "outputId": "ad716560-3914-45c1-b414-7d9152a75cad"
      },
      "outputs": [],
      "source": [
        "plt.xlim(0,4)\n",
        "plt.plot(x, np.real(Psi))\n",
        "plt.plot(x, np.imag(Psi))"
      ]
    },
    {
      "cell_type": "markdown",
      "metadata": {
        "id": "mdUuTKCqONoZ"
      },
      "source": [
        "少し波が動いたように見える。そこで、いくつか改良を加える。\n",
        "\n",
        "1. 1ステップ進める処理をprogress()にまとめる。\n",
        "2. 波動関数そのものではなく、存在確率(波動関数の絶対値の二乗)をプロットする。\n",
        "3. 誤差をおさえこむため、存在確率の積分が1になるように規格化する。\n",
        "3. アニメーションにする。"
      ]
    },
    {
      "cell_type": "code",
      "execution_count": null,
      "metadata": {
        "id": "ZxrQrV7tN23f"
      },
      "outputs": [],
      "source": [
        "def progress(Psi, dt, dx):\n",
        "    ddPsi = (np.roll(Psi, 1)+ np.roll(Psi, -1) - 2*Psi) / dx**2\n",
        "    print(ddPsi[-10:],ddPsi[:10])\n",
        "    rhs = -hbar**2/(2*m) * ddPsi + V*Psi\n",
        "    Psi += rhs * dt / (1j*hbar)\n",
        "    I = dx*np.sum(Psi * Psi.conjugate())\n",
        "    Psi /= I**0.5\n"
      ]
    },
    {
      "cell_type": "code",
      "execution_count": null,
      "metadata": {
        "colab": {
          "base_uri": "https://localhost:8080/",
          "height": 282
        },
        "id": "i-hgleByV07K",
        "outputId": "f8b473b1-14cb-4118-bc10-e12d5eea4d48"
      },
      "outputs": [],
      "source": [
        "progress(Psi, dt=0.0001, dx=L/N)\n",
        "\n",
        "plt.xlim(-0.1,4)\n",
        "plt.plot(x, np.real(Psi * Psi.conjugate()))\n",
        "plt.plot(x, np.real(Psi))\n",
        "plt.plot(x, np.imag(Psi))"
      ]
    },
    {
      "cell_type": "code",
      "execution_count": null,
      "metadata": {},
      "outputs": [],
      "source": [
        "a = np.array([1,2,3,4,5])\n",
        "np.roll(a, 1), np.roll(a, -1), a"
      ]
    },
    {
      "cell_type": "code",
      "execution_count": null,
      "metadata": {
        "colab": {
          "base_uri": "https://localhost:8080/",
          "height": 341
        },
        "id": "DAoHTkI2O8DM",
        "outputId": "5dd21656-2d05-4b73-9d9d-29201dec0c7c"
      },
      "outputs": [],
      "source": [
        "fig = plt.figure(figsize=(5,5))\n",
        "ax = plt.subplot()   \n",
        "\n",
        "# 空のプロットを作る。あとでデータをさしこむ。\n",
        "ax.set_xlim(0, L)\n",
        "ax.set_ylim(-2, 2)\n",
        "pt, = ax.plot([], [], 'o')\n",
        "\n",
        "def drawframe(n):\n",
        "    for i in range(10):\n",
        "        progress(Psi, dt, dx)\n",
        "    # データの差し込み。\n",
        "    pt.set_data(x, np.real(Psi * Psi.conjugate()))\n",
        "    return (pt,)\n",
        "\n",
        "drawframe(1)"
      ]
    },
    {
      "cell_type": "code",
      "execution_count": null,
      "metadata": {
        "id": "-T2FGAOeZG2q"
      },
      "outputs": [],
      "source": []
    }
  ],
  "metadata": {
    "colab": {
      "authorship_tag": "ABX9TyM8VanSieJzKVWq0In4OOf3",
      "collapsed_sections": [],
      "include_colab_link": true,
      "name": "Mechanics.ipynb",
      "provenance": []
    },
    "kernelspec": {
      "display_name": "Python 3.9.12 ('PythonTutorials-JP2O7436')",
      "language": "python",
      "name": "python3"
    },
    "language_info": {
      "codemirror_mode": {
        "name": "ipython",
        "version": 3
      },
      "file_extension": ".py",
      "mimetype": "text/x-python",
      "name": "python",
      "nbconvert_exporter": "python",
      "pygments_lexer": "ipython3",
      "version": "3.9.12"
    },
    "vscode": {
      "interpreter": {
        "hash": "91fa5e20d5bf68b38cce8e50467a6008f2ee810066d43ab0d7720c36fb9541ea"
      }
    }
  },
  "nbformat": 4,
  "nbformat_minor": 0
}

{
  "nbformat": 4,
  "nbformat_minor": 0,
  "metadata": {
    "kernelspec": {
      "display_name": "Python 3",
      "language": "python",
      "name": "python3"
    },
    "language_info": {
      "codemirror_mode": {
        "name": "ipython",
        "version": 3
      },
      "file_extension": ".py",
      "mimetype": "text/x-python",
      "name": "python",
      "nbconvert_exporter": "python",
      "pygments_lexer": "ipython3",
      "version": "3.7.3"
    },
    "colab": {
      "provenance": [],
      "include_colab_link": true
    }
  },
  "cells": [
    {
      "cell_type": "markdown",
      "metadata": {
        "id": "view-in-github",
        "colab_type": "text"
      },
      "source": [
        "<a href=\"https://colab.research.google.com/github/vitroid/PythonTutorials/blob/master/Pending/330Clustering.ipynb\" target=\"_parent\"><img src=\"https://colab.research.google.com/assets/colab-badge.svg\" alt=\"Open In Colab\"/></a>"
      ]
    },
    {
      "cell_type": "markdown",
      "metadata": {
        "id": "XvgYlJuWKFFn"
      },
      "source": [
        "# 写真の減色\n",
        "\n",
        "カラー画像データは1600万色程度($=256^3$)の色彩を表現できるが、これは一般的な写真の画素数よりも多い。つまり、全く使っていない色はたくさんある。また、次の写真のように、カラー写真とはいっても、実際に使っている色はそれほど多くないように見えるものもある。\n",
        "\n",
        "![](https://live.staticflickr.com/8380/8640855620_102dda223f_z_d.jpg)\n",
        "\n",
        "(CC BY 2.0 2009 SteFou! via Flickr)\n",
        "\n",
        "この写真を、できるだけ少ない色数で表示してみよう。"
      ]
    },
    {
      "cell_type": "markdown",
      "metadata": {
        "id": "1ikgbzk9KFFo"
      },
      "source": [
        "## 1.白黒の場合\n",
        "\n",
        "まず、この画像を入手し、色彩を落として、numpy arrayの形にする。414 x 640W pixelの画像なので、サイズ(414,640)の実数のarrayの各要素がそれぞれの画素の明るさを表す。\n",
        "\n",
        "> imageioライブラリのimread関数を用いることで、URLから画像データをarrayとしてとりいれる。"
      ]
    },
    {
      "cell_type": "code",
      "metadata": {
        "id": "5kBSSU0TKFFq"
      },
      "source": [
        "from imageio import imread\n",
        "\n",
        "img = imread(\"https://live.staticflickr.com/8380/8640855620_102dda223f_z_d.jpg\")\n",
        "img.shape"
      ],
      "execution_count": null,
      "outputs": []
    },
    {
      "cell_type": "markdown",
      "metadata": {
        "id": "__kTZ3GrKFF2"
      },
      "source": [
        "画像の画素ごとのデータは、通常はR(赤),G(緑),B(青)それぞれ0〜255の256段階で表現される。3色を平均して白黒画像にする。\n",
        "\n",
        "> imgのデータ形式はnumpyのarray(配列)形式になっているが、あとでいろいろデータ加工をしやすいように、numpyも読みこんでおく。"
      ]
    },
    {
      "cell_type": "code",
      "metadata": {
        "id": "pzQz-gpYKFF3"
      },
      "source": [
        "# RGB方向の平均をとり、255で割る。\n",
        "import numpy as np\n",
        "\n",
        "#平均値は実数になってしまうので、8ビット負号なし整数(0〜255)に変換しておく。\n",
        "gray = np.average(img, axis=2).astype(np.uint8)\n",
        "gray.shape"
      ],
      "execution_count": null,
      "outputs": []
    },
    {
      "cell_type": "code",
      "metadata": {
        "id": "I-kaW2UQKFGF"
      },
      "source": [
        "# grayの中身は二次元配列で、ピクセルの明るさを表す0〜255の整数が格納されている。\n",
        "gray"
      ],
      "execution_count": null,
      "outputs": []
    },
    {
      "cell_type": "code",
      "source": [
        "# ただの配列なので、座標を指定して数値をとりだすこともできる。\n",
        "gray[0,0]"
      ],
      "metadata": {
        "id": "U6pK2vIvnrnL"
      },
      "execution_count": null,
      "outputs": []
    },
    {
      "cell_type": "code",
      "metadata": {
        "id": "5akTd-H4KFGM"
      },
      "source": [
        "# PILは画像を扱うライブラリ。\n",
        "import PIL\n",
        "\n",
        "# 配列を、画像データに変換する。\n",
        "image = PIL.Image.fromarray(gray)\n",
        "image"
      ],
      "execution_count": null,
      "outputs": []
    },
    {
      "cell_type": "code",
      "source": [
        "# 画像はただの数値配列なので、部分を切りだしたり加工したりするのも簡単。\n",
        "# 以下では、写真の左上すみから(100,100)を始点として、(150,150)ピクセル分を切り出す。\n",
        "\n",
        "part = gray[100:250, 100:250]\n",
        "PIL.Image.fromarray(part)"
      ],
      "metadata": {
        "id": "l3sIMDfwoqZV"
      },
      "execution_count": null,
      "outputs": []
    },
    {
      "cell_type": "markdown",
      "metadata": {
        "id": "kuLmrUSCKFGb"
      },
      "source": [
        "ヒストグラムを作る。"
      ]
    },
    {
      "cell_type": "code",
      "source": [
        "# numpyのヒストグラム関数は、配列grayの最小値と最大値の間を8等分してデータ個数を数える。\n",
        "# binには9個の値が入っていることに注意。\n",
        "freq, bin = np.histogram(gray, bins=8)\n",
        "freq, bin"
      ],
      "metadata": {
        "id": "DtV0ULJvpK6O"
      },
      "execution_count": null,
      "outputs": []
    },
    {
      "cell_type": "code",
      "metadata": {
        "id": "QvB9Kx0aKFGc"
      },
      "source": [
        "# matplotlibを用いてプロットしてみる。\n",
        "from matplotlib import pyplot as plt\n",
        "\n",
        "plt.bar(bin[:-1], freq, width=255/9)"
      ],
      "execution_count": null,
      "outputs": []
    },
    {
      "cell_type": "markdown",
      "metadata": {
        "id": "GNoYk6_DKFGh"
      },
      "source": [
        "ピクセルの明るさが、100〜220に集中しているのがわかる。"
      ]
    },
    {
      "cell_type": "markdown",
      "metadata": {
        "id": "OCGIKKRAKFGi"
      },
      "source": [
        "### 1.1 単純に階調を8等分して、8階調にする\n",
        "\n",
        "何も考えず、この画像を8階調に落す。手っ取り早い方法は、0〜255の階調を32で割り、それを再度32倍するという方法である。演算子`//`を使って整数を整数で割ると、小数以下が切りすてられる。"
      ]
    },
    {
      "cell_type": "code",
      "source": [
        "# //は整数同士の割り算です。商も整数です。\n",
        "gray8 = (gray // 32) * 32\n",
        "PIL.Image.fromarray(gray8)"
      ],
      "metadata": {
        "id": "47dfeWMfrwbY"
      },
      "execution_count": null,
      "outputs": []
    },
    {
      "cell_type": "markdown",
      "metadata": {
        "id": "NVRvAonVKFGu"
      },
      "source": [
        "なんかのっぺりとしてわかりにくい絵になってしまった。コントラストが小さいせいだろう。灰色の階調をもう少しこまかくとりたい。"
      ]
    },
    {
      "cell_type": "markdown",
      "metadata": {
        "id": "oGWqbkWsKFGv"
      },
      "source": [
        "### 1.2 ヒストグラムにもとづいた彩色\n",
        "\n"
      ]
    },
    {
      "cell_type": "markdown",
      "metadata": {
        "id": "k-HY7xWaKFHd"
      },
      "source": [
        "ヒストグラムにより、暗い色が少なく、明るい色に偏っていることがわかっているので、明るいところを、より細かい階調に分類したほうがよさそうだ。\n",
        "\n",
        "画像の統計的性質をはっきりさせるために、ピクセルを暗い順にソートしてみる。\n",
        "\n"
      ]
    },
    {
      "cell_type": "code",
      "source": [
        "# まず、2次元のピクセルを1次元にします。\n",
        "flatten = gray.reshape(-1)\n",
        "flatten"
      ],
      "metadata": {
        "id": "0GmahVnrtQ8f"
      },
      "execution_count": null,
      "outputs": []
    },
    {
      "cell_type": "code",
      "source": [
        "# それをsortします。\n",
        "tone = np.sort(flatten)\n",
        "tone"
      ],
      "metadata": {
        "id": "d90RFwIdtot_"
      },
      "execution_count": null,
      "outputs": []
    },
    {
      "cell_type": "code",
      "source": [
        "# プロットしてみましょう。\n",
        "plt.plot(tone)\n",
        "plt.xlabel(\"pixels\")\n",
        "plt.ylabel(\"brightness\")"
      ],
      "metadata": {
        "id": "EgTCsNKgtvMH"
      },
      "execution_count": null,
      "outputs": []
    },
    {
      "cell_type": "markdown",
      "source": [
        "上のグラフの横軸は、写真のピクセル数に対応している。\n",
        "\n",
        "8段階の明暗を使うものとします。できるだけ、まんべんなくいろんな段階のピクセルを使いたいなら、上のグラフの横軸を8等分するようにするのが良いだろう。\n",
        "\n",
        "こんな感じ。"
      ],
      "metadata": {
        "id": "xHO_YE_Osc8G"
      }
    },
    {
      "cell_type": "code",
      "source": [
        "# 全ピクセル数の1/8は?\n",
        "pixels = len(tone) // 8\n",
        "pixels"
      ],
      "metadata": {
        "id": "23-gUQ-ku7yn"
      },
      "execution_count": null,
      "outputs": []
    },
    {
      "cell_type": "code",
      "source": [
        "# Xは、pixels間隔の8点\n",
        "X = [pixels*i for i in range(9)]\n",
        "\n",
        "# Yは、Xと同じ形の配列で、値は255\n",
        "Y = np.zeros_like(X) + 255\n",
        "\n",
        "# stemプロットは垂直線を描く。\n",
        "plt.stem(X,Y)"
      ],
      "metadata": {
        "id": "UeUl_-dDvvNQ"
      },
      "execution_count": null,
      "outputs": []
    },
    {
      "cell_type": "code",
      "source": [
        "# 上のグラフと重ねる。\n",
        "plt.plot(tone)\n",
        "plt.xlabel(\"pixels\")\n",
        "plt.ylabel(\"brightness\")\n",
        "plt.stem(X,Y)"
      ],
      "metadata": {
        "id": "NN5L46b_wq3B"
      },
      "execution_count": null,
      "outputs": []
    },
    {
      "cell_type": "markdown",
      "source": [
        "明るさが0〜108なら、一番暗いピクセルにし、208以上なら一番明るいピクセルにすればいい、ということが予想できる。これを実際にやってみよう。\n",
        "\n",
        "とりあえず、8つのグループの境目を特定する。\n"
      ],
      "metadata": {
        "id": "8WgJfF5ew3Fq"
      }
    },
    {
      "cell_type": "code",
      "source": [
        "for i in range(8):\n",
        "    x = i*pixels\n",
        "    print(i, tone[x])"
      ],
      "metadata": {
        "id": "emtytB7_xXgD"
      },
      "execution_count": null,
      "outputs": []
    },
    {
      "cell_type": "markdown",
      "source": [
        "明るさが0〜108の点は、明るさ$(0+108)\\div 2=54$に置きかえればいいようだ。\n",
        "\n",
        "grayのピクセルを、範囲ごとに置きかえていく。\n",
        "\n",
        "1ピクセルずつ、条件分けして色をおきかえる。"
      ],
      "metadata": {
        "id": "uOWwWmugyOPR"
      }
    },
    {
      "cell_type": "code",
      "source": [
        "graded = np.zeros_like(gray)\n",
        "for y in range(gray.shape[0]):\n",
        "    for x in range(gray.shape[1]):\n",
        "        if 0 <= gray[y,x] < 108:\n",
        "            graded[y,x] = 54\n",
        "        elif gray[y,x] < 128:\n",
        "            graded[y,x] = (128+108)//2\n",
        "        elif gray[y,x] < 141:\n",
        "            graded[y,x] = (141+128)//2\n",
        "        elif gray[y,x] < 154:\n",
        "            graded[y,x] = (154+141)//2\n",
        "        elif gray[y,x] < 170:\n",
        "            graded[y,x] = (170+154)//2\n",
        "        elif gray[y,x] < 186:\n",
        "            graded[y,x] = (186+170)//2\n",
        "        elif gray[y,x] < 208:\n",
        "            graded[y,x] = (208+186)//2\n",
        "        else:\n",
        "            graded[y,x] = (255+208)//2\n",
        "\n",
        "PIL.Image.fromarray(graded)        "
      ],
      "metadata": {
        "id": "ALO8vKmLyNeI"
      },
      "execution_count": null,
      "outputs": []
    },
    {
      "cell_type": "markdown",
      "metadata": {
        "id": "ZBiaZ-wYKFId"
      },
      "source": [
        "ちょっとメリハリがついて、背景と桜が見分けられるようになった。"
      ]
    },
    {
      "cell_type": "markdown",
      "source": [
        "numpyのfancy indexを使うと、もっと簡単かつ高速に色の置き換えができる。\n"
      ],
      "metadata": {
        "id": "8SFYBLOE0yU3"
      }
    },
    {
      "cell_type": "code",
      "source": [
        "graded = np.zeros_like(gray)\n",
        "graded[gray < 108] = 54\n",
        "graded[(108 <= gray) & (gray < 128)] = (108+128)//2\n",
        "graded[(128 <= gray) & (gray < 141)] = (128+141)//2\n",
        "graded[(141 <= gray) & (gray < 154)] = (141+154)//2\n",
        "graded[(154 <= gray) & (gray < 170)] = (154+170)//2\n",
        "graded[(170 <= gray) & (gray < 186)] = (170+186)//2\n",
        "graded[(186 <= gray) & (gray < 208)] = (186+208)//2\n",
        "graded[(208 <= gray) & (gray < 255)] = (208+255)//2\n",
        "\n",
        "\n",
        "PIL.Image.fromarray(graded)        "
      ],
      "metadata": {
        "id": "vgos43si1KRX"
      },
      "execution_count": null,
      "outputs": []
    },
    {
      "cell_type": "markdown",
      "metadata": {
        "id": "KVcl8JjqKFIu"
      },
      "source": [
        "## 2. カラーの場合\n",
        "\n",
        "デジタルカラー画像は赤、緑、青それぞれの強度が256段階あり、1600万通りの色彩がありうる。RGBをそれぞれ8段階にしたとしても、64色は必要になる。8色にまで落とすためには、3色をon/offの2段階にまで落とす必要があり、やる前からうまくいかないのは目に見えている。"
      ]
    },
    {
      "cell_type": "code",
      "source": [
        "# imgデータを壊してしまわないように、コピーを作る。\n",
        "simple = img.copy()\n",
        "\n",
        "# simpleは3次元の配列\n",
        "simple.shape"
      ],
      "metadata": {
        "id": "s6tUkOdI2gVr"
      },
      "execution_count": null,
      "outputs": []
    },
    {
      "cell_type": "code",
      "metadata": {
        "id": "QLZyjo7yKFJR"
      },
      "source": [
        "# 画素の輝度が128より小さい点はすべて0にする。\n",
        "simple[img<128]=0\n",
        "\n",
        "# 128より大きい点はすべて255にする。\n",
        "simple[img>=128]=255\n",
        "\n",
        "display(PIL.Image.fromarray(simple))"
      ],
      "execution_count": null,
      "outputs": []
    },
    {
      "cell_type": "markdown",
      "metadata": {
        "id": "jHJXZlCEKFKV"
      },
      "source": [
        "酷い。\n",
        "\n"
      ]
    },
    {
      "cell_type": "markdown",
      "source": [
        "もとの絵に含まれているピクセルの色の分布を、RGB3次元の空間で表してみる。"
      ],
      "metadata": {
        "id": "jMU4uiN82w6A"
      }
    },
    {
      "cell_type": "code",
      "source": [
        "# すべてのピクセルをプロットするのは大変なので、縦横それぞれ1/4にした小さい画像を作る。\n",
        "tiny = img[::4, ::4]\n",
        "PIL.Image.fromarray(tiny)"
      ],
      "metadata": {
        "id": "suNujm_m3IJ-"
      },
      "execution_count": null,
      "outputs": []
    },
    {
      "cell_type": "code",
      "metadata": {
        "id": "P2tLUGYcED5Z"
      },
      "source": [
        "# 写真に使われていた色を、RGB空間にプロットする。\n",
        "# plotlyを用いると、三次元プロットをその場で回しながら見ることができる。\n",
        "# plotlyの使い方はここでは解説しない。\n",
        "\n",
        "import plotly.graph_objs as go\n",
        "\n",
        "height, width = tiny.shape[:2]\n",
        "Npix = height*width\n",
        "\n",
        "# 3次元配列を2次元に変換する。各行が、RGBの3原色の強度を表す。\n",
        "pixels = tiny.reshape(Npix, 3)\n",
        "\n",
        "colors = ['rgb({0},{1},{2})'.format(r,g,b) for r,g,b in pixels[:]]\n",
        "trace=dict(type='scatter3d',\n",
        "           x= pixels[:,0],\n",
        "           y= pixels[:,1],\n",
        "           z= pixels[:,2],\n",
        "           mode='markers',\n",
        "           marker=dict(color=colors,\n",
        "                       size=3)\n",
        "          )\n",
        "fig = go.Figure(data=trace)\n",
        "fig.update_layout(scene = dict(\n",
        "                    xaxis_title='R',\n",
        "                    yaxis_title='G',\n",
        "                    zaxis_title='B'))\n",
        "fig.show()"
      ],
      "execution_count": null,
      "outputs": []
    },
    {
      "cell_type": "markdown",
      "metadata": {
        "id": "auNOBam8KFKW"
      },
      "source": [
        "使われている色はとても偏っていることがわかる。\n",
        "\n",
        "そこで、k-平均分類という機械学習の手法を使ってみる。k-平均分類は、機械学習において、多次元空間に散在する多数の点を、近いもの同士で集めて、クラスターにする、「教師なし学習」の一手法である。\n",
        "\n",
        "桜の写真の画素は、R,G,Bを3つの軸とする立方体の中の点で表される。上の写真には640x414=265000点の画素があり、それらは立方体の中で偏って分布している。おそらくピンクに相当する部分に多数の点が集中し、ほかに緑や黒に相当する領域に小さな集団を作っているはずだ。\n",
        "\n",
        "そこで、この3次元空間内の点を、近いものどうしをつないでいくことで、領域分割する手法がk-平均法 (k-means classifier)である。\n",
        "\n",
        "![](https://scikit-learn.org/stable/_images/sphx_glr_plot_kmeans_digits_001.png)\n",
        "\n",
        "2次元でのk-近傍分類器はこんな感じ。10グループに分けろ、と指定すると、10種類に分けてくれる。それぞれのクラスターの重心点で色を代表させれば、色数を減らせる。\n",
        "\n",
        "機械学習ライブラリscikit-learnに含まれているKMeansを使う。"
      ]
    },
    {
      "cell_type": "code",
      "metadata": {
        "id": "zgS6SW6BKFKi"
      },
      "source": [
        "# Pythonデータサイエンスハンドブック 5.11.1\n",
        "from sklearn.cluster import KMeans\n",
        "\n",
        "height, width = img.shape[:2]\n",
        "Npix = height*width\n",
        "\n",
        "#画像をピクセル列に変換する(そうしないとk-meansが使えない)\n",
        "pixels = img.reshape(Npix, 3)\n",
        "\n",
        "# 8つの代表的な色をさがさせる = 点を、3次元空間の8つの代表点に結びつける。\n",
        "\n",
        "# k-meansの初期化。8グループに分ける。\n",
        "kmeans = KMeans(n_clusters=8, max_iter=2000)\n",
        "\n",
        "# データから学習\n",
        "kmeans.fit(pixels)\n",
        "\n",
        "# 学習結果。8つの中心の座標\n",
        "kmeans.cluster_centers_"
      ],
      "execution_count": null,
      "outputs": []
    },
    {
      "cell_type": "markdown",
      "metadata": {
        "id": "TV9_WxwHKFKm"
      },
      "source": [
        "8つの中心の位置=代表色をならべて表示する。"
      ]
    },
    {
      "cell_type": "code",
      "metadata": {
        "id": "W49ltHnqKFKm"
      },
      "source": [
        "import numpy as np\n",
        "\n",
        "# 100x100ピクセルのカラー画像を準備する。\n",
        "square = np.zeros([200,200,3], dtype=np.uint8)\n",
        "\n",
        "# 帯状に、8色で塗りわける。\n",
        "for i in range(8):\n",
        "    x = i*25\n",
        "    square[:,x:x+25] = kmeans.cluster_centers_[i]\n",
        "\n",
        "# 表示\n",
        "display(PIL.Image.fromarray(square))"
      ],
      "execution_count": null,
      "outputs": []
    },
    {
      "cell_type": "code",
      "metadata": {
        "id": "GwxRnYcmKFK6"
      },
      "source": [
        "# predict関数は、与えられた点を8つのグループのいずれかに分類してくれる。\n",
        "groups = kmeans.predict(pixels)\n",
        "groups"
      ],
      "execution_count": null,
      "outputs": []
    },
    {
      "cell_type": "markdown",
      "source": [
        "groupsは、pixelsの各ピクセルがどのグループに属するのかを示している。\n",
        "\n",
        "numpyのfancy indexを用いて、グループの並びを代表色の並びに変換する。"
      ],
      "metadata": {
        "id": "Bhxm78fx9kCr"
      }
    },
    {
      "cell_type": "code",
      "metadata": {
        "id": "_WBahDDvKFLK"
      },
      "source": [
        "new_pixels = kmeans.cluster_centers_[groups]\n",
        "new_pixels"
      ],
      "execution_count": null,
      "outputs": []
    },
    {
      "cell_type": "code",
      "metadata": {
        "id": "ZD1Nt9_RKFLa"
      },
      "source": [
        "# 2次元を3次元に戻す。\n",
        "graded = new_pixels.reshape(height, width, 3)\n",
        "\n",
        "# 実数を整数(符号なし8ビット、画像データの典型的な数値形式)に変換\n",
        "graded = graded.astype(np.uint8)\n",
        "\n",
        "\n",
        "display(PIL.Image.fromarray(graded))\n"
      ],
      "execution_count": null,
      "outputs": []
    },
    {
      "cell_type": "markdown",
      "metadata": {
        "id": "pa5frP40KFLl"
      },
      "source": [
        "たった8色でもここまで雰囲気が出せた。\n",
        "\n",
        "どのようにクラスター化されたかを、RGB3次元で見てみよう。"
      ]
    },
    {
      "cell_type": "code",
      "metadata": {
        "id": "ymvqTj_hFP_J"
      },
      "source": [
        "# 各ピクセルの色が、どの色に減色されたかを散布図で示す。8つの領域に分割されている。\n",
        "\n",
        "import plotly.graph_objs as go\n",
        "\n",
        "tiny = img[::4, ::4]\n",
        "height, width = tiny.shape[:2]\n",
        "Npix = height*width\n",
        "\n",
        "# 2次元のピクセル列に\n",
        "pixels = tiny.reshape(Npix, 3)\n",
        "# k-meansによる減色\n",
        "predicted   = kmeans.cluster_centers_[kmeans.predict(pixels)].reshape(Npix, 3)\n",
        "\n",
        "# 点の座標には原画のピクセル値を用い、彩色には減色したあとの色を指定する。\n",
        "colors = ['rgb({0},{1},{2})'.format(r,g,b) for r,g,b in predicted[:]]\n",
        "trace=dict(type='scatter3d',\n",
        "           x= pixels[:,0],\n",
        "           y= pixels[:,1],\n",
        "           z= pixels[:,2],\n",
        "           mode='markers',\n",
        "           marker=dict(color=colors,\n",
        "                       size=3)\n",
        "          )\n",
        "fig = go.Figure(data=trace)\n",
        "fig.update_layout(scene = dict(\n",
        "                    xaxis_title='R',\n",
        "                    yaxis_title='G',\n",
        "                    zaxis_title='B'))\n",
        "fig.show()"
      ],
      "execution_count": null,
      "outputs": []
    },
    {
      "cell_type": "markdown",
      "metadata": {
        "id": "PO46edRVwG1Y"
      },
      "source": [
        "もとの写真の色がかなりかたよっていたので、クラスター化の結果は、RGB空間の対角線方向に8等分する形になったことがわかる。"
      ]
    },
    {
      "cell_type": "markdown",
      "source": [
        "8色が最適とは限らない。色数を増やせば、原画に限りなく近付けることはできるが、何色をつかえば十分良いと言えるだろう。\n",
        "\n",
        "ここでは、原画と、減色後の画像を比較し、その差を平均二乗誤差で評価することにする。\n"
      ],
      "metadata": {
        "id": "cHWJcSlyEhMZ"
      }
    },
    {
      "cell_type": "code",
      "source": [
        "np.var(pixels - predicted)"
      ],
      "metadata": {
        "id": "FatyBQV_E8nw"
      },
      "execution_count": null,
      "outputs": []
    },
    {
      "cell_type": "code",
      "source": [
        "for ncolors in range(4,16):\n",
        "    kmeans = KMeans(n_clusters=ncolors, max_iter=2000)\n",
        "    # データから学習\n",
        "    kmeans.fit(pixels)\n",
        "    groups = kmeans.predict(pixels)\n",
        "    predicted = kmeans.cluster_centers_[groups]\n",
        "    print(ncolors, np.var(pixels - pred))"
      ],
      "metadata": {
        "id": "Jtw6HUMmEgzv"
      },
      "execution_count": null,
      "outputs": []
    },
    {
      "cell_type": "markdown",
      "source": [
        "色数を増やすと、誤差が減る。この傾向をプロットしてみよう。\n"
      ],
      "metadata": {
        "id": "cZtqVYrRGEnX"
      }
    },
    {
      "cell_type": "code",
      "source": [
        "X = []\n",
        "Y = []\n",
        "for ncolors in range(3,16):\n",
        "    kmeans = KMeans(n_clusters=ncolors, max_iter=2000)\n",
        "    # データから学習\n",
        "    kmeans.fit(pixels)\n",
        "    groups = kmeans.predict(pixels)\n",
        "    predicted = kmeans.cluster_centers_[groups]\n",
        "    print(ncolors, np.var(pixels - predicted))\n",
        "    X.append(ncolors)\n",
        "    Y.append(np.var(pixels - predicted))\n",
        "\n",
        "plt.yscale('log')\n",
        "plt.plot(X,Y)\n",
        "plt.xlabel(\"Number of centers in k-means\")\n",
        "plt.ylabel(\"Mean squared error\")"
      ],
      "metadata": {
        "id": "n1GqQY7qGL-h"
      },
      "execution_count": null,
      "outputs": []
    },
    {
      "cell_type": "markdown",
      "source": [
        "あまり特徴がないが、8色よりも色数を増やしても劇的に誤差が減る傾向もないので、8色で十分ではないか。"
      ],
      "metadata": {
        "id": "8n1NjIs2Gvze"
      }
    },
    {
      "cell_type": "markdown",
      "source": [
        "## 課題\n",
        "\n",
        "インターネット上で画像を見付け、モノクロとカラーで減色を行う。\n",
        "* 最適な階調数は8階調とは限らない。ヒストグラムをみたり、誤差を評価するなどして、適切な階調数を選ぶこと。\n",
        "\n"
      ],
      "metadata": {
        "id": "d8OuiADTAaHw"
      }
    },
    {
      "cell_type": "code",
      "source": [],
      "metadata": {
        "id": "bxatqNC8aQjs"
      },
      "execution_count": null,
      "outputs": []
    }
  ]
}
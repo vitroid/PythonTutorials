{
  "nbformat": 4,
  "nbformat_minor": 0,
  "metadata": {
    "colab": {
      "provenance": [],
      "authorship_tag": "ABX9TyMai7xU9Juh2v8lVawBqeKf",
      "include_colab_link": true
    },
    "kernelspec": {
      "name": "python3",
      "display_name": "Python 3"
    },
    "language_info": {
      "name": "python"
    }
  },
  "cells": [
    {
      "cell_type": "markdown",
      "metadata": {
        "id": "view-in-github",
        "colab_type": "text"
      },
      "source": [
        "<a href=\"https://colab.research.google.com/github/vitroid/PythonTutorials/blob/master/Pending/Madelung.ipynb\" target=\"_parent\"><img src=\"https://colab.research.google.com/assets/colab-badge.svg\" alt=\"Open In Colab\"/></a>"
      ]
    },
    {
      "cell_type": "markdown",
      "source": [
        "2次元のMadelung定数を計算する。\n",
        "\n",
        "## k=1\n",
        "\n",
        "```\n",
        "C E C\n",
        "E O E\n",
        "C E C\n",
        "```\n",
        "C: コーナー; いつも中心と同じ符号。マーデルング定数への寄与は負。式の第3項\n",
        "E: 辺の中点; 符号は交代する。k=1の時は寄与は正。\n",
        "\n",
        "## k=2\n",
        "\n",
        "```\n",
        "C X E X C\n",
        "X       X\n",
        "E   O   E\n",
        "X       X\n",
        "C X E X C\n",
        "```\n",
        "X: Eの位置をL=0とすると、Xの位置はL=1。Eの符号が負なので、Xは逆に正。\n",
        "\n",
        "Pythonでは、1〜100の数列を作るのに、np.arange(1,101)と書くことに注意。速度優先で書いてみた。\n"
      ],
      "metadata": {
        "id": "sfcsCVDxDHGS"
      }
    },
    {
      "cell_type": "code",
      "execution_count": 20,
      "metadata": {
        "colab": {
          "base_uri": "https://localhost:8080/"
        },
        "id": "6MEQjUN6DFZu",
        "outputId": "5b374cfe-e280-41b6-eb8a-869ddef78ed2"
      },
      "outputs": [
        {
          "output_type": "execute_result",
          "data": {
            "text/plain": [
              "1.6155355556096085"
            ]
          },
          "metadata": {},
          "execution_count": 20
        }
      ],
      "source": [
        "import numpy as np\n",
        "\n",
        "def layer(k):\n",
        "    L = np.arange(1,k)  # L=1..(k-1)\n",
        "    return (\n",
        "        -np.sum((-1)**(k+L)*8/(k**2+L**2)**0.5)\n",
        "        -(-1)**k*4/k\n",
        "        -4/(k*2**0.5)\n",
        "    )\n",
        "\n",
        "\n",
        "M = 0\n",
        "for k in range(1,100000):\n",
        "    M += layer(k)\n",
        "\n",
        "M"
      ]
    },
    {
      "cell_type": "markdown",
      "source": [
        "黄金比1.618にかなり近いが、黄金比に収束するわけではなさそうだ。残念。"
      ],
      "metadata": {
        "id": "uHK95SntPk-T"
      }
    },
    {
      "cell_type": "code",
      "source": [
        "# あるいは、読みやすさ優先で書いてみる\n",
        "\n",
        "def layer(k):\n",
        "    L = np.arange(1,k)  # L=1..(k-1)\n",
        "    和=-(-1)**k*4/k - 4/(k*2**0.5)\n",
        "    for L in range(1,k): # L=1..(k-1)\n",
        "        和 -= (-1)**(k+L)*8/(k**2+L**2)**0.5\n",
        "    return 和\n",
        "\n",
        "マ = 0\n",
        "for k in range(1,10):\n",
        "    マ += layer(k)\n",
        "\n",
        "マ"
      ],
      "metadata": {
        "colab": {
          "base_uri": "https://localhost:8080/"
        },
        "id": "nwy5VetXQ2x8",
        "outputId": "ae0c4b09-5802-48e5-d243-5e7282546e6e"
      },
      "execution_count": 24,
      "outputs": [
        {
          "output_type": "execute_result",
          "data": {
            "text/plain": [
              "1.5411619505982657"
            ]
          },
          "metadata": {},
          "execution_count": 24
        }
      ]
    },
    {
      "cell_type": "markdown",
      "source": [
        "学生さんがどこかからコピペしてきた式通りに計算してみる。\n",
        "\n",
        "https://home-01.com/%E7%84%A1%E6%A9%9F%E5%8C%96%E5%AD%A6/%E4%BA%8C%E6%AC%A1%E5%85%83%E3%83%9E%E3%83%BC%E3%83%87%E3%83%AB%E3%83%B3%E3%82%B0%E5%AE%9A%E6%95%B0%E3%81%AE%E6%B1%82%E3%82%81%E6%96%B9/"
      ],
      "metadata": {
        "id": "P5Qnmj6gHqVH"
      }
    },
    {
      "cell_type": "code",
      "source": [
        "import numpy as np\n",
        "\n",
        "def layer(k):\n",
        "    L = np.arange(1,k+2) # L=1..(k+1)\n",
        "    return (\n",
        "        np.sum((-1)**(k+L+1)*8/(k**2+(L+1)**2)**0.5)\n",
        "        -(-1)**k*4/k\n",
        "        -4/(k*2**0.5)\n",
        "    )\n",
        "\n",
        "\n",
        "M = 0\n",
        "for k in range(1,100):\n",
        "    M += layer(k)\n",
        "\n",
        "M"
      ],
      "metadata": {
        "colab": {
          "base_uri": "https://localhost:8080/"
        },
        "id": "Xs3Iz6OTD5mw",
        "outputId": "2a2a47f0-67eb-4053-e197-71b0c032688a"
      },
      "execution_count": 18,
      "outputs": [
        {
          "output_type": "execute_result",
          "data": {
            "text/plain": [
              "-1.9775166306007248"
            ]
          },
          "metadata": {},
          "execution_count": 18
        }
      ]
    },
    {
      "cell_type": "markdown",
      "source": [
        "Madelung定数が負だと、結晶は不安定となる。"
      ],
      "metadata": {
        "id": "_2rr0kTKP5Ap"
      }
    },
    {
      "cell_type": "code",
      "source": [],
      "metadata": {
        "id": "UjeQ4Xh3IAo5"
      },
      "execution_count": null,
      "outputs": []
    }
  ]
}
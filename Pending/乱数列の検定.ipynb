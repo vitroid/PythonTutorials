{
  "nbformat": 4,
  "nbformat_minor": 0,
  "metadata": {
    "colab": {
      "name": "乱数列の検定.ipynb",
      "provenance": [],
      "authorship_tag": "ABX9TyOBHKLrw/MXEOZYU0Ak/T5M",
      "include_colab_link": true
    },
    "kernelspec": {
      "name": "python3",
      "display_name": "Python 3"
    },
    "language_info": {
      "name": "python"
    }
  },
  "cells": [
    {
      "cell_type": "markdown",
      "metadata": {
        "id": "view-in-github",
        "colab_type": "text"
      },
      "source": [
        "<a href=\"https://colab.research.google.com/github/vitroid/PythonTutorials/blob/master/Pending/%E4%B9%B1%E6%95%B0%E5%88%97%E3%81%AE%E6%A4%9C%E5%AE%9A.ipynb\" target=\"_parent\"><img src=\"https://colab.research.google.com/assets/colab-badge.svg\" alt=\"Open In Colab\"/></a>"
      ]
    },
    {
      "cell_type": "markdown",
      "source": [
        "乱数のように見える数列が、乱数かどうかを検定してみよう。"
      ],
      "metadata": {
        "id": "5JZpxqXpq1m5"
      }
    },
    {
      "cell_type": "code",
      "execution_count": null,
      "metadata": {
        "colab": {
          "base_uri": "https://localhost:8080/"
        },
        "id": "6BzuEvU1qjwu",
        "outputId": "1f6e352f-29f5-4317-e884-a5514b79f3db"
      },
      "outputs": [
        {
          "output_type": "stream",
          "name": "stdout",
          "text": [
            "defaultdict(<class 'int'>, {'4': 12, '8': 19, '7': 14, '5': 11, '2': 5, '6': 21, '0': 12, '9': 7, '3': 15, '1': 4})\n"
          ]
        }
      ],
      "source": [
        "from collections import defaultdict\n",
        "\n",
        "digits = \"\"\"\n",
        "488877574426\n",
        "509660683917\n",
        "586574661336\n",
        "685372884730\n",
        "708360065688\n",
        "277783100420\n",
        "937866454509\n",
        "323666361478\n",
        "483368547809\n",
        "536439586980\n",
        "\"\"\"\n",
        "# https://qr.ae/pvH86t\n",
        "\n",
        "h = defaultdict(int)\n",
        "for ch in digits:\n",
        "    if ch in \"0123456789\":\n",
        "        h[ch] += 1\n",
        "\n",
        "print(h)"
      ]
    },
    {
      "cell_type": "markdown",
      "source": [
        "有効サンプル数"
      ],
      "metadata": {
        "id": "RN_pmdBKcrL0"
      }
    },
    {
      "cell_type": "code",
      "source": [
        "N = sum([h[x] for x in h])\n",
        "N"
      ],
      "metadata": {
        "colab": {
          "base_uri": "https://localhost:8080/"
        },
        "id": "xAtlAB4QcDj8",
        "outputId": "909cb3b5-045d-435a-f9d8-071a50ded8b9"
      },
      "execution_count": null,
      "outputs": [
        {
          "output_type": "execute_result",
          "data": {
            "text/plain": [
              "120"
            ]
          },
          "metadata": {},
          "execution_count": 2
        }
      ]
    },
    {
      "cell_type": "markdown",
      "source": [
        "すべての文字が均一に出現すると仮定した場合の、この分布の尤度。\n",
        "$$L={N!\\over\\prod_{i=0}^{9} N_i!}\\prod_{i=0}^9p_i^{N_i}$$\n",
        "対数尤度は(Stirling公式を使い)\n",
        "$$\\ln L=N\\ln N-\\sum N_i\\ln N_i +\\sum N_i\\ln p_i$$\n",
        " 均一分布の尤度との比をとる、つまり、均一分布の対数尤度との差をとると、残るのはまんなかの総和の部分のみ。"
      ],
      "metadata": {
        "id": "jIBCIJXWcuk6"
      }
    },
    {
      "cell_type": "code",
      "source": [
        "from math import log, exp\n",
        "homo = 10*(12*log(12))\n",
        "homo"
      ],
      "metadata": {
        "colab": {
          "base_uri": "https://localhost:8080/"
        },
        "id": "U5YSNy3LcnLP",
        "outputId": "59dc9c36-a7fa-4299-e20a-e61bdd96aeb2"
      },
      "execution_count": null,
      "outputs": [
        {
          "output_type": "execute_result",
          "data": {
            "text/plain": [
              "298.1887979745601"
            ]
          },
          "metadata": {},
          "execution_count": 7
        }
      ]
    },
    {
      "cell_type": "code",
      "source": [
        "lnL = sum([h[x]*log(h[x]) for x in h])\n",
        "lnL"
      ],
      "metadata": {
        "colab": {
          "base_uri": "https://localhost:8080/"
        },
        "id": "FhUkjksKeVm_",
        "outputId": "aad6c2f5-db33-4b4c-d9f0-431e6c0303c6"
      },
      "execution_count": null,
      "outputs": [
        {
          "output_type": "execute_result",
          "data": {
            "text/plain": [
              "310.6752130732324"
            ]
          },
          "metadata": {},
          "execution_count": 8
        }
      ]
    },
    {
      "cell_type": "markdown",
      "source": [
        "尤度比になおすと、"
      ],
      "metadata": {
        "id": "4zX8R7hCe3wK"
      }
    },
    {
      "cell_type": "code",
      "source": [
        "exp(homo-lnL)"
      ],
      "metadata": {
        "colab": {
          "base_uri": "https://localhost:8080/"
        },
        "id": "zSs3zLlEem7t",
        "outputId": "22f0f0a7-a0ea-44dc-b0d5-7a248d27f510"
      },
      "execution_count": null,
      "outputs": [
        {
          "output_type": "execute_result",
          "data": {
            "text/plain": [
              "3.777624826252951e-06"
            ]
          },
          "metadata": {},
          "execution_count": 9
        }
      ]
    },
    {
      "cell_type": "markdown",
      "source": [
        "かなり偏っているように思える。\n",
        "\n",
        "比較のため、Pythonの標準乱数(Mersenne Twister)で120個の乱数を生成してみる。"
      ],
      "metadata": {
        "id": "RgMb1jYfe7fw"
      }
    },
    {
      "cell_type": "code",
      "source": [
        "import random\n",
        "hh = defaultdict(int)\n",
        "for r in [random.randint(0,9) for i in range(120)]:\n",
        "    hh[r] += 1\n",
        "\n",
        "lnL2 = sum([hh[x]*log(hh[x]) for x in hh])\n",
        "lnL2\n"
      ],
      "metadata": {
        "colab": {
          "base_uri": "https://localhost:8080/"
        },
        "id": "wghiyhlxe6tb",
        "outputId": "153fc9c4-875e-4b06-80be-f3766fc3ad7e"
      },
      "execution_count": null,
      "outputs": [
        {
          "output_type": "execute_result",
          "data": {
            "text/plain": [
              "302.5388519726866"
            ]
          },
          "metadata": {},
          "execution_count": 18
        }
      ]
    },
    {
      "cell_type": "code",
      "source": [
        "exp(homo-lnL2)"
      ],
      "metadata": {
        "colab": {
          "base_uri": "https://localhost:8080/"
        },
        "id": "OEuYQWwGeurq",
        "outputId": "3d753005-54eb-4a52-a77a-94c76ce5d858"
      },
      "execution_count": null,
      "outputs": [
        {
          "output_type": "execute_result",
          "data": {
            "text/plain": [
              "0.012906115655597952"
            ]
          },
          "metadata": {},
          "execution_count": 19
        }
      ]
    },
    {
      "cell_type": "markdown",
      "source": [
        "尤度比が、どんな分布になるのかは知らないが、$4\\times 10^{-6}$は相当偏っていると言えそうだ。\n",
        "\n",
        "本格的な検定方法を学ぶ必要があるね。"
      ],
      "metadata": {
        "id": "CxvkDx3ZfzWx"
      }
    },
    {
      "cell_type": "code",
      "source": [
        ""
      ],
      "metadata": {
        "id": "3tWNrnZ0fqZK"
      },
      "execution_count": null,
      "outputs": []
    }
  ]
}
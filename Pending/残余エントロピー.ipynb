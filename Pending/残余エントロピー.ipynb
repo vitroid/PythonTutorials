{
  "nbformat": 4,
  "nbformat_minor": 0,
  "metadata": {
    "colab": {
      "name": "残余エントロピー.ipynb",
      "provenance": [],
      "authorship_tag": "ABX9TyMNs6/AjkNLDFMVaibPEuud",
      "include_colab_link": true
    },
    "kernelspec": {
      "name": "python3",
      "display_name": "Python 3"
    },
    "language_info": {
      "name": "python"
    }
  },
  "cells": [
    {
      "cell_type": "markdown",
      "metadata": {
        "id": "view-in-github",
        "colab_type": "text"
      },
      "source": [
        "<a href=\"https://colab.research.google.com/github/vitroid/PythonTutorials/blob/master/Pending/%E6%AE%8B%E4%BD%99%E3%82%A8%E3%83%B3%E3%83%88%E3%83%AD%E3%83%94%E3%83%BC.ipynb\" target=\"_parent\"><img src=\"https://colab.research.google.com/assets/colab-badge.svg\" alt=\"Open In Colab\"/></a>"
      ]
    },
    {
      "cell_type": "markdown",
      "source": [
        "nxnの正方格子氷の配置の数を数える。\n",
        "\n",
        "NetworkXは使わない。まず、辺の一覧表を作る。\n"
      ],
      "metadata": {
        "id": "MrTyfyhcUa7n"
      }
    },
    {
      "cell_type": "code",
      "execution_count": null,
      "metadata": {
        "id": "e1aRcU5BUZwy"
      },
      "outputs": [],
      "source": [
        "from collections import defaultdict\n",
        "\n",
        "def grid_edges(n):\n",
        "    edges = []\n",
        "    for x in range(n):\n",
        "        xi = (x+1) % n\n",
        "        for y in range(n):\n",
        "            yi = (y+1) % n\n",
        "            node = y*n+x\n",
        "            right = yi*n+x\n",
        "            down = y*n+xi\n",
        "            edges.append((node, right))\n",
        "            edges.append((node, down))\n",
        "    return edges\n",
        "\n",
        "n = 3\n",
        "nn = n**2\n",
        "edges = grid_edges(n)\n",
        "print(edges)\n"
      ]
    },
    {
      "cell_type": "markdown",
      "source": [
        "各ノードの、入出結合数を記録する配列。"
      ],
      "metadata": {
        "id": "gNlwgeKpYIji"
      }
    },
    {
      "cell_type": "code",
      "source": [
        "inout = [[0,0] for i in range(nn)]\n",
        "inout\n"
      ],
      "metadata": {
        "id": "8XpB8Pv9YIGa"
      },
      "execution_count": null,
      "outputs": []
    },
    {
      "cell_type": "code",
      "source": [
        "# 深さ優先探索。ice ruleが満たされる限り、順番に。\n",
        "\n",
        "def one_edge(i, ori, edges, inout):\n",
        "    \"\"\"\n",
        "    edges[]のi番目の辺の向きを試す。あとは再帰に丸投げ。\n",
        "    \"\"\"\n",
        "    if i < 0:\n",
        "        yield 1\n",
        "    else:\n",
        "        a, b = edges[i]\n",
        "        if ori < 0:\n",
        "            a,b = b, a\n",
        "        # a --> b\n",
        "        # 双方が結合追加可能なら\n",
        "        if inout[a][1] < 2 and inout[b][0] < 2:\n",
        "            inout[a][1] += 1 # increment out\n",
        "            inout[b][0] += 1 # increment in\n",
        "            # 次の結合に進む。\n",
        "            yield from one_edge(i-1, +1, edges, inout)\n",
        "            yield from one_edge(i-1, -1, edges, inout)\n",
        "            inout[a][1] -= 1\n",
        "            inout[b][0] -= 1\n",
        "\n",
        "nconf = sum([i for i in one_edge(nn*2-1, +1, edges, inout)]) * 2\n",
        "nconf"
      ],
      "metadata": {
        "id": "nbnwg8kWWxgB"
      },
      "execution_count": null,
      "outputs": []
    },
    {
      "cell_type": "markdown",
      "source": [
        "Paulingの近似との比較。"
      ],
      "metadata": {
        "id": "-ybc5yWvssHX"
      }
    },
    {
      "cell_type": "code",
      "source": [
        "nconf / 1.5**nn"
      ],
      "metadata": {
        "id": "pOFRvohkot43"
      },
      "execution_count": null,
      "outputs": []
    }
  ]
}
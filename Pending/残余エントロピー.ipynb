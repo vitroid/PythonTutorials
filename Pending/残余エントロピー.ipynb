{
  "nbformat": 4,
  "nbformat_minor": 0,
  "metadata": {
    "colab": {
      "name": "残余エントロピー.ipynb",
      "provenance": [],
      "authorship_tag": "ABX9TyPSEnltti7uX1/J7bXVpudo",
      "include_colab_link": true
    },
    "kernelspec": {
      "name": "python3",
      "display_name": "Python 3"
    },
    "language_info": {
      "name": "python"
    }
  },
  "cells": [
    {
      "cell_type": "markdown",
      "metadata": {
        "id": "view-in-github",
        "colab_type": "text"
      },
      "source": [
        "<a href=\"https://colab.research.google.com/github/vitroid/PythonTutorials/blob/master/Pending/%E6%AE%8B%E4%BD%99%E3%82%A8%E3%83%B3%E3%83%88%E3%83%AD%E3%83%94%E3%83%BC.ipynb\" target=\"_parent\"><img src=\"https://colab.research.google.com/assets/colab-badge.svg\" alt=\"Open In Colab\"/></a>"
      ]
    },
    {
      "cell_type": "markdown",
      "source": [
        "nxnの正方格子氷の配置の数を数える。\n",
        "\n",
        "NetworkXは使わない。まず、辺の一覧表を作る。\n"
      ],
      "metadata": {
        "id": "MrTyfyhcUa7n"
      }
    },
    {
      "cell_type": "code",
      "execution_count": 40,
      "metadata": {
        "colab": {
          "base_uri": "https://localhost:8080/"
        },
        "id": "e1aRcU5BUZwy",
        "outputId": "08bbc5d7-f9c0-47d9-e4c5-36762b3613be"
      },
      "outputs": [
        {
          "output_type": "stream",
          "name": "stdout",
          "text": [
            "[(0, 5), (0, 1), (5, 10), (5, 6), (10, 15), (10, 11), (15, 20), (15, 16), (20, 0), (20, 21), (1, 6), (1, 2), (6, 11), (6, 7), (11, 16), (11, 12), (16, 21), (16, 17), (21, 1), (21, 22), (2, 7), (2, 3), (7, 12), (7, 8), (12, 17), (12, 13), (17, 22), (17, 18), (22, 2), (22, 23), (3, 8), (3, 4), (8, 13), (8, 9), (13, 18), (13, 14), (18, 23), (18, 19), (23, 3), (23, 24), (4, 9), (4, 0), (9, 14), (9, 5), (14, 19), (14, 10), (19, 24), (19, 15), (24, 4), (24, 20)]\n"
          ]
        }
      ],
      "source": [
        "from collections import defaultdict\n",
        "\n",
        "def grid_edges(n):\n",
        "    edges = []\n",
        "    for x in range(n):\n",
        "        xi = (x+1) % n\n",
        "        for y in range(n):\n",
        "            yi = (y+1) % n\n",
        "            node = y*n+x\n",
        "            right = yi*n+x\n",
        "            down = y*n+xi\n",
        "            edges.append((node, right))\n",
        "            edges.append((node, down))\n",
        "    return edges\n",
        "\n",
        "n = 5\n",
        "nn = n**2\n",
        "edges = grid_edges(n)\n",
        "print(edges)\n"
      ]
    },
    {
      "cell_type": "markdown",
      "source": [
        "各ノードの、入出結合数を記録する配列。"
      ],
      "metadata": {
        "id": "gNlwgeKpYIji"
      }
    },
    {
      "cell_type": "code",
      "source": [
        "inout = [[0,0] for i in range(nn)]\n",
        "inout\n"
      ],
      "metadata": {
        "colab": {
          "base_uri": "https://localhost:8080/"
        },
        "id": "8XpB8Pv9YIGa",
        "outputId": "794ab1bf-c25f-4e57-e6b0-0bb457cb600f"
      },
      "execution_count": 41,
      "outputs": [
        {
          "output_type": "execute_result",
          "data": {
            "text/plain": [
              "[[0, 0],\n",
              " [0, 0],\n",
              " [0, 0],\n",
              " [0, 0],\n",
              " [0, 0],\n",
              " [0, 0],\n",
              " [0, 0],\n",
              " [0, 0],\n",
              " [0, 0],\n",
              " [0, 0],\n",
              " [0, 0],\n",
              " [0, 0],\n",
              " [0, 0],\n",
              " [0, 0],\n",
              " [0, 0],\n",
              " [0, 0],\n",
              " [0, 0],\n",
              " [0, 0],\n",
              " [0, 0],\n",
              " [0, 0],\n",
              " [0, 0],\n",
              " [0, 0],\n",
              " [0, 0],\n",
              " [0, 0],\n",
              " [0, 0]]"
            ]
          },
          "metadata": {},
          "execution_count": 41
        }
      ]
    },
    {
      "cell_type": "code",
      "source": [
        "# 深さ優先探索。ice ruleが満たされる限り、順番に。\n",
        "\n",
        "def one_edge(i, ori, edges, inout):\n",
        "    \"\"\"\n",
        "    edges[]のi番目の辺の向きを試す。あとは再帰に丸投げ。\n",
        "    \"\"\"\n",
        "    if i < 0:\n",
        "        yield 1\n",
        "    else:\n",
        "        a, b = edges[i]\n",
        "        if ori < 0:\n",
        "            a,b = b, a\n",
        "        # a --> b\n",
        "        # 双方が結合追加可能なら\n",
        "        if inout[a][1] < 2 and inout[b][0] < 2:\n",
        "            inout[a][1] += 1 # increment out\n",
        "            inout[b][0] += 1 # increment in\n",
        "            # 次の結合に進む。\n",
        "            yield from one_edge(i-1, +1, edges, inout)\n",
        "            yield from one_edge(i-1, -1, edges, inout)\n",
        "            inout[a][1] -= 1\n",
        "            inout[b][0] -= 1\n",
        "\n",
        "nconf = sum([i for i in one_edge(nn*2-1, +1, edges, inout)])\n",
        "nconf += sum([i for i in one_edge(nn*2-1, -1, edges, inout)])\n",
        "nconf"
      ],
      "metadata": {
        "colab": {
          "base_uri": "https://localhost:8080/"
        },
        "id": "nbnwg8kWWxgB",
        "outputId": "1b53d364-70fc-4609-fdcf-60e651155b1f"
      },
      "execution_count": 42,
      "outputs": [
        {
          "output_type": "execute_result",
          "data": {
            "text/plain": [
              "286448"
            ]
          },
          "metadata": {},
          "execution_count": 42
        }
      ]
    },
    {
      "cell_type": "code",
      "source": [
        "nconf / 1.5**nn"
      ],
      "metadata": {
        "colab": {
          "base_uri": "https://localhost:8080/"
        },
        "id": "pOFRvohkot43",
        "outputId": "0b57d377-0102-40bc-be2e-496f7bf06a5a"
      },
      "execution_count": 43,
      "outputs": [
        {
          "output_type": "execute_result",
          "data": {
            "text/plain": [
              "11.343950373479682"
            ]
          },
          "metadata": {},
          "execution_count": 43
        }
      ]
    },
    {
      "cell_type": "code",
      "source": [
        ""
      ],
      "metadata": {
        "id": "4jMUxu7KrV6R"
      },
      "execution_count": null,
      "outputs": []
    }
  ]
}
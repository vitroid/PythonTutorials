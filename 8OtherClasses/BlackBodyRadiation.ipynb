{
  "nbformat": 4,
  "nbformat_minor": 0,
  "metadata": {
    "colab": {
      "name": "BlackBodyRadiation.ipynb",
      "provenance": [],
      "toc_visible": true,
      "authorship_tag": "ABX9TyN2tlmyyovDAK69EI8G9p+9",
      "include_colab_link": true
    },
    "kernelspec": {
      "name": "python3",
      "display_name": "Python 3"
    },
    "language_info": {
      "name": "python"
    }
  },
  "cells": [
    {
      "cell_type": "markdown",
      "metadata": {
        "id": "view-in-github",
        "colab_type": "text"
      },
      "source": [
        "<a href=\"https://colab.research.google.com/github/vitroid/PythonTutorials/blob/master/8OtherClasses/BlackBodyRadiation.ipynb\" target=\"_parent\"><img src=\"https://colab.research.google.com/assets/colab-badge.svg\" alt=\"Open In Colab\"/></a>"
      ]
    },
    {
      "cell_type": "markdown",
      "metadata": {
        "id": "-iqUiz82KDrL"
      },
      "source": [
        "平熱と発熱で、どれぐらい赤外線の放射量が変化するのかを考えます。"
      ]
    },
    {
      "cell_type": "code",
      "metadata": {
        "id": "JUFvEIPQAFhh"
      },
      "source": [
        "import numpy as np\n",
        "import matplotlib.pyplot as plt\n",
        "\n",
        "h=6.626e-34\n",
        "c=2.998e8\n",
        "k=1.381e-23\n",
        "\n",
        "# 横軸=波長。対数目盛で等間隔になるように1〜100(μm)で1000点\n",
        "L = np.logspace(0, 2, 1000)\n",
        "\n",
        "def BlackBodyRadiation(L, T):\n",
        "    \"\"\"\n",
        "    Eq. 4.25 in Widom's textbook\n",
        "    \"\"\"\n",
        "    E = h*c/(np.exp(h*c/(L*1e-6*k*T))-1) / (L*1e-6)**5\n",
        "    return E\n",
        "\n",
        "E310 = BlackBodyRadiation(L, 310)\n",
        "E312 = BlackBodyRadiation(L, 312)\n",
        "\n",
        "fig = plt.figure()\n",
        "# curves\n",
        "plt.loglog(L, E310, label=\"310 K\")\n",
        "plt.loglog(L, E312, label=\"312 K\")\n",
        "# vertical bars\n",
        "plt.stem(3.0, BlackBodyRadiation(3, 310))\n",
        "plt.stem(10.0, BlackBodyRadiation(10, 310))\n",
        "\n",
        "plt.ylim(1e-5, None)\n",
        "\n",
        "plt.xlabel(\"Wave length / μm\")\n",
        "plt.ylabel(\"Spectral radiant emittance\")\n",
        "plt.legend()\n",
        "\n",
        "fig.savefig(\"blackbody.pdf\")"
      ],
      "execution_count": null,
      "outputs": []
    },
    {
      "cell_type": "markdown",
      "metadata": {
        "id": "2REnCZR-KMBn"
      },
      "source": [
        "## 波長3μmの輻射の比。"
      ]
    },
    {
      "cell_type": "code",
      "metadata": {
        "id": "2VW6ainhCQ5l"
      },
      "source": [
        "BlackBodyRadiation(3, 310) / BlackBodyRadiation(3,312)"
      ],
      "execution_count": null,
      "outputs": []
    },
    {
      "cell_type": "markdown",
      "metadata": {
        "id": "WfyIN17nKVC1"
      },
      "source": [
        "## 波長10μmの輻射の比。"
      ]
    },
    {
      "cell_type": "code",
      "metadata": {
        "id": "mMjToJAYD2om"
      },
      "source": [
        "BlackBodyRadiation(10, 310) / BlackBodyRadiation(10, 312)"
      ],
      "execution_count": null,
      "outputs": []
    },
    {
      "cell_type": "markdown",
      "source": [
        "## 3 μmと10 μmでの輻射の比率を、310 Kと312 Kで比べる。\n",
        "\n"
      ],
      "metadata": {
        "id": "mYTewJ2XfMFR"
      }
    },
    {
      "cell_type": "code",
      "source": [
        "# 310 K, normal\n",
        "ratio310 = BlackBodyRadiation(10, 310) / BlackBodyRadiation(3, 310)\n",
        "ratio310"
      ],
      "metadata": {
        "id": "5po3TrDMfLQH"
      },
      "execution_count": null,
      "outputs": []
    },
    {
      "cell_type": "code",
      "source": [
        "# 312 K, fever\n",
        "ratio312 = BlackBodyRadiation(10, 312) / BlackBodyRadiation(3, 312)\n",
        "ratio312"
      ],
      "metadata": {
        "id": "IAlOfO0GfwQY"
      },
      "execution_count": null,
      "outputs": []
    },
    {
      "cell_type": "markdown",
      "source": [
        "## 体温の範囲と輻射比\n",
        "\n"
      ],
      "metadata": {
        "id": "seRE1m0gg6qZ"
      }
    },
    {
      "cell_type": "code",
      "source": [
        "T = np.linspace(35.5, 41.0, 100)\n",
        "ratio = BlackBodyRadiation(10, T+273.15) / BlackBodyRadiation(3, T+273.15)\n",
        "\n",
        "plt.plot(T, ratio)\n",
        "print(ratio[0] / ratio[-1])"
      ],
      "metadata": {
        "id": "t4ey1GmOhRjf"
      },
      "execution_count": null,
      "outputs": []
    },
    {
      "cell_type": "markdown",
      "source": [
        "平熱(低体温)〜高熱の範囲で、輻射比は2割ほど減る。減り方は直線的なので、輻射比から簡単に体温を算出できる。\n",
        "\n",
        "実際に赤外線センサーを手に入れて、この通りになるのか試してみたいですね。"
      ],
      "metadata": {
        "id": "OzVUM-eQhjT8"
      }
    },
    {
      "cell_type": "markdown",
      "metadata": {
        "id": "YinB7ejmWxjP"
      },
      "source": [
        "## Newton-Raphson法による極大振動数の求解\n",
        "\n",
        "解きたい式は\n",
        "$$\\exp s={3\\over 3-s}$$\n",
        "すこし変形して、\n",
        "$$f(s)=3\\exp(-s)+s-3=0$$\n",
        "$s$で微分すると、\n",
        "$$f'(s) =-3e^{-s}+1$$\n",
        "Newton-Raphson法による反復式は\n",
        "$$s_{i+1}=s_i-{f(s_i)\\over f'(s_i)}=s_i-{3e^{-s_i}+s_i-3\\over-3e^{-s_i}+1}$$"
      ]
    },
    {
      "cell_type": "code",
      "metadata": {
        "id": "m5Z7ytPjXlM_"
      },
      "source": [
        "from math import exp\n",
        "def iteration(s):\n",
        "    return s - (3*exp(-s)+s-3)/(-3*exp(-s)+1)\n",
        "\n",
        "s = 3\n",
        "print(s)\n",
        "s = iteration(s)\n",
        "print(s)\n",
        "s = iteration(s)\n",
        "print(s)\n",
        "s = iteration(s)\n",
        "print(s)\n",
        "s = iteration(s)\n",
        "print(s)\n"
      ],
      "execution_count": null,
      "outputs": []
    },
    {
      "cell_type": "markdown",
      "metadata": {
        "id": "yYLECEUwXHma"
      },
      "source": [
        "## 極大波長の求解\n",
        "\n"
      ]
    },
    {
      "cell_type": "code",
      "metadata": {
        "id": "H7tzQODhXGae"
      },
      "source": [
        "from math import exp\n",
        "def iteration(s):\n",
        "    return s - (5*exp(-s)+s-5)/(-5*exp(-s)+1)\n",
        "\n",
        "s = 5\n",
        "print(s)\n",
        "s = iteration(s)\n",
        "print(s)\n",
        "s = iteration(s)\n",
        "print(s)\n",
        "s = iteration(s)\n",
        "print(s)\n",
        "s = iteration(s)\n",
        "print(s)\n"
      ],
      "execution_count": null,
      "outputs": []
    },
    {
      "cell_type": "code",
      "metadata": {
        "id": "2H5HGnRBYGAR"
      },
      "source": [
        "# 検算\n",
        "exp(s)-(5/(5-s))"
      ],
      "execution_count": null,
      "outputs": []
    },
    {
      "cell_type": "markdown",
      "source": [
        "記号演算ライブラリsympyを使えば、何も考えずに数値解が得られる。"
      ],
      "metadata": {
        "id": "NmSLdta8h6RV"
      }
    },
    {
      "cell_type": "code",
      "metadata": {
        "id": "cekV4nVZYPAB"
      },
      "source": [
        "# sympyを使った求解\n",
        "from sympy import exp, nsolve\n",
        "from sympy.abc import *\n",
        "\n",
        "# 最後の5は数値求解の初期値。\n",
        "nsolve(5*exp(-s)+s-5, s, 5)"
      ],
      "execution_count": null,
      "outputs": []
    },
    {
      "cell_type": "markdown",
      "metadata": {
        "id": "gKA3poVpsvaZ"
      },
      "source": [
        "## サーモグラフィーっぽい画像をつくる。\n",
        "\n",
        "熱を測れないカメラでも、色をそれっぽくするとサーモグラフィーっぽくできるはず。"
      ]
    },
    {
      "cell_type": "markdown",
      "metadata": {
        "id": "jEYY5LDUs2JH"
      },
      "source": [
        "元画像をもってくる。"
      ]
    },
    {
      "cell_type": "code",
      "metadata": {
        "id": "VXlg5EzGYsrm"
      },
      "source": [
        "!wget https://upload.wikimedia.org/wikipedia/commons/thumb/c/c2/2018_Shibuya_Crossing.jpg/640px-2018_Shibuya_Crossing.jpg"
      ],
      "execution_count": null,
      "outputs": []
    },
    {
      "cell_type": "markdown",
      "metadata": {
        "id": "0jPM1ekltYLE"
      },
      "source": [
        "そのまま表示。"
      ]
    },
    {
      "cell_type": "code",
      "metadata": {
        "id": "w5BmjsQ9tTTz"
      },
      "source": [
        "from IPython.display import Image, display\n",
        "display(Image('640px-2018_Shibuya_Crossing.jpg'))\n"
      ],
      "execution_count": null,
      "outputs": []
    },
    {
      "cell_type": "markdown",
      "metadata": {
        "id": "fV3eZg0ltnAu"
      },
      "source": [
        "OpenCV (画像処理ライブラリ)をつかって、白黒にする。"
      ]
    },
    {
      "cell_type": "code",
      "metadata": {
        "id": "82tM-2evtmZU"
      },
      "source": [
        "import sys\n",
        "import cv2\n",
        "import numpy as np\n",
        "\n",
        "img_bgr = cv2.imread(\"640px-2018_Shibuya_Crossing.jpg\")\n",
        "# グレーに\n",
        "img_gray = cv2.cvtColor(img_bgr, cv2.COLOR_BGR2GRAY)\n",
        "# 最大最小でスケールしてコントラストを最大化\n",
        "img = np.zeros_like(img_bgr)\n",
        "img = cv2.normalize(img_gray,  img, 0, 255, cv2.NORM_MINMAX)"
      ],
      "execution_count": null,
      "outputs": []
    },
    {
      "cell_type": "markdown",
      "metadata": {
        "id": "mm_8NWaQuJzz"
      },
      "source": [
        "matplotlibをつかってそのまま表示。"
      ]
    },
    {
      "cell_type": "code",
      "metadata": {
        "id": "yeJhFLOSuJMa"
      },
      "source": [
        "import matplotlib.pyplot as plt\n",
        "plt.imshow(img)"
      ],
      "execution_count": null,
      "outputs": []
    },
    {
      "cell_type": "markdown",
      "metadata": {
        "id": "7A_ZNkALuWhH"
      },
      "source": [
        "サーモグラフィーっぽいカラーパレットをさがす。\n",
        "\n",
        "https://matplotlib.org/stable/tutorials/colors/colormaps.html\n",
        "\n"
      ]
    },
    {
      "cell_type": "code",
      "metadata": {
        "id": "kbwipuf8tk2z"
      },
      "source": [
        "import matplotlib.pyplot as plt\n",
        "plt.imshow(img, cmap=plt.get_cmap('jet'))"
      ],
      "execution_count": null,
      "outputs": []
    },
    {
      "cell_type": "markdown",
      "metadata": {
        "id": "ONe2ppJcwo1X"
      },
      "source": [
        "フェイクサーモグラフィー画像のできあがり。"
      ]
    },
    {
      "cell_type": "markdown",
      "source": [
        "## 黒体放射の比熱\n",
        "\n",
        "単純な式構成では積分できなかった。"
      ],
      "metadata": {
        "id": "zPH3W-pHcT19"
      }
    },
    {
      "cell_type": "code",
      "metadata": {
        "id": "pmwYWHBcu7AZ",
        "outputId": "23a3c6b4-79c3-4818-b50d-f1e6d4c75e7e",
        "colab": {
          "base_uri": "https://localhost:8080/",
          "height": 87
        }
      },
      "source": [
        "import sympy\n",
        "from sympy.abc import *\n",
        "\n",
        "T = sympy.Symbol(\"T\", positive=True)\n",
        "nu = sympy.Symbol(\"nu\", positive=True)\n",
        "# s = h*nu/(k*T)\n",
        "\n",
        "x = sympy.exp(-h*nu/k/T)\n",
        "G = 8*sympy.pi*nu**2*V/c**3\n",
        "e = x*h*nu/(1-x)\n",
        "E = (G*e).subs(nu, s*k*T/h)\n",
        "E"
      ],
      "execution_count": 7,
      "outputs": [
        {
          "output_type": "execute_result",
          "data": {
            "text/plain": [
              "8*pi*T**3*V*k**3*s**3*exp(-s)/(c**3*h**2*(1 - exp(-s)))"
            ],
            "text/latex": "$\\displaystyle \\frac{8 \\pi T^{3} V k^{3} s^{3} e^{- s}}{c^{3} h^{2} \\cdot \\left(1 - e^{- s}\\right)}$"
          },
          "metadata": {},
          "execution_count": 7
        }
      ]
    },
    {
      "cell_type": "markdown",
      "source": [
        "すべての振動数の放射を積分して全放射エネルギーを計算する。"
      ],
      "metadata": {
        "id": "PBg4B3Zd9a0R"
      }
    },
    {
      "cell_type": "code",
      "source": [
        "intE = sympy.integrate(E, (s, 0, sympy.oo))*k*T/h\n",
        "intE"
      ],
      "metadata": {
        "id": "QVovZq6Wdk22",
        "outputId": "e13f8c4c-fe50-4225-b4e2-46d58e9b9ea5",
        "colab": {
          "base_uri": "https://localhost:8080/",
          "height": 109
        }
      },
      "execution_count": 9,
      "outputs": [
        {
          "output_type": "execute_result",
          "data": {
            "text/plain": [
              "8*pi*T**4*V*k**4*Integral(s**3/(exp(s) - 1), (s, 0, oo))/(c**3*h**3)"
            ],
            "text/latex": "$\\displaystyle \\frac{8 \\pi T^{4} V k^{4} \\int\\limits_{0}^{\\infty} \\frac{s^{3}}{e^{s} - 1}\\, ds}{c^{3} h^{3}}$"
          },
          "metadata": {},
          "execution_count": 9
        }
      ]
    },
    {
      "cell_type": "markdown",
      "source": [
        "積分の部分を定数とみなせば、放射エネルギーは温度の4乗に比例することがわかる。(Stefan-Boltzmannの法則)\n",
        "\n",
        "黒体輻射の比熱は、これを温度で微分するので、温度の3乗で増えつづける。固体のDulong-Petitの法則のようにある値で飽和しないのは、上限振動数が存在しないから。"
      ],
      "metadata": {
        "id": "7C9ZUNmM8t2M"
      }
    }
  ]
}
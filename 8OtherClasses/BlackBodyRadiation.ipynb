{
  "nbformat": 4,
  "nbformat_minor": 0,
  "metadata": {
    "colab": {
      "name": "BlackBodyRadiation.ipynb",
      "provenance": [],
      "collapsed_sections": [],
      "authorship_tag": "ABX9TyOVKL1tEJ2dZLWr2GzaYT0k",
      "include_colab_link": true
    },
    "kernelspec": {
      "name": "python3",
      "display_name": "Python 3"
    },
    "language_info": {
      "name": "python"
    }
  },
  "cells": [
    {
      "cell_type": "markdown",
      "metadata": {
        "id": "view-in-github",
        "colab_type": "text"
      },
      "source": [
        "<a href=\"https://colab.research.google.com/github/vitroid/PythonTutorials/blob/2021/8OtherClasses/BlackBodyRadiation.ipynb\" target=\"_parent\"><img src=\"https://colab.research.google.com/assets/colab-badge.svg\" alt=\"Open In Colab\"/></a>"
      ]
    },
    {
      "cell_type": "code",
      "metadata": {
        "colab": {
          "base_uri": "https://localhost:8080/",
          "height": 269
        },
        "id": "JUFvEIPQAFhh",
        "outputId": "42f6a690-1714-43cb-918f-21054a53fb29"
      },
      "source": [
        "import numpy as np\n",
        "import matplotlib.pyplot as plt\n",
        "\n",
        "h=6.626e-34\n",
        "c=2.998e8\n",
        "k=1.381e-23\n",
        "\n",
        "# 横軸=波長。対数目盛で等間隔になるように1〜100(μm)で1000点\n",
        "L = np.logspace(0, 2, 1000)\n",
        "\n",
        "def BlackBodyRadiation(L, T):\n",
        "    E = h*c/(np.exp(h*c/(L*1e-6*k*T))-1) / (L*1e-6)**5\n",
        "    return E\n",
        "\n",
        "E310 = BlackBodyRadiation(L, 310)\n",
        "E312 = BlackBodyRadiation(L, 312)\n",
        "\n",
        "fig = plt.figure()\n",
        "plt.loglog(L, E310, label=\"310 K\")\n",
        "plt.loglog(L, E312, label=\"312 K\")\n",
        "plt.ylim(1e-5, None)\n",
        "plt.legend()\n",
        "fig.savefig(\"blackbody.pdf\")"
      ],
      "execution_count": 18,
      "outputs": [
        {
          "output_type": "display_data",
          "data": {
            "image/png": "[encoded data removed]",
            "text/plain": [
              "<Figure size 432x288 with 1 Axes>"
            ]
          },
          "metadata": {
            "tags": [],
            "needs_background": "light"
          }
        }
      ]
    },
    {
      "cell_type": "code",
      "metadata": {
        "colab": {
          "base_uri": "https://localhost:8080/"
        },
        "id": "2VW6ainhCQ5l",
        "outputId": "d0be034f-6d01-4f97-8285-3e84a070368a"
      },
      "source": [
        "BlackBodyRadiation(3, 310) / BlackBodyRadiation(3,312)"
      ],
      "execution_count": 13,
      "outputs": [
        {
          "output_type": "execute_result",
          "data": {
            "text/plain": [
              "0.905609088954732"
            ]
          },
          "metadata": {
            "tags": []
          },
          "execution_count": 13
        }
      ]
    },
    {
      "cell_type": "code",
      "metadata": {
        "colab": {
          "base_uri": "https://localhost:8080/"
        },
        "id": "mMjToJAYD2om",
        "outputId": "9832771d-2dba-4b6a-962c-91868c4595cd"
      },
      "source": [
        "BlackBodyRadiation(10, 310) / BlackBodyRadiation(10, 312)"
      ],
      "execution_count": 14,
      "outputs": [
        {
          "output_type": "execute_result",
          "data": {
            "text/plain": [
              "0.9704079912714483"
            ]
          },
          "metadata": {
            "tags": []
          },
          "execution_count": 14
        }
      ]
    }
  ]
}
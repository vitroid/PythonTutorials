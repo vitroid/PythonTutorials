{
  "nbformat": 4,
  "nbformat_minor": 0,
  "metadata": {
    "colab": {
      "provenance": [],
      "authorship_tag": "ABX9TyP4W59P0s+ENLC8mocpMv2i",
      "include_colab_link": true
    },
    "kernelspec": {
      "name": "python3",
      "display_name": "Python 3"
    },
    "language_info": {
      "name": "python"
    }
  },
  "cells": [
    {
      "cell_type": "markdown",
      "metadata": {
        "id": "view-in-github",
        "colab_type": "text"
      },
      "source": [
        "<a href=\"https://colab.research.google.com/github/vitroid/PythonTutorials/blob/master/8OtherClasses/MolecularOrbital.ipynb\" target=\"_parent\"><img src=\"https://colab.research.google.com/assets/colab-badge.svg\" alt=\"Open In Colab\"/></a>"
      ]
    },
    {
      "cell_type": "markdown",
      "source": [
        "Google Colaboratory上で分子軌道計算を試します。\n",
        "\n",
        "[Labo-code](https://labo-code.com/python/quantum-chemical-calculation/moleculaorbital/)の記事を参考にしました。感謝!\n"
      ],
      "metadata": {
        "id": "Qdc4vkPBWK61"
      }
    },
    {
      "cell_type": "code",
      "execution_count": null,
      "metadata": {
        "id": "WNH7j_piWJgQ"
      },
      "outputs": [],
      "source": []
    }
  ]
}
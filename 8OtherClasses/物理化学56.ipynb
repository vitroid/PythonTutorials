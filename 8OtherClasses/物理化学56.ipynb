{
  "nbformat": 4,
  "nbformat_minor": 0,
  "metadata": {
    "kernelspec": {
      "display_name": "Python 3",
      "language": "python",
      "name": "python3"
    },
    "language_info": {
      "codemirror_mode": {
        "name": "ipython",
        "version": 3
      },
      "file_extension": ".py",
      "mimetype": "text/x-python",
      "name": "python",
      "nbconvert_exporter": "python",
      "pygments_lexer": "ipython3",
      "version": "3.6.5"
    },
    "colab": {
      "name": "物理化学56.ipynb",
      "provenance": [],
      "include_colab_link": true
    }
  },
  "cells": [
    {
      "cell_type": "markdown",
      "metadata": {
        "id": "view-in-github",
        "colab_type": "text"
      },
      "source": [
        "<a href=\"https://colab.research.google.com/github/vitroid/PythonTutorials/blob/master/8OtherClasses/%E7%89%A9%E7%90%86%E5%8C%96%E5%AD%A656.ipynb\" target=\"_parent\"><img src=\"https://colab.research.google.com/assets/colab-badge.svg\" alt=\"Open In Colab\"/></a>"
      ]
    },
    {
      "cell_type": "markdown",
      "metadata": {
        "id": "YsDIK5gJD9kL",
        "colab_type": "text"
      },
      "source": [
        "colabで数式をきれいに表示するためのhack."
      ]
    },
    {
      "cell_type": "code",
      "metadata": {
        "id": "LO6Hk1iBD2rT",
        "colab_type": "code",
        "colab": {}
      },
      "source": [
        "## setting up colab to show sympy formulae in latex\n",
        "from sympy          import init_printing\n",
        "from sympy.printing import latex\n",
        "\n",
        "def colab_LaTeX_printer(exp, **options):  \n",
        "    from google.colab.output._publish import javascript \n",
        "\n",
        "    url_ = \"https://colab.research.google.com/static/mathjax/MathJax.js?\"\n",
        "    cfg_ = \"config=TeX-MML-AM_HTMLorMML\" # \"config=default\"\n",
        "\n",
        "    javascript(url=url_+cfg_)\n",
        "\n",
        "    return latex(exp, **options)\n",
        "# end of def\n",
        "init_printing(use_latex=\"mathjax\", latex_printer=colab_LaTeX_printer) \n"
      ],
      "execution_count": 0,
      "outputs": []
    },
    {
      "cell_type": "markdown",
      "metadata": {
        "id": "pAR6zbsv5t2Q",
        "colab_type": "text"
      },
      "source": [
        "# 資料\n",
        "\n",
        "## 2.3節 気体分子の振動\n",
        "\n",
        "振動の分配関数から、振動の比熱を導く。"
      ]
    },
    {
      "cell_type": "code",
      "metadata": {
        "id": "E1MeP2wB7yLF",
        "colab_type": "code",
        "colab": {
          "base_uri": "https://localhost:8080/",
          "height": 89
        },
        "outputId": "5d85bd3f-58a0-407e-f9dd-0a5b88836df8"
      },
      "source": [
        "from sympy import *\n",
        "# 解析的変数の定義\n",
        "T, nu, h, k, N, iT, theta = symbols(\"T nu h k N iT theta\")\n",
        "\n",
        "# Eq. (2.29)\n",
        "z_vib = 1/(exp(h*nu/(2*k*T))-exp(-h*nu/(2*k*T)))\n",
        "z_vib"
      ],
      "execution_count": 2,
      "outputs": [
        {
          "output_type": "display_data",
          "data": {
            "text/html": [
              "<script src='https://colab.research.google.com/static/mathjax/MathJax.js?config=TeX-MML-AM_HTMLorMML'></script>"
            ],
            "text/plain": [
              "<IPython.core.display.HTML object>"
            ]
          },
          "metadata": {
            "tags": []
          }
        },
        {
          "output_type": "execute_result",
          "data": {
            "text/latex": "$$\\frac{1}{e^{\\frac{h \\nu}{2 T k}} - e^{- \\frac{h \\nu}{2 T k}}}$$",
            "text/plain": [
              "       1       \n",
              "───────────────\n",
              "  h⋅ν     -h⋅ν \n",
              " ─────    ─────\n",
              " 2⋅T⋅k    2⋅T⋅k\n",
              "ℯ      - ℯ     "
            ]
          },
          "metadata": {
            "tags": []
          },
          "execution_count": 2
        }
      ]
    },
    {
      "cell_type": "markdown",
      "metadata": {
        "id": "lL270DQg8y_2",
        "colab_type": "text"
      },
      "source": [
        "振動のエネルギー Eq. (2.33)。温度の逆数をiTとして書きなおしてから、iTで微分する。"
      ]
    },
    {
      "cell_type": "code",
      "metadata": {
        "id": "AIYbDumM838i",
        "colab_type": "code",
        "colab": {
          "base_uri": "https://localhost:8080/",
          "height": 89
        },
        "outputId": "47257f05-c40a-46ea-c2f3-095090e8f6bb"
      },
      "source": [
        "# 変数の置きかえ\n",
        "z_vib2 = Subs(z_vib, T, 1/iT).doit()\n",
        "z_vib2\n"
      ],
      "execution_count": 3,
      "outputs": [
        {
          "output_type": "display_data",
          "data": {
            "text/html": [
              "<script src='https://colab.research.google.com/static/mathjax/MathJax.js?config=TeX-MML-AM_HTMLorMML'></script>"
            ],
            "text/plain": [
              "<IPython.core.display.HTML object>"
            ]
          },
          "metadata": {
            "tags": []
          }
        },
        {
          "output_type": "execute_result",
          "data": {
            "text/latex": "$$\\frac{1}{e^{\\frac{h iT \\nu}{2 k}} - e^{- \\frac{h iT \\nu}{2 k}}}$$",
            "text/plain": [
              "         1         \n",
              "───────────────────\n",
              " h⋅iT⋅ν    -h⋅iT⋅ν \n",
              " ──────    ────────\n",
              "  2⋅k        2⋅k   \n",
              "ℯ       - ℯ        "
            ]
          },
          "metadata": {
            "tags": []
          },
          "execution_count": 3
        }
      ]
    },
    {
      "cell_type": "code",
      "metadata": {
        "id": "Euaviq9G_oY4",
        "colab_type": "code",
        "colab": {
          "base_uri": "https://localhost:8080/",
          "height": 105
        },
        "outputId": "08b07620-d121-4222-fd30-90c0eba012aa"
      },
      "source": [
        "# 微分\n",
        "E_vib2=-k*diff(log(z_vib2), iT)\n",
        "E_vib2"
      ],
      "execution_count": 4,
      "outputs": [
        {
          "output_type": "display_data",
          "data": {
            "text/html": [
              "<script src='https://colab.research.google.com/static/mathjax/MathJax.js?config=TeX-MML-AM_HTMLorMML'></script>"
            ],
            "text/plain": [
              "<IPython.core.display.HTML object>"
            ]
          },
          "metadata": {
            "tags": []
          }
        },
        {
          "output_type": "execute_result",
          "data": {
            "text/latex": "$$- \\frac{k \\left(- \\frac{h \\nu}{2 k} e^{\\frac{h iT \\nu}{2 k}} - \\frac{h \\nu}{2 k} e^{- \\frac{h iT \\nu}{2 k}}\\right)}{e^{\\frac{h iT \\nu}{2 k}} - e^{- \\frac{h iT \\nu}{2 k}}}$$",
            "text/plain": [
              "   ⎛       h⋅iT⋅ν        -h⋅iT⋅ν ⎞ \n",
              "   ⎜       ──────        ────────⎟ \n",
              "   ⎜        2⋅k            2⋅k   ⎟ \n",
              "   ⎜  h⋅ν⋅ℯ         h⋅ν⋅ℯ        ⎟ \n",
              "-k⋅⎜- ─────────── - ─────────────⎟ \n",
              "   ⎝      2⋅k            2⋅k     ⎠ \n",
              "───────────────────────────────────\n",
              "         h⋅iT⋅ν    -h⋅iT⋅ν         \n",
              "         ──────    ────────        \n",
              "          2⋅k        2⋅k           \n",
              "        ℯ       - ℯ                "
            ]
          },
          "metadata": {
            "tags": []
          },
          "execution_count": 4
        }
      ]
    },
    {
      "cell_type": "code",
      "metadata": {
        "id": "BCe1EZFS_0vs",
        "colab_type": "code",
        "colab": {
          "base_uri": "https://localhost:8080/",
          "height": 105
        },
        "outputId": "181e5613-1325-4d7b-84cb-cded1f0eb166"
      },
      "source": [
        "# iTをTに戻す。\n",
        "E_vib = Subs(E_vib2, iT, 1/T).doit()\n",
        "E_vib.simplify()"
      ],
      "execution_count": 5,
      "outputs": [
        {
          "output_type": "display_data",
          "data": {
            "text/html": [
              "<script src='https://colab.research.google.com/static/mathjax/MathJax.js?config=TeX-MML-AM_HTMLorMML'></script>"
            ],
            "text/plain": [
              "<IPython.core.display.HTML object>"
            ]
          },
          "metadata": {
            "tags": []
          }
        },
        {
          "output_type": "execute_result",
          "data": {
            "text/latex": "$$\\frac{h \\nu \\left(e^{\\frac{h \\nu}{T k}} + 1\\right)}{2 e^{\\frac{h \\nu}{T k}} - 2}$$",
            "text/plain": [
              "    ⎛ h⋅ν    ⎞\n",
              "    ⎜ ───    ⎟\n",
              "    ⎜ T⋅k    ⎟\n",
              "h⋅ν⋅⎝ℯ    + 1⎠\n",
              "──────────────\n",
              "     h⋅ν      \n",
              "     ───      \n",
              "     T⋅k      \n",
              "  2⋅ℯ    - 2  "
            ]
          },
          "metadata": {
            "tags": []
          },
          "execution_count": 5
        }
      ]
    },
    {
      "cell_type": "markdown",
      "metadata": {
        "id": "82Vnc5Sd9ilZ",
        "colab_type": "text"
      },
      "source": [
        "比熱 Eq. (2.35)"
      ]
    },
    {
      "cell_type": "code",
      "metadata": {
        "id": "2vpYbTuu96XQ",
        "colab_type": "code",
        "colab": {
          "base_uri": "https://localhost:8080/",
          "height": 107
        },
        "outputId": "1eebfd95-6f49-4601-c67d-5ffc15eafcf5"
      },
      "source": [
        "Cv0 = diff(E_vib, T).simplify()\n",
        "Cv0"
      ],
      "execution_count": 6,
      "outputs": [
        {
          "output_type": "display_data",
          "data": {
            "text/html": [
              "<script src='https://colab.research.google.com/static/mathjax/MathJax.js?config=TeX-MML-AM_HTMLorMML'></script>"
            ],
            "text/plain": [
              "<IPython.core.display.HTML object>"
            ]
          },
          "metadata": {
            "tags": []
          }
        },
        {
          "output_type": "execute_result",
          "data": {
            "text/latex": "$$\\frac{h^{2} \\nu^{2} e^{\\frac{h \\nu}{T k}}}{T^{2} k \\left(e^{\\frac{2 h \\nu}{T k}} - 2 e^{\\frac{h \\nu}{T k}} + 1\\right)}$$",
            "text/plain": [
              "               h⋅ν        \n",
              "               ───        \n",
              "         2  2  T⋅k        \n",
              "        h ⋅ν ⋅ℯ           \n",
              "──────────────────────────\n",
              "     ⎛ 2⋅h⋅ν      h⋅ν    ⎞\n",
              "     ⎜ ─────      ───    ⎟\n",
              " 2   ⎜  T⋅k       T⋅k    ⎟\n",
              "T ⋅k⋅⎝ℯ      - 2⋅ℯ    + 1⎠"
            ]
          },
          "metadata": {
            "tags": []
          },
          "execution_count": 6
        }
      ]
    },
    {
      "cell_type": "code",
      "metadata": {
        "id": "8Oz1xlKcByBk",
        "colab_type": "code",
        "colab": {
          "base_uri": "https://localhost:8080/",
          "height": 107
        },
        "outputId": "89d45a6f-3960-4b1f-f8ab-3d7c3fd84bff"
      },
      "source": [
        "# θ=h nu/kを使ってシンプルにする。\n",
        "Subs(Cv0, h, k*theta/nu).doit()"
      ],
      "execution_count": 7,
      "outputs": [
        {
          "output_type": "display_data",
          "data": {
            "text/html": [
              "<script src='https://colab.research.google.com/static/mathjax/MathJax.js?config=TeX-MML-AM_HTMLorMML'></script>"
            ],
            "text/plain": [
              "<IPython.core.display.HTML object>"
            ]
          },
          "metadata": {
            "tags": []
          }
        },
        {
          "output_type": "execute_result",
          "data": {
            "text/latex": "$$\\frac{k \\theta^{2} e^{\\frac{\\theta}{T}}}{T^{2} \\left(e^{\\frac{2 \\theta}{T}} - 2 e^{\\frac{\\theta}{T}} + 1\\right)}$$",
            "text/plain": [
              "            θ       \n",
              "            ─       \n",
              "         2  T       \n",
              "      k⋅θ ⋅ℯ        \n",
              "────────────────────\n",
              "   ⎛ 2⋅θ      θ    ⎞\n",
              "   ⎜ ───      ─    ⎟\n",
              " 2 ⎜  T       T    ⎟\n",
              "T ⋅⎝ℯ    - 2⋅ℯ  + 1⎠"
            ]
          },
          "metadata": {
            "tags": []
          },
          "execution_count": 7
        }
      ]
    },
    {
      "cell_type": "markdown",
      "metadata": {
        "id": "MuHvZsI_CjEn",
        "colab_type": "text"
      },
      "source": [
        "振動の比熱をθ/Tの関数として定義しておく。"
      ]
    },
    {
      "cell_type": "code",
      "metadata": {
        "id": "rZBycJ0O5ueF",
        "colab_type": "code",
        "colab": {}
      },
      "source": [
        "def Cv_vib(theta_over_T):\n",
        "    x = theta_over_T\n",
        "    return R*x**2*exp(x)/(1-exp(x))**2\n",
        "\n"
      ],
      "execution_count": 0,
      "outputs": []
    },
    {
      "cell_type": "markdown",
      "metadata": {
        "id": "oS-OQFd4Eomk",
        "colab_type": "text"
      },
      "source": [
        "$\\nu$ を$\\theta_v$に変換する関数を準備しておく。"
      ]
    },
    {
      "cell_type": "code",
      "metadata": {
        "id": "RnIIpU72E0LJ",
        "colab_type": "code",
        "colab": {
          "base_uri": "https://localhost:8080/",
          "height": 61
        },
        "outputId": "2b2ef2fa-0172-4c33-e30c-7da571ed4943"
      },
      "source": [
        "h = 6.62607e-34\n",
        "c = 299792458.00\n",
        "k = 1.38065e-23\n",
        "N = 6.022e23\n",
        "R = N*k\n",
        "def θv(nu):\n",
        "    \"\"\"nu in cm-1\"\"\"\n",
        "    nu *= c*100\n",
        "    return h*nu/k\n"
      ],
      "execution_count": 15,
      "outputs": [
        {
          "output_type": "display_data",
          "data": {
            "text/html": [
              "<script src='https://colab.research.google.com/static/mathjax/MathJax.js?config=TeX-MML-AM_HTMLorMML'></script>"
            ],
            "text/plain": [
              "<IPython.core.display.HTML object>"
            ]
          },
          "metadata": {
            "tags": []
          }
        },
        {
          "output_type": "execute_result",
          "data": {
            "text/latex": "$$1.4387758028320428$$",
            "text/plain": [
              "1.4387758028320428"
            ]
          },
          "metadata": {
            "tags": []
          },
          "execution_count": 15
        }
      ]
    },
    {
      "cell_type": "markdown",
      "metadata": {
        "id": "APssaRSE63gi",
        "colab_type": "text"
      },
      "source": [
        "プロットする温度範囲を定義する。"
      ]
    },
    {
      "cell_type": "code",
      "metadata": {
        "id": "UEffN8D9630V",
        "colab_type": "code",
        "colab": {
          "base_uri": "https://localhost:8080/",
          "height": 428
        },
        "outputId": "d55f9b81-5b1f-4b84-da26-e9516bc8c37d"
      },
      "source": [
        "import numpy as np\n",
        "\n",
        "T = np.linspace(10.,3000.,100)\n",
        "T"
      ],
      "execution_count": 22,
      "outputs": [
        {
          "output_type": "execute_result",
          "data": {
            "text/plain": [
              "array([  10.        ,   40.2020202 ,   70.4040404 ,  100.60606061,\n",
              "        130.80808081,  161.01010101,  191.21212121,  221.41414141,\n",
              "        251.61616162,  281.81818182,  312.02020202,  342.22222222,\n",
              "        372.42424242,  402.62626263,  432.82828283,  463.03030303,\n",
              "        493.23232323,  523.43434343,  553.63636364,  583.83838384,\n",
              "        614.04040404,  644.24242424,  674.44444444,  704.64646465,\n",
              "        734.84848485,  765.05050505,  795.25252525,  825.45454545,\n",
              "        855.65656566,  885.85858586,  916.06060606,  946.26262626,\n",
              "        976.46464646, 1006.66666667, 1036.86868687, 1067.07070707,\n",
              "       1097.27272727, 1127.47474747, 1157.67676768, 1187.87878788,\n",
              "       1218.08080808, 1248.28282828, 1278.48484848, 1308.68686869,\n",
              "       1338.88888889, 1369.09090909, 1399.29292929, 1429.49494949,\n",
              "       1459.6969697 , 1489.8989899 , 1520.1010101 , 1550.3030303 ,\n",
              "       1580.50505051, 1610.70707071, 1640.90909091, 1671.11111111,\n",
              "       1701.31313131, 1731.51515152, 1761.71717172, 1791.91919192,\n",
              "       1822.12121212, 1852.32323232, 1882.52525253, 1912.72727273,\n",
              "       1942.92929293, 1973.13131313, 2003.33333333, 2033.53535354,\n",
              "       2063.73737374, 2093.93939394, 2124.14141414, 2154.34343434,\n",
              "       2184.54545455, 2214.74747475, 2244.94949495, 2275.15151515,\n",
              "       2305.35353535, 2335.55555556, 2365.75757576, 2395.95959596,\n",
              "       2426.16161616, 2456.36363636, 2486.56565657, 2516.76767677,\n",
              "       2546.96969697, 2577.17171717, 2607.37373737, 2637.57575758,\n",
              "       2667.77777778, 2697.97979798, 2728.18181818, 2758.38383838,\n",
              "       2788.58585859, 2818.78787879, 2848.98989899, 2879.19191919,\n",
              "       2909.39393939, 2939.5959596 , 2969.7979798 , 3000.        ])"
            ]
          },
          "metadata": {
            "tags": []
          },
          "execution_count": 22
        }
      ]
    },
    {
      "cell_type": "markdown",
      "metadata": {
        "id": "2ZDSAA_56bU4",
        "colab_type": "text"
      },
      "source": [
        "CO2の3種類の振動による比熱の温度依存性をプロットする。\n",
        "\n",
        "3つの振動の特性温度はそれぞれ667.4 K, 1388 K, 2349 Kである。\n",
        "\n",
        "また、最も低い振動数については、2重に縮退している。(x方向の振動とy方向の振動の振動数が同一)\n",
        "\n"
      ]
    },
    {
      "cell_type": "code",
      "metadata": {
        "id": "PNFsovvs6cDT",
        "colab_type": "code",
        "colab": {
          "base_uri": "https://localhost:8080/",
          "height": 296
        },
        "outputId": "cd203873-f555-4650-f7fe-babf9c6508eb"
      },
      "source": [
        "%matplotlib inline\n",
        "from matplotlib import pyplot as plt\n",
        "\n",
        "from numpy import exp\n",
        "\n",
        "plt.plot(T, Cv_vib(θv(667.4)/T) / R,  label=\"Cv(θv=667 K)\")\n",
        "plt.plot(T, Cv_vib(θv(1388)/T) / R,   label=\"Cv(θv=1388 K)\")\n",
        "plt.plot(T, Cv_vib(θv(2349)/T) / R,   label=\"Cv(θv=2349 K)\")\n",
        "plt.plot(T, (2*Cv_vib(θv(667.4)/T) \n",
        "             + Cv_vib(θv(1388)/T)\n",
        "             + Cv_vib(θv(2349)/T))/R, label=\"Total Cv\")\n",
        "\n",
        "plt.legend()\n",
        "plt.xlabel(\"T / K\")\n",
        "plt.ylabel(\"Cv_{vib} / R\")\n"
      ],
      "execution_count": 26,
      "outputs": [
        {
          "output_type": "execute_result",
          "data": {
            "text/plain": [
              "Text(0, 0.5, 'Cv_{vib} / R')"
            ]
          },
          "metadata": {
            "tags": []
          },
          "execution_count": 26
        },
        {
          "output_type": "display_data",
          "data": {
            "image/png": "[encoded data removed]",
            "text/plain": [
              "<Figure size 432x288 with 1 Axes>"
            ]
          },
          "metadata": {
            "tags": [],
            "needs_background": "light"
          }
        }
      ]
    },
    {
      "cell_type": "markdown",
      "metadata": {
        "id": "0b-0huT95ZSz",
        "colab_type": "text"
      },
      "source": [
        "N2, O2, F2の振動数はそれぞれ2358, 1580, 892 cm$^{-1}$である。またI2の特性温度は309 Kである。"
      ]
    }
  ]
}
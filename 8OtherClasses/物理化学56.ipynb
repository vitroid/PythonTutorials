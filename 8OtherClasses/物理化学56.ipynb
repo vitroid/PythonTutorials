{
  "nbformat": 4,
  "nbformat_minor": 0,
  "metadata": {
    "kernelspec": {
      "display_name": "Python 3",
      "language": "python",
      "name": "python3"
    },
    "language_info": {
      "codemirror_mode": {
        "name": "ipython",
        "version": 3
      },
      "file_extension": ".py",
      "mimetype": "text/x-python",
      "name": "python",
      "nbconvert_exporter": "python",
      "pygments_lexer": "ipython3",
      "version": "3.6.5"
    },
    "colab": {
      "name": "物理化学56.ipynb",
      "provenance": [],
      "include_colab_link": true
    }
  },
  "cells": [
    {
      "cell_type": "markdown",
      "metadata": {
        "id": "view-in-github",
        "colab_type": "text"
      },
      "source": [
        "<a href=\"https://colab.research.google.com/github/vitroid/PythonTutorials/blob/master/8OtherClasses/%E7%89%A9%E7%90%86%E5%8C%96%E5%AD%A656.ipynb\" target=\"_parent\"><img src=\"https://colab.research.google.com/assets/colab-badge.svg\" alt=\"Open In Colab\"/></a>"
      ]
    },
    {
      "cell_type": "markdown",
      "metadata": {
        "id": "gCZWQHu4HVLZ"
      },
      "source": [
        "Stirling公式のチェック"
      ]
    },
    {
      "cell_type": "code",
      "metadata": {
        "id": "dBom7vYJHUuG",
        "outputId": "9ccd9982-7975-4daa-a580-f88d9c9cbe63",
        "colab": {
          "base_uri": "https://localhost:8080/",
          "height": 286
        }
      },
      "source": [
        "from math import log\n",
        "import numpy as np\n",
        "\n",
        "def factorial(x):\n",
        "    if x < 1:\n",
        "        return 1\n",
        "    return x*factorial(x-1)\n",
        "\n",
        "X = []\n",
        "Y1 = []\n",
        "Y2 = []\n",
        "Y3 = []\n",
        "for i in range(1,100):\n",
        "    X.append(i)\n",
        "    Y1.append(i*log(i)-i)\n",
        "    Y2.append(log(factorial(i)))\n",
        "    Y3.append(log(factorial(i)) / (i*log(i)-i))\n",
        "\n",
        "Y3 = np.array(Y3)\n",
        "import matplotlib.pyplot as plt\n",
        "plt.plot(X,Y3*100)\n",
        "plt.ylim(100,120)\n",
        "# plt.plot(X,Y2)\n"
      ],
      "execution_count": null,
      "outputs": [
        {
          "output_type": "execute_result",
          "data": {
            "text/plain": [
              "(100.0, 120.0)"
            ]
          },
          "metadata": {
            "tags": []
          },
          "execution_count": 6
        },
        {
          "output_type": "display_data",
          "data": {
            "image/png": "[encoded data removed]",
            "text/plain": [
              "<Figure size 432x288 with 1 Axes>"
            ]
          },
          "metadata": {
            "tags": [],
            "needs_background": "light"
          }
        }
      ]
    },
    {
      "cell_type": "markdown",
      "metadata": {
        "id": "Om-MDYbMYOOA"
      },
      "source": [
        "振動数から特性温度を算出する。"
      ]
    },
    {
      "cell_type": "code",
      "metadata": {
        "id": "pnHF2oMyYOOA",
        "colab": {
          "base_uri": "https://localhost:8080/"
        },
        "outputId": "d068391f-2224-4916-93bc-265cf6fc0343"
      },
      "source": [
        "h = 6.62607e-34\n",
        "c = 299792458.00\n",
        "k = 1.38065e-23\n",
        "N = 6.022e23\n",
        "R = N*k\n",
        "def θv(nu):\n",
        "    \"\"\"nu in cm-1\"\"\"\n",
        "    nu *= c*100\n",
        "    return h*nu/k\n",
        "\n",
        "θv(2358)/2358"
      ],
      "execution_count": null,
      "outputs": [
        {
          "output_type": "execute_result",
          "data": {
            "text/plain": [
              "1.4387758028320428"
            ]
          },
          "metadata": {
            "tags": []
          },
          "execution_count": 2
        }
      ]
    },
    {
      "cell_type": "code",
      "metadata": {
        "id": "xLHRummZYOOA",
        "colab": {
          "base_uri": "https://localhost:8080/"
        },
        "outputId": "c39007d6-64b6-424d-c525-4656fc0dfa6a"
      },
      "source": [
        "from matplotlib import pyplot as plt\n",
        "import numpy as np\n",
        "\n",
        "T = np.linspace(100.,1000.,91)\n",
        "T"
      ],
      "execution_count": null,
      "outputs": [
        {
          "output_type": "execute_result",
          "data": {
            "text/plain": [
              "array([ 100.,  110.,  120.,  130.,  140.,  150.,  160.,  170.,  180.,\n",
              "        190.,  200.,  210.,  220.,  230.,  240.,  250.,  260.,  270.,\n",
              "        280.,  290.,  300.,  310.,  320.,  330.,  340.,  350.,  360.,\n",
              "        370.,  380.,  390.,  400.,  410.,  420.,  430.,  440.,  450.,\n",
              "        460.,  470.,  480.,  490.,  500.,  510.,  520.,  530.,  540.,\n",
              "        550.,  560.,  570.,  580.,  590.,  600.,  610.,  620.,  630.,\n",
              "        640.,  650.,  660.,  670.,  680.,  690.,  700.,  710.,  720.,\n",
              "        730.,  740.,  750.,  760.,  770.,  780.,  790.,  800.,  810.,\n",
              "        820.,  830.,  840.,  850.,  860.,  870.,  880.,  890.,  900.,\n",
              "        910.,  920.,  930.,  940.,  950.,  960.,  970.,  980.,  990.,\n",
              "       1000.])"
            ]
          },
          "metadata": {
            "tags": []
          },
          "execution_count": 3
        }
      ]
    },
    {
      "cell_type": "code",
      "metadata": {
        "id": "975HuCc3YOOB",
        "colab": {
          "base_uri": "https://localhost:8080/",
          "height": 300
        },
        "outputId": "38624dac-3106-4ad8-f840-9973dc654d80"
      },
      "source": [
        "from numpy import exp\n",
        "\n",
        "def Cv_vib(theta_over_T):\n",
        "    x = theta_over_T\n",
        "    return R*x**2*exp(-x)/(1-exp(-x))**2\n",
        "\n",
        "Cv_trans = 3*R/2\n",
        "Cv_rot   = R      # 直線分子\n",
        "\n",
        "# assume CO2\n",
        "Cv = Cv_trans + Cv_rot + 2*Cv_vib(θv(667)/T) + Cv_vib(θv(1388)/T) + Cv_vib(θv(2349)/T)\n",
        "plt.plot(T, Cv/R, label=\"Total\")\n",
        "Cv = Cv_trans + np.zeros_like(T)\n",
        "plt.plot(T, Cv/R, label=\"Trans\")\n",
        "Cv = Cv_rot   + np.zeros_like(T)\n",
        "plt.plot(T, Cv/R, label=\"Rot\")\n",
        "Cv = Cv_vib(θv(667)/T)\n",
        "plt.plot(T, Cv/R, label=\"Vib\")\n",
        "Cv = Cv_vib(θv(1388)/T)\n",
        "plt.plot(T, Cv/R, label=\"Vib\")\n",
        "Cv = Cv_vib(θv(2349)/T)\n",
        "plt.plot(T, Cv/R, label=\"Vib\")\n",
        "plt.xlabel(\"T / K\")\n",
        "plt.ylabel(\"Cv / R\")\n",
        "plt.legend()\n",
        "plt.savefig(\"/content/drive/MyDrive/cv_gas.svg\",bbox=\"tight\")"
      ],
      "execution_count": null,
      "outputs": [
        {
          "output_type": "display_data",
          "data": {
            "image/png": "[encoded data removed]",
            "text/plain": [
              "<Figure size 432x288 with 1 Axes>"
            ]
          },
          "metadata": {
            "tags": [],
            "needs_background": "light"
          }
        }
      ]
    },
    {
      "cell_type": "markdown",
      "source": [
        "## 課題F1(b)の図示\n",
        "\n"
      ],
      "metadata": {
        "id": "5KgZrINmumdV"
      }
    },
    {
      "cell_type": "code",
      "source": [
        "# [-2.5,+2.5]の範囲だけを描く。\n",
        "# matplotlibのサンプルをコピペし、関数だけさしかえる。\n",
        "# https://matplotlib.org/stable/gallery/images_contours_and_fields/contour_demo.html\n",
        "\n",
        "import numpy as np\n",
        "import matplotlib.cm as cm\n",
        "import matplotlib.pyplot as plt\n",
        "\n",
        "# tacos surface\n",
        "delta = 0.025\n",
        "x = np.arange(-2.5, 2.5, delta)\n",
        "y = np.arange(-2.5, 2.5, delta)\n",
        "X, Y = np.meshgrid(x, y)\n",
        "f = (X-Y)**2\n",
        "\n",
        "fig, ax = plt.subplots()\n",
        "CS = ax.contour(X, Y, f)\n",
        "ax.axis('equal')\n",
        "ax.clabel(CS, inline=True, fontsize=10)\n",
        "ax.set_title('F1(b)')\n",
        "\n",
        "# circle of radius 2\n",
        "t = np.linspace(0, 2*np.pi, 100)\n",
        "x = 2*np.cos(t)\n",
        "y = 2*np.sin(t)\n",
        "ax.plot(x,y, '-')\n"
      ],
      "metadata": {
        "id": "5LS3bfgIutm3",
        "outputId": "d7551bb5-af9b-48f6-97a9-6f678829dd5c",
        "colab": {
          "base_uri": "https://localhost:8080/",
          "height": 298
        }
      },
      "execution_count": 4,
      "outputs": [
        {
          "output_type": "execute_result",
          "data": {
            "text/plain": [
              "[<matplotlib.lines.Line2D at 0x7f36925e5910>]"
            ]
          },
          "metadata": {},
          "execution_count": 4
        },
        {
          "output_type": "display_data",
          "data": {
            "text/plain": [
              "<Figure size 432x288 with 1 Axes>"
            ],
            "image/png": "[encoded data removed]"
          },
          "metadata": {
            "needs_background": "light"
          }
        }
      ]
    },
    {
      "cell_type": "code",
      "source": [
        ""
      ],
      "metadata": {
        "id": "9ANVmDizvX3-"
      },
      "execution_count": null,
      "outputs": []
    }
  ]
}
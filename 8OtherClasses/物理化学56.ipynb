{
 "cells": [
  {
   "cell_type": "code",
   "execution_count": null,
   "metadata": {},
   "outputs": [],
   "source": [
    "def Cv_vib(theta_over_T):\n",
    "    x = theta_over_T\n",
    "    return R*x**2*(exp(-x)/(1-exp(-x))**2\n",
    "\n",
    "def Cv_rot(theta_over_T):\n",
    "    x = theta_over_T\n",
    "    return R*x**2*(exp(-x)/(1-exp(-x))**2\n",
    "\n",
    "\n",
    "\n",
    "    "
   ]
  },
  {
   "cell_type": "markdown",
   "metadata": {},
   "source": [
    "直線分子の回転分配関数を、Sympyで求めてみる。その前にまず振動。"
   ]
  },
  {
   "cell_type": "code",
   "execution_count": 64,
   "metadata": {},
   "outputs": [
    {
     "data": {
      "text/latex": [
       "$$\\frac{1}{e^{\\frac{h \\nu}{2 T k}} - e^{- \\frac{h \\nu}{2 T k}}}$$"
      ],
      "text/plain": [
       "       1       \n",
       "───────────────\n",
       "  h⋅ν     -h⋅ν \n",
       " ─────    ─────\n",
       " 2⋅T⋅k    2⋅T⋅k\n",
       "ℯ      - ℯ     "
      ]
     },
     "execution_count": 64,
     "metadata": {},
     "output_type": "execute_result"
    }
   ],
   "source": [
    "from sympy import *\n",
    "init_printing(use_latex='mathjax')\n",
    "\n",
    "T, nu, h, k, N, iT, θ = symbols(\"T nu h k N iT θ\")\n",
    "\n",
    "zv = 1/(exp(h*nu/(2*k*T))-exp(-h*nu/(2*k*T)))\n",
    "zv"
   ]
  },
  {
   "cell_type": "code",
   "execution_count": 43,
   "metadata": {},
   "outputs": [
    {
     "data": {
      "text/latex": [
       "$$- N T k \\log{\\left (\\frac{1}{e^{\\frac{h \\nu}{2 T k}} - e^{- \\frac{h \\nu}{2 T k}}} \\right )}$$"
      ],
      "text/plain": [
       "          ⎛       1       ⎞\n",
       "-N⋅T⋅k⋅log⎜───────────────⎟\n",
       "          ⎜  h⋅ν     -h⋅ν ⎟\n",
       "          ⎜ ─────    ─────⎟\n",
       "          ⎜ 2⋅T⋅k    2⋅T⋅k⎟\n",
       "          ⎝ℯ      - ℯ     ⎠"
      ]
     },
     "execution_count": 43,
     "metadata": {},
     "output_type": "execute_result"
    }
   ],
   "source": [
    "Av=-N*k*T*log(zv)\n",
    "\n",
    "Av"
   ]
  },
  {
   "cell_type": "code",
   "execution_count": 44,
   "metadata": {},
   "outputs": [],
   "source": [
    "Av = Subs(Av, T, 1/iT).doit()"
   ]
  },
  {
   "cell_type": "code",
   "execution_count": 45,
   "metadata": {},
   "outputs": [
    {
     "data": {
      "text/latex": [
       "$$- \\frac{N k \\log{\\left (\\frac{1}{e^{\\frac{h iT \\nu}{2 k}} - e^{- \\frac{h iT \\nu}{2 k}}} \\right )}}{iT}$$"
      ],
      "text/plain": [
       "        ⎛         1         ⎞ \n",
       "-N⋅k⋅log⎜───────────────────⎟ \n",
       "        ⎜ h⋅iT⋅ν    -h⋅iT⋅ν ⎟ \n",
       "        ⎜ ──────    ────────⎟ \n",
       "        ⎜  2⋅k        2⋅k   ⎟ \n",
       "        ⎝ℯ       - ℯ        ⎠ \n",
       "──────────────────────────────\n",
       "              iT              "
      ]
     },
     "execution_count": 45,
     "metadata": {},
     "output_type": "execute_result"
    }
   ],
   "source": [
    "Av"
   ]
  },
  {
   "cell_type": "code",
   "execution_count": 46,
   "metadata": {},
   "outputs": [],
   "source": [
    "E=diff(Av*iT, iT)"
   ]
  },
  {
   "cell_type": "code",
   "execution_count": 47,
   "metadata": {},
   "outputs": [
    {
     "data": {
      "text/latex": [
       "$$- \\frac{N k \\left(- \\frac{h \\nu e^{\\frac{h iT \\nu}{2 k}}}{2 k} - \\frac{h \\nu e^{- \\frac{h iT \\nu}{2 k}}}{2 k}\\right)}{e^{\\frac{h iT \\nu}{2 k}} - e^{- \\frac{h iT \\nu}{2 k}}}$$"
      ],
      "text/plain": [
       "     ⎛       h⋅iT⋅ν        -h⋅iT⋅ν ⎞ \n",
       "     ⎜       ──────        ────────⎟ \n",
       "     ⎜        2⋅k            2⋅k   ⎟ \n",
       "     ⎜  h⋅ν⋅ℯ         h⋅ν⋅ℯ        ⎟ \n",
       "-N⋅k⋅⎜- ─────────── - ─────────────⎟ \n",
       "     ⎝      2⋅k            2⋅k     ⎠ \n",
       "─────────────────────────────────────\n",
       "          h⋅iT⋅ν    -h⋅iT⋅ν          \n",
       "          ──────    ────────         \n",
       "           2⋅k        2⋅k            \n",
       "         ℯ       - ℯ                 "
      ]
     },
     "execution_count": 47,
     "metadata": {},
     "output_type": "execute_result"
    }
   ],
   "source": [
    "E"
   ]
  },
  {
   "cell_type": "code",
   "execution_count": 48,
   "metadata": {},
   "outputs": [
    {
     "data": {
      "text/latex": [
       "$$- \\frac{N k \\left(- \\frac{h \\nu e^{\\frac{h \\nu}{2 T k}}}{2 k} - \\frac{h \\nu e^{- \\frac{h \\nu}{2 T k}}}{2 k}\\right)}{e^{\\frac{h \\nu}{2 T k}} - e^{- \\frac{h \\nu}{2 T k}}}$$"
      ],
      "text/plain": [
       "     ⎛        h⋅ν         -h⋅ν ⎞ \n",
       "     ⎜       ─────        ─────⎟ \n",
       "     ⎜       2⋅T⋅k        2⋅T⋅k⎟ \n",
       "     ⎜  h⋅ν⋅ℯ        h⋅ν⋅ℯ     ⎟ \n",
       "-N⋅k⋅⎜- ────────── - ──────────⎟ \n",
       "     ⎝     2⋅k          2⋅k    ⎠ \n",
       "─────────────────────────────────\n",
       "           h⋅ν     -h⋅ν          \n",
       "          ─────    ─────         \n",
       "          2⋅T⋅k    2⋅T⋅k         \n",
       "         ℯ      - ℯ              "
      ]
     },
     "execution_count": 48,
     "metadata": {},
     "output_type": "execute_result"
    }
   ],
   "source": [
    "E = Subs(E,iT,1/T).doit()\n",
    "E"
   ]
  },
  {
   "cell_type": "code",
   "execution_count": 49,
   "metadata": {},
   "outputs": [
    {
     "data": {
      "text/latex": [
       "$$\\frac{N h \\nu}{2 \\tanh{\\left (\\frac{h \\nu}{2 T k} \\right )}}$$"
      ],
      "text/plain": [
       "    N⋅h⋅ν    \n",
       "─────────────\n",
       "      ⎛ h⋅ν ⎞\n",
       "2⋅tanh⎜─────⎟\n",
       "      ⎝2⋅T⋅k⎠"
      ]
     },
     "execution_count": 49,
     "metadata": {},
     "output_type": "execute_result"
    }
   ],
   "source": [
    "simplify(E)"
   ]
  },
  {
   "cell_type": "code",
   "execution_count": 50,
   "metadata": {},
   "outputs": [
    {
     "data": {
      "text/latex": [
       "$$- \\frac{N k \\left(- \\frac{h \\nu e^{\\frac{h \\nu}{2 T k}}}{2 k} - \\frac{h \\nu e^{- \\frac{h \\nu}{2 T k}}}{2 k}\\right) \\left(\\frac{h \\nu e^{\\frac{h \\nu}{2 T k}}}{2 T^{2} k} + \\frac{h \\nu e^{- \\frac{h \\nu}{2 T k}}}{2 T^{2} k}\\right)}{\\left(e^{\\frac{h \\nu}{2 T k}} - e^{- \\frac{h \\nu}{2 T k}}\\right)^{2}} - \\frac{N k \\left(\\frac{h^{2} \\nu^{2} e^{\\frac{h \\nu}{2 T k}}}{4 T^{2} k^{2}} - \\frac{h^{2} \\nu^{2} e^{- \\frac{h \\nu}{2 T k}}}{4 T^{2} k^{2}}\\right)}{e^{\\frac{h \\nu}{2 T k}} - e^{- \\frac{h \\nu}{2 T k}}}$$"
      ],
      "text/plain": [
       "      ⎛        h⋅ν         -h⋅ν ⎞ ⎛      h⋅ν         -h⋅ν ⎞       ⎛        h⋅ν\n",
       "      ⎜       ─────        ─────⎟ ⎜     ─────        ─────⎟       ⎜       ────\n",
       "      ⎜       2⋅T⋅k        2⋅T⋅k⎟ ⎜     2⋅T⋅k        2⋅T⋅k⎟       ⎜ 2  2  2⋅T⋅\n",
       "      ⎜  h⋅ν⋅ℯ        h⋅ν⋅ℯ     ⎟ ⎜h⋅ν⋅ℯ        h⋅ν⋅ℯ     ⎟       ⎜h ⋅ν ⋅ℯ    \n",
       "  N⋅k⋅⎜- ────────── - ──────────⎟⋅⎜────────── + ──────────⎟   N⋅k⋅⎜───────────\n",
       "      ⎝     2⋅k          2⋅k    ⎠ ⎜     2            2    ⎟       ⎜     2  2  \n",
       "                                  ⎝  2⋅T ⋅k       2⋅T ⋅k  ⎠       ⎝  4⋅T ⋅k   \n",
       "- ───────────────────────────────────────────────────────── - ────────────────\n",
       "                                       2                                 h⋅ν  \n",
       "                      ⎛  h⋅ν     -h⋅ν ⎞                                 ───── \n",
       "                      ⎜ ─────    ─────⎟                                 2⋅T⋅k \n",
       "                      ⎜ 2⋅T⋅k    2⋅T⋅k⎟                                ℯ      \n",
       "                      ⎝ℯ      - ℯ     ⎠                                       \n",
       "\n",
       "           -h⋅ν ⎞\n",
       "─          ─────⎟\n",
       "k    2  2  2⋅T⋅k⎟\n",
       "    h ⋅ν ⋅ℯ     ⎟\n",
       "─ - ────────────⎟\n",
       "         2  2   ⎟\n",
       "      4⋅T ⋅k    ⎠\n",
       "─────────────────\n",
       "   -h⋅ν          \n",
       "   ─────         \n",
       "   2⋅T⋅k         \n",
       "- ℯ              \n",
       "                 "
      ]
     },
     "execution_count": 50,
     "metadata": {},
     "output_type": "execute_result"
    }
   ],
   "source": [
    "cv=diff(E,T)\n",
    "cv"
   ]
  },
  {
   "cell_type": "code",
   "execution_count": 60,
   "metadata": {},
   "outputs": [
    {
     "data": {
      "text/latex": [
       "$$\\frac{N h^{2} \\nu^{2} e^{\\frac{h \\nu}{T k}}}{T^{2} k \\left(e^{\\frac{2 h \\nu}{T k}} - 2 e^{\\frac{h \\nu}{T k}} + 1\\right)}$$"
      ],
      "text/plain": [
       "                h⋅ν       \n",
       "                ───       \n",
       "          2  2  T⋅k       \n",
       "       N⋅h ⋅ν ⋅ℯ          \n",
       "──────────────────────────\n",
       "     ⎛ 2⋅h⋅ν      h⋅ν    ⎞\n",
       "     ⎜ ─────      ───    ⎟\n",
       " 2   ⎜  T⋅k       T⋅k    ⎟\n",
       "T ⋅k⋅⎝ℯ      - 2⋅ℯ    + 1⎠"
      ]
     },
     "execution_count": 60,
     "metadata": {},
     "output_type": "execute_result"
    }
   ],
   "source": [
    "cv=simplify(cv)\n",
    "cv"
   ]
  },
  {
   "cell_type": "code",
   "execution_count": 68,
   "metadata": {},
   "outputs": [
    {
     "data": {
      "text/latex": [
       "$$\\frac{N k θ^{2} e^{\\frac{θ}{T}}}{T^{2} \\left(e^{\\frac{2 θ}{T}} - 2 e^{\\frac{θ}{T}} + 1\\right)}$$"
      ],
      "text/plain": [
       "             θ      \n",
       "             ─      \n",
       "          2  T      \n",
       "     N⋅k⋅θ ⋅ℯ       \n",
       "────────────────────\n",
       "   ⎛ 2⋅θ      θ    ⎞\n",
       "   ⎜ ───      ─    ⎟\n",
       " 2 ⎜  T       T    ⎟\n",
       "T ⋅⎝ℯ    - 2⋅ℯ  + 1⎠"
      ]
     },
     "execution_count": 68,
     "metadata": {},
     "output_type": "execute_result"
    }
   ],
   "source": [
    "Subs(cv, h, θ*k/nu).doit()"
   ]
  },
  {
   "cell_type": "markdown",
   "metadata": {},
   "source": [
    "これはあってる。プロットしてみようか。"
   ]
  },
  {
   "cell_type": "code",
   "execution_count": 70,
   "metadata": {},
   "outputs": [],
   "source": [
    "\n"
   ]
  },
  {
   "cell_type": "markdown",
   "metadata": {},
   "source": [
    "等核二原子分子の振動数は、結合の力の定数$k$と原子の質量$m$を使って次のように表わせる。\n",
    "$$\\nu={1\\over 2\\pi}\\sqrt{2k\\over m}$$\n",
    "N2, O2, F2の力の定数はそれぞれ2294, 1177, 445 N m$^{-1}$である。\n",
    "\n",
    "いや、やめとこう。N2, O2, F2の振動数はそれぞれ2358, 1580, 892 cm$^{-1}$である。またI2の特性温度は309 Kである。"
   ]
  },
  {
   "cell_type": "markdown",
   "metadata": {},
   "source": [
    "振動数から特性温度を算出する。"
   ]
  },
  {
   "cell_type": "code",
   "execution_count": 89,
   "metadata": {},
   "outputs": [
    {
     "data": {
      "text/latex": [
       "$$1.4387758028320428$$"
      ],
      "text/plain": [
       "1.4387758028320428"
      ]
     },
     "execution_count": 89,
     "metadata": {},
     "output_type": "execute_result"
    }
   ],
   "source": [
    "h = 6.62607e-34\n",
    "c = 299792458.00\n",
    "k = 1.38065e-23\n",
    "N = 6.022e23\n",
    "R = N*k\n",
    "def θv(nu):\n",
    "    \"\"\"nu in cm-1\"\"\"\n",
    "    nu *= c*100\n",
    "    return h*nu/k\n",
    "\n",
    "θv(2358)/2358"
   ]
  },
  {
   "cell_type": "code",
   "execution_count": 103,
   "metadata": {},
   "outputs": [
    {
     "data": {
      "text/plain": [
       "array([ 100.,  110.,  120.,  130.,  140.,  150.,  160.,  170.,  180.,\n",
       "        190.,  200.,  210.,  220.,  230.,  240.,  250.,  260.,  270.,\n",
       "        280.,  290.,  300.,  310.,  320.,  330.,  340.,  350.,  360.,\n",
       "        370.,  380.,  390.,  400.,  410.,  420.,  430.,  440.,  450.,\n",
       "        460.,  470.,  480.,  490.,  500.,  510.,  520.,  530.,  540.,\n",
       "        550.,  560.,  570.,  580.,  590.,  600.,  610.,  620.,  630.,\n",
       "        640.,  650.,  660.,  670.,  680.,  690.,  700.,  710.,  720.,\n",
       "        730.,  740.,  750.,  760.,  770.,  780.,  790.,  800.,  810.,\n",
       "        820.,  830.,  840.,  850.,  860.,  870.,  880.,  890.,  900.,\n",
       "        910.,  920.,  930.,  940.,  950.,  960.,  970.,  980.,  990.,\n",
       "       1000.])"
      ]
     },
     "execution_count": 103,
     "metadata": {},
     "output_type": "execute_result"
    }
   ],
   "source": [
    "%matplotlib inline\n",
    "from matplotlib import pyplot as plt\n",
    "import numpy as np\n",
    "\n",
    "T = np.linspace(100.,1000.,91)\n",
    "T"
   ]
  },
  {
   "cell_type": "code",
   "execution_count": 109,
   "metadata": {},
   "outputs": [
    {
     "data": {
      "image/png": "[encoded data removed]",
      "text/plain": [
       "<Figure size 432x288 with 1 Axes>"
      ]
     },
     "metadata": {
      "needs_background": "light"
     },
     "output_type": "display_data"
    }
   ],
   "source": [
    "from numpy import exp\n",
    "\n",
    "def Cv_vib(theta_over_T):\n",
    "    x = theta_over_T\n",
    "    return R*x**2*exp(-x)/(1-exp(-x))**2\n",
    "\n",
    "# assume N2\n",
    "Cv_trans = 3*R/2\n",
    "Cv_rot   = R\n",
    "Cv = Cv_trans + Cv_rot + Cv_vib(θv(2358)/T)\n",
    "plt.plot(T, Cv/R)\n",
    "\n",
    "# assume O2\n",
    "Cv = Cv_trans + Cv_rot + Cv_vib(θv(1580)/T)\n",
    "plt.plot(T, Cv/R)\n",
    "\n",
    "# assume F2\n",
    "Cv = Cv_trans + Cv_rot + Cv_vib(θv(892)/T)\n",
    "plt.plot(T, Cv/R)\n",
    "\n",
    "# assume I2\n",
    "#Cv = Cv_trans + Cv_rot + Cv_vib(309/T)\n",
    "#plt.plot(T, Cv/R)\n",
    "\n",
    "# assume Ar\n",
    "plt.plot(T, Cv_trans/R+T*0)\n",
    "\n",
    "# assume H2O\n",
    "Cv_rot3 = 3*R/2\n",
    "Cv = Cv_trans + Cv_rot3 + Cv_vib(θv(3656)/T) + Cv_vib(θv(1594)/T) + Cv_vib(θv(3755)/T)\n",
    "plt.plot(T, Cv/R)\n",
    "\n",
    "# assume CO2\n",
    "Cv = Cv_trans + Cv_rot + 2*Cv_vib(θv(667)/T) + Cv_vib(θv(1388)/T) + Cv_vib(θv(2349)/T)\n",
    "plt.plot(T, Cv/R)\n",
    "plt.xlabel(\"T / K\")\n",
    "plt.ylabel(\"Cv / R\")\n",
    "plt.savefig(\"cv_gas.svg\")"
   ]
  },
  {
   "cell_type": "code",
   "execution_count": null,
   "metadata": {},
   "outputs": [],
   "source": []
  }
 ],
 "metadata": {
  "kernelspec": {
   "display_name": "Python 3",
   "language": "python",
   "name": "python3"
  },
  "language_info": {
   "codemirror_mode": {
    "name": "ipython",
    "version": 3
   },
   "file_extension": ".py",
   "mimetype": "text/x-python",
   "name": "python",
   "nbconvert_exporter": "python",
   "pygments_lexer": "ipython3",
   "version": "3.6.5"
  }
 },
 "nbformat": 4,
 "nbformat_minor": 2
}

{
  "nbformat": 4,
  "nbformat_minor": 0,
  "metadata": {
    "colab": {
      "provenance": [],
      "authorship_tag": "ABX9TyMQQuHfF6EnqxzDmo3+e40k",
      "include_colab_link": true
    },
    "kernelspec": {
      "name": "python3",
      "display_name": "Python 3"
    },
    "language_info": {
      "name": "python"
    }
  },
  "cells": [
    {
      "cell_type": "markdown",
      "metadata": {
        "id": "view-in-github",
        "colab_type": "text"
      },
      "source": [
        "<a href=\"https://colab.research.google.com/github/vitroid/PythonTutorials/blob/master/8OtherClasses/vdW%E5%9C%A7%E7%B8%AE%E5%9B%A0%E5%AD%90.ipynb\" target=\"_parent\"><img src=\"https://colab.research.google.com/assets/colab-badge.svg\" alt=\"Open In Colab\"/></a>"
      ]
    },
    {
      "cell_type": "markdown",
      "source": [
        "van der Waalsの状態方程式: [Wikipedia](https://en.wikipedia.org/wiki/Van_der_Waals_equation)\n",
        "\n",
        "$$ \\left(p+{n^2a\\over V^2}\\right)(V-nb)=nRT$$\n",
        "\n",
        "アヴォガドロ数$N_\\mathrm{A}$を使ってモル数$n$を分子数$N$に換算する。\n",
        "$$n=N/N_\\mathrm{A}$$\n",
        "$$a_1=aN_\\mathrm{A}^{-2}$$\n",
        "$$b_1=bN_\\mathrm{A}^{-1}$$\n",
        "すると、\n",
        "$$ \\left(p+{N^2a_1\\over V^2}\\right)(V-Nb_1)=NkT$$\n",
        "\n",
        "密度$\\rho=N/V$を導入すると、\n",
        "\n",
        "$$ \\left(p+a_1\\rho^2\\right)(1/\\rho-b_1)=kT$$\n",
        "\n",
        "移項して\n",
        "\n",
        "$$ p={\\rho kT\\over 1-b_1\\rho}-a_1\\rho^2$$\n",
        "\n",
        "圧縮因子の式は\n",
        "\n",
        "$$z={pV\\over NkT}={p\\over \\rho kT}={1\\over 1-b_1\\rho}-{a_1\\rho\\over kT}$$\n",
        "\n",
        "\n"
      ],
      "metadata": {
        "id": "NhEx09eOQql4"
      }
    },
    {
      "cell_type": "markdown",
      "source": [
        "$a_1/k=1$、 $b_1=1$とする(単位換算)と、\n",
        "\n",
        "$$z={1\\over 1-\\rho}-{\\rho\\over T}$$\n",
        "これを密度の関数としてプロットしてみる。\n",
        "\n",
        "---\n",
        "密度0での曲線の傾きが第二Virial係数となる。\n",
        "\n",
        "第I回(実在気体の2週目)の議論から、$B(T)={1\\over N_A}\\left(b-{a\\over RT}\\right)=b_1-a_1/kT$とわかるので、接線$y=1+B(T)\\rho$も併せて引いてみよう。"
      ],
      "metadata": {
        "id": "qtd_RY-mTKM8"
      }
    },
    {
      "cell_type": "code",
      "execution_count": null,
      "metadata": {
        "id": "xh8bdEzyQpm0"
      },
      "outputs": [],
      "source": [
        "import numpy as np\n",
        "import matplotlib.pyplot as plt\n",
        "\n",
        "a1_k = 1\n",
        "b1 = 1\n",
        "\n",
        "# 密度: 0〜0.8、100等分\n",
        "rho = np.linspace(0,0.8,100)\n",
        "\n",
        "# いくつかの温度について\n",
        "for T in (0.1, 0.2, 0.5, 1, 2, 5, 10):\n",
        "    # 圧縮因子\n",
        "    z = 1/(1-b1*rho)-a1_k*rho/T\n",
        "    # 接線\n",
        "    y = 1+(b1-a1_k/T)*rho\n",
        "    # プロット\n",
        "    plt.plot(rho, z, label=f\"T={T}\")\n",
        "    plt.plot(rho, y, \":\")\n",
        "\n",
        "# x軸のラベル\n",
        "plt.xlabel(\"rho\")\n",
        "\n",
        "# y軸のラベル\n",
        "plt.ylabel(\"compression factor z\")\n",
        "\n",
        "# 凡例\n",
        "plt.legend()"
      ]
    },
    {
      "cell_type": "markdown",
      "source": [
        "一般には横軸に圧力をとることが多いようだ。\n",
        "\n",
        "密度から圧力に換算してプロットする。\n"
      ],
      "metadata": {
        "id": "pQ58sATtLb7K"
      }
    },
    {
      "cell_type": "code",
      "source": [
        "import numpy as np\n",
        "import matplotlib.pyplot as plt\n",
        "\n",
        "a1_k = 1\n",
        "b1 = 1\n",
        "\n",
        "# 密度: 0〜1、100等分\n",
        "rho = np.linspace(0,1.0,100)\n",
        "\n",
        "# いくつかの温度について\n",
        "for T in (0.2, 0.3, 0.45, 0.67, 1, 2, 5, 10):\n",
        "    # 圧縮因子\n",
        "    z = 1/(1-b1*rho)-a1_k*rho/T\n",
        "    # 圧力\n",
        "    p = rho * z * T\n",
        "    # プロット\n",
        "    plt.plot(p, z, label=f\"T={T}\")\n",
        "\n",
        "# x軸のラベル\n",
        "plt.xlabel(\"Pressure\")\n",
        "\n",
        "# y軸のラベル\n",
        "plt.ylabel(\"compression factor z\")\n",
        "\n",
        "# 凡例\n",
        "plt.legend()\n",
        "\n",
        "# 軸の範囲\n",
        "plt.xlim(0,0.5)\n",
        "plt.ylim(0,2)\n"
      ],
      "metadata": {
        "id": "XufJ7aLvNmQx"
      },
      "execution_count": null,
      "outputs": []
    },
    {
      "cell_type": "code",
      "source": [
        "import sympy\n",
        "\n",
        "from sympy.abc import p, n, V, a, b, R, T, k, N\n",
        "\n",
        "NA, rho, a1, b1 = sympy.symbols(\"N_A rho a1 b1\")\n",
        "\n",
        "sympy.solve((p+(n**2*a/V**2))*(V-n*b)-n*R*T, p)"
      ],
      "metadata": {
        "id": "BXY_x4wWUcMK"
      },
      "execution_count": null,
      "outputs": []
    },
    {
      "cell_type": "code",
      "source": [
        "p=n*(R*T*V**2 - V*a*n + a*b*n**2)/(V**2*(V - b*n))\n",
        "(p*V/(n*R*T)).subs(n, N/NA).subs(R, NA*k).subs(N, rho*V).subs(a, a1*NA**2).subs(b, b1*NA).simplify()"
      ],
      "metadata": {
        "id": "fpLpB7wAXOBT"
      },
      "execution_count": null,
      "outputs": []
    },
    {
      "cell_type": "code",
      "source": [],
      "metadata": {
        "id": "qofIVM8LX8LM"
      },
      "execution_count": null,
      "outputs": []
    }
  ]
}
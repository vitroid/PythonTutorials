{
  "nbformat": 4,
  "nbformat_minor": 0,
  "metadata": {
    "kernelspec": {
      "display_name": "Python 3",
      "language": "python",
      "name": "python3"
    },
    "language_info": {
      "codemirror_mode": {
        "name": "ipython",
        "version": 3
      },
      "file_extension": ".py",
      "mimetype": "text/x-python",
      "name": "python",
      "nbconvert_exporter": "python",
      "pygments_lexer": "ipython3",
      "version": "3.6.5"
    },
    "colab": {
      "name": "Copy of 0First.ipynb",
      "provenance": [],
      "include_colab_link": true
    }
  },
  "cells": [
    {
      "cell_type": "markdown",
      "metadata": {
        "id": "view-in-github",
        "colab_type": "text"
      },
      "source": [
        "<a href=\"https://colab.research.google.com/github/vitroid/PythonTutorials/blob/2020b3/0First.ipynb\" target=\"_parent\"><img src=\"https://colab.research.google.com/assets/colab-badge.svg\" alt=\"Open In Colab\"/></a>"
      ]
    },
    {
      "cell_type": "markdown",
      "metadata": {
        "id": "NKMoGQfFvHhx",
        "colab_type": "text"
      },
      "source": [
        "Excelを使いこなせば、データ処理もグラフを描くのもばっちり? 本当にそうでしょうか? 数百個のデータならExcel で手作業しても処理できるでしょう。1万個でもなんとかなります。でも、もしあなたの実験装置が100万個の極上のデータを出力したら? Excelではそんな大きなデータは扱えません。今のパソコンは、毎秒1億回以上の計算をする能力がある計算機ですが、自動運転する方法を知らなければ、コンピューターではなく人間の作業の速さで、コンピュータの計算能力が決まってしまいます。もし、プログラミングができれば、あなたが寝ている間も、風呂に入っている間も、遊びにいってる間にも、コンピューターはあなたに指示された仕事を超高速で黙々とやってくれます。\n",
        "\n",
        "Pythonは、コンピューターに自動的に仕事をさせるための、プログラミング言語のひとつです。ほかにもプログラミング言語はいろいろあります。昔からよく聞く名前はBASIC, Fortran, Cなど、最近の言語だとC++、Java、Ruby、Perl、Javascriptt、Swift、C#といった名前も聞いたことがある人もいると思います。生協の本屋さんに行けば、いろんな言語の教科書がならんでいます。\n",
        "\n",
        "コンピュータ言語の場合、(英語とフランス語と中国語と韓国語を覚えるのに比べたら)発音は覚えなくていいし語彙は少ないし、ひとつ言語を覚えれば、ほかの言語を覚えるのはそれほど難しくはありません。そういう意味では、どの言語から入門しても構わないといえます。ただし、言語学者でないなら、絶滅危惧種の言語や、特定メーカーしかサポートしていない方言をわざわざ選ぶ必要もないでしょう。\n",
        "\n",
        "Pythonはほとんどのパソコン用OSに標準で搭載されています。唯一Windows には搭載されていませんが、今日の講義で使うWinPythonを使えば、Python 言語をUSBメモリに入れて持ちあるくことができます。今日の講義で書いたプログラムはうちにもって帰って家のパソコンでも動かしてみて下さい。\n",
        "\n",
        "Python言語は、誕生から30年以上たち、最新の言語とは言えませんが、今でも進化を続けており、第一線で活躍している言語です。Python では、とてもコンパクトで読みやすいプログラムを書くことができます。 Python で書かれたプログラムは、同じ機能を提供する C 言語や C++ 言語のプログラムよりもはるかに短く、読みやすくなります 。ライブラリと呼ばれる、すぐに利用できるプログラムの部品が大量に提供されているので、高度な機能を、短いプログラムで作りあげることができます。例えば、米アップル社の2019年以降の株価をインターネットから入手しプロットするプログラムは、ライブラリを使えば実質2行で書けます。(下のプログラム枠のどこかをクリックしてから ▶︎ を押してみて下さい)"
      ]
    },
    {
      "cell_type": "code",
      "metadata": {
        "id": "tVDchV4GvHh2",
        "colab_type": "code",
        "colab": {}
      },
      "source": [
        "# Taken from https://www.quora.com/Using-Python-whats-the-best-way-to-get-stock-data\n",
        "# Install yfinance package.\n",
        "!pip install yfinance\n",
        "import yfinance as yf  \n",
        "import matplotlib.pyplot as plt\n",
        " \n",
        "# Get the data for the stock Apple by specifying the stock ticker, start date, and end date\n",
        "yf.download('AAPL','2019-01-01','2020-05-12').Close.plot()\n",
        "plt.show()"
      ],
      "execution_count": 0,
      "outputs": []
    },
    {
      "cell_type": "markdown",
      "metadata": {
        "id": "9MJPNzpdvHiS",
        "colab_type": "text"
      },
      "source": [
        "最近では、データサイエンスや人工知能や画像処理の研究者が好んでPythonを使うようになり、常に人気のある(そして最も稼げる)プログラム言語ランキングの上位に位置しています。何かプログラム言語を学んだことがある人なら、Pythonをほとんど違和感なく使えるはずです。そして、しばらく慣れてくると、ほかの言語に比べていかにシンプルに書け、読みやすいかが感じられるようになるでしょう。初めて学ぶ人も、ぜひこの機会にさわってみて、雰囲気を味わって下さい。\n",
        "\n",
        "初日は、Pythonの初歩を、ブラウザ上で演習します。テキストは予め配布したファイルに含まれています。\n",
        "\n",
        "## セーブの方法、再編集の方法\n",
        "\n",
        "プログラムを書きかえたり実行した結果を保存する場合は、FileメニューのSaveを選んで下さい。(WindowsならCtrl-S, Macならcmd-S)\n",
        "\n",
        "Google DriveにCopyを保存するかどうか聞いてきますので、指示に従い保存して下さい。Google Driveへは、Windows/Mac/SmartPhoneにGoogle Driveアプリを入れておくと、どこからでもアクセスできます。\n",
        "\n",
        "一旦コピーを保存したら、あとは中身を書きかえると一定時間ごとに自動で保存してくれるようです。\n",
        "\n",
        "作業を終え、ブラウザを閉じたあと、また同じファイルを編集したくなった時は、[Google colab](https://colab.research.google.com)にアクセスして下さい。\n",
        "\n",
        "## 提出方法\n",
        "\n",
        "編集したプログラムを提出したり、プログラムを見せながら質問したい場合は、画面右上の`Share`を押し、松本のメールアドレス`matsu-m3@okayama-u.ac.jp`を入力して共有して下さい。私の側からコメントを入れたり編集したりできるようになるようです。"
      ]
    }
  ]
}
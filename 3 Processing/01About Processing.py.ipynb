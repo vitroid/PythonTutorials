{
 "cells": [
  {
   "cell_type": "markdown",
   "metadata": {},
   "source": [
    "##Python Mode for Processing\n",
    "\n",
    "###メリット\n",
    "\n",
    "1. 静止画を自由に描ける。\n",
    "2. アニメーションも簡単。\n",
    "3. Pythonで書ける。\n",
    "4. インタラクティブに使える。\n",
    "5. すでに利用例が多数ある。\n",
    "\n",
    "###デメリット\n",
    "\n",
    "1. 従来のPythonとの互換性よりも、Processing for Javaとの互換性を重視して設計されているため、ほかのライブラリとの相性がよくない。例えばimport numpyは使えない。(おそらくJavaに翻訳して実行している)\n",
    "2. 遅い。\n",
    "3. ベクトルグラフィックスではない。(NodeBox https://www.nodebox.net との比較)\n",
    "4. 3Dグラフィックスは貧弱。(VPythonのほうが良さそう)\n",
    "\n",
    "###Reference\n",
    "* http://py.processing.org/reference/ Python mode for Processing Reference Manual; Processing (Java言語版)はけっこう長い間つかわれていますが、Pythonモードが追加されたのは最近で、まだ使用例は多くありません。Referenceマニュアルの個々の関数の説明のページの中に、短い用例が書いてあるので、それを参考にするのが早道です。"
   ]
  },
  {
   "cell_type": "code",
   "execution_count": null,
   "metadata": {
    "collapsed": true
   },
   "outputs": [],
   "source": []
  }
 ],
 "metadata": {
  "kernelspec": {
   "display_name": "Python 3",
   "language": "python",
   "name": "python3"
  },
  "language_info": {
   "codemirror_mode": {
    "name": "ipython",
    "version": 3
   },
   "file_extension": ".py",
   "mimetype": "text/x-python",
   "name": "python",
   "nbconvert_exporter": "python",
   "pygments_lexer": "ipython3",
   "version": "3.4.2"
  }
 },
 "nbformat": 4,
 "nbformat_minor": 0
}

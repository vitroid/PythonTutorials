{
 "cells": [
  {
   "cell_type": "markdown",
   "metadata": {},
   "source": [
    "# pygameのインストール\n",
    "\n",
    "以下のサイトを参考にした。\n",
    "\n",
    "http://florian-berger.de/en/articles/installing-pygame-for-python-3-on-os-x/\n",
    "\n",
    "Anacondaでは、EnvironmentsからOpen Terminalし、Terminalで作業する。\n",
    "\n",
    "    pip install hg+http://bitbucket.org/pygame/pygame\n",
    "\n",
    "mercurialというバージョン管理システムが必要らしい。Macの場合は、Brewで入れられると思う。\n",
    "\n",
    "    brew install mercurial\n",
    "\n",
    "mercurialはインストールに必要なだけで、pygameの動作とは関係ない。   \n",
    "\n",
    "## 既知の問題\n",
    "1. pygameをinline実行するためのおまじないがない。\n",
    "2. key割り込みをJupyterがひろってしまうため、keyによる操作ができない。\n",
    "\n",
    "まだまだ使いにくい。processingのほうが良い気がする。"
   ]
  },
  {
   "cell_type": "code",
   "execution_count": 2,
   "metadata": {
    "scrolled": true
   },
   "outputs": [],
   "source": [
    "import pygame"
   ]
  },
  {
   "cell_type": "code",
   "execution_count": 6,
   "metadata": {},
   "outputs": [
    {
     "ename": "KeyboardInterrupt",
     "evalue": "",
     "output_type": "error",
     "traceback": [
      "\u001b[0;31m---------------------------------------------------------------------------\u001b[0m",
      "\u001b[0;31mKeyboardInterrupt\u001b[0m                         Traceback (most recent call last)",
      "\u001b[0;32m<ipython-input-6-e1fe550cb1a9>\u001b[0m in \u001b[0;36m<module>\u001b[0;34m()\u001b[0m\n\u001b[1;32m     22\u001b[0m         \u001b[0mhue\u001b[0m \u001b[0;34m-=\u001b[0m \u001b[0;36m360\u001b[0m\u001b[0;34m\u001b[0m\u001b[0m\n\u001b[1;32m     23\u001b[0m     \u001b[0mpygame\u001b[0m\u001b[0;34m.\u001b[0m\u001b[0mdisplay\u001b[0m\u001b[0;34m.\u001b[0m\u001b[0mflip\u001b[0m\u001b[0;34m(\u001b[0m\u001b[0;34m)\u001b[0m\u001b[0;34m\u001b[0m\u001b[0m\n\u001b[0;32m---> 24\u001b[0;31m     \u001b[0mpygame\u001b[0m\u001b[0;34m.\u001b[0m\u001b[0mtime\u001b[0m\u001b[0;34m.\u001b[0m\u001b[0mwait\u001b[0m\u001b[0;34m(\u001b[0m\u001b[0;36m10\u001b[0m\u001b[0;34m)\u001b[0m\u001b[0;34m\u001b[0m\u001b[0m\n\u001b[0m",
      "\u001b[0;31mKeyboardInterrupt\u001b[0m: "
     ]
    }
   ],
   "source": [
    "#! /usr/bin/env python\n",
    "\n",
    "import pygame\n",
    "from pygame.locals import *\n",
    "screen=pygame.display.set_mode((400,400),0,24)\n",
    "white = Color(0)\n",
    "white.hsva = (0,0,100,100)\n",
    "col = Color(0)\n",
    "\n",
    "screen.fill(white)\n",
    "hue = 0\n",
    "while True:\n",
    "    pygame.event.get()\n",
    "    x,y = pygame.mouse.get_pos()\n",
    "    pressed = pygame.key.get_pressed()\n",
    "    if pressed[K_q]:\n",
    "        break\n",
    "    col.hsva = (hue,100,100,10)\n",
    "    pygame.draw.circle(screen, col, (x,y), 100, 3)\n",
    "    hue += 1\n",
    "    if hue >= 360:\n",
    "        hue -= 360\n",
    "    pygame.display.flip()\n",
    "    pygame.time.wait(10)\n"
   ]
  },
  {
   "cell_type": "markdown",
   "metadata": {},
   "source": [
    "## うまくいかなかったケース\n",
    "\n",
    "以下のページを参考に試す。\n",
    "https://stackoverflow.com/questions/19636480/installation-of-pygame-with-anaconda\n",
    "AnacondaでOpen Terminalし、以下のコマンドを入力。\n",
    "\n",
    "    conda install -c tlatorre pygame\n",
    "\n",
    "だめでした。別のコメントに従い、\n",
    "\n",
    "    conda install -c cogsci pygame=1.9.2a0\n",
    "\n",
    "ではどうか。これだとpython 3.5にダウングレードされてしまう。はじめからpython 3.5のenvironmentを準備するのが良さそう。\n",
    "\n",
    "pipで入れろという説もある。"
   ]
  },
  {
   "cell_type": "code",
   "execution_count": null,
   "metadata": {},
   "outputs": [],
   "source": []
  },
  {
   "cell_type": "code",
   "execution_count": null,
   "metadata": {
    "collapsed": true
   },
   "outputs": [],
   "source": []
  }
 ],
 "metadata": {
  "kernelspec": {
   "display_name": "Python 3",
   "language": "python",
   "name": "python3"
  },
  "language_info": {
   "codemirror_mode": {
    "name": "ipython",
    "version": 3
   },
   "file_extension": ".py",
   "mimetype": "text/x-python",
   "name": "python",
   "nbconvert_exporter": "python",
   "pygments_lexer": "ipython3",
   "version": "3.6.5"
  }
 },
 "nbformat": 4,
 "nbformat_minor": 2
}

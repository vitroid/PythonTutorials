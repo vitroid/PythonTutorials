{
 "cells": [
  {
   "cell_type": "markdown",
   "metadata": {},
   "source": [
    "# pygameのインストール\n",
    "\n",
    "http://florian-berger.de/en/articles/installing-pygame-for-python-3-on-os-x/\n",
    "\n",
    "    pip install hg+http://bitbucket.org/pygame/pygame\n",
    "\n",
    "うまくいった。\n",
    "   "
   ]
  },
  {
   "cell_type": "code",
   "execution_count": 1,
   "metadata": {},
   "outputs": [],
   "source": [
    "import pygame"
   ]
  },
  {
   "cell_type": "markdown",
   "metadata": {},
   "source": [
    "## うまくいかなかったケース\n",
    "\n",
    "以下のページを参考に試す。\n",
    "https://stackoverflow.com/questions/19636480/installation-of-pygame-with-anaconda\n",
    "AnacondaでOpen Terminalし、以下のコマンドを入力。\n",
    "\n",
    "    conda install -c tlatorre pygame\n",
    "\n",
    "だめでした。別のコメントに従い、\n",
    "\n",
    "    conda install -c cogsci pygame=1.9.2a0\n",
    "\n",
    "ではどうか。これだとpython 3.5にダウングレードされてしまう。はじめからpython 3.5のenvironmentを準備するのが良さそう。\n",
    "\n",
    "pipで入れろという説もある。"
   ]
  },
  {
   "cell_type": "code",
   "execution_count": null,
   "metadata": {},
   "outputs": [],
   "source": []
  }
 ],
 "metadata": {
  "kernelspec": {
   "display_name": "Python 3",
   "language": "python",
   "name": "python3"
  },
  "language_info": {
   "codemirror_mode": {
    "name": "ipython",
    "version": 3
   },
   "file_extension": ".py",
   "mimetype": "text/x-python",
   "name": "python",
   "nbconvert_exporter": "python",
   "pygments_lexer": "ipython3",
   "version": "3.6.5"
  }
 },
 "nbformat": 4,
 "nbformat_minor": 2
}

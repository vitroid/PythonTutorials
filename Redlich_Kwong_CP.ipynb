{
  "nbformat": 4,
  "nbformat_minor": 0,
  "metadata": {
    "kernelspec": {
      "display_name": "Python 3",
      "language": "python",
      "name": "python3"
    },
    "language_info": {
      "codemirror_mode": {
        "name": "ipython",
        "version": 3
      },
      "file_extension": ".py",
      "mimetype": "text/x-python",
      "name": "python",
      "nbconvert_exporter": "python",
      "pygments_lexer": "ipython3",
      "version": "3.6.5"
    },
    "colab": {
      "name": "080sympy.ipynb のコピー",
      "provenance": [],
      "toc_visible": true,
      "include_colab_link": true
    }
  },
  "cells": [
    {
      "cell_type": "markdown",
      "metadata": {
        "id": "view-in-github",
        "colab_type": "text"
      },
      "source": [
        "<a href=\"https://colab.research.google.com/github/vitroid/PythonTutorials/blob/2020m0/Redlich_Kwong_CP.ipynb\" target=\"_parent\"><img src=\"https://colab.research.google.com/assets/colab-badge.svg\" alt=\"Open In Colab\"/></a>"
      ]
    },
    {
      "cell_type": "code",
      "metadata": {
        "id": "DLzkaekCD78K",
        "colab_type": "code",
        "colab": {}
      },
      "source": [
        "## setting up colab to pretty-print sympy formulae\n",
        "from sympy          import init_printing\n",
        "from sympy.printing import latex\n",
        "\n",
        "def colab_LaTeX_printer(exp, **options):  \n",
        "    from google.colab.output._publish import javascript \n",
        "\n",
        "    url_ = \"https://colab.research.google.com/static/mathjax/MathJax.js?\"\n",
        "    cfg_ = \"config=TeX-MML-AM_HTMLorMML\" # \"config=default\"\n",
        "\n",
        "    javascript(url=url_+cfg_)\n",
        "\n",
        "    return latex(exp, **options)\n",
        "# end of def\n",
        "init_printing(use_latex=\"mathjax\", latex_printer=colab_LaTeX_printer) \n"
      ],
      "execution_count": 9,
      "outputs": []
    },
    {
      "cell_type": "markdown",
      "metadata": {
        "id": "ntYviwKCC5ZF",
        "colab_type": "text"
      },
      "source": [
        "# Sympyとは\n",
        "Symbolic Pythonの略です。記号演算ができます。つまり、数値計算ではなく、式そのものを操作できるということです。http://www.sympy.org\n",
        "\n",
        "記号演算のための言語として、古くはREDUCE、最近ではMathematicaがありました。前者はいまは無料ですが、後者はずいぶん高いソフトウェアで、学生のころには大学のシステムでよく使わせてもらった、あこがれの言語でした。今はPythonで記号演算ができます。\n",
        "\n",
        "Sympy stands for Symbolic Python. It can handle the symbol operations. In other words, you can manipulate the expression itself, not numerical calculation. http://www.sympy.org\n",
        "\n",
        "When I was a student, REDUCE was famous for symboric operation.  Mathematica later appeared and swept the market.  Now we can do symbolic operations in Python for free.\n",
        "\n",
        "## 例1: 式の展開 Expansion of formulae"
      ]
    },
    {
      "cell_type": "code",
      "metadata": {
        "id": "UzVM6QYhC5ZJ",
        "colab_type": "code",
        "colab": {
          "base_uri": "https://localhost:8080/",
          "height": 39
        },
        "outputId": "968ad928-c6dd-462e-c97b-79b158fdb8d2"
      },
      "source": [
        "from sympy import *\n",
        "a = Symbol('a')\n",
        "a**5"
      ],
      "execution_count": null,
      "outputs": [
        {
          "output_type": "display_data",
          "data": {
            "text/html": [
              "<script src='https://colab.research.google.com/static/mathjax/MathJax.js?config=TeX-MML-AM_HTMLorMML'></script>"
            ],
            "text/plain": [
              "<IPython.core.display.HTML object>"
            ]
          },
          "metadata": {
            "tags": []
          }
        },
        {
          "output_type": "execute_result",
          "data": {
            "text/latex": "$$a^{5}$$",
            "text/plain": [
              " 5\n",
              "a "
            ]
          },
          "metadata": {
            "tags": []
          },
          "execution_count": 7
        }
      ]
    },
    {
      "cell_type": "code",
      "metadata": {
        "scrolled": false,
        "id": "c68q0AolC5ZY",
        "colab_type": "code",
        "colab": {
          "base_uri": "https://localhost:8080/",
          "height": 39
        },
        "outputId": "2bd79b93-724c-4a38-9bb6-ef2e29f3d0b3"
      },
      "source": [
        "b = Symbol('b')\n",
        "c = Symbol('c')\n",
        "(a+b+c)**10"
      ],
      "execution_count": null,
      "outputs": [
        {
          "output_type": "display_data",
          "data": {
            "text/html": [
              "<script src='https://colab.research.google.com/static/mathjax/MathJax.js?config=TeX-MML-AM_HTMLorMML'></script>"
            ],
            "text/plain": [
              "<IPython.core.display.HTML object>"
            ]
          },
          "metadata": {
            "tags": []
          }
        },
        {
          "output_type": "execute_result",
          "data": {
            "text/latex": "$$\\left(a + b + c\\right)^{10}$$",
            "text/plain": [
              "           10\n",
              "(a + b + c)  "
            ]
          },
          "metadata": {
            "tags": []
          },
          "execution_count": 8
        }
      ]
    },
    {
      "cell_type": "markdown",
      "metadata": {
        "id": "n4-yo-zgC5Zm",
        "colab_type": "text"
      },
      "source": [
        "a,b,c,と一個ずつ定義するのが面倒くさい場合は、お手軽モジュールでa〜zを準備しましょう。"
      ]
    },
    {
      "cell_type": "code",
      "metadata": {
        "id": "iqrXy3GKC5Zn",
        "colab_type": "code",
        "colab": {
          "base_uri": "https://localhost:8080/",
          "height": 39
        },
        "outputId": "b429d33c-c155-4197-d4bc-1a64f1eca713"
      },
      "source": [
        "from sympy.abc import *\n",
        "x**5"
      ],
      "execution_count": null,
      "outputs": [
        {
          "output_type": "display_data",
          "data": {
            "text/html": [
              "<script src='https://colab.research.google.com/static/mathjax/MathJax.js?config=TeX-MML-AM_HTMLorMML'></script>"
            ],
            "text/plain": [
              "<IPython.core.display.HTML object>"
            ]
          },
          "metadata": {
            "tags": []
          }
        },
        {
          "output_type": "execute_result",
          "data": {
            "text/latex": "$$x^{5}$$",
            "text/plain": [
              " 5\n",
              "x "
            ]
          },
          "metadata": {
            "tags": []
          },
          "execution_count": 9
        }
      ]
    },
    {
      "cell_type": "code",
      "metadata": {
        "id": "HT709JXGC5Zu",
        "colab_type": "code",
        "colab": {
          "base_uri": "https://localhost:8080/",
          "height": 167
        },
        "outputId": "867e74da-213e-4d1a-988f-2ca3b52f1b47"
      },
      "source": [
        "((a+b+c)**10).expand()"
      ],
      "execution_count": null,
      "outputs": [
        {
          "output_type": "display_data",
          "data": {
            "text/html": [
              "<script src='https://colab.research.google.com/static/mathjax/MathJax.js?config=TeX-MML-AM_HTMLorMML'></script>"
            ],
            "text/plain": [
              "<IPython.core.display.HTML object>"
            ]
          },
          "metadata": {
            "tags": []
          }
        },
        {
          "output_type": "execute_result",
          "data": {
            "text/latex": "$$a^{10} + 10 a^{9} b + 10 a^{9} c + 45 a^{8} b^{2} + 90 a^{8} b c + 45 a^{8} c^{2} + 120 a^{7} b^{3} + 360 a^{7} b^{2} c + 360 a^{7} b c^{2} + 120 a^{7} c^{3} + 210 a^{6} b^{4} + 840 a^{6} b^{3} c + 1260 a^{6} b^{2} c^{2} + 840 a^{6} b c^{3} + 210 a^{6} c^{4} + 252 a^{5} b^{5} + 1260 a^{5} b^{4} c + 2520 a^{5} b^{3} c^{2} + 2520 a^{5} b^{2} c^{3} + 1260 a^{5} b c^{4} + 252 a^{5} c^{5} + 210 a^{4} b^{6} + 1260 a^{4} b^{5} c + 3150 a^{4} b^{4} c^{2} + 4200 a^{4} b^{3} c^{3} + 3150 a^{4} b^{2} c^{4} + 1260 a^{4} b c^{5} + 210 a^{4} c^{6} + 120 a^{3} b^{7} + 840 a^{3} b^{6} c + 2520 a^{3} b^{5} c^{2} + 4200 a^{3} b^{4} c^{3} + 4200 a^{3} b^{3} c^{4} + 2520 a^{3} b^{2} c^{5} + 840 a^{3} b c^{6} + 120 a^{3} c^{7} + 45 a^{2} b^{8} + 360 a^{2} b^{7} c + 1260 a^{2} b^{6} c^{2} + 2520 a^{2} b^{5} c^{3} + 3150 a^{2} b^{4} c^{4} + 2520 a^{2} b^{3} c^{5} + 1260 a^{2} b^{2} c^{6} + 360 a^{2} b c^{7} + 45 a^{2} c^{8} + 10 a b^{9} + 90 a b^{8} c + 360 a b^{7} c^{2} + 840 a b^{6} c^{3} + 1260 a b^{5} c^{4} + 1260 a b^{4} c^{5} + 840 a b^{3} c^{6} + 360 a b^{2} c^{7} + 90 a b c^{8} + 10 a c^{9} + b^{10} + 10 b^{9} c + 45 b^{8} c^{2} + 120 b^{7} c^{3} + 210 b^{6} c^{4} + 252 b^{5} c^{5} + 210 b^{4} c^{6} + 120 b^{3} c^{7} + 45 b^{2} c^{8} + 10 b c^{9} + c^{10}$$",
            "text/plain": [
              " 10       9         9         8  2       8           8  2        7  3        7\n",
              "a   + 10⋅a ⋅b + 10⋅a ⋅c + 45⋅a ⋅b  + 90⋅a ⋅b⋅c + 45⋅a ⋅c  + 120⋅a ⋅b  + 360⋅a \n",
              "\n",
              "  2          7    2        7  3        6  4        6  3           6  2  2     \n",
              "⋅b ⋅c + 360⋅a ⋅b⋅c  + 120⋅a ⋅c  + 210⋅a ⋅b  + 840⋅a ⋅b ⋅c + 1260⋅a ⋅b ⋅c  + 84\n",
              "\n",
              "   6    3        6  4        5  5         5  4           5  3  2         5  2 \n",
              "0⋅a ⋅b⋅c  + 210⋅a ⋅c  + 252⋅a ⋅b  + 1260⋅a ⋅b ⋅c + 2520⋅a ⋅b ⋅c  + 2520⋅a ⋅b ⋅\n",
              "\n",
              " 3         5    4        5  5        4  6         4  5           4  4  2      \n",
              "c  + 1260⋅a ⋅b⋅c  + 252⋅a ⋅c  + 210⋅a ⋅b  + 1260⋅a ⋅b ⋅c + 3150⋅a ⋅b ⋅c  + 420\n",
              "\n",
              "   4  3  3         4  2  4         4    5        4  6        3  7        3  6 \n",
              "0⋅a ⋅b ⋅c  + 3150⋅a ⋅b ⋅c  + 1260⋅a ⋅b⋅c  + 210⋅a ⋅c  + 120⋅a ⋅b  + 840⋅a ⋅b ⋅\n",
              "\n",
              "          3  5  2         3  4  3         3  3  4         3  2  5        3    \n",
              "c + 2520⋅a ⋅b ⋅c  + 4200⋅a ⋅b ⋅c  + 4200⋅a ⋅b ⋅c  + 2520⋅a ⋅b ⋅c  + 840⋅a ⋅b⋅c\n",
              "\n",
              "6        3  7       2  8        2  7           2  6  2         2  5  3        \n",
              "  + 120⋅a ⋅c  + 45⋅a ⋅b  + 360⋅a ⋅b ⋅c + 1260⋅a ⋅b ⋅c  + 2520⋅a ⋅b ⋅c  + 3150⋅\n",
              "\n",
              " 2  4  4         2  3  5         2  2  6        2    7       2  8         9   \n",
              "a ⋅b ⋅c  + 2520⋅a ⋅b ⋅c  + 1260⋅a ⋅b ⋅c  + 360⋅a ⋅b⋅c  + 45⋅a ⋅c  + 10⋅a⋅b  + \n",
              "\n",
              "      8            7  2          6  3           5  4           4  5          3\n",
              "90⋅a⋅b ⋅c + 360⋅a⋅b ⋅c  + 840⋅a⋅b ⋅c  + 1260⋅a⋅b ⋅c  + 1260⋅a⋅b ⋅c  + 840⋅a⋅b \n",
              "\n",
              "  6          2  7           8         9    10       9         8  2        7  3\n",
              "⋅c  + 360⋅a⋅b ⋅c  + 90⋅a⋅b⋅c  + 10⋅a⋅c  + b   + 10⋅b ⋅c + 45⋅b ⋅c  + 120⋅b ⋅c \n",
              "\n",
              "        6  4        5  5        4  6        3  7       2  8         9    10\n",
              " + 210⋅b ⋅c  + 252⋅b ⋅c  + 210⋅b ⋅c  + 120⋅b ⋅c  + 45⋅b ⋅c  + 10⋅b⋅c  + c  "
            ]
          },
          "metadata": {
            "tags": []
          },
          "execution_count": 10
        }
      ]
    },
    {
      "cell_type": "markdown",
      "metadata": {
        "id": "dZFneYkXC5Z0",
        "colab_type": "text"
      },
      "source": [
        "## 例2: 因数分解 Factorization"
      ]
    },
    {
      "cell_type": "code",
      "metadata": {
        "id": "yIfZ_IyQC5Z1",
        "colab_type": "code",
        "colab": {
          "base_uri": "https://localhost:8080/",
          "height": 39
        },
        "outputId": "1dabf58a-512d-4bcb-c0b0-76eb6c9a7090"
      },
      "source": [
        "factor(a**10 + 10*a**9*b + 10*a**9*c + 45*a**8*b**2 + 90*a**8*b*c + \n",
        " 45*a**8*c**2 + 120*a**7*b**3 + 360*a**7*b**2*c + 360*a**7*b*c**2 + \n",
        " 120*a**7*c**3 + 210*a**6*b**4 + 840*a**6*b**3*c + 1260*a**6*b**2*c**2 +\n",
        " 840*a**6*b*c**3 + 210*a**6*c**4 + 252*a**5*b**5 + 1260*a**5*b**4*c +\n",
        " 2520*a**5*b**3*c**2 + 2520*a**5*b**2*c**3 + 1260*a**5*b*c**4 +\n",
        " 252*a**5*c**5 + 210*a**4*b**6 + 1260*a**4*b**5*c + 3150*a**4*b**4*c**2 +\n",
        " 4200*a**4*b**3*c**3 + 3150*a**4*b**2*c**4 + 1260*a**4*b*c**5 + \n",
        " 210*a**4*c**6 + 120*a**3*b**7 + 840*a**3*b**6*c + 2520*a**3*b**5*c**2 +\n",
        " 4200*a**3*b**4*c**3 + 4200*a**3*b**3*c**4 + 2520*a**3*b**2*c**5 + \n",
        " 840*a**3*b*c**6 + 120*a**3*c**7 + 45*a**2*b**8 + 360*a**2*b**7*c +\n",
        " 1260*a**2*b**6*c**2 + 2520*a**2*b**5*c**3 + 3150*a**2*b**4*c**4 + \n",
        " 2520*a**2*b**3*c**5 + 1260*a**2*b**2*c**6 + 360*a**2*b*c**7 + \n",
        " 45*a**2*c**8 + 10*a*b**9 + 90*a*b**8*c + 360*a*b**7*c**2 + \n",
        " 840*a*b**6*c**3 + 1260*a*b**5*c**4 + 1260*a*b**4*c**5 + 840*a*b**3*c**6 +\n",
        " 360*a*b**2*c**7 + 90*a*b*c**8 + 10*a*c**9 + b**10 + 10*b**9*c + \n",
        " 45*b**8*c**2 + 120*b**7*c**3 + 210*b**6*c**4 + 252*b**5*c**5 + \n",
        " 210*b**4*c**6 + 120*b**3*c**7 + 45*b**2*c**8 + 10*b*c**9 + c**10)"
      ],
      "execution_count": null,
      "outputs": [
        {
          "output_type": "display_data",
          "data": {
            "text/html": [
              "<script src='https://colab.research.google.com/static/mathjax/MathJax.js?config=TeX-MML-AM_HTMLorMML'></script>"
            ],
            "text/plain": [
              "<IPython.core.display.HTML object>"
            ]
          },
          "metadata": {
            "tags": []
          }
        },
        {
          "output_type": "execute_result",
          "data": {
            "text/latex": "$$\\left(a + b + c\\right)^{10}$$",
            "text/plain": [
              "           10\n",
              "(a + b + c)  "
            ]
          },
          "metadata": {
            "tags": []
          },
          "execution_count": 11
        }
      ]
    },
    {
      "cell_type": "markdown",
      "metadata": {
        "id": "vVo_8IiCC5Z5",
        "colab_type": "text"
      },
      "source": [
        "## 例3: 式の簡単化 Simplification"
      ]
    },
    {
      "cell_type": "code",
      "metadata": {
        "id": "uP4W5MHKC5Z5",
        "colab_type": "code",
        "colab": {
          "base_uri": "https://localhost:8080/",
          "height": 39
        },
        "outputId": "ea69aa11-c7df-43b4-95d5-98d493457f59"
      },
      "source": [
        "x = Symbol('x')\n",
        "sin(x)**2 + cos(x)**2"
      ],
      "execution_count": null,
      "outputs": [
        {
          "output_type": "display_data",
          "data": {
            "text/html": [
              "<script src='https://colab.research.google.com/static/mathjax/MathJax.js?config=TeX-MML-AM_HTMLorMML'></script>"
            ],
            "text/plain": [
              "<IPython.core.display.HTML object>"
            ]
          },
          "metadata": {
            "tags": []
          }
        },
        {
          "output_type": "execute_result",
          "data": {
            "text/latex": "$$\\sin^{2}{\\left (x \\right )} + \\cos^{2}{\\left (x \\right )}$$",
            "text/plain": [
              "   2         2   \n",
              "sin (x) + cos (x)"
            ]
          },
          "metadata": {
            "tags": []
          },
          "execution_count": 12
        }
      ]
    },
    {
      "cell_type": "code",
      "metadata": {
        "scrolled": true,
        "id": "nEskj36CC5Z9",
        "colab_type": "code",
        "colab": {
          "base_uri": "https://localhost:8080/",
          "height": 37
        },
        "outputId": "8e8cd1cf-0ee1-4478-a452-d422dc389e42"
      },
      "source": [
        "simplify(sin(x**2+5)**2 + cos(x**2+5)**2)"
      ],
      "execution_count": null,
      "outputs": [
        {
          "output_type": "display_data",
          "data": {
            "text/html": [
              "<script src='https://colab.research.google.com/static/mathjax/MathJax.js?config=TeX-MML-AM_HTMLorMML'></script>"
            ],
            "text/plain": [
              "<IPython.core.display.HTML object>"
            ]
          },
          "metadata": {
            "tags": []
          }
        },
        {
          "output_type": "execute_result",
          "data": {
            "text/latex": "$$1$$",
            "text/plain": [
              "1"
            ]
          },
          "metadata": {
            "tags": []
          },
          "execution_count": 13
        }
      ]
    },
    {
      "cell_type": "markdown",
      "metadata": {
        "id": "HfFyY9JWC5aB",
        "colab_type": "text"
      },
      "source": [
        "## 例4: 偏微分 Differentiation\n",
        "同じことをするのに2つの書き方があります。"
      ]
    },
    {
      "cell_type": "code",
      "metadata": {
        "id": "wjevQWTNC5aB",
        "colab_type": "code",
        "colab": {
          "base_uri": "https://localhost:8080/",
          "height": 39
        },
        "outputId": "05d8300f-56e7-4236-a6df-3ebf3890ee15"
      },
      "source": [
        "((a+b+c)**10).diff(a)"
      ],
      "execution_count": null,
      "outputs": [
        {
          "output_type": "display_data",
          "data": {
            "text/html": [
              "<script src='https://colab.research.google.com/static/mathjax/MathJax.js?config=TeX-MML-AM_HTMLorMML'></script>"
            ],
            "text/plain": [
              "<IPython.core.display.HTML object>"
            ]
          },
          "metadata": {
            "tags": []
          }
        },
        {
          "output_type": "execute_result",
          "data": {
            "text/latex": "$$10 \\left(a + b + c\\right)^{9}$$",
            "text/plain": [
              "              9\n",
              "10⋅(a + b + c) "
            ]
          },
          "metadata": {
            "tags": []
          },
          "execution_count": 14
        }
      ]
    },
    {
      "cell_type": "code",
      "metadata": {
        "id": "aCj040CKC5aE",
        "colab_type": "code",
        "colab": {
          "base_uri": "https://localhost:8080/",
          "height": 39
        },
        "outputId": "f94fb3f3-4658-4769-f5ad-b451f6981a47"
      },
      "source": [
        "diff((a+b+c)**10,a)"
      ],
      "execution_count": null,
      "outputs": [
        {
          "output_type": "display_data",
          "data": {
            "text/html": [
              "<script src='https://colab.research.google.com/static/mathjax/MathJax.js?config=TeX-MML-AM_HTMLorMML'></script>"
            ],
            "text/plain": [
              "<IPython.core.display.HTML object>"
            ]
          },
          "metadata": {
            "tags": []
          }
        },
        {
          "output_type": "execute_result",
          "data": {
            "text/latex": "$$10 \\left(a + b + c\\right)^{9}$$",
            "text/plain": [
              "              9\n",
              "10⋅(a + b + c) "
            ]
          },
          "metadata": {
            "tags": []
          },
          "execution_count": 15
        }
      ]
    },
    {
      "cell_type": "markdown",
      "metadata": {
        "id": "ajjSD4FMC5aH",
        "colab_type": "text"
      },
      "source": [
        "多階微分も楽勝です。"
      ]
    },
    {
      "cell_type": "code",
      "metadata": {
        "id": "6q4XwY6XC5aJ",
        "colab_type": "code",
        "colab": {
          "base_uri": "https://localhost:8080/",
          "height": 39
        },
        "outputId": "9a98cc02-305e-4c9f-beca-7c833fbebb16"
      },
      "source": [
        "((a+sin(b))**10).diff(a,5).diff(b,2).simplify()"
      ],
      "execution_count": null,
      "outputs": [
        {
          "output_type": "display_data",
          "data": {
            "text/html": [
              "<script src='https://colab.research.google.com/static/mathjax/MathJax.js?config=TeX-MML-AM_HTMLorMML'></script>"
            ],
            "text/plain": [
              "<IPython.core.display.HTML object>"
            ]
          },
          "metadata": {
            "tags": []
          }
        },
        {
          "output_type": "execute_result",
          "data": {
            "text/latex": "$$151200 \\left(a + \\sin{\\left (b \\right )}\\right)^{3} \\left(- a \\sin{\\left (b \\right )} - 5 \\sin^{2}{\\left (b \\right )} + 4\\right)$$",
            "text/plain": [
              "                   3 ⎛                 2       ⎞\n",
              "151200⋅(a + sin(b)) ⋅⎝-a⋅sin(b) - 5⋅sin (b) + 4⎠"
            ]
          },
          "metadata": {
            "tags": []
          },
          "execution_count": 16
        }
      ]
    },
    {
      "cell_type": "markdown",
      "metadata": {
        "id": "bMBH3-m-C5aM",
        "colab_type": "text"
      },
      "source": [
        "## 例5: 積分 Integration\n",
        "下の例にでてくる$\\exp()$はmathライブラリの関数ではなく、記号演算用にsympyで再定義されたものです。\n",
        "\n",
        "`exp()` in the example below is not a math library function but a redefined function for symbolic operation."
      ]
    },
    {
      "cell_type": "code",
      "metadata": {
        "id": "knaUdvRtC5aN",
        "colab_type": "code",
        "colab": {
          "base_uri": "https://localhost:8080/",
          "height": 41
        },
        "outputId": "b5946bef-b476-4d17-cb94-b6fa781bf28a"
      },
      "source": [
        "x = Symbol('x')\n",
        "exp(-x**2).integrate((x,-oo,0))"
      ],
      "execution_count": null,
      "outputs": [
        {
          "output_type": "display_data",
          "data": {
            "text/html": [
              "<script src='https://colab.research.google.com/static/mathjax/MathJax.js?config=TeX-MML-AM_HTMLorMML'></script>"
            ],
            "text/plain": [
              "<IPython.core.display.HTML object>"
            ]
          },
          "metadata": {
            "tags": []
          }
        },
        {
          "output_type": "execute_result",
          "data": {
            "text/latex": "$$\\frac{\\sqrt{\\pi}}{2}$$",
            "text/plain": [
              "√π\n",
              "──\n",
              "2 "
            ]
          },
          "metadata": {
            "tags": []
          },
          "execution_count": 17
        }
      ]
    },
    {
      "cell_type": "markdown",
      "metadata": {
        "id": "qqzzBcnEC5aQ",
        "colab_type": "text"
      },
      "source": [
        "### Gauss積分 Gaussian integration\n",
        "ooは無限大を表します。integrateなどの関数は後置しても、下のように汎関数的に書いても同じようです。\n",
        "\n",
        "`oo` stands for infinity. There are two usages for the symbolic operators. One is to put after the formula as a method, and the other is to apply to the function as a functional as below."
      ]
    },
    {
      "cell_type": "code",
      "metadata": {
        "id": "o3gXh6evC5aQ",
        "colab_type": "code",
        "colab": {
          "base_uri": "https://localhost:8080/",
          "height": 41
        },
        "outputId": "df3c5ad7-5aca-458c-f01a-ea44739d6823"
      },
      "source": [
        "integrate(exp(-x**2),x)"
      ],
      "execution_count": null,
      "outputs": [
        {
          "output_type": "display_data",
          "data": {
            "text/html": [
              "<script src='https://colab.research.google.com/static/mathjax/MathJax.js?config=TeX-MML-AM_HTMLorMML'></script>"
            ],
            "text/plain": [
              "<IPython.core.display.HTML object>"
            ]
          },
          "metadata": {
            "tags": []
          }
        },
        {
          "output_type": "execute_result",
          "data": {
            "text/latex": "$$\\frac{\\sqrt{\\pi}}{2} \\operatorname{erf}{\\left (x \\right )}$$",
            "text/plain": [
              "√π⋅erf(x)\n",
              "─────────\n",
              "    2    "
            ]
          },
          "metadata": {
            "tags": []
          },
          "execution_count": 18
        }
      ]
    },
    {
      "cell_type": "markdown",
      "metadata": {
        "id": "a5k2oosNC5aT",
        "colab_type": "text"
      },
      "source": [
        "## 例6: 関数定義 Definition of a symbolic function\n",
        "関数を定義できると便利ですよね。\n",
        "\n",
        "まずは、未定義の関数を作ります。(Symbolと同じく、すこし違和感のある書き方です)\n",
        "Here we prepare an undefined function. It just has a name `f`."
      ]
    },
    {
      "cell_type": "code",
      "metadata": {
        "id": "qUekqQpkC5aT",
        "colab_type": "code",
        "colab": {}
      },
      "source": [
        "f = Function('f')"
      ],
      "execution_count": null,
      "outputs": []
    },
    {
      "cell_type": "markdown",
      "metadata": {
        "id": "cAu5-GfCC5aW",
        "colab_type": "text"
      },
      "source": [
        "これを微分します。中身がわからない関数なので、形式的にしか微分できません。\n",
        "\n",
        "Let us differentiate it.  Since we did not define the `f` function, the operation can only be symbolic."
      ]
    },
    {
      "cell_type": "code",
      "metadata": {
        "scrolled": true,
        "id": "0FBc1gvuC5aW",
        "colab_type": "code",
        "colab": {
          "base_uri": "https://localhost:8080/",
          "height": 39
        },
        "outputId": "a948732f-5178-4c83-b030-16b7afafb5e6"
      },
      "source": [
        "f(x).diff(x)"
      ],
      "execution_count": null,
      "outputs": [
        {
          "output_type": "display_data",
          "data": {
            "text/html": [
              "<script src='https://colab.research.google.com/static/mathjax/MathJax.js?config=TeX-MML-AM_HTMLorMML'></script>"
            ],
            "text/plain": [
              "<IPython.core.display.HTML object>"
            ]
          },
          "metadata": {
            "tags": []
          }
        },
        {
          "output_type": "execute_result",
          "data": {
            "text/latex": "$$\\frac{d}{d x} f{\\left (x \\right )}$$",
            "text/plain": [
              "d       \n",
              "──(f(x))\n",
              "dx      "
            ]
          },
          "metadata": {
            "tags": []
          },
          "execution_count": 20
        }
      ]
    },
    {
      "cell_type": "markdown",
      "metadata": {
        "id": "paiMj4UxC5aY",
        "colab_type": "text"
      },
      "source": [
        "しかし、ちゃんとchain ruleは働きます。\n",
        "\n",
        "However, the chain rule is applied when such a formula is given."
      ]
    },
    {
      "cell_type": "code",
      "metadata": {
        "id": "xpgkD-xFC5aZ",
        "colab_type": "code",
        "colab": {
          "base_uri": "https://localhost:8080/",
          "height": 52
        },
        "outputId": "83cf4632-1907-4db6-e084-671943977d15"
      },
      "source": [
        "f(exp(x)).diff(x)"
      ],
      "execution_count": null,
      "outputs": [
        {
          "output_type": "display_data",
          "data": {
            "text/html": [
              "<script src='https://colab.research.google.com/static/mathjax/MathJax.js?config=TeX-MML-AM_HTMLorMML'></script>"
            ],
            "text/plain": [
              "<IPython.core.display.HTML object>"
            ]
          },
          "metadata": {
            "tags": []
          }
        },
        {
          "output_type": "execute_result",
          "data": {
            "text/latex": "$$e^{x} \\left. \\frac{d}{d \\xi_{1}} f{\\left (\\xi_{1} \\right )} \\right|_{\\substack{ \\xi_{1}=e^{x} }}$$",
            "text/plain": [
              " x ⎛ d        ⎞│     \n",
              "ℯ ⋅⎜───(f(ξ₁))⎟│    x\n",
              "   ⎝dξ₁       ⎠│ξ₁=ℯ "
            ]
          },
          "metadata": {
            "tags": []
          },
          "execution_count": 21
        }
      ]
    },
    {
      "cell_type": "code",
      "metadata": {
        "id": "XUr5l3ctC5ab",
        "colab_type": "code",
        "colab": {
          "base_uri": "https://localhost:8080/",
          "height": 39
        },
        "outputId": "4bc85e77-9b39-4fce-fe53-e50e4d0d960d"
      },
      "source": [
        "x=Symbol('x')\n",
        "y=Symbol('y')\n",
        "r=Symbol('r')\n",
        "th=Symbol('th')\n",
        "\n",
        "x=r*cos(th)\n",
        "diff(x,th)  #same as x.diff(th)"
      ],
      "execution_count": null,
      "outputs": [
        {
          "output_type": "display_data",
          "data": {
            "text/html": [
              "<script src='https://colab.research.google.com/static/mathjax/MathJax.js?config=TeX-MML-AM_HTMLorMML'></script>"
            ],
            "text/plain": [
              "<IPython.core.display.HTML object>"
            ]
          },
          "metadata": {
            "tags": []
          }
        },
        {
          "output_type": "execute_result",
          "data": {
            "text/latex": "$$- r \\sin{\\left (th \\right )}$$",
            "text/plain": [
              "-r⋅sin(th)"
            ]
          },
          "metadata": {
            "tags": []
          },
          "execution_count": 22
        }
      ]
    },
    {
      "cell_type": "markdown",
      "metadata": {
        "id": "6f44UAgIC5ag",
        "colab_type": "text"
      },
      "source": [
        "## 例7: 求解 Symbolic solution\n",
        "なんと解を求めることまでできます。"
      ]
    },
    {
      "cell_type": "code",
      "metadata": {
        "scrolled": true,
        "id": "KBj3eU-vC5ah",
        "colab_type": "code",
        "colab": {
          "base_uri": "https://localhost:8080/",
          "height": 39
        },
        "outputId": "f9d05e12-7e88-4bbe-dded-5876b8ef0e79"
      },
      "source": [
        "solve(a*x**2+b*x+c,x)"
      ],
      "execution_count": null,
      "outputs": [
        {
          "output_type": "display_data",
          "data": {
            "text/html": [
              "<script src='https://colab.research.google.com/static/mathjax/MathJax.js?config=TeX-MML-AM_HTMLorMML'></script>"
            ],
            "text/plain": [
              "<IPython.core.display.HTML object>"
            ]
          },
          "metadata": {
            "tags": []
          }
        },
        {
          "output_type": "execute_result",
          "data": {
            "text/latex": "$$\\left [ \\frac{1}{2 a} \\left(- b + \\sqrt{- 4 a c + b^{2}}\\right), \\quad - \\frac{1}{2 a} \\left(b + \\sqrt{- 4 a c + b^{2}}\\right)\\right ]$$",
            "text/plain": [
              "⎡        _____________   ⎛       _____________⎞ ⎤\n",
              "⎢       ╱           2    ⎜      ╱           2 ⎟ ⎥\n",
              "⎢-b + ╲╱  -4⋅a⋅c + b    -⎝b + ╲╱  -4⋅a⋅c + b  ⎠ ⎥\n",
              "⎢─────────────────────, ────────────────────────⎥\n",
              "⎣         2⋅a                     2⋅a           ⎦"
            ]
          },
          "metadata": {
            "tags": []
          },
          "execution_count": 23
        }
      ]
    },
    {
      "cell_type": "markdown",
      "metadata": {
        "id": "rU5Ns0XoC5ak",
        "colab_type": "text"
      },
      "source": [
        "## 例8: 数値計算 Numerical solution\n",
        "解析的に答が出ない場合には、数値的な解を求めることもできます。"
      ]
    },
    {
      "cell_type": "code",
      "metadata": {
        "id": "ynXz4ZEJC5al",
        "colab_type": "code",
        "colab": {
          "base_uri": "https://localhost:8080/",
          "height": 359
        },
        "outputId": "6b7d8f05-3906-425e-9493-23bef9646c06"
      },
      "source": [
        "x=Symbol('x')\n",
        "solve(x-cos(x),x)"
      ],
      "execution_count": null,
      "outputs": [
        {
          "output_type": "error",
          "ename": "NotImplementedError",
          "evalue": "ignored",
          "traceback": [
            "\u001b[0;31m---------------------------------------------------------------------------\u001b[0m",
            "\u001b[0;31mNotImplementedError\u001b[0m                       Traceback (most recent call last)",
            "\u001b[0;32m<ipython-input-24-91fdb2847ecd>\u001b[0m in \u001b[0;36m<module>\u001b[0;34m()\u001b[0m\n\u001b[1;32m      1\u001b[0m \u001b[0mx\u001b[0m\u001b[0;34m=\u001b[0m\u001b[0mSymbol\u001b[0m\u001b[0;34m(\u001b[0m\u001b[0;34m'x'\u001b[0m\u001b[0;34m)\u001b[0m\u001b[0;34m\u001b[0m\u001b[0;34m\u001b[0m\u001b[0m\n\u001b[0;32m----> 2\u001b[0;31m \u001b[0msolve\u001b[0m\u001b[0;34m(\u001b[0m\u001b[0mx\u001b[0m\u001b[0;34m-\u001b[0m\u001b[0mcos\u001b[0m\u001b[0;34m(\u001b[0m\u001b[0mx\u001b[0m\u001b[0;34m)\u001b[0m\u001b[0;34m,\u001b[0m\u001b[0mx\u001b[0m\u001b[0;34m)\u001b[0m\u001b[0;34m\u001b[0m\u001b[0;34m\u001b[0m\u001b[0m\n\u001b[0m",
            "\u001b[0;32m/usr/local/lib/python3.6/dist-packages/sympy/solvers/solvers.py\u001b[0m in \u001b[0;36msolve\u001b[0;34m(f, *symbols, **flags)\u001b[0m\n\u001b[1;32m   1063\u001b[0m     \u001b[0;31m###########################################################################\u001b[0m\u001b[0;34m\u001b[0m\u001b[0;34m\u001b[0m\u001b[0;34m\u001b[0m\u001b[0m\n\u001b[1;32m   1064\u001b[0m     \u001b[0;32mif\u001b[0m \u001b[0mbare_f\u001b[0m\u001b[0;34m:\u001b[0m\u001b[0;34m\u001b[0m\u001b[0;34m\u001b[0m\u001b[0m\n\u001b[0;32m-> 1065\u001b[0;31m         \u001b[0msolution\u001b[0m \u001b[0;34m=\u001b[0m \u001b[0m_solve\u001b[0m\u001b[0;34m(\u001b[0m\u001b[0mf\u001b[0m\u001b[0;34m[\u001b[0m\u001b[0;36m0\u001b[0m\u001b[0;34m]\u001b[0m\u001b[0;34m,\u001b[0m \u001b[0;34m*\u001b[0m\u001b[0msymbols\u001b[0m\u001b[0;34m,\u001b[0m \u001b[0;34m**\u001b[0m\u001b[0mflags\u001b[0m\u001b[0;34m)\u001b[0m\u001b[0;34m\u001b[0m\u001b[0;34m\u001b[0m\u001b[0m\n\u001b[0m\u001b[1;32m   1066\u001b[0m     \u001b[0;32melse\u001b[0m\u001b[0;34m:\u001b[0m\u001b[0;34m\u001b[0m\u001b[0;34m\u001b[0m\u001b[0m\n\u001b[1;32m   1067\u001b[0m         \u001b[0msolution\u001b[0m \u001b[0;34m=\u001b[0m \u001b[0m_solve_system\u001b[0m\u001b[0;34m(\u001b[0m\u001b[0mf\u001b[0m\u001b[0;34m,\u001b[0m \u001b[0msymbols\u001b[0m\u001b[0;34m,\u001b[0m \u001b[0;34m**\u001b[0m\u001b[0mflags\u001b[0m\u001b[0;34m)\u001b[0m\u001b[0;34m\u001b[0m\u001b[0;34m\u001b[0m\u001b[0m\n",
            "\u001b[0;32m/usr/local/lib/python3.6/dist-packages/sympy/solvers/solvers.py\u001b[0m in \u001b[0;36m_solve\u001b[0;34m(f, *symbols, **flags)\u001b[0m\n\u001b[1;32m   1632\u001b[0m \u001b[0;34m\u001b[0m\u001b[0m\n\u001b[1;32m   1633\u001b[0m     \u001b[0;32mif\u001b[0m \u001b[0mresult\u001b[0m \u001b[0;32mis\u001b[0m \u001b[0;32mFalse\u001b[0m\u001b[0;34m:\u001b[0m\u001b[0;34m\u001b[0m\u001b[0;34m\u001b[0m\u001b[0m\n\u001b[0;32m-> 1634\u001b[0;31m         \u001b[0;32mraise\u001b[0m \u001b[0mNotImplementedError\u001b[0m\u001b[0;34m(\u001b[0m\u001b[0;34m'\\n'\u001b[0m\u001b[0;34m.\u001b[0m\u001b[0mjoin\u001b[0m\u001b[0;34m(\u001b[0m\u001b[0;34m[\u001b[0m\u001b[0mmsg\u001b[0m\u001b[0;34m,\u001b[0m \u001b[0mnot_impl_msg\u001b[0m \u001b[0;34m%\u001b[0m \u001b[0mf\u001b[0m\u001b[0;34m]\u001b[0m\u001b[0;34m)\u001b[0m\u001b[0;34m)\u001b[0m\u001b[0;34m\u001b[0m\u001b[0;34m\u001b[0m\u001b[0m\n\u001b[0m\u001b[1;32m   1635\u001b[0m \u001b[0;34m\u001b[0m\u001b[0m\n\u001b[1;32m   1636\u001b[0m     \u001b[0;32mif\u001b[0m \u001b[0mflags\u001b[0m\u001b[0;34m.\u001b[0m\u001b[0mget\u001b[0m\u001b[0;34m(\u001b[0m\u001b[0;34m'simplify'\u001b[0m\u001b[0;34m,\u001b[0m \u001b[0;32mTrue\u001b[0m\u001b[0;34m)\u001b[0m\u001b[0;34m:\u001b[0m\u001b[0;34m\u001b[0m\u001b[0;34m\u001b[0m\u001b[0m\n",
            "\u001b[0;31mNotImplementedError\u001b[0m: multiple generators [x, cos(x)]\nNo algorithms are implemented to solve equation x - cos(x)"
          ]
        }
      ]
    },
    {
      "cell_type": "code",
      "metadata": {
        "id": "OKqwuxJtC5ao",
        "colab_type": "code",
        "colab": {
          "base_uri": "https://localhost:8080/",
          "height": 37
        },
        "outputId": "9a4afd28-e109-47e7-e63d-408ef76dc1c4"
      },
      "source": [
        "nsolve(x-cos(x),x,1)"
      ],
      "execution_count": null,
      "outputs": [
        {
          "output_type": "display_data",
          "data": {
            "text/html": [
              "<script src='https://colab.research.google.com/static/mathjax/MathJax.js?config=TeX-MML-AM_HTMLorMML'></script>"
            ],
            "text/plain": [
              "<IPython.core.display.HTML object>"
            ]
          },
          "metadata": {
            "tags": []
          }
        },
        {
          "output_type": "execute_result",
          "data": {
            "text/latex": "$$0.739085133215161$$",
            "text/plain": [
              "0.739085133215161"
            ]
          },
          "metadata": {
            "tags": []
          },
          "execution_count": 25
        }
      ]
    },
    {
      "cell_type": "markdown",
      "metadata": {
        "id": "HLgcSvAXC5ar",
        "colab_type": "text"
      },
      "source": [
        "## 例9: フーリエ変換 Fourier transformation\n",
        "積分ができるということは、フーリエ変換ができるはずです。まずはガウス関数のフーリエ変換を積分形式で書いてみましょう。ガウス関数は偶関数なので、フーリエ変換はコサイン変換となります。\n",
        "\n",
        "Let's first write the Fourier transform of Gaussian function in integral form. Since the Gaussian function is an even function, the Fourier transform is a cosine transform.\n",
        "\n",
        "$$\\int_{-\\infty}^{\\infty}\\exp(-x^2/a)\\exp(2i\\pi k x){\\rm d}x = \\int_{-\\infty}^{\\infty}\\exp(-x^2/a)\\cos(2\\pi k x){\\rm d}x$$"
      ]
    },
    {
      "cell_type": "code",
      "metadata": {
        "id": "KTLVygBbC5ar",
        "colab_type": "code",
        "colab": {
          "base_uri": "https://localhost:8080/",
          "height": 43
        },
        "outputId": "6ed9d880-95c2-4a89-ae05-f4c1dad19506"
      },
      "source": [
        "k = Symbol('k')\n",
        "(exp(-x**2/a)*cos(2*pi*k*x)).integrate(x)"
      ],
      "execution_count": null,
      "outputs": [
        {
          "output_type": "display_data",
          "data": {
            "text/html": [
              "<script src='https://colab.research.google.com/static/mathjax/MathJax.js?config=TeX-MML-AM_HTMLorMML'></script>"
            ],
            "text/plain": [
              "<IPython.core.display.HTML object>"
            ]
          },
          "metadata": {
            "tags": []
          }
        },
        {
          "output_type": "execute_result",
          "data": {
            "text/latex": "$$\\int e^{- \\frac{x^{2}}{a}} \\cos{\\left (2 k \\pi x \\right )}\\, dx$$",
            "text/plain": [
              "⌠                      \n",
              "⎮    2                 \n",
              "⎮  -x                  \n",
              "⎮  ────                \n",
              "⎮   a                  \n",
              "⎮ ℯ    ⋅cos(2⋅k⋅π⋅x) dx\n",
              "⌡                      "
            ]
          },
          "metadata": {
            "tags": []
          },
          "execution_count": 26
        }
      ]
    },
    {
      "cell_type": "markdown",
      "metadata": {
        "id": "O58EgCBSC5au",
        "colab_type": "text"
      },
      "source": [
        "解けませんね・・・。では、コサイン変換関数を使ってみます。\n",
        "\n",
        "Unsuccessful.... Then let us try to make use of cosine_transform function."
      ]
    },
    {
      "cell_type": "code",
      "metadata": {
        "id": "wWqpk-D9C5av",
        "colab_type": "code",
        "colab": {
          "base_uri": "https://localhost:8080/",
          "height": 43
        },
        "outputId": "9211eb56-4d23-4447-b2d1-1191c85195c5"
      },
      "source": [
        "cosine_transform(exp(-x**2/a),x,k)"
      ],
      "execution_count": null,
      "outputs": [
        {
          "output_type": "display_data",
          "data": {
            "text/html": [
              "<script src='https://colab.research.google.com/static/mathjax/MathJax.js?config=TeX-MML-AM_HTMLorMML'></script>"
            ],
            "text/plain": [
              "<IPython.core.display.HTML object>"
            ]
          },
          "metadata": {
            "tags": []
          }
        },
        {
          "output_type": "execute_result",
          "data": {
            "text/latex": "$$\\frac{\\sqrt{2} \\sqrt{a}}{2} e^{- \\frac{a k^{2}}{4}}$$",
            "text/plain": [
              "           2 \n",
              "       -a⋅k  \n",
              "       ──────\n",
              "         4   \n",
              "√2⋅√a⋅ℯ      \n",
              "─────────────\n",
              "      2      "
            ]
          },
          "metadata": {
            "tags": []
          },
          "execution_count": 27
        }
      ]
    },
    {
      "cell_type": "markdown",
      "metadata": {
        "id": "abWKYfsMC5ay",
        "colab_type": "text"
      },
      "source": [
        "ガウス関数をフーリエ変換するとガウス関数になる、といういわゆる不確定性原理が出せました。\n",
        "\n",
        "A Fourier transform of Gaussian function is also a Gaussian function.  It is known as an uncertainty principle in the quantum mechanics."
      ]
    },
    {
      "cell_type": "markdown",
      "metadata": {
        "id": "gASvNTX9C5ay",
        "colab_type": "text"
      },
      "source": [
        "## 例10: 定数の代入 Substitution\n",
        "subsは変数をおきかえます。下の例では、xで書かれた式のxをpiにおきかえます。\n",
        "\n",
        "`subs` substitutes a variable.  In the following example, x is replaced by pi."
      ]
    },
    {
      "cell_type": "code",
      "metadata": {
        "id": "EtN5xLD0C5az",
        "colab_type": "code",
        "colab": {
          "base_uri": "https://localhost:8080/",
          "height": 39
        },
        "outputId": "6f902135-8cb5-416a-cee6-1ebf235dbc99"
      },
      "source": [
        "sin(x).diff(x).subs(x,pi)"
      ],
      "execution_count": null,
      "outputs": [
        {
          "output_type": "display_data",
          "data": {
            "text/html": [
              "<script src='https://colab.research.google.com/static/mathjax/MathJax.js?config=TeX-MML-AM_HTMLorMML'></script>"
            ],
            "text/plain": [
              "<IPython.core.display.HTML object>"
            ]
          },
          "metadata": {
            "tags": []
          }
        },
        {
          "output_type": "execute_result",
          "data": {
            "text/latex": "$$\\cos{\\left (\\pi \\right )}$$",
            "text/plain": [
              "cos(π)"
            ]
          },
          "metadata": {
            "tags": []
          },
          "execution_count": 28
        }
      ]
    },
    {
      "cell_type": "markdown",
      "metadata": {
        "id": "BSm_ot9hC5a1",
        "colab_type": "text"
      },
      "source": [
        "## 例11: 級数の和 Sum of a series\n",
        "sum()という関数がすでにあるので、記号演算用では大文字からはじまるSum()を使います。積はProductです。doit()という謎の関数を入れないと、式を解釈してくれないようです。\n",
        "\n",
        "The summation function in Sympy is named `Sum()` (starting with a capital) to avoid overriding the system-defined `sum()` function in python.  `Product()` products the values.  Note that `doit()` method seems to be required."
      ]
    },
    {
      "cell_type": "code",
      "metadata": {
        "id": "e-2pOoQzC5a1",
        "colab_type": "code",
        "colab": {
          "base_uri": "https://localhost:8080/",
          "height": 39
        },
        "outputId": "3fa0c291-e7f6-4c88-ca1e-e6a9e0980423"
      },
      "source": [
        "Sum(i**3,(i,1,n))"
      ],
      "execution_count": null,
      "outputs": [
        {
          "output_type": "display_data",
          "data": {
            "text/html": [
              "<script src='https://colab.research.google.com/static/mathjax/MathJax.js?config=TeX-MML-AM_HTMLorMML'></script>"
            ],
            "text/plain": [
              "<IPython.core.display.HTML object>"
            ]
          },
          "metadata": {
            "tags": []
          }
        },
        {
          "output_type": "execute_result",
          "data": {
            "text/latex": "$$\\sum_{i=1}^{n} i^{3}$$",
            "text/plain": [
              "  n     \n",
              " ___    \n",
              " ╲      \n",
              "  ╲    3\n",
              "  ╱   i \n",
              " ╱      \n",
              " ‾‾‾    \n",
              "i = 1   "
            ]
          },
          "metadata": {
            "tags": []
          },
          "execution_count": 29
        }
      ]
    },
    {
      "cell_type": "code",
      "metadata": {
        "scrolled": true,
        "id": "gX8BU62-C5a4",
        "colab_type": "code",
        "colab": {
          "base_uri": "https://localhost:8080/",
          "height": 41
        },
        "outputId": "2bf5608e-b07d-41b5-edc5-6d02a4954fdf"
      },
      "source": [
        "Sum(i**3,(i,1,n)).doit()"
      ],
      "execution_count": null,
      "outputs": [
        {
          "output_type": "display_data",
          "data": {
            "text/html": [
              "<script src='https://colab.research.google.com/static/mathjax/MathJax.js?config=TeX-MML-AM_HTMLorMML'></script>"
            ],
            "text/plain": [
              "<IPython.core.display.HTML object>"
            ]
          },
          "metadata": {
            "tags": []
          }
        },
        {
          "output_type": "execute_result",
          "data": {
            "text/latex": "$$\\frac{n^{4}}{4} + \\frac{n^{3}}{2} + \\frac{n^{2}}{4}$$",
            "text/plain": [
              " 4    3    2\n",
              "n    n    n \n",
              "── + ── + ──\n",
              "4    2    4 "
            ]
          },
          "metadata": {
            "tags": []
          },
          "execution_count": 30
        }
      ]
    },
    {
      "cell_type": "code",
      "metadata": {
        "id": "sjMRrWBAC5a6",
        "colab_type": "code",
        "colab": {
          "base_uri": "https://localhost:8080/",
          "height": 41
        },
        "outputId": "5cd46982-7c97-4fd4-afbf-efc2aef15728"
      },
      "source": [
        "Sum(i**3,(i,1,n)).doit().factor()"
      ],
      "execution_count": null,
      "outputs": [
        {
          "output_type": "display_data",
          "data": {
            "text/html": [
              "<script src='https://colab.research.google.com/static/mathjax/MathJax.js?config=TeX-MML-AM_HTMLorMML'></script>"
            ],
            "text/plain": [
              "<IPython.core.display.HTML object>"
            ]
          },
          "metadata": {
            "tags": []
          }
        },
        {
          "output_type": "execute_result",
          "data": {
            "text/latex": "$$\\frac{n^{2}}{4} \\left(n + 1\\right)^{2}$$",
            "text/plain": [
              " 2        2\n",
              "n ⋅(n + 1) \n",
              "───────────\n",
              "     4     "
            ]
          },
          "metadata": {
            "tags": []
          },
          "execution_count": 31
        }
      ]
    },
    {
      "cell_type": "code",
      "metadata": {
        "id": "PWaKv1StC5a8",
        "colab_type": "code",
        "colab": {
          "base_uri": "https://localhost:8080/",
          "height": 39
        },
        "outputId": "56ac69f6-80dc-485e-a312-dd97d8f9963d"
      },
      "source": [
        "Product(i,(i,1,n)).doit()"
      ],
      "execution_count": null,
      "outputs": [
        {
          "output_type": "display_data",
          "data": {
            "text/html": [
              "<script src='https://colab.research.google.com/static/mathjax/MathJax.js?config=TeX-MML-AM_HTMLorMML'></script>"
            ],
            "text/plain": [
              "<IPython.core.display.HTML object>"
            ]
          },
          "metadata": {
            "tags": []
          }
        },
        {
          "output_type": "execute_result",
          "data": {
            "text/latex": "$$n!$$",
            "text/plain": [
              "n!"
            ]
          },
          "metadata": {
            "tags": []
          },
          "execution_count": 32
        }
      ]
    },
    {
      "cell_type": "markdown",
      "metadata": {
        "id": "0izCAuZYC5a-",
        "colab_type": "text"
      },
      "source": [
        "## 例12: 多倍長実数 Long floating-point value\n",
        "pythonではもともと整数は何桁でも計算できましたが、sympyを使うと実数も桁数の制限がなくなるようです。\n",
        "\n",
        "The python language can handle long integers by default, but we can also handle long floats with Sympy."
      ]
    },
    {
      "cell_type": "code",
      "metadata": {
        "id": "zdxFvwgRC5a-",
        "colab_type": "code",
        "colab": {
          "base_uri": "https://localhost:8080/",
          "height": 37
        },
        "outputId": "41e46bdf-7723-43c4-f9e4-f918b6f579b2"
      },
      "source": [
        "sqrt(2)"
      ],
      "execution_count": null,
      "outputs": [
        {
          "output_type": "display_data",
          "data": {
            "text/html": [
              "<script src='https://colab.research.google.com/static/mathjax/MathJax.js?config=TeX-MML-AM_HTMLorMML'></script>"
            ],
            "text/plain": [
              "<IPython.core.display.HTML object>"
            ]
          },
          "metadata": {
            "tags": []
          }
        },
        {
          "output_type": "execute_result",
          "data": {
            "text/latex": "$$\\sqrt{2}$$",
            "text/plain": [
              "√2"
            ]
          },
          "metadata": {
            "tags": []
          },
          "execution_count": 33
        }
      ]
    },
    {
      "cell_type": "markdown",
      "metadata": {
        "id": "PfAZPYFnC5bD",
        "colab_type": "text"
      },
      "source": [
        "数値(近似値)が使いたい場合は、evalf()で式の数値化を行います。\n",
        "\n",
        "If you want to get the (approximated) digits, use `evalf()` to digitize it."
      ]
    },
    {
      "cell_type": "code",
      "metadata": {
        "id": "nN42dmsgC5bD",
        "colab_type": "code",
        "colab": {
          "base_uri": "https://localhost:8080/",
          "height": 37
        },
        "outputId": "6676ff7d-717d-4cf1-f452-4cf953ad95f3"
      },
      "source": [
        "sqrt(2).evalf()"
      ],
      "execution_count": null,
      "outputs": [
        {
          "output_type": "display_data",
          "data": {
            "text/html": [
              "<script src='https://colab.research.google.com/static/mathjax/MathJax.js?config=TeX-MML-AM_HTMLorMML'></script>"
            ],
            "text/plain": [
              "<IPython.core.display.HTML object>"
            ]
          },
          "metadata": {
            "tags": []
          }
        },
        {
          "output_type": "execute_result",
          "data": {
            "text/latex": "$$1.4142135623731$$",
            "text/plain": [
              "1.41421356237310"
            ]
          },
          "metadata": {
            "tags": []
          },
          "execution_count": 34
        }
      ]
    },
    {
      "cell_type": "markdown",
      "metadata": {
        "id": "NXiCbp1WC5bF",
        "colab_type": "text"
      },
      "source": [
        "evalfには桁数が指定できます。ということは?\n",
        "\n",
        "You can specify the number of digits in `evalf()` function. So what?"
      ]
    },
    {
      "cell_type": "code",
      "metadata": {
        "id": "me_LA03mC5bG",
        "colab_type": "code",
        "colab": {
          "base_uri": "https://localhost:8080/",
          "height": 57
        },
        "outputId": "957f83d6-4ed4-4ec9-bb3b-983bfde03bc8"
      },
      "source": [
        "sqrt(2).evalf(1000)"
      ],
      "execution_count": null,
      "outputs": [
        {
          "output_type": "display_data",
          "data": {
            "text/html": [
              "<script src='https://colab.research.google.com/static/mathjax/MathJax.js?config=TeX-MML-AM_HTMLorMML'></script>"
            ],
            "text/plain": [
              "<IPython.core.display.HTML object>"
            ]
          },
          "metadata": {
            "tags": []
          }
        },
        {
          "output_type": "execute_result",
          "data": {
            "text/latex": "$$1.414213562373095048801688724209698078569671875376948073176679737990732478462107038850387534327641572735013846230912297024924836055850737212644121497099935831413222665927505592755799950501152782060571470109559971605970274534596862014728517418640889198609552329230484308714321450839762603627995251407989687253396546331808829640620615258352395054745750287759961729835575220337531857011354374603408498847160386899970699004815030544027790316454247823068492936918621580578463111596668713013015618568987237235288509264861249497715421833420428568606014682472077143585487415565706967765372022648544701585880162075847492265722600208558446652145839889394437092659180031138824646815708263010059485870400318648034219489727829064104507263688131373985525611732204024509122770022694112757362728049573810896750401836986836845072579936472906076299694138047565482372899718032680247442062926912485905218100445984215059112024944134172853147810580360337107730918286931471017111168391658172688941975871658215212822951848847$$",
            "text/plain": [
              "1.4142135623730950488016887242096980785696718753769480731766797379907324784621\n",
              "070388503875343276415727350138462309122970249248360558507372126441214970999358\n",
              "314132226659275055927557999505011527820605714701095599716059702745345968620147\n",
              "285174186408891986095523292304843087143214508397626036279952514079896872533965\n",
              "463318088296406206152583523950547457502877599617298355752203375318570113543746\n",
              "034084988471603868999706990048150305440277903164542478230684929369186215805784\n",
              "631115966687130130156185689872372352885092648612494977154218334204285686060146\n",
              "824720771435854874155657069677653720226485447015858801620758474922657226002085\n",
              "584466521458398893944370926591800311388246468157082630100594858704003186480342\n",
              "194897278290641045072636881313739855256117322040245091227700226941127573627280\n",
              "495738108967504018369868368450725799364729060762996941380475654823728997180326\n",
              "802474420629269124859052181004459842150591120249441341728531478105803603371077\n",
              "30918286931471017111168391658172688941975871658215212822951848847"
            ]
          },
          "metadata": {
            "tags": []
          },
          "execution_count": 35
        }
      ]
    },
    {
      "cell_type": "markdown",
      "metadata": {
        "id": "YAaUuN2f3rNu",
        "colab_type": "text"
      },
      "source": [
        "## 例13 数式の関数化\n",
        "\n",
        "Sympyはエレガントに解析的な数式処理を行います。そうして得られた式を、数値計算に使うために、あらためて数式をPythonやFortranの関数として書きなおすのは面倒ですよね。\n",
        "\n",
        "これを自動化するための関数が準備されています。(続く)"
      ]
    },
    {
      "cell_type": "code",
      "metadata": {
        "id": "YNamN3uA5MeJ",
        "colab_type": "code",
        "colab": {
          "base_uri": "https://localhost:8080/",
          "height": 39
        },
        "outputId": "95eb8895-8f7e-4379-99f2-ebdc568a0818"
      },
      "source": [
        "ans = solve(a*x**2+b*x+c, x)\n",
        "ans"
      ],
      "execution_count": null,
      "outputs": [
        {
          "output_type": "display_data",
          "data": {
            "text/html": [
              "<script src='https://colab.research.google.com/static/mathjax/MathJax.js?config=TeX-MML-AM_HTMLorMML'></script>"
            ],
            "text/plain": [
              "<IPython.core.display.HTML object>"
            ]
          },
          "metadata": {
            "tags": []
          }
        },
        {
          "output_type": "execute_result",
          "data": {
            "text/latex": "$$\\left [ \\frac{1}{2 a} \\left(- b + \\sqrt{- 4 a c + b^{2}}\\right), \\quad - \\frac{1}{2 a} \\left(b + \\sqrt{- 4 a c + b^{2}}\\right)\\right ]$$",
            "text/plain": [
              "⎡        _____________   ⎛       _____________⎞ ⎤\n",
              "⎢       ╱           2    ⎜      ╱           2 ⎟ ⎥\n",
              "⎢-b + ╲╱  -4⋅a⋅c + b    -⎝b + ╲╱  -4⋅a⋅c + b  ⎠ ⎥\n",
              "⎢─────────────────────, ────────────────────────⎥\n",
              "⎣         2⋅a                     2⋅a           ⎦"
            ]
          },
          "metadata": {
            "tags": []
          },
          "execution_count": 36
        }
      ]
    },
    {
      "cell_type": "code",
      "metadata": {
        "id": "EDMoG4Ie5lGI",
        "colab_type": "code",
        "colab": {
          "base_uri": "https://localhost:8080/",
          "height": 37
        },
        "outputId": "1d206968-3ceb-4f97-9843-184965003067"
      },
      "source": [
        "# lambdifyは、解析的な式をそのまま数値計算用の関数にします。\n",
        "solver = lambdify((a,b,c), ans)\n",
        "# solverは3つの引数(a,b,c)をもつ関数で、a*x**2+b*x+cの解2つを返します。\n",
        "solver(1,-3,2)"
      ],
      "execution_count": null,
      "outputs": [
        {
          "output_type": "display_data",
          "data": {
            "text/html": [
              "<script src='https://colab.research.google.com/static/mathjax/MathJax.js?config=TeX-MML-AM_HTMLorMML'></script>"
            ],
            "text/plain": [
              "<IPython.core.display.HTML object>"
            ]
          },
          "metadata": {
            "tags": []
          }
        },
        {
          "output_type": "execute_result",
          "data": {
            "text/latex": "$$\\left [ 2.0, \\quad 1.0\\right ]$$",
            "text/plain": [
              "[2.0, 1.0]"
            ]
          },
          "metadata": {
            "tags": []
          },
          "execution_count": 37
        }
      ]
    },
    {
      "cell_type": "markdown",
      "metadata": {
        "id": "EqryKIjJxLUV",
        "colab_type": "text"
      },
      "source": [
        "## 例14 行列\n",
        "\n",
        "行列のべき乗の一般解は、固有値と固有ベクトルから求められますが、Sympyを使えば途中の手間をすっとばして一般解を示してくれます。"
      ]
    },
    {
      "cell_type": "code",
      "metadata": {
        "id": "wQphU7jmxftu",
        "colab_type": "code",
        "colab": {
          "base_uri": "https://localhost:8080/",
          "height": 58
        },
        "outputId": "690adefd-6654-46a3-b147-f872faf4c786"
      },
      "source": [
        "from sympy import *\n",
        "\n",
        "M = Matrix([[2,1],[1,1]])\n",
        "M"
      ],
      "execution_count": null,
      "outputs": [
        {
          "output_type": "display_data",
          "data": {
            "text/html": [
              "<script src='https://colab.research.google.com/static/mathjax/MathJax.js?config=TeX-MML-AM_HTMLorMML'></script>"
            ],
            "text/plain": [
              "<IPython.core.display.HTML object>"
            ]
          },
          "metadata": {
            "tags": []
          }
        },
        {
          "output_type": "execute_result",
          "data": {
            "text/latex": "$$\\left[\\begin{matrix}2 & 1\\\\1 & 1\\end{matrix}\\right]$$",
            "text/plain": [
              "⎡2  1⎤\n",
              "⎢    ⎥\n",
              "⎣1  1⎦"
            ]
          },
          "metadata": {
            "tags": []
          },
          "execution_count": 38
        }
      ]
    },
    {
      "cell_type": "code",
      "metadata": {
        "id": "kBQaPZyZxt3W",
        "colab_type": "code",
        "colab": {
          "base_uri": "https://localhost:8080/",
          "height": 163
        },
        "outputId": "908c73b8-3a3a-475d-f303-56e4dd01acbd"
      },
      "source": [
        "n = Symbol('n')\n",
        "M**n"
      ],
      "execution_count": null,
      "outputs": [
        {
          "output_type": "display_data",
          "data": {
            "text/html": [
              "<script src='https://colab.research.google.com/static/mathjax/MathJax.js?config=TeX-MML-AM_HTMLorMML'></script>"
            ],
            "text/plain": [
              "<IPython.core.display.HTML object>"
            ]
          },
          "metadata": {
            "tags": []
          }
        },
        {
          "output_type": "execute_result",
          "data": {
            "text/latex": "$$\\left[\\begin{matrix}- \\frac{\\left(- \\frac{\\sqrt{5}}{2} + \\frac{3}{2}\\right)^{n}}{\\left(\\frac{1}{2} + \\frac{\\sqrt{5}}{2}\\right) \\left(\\frac{1}{- \\frac{\\sqrt{5}}{2} + \\frac{1}{2}} - \\frac{1}{\\frac{1}{2} + \\frac{\\sqrt{5}}{2}}\\right)} + \\frac{\\left(\\frac{\\sqrt{5}}{2} + \\frac{3}{2}\\right)^{n}}{\\left(- \\frac{\\sqrt{5}}{2} + \\frac{1}{2}\\right) \\left(\\frac{1}{- \\frac{\\sqrt{5}}{2} + \\frac{1}{2}} - \\frac{1}{\\frac{1}{2} + \\frac{\\sqrt{5}}{2}}\\right)} & - \\frac{\\left(- \\frac{\\sqrt{5}}{2} + \\frac{3}{2}\\right)^{n}}{\\left(\\frac{1}{2} + \\frac{\\sqrt{5}}{2}\\right) \\left(- \\frac{\\sqrt{5}}{2} + \\frac{1}{2}\\right) \\left(\\frac{1}{- \\frac{\\sqrt{5}}{2} + \\frac{1}{2}} - \\frac{1}{\\frac{1}{2} + \\frac{\\sqrt{5}}{2}}\\right)} + \\frac{\\left(\\frac{\\sqrt{5}}{2} + \\frac{3}{2}\\right)^{n}}{\\left(\\frac{1}{2} + \\frac{\\sqrt{5}}{2}\\right) \\left(- \\frac{\\sqrt{5}}{2} + \\frac{1}{2}\\right) \\left(\\frac{1}{- \\frac{\\sqrt{5}}{2} + \\frac{1}{2}} - \\frac{1}{\\frac{1}{2} + \\frac{\\sqrt{5}}{2}}\\right)}\\\\\\frac{\\left(- \\frac{\\sqrt{5}}{2} + \\frac{3}{2}\\right)^{n}}{\\frac{1}{- \\frac{\\sqrt{5}}{2} + \\frac{1}{2}} - \\frac{1}{\\frac{1}{2} + \\frac{\\sqrt{5}}{2}}} - \\frac{\\left(\\frac{\\sqrt{5}}{2} + \\frac{3}{2}\\right)^{n}}{\\frac{1}{- \\frac{\\sqrt{5}}{2} + \\frac{1}{2}} - \\frac{1}{\\frac{1}{2} + \\frac{\\sqrt{5}}{2}}} & \\frac{\\left(- \\frac{\\sqrt{5}}{2} + \\frac{3}{2}\\right)^{n}}{\\left(- \\frac{\\sqrt{5}}{2} + \\frac{1}{2}\\right) \\left(\\frac{1}{- \\frac{\\sqrt{5}}{2} + \\frac{1}{2}} - \\frac{1}{\\frac{1}{2} + \\frac{\\sqrt{5}}{2}}\\right)} - \\frac{\\left(\\frac{\\sqrt{5}}{2} + \\frac{3}{2}\\right)^{n}}{\\left(\\frac{1}{2} + \\frac{\\sqrt{5}}{2}\\right) \\left(\\frac{1}{- \\frac{\\sqrt{5}}{2} + \\frac{1}{2}} - \\frac{1}{\\frac{1}{2} + \\frac{\\sqrt{5}}{2}}\\right)}\\end{matrix}\\right]$$",
            "text/plain": [
              "⎡                    n                              n                         \n",
              "⎢          ⎛  √5   3⎞                       ⎛√5   3⎞                          \n",
              "⎢          ⎜- ── + ─⎟                       ⎜── + ─⎟                          \n",
              "⎢          ⎝  2    2⎠                       ⎝2    2⎠                          \n",
              "⎢- ──────────────────────────── + ──────────────────────────────  - ──────────\n",
              "⎢  ⎛1   √5⎞ ⎛   1         1   ⎞   ⎛  √5   1⎞ ⎛   1         1   ⎞    ⎛1   √5⎞ ⎛\n",
              "⎢  ⎜─ + ──⎟⋅⎜──────── - ──────⎟   ⎜- ── + ─⎟⋅⎜──────── - ──────⎟    ⎜─ + ──⎟⋅⎜\n",
              "⎢  ⎝2   2 ⎠ ⎜  √5   1   1   √5⎟   ⎝  2    2⎠ ⎜  √5   1   1   √5⎟    ⎝2   2 ⎠ ⎝\n",
              "⎢           ⎜- ── + ─   ─ + ──⎟              ⎜- ── + ─   ─ + ──⎟              \n",
              "⎢           ⎝  2    2   2   2 ⎠              ⎝  2    2   2   2 ⎠              \n",
              "⎢                                                                             \n",
              "⎢                          n                  n                               \n",
              "⎢                ⎛  √5   3⎞           ⎛√5   3⎞                                \n",
              "⎢                ⎜- ── + ─⎟           ⎜── + ─⎟                                \n",
              "⎢                ⎝  2    2⎠           ⎝2    2⎠                                \n",
              "⎢             ───────────────── - ─────────────────                          ─\n",
              "⎢                1         1         1         1                             ⎛\n",
              "⎢             ──────── - ──────   ──────── - ──────                          ⎜\n",
              "⎢               √5   1   1   √5     √5   1   1   √5                          ⎝\n",
              "⎢             - ── + ─   ─ + ──   - ── + ─   ─ + ──                           \n",
              "⎣               2    2   2   2      2    2   2   2                            \n",
              "\n",
              "              n                                        n               ⎤\n",
              "    ⎛  √5   3⎞                                 ⎛√5   3⎞                ⎥\n",
              "    ⎜- ── + ─⎟                                 ⎜── + ─⎟                ⎥\n",
              "    ⎝  2    2⎠                                 ⎝2    2⎠                ⎥\n",
              "───────────────────────────── + ───────────────────────────────────────⎥\n",
              "  √5   1⎞ ⎛   1         1   ⎞   ⎛1   √5⎞ ⎛  √5   1⎞ ⎛   1         1   ⎞⎥\n",
              "- ── + ─⎟⋅⎜──────── - ──────⎟   ⎜─ + ──⎟⋅⎜- ── + ─⎟⋅⎜──────── - ──────⎟⎥\n",
              "  2    2⎠ ⎜  √5   1   1   √5⎟   ⎝2   2 ⎠ ⎝  2    2⎠ ⎜  √5   1   1   √5⎟⎥\n",
              "          ⎜- ── + ─   ─ + ──⎟                       ⎜- ── + ─   ─ + ──⎟⎥\n",
              "          ⎝  2    2   2   2 ⎠                       ⎝  2    2   2   2 ⎠⎥\n",
              "                                                                       ⎥\n",
              "                  n                              n                     ⎥\n",
              "        ⎛  √5   3⎞                       ⎛√5   3⎞                      ⎥\n",
              "        ⎜- ── + ─⎟                       ⎜── + ─⎟                      ⎥\n",
              "        ⎝  2    2⎠                       ⎝2    2⎠                      ⎥\n",
              "───────────────────────────── - ────────────────────────────           ⎥\n",
              "  √5   1⎞ ⎛   1         1   ⎞   ⎛1   √5⎞ ⎛   1         1   ⎞           ⎥\n",
              "- ── + ─⎟⋅⎜──────── - ──────⎟   ⎜─ + ──⎟⋅⎜──────── - ──────⎟           ⎥\n",
              "  2    2⎠ ⎜  √5   1   1   √5⎟   ⎝2   2 ⎠ ⎜  √5   1   1   √5⎟           ⎥\n",
              "          ⎜- ── + ─   ─ + ──⎟            ⎜- ── + ─   ─ + ──⎟           ⎥\n",
              "          ⎝  2    2   2   2 ⎠            ⎝  2    2   2   2 ⎠           ⎦"
            ]
          },
          "metadata": {
            "tags": []
          },
          "execution_count": 39
        }
      ]
    },
    {
      "cell_type": "markdown",
      "metadata": {
        "id": "uD7F7kyFz_MA",
        "colab_type": "text"
      },
      "source": [
        "もちろん、定数乗はもっとシンプル。"
      ]
    },
    {
      "cell_type": "code",
      "metadata": {
        "id": "dI6FJYXryE6g",
        "colab_type": "code",
        "colab": {
          "base_uri": "https://localhost:8080/",
          "height": 58
        },
        "outputId": "f0421669-6fa6-4c37-8d99-3fab65b2f9bd"
      },
      "source": [
        "M**5"
      ],
      "execution_count": null,
      "outputs": [
        {
          "output_type": "display_data",
          "data": {
            "text/html": [
              "<script src='https://colab.research.google.com/static/mathjax/MathJax.js?config=TeX-MML-AM_HTMLorMML'></script>"
            ],
            "text/plain": [
              "<IPython.core.display.HTML object>"
            ]
          },
          "metadata": {
            "tags": []
          }
        },
        {
          "output_type": "execute_result",
          "data": {
            "text/latex": "$$\\left[\\begin{matrix}89 & 55\\\\55 & 34\\end{matrix}\\right]$$",
            "text/plain": [
              "⎡89  55⎤\n",
              "⎢      ⎥\n",
              "⎣55  34⎦"
            ]
          },
          "metadata": {
            "tags": []
          },
          "execution_count": 40
        }
      ]
    },
    {
      "cell_type": "markdown",
      "metadata": {
        "id": "xvQNJteWC5bI",
        "colab_type": "text"
      },
      "source": [
        "マニュアルを読んでいると、ほかにいくらでも面白い機能が見付かります。これだけで半期の講義ができそうです。\n",
        "\n",
        "There are plenty of interesting usages in the manual.  It would take two quarters to introduce all the Sympy features.\n",
        "\n",
        "\n",
        "せっかく数式操作ができるようになったので、記号演算でないと難しそうな問題を解いてみましょう。\n",
        "\n",
        "Let's practice for more realistic problems.\n",
        "\n",
        "## 練習問題1 マクローリン展開 Exercise1: Maclaurin expansion\n",
        "sin(x)のマクローリン展開を試してみます。\n",
        "\n",
        "Let's expand the sin(x) function.\n",
        "$$f(x)=f(0)+x f'(0)+\\frac{x^2}{2!}f''(0)+\\frac{x^3}{3!}f'''(0)+\\frac{x^4}{4!}f''''(0)+\\frac{x^5}{5!}f'''''(0)+...$$\n",
        "まずは1、2、3、0次の係数を書き下します。階乗x!はfactorial(x)で計算できるようです。\n",
        "\n",
        "Write down the coefficients for the 0th to 3rd element of the series."
      ]
    },
    {
      "cell_type": "code",
      "metadata": {
        "id": "XC7HXEOcC5bJ",
        "colab_type": "code",
        "colab": {
          "base_uri": "https://localhost:8080/",
          "height": 37
        },
        "outputId": "a924c9c3-40d0-44a1-c3b5-60ccfc3645b2"
      },
      "source": [
        "sin(x).diff(x,1).subs(x,0) / factorial(1)"
      ],
      "execution_count": null,
      "outputs": [
        {
          "output_type": "display_data",
          "data": {
            "text/html": [
              "<script src='https://colab.research.google.com/static/mathjax/MathJax.js?config=TeX-MML-AM_HTMLorMML'></script>"
            ],
            "text/plain": [
              "<IPython.core.display.HTML object>"
            ]
          },
          "metadata": {
            "tags": []
          }
        },
        {
          "output_type": "execute_result",
          "data": {
            "text/latex": "$$1$$",
            "text/plain": [
              "1"
            ]
          },
          "metadata": {
            "tags": []
          },
          "execution_count": 41
        }
      ]
    },
    {
      "cell_type": "code",
      "metadata": {
        "id": "oOSsbbjBC5bL",
        "colab_type": "code",
        "colab": {
          "base_uri": "https://localhost:8080/",
          "height": 37
        },
        "outputId": "947c3daa-a288-4740-d0bf-bac57c807e67"
      },
      "source": [
        "sin(x).diff(x,2).subs(x,0) / factorial(2)"
      ],
      "execution_count": null,
      "outputs": [
        {
          "output_type": "display_data",
          "data": {
            "text/html": [
              "<script src='https://colab.research.google.com/static/mathjax/MathJax.js?config=TeX-MML-AM_HTMLorMML'></script>"
            ],
            "text/plain": [
              "<IPython.core.display.HTML object>"
            ]
          },
          "metadata": {
            "tags": []
          }
        },
        {
          "output_type": "execute_result",
          "data": {
            "text/latex": "$$0$$",
            "text/plain": [
              "0"
            ]
          },
          "metadata": {
            "tags": []
          },
          "execution_count": 42
        }
      ]
    },
    {
      "cell_type": "code",
      "metadata": {
        "id": "pUBCHoSgC5bN",
        "colab_type": "code",
        "colab": {
          "base_uri": "https://localhost:8080/",
          "height": 39
        },
        "outputId": "148586f7-75bc-4463-c889-a374034496e5"
      },
      "source": [
        "sin(x).diff(x,3).subs(x,0) / factorial(3)"
      ],
      "execution_count": null,
      "outputs": [
        {
          "output_type": "display_data",
          "data": {
            "text/html": [
              "<script src='https://colab.research.google.com/static/mathjax/MathJax.js?config=TeX-MML-AM_HTMLorMML'></script>"
            ],
            "text/plain": [
              "<IPython.core.display.HTML object>"
            ]
          },
          "metadata": {
            "tags": []
          }
        },
        {
          "output_type": "execute_result",
          "data": {
            "text/latex": "$$- \\frac{1}{6}$$",
            "text/plain": [
              "-1/6"
            ]
          },
          "metadata": {
            "tags": []
          },
          "execution_count": 43
        }
      ]
    },
    {
      "cell_type": "code",
      "metadata": {
        "id": "Pe08mB2jC5bQ",
        "colab_type": "code",
        "colab": {
          "base_uri": "https://localhost:8080/",
          "height": 37
        },
        "outputId": "204f8bf8-f184-4591-e8e3-d0f5076ff8cb"
      },
      "source": [
        "sin(x).diff(x,0).subs(x,0) / factorial(0)"
      ],
      "execution_count": null,
      "outputs": [
        {
          "output_type": "display_data",
          "data": {
            "text/html": [
              "<script src='https://colab.research.google.com/static/mathjax/MathJax.js?config=TeX-MML-AM_HTMLorMML'></script>"
            ],
            "text/plain": [
              "<IPython.core.display.HTML object>"
            ]
          },
          "metadata": {
            "tags": []
          }
        },
        {
          "output_type": "execute_result",
          "data": {
            "text/latex": "$$0$$",
            "text/plain": [
              "0"
            ]
          },
          "metadata": {
            "tags": []
          },
          "execution_count": 44
        }
      ]
    },
    {
      "cell_type": "markdown",
      "metadata": {
        "id": "vwYJF1hMC5bj",
        "colab_type": "text"
      },
      "source": [
        "これを繰り返しを使って6階までべたで書いてみると、"
      ]
    },
    {
      "cell_type": "code",
      "metadata": {
        "scrolled": true,
        "id": "XB7f7cyJC5bj",
        "colab_type": "code",
        "colab": {
          "base_uri": "https://localhost:8080/",
          "height": 41
        },
        "outputId": "b899f2b7-c658-455a-e667-cea1181c5107"
      },
      "source": [
        "x = Symbol('x')\n",
        "( x**0 * (sin(x).diff(x,0).subs(x,0)) / factorial(0)\n",
        " +x**1 * (sin(x).diff(x,1).subs(x,0)) / factorial(1)\n",
        " +x**2 * (sin(x).diff(x,2).subs(x,0)) / factorial(2)\n",
        " +x**3 * (sin(x).diff(x,3).subs(x,0)) / factorial(3)\n",
        " +x**4 * (sin(x).diff(x,4).subs(x,0)) / factorial(4)\n",
        " +x**5 * (sin(x).diff(x,5).subs(x,0)) / factorial(5)\n",
        " +x**6 * (sin(x).diff(x,6).subs(x,0)) / factorial(6) )"
      ],
      "execution_count": null,
      "outputs": [
        {
          "output_type": "display_data",
          "data": {
            "text/html": [
              "<script src='https://colab.research.google.com/static/mathjax/MathJax.js?config=TeX-MML-AM_HTMLorMML'></script>"
            ],
            "text/plain": [
              "<IPython.core.display.HTML object>"
            ]
          },
          "metadata": {
            "tags": []
          }
        },
        {
          "output_type": "execute_result",
          "data": {
            "text/latex": "$$\\frac{x^{5}}{120} - \\frac{x^{3}}{6} + x$$",
            "text/plain": [
              "  5    3    \n",
              " x    x     \n",
              "─── - ── + x\n",
              "120   6     "
            ]
          },
          "metadata": {
            "tags": []
          },
          "execution_count": 45
        }
      ]
    },
    {
      "cell_type": "markdown",
      "metadata": {
        "id": "pfJyBUp5C5bm",
        "colab_type": "text"
      },
      "source": [
        "Sumを使って書くなら、\n",
        "\n",
        "Can we write it with `Sum()`?"
      ]
    },
    {
      "cell_type": "code",
      "metadata": {
        "scrolled": true,
        "id": "2R0iHzxoC5bn",
        "colab_type": "code",
        "colab": {
          "base_uri": "https://localhost:8080/",
          "height": 39
        },
        "outputId": "2e99dff5-cc01-4c44-abfd-d678aabae2ed"
      },
      "source": [
        "Sum(x**n * (sin(x).diff(x,n).subs(x,0)) / factorial(n), (n,0,6))"
      ],
      "execution_count": null,
      "outputs": [
        {
          "output_type": "display_data",
          "data": {
            "text/html": [
              "<script src='https://colab.research.google.com/static/mathjax/MathJax.js?config=TeX-MML-AM_HTMLorMML'></script>"
            ],
            "text/plain": [
              "<IPython.core.display.HTML object>"
            ]
          },
          "metadata": {
            "tags": []
          }
        },
        {
          "output_type": "execute_result",
          "data": {
            "text/latex": "$$\\sum_{n=0}^{6} 0$$",
            "text/plain": [
              "  6    \n",
              " ___   \n",
              " ╲     \n",
              "  ╲   0\n",
              "  ╱    \n",
              " ╱     \n",
              " ‾‾‾   \n",
              "n = 0  "
            ]
          },
          "metadata": {
            "tags": []
          },
          "execution_count": 46
        }
      ]
    },
    {
      "cell_type": "markdown",
      "metadata": {
        "id": "DFKNnVgqC5bp",
        "colab_type": "text"
      },
      "source": [
        "うまくいきませんね。どうも、nも記号演算とみなしてしまうようです．\n",
        "\n",
        "Unsuccessful.  Probably `n` is also regarded as a Sympy variable.\n",
        "\n",
        "nはただの(pythonの)繰りかえし変数なので，通常のsumを使って書きます．\n",
        "\n",
        "We give up using `Sum()` and replace it with the normal loop feature of Python."
      ]
    },
    {
      "cell_type": "code",
      "metadata": {
        "scrolled": true,
        "id": "E_LLRI51C5bp",
        "colab_type": "code",
        "colab": {
          "base_uri": "https://localhost:8080/",
          "height": 47
        },
        "outputId": "6060d60e-cfd9-492c-fbd9-8ba1b69f1cb8"
      },
      "source": [
        "[x**n * (sin(x).diff(x,n).subs(x,0)) / factorial(n) for n in range(0,10+1)]"
      ],
      "execution_count": null,
      "outputs": [
        {
          "output_type": "display_data",
          "data": {
            "text/html": [
              "<script src='https://colab.research.google.com/static/mathjax/MathJax.js?config=TeX-MML-AM_HTMLorMML'></script>"
            ],
            "text/plain": [
              "<IPython.core.display.HTML object>"
            ]
          },
          "metadata": {
            "tags": []
          }
        },
        {
          "output_type": "execute_result",
          "data": {
            "text/latex": "$$\\left [ 0, \\quad x, \\quad 0, \\quad - \\frac{x^{3}}{6}, \\quad 0, \\quad \\frac{x^{5}}{120}, \\quad 0, \\quad - \\frac{x^{7}}{5040}, \\quad 0, \\quad \\frac{x^{9}}{362880}, \\quad 0\\right ]$$",
            "text/plain": [
              "⎡           3        5       7         9     ⎤\n",
              "⎢         -x        x      -x         x      ⎥\n",
              "⎢0, x, 0, ────, 0, ───, 0, ────, 0, ──────, 0⎥\n",
              "⎣          6       120     5040     362880   ⎦"
            ]
          },
          "metadata": {
            "tags": []
          },
          "execution_count": 47
        }
      ]
    },
    {
      "cell_type": "code",
      "metadata": {
        "id": "K5cC1lYiC5bs",
        "colab_type": "code",
        "colab": {
          "base_uri": "https://localhost:8080/",
          "height": 41
        },
        "outputId": "f32d099a-7fad-4b47-f974-9c315d3ce6bc"
      },
      "source": [
        "sum([x**n * (sin(x).diff(x,n).subs(x,0)) / factorial(n) for n in range(0,10+1)])"
      ],
      "execution_count": null,
      "outputs": [
        {
          "output_type": "display_data",
          "data": {
            "text/html": [
              "<script src='https://colab.research.google.com/static/mathjax/MathJax.js?config=TeX-MML-AM_HTMLorMML'></script>"
            ],
            "text/plain": [
              "<IPython.core.display.HTML object>"
            ]
          },
          "metadata": {
            "tags": []
          }
        },
        {
          "output_type": "execute_result",
          "data": {
            "text/latex": "$$\\frac{x^{9}}{362880} - \\frac{x^{7}}{5040} + \\frac{x^{5}}{120} - \\frac{x^{3}}{6} + x$$",
            "text/plain": [
              "   9       7      5    3    \n",
              "  x       x      x    x     \n",
              "────── - ──── + ─── - ── + x\n",
              "362880   5040   120   6     "
            ]
          },
          "metadata": {
            "tags": []
          },
          "execution_count": 48
        }
      ]
    },
    {
      "cell_type": "markdown",
      "metadata": {
        "id": "pSvErdomC5bu",
        "colab_type": "text"
      },
      "source": [
        "実は、Taylor展開する関数seriesが定義されていました。\n",
        "\n",
        "It is found that the series function is alread defined in Sympy."
      ]
    },
    {
      "cell_type": "code",
      "metadata": {
        "scrolled": true,
        "id": "2uXNAbDbC5bu",
        "colab_type": "code",
        "colab": {
          "base_uri": "https://localhost:8080/",
          "height": 41
        },
        "outputId": "f63486cb-d9e9-432c-c4a7-260d2d748197"
      },
      "source": [
        "series(exp(x),x)   #Maclaurin expansion"
      ],
      "execution_count": null,
      "outputs": [
        {
          "output_type": "display_data",
          "data": {
            "text/html": [
              "<script src='https://colab.research.google.com/static/mathjax/MathJax.js?config=TeX-MML-AM_HTMLorMML'></script>"
            ],
            "text/plain": [
              "<IPython.core.display.HTML object>"
            ]
          },
          "metadata": {
            "tags": []
          }
        },
        {
          "output_type": "execute_result",
          "data": {
            "text/latex": "$$1 + x + \\frac{x^{2}}{2} + \\frac{x^{3}}{6} + \\frac{x^{4}}{24} + \\frac{x^{5}}{120} + \\mathcal{O}\\left(x^{6}\\right)$$",
            "text/plain": [
              "         2    3    4     5        \n",
              "        x    x    x     x     ⎛ 6⎞\n",
              "1 + x + ── + ── + ── + ─── + O⎝x ⎠\n",
              "        2    6    24   120        "
            ]
          },
          "metadata": {
            "tags": []
          },
          "execution_count": 49
        }
      ]
    },
    {
      "cell_type": "markdown",
      "metadata": {
        "id": "N24hMRHGC5bx",
        "colab_type": "text"
      },
      "source": [
        "## 宿題: van der Waals関数の臨界点\n",
        "## Homework: The critical point of van der Waals equation\n",
        "\n",
        "微分ができ、求解ができるので、変曲点を求めるのは簡単なはず。vdWの状態方程式は次のように書けます。\n",
        "\n",
        "We learnt the way to differentiate and solve the equations.  Therefore it must be used to find the critical point of the van der Waals equation as the inflection point of the function."
      ]
    },
    {
      "cell_type": "code",
      "metadata": {
        "id": "Iq3ZVOMqC5bx",
        "colab_type": "code",
        "colab": {
          "base_uri": "https://localhost:8080/",
          "height": 39
        },
        "outputId": "43067b7e-d969-4c05-a369-427e09090a44"
      },
      "source": [
        "from sympy import *\n",
        "from sympy.abc import *\n",
        "(p+a/V**2)*(V-b)-k*T"
      ],
      "execution_count": null,
      "outputs": [
        {
          "output_type": "display_data",
          "data": {
            "text/html": [
              "<script src='https://colab.research.google.com/static/mathjax/MathJax.js?config=TeX-MML-AM_HTMLorMML'></script>"
            ],
            "text/plain": [
              "<IPython.core.display.HTML object>"
            ]
          },
          "metadata": {
            "tags": []
          }
        },
        {
          "output_type": "execute_result",
          "data": {
            "text/latex": "$$- T k + \\left(V - b\\right) \\left(p + \\frac{a}{V^{2}}\\right)$$",
            "text/plain": [
              "               ⎛    a ⎞\n",
              "-T⋅k + (V - b)⋅⎜p + ──⎟\n",
              "               ⎜     2⎟\n",
              "               ⎝    V ⎠"
            ]
          },
          "metadata": {
            "tags": []
          },
          "execution_count": 3
        }
      ]
    },
    {
      "cell_type": "markdown",
      "metadata": {
        "id": "jT2nZU-EC5cB",
        "colab_type": "text"
      },
      "source": [
        "状態方程式の変曲点は、熱力学では臨界点と呼びます。体積変化に対して圧力が変動しないということは、圧縮率が無限大になり、体積が大きくゆらぐことを示唆しています。圧縮率が無限大ということはまた、音速が0になることを意味します。\n",
        "\n",
        "The inflection point of the state equation is called the critical point in thermodynamics.\n",
        "As we see above, $\\partial p/\\partial V$ becomes zero, i.e.,  the compressibility $\\partial V/\\partial p$ becomes infinite.\n",
        "At the critical point, the volume fluctuates greatly, and the sound velocity becomes zero.\n",
        "\n",
        "* van der Waals状態方程式の臨界点を求めて下さい。\n",
        "* それができたら、Redlich-Kwong状態方程式の臨界点に挑戦して下さい。(解けないかもしれません)"
      ]
    },
    {
      "cell_type": "code",
      "metadata": {
        "id": "CEbJvHurC5cB",
        "colab_type": "code",
        "colab": {
          "base_uri": "https://localhost:8080/",
          "height": 39
        },
        "outputId": "64e44cab-d1da-47e7-b64e-e5d4a4d16d67"
      },
      "source": [
        "from sympy import *\n",
        "from sympy.abc import *\n",
        "solve([(k*T/(V-b)-(a/V**2)).diff(V),(k*T/(V-b)-(a/V**2)).diff(V,2)],[V,T])"
      ],
      "execution_count": null,
      "outputs": [
        {
          "output_type": "display_data",
          "data": {
            "text/html": [
              "<script src='https://colab.research.google.com/static/mathjax/MathJax.js?config=TeX-MML-AM_HTMLorMML'></script>"
            ],
            "text/plain": [
              "<IPython.core.display.HTML object>"
            ]
          },
          "metadata": {
            "tags": []
          }
        },
        {
          "output_type": "execute_result",
          "data": {
            "text/latex": "$$\\left [ \\left ( 3 b, \\quad \\frac{8 a}{27 b k}\\right )\\right ]$$",
            "text/plain": [
              "⎡⎛      8⋅a  ⎞⎤\n",
              "⎢⎜3⋅b, ──────⎟⎥\n",
              "⎣⎝     27⋅b⋅k⎠⎦"
            ]
          },
          "metadata": {
            "tags": []
          },
          "execution_count": 14
        }
      ]
    },
    {
      "cell_type": "code",
      "metadata": {
        "id": "6ezpOy3H0un2",
        "colab_type": "code",
        "colab": {
          "base_uri": "https://localhost:8080/",
          "height": 39
        },
        "outputId": "468b6853-e2bf-452b-822b-8c44fb1e230a"
      },
      "source": [
        "(k*T/(V-b)-(a/V**2)).subs([(V,3*b),(T,8*a/(27*b*k))])"
      ],
      "execution_count": null,
      "outputs": [
        {
          "output_type": "display_data",
          "data": {
            "text/html": [
              "<script src='https://colab.research.google.com/static/mathjax/MathJax.js?config=TeX-MML-AM_HTMLorMML'></script>"
            ],
            "text/plain": [
              "<IPython.core.display.HTML object>"
            ]
          },
          "metadata": {
            "tags": []
          }
        },
        {
          "output_type": "execute_result",
          "data": {
            "text/latex": "$$\\frac{a}{27 b^{2}}$$",
            "text/plain": [
              "  a  \n",
              "─────\n",
              "    2\n",
              "27⋅b "
            ]
          },
          "metadata": {
            "tags": []
          },
          "execution_count": 21
        }
      ]
    },
    {
      "cell_type": "code",
      "metadata": {
        "id": "A-t8ZNCg2-IS",
        "colab_type": "code",
        "colab": {
          "base_uri": "https://localhost:8080/",
          "height": 353
        },
        "outputId": "53981ee1-6c03-4ba8-fe59-66fda12be1ee"
      },
      "source": [
        "from sympy import *\n",
        "from sympy.abc import *\n",
        "solve([(k*T/(V-b)-(a/(T**0.5*V*(V+b)))).diff(V),(k*T/(V-b)-(a/(T**0.5*V*(V+b)))).diff(V,2)],[V,T])"
      ],
      "execution_count": 1,
      "outputs": [
        {
          "output_type": "error",
          "ename": "KeyboardInterrupt",
          "evalue": "ignored",
          "traceback": [
            "\u001b[0;31m---------------------------------------------------------------------------\u001b[0m",
            "\u001b[0;31mKeyboardInterrupt\u001b[0m                         Traceback (most recent call last)",
            "\u001b[0;32m<ipython-input-1-8b78116dce7c>\u001b[0m in \u001b[0;36m<module>\u001b[0;34m()\u001b[0m\n\u001b[1;32m      1\u001b[0m \u001b[0;32mfrom\u001b[0m \u001b[0msympy\u001b[0m \u001b[0;32mimport\u001b[0m \u001b[0;34m*\u001b[0m\u001b[0;34m\u001b[0m\u001b[0;34m\u001b[0m\u001b[0m\n\u001b[1;32m      2\u001b[0m \u001b[0;32mfrom\u001b[0m \u001b[0msympy\u001b[0m\u001b[0;34m.\u001b[0m\u001b[0mabc\u001b[0m \u001b[0;32mimport\u001b[0m \u001b[0;34m*\u001b[0m\u001b[0;34m\u001b[0m\u001b[0;34m\u001b[0m\u001b[0m\n\u001b[0;32m----> 3\u001b[0;31m \u001b[0msolve\u001b[0m\u001b[0;34m(\u001b[0m\u001b[0;34m[\u001b[0m\u001b[0;34m(\u001b[0m\u001b[0mk\u001b[0m\u001b[0;34m*\u001b[0m\u001b[0mT\u001b[0m\u001b[0;34m/\u001b[0m\u001b[0;34m(\u001b[0m\u001b[0mV\u001b[0m\u001b[0;34m-\u001b[0m\u001b[0mb\u001b[0m\u001b[0;34m)\u001b[0m\u001b[0;34m-\u001b[0m\u001b[0;34m(\u001b[0m\u001b[0ma\u001b[0m\u001b[0;34m/\u001b[0m\u001b[0;34m(\u001b[0m\u001b[0mT\u001b[0m\u001b[0;34m**\u001b[0m\u001b[0;36m0.5\u001b[0m\u001b[0;34m*\u001b[0m\u001b[0mV\u001b[0m\u001b[0;34m*\u001b[0m\u001b[0;34m(\u001b[0m\u001b[0mV\u001b[0m\u001b[0;34m+\u001b[0m\u001b[0mb\u001b[0m\u001b[0;34m)\u001b[0m\u001b[0;34m)\u001b[0m\u001b[0;34m)\u001b[0m\u001b[0;34m)\u001b[0m\u001b[0;34m.\u001b[0m\u001b[0mdiff\u001b[0m\u001b[0;34m(\u001b[0m\u001b[0mV\u001b[0m\u001b[0;34m)\u001b[0m\u001b[0;34m,\u001b[0m\u001b[0;34m(\u001b[0m\u001b[0mk\u001b[0m\u001b[0;34m*\u001b[0m\u001b[0mT\u001b[0m\u001b[0;34m/\u001b[0m\u001b[0;34m(\u001b[0m\u001b[0mV\u001b[0m\u001b[0;34m-\u001b[0m\u001b[0mb\u001b[0m\u001b[0;34m)\u001b[0m\u001b[0;34m-\u001b[0m\u001b[0;34m(\u001b[0m\u001b[0ma\u001b[0m\u001b[0;34m/\u001b[0m\u001b[0;34m(\u001b[0m\u001b[0mT\u001b[0m\u001b[0;34m**\u001b[0m\u001b[0;36m0.5\u001b[0m\u001b[0;34m*\u001b[0m\u001b[0mV\u001b[0m\u001b[0;34m*\u001b[0m\u001b[0;34m(\u001b[0m\u001b[0mV\u001b[0m\u001b[0;34m+\u001b[0m\u001b[0mb\u001b[0m\u001b[0;34m)\u001b[0m\u001b[0;34m)\u001b[0m\u001b[0;34m)\u001b[0m\u001b[0;34m)\u001b[0m\u001b[0;34m.\u001b[0m\u001b[0mdiff\u001b[0m\u001b[0;34m(\u001b[0m\u001b[0mV\u001b[0m\u001b[0;34m,\u001b[0m\u001b[0;36m2\u001b[0m\u001b[0;34m)\u001b[0m\u001b[0;34m]\u001b[0m\u001b[0;34m,\u001b[0m\u001b[0;34m[\u001b[0m\u001b[0mV\u001b[0m\u001b[0;34m,\u001b[0m\u001b[0mT\u001b[0m\u001b[0;34m]\u001b[0m\u001b[0;34m)\u001b[0m\u001b[0;34m\u001b[0m\u001b[0;34m\u001b[0m\u001b[0m\n\u001b[0m",
            "\u001b[0;32m/usr/local/lib/python3.6/dist-packages/sympy/solvers/solvers.py\u001b[0m in \u001b[0;36msolve\u001b[0;34m(f, *symbols, **flags)\u001b[0m\n\u001b[1;32m   1065\u001b[0m         \u001b[0msolution\u001b[0m \u001b[0;34m=\u001b[0m \u001b[0m_solve\u001b[0m\u001b[0;34m(\u001b[0m\u001b[0mf\u001b[0m\u001b[0;34m[\u001b[0m\u001b[0;36m0\u001b[0m\u001b[0;34m]\u001b[0m\u001b[0;34m,\u001b[0m \u001b[0;34m*\u001b[0m\u001b[0msymbols\u001b[0m\u001b[0;34m,\u001b[0m \u001b[0;34m**\u001b[0m\u001b[0mflags\u001b[0m\u001b[0;34m)\u001b[0m\u001b[0;34m\u001b[0m\u001b[0;34m\u001b[0m\u001b[0m\n\u001b[1;32m   1066\u001b[0m     \u001b[0;32melse\u001b[0m\u001b[0;34m:\u001b[0m\u001b[0;34m\u001b[0m\u001b[0;34m\u001b[0m\u001b[0m\n\u001b[0;32m-> 1067\u001b[0;31m         \u001b[0msolution\u001b[0m \u001b[0;34m=\u001b[0m \u001b[0m_solve_system\u001b[0m\u001b[0;34m(\u001b[0m\u001b[0mf\u001b[0m\u001b[0;34m,\u001b[0m \u001b[0msymbols\u001b[0m\u001b[0;34m,\u001b[0m \u001b[0;34m**\u001b[0m\u001b[0mflags\u001b[0m\u001b[0;34m)\u001b[0m\u001b[0;34m\u001b[0m\u001b[0;34m\u001b[0m\u001b[0m\n\u001b[0m\u001b[1;32m   1068\u001b[0m \u001b[0;34m\u001b[0m\u001b[0m\n\u001b[1;32m   1069\u001b[0m     \u001b[0;31m#\u001b[0m\u001b[0;34m\u001b[0m\u001b[0;34m\u001b[0m\u001b[0;34m\u001b[0m\u001b[0m\n",
            "\u001b[0;32m/usr/local/lib/python3.6/dist-packages/sympy/solvers/solvers.py\u001b[0m in \u001b[0;36m_solve_system\u001b[0;34m(exprs, symbols, **flags)\u001b[0m\n\u001b[1;32m   1808\u001b[0m                 \u001b[0;32mfor\u001b[0m \u001b[0ms\u001b[0m \u001b[0;32min\u001b[0m \u001b[0mok_syms\u001b[0m\u001b[0;34m:\u001b[0m\u001b[0;34m\u001b[0m\u001b[0;34m\u001b[0m\u001b[0m\n\u001b[1;32m   1809\u001b[0m                     \u001b[0;32mtry\u001b[0m\u001b[0;34m:\u001b[0m\u001b[0;34m\u001b[0m\u001b[0;34m\u001b[0m\u001b[0m\n\u001b[0;32m-> 1810\u001b[0;31m                         \u001b[0msoln\u001b[0m \u001b[0;34m=\u001b[0m \u001b[0m_solve\u001b[0m\u001b[0;34m(\u001b[0m\u001b[0meq2\u001b[0m\u001b[0;34m,\u001b[0m \u001b[0ms\u001b[0m\u001b[0;34m,\u001b[0m \u001b[0;34m**\u001b[0m\u001b[0mflags\u001b[0m\u001b[0;34m)\u001b[0m\u001b[0;34m\u001b[0m\u001b[0;34m\u001b[0m\u001b[0m\n\u001b[0m\u001b[1;32m   1811\u001b[0m                     \u001b[0;32mexcept\u001b[0m \u001b[0mNotImplementedError\u001b[0m\u001b[0;34m:\u001b[0m\u001b[0;34m\u001b[0m\u001b[0;34m\u001b[0m\u001b[0m\n\u001b[1;32m   1812\u001b[0m                         \u001b[0;32mcontinue\u001b[0m\u001b[0;34m\u001b[0m\u001b[0;34m\u001b[0m\u001b[0m\n",
            "\u001b[0;32m/usr/local/lib/python3.6/dist-packages/sympy/solvers/solvers.py\u001b[0m in \u001b[0;36m_solve\u001b[0;34m(f, *symbols, **flags)\u001b[0m\n\u001b[1;32m   1598\u001b[0m         \u001b[0;32mif\u001b[0m \u001b[0mflags\u001b[0m\u001b[0;34m.\u001b[0m\u001b[0mpop\u001b[0m\u001b[0;34m(\u001b[0m\u001b[0;34m'_unrad'\u001b[0m\u001b[0;34m,\u001b[0m \u001b[0;32mTrue\u001b[0m\u001b[0;34m)\u001b[0m\u001b[0;34m:\u001b[0m\u001b[0;34m\u001b[0m\u001b[0;34m\u001b[0m\u001b[0m\n\u001b[1;32m   1599\u001b[0m             \u001b[0;32mtry\u001b[0m\u001b[0;34m:\u001b[0m\u001b[0;34m\u001b[0m\u001b[0;34m\u001b[0m\u001b[0m\n\u001b[0;32m-> 1600\u001b[0;31m                 \u001b[0mu\u001b[0m \u001b[0;34m=\u001b[0m \u001b[0munrad\u001b[0m\u001b[0;34m(\u001b[0m\u001b[0mf_num\u001b[0m\u001b[0;34m,\u001b[0m \u001b[0msymbol\u001b[0m\u001b[0;34m)\u001b[0m\u001b[0;34m\u001b[0m\u001b[0;34m\u001b[0m\u001b[0m\n\u001b[0m\u001b[1;32m   1601\u001b[0m             \u001b[0;32mexcept\u001b[0m \u001b[0;34m(\u001b[0m\u001b[0mValueError\u001b[0m\u001b[0;34m,\u001b[0m \u001b[0mNotImplementedError\u001b[0m\u001b[0;34m)\u001b[0m\u001b[0;34m:\u001b[0m\u001b[0;34m\u001b[0m\u001b[0;34m\u001b[0m\u001b[0m\n\u001b[1;32m   1602\u001b[0m                 \u001b[0mu\u001b[0m \u001b[0;34m=\u001b[0m \u001b[0;32mFalse\u001b[0m\u001b[0;34m\u001b[0m\u001b[0;34m\u001b[0m\u001b[0m\n",
            "\u001b[0;32m/usr/local/lib/python3.6/dist-packages/sympy/solvers/solvers.py\u001b[0m in \u001b[0;36munrad\u001b[0;34m(eq, *syms, **flags)\u001b[0m\n\u001b[1;32m   3221\u001b[0m     \u001b[0;31m# the output will depend on the order terms are processed, so\u001b[0m\u001b[0;34m\u001b[0m\u001b[0;34m\u001b[0m\u001b[0;34m\u001b[0m\u001b[0m\n\u001b[1;32m   3222\u001b[0m     \u001b[0;31m# make it canonical quickly\u001b[0m\u001b[0;34m\u001b[0m\u001b[0;34m\u001b[0m\u001b[0;34m\u001b[0m\u001b[0m\n\u001b[0;32m-> 3223\u001b[0;31m     \u001b[0mrterms\u001b[0m \u001b[0;34m=\u001b[0m \u001b[0mlist\u001b[0m\u001b[0;34m(\u001b[0m\u001b[0mreversed\u001b[0m\u001b[0;34m(\u001b[0m\u001b[0mlist\u001b[0m\u001b[0;34m(\u001b[0m\u001b[0mordered\u001b[0m\u001b[0;34m(\u001b[0m\u001b[0mrterms\u001b[0m\u001b[0;34m)\u001b[0m\u001b[0;34m)\u001b[0m\u001b[0;34m)\u001b[0m\u001b[0;34m)\u001b[0m\u001b[0;34m\u001b[0m\u001b[0;34m\u001b[0m\u001b[0m\n\u001b[0m\u001b[1;32m   3224\u001b[0m \u001b[0;34m\u001b[0m\u001b[0m\n\u001b[1;32m   3225\u001b[0m     \u001b[0mok\u001b[0m \u001b[0;34m=\u001b[0m \u001b[0;32mFalse\u001b[0m  \u001b[0;31m# we don't have a solution yet\u001b[0m\u001b[0;34m\u001b[0m\u001b[0;34m\u001b[0m\u001b[0m\n",
            "\u001b[0;32m/usr/local/lib/python3.6/dist-packages/sympy/core/compatibility.py\u001b[0m in \u001b[0;36mordered\u001b[0;34m(seq, keys, default, warn)\u001b[0m\n\u001b[1;32m    625\u001b[0m                     raise ValueError(\n\u001b[1;32m    626\u001b[0m                         'not enough keys to break ties: %s' % u)\n\u001b[0;32m--> 627\u001b[0;31m         \u001b[0;32mfor\u001b[0m \u001b[0mv\u001b[0m \u001b[0;32min\u001b[0m \u001b[0md\u001b[0m\u001b[0;34m[\u001b[0m\u001b[0mk\u001b[0m\u001b[0;34m]\u001b[0m\u001b[0;34m:\u001b[0m\u001b[0;34m\u001b[0m\u001b[0;34m\u001b[0m\u001b[0m\n\u001b[0m\u001b[1;32m    628\u001b[0m             \u001b[0;32myield\u001b[0m \u001b[0mv\u001b[0m\u001b[0;34m\u001b[0m\u001b[0;34m\u001b[0m\u001b[0m\n\u001b[1;32m    629\u001b[0m         \u001b[0md\u001b[0m\u001b[0;34m.\u001b[0m\u001b[0mpop\u001b[0m\u001b[0;34m(\u001b[0m\u001b[0mk\u001b[0m\u001b[0;34m)\u001b[0m\u001b[0;34m\u001b[0m\u001b[0;34m\u001b[0m\u001b[0m\n",
            "\u001b[0;32m/usr/local/lib/python3.6/dist-packages/sympy/core/compatibility.py\u001b[0m in \u001b[0;36mordered\u001b[0;34m(seq, keys, default, warn)\u001b[0m\n\u001b[1;32m    606\u001b[0m         \u001b[0mf\u001b[0m \u001b[0;34m=\u001b[0m \u001b[0mkeys\u001b[0m\u001b[0;34m.\u001b[0m\u001b[0mpop\u001b[0m\u001b[0;34m(\u001b[0m\u001b[0;36m0\u001b[0m\u001b[0;34m)\u001b[0m\u001b[0;34m\u001b[0m\u001b[0;34m\u001b[0m\u001b[0m\n\u001b[1;32m    607\u001b[0m         \u001b[0;32mfor\u001b[0m \u001b[0ma\u001b[0m \u001b[0;32min\u001b[0m \u001b[0mseq\u001b[0m\u001b[0;34m:\u001b[0m\u001b[0;34m\u001b[0m\u001b[0;34m\u001b[0m\u001b[0m\n\u001b[0;32m--> 608\u001b[0;31m             \u001b[0md\u001b[0m\u001b[0;34m[\u001b[0m\u001b[0mf\u001b[0m\u001b[0;34m(\u001b[0m\u001b[0ma\u001b[0m\u001b[0;34m)\u001b[0m\u001b[0;34m]\u001b[0m\u001b[0;34m.\u001b[0m\u001b[0mappend\u001b[0m\u001b[0;34m(\u001b[0m\u001b[0ma\u001b[0m\u001b[0;34m)\u001b[0m\u001b[0;34m\u001b[0m\u001b[0;34m\u001b[0m\u001b[0m\n\u001b[0m\u001b[1;32m    609\u001b[0m     \u001b[0;32melse\u001b[0m\u001b[0;34m:\u001b[0m\u001b[0;34m\u001b[0m\u001b[0;34m\u001b[0m\u001b[0m\n\u001b[1;32m    610\u001b[0m         \u001b[0;32mif\u001b[0m \u001b[0;32mnot\u001b[0m \u001b[0mdefault\u001b[0m\u001b[0;34m:\u001b[0m\u001b[0;34m\u001b[0m\u001b[0;34m\u001b[0m\u001b[0m\n",
            "\u001b[0;32m/usr/local/lib/python3.6/dist-packages/sympy/core/compatibility.py\u001b[0m in \u001b[0;36m_nodes\u001b[0;34m(e)\u001b[0m\n\u001b[1;32m    510\u001b[0m \u001b[0;34m\u001b[0m\u001b[0m\n\u001b[1;32m    511\u001b[0m     \u001b[0;32mif\u001b[0m \u001b[0misinstance\u001b[0m\u001b[0;34m(\u001b[0m\u001b[0me\u001b[0m\u001b[0;34m,\u001b[0m \u001b[0mBasic\u001b[0m\u001b[0;34m)\u001b[0m\u001b[0;34m:\u001b[0m\u001b[0;34m\u001b[0m\u001b[0;34m\u001b[0m\u001b[0m\n\u001b[0;32m--> 512\u001b[0;31m         \u001b[0;32mreturn\u001b[0m \u001b[0me\u001b[0m\u001b[0;34m.\u001b[0m\u001b[0mcount\u001b[0m\u001b[0;34m(\u001b[0m\u001b[0mBasic\u001b[0m\u001b[0;34m)\u001b[0m\u001b[0;34m\u001b[0m\u001b[0;34m\u001b[0m\u001b[0m\n\u001b[0m\u001b[1;32m    513\u001b[0m     \u001b[0;32melif\u001b[0m \u001b[0miterable\u001b[0m\u001b[0;34m(\u001b[0m\u001b[0me\u001b[0m\u001b[0;34m)\u001b[0m\u001b[0;34m:\u001b[0m\u001b[0;34m\u001b[0m\u001b[0;34m\u001b[0m\u001b[0m\n\u001b[1;32m    514\u001b[0m         \u001b[0;32mreturn\u001b[0m \u001b[0;36m1\u001b[0m \u001b[0;34m+\u001b[0m \u001b[0msum\u001b[0m\u001b[0;34m(\u001b[0m\u001b[0m_nodes\u001b[0m\u001b[0;34m(\u001b[0m\u001b[0mei\u001b[0m\u001b[0;34m)\u001b[0m \u001b[0;32mfor\u001b[0m \u001b[0mei\u001b[0m \u001b[0;32min\u001b[0m \u001b[0me\u001b[0m\u001b[0;34m)\u001b[0m\u001b[0;34m\u001b[0m\u001b[0;34m\u001b[0m\u001b[0m\n",
            "\u001b[0;32m/usr/local/lib/python3.6/dist-packages/sympy/core/basic.py\u001b[0m in \u001b[0;36mcount\u001b[0;34m(self, query)\u001b[0m\n\u001b[1;32m   1447\u001b[0m         \u001b[0;34m\"\"\"Count the number of matching subexpressions. \"\"\"\u001b[0m\u001b[0;34m\u001b[0m\u001b[0;34m\u001b[0m\u001b[0m\n\u001b[1;32m   1448\u001b[0m         \u001b[0mquery\u001b[0m \u001b[0;34m=\u001b[0m \u001b[0m_make_find_query\u001b[0m\u001b[0;34m(\u001b[0m\u001b[0mquery\u001b[0m\u001b[0;34m)\u001b[0m\u001b[0;34m\u001b[0m\u001b[0;34m\u001b[0m\u001b[0m\n\u001b[0;32m-> 1449\u001b[0;31m         \u001b[0;32mreturn\u001b[0m \u001b[0msum\u001b[0m\u001b[0;34m(\u001b[0m\u001b[0mbool\u001b[0m\u001b[0;34m(\u001b[0m\u001b[0mquery\u001b[0m\u001b[0;34m(\u001b[0m\u001b[0msub\u001b[0m\u001b[0;34m)\u001b[0m\u001b[0;34m)\u001b[0m \u001b[0;32mfor\u001b[0m \u001b[0msub\u001b[0m \u001b[0;32min\u001b[0m \u001b[0mpreorder_traversal\u001b[0m\u001b[0;34m(\u001b[0m\u001b[0mself\u001b[0m\u001b[0;34m)\u001b[0m\u001b[0;34m)\u001b[0m\u001b[0;34m\u001b[0m\u001b[0;34m\u001b[0m\u001b[0m\n\u001b[0m\u001b[1;32m   1450\u001b[0m \u001b[0;34m\u001b[0m\u001b[0m\n\u001b[1;32m   1451\u001b[0m     \u001b[0;32mdef\u001b[0m \u001b[0mmatches\u001b[0m\u001b[0;34m(\u001b[0m\u001b[0mself\u001b[0m\u001b[0;34m,\u001b[0m \u001b[0mexpr\u001b[0m\u001b[0;34m,\u001b[0m \u001b[0mrepl_dict\u001b[0m\u001b[0;34m=\u001b[0m\u001b[0;34m{\u001b[0m\u001b[0;34m}\u001b[0m\u001b[0;34m,\u001b[0m \u001b[0mold\u001b[0m\u001b[0;34m=\u001b[0m\u001b[0;32mFalse\u001b[0m\u001b[0;34m)\u001b[0m\u001b[0;34m:\u001b[0m\u001b[0;34m\u001b[0m\u001b[0;34m\u001b[0m\u001b[0m\n",
            "\u001b[0;32m/usr/local/lib/python3.6/dist-packages/sympy/core/basic.py\u001b[0m in \u001b[0;36m<genexpr>\u001b[0;34m(.0)\u001b[0m\n\u001b[1;32m   1447\u001b[0m         \u001b[0;34m\"\"\"Count the number of matching subexpressions. \"\"\"\u001b[0m\u001b[0;34m\u001b[0m\u001b[0;34m\u001b[0m\u001b[0m\n\u001b[1;32m   1448\u001b[0m         \u001b[0mquery\u001b[0m \u001b[0;34m=\u001b[0m \u001b[0m_make_find_query\u001b[0m\u001b[0;34m(\u001b[0m\u001b[0mquery\u001b[0m\u001b[0;34m)\u001b[0m\u001b[0;34m\u001b[0m\u001b[0;34m\u001b[0m\u001b[0m\n\u001b[0;32m-> 1449\u001b[0;31m         \u001b[0;32mreturn\u001b[0m \u001b[0msum\u001b[0m\u001b[0;34m(\u001b[0m\u001b[0mbool\u001b[0m\u001b[0;34m(\u001b[0m\u001b[0mquery\u001b[0m\u001b[0;34m(\u001b[0m\u001b[0msub\u001b[0m\u001b[0;34m)\u001b[0m\u001b[0;34m)\u001b[0m \u001b[0;32mfor\u001b[0m \u001b[0msub\u001b[0m \u001b[0;32min\u001b[0m \u001b[0mpreorder_traversal\u001b[0m\u001b[0;34m(\u001b[0m\u001b[0mself\u001b[0m\u001b[0;34m)\u001b[0m\u001b[0;34m)\u001b[0m\u001b[0;34m\u001b[0m\u001b[0;34m\u001b[0m\u001b[0m\n\u001b[0m\u001b[1;32m   1450\u001b[0m \u001b[0;34m\u001b[0m\u001b[0m\n\u001b[1;32m   1451\u001b[0m     \u001b[0;32mdef\u001b[0m \u001b[0mmatches\u001b[0m\u001b[0;34m(\u001b[0m\u001b[0mself\u001b[0m\u001b[0;34m,\u001b[0m \u001b[0mexpr\u001b[0m\u001b[0;34m,\u001b[0m \u001b[0mrepl_dict\u001b[0m\u001b[0;34m=\u001b[0m\u001b[0;34m{\u001b[0m\u001b[0;34m}\u001b[0m\u001b[0;34m,\u001b[0m \u001b[0mold\u001b[0m\u001b[0;34m=\u001b[0m\u001b[0;32mFalse\u001b[0m\u001b[0;34m)\u001b[0m\u001b[0;34m:\u001b[0m\u001b[0;34m\u001b[0m\u001b[0;34m\u001b[0m\u001b[0m\n",
            "\u001b[0;32m/usr/local/lib/python3.6/dist-packages/sympy/core/basic.py\u001b[0m in \u001b[0;36m__next__\u001b[0;34m(self)\u001b[0m\n\u001b[1;32m   1899\u001b[0m \u001b[0;34m\u001b[0m\u001b[0m\n\u001b[1;32m   1900\u001b[0m     \u001b[0;32mdef\u001b[0m \u001b[0m__next__\u001b[0m\u001b[0;34m(\u001b[0m\u001b[0mself\u001b[0m\u001b[0;34m)\u001b[0m\u001b[0;34m:\u001b[0m\u001b[0;34m\u001b[0m\u001b[0;34m\u001b[0m\u001b[0m\n\u001b[0;32m-> 1901\u001b[0;31m         \u001b[0;32mreturn\u001b[0m \u001b[0mnext\u001b[0m\u001b[0;34m(\u001b[0m\u001b[0mself\u001b[0m\u001b[0;34m.\u001b[0m\u001b[0m_pt\u001b[0m\u001b[0;34m)\u001b[0m\u001b[0;34m\u001b[0m\u001b[0;34m\u001b[0m\u001b[0m\n\u001b[0m\u001b[1;32m   1902\u001b[0m \u001b[0;34m\u001b[0m\u001b[0m\n\u001b[1;32m   1903\u001b[0m     \u001b[0;32mdef\u001b[0m \u001b[0m__iter__\u001b[0m\u001b[0;34m(\u001b[0m\u001b[0mself\u001b[0m\u001b[0;34m)\u001b[0m\u001b[0;34m:\u001b[0m\u001b[0;34m\u001b[0m\u001b[0;34m\u001b[0m\u001b[0m\n",
            "\u001b[0;32m/usr/local/lib/python3.6/dist-packages/sympy/core/basic.py\u001b[0m in \u001b[0;36m_preorder_traversal\u001b[0;34m(self, node, keys)\u001b[0m\n\u001b[1;32m   1870\u001b[0m                     \u001b[0margs\u001b[0m \u001b[0;34m=\u001b[0m \u001b[0mordered\u001b[0m\u001b[0;34m(\u001b[0m\u001b[0margs\u001b[0m\u001b[0;34m)\u001b[0m\u001b[0;34m\u001b[0m\u001b[0;34m\u001b[0m\u001b[0m\n\u001b[1;32m   1871\u001b[0m             \u001b[0;32mfor\u001b[0m \u001b[0marg\u001b[0m \u001b[0;32min\u001b[0m \u001b[0margs\u001b[0m\u001b[0;34m:\u001b[0m\u001b[0;34m\u001b[0m\u001b[0;34m\u001b[0m\u001b[0m\n\u001b[0;32m-> 1872\u001b[0;31m                 \u001b[0;32mfor\u001b[0m \u001b[0msubtree\u001b[0m \u001b[0;32min\u001b[0m \u001b[0mself\u001b[0m\u001b[0;34m.\u001b[0m\u001b[0m_preorder_traversal\u001b[0m\u001b[0;34m(\u001b[0m\u001b[0marg\u001b[0m\u001b[0;34m,\u001b[0m \u001b[0mkeys\u001b[0m\u001b[0;34m)\u001b[0m\u001b[0;34m:\u001b[0m\u001b[0;34m\u001b[0m\u001b[0;34m\u001b[0m\u001b[0m\n\u001b[0m\u001b[1;32m   1873\u001b[0m                     \u001b[0;32myield\u001b[0m \u001b[0msubtree\u001b[0m\u001b[0;34m\u001b[0m\u001b[0;34m\u001b[0m\u001b[0m\n\u001b[1;32m   1874\u001b[0m         \u001b[0;32melif\u001b[0m \u001b[0miterable\u001b[0m\u001b[0;34m(\u001b[0m\u001b[0mnode\u001b[0m\u001b[0;34m)\u001b[0m\u001b[0;34m:\u001b[0m\u001b[0;34m\u001b[0m\u001b[0;34m\u001b[0m\u001b[0m\n",
            "\u001b[0;32m/usr/local/lib/python3.6/dist-packages/sympy/core/basic.py\u001b[0m in \u001b[0;36m_preorder_traversal\u001b[0;34m(self, node, keys)\u001b[0m\n\u001b[1;32m   1870\u001b[0m                     \u001b[0margs\u001b[0m \u001b[0;34m=\u001b[0m \u001b[0mordered\u001b[0m\u001b[0;34m(\u001b[0m\u001b[0margs\u001b[0m\u001b[0;34m)\u001b[0m\u001b[0;34m\u001b[0m\u001b[0;34m\u001b[0m\u001b[0m\n\u001b[1;32m   1871\u001b[0m             \u001b[0;32mfor\u001b[0m \u001b[0marg\u001b[0m \u001b[0;32min\u001b[0m \u001b[0margs\u001b[0m\u001b[0;34m:\u001b[0m\u001b[0;34m\u001b[0m\u001b[0;34m\u001b[0m\u001b[0m\n\u001b[0;32m-> 1872\u001b[0;31m                 \u001b[0;32mfor\u001b[0m \u001b[0msubtree\u001b[0m \u001b[0;32min\u001b[0m \u001b[0mself\u001b[0m\u001b[0;34m.\u001b[0m\u001b[0m_preorder_traversal\u001b[0m\u001b[0;34m(\u001b[0m\u001b[0marg\u001b[0m\u001b[0;34m,\u001b[0m \u001b[0mkeys\u001b[0m\u001b[0;34m)\u001b[0m\u001b[0;34m:\u001b[0m\u001b[0;34m\u001b[0m\u001b[0;34m\u001b[0m\u001b[0m\n\u001b[0m\u001b[1;32m   1873\u001b[0m                     \u001b[0;32myield\u001b[0m \u001b[0msubtree\u001b[0m\u001b[0;34m\u001b[0m\u001b[0;34m\u001b[0m\u001b[0m\n\u001b[1;32m   1874\u001b[0m         \u001b[0;32melif\u001b[0m \u001b[0miterable\u001b[0m\u001b[0;34m(\u001b[0m\u001b[0mnode\u001b[0m\u001b[0;34m)\u001b[0m\u001b[0;34m:\u001b[0m\u001b[0;34m\u001b[0m\u001b[0;34m\u001b[0m\u001b[0m\n",
            "\u001b[0;32m/usr/local/lib/python3.6/dist-packages/sympy/core/basic.py\u001b[0m in \u001b[0;36m_preorder_traversal\u001b[0;34m(self, node, keys)\u001b[0m\n\u001b[1;32m   1870\u001b[0m                     \u001b[0margs\u001b[0m \u001b[0;34m=\u001b[0m \u001b[0mordered\u001b[0m\u001b[0;34m(\u001b[0m\u001b[0margs\u001b[0m\u001b[0;34m)\u001b[0m\u001b[0;34m\u001b[0m\u001b[0;34m\u001b[0m\u001b[0m\n\u001b[1;32m   1871\u001b[0m             \u001b[0;32mfor\u001b[0m \u001b[0marg\u001b[0m \u001b[0;32min\u001b[0m \u001b[0margs\u001b[0m\u001b[0;34m:\u001b[0m\u001b[0;34m\u001b[0m\u001b[0;34m\u001b[0m\u001b[0m\n\u001b[0;32m-> 1872\u001b[0;31m                 \u001b[0;32mfor\u001b[0m \u001b[0msubtree\u001b[0m \u001b[0;32min\u001b[0m \u001b[0mself\u001b[0m\u001b[0;34m.\u001b[0m\u001b[0m_preorder_traversal\u001b[0m\u001b[0;34m(\u001b[0m\u001b[0marg\u001b[0m\u001b[0;34m,\u001b[0m \u001b[0mkeys\u001b[0m\u001b[0;34m)\u001b[0m\u001b[0;34m:\u001b[0m\u001b[0;34m\u001b[0m\u001b[0;34m\u001b[0m\u001b[0m\n\u001b[0m\u001b[1;32m   1873\u001b[0m                     \u001b[0;32myield\u001b[0m \u001b[0msubtree\u001b[0m\u001b[0;34m\u001b[0m\u001b[0;34m\u001b[0m\u001b[0m\n\u001b[1;32m   1874\u001b[0m         \u001b[0;32melif\u001b[0m \u001b[0miterable\u001b[0m\u001b[0;34m(\u001b[0m\u001b[0mnode\u001b[0m\u001b[0;34m)\u001b[0m\u001b[0;34m:\u001b[0m\u001b[0;34m\u001b[0m\u001b[0;34m\u001b[0m\u001b[0m\n",
            "\u001b[0;32m/usr/local/lib/python3.6/dist-packages/sympy/core/basic.py\u001b[0m in \u001b[0;36m_preorder_traversal\u001b[0;34m(self, node, keys)\u001b[0m\n\u001b[1;32m   1870\u001b[0m                     \u001b[0margs\u001b[0m \u001b[0;34m=\u001b[0m \u001b[0mordered\u001b[0m\u001b[0;34m(\u001b[0m\u001b[0margs\u001b[0m\u001b[0;34m)\u001b[0m\u001b[0;34m\u001b[0m\u001b[0;34m\u001b[0m\u001b[0m\n\u001b[1;32m   1871\u001b[0m             \u001b[0;32mfor\u001b[0m \u001b[0marg\u001b[0m \u001b[0;32min\u001b[0m \u001b[0margs\u001b[0m\u001b[0;34m:\u001b[0m\u001b[0;34m\u001b[0m\u001b[0;34m\u001b[0m\u001b[0m\n\u001b[0;32m-> 1872\u001b[0;31m                 \u001b[0;32mfor\u001b[0m \u001b[0msubtree\u001b[0m \u001b[0;32min\u001b[0m \u001b[0mself\u001b[0m\u001b[0;34m.\u001b[0m\u001b[0m_preorder_traversal\u001b[0m\u001b[0;34m(\u001b[0m\u001b[0marg\u001b[0m\u001b[0;34m,\u001b[0m \u001b[0mkeys\u001b[0m\u001b[0;34m)\u001b[0m\u001b[0;34m:\u001b[0m\u001b[0;34m\u001b[0m\u001b[0;34m\u001b[0m\u001b[0m\n\u001b[0m\u001b[1;32m   1873\u001b[0m                     \u001b[0;32myield\u001b[0m \u001b[0msubtree\u001b[0m\u001b[0;34m\u001b[0m\u001b[0;34m\u001b[0m\u001b[0m\n\u001b[1;32m   1874\u001b[0m         \u001b[0;32melif\u001b[0m \u001b[0miterable\u001b[0m\u001b[0;34m(\u001b[0m\u001b[0mnode\u001b[0m\u001b[0;34m)\u001b[0m\u001b[0;34m:\u001b[0m\u001b[0;34m\u001b[0m\u001b[0;34m\u001b[0m\u001b[0m\n",
            "\u001b[0;32m/usr/local/lib/python3.6/dist-packages/sympy/core/basic.py\u001b[0m in \u001b[0;36m_preorder_traversal\u001b[0;34m(self, node, keys)\u001b[0m\n\u001b[1;32m   1870\u001b[0m                     \u001b[0margs\u001b[0m \u001b[0;34m=\u001b[0m \u001b[0mordered\u001b[0m\u001b[0;34m(\u001b[0m\u001b[0margs\u001b[0m\u001b[0;34m)\u001b[0m\u001b[0;34m\u001b[0m\u001b[0;34m\u001b[0m\u001b[0m\n\u001b[1;32m   1871\u001b[0m             \u001b[0;32mfor\u001b[0m \u001b[0marg\u001b[0m \u001b[0;32min\u001b[0m \u001b[0margs\u001b[0m\u001b[0;34m:\u001b[0m\u001b[0;34m\u001b[0m\u001b[0;34m\u001b[0m\u001b[0m\n\u001b[0;32m-> 1872\u001b[0;31m                 \u001b[0;32mfor\u001b[0m \u001b[0msubtree\u001b[0m \u001b[0;32min\u001b[0m \u001b[0mself\u001b[0m\u001b[0;34m.\u001b[0m\u001b[0m_preorder_traversal\u001b[0m\u001b[0;34m(\u001b[0m\u001b[0marg\u001b[0m\u001b[0;34m,\u001b[0m \u001b[0mkeys\u001b[0m\u001b[0;34m)\u001b[0m\u001b[0;34m:\u001b[0m\u001b[0;34m\u001b[0m\u001b[0;34m\u001b[0m\u001b[0m\n\u001b[0m\u001b[1;32m   1873\u001b[0m                     \u001b[0;32myield\u001b[0m \u001b[0msubtree\u001b[0m\u001b[0;34m\u001b[0m\u001b[0;34m\u001b[0m\u001b[0m\n\u001b[1;32m   1874\u001b[0m         \u001b[0;32melif\u001b[0m \u001b[0miterable\u001b[0m\u001b[0;34m(\u001b[0m\u001b[0mnode\u001b[0m\u001b[0;34m)\u001b[0m\u001b[0;34m:\u001b[0m\u001b[0;34m\u001b[0m\u001b[0;34m\u001b[0m\u001b[0m\n",
            "\u001b[0;32m/usr/local/lib/python3.6/dist-packages/sympy/core/basic.py\u001b[0m in \u001b[0;36m_preorder_traversal\u001b[0;34m(self, node, keys)\u001b[0m\n\u001b[1;32m   1870\u001b[0m                     \u001b[0margs\u001b[0m \u001b[0;34m=\u001b[0m \u001b[0mordered\u001b[0m\u001b[0;34m(\u001b[0m\u001b[0margs\u001b[0m\u001b[0;34m)\u001b[0m\u001b[0;34m\u001b[0m\u001b[0;34m\u001b[0m\u001b[0m\n\u001b[1;32m   1871\u001b[0m             \u001b[0;32mfor\u001b[0m \u001b[0marg\u001b[0m \u001b[0;32min\u001b[0m \u001b[0margs\u001b[0m\u001b[0;34m:\u001b[0m\u001b[0;34m\u001b[0m\u001b[0;34m\u001b[0m\u001b[0m\n\u001b[0;32m-> 1872\u001b[0;31m                 \u001b[0;32mfor\u001b[0m \u001b[0msubtree\u001b[0m \u001b[0;32min\u001b[0m \u001b[0mself\u001b[0m\u001b[0;34m.\u001b[0m\u001b[0m_preorder_traversal\u001b[0m\u001b[0;34m(\u001b[0m\u001b[0marg\u001b[0m\u001b[0;34m,\u001b[0m \u001b[0mkeys\u001b[0m\u001b[0;34m)\u001b[0m\u001b[0;34m:\u001b[0m\u001b[0;34m\u001b[0m\u001b[0;34m\u001b[0m\u001b[0m\n\u001b[0m\u001b[1;32m   1873\u001b[0m                     \u001b[0;32myield\u001b[0m \u001b[0msubtree\u001b[0m\u001b[0;34m\u001b[0m\u001b[0;34m\u001b[0m\u001b[0m\n\u001b[1;32m   1874\u001b[0m         \u001b[0;32melif\u001b[0m \u001b[0miterable\u001b[0m\u001b[0;34m(\u001b[0m\u001b[0mnode\u001b[0m\u001b[0;34m)\u001b[0m\u001b[0;34m:\u001b[0m\u001b[0;34m\u001b[0m\u001b[0;34m\u001b[0m\u001b[0m\n",
            "\u001b[0;32m/usr/local/lib/python3.6/dist-packages/sympy/core/basic.py\u001b[0m in \u001b[0;36m_preorder_traversal\u001b[0;34m(self, node, keys)\u001b[0m\n\u001b[1;32m   1870\u001b[0m                     \u001b[0margs\u001b[0m \u001b[0;34m=\u001b[0m \u001b[0mordered\u001b[0m\u001b[0;34m(\u001b[0m\u001b[0margs\u001b[0m\u001b[0;34m)\u001b[0m\u001b[0;34m\u001b[0m\u001b[0;34m\u001b[0m\u001b[0m\n\u001b[1;32m   1871\u001b[0m             \u001b[0;32mfor\u001b[0m \u001b[0marg\u001b[0m \u001b[0;32min\u001b[0m \u001b[0margs\u001b[0m\u001b[0;34m:\u001b[0m\u001b[0;34m\u001b[0m\u001b[0;34m\u001b[0m\u001b[0m\n\u001b[0;32m-> 1872\u001b[0;31m                 \u001b[0;32mfor\u001b[0m \u001b[0msubtree\u001b[0m \u001b[0;32min\u001b[0m \u001b[0mself\u001b[0m\u001b[0;34m.\u001b[0m\u001b[0m_preorder_traversal\u001b[0m\u001b[0;34m(\u001b[0m\u001b[0marg\u001b[0m\u001b[0;34m,\u001b[0m \u001b[0mkeys\u001b[0m\u001b[0;34m)\u001b[0m\u001b[0;34m:\u001b[0m\u001b[0;34m\u001b[0m\u001b[0;34m\u001b[0m\u001b[0m\n\u001b[0m\u001b[1;32m   1873\u001b[0m                     \u001b[0;32myield\u001b[0m \u001b[0msubtree\u001b[0m\u001b[0;34m\u001b[0m\u001b[0;34m\u001b[0m\u001b[0m\n\u001b[1;32m   1874\u001b[0m         \u001b[0;32melif\u001b[0m \u001b[0miterable\u001b[0m\u001b[0;34m(\u001b[0m\u001b[0mnode\u001b[0m\u001b[0;34m)\u001b[0m\u001b[0;34m:\u001b[0m\u001b[0;34m\u001b[0m\u001b[0;34m\u001b[0m\u001b[0m\n",
            "\u001b[0;32m/usr/local/lib/python3.6/dist-packages/sympy/core/basic.py\u001b[0m in \u001b[0;36m_preorder_traversal\u001b[0;34m(self, node, keys)\u001b[0m\n\u001b[1;32m   1870\u001b[0m                     \u001b[0margs\u001b[0m \u001b[0;34m=\u001b[0m \u001b[0mordered\u001b[0m\u001b[0;34m(\u001b[0m\u001b[0margs\u001b[0m\u001b[0;34m)\u001b[0m\u001b[0;34m\u001b[0m\u001b[0;34m\u001b[0m\u001b[0m\n\u001b[1;32m   1871\u001b[0m             \u001b[0;32mfor\u001b[0m \u001b[0marg\u001b[0m \u001b[0;32min\u001b[0m \u001b[0margs\u001b[0m\u001b[0;34m:\u001b[0m\u001b[0;34m\u001b[0m\u001b[0;34m\u001b[0m\u001b[0m\n\u001b[0;32m-> 1872\u001b[0;31m                 \u001b[0;32mfor\u001b[0m \u001b[0msubtree\u001b[0m \u001b[0;32min\u001b[0m \u001b[0mself\u001b[0m\u001b[0;34m.\u001b[0m\u001b[0m_preorder_traversal\u001b[0m\u001b[0;34m(\u001b[0m\u001b[0marg\u001b[0m\u001b[0;34m,\u001b[0m \u001b[0mkeys\u001b[0m\u001b[0;34m)\u001b[0m\u001b[0;34m:\u001b[0m\u001b[0;34m\u001b[0m\u001b[0;34m\u001b[0m\u001b[0m\n\u001b[0m\u001b[1;32m   1873\u001b[0m                     \u001b[0;32myield\u001b[0m \u001b[0msubtree\u001b[0m\u001b[0;34m\u001b[0m\u001b[0;34m\u001b[0m\u001b[0m\n\u001b[1;32m   1874\u001b[0m         \u001b[0;32melif\u001b[0m \u001b[0miterable\u001b[0m\u001b[0;34m(\u001b[0m\u001b[0mnode\u001b[0m\u001b[0;34m)\u001b[0m\u001b[0;34m:\u001b[0m\u001b[0;34m\u001b[0m\u001b[0;34m\u001b[0m\u001b[0m\n",
            "\u001b[0;32m/usr/local/lib/python3.6/dist-packages/sympy/core/basic.py\u001b[0m in \u001b[0;36m_preorder_traversal\u001b[0;34m(self, node, keys)\u001b[0m\n\u001b[1;32m   1870\u001b[0m                     \u001b[0margs\u001b[0m \u001b[0;34m=\u001b[0m \u001b[0mordered\u001b[0m\u001b[0;34m(\u001b[0m\u001b[0margs\u001b[0m\u001b[0;34m)\u001b[0m\u001b[0;34m\u001b[0m\u001b[0;34m\u001b[0m\u001b[0m\n\u001b[1;32m   1871\u001b[0m             \u001b[0;32mfor\u001b[0m \u001b[0marg\u001b[0m \u001b[0;32min\u001b[0m \u001b[0margs\u001b[0m\u001b[0;34m:\u001b[0m\u001b[0;34m\u001b[0m\u001b[0;34m\u001b[0m\u001b[0m\n\u001b[0;32m-> 1872\u001b[0;31m                 \u001b[0;32mfor\u001b[0m \u001b[0msubtree\u001b[0m \u001b[0;32min\u001b[0m \u001b[0mself\u001b[0m\u001b[0;34m.\u001b[0m\u001b[0m_preorder_traversal\u001b[0m\u001b[0;34m(\u001b[0m\u001b[0marg\u001b[0m\u001b[0;34m,\u001b[0m \u001b[0mkeys\u001b[0m\u001b[0;34m)\u001b[0m\u001b[0;34m:\u001b[0m\u001b[0;34m\u001b[0m\u001b[0;34m\u001b[0m\u001b[0m\n\u001b[0m\u001b[1;32m   1873\u001b[0m                     \u001b[0;32myield\u001b[0m \u001b[0msubtree\u001b[0m\u001b[0;34m\u001b[0m\u001b[0;34m\u001b[0m\u001b[0m\n\u001b[1;32m   1874\u001b[0m         \u001b[0;32melif\u001b[0m \u001b[0miterable\u001b[0m\u001b[0;34m(\u001b[0m\u001b[0mnode\u001b[0m\u001b[0;34m)\u001b[0m\u001b[0;34m:\u001b[0m\u001b[0;34m\u001b[0m\u001b[0;34m\u001b[0m\u001b[0m\n",
            "\u001b[0;31mKeyboardInterrupt\u001b[0m: "
          ]
        }
      ]
    },
    {
      "cell_type": "code",
      "metadata": {
        "id": "k9BzmdyZAP10",
        "colab_type": "code",
        "colab": {}
      },
      "source": [
        "from sympy import *\n",
        "from sympy.abc import *\n",
        "p=k*T/(V-b)-a/(sqrt(T)*V*(V+b))\n",
        "p1=p.diff(V)\n",
        "p2=p.diff(V,2)"
      ],
      "execution_count": 12,
      "outputs": []
    },
    {
      "cell_type": "code",
      "metadata": {
        "id": "mnzFwOQ6A01a",
        "colab_type": "code",
        "colab": {
          "base_uri": "https://localhost:8080/",
          "height": 59
        },
        "outputId": "a3d6306e-550d-4186-bc31-50a7ec13634b"
      },
      "source": [
        "# 分数を避ける。\n",
        "pp1 = (p1*(V*(V-b)*(V+b))**2*sqrt(T)).simplify()\n",
        "pp1"
      ],
      "execution_count": 19,
      "outputs": [
        {
          "output_type": "display_data",
          "data": {
            "text/html": [
              "<script src='https://colab.research.google.com/static/mathjax/MathJax.js?config=TeX-MML-AM_HTMLorMML'></script>"
            ],
            "text/plain": [
              "<IPython.core.display.HTML object>"
            ]
          },
          "metadata": {
            "tags": []
          }
        },
        {
          "output_type": "execute_result",
          "data": {
            "text/latex": "$$- T^{\\frac{3}{2}} V^{2} k \\left(V + b\\right)^{2} + 2 V a \\left(V - b\\right)^{2} + a b \\left(V - b\\right)^{2}$$",
            "text/plain": [
              "   3/2  2          2                2              2\n",
              "- T   ⋅V ⋅k⋅(V + b)  + 2⋅V⋅a⋅(V - b)  + a⋅b⋅(V - b) "
            ]
          },
          "metadata": {
            "tags": []
          },
          "execution_count": 19
        }
      ]
    },
    {
      "cell_type": "code",
      "metadata": {
        "id": "nZBijf-xB5Zf",
        "colab_type": "code",
        "colab": {
          "base_uri": "https://localhost:8080/",
          "height": 59
        },
        "outputId": "6fcc94e6-ad29-4f8f-af74-f64221f81960"
      },
      "source": [
        "pp2 = (p2*(V*(V-b)*(V+b))**3*sqrt(T)).simplify()\n",
        "pp2"
      ],
      "execution_count": 20,
      "outputs": [
        {
          "output_type": "display_data",
          "data": {
            "text/html": [
              "<script src='https://colab.research.google.com/static/mathjax/MathJax.js?config=TeX-MML-AM_HTMLorMML'></script>"
            ],
            "text/plain": [
              "<IPython.core.display.HTML object>"
            ]
          },
          "metadata": {
            "tags": []
          }
        },
        {
          "output_type": "execute_result",
          "data": {
            "text/latex": "$$2 T^{\\frac{3}{2}} V^{3} k \\left(V + b\\right)^{3} - 4 V^{2} a \\left(V - b\\right)^{3} - 2 V a b \\left(V - b\\right)^{3} - 2 a \\left(V - b\\right)^{3} \\left(V + b\\right)^{2}$$",
            "text/plain": [
              "   3/2  3          3      2          3                  3              3      \n",
              "2⋅T   ⋅V ⋅k⋅(V + b)  - 4⋅V ⋅a⋅(V - b)  - 2⋅V⋅a⋅b⋅(V - b)  - 2⋅a⋅(V - b) ⋅(V + \n",
              "\n",
              "  2\n",
              "b) "
            ]
          },
          "metadata": {
            "tags": []
          },
          "execution_count": 20
        }
      ]
    },
    {
      "cell_type": "code",
      "metadata": {
        "id": "J72Da3EPCPx7",
        "colab_type": "code",
        "colab": {
          "base_uri": "https://localhost:8080/",
          "height": 67
        },
        "outputId": "d2df659d-2e6f-40c9-8922-2041c1408d41"
      },
      "source": [
        "sol = solve([pp1,pp2],(a,b))\n",
        "sol"
      ],
      "execution_count": 23,
      "outputs": [
        {
          "output_type": "display_data",
          "data": {
            "text/html": [
              "<script src='https://colab.research.google.com/static/mathjax/MathJax.js?config=TeX-MML-AM_HTMLorMML'></script>"
            ],
            "text/plain": [
              "<IPython.core.display.HTML object>"
            ]
          },
          "metadata": {
            "tags": []
          }
        },
        {
          "output_type": "execute_result",
          "data": {
            "text/latex": "$$\\left [ \\left ( 0, \\quad - V\\right ), \\quad \\left ( \\frac{V k}{3} T^{\\frac{3}{2}} \\left(1 + \\sqrt[3]{2} + 2^{\\frac{2}{3}}\\right), \\quad V \\left(-1 + \\sqrt[3]{2}\\right)\\right ), \\quad \\left ( \\frac{V k}{6} T^{\\frac{3}{2}} \\left(- 2^{\\frac{2}{3}} - \\sqrt[3]{2} + 2 - \\sqrt[3]{2} \\sqrt{3} i + 2^{\\frac{2}{3}} \\sqrt{3} i\\right), \\quad V \\left(-1 + \\sqrt[3]{2} \\left(- \\frac{1}{2} - \\frac{\\sqrt{3} i}{2}\\right)\\right)\\right ), \\quad \\left ( \\frac{V k}{6} T^{\\frac{3}{2}} \\left(- 2^{\\frac{2}{3}} - \\sqrt[3]{2} + 2 - 2^{\\frac{2}{3}} \\sqrt{3} i + \\sqrt[3]{2} \\sqrt{3} i\\right), \\quad V \\left(-1 + \\sqrt[3]{2} \\left(- \\frac{1}{2} + \\frac{\\sqrt{3} i}{2}\\right)\\right)\\right )\\right ]$$",
            "text/plain": [
              "⎡         ⎛ 3/2     ⎛    3 ___    2/3⎞                ⎞  ⎛ 3/2     ⎛   2/3   3\n",
              "⎢         ⎜T   ⋅V⋅k⋅⎝1 + ╲╱ 2  + 2   ⎠    ⎛     3 ___⎞⎟  ⎜T   ⋅V⋅k⋅⎝- 2    - ╲\n",
              "⎢(0, -V), ⎜───────────────────────────, V⋅⎝-1 + ╲╱ 2 ⎠⎟, ⎜────────────────────\n",
              "⎣         ⎝             3                             ⎠  ⎝                    \n",
              "\n",
              " ___       3 ___         2/3     ⎞                             ⎞  ⎛ 3/2     ⎛ \n",
              "╱ 2  + 2 - ╲╱ 2 ⋅√3⋅ⅈ + 2   ⋅√3⋅ⅈ⎠    ⎛     3 ___ ⎛  1   √3⋅ⅈ⎞⎞⎟  ⎜T   ⋅V⋅k⋅⎝-\n",
              "──────────────────────────────────, V⋅⎜-1 + ╲╱ 2 ⋅⎜- ─ - ────⎟⎟⎟, ⎜───────────\n",
              "      6                               ⎝           ⎝  2    2  ⎠⎠⎠  ⎝           \n",
              "\n",
              "  2/3   3 ___        2/3        3 ___     ⎞                             ⎞⎤\n",
              " 2    - ╲╱ 2  + 2 - 2   ⋅√3⋅ⅈ + ╲╱ 2 ⋅√3⋅ⅈ⎠    ⎛     3 ___ ⎛  1   √3⋅ⅈ⎞⎞⎟⎥\n",
              "───────────────────────────────────────────, V⋅⎜-1 + ╲╱ 2 ⋅⎜- ─ + ────⎟⎟⎟⎥\n",
              "               6                               ⎝           ⎝  2    2  ⎠⎠⎠⎦"
            ]
          },
          "metadata": {
            "tags": []
          },
          "execution_count": 23
        }
      ]
    },
    {
      "cell_type": "code",
      "metadata": {
        "id": "cQUJQzJeC3zd",
        "colab_type": "code",
        "colab": {
          "base_uri": "https://localhost:8080/",
          "height": 67
        },
        "outputId": "729192c4-2e77-4d94-814b-929bc08ce114"
      },
      "source": [
        "sol[1]"
      ],
      "execution_count": 24,
      "outputs": [
        {
          "output_type": "display_data",
          "data": {
            "text/html": [
              "<script src='https://colab.research.google.com/static/mathjax/MathJax.js?config=TeX-MML-AM_HTMLorMML'></script>"
            ],
            "text/plain": [
              "<IPython.core.display.HTML object>"
            ]
          },
          "metadata": {
            "tags": []
          }
        },
        {
          "output_type": "execute_result",
          "data": {
            "text/latex": "$$\\left ( \\frac{V k}{3} T^{\\frac{3}{2}} \\left(1 + \\sqrt[3]{2} + 2^{\\frac{2}{3}}\\right), \\quad V \\left(-1 + \\sqrt[3]{2}\\right)\\right )$$",
            "text/plain": [
              "⎛ 3/2     ⎛    3 ___    2/3⎞                ⎞\n",
              "⎜T   ⋅V⋅k⋅⎝1 + ╲╱ 2  + 2   ⎠    ⎛     3 ___⎞⎟\n",
              "⎜───────────────────────────, V⋅⎝-1 + ╲╱ 2 ⎠⎟\n",
              "⎝             3                             ⎠"
            ]
          },
          "metadata": {
            "tags": []
          },
          "execution_count": 24
        }
      ]
    },
    {
      "cell_type": "code",
      "metadata": {
        "id": "OMFsEsvyDlxi",
        "colab_type": "code",
        "colab": {
          "base_uri": "https://localhost:8080/",
          "height": 61
        },
        "outputId": "a4ccb8d9-5c58-44f0-aebf-9da5c3c6086a"
      },
      "source": [
        "Vc = solve(sol[1][1]-b, V)[0]\n",
        "Vc"
      ],
      "execution_count": 27,
      "outputs": [
        {
          "output_type": "display_data",
          "data": {
            "text/html": [
              "<script src='https://colab.research.google.com/static/mathjax/MathJax.js?config=TeX-MML-AM_HTMLorMML'></script>"
            ],
            "text/plain": [
              "<IPython.core.display.HTML object>"
            ]
          },
          "metadata": {
            "tags": []
          }
        },
        {
          "output_type": "execute_result",
          "data": {
            "text/latex": "$$\\frac{b}{-1 + \\sqrt[3]{2}}$$",
            "text/plain": [
              "    b     \n",
              "──────────\n",
              "     3 ___\n",
              "-1 + ╲╱ 2 "
            ]
          },
          "metadata": {
            "tags": []
          },
          "execution_count": 27
        }
      ]
    },
    {
      "cell_type": "code",
      "metadata": {
        "id": "dvlh4aJcFOOh",
        "colab_type": "code",
        "colab": {
          "base_uri": "https://localhost:8080/",
          "height": 96
        },
        "outputId": "fe5874c8-496c-422f-a6b4-a30e54b1a38e"
      },
      "source": [
        "Tc=solve(sol[1][0]-a,T)[0].subs(V,Vc)\n",
        "Tc"
      ],
      "execution_count": 31,
      "outputs": [
        {
          "output_type": "display_data",
          "data": {
            "text/html": [
              "<script src='https://colab.research.google.com/static/mathjax/MathJax.js?config=TeX-MML-AM_HTMLorMML'></script>"
            ],
            "text/plain": [
              "<IPython.core.display.HTML object>"
            ]
          },
          "metadata": {
            "tags": []
          }
        },
        {
          "output_type": "execute_result",
          "data": {
            "text/latex": "$$3^{\\frac{2}{3}} \\left(\\frac{a}{\\frac{b k}{-1 + \\sqrt[3]{2}} + \\frac{\\sqrt[3]{2} b k}{-1 + \\sqrt[3]{2}} + \\frac{2^{\\frac{2}{3}} b k}{-1 + \\sqrt[3]{2}}}\\right)^{\\frac{2}{3}}$$",
            "text/plain": [
              "                                           2/3\n",
              " 2/3 ⎛                 a                  ⎞   \n",
              "3   ⋅⎜────────────────────────────────────⎟   \n",
              "     ⎜             3 ___          2/3     ⎟   \n",
              "     ⎜   b⋅k       ╲╱ 2 ⋅b⋅k     2   ⋅b⋅k ⎟   \n",
              "     ⎜────────── + ────────── + ──────────⎟   \n",
              "     ⎜     3 ___        3 ___        3 ___⎟   \n",
              "     ⎝-1 + ╲╱ 2    -1 + ╲╱ 2    -1 + ╲╱ 2 ⎠   "
            ]
          },
          "metadata": {
            "tags": []
          },
          "execution_count": 31
        }
      ]
    },
    {
      "cell_type": "code",
      "metadata": {
        "id": "0AvzP0LGFlqg",
        "colab_type": "code",
        "colab": {
          "base_uri": "https://localhost:8080/",
          "height": 82
        },
        "outputId": "c04a897a-9382-4b39-b552-4cfd1589af41"
      },
      "source": [
        "pc=p.subs(V,Vc).subs(T,Tc).simplify()\n",
        "pc"
      ],
      "execution_count": 36,
      "outputs": [
        {
          "output_type": "display_data",
          "data": {
            "text/html": [
              "<script src='https://colab.research.google.com/static/mathjax/MathJax.js?config=TeX-MML-AM_HTMLorMML'></script>"
            ],
            "text/plain": [
              "<IPython.core.display.HTML object>"
            ]
          },
          "metadata": {
            "tags": []
          }
        },
        {
          "output_type": "execute_result",
          "data": {
            "text/latex": "$$\\frac{3^{\\frac{2}{3}} a \\left(-5 + 4 \\sqrt[3]{2}\\right) \\sqrt[3]{1 + \\sqrt[3]{2} + 2^{\\frac{2}{3}}}}{3 b^{2} \\sqrt[3]{\\frac{a}{b k}} \\sqrt[3]{-1 + \\sqrt[3]{2}} \\left(1 + \\sqrt[3]{2}\\right)}$$",
            "text/plain": [
              "                         __________________\n",
              " 2/3   ⎛       3 ___⎞ 3 ╱     3 ___    2/3 \n",
              "3   ⋅a⋅⎝-5 + 4⋅╲╱ 2 ⎠⋅╲╱  1 + ╲╱ 2  + 2    \n",
              "───────────────────────────────────────────\n",
              "          _____    ____________            \n",
              "    2    ╱  a   3 ╱      3 ___  ⎛    3 ___⎞\n",
              " 3⋅b ⋅3 ╱  ─── ⋅╲╱  -1 + ╲╱ 2  ⋅⎝1 + ╲╱ 2 ⎠\n",
              "      ╲╱   b⋅k                             "
            ]
          },
          "metadata": {
            "tags": []
          },
          "execution_count": 36
        }
      ]
    },
    {
      "cell_type": "markdown",
      "metadata": {
        "id": "URBXKk-qDmjR",
        "colab_type": "text"
      },
      "source": [
        "## 課題(案)\n",
        "\n",
        "1次元のSchrodinger方程式を解いてみる? すでにどこかに実例がありそう。\n",
        "\n",
        "→そもそもsympyの中に、Hydrogen Wavefunctionsが実装されている! https://docs.sympy.org/latest/modules/physics/hydrogen.html\n",
        "\n",
        "SympyのPhysicsモジュールは本気で勉強しておいたほうがよさそう。\n",
        "https://docs.sympy.org/latest/modules/physics/index.html\n",
        "剛体力学系まである!\n",
        "\n"
      ]
    }
  ]
}